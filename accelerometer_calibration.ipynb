{
 "cells": [
  {
   "cell_type": "code",
   "execution_count": 3,
   "metadata": {
    "collapsed": true,
    "ExecuteTime": {
     "end_time": "2024-12-03T13:06:43.140745800Z",
     "start_time": "2024-12-03T13:06:42.909019200Z"
    }
   },
   "outputs": [],
   "source": [
    "import pathlib\n",
    "from matplotlib import pyplot as plt\n",
    "import open_ephys.analysis as oea\n",
    "from BlockSync_current import *\n",
    "import pathlib\n",
    "import pandas as pd\n",
    "import numpy as np\n",
    "from scipy import signal\n",
    "from OERecording import *"
   ]
  },
  {
   "cell_type": "code",
   "outputs": [
    {
     "data": {
      "text/plain": "[WindowsPath('Y:/accelerometer_calibrations/headtagse_cali_recs/02/02_X_Neg_2024-12-02_15-51-13/Record Node 101/OE_metaData.mat'),\n WindowsPath('Y:/accelerometer_calibrations/headtagse_cali_recs/02/02_X_Pos_2024-12-02_15-50-05/Record Node 101/OE_metaData.mat'),\n WindowsPath('Y:/accelerometer_calibrations/headtagse_cali_recs/02/02_Y_Neg_2024-12-02_15-53-00/Record Node 101/OE_metaData.mat'),\n WindowsPath('Y:/accelerometer_calibrations/headtagse_cali_recs/02/02_Y_Pos_2024-12-02_15-54-28/Record Node 101/OE_metaData.mat'),\n WindowsPath('Y:/accelerometer_calibrations/headtagse_cali_recs/02/02_Z_Neg_2024-12-02_15-56-40/Record Node 101/OE_metaData.mat'),\n WindowsPath('Y:/accelerometer_calibrations/headtagse_cali_recs/02/02_Z_Pos_2024-12-02_15-58-48/Record Node 101/OE_metaData.mat'),\n WindowsPath('Y:/accelerometer_calibrations/headtagse_cali_recs/03/03_X_Neg_2024-12-02_16-10-15/Record Node 101/OE_metaData.mat'),\n WindowsPath('Y:/accelerometer_calibrations/headtagse_cali_recs/03/03_X_Pos_2024-12-02_16-12-55/Record Node 101/OE_metaData.mat'),\n WindowsPath('Y:/accelerometer_calibrations/headtagse_cali_recs/03/03_Y_Neg_2024-12-02_16-15-15/Record Node 101/OE_metaData.mat'),\n WindowsPath('Y:/accelerometer_calibrations/headtagse_cali_recs/03/03_Y_Pos_2024-12-02_16-17-45/Record Node 101/OE_metaData.mat'),\n WindowsPath('Y:/accelerometer_calibrations/headtagse_cali_recs/03/03_Z_neg_2024-12-02_16-05-31/Record Node 101/OE_metaData.mat'),\n WindowsPath('Y:/accelerometer_calibrations/headtagse_cali_recs/03/03_Z_Pos_2024-12-02_16-06-55/Record Node 101/OE_metaData.mat'),\n WindowsPath('Y:/accelerometer_calibrations/headtagse_cali_recs/headstage_calib_01_4918/X_negative_01_2024-02-07_10-32-17/Record Node 102/OE_metaData.mat'),\n WindowsPath('Y:/accelerometer_calibrations/headtagse_cali_recs/headstage_calib_01_4918/X_positive_01_2024-02-07_10-31-13/Record Node 102/OE_metaData.mat'),\n WindowsPath('Y:/accelerometer_calibrations/headtagse_cali_recs/headstage_calib_01_4918/Y_negative_01_2024-02-07_10-26-50/Record Node 102/OE_metaData.mat'),\n WindowsPath('Y:/accelerometer_calibrations/headtagse_cali_recs/headstage_calib_01_4918/Y_positive_01_2024-02-07_10-23-59/Record Node 102/OE_metaData.mat'),\n WindowsPath('Y:/accelerometer_calibrations/headtagse_cali_recs/headstage_calib_01_4918/Z_negative_01_2024-02-07_10-20-06/Record Node 102/OE_metaData.mat'),\n WindowsPath('Y:/accelerometer_calibrations/headtagse_cali_recs/headstage_calib_01_4918/Z_positive_01_2024-02-07_10-18-35/Record Node 102/OE_metaData.mat'),\n WindowsPath('Y:/accelerometer_calibrations/headtagse_cali_recs/headstage_calib_02_0817/X_negative_01_2024-02-07_10-37-15/Record Node 102/OE_metaData.mat'),\n WindowsPath('Y:/accelerometer_calibrations/headtagse_cali_recs/headstage_calib_02_0817/X_positive_01_2024-02-07_10-36-44/Record Node 102/OE_metaData.mat'),\n WindowsPath('Y:/accelerometer_calibrations/headtagse_cali_recs/headstage_calib_02_0817/Y_negative_01_2024-02-07_10-41-11/Record Node 102/OE_metaData.mat'),\n WindowsPath('Y:/accelerometer_calibrations/headtagse_cali_recs/headstage_calib_02_0817/Y_positive_01_2024-02-07_10-38-36/Record Node 102/OE_metaData.mat'),\n WindowsPath('Y:/accelerometer_calibrations/headtagse_cali_recs/headstage_calib_02_0817/Y_positive_02_2024-02-07_10-39-30/Record Node 102/OE_metaData.mat'),\n WindowsPath('Y:/accelerometer_calibrations/headtagse_cali_recs/headstage_calib_02_0817/Z_negative_01_2024-02-07_10-43-37/Record Node 102/OE_metaData.mat'),\n WindowsPath('Y:/accelerometer_calibrations/headtagse_cali_recs/headstage_calib_02_0817/Z_positive_01_2024-02-07_10-43-02/Record Node 102/OE_metaData.mat')]"
     },
     "execution_count": 4,
     "metadata": {},
     "output_type": "execute_result"
    }
   ],
   "source": [
    "# First step is to get the metadata files for all recordings with Mark's code, then:\n",
    "tree_root = pathlib.Path(r'Y:\\accelerometer_calibrations\\headtagse_cali_recs') # root to the recording folder\n",
    "paths_to_metadata_files = [i for i in tree_root.rglob('*') if 'OE_metaData.mat' in i.name and i.parent.parent.parent.name != 'NotForAnalysis']\n",
    "paths_to_metadata_files"
   ],
   "metadata": {
    "collapsed": false,
    "ExecuteTime": {
     "end_time": "2024-12-03T13:06:49.234362200Z",
     "start_time": "2024-12-03T13:06:48.433567Z"
    }
   },
   "execution_count": 4
  },
  {
   "cell_type": "code",
   "execution_count": 22,
   "outputs": [
    {
     "data": {
      "text/plain": "[WindowsPath('Z:/Nimrod/Accelerometer_study_2024_03_20/new/X_minus_1_2024-03-20_11-57-25/Record Node 101/OE_metaData.mat'),\n WindowsPath('Z:/Nimrod/Accelerometer_study_2024_03_20/new/X_plus_1_2024-03-20_11-56-42/Record Node 101/OE_metaData.mat'),\n WindowsPath('Z:/Nimrod/Accelerometer_study_2024_03_20/new/Y_minus_1_2024-03-20_11-55-36/Record Node 101/OE_metaData.mat'),\n WindowsPath('Z:/Nimrod/Accelerometer_study_2024_03_20/new/Y_plus_3_2024-03-20_11-49-39/Record Node 101/OE_metaData.mat'),\n WindowsPath('Z:/Nimrod/Accelerometer_study_2024_03_20/new/Z_minus_1_2024-03-20_12-08-54/Record Node 101/OE_metaData.mat')]"
     },
     "execution_count": 22,
     "metadata": {},
     "output_type": "execute_result"
    }
   ],
   "source": [
    "tree_root = pathlib.Path(r'Z:\\Nimrod\\Accelerometer_study_2024_03_20\\new')\n",
    "# find all relevant metadata paths:\n",
    "paths_to_metadata_files = [i for i in tree_root.rglob('*') if 'OE_metaData.mat' in i.name and i.parent.parent.parent.name != 'NotForAnalysis']\n",
    "#paths_to_analysis_folders = \n",
    "\n",
    "paths_to_metadata_files\n"
   ],
   "metadata": {
    "collapsed": false,
    "pycharm": {
     "name": "#%%\n"
    },
    "ExecuteTime": {
     "end_time": "2024-12-03T12:37:12.684455300Z",
     "start_time": "2024-12-03T12:37:12.593866400Z"
    }
   }
  },
  {
   "cell_type": "code",
   "outputs": [
    {
     "data": {
      "text/plain": "WindowsPath('Y:/accelerometer_calibrations/headtagse_cali_recs/02/02_Z_Neg_2024-12-02_15-56-40')"
     },
     "execution_count": 7,
     "metadata": {},
     "output_type": "execute_result"
    }
   ],
   "source": [
    "paths_to_metadata_files[4].parent.parent"
   ],
   "metadata": {
    "collapsed": false,
    "ExecuteTime": {
     "end_time": "2024-12-03T11:23:43.498618300Z",
     "start_time": "2024-12-03T11:23:43.477754900Z"
    }
   },
   "execution_count": 7
  },
  {
   "cell_type": "code",
   "outputs": [],
   "source": [
    "path_to_prev_analysis = pathlib.Path(r'D:\\OE_headstage_calib_2024_02_07\\headstage_calib_01_4918\\X_negative_01_2024-02-07_10-32-17\\extracted_data\\X_negative_01_2024-02-07_10-32-17_accel_data.pkl')\n",
    "with open(path_to_prev_analysis,'rb') as file:\n",
    "    prev_data = pickle.load(file)\n"
   ],
   "metadata": {
    "collapsed": false,
    "ExecuteTime": {
     "end_time": "2024-02-20T16:58:12.885457500Z",
     "start_time": "2024-02-20T16:58:12.861458800Z"
    }
   },
   "execution_count": 6
  },
  {
   "cell_type": "code",
   "outputs": [
    {
     "data": {
      "text/plain": "array([[[526.0684, 526.0684, 526.0684, ..., 529.584 , 529.584 ,\n         529.584 ]],\n\n       [[461.0672, 461.0672, 461.0672, ..., 467.3504, 467.3504,\n         467.3504]],\n\n       [[841.6496, 841.6496, 841.6496, ..., 840.0414, 840.0414,\n         840.0414]]])"
     },
     "execution_count": 7,
     "metadata": {},
     "output_type": "execute_result"
    }
   ],
   "source": [
    "meta_file = paths_to_metadata_files[0]\n",
    "rec = OERecording(meta_file)\n",
    "rec.accel_files = rec.channel_files\n",
    "data, timestamps = rec.get_accel_data(channels=[33,34,35],start_time_ms=[0],window_ms=6000,convert_to_mv=True,return_timestamps=True,\n",
    "                                      direct_paths_to_files=rec.accel_files)\n",
    "data"
   ],
   "metadata": {
    "collapsed": false,
    "ExecuteTime": {
     "end_time": "2024-03-11T12:14:23.843868100Z",
     "start_time": "2024-03-11T12:14:23.661877300Z"
    }
   },
   "execution_count": 7
  },
  {
   "cell_type": "code",
   "outputs": [
    {
     "ename": "IndexError",
     "evalue": "list index out of range",
     "output_type": "error",
     "traceback": [
      "\u001B[1;31m---------------------------------------------------------------------------\u001B[0m",
      "\u001B[1;31mIndexError\u001B[0m                                Traceback (most recent call last)",
      "\u001B[1;32m<ipython-input-5-a869a6875ba1>\u001B[0m in \u001B[0;36m<module>\u001B[1;34m\u001B[0m\n\u001B[0;32m      4\u001B[0m     \u001B[0mmeta_file\u001B[0m \u001B[1;33m=\u001B[0m \u001B[0mpaths_to_metadata_files\u001B[0m\u001B[1;33m[\u001B[0m\u001B[0mi\u001B[0m\u001B[1;33m]\u001B[0m\u001B[1;33m\u001B[0m\u001B[1;33m\u001B[0m\u001B[0m\n\u001B[0;32m      5\u001B[0m     \u001B[0mrec\u001B[0m \u001B[1;33m=\u001B[0m \u001B[0mOERecording\u001B[0m\u001B[1;33m(\u001B[0m\u001B[0mmeta_file\u001B[0m\u001B[1;33m)\u001B[0m\u001B[1;33m\u001B[0m\u001B[1;33m\u001B[0m\u001B[0m\n\u001B[1;32m----> 6\u001B[1;33m     data, timestamps = rec.get_accel_data(channels=[1,2,3],start_time_ms=[0],window_ms=6000,convert_to_mv=True, return_timestamps=True,\n\u001B[0m\u001B[0;32m      7\u001B[0m                                           direct_paths_to_files=rec.accel_files)\n\u001B[0;32m      8\u001B[0m     \u001B[0mdata_title\u001B[0m \u001B[1;33m=\u001B[0m \u001B[0mmeta_file\u001B[0m\u001B[1;33m.\u001B[0m\u001B[0mparent\u001B[0m\u001B[1;33m.\u001B[0m\u001B[0mparent\u001B[0m\u001B[1;33m.\u001B[0m\u001B[0mname\u001B[0m\u001B[1;33m\u001B[0m\u001B[1;33m\u001B[0m\u001B[0m\n",
      "\u001B[1;32m~\\PycharmProjects\\pythonProject3\\OERecording.py\u001B[0m in \u001B[0;36mget_accel_data\u001B[1;34m(self, channels, start_time_ms, window_ms, convert_to_mv, return_timestamps, direct_paths_to_files)\u001B[0m\n\u001B[0;32m    448\u001B[0m                 \u001B[0mc_file\u001B[0m \u001B[1;33m=\u001B[0m \u001B[0mself\u001B[0m\u001B[1;33m.\u001B[0m\u001B[0moe_file_path\u001B[0m \u001B[1;33m/\u001B[0m \u001B[0mself\u001B[0m\u001B[1;33m.\u001B[0m\u001B[0maccel_files\u001B[0m\u001B[1;33m[\u001B[0m\u001B[0mchannels\u001B[0m\u001B[1;33m[\u001B[0m\u001B[0mi\u001B[0m\u001B[1;33m]\u001B[0m \u001B[1;33m-\u001B[0m \u001B[1;36m1\u001B[0m\u001B[1;33m]\u001B[0m  \u001B[1;31m# get path of current channel file\u001B[0m\u001B[1;33m\u001B[0m\u001B[1;33m\u001B[0m\u001B[0m\n\u001B[0;32m    449\u001B[0m             \u001B[1;32melse\u001B[0m\u001B[1;33m:\u001B[0m\u001B[1;33m\u001B[0m\u001B[1;33m\u001B[0m\u001B[0m\n\u001B[1;32m--> 450\u001B[1;33m                 \u001B[0mc_file\u001B[0m \u001B[1;33m=\u001B[0m \u001B[0mself\u001B[0m\u001B[1;33m.\u001B[0m\u001B[0moe_file_path\u001B[0m \u001B[1;33m/\u001B[0m \u001B[0mdirect_paths_to_files\u001B[0m\u001B[1;33m[\u001B[0m\u001B[0mi\u001B[0m\u001B[1;33m]\u001B[0m \u001B[1;31m# get the direct path of current channel file\u001B[0m\u001B[1;33m\u001B[0m\u001B[1;33m\u001B[0m\u001B[0m\n\u001B[0m\u001B[0;32m    451\u001B[0m             \u001B[1;32mwith\u001B[0m \u001B[0mopen\u001B[0m\u001B[1;33m(\u001B[0m\u001B[0mc_file\u001B[0m\u001B[1;33m,\u001B[0m \u001B[1;34m'rb'\u001B[0m\u001B[1;33m)\u001B[0m \u001B[1;32mas\u001B[0m \u001B[0mfid\u001B[0m\u001B[1;33m:\u001B[0m  \u001B[1;31m# open the file such that it will close when left alone\u001B[0m\u001B[1;33m\u001B[0m\u001B[1;33m\u001B[0m\u001B[0m\n\u001B[0;32m    452\u001B[0m                 \u001B[1;32mfor\u001B[0m \u001B[0mj\u001B[0m \u001B[1;32min\u001B[0m \u001B[0mrange\u001B[0m\u001B[1;33m(\u001B[0m\u001B[0mn_windows\u001B[0m\u001B[1;33m)\u001B[0m\u001B[1;33m:\u001B[0m  \u001B[1;31m# Iterate over sampling windows\u001B[0m\u001B[1;33m\u001B[0m\u001B[1;33m\u001B[0m\u001B[0m\n",
      "\u001B[1;31mIndexError\u001B[0m: list index out of range"
     ]
    }
   ],
   "source": [
    "# This cell goes over the rec files and creates the accelerometer dictionaries used for bar's project\n",
    "\n",
    "for i in range(len(paths_to_metadata_files)):\n",
    "    meta_file = paths_to_metadata_files[i]\n",
    "    rec = OERecording(meta_file)\n",
    "    data, timestamps = rec.get_accel_data(channels=[1,2,3],start_time_ms=[0],window_ms=6000,convert_to_mv=True, return_timestamps=True,\n",
    "                                          direct_paths_to_files=rec.accel_files)\n",
    "    data_title = meta_file.parent.parent.name\n",
    "    data_dict = {\n",
    "       'timestamps': timestamps,\n",
    "       'data':data,\n",
    "        'title': data_title\n",
    "    }\n",
    "    path_to_analysis_folder = meta_file.parent.parent / 'extracted_data' \n",
    "    \n",
    "    path_to_analysis_folder.mkdir()\n",
    "    path_to_data_file = path_to_analysis_folder / f'{data_title}_accel_data.pkl'\n",
    "    with open(path_to_data_file, 'wb') as file:\n",
    "        pickle.dump(data_dict, file=file)\n"
   ],
   "metadata": {
    "collapsed": false,
    "ExecuteTime": {
     "end_time": "2024-12-03T12:44:35.334158100Z",
     "start_time": "2024-12-03T12:44:35.257532700Z"
    }
   },
   "execution_count": 5
  },
  {
   "cell_type": "code",
   "outputs": [
    {
     "ename": "NameError",
     "evalue": "name 'rec' is not defined",
     "output_type": "error",
     "traceback": [
      "\u001B[1;31m---------------------------------------------------------------------------\u001B[0m",
      "\u001B[1;31mNameError\u001B[0m                                 Traceback (most recent call last)",
      "\u001B[1;32m<ipython-input-1-9a5c077a96cc>\u001B[0m in \u001B[0;36m<module>\u001B[1;34m\u001B[0m\n\u001B[1;32m----> 1\u001B[1;33m \u001B[0mrec\u001B[0m\u001B[1;33m.\u001B[0m\u001B[0mchannel_files\u001B[0m\u001B[1;33m\u001B[0m\u001B[1;33m\u001B[0m\u001B[0m\n\u001B[0m",
      "\u001B[1;31mNameError\u001B[0m: name 'rec' is not defined"
     ]
    }
   ],
   "source": [
    "rec.channel_files"
   ],
   "metadata": {
    "collapsed": false,
    "ExecuteTime": {
     "end_time": "2024-12-03T13:05:11.297408100Z",
     "start_time": "2024-12-03T13:05:10.788171700Z"
    }
   },
   "execution_count": 1
  },
  {
   "cell_type": "code",
   "outputs": [
    {
     "name": "stdout",
     "output_type": "stream",
     "text": [
      "Y:\\accelerometer_calibrations\\headtagse_cali_recs\\02\\02_X_Neg_2024-12-02_15-51-13\\Record Node 101\\OE_metaData.mat\n",
      "Y:\\accelerometer_calibrations\\headtagse_cali_recs\\02\\02_X_Pos_2024-12-02_15-50-05\\Record Node 101\\OE_metaData.mat\n",
      "Y:\\accelerometer_calibrations\\headtagse_cali_recs\\02\\02_Y_Neg_2024-12-02_15-53-00\\Record Node 101\\OE_metaData.mat\n",
      "Y:\\accelerometer_calibrations\\headtagse_cali_recs\\02\\02_Y_Pos_2024-12-02_15-54-28\\Record Node 101\\OE_metaData.mat\n",
      "Y:\\accelerometer_calibrations\\headtagse_cali_recs\\02\\02_Z_Neg_2024-12-02_15-56-40\\Record Node 101\\OE_metaData.mat\n",
      "Y:\\accelerometer_calibrations\\headtagse_cali_recs\\02\\02_Z_Pos_2024-12-02_15-58-48\\Record Node 101\\OE_metaData.mat\n",
      "Y:\\accelerometer_calibrations\\headtagse_cali_recs\\03\\03_X_Neg_2024-12-02_16-10-15\\Record Node 101\\OE_metaData.mat\n",
      "Y:\\accelerometer_calibrations\\headtagse_cali_recs\\03\\03_X_Pos_2024-12-02_16-12-55\\Record Node 101\\OE_metaData.mat\n",
      "Y:\\accelerometer_calibrations\\headtagse_cali_recs\\03\\03_Y_Neg_2024-12-02_16-15-15\\Record Node 101\\OE_metaData.mat\n",
      "Y:\\accelerometer_calibrations\\headtagse_cali_recs\\03\\03_Y_Pos_2024-12-02_16-17-45\\Record Node 101\\OE_metaData.mat\n",
      "Y:\\accelerometer_calibrations\\headtagse_cali_recs\\03\\03_Z_neg_2024-12-02_16-05-31\\Record Node 101\\OE_metaData.mat\n",
      "Y:\\accelerometer_calibrations\\headtagse_cali_recs\\03\\03_Z_Pos_2024-12-02_16-06-55\\Record Node 101\\OE_metaData.mat\n",
      "Y:\\accelerometer_calibrations\\headtagse_cali_recs\\headstage_calib_01_4918\\X_negative_01_2024-02-07_10-32-17\\Record Node 102\\OE_metaData.mat\n",
      "Y:\\accelerometer_calibrations\\headtagse_cali_recs\\headstage_calib_01_4918\\X_positive_01_2024-02-07_10-31-13\\Record Node 102\\OE_metaData.mat\n",
      "Y:\\accelerometer_calibrations\\headtagse_cali_recs\\headstage_calib_01_4918\\Y_negative_01_2024-02-07_10-26-50\\Record Node 102\\OE_metaData.mat\n",
      "Y:\\accelerometer_calibrations\\headtagse_cali_recs\\headstage_calib_01_4918\\Y_positive_01_2024-02-07_10-23-59\\Record Node 102\\OE_metaData.mat\n",
      "Y:\\accelerometer_calibrations\\headtagse_cali_recs\\headstage_calib_01_4918\\Z_negative_01_2024-02-07_10-20-06\\Record Node 102\\OE_metaData.mat\n",
      "Y:\\accelerometer_calibrations\\headtagse_cali_recs\\headstage_calib_01_4918\\Z_positive_01_2024-02-07_10-18-35\\Record Node 102\\OE_metaData.mat\n",
      "Y:\\accelerometer_calibrations\\headtagse_cali_recs\\headstage_calib_02_0817\\X_negative_01_2024-02-07_10-37-15\\Record Node 102\\OE_metaData.mat\n",
      "Y:\\accelerometer_calibrations\\headtagse_cali_recs\\headstage_calib_02_0817\\X_positive_01_2024-02-07_10-36-44\\Record Node 102\\OE_metaData.mat\n",
      "Y:\\accelerometer_calibrations\\headtagse_cali_recs\\headstage_calib_02_0817\\Y_negative_01_2024-02-07_10-41-11\\Record Node 102\\OE_metaData.mat\n",
      "Y:\\accelerometer_calibrations\\headtagse_cali_recs\\headstage_calib_02_0817\\Y_positive_01_2024-02-07_10-38-36\\Record Node 102\\OE_metaData.mat\n",
      "Y:\\accelerometer_calibrations\\headtagse_cali_recs\\headstage_calib_02_0817\\Y_positive_02_2024-02-07_10-39-30\\Record Node 102\\OE_metaData.mat\n",
      "Y:\\accelerometer_calibrations\\headtagse_cali_recs\\headstage_calib_02_0817\\Z_negative_01_2024-02-07_10-43-37\\Record Node 102\\OE_metaData.mat\n",
      "Y:\\accelerometer_calibrations\\headtagse_cali_recs\\headstage_calib_02_0817\\Z_positive_01_2024-02-07_10-43-02\\Record Node 102\\OE_metaData.mat\n"
     ]
    }
   ],
   "source": [
    "import pickle\n",
    "from pathlib import Path\n",
    "cur_accel_file_names = ['100_33.continuous', '100_34.continuous', '100_35.continuous']\n",
    "\n",
    "for i in range(len(paths_to_metadata_files)):\n",
    "    try:\n",
    "        \n",
    "        meta_file = paths_to_metadata_files[i]\n",
    "        print(meta_file)\n",
    "        rec = OERecording(meta_file)\n",
    "        rec.accel_files = cur_accel_file_names\n",
    "        data, timestamps = rec.get_accel_data(\n",
    "            channels=[1,2,3],\n",
    "            start_time_ms=[0],\n",
    "            window_ms=6000,\n",
    "            convert_to_mv=True,\n",
    "            return_timestamps=True,\n",
    "            direct_paths_to_files=rec.accel_files\n",
    "        )\n",
    "        data_title = meta_file.parent.parent.name\n",
    "        data_dict = {\n",
    "            'timestamps': timestamps,\n",
    "            'data': data,\n",
    "            'title': data_title\n",
    "        }\n",
    "    except FileNotFoundError:\n",
    "        cur_accel_file_names = ['100_AUX1.continuous', '100_AUX2.continuous', '100_AUX3.continuous']\n",
    "        rec.accel_files = cur_accel_file_names\n",
    "        data, timestamps = rec.get_accel_data(\n",
    "            channels=[1,2,3],\n",
    "            start_time_ms=[0],\n",
    "            window_ms=6000,\n",
    "            convert_to_mv=True,\n",
    "            return_timestamps=True,\n",
    "            direct_paths_to_files=rec.accel_files\n",
    "        )\n",
    "        data_title = meta_file.parent.parent.name\n",
    "        data_dict = {\n",
    "            'timestamps': timestamps,\n",
    "            'data': data,\n",
    "            'title': data_title\n",
    "        }\n",
    "        \n",
    "    path_to_analysis_folder = meta_file.parent.parent / 'extracted_data'\n",
    "    path_to_analysis_folder.mkdir(exist_ok=True)\n",
    "    \n",
    "    # Create a unique file name if the default one exists\n",
    "    path_to_data_file = path_to_analysis_folder / f'{data_title}_accel_data.pkl'\n",
    "    counter = 1\n",
    "    while path_to_data_file.exists():\n",
    "        path_to_data_file = path_to_analysis_folder / f'{data_title}_accel_data_{counter}.pkl'\n",
    "        counter += 1\n",
    "    \n",
    "    with open(path_to_data_file, 'wb') as file:\n",
    "        pickle.dump(data_dict, file=file)\n"
   ],
   "metadata": {
    "collapsed": false,
    "ExecuteTime": {
     "end_time": "2024-12-03T13:07:02.047523100Z",
     "start_time": "2024-12-03T13:06:58.391211Z"
    }
   },
   "execution_count": 5
  },
  {
   "cell_type": "code",
   "outputs": [
    {
     "name": "stdout",
     "output_type": "stream",
     "text": [
      "<OERecording.OERecording object at 0x000002EF2B487AC0>\n"
     ]
    }
   ],
   "source": [
    "rec."
   ],
   "metadata": {
    "collapsed": false,
    "ExecuteTime": {
     "end_time": "2024-12-03T12:55:06.458332500Z",
     "start_time": "2024-12-03T12:55:06.434333400Z"
    }
   },
   "execution_count": 12
  },
  {
   "cell_type": "code",
   "outputs": [
    {
     "data": {
      "text/plain": "['100_RhythmData_C1-AUX1.continuous',\n '100_RhythmData_C1-AUX2.continuous',\n '100_RhythmData_C1-AUX3.continuous']"
     },
     "execution_count": 23,
     "metadata": {},
     "output_type": "execute_result"
    }
   ],
   "source": [
    "sorted([i.name for i in rec.oe_file_path.iterdir() if ('AUX' in str(i))],\n",
    "       key=lambda x: rec.extract_number_from_file(x, suffix='continuous'))"
   ],
   "metadata": {
    "collapsed": false,
    "ExecuteTime": {
     "end_time": "2024-03-20T13:22:10.981022200Z",
     "start_time": "2024-03-20T13:22:10.934719500Z"
    }
   },
   "execution_count": 23
  },
  {
   "cell_type": "code",
   "outputs": [],
   "source": [
    "with open(path_to_data_file, 'rb') as file:\n",
    "    loaded_dict = pickle.load(file)\n"
   ],
   "metadata": {
    "collapsed": false,
    "ExecuteTime": {
     "end_time": "2024-02-07T13:38:38.590980800Z",
     "start_time": "2024-02-07T13:38:38.544163400Z"
    }
   },
   "execution_count": 23
  },
  {
   "cell_type": "code",
   "outputs": [
    {
     "data": {
      "text/plain": "{'timestamps': array([[0.00000e+00, 5.00000e-02, 1.00000e-01, ..., 5.99985e+03,\n         5.99990e+03, 5.99995e+03]]),\n 'data': array([[[835.4038, 835.4038, 835.4038, ..., 833.7582, 833.7582,\n          833.7582]],\n \n        [[439.5622, 439.5622, 439.5622, ..., 443.4144, 443.4144,\n          443.4144]],\n \n        [[505.835 , 505.835 , 505.835 , ..., 506.5456, 506.5456,\n          506.5456]]]),\n 'title': 'X_negative_01_2024-02-07_10-32-17'}"
     },
     "execution_count": 2,
     "metadata": {},
     "output_type": "execute_result"
    }
   ],
   "source": [
    "import pickle\n",
    "path_to_old_data = r'Z:\\Nimrod\\OE_headstage_calib_2024_02_07\\headstage_calib_01_4918\\X_negative_01_2024-02-07_10-32-17\\extracted_data\\X_negative_01_2024-02-07_10-32-17_accel_data.pkl'\n",
    "with open(path_to_old_data, 'rb') as file:\n",
    "    dict = pickle.load(file)\n",
    "    \n",
    "dict\n",
    "    \n"
   ],
   "metadata": {
    "collapsed": false,
    "ExecuteTime": {
     "end_time": "2024-12-03T11:17:20.671065Z",
     "start_time": "2024-12-03T11:17:20.596869400Z"
    }
   },
   "execution_count": 2
  },
  {
   "cell_type": "code",
   "outputs": [],
   "source": [
    "import h5py\n",
    "mat_file = h5py.File(r'Y:/accelerometer_calibrations/headtagse_cali_recs/headstage_calib_01_4918/X_positive_01_2024-02-07_10-31-13/Record Node 102/OE_metaData.mat', 'r')\n"
   ],
   "metadata": {
    "collapsed": false,
    "ExecuteTime": {
     "end_time": "2024-12-03T12:38:28.584336300Z",
     "start_time": "2024-12-03T12:38:28.572303700Z"
    }
   },
   "execution_count": 26
  },
  {
   "cell_type": "code",
   "outputs": [
    {
     "name": "stdout",
     "output_type": "stream",
     "text": [
      "MAT data keys: dict_keys(['__header__', '__version__', '__globals__', 'metaData', '__function_workspace__'])\n"
     ]
    }
   ],
   "source": [
    "from scipy.io import loadmat\n",
    "\n",
    "mat_file_path = r'Y:\\accelerometer_calibrations\\headtagse_cali_recs\\02\\02_X_Neg_2024-12-02_15-51-13\\Record Node 101\\OE_metaData.mat'\n",
    "\n",
    "try:\n",
    "    mat_data = loadmat(mat_file_path)\n",
    "    print(\"MAT data keys:\", mat_data.keys())\n",
    "except Exception as e:\n",
    "    print(\"Error reading MAT file:\", e)"
   ],
   "metadata": {
    "collapsed": false,
    "ExecuteTime": {
     "end_time": "2024-12-03T12:38:21.060554300Z",
     "start_time": "2024-12-03T12:38:21.031528300Z"
    }
   },
   "execution_count": 25
  },
  {
   "cell_type": "code",
   "outputs": [
    {
     "data": {
      "text/plain": "<HDF5 file \"OE_metaData.mat\" (mode r)>"
     },
     "execution_count": 27,
     "metadata": {},
     "output_type": "execute_result"
    }
   ],
   "source": [
    "mat_file"
   ],
   "metadata": {
    "collapsed": false
   },
   "execution_count": 27
  },
  {
   "cell_type": "code",
   "outputs": [],
   "source": [
    "import os\n",
    "\n",
    "def rename_files_in_folder(folder_path):\n",
    "    \"\"\"\n",
    "    Renames files in the specified folder, replacing 'Pos' with 'positive' and 'Neg' with 'negative' in the file names.\n",
    "    \n",
    "    Args:\n",
    "        folder_path (str): Path to the folder containing the files to rename.\n",
    "    \"\"\"\n",
    "    if not os.path.isdir(folder_path):\n",
    "        print(f\"The specified path '{folder_path}' is not a valid directory.\")\n",
    "        return\n",
    "    \n",
    "    for file_name in os.listdir(folder_path):\n",
    "        old_file_path = os.path.join(folder_path, file_name)\n",
    "        \n",
    "        # Skip directories; only process files\n",
    "        if not os.path.isfile(old_file_path):\n",
    "            continue\n",
    "        \n",
    "        # Replace 'Pos' with 'positive' and 'Neg' with 'negative'\n",
    "        new_file_name = file_name.replace('Pos', 'positive').replace('Neg', 'negative')\n",
    "        new_file_path = os.path.join(folder_path, new_file_name)\n",
    "        \n",
    "        # Rename the file if the name has changed\n",
    "        if new_file_name != file_name:\n",
    "            os.rename(old_file_path, new_file_path)\n",
    "            print(f\"Renamed: '{file_name}' -> '{new_file_name}'\")\n",
    "        else:\n",
    "            print(f\"No change: '{file_name}'\")\n",
    "\n",
    "rename_files_in_folder(r\"Y:\\accelerometer_calibrations\\headtagse_cali_recs\\02\\sorted_calibration_data\")"
   ],
   "metadata": {
    "collapsed": false
   },
   "execution_count": 6
  },
  {
   "cell_type": "code",
   "outputs": [],
   "source": [
    "# In the end, we went with some matlab code to avoid complexities with naming etc."
   ],
   "metadata": {
    "collapsed": false
   }
  }
 ],
 "metadata": {
  "kernelspec": {
   "display_name": "Python 3",
   "language": "python",
   "name": "python3"
  },
  "language_info": {
   "codemirror_mode": {
    "name": "ipython",
    "version": 2
   },
   "file_extension": ".py",
   "mimetype": "text/x-python",
   "name": "python",
   "nbconvert_exporter": "python",
   "pygments_lexer": "ipython2",
   "version": "2.7.6"
  }
 },
 "nbformat": 4,
 "nbformat_minor": 0
}
