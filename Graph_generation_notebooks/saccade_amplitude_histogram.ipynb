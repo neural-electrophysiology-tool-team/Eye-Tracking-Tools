{
 "cells": [
  {
   "cell_type": "code",
   "outputs": [],
   "source": [
    "\n",
    "import datetime\n",
    "import numpy as np\n",
    "import cv2\n",
    "from itertools import cycle\n",
    "import pickle\n",
    "import pathlib\n",
    "import math\n",
    "import tqdm\n",
    "import scipy.io\n",
    "from matplotlib import pyplot as plt\n",
    "import scipy.io\n",
    "import h5py\n",
    "import re\n",
    "from lxml import etree as ET\n",
    "import scipy.signal as sig\n",
    "import pandas as pd\n",
    "from scipy.stats import kde\n",
    "from BlockSync_current import BlockSync\n",
    "import UtilityFunctions_newOE as uf\n",
    "from scipy import signal\n",
    "import bokeh\n",
    "import seaborn as sns\n",
    "from matplotlib import rcParams\n",
    "%matplotlib inline\n",
    "plt.style.use('default')\n",
    "rcParams['pdf.fonttype'] = 42  # Ensure fonts are embedded and editable\n",
    "rcParams['ps.fonttype'] = 42  # Ensure compatibility with vector outputs\n",
    "\n",
    "\n",
    "def bokeh_plotter(data_list, x_axis_list=None, label_list=None, \n",
    "                  plot_name='default',\n",
    "                  x_axis_label='X', y_axis_label='Y',\n",
    "                  peaks=None, peaks_list=False, export_path=False):\n",
    "    \"\"\"Generates an interactive Bokeh plot for the given data vector.\n",
    "    Args:\n",
    "        data_list (list or array): The data to be plotted.\n",
    "        label_list (list of str): The labels of the data vectors\n",
    "        plot_name (str, optional): The title of the plot. Defaults to 'default'.\n",
    "        x_axis (str, optional): The label for the x-axis. Defaults to 'X'.\n",
    "        y_axis (str, optional): The label for the y-axis. Defaults to 'Y'.\n",
    "        peaks (list or array, optional): Indices of peaks to highlight on the plot. Defaults to None.\n",
    "        export_path (False or str): when set to str, will output the resulting html fig\n",
    "    \"\"\"\n",
    "    color_cycle = cycle(bokeh.palettes.Category10_10)\n",
    "    fig = bokeh.plotting.figure(title=f'bokeh explorer: {plot_name}',\n",
    "                                x_axis_label=x_axis_label,\n",
    "                                y_axis_label=y_axis_label,\n",
    "                                plot_width=1500,\n",
    "                                plot_height=700)\n",
    "\n",
    "    for i, data_vector in enumerate(data_list):\n",
    "        \n",
    "        color = next(color_cycle)\n",
    "        \n",
    "        if x_axis_list is None:\n",
    "            x_axis = range(len(data_vector))\n",
    "        elif len(x_axis_list) == len(data_list):\n",
    "            print('x_axis manually set')\n",
    "            x_axis = x_axis_list[i]\n",
    "        else:\n",
    "            raise Exception('problem with x_axis_list input - should be either None, or a list with the same length as data_list')\n",
    "        if label_list is None:\n",
    "            fig.line(x_axis, data_vector, line_color=color, legend_label=f\"Line {i+1}\")\n",
    "        elif len(label_list) == len(data_list):\n",
    "            fig.line(range(len(data_vector)), data_vector, line_color=color, legend_label=f\"{label_list[i]}\")\n",
    "        if peaks is not None and peaks_list is True:\n",
    "            fig.circle(peaks[i], data_vector[peaks[i]], size=10, color=color)\n",
    "\n",
    "    if peaks is not None and peaks_list is False:\n",
    "        fig.circle(peaks, data_vector[peaks], size=10, color='red')\n",
    "\n",
    "    if export_path is not False:\n",
    "        print(f'exporting to {export_path}')\n",
    "        bokeh.io.output.output_file(filename=str(export_path / f'{plot_name}.html'), title=f'{plot_name}')\n",
    "    bokeh.plotting.show(fig)\n",
    "    \n",
    "\n",
    "def load_eye_data_2d_w_rotation_matrix(block):\n",
    "    \"\"\"\n",
    "    This function checks if the eye dataframes and rotation dict object exist, then imports them\n",
    "    :param block: The current blocksync class with verifiec re/le dfs\n",
    "    :return: None\n",
    "    \"\"\"\n",
    "    try:\n",
    "        block.left_eye_data = pd.read_csv(block.analysis_path / 'left_eye_data.csv', index_col=0, engine='python')\n",
    "        block.right_eye_data = pd.read_csv(block.analysis_path / 'right_eye_data.csv', index_col=0, engine='python')\n",
    "    except FileNotFoundError:\n",
    "        print('eye_data files not found, run the pipeline!')\n",
    "        return\n",
    "    \n",
    "    try:\n",
    "        with open(block.analysis_path / 'rotate_eye_data_params.pkl', 'rb') as file:\n",
    "            rotation_dict = pickle.load(file)\n",
    "            block.left_rotation_matrix = rotation_dict['left_rotation_matrix']\n",
    "            block.right_rotation_matrix = rotation_dict['right_rotation_matrix']\n",
    "            block.left_rotation_angle = rotation_dict['left_rotation_angle']\n",
    "            block.right_rotation_angle = rotation_dict['right_rotation_angle']\n",
    "    except FileNotFoundError:\n",
    "        print('No rotation matrix file, create it')\n",
    "    \n",
    "    \n",
    "def create_saccade_events_df(eye_data_df, speed_threshold, bokeh_verify_threshold=False, magnitude_calib=1, speed_profile=True):    \n",
    "    \"\"\"\n",
    "    Detects saccade events in eye tracking data and computes relevant metrics.\n",
    "\n",
    "    Parameters:\n",
    "    - eye_data_df (pd.DataFrame): Input DataFrame containing eye tracking data.\n",
    "    - speed_threshold (float): Threshold for saccade detection based on speed.\n",
    "\n",
    "    Returns:\n",
    "    - df (pd.DataFrame): Modified input DataFrame with added columns for speed and saccade detection.\n",
    "    - saccade_events_df (pd.DataFrame): DataFrame containing information about detected saccade events.\n",
    "\n",
    "    Steps:\n",
    "    1. Calculate speed components ('speed_x', 'speed_y') based on differences in 'center_x' and 'center_y'.\n",
    "    2. Compute the magnitude of the velocity vector ('speed_r').\n",
    "    3. Create a binary column ('is_saccade') indicating saccade events based on the speed threshold.\n",
    "    4. Determine saccade onset and offset indices and timestamps.\n",
    "    5. Create a DataFrame ('saccade_events_df') with columns:\n",
    "        - 'saccade_start_ind': Indices of saccade onset.\n",
    "        - 'saccade_start_timestamp': Timestamps corresponding to saccade onset.\n",
    "        - 'saccade_end_ind': Indices of saccade offset.\n",
    "        - 'saccade_end_timestamp': Timestamps corresponding to saccade offset.\n",
    "        - 'length': Duration of each saccade event.\n",
    "    6. Calculate distance traveled and angles for each saccade event.\n",
    "    7. Append additional columns to 'saccade_events_df':\n",
    "        - 'magnitude': Magnitude of the distance traveled during each saccade.\n",
    "        - 'angle': Angle of the saccade vector in degrees.\n",
    "        - 'initial_x', 'initial_y': Initial coordinates of the saccade.\n",
    "        - 'end_x', 'end_y': End coordinates of the saccade.\n",
    "\n",
    "    Note: The original 'eye_data_df' is not modified; modified data is returned as 'df'.\n",
    "    \"\"\"\n",
    "    df = eye_data_df\n",
    "    df['speed_x'] = df['center_x'].diff()  # Difference between consecutive 'center_x' values\n",
    "    df['speed_y'] = df['center_y'].diff()  # Difference between consecutive 'center_y' values\n",
    "    \n",
    "    # Step 2: Calculate magnitude of the velocity vector (R vector speed)\n",
    "    df['speed_r'] = (df['speed_x']**2 + df['speed_y']**2)**0.5\n",
    "    \n",
    "    # Create a column for saccade detection\n",
    "    df['is_saccade'] = df['speed_r'] > speed_threshold\n",
    "    \n",
    "    # create a saccade_on_off indicator where 1 is rising edge and -1 is falling edge by subtracting a shifted binary mask\n",
    "    saccade_on_off = df.is_saccade.astype(int) - df.is_saccade.shift(periods=1,fill_value=False).astype(int)\n",
    "    saccade_on_inds = np.where(saccade_on_off == 1)[0] - 1 # notice the manual shift here, chosen to include the first (sometimes slower) eye frame, just before saccade threshold crossing\n",
    "    saccade_on_ms = df['ms_axis'].iloc[saccade_on_inds]\n",
    "    saccade_on_timestamps = df['OE_timestamp'].iloc[saccade_on_inds]\n",
    "    saccade_off_inds = np.where(saccade_on_off == -1)[0]\n",
    "    saccade_off_timestamps = df['OE_timestamp'].iloc[saccade_off_inds]\n",
    "    saccade_off_ms = df['ms_axis'].iloc[saccade_off_inds]\n",
    "    \n",
    "    saccade_dict = {'saccade_start_ind' :  saccade_on_inds ,\n",
    "                    'saccade_start_timestamp': saccade_on_timestamps.values,\n",
    "                    'saccade_end_ind':      saccade_off_inds,\n",
    "                    'saccade_end_timestamp':saccade_off_timestamps.values,\n",
    "                    'saccade_on_ms': saccade_on_ms.values,\n",
    "                    'saccade_off_ms': saccade_off_ms.values}\n",
    "    \n",
    "    saccade_events_df = pd.DataFrame.from_dict(saccade_dict)\n",
    "    saccade_events_df['length'] = saccade_events_df['saccade_end_ind'] - saccade_events_df['saccade_start_ind']\n",
    "    # Drop columns used for intermediate steps\n",
    "    df = df.drop(['is_saccade'], axis=1)\n",
    "    \n",
    "    distances = []\n",
    "    angles = []\n",
    "    speed_list = []\n",
    "    diameter_list = []\n",
    "    for index, row in tqdm.tqdm(saccade_events_df.iterrows()):\n",
    "        saccade_samples = df.loc[(df['OE_timestamp'] >= row['saccade_start_timestamp']) & \n",
    "                                 (df['OE_timestamp'] <= row['saccade_end_timestamp'])]\n",
    "        distance_traveled = saccade_samples['speed_r'].sum()\n",
    "        if speed_profile:\n",
    "            saccade_speed_profile = saccade_samples['speed_r'].values\n",
    "            speed_list.append(saccade_speed_profile)\n",
    "        saccade_diameter_profile = saccade_samples['pupil_diameter'].values\n",
    "        diameter_list.append(saccade_diameter_profile)\n",
    "        # Calculate angle from initial position to endpoint\n",
    "        initial_position = saccade_samples.iloc[0][['center_x', 'center_y']]\n",
    "        endpoint = saccade_samples.iloc[-1][['center_x', 'center_y']]\n",
    "        overall_angle = np.arctan2(endpoint['center_y'] - initial_position['center_y'],\n",
    "                           endpoint['center_x'] - initial_position['center_x'])\n",
    "        \n",
    "        angles.append(overall_angle)  \n",
    "        distances.append(distance_traveled)\n",
    "        \n",
    "        \n",
    "    \n",
    "    saccade_events_df['magnitude_raw'] = np.array(distances)\n",
    "    saccade_events_df['magnitude'] = np.array(distances) * magnitude_calib\n",
    "    saccade_events_df['angle'] = np.where(np.isnan(angles), angles, np.rad2deg(angles) % 360) # Convert radians to degrees and ensure result is in [0, 360)\n",
    "    start_ts = saccade_events_df['saccade_start_timestamp'].values\n",
    "    end_ts = saccade_events_df['saccade_end_timestamp'].values\n",
    "    saccade_start_df = df[df['OE_timestamp'].isin(start_ts)]\n",
    "    saccade_end_df = df[df['OE_timestamp'].isin(end_ts)]\n",
    "    start_x_coord = saccade_start_df['center_x']\n",
    "    start_y_coord = saccade_start_df['center_y']\n",
    "    end_x_coord = saccade_end_df['center_x']\n",
    "    end_y_coord = saccade_end_df['center_y']\n",
    "    saccade_events_df['initial_x'] = start_x_coord.values\n",
    "    saccade_events_df['initial_y'] = start_y_coord.values\n",
    "    saccade_events_df['end_x'] = end_x_coord.values\n",
    "    saccade_events_df['end_y'] = end_y_coord.values\n",
    "    saccade_events_df['calib_dx'] = (saccade_events_df['end_x'].values - saccade_events_df['initial_x'].values) * magnitude_calib\n",
    "    saccade_events_df['calib_dy'] = (saccade_events_df['end_y'].values - saccade_events_df['initial_y'].values) * magnitude_calib\n",
    "    if speed_profile:\n",
    "        saccade_events_df['speed_profile'] = speed_list\n",
    "    saccade_events_df['diameter_profile'] = diameter_list\n",
    "    if bokeh_verify_threshold:\n",
    "        bokeh_plotter(data_list=[df.speed_r], label_list=['Pupil Velocity'], peaks=saccade_on_inds)\n",
    "        \n",
    "    return df, saccade_events_df\n"
   ],
   "metadata": {
    "collapsed": false,
    "ExecuteTime": {
     "end_time": "2025-01-04T20:54:03.485127400Z",
     "start_time": "2025-01-04T20:54:00.941591100Z"
    }
   },
   "id": "d0bd307af9f079a9",
   "execution_count": 1
  },
  {
   "cell_type": "code",
   "outputs": [
    {
     "name": "stdout",
     "output_type": "stream",
     "text": [
      "instantiated block number 023 at Path: Z:\\Nimrod\\experiments\\PV_62\\2023_04_27\\block_023, new OE version\n",
      "Found the sample rate for block 023 in the xml file, it is 20000 Hz\n",
      "created the .oe_rec attribute as an open ephys recording obj with get_data functionality\n",
      "retrieving zertoh sample number for block 023\n",
      "got it!\n",
      "instantiated block number 024 at Path: Z:\\Nimrod\\experiments\\PV_62\\2023_04_27\\block_024, new OE version\n",
      "Found the sample rate for block 024 in the xml file, it is 20000 Hz\n",
      "created the .oe_rec attribute as an open ephys recording obj with get_data functionality\n",
      "retrieving zertoh sample number for block 024\n",
      "got it!\n",
      "instantiated block number 026 at Path: Z:\\Nimrod\\experiments\\PV_62\\2023_04_27\\block_026, new OE version\n",
      "Found the sample rate for block 026 in the xml file, it is 20000 Hz\n",
      "created the .oe_rec attribute as an open ephys recording obj with get_data functionality\n",
      "retrieving zertoh sample number for block 026\n",
      "got it!\n",
      "instantiated block number 038 at Path: Z:\\Nimrod\\experiments\\PV_62\\2023_05_01\\block_038, new OE version\n",
      "Found the sample rate for block 038 in the xml file, it is 20000 Hz\n",
      "created the .oe_rec attribute as an open ephys recording obj with get_data functionality\n",
      "retrieving zertoh sample number for block 038\n",
      "got it!\n",
      "instantiated block number 007 at Path: Z:\\Nimrod\\experiments\\PV_126\\2024_07_18\\block_007, new OE version\n",
      "Found the sample rate for block 007 in the xml file, it is 20000 Hz\n",
      "created the .oe_rec attribute as an open ephys recording obj with get_data functionality\n",
      "retrieving zertoh sample number for block 007\n",
      "got it!\n",
      "instantiated block number 008 at Path: Z:\\Nimrod\\experiments\\PV_126\\2024_07_18\\block_008, new OE version\n",
      "could not find the sample rate in the xml file due to error, will look in the cont file of the first recording...\n",
      "found the sample rate, it is 20000\n",
      "created the .oe_rec attribute as an open ephys recording obj with get_data functionality\n",
      "retrieving zertoh sample number for block 008\n",
      "got it!\n",
      "instantiated block number 009 at Path: Z:\\Nimrod\\experiments\\PV_126\\2024_07_18\\block_009, new OE version\n",
      "Found the sample rate for block 009 in the xml file, it is 20000 Hz\n",
      "created the .oe_rec attribute as an open ephys recording obj with get_data functionality\n",
      "retrieving zertoh sample number for block 009\n",
      "got it!\n",
      "instantiated block number 010 at Path: Z:\\Nimrod\\experiments\\PV_126\\2024_07_18\\block_010, new OE version\n",
      "Found the sample rate for block 010 in the xml file, it is 20000 Hz\n",
      "created the .oe_rec attribute as an open ephys recording obj with get_data functionality\n",
      "retrieving zertoh sample number for block 010\n",
      "got it!\n",
      "instantiated block number 011 at Path: Z:\\Nimrod\\experiments\\PV_126\\2024_08_13\\block_011, new OE version\n",
      "Found the sample rate for block 011 in the xml file, it is 20000 Hz\n",
      "created the .oe_rec attribute as an open ephys recording obj with get_data functionality\n",
      "retrieving zertoh sample number for block 011\n",
      "got it!\n",
      "instantiated block number 012 at Path: Z:\\Nimrod\\experiments\\PV_126\\2024_08_13\\block_012, new OE version\n",
      "Found the sample rate for block 012 in the xml file, it is 20000 Hz\n",
      "created the .oe_rec attribute as an open ephys recording obj with get_data functionality\n",
      "retrieving zertoh sample number for block 012\n",
      "got it!\n",
      "instantiated block number 013 at Path: Z:\\Nimrod\\experiments\\PV_126\\2024_08_13\\block_013, new OE version\n",
      "Found the sample rate for block 013 in the xml file, it is 20000 Hz\n",
      "created the .oe_rec attribute as an open ephys recording obj with get_data functionality\n",
      "retrieving zertoh sample number for block 013\n",
      "got it!\n",
      "instantiated block number 034 at Path: Z:\\Nimrod\\experiments\\PV_24\\2021_12_30\\block_034, new OE version\n",
      "Found the sample rate for block 034 in the xml file, it is 20000 Hz\n",
      "created the .oe_rec attribute as an open ephys recording obj with get_data functionality\n",
      "retrieving zertoh sample number for block 034\n",
      "got it!\n",
      "instantiated block number 007 at Path: Z:\\Nimrod\\experiments\\PV_57\\2024_11_25\\block_007, new OE version\n",
      "Found the sample rate for block 007 in the xml file, it is 20000 Hz\n",
      "created the .oe_rec attribute as an open ephys recording obj with get_data functionality\n",
      "retrieving zertoh sample number for block 007\n",
      "got it!\n",
      "instantiated block number 008 at Path: Z:\\Nimrod\\experiments\\PV_57\\2024_11_25\\block_008, new OE version\n",
      "Found the sample rate for block 008 in the xml file, it is 20000 Hz\n",
      "created the .oe_rec attribute as an open ephys recording obj with get_data functionality\n",
      "retrieving zertoh sample number for block 008\n",
      "got it!\n",
      "instantiated block number 009 at Path: Z:\\Nimrod\\experiments\\PV_57\\2024_11_25\\block_009, new OE version\n",
      "Found the sample rate for block 009 in the xml file, it is 20000 Hz\n",
      "created the .oe_rec attribute as an open ephys recording obj with get_data functionality\n",
      "retrieving zertoh sample number for block 009\n",
      "got it!\n",
      "instantiated block number 010 at Path: Z:\\Nimrod\\experiments\\PV_57\\2024_12_01\\block_010, new OE version\n",
      "Found the sample rate for block 010 in the xml file, it is 20000 Hz\n",
      "created the .oe_rec attribute as an open ephys recording obj with get_data functionality\n",
      "retrieving zertoh sample number for block 010\n",
      "got it!\n",
      "instantiated block number 011 at Path: Z:\\Nimrod\\experiments\\PV_57\\2024_12_01\\block_011, new OE version\n",
      "Found the sample rate for block 011 in the xml file, it is 20000 Hz\n",
      "created the .oe_rec attribute as an open ephys recording obj with get_data functionality\n",
      "retrieving zertoh sample number for block 011\n",
      "got it!\n",
      "instantiated block number 012 at Path: Z:\\Nimrod\\experiments\\PV_57\\2024_12_01\\block_012, new OE version\n",
      "Found the sample rate for block 012 in the xml file, it is 20000 Hz\n",
      "created the .oe_rec attribute as an open ephys recording obj with get_data functionality\n",
      "retrieving zertoh sample number for block 012\n",
      "got it!\n",
      "instantiated block number 013 at Path: Z:\\Nimrod\\experiments\\PV_57\\2024_12_01\\block_013, new OE version\n",
      "Found the sample rate for block 013 in the xml file, it is 20000 Hz\n",
      "created the .oe_rec attribute as an open ephys recording obj with get_data functionality\n",
      "retrieving zertoh sample number for block 013\n",
      "got it!\n"
     ]
    }
   ],
   "source": [
    "\n",
    "# create a multi-animal block_collection:\n",
    "\n",
    "def create_block_collections(animals, block_lists, experiment_path, bad_blocks=None):\n",
    "    \"\"\"\n",
    "    Create block collections and a block dictionary from multiple animals and their respective block lists.\n",
    "\n",
    "    Parameters:\n",
    "    - animals: list of str, names of the animals.\n",
    "    - block_lists: list of lists of int, block numbers corresponding to each animal.\n",
    "    - experiment_path: pathlib.Path, path to the experiment directory.\n",
    "    - bad_blocks: list of int, blocks to exclude. Default is an empty list.\n",
    "\n",
    "    Returns:\n",
    "    - block_collection: list of BlockSync objects for all specified blocks.\n",
    "    - block_dict: dictionary where keys are block numbers as strings and values are BlockSync objects.\n",
    "    \"\"\"\n",
    "    import UtilityFunctions_newOE as uf\n",
    "\n",
    "    if bad_blocks is None:\n",
    "        bad_blocks = []\n",
    "\n",
    "    block_collection = []\n",
    "    block_dict = {}\n",
    "\n",
    "    for animal, blocks in zip(animals, block_lists):\n",
    "        # Generate blocks for the current animal\n",
    "        current_blocks = uf.block_generator(\n",
    "            block_numbers=blocks,\n",
    "            experiment_path=experiment_path,\n",
    "            animal=animal,\n",
    "            bad_blocks=bad_blocks\n",
    "        )\n",
    "        # Add to collection and dictionary\n",
    "        block_collection.extend(current_blocks)\n",
    "        for b in current_blocks:\n",
    "            block_dict[f\"{animal}_block_{b.block_num}\"] = b\n",
    "\n",
    "    return block_collection, block_dict\n",
    "\n",
    "\n",
    "# Example usage:\n",
    "animals = ['PV_62','PV_126','PV_24','PV_57']\n",
    "block_lists = [[23,24,26,38],[7,8,9,10,11,12,13],[34],[7,8,9,10,11,12,13]]\n",
    "experiment_path = pathlib.Path(r\"Z:\\Nimrod\\experiments\")\n",
    "bad_blocks = [0]  # Example of bad blocks\n",
    "\n",
    "block_collection, block_dict = create_block_collections(\n",
    "    animals=animals,\n",
    "    block_lists=block_lists,\n",
    "    experiment_path=experiment_path,\n",
    "    bad_blocks=bad_blocks\n",
    ")"
   ],
   "metadata": {
    "collapsed": false,
    "ExecuteTime": {
     "end_time": "2025-01-04T20:54:06.756027900Z",
     "start_time": "2025-01-04T20:54:03.486198200Z"
    }
   },
   "id": "5f48f18eee1d5c5c",
   "execution_count": 2
  },
  {
   "cell_type": "code",
   "outputs": [
    {
     "name": "stdout",
     "output_type": "stream",
     "text": [
      "running parse_open_ephys_events...\n",
      "block 023 has a parsed events file, reading...\n",
      "Getting eye brightness values for block 023...\n",
      "Found an existing file!\n",
      "Eye brightness vectors generation complete.\n",
      "blocksync_df loaded from analysis folder\n",
      "eye_brightness_df loaded from analysis folder\n",
      "eye dataframes loaded from analysis folder\n",
      "got the calibration values from the analysis folder\n",
      "running parse_open_ephys_events...\n",
      "block 024 has a parsed events file, reading...\n",
      "Getting eye brightness values for block 024...\n",
      "Found an existing file!\n",
      "Eye brightness vectors generation complete.\n",
      "blocksync_df loaded from analysis folder\n",
      "eye_brightness_df loaded from analysis folder\n",
      "eye dataframes loaded from analysis folder\n",
      "got the calibration values from the analysis folder\n",
      "running parse_open_ephys_events...\n",
      "block 026 has a parsed events file, reading...\n",
      "Getting eye brightness values for block 026...\n",
      "Found an existing file!\n",
      "Eye brightness vectors generation complete.\n",
      "blocksync_df loaded from analysis folder\n",
      "eye_brightness_df loaded from analysis folder\n",
      "eye dataframes loaded from analysis folder\n",
      "got the calibration values from the analysis folder\n",
      "running parse_open_ephys_events...\n",
      "block 038 has a parsed events file, reading...\n",
      "Getting eye brightness values for block 038...\n",
      "Found an existing file!\n",
      "Eye brightness vectors generation complete.\n",
      "blocksync_df loaded from analysis folder\n",
      "eye_brightness_df loaded from analysis folder\n",
      "eye dataframes loaded from analysis folder\n",
      "got the calibration values from the analysis folder\n",
      "running parse_open_ephys_events...\n",
      "block 007 has a parsed events file, reading...\n",
      "Getting eye brightness values for block 007...\n",
      "Found an existing file!\n",
      "Eye brightness vectors generation complete.\n",
      "blocksync_df loaded from analysis folder\n",
      "eye_brightness_df loaded from analysis folder\n",
      "eye dataframes loaded from analysis folder\n",
      "got the calibration values from the analysis folder\n",
      "running parse_open_ephys_events...\n",
      "block 008 has a parsed events file, reading...\n",
      "Getting eye brightness values for block 008...\n",
      "Found an existing file!\n",
      "Eye brightness vectors generation complete.\n",
      "blocksync_df loaded from analysis folder\n",
      "eye_brightness_df loaded from analysis folder\n",
      "eye dataframes loaded from analysis folder\n",
      "got the calibration values from the analysis folder\n",
      "running parse_open_ephys_events...\n",
      "block 009 has a parsed events file, reading...\n",
      "Getting eye brightness values for block 009...\n",
      "Found an existing file!\n",
      "Eye brightness vectors generation complete.\n",
      "blocksync_df loaded from analysis folder\n",
      "eye_brightness_df loaded from analysis folder\n",
      "eye dataframes loaded from analysis folder\n",
      "got the calibration values from the analysis folder\n",
      "running parse_open_ephys_events...\n",
      "block 010 has a parsed events file, reading...\n",
      "Getting eye brightness values for block 010...\n",
      "Found an existing file!\n",
      "Eye brightness vectors generation complete.\n",
      "blocksync_df loaded from analysis folder\n",
      "eye_brightness_df loaded from analysis folder\n",
      "eye dataframes loaded from analysis folder\n",
      "got the calibration values from the analysis folder\n",
      "running parse_open_ephys_events...\n",
      "block 011 has a parsed events file, reading...\n",
      "Getting eye brightness values for block 011...\n",
      "Found an existing file!\n",
      "Eye brightness vectors generation complete.\n",
      "blocksync_df loaded from analysis folder\n",
      "eye_brightness_df loaded from analysis folder\n",
      "eye dataframes loaded from analysis folder\n",
      "got the calibration values from the analysis folder\n",
      "running parse_open_ephys_events...\n",
      "block 012 has a parsed events file, reading...\n",
      "Getting eye brightness values for block 012...\n",
      "Found an existing file!\n",
      "Eye brightness vectors generation complete.\n",
      "blocksync_df loaded from analysis folder\n",
      "eye_brightness_df loaded from analysis folder\n",
      "eye dataframes loaded from analysis folder\n",
      "got the calibration values from the analysis folder\n",
      "running parse_open_ephys_events...\n",
      "block 013 has a parsed events file, reading...\n",
      "Getting eye brightness values for block 013...\n",
      "Found an existing file!\n",
      "Eye brightness vectors generation complete.\n",
      "blocksync_df loaded from analysis folder\n",
      "eye_brightness_df loaded from analysis folder\n",
      "eye dataframes loaded from analysis folder\n",
      "got the calibration values from the analysis folder\n",
      "running parse_open_ephys_events...\n",
      "block 034 has a parsed events file, reading...\n",
      "Getting eye brightness values for block 034...\n",
      "Found an existing file!\n",
      "Eye brightness vectors generation complete.\n",
      "blocksync_df loaded from analysis folder\n",
      "eye_brightness_df loaded from analysis folder\n",
      "eye dataframes loaded from analysis folder\n",
      "got the calibration values from the analysis folder\n",
      "running parse_open_ephys_events...\n",
      "block 007 has a parsed events file, reading...\n",
      "Getting eye brightness values for block 007...\n",
      "Found an existing file!\n",
      "Eye brightness vectors generation complete.\n",
      "blocksync_df loaded from analysis folder\n",
      "eye_brightness_df loaded from analysis folder\n",
      "eye dataframes loaded from analysis folder\n",
      "got the calibration values from the analysis folder\n",
      "running parse_open_ephys_events...\n",
      "block 008 has a parsed events file, reading...\n",
      "Getting eye brightness values for block 008...\n",
      "Found an existing file!\n",
      "Eye brightness vectors generation complete.\n",
      "blocksync_df loaded from analysis folder\n",
      "eye_brightness_df loaded from analysis folder\n",
      "eye dataframes loaded from analysis folder\n",
      "got the calibration values from the analysis folder\n",
      "running parse_open_ephys_events...\n",
      "block 009 has a parsed events file, reading...\n",
      "Getting eye brightness values for block 009...\n",
      "Found an existing file!\n",
      "Eye brightness vectors generation complete.\n",
      "blocksync_df loaded from analysis folder\n",
      "eye_brightness_df loaded from analysis folder\n",
      "eye dataframes loaded from analysis folder\n",
      "got the calibration values from the analysis folder\n",
      "running parse_open_ephys_events...\n",
      "block 010 has a parsed events file, reading...\n",
      "Getting eye brightness values for block 010...\n",
      "Found an existing file!\n",
      "Eye brightness vectors generation complete.\n",
      "blocksync_df loaded from analysis folder\n",
      "eye_brightness_df loaded from analysis folder\n"
     ]
    },
    {
     "name": "stderr",
     "output_type": "stream",
     "text": [
      "c:\\users\\marks3\\pycharmprojects\\pythonproject3\\venv\\lib\\site-packages\\IPython\\core\\interactiveshell.py:3338: DtypeWarning: Columns (11,12) have mixed types.Specify dtype option on import or set low_memory=False.\n",
      "  if (await self.run_code(code, result,  async_=asy)):\n"
     ]
    },
    {
     "name": "stdout",
     "output_type": "stream",
     "text": [
      "eye dataframes loaded from analysis folder\n",
      "got the calibration values from the analysis folder\n",
      "running parse_open_ephys_events...\n",
      "block 011 has a parsed events file, reading...\n",
      "Getting eye brightness values for block 011...\n",
      "Found an existing file!\n",
      "Eye brightness vectors generation complete.\n",
      "blocksync_df loaded from analysis folder\n",
      "eye_brightness_df loaded from analysis folder\n",
      "eye dataframes loaded from analysis folder\n",
      "got the calibration values from the analysis folder\n",
      "running parse_open_ephys_events...\n",
      "block 012 has a parsed events file, reading...\n",
      "Getting eye brightness values for block 012...\n",
      "Found an existing file!\n",
      "Eye brightness vectors generation complete.\n",
      "blocksync_df loaded from analysis folder\n",
      "eye_brightness_df loaded from analysis folder\n",
      "eye dataframes loaded from analysis folder\n",
      "got the calibration values from the analysis folder\n",
      "running parse_open_ephys_events...\n",
      "block 013 has a parsed events file, reading...\n",
      "Getting eye brightness values for block 013...\n",
      "Found an existing file!\n",
      "Eye brightness vectors generation complete.\n",
      "blocksync_df loaded from analysis folder\n",
      "eye_brightness_df loaded from analysis folder\n",
      "eye dataframes loaded from analysis folder\n",
      "got the calibration values from the analysis folder\n"
     ]
    }
   ],
   "source": [
    "for block in block_collection:\n",
    "    block.parse_open_ephys_events()\n",
    "    block.get_eye_brightness_vectors()\n",
    "    block.synchronize_block()\n",
    "    block.create_eye_brightness_df(threshold_value=20)\n",
    "\n",
    "    # if the code fails here, go to manual synchronization\n",
    "    block.import_manual_sync_df()\n",
    "    block.read_dlc_data()\n",
    "    block.calibrate_pixel_size(10)\n",
    "    load_eye_data_2d_w_rotation_matrix(block) #should be integrated again... later\n",
    "    \n",
    "    # calibrate pupil diameter:\n",
    "    if 'pupil_diameter' not in block.left_eye_data.columns:\n",
    "        block.left_eye_data['pupil_diameter_pixels'] = block.left_eye_data.major_ax * 2 * np.pi\n",
    "        block.right_eye_data['pupil_diameter_pixels'] = block.right_eye_data.major_ax * 2 * np.pi\n",
    "        block.left_eye_data['pupil_diameter'] = block.left_eye_data['pupil_diameter_pixels'] * block.L_pix_size\n",
    "        block.right_eye_data['pupil_diameter'] = block.right_eye_data['pupil_diameter_pixels'] * block.R_pix_size"
   ],
   "metadata": {
    "collapsed": false,
    "ExecuteTime": {
     "end_time": "2025-01-04T20:55:13.018512500Z",
     "start_time": "2025-01-04T20:54:06.759344500Z"
    }
   },
   "id": "228875b77aba0682",
   "execution_count": 3
  },
  {
   "cell_type": "code",
   "outputs": [],
   "source": [
    "def create_saccade_events_df_new(\n",
    "    eye_data_df, speed_threshold, bokeh_verify_threshold=False, magnitude_calib=1, speed_profile=True\n",
    "):\n",
    "    \"\"\"\n",
    "    Detects saccade events in eye tracking data, computes relevant metrics, and ensures data consistency.\n",
    "\n",
    "    Parameters:\n",
    "    - eye_data_df (pd.DataFrame): Input DataFrame containing eye tracking data.\n",
    "    - speed_threshold (float): Threshold for saccade detection based on speed.\n",
    "    - bokeh_verify_threshold (bool): Whether to verify the speed threshold using Bokeh plots.\n",
    "    - magnitude_calib (float): Calibration factor for speed and distance.\n",
    "    - speed_profile (bool): Whether to compute and store speed profiles.\n",
    "\n",
    "    Returns:\n",
    "    - df (pd.DataFrame): Modified input DataFrame with added columns for speed and saccade detection.\n",
    "    - saccade_events_df (pd.DataFrame): DataFrame containing information about detected saccade events.\n",
    "    \"\"\"\n",
    "    # Copy input DataFrame to avoid modifying it directly\n",
    "    df = eye_data_df.copy()\n",
    "    df[\"speed_x\"] = df[\"center_x\"].diff()  # Difference between consecutive 'center_x' values\n",
    "    df[\"speed_y\"] = df[\"center_y\"].diff()  # Difference between consecutive 'center_y' values\n",
    "\n",
    "    # Step 2: Calculate magnitude of the velocity vector (R vector speed)\n",
    "    df[\"speed_r\"] = (df[\"speed_x\"]**2 + df[\"speed_y\"]**2)**0.5\n",
    "\n",
    "    # Create a column for saccade detection\n",
    "    df[\"is_saccade\"] = df[\"speed_r\"] > speed_threshold\n",
    "\n",
    "    # Identify saccade onset and offset indices\n",
    "    saccade_on_off = df[\"is_saccade\"].astype(int) - df[\"is_saccade\"].shift(periods=1, fill_value=False).astype(int)\n",
    "    saccade_on_inds = np.where(saccade_on_off == 1)[0] - 1  # Include frame before threshold crossing\n",
    "    saccade_off_inds = np.where(saccade_on_off == -1)[0]\n",
    "\n",
    "    # Handle cases where the last saccade has no end\n",
    "    if len(saccade_on_inds) > len(saccade_off_inds):\n",
    "        if len(saccade_on_inds) - len(saccade_off_inds) == 1:\n",
    "            print(\"Detected unmatched final saccade start index. Truncating last saccade start index.\")\n",
    "            saccade_on_inds = saccade_on_inds[:-1]\n",
    "        else:\n",
    "            raise ValueError(\"Mismatch between saccade start and end indices. Manual inspection required.\")\n",
    "\n",
    "    # Extract timestamps and indices\n",
    "    saccade_dict = {\n",
    "        \"saccade_start_ind\": saccade_on_inds,\n",
    "        \"saccade_start_timestamp\": df[\"OE_timestamp\"].iloc[saccade_on_inds].values,\n",
    "        \"saccade_end_ind\": saccade_off_inds,\n",
    "        \"saccade_end_timestamp\": df[\"OE_timestamp\"].iloc[saccade_off_inds].values,\n",
    "        \"saccade_on_ms\": df[\"ms_axis\"].iloc[saccade_on_inds].values,\n",
    "        \"saccade_off_ms\": df[\"ms_axis\"].iloc[saccade_off_inds].values,\n",
    "    }\n",
    "\n",
    "    # Ensure all lists have consistent lengths\n",
    "    valid_mask = np.all(\n",
    "        [\n",
    "            len(saccade_dict[field]) == len(saccade_dict[\"saccade_start_ind\"])\n",
    "            for field in saccade_dict\n",
    "        ]\n",
    "    )\n",
    "    if not valid_mask:\n",
    "        valid_lengths = {key: len(value) for key, value in saccade_dict.items()}\n",
    "        print(f\"Detected inconsistent lengths in saccade fields: {valid_lengths}\")\n",
    "        raise ValueError(\"Fields in saccade dictionary must all have equal lengths.\")\n",
    "\n",
    "    saccade_events_df = pd.DataFrame.from_dict(saccade_dict)\n",
    "    saccade_events_df[\"length\"] = saccade_events_df[\"saccade_end_ind\"] - saccade_events_df[\"saccade_start_ind\"]\n",
    "\n",
    "    # Compute saccade metrics\n",
    "    distances = []\n",
    "    angles = []\n",
    "    speed_list = []\n",
    "    speed_list_calib = []\n",
    "    diameter_list = []\n",
    "\n",
    "    for _, row in tqdm.tqdm(saccade_events_df.iterrows(), total=len(saccade_events_df)):\n",
    "        saccade_samples = df.loc[\n",
    "            (df[\"OE_timestamp\"] >= row[\"saccade_start_timestamp\"])\n",
    "            & (df[\"OE_timestamp\"] <= row[\"saccade_end_timestamp\"])\n",
    "        ]\n",
    "        if saccade_samples.empty:\n",
    "            continue\n",
    "\n",
    "        # Distance traveled\n",
    "        distance_traveled = saccade_samples[\"speed_r\"].sum()\n",
    "        distances.append(distance_traveled)\n",
    "\n",
    "        # Speed profile\n",
    "        if speed_profile:\n",
    "            saccade_speed_profile = saccade_samples[\"speed_r\"].values\n",
    "            saccade_calib_speed_profile = saccade_speed_profile * magnitude_calib\n",
    "            speed_list.append(saccade_speed_profile)\n",
    "            speed_list_calib.append(saccade_calib_speed_profile)\n",
    "\n",
    "        # Diameter profile\n",
    "        saccade_diameter_profile = saccade_samples[\"pupil_diameter\"].values\n",
    "        diameter_list.append(saccade_diameter_profile)\n",
    "\n",
    "        # Calculate angle\n",
    "        initial_position = saccade_samples.iloc[0][[\"center_x\", \"center_y\"]]\n",
    "        endpoint = saccade_samples.iloc[-1][[\"center_x\", \"center_y\"]]\n",
    "        overall_angle = np.arctan2(\n",
    "            endpoint[\"center_y\"] - initial_position[\"center_y\"],\n",
    "            endpoint[\"center_x\"] - initial_position[\"center_x\"]\n",
    "        )\n",
    "        angles.append(overall_angle)\n",
    "\n",
    "    # Add metrics to DataFrame\n",
    "    saccade_events_df[\"magnitude_raw\"] = np.array(distances)\n",
    "    saccade_events_df[\"magnitude\"] = np.array(distances) * magnitude_calib\n",
    "    saccade_events_df[\"angle\"] = np.rad2deg(angles) % 360  # Convert radians to degrees\n",
    "    saccade_events_df[\"speed_profile\"] = speed_list\n",
    "    saccade_events_df[\"speed_profile_calib\"] = speed_list_calib\n",
    "    saccade_events_df[\"diameter_profile\"] = diameter_list\n",
    "\n",
    "    # Remove intermediate columns from df\n",
    "    df = df.drop([\"is_saccade\"], axis=1)\n",
    "\n",
    "    # Optional: Verify using Bokeh plot\n",
    "    if bokeh_verify_threshold:\n",
    "        bokeh_plotter(data_list=[df.speed_r], label_list=[\"Pupil Velocity\"], peaks=saccade_on_inds)\n",
    "\n",
    "    return df, saccade_events_df"
   ],
   "metadata": {
    "collapsed": false,
    "ExecuteTime": {
     "end_time": "2025-01-04T20:55:13.033043200Z",
     "start_time": "2025-01-04T20:55:13.024143500Z"
    }
   },
   "id": "d967de8ac9e9db74",
   "execution_count": 4
  },
  {
   "cell_type": "code",
   "outputs": [
    {
     "name": "stderr",
     "output_type": "stream",
     "text": [
      " 11%|█▏        | 68/602 [00:00<00:00, 677.90it/s]"
     ]
    },
    {
     "name": "stdout",
     "output_type": "stream",
     "text": [
      "PV_62, block 023, on 2023-04-27_10-52-42\n"
     ]
    },
    {
     "name": "stderr",
     "output_type": "stream",
     "text": [
      "100%|██████████| 602/602 [00:00<00:00, 704.72it/s]\n",
      "100%|██████████| 599/599 [00:00<00:00, 722.71it/s]\n",
      " 23%|██▎       | 138/602 [00:00<00:00, 692.55it/s]"
     ]
    },
    {
     "name": "stdout",
     "output_type": "stream",
     "text": [
      "PV_62, block 024, on 2023-04-27_11-22-56\n"
     ]
    },
    {
     "name": "stderr",
     "output_type": "stream",
     "text": [
      "100%|██████████| 602/602 [00:00<00:00, 706.81it/s]\n",
      "100%|██████████| 599/599 [00:00<00:00, 726.41it/s]\n",
      " 11%|█         | 66/598 [00:00<00:00, 658.10it/s]"
     ]
    },
    {
     "name": "stdout",
     "output_type": "stream",
     "text": [
      "PV_62, block 026, on 2023-04-27_12-21-41\n"
     ]
    },
    {
     "name": "stderr",
     "output_type": "stream",
     "text": [
      "100%|██████████| 598/598 [00:00<00:00, 712.01it/s]\n",
      "100%|██████████| 579/579 [00:00<00:00, 668.42it/s]\n",
      "  6%|▌         | 63/1126 [00:00<00:01, 628.68it/s]"
     ]
    },
    {
     "name": "stdout",
     "output_type": "stream",
     "text": [
      "PV_62, block 038, on 2023-05-01_13-57-45\n"
     ]
    },
    {
     "name": "stderr",
     "output_type": "stream",
     "text": [
      "100%|██████████| 1126/1126 [00:01<00:00, 706.45it/s]\n",
      "100%|██████████| 1123/1123 [00:01<00:00, 694.02it/s]\n",
      "  6%|▌         | 67/1209 [00:00<00:01, 665.66it/s]"
     ]
    },
    {
     "name": "stdout",
     "output_type": "stream",
     "text": [
      "PV_126, block 007, on PV126_Trial16_wake3_2024-07-18_12-49-12\n"
     ]
    },
    {
     "name": "stderr",
     "output_type": "stream",
     "text": [
      "100%|██████████| 1209/1209 [00:01<00:00, 712.28it/s]\n",
      "100%|██████████| 1180/1180 [00:01<00:00, 714.24it/s]\n",
      " 16%|█▋        | 60/366 [00:00<00:00, 597.68it/s]"
     ]
    },
    {
     "name": "stdout",
     "output_type": "stream",
     "text": [
      "PV_126, block 008, on PV126_Trial16_wake4_2024-07-18_13-24-41\n"
     ]
    },
    {
     "name": "stderr",
     "output_type": "stream",
     "text": [
      "100%|██████████| 366/366 [00:00<00:00, 669.34it/s]\n",
      "100%|██████████| 399/399 [00:00<00:00, 680.88it/s]\n",
      " 18%|█▊        | 66/359 [00:00<00:00, 659.20it/s]"
     ]
    },
    {
     "name": "stdout",
     "output_type": "stream",
     "text": [
      "PV_126, block 009, on PV126_Trial18_wake5_2024-07-18_14-39-15\n"
     ]
    },
    {
     "name": "stderr",
     "output_type": "stream",
     "text": [
      "100%|██████████| 359/359 [00:00<00:00, 693.21it/s]\n",
      "100%|██████████| 434/434 [00:00<00:00, 672.63it/s]\n",
      " 27%|██▋       | 65/245 [00:00<00:00, 647.70it/s]"
     ]
    },
    {
     "name": "stdout",
     "output_type": "stream",
     "text": [
      "PV_126, block 010, on PV126_Trial19_wake6_2024-07-18_15-24-57\n"
     ]
    },
    {
     "name": "stderr",
     "output_type": "stream",
     "text": [
      "100%|██████████| 245/245 [00:00<00:00, 690.96it/s]\n",
      "100%|██████████| 288/288 [00:00<00:00, 666.57it/s]\n",
      "  7%|▋         | 67/1009 [00:00<00:01, 667.31it/s]"
     ]
    },
    {
     "name": "stdout",
     "output_type": "stream",
     "text": [
      "PV_126, block 011, on PV126_Trial115_eyeTracking_w7\n"
     ]
    },
    {
     "name": "stderr",
     "output_type": "stream",
     "text": [
      "100%|██████████| 1009/1009 [00:01<00:00, 716.31it/s]\n",
      "100%|██████████| 1006/1006 [00:01<00:00, 729.20it/s]\n",
      "100%|██████████| 115/115 [00:00<00:00, 740.40it/s]\n",
      "  0%|          | 0/129 [00:00<?, ?it/s]"
     ]
    },
    {
     "name": "stdout",
     "output_type": "stream",
     "text": [
      "PV_126, block 012, on PV126_Trial116_eyeTracking_h8\n"
     ]
    },
    {
     "name": "stderr",
     "output_type": "stream",
     "text": [
      "100%|██████████| 129/129 [00:00<00:00, 734.19it/s]\n",
      "100%|██████████| 84/84 [00:00<00:00, 770.04it/s]\n",
      "  0%|          | 0/77 [00:00<?, ?it/s]"
     ]
    },
    {
     "name": "stdout",
     "output_type": "stream",
     "text": [
      "PV_126, block 013, on PV126_Trial116_eyeTracking_h9\n"
     ]
    },
    {
     "name": "stderr",
     "output_type": "stream",
     "text": [
      "100%|██████████| 77/77 [00:00<00:00, 755.68it/s]\n",
      " 10%|█         | 71/700 [00:00<00:00, 702.30it/s]"
     ]
    },
    {
     "name": "stdout",
     "output_type": "stream",
     "text": [
      "PV_24, block 034, on PV24_30_12_21_EE34_2021-12-30_12-30-47\n"
     ]
    },
    {
     "name": "stderr",
     "output_type": "stream",
     "text": [
      "100%|██████████| 700/700 [00:00<00:00, 724.11it/s]\n",
      "100%|██████████| 621/621 [00:00<00:00, 711.60it/s]\n",
      " 22%|██▏       | 148/672 [00:00<00:00, 740.05it/s]"
     ]
    },
    {
     "name": "stdout",
     "output_type": "stream",
     "text": [
      "PV_57, block 007, on pv_57_day2_03_2024-11-25_15-28-31\n"
     ]
    },
    {
     "name": "stderr",
     "output_type": "stream",
     "text": [
      "100%|██████████| 672/672 [00:00<00:00, 726.94it/s]\n",
      "100%|██████████| 722/722 [00:00<00:00, 723.88it/s]\n",
      " 11%|█         | 71/638 [00:00<00:00, 707.48it/s]"
     ]
    },
    {
     "name": "stdout",
     "output_type": "stream",
     "text": [
      "PV_57, block 008, on pv_57_day2_05_2024-11-25_16-07-18\n"
     ]
    },
    {
     "name": "stderr",
     "output_type": "stream",
     "text": [
      "100%|██████████| 638/638 [00:00<00:00, 720.45it/s]\n",
      "100%|██████████| 599/599 [00:00<00:00, 728.59it/s]\n",
      " 14%|█▍        | 71/502 [00:00<00:00, 702.17it/s]"
     ]
    },
    {
     "name": "stdout",
     "output_type": "stream",
     "text": [
      "PV_57, block 009, on pv_57_day2_06_2024-11-25_16-25-35\n"
     ]
    },
    {
     "name": "stderr",
     "output_type": "stream",
     "text": [
      "100%|██████████| 502/502 [00:00<00:00, 714.91it/s]\n",
      "100%|██████████| 556/556 [00:00<00:00, 688.34it/s]\n",
      " 20%|██        | 71/352 [00:00<00:00, 698.48it/s]"
     ]
    },
    {
     "name": "stdout",
     "output_type": "stream",
     "text": [
      "PV_57, block 010, on PV_57_hunter__2024-12-01_15-37-36\n"
     ]
    },
    {
     "name": "stderr",
     "output_type": "stream",
     "text": [
      "100%|██████████| 352/352 [00:00<00:00, 726.59it/s]\n",
      "100%|██████████| 403/403 [00:00<00:00, 726.52it/s]\n",
      "  7%|▋         | 70/954 [00:00<00:01, 696.53it/s]"
     ]
    },
    {
     "name": "stdout",
     "output_type": "stream",
     "text": [
      "PV_57, block 011, on PV_57_hunter_2_2024-12-01_15-43-28\n",
      "Detected unmatched final saccade start index. Truncating last saccade start index.\n"
     ]
    },
    {
     "name": "stderr",
     "output_type": "stream",
     "text": [
      "100%|██████████| 954/954 [00:01<00:00, 706.00it/s]\n",
      "100%|██████████| 927/927 [00:01<00:00, 737.58it/s]\n",
      " 12%|█▏        | 73/589 [00:00<00:00, 729.99it/s]"
     ]
    },
    {
     "name": "stdout",
     "output_type": "stream",
     "text": [
      "PV_57, block 012, on PV_57_hunter_2_2024-12-01_16-08-39\n"
     ]
    },
    {
     "name": "stderr",
     "output_type": "stream",
     "text": [
      "100%|██████████| 589/589 [00:00<00:00, 733.81it/s]\n",
      "100%|██████████| 474/474 [00:00<00:00, 734.46it/s]\n",
      " 10%|▉         | 72/737 [00:00<00:00, 718.81it/s]"
     ]
    },
    {
     "name": "stdout",
     "output_type": "stream",
     "text": [
      "PV_57, block 013, on PV_57_hunter_2_2024-12-01_16-34-43\n"
     ]
    },
    {
     "name": "stderr",
     "output_type": "stream",
     "text": [
      "100%|██████████| 737/737 [00:01<00:00, 735.34it/s]\n",
      "100%|██████████| 725/725 [00:00<00:00, 746.08it/s]\n"
     ]
    }
   ],
   "source": [
    "# saccade detection and annotation: \n",
    "for block in block_collection:\n",
    "    print(block)\n",
    "    block.left_eye_data, block.l_saccade_df = create_saccade_events_df_new(block.left_eye_data,\n",
    "                                                               speed_threshold=4,\n",
    "                                                               bokeh_verify_threshold=False,\n",
    "                                                               magnitude_calib=block.L_pix_size)\n",
    "    block.right_eye_data, block.r_saccade_df = create_saccade_events_df_new(block.right_eye_data,\n",
    "                                                               speed_threshold=4,\n",
    "                                                               bokeh_verify_threshold=False,\n",
    "                                                               magnitude_calib=block.R_pix_size)\n"
   ],
   "metadata": {
    "collapsed": false,
    "ExecuteTime": {
     "end_time": "2025-01-04T20:55:45.715165600Z",
     "start_time": "2025-01-04T20:55:13.034307200Z"
    }
   },
   "id": "30f04572474f0a7a",
   "execution_count": 5
  },
  {
   "cell_type": "code",
   "outputs": [
    {
     "name": "stdout",
     "output_type": "stream",
     "text": [
      "path to mat file is Z:\\Nimrod\\experiments\\PV_62\\2023_04_27\\block_023\\oe_files\\2023-04-27_10-52-42\\Record Node 108\\analysis\\recNames=Block0023,Animal=PV_62\\lizMov.mat\n",
      "liz_mov_df created for PV_62, block 023, on 2023-04-27_10-52-42\n",
      "path to mat file is Z:\\Nimrod\\experiments\\PV_62\\2023_04_27\\block_024\\oe_files\\2023-04-27_11-22-56\\Record Node 108\\analysis\\recNames=Block0024,Animal=PV_62\\lizMov.mat\n",
      "liz_mov_df created for PV_62, block 024, on 2023-04-27_11-22-56\n",
      "path to mat file is Z:\\Nimrod\\experiments\\PV_62\\2023_04_27\\block_026\\oe_files\\2023-04-27_12-21-41\\Record Node 108\\analysis\\recNames=Block0026,Animal=PV_62\\lizMov.mat\n",
      "liz_mov_df created for PV_62, block 026, on 2023-04-27_12-21-41\n",
      "path to mat file is Z:\\Nimrod\\experiments\\PV_62\\2023_05_01\\block_038\\oe_files\\2023-05-01_13-57-45\\Record Node 108\\analysis\\recNames=Block0038,Animal=PV_62\\lizMov.mat\n",
      "liz_mov_df created for PV_62, block 038, on 2023-05-01_13-57-45\n",
      "path to mat file is Z:\\Nimrod\\experiments\\PV_126\\2024_07_18\\block_007\\oe_files\\PV126_Trial16_wake3_2024-07-18_12-49-12\\Record Node 102\\analysis\\recNames=block_007,Animal=PV_126\\lizMov.mat\n",
      "liz_mov_df created for PV_126, block 007, on PV126_Trial16_wake3_2024-07-18_12-49-12\n",
      "path to mat file is Z:\\Nimrod\\experiments\\PV_126\\2024_07_18\\block_008\\oe_files\\PV126_Trial16_wake4_2024-07-18_13-24-41\\Record Node 102\\analysis\\recNames=block_008,Animal=PV_126\\lizMov.mat\n",
      "liz_mov_df created for PV_126, block 008, on PV126_Trial16_wake4_2024-07-18_13-24-41\n",
      "path to mat file is Z:\\Nimrod\\experiments\\PV_126\\2024_07_18\\block_009\\oe_files\\PV126_Trial18_wake5_2024-07-18_14-39-15\\Record Node 102\\analysis\\recNames=block_009,Animal=PV_126\\lizMov.mat\n",
      "liz_mov_df created for PV_126, block 009, on PV126_Trial18_wake5_2024-07-18_14-39-15\n",
      "path to mat file is Z:\\Nimrod\\experiments\\PV_126\\2024_07_18\\block_010\\oe_files\\PV126_Trial19_wake6_2024-07-18_15-24-57\\Record Node 102\\analysis\\recNames=block_010,Animal=PV_126\\lizMov.mat\n",
      "liz_mov_df created for PV_126, block 010, on PV126_Trial19_wake6_2024-07-18_15-24-57\n",
      "path to mat file is Z:\\Nimrod\\experiments\\PV_126\\2024_08_13\\block_011\\oe_files\\PV126_Trial115_eyeTracking_w7\\Record Node 102\\analysis\\recNames=block_011,Animal=PV_126\\lizMov.mat\n",
      "liz_mov_df created for PV_126, block 011, on PV126_Trial115_eyeTracking_w7\n",
      "path to mat file is Z:\\Nimrod\\experiments\\PV_126\\2024_08_13\\block_012\\oe_files\\PV126_Trial116_eyeTracking_h8\\Record Node 102\\analysis\\recNames=block_012,Animal=PV_126\\lizMov.mat\n",
      "liz_mov_df created for PV_126, block 012, on PV126_Trial116_eyeTracking_h8\n",
      "path to mat file is Z:\\Nimrod\\experiments\\PV_126\\2024_08_13\\block_013\\oe_files\\PV126_Trial116_eyeTracking_h9\\Record Node 102\\analysis\\recNames=block_013,Animal=PV_126\\lizMov.mat\n",
      "liz_mov_df created for PV_126, block 013, on PV126_Trial116_eyeTracking_h9\n",
      "path to mat file is Z:\\Nimrod\\experiments\\PV_24\\2021_12_30\\block_034\\oe_files\\PV24_30_12_21_EE34_2021-12-30_12-30-47\\Record Node 101\\analysis\\Animal=PV_24,recNames=Block0034\\lizMov.mat\n"
     ]
    },
    {
     "ename": "OSError",
     "evalue": "Unable to open file (file signature not found)",
     "output_type": "error",
     "traceback": [
      "\u001B[1;31m---------------------------------------------------------------------------\u001B[0m",
      "\u001B[1;31mOSError\u001B[0m                                   Traceback (most recent call last)",
      "\u001B[1;32m<ipython-input-10-68b4a7bd23a1>\u001B[0m in \u001B[0;36m<module>\u001B[1;34m\u001B[0m\n\u001B[0;32m     27\u001B[0m \u001B[1;33m\u001B[0m\u001B[0m\n\u001B[0;32m     28\u001B[0m \u001B[1;32mfor\u001B[0m \u001B[0mblock\u001B[0m \u001B[1;32min\u001B[0m \u001B[0mblock_collection\u001B[0m\u001B[1;33m:\u001B[0m\u001B[1;33m\u001B[0m\u001B[1;33m\u001B[0m\u001B[0m\n\u001B[1;32m---> 29\u001B[1;33m     \u001B[0mblock_get_lizard_movement\u001B[0m\u001B[1;33m(\u001B[0m\u001B[0mblock\u001B[0m\u001B[1;33m)\u001B[0m\u001B[1;33m\u001B[0m\u001B[1;33m\u001B[0m\u001B[0m\n\u001B[0m\u001B[0;32m     30\u001B[0m \u001B[1;33m\u001B[0m\u001B[0m\n\u001B[0;32m     31\u001B[0m \u001B[1;31m# this cell now labels the saccades as with/without head movements\u001B[0m\u001B[1;33m\u001B[0m\u001B[1;33m\u001B[0m\u001B[1;33m\u001B[0m\u001B[0m\n",
      "\u001B[1;32m<ipython-input-10-68b4a7bd23a1>\u001B[0m in \u001B[0;36mblock_get_lizard_movement\u001B[1;34m(block)\u001B[0m\n\u001B[0;32m     12\u001B[0m     \u001B[1;31m# read mat file\u001B[0m\u001B[1;33m\u001B[0m\u001B[1;33m\u001B[0m\u001B[1;33m\u001B[0m\u001B[0m\n\u001B[0;32m     13\u001B[0m     \u001B[1;32mtry\u001B[0m\u001B[1;33m:\u001B[0m\u001B[1;33m\u001B[0m\u001B[1;33m\u001B[0m\u001B[0m\n\u001B[1;32m---> 14\u001B[1;33m         \u001B[0mmat_data\u001B[0m \u001B[1;33m=\u001B[0m \u001B[0mh5py\u001B[0m\u001B[1;33m.\u001B[0m\u001B[0mFile\u001B[0m\u001B[1;33m(\u001B[0m\u001B[0mstr\u001B[0m\u001B[1;33m(\u001B[0m\u001B[0mmat_path\u001B[0m\u001B[1;33m)\u001B[0m\u001B[1;33m,\u001B[0m \u001B[1;34m'r'\u001B[0m\u001B[1;33m)\u001B[0m\u001B[1;33m\u001B[0m\u001B[1;33m\u001B[0m\u001B[0m\n\u001B[0m\u001B[0;32m     15\u001B[0m         mat_dict = {'t_mov_ms': mat_data['t_mov_ms'][:],\n\u001B[0;32m     16\u001B[0m                     'movAll': mat_data['movAll'][:]}\n",
      "\u001B[1;32m~\\AppData\\Local\\Programs\\Python\\Python38\\lib\\site-packages\\h5py\\_hl\\files.py\u001B[0m in \u001B[0;36m__init__\u001B[1;34m(self, name, mode, driver, libver, userblock_size, swmr, rdcc_nslots, rdcc_nbytes, rdcc_w0, track_order, fs_strategy, fs_persist, fs_threshold, **kwds)\u001B[0m\n\u001B[0;32m    442\u001B[0m             \u001B[1;32mwith\u001B[0m \u001B[0mphil\u001B[0m\u001B[1;33m:\u001B[0m\u001B[1;33m\u001B[0m\u001B[1;33m\u001B[0m\u001B[0m\n\u001B[0;32m    443\u001B[0m                 \u001B[0mfapl\u001B[0m \u001B[1;33m=\u001B[0m \u001B[0mmake_fapl\u001B[0m\u001B[1;33m(\u001B[0m\u001B[0mdriver\u001B[0m\u001B[1;33m,\u001B[0m \u001B[0mlibver\u001B[0m\u001B[1;33m,\u001B[0m \u001B[0mrdcc_nslots\u001B[0m\u001B[1;33m,\u001B[0m \u001B[0mrdcc_nbytes\u001B[0m\u001B[1;33m,\u001B[0m \u001B[0mrdcc_w0\u001B[0m\u001B[1;33m,\u001B[0m \u001B[1;33m**\u001B[0m\u001B[0mkwds\u001B[0m\u001B[1;33m)\u001B[0m\u001B[1;33m\u001B[0m\u001B[1;33m\u001B[0m\u001B[0m\n\u001B[1;32m--> 444\u001B[1;33m                 fid = make_fid(name, mode, userblock_size,\n\u001B[0m\u001B[0;32m    445\u001B[0m                                fapl, fcpl=make_fcpl(track_order=track_order, fs_strategy=fs_strategy,\n\u001B[0;32m    446\u001B[0m                                fs_persist=fs_persist, fs_threshold=fs_threshold),\n",
      "\u001B[1;32m~\\AppData\\Local\\Programs\\Python\\Python38\\lib\\site-packages\\h5py\\_hl\\files.py\u001B[0m in \u001B[0;36mmake_fid\u001B[1;34m(name, mode, userblock_size, fapl, fcpl, swmr)\u001B[0m\n\u001B[0;32m    197\u001B[0m         \u001B[1;32mif\u001B[0m \u001B[0mswmr\u001B[0m \u001B[1;32mand\u001B[0m \u001B[0mswmr_support\u001B[0m\u001B[1;33m:\u001B[0m\u001B[1;33m\u001B[0m\u001B[1;33m\u001B[0m\u001B[0m\n\u001B[0;32m    198\u001B[0m             \u001B[0mflags\u001B[0m \u001B[1;33m|=\u001B[0m \u001B[0mh5f\u001B[0m\u001B[1;33m.\u001B[0m\u001B[0mACC_SWMR_READ\u001B[0m\u001B[1;33m\u001B[0m\u001B[1;33m\u001B[0m\u001B[0m\n\u001B[1;32m--> 199\u001B[1;33m         \u001B[0mfid\u001B[0m \u001B[1;33m=\u001B[0m \u001B[0mh5f\u001B[0m\u001B[1;33m.\u001B[0m\u001B[0mopen\u001B[0m\u001B[1;33m(\u001B[0m\u001B[0mname\u001B[0m\u001B[1;33m,\u001B[0m \u001B[0mflags\u001B[0m\u001B[1;33m,\u001B[0m \u001B[0mfapl\u001B[0m\u001B[1;33m=\u001B[0m\u001B[0mfapl\u001B[0m\u001B[1;33m)\u001B[0m\u001B[1;33m\u001B[0m\u001B[1;33m\u001B[0m\u001B[0m\n\u001B[0m\u001B[0;32m    200\u001B[0m     \u001B[1;32melif\u001B[0m \u001B[0mmode\u001B[0m \u001B[1;33m==\u001B[0m \u001B[1;34m'r+'\u001B[0m\u001B[1;33m:\u001B[0m\u001B[1;33m\u001B[0m\u001B[1;33m\u001B[0m\u001B[0m\n\u001B[0;32m    201\u001B[0m         \u001B[0mfid\u001B[0m \u001B[1;33m=\u001B[0m \u001B[0mh5f\u001B[0m\u001B[1;33m.\u001B[0m\u001B[0mopen\u001B[0m\u001B[1;33m(\u001B[0m\u001B[0mname\u001B[0m\u001B[1;33m,\u001B[0m \u001B[0mh5f\u001B[0m\u001B[1;33m.\u001B[0m\u001B[0mACC_RDWR\u001B[0m\u001B[1;33m,\u001B[0m \u001B[0mfapl\u001B[0m\u001B[1;33m=\u001B[0m\u001B[0mfapl\u001B[0m\u001B[1;33m)\u001B[0m\u001B[1;33m\u001B[0m\u001B[1;33m\u001B[0m\u001B[0m\n",
      "\u001B[1;32mh5py\\_objects.pyx\u001B[0m in \u001B[0;36mh5py._objects.with_phil.wrapper\u001B[1;34m()\u001B[0m\n",
      "\u001B[1;32mh5py\\_objects.pyx\u001B[0m in \u001B[0;36mh5py._objects.with_phil.wrapper\u001B[1;34m()\u001B[0m\n",
      "\u001B[1;32mh5py\\h5f.pyx\u001B[0m in \u001B[0;36mh5py.h5f.open\u001B[1;34m()\u001B[0m\n",
      "\u001B[1;31mOSError\u001B[0m: Unable to open file (file signature not found)"
     ]
    }
   ],
   "source": [
    "### over here, I get the lizard movements binary from mark's analysis\n",
    "import os\n",
    "def block_get_lizard_movement(block):\n",
    "    # collect accelerometer data\n",
    "    # path definition\n",
    "    p = block.oe_path / 'analysis'\n",
    "    analysis_list = os.listdir(p)\n",
    "    correct_analysis = [i for i in analysis_list if block.animal_call in i][0]\n",
    "    p = p / str(correct_analysis)\n",
    "    mat_path = p / 'lizMov.mat'\n",
    "    print(f'path to mat file is {mat_path}')\n",
    "    # read mat file\n",
    "    try:\n",
    "        mat_data = h5py.File(str(mat_path), 'r')\n",
    "        mat_dict = {'t_mov_ms': mat_data['t_mov_ms'][:],\n",
    "                    'movAll': mat_data['movAll'][:]}\n",
    "        \n",
    "        acc_df = pd.DataFrame(data=np.array([mat_dict['t_mov_ms'][:, 0], mat_dict['movAll'][:, 0]]).T,\n",
    "                              columns=['t_mov_ms', 'movAll'])\n",
    "        mat_data.close()\n",
    "        block.liz_mov_df = acc_df\n",
    "        print(f'liz_mov_df created for {block}')\n",
    "    except FileNotFoundError:\n",
    "        print('mat file does not exist - run the matlab getLizMovement function')\n",
    "        \n",
    "    return\n",
    "\n",
    "for block in block_collection:\n",
    "    block_get_lizard_movement(block)\n",
    "\n",
    "# this cell now labels the saccades as with/without head movements\n",
    "def get_head_mov_col(df, mov_times):\n",
    "    head_mov_bool = np.zeros(len(df), dtype=bool)  # Initialize array of False\n",
    "\n",
    "    for i, saccade in enumerate(df.itertuples()):\n",
    "        saccade_start = saccade.saccade_on_ms\n",
    "        saccade_end = saccade.saccade_off_ms\n",
    "        \n",
    "        overlapping_mov_times = mov_times[np.logical_and(mov_times >= saccade_start, mov_times <= saccade_end)]\n",
    "        \n",
    "        if overlapping_mov_times.size > 0:  \n",
    "            head_mov_bool[i] = True\n",
    "\n",
    "    df['head_movement'] = head_mov_bool\n",
    "    return df\n",
    "\n",
    "def label_saccade_movements(block):\n",
    "    mov_times = block.liz_mov_df.t_mov_ms.values\n",
    "    block.l_saccade_df = get_head_mov_col(block.l_saccade_df,mov_times=mov_times)\n",
    "    block.r_saccade_df = get_head_mov_col(block.r_saccade_df,mov_times=mov_times)\n",
    "\n",
    "for block in block_collection:\n",
    "    label_saccade_movements(block)\n"
   ],
   "metadata": {
    "collapsed": false,
    "ExecuteTime": {
     "end_time": "2024-12-29T12:20:08.913928800Z",
     "start_time": "2024-12-29T12:20:08.287566600Z"
    }
   },
   "id": "8de03aa37b9b43e4",
   "execution_count": 10
  },
  {
   "cell_type": "code",
   "outputs": [],
   "source": [
    "# add annotations for a joint dataframe:\n",
    "for block in block_collection:\n",
    "    block.r_saccade_df['eye'] = 'R'\n",
    "    block.r_saccade_df['block'] = block.block_num\n",
    "    block.r_saccade_df['animal'] = block.animal_call\n",
    "    block.l_saccade_df['eye'] = 'L'\n",
    "    block.l_saccade_df['block'] = block.block_num\n",
    "    block.l_saccade_df['animal'] = block.animal_call\n",
    "    block.all_saccade_df = pd.concat([block.l_saccade_df,block.r_saccade_df])"
   ],
   "metadata": {
    "collapsed": false,
    "ExecuteTime": {
     "end_time": "2025-01-04T20:55:45.788461800Z",
     "start_time": "2025-01-04T20:55:45.715165600Z"
    }
   },
   "id": "adb6847449bc76fd",
   "execution_count": 6
  },
  {
   "cell_type": "code",
   "outputs": [],
   "source": [
    "saccade_df_list = []\n",
    "for block in block_collection:\n",
    "    saccade_df_list.append(block.all_saccade_df)\n",
    "saccade_collection = pd.concat(saccade_df_list)"
   ],
   "metadata": {
    "collapsed": false,
    "ExecuteTime": {
     "end_time": "2025-01-04T20:55:45.822886300Z",
     "start_time": "2025-01-04T20:55:45.790653200Z"
    }
   },
   "id": "bdcd78fb0386e152",
   "execution_count": 7
  },
  {
   "cell_type": "code",
   "outputs": [
    {
     "name": "stderr",
     "output_type": "stream",
     "text": [
      "577it [00:00, 7097.84it/s]\n",
      "577it [00:00, 7124.48it/s]\n",
      "0it [00:00, ?it/s]"
     ]
    },
    {
     "name": "stdout",
     "output_type": "stream",
     "text": [
      "199 568\n",
      "199 568\n"
     ]
    },
    {
     "name": "stderr",
     "output_type": "stream",
     "text": [
      "575it [00:00, 7144.94it/s]\n",
      "1034it [00:00, 8117.01it/s]\n"
     ]
    },
    {
     "name": "stdout",
     "output_type": "stream",
     "text": [
      "190 547\n"
     ]
    },
    {
     "name": "stderr",
     "output_type": "stream",
     "text": [
      "1163it [00:00, 6833.02it/s]\n",
      "341it [00:00, 7272.89it/s]\n",
      "338it [00:00, 6922.81it/s]"
     ]
    },
    {
     "name": "stdout",
     "output_type": "stream",
     "text": [
      "599 1064\n",
      "342 1110\n",
      "181 386\n"
     ]
    },
    {
     "name": "stderr",
     "output_type": "stream",
     "text": [
      "\n",
      "230it [00:00, 6976.15it/s]\n",
      "0it [00:00, ?it/s]"
     ]
    },
    {
     "name": "stdout",
     "output_type": "stream",
     "text": [
      "204 414\n",
      "129 273\n"
     ]
    },
    {
     "name": "stderr",
     "output_type": "stream",
     "text": [
      "961it [00:00, 5070.82it/s]\n",
      "107it [00:00, 6814.93it/s]\n",
      "77it [00:00, 6900.15it/s]\n",
      "687it [00:00, 8424.81it/s]"
     ]
    },
    {
     "name": "stdout",
     "output_type": "stream",
     "text": [
      "366 988\n",
      "50 123\n",
      "19 75\n",
      "got them all\n"
     ]
    },
    {
     "name": "stderr",
     "output_type": "stream",
     "text": [
      "\n",
      "669it [00:00, 8124.64it/s]\n",
      "0it [00:00, ?it/s]"
     ]
    },
    {
     "name": "stdout",
     "output_type": "stream",
     "text": [
      "313 598\n",
      "322 648\n"
     ]
    },
    {
     "name": "stderr",
     "output_type": "stream",
     "text": [
      "630it [00:00, 7345.79it/s]\n",
      "489it [00:00, 7956.21it/s]\n",
      "348it [00:00, 7058.11it/s]"
     ]
    },
    {
     "name": "stdout",
     "output_type": "stream",
     "text": [
      "209 563\n",
      "271 510\n"
     ]
    },
    {
     "name": "stderr",
     "output_type": "stream",
     "text": [
      "\n",
      "926it [00:00, 7381.94it/s]\n"
     ]
    },
    {
     "name": "stdout",
     "output_type": "stream",
     "text": [
      "157 390\n"
     ]
    },
    {
     "name": "stderr",
     "output_type": "stream",
     "text": [
      "581it [00:00, 7465.35it/s]\n",
      "0it [00:00, ?it/s]"
     ]
    },
    {
     "name": "stdout",
     "output_type": "stream",
     "text": [
      "337 868\n",
      "144 463\n"
     ]
    },
    {
     "name": "stderr",
     "output_type": "stream",
     "text": [
      "706it [00:00, 6836.26it/s]\n"
     ]
    },
    {
     "name": "stdout",
     "output_type": "stream",
     "text": [
      "280 694\n"
     ]
    }
   ],
   "source": [
    "def get_closest_diff_ind(timestamp, timeseries):\n",
    "    \"\"\"\n",
    "    This function extracts a frame from a series so that it is as close as possible to a given timestamp\n",
    "    :param timestamp: The time to match a frame to\n",
    "    :param timeseries: The time frames series to look at for a match\n",
    "    :param report_acc: if set to 1, will report the accuracy of the match\n",
    "    :return: index_of_lowest_diff , accuracy of match (if requested)\n",
    "    \"\"\"\n",
    "    array = np.abs(timeseries - timestamp)\n",
    "    index_of_lowest_diff = np.argmin(array)\n",
    "    lowest_diff_val = timeseries[index_of_lowest_diff]\n",
    "    return index_of_lowest_diff, lowest_diff_val\n",
    "\n",
    "def find_synced_saccades(df, diff_threshold=680):\n",
    "    synced_saccades = []\n",
    "    non_synced_saccades = []\n",
    "    l_df = df.query('eye == \"L\"')\n",
    "    r_df = df.query('eye == \"R\"')\n",
    "    for i, row in tqdm.tqdm(l_df.iterrows()):\n",
    "        l_timestamp = row['saccade_start_timestamp']\n",
    "        ind_min_diff, r_timestamp = get_closest_diff_ind(l_timestamp, r_df['saccade_start_timestamp'].values)\n",
    "        #print(i,ind_lowest_diff)\n",
    "        time_diff = np.abs(l_timestamp - r_timestamp)\n",
    "        if time_diff < diff_threshold:\n",
    "            synced_saccades.append((row, r_df.iloc[ind_min_diff]))  # Collect synchronized rows\n",
    "        else:\n",
    "            non_synced_saccades.append(row)  # Collect non-synchronized rows\n",
    "    # Create DataFrame with multi-index\n",
    "    multi_index = pd.MultiIndex.from_tuples([(i, 'L') for i in range(len(synced_saccades))] + [(i, 'R') for i in range(len(synced_saccades))], names=['Main', 'Sub'])\n",
    "    synced_df = pd.DataFrame(index=multi_index, columns=df.columns)\n",
    "    # Populate DataFrame\n",
    "    for idx, (l_row, r_row) in enumerate(synced_saccades):\n",
    "        synced_df.loc[(idx, 'L')] = l_row\n",
    "        synced_df.loc[(idx, 'R')] = r_row\n",
    "    r_non_synced_leftovers = r_df[~r_df['saccade_start_timestamp'].isin(synced_df.query('eye == \"R\"')['saccade_start_timestamp'].values)]\n",
    "    print(len(r_non_synced_leftovers),len(r_df))\n",
    "    # Create DataFrame for non-synced saccades\n",
    "    non_synced_df = pd.DataFrame(non_synced_saccades, columns=df.columns)\n",
    "    non_synced_df = pd.concat([non_synced_df,r_non_synced_leftovers])\n",
    "    \n",
    "    return synced_df, non_synced_df\n",
    "\n",
    "synced_df_list = []\n",
    "non_synced_df_list = []\n",
    "for saccade_df in saccade_df_list:\n",
    "    # Find synced saccades:\n",
    "    synced_df, non_synced_df = find_synced_saccades(saccade_df.dropna(), diff_threshold=680)\n",
    "    if len(non_synced_df.dropna()) + len(synced_df.dropna()) == len(saccade_df.dropna()):\n",
    "        print('got them all')\n",
    "        \n",
    "    synced_df_list.append(synced_df)\n",
    "    non_synced_df_list.append(non_synced_df)\n"
   ],
   "metadata": {
    "collapsed": false,
    "ExecuteTime": {
     "end_time": "2025-01-04T20:55:48.814752300Z",
     "start_time": "2025-01-04T20:55:45.830269100Z"
    }
   },
   "id": "22b87d838cd123df",
   "execution_count": 8
  },
  {
   "cell_type": "code",
   "outputs": [],
   "source": [
    "def combine_synced_dataframes(dataframes):\n",
    "    combined_dfs = []\n",
    "    start_index = 0\n",
    "    for df in dataframes:\n",
    "        num_rows = len(df) // 2  # Assuming each dataframe contains pairs of rows\n",
    "        main_index = pd.MultiIndex.from_tuples([(i + start_index, 'L') for i in range(num_rows)] + [(i + start_index, 'R') for i in range(num_rows)], names=['Main', 'Sub'])\n",
    "        df.index = main_index\n",
    "        combined_dfs.append(df)\n",
    "        start_index += num_rows\n",
    "    combined_df = pd.concat(combined_dfs)\n",
    "    combined_df.reset_index(inplace=True)\n",
    "    return combined_df\n",
    "\n",
    "synced_saccade_collection = combine_synced_dataframes(synced_df_list)\n",
    "non_synced_saccade_collection = pd.concat(non_synced_df_list)\n"
   ],
   "metadata": {
    "collapsed": false,
    "ExecuteTime": {
     "end_time": "2025-01-04T20:55:48.857836600Z",
     "start_time": "2025-01-04T20:55:48.815917500Z"
    }
   },
   "id": "2dceb75a25f93c6e",
   "execution_count": 9
  },
  {
   "cell_type": "code",
   "outputs": [
    {
     "name": "stdout",
     "output_type": "stream",
     "text": [
      "Exported plot and data to: Z:\\Nimrod\\Paper_Figures\\2024_Personalized_headstage_eye_tracking\\Figure_3\\materials\\average_saccade_amplitude_histogram\\saccade_amplitude_averaged_histogram_2025_01_04_23_03_37\n"
     ]
    },
    {
     "data": {
      "text/plain": "<Figure size 750x510 with 1 Axes>",
      "image/png": "[encoded data removed]"
     },
     "metadata": {},
     "output_type": "display_data"
    }
   ],
   "source": [
    "def plot_averaged_saccade_amplitude_distribution(\n",
    "    synced_saccade_collection, non_synced_saccade_collection, figure_size=(2.5, 1.7), export_path=None\n",
    "):\n",
    "    \"\"\"\n",
    "    Plots the average saccade amplitude likelihood histogram across animals, showing only the outline of the distributions.\n",
    "\n",
    "    Parameters:\n",
    "    - synced_saccade_collection (pd.DataFrame): DataFrame containing synced saccade data with an 'animal' column.\n",
    "    - non_synced_saccade_collection (pd.DataFrame): DataFrame containing non-synced saccade data with an 'animal' column.\n",
    "    - figure_size (tuple): Size of the figure for the plot.\n",
    "    - export_path (str or pathlib.Path, optional): Path to save the plot and data. Defaults to None.\n",
    "    \"\"\"\n",
    "    # Define bins\n",
    "    bins = np.linspace(0, 5, 40)\n",
    "    bin_centers = (bins[:-1] + bins[1:]) / 2  # Arithmetic mean for linear bins\n",
    "\n",
    "    # Group by animals\n",
    "    animals = synced_saccade_collection['animal'].unique()\n",
    "    num_animals = len(animals)\n",
    "\n",
    "    # Store normalized histograms for synced and non-synced data\n",
    "    synced_likelihoods = []\n",
    "    non_synced_likelihoods = []\n",
    "\n",
    "    for animal in animals:\n",
    "        # Filter data for this animal\n",
    "        synced_data = synced_saccade_collection.query(\"animal == @animal\")['magnitude'].values\n",
    "        non_synced_data = non_synced_saccade_collection.query(\"animal == @animal\")['magnitude'].values\n",
    "\n",
    "        # Calculate histograms (normalized to probabilities)\n",
    "        synced_hist, _ = np.histogram(synced_data, bins=bins)\n",
    "        non_synced_hist, _ = np.histogram(non_synced_data, bins=bins)\n",
    "\n",
    "        synced_hist = synced_hist / synced_hist.sum() if synced_hist.sum() > 0 else synced_hist\n",
    "        non_synced_hist = non_synced_hist / non_synced_hist.sum() if non_synced_hist.sum() > 0 else non_synced_hist\n",
    "\n",
    "        synced_likelihoods.append(synced_hist)\n",
    "        non_synced_likelihoods.append(non_synced_hist)\n",
    "\n",
    "    # Convert to arrays for calculations\n",
    "    synced_likelihoods = np.array(synced_likelihoods)\n",
    "    non_synced_likelihoods = np.array(non_synced_likelihoods)\n",
    "\n",
    "    # Calculate mean and SEM\n",
    "    synced_mean = synced_likelihoods.mean(axis=0)\n",
    "    synced_sem = synced_likelihoods.std(axis=0) / np.sqrt(num_animals)\n",
    "\n",
    "    non_synced_mean = non_synced_likelihoods.mean(axis=0)\n",
    "    non_synced_sem = non_synced_likelihoods.std(axis=0) / np.sqrt(num_animals)\n",
    "\n",
    "    # Plot averaged histograms\n",
    "    fig, ax = plt.subplots(figsize=figure_size, dpi=300)\n",
    "\n",
    "    # Plot outlines for synced data\n",
    "    ax.plot(\n",
    "        bin_centers,\n",
    "        synced_mean,\n",
    "        color='green',\n",
    "        linestyle='-',\n",
    "        linewidth=1.5,\n",
    "        label='Synchronized'\n",
    "    )\n",
    "    ax.fill_between(\n",
    "        bin_centers,\n",
    "        synced_mean - synced_sem,\n",
    "        synced_mean + synced_sem,\n",
    "        color='green',\n",
    "        alpha=0.3\n",
    "    )\n",
    "\n",
    "    # Plot outlines for non-synced data\n",
    "    ax.plot(\n",
    "        bin_centers,\n",
    "        non_synced_mean,\n",
    "        color='blue',\n",
    "        linestyle='-',\n",
    "        linewidth=1.5,\n",
    "        label='Monocular'\n",
    "    )\n",
    "    ax.fill_between(\n",
    "        bin_centers,\n",
    "        non_synced_mean - non_synced_sem,\n",
    "        non_synced_mean + non_synced_sem,\n",
    "        color='blue',\n",
    "        alpha=0.3\n",
    "    )\n",
    "\n",
    "    # Customize the plot\n",
    "    ax.set_title('Average Saccade Amplitude Distribution', fontsize=12)\n",
    "    ax.set_xlabel('Saccade Amplitude [mm]', fontsize=10)\n",
    "    ax.set_ylabel('Probability', fontsize=10)\n",
    "    ax.legend(fontsize=8)\n",
    "    ax.spines['top'].set_visible(False)\n",
    "    ax.spines['right'].set_visible(False)\n",
    "    ax.tick_params(axis='both', which='major', labelsize=8)\n",
    "    ax.set_xlim(left=0)\n",
    "    ax.set_ylim(bottom=0)\n",
    "\n",
    "    # Handle export\n",
    "    if export_path is not None:\n",
    "        timestamp = datetime.datetime.now().strftime(\"%Y_%m_%d_%H_%M_%S\")\n",
    "        full_export_path = os.path.join(export_path, f\"saccade_amplitude_averaged_histogram_{timestamp}\")\n",
    "        os.makedirs(full_export_path, exist_ok=True)\n",
    "\n",
    "        # Save plot\n",
    "        pdf_file = os.path.join(full_export_path, \"saccade_amplitude_averaged_histogram.pdf\")\n",
    "        fig.savefig(pdf_file, format='pdf', bbox_inches='tight', dpi=300)\n",
    "\n",
    "        # Save data\n",
    "        data_file = os.path.join(full_export_path, \"averaged_saccade_amplitude_data.pkl\")\n",
    "        with open(data_file, 'wb') as f:\n",
    "            pickle.dump(\n",
    "                {\n",
    "                    'synced_mean': synced_mean,\n",
    "                    'synced_sem': synced_sem,\n",
    "                    'non_synced_mean': non_synced_mean,\n",
    "                    'non_synced_sem': non_synced_sem,\n",
    "                    'bins': bins,\n",
    "                },\n",
    "                f\n",
    "            )\n",
    "\n",
    "        print(f\"Exported plot and data to: {full_export_path}\")\n",
    "\n",
    "    plt.show()\n",
    "\n",
    "\n",
    "export_path = r'Z:\\Nimrod\\Paper_Figures\\2024_Personalized_headstage_eye_tracking\\Figure_3\\materials\\average_saccade_amplitude_histogram'\n",
    "plot_averaged_saccade_amplitude_distribution(synced_saccade_collection, non_synced_saccade_collection, figure_size=(2.5, 1.7), export_path=export_path)"
   ],
   "metadata": {
    "collapsed": false,
    "ExecuteTime": {
     "end_time": "2025-01-04T21:03:37.815035100Z",
     "start_time": "2025-01-04T21:03:37.478033300Z"
    }
   },
   "id": "5b56116c4336d359",
   "execution_count": 15
  },
  {
   "cell_type": "code",
   "outputs": [
    {
     "name": "stderr",
     "output_type": "stream",
     "text": [
      "100%|██████████| 10000/10000 [00:15<00:00, 650.74it/s]\n"
     ]
    },
    {
     "name": "stdout",
     "output_type": "stream",
     "text": [
      "Observed Stat: 0.16866721145320085\n",
      "P-Value: 0.0\n"
     ]
    },
    {
     "data": {
      "text/plain": "<Figure size 450x300 with 1 Axes>",
      "image/png": "[encoded data removed]"
     },
     "metadata": {},
     "output_type": "display_data"
    }
   ],
   "source": [
    "import numpy as np\n",
    "from scipy.stats import gaussian_kde\n",
    "import matplotlib.pyplot as plt\n",
    "\n",
    "def monte_carlo_shuffle_test_amplitudes(\n",
    "    synced_saccade_collection, non_synced_saccade_collection, n_permutations=10000\n",
    "):\n",
    "    \"\"\"\n",
    "    Performs a Monte Carlo shuffle test to compare the mean amplitudes of synchronized\n",
    "    and monocular saccades.\n",
    "\n",
    "    Parameters:\n",
    "    - synced_saccade_collection (pd.DataFrame): DataFrame containing synchronized saccades.\n",
    "    - non_synced_saccade_collection (pd.DataFrame): DataFrame containing monocular saccades.\n",
    "    - n_permutations (int): Number of random shuffles.\n",
    "\n",
    "    Returns:\n",
    "    - result_dict (dict): Contains observed statistic, null distribution, and p-value.\n",
    "    \"\"\"\n",
    "    # Extract magnitudes\n",
    "    synced_amplitudes = synced_saccade_collection['magnitude'].values\n",
    "    non_synced_amplitudes = non_synced_saccade_collection['magnitude'].values\n",
    "\n",
    "    # Combine data and labels\n",
    "    all_amplitudes = np.concatenate([synced_amplitudes, non_synced_amplitudes])\n",
    "    labels = np.array([0] * len(synced_amplitudes) + [1] * len(non_synced_amplitudes))\n",
    "\n",
    "    # Observed statistic: difference in means\n",
    "    observed_stat = np.mean(synced_amplitudes) - np.mean(non_synced_amplitudes)\n",
    "\n",
    "    # Generate null distribution\n",
    "    null_distribution = []\n",
    "    for _ in tqdm.tqdm(range(n_permutations)):\n",
    "        np.random.shuffle(labels)  # Shuffle labels\n",
    "        shuffled_synced = all_amplitudes[labels == 0]\n",
    "        shuffled_non_synced = all_amplitudes[labels == 1]\n",
    "        shuffled_stat = np.mean(shuffled_synced) - np.mean(shuffled_non_synced)\n",
    "        null_distribution.append(shuffled_stat)\n",
    "\n",
    "    null_distribution = np.array(null_distribution)\n",
    "\n",
    "    # Calculate p-value\n",
    "    p_value = np.mean(np.abs(null_distribution) >= np.abs(observed_stat))\n",
    "\n",
    "    # Return results\n",
    "    return {\n",
    "        \"observed_stat\": observed_stat,\n",
    "        \"null_distribution\": null_distribution,\n",
    "        \"p_value\": p_value,\n",
    "    }\n",
    "\n",
    "def plot_null_distribution(result_dict):\n",
    "    \"\"\"\n",
    "    Visualize the null distribution and observed statistic.\n",
    "\n",
    "    Args:\n",
    "        result_dict (dict): Output from the Monte Carlo calculation function.\n",
    "                            Must contain \"observed_stat\" and \"null_distribution\".\n",
    "    \"\"\"\n",
    "    observed_stat = result_dict[\"observed_stat\"]\n",
    "    null_dist = result_dict[\"null_distribution\"]\n",
    "\n",
    "    # Create the figure\n",
    "    fig, ax = plt.subplots(figsize=(3, 2), dpi=150)\n",
    "\n",
    "    # Density estimation for the null distribution\n",
    "    kde = gaussian_kde(null_dist)\n",
    "    x_vals = np.linspace(min(null_dist), max(null_dist), 500)\n",
    "    y_vals = kde(x_vals)\n",
    "\n",
    "    # Plot shaded null distribution\n",
    "    ax.fill_between(x_vals, y_vals, color='blue', alpha=0.5, label='Shuffled Distribution')\n",
    "\n",
    "    # Mark the observed statistic\n",
    "    ax.axvline(observed_stat, color='red', linestyle='--', label=f'Observed Value: {observed_stat:.3f}')\n",
    "\n",
    "    # Customize plot aesthetics\n",
    "    ax.set_title(\"Null Distribution vs Observed Statistic\", fontsize=10)\n",
    "    ax.set_xlabel(\"Difference in Means\", fontsize=10)\n",
    "    ax.set_ylabel(\"Density\", fontsize=10)\n",
    "    ax.tick_params(axis='both', labelsize=8)\n",
    "    ax.legend(fontsize=8)\n",
    "\n",
    "    # Display plot\n",
    "    plt.tight_layout()\n",
    "    plt.show()\n",
    "\n",
    "# Example Usage\n",
    "result = monte_carlo_shuffle_test_amplitudes(\n",
    "    synced_saccade_collection=synced_saccade_collection,\n",
    "    non_synced_saccade_collection=non_synced_saccade_collection,\n",
    "    n_permutations=10000\n",
    ")\n",
    "\n",
    "print(f\"Observed Stat: {result['observed_stat']}\")\n",
    "print(f\"P-Value: {result['p_value']}\")\n",
    "plot_null_distribution(result)\n"
   ],
   "metadata": {
    "collapsed": false,
    "ExecuteTime": {
     "end_time": "2024-12-29T12:31:11.153135200Z",
     "start_time": "2024-12-29T12:30:55.588441100Z"
    }
   },
   "id": "71cea5b1db1e119f",
   "execution_count": 17
  },
  {
   "cell_type": "code",
   "outputs": [
    {
     "data": {
      "text/plain": "<Figure size 1050x600 with 1 Axes>",
      "image/png": "[encoded data removed]"
     },
     "metadata": {},
     "output_type": "display_data"
    }
   ],
   "source": [
    "from scipy.stats import poisson\n",
    "# make a histogram plot for all saccade magnitudes (L/R):\n",
    "#all_magnitudes_mm = np.hstack([block.l_saccade_df['magnitude'].values * block.L_pix_size, block.r_saccade_df['magnitude'].values * block.R_pix_size])\n",
    "all_magnitudes_mm = synced_saccade_collection['magnitude'].values\n",
    "# Create the figure and axis\n",
    "fig, ax = plt.subplots(figsize=(7, 4), dpi=150)\n",
    "\n",
    "# Plot the histogram\n",
    "ax.hist(all_magnitudes_mm,bins=np.linspace(0,5,40),log=True, color='black', edgecolor='black')\n",
    "\n",
    "# Set title and labels\n",
    "title = (f'Saccade amplitude distribution {block.animal_call} \\n'\n",
    "         f'Blocks {[b.block_num for b in block_collection]} \\n '\n",
    "         f'Overall {len(all_magnitudes_mm)} saccades')\n",
    "fig.suptitle(title, fontsize=11, y=1)\n",
    "\n",
    "ax.set_xlabel('Saccade amplitude [mm]', fontsize=13)\n",
    "ax.set_xscale('linear')\n",
    "ax.set_yscale('linear')\n",
    "ax.set_ylabel('Count', fontsize=13)\n",
    "\n",
    "# Adjust tick label sizes\n",
    "ax.tick_params(axis='both', which='major', labelsize=13)\n",
    "\n",
    "# Set white background and black text\n",
    "fig.patch.set_facecolor('white')\n",
    "ax.set_facecolor('white')\n",
    "#ax.set_facecolor('white')\n",
    "ax.title.set_color('black')\n",
    "ax.xaxis.label.set_color('black')\n",
    "ax.yaxis.label.set_color('black')\n",
    "\n",
    "# Set the x-axis to start precisely at 0\n",
    "ax.set_xlim(left=0)\n",
    "ax.tick_params(colors='black')\n",
    "\n",
    "\n",
    "\n",
    "t = datetime.datetime.now().strftime(\"%Y_%m_%d_%H_%M\")\n",
    "#plt.savefig(rf'D:\\MarkS3\\Pictures\\Graphs\\2024_Head_mounted_eyecam_system\\Current_Paradigm\\PV_126\\{t}_Saccade_amplitude_distribution_synced.pdf', format='pdf')\n",
    "plt.show()"
   ],
   "metadata": {
    "collapsed": false,
    "ExecuteTime": {
     "end_time": "2024-12-16T17:45:22.169696100Z",
     "start_time": "2024-12-16T17:45:22.010693900Z"
    }
   },
   "id": "785f39f63908b518",
   "execution_count": 15
  },
  {
   "cell_type": "code",
   "outputs": [
    {
     "data": {
      "text/plain": "<Figure size 170x120 with 1 Axes>",
      "image/png": "[encoded data removed]"
     },
     "metadata": {},
     "output_type": "display_data"
    }
   ],
   "source": [
    "import numpy as np\n",
    "import matplotlib.pyplot as plt\n",
    "import os\n",
    "import datetime\n",
    "import pickle\n",
    "\n",
    "def plot_saccade_amplitude_distribution(synced_saccade_collection, non_synced_saccade_collection, export_path=None):\n",
    "    # Extract magnitudes from both collections\n",
    "    synced_magnitudes = synced_saccade_collection['magnitude'].values\n",
    "    non_synced_magnitudes = non_synced_saccade_collection['magnitude'].values\n",
    "\n",
    "    # Define bins\n",
    "    bins = np.linspace(0, 5, 40)\n",
    "\n",
    "    # Calculate histograms for both distributions\n",
    "    synced_hist, _ = np.histogram(synced_magnitudes, bins=bins)\n",
    "    non_synced_hist, _ = np.histogram(non_synced_magnitudes, bins=bins)\n",
    "\n",
    "    # Calculate bin centers\n",
    "    bin_centers = (bins[:-1] + bins[1:]) / 2\n",
    "\n",
    "    # Create the figure and axis\n",
    "    fig, ax = plt.subplots(figsize=(1.7, 1.2), dpi=100)\n",
    "\n",
    "    # Plot the histograms as lines\n",
    "    ax.plot(bin_centers, synced_hist, label='Synchronized', color='green', linewidth=2)\n",
    "    ax.plot(bin_centers, non_synced_hist, label='Monocular', color='blue', linewidth=2)\n",
    "\n",
    "    # Set labels and title\n",
    "    ax.set_title(\"Saccade amplitude distribution\", fontsize=11, pad=10)\n",
    "    ax.set_xlabel('Saccade Amplitude [mm]', fontsize=10)\n",
    "    ax.set_ylabel('Count', fontsize=10)\n",
    "\n",
    "    # Adjust tick label sizes\n",
    "    ax.tick_params(axis='both', which='major', labelsize=8)\n",
    "\n",
    "    # Remove top and right spines\n",
    "    ax.spines['top'].set_visible(False)\n",
    "    ax.spines['right'].set_visible(False)\n",
    "\n",
    "    # Set background colors and axis limits\n",
    "    fig.patch.set_facecolor('white')\n",
    "    ax.set_facecolor('white')\n",
    "    ax.set_xlim(left=0)\n",
    "    ax.set_ylim(bottom=0)\n",
    "    ax.tick_params(colors='black')\n",
    "\n",
    "    # Add a legend\n",
    "    ax.legend(loc='center left', bbox_to_anchor=(0.6, 0.8), fontsize=6)\n",
    "    # Handle export if export_path is provided\n",
    "    if export_path is not None:\n",
    "        # Create a timestamped folder\n",
    "        timestamp = datetime.datetime.now().strftime(\"%Y_%m_%d_%H_%M_%S\")\n",
    "        full_export_path = os.path.join(export_path, f\"saccade_plot_{timestamp}\")\n",
    "        os.makedirs(full_export_path, exist_ok=True)\n",
    "\n",
    "        # Save plot as PDF\n",
    "        pdf_file = os.path.join(full_export_path, \"saccade_amplitude_distribution.pdf\")\n",
    "        fig.savefig(pdf_file, format='pdf', bbox_inches='tight')\n",
    "\n",
    "        # Save DataFrames using pickle\n",
    "        data_file = os.path.join(full_export_path, \"saccade_collections.pkl\")\n",
    "        with open(data_file, 'wb') as f:\n",
    "            pickle.dump({\n",
    "                \"synced_saccade_collection\": synced_saccade_collection,\n",
    "                \"non_synced_saccade_collection\": non_synced_saccade_collection\n",
    "            }, f)\n",
    "\n",
    "        print(f\"Exported plot and data to: {full_export_path}\")\n",
    "\n",
    "    plt.show()\n",
    "export_path = pathlib.Path(r'Z:\\Nimrod\\Paper_Figures\\2024_Personalized_headstage_eye_tracking\\Figure_4\\material\\saccade_amplitude_histograms')\n",
    "plot_saccade_amplitude_distribution(synced_saccade_collection,non_synced_saccade_collection,export_path=None)"
   ],
   "metadata": {
    "collapsed": false,
    "ExecuteTime": {
     "end_time": "2024-12-26T14:13:34.740923Z",
     "start_time": "2024-12-26T14:13:34.596661800Z"
    }
   },
   "id": "e25deaa6ebbe3d2",
   "execution_count": 10
  },
  {
   "cell_type": "code",
   "outputs": [
    {
     "data": {
      "text/plain": "<Figure size 170x120 with 1 Axes>",
      "image/png": "[encoded data removed]"
     },
     "metadata": {},
     "output_type": "display_data"
    },
    {
     "data": {
      "text/plain": "<Figure size 170x120 with 1 Axes>",
      "image/png": "[encoded data removed]"
     },
     "metadata": {},
     "output_type": "display_data"
    }
   ],
   "source": [
    "import os\n",
    "import datetime\n",
    "import matplotlib.pyplot as plt\n",
    "import numpy as np\n",
    "import pickle\n",
    "\n",
    "def plot_saccade_amplitude_per_animal(synced_saccade_collection, non_synced_saccade_collection, export_path=None):\n",
    "    \"\"\"\n",
    "    Plots saccade amplitude distribution for each animal using the `animal` column in the input dataframes.\n",
    "\n",
    "    Parameters:\n",
    "        synced_saccade_collection (pd.DataFrame): DataFrame containing synced saccade data with an 'animal' column.\n",
    "        non_synced_saccade_collection (pd.DataFrame): DataFrame containing non-synced saccade data with an 'animal' column.\n",
    "        export_path (str or pathlib.Path, optional): Path to save the plots. Defaults to None.\n",
    "    \"\"\"\n",
    "    # Extract unique animals\n",
    "    animals = synced_saccade_collection['animal'].unique()\n",
    "\n",
    "    bins = np.linspace(0, 5, 40)  # Define bins\n",
    "\n",
    "    for animal in animals:\n",
    "        # Filter data for this animal\n",
    "        synced_data = synced_saccade_collection.query(\"animal == @animal\")['magnitude'].values\n",
    "        non_synced_data = non_synced_saccade_collection.query(\"animal == @animal\")['magnitude'].values\n",
    "\n",
    "        # Calculate histograms\n",
    "        synced_hist, _ = np.histogram(synced_data, bins=bins)\n",
    "        non_synced_hist, _ = np.histogram(non_synced_data, bins=bins)\n",
    "        bin_centers = (bins[:-1] + bins[1:]) / 2\n",
    "\n",
    "        # Create the figure and axis\n",
    "        fig, ax = plt.subplots(figsize=(1.7, 1.2), dpi=100)\n",
    "\n",
    "        # Plot the histograms\n",
    "        ax.plot(bin_centers, synced_hist, label='Synchronized', color='green', linewidth=2)\n",
    "        ax.plot(bin_centers, non_synced_hist, label='Monocular', color='blue', linewidth=2)\n",
    "\n",
    "        # Set labels and title\n",
    "        ax.set_title(f\"Saccade Amplitude - {animal}\", fontsize=11, pad=10)\n",
    "        ax.set_xlabel('Saccade Amplitude [mm]', fontsize=10)\n",
    "        ax.set_ylabel('Count', fontsize=10)\n",
    "\n",
    "        # Adjust tick label sizes\n",
    "        ax.tick_params(axis='both', which='major', labelsize=8)\n",
    "\n",
    "        # Remove top and right spines\n",
    "        ax.spines['top'].set_visible(False)\n",
    "        ax.spines['right'].set_visible(False)\n",
    "\n",
    "        # Set background colors and axis limits\n",
    "        fig.patch.set_facecolor('white')\n",
    "        ax.set_facecolor('white')\n",
    "        ax.set_xlim(left=0)\n",
    "        ax.set_ylim(bottom=0)\n",
    "        ax.tick_params(colors='black')\n",
    "\n",
    "        # Add a legend\n",
    "        ax.legend(loc='center left', bbox_to_anchor=(0.6, 0.8), fontsize=6)\n",
    "\n",
    "        # Handle export if export_path is provided\n",
    "        if export_path is not None:\n",
    "            animal_export_path = os.path.join(export_path, animal)\n",
    "            os.makedirs(animal_export_path, exist_ok=True)\n",
    "\n",
    "            # Save plot as PDF\n",
    "            pdf_file = os.path.join(animal_export_path, f\"saccade_amplitude_{animal}.pdf\")\n",
    "            fig.savefig(pdf_file, format='pdf', bbox_inches='tight')\n",
    "\n",
    "        plt.show()\n",
    "plot_saccade_amplitude_per_animal(synced_saccade_collection, non_synced_saccade_collection, export_path=None)"
   ],
   "metadata": {
    "collapsed": false,
    "ExecuteTime": {
     "end_time": "2024-12-26T15:20:55.343542200Z",
     "start_time": "2024-12-26T15:20:55.131125100Z"
    }
   },
   "id": "b6e98deaa56c46a6",
   "execution_count": 12
  },
  {
   "cell_type": "code",
   "outputs": [
    {
     "data": {
      "text/plain": "<Figure size 170x120 with 1 Axes>",
      "image/png": "[encoded data removed]"
     },
     "metadata": {},
     "output_type": "display_data"
    },
    {
     "data": {
      "text/plain": "<Figure size 170x120 with 1 Axes>",
      "image/png": "[encoded data removed]"
     },
     "metadata": {},
     "output_type": "display_data"
    },
    {
     "data": {
      "text/plain": "<Figure size 170x120 with 1 Axes>",
      "image/png": "[encoded data removed]"
     },
     "metadata": {},
     "output_type": "display_data"
    }
   ],
   "source": [
    "import os\n",
    "import matplotlib.pyplot as plt\n",
    "import numpy as np\n",
    "\n",
    "def plot_saccade_amplitude_per_animal(synced_saccade_collection, non_synced_saccade_collection, export_path=None):\n",
    "    \"\"\"\n",
    "    Plots saccade amplitude likelihood distributions for each animal using the `animal` column in the input dataframes.\n",
    "\n",
    "    Parameters:\n",
    "        synced_saccade_collection (pd.DataFrame): DataFrame containing synced saccade data with an 'animal' column.\n",
    "        non_synced_saccade_collection (pd.DataFrame): DataFrame containing non-synced saccade data with an 'animal' column.\n",
    "        export_path (str or pathlib.Path, optional): Path to save the plots. Defaults to None.\n",
    "    \"\"\"\n",
    "    # Extract unique animals\n",
    "    animals = synced_saccade_collection['animal'].unique()\n",
    "\n",
    "    bins = np.linspace(0, 5, 40)  # Define bins\n",
    "\n",
    "    for animal in animals:\n",
    "        # Filter data for this animal\n",
    "        synced_data = synced_saccade_collection.query(\"animal == @animal\")['magnitude'].values\n",
    "        non_synced_data = non_synced_saccade_collection.query(\"animal == @animal\")['magnitude'].values\n",
    "\n",
    "        # Calculate likelihood distributions\n",
    "        synced_hist, _ = np.histogram(synced_data, bins=bins)\n",
    "        non_synced_hist, _ = np.histogram(non_synced_data, bins=bins)\n",
    "        synced_likelihood = synced_hist / np.sum(synced_hist)  # Normalize to sum to 1\n",
    "        non_synced_likelihood = non_synced_hist / np.sum(non_synced_hist)  # Normalize to sum to 1\n",
    "        bin_centers = (bins[:-1] + bins[1:]) / 2\n",
    "\n",
    "        # Create the figure and axis\n",
    "        fig, ax = plt.subplots(figsize=(1.7, 1.2), dpi=100)\n",
    "\n",
    "        # Plot the likelihood distributions\n",
    "        ax.plot(bin_centers, synced_likelihood, label='Synchronized', color='green', linewidth=2)\n",
    "        ax.plot(bin_centers, non_synced_likelihood, label='Monocular', color='blue', linewidth=2)\n",
    "\n",
    "        # Set labels and title\n",
    "        ax.set_title(f\"Saccade Amplitude Likelihood - {animal}\", fontsize=11, pad=10)\n",
    "        ax.set_xlabel('Saccade Amplitude [mm]', fontsize=10)\n",
    "        ax.set_ylabel('Likelihood', fontsize=10)\n",
    "\n",
    "        # Adjust tick label sizes\n",
    "        ax.tick_params(axis='both', which='major', labelsize=8)\n",
    "\n",
    "        # Remove top and right spines\n",
    "        ax.spines['top'].set_visible(False)\n",
    "        ax.spines['right'].set_visible(False)\n",
    "\n",
    "        # Set background colors and axis limits\n",
    "        fig.patch.set_facecolor('white')\n",
    "        ax.set_facecolor('white')\n",
    "        ax.set_xlim(left=0)\n",
    "        ax.set_ylim(bottom=0)\n",
    "        ax.tick_params(colors='black')\n",
    "\n",
    "        # Add a legend\n",
    "        ax.legend(loc='center left', bbox_to_anchor=(0.6, 0.8), fontsize=6)\n",
    "\n",
    "        # Handle export if export_path is provided\n",
    "        if export_path is not None:\n",
    "            animal_export_path = os.path.join(export_path, animal)\n",
    "            os.makedirs(animal_export_path, exist_ok=True)\n",
    "\n",
    "            # Save plot as PDF\n",
    "            pdf_file = os.path.join(animal_export_path, f\"saccade_amplitude_{animal}.pdf\")\n",
    "            fig.savefig(pdf_file, format='pdf', bbox_inches='tight')\n",
    "\n",
    "        plt.show()\n",
    "\n",
    "plot_saccade_amplitude_per_animal(synced_saccade_collection, non_synced_saccade_collection, export_path=None)"
   ],
   "metadata": {
    "collapsed": false,
    "ExecuteTime": {
     "end_time": "2024-12-26T15:35:35.547059900Z",
     "start_time": "2024-12-26T15:35:35.199698300Z"
    }
   },
   "id": "279fc5b4878c3925",
   "execution_count": 9
  },
  {
   "cell_type": "code",
   "outputs": [],
   "source": [
    "block = block_collection[-2]"
   ],
   "metadata": {
    "collapsed": false,
    "ExecuteTime": {
     "end_time": "2024-12-26T15:33:06.782136300Z",
     "start_time": "2024-12-26T15:33:06.743137100Z"
    }
   },
   "id": "78fd0aa53487b43e",
   "execution_count": 29
  },
  {
   "cell_type": "code",
   "outputs": [
    {
     "data": {
      "text/plain": "         Arena_TTL  Arena_frame  L_eye_frame  R_eye_frame  L_values  R_values\n0       39013009.0        435.0          NaN          4.0       NaN  0.022044\n1       39013342.0        436.0          NaN          5.0       NaN  0.022044\n2       39013350.0        436.0          NaN          5.0       NaN  0.022044\n3       39013683.0        437.0          3.0          6.0  0.020573  0.022044\n4       39013691.0        437.0          4.0          6.0  0.020573  0.022044\n...            ...          ...          ...          ...       ...       ...\n221708  76796625.0     111290.0     113559.0          NaN  0.020573       NaN\n221709  76796958.0     111291.0     113559.0          NaN  0.020573       NaN\n221710  76796966.0     111291.0     113560.0          NaN  0.020573       NaN\n221711  76797299.0     111292.0     113560.0          NaN  0.020573       NaN\n221712  76797307.0     111292.0     113561.0          NaN       NaN       NaN\n\n[221713 rows x 6 columns]",
      "text/html": "<div>\n<style scoped>\n    .dataframe tbody tr th:only-of-type {\n        vertical-align: middle;\n    }\n\n    .dataframe tbody tr th {\n        vertical-align: top;\n    }\n\n    .dataframe thead th {\n        text-align: right;\n    }\n</style>\n<table border=\"1\" class=\"dataframe\">\n  <thead>\n    <tr style=\"text-align: right;\">\n      <th></th>\n      <th>Arena_TTL</th>\n      <th>Arena_frame</th>\n      <th>L_eye_frame</th>\n      <th>R_eye_frame</th>\n      <th>L_values</th>\n      <th>R_values</th>\n    </tr>\n  </thead>\n  <tbody>\n    <tr>\n      <th>0</th>\n      <td>39013009.0</td>\n      <td>435.0</td>\n      <td>NaN</td>\n      <td>4.0</td>\n      <td>NaN</td>\n      <td>0.022044</td>\n    </tr>\n    <tr>\n      <th>1</th>\n      <td>39013342.0</td>\n      <td>436.0</td>\n      <td>NaN</td>\n      <td>5.0</td>\n      <td>NaN</td>\n      <td>0.022044</td>\n    </tr>\n    <tr>\n      <th>2</th>\n      <td>39013350.0</td>\n      <td>436.0</td>\n      <td>NaN</td>\n      <td>5.0</td>\n      <td>NaN</td>\n      <td>0.022044</td>\n    </tr>\n    <tr>\n      <th>3</th>\n      <td>39013683.0</td>\n      <td>437.0</td>\n      <td>3.0</td>\n      <td>6.0</td>\n      <td>0.020573</td>\n      <td>0.022044</td>\n    </tr>\n    <tr>\n      <th>4</th>\n      <td>39013691.0</td>\n      <td>437.0</td>\n      <td>4.0</td>\n      <td>6.0</td>\n      <td>0.020573</td>\n      <td>0.022044</td>\n    </tr>\n    <tr>\n      <th>...</th>\n      <td>...</td>\n      <td>...</td>\n      <td>...</td>\n      <td>...</td>\n      <td>...</td>\n      <td>...</td>\n    </tr>\n    <tr>\n      <th>221708</th>\n      <td>76796625.0</td>\n      <td>111290.0</td>\n      <td>113559.0</td>\n      <td>NaN</td>\n      <td>0.020573</td>\n      <td>NaN</td>\n    </tr>\n    <tr>\n      <th>221709</th>\n      <td>76796958.0</td>\n      <td>111291.0</td>\n      <td>113559.0</td>\n      <td>NaN</td>\n      <td>0.020573</td>\n      <td>NaN</td>\n    </tr>\n    <tr>\n      <th>221710</th>\n      <td>76796966.0</td>\n      <td>111291.0</td>\n      <td>113560.0</td>\n      <td>NaN</td>\n      <td>0.020573</td>\n      <td>NaN</td>\n    </tr>\n    <tr>\n      <th>221711</th>\n      <td>76797299.0</td>\n      <td>111292.0</td>\n      <td>113560.0</td>\n      <td>NaN</td>\n      <td>0.020573</td>\n      <td>NaN</td>\n    </tr>\n    <tr>\n      <th>221712</th>\n      <td>76797307.0</td>\n      <td>111292.0</td>\n      <td>113561.0</td>\n      <td>NaN</td>\n      <td>NaN</td>\n      <td>NaN</td>\n    </tr>\n  </tbody>\n</table>\n<p>221713 rows × 6 columns</p>\n</div>"
     },
     "execution_count": 31,
     "metadata": {},
     "output_type": "execute_result"
    }
   ],
   "source": [
    "block.final_sync_df"
   ],
   "metadata": {
    "collapsed": false,
    "ExecuteTime": {
     "end_time": "2024-12-26T15:33:12.854028200Z",
     "start_time": "2024-12-26T15:33:12.816031200Z"
    }
   },
   "id": "b4a68b41c5443c0a",
   "execution_count": 31
  },
  {
   "cell_type": "code",
   "outputs": [],
   "source": [],
   "metadata": {
    "collapsed": false
   },
   "id": "7575d1535cc903ab"
  }
 ],
 "metadata": {
  "kernelspec": {
   "display_name": "Python 3",
   "language": "python",
   "name": "python3"
  },
  "language_info": {
   "codemirror_mode": {
    "name": "ipython",
    "version": 2
   },
   "file_extension": ".py",
   "mimetype": "text/x-python",
   "name": "python",
   "nbconvert_exporter": "python",
   "pygments_lexer": "ipython2",
   "version": "2.7.6"
  }
 },
 "nbformat": 4,
 "nbformat_minor": 5
}
