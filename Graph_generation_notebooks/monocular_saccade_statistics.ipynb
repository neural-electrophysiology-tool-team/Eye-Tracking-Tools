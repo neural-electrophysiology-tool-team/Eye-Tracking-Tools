{
 "cells": [
  {
   "cell_type": "code",
   "execution_count": 33,
   "id": "initial_id",
   "metadata": {
    "collapsed": true,
    "ExecuteTime": {
     "end_time": "2024-12-19T19:38:29.507905Z",
     "start_time": "2024-12-19T19:38:29.493933500Z"
    }
   },
   "outputs": [],
   "source": [
    "\n",
    "import datetime\n",
    "import numpy as np\n",
    "import cv2\n",
    "from itertools import cycle\n",
    "import pickle\n",
    "import pathlib\n",
    "import math\n",
    "import tqdm\n",
    "import scipy.io\n",
    "from matplotlib import pyplot as plt\n",
    "import scipy.io\n",
    "import h5py\n",
    "import re\n",
    "from lxml import etree as ET\n",
    "import scipy.signal as sig\n",
    "import pandas as pd\n",
    "from scipy.stats import kde\n",
    "from BlockSync_current import BlockSync\n",
    "import UtilityFunctions_newOE as uf\n",
    "from scipy import signal\n",
    "import bokeh\n",
    "import seaborn as sns\n",
    "from matplotlib import rcParams\n",
    "%matplotlib inline\n",
    "plt.style.use('default')\n",
    "rcParams['pdf.fonttype'] = 42  # Ensure fonts are embedded and editable\n",
    "rcParams['ps.fonttype'] = 42  # Ensure compatibility with vector outputs\n",
    "\n",
    "\n",
    "def bokeh_plotter(data_list, x_axis_list=None, label_list=None, \n",
    "                  plot_name='default',\n",
    "                  x_axis_label='X', y_axis_label='Y',\n",
    "                  peaks=None, peaks_list=False, export_path=False):\n",
    "    \"\"\"Generates an interactive Bokeh plot for the given data vector.\n",
    "    Args:\n",
    "        data_list (list or array): The data to be plotted.\n",
    "        label_list (list of str): The labels of the data vectors\n",
    "        plot_name (str, optional): The title of the plot. Defaults to 'default'.\n",
    "        x_axis (str, optional): The label for the x-axis. Defaults to 'X'.\n",
    "        y_axis (str, optional): The label for the y-axis. Defaults to 'Y'.\n",
    "        peaks (list or array, optional): Indices of peaks to highlight on the plot. Defaults to None.\n",
    "        export_path (False or str): when set to str, will output the resulting html fig\n",
    "    \"\"\"\n",
    "    color_cycle = cycle(bokeh.palettes.Category10_10)\n",
    "    fig = bokeh.plotting.figure(title=f'bokeh explorer: {plot_name}',\n",
    "                                x_axis_label=x_axis_label,\n",
    "                                y_axis_label=y_axis_label,\n",
    "                                plot_width=1500,\n",
    "                                plot_height=700)\n",
    "\n",
    "    for i, data_vector in enumerate(data_list):\n",
    "        \n",
    "        color = next(color_cycle)\n",
    "        \n",
    "        if x_axis_list is None:\n",
    "            x_axis = range(len(data_vector))\n",
    "        elif len(x_axis_list) == len(data_list):\n",
    "            print('x_axis manually set')\n",
    "            x_axis = x_axis_list[i]\n",
    "        else:\n",
    "            raise Exception('problem with x_axis_list input - should be either None, or a list with the same length as data_list')\n",
    "        if label_list is None:\n",
    "            fig.line(x_axis, data_vector, line_color=color, legend_label=f\"Line {i+1}\")\n",
    "        elif len(label_list) == len(data_list):\n",
    "            fig.line(range(len(data_vector)), data_vector, line_color=color, legend_label=f\"{label_list[i]}\")\n",
    "        if peaks is not None and peaks_list is True:\n",
    "            fig.circle(peaks[i], data_vector[peaks[i]], size=10, color=color)\n",
    "\n",
    "    if peaks is not None and peaks_list is False:\n",
    "        fig.circle(peaks, data_vector[peaks], size=10, color='red')\n",
    "\n",
    "    if export_path is not False:\n",
    "        print(f'exporting to {export_path}')\n",
    "        bokeh.io.output.output_file(filename=str(export_path / f'{plot_name}.html'), title=f'{plot_name}')\n",
    "    bokeh.plotting.show(fig)\n",
    "    \n",
    "\n",
    "def load_eye_data_2d_w_rotation_matrix(block):\n",
    "    \"\"\"\n",
    "    This function checks if the eye dataframes and rotation dict object exist, then imports them\n",
    "    :param block: The current blocksync class with verifiec re/le dfs\n",
    "    :return: None\n",
    "    \"\"\"\n",
    "    try:\n",
    "        block.left_eye_data = pd.read_csv(block.analysis_path / 'left_eye_data.csv', index_col=0, engine='python')\n",
    "        block.right_eye_data = pd.read_csv(block.analysis_path / 'right_eye_data.csv', index_col=0, engine='python')\n",
    "    except FileNotFoundError:\n",
    "        print('eye_data files not found, run the pipeline!')\n",
    "        return\n",
    "    \n",
    "    try:\n",
    "        with open(block.analysis_path / 'rotate_eye_data_params.pkl', 'rb') as file:\n",
    "            rotation_dict = pickle.load(file)\n",
    "            block.left_rotation_matrix = rotation_dict['left_rotation_matrix']\n",
    "            block.right_rotation_matrix = rotation_dict['right_rotation_matrix']\n",
    "            block.left_rotation_angle = rotation_dict['left_rotation_angle']\n",
    "            block.right_rotation_angle = rotation_dict['right_rotation_angle']\n",
    "    except FileNotFoundError:\n",
    "        print('No rotation matrix file, create it')\n",
    "    \n",
    "    \n",
    "def create_saccade_events_df(eye_data_df, speed_threshold, bokeh_verify_threshold=False, magnitude_calib=1, speed_profile=True):    \n",
    "    \"\"\"\n",
    "    Detects saccade events in eye tracking data and computes relevant metrics.\n",
    "\n",
    "    Parameters:\n",
    "    - eye_data_df (pd.DataFrame): Input DataFrame containing eye tracking data.\n",
    "    - speed_threshold (float): Threshold for saccade detection based on speed.\n",
    "\n",
    "    Returns:\n",
    "    - df (pd.DataFrame): Modified input DataFrame with added columns for speed and saccade detection.\n",
    "    - saccade_events_df (pd.DataFrame): DataFrame containing information about detected saccade events.\n",
    "\n",
    "    Steps:\n",
    "    1. Calculate speed components ('speed_x', 'speed_y') based on differences in 'center_x' and 'center_y'.\n",
    "    2. Compute the magnitude of the velocity vector ('speed_r').\n",
    "    3. Create a binary column ('is_saccade') indicating saccade events based on the speed threshold.\n",
    "    4. Determine saccade onset and offset indices and timestamps.\n",
    "    5. Create a DataFrame ('saccade_events_df') with columns:\n",
    "        - 'saccade_start_ind': Indices of saccade onset.\n",
    "        - 'saccade_start_timestamp': Timestamps corresponding to saccade onset.\n",
    "        - 'saccade_end_ind': Indices of saccade offset.\n",
    "        - 'saccade_end_timestamp': Timestamps corresponding to saccade offset.\n",
    "        - 'length': Duration of each saccade event.\n",
    "    6. Calculate distance traveled and angles for each saccade event.\n",
    "    7. Append additional columns to 'saccade_events_df':\n",
    "        - 'magnitude': Magnitude of the distance traveled during each saccade.\n",
    "        - 'angle': Angle of the saccade vector in degrees.\n",
    "        - 'initial_x', 'initial_y': Initial coordinates of the saccade.\n",
    "        - 'end_x', 'end_y': End coordinates of the saccade.\n",
    "\n",
    "    Note: The original 'eye_data_df' is not modified; modified data is returned as 'df'.\n",
    "    \"\"\"\n",
    "    df = eye_data_df\n",
    "    df['speed_x'] = df['center_x'].diff()  # Difference between consecutive 'center_x' values\n",
    "    df['speed_y'] = df['center_y'].diff()  # Difference between consecutive 'center_y' values\n",
    "    \n",
    "    # Step 2: Calculate magnitude of the velocity vector (R vector speed)\n",
    "    df['speed_r'] = (df['speed_x']**2 + df['speed_y']**2)**0.5\n",
    "    \n",
    "    # Create a column for saccade detection\n",
    "    df['is_saccade'] = df['speed_r'] > speed_threshold\n",
    "    \n",
    "    # create a saccade_on_off indicator where 1 is rising edge and -1 is falling edge by subtracting a shifted binary mask\n",
    "    saccade_on_off = df.is_saccade.astype(int) - df.is_saccade.shift(periods=1,fill_value=False).astype(int)\n",
    "    saccade_on_inds = np.where(saccade_on_off == 1)[0] - 1 # notice the manual shift here, chosen to include the first (sometimes slower) eye frame, just before saccade threshold crossing\n",
    "    saccade_on_ms = df['ms_axis'].iloc[saccade_on_inds]\n",
    "    saccade_on_timestamps = df['OE_timestamp'].iloc[saccade_on_inds]\n",
    "    saccade_off_inds = np.where(saccade_on_off == -1)[0]\n",
    "    saccade_off_timestamps = df['OE_timestamp'].iloc[saccade_off_inds]\n",
    "    saccade_off_ms = df['ms_axis'].iloc[saccade_off_inds]\n",
    "    \n",
    "    saccade_dict = {'saccade_start_ind' :  saccade_on_inds ,\n",
    "                    'saccade_start_timestamp': saccade_on_timestamps.values,\n",
    "                    'saccade_end_ind':      saccade_off_inds,\n",
    "                    'saccade_end_timestamp':saccade_off_timestamps.values,\n",
    "                    'saccade_on_ms': saccade_on_ms.values,\n",
    "                    'saccade_off_ms': saccade_off_ms.values}\n",
    "    \n",
    "    saccade_events_df = pd.DataFrame.from_dict(saccade_dict)\n",
    "    saccade_events_df['length'] = saccade_events_df['saccade_end_ind'] - saccade_events_df['saccade_start_ind']\n",
    "    # Drop columns used for intermediate steps\n",
    "    df = df.drop(['is_saccade'], axis=1)\n",
    "    \n",
    "    distances = []\n",
    "    angles = []\n",
    "    speed_list = []\n",
    "    diameter_list = []\n",
    "    for index, row in tqdm.tqdm(saccade_events_df.iterrows()):\n",
    "        saccade_samples = df.loc[(df['OE_timestamp'] >= row['saccade_start_timestamp']) & \n",
    "                                 (df['OE_timestamp'] <= row['saccade_end_timestamp'])]\n",
    "        distance_traveled = saccade_samples['speed_r'].sum()\n",
    "        if speed_profile:\n",
    "            saccade_speed_profile = saccade_samples['speed_r'].values\n",
    "            speed_list.append(saccade_speed_profile)\n",
    "        saccade_diameter_profile = saccade_samples['pupil_diameter'].values\n",
    "        diameter_list.append(saccade_diameter_profile)\n",
    "        # Calculate angle from initial position to endpoint\n",
    "        initial_position = saccade_samples.iloc[0][['center_x', 'center_y']]\n",
    "        endpoint = saccade_samples.iloc[-1][['center_x', 'center_y']]\n",
    "        overall_angle = np.arctan2(endpoint['center_y'] - initial_position['center_y'],\n",
    "                           endpoint['center_x'] - initial_position['center_x'])\n",
    "        \n",
    "        angles.append(overall_angle)  \n",
    "        distances.append(distance_traveled)\n",
    "        \n",
    "        \n",
    "    \n",
    "    saccade_events_df['magnitude_raw'] = np.array(distances)\n",
    "    saccade_events_df['magnitude'] = np.array(distances) * magnitude_calib\n",
    "    saccade_events_df['angle'] = np.where(np.isnan(angles), angles, np.rad2deg(angles) % 360) # Convert radians to degrees and ensure result is in [0, 360)\n",
    "    start_ts = saccade_events_df['saccade_start_timestamp'].values\n",
    "    end_ts = saccade_events_df['saccade_end_timestamp'].values\n",
    "    saccade_start_df = df[df['OE_timestamp'].isin(start_ts)]\n",
    "    saccade_end_df = df[df['OE_timestamp'].isin(end_ts)]\n",
    "    start_x_coord = saccade_start_df['center_x']\n",
    "    start_y_coord = saccade_start_df['center_y']\n",
    "    end_x_coord = saccade_end_df['center_x']\n",
    "    end_y_coord = saccade_end_df['center_y']\n",
    "    saccade_events_df['initial_x'] = start_x_coord.values\n",
    "    saccade_events_df['initial_y'] = start_y_coord.values\n",
    "    saccade_events_df['end_x'] = end_x_coord.values\n",
    "    saccade_events_df['end_y'] = end_y_coord.values\n",
    "    saccade_events_df['calib_dx'] = (saccade_events_df['end_x'].values - saccade_events_df['initial_x'].values) * magnitude_calib\n",
    "    saccade_events_df['calib_dy'] = (saccade_events_df['end_y'].values - saccade_events_df['initial_y'].values) * magnitude_calib\n",
    "    if speed_profile:\n",
    "        saccade_events_df['speed_profile'] = speed_list\n",
    "    saccade_events_df['diameter_profile'] = diameter_list\n",
    "    if bokeh_verify_threshold:\n",
    "        bokeh_plotter(data_list=[df.speed_r], label_list=['Pupil Velocity'], peaks=saccade_on_inds)\n",
    "        \n",
    "    return df, saccade_events_df\n"
   ]
  },
  {
   "cell_type": "code",
   "outputs": [
    {
     "name": "stdout",
     "output_type": "stream",
     "text": [
      "instantiated block number 023 at Path: Z:\\Nimrod\\experiments\\PV_62\\2023_04_27\\block_023, new OE version\n",
      "Found the sample rate for block 023 in the xml file, it is 20000 Hz\n",
      "created the .oe_rec attribute as an open ephys recording obj with get_data functionality\n",
      "retrieving zertoh sample number for block 023\n",
      "got it!\n",
      "instantiated block number 024 at Path: Z:\\Nimrod\\experiments\\PV_62\\2023_04_27\\block_024, new OE version\n",
      "Found the sample rate for block 024 in the xml file, it is 20000 Hz\n",
      "created the .oe_rec attribute as an open ephys recording obj with get_data functionality\n",
      "retrieving zertoh sample number for block 024\n",
      "got it!\n",
      "instantiated block number 038 at Path: Z:\\Nimrod\\experiments\\PV_62\\2023_05_01\\block_038, new OE version\n",
      "Found the sample rate for block 038 in the xml file, it is 20000 Hz\n",
      "created the .oe_rec attribute as an open ephys recording obj with get_data functionality\n",
      "retrieving zertoh sample number for block 038\n",
      "got it!\n",
      "instantiated block number 007 at Path: Z:\\Nimrod\\experiments\\PV_126\\2024_07_18\\block_007, new OE version\n",
      "Found the sample rate for block 007 in the xml file, it is 20000 Hz\n",
      "created the .oe_rec attribute as an open ephys recording obj with get_data functionality\n",
      "retrieving zertoh sample number for block 007\n",
      "got it!\n",
      "instantiated block number 008 at Path: Z:\\Nimrod\\experiments\\PV_126\\2024_07_18\\block_008, new OE version\n",
      "could not find the sample rate in the xml file due to error, will look in the cont file of the first recording...\n",
      "found the sample rate, it is 20000\n",
      "created the .oe_rec attribute as an open ephys recording obj with get_data functionality\n",
      "retrieving zertoh sample number for block 008\n",
      "got it!\n",
      "instantiated block number 009 at Path: Z:\\Nimrod\\experiments\\PV_126\\2024_07_18\\block_009, new OE version\n",
      "Found the sample rate for block 009 in the xml file, it is 20000 Hz\n",
      "created the .oe_rec attribute as an open ephys recording obj with get_data functionality\n",
      "retrieving zertoh sample number for block 009\n",
      "got it!\n"
     ]
    }
   ],
   "source": [
    "\n",
    "# create a multi-animal block_collection:\n",
    "\n",
    "def create_block_collections(animals, block_lists, experiment_path, bad_blocks=None):\n",
    "    \"\"\"\n",
    "    Create block collections and a block dictionary from multiple animals and their respective block lists.\n",
    "\n",
    "    Parameters:\n",
    "    - animals: list of str, names of the animals.\n",
    "    - block_lists: list of lists of int, block numbers corresponding to each animal.\n",
    "    - experiment_path: pathlib.Path, path to the experiment directory.\n",
    "    - bad_blocks: list of int, blocks to exclude. Default is an empty list.\n",
    "\n",
    "    Returns:\n",
    "    - block_collection: list of BlockSync objects for all specified blocks.\n",
    "    - block_dict: dictionary where keys are block numbers as strings and values are BlockSync objects.\n",
    "    \"\"\"\n",
    "    import UtilityFunctions_newOE as uf\n",
    "\n",
    "    if bad_blocks is None:\n",
    "        bad_blocks = []\n",
    "\n",
    "    block_collection = []\n",
    "    block_dict = {}\n",
    "\n",
    "    for animal, blocks in zip(animals, block_lists):\n",
    "        # Generate blocks for the current animal\n",
    "        current_blocks = uf.block_generator(\n",
    "            block_numbers=blocks,\n",
    "            experiment_path=experiment_path,\n",
    "            animal=animal,\n",
    "            bad_blocks=bad_blocks\n",
    "        )\n",
    "        # Add to collection and dictionary\n",
    "        block_collection.extend(current_blocks)\n",
    "        for b in current_blocks:\n",
    "            block_dict[f\"{animal}_block_{b.block_num}\"] = b\n",
    "\n",
    "    return block_collection, block_dict\n",
    "\n",
    "\n",
    "# Example usage:\n",
    "animals = ['PV_62', 'PV_126']\n",
    "block_lists = [[23,24,38],[7,8,9]]\n",
    "experiment_path = pathlib.Path(r\"Z:\\Nimrod\\experiments\")\n",
    "bad_blocks = [0]  # Example of bad blocks\n",
    "\n",
    "block_collection, block_dict = create_block_collections(\n",
    "    animals=animals,\n",
    "    block_lists=block_lists,\n",
    "    experiment_path=experiment_path,\n",
    "    bad_blocks=bad_blocks\n",
    ")"
   ],
   "metadata": {
    "collapsed": false,
    "ExecuteTime": {
     "end_time": "2024-12-19T19:38:31.476029500Z",
     "start_time": "2024-12-19T19:38:30.600056Z"
    }
   },
   "id": "cdb73e5c26190428",
   "execution_count": 34
  },
  {
   "cell_type": "code",
   "outputs": [
    {
     "name": "stdout",
     "output_type": "stream",
     "text": [
      "running parse_open_ephys_events...\n",
      "block 023 has a parsed events file, reading...\n",
      "Getting eye brightness values for block 023...\n",
      "Found an existing file!\n",
      "Eye brightness vectors generation complete.\n",
      "blocksync_df loaded from analysis folder\n",
      "eye_brightness_df loaded from analysis folder\n",
      "eye dataframes loaded from analysis folder\n",
      "got the calibration values from the analysis folder\n",
      "running parse_open_ephys_events...\n",
      "block 024 has a parsed events file, reading...\n",
      "Getting eye brightness values for block 024...\n",
      "Found an existing file!\n",
      "Eye brightness vectors generation complete.\n",
      "blocksync_df loaded from analysis folder\n",
      "eye_brightness_df loaded from analysis folder\n",
      "eye dataframes loaded from analysis folder\n",
      "got the calibration values from the analysis folder\n",
      "running parse_open_ephys_events...\n",
      "block 038 has a parsed events file, reading...\n",
      "Getting eye brightness values for block 038...\n",
      "Found an existing file!\n",
      "Eye brightness vectors generation complete.\n",
      "blocksync_df loaded from analysis folder\n",
      "eye_brightness_df loaded from analysis folder\n",
      "eye dataframes loaded from analysis folder\n",
      "got the calibration values from the analysis folder\n",
      "running parse_open_ephys_events...\n",
      "block 007 has a parsed events file, reading...\n",
      "Getting eye brightness values for block 007...\n",
      "Found an existing file!\n",
      "Eye brightness vectors generation complete.\n",
      "blocksync_df loaded from analysis folder\n",
      "eye_brightness_df loaded from analysis folder\n",
      "eye dataframes loaded from analysis folder\n",
      "got the calibration values from the analysis folder\n",
      "running parse_open_ephys_events...\n",
      "block 008 has a parsed events file, reading...\n",
      "Getting eye brightness values for block 008...\n",
      "Found an existing file!\n",
      "Eye brightness vectors generation complete.\n",
      "blocksync_df loaded from analysis folder\n",
      "eye_brightness_df loaded from analysis folder\n",
      "eye dataframes loaded from analysis folder\n",
      "got the calibration values from the analysis folder\n",
      "running parse_open_ephys_events...\n",
      "block 009 has a parsed events file, reading...\n",
      "Getting eye brightness values for block 009...\n",
      "Found an existing file!\n",
      "Eye brightness vectors generation complete.\n",
      "blocksync_df loaded from analysis folder\n",
      "eye_brightness_df loaded from analysis folder\n",
      "eye dataframes loaded from analysis folder\n",
      "got the calibration values from the analysis folder\n"
     ]
    }
   ],
   "source": [
    "for block in block_collection:\n",
    "    block.parse_open_ephys_events()\n",
    "    block.get_eye_brightness_vectors()\n",
    "    block.synchronize_block()\n",
    "    block.create_eye_brightness_df(threshold_value=20)\n",
    "\n",
    "    # if the code fails here, go to manual synchronization\n",
    "    block.import_manual_sync_df()\n",
    "    block.read_dlc_data()\n",
    "    block.calibrate_pixel_size(10)\n",
    "    load_eye_data_2d_w_rotation_matrix(block) #should be integrated again... later\n",
    "    \n",
    "    # calibrate pupil diameter:\n",
    "    if 'pupil_diameter' not in block.left_eye_data.columns:\n",
    "        block.left_eye_data['pupil_diameter_pixels'] = block.left_eye_data.major_ax * 2 * np.pi\n",
    "        block.right_eye_data['pupil_diameter_pixels'] = block.right_eye_data.major_ax * 2 * np.pi\n",
    "        block.left_eye_data['pupil_diameter'] = block.left_eye_data['pupil_diameter_pixels'] * block.L_pix_size\n",
    "        block.right_eye_data['pupil_diameter'] = block.right_eye_data['pupil_diameter_pixels'] * block.R_pix_size"
   ],
   "metadata": {
    "collapsed": false,
    "ExecuteTime": {
     "end_time": "2024-12-19T19:39:01.187888300Z",
     "start_time": "2024-12-19T19:38:32.231061100Z"
    }
   },
   "id": "b977dcd6db4b33d4",
   "execution_count": 35
  },
  {
   "cell_type": "code",
   "outputs": [
    {
     "name": "stderr",
     "output_type": "stream",
     "text": [
      "77it [00:00, 762.42it/s]"
     ]
    },
    {
     "name": "stdout",
     "output_type": "stream",
     "text": [
      "PV_62, block 023, on 2023-04-27_10-52-42\n"
     ]
    },
    {
     "name": "stderr",
     "output_type": "stream",
     "text": [
      "602it [00:00, 774.78it/s]\n",
      "599it [00:00, 702.23it/s]\n",
      "76it [00:00, 752.47it/s]"
     ]
    },
    {
     "name": "stdout",
     "output_type": "stream",
     "text": [
      "PV_62, block 024, on 2023-04-27_11-22-56\n"
     ]
    },
    {
     "name": "stderr",
     "output_type": "stream",
     "text": [
      "602it [00:00, 745.97it/s]\n",
      "599it [00:00, 742.64it/s]\n",
      "74it [00:00, 739.81it/s]"
     ]
    },
    {
     "name": "stdout",
     "output_type": "stream",
     "text": [
      "PV_62, block 038, on 2023-05-01_13-57-45\n"
     ]
    },
    {
     "name": "stderr",
     "output_type": "stream",
     "text": [
      "1126it [00:01, 705.93it/s]\n",
      "1123it [00:01, 707.59it/s]\n",
      "77it [00:00, 762.42it/s]"
     ]
    },
    {
     "name": "stdout",
     "output_type": "stream",
     "text": [
      "PV_126, block 007, on PV126_Trial16_wake3_2024-07-18_12-49-12\n"
     ]
    },
    {
     "name": "stderr",
     "output_type": "stream",
     "text": [
      "1209it [00:01, 728.86it/s]\n",
      "1180it [00:01, 742.11it/s]\n",
      "72it [00:00, 720.00it/s]"
     ]
    },
    {
     "name": "stdout",
     "output_type": "stream",
     "text": [
      "PV_126, block 008, on PV126_Trial16_wake4_2024-07-18_13-24-41\n"
     ]
    },
    {
     "name": "stderr",
     "output_type": "stream",
     "text": [
      "366it [00:00, 681.56it/s]\n",
      "399it [00:00, 521.75it/s]\n",
      "72it [00:00, 719.81it/s]"
     ]
    },
    {
     "name": "stdout",
     "output_type": "stream",
     "text": [
      "PV_126, block 009, on PV126_Trial18_wake5_2024-07-18_14-39-15\n"
     ]
    },
    {
     "name": "stderr",
     "output_type": "stream",
     "text": [
      "359it [00:00, 723.79it/s]\n",
      "434it [00:00, 695.54it/s]\n"
     ]
    }
   ],
   "source": [
    "# saccade detection and annotation: \n",
    "for block in block_collection:\n",
    "    print(block)\n",
    "    block.left_eye_data, block.l_saccade_df = create_saccade_events_df(block.left_eye_data,\n",
    "                                                               speed_threshold=4,\n",
    "                                                               bokeh_verify_threshold=True,\n",
    "                                                               magnitude_calib=block.L_pix_size)\n",
    "    block.right_eye_data, block.r_saccade_df = create_saccade_events_df(block.right_eye_data,\n",
    "                                                               speed_threshold=4,\n",
    "                                                               bokeh_verify_threshold=False,\n",
    "                                                               magnitude_calib=block.R_pix_size)\n"
   ],
   "metadata": {
    "collapsed": false,
    "ExecuteTime": {
     "end_time": "2024-12-19T19:39:17.813348300Z",
     "start_time": "2024-12-19T19:39:01.190925900Z"
    }
   },
   "id": "6f49dbcde11829df",
   "execution_count": 36
  },
  {
   "cell_type": "code",
   "outputs": [
    {
     "name": "stdout",
     "output_type": "stream",
     "text": [
      "path to mat file is Z:\\Nimrod\\experiments\\PV_62\\2023_04_27\\block_023\\oe_files\\2023-04-27_10-52-42\\Record Node 108\\analysis\\recNames=Block0023,Animal=PV_62\\lizMov.mat\n",
      "liz_mov_df created for PV_62, block 023, on 2023-04-27_10-52-42\n",
      "path to mat file is Z:\\Nimrod\\experiments\\PV_62\\2023_04_27\\block_024\\oe_files\\2023-04-27_11-22-56\\Record Node 108\\analysis\\recNames=Block0024,Animal=PV_62\\lizMov.mat\n",
      "liz_mov_df created for PV_62, block 024, on 2023-04-27_11-22-56\n",
      "path to mat file is Z:\\Nimrod\\experiments\\PV_62\\2023_05_01\\block_038\\oe_files\\2023-05-01_13-57-45\\Record Node 108\\analysis\\recNames=Block0038,Animal=PV_62\\lizMov.mat\n",
      "liz_mov_df created for PV_62, block 038, on 2023-05-01_13-57-45\n",
      "path to mat file is Z:\\Nimrod\\experiments\\PV_126\\2024_07_18\\block_007\\oe_files\\PV126_Trial16_wake3_2024-07-18_12-49-12\\Record Node 102\\analysis\\recNames=block_007,Animal=PV_126\\lizMov.mat\n",
      "liz_mov_df created for PV_126, block 007, on PV126_Trial16_wake3_2024-07-18_12-49-12\n",
      "path to mat file is Z:\\Nimrod\\experiments\\PV_126\\2024_07_18\\block_008\\oe_files\\PV126_Trial16_wake4_2024-07-18_13-24-41\\Record Node 102\\analysis\\recNames=block_008,Animal=PV_126\\lizMov.mat\n",
      "liz_mov_df created for PV_126, block 008, on PV126_Trial16_wake4_2024-07-18_13-24-41\n",
      "path to mat file is Z:\\Nimrod\\experiments\\PV_126\\2024_07_18\\block_009\\oe_files\\PV126_Trial18_wake5_2024-07-18_14-39-15\\Record Node 102\\analysis\\recNames=block_009,Animal=PV_126\\lizMov.mat\n",
      "liz_mov_df created for PV_126, block 009, on PV126_Trial18_wake5_2024-07-18_14-39-15\n"
     ]
    }
   ],
   "source": [
    "### over here, I get the lizard movements binary from mark's analysis\n",
    "import os\n",
    "def block_get_lizard_movement(block):\n",
    "    # collect accelerometer data\n",
    "    # path definition\n",
    "    p = block.oe_path / 'analysis'\n",
    "    analysis_list = os.listdir(p)\n",
    "    correct_analysis = [i for i in analysis_list if block.animal_call in i][0]\n",
    "    p = p / str(correct_analysis)\n",
    "    mat_path = p / 'lizMov.mat'\n",
    "    print(f'path to mat file is {mat_path}')\n",
    "    # read mat file\n",
    "    try:\n",
    "        mat_data = h5py.File(str(mat_path), 'r')\n",
    "        mat_dict = {'t_mov_ms': mat_data['t_mov_ms'][:],\n",
    "                    'movAll': mat_data['movAll'][:]}\n",
    "        \n",
    "        acc_df = pd.DataFrame(data=np.array([mat_dict['t_mov_ms'][:, 0], mat_dict['movAll'][:, 0]]).T,\n",
    "                              columns=['t_mov_ms', 'movAll'])\n",
    "        mat_data.close()\n",
    "        block.liz_mov_df = acc_df\n",
    "        print(f'liz_mov_df created for {block}')\n",
    "    except FileNotFoundError:\n",
    "        print('mat file does not exist - run the matlab getLizMovement function')\n",
    "        \n",
    "    return\n",
    "\n",
    "for block in block_collection:\n",
    "    block_get_lizard_movement(block)\n",
    "\n",
    "# this cell now labels the saccades as with/without head movements\n",
    "def get_head_mov_col(df, mov_times):\n",
    "    head_mov_bool = np.zeros(len(df), dtype=bool)  # Initialize array of False\n",
    "\n",
    "    for i, saccade in enumerate(df.itertuples()):\n",
    "        saccade_start = saccade.saccade_on_ms\n",
    "        saccade_end = saccade.saccade_off_ms\n",
    "        \n",
    "        overlapping_mov_times = mov_times[np.logical_and(mov_times >= saccade_start, mov_times <= saccade_end)]\n",
    "        \n",
    "        if overlapping_mov_times.size > 0:  \n",
    "            head_mov_bool[i] = True\n",
    "\n",
    "    df['head_movement'] = head_mov_bool\n",
    "    return df\n",
    "\n",
    "def label_saccade_movements(block):\n",
    "    mov_times = block.liz_mov_df.t_mov_ms.values\n",
    "    block.l_saccade_df = get_head_mov_col(block.l_saccade_df,mov_times=mov_times)\n",
    "    block.r_saccade_df = get_head_mov_col(block.r_saccade_df,mov_times=mov_times)\n",
    "\n",
    "for block in block_collection:\n",
    "    label_saccade_movements(block)\n"
   ],
   "metadata": {
    "collapsed": false,
    "ExecuteTime": {
     "end_time": "2024-12-19T19:39:18.307575300Z",
     "start_time": "2024-12-19T19:39:17.818346400Z"
    }
   },
   "id": "54c41308886c4af",
   "execution_count": 37
  },
  {
   "cell_type": "code",
   "outputs": [],
   "source": [
    "# add annotations for a joint dataframe:\n",
    "for block in block_collection:\n",
    "    block.r_saccade_df['eye'] = 'R'\n",
    "    block.r_saccade_df['block'] = block.block_num\n",
    "    block.r_saccade_df['animal'] = block.animal_call\n",
    "    block.l_saccade_df['eye'] = 'L'\n",
    "    block.l_saccade_df['block'] = block.block_num\n",
    "    block.l_saccade_df['animal'] = block.animal_call\n",
    "    block.all_saccade_df = pd.concat([block.l_saccade_df,block.r_saccade_df])"
   ],
   "metadata": {
    "collapsed": false,
    "ExecuteTime": {
     "end_time": "2024-12-19T19:39:18.340573200Z",
     "start_time": "2024-12-19T19:39:18.312604700Z"
    }
   },
   "id": "f989c6f779f7dcf",
   "execution_count": 38
  },
  {
   "cell_type": "code",
   "outputs": [],
   "source": [
    "saccade_df_list = []\n",
    "for block in block_collection:\n",
    "    saccade_df_list.append(block.all_saccade_df)\n",
    "saccade_collection = pd.concat(saccade_df_list)"
   ],
   "metadata": {
    "collapsed": false,
    "ExecuteTime": {
     "end_time": "2024-12-19T19:39:18.371599700Z",
     "start_time": "2024-12-19T19:39:18.341573300Z"
    }
   },
   "id": "550217bb2a05fc3",
   "execution_count": 39
  },
  {
   "cell_type": "code",
   "outputs": [
    {
     "name": "stderr",
     "output_type": "stream",
     "text": [
      "577it [00:00, 7490.99it/s]\n",
      "577it [00:00, 7589.27it/s]\n",
      "0it [00:00, ?it/s]"
     ]
    },
    {
     "name": "stdout",
     "output_type": "stream",
     "text": [
      "199 568\n",
      "199 568\n"
     ]
    },
    {
     "name": "stderr",
     "output_type": "stream",
     "text": [
      "1034it [00:00, 6041.65it/s]\n",
      "741it [00:00, 7407.89it/s]"
     ]
    },
    {
     "name": "stdout",
     "output_type": "stream",
     "text": [
      "599 1064\n"
     ]
    },
    {
     "name": "stderr",
     "output_type": "stream",
     "text": [
      "1163it [00:00, 7090.28it/s]\n",
      "341it [00:00, 7417.54it/s]\n",
      "338it [00:00, 7343.52it/s]\n"
     ]
    },
    {
     "name": "stdout",
     "output_type": "stream",
     "text": [
      "342 1110\n",
      "181 386\n",
      "204 414\n"
     ]
    }
   ],
   "source": [
    "def get_closest_diff_ind(timestamp, timeseries):\n",
    "    \"\"\"\n",
    "    This function extracts a frame from a series so that it is as close as possible to a given timestamp\n",
    "    :param timestamp: The time to match a frame to\n",
    "    :param timeseries: The time frames series to look at for a match\n",
    "    :param report_acc: if set to 1, will report the accuracy of the match\n",
    "    :return: index_of_lowest_diff , accuracy of match (if requested)\n",
    "    \"\"\"\n",
    "    array = np.abs(timeseries - timestamp)\n",
    "    index_of_lowest_diff = np.argmin(array)\n",
    "    lowest_diff_val = timeseries[index_of_lowest_diff]\n",
    "    return index_of_lowest_diff, lowest_diff_val\n",
    "\n",
    "def find_synced_saccades(df, diff_threshold=680):\n",
    "    synced_saccades = []\n",
    "    non_synced_saccades = []\n",
    "    l_df = df.query('eye == \"L\"')\n",
    "    r_df = df.query('eye == \"R\"')\n",
    "    for i, row in tqdm.tqdm(l_df.iterrows()):\n",
    "        l_timestamp = row['saccade_start_timestamp']\n",
    "        ind_min_diff, r_timestamp = get_closest_diff_ind(l_timestamp, r_df['saccade_start_timestamp'].values)\n",
    "        #print(i,ind_lowest_diff)\n",
    "        time_diff = np.abs(l_timestamp - r_timestamp)\n",
    "        if time_diff < diff_threshold:\n",
    "            synced_saccades.append((row, r_df.iloc[ind_min_diff]))  # Collect synchronized rows\n",
    "        else:\n",
    "            non_synced_saccades.append(row)  # Collect non-synchronized rows\n",
    "    # Create DataFrame with multi-index\n",
    "    multi_index = pd.MultiIndex.from_tuples([(i, 'L') for i in range(len(synced_saccades))] + [(i, 'R') for i in range(len(synced_saccades))], names=['Main', 'Sub'])\n",
    "    synced_df = pd.DataFrame(index=multi_index, columns=df.columns)\n",
    "    # Populate DataFrame\n",
    "    for idx, (l_row, r_row) in enumerate(synced_saccades):\n",
    "        synced_df.loc[(idx, 'L')] = l_row\n",
    "        synced_df.loc[(idx, 'R')] = r_row\n",
    "    r_non_synced_leftovers = r_df[~r_df['saccade_start_timestamp'].isin(synced_df.query('eye == \"R\"')['saccade_start_timestamp'].values)]\n",
    "    print(len(r_non_synced_leftovers),len(r_df))\n",
    "    # Create DataFrame for non-synced saccades\n",
    "    non_synced_df = pd.DataFrame(non_synced_saccades, columns=df.columns)\n",
    "    non_synced_df = pd.concat([non_synced_df,r_non_synced_leftovers])\n",
    "    \n",
    "    return synced_df, non_synced_df\n",
    "\n",
    "synced_df_list = []\n",
    "non_synced_df_list = []\n",
    "for saccade_df in saccade_df_list:\n",
    "    # Find synced saccades:\n",
    "    synced_df, non_synced_df = find_synced_saccades(saccade_df.dropna(), diff_threshold=680)\n",
    "    if len(non_synced_df.dropna()) + len(synced_df.dropna()) == len(saccade_df.dropna()):\n",
    "        print('got them all')\n",
    "        \n",
    "    synced_df_list.append(synced_df)\n",
    "    non_synced_df_list.append(non_synced_df)\n"
   ],
   "metadata": {
    "collapsed": false,
    "ExecuteTime": {
     "end_time": "2024-12-19T19:39:19.488016800Z",
     "start_time": "2024-12-19T19:39:18.380574Z"
    }
   },
   "id": "a1383c63beb27576",
   "execution_count": 40
  },
  {
   "cell_type": "code",
   "outputs": [],
   "source": [
    "def combine_synced_dataframes(dataframes):\n",
    "    combined_dfs = []\n",
    "    start_index = 0\n",
    "    for df in dataframes:\n",
    "        num_rows = len(df) // 2  # Assuming each dataframe contains pairs of rows\n",
    "        main_index = pd.MultiIndex.from_tuples([(i + start_index, 'L') for i in range(num_rows)] + [(i + start_index, 'R') for i in range(num_rows)], names=['Main', 'Sub'])\n",
    "        df.index = main_index\n",
    "        combined_dfs.append(df)\n",
    "        start_index += num_rows\n",
    "    combined_df = pd.concat(combined_dfs)\n",
    "    combined_df.reset_index(inplace=True)\n",
    "    return combined_df\n",
    "\n",
    "synced_saccade_collection = combine_synced_dataframes(synced_df_list)\n",
    "non_synced_saccade_collection = pd.concat(non_synced_df_list)\n"
   ],
   "metadata": {
    "collapsed": false,
    "ExecuteTime": {
     "end_time": "2024-12-19T19:39:19.521043500Z",
     "start_time": "2024-12-19T19:39:19.494019200Z"
    }
   },
   "id": "2ace2bcb5e0b0b68",
   "execution_count": 41
  },
  {
   "cell_type": "code",
   "outputs": [
    {
     "name": "stdout",
     "output_type": "stream",
     "text": [
      "Skipped saccade at 304658.9 due to length mismatch.\n",
      "hi\n"
     ]
    },
    {
     "ename": "ValueError",
     "evalue": "index can't contain negative values",
     "output_type": "error",
     "traceback": [
      "\u001B[1;31m---------------------------------------------------------------------------\u001B[0m",
      "\u001B[1;31mValueError\u001B[0m                                Traceback (most recent call last)",
      "\u001B[1;32m<ipython-input-10-1fa8630fc629>\u001B[0m in \u001B[0;36m<module>\u001B[1;34m\u001B[0m\n\u001B[0;32m    118\u001B[0m \u001B[1;33m\u001B[0m\u001B[0m\n\u001B[0;32m    119\u001B[0m \u001B[0mexport_path\u001B[0m \u001B[1;33m=\u001B[0m\u001B[0mpathlib\u001B[0m\u001B[1;33m.\u001B[0m\u001B[0mPath\u001B[0m\u001B[1;33m(\u001B[0m\u001B[1;34mr'Z:\\Nimrod\\Paper_Figures\\2024_Personalized_headstage_eye_tracking\\Figure_3\\material\\Monocular_saccade_averages'\u001B[0m\u001B[1;33m)\u001B[0m\u001B[1;33m\u001B[0m\u001B[1;33m\u001B[0m\u001B[0m\n\u001B[1;32m--> 120\u001B[1;33m \u001B[0msaccade_profiles\u001B[0m \u001B[1;33m=\u001B[0m \u001B[0maverage_saccade_profile\u001B[0m\u001B[1;33m(\u001B[0m\u001B[0mnon_synced_saccade_collection\u001B[0m\u001B[1;33m,\u001B[0m \u001B[0mblock_dict\u001B[0m\u001B[1;33m,\u001B[0m \u001B[0mwindow_ms\u001B[0m\u001B[1;33m=\u001B[0m\u001B[1;36m1000\u001B[0m\u001B[1;33m,\u001B[0m \u001B[0msampling_rate\u001B[0m\u001B[1;33m=\u001B[0m\u001B[1;36m60\u001B[0m\u001B[1;33m,\u001B[0m \u001B[0mexport_path\u001B[0m\u001B[1;33m=\u001B[0m\u001B[0mexport_path\u001B[0m\u001B[1;33m)\u001B[0m\u001B[1;33m\u001B[0m\u001B[1;33m\u001B[0m\u001B[0m\n\u001B[0m",
      "\u001B[1;32m<ipython-input-10-1fa8630fc629>\u001B[0m in \u001B[0;36maverage_saccade_profile\u001B[1;34m(non_synced_saccade_collection, block_dict, window_ms, sampling_rate, export_path)\u001B[0m\n\u001B[0;32m     67\u001B[0m             \u001B[0mopposite_eye_profiles\u001B[0m\u001B[1;33m.\u001B[0m\u001B[0mappend\u001B[0m\u001B[1;33m(\u001B[0m\u001B[0mopposite_profile\u001B[0m\u001B[1;33m)\u001B[0m\u001B[1;33m\u001B[0m\u001B[1;33m\u001B[0m\u001B[0m\n\u001B[0;32m     68\u001B[0m         \u001B[1;32melif\u001B[0m \u001B[0mabs\u001B[0m\u001B[1;33m(\u001B[0m\u001B[0mlen\u001B[0m\u001B[1;33m(\u001B[0m\u001B[0msaccade_profile\u001B[0m\u001B[1;33m)\u001B[0m \u001B[1;33m-\u001B[0m \u001B[0mexpected_length\u001B[0m\u001B[1;33m)\u001B[0m \u001B[1;33m<=\u001B[0m \u001B[1;36m10\u001B[0m \u001B[1;32mand\u001B[0m \u001B[0mabs\u001B[0m\u001B[1;33m(\u001B[0m\u001B[0mlen\u001B[0m\u001B[1;33m(\u001B[0m\u001B[0mopposite_profile\u001B[0m\u001B[1;33m)\u001B[0m \u001B[1;33m-\u001B[0m \u001B[0mexpected_length\u001B[0m\u001B[1;33m)\u001B[0m \u001B[1;33m<=\u001B[0m \u001B[1;36m10\u001B[0m\u001B[1;33m:\u001B[0m\u001B[1;33m\u001B[0m\u001B[1;33m\u001B[0m\u001B[0m\n\u001B[1;32m---> 69\u001B[1;33m             \u001B[0msaccade_profiles\u001B[0m\u001B[1;33m.\u001B[0m\u001B[0mappend\u001B[0m\u001B[1;33m(\u001B[0m\u001B[0mnp\u001B[0m\u001B[1;33m.\u001B[0m\u001B[0mpad\u001B[0m\u001B[1;33m(\u001B[0m\u001B[0msaccade_profile\u001B[0m\u001B[1;33m,\u001B[0m \u001B[1;33m(\u001B[0m\u001B[1;36m0\u001B[0m\u001B[1;33m,\u001B[0m \u001B[0mexpected_length\u001B[0m \u001B[1;33m-\u001B[0m \u001B[0mlen\u001B[0m\u001B[1;33m(\u001B[0m\u001B[0msaccade_profile\u001B[0m\u001B[1;33m)\u001B[0m\u001B[1;33m)\u001B[0m\u001B[1;33m,\u001B[0m \u001B[0mconstant_values\u001B[0m\u001B[1;33m=\u001B[0m\u001B[0mnp\u001B[0m\u001B[1;33m.\u001B[0m\u001B[0mnan\u001B[0m\u001B[1;33m)\u001B[0m\u001B[1;33m)\u001B[0m\u001B[1;33m\u001B[0m\u001B[1;33m\u001B[0m\u001B[0m\n\u001B[0m\u001B[0;32m     70\u001B[0m             \u001B[0mopposite_eye_profiles\u001B[0m\u001B[1;33m.\u001B[0m\u001B[0mappend\u001B[0m\u001B[1;33m(\u001B[0m\u001B[0mnp\u001B[0m\u001B[1;33m.\u001B[0m\u001B[0mpad\u001B[0m\u001B[1;33m(\u001B[0m\u001B[0mopposite_profile\u001B[0m\u001B[1;33m,\u001B[0m \u001B[1;33m(\u001B[0m\u001B[1;36m0\u001B[0m\u001B[1;33m,\u001B[0m \u001B[0mexpected_length\u001B[0m \u001B[1;33m-\u001B[0m \u001B[0mlen\u001B[0m\u001B[1;33m(\u001B[0m\u001B[0mopposite_profile\u001B[0m\u001B[1;33m)\u001B[0m\u001B[1;33m)\u001B[0m\u001B[1;33m,\u001B[0m \u001B[0mconstant_values\u001B[0m\u001B[1;33m=\u001B[0m\u001B[0mnp\u001B[0m\u001B[1;33m.\u001B[0m\u001B[0mnan\u001B[0m\u001B[1;33m)\u001B[0m\u001B[1;33m)\u001B[0m\u001B[1;33m\u001B[0m\u001B[1;33m\u001B[0m\u001B[0m\n\u001B[0;32m     71\u001B[0m         \u001B[1;32melse\u001B[0m\u001B[1;33m:\u001B[0m\u001B[1;33m\u001B[0m\u001B[1;33m\u001B[0m\u001B[0m\n",
      "\u001B[1;32mc:\\users\\marks3\\pycharmprojects\\pythonproject3\\venv\\lib\\site-packages\\numpy\\core\\overrides.py\u001B[0m in \u001B[0;36mpad\u001B[1;34m(*args, **kwargs)\u001B[0m\n",
      "\u001B[1;32mc:\\users\\marks3\\pycharmprojects\\pythonproject3\\venv\\lib\\site-packages\\numpy\\lib\\arraypad.py\u001B[0m in \u001B[0;36mpad\u001B[1;34m(array, pad_width, mode, **kwargs)\u001B[0m\n\u001B[0;32m    742\u001B[0m \u001B[1;33m\u001B[0m\u001B[0m\n\u001B[0;32m    743\u001B[0m     \u001B[1;31m# Broadcast to shape (array.ndim, 2)\u001B[0m\u001B[1;33m\u001B[0m\u001B[1;33m\u001B[0m\u001B[1;33m\u001B[0m\u001B[0m\n\u001B[1;32m--> 744\u001B[1;33m     \u001B[0mpad_width\u001B[0m \u001B[1;33m=\u001B[0m \u001B[0m_as_pairs\u001B[0m\u001B[1;33m(\u001B[0m\u001B[0mpad_width\u001B[0m\u001B[1;33m,\u001B[0m \u001B[0marray\u001B[0m\u001B[1;33m.\u001B[0m\u001B[0mndim\u001B[0m\u001B[1;33m,\u001B[0m \u001B[0mas_index\u001B[0m\u001B[1;33m=\u001B[0m\u001B[1;32mTrue\u001B[0m\u001B[1;33m)\u001B[0m\u001B[1;33m\u001B[0m\u001B[1;33m\u001B[0m\u001B[0m\n\u001B[0m\u001B[0;32m    745\u001B[0m \u001B[1;33m\u001B[0m\u001B[0m\n\u001B[0;32m    746\u001B[0m     \u001B[1;32mif\u001B[0m \u001B[0mcallable\u001B[0m\u001B[1;33m(\u001B[0m\u001B[0mmode\u001B[0m\u001B[1;33m)\u001B[0m\u001B[1;33m:\u001B[0m\u001B[1;33m\u001B[0m\u001B[1;33m\u001B[0m\u001B[0m\n",
      "\u001B[1;32mc:\\users\\marks3\\pycharmprojects\\pythonproject3\\venv\\lib\\site-packages\\numpy\\lib\\arraypad.py\u001B[0m in \u001B[0;36m_as_pairs\u001B[1;34m(x, ndim, as_index)\u001B[0m\n\u001B[0;32m    508\u001B[0m             \u001B[0mx\u001B[0m \u001B[1;33m=\u001B[0m \u001B[0mx\u001B[0m\u001B[1;33m.\u001B[0m\u001B[0mravel\u001B[0m\u001B[1;33m(\u001B[0m\u001B[1;33m)\u001B[0m  \u001B[1;31m# Ensure x[0], x[1] works\u001B[0m\u001B[1;33m\u001B[0m\u001B[1;33m\u001B[0m\u001B[0m\n\u001B[0;32m    509\u001B[0m             \u001B[1;32mif\u001B[0m \u001B[0mas_index\u001B[0m \u001B[1;32mand\u001B[0m \u001B[1;33m(\u001B[0m\u001B[0mx\u001B[0m\u001B[1;33m[\u001B[0m\u001B[1;36m0\u001B[0m\u001B[1;33m]\u001B[0m \u001B[1;33m<\u001B[0m \u001B[1;36m0\u001B[0m \u001B[1;32mor\u001B[0m \u001B[0mx\u001B[0m\u001B[1;33m[\u001B[0m\u001B[1;36m1\u001B[0m\u001B[1;33m]\u001B[0m \u001B[1;33m<\u001B[0m \u001B[1;36m0\u001B[0m\u001B[1;33m)\u001B[0m\u001B[1;33m:\u001B[0m\u001B[1;33m\u001B[0m\u001B[1;33m\u001B[0m\u001B[0m\n\u001B[1;32m--> 510\u001B[1;33m                 \u001B[1;32mraise\u001B[0m \u001B[0mValueError\u001B[0m\u001B[1;33m(\u001B[0m\u001B[1;34m\"index can't contain negative values\"\u001B[0m\u001B[1;33m)\u001B[0m\u001B[1;33m\u001B[0m\u001B[1;33m\u001B[0m\u001B[0m\n\u001B[0m\u001B[0;32m    511\u001B[0m             \u001B[1;32mreturn\u001B[0m \u001B[1;33m(\u001B[0m\u001B[1;33m(\u001B[0m\u001B[0mx\u001B[0m\u001B[1;33m[\u001B[0m\u001B[1;36m0\u001B[0m\u001B[1;33m]\u001B[0m\u001B[1;33m,\u001B[0m \u001B[0mx\u001B[0m\u001B[1;33m[\u001B[0m\u001B[1;36m1\u001B[0m\u001B[1;33m]\u001B[0m\u001B[1;33m)\u001B[0m\u001B[1;33m,\u001B[0m\u001B[1;33m)\u001B[0m \u001B[1;33m*\u001B[0m \u001B[0mndim\u001B[0m\u001B[1;33m\u001B[0m\u001B[1;33m\u001B[0m\u001B[0m\n\u001B[0;32m    512\u001B[0m \u001B[1;33m\u001B[0m\u001B[0m\n",
      "\u001B[1;31mValueError\u001B[0m: index can't contain negative values"
     ]
    }
   ],
   "source": [
    "import numpy as np\n",
    "import pandas as pd\n",
    "import matplotlib.pyplot as plt\n",
    "import matplotlib.pyplot as plt\n",
    "# Reset to default settings\n",
    "plt.rcdefaults()\n",
    "import numpy as np\n",
    "import pandas as pd\n",
    "# make pdf compatible\n",
    "from matplotlib import rc\n",
    "rc('pdf', fonttype=42)\n",
    "from matplotlib import rcParams\n",
    "# Font settings for consistency\n",
    "rcParams.update({\n",
    "    'font.family': 'Arial',\n",
    "    'font.size': 10,\n",
    "    'axes.titlesize': 10,\n",
    "    'axes.labelsize': 10,\n",
    "    'xtick.labelsize': 8,\n",
    "    'ytick.labelsize': 8,\n",
    "    'legend.fontsize': 8\n",
    "})\n",
    "def average_saccade_profile(non_synced_saccade_collection, block_dict, window_ms=200, sampling_rate=60, export_path=None):\n",
    "    \"\"\"\n",
    "    This function compares monocular saccades against the opposite eye's movement.\n",
    "    \n",
    "    Parameters:\n",
    "    - non_synced_saccade_collection: DataFrame with monocular saccades.\n",
    "    - block_dict: Dictionary containing block instances.\n",
    "    - window_ms: Temporal window around the saccade (default: 200ms).\n",
    "    - sampling_rate: Data sampling rate in Hz (default: 60).\n",
    "    \n",
    "    Returns:\n",
    "    - Displays average saccade profiles.\n",
    "    \"\"\"\n",
    "\n",
    "    half_window = window_ms // 2\n",
    "    expected_length = int((window_ms / 1000) * sampling_rate)\n",
    "    time_axis = (np.arange(0,expected_length) * 1000/60) - half_window\n",
    "\n",
    "    saccade_profiles = []\n",
    "    opposite_eye_profiles = []\n",
    "\n",
    "    for _, row in non_synced_saccade_collection.iterrows():\n",
    "        block_num = row['block']\n",
    "        eye = row['eye']\n",
    "        start_ts = row['saccade_on_ms']\n",
    "        opposite_eye = 'L' if eye == 'R' else 'R'\n",
    "\n",
    "        block_key = f\"{row['animal']}_block_{block_num}\"\n",
    "        if block_key not in block_dict:\n",
    "            continue\n",
    "        \n",
    "        block = block_dict[block_key]\n",
    "        current_eye_data = block.left_eye_data if eye == 'L' else block.right_eye_data\n",
    "        opposite_eye_data = block.left_eye_data if opposite_eye == 'L' else block.right_eye_data\n",
    "        \n",
    "        \n",
    "        \n",
    "        saccade_profile = current_eye_data.query('ms_axis >= @start_ts - @half_window and ms_axis <= @start_ts + @half_window')['speed_r'].values\n",
    "        opposite_profile = opposite_eye_data.query('ms_axis >= @start_ts - @half_window and ms_axis <= @start_ts + @half_window')['speed_r'].values\n",
    "        if block_num == '007':\n",
    "            print('hi')\n",
    "        \n",
    "        if len(saccade_profile) == expected_length and len(opposite_profile) == expected_length:\n",
    "            saccade_profiles.append(saccade_profile)\n",
    "            opposite_eye_profiles.append(opposite_profile)\n",
    "        elif abs(len(saccade_profile) - expected_length) <= 10 and abs(len(opposite_profile) - expected_length) <= 10:\n",
    "            saccade_profiles.append(np.pad(saccade_profile, (0, expected_length - len(saccade_profile)), constant_values=np.nan))\n",
    "            opposite_eye_profiles.append(np.pad(opposite_profile, (0, expected_length - len(opposite_profile)), constant_values=np.nan))\n",
    "        else:\n",
    "            print(f\"Skipped saccade at {start_ts} due to length mismatch.\")\n",
    "\n",
    "    if not saccade_profiles or not opposite_eye_profiles:\n",
    "        print(\"No valid saccade profiles found.\")\n",
    "        return None, None\n",
    "\n",
    "    avg_saccade = np.nanmean(np.vstack(saccade_profiles), axis=0)\n",
    "    avg_opposite_eye = np.nanmean(np.vstack(opposite_eye_profiles), axis=0)\n",
    "\n",
    "    fig, ax = plt.subplots(figsize=(1.7, 1.2), dpi=100)\n",
    "    ax.grid(False)\n",
    "    ax.spines['top'].set_visible(False)\n",
    "    ax.spines['right'].set_visible(False)\n",
    "    ax.spines['left'].set_color('black')\n",
    "    ax.spines['bottom'].set_color('black')\n",
    "    ax.tick_params(axis='both', which='major', length=5, color='black')\n",
    "    ax.ticklabel_format(axis='y', style='plain')\n",
    "    ax.set_ylabel(\"Speed (pixels/ms)\", fontsize=10)\n",
    "    ax.tick_params(axis='both', labelsize=8)\n",
    "    ax.plot(time_axis, avg_saccade, label=\"Monocular Saccade\", color='g')\n",
    "    ax.plot(time_axis, avg_opposite_eye, label=\"Opposite Eye\", color='b')\n",
    "    ax.set_title(\"Average Saccade Profiles\")\n",
    "    ax.set_xlabel(\"Time (ms)\")\n",
    "    ax.legend(loc='center left', bbox_to_anchor=(0.6, 0.8), fontsize=6)\n",
    "    plt.show()\n",
    "\n",
    "    if export_path:\n",
    "        t = datetime.datetime.now().strftime(\"%Y_%m_%d_%H_%M\")\n",
    "        export_dir = export_path / f\"Saccade_Profile_{t}\"\n",
    "        os.makedirs(export_dir, exist_ok=True)\n",
    "\n",
    "        pdf_path = export_dir / \"average_saccade_profiles.pdf\"\n",
    "        fig.savefig(pdf_path, format='pdf', bbox_inches='tight')\n",
    "\n",
    "        data_dict = {\n",
    "            'time_axis': time_axis,\n",
    "            'avg_saccade': avg_saccade,\n",
    "            'avg_opposite_eye': avg_opposite_eye,\n",
    "            'saccade_collection': non_synced_saccade_collection\n",
    "        }\n",
    "        pickle_path = os.path.join(export_dir, \"saccade_profiles.pkl\")\n",
    "        with open(pickle_path, \"wb\") as f:\n",
    "            pickle.dump(data_dict, f)\n",
    "        print(f\"Data saved to {export_dir}\")\n",
    "\n",
    "    return saccade_profiles\n",
    "\n",
    "export_path =pathlib.Path(r'Z:\\Nimrod\\Paper_Figures\\2024_Personalized_headstage_eye_tracking\\Figure_3\\material\\Monocular_saccade_averages') \n",
    "saccade_profiles = average_saccade_profile(non_synced_saccade_collection, block_dict, window_ms=1000, sampling_rate=60, export_path=export_path)"
   ],
   "metadata": {
    "collapsed": false,
    "ExecuteTime": {
     "end_time": "2024-12-19T11:42:54.467360100Z",
     "start_time": "2024-12-19T11:42:45.231166100Z"
    }
   },
   "id": "fb81f20a5dfc050b",
   "execution_count": 10
  },
  {
   "cell_type": "code",
   "outputs": [],
   "source": [
    "# debugging here: "
   ],
   "metadata": {
    "collapsed": false,
    "ExecuteTime": {
     "end_time": "2024-12-19T11:44:09.499630900Z",
     "start_time": "2024-12-19T11:44:09.466373Z"
    }
   },
   "id": "613f7a450015cb17",
   "execution_count": 11
  },
  {
   "cell_type": "code",
   "outputs": [
    {
     "name": "stdout",
     "output_type": "stream",
     "text": [
      "hi\n"
     ]
    },
    {
     "ename": "ValueError",
     "evalue": "index can't contain negative values",
     "output_type": "error",
     "traceback": [
      "\u001B[1;31m---------------------------------------------------------------------------\u001B[0m",
      "\u001B[1;31mValueError\u001B[0m                                Traceback (most recent call last)",
      "\u001B[1;32m<ipython-input-20-816fe8d938aa>\u001B[0m in \u001B[0;36m<module>\u001B[1;34m\u001B[0m\n\u001B[0;32m     33\u001B[0m         \u001B[0mopposite_eye_profiles\u001B[0m\u001B[1;33m.\u001B[0m\u001B[0mappend\u001B[0m\u001B[1;33m(\u001B[0m\u001B[0mopposite_profile\u001B[0m\u001B[1;33m)\u001B[0m\u001B[1;33m\u001B[0m\u001B[1;33m\u001B[0m\u001B[0m\n\u001B[0;32m     34\u001B[0m     \u001B[1;32melif\u001B[0m \u001B[0mabs\u001B[0m\u001B[1;33m(\u001B[0m\u001B[0mlen\u001B[0m\u001B[1;33m(\u001B[0m\u001B[0msaccade_profile\u001B[0m\u001B[1;33m)\u001B[0m \u001B[1;33m-\u001B[0m \u001B[0mexpected_length\u001B[0m\u001B[1;33m)\u001B[0m \u001B[1;33m<=\u001B[0m \u001B[1;36m10\u001B[0m \u001B[1;32mand\u001B[0m \u001B[0mabs\u001B[0m\u001B[1;33m(\u001B[0m\u001B[0mlen\u001B[0m\u001B[1;33m(\u001B[0m\u001B[0mopposite_profile\u001B[0m\u001B[1;33m)\u001B[0m \u001B[1;33m-\u001B[0m \u001B[0mexpected_length\u001B[0m\u001B[1;33m)\u001B[0m \u001B[1;33m<=\u001B[0m \u001B[1;36m10\u001B[0m\u001B[1;33m:\u001B[0m\u001B[1;33m\u001B[0m\u001B[1;33m\u001B[0m\u001B[0m\n\u001B[1;32m---> 35\u001B[1;33m         \u001B[0msaccade_profiles\u001B[0m\u001B[1;33m.\u001B[0m\u001B[0mappend\u001B[0m\u001B[1;33m(\u001B[0m\u001B[0mnp\u001B[0m\u001B[1;33m.\u001B[0m\u001B[0mpad\u001B[0m\u001B[1;33m(\u001B[0m\u001B[0msaccade_profile\u001B[0m\u001B[1;33m,\u001B[0m \u001B[1;33m(\u001B[0m\u001B[1;36m0\u001B[0m\u001B[1;33m,\u001B[0m \u001B[0mexpected_length\u001B[0m \u001B[1;33m-\u001B[0m \u001B[0mlen\u001B[0m\u001B[1;33m(\u001B[0m\u001B[0msaccade_profile\u001B[0m\u001B[1;33m)\u001B[0m\u001B[1;33m)\u001B[0m\u001B[1;33m,\u001B[0m \u001B[0mconstant_values\u001B[0m\u001B[1;33m=\u001B[0m\u001B[0mnp\u001B[0m\u001B[1;33m.\u001B[0m\u001B[0mnan\u001B[0m\u001B[1;33m)\u001B[0m\u001B[1;33m)\u001B[0m\u001B[1;33m\u001B[0m\u001B[1;33m\u001B[0m\u001B[0m\n\u001B[0m\u001B[0;32m     36\u001B[0m         \u001B[0mopposite_eye_profiles\u001B[0m\u001B[1;33m.\u001B[0m\u001B[0mappend\u001B[0m\u001B[1;33m(\u001B[0m\u001B[0mnp\u001B[0m\u001B[1;33m.\u001B[0m\u001B[0mpad\u001B[0m\u001B[1;33m(\u001B[0m\u001B[0mopposite_profile\u001B[0m\u001B[1;33m,\u001B[0m \u001B[1;33m(\u001B[0m\u001B[1;36m0\u001B[0m\u001B[1;33m,\u001B[0m \u001B[0mexpected_length\u001B[0m \u001B[1;33m-\u001B[0m \u001B[0mlen\u001B[0m\u001B[1;33m(\u001B[0m\u001B[0mopposite_profile\u001B[0m\u001B[1;33m)\u001B[0m\u001B[1;33m)\u001B[0m\u001B[1;33m,\u001B[0m \u001B[0mconstant_values\u001B[0m\u001B[1;33m=\u001B[0m\u001B[0mnp\u001B[0m\u001B[1;33m.\u001B[0m\u001B[0mnan\u001B[0m\u001B[1;33m)\u001B[0m\u001B[1;33m)\u001B[0m\u001B[1;33m\u001B[0m\u001B[1;33m\u001B[0m\u001B[0m\n\u001B[0;32m     37\u001B[0m     \u001B[1;32melse\u001B[0m\u001B[1;33m:\u001B[0m\u001B[1;33m\u001B[0m\u001B[1;33m\u001B[0m\u001B[0m\n",
      "\u001B[1;32mc:\\users\\marks3\\pycharmprojects\\pythonproject3\\venv\\lib\\site-packages\\numpy\\core\\overrides.py\u001B[0m in \u001B[0;36mpad\u001B[1;34m(*args, **kwargs)\u001B[0m\n",
      "\u001B[1;32mc:\\users\\marks3\\pycharmprojects\\pythonproject3\\venv\\lib\\site-packages\\numpy\\lib\\arraypad.py\u001B[0m in \u001B[0;36mpad\u001B[1;34m(array, pad_width, mode, **kwargs)\u001B[0m\n\u001B[0;32m    742\u001B[0m \u001B[1;33m\u001B[0m\u001B[0m\n\u001B[0;32m    743\u001B[0m     \u001B[1;31m# Broadcast to shape (array.ndim, 2)\u001B[0m\u001B[1;33m\u001B[0m\u001B[1;33m\u001B[0m\u001B[1;33m\u001B[0m\u001B[0m\n\u001B[1;32m--> 744\u001B[1;33m     \u001B[0mpad_width\u001B[0m \u001B[1;33m=\u001B[0m \u001B[0m_as_pairs\u001B[0m\u001B[1;33m(\u001B[0m\u001B[0mpad_width\u001B[0m\u001B[1;33m,\u001B[0m \u001B[0marray\u001B[0m\u001B[1;33m.\u001B[0m\u001B[0mndim\u001B[0m\u001B[1;33m,\u001B[0m \u001B[0mas_index\u001B[0m\u001B[1;33m=\u001B[0m\u001B[1;32mTrue\u001B[0m\u001B[1;33m)\u001B[0m\u001B[1;33m\u001B[0m\u001B[1;33m\u001B[0m\u001B[0m\n\u001B[0m\u001B[0;32m    745\u001B[0m \u001B[1;33m\u001B[0m\u001B[0m\n\u001B[0;32m    746\u001B[0m     \u001B[1;32mif\u001B[0m \u001B[0mcallable\u001B[0m\u001B[1;33m(\u001B[0m\u001B[0mmode\u001B[0m\u001B[1;33m)\u001B[0m\u001B[1;33m:\u001B[0m\u001B[1;33m\u001B[0m\u001B[1;33m\u001B[0m\u001B[0m\n",
      "\u001B[1;32mc:\\users\\marks3\\pycharmprojects\\pythonproject3\\venv\\lib\\site-packages\\numpy\\lib\\arraypad.py\u001B[0m in \u001B[0;36m_as_pairs\u001B[1;34m(x, ndim, as_index)\u001B[0m\n\u001B[0;32m    508\u001B[0m             \u001B[0mx\u001B[0m \u001B[1;33m=\u001B[0m \u001B[0mx\u001B[0m\u001B[1;33m.\u001B[0m\u001B[0mravel\u001B[0m\u001B[1;33m(\u001B[0m\u001B[1;33m)\u001B[0m  \u001B[1;31m# Ensure x[0], x[1] works\u001B[0m\u001B[1;33m\u001B[0m\u001B[1;33m\u001B[0m\u001B[0m\n\u001B[0;32m    509\u001B[0m             \u001B[1;32mif\u001B[0m \u001B[0mas_index\u001B[0m \u001B[1;32mand\u001B[0m \u001B[1;33m(\u001B[0m\u001B[0mx\u001B[0m\u001B[1;33m[\u001B[0m\u001B[1;36m0\u001B[0m\u001B[1;33m]\u001B[0m \u001B[1;33m<\u001B[0m \u001B[1;36m0\u001B[0m \u001B[1;32mor\u001B[0m \u001B[0mx\u001B[0m\u001B[1;33m[\u001B[0m\u001B[1;36m1\u001B[0m\u001B[1;33m]\u001B[0m \u001B[1;33m<\u001B[0m \u001B[1;36m0\u001B[0m\u001B[1;33m)\u001B[0m\u001B[1;33m:\u001B[0m\u001B[1;33m\u001B[0m\u001B[1;33m\u001B[0m\u001B[0m\n\u001B[1;32m--> 510\u001B[1;33m                 \u001B[1;32mraise\u001B[0m \u001B[0mValueError\u001B[0m\u001B[1;33m(\u001B[0m\u001B[1;34m\"index can't contain negative values\"\u001B[0m\u001B[1;33m)\u001B[0m\u001B[1;33m\u001B[0m\u001B[1;33m\u001B[0m\u001B[0m\n\u001B[0m\u001B[0;32m    511\u001B[0m             \u001B[1;32mreturn\u001B[0m \u001B[1;33m(\u001B[0m\u001B[1;33m(\u001B[0m\u001B[0mx\u001B[0m\u001B[1;33m[\u001B[0m\u001B[1;36m0\u001B[0m\u001B[1;33m]\u001B[0m\u001B[1;33m,\u001B[0m \u001B[0mx\u001B[0m\u001B[1;33m[\u001B[0m\u001B[1;36m1\u001B[0m\u001B[1;33m]\u001B[0m\u001B[1;33m)\u001B[0m\u001B[1;33m,\u001B[0m\u001B[1;33m)\u001B[0m \u001B[1;33m*\u001B[0m \u001B[0mndim\u001B[0m\u001B[1;33m\u001B[0m\u001B[1;33m\u001B[0m\u001B[0m\n\u001B[0;32m    512\u001B[0m \u001B[1;33m\u001B[0m\u001B[0m\n",
      "\u001B[1;31mValueError\u001B[0m: index can't contain negative values"
     ]
    }
   ],
   "source": [
    "window_ms = 200 \n",
    "sampling_rate =60\n",
    "half_window = window_ms // 2\n",
    "expected_length = int(np.round((window_ms / 1000) * sampling_rate))\n",
    "time_axis = (np.arange(0,expected_length) * 1000/60) - half_window\n",
    "\n",
    "saccade_profiles = []\n",
    "opposite_eye_profiles = []\n",
    "\n",
    "for _, row in non_synced_saccade_collection.iterrows():\n",
    "    block_num = row['block']\n",
    "    eye = row['eye']\n",
    "    start_ts = row['saccade_on_ms']\n",
    "    opposite_eye = 'L' if eye == 'R' else 'R'\n",
    "\n",
    "    block_key = f\"{row['animal']}_block_{block_num}\"\n",
    "    if block_key not in block_dict:\n",
    "        continue\n",
    "    \n",
    "    block = block_dict[block_key]\n",
    "    current_eye_data = block.left_eye_data if eye == 'L' else block.right_eye_data\n",
    "    opposite_eye_data = block.left_eye_data if opposite_eye == 'L' else block.right_eye_data\n",
    "    \n",
    "    \n",
    "    \n",
    "    saccade_profile = current_eye_data.query('ms_axis >= @start_ts - @half_window and ms_axis <= @start_ts + @half_window')['speed_r'].values\n",
    "    opposite_profile = opposite_eye_data.query('ms_axis >= @start_ts - @half_window and ms_axis <= @start_ts + @half_window')['speed_r'].values\n",
    "    if block_num == '007':\n",
    "        print('hi')\n",
    "    \n",
    "    if len(saccade_profile) == expected_length and len(opposite_profile) == expected_length:\n",
    "        saccade_profiles.append(saccade_profile)\n",
    "        opposite_eye_profiles.append(opposite_profile)\n",
    "    elif abs(len(saccade_profile) - expected_length) <= 10 and abs(len(opposite_profile) - expected_length) <= 10:\n",
    "        saccade_profiles.append(np.pad(saccade_profile, (0, expected_length - len(saccade_profile)), constant_values=np.nan))\n",
    "        opposite_eye_profiles.append(np.pad(opposite_profile, (0, expected_length - len(opposite_profile)), constant_values=np.nan))\n",
    "    else:\n",
    "        print(f\"Skipped saccade at {start_ts} due to length mismatch.\")\n",
    "\n",
    "if not saccade_profiles or not opposite_eye_profiles:\n",
    "    print(\"No valid saccade profiles found.\")\n",
    "\n",
    "\n",
    "avg_saccade = np.nanmean(np.vstack(saccade_profiles), axis=0)\n",
    "avg_opposite_eye = np.nanmean(np.vstack(opposite_eye_profiles), axis=0)\n",
    "\n",
    "fig, ax = plt.subplots(figsize=(1.7, 1.2), dpi=100)\n",
    "ax.grid(False)\n",
    "ax.spines['top'].set_visible(False)\n",
    "ax.spines['right'].set_visible(False)\n",
    "ax.spines['left'].set_color('black')\n",
    "ax.spines['bottom'].set_color('black')\n",
    "ax.tick_params(axis='both', which='major', length=5, color='black')\n",
    "ax.ticklabel_format(axis='y', style='plain')\n",
    "ax.set_ylabel(\"Speed (pixels/ms)\", fontsize=10)\n",
    "ax.tick_params(axis='both', labelsize=8)\n",
    "ax.plot(time_axis, avg_saccade, label=\"Monocular Saccade\", color='g')\n",
    "ax.plot(time_axis, avg_opposite_eye, label=\"Opposite Eye\", color='b')\n",
    "ax.set_title(\"Average Saccade Profiles\")\n",
    "ax.set_xlabel(\"Time (ms)\")\n",
    "ax.legend(loc='center left', bbox_to_anchor=(0.6, 0.8), fontsize=6)\n",
    "plt.show()\n",
    "\n",
    "\n",
    "\n"
   ],
   "metadata": {
    "collapsed": false,
    "ExecuteTime": {
     "end_time": "2024-12-19T11:47:05.777263700Z",
     "start_time": "2024-12-19T11:46:56.973470900Z"
    }
   },
   "id": "ec13ba2208b2ab5b",
   "execution_count": 20
  },
  {
   "cell_type": "code",
   "outputs": [],
   "source": [
    "import os\n",
    "import pathlib\n",
    "import datetime\n",
    "import numpy as np\n",
    "import matplotlib.pyplot as plt\n",
    "import pickle\n",
    "\n",
    "def process_profile(profile, expected_length):\n",
    "    \"\"\"\n",
    "    Adjusts a profile to the expected length by either padding or snipping.\n",
    "    \"\"\"\n",
    "    current_length = len(profile)\n",
    "    \n",
    "    if current_length == expected_length:\n",
    "        return profile\n",
    "\n",
    "    # Snip or pad to match the expected length\n",
    "    if current_length > expected_length:\n",
    "        excess = (current_length - expected_length) // 2\n",
    "        return profile[excess:excess + expected_length]\n",
    "    else:\n",
    "        pad_before = (expected_length - current_length) // 2\n",
    "        pad_after = expected_length - current_length - pad_before\n",
    "        return np.pad(profile, (pad_before, pad_after), constant_values=np.nan)\n",
    "\n",
    "def average_saccade_profile(non_synced_saccade_collection, block_dict, window_ms=200, sampling_rate=60, export_path=None):\n",
    "    half_window = window_ms // 2\n",
    "    expected_length = int((window_ms / 1000) * sampling_rate)\n",
    "    time_axis = (np.arange(expected_length) * 1000 / sampling_rate) - half_window\n",
    "\n",
    "    saccade_profiles = []\n",
    "    opposite_eye_profiles = []\n",
    "\n",
    "    for _, row in non_synced_saccade_collection.iterrows():\n",
    "        block_num = row['block']\n",
    "        eye = row['eye']\n",
    "        start_ts = row['saccade_on_ms']\n",
    "        opposite_eye = 'L' if eye == 'R' else 'R'\n",
    "\n",
    "        block_key = f\"{row['animal']}_block_{block_num}\"\n",
    "        if block_key not in block_dict:\n",
    "            continue\n",
    "        \n",
    "        block = block_dict[block_key]\n",
    "        current_eye_data = block.left_eye_data if eye == 'L' else block.right_eye_data\n",
    "        opposite_eye_data = block.left_eye_data if opposite_eye == 'L' else block.right_eye_data\n",
    "        \n",
    "        saccade_profile = current_eye_data.query(\n",
    "            'ms_axis >= @start_ts - @half_window and ms_axis <= @start_ts + @half_window')['speed_r'].values\n",
    "        opposite_profile = opposite_eye_data.query(\n",
    "            'ms_axis >= @start_ts - @half_window and ms_axis <= @start_ts + @half_window')['speed_r'].values\n",
    "\n",
    "        if len(saccade_profile) == 0 or len(opposite_profile) == 0:\n",
    "            print(f\"Skipped saccade at {start_ts} due to missing data.\")\n",
    "            continue\n",
    "\n",
    "        # Ensure fixed length through padding or snipping\n",
    "        saccade_profiles.append(process_profile(saccade_profile, expected_length))\n",
    "        opposite_eye_profiles.append(process_profile(opposite_profile, expected_length))\n",
    "\n",
    "    if not saccade_profiles or not opposite_eye_profiles:\n",
    "        print(\"No valid saccade profiles found.\")\n",
    "        return None, None\n",
    "\n",
    "    avg_saccade = np.nanmean(np.vstack(saccade_profiles), axis=0)\n",
    "    avg_opposite_eye = np.nanmean(np.vstack(opposite_eye_profiles), axis=0)\n",
    "\n",
    "    # Plot the results\n",
    "    fig, ax = plt.subplots(figsize=(1.7, 1.2), dpi=100)\n",
    "    ax.grid(False)\n",
    "    ax.spines['top'].set_visible(False)\n",
    "    ax.spines['right'].set_visible(False)\n",
    "    ax.spines['left'].set_color('black')\n",
    "    ax.spines['bottom'].set_color('black')\n",
    "    ax.tick_params(axis='both', which='major', length=5, color='black')\n",
    "    ax.ticklabel_format(axis='y', style='plain')\n",
    "    ax.set_ylabel(\"Speed (pixels/ms)\", fontsize=10)\n",
    "    ax.tick_params(axis='both', labelsize=8)\n",
    "    ax.plot(time_axis, avg_saccade, label=\"Monocular Saccade\", color='g')\n",
    "    ax.plot(time_axis, avg_opposite_eye, label=\"Opposite Eye\", color='b')\n",
    "    ax.set_title(\"Average Saccade Profiles\")\n",
    "    ax.set_xlabel(\"Time (ms)\")\n",
    "    ax.legend(loc='center left', bbox_to_anchor=(0.6, 0.8), fontsize=6)\n",
    "    plt.show()\n",
    "\n",
    "    # Save results\n",
    "    if export_path:\n",
    "        t = datetime.datetime.now().strftime(\"%Y_%m_%d_%H_%M\")\n",
    "        export_dir = pathlib.Path(export_path) / f\"Saccade_Profile_{t}\"\n",
    "        os.makedirs(export_dir, exist_ok=True)\n",
    "\n",
    "        pdf_path = export_dir / \"average_saccade_profiles.pdf\"\n",
    "        fig.savefig(pdf_path, format='pdf', bbox_inches='tight')\n",
    "\n",
    "        data_dict = {\n",
    "            'time_axis': time_axis,\n",
    "            'avg_saccade': avg_saccade,\n",
    "            'avg_opposite_eye': avg_opposite_eye,\n",
    "            'saccade_collection': non_synced_saccade_collection\n",
    "        }\n",
    "        pickle_path = export_dir / \"saccade_profiles.pkl\"\n",
    "        with open(pickle_path, \"wb\") as f:\n",
    "            pickle.dump(data_dict, f)\n",
    "        print(f\"Data saved to {export_dir}\")\n",
    "\n",
    "    return saccade_profiles, opposite_eye_profiles\n"
   ],
   "metadata": {
    "collapsed": false,
    "ExecuteTime": {
     "end_time": "2024-12-19T11:59:53.093566900Z",
     "start_time": "2024-12-19T11:59:53.073560100Z"
    }
   },
   "id": "4507267a3c03507d",
   "execution_count": 31
  },
  {
   "cell_type": "code",
   "outputs": [
    {
     "data": {
      "text/plain": "<Figure size 170x120 with 1 Axes>",
      "image/png": "[encoded data removed]"
     },
     "metadata": {},
     "output_type": "display_data"
    }
   ],
   "source": [
    "export_path =pathlib.Path(r'Z:\\Nimrod\\Paper_Figures\\2024_Personalized_headstage_eye_tracking\\Figure_3\\materials\\Monocular_saccade_averages') \n",
    "saccade_profiles = average_saccade_profile(non_synced_saccade_collection, block_dict, window_ms=1000, sampling_rate=60, export_path=None)"
   ],
   "metadata": {
    "collapsed": false,
    "ExecuteTime": {
     "end_time": "2024-12-19T19:42:29.528074300Z",
     "start_time": "2024-12-19T19:42:14.706129Z"
    }
   },
   "id": "8eb6753ea57c75a3",
   "execution_count": 45
  },
  {
   "cell_type": "code",
   "outputs": [
    {
     "data": {
      "text/plain": "<Figure size 170x120 with 1 Axes>",
      "image/png": "[encoded data removed]"
     },
     "metadata": {},
     "output_type": "display_data"
    }
   ],
   "source": [
    "no_head_mov_saccades = non_synced_saccade_collection.query('head_movement == True')\n",
    "export_path =pathlib.Path(r'Z:\\Nimrod\\Paper_Figures\\2024_Personalized_headstage_eye_tracking\\Figure_3\\materials\\Monocular_saccade_averages_no_head_mov') \n",
    "saccade_profiles = average_saccade_profile(no_head_mov_saccades, block_dict, window_ms=1000, sampling_rate=60, export_path=None)"
   ],
   "metadata": {
    "collapsed": false,
    "ExecuteTime": {
     "end_time": "2024-12-19T19:43:15.216075500Z",
     "start_time": "2024-12-19T19:43:09.134022400Z"
    }
   },
   "id": "a7567e51eb0f072d",
   "execution_count": 46
  },
  {
   "cell_type": "code",
   "outputs": [
    {
     "data": {
      "text/plain": "0      False\n1      False\n9      False\n11     False\n13      True\n       ...  \n428    False\n430    False\n431    False\n432    False\n433    False\nName: head_movement, Length: 3231, dtype: bool"
     },
     "execution_count": 43,
     "metadata": {},
     "output_type": "execute_result"
    }
   ],
   "source": [
    "non_synced_saccade_collection.query('head_movement == False')"
   ],
   "metadata": {
    "collapsed": false,
    "ExecuteTime": {
     "end_time": "2024-12-19T19:40:20.429535800Z",
     "start_time": "2024-12-19T19:40:20.380504700Z"
    }
   },
   "id": "e01cc76a47f5d10c",
   "execution_count": 43
  },
  {
   "cell_type": "code",
   "outputs": [],
   "source": [],
   "metadata": {
    "collapsed": false
   },
   "id": "ba85353687235909"
  }
 ],
 "metadata": {
  "kernelspec": {
   "display_name": "Python 3",
   "language": "python",
   "name": "python3"
  },
  "language_info": {
   "codemirror_mode": {
    "name": "ipython",
    "version": 2
   },
   "file_extension": ".py",
   "mimetype": "text/x-python",
   "name": "python",
   "nbconvert_exporter": "python",
   "pygments_lexer": "ipython2",
   "version": "2.7.6"
  }
 },
 "nbformat": 4,
 "nbformat_minor": 5
}
