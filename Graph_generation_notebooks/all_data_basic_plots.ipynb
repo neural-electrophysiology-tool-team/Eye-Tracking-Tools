{
 "cells": [
  {
   "cell_type": "code",
   "outputs": [],
   "source": [
    "\n",
    "import datetime\n",
    "import numpy as np\n",
    "import cv2\n",
    "from itertools import cycle\n",
    "import pickle\n",
    "import pathlib\n",
    "import math\n",
    "import tqdm\n",
    "import scipy.io\n",
    "from matplotlib import pyplot as plt\n",
    "import scipy.io\n",
    "import h5py\n",
    "import re\n",
    "from lxml import etree as ET\n",
    "import scipy.signal as sig\n",
    "import pandas as pd\n",
    "from scipy.stats import kde\n",
    "from BlockSync_current import BlockSync\n",
    "import UtilityFunctions_newOE as uf\n",
    "from scipy import signal\n",
    "import bokeh\n",
    "import seaborn as sns\n",
    "from matplotlib import rcParams\n",
    "%matplotlib inline\n",
    "plt.style.use('default')\n",
    "rcParams['pdf.fonttype'] = 42  # Ensure fonts are embedded and editable\n",
    "rcParams['ps.fonttype'] = 42  # Ensure compatibility with vector outputs\n",
    "\n",
    "\n",
    "def bokeh_plotter(data_list, x_axis_list=None, label_list=None, \n",
    "                  plot_name='default',\n",
    "                  x_axis_label='X', y_axis_label='Y',\n",
    "                  peaks=None, peaks_list=False, export_path=False):\n",
    "    \"\"\"Generates an interactive Bokeh plot for the given data vector.\n",
    "    Args:\n",
    "        data_list (list or array): The data to be plotted.\n",
    "        label_list (list of str): The labels of the data vectors\n",
    "        plot_name (str, optional): The title of the plot. Defaults to 'default'.\n",
    "        x_axis (str, optional): The label for the x-axis. Defaults to 'X'.\n",
    "        y_axis (str, optional): The label for the y-axis. Defaults to 'Y'.\n",
    "        peaks (list or array, optional): Indices of peaks to highlight on the plot. Defaults to None.\n",
    "        export_path (False or str): when set to str, will output the resulting html fig\n",
    "    \"\"\"\n",
    "    color_cycle = cycle(bokeh.palettes.Category10_10)\n",
    "    fig = bokeh.plotting.figure(title=f'bokeh explorer: {plot_name}',\n",
    "                                x_axis_label=x_axis_label,\n",
    "                                y_axis_label=y_axis_label,\n",
    "                                plot_width=1500,\n",
    "                                plot_height=700)\n",
    "\n",
    "    for i, data_vector in enumerate(data_list):\n",
    "        \n",
    "        color = next(color_cycle)\n",
    "        \n",
    "        if x_axis_list is None:\n",
    "            x_axis = range(len(data_vector))\n",
    "        elif len(x_axis_list) == len(data_list):\n",
    "            print('x_axis manually set')\n",
    "            x_axis = x_axis_list[i]\n",
    "        else:\n",
    "            raise Exception('problem with x_axis_list input - should be either None, or a list with the same length as data_list')\n",
    "        if label_list is None:\n",
    "            fig.line(x_axis, data_vector, line_color=color, legend_label=f\"Line {i+1}\")\n",
    "        elif len(label_list) == len(data_list):\n",
    "            fig.line(range(len(data_vector)), data_vector, line_color=color, legend_label=f\"{label_list[i]}\")\n",
    "        if peaks is not None and peaks_list is True:\n",
    "            fig.circle(peaks[i], data_vector[peaks[i]], size=10, color=color)\n",
    "\n",
    "    if peaks is not None and peaks_list is False:\n",
    "        fig.circle(peaks, data_vector[peaks], size=10, color='red')\n",
    "\n",
    "    if export_path is not False:\n",
    "        print(f'exporting to {export_path}')\n",
    "        bokeh.io.output.output_file(filename=str(export_path / f'{plot_name}.html'), title=f'{plot_name}')\n",
    "    bokeh.plotting.show(fig)\n",
    "    \n",
    "\n",
    "def load_eye_data_2d_w_rotation_matrix(block):\n",
    "    \"\"\"\n",
    "    This function checks if the eye dataframes and rotation dict object exist, then imports them\n",
    "    :param block: The current blocksync class with verifiec re/le dfs\n",
    "    :return: None\n",
    "    \"\"\"\n",
    "    try:\n",
    "        block.left_eye_data = pd.read_csv(block.analysis_path / 'left_eye_data.csv', index_col=0, engine='python')\n",
    "        block.right_eye_data = pd.read_csv(block.analysis_path / 'right_eye_data.csv', index_col=0, engine='python')\n",
    "    except FileNotFoundError:\n",
    "        print('eye_data files not found, run the pipeline!')\n",
    "        return\n",
    "    \n",
    "    try:\n",
    "        with open(block.analysis_path / 'rotate_eye_data_params.pkl', 'rb') as file:\n",
    "            rotation_dict = pickle.load(file)\n",
    "            block.left_rotation_matrix = rotation_dict['left_rotation_matrix']\n",
    "            block.right_rotation_matrix = rotation_dict['right_rotation_matrix']\n",
    "            block.left_rotation_angle = rotation_dict['left_rotation_angle']\n",
    "            block.right_rotation_angle = rotation_dict['right_rotation_angle']\n",
    "    except FileNotFoundError:\n",
    "        print('No rotation matrix file, create it')\n",
    "    \n",
    "    \n",
    "def create_saccade_events_df(eye_data_df, speed_threshold, bokeh_verify_threshold=False, magnitude_calib=1, speed_profile=True):    \n",
    "    \"\"\"\n",
    "    Detects saccade events in eye tracking data and computes relevant metrics.\n",
    "\n",
    "    Parameters:\n",
    "    - eye_data_df (pd.DataFrame): Input DataFrame containing eye tracking data.\n",
    "    - speed_threshold (float): Threshold for saccade detection based on speed.\n",
    "\n",
    "    Returns:\n",
    "    - df (pd.DataFrame): Modified input DataFrame with added columns for speed and saccade detection.\n",
    "    - saccade_events_df (pd.DataFrame): DataFrame containing information about detected saccade events.\n",
    "\n",
    "    Steps:\n",
    "    1. Calculate speed components ('speed_x', 'speed_y') based on differences in 'center_x' and 'center_y'.\n",
    "    2. Compute the magnitude of the velocity vector ('speed_r').\n",
    "    3. Create a binary column ('is_saccade') indicating saccade events based on the speed threshold.\n",
    "    4. Determine saccade onset and offset indices and timestamps.\n",
    "    5. Create a DataFrame ('saccade_events_df') with columns:\n",
    "        - 'saccade_start_ind': Indices of saccade onset.\n",
    "        - 'saccade_start_timestamp': Timestamps corresponding to saccade onset.\n",
    "        - 'saccade_end_ind': Indices of saccade offset.\n",
    "        - 'saccade_end_timestamp': Timestamps corresponding to saccade offset.\n",
    "        - 'length': Duration of each saccade event.\n",
    "    6. Calculate distance traveled and angles for each saccade event.\n",
    "    7. Append additional columns to 'saccade_events_df':\n",
    "        - 'magnitude': Magnitude of the distance traveled during each saccade.\n",
    "        - 'angle': Angle of the saccade vector in degrees.\n",
    "        - 'initial_x', 'initial_y': Initial coordinates of the saccade.\n",
    "        - 'end_x', 'end_y': End coordinates of the saccade.\n",
    "\n",
    "    Note: The original 'eye_data_df' is not modified; modified data is returned as 'df'.\n",
    "    \"\"\"\n",
    "    df = eye_data_df\n",
    "    df['speed_x'] = df['center_x'].diff()  # Difference between consecutive 'center_x' values\n",
    "    df['speed_y'] = df['center_y'].diff()  # Difference between consecutive 'center_y' values\n",
    "    \n",
    "    # Step 2: Calculate magnitude of the velocity vector (R vector speed)\n",
    "    df['speed_r'] = (df['speed_x']**2 + df['speed_y']**2)**0.5\n",
    "    \n",
    "    # Create a column for saccade detection\n",
    "    df['is_saccade'] = df['speed_r'] > speed_threshold\n",
    "    \n",
    "    # create a saccade_on_off indicator where 1 is rising edge and -1 is falling edge by subtracting a shifted binary mask\n",
    "    saccade_on_off = df.is_saccade.astype(int) - df.is_saccade.shift(periods=1,fill_value=False).astype(int)\n",
    "    saccade_on_inds = np.where(saccade_on_off == 1)[0] - 1 # notice the manual shift here, chosen to include the first (sometimes slower) eye frame, just before saccade threshold crossing\n",
    "    saccade_on_ms = df['ms_axis'].iloc[saccade_on_inds]\n",
    "    saccade_on_timestamps = df['OE_timestamp'].iloc[saccade_on_inds]\n",
    "    saccade_off_inds = np.where(saccade_on_off == -1)[0]\n",
    "    saccade_off_timestamps = df['OE_timestamp'].iloc[saccade_off_inds]\n",
    "    saccade_off_ms = df['ms_axis'].iloc[saccade_off_inds]\n",
    "    \n",
    "    saccade_dict = {'saccade_start_ind' :  saccade_on_inds ,\n",
    "                    'saccade_start_timestamp': saccade_on_timestamps.values,\n",
    "                    'saccade_end_ind':      saccade_off_inds,\n",
    "                    'saccade_end_timestamp':saccade_off_timestamps.values,\n",
    "                    'saccade_on_ms': saccade_on_ms.values,\n",
    "                    'saccade_off_ms': saccade_off_ms.values}\n",
    "    \n",
    "    saccade_events_df = pd.DataFrame.from_dict(saccade_dict)\n",
    "    saccade_events_df['length'] = saccade_events_df['saccade_end_ind'] - saccade_events_df['saccade_start_ind']\n",
    "    # Drop columns used for intermediate steps\n",
    "    df = df.drop(['is_saccade'], axis=1)\n",
    "    \n",
    "    distances = []\n",
    "    angles = []\n",
    "    speed_list = []\n",
    "    diameter_list = []\n",
    "    for index, row in tqdm.tqdm(saccade_events_df.iterrows()):\n",
    "        saccade_samples = df.loc[(df['OE_timestamp'] >= row['saccade_start_timestamp']) & \n",
    "                                 (df['OE_timestamp'] <= row['saccade_end_timestamp'])]\n",
    "        distance_traveled = saccade_samples['speed_r'].sum()\n",
    "        if speed_profile:\n",
    "            saccade_speed_profile = saccade_samples['speed_r'].values\n",
    "            speed_list.append(saccade_speed_profile)\n",
    "        saccade_diameter_profile = saccade_samples['pupil_diameter'].values\n",
    "        diameter_list.append(saccade_diameter_profile)\n",
    "        # Calculate angle from initial position to endpoint\n",
    "        initial_position = saccade_samples.iloc[0][['center_x', 'center_y']]\n",
    "        endpoint = saccade_samples.iloc[-1][['center_x', 'center_y']]\n",
    "        overall_angle = np.arctan2(endpoint['center_y'] - initial_position['center_y'],\n",
    "                           endpoint['center_x'] - initial_position['center_x'])\n",
    "        \n",
    "        angles.append(overall_angle)  \n",
    "        distances.append(distance_traveled)\n",
    "        \n",
    "        \n",
    "    \n",
    "    saccade_events_df['magnitude_raw'] = np.array(distances)\n",
    "    saccade_events_df['magnitude'] = np.array(distances) * magnitude_calib\n",
    "    saccade_events_df['angle'] = np.where(np.isnan(angles), angles, np.rad2deg(angles) % 360) # Convert radians to degrees and ensure result is in [0, 360)\n",
    "    start_ts = saccade_events_df['saccade_start_timestamp'].values\n",
    "    end_ts = saccade_events_df['saccade_end_timestamp'].values\n",
    "    saccade_start_df = df[df['OE_timestamp'].isin(start_ts)]\n",
    "    saccade_end_df = df[df['OE_timestamp'].isin(end_ts)]\n",
    "    start_x_coord = saccade_start_df['center_x']\n",
    "    start_y_coord = saccade_start_df['center_y']\n",
    "    end_x_coord = saccade_end_df['center_x']\n",
    "    end_y_coord = saccade_end_df['center_y']\n",
    "    saccade_events_df['initial_x'] = start_x_coord.values\n",
    "    saccade_events_df['initial_y'] = start_y_coord.values\n",
    "    saccade_events_df['end_x'] = end_x_coord.values\n",
    "    saccade_events_df['end_y'] = end_y_coord.values\n",
    "    saccade_events_df['calib_dx'] = (saccade_events_df['end_x'].values - saccade_events_df['initial_x'].values) * magnitude_calib\n",
    "    saccade_events_df['calib_dy'] = (saccade_events_df['end_y'].values - saccade_events_df['initial_y'].values) * magnitude_calib\n",
    "    if speed_profile:\n",
    "        saccade_events_df['speed_profile'] = speed_list\n",
    "    saccade_events_df['diameter_profile'] = diameter_list\n",
    "    if bokeh_verify_threshold:\n",
    "        bokeh_plotter(data_list=[df.speed_r], label_list=['Pupil Velocity'], peaks=saccade_on_inds)\n",
    "        \n",
    "    return df, saccade_events_df\n"
   ],
   "metadata": {
    "collapsed": false,
    "ExecuteTime": {
     "end_time": "2025-01-04T13:28:29.942670Z",
     "start_time": "2025-01-04T13:28:28.895746200Z"
    }
   },
   "id": "ad47267f376f8022",
   "execution_count": 3
  },
  {
   "cell_type": "code",
   "outputs": [
    {
     "name": "stdout",
     "output_type": "stream",
     "text": [
      "instantiated block number 023 at Path: Z:\\Nimrod\\experiments\\PV_62\\2023_04_27\\block_023, new OE version\n",
      "Found the sample rate for block 023 in the xml file, it is 20000 Hz\n",
      "created the .oe_rec attribute as an open ephys recording obj with get_data functionality\n",
      "retrieving zertoh sample number for block 023\n",
      "got it!\n",
      "instantiated block number 024 at Path: Z:\\Nimrod\\experiments\\PV_62\\2023_04_27\\block_024, new OE version\n",
      "Found the sample rate for block 024 in the xml file, it is 20000 Hz\n",
      "created the .oe_rec attribute as an open ephys recording obj with get_data functionality\n",
      "retrieving zertoh sample number for block 024\n",
      "got it!\n",
      "instantiated block number 026 at Path: Z:\\Nimrod\\experiments\\PV_62\\2023_04_27\\block_026, new OE version\n",
      "Found the sample rate for block 026 in the xml file, it is 20000 Hz\n",
      "created the .oe_rec attribute as an open ephys recording obj with get_data functionality\n",
      "retrieving zertoh sample number for block 026\n",
      "got it!\n",
      "instantiated block number 038 at Path: Z:\\Nimrod\\experiments\\PV_62\\2023_05_01\\block_038, new OE version\n",
      "Found the sample rate for block 038 in the xml file, it is 20000 Hz\n",
      "created the .oe_rec attribute as an open ephys recording obj with get_data functionality\n",
      "retrieving zertoh sample number for block 038\n",
      "got it!\n",
      "instantiated block number 007 at Path: Z:\\Nimrod\\experiments\\PV_126\\2024_07_18\\block_007, new OE version\n",
      "Found the sample rate for block 007 in the xml file, it is 20000 Hz\n",
      "created the .oe_rec attribute as an open ephys recording obj with get_data functionality\n",
      "retrieving zertoh sample number for block 007\n",
      "got it!\n",
      "instantiated block number 008 at Path: Z:\\Nimrod\\experiments\\PV_126\\2024_07_18\\block_008, new OE version\n",
      "could not find the sample rate in the xml file due to error, will look in the cont file of the first recording...\n",
      "found the sample rate, it is 20000\n",
      "created the .oe_rec attribute as an open ephys recording obj with get_data functionality\n",
      "retrieving zertoh sample number for block 008\n",
      "got it!\n",
      "instantiated block number 009 at Path: Z:\\Nimrod\\experiments\\PV_126\\2024_07_18\\block_009, new OE version\n",
      "Found the sample rate for block 009 in the xml file, it is 20000 Hz\n",
      "created the .oe_rec attribute as an open ephys recording obj with get_data functionality\n",
      "retrieving zertoh sample number for block 009\n",
      "got it!\n",
      "instantiated block number 010 at Path: Z:\\Nimrod\\experiments\\PV_126\\2024_07_18\\block_010, new OE version\n",
      "Found the sample rate for block 010 in the xml file, it is 20000 Hz\n",
      "created the .oe_rec attribute as an open ephys recording obj with get_data functionality\n",
      "retrieving zertoh sample number for block 010\n",
      "got it!\n",
      "instantiated block number 011 at Path: Z:\\Nimrod\\experiments\\PV_126\\2024_08_13\\block_011, new OE version\n",
      "Found the sample rate for block 011 in the xml file, it is 20000 Hz\n",
      "created the .oe_rec attribute as an open ephys recording obj with get_data functionality\n",
      "retrieving zertoh sample number for block 011\n",
      "got it!\n",
      "instantiated block number 012 at Path: Z:\\Nimrod\\experiments\\PV_126\\2024_08_13\\block_012, new OE version\n",
      "Found the sample rate for block 012 in the xml file, it is 20000 Hz\n",
      "created the .oe_rec attribute as an open ephys recording obj with get_data functionality\n",
      "retrieving zertoh sample number for block 012\n",
      "got it!\n",
      "instantiated block number 013 at Path: Z:\\Nimrod\\experiments\\PV_126\\2024_08_13\\block_013, new OE version\n",
      "Found the sample rate for block 013 in the xml file, it is 20000 Hz\n",
      "created the .oe_rec attribute as an open ephys recording obj with get_data functionality\n",
      "retrieving zertoh sample number for block 013\n",
      "got it!\n",
      "instantiated block number 007 at Path: Z:\\Nimrod\\experiments\\PV_57\\2024_11_25\\block_007, new OE version\n",
      "Found the sample rate for block 007 in the xml file, it is 20000 Hz\n",
      "created the .oe_rec attribute as an open ephys recording obj with get_data functionality\n",
      "retrieving zertoh sample number for block 007\n",
      "got it!\n",
      "instantiated block number 008 at Path: Z:\\Nimrod\\experiments\\PV_57\\2024_11_25\\block_008, new OE version\n",
      "Found the sample rate for block 008 in the xml file, it is 20000 Hz\n",
      "created the .oe_rec attribute as an open ephys recording obj with get_data functionality\n",
      "retrieving zertoh sample number for block 008\n",
      "got it!\n",
      "instantiated block number 009 at Path: Z:\\Nimrod\\experiments\\PV_57\\2024_11_25\\block_009, new OE version\n",
      "Found the sample rate for block 009 in the xml file, it is 20000 Hz\n",
      "created the .oe_rec attribute as an open ephys recording obj with get_data functionality\n",
      "retrieving zertoh sample number for block 009\n",
      "got it!\n",
      "instantiated block number 010 at Path: Z:\\Nimrod\\experiments\\PV_57\\2024_12_01\\block_010, new OE version\n",
      "Found the sample rate for block 010 in the xml file, it is 20000 Hz\n",
      "created the .oe_rec attribute as an open ephys recording obj with get_data functionality\n",
      "retrieving zertoh sample number for block 010\n",
      "got it!\n",
      "instantiated block number 011 at Path: Z:\\Nimrod\\experiments\\PV_57\\2024_12_01\\block_011, new OE version\n",
      "Found the sample rate for block 011 in the xml file, it is 20000 Hz\n",
      "created the .oe_rec attribute as an open ephys recording obj with get_data functionality\n",
      "retrieving zertoh sample number for block 011\n",
      "got it!\n",
      "instantiated block number 012 at Path: Z:\\Nimrod\\experiments\\PV_57\\2024_12_01\\block_012, new OE version\n",
      "Found the sample rate for block 012 in the xml file, it is 20000 Hz\n",
      "created the .oe_rec attribute as an open ephys recording obj with get_data functionality\n",
      "retrieving zertoh sample number for block 012\n",
      "got it!\n",
      "instantiated block number 013 at Path: Z:\\Nimrod\\experiments\\PV_57\\2024_12_01\\block_013, new OE version\n",
      "Found the sample rate for block 013 in the xml file, it is 20000 Hz\n",
      "created the .oe_rec attribute as an open ephys recording obj with get_data functionality\n",
      "retrieving zertoh sample number for block 013\n",
      "got it!\n"
     ]
    }
   ],
   "source": [
    "\n",
    "# create a multi-animal block_collection:\n",
    "\n",
    "def create_block_collections(animals, block_lists, experiment_path, bad_blocks=None):\n",
    "    \"\"\"\n",
    "    Create block collections and a block dictionary from multiple animals and their respective block lists.\n",
    "\n",
    "    Parameters:\n",
    "    - animals: list of str, names of the animals.\n",
    "    - block_lists: list of lists of int, block numbers corresponding to each animal.\n",
    "    - experiment_path: pathlib.Path, path to the experiment directory.\n",
    "    - bad_blocks: list of int, blocks to exclude. Default is an empty list.\n",
    "\n",
    "    Returns:\n",
    "    - block_collection: list of BlockSync objects for all specified blocks.\n",
    "    - block_dict: dictionary where keys are block numbers as strings and values are BlockSync objects.\n",
    "    \"\"\"\n",
    "    import UtilityFunctions_newOE as uf\n",
    "\n",
    "    if bad_blocks is None:\n",
    "        bad_blocks = []\n",
    "\n",
    "    block_collection = []\n",
    "    block_dict = {}\n",
    "\n",
    "    for animal, blocks in zip(animals, block_lists):\n",
    "        # Generate blocks for the current animal\n",
    "        current_blocks = uf.block_generator(\n",
    "            block_numbers=blocks,\n",
    "            experiment_path=experiment_path,\n",
    "            animal=animal,\n",
    "            bad_blocks=bad_blocks\n",
    "        )\n",
    "        # Add to collection and dictionary\n",
    "        block_collection.extend(current_blocks)\n",
    "        for b in current_blocks:\n",
    "            block_dict[f\"{animal}_block_{b.block_num}\"] = b\n",
    "\n",
    "    return block_collection, block_dict\n",
    "\n",
    "\n",
    "# Example usage:\n",
    "animals = ['PV_62','PV_126', 'PV_57']\n",
    "block_lists = [[23,24,26,38],[7,8,9,10,11,12,13],[7,8,9,10,11,12,13]]\n",
    "experiment_path = pathlib.Path(r\"Z:\\Nimrod\\experiments\")\n",
    "bad_blocks = [0]  # Example of bad blocks\n",
    "\n",
    "block_collection, block_dict = create_block_collections(\n",
    "    animals=animals,\n",
    "    block_lists=block_lists,\n",
    "    experiment_path=experiment_path,\n",
    "    bad_blocks=bad_blocks\n",
    ")"
   ],
   "metadata": {
    "collapsed": false,
    "ExecuteTime": {
     "end_time": "2025-01-04T13:28:32.659126100Z",
     "start_time": "2025-01-04T13:28:29.947046Z"
    }
   },
   "id": "48e58d9c6c0a7e57",
   "execution_count": 4
  },
  {
   "cell_type": "code",
   "outputs": [
    {
     "name": "stdout",
     "output_type": "stream",
     "text": [
      "running parse_open_ephys_events...\n",
      "block 023 has a parsed events file, reading...\n",
      "Getting eye brightness values for block 023...\n",
      "Found an existing file!\n",
      "Eye brightness vectors generation complete.\n",
      "blocksync_df loaded from analysis folder\n",
      "eye_brightness_df loaded from analysis folder\n",
      "eye dataframes loaded from analysis folder\n",
      "got the calibration values from the analysis folder\n",
      "running parse_open_ephys_events...\n",
      "block 024 has a parsed events file, reading...\n",
      "Getting eye brightness values for block 024...\n",
      "Found an existing file!\n",
      "Eye brightness vectors generation complete.\n",
      "blocksync_df loaded from analysis folder\n",
      "eye_brightness_df loaded from analysis folder\n",
      "eye dataframes loaded from analysis folder\n",
      "got the calibration values from the analysis folder\n",
      "running parse_open_ephys_events...\n",
      "block 026 has a parsed events file, reading...\n",
      "Getting eye brightness values for block 026...\n",
      "Found an existing file!\n",
      "Eye brightness vectors generation complete.\n",
      "blocksync_df loaded from analysis folder\n",
      "eye_brightness_df loaded from analysis folder\n",
      "eye dataframes loaded from analysis folder\n",
      "got the calibration values from the analysis folder\n",
      "running parse_open_ephys_events...\n",
      "block 038 has a parsed events file, reading...\n",
      "Getting eye brightness values for block 038...\n",
      "Found an existing file!\n",
      "Eye brightness vectors generation complete.\n",
      "blocksync_df loaded from analysis folder\n",
      "eye_brightness_df loaded from analysis folder\n",
      "eye dataframes loaded from analysis folder\n",
      "got the calibration values from the analysis folder\n",
      "running parse_open_ephys_events...\n",
      "block 007 has a parsed events file, reading...\n",
      "Getting eye brightness values for block 007...\n",
      "Found an existing file!\n",
      "Eye brightness vectors generation complete.\n",
      "blocksync_df loaded from analysis folder\n",
      "eye_brightness_df loaded from analysis folder\n",
      "eye dataframes loaded from analysis folder\n",
      "got the calibration values from the analysis folder\n",
      "running parse_open_ephys_events...\n",
      "block 008 has a parsed events file, reading...\n",
      "Getting eye brightness values for block 008...\n",
      "Found an existing file!\n",
      "Eye brightness vectors generation complete.\n",
      "blocksync_df loaded from analysis folder\n",
      "eye_brightness_df loaded from analysis folder\n",
      "eye dataframes loaded from analysis folder\n",
      "got the calibration values from the analysis folder\n",
      "running parse_open_ephys_events...\n",
      "block 009 has a parsed events file, reading...\n",
      "Getting eye brightness values for block 009...\n",
      "Found an existing file!\n",
      "Eye brightness vectors generation complete.\n",
      "blocksync_df loaded from analysis folder\n",
      "eye_brightness_df loaded from analysis folder\n",
      "eye dataframes loaded from analysis folder\n",
      "got the calibration values from the analysis folder\n",
      "running parse_open_ephys_events...\n",
      "block 010 has a parsed events file, reading...\n",
      "Getting eye brightness values for block 010...\n",
      "Found an existing file!\n",
      "Eye brightness vectors generation complete.\n",
      "blocksync_df loaded from analysis folder\n",
      "eye_brightness_df loaded from analysis folder\n",
      "eye dataframes loaded from analysis folder\n",
      "got the calibration values from the analysis folder\n",
      "running parse_open_ephys_events...\n",
      "block 011 has a parsed events file, reading...\n",
      "Getting eye brightness values for block 011...\n",
      "Found an existing file!\n",
      "Eye brightness vectors generation complete.\n",
      "blocksync_df loaded from analysis folder\n",
      "eye_brightness_df loaded from analysis folder\n",
      "eye dataframes loaded from analysis folder\n",
      "got the calibration values from the analysis folder\n",
      "running parse_open_ephys_events...\n",
      "block 012 has a parsed events file, reading...\n",
      "Getting eye brightness values for block 012...\n",
      "Found an existing file!\n",
      "Eye brightness vectors generation complete.\n",
      "blocksync_df loaded from analysis folder\n",
      "eye_brightness_df loaded from analysis folder\n",
      "eye dataframes loaded from analysis folder\n",
      "got the calibration values from the analysis folder\n",
      "running parse_open_ephys_events...\n",
      "block 013 has a parsed events file, reading...\n",
      "Getting eye brightness values for block 013...\n",
      "Found an existing file!\n",
      "Eye brightness vectors generation complete.\n",
      "blocksync_df loaded from analysis folder\n",
      "eye_brightness_df loaded from analysis folder\n",
      "eye dataframes loaded from analysis folder\n",
      "got the calibration values from the analysis folder\n",
      "running parse_open_ephys_events...\n",
      "block 007 has a parsed events file, reading...\n",
      "Getting eye brightness values for block 007...\n",
      "Found an existing file!\n",
      "Eye brightness vectors generation complete.\n",
      "blocksync_df loaded from analysis folder\n",
      "eye_brightness_df loaded from analysis folder\n",
      "eye dataframes loaded from analysis folder\n",
      "got the calibration values from the analysis folder\n",
      "running parse_open_ephys_events...\n",
      "block 008 has a parsed events file, reading...\n",
      "Getting eye brightness values for block 008...\n",
      "Found an existing file!\n",
      "Eye brightness vectors generation complete.\n",
      "blocksync_df loaded from analysis folder\n",
      "eye_brightness_df loaded from analysis folder\n",
      "eye dataframes loaded from analysis folder\n",
      "got the calibration values from the analysis folder\n",
      "running parse_open_ephys_events...\n",
      "block 009 has a parsed events file, reading...\n",
      "Getting eye brightness values for block 009...\n",
      "Found an existing file!\n",
      "Eye brightness vectors generation complete.\n",
      "blocksync_df loaded from analysis folder\n",
      "eye_brightness_df loaded from analysis folder\n",
      "eye dataframes loaded from analysis folder\n",
      "got the calibration values from the analysis folder\n",
      "running parse_open_ephys_events...\n",
      "block 010 has a parsed events file, reading...\n",
      "Getting eye brightness values for block 010...\n",
      "Found an existing file!\n",
      "Eye brightness vectors generation complete.\n",
      "blocksync_df loaded from analysis folder\n",
      "eye_brightness_df loaded from analysis folder\n"
     ]
    },
    {
     "name": "stderr",
     "output_type": "stream",
     "text": [
      "c:\\users\\marks3\\pycharmprojects\\pythonproject3\\venv\\lib\\site-packages\\IPython\\core\\interactiveshell.py:3338: DtypeWarning: Columns (11,12) have mixed types.Specify dtype option on import or set low_memory=False.\n",
      "  if (await self.run_code(code, result,  async_=asy)):\n"
     ]
    },
    {
     "name": "stdout",
     "output_type": "stream",
     "text": [
      "eye dataframes loaded from analysis folder\n",
      "got the calibration values from the analysis folder\n",
      "running parse_open_ephys_events...\n",
      "block 011 has a parsed events file, reading...\n",
      "Getting eye brightness values for block 011...\n",
      "Found an existing file!\n",
      "Eye brightness vectors generation complete.\n",
      "blocksync_df loaded from analysis folder\n",
      "eye_brightness_df loaded from analysis folder\n",
      "eye dataframes loaded from analysis folder\n",
      "got the calibration values from the analysis folder\n",
      "running parse_open_ephys_events...\n",
      "block 012 has a parsed events file, reading...\n",
      "Getting eye brightness values for block 012...\n",
      "Found an existing file!\n",
      "Eye brightness vectors generation complete.\n",
      "blocksync_df loaded from analysis folder\n",
      "eye_brightness_df loaded from analysis folder\n",
      "eye dataframes loaded from analysis folder\n",
      "got the calibration values from the analysis folder\n",
      "running parse_open_ephys_events...\n",
      "block 013 has a parsed events file, reading...\n",
      "Getting eye brightness values for block 013...\n",
      "Found an existing file!\n",
      "Eye brightness vectors generation complete.\n",
      "blocksync_df loaded from analysis folder\n",
      "eye_brightness_df loaded from analysis folder\n",
      "eye dataframes loaded from analysis folder\n",
      "got the calibration values from the analysis folder\n"
     ]
    }
   ],
   "source": [
    "for block in block_collection:\n",
    "    block.parse_open_ephys_events()\n",
    "    block.get_eye_brightness_vectors()\n",
    "    block.synchronize_block()\n",
    "    block.create_eye_brightness_df(threshold_value=20)\n",
    "\n",
    "    # if the code fails here, go to manual synchronization\n",
    "    block.import_manual_sync_df()\n",
    "    block.read_dlc_data()\n",
    "    block.calibrate_pixel_size(10)\n",
    "    load_eye_data_2d_w_rotation_matrix(block) #should be integrated again... later\n",
    "    \n",
    "    # calibrate pupil diameter:\n",
    "    if 'pupil_diameter' not in block.left_eye_data.columns:\n",
    "        block.left_eye_data['pupil_diameter_pixels'] = block.left_eye_data.major_ax * 2 * np.pi\n",
    "        block.right_eye_data['pupil_diameter_pixels'] = block.right_eye_data.major_ax * 2 * np.pi\n",
    "        block.left_eye_data['pupil_diameter'] = block.left_eye_data['pupil_diameter_pixels'] * block.L_pix_size\n",
    "        block.right_eye_data['pupil_diameter'] = block.right_eye_data['pupil_diameter_pixels'] * block.R_pix_size"
   ],
   "metadata": {
    "collapsed": false,
    "ExecuteTime": {
     "end_time": "2025-01-04T13:29:40.191363500Z",
     "start_time": "2025-01-04T13:28:32.661303700Z"
    }
   },
   "id": "63a92aaf7fbd0737",
   "execution_count": 5
  },
  {
   "cell_type": "code",
   "outputs": [],
   "source": [
    "def create_saccade_events_df(\n",
    "    eye_data_df, speed_threshold, bokeh_verify_threshold=False, magnitude_calib=1, speed_profile=True\n",
    "):\n",
    "    \"\"\"\n",
    "    Detects saccade events in eye tracking data and computes relevant metrics, ensuring only valid saccades are included.\n",
    "\n",
    "    Parameters:\n",
    "    - eye_data_df (pd.DataFrame): Input DataFrame containing eye tracking data.\n",
    "    - speed_threshold (float): Threshold for saccade detection based on speed.\n",
    "\n",
    "    Returns:\n",
    "    - df (pd.DataFrame): Modified input DataFrame with added columns for speed and saccade detection.\n",
    "    - saccade_events_df (pd.DataFrame): DataFrame containing information about detected saccade events.\n",
    "    \"\"\"\n",
    "    df = eye_data_df.copy()\n",
    "    df[\"speed_x\"] = df[\"center_x\"].diff()  # Difference between consecutive 'center_x' values\n",
    "    df[\"speed_y\"] = df[\"center_y\"].diff()  # Difference between consecutive 'center_y' values\n",
    "\n",
    "    # Step 2: Calculate magnitude of the velocity vector (R vector speed)\n",
    "    df[\"speed_r\"] = (df[\"speed_x\"]**2 + df[\"speed_y\"]**2)**0.5\n",
    "\n",
    "    # Create a column for saccade detection\n",
    "    df[\"is_saccade\"] = df[\"speed_r\"] > speed_threshold\n",
    "\n",
    "    # Identify saccade onset and offset indices\n",
    "    saccade_on_off = df[\"is_saccade\"].astype(int) - df[\"is_saccade\"].shift(periods=1, fill_value=False).astype(int)\n",
    "    saccade_on_inds = np.where(saccade_on_off == 1)[0] - 1  # Include frame before threshold crossing\n",
    "    saccade_off_inds = np.where(saccade_on_off == -1)[0]\n",
    "\n",
    "    # Handle cases where the last saccade has no end\n",
    "    if len(saccade_on_inds) > len(saccade_off_inds):\n",
    "        if len(saccade_on_inds) - len(saccade_off_inds) == 1:\n",
    "            print(\"Detected unmatched final saccade start index. Truncating last saccade start index.\")\n",
    "            saccade_on_inds = saccade_on_inds[:-1]\n",
    "        else:\n",
    "            raise ValueError(\"Mismatch between saccade start and end indices. Manual inspection required.\")\n",
    "\n",
    "    # Extract timestamps and indices\n",
    "    saccade_dict = {\n",
    "        \"saccade_start_ind\": saccade_on_inds,\n",
    "        \"saccade_start_timestamp\": df[\"OE_timestamp\"].iloc[saccade_on_inds].values,\n",
    "        \"saccade_end_ind\": saccade_off_inds,\n",
    "        \"saccade_end_timestamp\": df[\"OE_timestamp\"].iloc[saccade_off_inds].values,\n",
    "        \"saccade_on_ms\": df[\"ms_axis\"].iloc[saccade_on_inds].values,\n",
    "        \"saccade_off_ms\": df[\"ms_axis\"].iloc[saccade_off_inds].values,\n",
    "    }\n",
    "\n",
    "    # Ensure all lists have consistent lengths\n",
    "    valid_mask = np.all(\n",
    "        [\n",
    "            len(saccade_dict[field]) == len(saccade_dict[\"saccade_start_ind\"])\n",
    "            for field in saccade_dict\n",
    "        ]\n",
    "    )\n",
    "    if not valid_mask:\n",
    "        valid_lengths = {\n",
    "            key: len(value) for key, value in saccade_dict.items()\n",
    "        }\n",
    "        print(f\"Detected inconsistent lengths in saccade fields: {valid_lengths}\")\n",
    "        raise ValueError(\"Fields in saccade dictionary must all have equal lengths.\")\n",
    "\n",
    "    saccade_events_df = pd.DataFrame.from_dict(saccade_dict)\n",
    "    saccade_events_df[\"length\"] = saccade_events_df[\"saccade_end_ind\"] - saccade_events_df[\"saccade_start_ind\"]\n",
    "\n",
    "    # Compute saccade metrics\n",
    "    distances = []\n",
    "    angles = []\n",
    "    speed_list = []\n",
    "    diameter_list = []\n",
    "\n",
    "    for _, row in tqdm.tqdm(saccade_events_df.iterrows(), total=len(saccade_events_df)):\n",
    "        saccade_samples = df.loc[\n",
    "            (df[\"OE_timestamp\"] >= row[\"saccade_start_timestamp\"])\n",
    "            & (df[\"OE_timestamp\"] <= row[\"saccade_end_timestamp\"])\n",
    "        ]\n",
    "        if saccade_samples.empty:\n",
    "            continue\n",
    "\n",
    "        # Distance traveled\n",
    "        distance_traveled = saccade_samples[\"speed_r\"].sum()\n",
    "        distances.append(distance_traveled)\n",
    "\n",
    "        # Speed profile\n",
    "        if speed_profile:\n",
    "            saccade_speed_profile = saccade_samples[\"speed_r\"].values\n",
    "            speed_list.append(saccade_speed_profile)\n",
    "\n",
    "        # Diameter profile\n",
    "        saccade_diameter_profile = saccade_samples[\"pupil_diameter\"].values\n",
    "        diameter_list.append(saccade_diameter_profile)\n",
    "\n",
    "        # Calculate angle\n",
    "        initial_position = saccade_samples.iloc[0][[\"center_x\", \"center_y\"]]\n",
    "        endpoint = saccade_samples.iloc[-1][[\"center_x\", \"center_y\"]]\n",
    "        overall_angle = np.arctan2(\n",
    "            endpoint[\"center_y\"] - initial_position[\"center_y\"],\n",
    "            endpoint[\"center_x\"] - initial_position[\"center_x\"]\n",
    "        )\n",
    "        angles.append(overall_angle)\n",
    "\n",
    "    # Add metrics to DataFrame\n",
    "    saccade_events_df[\"magnitude_raw\"] = np.array(distances)\n",
    "    saccade_events_df[\"magnitude\"] = np.array(distances) * magnitude_calib\n",
    "    saccade_events_df[\"angle\"] = np.rad2deg(angles) % 360  # Convert radians to degrees\n",
    "    saccade_events_df[\"speed_profile\"] = speed_list\n",
    "    saccade_events_df[\"diameter_profile\"] = diameter_list\n",
    "\n",
    "    # Remove intermediate columns from df\n",
    "    df = df.drop([\"is_saccade\"], axis=1)\n",
    "\n",
    "    return df, saccade_events_df\n"
   ],
   "metadata": {
    "collapsed": false,
    "ExecuteTime": {
     "end_time": "2025-01-04T13:29:40.207807700Z",
     "start_time": "2025-01-04T13:29:40.199111300Z"
    }
   },
   "id": "453d0d249e45caa2",
   "execution_count": 6
  },
  {
   "cell_type": "code",
   "outputs": [
    {
     "name": "stderr",
     "output_type": "stream",
     "text": [
      " 11%|█         | 64/602 [00:00<00:00, 635.15it/s]"
     ]
    },
    {
     "name": "stdout",
     "output_type": "stream",
     "text": [
      "PV_62, block 023, on 2023-04-27_10-52-42\n"
     ]
    },
    {
     "name": "stderr",
     "output_type": "stream",
     "text": [
      "100%|██████████| 602/602 [00:00<00:00, 718.35it/s]\n",
      "100%|██████████| 599/599 [00:00<00:00, 710.75it/s]\n",
      " 11%|█▏        | 69/602 [00:00<00:00, 684.82it/s]"
     ]
    },
    {
     "name": "stdout",
     "output_type": "stream",
     "text": [
      "PV_62, block 024, on 2023-04-27_11-22-56\n"
     ]
    },
    {
     "name": "stderr",
     "output_type": "stream",
     "text": [
      "100%|██████████| 602/602 [00:00<00:00, 722.31it/s]\n",
      "100%|██████████| 599/599 [00:00<00:00, 725.84it/s]\n",
      " 12%|█▏        | 69/598 [00:00<00:00, 684.21it/s]"
     ]
    },
    {
     "name": "stdout",
     "output_type": "stream",
     "text": [
      "PV_62, block 026, on 2023-04-27_12-21-41\n"
     ]
    },
    {
     "name": "stderr",
     "output_type": "stream",
     "text": [
      "100%|██████████| 598/598 [00:00<00:00, 724.58it/s]\n",
      "100%|██████████| 579/579 [00:00<00:00, 725.81it/s]\n",
      "  6%|▌         | 62/1126 [00:00<00:01, 613.80it/s]"
     ]
    },
    {
     "name": "stdout",
     "output_type": "stream",
     "text": [
      "PV_62, block 038, on 2023-05-01_13-57-45\n"
     ]
    },
    {
     "name": "stderr",
     "output_type": "stream",
     "text": [
      "100%|██████████| 1126/1126 [00:01<00:00, 705.99it/s]\n",
      "100%|██████████| 1123/1123 [00:01<00:00, 710.97it/s]\n",
      "  6%|▌         | 68/1209 [00:00<00:01, 666.65it/s]"
     ]
    },
    {
     "name": "stdout",
     "output_type": "stream",
     "text": [
      "PV_126, block 007, on PV126_Trial16_wake3_2024-07-18_12-49-12\n"
     ]
    },
    {
     "name": "stderr",
     "output_type": "stream",
     "text": [
      "100%|██████████| 1209/1209 [00:01<00:00, 716.92it/s]\n",
      "100%|██████████| 1180/1180 [00:01<00:00, 724.23it/s]\n",
      " 17%|█▋        | 61/366 [00:00<00:00, 607.24it/s]"
     ]
    },
    {
     "name": "stdout",
     "output_type": "stream",
     "text": [
      "PV_126, block 008, on PV126_Trial16_wake4_2024-07-18_13-24-41\n"
     ]
    },
    {
     "name": "stderr",
     "output_type": "stream",
     "text": [
      "100%|██████████| 366/366 [00:00<00:00, 672.19it/s]\n",
      "100%|██████████| 399/399 [00:00<00:00, 680.75it/s]\n",
      " 18%|█▊        | 65/359 [00:00<00:00, 640.57it/s]"
     ]
    },
    {
     "name": "stdout",
     "output_type": "stream",
     "text": [
      "PV_126, block 009, on PV126_Trial18_wake5_2024-07-18_14-39-15\n"
     ]
    },
    {
     "name": "stderr",
     "output_type": "stream",
     "text": [
      "100%|██████████| 359/359 [00:00<00:00, 693.62it/s]\n",
      "100%|██████████| 434/434 [00:00<00:00, 702.62it/s]\n",
      " 27%|██▋       | 65/245 [00:00<00:00, 648.59it/s]"
     ]
    },
    {
     "name": "stdout",
     "output_type": "stream",
     "text": [
      "PV_126, block 010, on PV126_Trial19_wake6_2024-07-18_15-24-57\n"
     ]
    },
    {
     "name": "stderr",
     "output_type": "stream",
     "text": [
      "100%|██████████| 245/245 [00:00<00:00, 686.29it/s]\n",
      "100%|██████████| 288/288 [00:00<00:00, 696.28it/s]\n",
      "  7%|▋         | 67/1009 [00:00<00:01, 666.61it/s]"
     ]
    },
    {
     "name": "stdout",
     "output_type": "stream",
     "text": [
      "PV_126, block 011, on PV126_Trial115_eyeTracking_w7\n"
     ]
    },
    {
     "name": "stderr",
     "output_type": "stream",
     "text": [
      "100%|██████████| 1009/1009 [00:01<00:00, 710.96it/s]\n",
      "100%|██████████| 1006/1006 [00:01<00:00, 726.41it/s]\n",
      "100%|██████████| 115/115 [00:00<00:00, 745.02it/s]\n",
      "  0%|          | 0/129 [00:00<?, ?it/s]"
     ]
    },
    {
     "name": "stdout",
     "output_type": "stream",
     "text": [
      "PV_126, block 012, on PV126_Trial116_eyeTracking_h8\n"
     ]
    },
    {
     "name": "stderr",
     "output_type": "stream",
     "text": [
      "100%|██████████| 129/129 [00:00<00:00, 725.59it/s]\n",
      "100%|██████████| 84/84 [00:00<00:00, 761.02it/s]\n",
      "  0%|          | 0/77 [00:00<?, ?it/s]"
     ]
    },
    {
     "name": "stdout",
     "output_type": "stream",
     "text": [
      "PV_126, block 013, on PV126_Trial116_eyeTracking_h9\n"
     ]
    },
    {
     "name": "stderr",
     "output_type": "stream",
     "text": [
      "100%|██████████| 77/77 [00:00<00:00, 756.09it/s]\n",
      " 22%|██▏       | 148/672 [00:00<00:00, 740.15it/s]"
     ]
    },
    {
     "name": "stdout",
     "output_type": "stream",
     "text": [
      "PV_57, block 007, on pv_57_day2_03_2024-11-25_15-28-31\n"
     ]
    },
    {
     "name": "stderr",
     "output_type": "stream",
     "text": [
      "100%|██████████| 672/672 [00:00<00:00, 749.46it/s]\n",
      "100%|██████████| 722/722 [00:00<00:00, 751.99it/s]\n",
      " 11%|█▏        | 73/638 [00:00<00:00, 729.20it/s]"
     ]
    },
    {
     "name": "stdout",
     "output_type": "stream",
     "text": [
      "PV_57, block 008, on pv_57_day2_05_2024-11-25_16-07-18\n"
     ]
    },
    {
     "name": "stderr",
     "output_type": "stream",
     "text": [
      "100%|██████████| 638/638 [00:00<00:00, 746.44it/s]\n",
      "100%|██████████| 599/599 [00:00<00:00, 731.00it/s]\n",
      " 15%|█▍        | 74/502 [00:00<00:00, 736.84it/s]"
     ]
    },
    {
     "name": "stdout",
     "output_type": "stream",
     "text": [
      "PV_57, block 009, on pv_57_day2_06_2024-11-25_16-25-35\n"
     ]
    },
    {
     "name": "stderr",
     "output_type": "stream",
     "text": [
      "100%|██████████| 502/502 [00:00<00:00, 715.09it/s]\n",
      "100%|██████████| 556/556 [00:00<00:00, 748.16it/s]\n",
      " 42%|████▏     | 147/352 [00:00<00:00, 734.48it/s]"
     ]
    },
    {
     "name": "stdout",
     "output_type": "stream",
     "text": [
      "PV_57, block 010, on PV_57_hunter__2024-12-01_15-37-36\n"
     ]
    },
    {
     "name": "stderr",
     "output_type": "stream",
     "text": [
      "100%|██████████| 352/352 [00:00<00:00, 740.95it/s]\n",
      "100%|██████████| 403/403 [00:00<00:00, 744.47it/s]\n",
      " 16%|█▌        | 150/954 [00:00<00:01, 743.38it/s]"
     ]
    },
    {
     "name": "stdout",
     "output_type": "stream",
     "text": [
      "PV_57, block 011, on PV_57_hunter_2_2024-12-01_15-43-28\n",
      "Detected unmatched final saccade start index. Truncating last saccade start index.\n"
     ]
    },
    {
     "name": "stderr",
     "output_type": "stream",
     "text": [
      "100%|██████████| 954/954 [00:01<00:00, 732.82it/s]\n",
      "100%|██████████| 927/927 [00:01<00:00, 744.88it/s]\n",
      " 12%|█▏        | 73/589 [00:00<00:00, 723.38it/s]"
     ]
    },
    {
     "name": "stdout",
     "output_type": "stream",
     "text": [
      "PV_57, block 012, on PV_57_hunter_2_2024-12-01_16-08-39\n"
     ]
    },
    {
     "name": "stderr",
     "output_type": "stream",
     "text": [
      "100%|██████████| 589/589 [00:00<00:00, 744.60it/s]\n",
      "100%|██████████| 474/474 [00:00<00:00, 746.04it/s]\n",
      " 10%|▉         | 72/737 [00:00<00:00, 715.20it/s]"
     ]
    },
    {
     "name": "stdout",
     "output_type": "stream",
     "text": [
      "PV_57, block 013, on PV_57_hunter_2_2024-12-01_16-34-43\n"
     ]
    },
    {
     "name": "stderr",
     "output_type": "stream",
     "text": [
      "100%|██████████| 737/737 [00:00<00:00, 748.21it/s]\n",
      "100%|██████████| 725/725 [00:00<00:00, 749.72it/s]\n"
     ]
    }
   ],
   "source": [
    "# saccade detection and annotation: \n",
    "for block in block_collection:\n",
    "    print(block)\n",
    "    block.left_eye_data, block.l_saccade_df = create_saccade_events_df(block.left_eye_data,\n",
    "                                                               speed_threshold=4,\n",
    "                                                               bokeh_verify_threshold=False,\n",
    "                                                               magnitude_calib=block.L_pix_size)\n",
    "    block.right_eye_data, block.r_saccade_df = create_saccade_events_df(block.right_eye_data,\n",
    "                                                               speed_threshold=4,\n",
    "                                                               bokeh_verify_threshold=False,\n",
    "                                                               magnitude_calib=block.R_pix_size)\n"
   ],
   "metadata": {
    "collapsed": false,
    "ExecuteTime": {
     "end_time": "2025-01-04T13:30:10.522066100Z",
     "start_time": "2025-01-04T13:29:40.208807100Z"
    }
   },
   "id": "a20d8a85a63489aa",
   "execution_count": 7
  },
  {
   "cell_type": "code",
   "outputs": [],
   "source": [
    "# add annotations for a joint dataframe:\n",
    "for block in block_collection:\n",
    "    block.r_saccade_df['eye'] = 'R'\n",
    "    block.r_saccade_df['block'] = block.block_num\n",
    "    block.r_saccade_df['animal'] = block.animal_call\n",
    "    block.l_saccade_df['eye'] = 'L'\n",
    "    block.l_saccade_df['block'] = block.block_num\n",
    "    block.l_saccade_df['animal'] = block.animal_call\n",
    "    block.all_saccade_df = pd.concat([block.l_saccade_df,block.r_saccade_df])"
   ],
   "metadata": {
    "collapsed": false,
    "ExecuteTime": {
     "end_time": "2025-01-04T13:30:10.598771400Z",
     "start_time": "2025-01-04T13:30:10.525433Z"
    }
   },
   "id": "2b5122b2304d7cea",
   "execution_count": 8
  },
  {
   "cell_type": "code",
   "outputs": [],
   "source": [
    "saccade_df_list = []\n",
    "for block in block_collection:\n",
    "    saccade_df_list.append(block.all_saccade_df)\n",
    "saccade_collection = pd.concat(saccade_df_list)"
   ],
   "metadata": {
    "collapsed": false,
    "ExecuteTime": {
     "end_time": "2025-01-04T13:30:10.633805600Z",
     "start_time": "2025-01-04T13:30:10.603170300Z"
    }
   },
   "id": "85633c5cb8caf323",
   "execution_count": 9
  },
  {
   "cell_type": "code",
   "outputs": [
    {
     "name": "stderr",
     "output_type": "stream",
     "text": [
      "577it [00:00, 7309.40it/s]\n",
      "577it [00:00, 7139.97it/s]\n",
      "0it [00:00, ?it/s]"
     ]
    },
    {
     "name": "stdout",
     "output_type": "stream",
     "text": [
      "199 568\n",
      "199 568\n"
     ]
    },
    {
     "name": "stderr",
     "output_type": "stream",
     "text": [
      "575it [00:00, 7197.29it/s]\n",
      "1034it [00:00, 6237.14it/s]\n"
     ]
    },
    {
     "name": "stdout",
     "output_type": "stream",
     "text": [
      "190 547\n"
     ]
    },
    {
     "name": "stderr",
     "output_type": "stream",
     "text": [
      "1163it [00:00, 6836.12it/s]"
     ]
    },
    {
     "name": "stdout",
     "output_type": "stream",
     "text": [
      "599 1064\n"
     ]
    },
    {
     "name": "stderr",
     "output_type": "stream",
     "text": [
      "\n",
      "341it [00:00, 7090.24it/s]\n",
      "338it [00:00, 7004.29it/s]"
     ]
    },
    {
     "name": "stdout",
     "output_type": "stream",
     "text": [
      "342 1110\n",
      "181 386\n",
      "204 414"
     ]
    },
    {
     "name": "stderr",
     "output_type": "stream",
     "text": [
      "\n",
      "230it [00:00, 7004.72it/s]\n",
      "961it [00:00, 6819.46it/s]"
     ]
    },
    {
     "name": "stdout",
     "output_type": "stream",
     "text": [
      "\n",
      "129 273\n"
     ]
    },
    {
     "name": "stderr",
     "output_type": "stream",
     "text": [
      "\n",
      "107it [00:00, 7150.90it/s]\n",
      "77it [00:00, 6911.07it/s]\n",
      "669it [00:00, 8046.77it/s]"
     ]
    },
    {
     "name": "stdout",
     "output_type": "stream",
     "text": [
      "366 988\n",
      "50 123\n",
      "19 75\n",
      "got them all\n"
     ]
    },
    {
     "name": "stderr",
     "output_type": "stream",
     "text": [
      "\n",
      "630it [00:00, 7721.22it/s]\n",
      "0it [00:00, ?it/s]"
     ]
    },
    {
     "name": "stdout",
     "output_type": "stream",
     "text": [
      "322 648\n",
      "209 563\n"
     ]
    },
    {
     "name": "stderr",
     "output_type": "stream",
     "text": [
      "489it [00:00, 7930.52it/s]\n",
      "348it [00:00, 7343.32it/s]\n",
      "0it [00:00, ?it/s]"
     ]
    },
    {
     "name": "stdout",
     "output_type": "stream",
     "text": [
      "271 510\n",
      "157 390\n"
     ]
    },
    {
     "name": "stderr",
     "output_type": "stream",
     "text": [
      "926it [00:00, 5306.87it/s]\n",
      "581it [00:00, 7789.48it/s]\n",
      "0it [00:00, ?it/s]"
     ]
    },
    {
     "name": "stdout",
     "output_type": "stream",
     "text": [
      "337 868\n",
      "144 463\n"
     ]
    },
    {
     "name": "stderr",
     "output_type": "stream",
     "text": [
      "706it [00:00, 7127.88it/s]\n"
     ]
    },
    {
     "name": "stdout",
     "output_type": "stream",
     "text": [
      "280 694\n"
     ]
    }
   ],
   "source": [
    "def get_closest_diff_ind(timestamp, timeseries):\n",
    "    \"\"\"\n",
    "    This function extracts a frame from a series so that it is as close as possible to a given timestamp\n",
    "    :param timestamp: The time to match a frame to\n",
    "    :param timeseries: The time frames series to look at for a match\n",
    "    :param report_acc: if set to 1, will report the accuracy of the match\n",
    "    :return: index_of_lowest_diff , accuracy of match (if requested)\n",
    "    \"\"\"\n",
    "    array = np.abs(timeseries - timestamp)\n",
    "    index_of_lowest_diff = np.argmin(array)\n",
    "    lowest_diff_val = timeseries[index_of_lowest_diff]\n",
    "    return index_of_lowest_diff, lowest_diff_val\n",
    "\n",
    "def find_synced_saccades(df, diff_threshold=680):\n",
    "    synced_saccades = []\n",
    "    non_synced_saccades = []\n",
    "    l_df = df.query('eye == \"L\"')\n",
    "    r_df = df.query('eye == \"R\"')\n",
    "    for i, row in tqdm.tqdm(l_df.iterrows()):\n",
    "        l_timestamp = row['saccade_start_timestamp']\n",
    "        ind_min_diff, r_timestamp = get_closest_diff_ind(l_timestamp, r_df['saccade_start_timestamp'].values)\n",
    "        #print(i,ind_lowest_diff)\n",
    "        time_diff = np.abs(l_timestamp - r_timestamp)\n",
    "        if time_diff < diff_threshold:\n",
    "            synced_saccades.append((row, r_df.iloc[ind_min_diff]))  # Collect synchronized rows\n",
    "        else:\n",
    "            non_synced_saccades.append(row)  # Collect non-synchronized rows\n",
    "    # Create DataFrame with multi-index\n",
    "    multi_index = pd.MultiIndex.from_tuples([(i, 'L') for i in range(len(synced_saccades))] + [(i, 'R') for i in range(len(synced_saccades))], names=['Main', 'Sub'])\n",
    "    synced_df = pd.DataFrame(index=multi_index, columns=df.columns)\n",
    "    # Populate DataFrame\n",
    "    for idx, (l_row, r_row) in enumerate(synced_saccades):\n",
    "        synced_df.loc[(idx, 'L')] = l_row\n",
    "        synced_df.loc[(idx, 'R')] = r_row\n",
    "    r_non_synced_leftovers = r_df[~r_df['saccade_start_timestamp'].isin(synced_df.query('eye == \"R\"')['saccade_start_timestamp'].values)]\n",
    "    print(len(r_non_synced_leftovers),len(r_df))\n",
    "    # Create DataFrame for non-synced saccades\n",
    "    non_synced_df = pd.DataFrame(non_synced_saccades, columns=df.columns)\n",
    "    non_synced_df = pd.concat([non_synced_df,r_non_synced_leftovers])\n",
    "    \n",
    "    return synced_df, non_synced_df\n",
    "\n",
    "synced_df_list = []\n",
    "non_synced_df_list = []\n",
    "for saccade_df in saccade_df_list:\n",
    "    # Find synced saccades:\n",
    "    synced_df, non_synced_df = find_synced_saccades(saccade_df.dropna(), diff_threshold=680)\n",
    "    if len(non_synced_df.dropna()) + len(synced_df.dropna()) == len(saccade_df.dropna()):\n",
    "        print('got them all')\n",
    "        \n",
    "    synced_df_list.append(synced_df)\n",
    "    non_synced_df_list.append(non_synced_df)\n"
   ],
   "metadata": {
    "collapsed": false,
    "ExecuteTime": {
     "end_time": "2025-01-04T13:30:13.427457800Z",
     "start_time": "2025-01-04T13:30:10.639359100Z"
    }
   },
   "id": "de47fd980b0dbc06",
   "execution_count": 10
  },
  {
   "cell_type": "code",
   "outputs": [],
   "source": [
    "def combine_synced_dataframes(dataframes):\n",
    "    combined_dfs = []\n",
    "    start_index = 0\n",
    "    for df in dataframes:\n",
    "        num_rows = len(df) // 2  # Assuming each dataframe contains pairs of rows\n",
    "        main_index = pd.MultiIndex.from_tuples([(i + start_index, 'L') for i in range(num_rows)] + [(i + start_index, 'R') for i in range(num_rows)], names=['Main', 'Sub'])\n",
    "        df.index = main_index\n",
    "        combined_dfs.append(df)\n",
    "        start_index += num_rows\n",
    "    combined_df = pd.concat(combined_dfs)\n",
    "    combined_df.reset_index(inplace=True)\n",
    "    return combined_df\n",
    "\n",
    "synced_saccade_collection = combine_synced_dataframes(synced_df_list)\n",
    "non_synced_saccade_collection = pd.concat(non_synced_df_list)\n"
   ],
   "metadata": {
    "collapsed": false,
    "ExecuteTime": {
     "end_time": "2025-01-04T13:30:13.478929900Z",
     "start_time": "2025-01-04T13:30:13.431770100Z"
    }
   },
   "id": "134032914ba85d2b",
   "execution_count": 11
  },
  {
   "cell_type": "code",
   "outputs": [
    {
     "data": {
      "text/plain": "<Figure size 300x200 with 1 Axes>",
      "image/png": "[encoded data removed]"
     },
     "metadata": {},
     "output_type": "display_data"
    },
    {
     "data": {
      "text/plain": "{'PV_62': (0.4856070087609512, 0.2933673469387754),\n 'PV_126': (0.44865579550462753, 0.1469405984814649),\n 'PV_57': (0.5399373531714957, 0.33598862019914644)}"
     },
     "execution_count": 12,
     "metadata": {},
     "output_type": "execute_result"
    }
   ],
   "source": [
    "import numpy as np\n",
    "import matplotlib.pyplot as plt\n",
    "def calculate_orientation_tuning(saccade_angles):\n",
    "    \"\"\"\n",
    "    Calculates the orientation tuning statistic for a collection of saccade angles.\n",
    "\n",
    "    Parameters:\n",
    "        saccade_angles (array-like): List or array of saccade angles in degrees.\n",
    "\n",
    "    Returns:\n",
    "        float: Orientation tuning statistic.\n",
    "    \"\"\"\n",
    "    # Convert angles to range [0, 360] if they aren't already\n",
    "    saccade_angles = np.array(saccade_angles) % 360\n",
    "    \n",
    "    # Define horizontal saccade ranges\n",
    "    horizontal_ranges = [\n",
    "        (315, 360),  # 330° to 0°\n",
    "        (0, 45),     # 0° to 30°\n",
    "        (135, 225)   # 150° to 210°\n",
    "    ]\n",
    "    \n",
    "    # Identify horizontal saccades\n",
    "    is_horizontal = np.logical_or.reduce([\n",
    "        (saccade_angles >= low) & (saccade_angles <= high)\n",
    "        if low < high else\n",
    "        (saccade_angles >= low) | (saccade_angles <= high)\n",
    "        for low, high in horizontal_ranges\n",
    "    ])\n",
    "    \n",
    "    # Calculate probabilities\n",
    "    p_horizontal = np.sum(is_horizontal) / len(saccade_angles)\n",
    "    p_vertical = 1 - p_horizontal  # Vertical saccades are the complement\n",
    "    \n",
    "    # Calculate orientation tuning\n",
    "    tuning_statistic = (p_horizontal - p_vertical) / (p_horizontal + p_vertical)\n",
    "    \n",
    "    return tuning_statistic\n",
    "def analyze_orientation_tuning(synced_df, non_synced_df):\n",
    "    \"\"\"\n",
    "    Analyze orientation tuning for each unique animal in the given dataframes.\n",
    "\n",
    "    Parameters:\n",
    "        synced_df (pd.DataFrame): DataFrame containing 'animal' and 'angle' columns for synchronized saccades.\n",
    "        non_synced_df (pd.DataFrame): DataFrame containing 'animal' and 'angle' columns for non-synchronized saccades.\n",
    "\n",
    "    Returns:\n",
    "        dict: Dictionary with animal IDs as keys and a tuple of (synced_tuning, non_synced_tuning) as values.\n",
    "    \"\"\"\n",
    "    # Initialize dictionary to store results\n",
    "    tuning_results = {}\n",
    "\n",
    "    # Get unique animals\n",
    "    unique_animals = synced_df['animal'].unique()\n",
    "\n",
    "    for animal in unique_animals:\n",
    "        # Filter data for the current animal\n",
    "        synced_angles = synced_df.query('animal == @animal')['angle'].values\n",
    "        non_synced_angles = non_synced_df.query('animal == @animal')['angle'].values\n",
    "\n",
    "        # Calculate orientation tuning\n",
    "        synced_tuning = calculate_orientation_tuning(synced_angles)\n",
    "        non_synced_tuning = calculate_orientation_tuning(non_synced_angles)\n",
    "\n",
    "        # Save to dictionary\n",
    "        tuning_results[animal] = (synced_tuning, non_synced_tuning)\n",
    "\n",
    "    # Plot results\n",
    "    fig, ax = plt.subplots(figsize=(3, 2))\n",
    "\n",
    "    synced_tuning_values = [v[0] for v in tuning_results.values()]\n",
    "    non_synced_tuning_values = [v[1] for v in tuning_results.values()]\n",
    "    colors = plt.cm.viridis(np.linspace(0, 1, len(unique_animals)))  # Generate unique colors\n",
    "\n",
    "    for i, animal in enumerate(unique_animals):\n",
    "        ax.scatter(\n",
    "            synced_tuning_values[i],\n",
    "            non_synced_tuning_values[i],\n",
    "            color=colors[i],\n",
    "            label=f\"Animal {animal}\",\n",
    "            s=30  # Marker size\n",
    "        )\n",
    "\n",
    "    # Formatting\n",
    "    ax.set_xlabel(\"Synced Tuning Value\", fontsize=10)\n",
    "    ax.set_ylabel(\"Non-Synced Tuning Value\", fontsize=10)\n",
    "    ax.tick_params(axis='both', which='major', labelsize=8)\n",
    "    ax.set_aspect('equal', adjustable='box')  # Equal axes\n",
    "    ax.legend(fontsize=8, loc='best')\n",
    "    ax.grid(False)\n",
    "    ax.axhline(0, color='gray', linestyle='--', linewidth=0.7)\n",
    "    ax.axvline(0, color='gray', linestyle='--', linewidth=0.7)\n",
    "\n",
    "    plt.tight_layout()\n",
    "    plt.show()\n",
    "\n",
    "    return tuning_results\n",
    "analyze_orientation_tuning(synced_saccade_collection,non_synced_saccade_collection)"
   ],
   "metadata": {
    "collapsed": false,
    "ExecuteTime": {
     "end_time": "2025-01-04T13:30:13.711302700Z",
     "start_time": "2025-01-04T13:30:13.486960700Z"
    }
   },
   "id": "15427a629ffc6e81",
   "execution_count": 12
  },
  {
   "cell_type": "code",
   "outputs": [
    {
     "name": "stdout",
     "output_type": "stream",
     "text": [
      "Exported plot to Z:\\Nimrod\\Paper_Figures\\2024_Personalized_headstage_eye_tracking\\Figure_3\\materials\\horizontal_tuning\\2025_01_05_02_09_horizontal_tuning_per_animal\\2025_01_05_02_09_horizontal_tuning_per_animal.pdf\n",
      "Exported data to Z:\\Nimrod\\Paper_Figures\\2024_Personalized_headstage_eye_tracking\\Figure_3\\materials\\horizontal_tuning\\2025_01_05_02_09_horizontal_tuning_per_animal\\2025_01_05_02_09_saccade_angles_data.pkl\n"
     ]
    },
    {
     "data": {
      "text/plain": "<Figure size 750x300 with 1 Axes>",
      "image/png": "[encoded data removed]"
     },
     "metadata": {},
     "output_type": "display_data"
    },
    {
     "data": {
      "text/plain": "{'PV_62': (0.4856070087609512, 0.2933673469387754),\n 'PV_126': (0.44865579550462753, 0.1469405984814649),\n 'PV_57': (0.5399373531714957, 0.33598862019914644)}"
     },
     "execution_count": 73,
     "metadata": {},
     "output_type": "execute_result"
    }
   ],
   "source": [
    "import numpy as np\n",
    "import matplotlib.pyplot as plt\n",
    "\n",
    "def analyze_orientation_tuning(synced_df, non_synced_df, export_path=None):\n",
    "    \"\"\"\n",
    "    Analyze orientation tuning for each unique animal in the given dataframes.\n",
    "\n",
    "    Parameters:\n",
    "        synced_df (pd.DataFrame): DataFrame containing 'animal' and 'angle' columns for synchronized saccades.\n",
    "        non_synced_df (pd.DataFrame): DataFrame containing 'animal' and 'angle' columns for non-synchronized saccades.\n",
    "\n",
    "    Returns:\n",
    "        dict: Dictionary with animal IDs as keys and a tuple of (synced_tuning, non_synced_tuning) as values.\n",
    "    \"\"\"\n",
    "    # Initialize dictionary to store results\n",
    "    tuning_results = {}\n",
    "\n",
    "    # Get unique animals\n",
    "    unique_animals = synced_df['animal'].unique()\n",
    "\n",
    "    for animal in unique_animals:\n",
    "        # Filter data for the current animal\n",
    "        synced_angles = synced_df.query('animal == @animal')['angle'].values\n",
    "        non_synced_angles = non_synced_df.query('animal == @animal')['angle'].values\n",
    "\n",
    "        # Calculate orientation tuning\n",
    "        synced_tuning = calculate_orientation_tuning(synced_angles)\n",
    "        non_synced_tuning = calculate_orientation_tuning(non_synced_angles)\n",
    "\n",
    "        # Save to dictionary\n",
    "        tuning_results[animal] = (synced_tuning, non_synced_tuning)\n",
    "\n",
    "    # Plot results\n",
    "    fig, ax = plt.subplots(figsize=(5, 2), dpi=150)\n",
    "\n",
    "    synced_tuning_values = [v[0] for v in tuning_results.values()]\n",
    "    non_synced_tuning_values = [v[1] for v in tuning_results.values()]\n",
    "    colors = plt.cm.viridis(np.linspace(0, 1, len(unique_animals)))  # Generate unique colors\n",
    "\n",
    "    for i, animal in enumerate(unique_animals):\n",
    "        ax.scatter(\n",
    "            synced_tuning_values[i],\n",
    "            non_synced_tuning_values[i],\n",
    "            color=colors[i],\n",
    "            label=f\"{animal}\",\n",
    "            s=30  # Marker size\n",
    "        )\n",
    "\n",
    "    # Formatting\n",
    "    ax.set_xlabel(\"Synced Tuning\", fontsize=10)\n",
    "    ax.set_ylabel(\"Non-Synced Tuning\", fontsize=10)\n",
    "    ax.tick_params(axis='both', which='major', labelsize=8)\n",
    "    ax.set_aspect('equal')  # Ensure equal scaling\n",
    "    ax.axhline(0, color='gray', linestyle='--', linewidth=0.7)\n",
    "    ax.axvline(0, color='gray', linestyle='--', linewidth=0.7)\n",
    "    \n",
    "    # Adjust axes limits to make sure x and y scales are identical\n",
    "    all_values = synced_tuning_values + non_synced_tuning_values\n",
    "    axis_limit = max(abs(min(all_values)), abs(max(all_values))) * 1.1\n",
    "    ax.set_xlim(-axis_limit, axis_limit)\n",
    "    ax.set_ylim(-axis_limit, axis_limit)\n",
    "\n",
    "    # Move legend outside the plot\n",
    "    ax.legend(fontsize=8, loc='center left', bbox_to_anchor=(1.05, 0.5), borderaxespad=0)\n",
    "    \n",
    "    plt.tight_layout()\n",
    "    if export_path:\n",
    "        timestamp = datetime.datetime.now().strftime(\"%Y_%m_%d_%H_%M\")\n",
    "        export_dir = pathlib.Path(export_path) / f'{timestamp}_horizontal_tuning_per_animal'\n",
    "        export_dir.mkdir(parents=True, exist_ok=True)\n",
    "        \n",
    "        # Save PDF\n",
    "        export_file_pdf = export_dir / f'{timestamp}_horizontal_tuning_per_animal.pdf'\n",
    "        plt.savefig(export_file_pdf, format='pdf')\n",
    "        print(f\"Exported plot to {export_file_pdf}\")\n",
    "        \n",
    "        # Save Pickle\n",
    "        export_file_pkl = export_dir / f'{timestamp}_saccade_angles_data.pkl'\n",
    "        with open(export_file_pkl, 'wb') as pkl_file:\n",
    "            pickle.dump(saccade_collection, pkl_file)\n",
    "        print(f\"Exported data to {export_file_pkl}\")\n",
    "    plt.show()\n",
    "\n",
    "    return tuning_results\n",
    "\n",
    "export_path = r'Z:\\Nimrod\\Paper_Figures\\2024_Personalized_headstage_eye_tracking\\Figure_3\\materials\\horizontal_tuning'\n",
    "analyze_orientation_tuning(synced_saccade_collection,non_synced_saccade_collection,export_path=export_path)"
   ],
   "metadata": {
    "collapsed": false,
    "ExecuteTime": {
     "end_time": "2025-01-05T00:09:56.500265800Z",
     "start_time": "2025-01-05T00:09:55.800214100Z"
    }
   },
   "id": "fd8b4e560965af98",
   "execution_count": 73
  },
  {
   "cell_type": "code",
   "outputs": [],
   "source": [
    "import os\n",
    "import pathlib\n",
    "import datetime\n",
    "import numpy as np\n",
    "import matplotlib.pyplot as plt\n",
    "import pickle\n",
    "\n",
    "def create_saccade_polar_histogram_multianimal(saccade_collection, figure_size=(8, 4), export_path=None):\n",
    "    # Extract unique animals\n",
    "    animals = saccade_collection['animal'].unique()\n",
    "    num_bins = 36\n",
    "\n",
    "    # Set up the polar plots\n",
    "    fig, axs = plt.subplots(1, 2, figsize=figure_size, dpi=150, subplot_kw=dict(projection='polar'))\n",
    "    colors = plt.cm.viridis(np.linspace(0, 0.5, len(animals)))  # Unique colors for each animal\n",
    "\n",
    "    # Iterate through each animal\n",
    "    for color, animal in zip(colors, animals):\n",
    "        # Filter saccades for the current animal\n",
    "        animal_saccades = saccade_collection.query('animal == @animal')\n",
    "\n",
    "        # Process right eye\n",
    "        saccade_angles_r = animal_saccades.query('eye == \"R\"')['angle']\n",
    "        hist_r, bin_edges_r = np.histogram(saccade_angles_r, bins=num_bins, range=(0, 360), density=True)\n",
    "        bin_centers_r = list((bin_edges_r[:-1] + bin_edges_r[1:]) / 2)\n",
    "        # Close the circular plot\n",
    "        bin_centers_r.append(bin_centers_r[0])\n",
    "        hist_r = np.append(hist_r, hist_r[0])\n",
    "        axs[0].plot(\n",
    "            np.deg2rad(bin_centers_r), hist_r,\n",
    "            label=f'{animal} saccades)',\n",
    "            color=color\n",
    "        )\n",
    "\n",
    "        # Process left eye\n",
    "        saccade_angles_l = animal_saccades.query('eye == \"L\"')['angle']\n",
    "        hist_l, bin_edges_l = np.histogram(saccade_angles_l, bins=num_bins, range=(0, 360), density=True)\n",
    "        bin_centers_l = list((bin_edges_l[:-1] + bin_edges_l[1:]) / 2)\n",
    "        # Close the circular plot\n",
    "        bin_centers_l.append(bin_centers_l[0])\n",
    "        hist_l = np.append(hist_l, hist_l[0])\n",
    "        axs[1].plot(\n",
    "            np.deg2rad(bin_centers_l), hist_l,\n",
    "            label=f'{animal}',\n",
    "            color=color\n",
    "        )\n",
    "\n",
    "    # Add shaded areas for probability = 0.1\n",
    "    for ax in axs:\n",
    "        theta = np.linspace(0, 2 * np.pi, 500)\n",
    "        ax.fill_between(theta, 0, 0.005, color='gray', alpha=0.2, zorder=0, label='0.005 Prob.')\n",
    "        \n",
    "    # Format plots\n",
    "    for ax, title in zip(axs, ['Right Eye', 'Left Eye']):\n",
    "        if title == 'Left Eye':\n",
    "            ax.legend(loc='upper right', bbox_to_anchor=(1, 1), fontsize=6)\n",
    "        else:\n",
    "            ax.legend().remove()  # Remove legend for the right eye plot\n",
    "        ax.grid(False)\n",
    "        ax.set_yticks([])\n",
    "        # Set font size for polar tick markers\n",
    "        ax.tick_params(axis='both', which='major', labelsize=8)\n",
    "\n",
    "    plt.tight_layout()\n",
    "\n",
    "    # Save the figure if export_path is provided\n",
    "    if export_path:\n",
    "        timestamp = datetime.datetime.now().strftime(\"%Y_%m_%d_%H_%M\")\n",
    "        export_dir = pathlib.Path(export_path) / f'{timestamp}_MultiAnimal_Saccade_Histogram'\n",
    "        export_dir.mkdir(parents=True, exist_ok=True)\n",
    "        \n",
    "        # Save PDF\n",
    "        export_file_pdf = export_dir / f'{timestamp}_saccade_angles_histogram.pdf'\n",
    "        plt.savefig(export_file_pdf, format='pdf')\n",
    "        print(f\"Exported histogram to {export_file_pdf}\")\n",
    "        \n",
    "        # Save Pickle\n",
    "        export_file_pkl = export_dir / f'{timestamp}_saccade_angles_data.pkl'\n",
    "        with open(export_file_pkl, 'wb') as pkl_file:\n",
    "            pickle.dump(saccade_collection, pkl_file)\n",
    "        print(f\"Exported data to {export_file_pkl}\")\n",
    "    plt.tight_layout()\n",
    "    plt.show()\n"
   ],
   "metadata": {
    "collapsed": false,
    "ExecuteTime": {
     "end_time": "2025-01-04T23:21:34.928346600Z",
     "start_time": "2025-01-04T23:21:34.843632100Z"
    }
   },
   "id": "499ed7aaeaeda32e",
   "execution_count": 68
  },
  {
   "cell_type": "code",
   "outputs": [
    {
     "name": "stdout",
     "output_type": "stream",
     "text": [
      "Exported histogram to Z:\\Nimrod\\Paper_Figures\\2024_Personalized_headstage_eye_tracking\\Figure_3\\materials\\synced_saccade_polar_multi_animal\\2025_01_05_01_22_MultiAnimal_Saccade_Histogram\\2025_01_05_01_22_saccade_angles_histogram.pdf\n",
      "Exported data to Z:\\Nimrod\\Paper_Figures\\2024_Personalized_headstage_eye_tracking\\Figure_3\\materials\\synced_saccade_polar_multi_animal\\2025_01_05_01_22_MultiAnimal_Saccade_Histogram\\2025_01_05_01_22_saccade_angles_data.pkl\n"
     ]
    },
    {
     "data": {
      "text/plain": "<Figure size 450x300 with 2 Axes>",
      "image/png": "[encoded data removed]"
     },
     "metadata": {},
     "output_type": "display_data"
    }
   ],
   "source": [
    "export_path = pathlib.Path(r'Z:\\Nimrod\\Paper_Figures\\2024_Personalized_headstage_eye_tracking\\Figure_3\\materials\\synced_saccade_polar_multi_animal')\n",
    "create_saccade_polar_histogram_multianimal(synced_saccade_collection, (3,2),export_path=export_path)"
   ],
   "metadata": {
    "collapsed": false,
    "ExecuteTime": {
     "end_time": "2025-01-04T23:22:26.618151600Z",
     "start_time": "2025-01-04T23:22:25.257060700Z"
    }
   },
   "id": "2549f433648a0eae",
   "execution_count": 70
  },
  {
   "cell_type": "code",
   "outputs": [
    {
     "name": "stdout",
     "output_type": "stream",
     "text": [
      "Exported histogram to Z:\\Nimrod\\Paper_Figures\\2024_Personalized_headstage_eye_tracking\\Figure_3\\materials\\non_synced_saccade_polar_multi_animal\\2025_01_05_01_26_MultiAnimal_Saccade_Histogram\\2025_01_05_01_26_saccade_angles_histogram.pdf\n",
      "Exported data to Z:\\Nimrod\\Paper_Figures\\2024_Personalized_headstage_eye_tracking\\Figure_3\\materials\\non_synced_saccade_polar_multi_animal\\2025_01_05_01_26_MultiAnimal_Saccade_Histogram\\2025_01_05_01_26_saccade_angles_data.pkl\n"
     ]
    },
    {
     "data": {
      "text/plain": "<Figure size 450x300 with 2 Axes>",
      "image/png": "[encoded data removed]"
     },
     "metadata": {},
     "output_type": "display_data"
    }
   ],
   "source": [
    "export_path = pathlib.Path(r'Z:\\Nimrod\\Paper_Figures\\2024_Personalized_headstage_eye_tracking\\Figure_3\\materials\\non_synced_saccade_polar_multi_animal')\n",
    "create_saccade_polar_histogram_multianimal(non_synced_saccade_collection, (3,2),export_path=export_path)\n"
   ],
   "metadata": {
    "collapsed": false,
    "ExecuteTime": {
     "end_time": "2025-01-04T23:26:38.337827300Z",
     "start_time": "2025-01-04T23:26:37.312384900Z"
    }
   },
   "id": "94267515a8d69c2",
   "execution_count": 71
  },
  {
   "cell_type": "code",
   "outputs": [
    {
     "data": {
      "text/plain": "dict_keys(['PV_62_block_023', 'PV_62_block_024', 'PV_62_block_026', 'PV_62_block_038', 'PV_126_block_007', 'PV_126_block_008', 'PV_126_block_009', 'PV_126_block_010', 'PV_126_block_011', 'PV_126_block_012', 'PV_126_block_013', 'PV_57_block_010', 'PV_57_block_011', 'PV_57_block_012'])"
     },
     "execution_count": 32,
     "metadata": {},
     "output_type": "execute_result"
    }
   ],
   "source": [
    "block_dict.keys()"
   ],
   "metadata": {
    "collapsed": false,
    "ExecuteTime": {
     "end_time": "2024-12-28T15:05:27.394277900Z",
     "start_time": "2024-12-28T15:05:27.346105500Z"
    }
   },
   "id": "af9a309a8eca8034",
   "execution_count": 32
  },
  {
   "cell_type": "code",
   "outputs": [],
   "source": [
    "left_eye_folder = pathlib.Path(block.l_e_path)\n",
    "right_eye_folder = pathlib.Path(block.r_e_path)\n"
   ],
   "metadata": {
    "collapsed": false,
    "ExecuteTime": {
     "end_time": "2024-12-28T15:06:18.005729500Z",
     "start_time": "2024-12-28T15:06:17.973417200Z"
    }
   },
   "id": "dcfb9008436da30a",
   "execution_count": 35
  },
  {
   "cell_type": "code",
   "outputs": [],
   "source": [
    "# Define the left and right eye folders\n",
    "left_eye_folder = pathlib.Path(block.l_e_path)\n",
    "right_eye_folder = pathlib.Path(block.r_e_path)\n",
    "\n",
    "\n",
    "# Temporary storage for file movements\n",
    "left_to_right_files = list(left_eye_folder.glob('*'))\n",
    "right_to_left_files = list(right_eye_folder.glob('*'))"
   ],
   "metadata": {
    "collapsed": false,
    "ExecuteTime": {
     "end_time": "2024-12-28T15:11:58.117654100Z",
     "start_time": "2024-12-28T15:11:58.068653900Z"
    }
   },
   "id": "869f8f7c1ec77a92",
   "execution_count": 38
  },
  {
   "cell_type": "code",
   "outputs": [],
   "source": [
    "import shutil\n",
    "from pathlib import Path\n",
    "\n",
    "def swap_and_rename_eye_videos_with_temp_stamping(block_list):\n",
    "    \"\"\"\n",
    "    Moves all files between the left and right eye folders for each block, ensuring no overwriting by temporarily\n",
    "    stamping file names during the move. Renames files with 'LE'/'RE' tags after they are moved.\n",
    "\n",
    "    Args:\n",
    "        block_list (list): List of block objects containing paths to left and right eye folders.\n",
    "    \"\"\"\n",
    "    for block in block_list:\n",
    "        # Define the left and right eye folders\n",
    "        left_eye_folder = Path(block.l_e_path)\n",
    "        right_eye_folder = Path(block.r_e_path)\n",
    "\n",
    "        if not left_eye_folder.exists() or not right_eye_folder.exists():\n",
    "            print(f\"Skipping block {block.block_num}: Missing LE or RE folder.\", flush=True)\n",
    "            continue\n",
    "\n",
    "        # Gather files to move\n",
    "        left_to_right_files = list(left_eye_folder.glob('*'))\n",
    "        right_to_left_files = list(right_eye_folder.glob('*'))\n",
    "\n",
    "        print(f\"\\nBlock {block.block_num} - Confirmation Required\", flush=True)\n",
    "        print(\"Files to be moved from Left Eye folder to Right Eye folder:\", flush=True)\n",
    "        for file in left_to_right_files:\n",
    "            print(f\"  - {file}\", flush=True)\n",
    "\n",
    "        print(\"Files to be moved from Right Eye folder to Left Eye folder:\", flush=True)\n",
    "        for file in right_to_left_files:\n",
    "            print(f\"  - {file}\", flush=True)\n",
    "\n",
    "        # Ask for confirmation\n",
    "        confirm = input(\"Do you want to proceed with these changes? (yes/no): \").strip().lower()\n",
    "        if confirm != 'yes':\n",
    "            print(f\"Skipping block {block.block_num} as per user request.\", flush=True)\n",
    "            continue\n",
    "\n",
    "        # Move files from left to right with temporary stamping\n",
    "        for file in left_to_right_files:\n",
    "            try:\n",
    "                new_name = f\"{file.stem}_temp{file.suffix}\"\n",
    "                new_path = right_eye_folder / new_name\n",
    "                shutil.move(str(file), str(new_path))\n",
    "                print(f\"Temporarily moved {file} to {new_path}\", flush=True)\n",
    "            except Exception as e:\n",
    "                print(f\"Error moving {file} to {new_path}: {e}\", flush=True)\n",
    "\n",
    "        # Move files from right to left with temporary stamping\n",
    "        for file in right_to_left_files:\n",
    "            try:\n",
    "                new_name = f\"{file.stem}_temp{file.suffix}\"\n",
    "                new_path = left_eye_folder / new_name\n",
    "                shutil.move(str(file), str(new_path))\n",
    "                print(f\"Temporarily moved {file} to {new_path}\", flush=True)\n",
    "            except Exception as e:\n",
    "                print(f\"Error moving {file} to {new_path}: {e}\", flush=True)\n",
    "\n",
    "        # Restore original names and perform LE/RE renaming\n",
    "        for file in right_eye_folder.glob('*'):\n",
    "            original_name = file.name.replace('_temp', '')\n",
    "            new_path = right_eye_folder / original_name\n",
    "            try:\n",
    "                file.rename(new_path)\n",
    "                print(f\"Restored name {file} to {new_path}\", flush=True)\n",
    "                if 'LE' in original_name:\n",
    "                    renamed_path = new_path.with_name(original_name.replace('LE', 'RE'))\n",
    "                    new_path.rename(renamed_path)\n",
    "                    print(f\"Renamed {new_path} to {renamed_path}\", flush=True)\n",
    "            except Exception as e:\n",
    "                print(f\"Error renaming {file}: {e}\", flush=True)\n",
    "\n",
    "        for file in left_eye_folder.glob('*'):\n",
    "            original_name = file.name.replace('_temp', '')\n",
    "            new_path = left_eye_folder / original_name\n",
    "            try:\n",
    "                file.rename(new_path)\n",
    "                print(f\"Restored name {file} to {new_path}\", flush=True)\n",
    "                if 'RE' in original_name:\n",
    "                    renamed_path = new_path.with_name(original_name.replace('RE', 'LE'))\n",
    "                    new_path.rename(renamed_path)\n",
    "                    print(f\"Renamed {new_path} to {renamed_path}\", flush=True)\n",
    "            except Exception as e:\n",
    "                print(f\"Error renaming {file}: {e}\", flush=True)\n",
    "\n",
    "        print(f\"Completed swapping and renaming for block {block.block_num}\", flush=True)\n"
   ],
   "metadata": {
    "collapsed": false,
    "ExecuteTime": {
     "end_time": "2024-12-28T15:42:30.693580300Z",
     "start_time": "2024-12-28T15:42:30.679785300Z"
    }
   },
   "id": "50a642235fca348e",
   "execution_count": 56
  },
  {
   "cell_type": "code",
   "outputs": [],
   "source": [
    "block_list = [block]"
   ],
   "metadata": {
    "collapsed": false,
    "ExecuteTime": {
     "end_time": "2024-12-28T15:42:31.060261300Z",
     "start_time": "2024-12-28T15:42:31.042576500Z"
    }
   },
   "id": "91547b692ab2e72e",
   "execution_count": 57
  },
  {
   "cell_type": "code",
   "outputs": [
    {
     "name": "stdout",
     "output_type": "stream",
     "text": [
      "\n",
      "Block 012 - Confirmation Required\n",
      "Files to be moved from Left Eye folder to Right Eye folder:\n",
      "  - Z:\\Nimrod\\experiments\\PV_57\\2024_12_01\\block_012\\eye_videos\\LE\\d3__03_640x480_60hz_experiment_1_recording_0\\d3__03.h264\n",
      "  - Z:\\Nimrod\\experiments\\PV_57\\2024_12_01\\block_012\\eye_videos\\LE\\d3__03_640x480_60hz_experiment_1_recording_0\\d3__03_LE.mp4\n",
      "  - Z:\\Nimrod\\experiments\\PV_57\\2024_12_01\\block_012\\eye_videos\\LE\\d3__03_640x480_60hz_experiment_1_recording_0\\d3__03_LEDLC_resnet_50_Eye_Tracking_piplineMar1shuffle1_950000.csv\n",
      "  - Z:\\Nimrod\\experiments\\PV_57\\2024_12_01\\block_012\\eye_videos\\LE\\d3__03_640x480_60hz_experiment_1_recording_0\\d3__03_LEDLC_resnet_50_Eye_Tracking_piplineMar1shuffle1_950000.h5\n",
      "  - Z:\\Nimrod\\experiments\\PV_57\\2024_12_01\\block_012\\eye_videos\\LE\\d3__03_640x480_60hz_experiment_1_recording_0\\d3__03_LEDLC_resnet_50_Eye_Tracking_piplineMar1shuffle1_950000_labeled_LE.mp4\n",
      "  - Z:\\Nimrod\\experiments\\PV_57\\2024_12_01\\block_012\\eye_videos\\LE\\d3__03_640x480_60hz_experiment_1_recording_0\\d3__03_LEDLC_resnet_50_Eye_Tracking_piplineMar1shuffle1_950000_meta.pickle\n",
      "  - Z:\\Nimrod\\experiments\\PV_57\\2024_12_01\\block_012\\eye_videos\\LE\\d3__03_640x480_60hz_experiment_1_recording_0\\d3__03_params.json\n",
      "  - Z:\\Nimrod\\experiments\\PV_57\\2024_12_01\\block_012\\eye_videos\\LE\\d3__03_640x480_60hz_experiment_1_recording_0\\d3__03_timestamps.csv\n",
      "Files to be moved from Right Eye folder to Left Eye folder:\n",
      "  - Z:\\Nimrod\\experiments\\PV_57\\2024_12_01\\block_012\\eye_videos\\RE\\d3__03_640x480_60hz_experiment_1_recording_0\\d3__03.h264\n",
      "  - Z:\\Nimrod\\experiments\\PV_57\\2024_12_01\\block_012\\eye_videos\\RE\\d3__03_640x480_60hz_experiment_1_recording_0\\d3__03.mp4\n",
      "  - Z:\\Nimrod\\experiments\\PV_57\\2024_12_01\\block_012\\eye_videos\\RE\\d3__03_640x480_60hz_experiment_1_recording_0\\d3__03_params.json\n",
      "  - Z:\\Nimrod\\experiments\\PV_57\\2024_12_01\\block_012\\eye_videos\\RE\\d3__03_640x480_60hz_experiment_1_recording_0\\d3__03_RE.mp4\n",
      "  - Z:\\Nimrod\\experiments\\PV_57\\2024_12_01\\block_012\\eye_videos\\RE\\d3__03_640x480_60hz_experiment_1_recording_0\\d3__03_REDLC_resnet_50_Eye_Tracking_piplineMar1shuffle1_950000.csv\n",
      "  - Z:\\Nimrod\\experiments\\PV_57\\2024_12_01\\block_012\\eye_videos\\RE\\d3__03_640x480_60hz_experiment_1_recording_0\\d3__03_REDLC_resnet_50_Eye_Tracking_piplineMar1shuffle1_950000.h5\n",
      "  - Z:\\Nimrod\\experiments\\PV_57\\2024_12_01\\block_012\\eye_videos\\RE\\d3__03_640x480_60hz_experiment_1_recording_0\\d3__03_REDLC_resnet_50_Eye_Tracking_piplineMar1shuffle1_950000_labeled.mp4\n",
      "  - Z:\\Nimrod\\experiments\\PV_57\\2024_12_01\\block_012\\eye_videos\\RE\\d3__03_640x480_60hz_experiment_1_recording_0\\d3__03_REDLC_resnet_50_Eye_Tracking_piplineMar1shuffle1_950000_meta.pickle\n",
      "  - Z:\\Nimrod\\experiments\\PV_57\\2024_12_01\\block_012\\eye_videos\\RE\\d3__03_640x480_60hz_experiment_1_recording_0\\d3__03_timestamps.csv\n",
      "Temporarily moved Z:\\Nimrod\\experiments\\PV_57\\2024_12_01\\block_012\\eye_videos\\LE\\d3__03_640x480_60hz_experiment_1_recording_0\\d3__03.h264 to Z:\\Nimrod\\experiments\\PV_57\\2024_12_01\\block_012\\eye_videos\\RE\\d3__03_640x480_60hz_experiment_1_recording_0\\d3__03_temp.h264\n",
      "Temporarily moved Z:\\Nimrod\\experiments\\PV_57\\2024_12_01\\block_012\\eye_videos\\LE\\d3__03_640x480_60hz_experiment_1_recording_0\\d3__03_LE.mp4 to Z:\\Nimrod\\experiments\\PV_57\\2024_12_01\\block_012\\eye_videos\\RE\\d3__03_640x480_60hz_experiment_1_recording_0\\d3__03_LE_temp.mp4\n",
      "Temporarily moved Z:\\Nimrod\\experiments\\PV_57\\2024_12_01\\block_012\\eye_videos\\LE\\d3__03_640x480_60hz_experiment_1_recording_0\\d3__03_LEDLC_resnet_50_Eye_Tracking_piplineMar1shuffle1_950000.csv to Z:\\Nimrod\\experiments\\PV_57\\2024_12_01\\block_012\\eye_videos\\RE\\d3__03_640x480_60hz_experiment_1_recording_0\\d3__03_LEDLC_resnet_50_Eye_Tracking_piplineMar1shuffle1_950000_temp.csv\n",
      "Temporarily moved Z:\\Nimrod\\experiments\\PV_57\\2024_12_01\\block_012\\eye_videos\\LE\\d3__03_640x480_60hz_experiment_1_recording_0\\d3__03_LEDLC_resnet_50_Eye_Tracking_piplineMar1shuffle1_950000.h5 to Z:\\Nimrod\\experiments\\PV_57\\2024_12_01\\block_012\\eye_videos\\RE\\d3__03_640x480_60hz_experiment_1_recording_0\\d3__03_LEDLC_resnet_50_Eye_Tracking_piplineMar1shuffle1_950000_temp.h5\n",
      "Temporarily moved Z:\\Nimrod\\experiments\\PV_57\\2024_12_01\\block_012\\eye_videos\\LE\\d3__03_640x480_60hz_experiment_1_recording_0\\d3__03_LEDLC_resnet_50_Eye_Tracking_piplineMar1shuffle1_950000_labeled_LE.mp4 to Z:\\Nimrod\\experiments\\PV_57\\2024_12_01\\block_012\\eye_videos\\RE\\d3__03_640x480_60hz_experiment_1_recording_0\\d3__03_LEDLC_resnet_50_Eye_Tracking_piplineMar1shuffle1_950000_labeled_LE_temp.mp4\n",
      "Temporarily moved Z:\\Nimrod\\experiments\\PV_57\\2024_12_01\\block_012\\eye_videos\\LE\\d3__03_640x480_60hz_experiment_1_recording_0\\d3__03_LEDLC_resnet_50_Eye_Tracking_piplineMar1shuffle1_950000_meta.pickle to Z:\\Nimrod\\experiments\\PV_57\\2024_12_01\\block_012\\eye_videos\\RE\\d3__03_640x480_60hz_experiment_1_recording_0\\d3__03_LEDLC_resnet_50_Eye_Tracking_piplineMar1shuffle1_950000_meta_temp.pickle\n",
      "Temporarily moved Z:\\Nimrod\\experiments\\PV_57\\2024_12_01\\block_012\\eye_videos\\LE\\d3__03_640x480_60hz_experiment_1_recording_0\\d3__03_params.json to Z:\\Nimrod\\experiments\\PV_57\\2024_12_01\\block_012\\eye_videos\\RE\\d3__03_640x480_60hz_experiment_1_recording_0\\d3__03_params_temp.json\n",
      "Temporarily moved Z:\\Nimrod\\experiments\\PV_57\\2024_12_01\\block_012\\eye_videos\\LE\\d3__03_640x480_60hz_experiment_1_recording_0\\d3__03_timestamps.csv to Z:\\Nimrod\\experiments\\PV_57\\2024_12_01\\block_012\\eye_videos\\RE\\d3__03_640x480_60hz_experiment_1_recording_0\\d3__03_timestamps_temp.csv\n",
      "Temporarily moved Z:\\Nimrod\\experiments\\PV_57\\2024_12_01\\block_012\\eye_videos\\RE\\d3__03_640x480_60hz_experiment_1_recording_0\\d3__03.h264 to Z:\\Nimrod\\experiments\\PV_57\\2024_12_01\\block_012\\eye_videos\\LE\\d3__03_640x480_60hz_experiment_1_recording_0\\d3__03_temp.h264\n",
      "Temporarily moved Z:\\Nimrod\\experiments\\PV_57\\2024_12_01\\block_012\\eye_videos\\RE\\d3__03_640x480_60hz_experiment_1_recording_0\\d3__03.mp4 to Z:\\Nimrod\\experiments\\PV_57\\2024_12_01\\block_012\\eye_videos\\LE\\d3__03_640x480_60hz_experiment_1_recording_0\\d3__03_temp.mp4\n",
      "Temporarily moved Z:\\Nimrod\\experiments\\PV_57\\2024_12_01\\block_012\\eye_videos\\RE\\d3__03_640x480_60hz_experiment_1_recording_0\\d3__03_params.json to Z:\\Nimrod\\experiments\\PV_57\\2024_12_01\\block_012\\eye_videos\\LE\\d3__03_640x480_60hz_experiment_1_recording_0\\d3__03_params_temp.json\n",
      "Temporarily moved Z:\\Nimrod\\experiments\\PV_57\\2024_12_01\\block_012\\eye_videos\\RE\\d3__03_640x480_60hz_experiment_1_recording_0\\d3__03_RE.mp4 to Z:\\Nimrod\\experiments\\PV_57\\2024_12_01\\block_012\\eye_videos\\LE\\d3__03_640x480_60hz_experiment_1_recording_0\\d3__03_RE_temp.mp4\n",
      "Temporarily moved Z:\\Nimrod\\experiments\\PV_57\\2024_12_01\\block_012\\eye_videos\\RE\\d3__03_640x480_60hz_experiment_1_recording_0\\d3__03_REDLC_resnet_50_Eye_Tracking_piplineMar1shuffle1_950000.csv to Z:\\Nimrod\\experiments\\PV_57\\2024_12_01\\block_012\\eye_videos\\LE\\d3__03_640x480_60hz_experiment_1_recording_0\\d3__03_REDLC_resnet_50_Eye_Tracking_piplineMar1shuffle1_950000_temp.csv\n",
      "Temporarily moved Z:\\Nimrod\\experiments\\PV_57\\2024_12_01\\block_012\\eye_videos\\RE\\d3__03_640x480_60hz_experiment_1_recording_0\\d3__03_REDLC_resnet_50_Eye_Tracking_piplineMar1shuffle1_950000.h5 to Z:\\Nimrod\\experiments\\PV_57\\2024_12_01\\block_012\\eye_videos\\LE\\d3__03_640x480_60hz_experiment_1_recording_0\\d3__03_REDLC_resnet_50_Eye_Tracking_piplineMar1shuffle1_950000_temp.h5\n",
      "Temporarily moved Z:\\Nimrod\\experiments\\PV_57\\2024_12_01\\block_012\\eye_videos\\RE\\d3__03_640x480_60hz_experiment_1_recording_0\\d3__03_REDLC_resnet_50_Eye_Tracking_piplineMar1shuffle1_950000_labeled.mp4 to Z:\\Nimrod\\experiments\\PV_57\\2024_12_01\\block_012\\eye_videos\\LE\\d3__03_640x480_60hz_experiment_1_recording_0\\d3__03_REDLC_resnet_50_Eye_Tracking_piplineMar1shuffle1_950000_labeled_temp.mp4\n",
      "Temporarily moved Z:\\Nimrod\\experiments\\PV_57\\2024_12_01\\block_012\\eye_videos\\RE\\d3__03_640x480_60hz_experiment_1_recording_0\\d3__03_REDLC_resnet_50_Eye_Tracking_piplineMar1shuffle1_950000_meta.pickle to Z:\\Nimrod\\experiments\\PV_57\\2024_12_01\\block_012\\eye_videos\\LE\\d3__03_640x480_60hz_experiment_1_recording_0\\d3__03_REDLC_resnet_50_Eye_Tracking_piplineMar1shuffle1_950000_meta_temp.pickle\n",
      "Temporarily moved Z:\\Nimrod\\experiments\\PV_57\\2024_12_01\\block_012\\eye_videos\\RE\\d3__03_640x480_60hz_experiment_1_recording_0\\d3__03_timestamps.csv to Z:\\Nimrod\\experiments\\PV_57\\2024_12_01\\block_012\\eye_videos\\LE\\d3__03_640x480_60hz_experiment_1_recording_0\\d3__03_timestamps_temp.csv\n",
      "Restored name Z:\\Nimrod\\experiments\\PV_57\\2024_12_01\\block_012\\eye_videos\\RE\\d3__03_640x480_60hz_experiment_1_recording_0\\d3__03_LEDLC_resnet_50_Eye_Tracking_piplineMar1shuffle1_950000_labeled_LE_temp.mp4 to Z:\\Nimrod\\experiments\\PV_57\\2024_12_01\\block_012\\eye_videos\\RE\\d3__03_640x480_60hz_experiment_1_recording_0\\d3__03_LEDLC_resnet_50_Eye_Tracking_piplineMar1shuffle1_950000_labeled_LE.mp4\n",
      "Renamed Z:\\Nimrod\\experiments\\PV_57\\2024_12_01\\block_012\\eye_videos\\RE\\d3__03_640x480_60hz_experiment_1_recording_0\\d3__03_LEDLC_resnet_50_Eye_Tracking_piplineMar1shuffle1_950000_labeled_LE.mp4 to Z:\\Nimrod\\experiments\\PV_57\\2024_12_01\\block_012\\eye_videos\\RE\\d3__03_640x480_60hz_experiment_1_recording_0\\d3__03_REDLC_resnet_50_Eye_Tracking_piplineMar1shuffle1_950000_labeled_RE.mp4\n",
      "Restored name Z:\\Nimrod\\experiments\\PV_57\\2024_12_01\\block_012\\eye_videos\\RE\\d3__03_640x480_60hz_experiment_1_recording_0\\d3__03_LEDLC_resnet_50_Eye_Tracking_piplineMar1shuffle1_950000_meta_temp.pickle to Z:\\Nimrod\\experiments\\PV_57\\2024_12_01\\block_012\\eye_videos\\RE\\d3__03_640x480_60hz_experiment_1_recording_0\\d3__03_LEDLC_resnet_50_Eye_Tracking_piplineMar1shuffle1_950000_meta.pickle\n",
      "Renamed Z:\\Nimrod\\experiments\\PV_57\\2024_12_01\\block_012\\eye_videos\\RE\\d3__03_640x480_60hz_experiment_1_recording_0\\d3__03_LEDLC_resnet_50_Eye_Tracking_piplineMar1shuffle1_950000_meta.pickle to Z:\\Nimrod\\experiments\\PV_57\\2024_12_01\\block_012\\eye_videos\\RE\\d3__03_640x480_60hz_experiment_1_recording_0\\d3__03_REDLC_resnet_50_Eye_Tracking_piplineMar1shuffle1_950000_meta.pickle\n",
      "Restored name Z:\\Nimrod\\experiments\\PV_57\\2024_12_01\\block_012\\eye_videos\\RE\\d3__03_640x480_60hz_experiment_1_recording_0\\d3__03_LEDLC_resnet_50_Eye_Tracking_piplineMar1shuffle1_950000_temp.csv to Z:\\Nimrod\\experiments\\PV_57\\2024_12_01\\block_012\\eye_videos\\RE\\d3__03_640x480_60hz_experiment_1_recording_0\\d3__03_LEDLC_resnet_50_Eye_Tracking_piplineMar1shuffle1_950000.csv\n",
      "Renamed Z:\\Nimrod\\experiments\\PV_57\\2024_12_01\\block_012\\eye_videos\\RE\\d3__03_640x480_60hz_experiment_1_recording_0\\d3__03_LEDLC_resnet_50_Eye_Tracking_piplineMar1shuffle1_950000.csv to Z:\\Nimrod\\experiments\\PV_57\\2024_12_01\\block_012\\eye_videos\\RE\\d3__03_640x480_60hz_experiment_1_recording_0\\d3__03_REDLC_resnet_50_Eye_Tracking_piplineMar1shuffle1_950000.csv\n",
      "Restored name Z:\\Nimrod\\experiments\\PV_57\\2024_12_01\\block_012\\eye_videos\\RE\\d3__03_640x480_60hz_experiment_1_recording_0\\d3__03_LEDLC_resnet_50_Eye_Tracking_piplineMar1shuffle1_950000_temp.h5 to Z:\\Nimrod\\experiments\\PV_57\\2024_12_01\\block_012\\eye_videos\\RE\\d3__03_640x480_60hz_experiment_1_recording_0\\d3__03_LEDLC_resnet_50_Eye_Tracking_piplineMar1shuffle1_950000.h5\n",
      "Renamed Z:\\Nimrod\\experiments\\PV_57\\2024_12_01\\block_012\\eye_videos\\RE\\d3__03_640x480_60hz_experiment_1_recording_0\\d3__03_LEDLC_resnet_50_Eye_Tracking_piplineMar1shuffle1_950000.h5 to Z:\\Nimrod\\experiments\\PV_57\\2024_12_01\\block_012\\eye_videos\\RE\\d3__03_640x480_60hz_experiment_1_recording_0\\d3__03_REDLC_resnet_50_Eye_Tracking_piplineMar1shuffle1_950000.h5\n",
      "Restored name Z:\\Nimrod\\experiments\\PV_57\\2024_12_01\\block_012\\eye_videos\\RE\\d3__03_640x480_60hz_experiment_1_recording_0\\d3__03_LE_temp.mp4 to Z:\\Nimrod\\experiments\\PV_57\\2024_12_01\\block_012\\eye_videos\\RE\\d3__03_640x480_60hz_experiment_1_recording_0\\d3__03_LE.mp4\n",
      "Renamed Z:\\Nimrod\\experiments\\PV_57\\2024_12_01\\block_012\\eye_videos\\RE\\d3__03_640x480_60hz_experiment_1_recording_0\\d3__03_LE.mp4 to Z:\\Nimrod\\experiments\\PV_57\\2024_12_01\\block_012\\eye_videos\\RE\\d3__03_640x480_60hz_experiment_1_recording_0\\d3__03_RE.mp4\n",
      "Restored name Z:\\Nimrod\\experiments\\PV_57\\2024_12_01\\block_012\\eye_videos\\RE\\d3__03_640x480_60hz_experiment_1_recording_0\\d3__03_params_temp.json to Z:\\Nimrod\\experiments\\PV_57\\2024_12_01\\block_012\\eye_videos\\RE\\d3__03_640x480_60hz_experiment_1_recording_0\\d3__03_params.json\n",
      "Restored name Z:\\Nimrod\\experiments\\PV_57\\2024_12_01\\block_012\\eye_videos\\RE\\d3__03_640x480_60hz_experiment_1_recording_0\\d3__03_temp.h264 to Z:\\Nimrod\\experiments\\PV_57\\2024_12_01\\block_012\\eye_videos\\RE\\d3__03_640x480_60hz_experiment_1_recording_0\\d3__03.h264\n",
      "Restored name Z:\\Nimrod\\experiments\\PV_57\\2024_12_01\\block_012\\eye_videos\\RE\\d3__03_640x480_60hz_experiment_1_recording_0\\d3__03_timestamps_temp.csv to Z:\\Nimrod\\experiments\\PV_57\\2024_12_01\\block_012\\eye_videos\\RE\\d3__03_640x480_60hz_experiment_1_recording_0\\d3__03_timestamps.csv\n",
      "Restored name Z:\\Nimrod\\experiments\\PV_57\\2024_12_01\\block_012\\eye_videos\\LE\\d3__03_640x480_60hz_experiment_1_recording_0\\d3__03_params_temp.json to Z:\\Nimrod\\experiments\\PV_57\\2024_12_01\\block_012\\eye_videos\\LE\\d3__03_640x480_60hz_experiment_1_recording_0\\d3__03_params.json\n",
      "Restored name Z:\\Nimrod\\experiments\\PV_57\\2024_12_01\\block_012\\eye_videos\\LE\\d3__03_640x480_60hz_experiment_1_recording_0\\d3__03_REDLC_resnet_50_Eye_Tracking_piplineMar1shuffle1_950000_labeled_temp.mp4 to Z:\\Nimrod\\experiments\\PV_57\\2024_12_01\\block_012\\eye_videos\\LE\\d3__03_640x480_60hz_experiment_1_recording_0\\d3__03_REDLC_resnet_50_Eye_Tracking_piplineMar1shuffle1_950000_labeled.mp4\n",
      "Renamed Z:\\Nimrod\\experiments\\PV_57\\2024_12_01\\block_012\\eye_videos\\LE\\d3__03_640x480_60hz_experiment_1_recording_0\\d3__03_REDLC_resnet_50_Eye_Tracking_piplineMar1shuffle1_950000_labeled.mp4 to Z:\\Nimrod\\experiments\\PV_57\\2024_12_01\\block_012\\eye_videos\\LE\\d3__03_640x480_60hz_experiment_1_recording_0\\d3__03_LEDLC_resnet_50_Eye_Tracking_piplineMar1shuffle1_950000_labeled.mp4\n",
      "Restored name Z:\\Nimrod\\experiments\\PV_57\\2024_12_01\\block_012\\eye_videos\\LE\\d3__03_640x480_60hz_experiment_1_recording_0\\d3__03_REDLC_resnet_50_Eye_Tracking_piplineMar1shuffle1_950000_meta_temp.pickle to Z:\\Nimrod\\experiments\\PV_57\\2024_12_01\\block_012\\eye_videos\\LE\\d3__03_640x480_60hz_experiment_1_recording_0\\d3__03_REDLC_resnet_50_Eye_Tracking_piplineMar1shuffle1_950000_meta.pickle\n",
      "Renamed Z:\\Nimrod\\experiments\\PV_57\\2024_12_01\\block_012\\eye_videos\\LE\\d3__03_640x480_60hz_experiment_1_recording_0\\d3__03_REDLC_resnet_50_Eye_Tracking_piplineMar1shuffle1_950000_meta.pickle to Z:\\Nimrod\\experiments\\PV_57\\2024_12_01\\block_012\\eye_videos\\LE\\d3__03_640x480_60hz_experiment_1_recording_0\\d3__03_LEDLC_resnet_50_Eye_Tracking_piplineMar1shuffle1_950000_meta.pickle\n",
      "Restored name Z:\\Nimrod\\experiments\\PV_57\\2024_12_01\\block_012\\eye_videos\\LE\\d3__03_640x480_60hz_experiment_1_recording_0\\d3__03_REDLC_resnet_50_Eye_Tracking_piplineMar1shuffle1_950000_temp.csv to Z:\\Nimrod\\experiments\\PV_57\\2024_12_01\\block_012\\eye_videos\\LE\\d3__03_640x480_60hz_experiment_1_recording_0\\d3__03_REDLC_resnet_50_Eye_Tracking_piplineMar1shuffle1_950000.csv\n",
      "Renamed Z:\\Nimrod\\experiments\\PV_57\\2024_12_01\\block_012\\eye_videos\\LE\\d3__03_640x480_60hz_experiment_1_recording_0\\d3__03_REDLC_resnet_50_Eye_Tracking_piplineMar1shuffle1_950000.csv to Z:\\Nimrod\\experiments\\PV_57\\2024_12_01\\block_012\\eye_videos\\LE\\d3__03_640x480_60hz_experiment_1_recording_0\\d3__03_LEDLC_resnet_50_Eye_Tracking_piplineMar1shuffle1_950000.csv\n",
      "Restored name Z:\\Nimrod\\experiments\\PV_57\\2024_12_01\\block_012\\eye_videos\\LE\\d3__03_640x480_60hz_experiment_1_recording_0\\d3__03_REDLC_resnet_50_Eye_Tracking_piplineMar1shuffle1_950000_temp.h5 to Z:\\Nimrod\\experiments\\PV_57\\2024_12_01\\block_012\\eye_videos\\LE\\d3__03_640x480_60hz_experiment_1_recording_0\\d3__03_REDLC_resnet_50_Eye_Tracking_piplineMar1shuffle1_950000.h5\n",
      "Renamed Z:\\Nimrod\\experiments\\PV_57\\2024_12_01\\block_012\\eye_videos\\LE\\d3__03_640x480_60hz_experiment_1_recording_0\\d3__03_REDLC_resnet_50_Eye_Tracking_piplineMar1shuffle1_950000.h5 to Z:\\Nimrod\\experiments\\PV_57\\2024_12_01\\block_012\\eye_videos\\LE\\d3__03_640x480_60hz_experiment_1_recording_0\\d3__03_LEDLC_resnet_50_Eye_Tracking_piplineMar1shuffle1_950000.h5\n",
      "Restored name Z:\\Nimrod\\experiments\\PV_57\\2024_12_01\\block_012\\eye_videos\\LE\\d3__03_640x480_60hz_experiment_1_recording_0\\d3__03_RE_temp.mp4 to Z:\\Nimrod\\experiments\\PV_57\\2024_12_01\\block_012\\eye_videos\\LE\\d3__03_640x480_60hz_experiment_1_recording_0\\d3__03_RE.mp4\n",
      "Renamed Z:\\Nimrod\\experiments\\PV_57\\2024_12_01\\block_012\\eye_videos\\LE\\d3__03_640x480_60hz_experiment_1_recording_0\\d3__03_RE.mp4 to Z:\\Nimrod\\experiments\\PV_57\\2024_12_01\\block_012\\eye_videos\\LE\\d3__03_640x480_60hz_experiment_1_recording_0\\d3__03_LE.mp4\n",
      "Restored name Z:\\Nimrod\\experiments\\PV_57\\2024_12_01\\block_012\\eye_videos\\LE\\d3__03_640x480_60hz_experiment_1_recording_0\\d3__03_temp.h264 to Z:\\Nimrod\\experiments\\PV_57\\2024_12_01\\block_012\\eye_videos\\LE\\d3__03_640x480_60hz_experiment_1_recording_0\\d3__03.h264\n",
      "Restored name Z:\\Nimrod\\experiments\\PV_57\\2024_12_01\\block_012\\eye_videos\\LE\\d3__03_640x480_60hz_experiment_1_recording_0\\d3__03_temp.mp4 to Z:\\Nimrod\\experiments\\PV_57\\2024_12_01\\block_012\\eye_videos\\LE\\d3__03_640x480_60hz_experiment_1_recording_0\\d3__03.mp4\n",
      "Restored name Z:\\Nimrod\\experiments\\PV_57\\2024_12_01\\block_012\\eye_videos\\LE\\d3__03_640x480_60hz_experiment_1_recording_0\\d3__03_timestamps_temp.csv to Z:\\Nimrod\\experiments\\PV_57\\2024_12_01\\block_012\\eye_videos\\LE\\d3__03_640x480_60hz_experiment_1_recording_0\\d3__03_timestamps.csv\n",
      "Completed swapping and renaming for block 012\n"
     ]
    }
   ],
   "source": [
    "swap_and_rename_eye_videos_with_temp_stamping(block_list)"
   ],
   "metadata": {
    "collapsed": false,
    "ExecuteTime": {
     "end_time": "2024-12-28T15:42:35.034750400Z",
     "start_time": "2024-12-28T15:42:31.768391400Z"
    }
   },
   "id": "48e3b9f2d57f3381",
   "execution_count": 58
  },
  {
   "cell_type": "code",
   "outputs": [
    {
     "name": "stderr",
     "output_type": "stream",
     "text": [
      "100%|██████████| 57/57 [00:00<00:00, 6578.85it/s]"
     ]
    },
    {
     "name": "stdout",
     "output_type": "stream",
     "text": [
      "jitter report loaded from analysis folder\n",
      "removing LED blink events...\n",
      "collecting left-eye data\n",
      "data length is 85792\n",
      "z_score length is 85792\n"
     ]
    },
    {
     "name": "stderr",
     "output_type": "stream",
     "text": [
      "\n",
      "100%|██████████| 57/57 [00:00<00:00, 5842.36it/s]"
     ]
    },
    {
     "name": "stdout",
     "output_type": "stream",
     "text": [
      "collecting right eye data\n",
      "data length is 85790\n",
      "z_score length is 85790\n"
     ]
    },
    {
     "name": "stderr",
     "output_type": "stream",
     "text": [
      "\n"
     ]
    },
    {
     "name": "stdout",
     "output_type": "stream",
     "text": [
      "Got the jitter report - check out re/le_jitter_dict attributes\n"
     ]
    }
   ],
   "source": [
    "block.get_jitter_reports(export=False,overwrite=False)"
   ],
   "metadata": {
    "collapsed": false,
    "ExecuteTime": {
     "end_time": "2024-12-28T15:54:47.759262700Z",
     "start_time": "2024-12-28T15:54:46.711944500Z"
    }
   },
   "id": "f8e60275920280f9",
   "execution_count": 59
  },
  {
   "cell_type": "code",
   "outputs": [
    {
     "ename": "AttributeError",
     "evalue": "'BlockSync' object has no attribute 'jitter_dict'",
     "output_type": "error",
     "traceback": [
      "\u001B[1;31m---------------------------------------------------------------------------\u001B[0m",
      "\u001B[1;31mAttributeError\u001B[0m                            Traceback (most recent call last)",
      "\u001B[1;32m<ipython-input-60-75c57806741d>\u001B[0m in \u001B[0;36m<module>\u001B[1;34m\u001B[0m\n\u001B[1;32m----> 1\u001B[1;33m \u001B[0mblock\u001B[0m\u001B[1;33m.\u001B[0m\u001B[0mjitter_dict\u001B[0m\u001B[1;33m\u001B[0m\u001B[1;33m\u001B[0m\u001B[0m\n\u001B[0m",
      "\u001B[1;31mAttributeError\u001B[0m: 'BlockSync' object has no attribute 'jitter_dict'"
     ]
    }
   ],
   "source": [
    "block.jitter_dict"
   ],
   "metadata": {
    "collapsed": false,
    "ExecuteTime": {
     "end_time": "2024-12-28T15:55:04.524748500Z",
     "start_time": "2024-12-28T15:55:04.461324600Z"
    }
   },
   "id": "f1999ee0ef233cae",
   "execution_count": 60
  },
  {
   "cell_type": "code",
   "outputs": [
    {
     "data": {
      "text/plain": "{'top_correlation_values': [0.9999999999999998,\n  0.9915961490035,\n  0.9886037653340153,\n  0.9868641142372996,\n  0.9855990604184002,\n  0.9861618728657127,\n  0.9866983066633807,\n  0.9854139439466081,\n  0.9849222579099804,\n  0.984753436235337,\n  0.9835229719941883,\n  0.9845015024525651,\n  0.9850682747262032,\n  0.9841322546349499,\n  0.984370092672493,\n  0.9837799972894082,\n  0.9854770486132857,\n  0.983875689047154,\n  0.9834590981052963,\n  0.9835109800060045,\n  0.9839263933606018,\n  0.9827684219251475,\n  0.9844214341490465,\n  0.9855377675090348,\n  0.9858194065423971,\n  0.985360281236744,\n  0.985037741644888,\n  0.9851727498156455,\n  0.9842829389909333,\n  0.9843531422076331,\n  0.9842290494628253,\n  0.9853906491379097,\n  0.9843164184043817,\n  0.984486859171392,\n  0.9843958624574873,\n  0.9831604450754031,\n  0.9843514682134726,\n  0.9836441373087151,\n  0.9848729672067135,\n  0.9837968337806864,\n  0.9831368889809996,\n  0.9837101015346804,\n  0.9836659563082228,\n  0.98507683757395,\n  0.9842506982917172,\n  0.9844406778515147,\n  0.9848023371837632,\n  0.9855678513281271,\n  0.984651660813786,\n  0.9849122783794331,\n  0.9841771549298794,\n  0.9850691167530466,\n  0.9851574587191293,\n  0.9844444062133699,\n  0.9828799531474945,\n  0.984032868256771,\n  0.9818408438136573,\n  0.9834148926723918,\n  0.9840116231786704,\n  0.9826312396562678,\n  0.983424619109267,\n  0.9830720277288841,\n  0.9823171615601963,\n  0.9841029776848429,\n  0.9835873285080149,\n  0.9827688455618853,\n  0.9839919090448989,\n  0.9843558450728733,\n  0.982115131277657,\n  0.9833402260691904,\n  0.9818918937282561,\n  0.982968527376206,\n  0.9823518225101566,\n  0.9842157350236168,\n  0.9832055362357152,\n  0.9829362389000903,\n  0.9845351274020198,\n  0.9839595067729395,\n  0.982686711831198,\n  0.9831717075110522,\n  0.9827659472168776,\n  0.9828430493082915,\n  0.982022423126407,\n  0.9816113020641127,\n  0.9802324294361601,\n  0.9838935312675527,\n  0.9835706535852627,\n  0.9843320364365328,\n  0.9834721199155372,\n  0.9831491885798751,\n  0.9847221940135616,\n  0.9840659682458344,\n  0.982836101356801,\n  0.9837190373735397,\n  0.9837675864770619,\n  0.9829114031118868,\n  0.9825476142815371,\n  0.9822301318792287,\n  0.9835848502536362,\n  0.9832312098152538,\n  0.9826301588611949,\n  0.9817083557528542,\n  0.983118903257353,\n  0.9830634602746241,\n  0.9829097263446603,\n  0.9827694983052907,\n  0.9838770729006714,\n  0.9841333166236773,\n  0.9843518713917503,\n  0.9841318020855055,\n  0.9831788354957386,\n  0.983357867024411,\n  0.9840366276057639,\n  0.9821184704491336,\n  0.9827045007624758,\n  0.9841136947188815,\n  0.9829749249501016,\n  0.9823819887935723,\n  0.9844134349651811,\n  0.9840921597978156,\n  0.9851930061298916,\n  0.9844950536766418,\n  0.9825429070160696,\n  0.9843548298308418,\n  0.9843867981375605,\n  0.9841542454588998,\n  0.9829248522166076,\n  0.9826908895868074,\n  0.9840574738268059,\n  0.9828660219512267,\n  0.9832268037195432,\n  0.9821250890177078,\n  0.9843675773906965,\n  0.9835137107146659,\n  0.9838995409617893,\n  0.9825135589674769,\n  0.9834255723205129,\n  0.9826138928440115,\n  0.9834501538593179,\n  0.9852696668914281,\n  0.983661918793409,\n  0.9839191112261025,\n  0.9830662350800505,\n  0.9824512201469822,\n  0.9837071097955168,\n  0.9845565137650517,\n  0.9843948156900775,\n  0.9834091789509635,\n  0.9826549640372465,\n  0.983932445517924,\n  0.9820635225602271,\n  0.9832000771461394,\n  0.9823606658345109,\n  0.9818892440945359,\n  0.9840978012495187,\n  0.9851242996264207,\n  0.9843916649948388,\n  0.98140146722884,\n  0.9835365620098787,\n  0.9832152746542236,\n  0.9837731304485638,\n  0.9821560340346381,\n  0.9818685957340844,\n  0.9814625165663404,\n  0.9828899183252343,\n  0.983379173621708,\n  0.982921786616562,\n  0.9832727551372217,\n  0.9828879248968517,\n  0.9836433290847353,\n  0.9836646710671542,\n  0.9825424448851858,\n  0.9836478118504557,\n  0.983886634537041,\n  0.9824574658699,\n  0.9829848354144199,\n  0.9822919178856762,\n  0.9816938017875956,\n  0.9822357037916425,\n  0.9839700602876429,\n  0.9858778591715919,\n  0.9834976874318903,\n  0.9825797388857443,\n  0.9827199921981905,\n  0.9837881473748572,\n  0.9843161004319648,\n  0.9837622123734318,\n  0.9842532297242181,\n  0.9837390672393589,\n  0.98328581180749,\n  0.9827771888790467,\n  0.9843730858767263,\n  0.9822627847303045,\n  0.9828889660987062,\n  0.983604821986248,\n  0.9830968998060133,\n  0.9847949076339688,\n  0.9846822772205024,\n  0.9829777336302126,\n  0.9840378777104363,\n  0.9824248755100157,\n  0.9826547284234335,\n  0.982888466457253,\n  0.9824881791514686,\n  0.9818190530332246,\n  0.9817052577554068,\n  0.9821062769359409,\n  0.9824891130633701,\n  0.9806066214142903,\n  0.9831830518785333,\n  0.9832513599774069,\n  0.9828553033878495,\n  0.982145956581815,\n  0.9826116564289817,\n  0.9822129232611991,\n  0.9837058929293245,\n  0.984244047975876,\n  0.9833127788580694,\n  0.981106217469546,\n  0.9826264680401071,\n  0.9836559893843818,\n  0.9835434119580697,\n  0.9830091218367095,\n  0.9828284683138355,\n  0.9843571813018617,\n  0.9822665143798482,\n  0.9835166980824107,\n  0.9831617398942324,\n  0.9818755981254198,\n  0.9810577345290226,\n  0.9820060534609508,\n  0.981936228419374,\n  0.9822329540464346,\n  0.9815382163864576,\n  0.9836926091103851,\n  0.9821719757327351,\n  0.9832817065338842,\n  0.9829918001904228,\n  0.9830968443611792,\n  0.983835445343577,\n  0.9834442831905197,\n  0.9819031520451932,\n  0.9816268985915766,\n  0.9835097206567424,\n  0.9801612393581922,\n  0.9814863249338014,\n  0.982853173839941,\n  0.982070551037213,\n  0.9821435291311108,\n  0.9812982600072828,\n  0.9825828998036846,\n  0.9822150642116962,\n  0.9825590617840275,\n  0.981669935140538,\n  0.9829458500131797,\n  0.9835766532973724,\n  0.9840904244264223,\n  0.983209163198133,\n  0.9854326959807364,\n  0.9821643683461343,\n  0.9812659771018266,\n  0.9827053931511724,\n  0.9818114042041663,\n  0.9816121235555634,\n  0.9841549150600741,\n  0.9827877277632636,\n  0.9825107724393884,\n  0.9821874890733989,\n  0.9823842446543789,\n  0.9816278446570853,\n  0.9826482347134851,\n  0.9833887097575099,\n  0.9817571712262217,\n  0.9821856917184127,\n  0.9827393324483966,\n  0.9831916115236329,\n  0.9827862257518967,\n  0.9824308642121095,\n  0.9844401628642144,\n  0.9823228494793379,\n  0.982653465614315,\n  0.9828033472266401,\n  0.9839812344531976,\n  0.9827420139037603,\n  0.9836386320275244,\n  0.9827940248056923,\n  0.9826722195411826,\n  0.984784362540455,\n  0.9845306077263629,\n  0.9818824215198309,\n  0.9822374873620086,\n  0.9832967870068455,\n  0.9833767624324448,\n  0.984399499037315,\n  0.9837271158472726,\n  0.9833212118135976,\n  0.982952016054277,\n  0.9821037804493769,\n  0.9839317111607969,\n  0.9852625166912367,\n  0.982790022633199,\n  0.9844770652577192,\n  0.9854516905755748,\n  0.9843227513329389,\n  0.9835121459483973,\n  0.9817108238901591,\n  0.9816514357922549,\n  0.9821745890276612,\n  0.9817179316759049,\n  0.9830266523395519,\n  0.9827043983924674,\n  0.9835015111254066,\n  0.9838785858450947,\n  0.9832239835386073,\n  0.9830658843875324,\n  0.9839405097197037,\n  0.9836255149885322,\n  0.9845582926588488,\n  0.9832068002885372,\n  0.9824231074639298,\n  0.9819232434797991,\n  0.9818304869932702,\n  0.9816517149141499,\n  0.982347583052484,\n  0.982376587066208,\n  0.9818254184664504,\n  0.9828959512111801,\n  0.9829222473332737,\n  0.9823770240427113,\n  0.9816204478524297,\n  0.9826301526372333,\n  0.9815517579612654,\n  0.9837435406645477,\n  0.9824046448931589,\n  0.9823595019358351,\n  0.9825911357415265,\n  0.9824618413664976,\n  0.984796397151897,\n  0.9824849295859372,\n  0.9831001637995501,\n  0.9831010035822022,\n  0.983777049071809,\n  0.9829336242597284,\n  0.9828727680724187,\n  0.9821092289188378,\n  0.9831775116426469,\n  0.9832636270063773,\n  0.9832241668630611,\n  0.982418254190271,\n  0.9848953357035857,\n  0.9838464803207356,\n  0.982707852489323,\n  0.981670798498835,\n  0.9818730769553194,\n  0.981405107588904,\n  0.9820412165144893,\n  0.9836681346853527,\n  0.9802390511980106,\n  0.980815145283987,\n  0.9825164510395595,\n  0.981905623952095,\n  0.9828540856358178,\n  0.9832617833708948,\n  0.9811030307840908,\n  0.9839057262259837,\n  0.982996698302172,\n  0.9844049677282978,\n  0.9822347371955782,\n  0.9824985304855536,\n  0.9832403557702708,\n  0.9831409502548598,\n  0.9841638811659766,\n  0.9825665086233581,\n  0.9814173582708826,\n  0.9823613385736315,\n  0.9804423012317418,\n  0.9815110325043485,\n  0.9826797935550791,\n  0.98247757564054,\n  0.9814622740736474,\n  0.9819114111198692,\n  0.9808270902039927,\n  0.9833386916230733,\n  0.9816026437175355,\n  0.9837102350395025,\n  0.9830078736743587,\n  0.9819714746160099,\n  0.9816317878948753,\n  0.9823779163945335,\n  0.9820287544533245,\n  0.9816302715397427,\n  0.9831077543912297,\n  0.9840229767383478,\n  0.9828028183964712,\n  0.9820763070081927,\n  0.9825353298775332,\n  0.9816215092482229,\n  0.9823475300636432,\n  0.9830497179779271,\n  0.9815909531315967,\n  0.9807766077979194,\n  0.9812087900552274,\n  0.9814216411590799,\n  0.9815734518381122,\n  0.9826482735764172,\n  0.9836250887941393,\n  0.9832315955428216,\n  0.9813878699708781,\n  0.9828058433548134,\n  0.9837040538379788,\n  0.9822722673136114,\n  0.9819004389581942,\n  0.9810850386471854,\n  0.9822212482666652,\n  0.9802160676696468,\n  0.9822249122074689,\n  0.9818030203644711,\n  0.9837465579121983,\n  0.9824704145014264,\n  0.9820953462928648,\n  0.9834260332519323,\n  0.9850357583293345,\n  0.9827936604033423,\n  0.9821990605219826,\n  0.9841169379774783,\n  0.9823658430946551,\n  0.9828070422457674,\n  0.9820708543266619,\n  0.9825354943381287,\n  0.983118669823115,\n  0.9828751113019022,\n  0.9840157234491553,\n  0.9831665691008723,\n  0.9828150632477032,\n  0.9805064246533325,\n  0.9816142990617054,\n  0.9820239616366134,\n  0.9814276867433238,\n  0.9818287115480774,\n  0.9798915877058357,\n  0.9812095748099295,\n  0.9819006212552525,\n  0.9815643462324265,\n  0.983314665585591,\n  0.9817438140432819,\n  0.9824826243203555,\n  0.9834806885922291,\n  0.9823630593865432,\n  0.982232207890076,\n  0.982300448358893,\n  0.9823419558246039,\n  0.9826236578755035,\n  0.98183588048682,\n  0.9829284654266911,\n  0.9817708958712575,\n  0.982482335562796,\n  0.9819366178033077,\n  0.983385620470202,\n  0.982617058529631,\n  0.9816435786213895,\n  0.9819714207884478,\n  0.9830973365105563,\n  0.9838001454554216,\n  0.982614340408956,\n  0.9822685370624357,\n  0.9838417596225216,\n  0.9833455445393048,\n  0.9837507617855761,\n  0.9846606778480527,\n  0.9834067038802827,\n  0.9819521533049296,\n  0.9832455887077316,\n  0.9833444234116593,\n  0.9835696738009568,\n  0.9844989694380918,\n  0.9820993830499304,\n  0.9830873129837706,\n  0.9837195657142286,\n  0.9804777907740726,\n  0.9833122140952729,\n  0.9836212974733262,\n  0.9828532567077676,\n  0.9842938390776212,\n  0.983400942312147,\n  0.9819721435196694,\n  0.9823283009516278,\n  0.9834910504680561,\n  0.9825649703222585,\n  0.9820878899865846,\n  0.9827701514062839,\n  0.9799338760765297,\n  0.9818517512610728,\n  0.9821645530086233,\n  0.9829716434533714,\n  0.9822295781939664,\n  0.9825792390844476,\n  0.9820470922569232,\n  0.9829192017939519,\n  0.9823959190540343,\n  0.9824074105943101,\n  0.9823086465357164,\n  0.9828322501748683,\n  0.9829799734934673,\n  0.9825686208234308,\n  0.9838282222875081,\n  0.9830272661622496,\n  0.9838457070228614,\n  0.9821632291872511,\n  0.9824365333167357,\n  0.9820429810383929,\n  0.9844996981002102,\n  0.9818400318960445,\n  0.9847037996356254,\n  0.9836653429702573,\n  0.9822211918937519,\n  0.9815239476714115,\n  0.9825271107756075,\n  0.9816626483612799,\n  0.98398419591561,\n  0.9839928408716898,\n  0.9831523455468087,\n  0.9827372102104229,\n  0.9843934543564256,\n  0.9842271809172708,\n  0.9833279478440371,\n  0.9831893547870614,\n  0.9830332734106255,\n  0.983076138549073,\n  0.9833977946205743,\n  0.9845656300799127,\n  0.9811180408843146,\n  0.9825627089538136,\n  0.9820290028966855,\n  0.982946508258043,\n  0.981985822239168,\n  0.9838155672903192,\n  0.9826157480692345,\n  0.982635684270387,\n  0.984347916798762,\n  0.9823686137835228,\n  0.9838425020210279,\n  0.9823460510839488,\n  0.9824270030937333,\n  0.9826418938008609,\n  0.982435552935941,\n  0.9826014951327133,\n  0.9829915439641143,\n  0.9825536029707707,\n  0.9828303738065921,\n  0.983541485424912,\n  0.9819927869343973,\n  0.9839724213594991,\n  0.9841312919311739,\n  0.9831268251285578,\n  0.9832961051168556,\n  0.9831960081573441,\n  0.9826231084424047,\n  0.9830286611888895,\n  0.9819601369562512,\n  0.982037340313855,\n  0.9821350787658614,\n  0.9821963544520714,\n  0.9818243885031095,\n  0.982760540604697,\n  0.9844092040986248,\n  0.9845311392174141,\n  0.9833502432335738,\n  0.9834190138043799,\n  0.9833574698826477,\n  0.9823034616169102,\n  0.9814474159766233,\n  0.983488371370533,\n  0.9842283685787933,\n  0.9836480548956604,\n  0.9831349235570027,\n  0.9832310797826879,\n  0.9831887702275037,\n  0.9823958442546575,\n  0.9818205155666044,\n  0.9827717956253695,\n  0.9817275216319116,\n  0.9832017481422425,\n  0.983319486124765,\n  0.983081480711815,\n  0.9812433495584807,\n  0.9818738995933877,\n  0.9823712680924,\n  0.9837222709085024,\n  0.9810126683391565,\n  0.9829761457708167,\n  0.982556217004981,\n  0.9809175464046869,\n  0.9835225780174638,\n  0.9826394097227354,\n  0.9818514538704717,\n  0.9814122561135958,\n  0.9802903818218381,\n  0.9809331941625455,\n  0.9817165872702587,\n  0.9831991756500842,\n  0.9829815643479055,\n  0.981830668095802,\n  0.9836436319646865,\n  0.9832819933872349,\n  0.983710580254671,\n  0.9837800648627257,\n  0.9825553466240091,\n  0.9830065038259193,\n  0.9827578312368569,\n  0.9821366088897721,\n  0.9826240658031788,\n  0.9827867264929379,\n  0.9840767998799066,\n  0.9827248858852229,\n  0.9825943331324571,\n  0.983038096194146,\n  0.9831694463152217,\n  0.9833598363668962,\n  0.9827457985818784,\n  0.9826826402849241,\n  0.9823087840211611,\n  0.9818287872262723,\n  0.9820076697766296,\n  0.9831502821494822,\n  0.9832471482919979,\n  0.9833187954769923,\n  0.981765028926903,\n  0.9832265319828818,\n  0.9827921905655873,\n  0.9830611688935936,\n  0.9819170762248162,\n  0.9843467934174814,\n  0.9829446168326957,\n  0.983223588992029,\n  0.979550236587941,\n  0.9823223530776898,\n  0.9821254290345679,\n  0.9817840671040329,\n  0.9829173655310871,\n  0.9820016347697109,\n  0.9817040985006971,\n  0.9832225016275726,\n  0.9837703753389092,\n  0.9828680314991737,\n  0.9829982485693247,\n  0.9824485101427104,\n  0.9795255285535617,\n  0.9815134074473844,\n  0.9821047785037724,\n  0.9818115661614608,\n  0.9819390439865917,\n  0.9794580325743986,\n  0.981510633003408,\n  0.9823802126198147,\n  0.9810991184299637,\n  0.9831533668426882,\n  0.979358807833874,\n  0.9805802558898437,\n  0.9794863092678632,\n  0.9820598903710928,\n  0.9836705571748732,\n  0.9834250557781307,\n  0.982227693476276,\n  0.9822234799180809,\n  0.9818266298346645,\n  0.9837920102513737,\n  0.9820413464965257,\n  0.9819223435506359,\n  0.9825286929658728,\n  0.9821133443698792,\n  0.9823168205506274,\n  0.9798659898865719,\n  0.9826537640471795,\n  0.9813417385973229,\n  0.9826840678445489,\n  0.9813403431168721,\n  0.9819510582709725,\n  0.9816799038990163,\n  0.9791213798930618,\n  0.9817936758814044,\n  0.9799436840188787,\n  0.9793270055263658,\n  0.9796311700185563,\n  0.9827749864998947,\n  0.9832960479136648,\n  0.9809878570613618,\n  0.98133223896506,\n  0.9804228695663371,\n  0.9809655831924816,\n  0.981596451027434,\n  0.9809122346386211,\n  0.9787178166251606,\n  0.9813599818194794,\n  0.9825351446304381,\n  0.9815697028884725,\n  0.9821355293674444,\n  0.9831132588377952,\n  0.9822488303775431,\n  0.9813003154423813,\n  0.9831934804715974,\n  0.9822999052160499,\n  0.9808868525433592,\n  0.9806596929863517,\n  0.9804303267087953,\n  0.980289008465546,\n  0.9786311947648001,\n  0.980956483577096,\n  0.9822042827246824,\n  0.98147584331471,\n  0.9808967264030749,\n  0.9808543523270014,\n  0.9813110596632149,\n  0.98006465267213,\n  0.9814962056639629,\n  0.9796338561137193,\n  0.982112951183954,\n  0.9826163202541696,\n  0.9802036101422112,\n  0.9813214581120303,\n  0.980891735727031,\n  0.98171045553139,\n  0.9797108222723242,\n  0.9819203184874591,\n  0.9797945864019934,\n  0.9813745122852008,\n  0.9812886984513104,\n  0.9799601940905972,\n  0.9802803210522101,\n  0.9810374724700862,\n  0.9810572450234765,\n  0.9803347837876788,\n  0.9805175179057662,\n  0.9809236294647056,\n  0.9806430264799353,\n  0.9776665546677341,\n  0.9806207817374728,\n  0.9780330338239972,\n  0.9802082931465868,\n  0.9800925589841306,\n  0.9797211100636908,\n  0.9791463969505274,\n  0.9787086707349825,\n  0.9792223587896033,\n  0.978722306724034,\n  0.9801528091961681,\n  0.9793420305788165,\n  0.9792303156824603,\n  0.9800389250105073,\n  0.9815439343008007,\n  0.9816500610993546,\n  0.9817755494913395,\n  0.9808155391058294,\n  0.9790563214512049,\n  0.9815745624577503,\n  0.9796114406391816,\n  0.9804548734319031,\n  0.9792326488805578,\n  0.9809406250876671,\n  0.9789538098266921,\n  0.9804535121627646,\n  0.9802030558022722,\n  0.9784340858447923,\n  0.9798324909182622,\n  0.978769245423154,\n  0.9791529702975822,\n  0.9819130365459782,\n  0.980651206442105,\n  0.982070530074663,\n  0.9810163434908136,\n  0.9779131790109856,\n  0.9786545761938675,\n  0.9791514090058947,\n  0.9796839440089916,\n  0.9777881121833509,\n  0.9795062640599715,\n  0.9810645416643106,\n  0.9794903788994679,\n  0.9780640650940464,\n  0.9789992050665519,\n  0.9802439941674876,\n  0.980148908404819,\n  0.9807503366175664,\n  0.980573348344833,\n  0.9789128457339447,\n  0.9781241526003039,\n  0.9798230004719369,\n  0.9768421999762912,\n  0.9784617011039778,\n  0.9797649930770812,\n  0.979408232561352,\n  0.9781777929473221,\n  0.9793401171524632,\n  0.9779156400555209,\n  0.9789402803088271,\n  0.9795002879583,\n  0.9772044362356572,\n  0.9772050266005823,\n  0.9758858264549858,\n  0.9782185942502944,\n  0.9771701313722153,\n  0.979679403561978,\n  0.9779923840396934,\n  0.979458771512009,\n  0.9794604223500268,\n  0.9805052632134761,\n  0.9797304768185587,\n  0.9796521976112387,\n  0.9779457611585163,\n  0.9774404245644287,\n  0.9791961914355694,\n  0.978202575829794,\n  0.9788407017536446,\n  0.9791714180931856,\n  0.9778289683324561,\n  0.9787434275145264,\n  0.9763492044806698,\n  0.9802190029450881,\n  0.9751478611159224,\n  0.977307864106431,\n  0.9767827481679378,\n  0.9767068335387815,\n  0.9767750459197343,\n  0.9776636167632332,\n  0.976083588618091,\n  0.9770623932057864,\n  0.9791167395771774,\n  0.9774871471037718,\n  0.9773851719957911,\n  0.9787940234083642,\n  0.977898191736676,\n  0.9790680578702021,\n  0.9783248758976304,\n  0.9761929804609969,\n  0.9780345336934227,\n  0.9779189240204167,\n  0.976381473933486,\n  0.9781137368263483,\n  0.9774824992775515,\n  0.9761074975732228,\n  0.9764470967854816,\n  0.9770798402121241,\n  0.977473506453726,\n  0.9765085624474615,\n  0.9753015391826748,\n  0.9764103236972846,\n  0.9750651083951369,\n  0.9748774423747223,\n  0.9740864213821311,\n  0.9758859990593838,\n  0.9737202494966254,\n  0.9751138582317139,\n  0.974249565002426,\n  0.9738583610980347,\n  0.9745418267743762,\n  0.9745479456945081,\n  0.9745587758338777,\n  0.9750659971748031,\n  0.9749806608600292,\n  0.9765383154342296,\n  0.9778055224611809,\n  0.9758665403752047,\n  0.9759440747112186,\n  0.9768962110124092,\n  0.9785053459441967,\n  0.9758444901035591,\n  0.9779466524055918,\n  0.9781069400016679,\n  0.9769011822821788,\n  0.9759087588116433,\n  0.9772350237369127,\n  0.976470794369281,\n  0.9763245824069264,\n  0.976512239107276,\n  0.975738091726721,\n  0.9770047512469155,\n  0.9745060489418378,\n  0.9758280004441559,\n  0.9771326469234763,\n  0.9753222975554272,\n  0.9757058445835642,\n  0.9765616357797223,\n  0.9776485857147468,\n  0.9761364602931449,\n  0.9763882328465616,\n  0.9756241686423277,\n  0.975585734813115,\n  0.976176910491698,\n  0.9783903125996347,\n  0.9765000400737536,\n  0.976573595871673,\n  0.9750567223286348,\n  0.975901664573719,\n  0.9766857265554326,\n  0.9758594352839554,\n  0.9760729123938672,\n  0.9763873927010328,\n  0.9758645860158747,\n  0.9768125247827089,\n  0.9744440057640791,\n  0.9756649932709451,\n  0.9787701748494883,\n  0.9775433366384547,\n  0.9777162738159849,\n  0.9789509763519523,\n  0.9795532556185066,\n  0.9746886640330442,\n  0.97753220622306,\n  0.9758915407613922,\n  0.9765376485471239,\n  0.9729622646535314,\n  0.9764578896489491,\n  0.9748040454111144,\n  0.9745146726895338,\n  0.9760236089042997,\n  0.9764644454371642,\n  0.9747472099238511,\n  0.9744621855865565,\n  0.9760262396601244,\n  0.9754069510239407,\n  0.9768350945965042,\n  0.9756795364183278,\n  0.9762831801107194,\n  0.97601664175035,\n  0.975703118867617,\n  0.9779111031445189,\n  0.9768971200553135,\n  0.976315616111683,\n  0.974710311686274,\n  0.9735573408656344,\n  0.9778441020276321,\n  0.9753907713832863,\n  0.9748569169733329,\n  0.9759785414840354,\n  0.9769710636726848,\n  0.9753052532108614,\n  0.9753516302477964,\n  0.9752539149736712,\n  0.9761873232433351,\n  0.9758116452652836,\n  0.9776239570427836,\n  0.9773351534281695,\n  0.9765790833554739,\n  0.9771533482452517,\n  0.9773447400002426,\n  0.9763008140408839,\n  0.9777510040639456,\n  0.9757569017402775,\n  0.9786366282151446,\n  0.9767399256091892,\n  0.9749405404507555,\n  0.9757495466846909,\n  0.9757530443833976,\n  0.975718587857987,\n  0.9750255394835943,\n  0.9773733872856624,\n  0.9773778514818472,\n  0.9774215799474522,\n  0.9761842853439325,\n  0.9757502797841483,\n  0.978695012016715,\n  0.9776634742406938,\n  0.9763768944403496,\n  0.9787611536513187,\n  0.9774478850308909,\n  0.9768952047077328,\n  0.9757728437944517,\n  0.9790414794149649,\n  0.9756280835115207,\n  0.9761870784453202,\n  0.9767314664253285,\n  0.9784100451516639,\n  0.9780490658475572,\n  0.9761456012634511,\n  0.977868050137311,\n  0.9768037923894461,\n  0.9789469139992899,\n  0.976159223188714,\n  0.9761494075404651,\n  0.976356705611092,\n  0.9769283462831555,\n  0.9754667966648841,\n  0.9751444875031693,\n  0.9765644436657536,\n  0.9740568644924041,\n  0.9764667307553019,\n  0.9766013816305763,\n  0.9778460534910528,\n  0.9774720441179274,\n  0.9768159660478486,\n  0.977280720962491,\n  0.9774747727426238,\n  0.9761467121754316,\n  0.9751147384746841,\n  0.9766208116121461,\n  0.9756014879838163,\n  0.9776938009639599,\n  0.9767325402601462,\n  0.9752774091200038,\n  0.9742559161485718,\n  0.97450457724258,\n  ...],\n 'top_correlation_dist': [0.0,\n  0.0,\n  0.0,\n  0.0,\n  0.0,\n  0.0,\n  0.0,\n  0.0,\n  0.0,\n  0.0,\n  0.0,\n  0.0,\n  0.0,\n  0.0,\n  0.0,\n  0.0,\n  0.0,\n  0.0,\n  0.0,\n  0.0,\n  0.0,\n  0.0,\n  0.0,\n  0.0,\n  0.0,\n  0.0,\n  0.0,\n  0.0,\n  0.0,\n  0.0,\n  0.0,\n  0.0,\n  0.0,\n  0.0,\n  0.0,\n  0.0,\n  0.0,\n  0.0,\n  0.0,\n  0.0,\n  0.0,\n  0.0,\n  0.0,\n  0.0,\n  0.0,\n  0.0,\n  0.0,\n  0.0,\n  0.0,\n  0.0,\n  0.0,\n  0.0,\n  0.0,\n  0.0,\n  0.0,\n  0.0,\n  0.0,\n  0.0,\n  0.0,\n  0.0,\n  0.0,\n  0.0,\n  0.0,\n  0.0,\n  0.0,\n  0.0,\n  0.0,\n  0.0,\n  0.0,\n  0.0,\n  0.0,\n  0.0,\n  0.0,\n  0.0,\n  0.0,\n  0.0,\n  0.0,\n  0.0,\n  0.0,\n  0.0,\n  0.0,\n  0.0,\n  0.0,\n  0.0,\n  0.0,\n  0.0,\n  0.0,\n  0.0,\n  0.0,\n  0.0,\n  0.0,\n  0.0,\n  0.0,\n  0.0,\n  0.0,\n  0.0,\n  0.0,\n  0.0,\n  0.0,\n  0.0,\n  0.0,\n  0.0,\n  0.0,\n  0.0,\n  0.0,\n  0.0,\n  0.0,\n  0.0,\n  0.0,\n  0.0,\n  0.0,\n  0.0,\n  0.0,\n  0.0,\n  0.0,\n  0.0,\n  0.0,\n  0.0,\n  0.0,\n  0.0,\n  0.0,\n  0.0,\n  0.0,\n  0.0,\n  0.0,\n  0.0,\n  0.0,\n  0.0,\n  0.0,\n  0.0,\n  0.0,\n  0.0,\n  0.0,\n  0.0,\n  0.0,\n  0.0,\n  0.0,\n  0.0,\n  0.0,\n  0.0,\n  0.0,\n  0.0,\n  0.0,\n  0.0,\n  0.0,\n  0.0,\n  0.0,\n  0.0,\n  0.0,\n  0.0,\n  0.0,\n  0.0,\n  0.0,\n  0.0,\n  0.0,\n  0.0,\n  0.0,\n  0.0,\n  0.0,\n  0.0,\n  0.0,\n  0.0,\n  0.0,\n  0.0,\n  0.0,\n  0.0,\n  0.0,\n  0.0,\n  0.0,\n  0.0,\n  0.0,\n  0.0,\n  0.0,\n  0.0,\n  0.0,\n  0.0,\n  0.0,\n  0.0,\n  0.0,\n  0.0,\n  0.0,\n  0.0,\n  0.0,\n  0.0,\n  0.0,\n  0.0,\n  0.0,\n  0.0,\n  0.0,\n  0.0,\n  0.0,\n  0.0,\n  0.0,\n  0.0,\n  0.0,\n  0.0,\n  0.0,\n  0.0,\n  0.0,\n  0.0,\n  0.0,\n  0.0,\n  0.0,\n  0.0,\n  0.0,\n  0.0,\n  0.0,\n  0.0,\n  0.0,\n  0.0,\n  0.0,\n  0.0,\n  0.0,\n  0.0,\n  0.0,\n  0.0,\n  0.0,\n  0.0,\n  0.0,\n  0.0,\n  0.0,\n  0.0,\n  0.0,\n  0.0,\n  0.0,\n  0.0,\n  0.0,\n  0.0,\n  0.0,\n  0.0,\n  0.0,\n  0.0,\n  0.0,\n  0.0,\n  0.0,\n  0.0,\n  0.0,\n  0.0,\n  0.0,\n  0.0,\n  0.0,\n  0.0,\n  0.0,\n  0.0,\n  0.0,\n  0.0,\n  0.0,\n  0.0,\n  0.0,\n  0.0,\n  0.0,\n  0.0,\n  0.0,\n  0.0,\n  0.0,\n  0.0,\n  0.0,\n  0.0,\n  0.0,\n  0.0,\n  0.0,\n  0.0,\n  0.0,\n  0.0,\n  0.0,\n  0.0,\n  0.0,\n  0.0,\n  0.0,\n  0.0,\n  0.0,\n  0.0,\n  0.0,\n  0.0,\n  0.0,\n  0.0,\n  0.0,\n  0.0,\n  0.0,\n  0.0,\n  0.0,\n  0.0,\n  0.0,\n  0.0,\n  0.0,\n  0.0,\n  0.0,\n  0.0,\n  0.0,\n  0.0,\n  0.0,\n  0.0,\n  0.0,\n  0.0,\n  0.0,\n  0.0,\n  0.0,\n  0.0,\n  0.0,\n  0.0,\n  0.0,\n  0.0,\n  0.0,\n  0.0,\n  0.0,\n  0.0,\n  0.0,\n  0.0,\n  0.0,\n  0.0,\n  0.0,\n  0.0,\n  0.0,\n  0.0,\n  0.0,\n  0.0,\n  0.0,\n  0.0,\n  0.0,\n  0.0,\n  0.0,\n  0.0,\n  0.0,\n  0.0,\n  0.0,\n  0.0,\n  0.0,\n  0.0,\n  0.0,\n  0.0,\n  0.0,\n  0.0,\n  0.0,\n  0.0,\n  0.0,\n  0.0,\n  0.0,\n  0.0,\n  0.0,\n  0.0,\n  0.0,\n  0.0,\n  0.0,\n  0.0,\n  0.0,\n  0.0,\n  0.0,\n  0.0,\n  0.0,\n  0.0,\n  0.0,\n  0.0,\n  0.0,\n  0.0,\n  0.0,\n  0.0,\n  0.0,\n  0.0,\n  0.0,\n  0.0,\n  0.0,\n  0.0,\n  0.0,\n  0.0,\n  0.0,\n  0.0,\n  0.0,\n  0.0,\n  0.0,\n  0.0,\n  0.0,\n  0.0,\n  0.0,\n  0.0,\n  0.0,\n  0.0,\n  0.0,\n  0.0,\n  0.0,\n  0.0,\n  0.0,\n  0.0,\n  0.0,\n  0.0,\n  0.0,\n  0.0,\n  0.0,\n  0.0,\n  0.0,\n  0.0,\n  0.0,\n  0.0,\n  0.0,\n  0.0,\n  0.0,\n  0.0,\n  0.0,\n  0.0,\n  0.0,\n  0.0,\n  0.0,\n  0.0,\n  0.0,\n  0.0,\n  0.0,\n  0.0,\n  0.0,\n  0.0,\n  0.0,\n  0.0,\n  0.0,\n  0.0,\n  0.0,\n  0.0,\n  0.0,\n  0.0,\n  0.0,\n  0.0,\n  0.0,\n  0.0,\n  0.0,\n  0.0,\n  0.0,\n  0.0,\n  0.0,\n  0.0,\n  0.0,\n  0.0,\n  0.0,\n  0.0,\n  0.0,\n  0.0,\n  0.0,\n  0.0,\n  0.0,\n  0.0,\n  0.0,\n  0.0,\n  0.0,\n  0.0,\n  0.0,\n  0.0,\n  0.0,\n  0.0,\n  0.0,\n  0.0,\n  0.0,\n  0.0,\n  0.0,\n  0.0,\n  0.0,\n  0.0,\n  0.0,\n  0.0,\n  0.0,\n  0.0,\n  0.0,\n  0.0,\n  0.0,\n  0.0,\n  0.0,\n  0.0,\n  0.0,\n  0.0,\n  0.0,\n  0.0,\n  0.0,\n  0.0,\n  0.0,\n  0.0,\n  0.0,\n  0.0,\n  0.0,\n  0.0,\n  0.0,\n  0.0,\n  0.0,\n  0.0,\n  0.0,\n  0.0,\n  0.0,\n  0.0,\n  0.0,\n  0.0,\n  0.0,\n  0.0,\n  0.0,\n  0.0,\n  0.0,\n  0.0,\n  0.0,\n  0.0,\n  0.0,\n  0.0,\n  0.0,\n  0.0,\n  0.0,\n  0.0,\n  0.0,\n  0.0,\n  0.0,\n  0.0,\n  0.0,\n  0.0,\n  0.0,\n  0.0,\n  0.0,\n  0.0,\n  0.0,\n  0.0,\n  0.0,\n  0.0,\n  0.0,\n  0.0,\n  0.0,\n  0.0,\n  0.0,\n  0.0,\n  0.0,\n  0.0,\n  0.0,\n  0.0,\n  0.0,\n  0.0,\n  0.0,\n  0.0,\n  0.0,\n  0.0,\n  0.0,\n  0.0,\n  0.0,\n  0.0,\n  0.0,\n  0.0,\n  0.0,\n  0.0,\n  0.0,\n  0.0,\n  0.0,\n  0.0,\n  0.0,\n  0.0,\n  0.0,\n  0.0,\n  0.0,\n  0.0,\n  0.0,\n  0.0,\n  0.0,\n  0.0,\n  0.0,\n  0.0,\n  0.0,\n  0.0,\n  0.0,\n  0.0,\n  0.0,\n  0.0,\n  0.0,\n  0.0,\n  0.0,\n  0.0,\n  0.0,\n  0.0,\n  0.0,\n  0.0,\n  0.0,\n  0.0,\n  0.0,\n  0.0,\n  0.0,\n  0.0,\n  0.0,\n  0.0,\n  0.0,\n  0.0,\n  0.0,\n  0.0,\n  0.0,\n  0.0,\n  0.0,\n  0.0,\n  0.0,\n  0.0,\n  0.0,\n  0.0,\n  0.0,\n  0.0,\n  0.0,\n  0.0,\n  0.0,\n  0.0,\n  0.0,\n  0.0,\n  0.0,\n  0.0,\n  0.0,\n  0.0,\n  0.0,\n  0.0,\n  0.0,\n  0.0,\n  0.0,\n  0.0,\n  0.0,\n  0.0,\n  0.0,\n  0.0,\n  0.0,\n  0.0,\n  0.0,\n  0.0,\n  0.0,\n  0.0,\n  0.0,\n  0.0,\n  0.0,\n  0.0,\n  0.0,\n  0.0,\n  0.0,\n  0.0,\n  0.0,\n  0.0,\n  0.0,\n  0.0,\n  0.0,\n  0.0,\n  0.0,\n  0.0,\n  0.0,\n  0.0,\n  0.0,\n  0.0,\n  0.0,\n  0.0,\n  0.0,\n  0.0,\n  0.0,\n  0.0,\n  0.0,\n  0.0,\n  0.0,\n  0.0,\n  0.0,\n  0.0,\n  0.0,\n  0.0,\n  0.0,\n  0.0,\n  0.0,\n  0.0,\n  0.0,\n  0.0,\n  0.0,\n  0.0,\n  0.0,\n  0.0,\n  0.0,\n  0.0,\n  0.0,\n  0.0,\n  0.0,\n  0.0,\n  0.0,\n  0.0,\n  0.0,\n  0.0,\n  0.0,\n  0.0,\n  0.0,\n  0.0,\n  0.0,\n  0.0,\n  0.0,\n  0.0,\n  0.0,\n  0.0,\n  0.0,\n  0.0,\n  0.0,\n  0.0,\n  0.0,\n  0.0,\n  0.0,\n  0.0,\n  0.0,\n  0.0,\n  0.0,\n  0.0,\n  0.0,\n  0.0,\n  0.0,\n  0.0,\n  0.0,\n  0.0,\n  0.0,\n  0.0,\n  0.0,\n  0.0,\n  0.0,\n  0.0,\n  0.0,\n  0.0,\n  0.0,\n  0.0,\n  0.0,\n  0.0,\n  0.0,\n  0.0,\n  0.0,\n  0.0,\n  0.0,\n  0.0,\n  0.0,\n  0.0,\n  0.0,\n  0.0,\n  0.0,\n  0.0,\n  0.0,\n  0.0,\n  0.0,\n  0.0,\n  0.0,\n  0.0,\n  0.0,\n  0.0,\n  0.0,\n  0.0,\n  0.0,\n  0.0,\n  0.0,\n  0.0,\n  0.0,\n  0.0,\n  0.0,\n  0.0,\n  0.0,\n  0.0,\n  0.0,\n  0.0,\n  0.0,\n  0.0,\n  0.0,\n  0.0,\n  0.0,\n  0.0,\n  0.0,\n  0.0,\n  0.0,\n  0.0,\n  0.0,\n  0.0,\n  0.0,\n  0.0,\n  0.0,\n  0.0,\n  0.0,\n  0.0,\n  0.0,\n  0.0,\n  0.0,\n  0.0,\n  0.0,\n  0.0,\n  0.0,\n  0.0,\n  0.0,\n  0.0,\n  0.0,\n  0.0,\n  0.0,\n  0.0,\n  0.0,\n  0.0,\n  0.0,\n  0.0,\n  0.0,\n  0.0,\n  0.0,\n  0.0,\n  0.0,\n  0.0,\n  0.0,\n  0.0,\n  0.0,\n  0.0,\n  0.0,\n  0.0,\n  0.0,\n  0.0,\n  0.0,\n  0.0,\n  0.0,\n  0.0,\n  0.0,\n  0.0,\n  0.0,\n  0.0,\n  0.0,\n  0.0,\n  0.0,\n  0.0,\n  0.0,\n  0.0,\n  0.0,\n  0.0,\n  0.0,\n  0.0,\n  0.0,\n  0.0,\n  0.0,\n  0.0,\n  0.0,\n  0.0,\n  0.0,\n  0.0,\n  0.0,\n  0.0,\n  0.0,\n  0.0,\n  0.0,\n  0.0,\n  0.0,\n  0.0,\n  0.0,\n  0.0,\n  0.0,\n  0.0,\n  0.0,\n  0.0,\n  0.0,\n  0.0,\n  0.0,\n  0.0,\n  1.0,\n  0.0,\n  1.0,\n  1.0,\n  0.0,\n  0.0,\n  0.0,\n  1.0,\n  0.0,\n  0.0,\n  0.0,\n  0.0,\n  1.0,\n  1.0,\n  1.0,\n  0.0,\n  1.0,\n  0.0,\n  0.0,\n  1.0,\n  1.0,\n  0.0,\n  0.0,\n  1.0,\n  1.0,\n  0.0,\n  1.0,\n  0.0,\n  0.0,\n  0.0,\n  0.0,\n  0.0,\n  1.0,\n  0.0,\n  0.0,\n  1.0,\n  0.0,\n  0.0,\n  0.0,\n  0.0,\n  1.0,\n  0.0,\n  1.0,\n  1.0,\n  0.0,\n  0.0,\n  0.0,\n  1.0,\n  0.0,\n  0.0,\n  0.0,\n  0.0,\n  0.0,\n  0.0,\n  1.0,\n  0.0,\n  0.0,\n  0.0,\n  0.0,\n  0.0,\n  1.0,\n  1.0,\n  0.0,\n  1.0,\n  1.0,\n  0.0,\n  0.0,\n  0.0,\n  0.0,\n  1.0,\n  0.0,\n  0.0,\n  0.0,\n  0.0,\n  0.0,\n  0.0,\n  0.0,\n  0.0,\n  0.0,\n  0.0,\n  0.0,\n  0.0,\n  0.0,\n  1.0,\n  0.0,\n  0.0,\n  0.0,\n  1.0,\n  0.0,\n  0.0,\n  0.0,\n  0.0,\n  1.0,\n  0.0,\n  1.0,\n  0.0,\n  0.0,\n  0.0,\n  1.0,\n  0.0,\n  1.0,\n  0.0,\n  0.0,\n  0.0,\n  1.0,\n  1.0,\n  1.0,\n  0.0,\n  0.0,\n  0.0,\n  1.0,\n  0.0,\n  0.0,\n  1.0,\n  0.0,\n  1.0,\n  0.0,\n  0.0,\n  0.0,\n  0.0,\n  1.0,\n  0.0,\n  1.0,\n  0.0,\n  1.0,\n  1.0,\n  0.0,\n  1.0,\n  0.0,\n  0.0,\n  0.0,\n  0.0,\n  1.0,\n  0.0,\n  0.0,\n  0.0,\n  0.0,\n  0.0,\n  0.0,\n  0.0,\n  1.0,\n  1.0,\n  1.0,\n  1.0,\n  1.0,\n  1.0,\n  1.0,\n  0.0,\n  0.0,\n  0.0,\n  0.0,\n  0.0,\n  0.0,\n  0.0,\n  1.0,\n  0.0,\n  0.0,\n  0.0,\n  1.0,\n  1.0,\n  1.0,\n  0.0,\n  1.0,\n  1.0,\n  ...],\n 'y_displacement': [0.0,\n  0.0,\n  0.0,\n  0.0,\n  0.0,\n  0.0,\n  0.0,\n  0.0,\n  0.0,\n  0.0,\n  0.0,\n  0.0,\n  0.0,\n  0.0,\n  0.0,\n  0.0,\n  0.0,\n  0.0,\n  0.0,\n  0.0,\n  0.0,\n  0.0,\n  0.0,\n  0.0,\n  0.0,\n  0.0,\n  0.0,\n  0.0,\n  0.0,\n  0.0,\n  0.0,\n  0.0,\n  0.0,\n  0.0,\n  0.0,\n  0.0,\n  0.0,\n  0.0,\n  0.0,\n  0.0,\n  0.0,\n  0.0,\n  0.0,\n  0.0,\n  0.0,\n  0.0,\n  0.0,\n  0.0,\n  0.0,\n  0.0,\n  0.0,\n  0.0,\n  0.0,\n  0.0,\n  0.0,\n  0.0,\n  0.0,\n  0.0,\n  0.0,\n  0.0,\n  0.0,\n  0.0,\n  0.0,\n  0.0,\n  0.0,\n  0.0,\n  0.0,\n  0.0,\n  0.0,\n  0.0,\n  0.0,\n  0.0,\n  0.0,\n  0.0,\n  0.0,\n  0.0,\n  0.0,\n  0.0,\n  0.0,\n  0.0,\n  0.0,\n  0.0,\n  0.0,\n  0.0,\n  0.0,\n  0.0,\n  0.0,\n  0.0,\n  0.0,\n  0.0,\n  0.0,\n  0.0,\n  0.0,\n  0.0,\n  0.0,\n  0.0,\n  0.0,\n  0.0,\n  0.0,\n  0.0,\n  0.0,\n  0.0,\n  0.0,\n  0.0,\n  0.0,\n  0.0,\n  0.0,\n  0.0,\n  0.0,\n  0.0,\n  0.0,\n  0.0,\n  0.0,\n  0.0,\n  0.0,\n  0.0,\n  0.0,\n  0.0,\n  0.0,\n  0.0,\n  0.0,\n  0.0,\n  0.0,\n  0.0,\n  0.0,\n  0.0,\n  0.0,\n  0.0,\n  0.0,\n  0.0,\n  0.0,\n  0.0,\n  0.0,\n  0.0,\n  0.0,\n  0.0,\n  0.0,\n  0.0,\n  0.0,\n  0.0,\n  0.0,\n  0.0,\n  0.0,\n  0.0,\n  0.0,\n  0.0,\n  0.0,\n  0.0,\n  0.0,\n  0.0,\n  0.0,\n  0.0,\n  0.0,\n  0.0,\n  0.0,\n  0.0,\n  0.0,\n  0.0,\n  0.0,\n  0.0,\n  0.0,\n  0.0,\n  0.0,\n  0.0,\n  0.0,\n  0.0,\n  0.0,\n  0.0,\n  0.0,\n  0.0,\n  0.0,\n  0.0,\n  0.0,\n  0.0,\n  0.0,\n  0.0,\n  0.0,\n  0.0,\n  0.0,\n  0.0,\n  0.0,\n  0.0,\n  0.0,\n  0.0,\n  0.0,\n  0.0,\n  0.0,\n  0.0,\n  0.0,\n  0.0,\n  0.0,\n  0.0,\n  0.0,\n  0.0,\n  0.0,\n  0.0,\n  0.0,\n  0.0,\n  0.0,\n  0.0,\n  0.0,\n  0.0,\n  0.0,\n  0.0,\n  0.0,\n  0.0,\n  0.0,\n  0.0,\n  0.0,\n  0.0,\n  0.0,\n  0.0,\n  0.0,\n  0.0,\n  0.0,\n  0.0,\n  0.0,\n  0.0,\n  0.0,\n  0.0,\n  0.0,\n  0.0,\n  0.0,\n  0.0,\n  0.0,\n  0.0,\n  0.0,\n  0.0,\n  0.0,\n  0.0,\n  0.0,\n  0.0,\n  0.0,\n  0.0,\n  0.0,\n  0.0,\n  0.0,\n  0.0,\n  0.0,\n  0.0,\n  0.0,\n  0.0,\n  0.0,\n  0.0,\n  0.0,\n  0.0,\n  0.0,\n  0.0,\n  0.0,\n  0.0,\n  0.0,\n  0.0,\n  0.0,\n  0.0,\n  0.0,\n  0.0,\n  0.0,\n  0.0,\n  0.0,\n  0.0,\n  0.0,\n  0.0,\n  0.0,\n  0.0,\n  0.0,\n  0.0,\n  0.0,\n  0.0,\n  0.0,\n  0.0,\n  0.0,\n  0.0,\n  0.0,\n  0.0,\n  0.0,\n  0.0,\n  0.0,\n  0.0,\n  0.0,\n  0.0,\n  0.0,\n  0.0,\n  0.0,\n  0.0,\n  0.0,\n  0.0,\n  0.0,\n  0.0,\n  0.0,\n  0.0,\n  0.0,\n  0.0,\n  0.0,\n  0.0,\n  0.0,\n  0.0,\n  0.0,\n  0.0,\n  0.0,\n  0.0,\n  0.0,\n  0.0,\n  0.0,\n  0.0,\n  0.0,\n  0.0,\n  0.0,\n  0.0,\n  0.0,\n  0.0,\n  0.0,\n  0.0,\n  0.0,\n  0.0,\n  0.0,\n  0.0,\n  0.0,\n  0.0,\n  0.0,\n  0.0,\n  0.0,\n  0.0,\n  0.0,\n  0.0,\n  0.0,\n  0.0,\n  0.0,\n  0.0,\n  0.0,\n  0.0,\n  0.0,\n  0.0,\n  0.0,\n  0.0,\n  0.0,\n  0.0,\n  0.0,\n  0.0,\n  0.0,\n  0.0,\n  0.0,\n  0.0,\n  0.0,\n  0.0,\n  0.0,\n  0.0,\n  0.0,\n  0.0,\n  0.0,\n  0.0,\n  0.0,\n  0.0,\n  0.0,\n  0.0,\n  0.0,\n  0.0,\n  0.0,\n  0.0,\n  0.0,\n  0.0,\n  0.0,\n  0.0,\n  0.0,\n  0.0,\n  0.0,\n  0.0,\n  0.0,\n  0.0,\n  0.0,\n  0.0,\n  0.0,\n  0.0,\n  0.0,\n  0.0,\n  0.0,\n  0.0,\n  0.0,\n  0.0,\n  0.0,\n  0.0,\n  0.0,\n  0.0,\n  0.0,\n  0.0,\n  0.0,\n  0.0,\n  0.0,\n  0.0,\n  0.0,\n  0.0,\n  0.0,\n  0.0,\n  0.0,\n  0.0,\n  0.0,\n  0.0,\n  0.0,\n  0.0,\n  0.0,\n  0.0,\n  0.0,\n  0.0,\n  0.0,\n  0.0,\n  0.0,\n  0.0,\n  0.0,\n  0.0,\n  0.0,\n  0.0,\n  0.0,\n  0.0,\n  0.0,\n  0.0,\n  0.0,\n  0.0,\n  0.0,\n  0.0,\n  0.0,\n  0.0,\n  0.0,\n  0.0,\n  0.0,\n  0.0,\n  0.0,\n  0.0,\n  0.0,\n  0.0,\n  0.0,\n  0.0,\n  0.0,\n  0.0,\n  0.0,\n  0.0,\n  0.0,\n  0.0,\n  0.0,\n  0.0,\n  0.0,\n  0.0,\n  0.0,\n  0.0,\n  0.0,\n  0.0,\n  0.0,\n  0.0,\n  0.0,\n  0.0,\n  0.0,\n  0.0,\n  0.0,\n  0.0,\n  0.0,\n  0.0,\n  0.0,\n  0.0,\n  0.0,\n  0.0,\n  0.0,\n  0.0,\n  0.0,\n  0.0,\n  0.0,\n  0.0,\n  0.0,\n  0.0,\n  0.0,\n  0.0,\n  0.0,\n  0.0,\n  0.0,\n  0.0,\n  0.0,\n  0.0,\n  0.0,\n  0.0,\n  0.0,\n  0.0,\n  0.0,\n  0.0,\n  0.0,\n  0.0,\n  0.0,\n  0.0,\n  0.0,\n  0.0,\n  0.0,\n  0.0,\n  0.0,\n  0.0,\n  0.0,\n  0.0,\n  0.0,\n  0.0,\n  0.0,\n  0.0,\n  0.0,\n  0.0,\n  0.0,\n  0.0,\n  0.0,\n  0.0,\n  0.0,\n  0.0,\n  0.0,\n  0.0,\n  0.0,\n  0.0,\n  0.0,\n  0.0,\n  0.0,\n  0.0,\n  0.0,\n  0.0,\n  0.0,\n  0.0,\n  0.0,\n  0.0,\n  0.0,\n  0.0,\n  0.0,\n  0.0,\n  0.0,\n  0.0,\n  0.0,\n  0.0,\n  0.0,\n  0.0,\n  0.0,\n  0.0,\n  0.0,\n  0.0,\n  0.0,\n  0.0,\n  0.0,\n  0.0,\n  0.0,\n  0.0,\n  0.0,\n  0.0,\n  0.0,\n  0.0,\n  0.0,\n  0.0,\n  0.0,\n  0.0,\n  0.0,\n  0.0,\n  0.0,\n  0.0,\n  0.0,\n  0.0,\n  0.0,\n  0.0,\n  0.0,\n  0.0,\n  0.0,\n  0.0,\n  0.0,\n  0.0,\n  0.0,\n  0.0,\n  0.0,\n  0.0,\n  0.0,\n  0.0,\n  0.0,\n  0.0,\n  0.0,\n  0.0,\n  0.0,\n  0.0,\n  0.0,\n  0.0,\n  0.0,\n  0.0,\n  0.0,\n  0.0,\n  0.0,\n  0.0,\n  0.0,\n  0.0,\n  0.0,\n  0.0,\n  0.0,\n  0.0,\n  0.0,\n  0.0,\n  0.0,\n  0.0,\n  0.0,\n  0.0,\n  0.0,\n  0.0,\n  0.0,\n  0.0,\n  0.0,\n  0.0,\n  0.0,\n  0.0,\n  0.0,\n  0.0,\n  0.0,\n  0.0,\n  0.0,\n  0.0,\n  0.0,\n  0.0,\n  0.0,\n  0.0,\n  0.0,\n  0.0,\n  0.0,\n  0.0,\n  0.0,\n  0.0,\n  0.0,\n  0.0,\n  0.0,\n  0.0,\n  0.0,\n  0.0,\n  0.0,\n  0.0,\n  0.0,\n  0.0,\n  0.0,\n  0.0,\n  0.0,\n  0.0,\n  0.0,\n  0.0,\n  0.0,\n  0.0,\n  0.0,\n  0.0,\n  0.0,\n  0.0,\n  0.0,\n  0.0,\n  0.0,\n  0.0,\n  0.0,\n  0.0,\n  0.0,\n  0.0,\n  0.0,\n  0.0,\n  0.0,\n  0.0,\n  0.0,\n  0.0,\n  0.0,\n  0.0,\n  0.0,\n  0.0,\n  0.0,\n  0.0,\n  0.0,\n  0.0,\n  0.0,\n  0.0,\n  0.0,\n  0.0,\n  0.0,\n  0.0,\n  0.0,\n  0.0,\n  0.0,\n  0.0,\n  0.0,\n  0.0,\n  0.0,\n  0.0,\n  0.0,\n  0.0,\n  0.0,\n  0.0,\n  0.0,\n  0.0,\n  0.0,\n  0.0,\n  0.0,\n  0.0,\n  0.0,\n  0.0,\n  0.0,\n  0.0,\n  0.0,\n  0.0,\n  0.0,\n  0.0,\n  0.0,\n  0.0,\n  0.0,\n  0.0,\n  0.0,\n  0.0,\n  0.0,\n  0.0,\n  0.0,\n  0.0,\n  0.0,\n  0.0,\n  0.0,\n  0.0,\n  0.0,\n  0.0,\n  0.0,\n  0.0,\n  0.0,\n  0.0,\n  0.0,\n  0.0,\n  0.0,\n  0.0,\n  0.0,\n  0.0,\n  0.0,\n  0.0,\n  0.0,\n  0.0,\n  0.0,\n  0.0,\n  0.0,\n  0.0,\n  0.0,\n  0.0,\n  0.0,\n  0.0,\n  0.0,\n  0.0,\n  0.0,\n  0.0,\n  0.0,\n  0.0,\n  0.0,\n  0.0,\n  0.0,\n  0.0,\n  0.0,\n  0.0,\n  0.0,\n  0.0,\n  0.0,\n  0.0,\n  0.0,\n  0.0,\n  0.0,\n  0.0,\n  0.0,\n  0.0,\n  0.0,\n  0.0,\n  0.0,\n  0.0,\n  0.0,\n  0.0,\n  0.0,\n  0.0,\n  0.0,\n  0.0,\n  0.0,\n  0.0,\n  0.0,\n  0.0,\n  0.0,\n  0.0,\n  0.0,\n  0.0,\n  0.0,\n  0.0,\n  0.0,\n  0.0,\n  0.0,\n  0.0,\n  0.0,\n  0.0,\n  0.0,\n  0.0,\n  0.0,\n  0.0,\n  0.0,\n  0.0,\n  0.0,\n  0.0,\n  0.0,\n  0.0,\n  0.0,\n  0.0,\n  0.0,\n  0.0,\n  0.0,\n  0.0,\n  0.0,\n  0.0,\n  0.0,\n  0.0,\n  0.0,\n  0.0,\n  0.0,\n  0.0,\n  0.0,\n  0.0,\n  0.0,\n  0.0,\n  0.0,\n  0.0,\n  0.0,\n  0.0,\n  0.0,\n  0.0,\n  0.0,\n  0.0,\n  0.0,\n  0.0,\n  0.0,\n  0.0,\n  0.0,\n  0.0,\n  0.0,\n  0.0,\n  0.0,\n  0.0,\n  0.0,\n  0.0,\n  0.0,\n  0.0,\n  0.0,\n  0.0,\n  0.0,\n  0.0,\n  0.0,\n  0.0,\n  0.0,\n  0.0,\n  0.0,\n  0.0,\n  0.0,\n  0.0,\n  0.0,\n  0.0,\n  0.0,\n  0.0,\n  0.0,\n  0.0,\n  0.0,\n  0.0,\n  0.0,\n  0.0,\n  0.0,\n  0.0,\n  0.0,\n  0.0,\n  0.0,\n  0.0,\n  0.0,\n  0.0,\n  0.0,\n  0.0,\n  0.0,\n  0.0,\n  0.0,\n  0.0,\n  0.0,\n  0.0,\n  0.0,\n  0.0,\n  0.0,\n  0.0,\n  0.0,\n  0.0,\n  0.0,\n  0.0,\n  0.0,\n  0.0,\n  0.0,\n  0.0,\n  0.0,\n  0.0,\n  0.0,\n  0.0,\n  0.0,\n  0.0,\n  0.0,\n  0.0,\n  0.0,\n  0.0,\n  0.0,\n  0.0,\n  0.0,\n  0.0,\n  0.0,\n  0.0,\n  0.0,\n  0.0,\n  0.0,\n  0.0,\n  0.0,\n  0.0,\n  0.0,\n  0.0,\n  0.0,\n  0.0,\n  0.0,\n  0.0,\n  0.0,\n  0.0,\n  0.0,\n  0.0,\n  0.0,\n  0.0,\n  0.0,\n  0.0,\n  0.0,\n  0.0,\n  0.0,\n  0.0,\n  0.0,\n  0.0,\n  0.0,\n  0.0,\n  0.0,\n  0.0,\n  0.0,\n  0.0,\n  0.0,\n  0.0,\n  0.0,\n  0.0,\n  0.0,\n  0.0,\n  0.0,\n  0.0,\n  0.0,\n  0.0,\n  0.0,\n  0.0,\n  0.0,\n  0.0,\n  0.0,\n  0.0,\n  0.0,\n  0.0,\n  0.0,\n  0.0,\n  0.0,\n  0.0,\n  0.0,\n  0.0,\n  0.0,\n  0.0,\n  0.0,\n  0.0,\n  0.0,\n  0.0,\n  0.0,\n  0.0,\n  0.0,\n  0.0,\n  0.0,\n  0.0,\n  0.0,\n  0.0,\n  0.0,\n  0.0,\n  0.0,\n  0.0,\n  0.0,\n  0.0,\n  0.0,\n  0.0,\n  0.0,\n  0.0,\n  0.0,\n  0.0,\n  0.0,\n  0.0,\n  0.0,\n  0.0,\n  0.0,\n  0.0,\n  0.0,\n  0.0,\n  0.0,\n  0.0,\n  0.0,\n  0.0,\n  0.0,\n  0.0,\n  0.0,\n  0.0,\n  0.0,\n  0.0,\n  0.0,\n  0.0,\n  0.0,\n  0.0,\n  0.0,\n  0.0,\n  ...],\n 'x_displacement': [0.0,\n  0.0,\n  0.0,\n  0.0,\n  0.0,\n  0.0,\n  0.0,\n  0.0,\n  0.0,\n  0.0,\n  0.0,\n  0.0,\n  0.0,\n  0.0,\n  0.0,\n  0.0,\n  0.0,\n  0.0,\n  0.0,\n  0.0,\n  0.0,\n  0.0,\n  0.0,\n  0.0,\n  0.0,\n  0.0,\n  0.0,\n  0.0,\n  0.0,\n  0.0,\n  0.0,\n  0.0,\n  0.0,\n  0.0,\n  0.0,\n  0.0,\n  0.0,\n  0.0,\n  0.0,\n  0.0,\n  0.0,\n  0.0,\n  0.0,\n  0.0,\n  0.0,\n  0.0,\n  0.0,\n  0.0,\n  0.0,\n  0.0,\n  0.0,\n  0.0,\n  0.0,\n  0.0,\n  0.0,\n  0.0,\n  0.0,\n  0.0,\n  0.0,\n  0.0,\n  0.0,\n  0.0,\n  0.0,\n  0.0,\n  0.0,\n  0.0,\n  0.0,\n  0.0,\n  0.0,\n  0.0,\n  0.0,\n  0.0,\n  0.0,\n  0.0,\n  0.0,\n  0.0,\n  0.0,\n  0.0,\n  0.0,\n  0.0,\n  0.0,\n  0.0,\n  0.0,\n  0.0,\n  0.0,\n  0.0,\n  0.0,\n  0.0,\n  0.0,\n  0.0,\n  0.0,\n  0.0,\n  0.0,\n  0.0,\n  0.0,\n  0.0,\n  0.0,\n  0.0,\n  0.0,\n  0.0,\n  0.0,\n  0.0,\n  0.0,\n  0.0,\n  0.0,\n  0.0,\n  0.0,\n  0.0,\n  0.0,\n  0.0,\n  0.0,\n  0.0,\n  0.0,\n  0.0,\n  0.0,\n  0.0,\n  0.0,\n  0.0,\n  0.0,\n  0.0,\n  0.0,\n  0.0,\n  0.0,\n  0.0,\n  0.0,\n  0.0,\n  0.0,\n  0.0,\n  0.0,\n  0.0,\n  0.0,\n  0.0,\n  0.0,\n  0.0,\n  0.0,\n  0.0,\n  0.0,\n  0.0,\n  0.0,\n  0.0,\n  0.0,\n  0.0,\n  0.0,\n  0.0,\n  0.0,\n  0.0,\n  0.0,\n  0.0,\n  0.0,\n  0.0,\n  0.0,\n  0.0,\n  0.0,\n  0.0,\n  0.0,\n  0.0,\n  0.0,\n  0.0,\n  0.0,\n  0.0,\n  0.0,\n  0.0,\n  0.0,\n  0.0,\n  0.0,\n  0.0,\n  0.0,\n  0.0,\n  0.0,\n  0.0,\n  0.0,\n  0.0,\n  0.0,\n  0.0,\n  0.0,\n  0.0,\n  0.0,\n  0.0,\n  0.0,\n  0.0,\n  0.0,\n  0.0,\n  0.0,\n  0.0,\n  0.0,\n  0.0,\n  0.0,\n  0.0,\n  0.0,\n  0.0,\n  0.0,\n  0.0,\n  0.0,\n  0.0,\n  0.0,\n  0.0,\n  0.0,\n  0.0,\n  0.0,\n  0.0,\n  0.0,\n  0.0,\n  0.0,\n  0.0,\n  0.0,\n  0.0,\n  0.0,\n  0.0,\n  0.0,\n  0.0,\n  0.0,\n  0.0,\n  0.0,\n  0.0,\n  0.0,\n  0.0,\n  0.0,\n  0.0,\n  0.0,\n  0.0,\n  0.0,\n  0.0,\n  0.0,\n  0.0,\n  0.0,\n  0.0,\n  0.0,\n  0.0,\n  0.0,\n  0.0,\n  0.0,\n  0.0,\n  0.0,\n  0.0,\n  0.0,\n  0.0,\n  0.0,\n  0.0,\n  0.0,\n  0.0,\n  0.0,\n  0.0,\n  0.0,\n  0.0,\n  0.0,\n  0.0,\n  0.0,\n  0.0,\n  0.0,\n  0.0,\n  0.0,\n  0.0,\n  0.0,\n  0.0,\n  0.0,\n  0.0,\n  0.0,\n  0.0,\n  0.0,\n  0.0,\n  0.0,\n  0.0,\n  0.0,\n  0.0,\n  0.0,\n  0.0,\n  0.0,\n  0.0,\n  0.0,\n  0.0,\n  0.0,\n  0.0,\n  0.0,\n  0.0,\n  0.0,\n  0.0,\n  0.0,\n  0.0,\n  0.0,\n  0.0,\n  0.0,\n  0.0,\n  0.0,\n  0.0,\n  0.0,\n  0.0,\n  0.0,\n  0.0,\n  0.0,\n  0.0,\n  0.0,\n  0.0,\n  0.0,\n  0.0,\n  0.0,\n  0.0,\n  0.0,\n  0.0,\n  0.0,\n  0.0,\n  0.0,\n  0.0,\n  0.0,\n  0.0,\n  0.0,\n  0.0,\n  0.0,\n  0.0,\n  0.0,\n  0.0,\n  0.0,\n  0.0,\n  0.0,\n  0.0,\n  0.0,\n  0.0,\n  0.0,\n  0.0,\n  0.0,\n  0.0,\n  0.0,\n  0.0,\n  0.0,\n  0.0,\n  0.0,\n  0.0,\n  0.0,\n  0.0,\n  0.0,\n  0.0,\n  0.0,\n  0.0,\n  0.0,\n  0.0,\n  0.0,\n  0.0,\n  0.0,\n  0.0,\n  0.0,\n  0.0,\n  0.0,\n  0.0,\n  0.0,\n  0.0,\n  0.0,\n  0.0,\n  0.0,\n  0.0,\n  0.0,\n  0.0,\n  0.0,\n  0.0,\n  0.0,\n  0.0,\n  0.0,\n  0.0,\n  0.0,\n  0.0,\n  0.0,\n  0.0,\n  0.0,\n  0.0,\n  0.0,\n  0.0,\n  0.0,\n  0.0,\n  0.0,\n  0.0,\n  0.0,\n  0.0,\n  0.0,\n  0.0,\n  0.0,\n  0.0,\n  0.0,\n  0.0,\n  0.0,\n  0.0,\n  0.0,\n  0.0,\n  0.0,\n  0.0,\n  0.0,\n  0.0,\n  0.0,\n  0.0,\n  0.0,\n  0.0,\n  0.0,\n  0.0,\n  0.0,\n  0.0,\n  0.0,\n  0.0,\n  0.0,\n  0.0,\n  0.0,\n  0.0,\n  0.0,\n  0.0,\n  0.0,\n  0.0,\n  0.0,\n  0.0,\n  0.0,\n  0.0,\n  0.0,\n  0.0,\n  0.0,\n  0.0,\n  0.0,\n  0.0,\n  0.0,\n  0.0,\n  0.0,\n  0.0,\n  0.0,\n  0.0,\n  0.0,\n  0.0,\n  0.0,\n  0.0,\n  0.0,\n  0.0,\n  0.0,\n  0.0,\n  0.0,\n  0.0,\n  0.0,\n  0.0,\n  0.0,\n  0.0,\n  0.0,\n  0.0,\n  0.0,\n  0.0,\n  0.0,\n  0.0,\n  0.0,\n  0.0,\n  0.0,\n  0.0,\n  0.0,\n  0.0,\n  0.0,\n  0.0,\n  0.0,\n  0.0,\n  0.0,\n  0.0,\n  0.0,\n  0.0,\n  0.0,\n  0.0,\n  0.0,\n  0.0,\n  0.0,\n  0.0,\n  0.0,\n  0.0,\n  0.0,\n  0.0,\n  0.0,\n  0.0,\n  0.0,\n  0.0,\n  0.0,\n  0.0,\n  0.0,\n  0.0,\n  0.0,\n  0.0,\n  0.0,\n  0.0,\n  0.0,\n  0.0,\n  0.0,\n  0.0,\n  0.0,\n  0.0,\n  0.0,\n  0.0,\n  0.0,\n  0.0,\n  0.0,\n  0.0,\n  0.0,\n  0.0,\n  0.0,\n  0.0,\n  0.0,\n  0.0,\n  0.0,\n  0.0,\n  0.0,\n  0.0,\n  0.0,\n  0.0,\n  0.0,\n  0.0,\n  0.0,\n  0.0,\n  0.0,\n  0.0,\n  0.0,\n  0.0,\n  0.0,\n  0.0,\n  0.0,\n  0.0,\n  0.0,\n  0.0,\n  0.0,\n  0.0,\n  0.0,\n  0.0,\n  0.0,\n  0.0,\n  0.0,\n  0.0,\n  0.0,\n  0.0,\n  0.0,\n  0.0,\n  0.0,\n  0.0,\n  0.0,\n  0.0,\n  0.0,\n  0.0,\n  0.0,\n  0.0,\n  0.0,\n  0.0,\n  0.0,\n  0.0,\n  0.0,\n  0.0,\n  0.0,\n  0.0,\n  0.0,\n  0.0,\n  0.0,\n  0.0,\n  0.0,\n  0.0,\n  0.0,\n  0.0,\n  0.0,\n  0.0,\n  0.0,\n  0.0,\n  0.0,\n  0.0,\n  0.0,\n  0.0,\n  0.0,\n  0.0,\n  0.0,\n  0.0,\n  0.0,\n  0.0,\n  0.0,\n  0.0,\n  0.0,\n  0.0,\n  0.0,\n  0.0,\n  0.0,\n  0.0,\n  0.0,\n  0.0,\n  0.0,\n  0.0,\n  0.0,\n  0.0,\n  0.0,\n  0.0,\n  0.0,\n  0.0,\n  0.0,\n  0.0,\n  0.0,\n  0.0,\n  0.0,\n  0.0,\n  0.0,\n  0.0,\n  0.0,\n  0.0,\n  0.0,\n  0.0,\n  0.0,\n  0.0,\n  0.0,\n  0.0,\n  0.0,\n  0.0,\n  0.0,\n  0.0,\n  0.0,\n  0.0,\n  0.0,\n  0.0,\n  0.0,\n  0.0,\n  0.0,\n  0.0,\n  0.0,\n  0.0,\n  0.0,\n  0.0,\n  0.0,\n  0.0,\n  0.0,\n  0.0,\n  0.0,\n  0.0,\n  0.0,\n  0.0,\n  0.0,\n  0.0,\n  0.0,\n  0.0,\n  0.0,\n  0.0,\n  0.0,\n  0.0,\n  0.0,\n  0.0,\n  0.0,\n  0.0,\n  0.0,\n  0.0,\n  0.0,\n  0.0,\n  0.0,\n  0.0,\n  0.0,\n  0.0,\n  0.0,\n  0.0,\n  0.0,\n  0.0,\n  0.0,\n  0.0,\n  0.0,\n  0.0,\n  0.0,\n  0.0,\n  0.0,\n  0.0,\n  0.0,\n  0.0,\n  0.0,\n  0.0,\n  0.0,\n  0.0,\n  0.0,\n  0.0,\n  0.0,\n  0.0,\n  0.0,\n  0.0,\n  0.0,\n  0.0,\n  0.0,\n  0.0,\n  0.0,\n  0.0,\n  0.0,\n  0.0,\n  0.0,\n  0.0,\n  0.0,\n  0.0,\n  0.0,\n  0.0,\n  0.0,\n  0.0,\n  0.0,\n  0.0,\n  0.0,\n  0.0,\n  0.0,\n  0.0,\n  0.0,\n  0.0,\n  0.0,\n  0.0,\n  0.0,\n  0.0,\n  0.0,\n  0.0,\n  0.0,\n  0.0,\n  0.0,\n  0.0,\n  0.0,\n  0.0,\n  0.0,\n  0.0,\n  0.0,\n  0.0,\n  0.0,\n  0.0,\n  0.0,\n  0.0,\n  0.0,\n  0.0,\n  0.0,\n  0.0,\n  0.0,\n  0.0,\n  0.0,\n  0.0,\n  0.0,\n  0.0,\n  0.0,\n  0.0,\n  0.0,\n  0.0,\n  0.0,\n  0.0,\n  0.0,\n  0.0,\n  0.0,\n  0.0,\n  0.0,\n  0.0,\n  0.0,\n  0.0,\n  0.0,\n  0.0,\n  0.0,\n  0.0,\n  0.0,\n  0.0,\n  0.0,\n  0.0,\n  0.0,\n  0.0,\n  0.0,\n  0.0,\n  0.0,\n  0.0,\n  0.0,\n  0.0,\n  0.0,\n  0.0,\n  0.0,\n  0.0,\n  0.0,\n  0.0,\n  0.0,\n  0.0,\n  0.0,\n  0.0,\n  0.0,\n  0.0,\n  0.0,\n  0.0,\n  0.0,\n  0.0,\n  0.0,\n  0.0,\n  0.0,\n  0.0,\n  0.0,\n  0.0,\n  0.0,\n  0.0,\n  0.0,\n  0.0,\n  0.0,\n  0.0,\n  0.0,\n  0.0,\n  0.0,\n  0.0,\n  0.0,\n  0.0,\n  0.0,\n  0.0,\n  0.0,\n  0.0,\n  0.0,\n  0.0,\n  0.0,\n  0.0,\n  0.0,\n  0.0,\n  0.0,\n  0.0,\n  0.0,\n  0.0,\n  0.0,\n  0.0,\n  0.0,\n  0.0,\n  0.0,\n  0.0,\n  0.0,\n  0.0,\n  0.0,\n  0.0,\n  0.0,\n  0.0,\n  0.0,\n  0.0,\n  0.0,\n  0.0,\n  0.0,\n  0.0,\n  0.0,\n  0.0,\n  0.0,\n  0.0,\n  0.0,\n  0.0,\n  0.0,\n  0.0,\n  0.0,\n  0.0,\n  0.0,\n  0.0,\n  0.0,\n  0.0,\n  0.0,\n  0.0,\n  0.0,\n  0.0,\n  0.0,\n  0.0,\n  0.0,\n  0.0,\n  -1.0,\n  0.0,\n  -1.0,\n  -1.0,\n  0.0,\n  0.0,\n  0.0,\n  -1.0,\n  0.0,\n  0.0,\n  0.0,\n  0.0,\n  -1.0,\n  -1.0,\n  -1.0,\n  0.0,\n  -1.0,\n  0.0,\n  0.0,\n  -1.0,\n  -1.0,\n  0.0,\n  0.0,\n  -1.0,\n  -1.0,\n  0.0,\n  -1.0,\n  0.0,\n  0.0,\n  0.0,\n  0.0,\n  0.0,\n  -1.0,\n  0.0,\n  0.0,\n  -1.0,\n  0.0,\n  0.0,\n  0.0,\n  0.0,\n  -1.0,\n  0.0,\n  -1.0,\n  -1.0,\n  0.0,\n  0.0,\n  0.0,\n  -1.0,\n  0.0,\n  0.0,\n  0.0,\n  0.0,\n  0.0,\n  0.0,\n  -1.0,\n  0.0,\n  0.0,\n  0.0,\n  0.0,\n  0.0,\n  -1.0,\n  -1.0,\n  0.0,\n  -1.0,\n  -1.0,\n  0.0,\n  0.0,\n  0.0,\n  0.0,\n  -1.0,\n  0.0,\n  0.0,\n  0.0,\n  0.0,\n  0.0,\n  0.0,\n  0.0,\n  0.0,\n  0.0,\n  0.0,\n  0.0,\n  0.0,\n  0.0,\n  -1.0,\n  0.0,\n  0.0,\n  0.0,\n  -1.0,\n  0.0,\n  0.0,\n  0.0,\n  0.0,\n  -1.0,\n  0.0,\n  -1.0,\n  0.0,\n  0.0,\n  0.0,\n  -1.0,\n  0.0,\n  -1.0,\n  0.0,\n  0.0,\n  0.0,\n  -1.0,\n  -1.0,\n  -1.0,\n  0.0,\n  0.0,\n  0.0,\n  -1.0,\n  0.0,\n  0.0,\n  -1.0,\n  0.0,\n  -1.0,\n  0.0,\n  0.0,\n  0.0,\n  0.0,\n  -1.0,\n  0.0,\n  -1.0,\n  0.0,\n  -1.0,\n  -1.0,\n  0.0,\n  -1.0,\n  0.0,\n  0.0,\n  0.0,\n  0.0,\n  -1.0,\n  0.0,\n  0.0,\n  0.0,\n  0.0,\n  0.0,\n  0.0,\n  0.0,\n  -1.0,\n  -1.0,\n  -1.0,\n  -1.0,\n  -1.0,\n  -1.0,\n  -1.0,\n  0.0,\n  0.0,\n  0.0,\n  0.0,\n  0.0,\n  0.0,\n  0.0,\n  -1.0,\n  0.0,\n  0.0,\n  0.0,\n  -1.0,\n  -1.0,\n  -1.0,\n  0.0,\n  -1.0,\n  -1.0,\n  ...],\n 'top_correlation_x': [46.0,\n  46.0,\n  46.0,\n  46.0,\n  46.0,\n  46.0,\n  46.0,\n  46.0,\n  46.0,\n  46.0,\n  46.0,\n  46.0,\n  46.0,\n  46.0,\n  46.0,\n  46.0,\n  46.0,\n  46.0,\n  46.0,\n  46.0,\n  46.0,\n  46.0,\n  46.0,\n  46.0,\n  46.0,\n  46.0,\n  46.0,\n  46.0,\n  46.0,\n  46.0,\n  46.0,\n  46.0,\n  46.0,\n  46.0,\n  46.0,\n  46.0,\n  46.0,\n  46.0,\n  46.0,\n  46.0,\n  46.0,\n  46.0,\n  46.0,\n  46.0,\n  46.0,\n  46.0,\n  46.0,\n  46.0,\n  46.0,\n  46.0,\n  46.0,\n  46.0,\n  46.0,\n  46.0,\n  46.0,\n  46.0,\n  46.0,\n  46.0,\n  46.0,\n  46.0,\n  46.0,\n  46.0,\n  46.0,\n  46.0,\n  46.0,\n  46.0,\n  46.0,\n  46.0,\n  46.0,\n  46.0,\n  46.0,\n  46.0,\n  46.0,\n  46.0,\n  46.0,\n  46.0,\n  46.0,\n  46.0,\n  46.0,\n  46.0,\n  46.0,\n  46.0,\n  46.0,\n  46.0,\n  46.0,\n  46.0,\n  46.0,\n  46.0,\n  46.0,\n  46.0,\n  46.0,\n  46.0,\n  46.0,\n  46.0,\n  46.0,\n  46.0,\n  46.0,\n  46.0,\n  46.0,\n  46.0,\n  46.0,\n  46.0,\n  46.0,\n  46.0,\n  46.0,\n  46.0,\n  46.0,\n  46.0,\n  46.0,\n  46.0,\n  46.0,\n  46.0,\n  46.0,\n  46.0,\n  46.0,\n  46.0,\n  46.0,\n  46.0,\n  46.0,\n  46.0,\n  46.0,\n  46.0,\n  46.0,\n  46.0,\n  46.0,\n  46.0,\n  46.0,\n  46.0,\n  46.0,\n  46.0,\n  46.0,\n  46.0,\n  46.0,\n  46.0,\n  46.0,\n  46.0,\n  46.0,\n  46.0,\n  46.0,\n  46.0,\n  46.0,\n  46.0,\n  46.0,\n  46.0,\n  46.0,\n  46.0,\n  46.0,\n  46.0,\n  46.0,\n  46.0,\n  46.0,\n  46.0,\n  46.0,\n  46.0,\n  46.0,\n  46.0,\n  46.0,\n  46.0,\n  46.0,\n  46.0,\n  46.0,\n  46.0,\n  46.0,\n  46.0,\n  46.0,\n  46.0,\n  46.0,\n  46.0,\n  46.0,\n  46.0,\n  46.0,\n  46.0,\n  46.0,\n  46.0,\n  46.0,\n  46.0,\n  46.0,\n  46.0,\n  46.0,\n  46.0,\n  46.0,\n  46.0,\n  46.0,\n  46.0,\n  46.0,\n  46.0,\n  46.0,\n  46.0,\n  46.0,\n  46.0,\n  46.0,\n  46.0,\n  46.0,\n  46.0,\n  46.0,\n  46.0,\n  46.0,\n  46.0,\n  46.0,\n  46.0,\n  46.0,\n  46.0,\n  46.0,\n  46.0,\n  46.0,\n  46.0,\n  46.0,\n  46.0,\n  46.0,\n  46.0,\n  46.0,\n  46.0,\n  46.0,\n  46.0,\n  46.0,\n  46.0,\n  46.0,\n  46.0,\n  46.0,\n  46.0,\n  46.0,\n  46.0,\n  46.0,\n  46.0,\n  46.0,\n  46.0,\n  46.0,\n  46.0,\n  46.0,\n  46.0,\n  46.0,\n  46.0,\n  46.0,\n  46.0,\n  46.0,\n  46.0,\n  46.0,\n  46.0,\n  46.0,\n  46.0,\n  46.0,\n  46.0,\n  46.0,\n  46.0,\n  46.0,\n  46.0,\n  46.0,\n  46.0,\n  46.0,\n  46.0,\n  46.0,\n  46.0,\n  46.0,\n  46.0,\n  46.0,\n  46.0,\n  46.0,\n  46.0,\n  46.0,\n  46.0,\n  46.0,\n  46.0,\n  46.0,\n  46.0,\n  46.0,\n  46.0,\n  46.0,\n  46.0,\n  46.0,\n  46.0,\n  46.0,\n  46.0,\n  46.0,\n  46.0,\n  46.0,\n  46.0,\n  46.0,\n  46.0,\n  46.0,\n  46.0,\n  46.0,\n  46.0,\n  46.0,\n  46.0,\n  46.0,\n  46.0,\n  46.0,\n  46.0,\n  46.0,\n  46.0,\n  46.0,\n  46.0,\n  46.0,\n  46.0,\n  46.0,\n  46.0,\n  46.0,\n  46.0,\n  46.0,\n  46.0,\n  46.0,\n  46.0,\n  46.0,\n  46.0,\n  46.0,\n  46.0,\n  46.0,\n  46.0,\n  46.0,\n  46.0,\n  46.0,\n  46.0,\n  46.0,\n  46.0,\n  46.0,\n  46.0,\n  46.0,\n  46.0,\n  46.0,\n  46.0,\n  46.0,\n  46.0,\n  46.0,\n  46.0,\n  46.0,\n  46.0,\n  46.0,\n  46.0,\n  46.0,\n  46.0,\n  46.0,\n  46.0,\n  46.0,\n  46.0,\n  46.0,\n  46.0,\n  46.0,\n  46.0,\n  46.0,\n  46.0,\n  46.0,\n  46.0,\n  46.0,\n  46.0,\n  46.0,\n  46.0,\n  46.0,\n  46.0,\n  46.0,\n  46.0,\n  46.0,\n  46.0,\n  46.0,\n  46.0,\n  46.0,\n  46.0,\n  46.0,\n  46.0,\n  46.0,\n  46.0,\n  46.0,\n  46.0,\n  46.0,\n  46.0,\n  46.0,\n  46.0,\n  46.0,\n  46.0,\n  46.0,\n  46.0,\n  46.0,\n  46.0,\n  46.0,\n  46.0,\n  46.0,\n  46.0,\n  46.0,\n  46.0,\n  46.0,\n  46.0,\n  46.0,\n  46.0,\n  46.0,\n  46.0,\n  46.0,\n  46.0,\n  46.0,\n  46.0,\n  46.0,\n  46.0,\n  46.0,\n  46.0,\n  46.0,\n  46.0,\n  46.0,\n  46.0,\n  46.0,\n  46.0,\n  46.0,\n  46.0,\n  46.0,\n  46.0,\n  46.0,\n  46.0,\n  46.0,\n  46.0,\n  46.0,\n  46.0,\n  46.0,\n  46.0,\n  46.0,\n  46.0,\n  46.0,\n  46.0,\n  46.0,\n  46.0,\n  46.0,\n  46.0,\n  46.0,\n  46.0,\n  46.0,\n  46.0,\n  46.0,\n  46.0,\n  46.0,\n  46.0,\n  46.0,\n  46.0,\n  46.0,\n  46.0,\n  46.0,\n  46.0,\n  46.0,\n  46.0,\n  46.0,\n  46.0,\n  46.0,\n  46.0,\n  46.0,\n  46.0,\n  46.0,\n  46.0,\n  46.0,\n  46.0,\n  46.0,\n  46.0,\n  46.0,\n  46.0,\n  46.0,\n  46.0,\n  46.0,\n  46.0,\n  46.0,\n  46.0,\n  46.0,\n  46.0,\n  46.0,\n  46.0,\n  46.0,\n  46.0,\n  46.0,\n  46.0,\n  46.0,\n  46.0,\n  46.0,\n  46.0,\n  46.0,\n  46.0,\n  46.0,\n  46.0,\n  46.0,\n  46.0,\n  46.0,\n  46.0,\n  46.0,\n  46.0,\n  46.0,\n  46.0,\n  46.0,\n  46.0,\n  46.0,\n  46.0,\n  46.0,\n  46.0,\n  46.0,\n  46.0,\n  46.0,\n  46.0,\n  46.0,\n  46.0,\n  46.0,\n  46.0,\n  46.0,\n  46.0,\n  46.0,\n  46.0,\n  46.0,\n  46.0,\n  46.0,\n  46.0,\n  46.0,\n  46.0,\n  46.0,\n  46.0,\n  46.0,\n  46.0,\n  46.0,\n  46.0,\n  46.0,\n  46.0,\n  46.0,\n  46.0,\n  46.0,\n  46.0,\n  46.0,\n  46.0,\n  46.0,\n  46.0,\n  46.0,\n  46.0,\n  46.0,\n  46.0,\n  46.0,\n  46.0,\n  46.0,\n  46.0,\n  46.0,\n  46.0,\n  46.0,\n  46.0,\n  46.0,\n  46.0,\n  46.0,\n  46.0,\n  46.0,\n  46.0,\n  46.0,\n  46.0,\n  46.0,\n  46.0,\n  46.0,\n  46.0,\n  46.0,\n  46.0,\n  46.0,\n  46.0,\n  46.0,\n  46.0,\n  46.0,\n  46.0,\n  46.0,\n  46.0,\n  46.0,\n  46.0,\n  46.0,\n  46.0,\n  46.0,\n  46.0,\n  46.0,\n  46.0,\n  46.0,\n  46.0,\n  46.0,\n  46.0,\n  46.0,\n  46.0,\n  46.0,\n  46.0,\n  46.0,\n  46.0,\n  46.0,\n  46.0,\n  46.0,\n  46.0,\n  46.0,\n  46.0,\n  46.0,\n  46.0,\n  46.0,\n  46.0,\n  46.0,\n  46.0,\n  46.0,\n  46.0,\n  46.0,\n  46.0,\n  46.0,\n  46.0,\n  46.0,\n  46.0,\n  46.0,\n  46.0,\n  46.0,\n  46.0,\n  46.0,\n  46.0,\n  46.0,\n  46.0,\n  46.0,\n  46.0,\n  46.0,\n  46.0,\n  46.0,\n  46.0,\n  46.0,\n  46.0,\n  46.0,\n  46.0,\n  46.0,\n  46.0,\n  46.0,\n  46.0,\n  46.0,\n  46.0,\n  46.0,\n  46.0,\n  46.0,\n  46.0,\n  46.0,\n  46.0,\n  46.0,\n  46.0,\n  46.0,\n  46.0,\n  46.0,\n  46.0,\n  46.0,\n  46.0,\n  46.0,\n  46.0,\n  46.0,\n  46.0,\n  46.0,\n  46.0,\n  46.0,\n  46.0,\n  46.0,\n  46.0,\n  46.0,\n  46.0,\n  46.0,\n  46.0,\n  46.0,\n  46.0,\n  46.0,\n  46.0,\n  46.0,\n  46.0,\n  46.0,\n  46.0,\n  46.0,\n  46.0,\n  46.0,\n  46.0,\n  46.0,\n  46.0,\n  46.0,\n  46.0,\n  46.0,\n  46.0,\n  46.0,\n  46.0,\n  46.0,\n  46.0,\n  46.0,\n  46.0,\n  46.0,\n  46.0,\n  46.0,\n  46.0,\n  46.0,\n  46.0,\n  46.0,\n  46.0,\n  46.0,\n  46.0,\n  46.0,\n  46.0,\n  46.0,\n  46.0,\n  46.0,\n  46.0,\n  46.0,\n  46.0,\n  46.0,\n  46.0,\n  46.0,\n  46.0,\n  46.0,\n  46.0,\n  46.0,\n  46.0,\n  46.0,\n  46.0,\n  46.0,\n  46.0,\n  46.0,\n  46.0,\n  46.0,\n  46.0,\n  46.0,\n  46.0,\n  46.0,\n  46.0,\n  46.0,\n  46.0,\n  46.0,\n  46.0,\n  46.0,\n  46.0,\n  46.0,\n  46.0,\n  46.0,\n  46.0,\n  46.0,\n  46.0,\n  46.0,\n  46.0,\n  46.0,\n  46.0,\n  46.0,\n  46.0,\n  46.0,\n  46.0,\n  46.0,\n  46.0,\n  46.0,\n  46.0,\n  46.0,\n  46.0,\n  46.0,\n  46.0,\n  46.0,\n  46.0,\n  46.0,\n  46.0,\n  46.0,\n  46.0,\n  46.0,\n  46.0,\n  46.0,\n  46.0,\n  46.0,\n  46.0,\n  46.0,\n  46.0,\n  46.0,\n  46.0,\n  46.0,\n  46.0,\n  46.0,\n  46.0,\n  46.0,\n  46.0,\n  46.0,\n  46.0,\n  46.0,\n  46.0,\n  46.0,\n  46.0,\n  46.0,\n  46.0,\n  46.0,\n  46.0,\n  46.0,\n  46.0,\n  46.0,\n  46.0,\n  46.0,\n  46.0,\n  46.0,\n  46.0,\n  46.0,\n  46.0,\n  46.0,\n  46.0,\n  46.0,\n  46.0,\n  46.0,\n  46.0,\n  46.0,\n  46.0,\n  46.0,\n  46.0,\n  46.0,\n  46.0,\n  46.0,\n  46.0,\n  46.0,\n  46.0,\n  46.0,\n  46.0,\n  46.0,\n  46.0,\n  46.0,\n  46.0,\n  46.0,\n  46.0,\n  46.0,\n  46.0,\n  46.0,\n  46.0,\n  46.0,\n  46.0,\n  46.0,\n  46.0,\n  46.0,\n  46.0,\n  46.0,\n  46.0,\n  46.0,\n  46.0,\n  46.0,\n  46.0,\n  46.0,\n  46.0,\n  46.0,\n  46.0,\n  46.0,\n  46.0,\n  46.0,\n  46.0,\n  46.0,\n  46.0,\n  46.0,\n  46.0,\n  46.0,\n  46.0,\n  46.0,\n  46.0,\n  46.0,\n  46.0,\n  46.0,\n  46.0,\n  46.0,\n  46.0,\n  47.0,\n  46.0,\n  47.0,\n  47.0,\n  46.0,\n  46.0,\n  46.0,\n  47.0,\n  46.0,\n  46.0,\n  46.0,\n  46.0,\n  47.0,\n  47.0,\n  47.0,\n  46.0,\n  47.0,\n  46.0,\n  46.0,\n  47.0,\n  47.0,\n  46.0,\n  46.0,\n  47.0,\n  47.0,\n  46.0,\n  47.0,\n  46.0,\n  46.0,\n  46.0,\n  46.0,\n  46.0,\n  47.0,\n  46.0,\n  46.0,\n  47.0,\n  46.0,\n  46.0,\n  46.0,\n  46.0,\n  47.0,\n  46.0,\n  47.0,\n  47.0,\n  46.0,\n  46.0,\n  46.0,\n  47.0,\n  46.0,\n  46.0,\n  46.0,\n  46.0,\n  46.0,\n  46.0,\n  47.0,\n  46.0,\n  46.0,\n  46.0,\n  46.0,\n  46.0,\n  47.0,\n  47.0,\n  46.0,\n  47.0,\n  47.0,\n  46.0,\n  46.0,\n  46.0,\n  46.0,\n  47.0,\n  46.0,\n  46.0,\n  46.0,\n  46.0,\n  46.0,\n  46.0,\n  46.0,\n  46.0,\n  46.0,\n  46.0,\n  46.0,\n  46.0,\n  46.0,\n  47.0,\n  46.0,\n  46.0,\n  46.0,\n  47.0,\n  46.0,\n  46.0,\n  46.0,\n  46.0,\n  47.0,\n  46.0,\n  47.0,\n  46.0,\n  46.0,\n  46.0,\n  47.0,\n  46.0,\n  47.0,\n  46.0,\n  46.0,\n  46.0,\n  47.0,\n  47.0,\n  47.0,\n  46.0,\n  46.0,\n  46.0,\n  47.0,\n  46.0,\n  46.0,\n  47.0,\n  46.0,\n  47.0,\n  46.0,\n  46.0,\n  46.0,\n  46.0,\n  47.0,\n  46.0,\n  47.0,\n  46.0,\n  47.0,\n  47.0,\n  46.0,\n  47.0,\n  46.0,\n  46.0,\n  46.0,\n  46.0,\n  47.0,\n  46.0,\n  46.0,\n  46.0,\n  46.0,\n  46.0,\n  46.0,\n  46.0,\n  47.0,\n  47.0,\n  47.0,\n  47.0,\n  47.0,\n  47.0,\n  47.0,\n  46.0,\n  46.0,\n  46.0,\n  46.0,\n  46.0,\n  46.0,\n  46.0,\n  47.0,\n  46.0,\n  46.0,\n  46.0,\n  47.0,\n  47.0,\n  47.0,\n  46.0,\n  47.0,\n  47.0,\n  ...],\n 'top_correlation_y': [40.0,\n  40.0,\n  40.0,\n  40.0,\n  40.0,\n  40.0,\n  40.0,\n  40.0,\n  40.0,\n  40.0,\n  40.0,\n  40.0,\n  40.0,\n  40.0,\n  40.0,\n  40.0,\n  40.0,\n  40.0,\n  40.0,\n  40.0,\n  40.0,\n  40.0,\n  40.0,\n  40.0,\n  40.0,\n  40.0,\n  40.0,\n  40.0,\n  40.0,\n  40.0,\n  40.0,\n  40.0,\n  40.0,\n  40.0,\n  40.0,\n  40.0,\n  40.0,\n  40.0,\n  40.0,\n  40.0,\n  40.0,\n  40.0,\n  40.0,\n  40.0,\n  40.0,\n  40.0,\n  40.0,\n  40.0,\n  40.0,\n  40.0,\n  40.0,\n  40.0,\n  40.0,\n  40.0,\n  40.0,\n  40.0,\n  40.0,\n  40.0,\n  40.0,\n  40.0,\n  40.0,\n  40.0,\n  40.0,\n  40.0,\n  40.0,\n  40.0,\n  40.0,\n  40.0,\n  40.0,\n  40.0,\n  40.0,\n  40.0,\n  40.0,\n  40.0,\n  40.0,\n  40.0,\n  40.0,\n  40.0,\n  40.0,\n  40.0,\n  40.0,\n  40.0,\n  40.0,\n  40.0,\n  40.0,\n  40.0,\n  40.0,\n  40.0,\n  40.0,\n  40.0,\n  40.0,\n  40.0,\n  40.0,\n  40.0,\n  40.0,\n  40.0,\n  40.0,\n  40.0,\n  40.0,\n  40.0,\n  40.0,\n  40.0,\n  40.0,\n  40.0,\n  40.0,\n  40.0,\n  40.0,\n  40.0,\n  40.0,\n  40.0,\n  40.0,\n  40.0,\n  40.0,\n  40.0,\n  40.0,\n  40.0,\n  40.0,\n  40.0,\n  40.0,\n  40.0,\n  40.0,\n  40.0,\n  40.0,\n  40.0,\n  40.0,\n  40.0,\n  40.0,\n  40.0,\n  40.0,\n  40.0,\n  40.0,\n  40.0,\n  40.0,\n  40.0,\n  40.0,\n  40.0,\n  40.0,\n  40.0,\n  40.0,\n  40.0,\n  40.0,\n  40.0,\n  40.0,\n  40.0,\n  40.0,\n  40.0,\n  40.0,\n  40.0,\n  40.0,\n  40.0,\n  40.0,\n  40.0,\n  40.0,\n  40.0,\n  40.0,\n  40.0,\n  40.0,\n  40.0,\n  40.0,\n  40.0,\n  40.0,\n  40.0,\n  40.0,\n  40.0,\n  40.0,\n  40.0,\n  40.0,\n  40.0,\n  40.0,\n  40.0,\n  40.0,\n  40.0,\n  40.0,\n  40.0,\n  40.0,\n  40.0,\n  40.0,\n  40.0,\n  40.0,\n  40.0,\n  40.0,\n  40.0,\n  40.0,\n  40.0,\n  40.0,\n  40.0,\n  40.0,\n  40.0,\n  40.0,\n  40.0,\n  40.0,\n  40.0,\n  40.0,\n  40.0,\n  40.0,\n  40.0,\n  40.0,\n  40.0,\n  40.0,\n  40.0,\n  40.0,\n  40.0,\n  40.0,\n  40.0,\n  40.0,\n  40.0,\n  40.0,\n  40.0,\n  40.0,\n  40.0,\n  40.0,\n  40.0,\n  40.0,\n  40.0,\n  40.0,\n  40.0,\n  40.0,\n  40.0,\n  40.0,\n  40.0,\n  40.0,\n  40.0,\n  40.0,\n  40.0,\n  40.0,\n  40.0,\n  40.0,\n  40.0,\n  40.0,\n  40.0,\n  40.0,\n  40.0,\n  40.0,\n  40.0,\n  40.0,\n  40.0,\n  40.0,\n  40.0,\n  40.0,\n  40.0,\n  40.0,\n  40.0,\n  40.0,\n  40.0,\n  40.0,\n  40.0,\n  40.0,\n  40.0,\n  40.0,\n  40.0,\n  40.0,\n  40.0,\n  40.0,\n  40.0,\n  40.0,\n  40.0,\n  40.0,\n  40.0,\n  40.0,\n  40.0,\n  40.0,\n  40.0,\n  40.0,\n  40.0,\n  40.0,\n  40.0,\n  40.0,\n  40.0,\n  40.0,\n  40.0,\n  40.0,\n  40.0,\n  40.0,\n  40.0,\n  40.0,\n  40.0,\n  40.0,\n  40.0,\n  40.0,\n  40.0,\n  40.0,\n  40.0,\n  40.0,\n  40.0,\n  40.0,\n  40.0,\n  40.0,\n  40.0,\n  40.0,\n  40.0,\n  40.0,\n  40.0,\n  40.0,\n  40.0,\n  40.0,\n  40.0,\n  40.0,\n  40.0,\n  40.0,\n  40.0,\n  40.0,\n  40.0,\n  40.0,\n  40.0,\n  40.0,\n  40.0,\n  40.0,\n  40.0,\n  40.0,\n  40.0,\n  40.0,\n  40.0,\n  40.0,\n  40.0,\n  40.0,\n  40.0,\n  40.0,\n  40.0,\n  40.0,\n  40.0,\n  40.0,\n  40.0,\n  40.0,\n  40.0,\n  40.0,\n  40.0,\n  40.0,\n  40.0,\n  40.0,\n  40.0,\n  40.0,\n  40.0,\n  40.0,\n  40.0,\n  40.0,\n  40.0,\n  40.0,\n  40.0,\n  40.0,\n  40.0,\n  40.0,\n  40.0,\n  40.0,\n  40.0,\n  40.0,\n  40.0,\n  40.0,\n  40.0,\n  40.0,\n  40.0,\n  40.0,\n  40.0,\n  40.0,\n  40.0,\n  40.0,\n  40.0,\n  40.0,\n  40.0,\n  40.0,\n  40.0,\n  40.0,\n  40.0,\n  40.0,\n  40.0,\n  40.0,\n  40.0,\n  40.0,\n  40.0,\n  40.0,\n  40.0,\n  40.0,\n  40.0,\n  40.0,\n  40.0,\n  40.0,\n  40.0,\n  40.0,\n  40.0,\n  40.0,\n  40.0,\n  40.0,\n  40.0,\n  40.0,\n  40.0,\n  40.0,\n  40.0,\n  40.0,\n  40.0,\n  40.0,\n  40.0,\n  40.0,\n  40.0,\n  40.0,\n  40.0,\n  40.0,\n  40.0,\n  40.0,\n  40.0,\n  40.0,\n  40.0,\n  40.0,\n  40.0,\n  40.0,\n  40.0,\n  40.0,\n  40.0,\n  40.0,\n  40.0,\n  40.0,\n  40.0,\n  40.0,\n  40.0,\n  40.0,\n  40.0,\n  40.0,\n  40.0,\n  40.0,\n  40.0,\n  40.0,\n  40.0,\n  40.0,\n  40.0,\n  40.0,\n  40.0,\n  40.0,\n  40.0,\n  40.0,\n  40.0,\n  40.0,\n  40.0,\n  40.0,\n  40.0,\n  40.0,\n  40.0,\n  40.0,\n  40.0,\n  40.0,\n  40.0,\n  40.0,\n  40.0,\n  40.0,\n  40.0,\n  40.0,\n  40.0,\n  40.0,\n  40.0,\n  40.0,\n  40.0,\n  40.0,\n  40.0,\n  40.0,\n  40.0,\n  40.0,\n  40.0,\n  40.0,\n  40.0,\n  40.0,\n  40.0,\n  40.0,\n  40.0,\n  40.0,\n  40.0,\n  40.0,\n  40.0,\n  40.0,\n  40.0,\n  40.0,\n  40.0,\n  40.0,\n  40.0,\n  40.0,\n  40.0,\n  40.0,\n  40.0,\n  40.0,\n  40.0,\n  40.0,\n  40.0,\n  40.0,\n  40.0,\n  40.0,\n  40.0,\n  40.0,\n  40.0,\n  40.0,\n  40.0,\n  40.0,\n  40.0,\n  40.0,\n  40.0,\n  40.0,\n  40.0,\n  40.0,\n  40.0,\n  40.0,\n  40.0,\n  40.0,\n  40.0,\n  40.0,\n  40.0,\n  40.0,\n  40.0,\n  40.0,\n  40.0,\n  40.0,\n  40.0,\n  40.0,\n  40.0,\n  40.0,\n  40.0,\n  40.0,\n  40.0,\n  40.0,\n  40.0,\n  40.0,\n  40.0,\n  40.0,\n  40.0,\n  40.0,\n  40.0,\n  40.0,\n  40.0,\n  40.0,\n  40.0,\n  40.0,\n  40.0,\n  40.0,\n  40.0,\n  40.0,\n  40.0,\n  40.0,\n  40.0,\n  40.0,\n  40.0,\n  40.0,\n  40.0,\n  40.0,\n  40.0,\n  40.0,\n  40.0,\n  40.0,\n  40.0,\n  40.0,\n  40.0,\n  40.0,\n  40.0,\n  40.0,\n  40.0,\n  40.0,\n  40.0,\n  40.0,\n  40.0,\n  40.0,\n  40.0,\n  40.0,\n  40.0,\n  40.0,\n  40.0,\n  40.0,\n  40.0,\n  40.0,\n  40.0,\n  40.0,\n  40.0,\n  40.0,\n  40.0,\n  40.0,\n  40.0,\n  40.0,\n  40.0,\n  40.0,\n  40.0,\n  40.0,\n  40.0,\n  40.0,\n  40.0,\n  40.0,\n  40.0,\n  40.0,\n  40.0,\n  40.0,\n  40.0,\n  40.0,\n  40.0,\n  40.0,\n  40.0,\n  40.0,\n  40.0,\n  40.0,\n  40.0,\n  40.0,\n  40.0,\n  40.0,\n  40.0,\n  40.0,\n  40.0,\n  40.0,\n  40.0,\n  40.0,\n  40.0,\n  40.0,\n  40.0,\n  40.0,\n  40.0,\n  40.0,\n  40.0,\n  40.0,\n  40.0,\n  40.0,\n  40.0,\n  40.0,\n  40.0,\n  40.0,\n  40.0,\n  40.0,\n  40.0,\n  40.0,\n  40.0,\n  40.0,\n  40.0,\n  40.0,\n  40.0,\n  40.0,\n  40.0,\n  40.0,\n  40.0,\n  40.0,\n  40.0,\n  40.0,\n  40.0,\n  40.0,\n  40.0,\n  40.0,\n  40.0,\n  40.0,\n  40.0,\n  40.0,\n  40.0,\n  40.0,\n  40.0,\n  40.0,\n  40.0,\n  40.0,\n  40.0,\n  40.0,\n  40.0,\n  40.0,\n  40.0,\n  40.0,\n  40.0,\n  40.0,\n  40.0,\n  40.0,\n  40.0,\n  40.0,\n  40.0,\n  40.0,\n  40.0,\n  40.0,\n  40.0,\n  40.0,\n  40.0,\n  40.0,\n  40.0,\n  40.0,\n  40.0,\n  40.0,\n  40.0,\n  40.0,\n  40.0,\n  40.0,\n  40.0,\n  40.0,\n  40.0,\n  40.0,\n  40.0,\n  40.0,\n  40.0,\n  40.0,\n  40.0,\n  40.0,\n  40.0,\n  40.0,\n  40.0,\n  40.0,\n  40.0,\n  40.0,\n  40.0,\n  40.0,\n  40.0,\n  40.0,\n  40.0,\n  40.0,\n  40.0,\n  40.0,\n  40.0,\n  40.0,\n  40.0,\n  40.0,\n  40.0,\n  40.0,\n  40.0,\n  40.0,\n  40.0,\n  40.0,\n  40.0,\n  40.0,\n  40.0,\n  40.0,\n  40.0,\n  40.0,\n  40.0,\n  40.0,\n  40.0,\n  40.0,\n  40.0,\n  40.0,\n  40.0,\n  40.0,\n  40.0,\n  40.0,\n  40.0,\n  40.0,\n  40.0,\n  40.0,\n  40.0,\n  40.0,\n  40.0,\n  40.0,\n  40.0,\n  40.0,\n  40.0,\n  40.0,\n  40.0,\n  40.0,\n  40.0,\n  40.0,\n  40.0,\n  40.0,\n  40.0,\n  40.0,\n  40.0,\n  40.0,\n  40.0,\n  40.0,\n  40.0,\n  40.0,\n  40.0,\n  40.0,\n  40.0,\n  40.0,\n  40.0,\n  40.0,\n  40.0,\n  40.0,\n  40.0,\n  40.0,\n  40.0,\n  40.0,\n  40.0,\n  40.0,\n  40.0,\n  40.0,\n  40.0,\n  40.0,\n  40.0,\n  40.0,\n  40.0,\n  40.0,\n  40.0,\n  40.0,\n  40.0,\n  40.0,\n  40.0,\n  40.0,\n  40.0,\n  40.0,\n  40.0,\n  40.0,\n  40.0,\n  40.0,\n  40.0,\n  40.0,\n  40.0,\n  40.0,\n  40.0,\n  40.0,\n  40.0,\n  40.0,\n  40.0,\n  40.0,\n  40.0,\n  40.0,\n  40.0,\n  40.0,\n  40.0,\n  40.0,\n  40.0,\n  40.0,\n  40.0,\n  40.0,\n  40.0,\n  40.0,\n  40.0,\n  40.0,\n  40.0,\n  40.0,\n  40.0,\n  40.0,\n  40.0,\n  40.0,\n  40.0,\n  40.0,\n  40.0,\n  40.0,\n  40.0,\n  40.0,\n  40.0,\n  40.0,\n  40.0,\n  40.0,\n  40.0,\n  40.0,\n  40.0,\n  40.0,\n  40.0,\n  40.0,\n  40.0,\n  40.0,\n  40.0,\n  40.0,\n  40.0,\n  40.0,\n  40.0,\n  40.0,\n  40.0,\n  40.0,\n  40.0,\n  40.0,\n  40.0,\n  40.0,\n  40.0,\n  40.0,\n  40.0,\n  40.0,\n  40.0,\n  40.0,\n  40.0,\n  40.0,\n  40.0,\n  40.0,\n  40.0,\n  40.0,\n  40.0,\n  40.0,\n  40.0,\n  40.0,\n  40.0,\n  40.0,\n  40.0,\n  40.0,\n  40.0,\n  40.0,\n  40.0,\n  40.0,\n  40.0,\n  40.0,\n  40.0,\n  40.0,\n  40.0,\n  40.0,\n  40.0,\n  40.0,\n  40.0,\n  40.0,\n  40.0,\n  40.0,\n  40.0,\n  40.0,\n  40.0,\n  40.0,\n  40.0,\n  40.0,\n  40.0,\n  40.0,\n  40.0,\n  40.0,\n  40.0,\n  40.0,\n  40.0,\n  40.0,\n  40.0,\n  40.0,\n  40.0,\n  40.0,\n  40.0,\n  40.0,\n  40.0,\n  40.0,\n  40.0,\n  40.0,\n  40.0,\n  40.0,\n  40.0,\n  40.0,\n  40.0,\n  40.0,\n  40.0,\n  40.0,\n  40.0,\n  40.0,\n  40.0,\n  40.0,\n  40.0,\n  40.0,\n  40.0,\n  40.0,\n  40.0,\n  40.0,\n  40.0,\n  40.0,\n  40.0,\n  40.0,\n  40.0,\n  40.0,\n  40.0,\n  40.0,\n  40.0,\n  40.0,\n  40.0,\n  40.0,\n  40.0,\n  40.0,\n  40.0,\n  40.0,\n  40.0,\n  40.0,\n  40.0,\n  40.0,\n  40.0,\n  40.0,\n  40.0,\n  40.0,\n  40.0,\n  40.0,\n  40.0,\n  40.0,\n  40.0,\n  40.0,\n  40.0,\n  40.0,\n  40.0,\n  40.0,\n  40.0,\n  40.0,\n  40.0,\n  40.0,\n  40.0,\n  40.0,\n  40.0,\n  40.0,\n  40.0,\n  40.0,\n  40.0,\n  40.0,\n  40.0,\n  40.0,\n  40.0,\n  40.0,\n  40.0,\n  40.0,\n  40.0,\n  40.0,\n  40.0,\n  40.0,\n  40.0,\n  40.0,\n  40.0,\n  40.0,\n  40.0,\n  40.0,\n  40.0,\n  40.0,\n  40.0,\n  40.0,\n  40.0,\n  40.0,\n  40.0,\n  40.0,\n  40.0,\n  40.0,\n  40.0,\n  40.0,\n  40.0,\n  40.0,\n  40.0,\n  40.0,\n  40.0,\n  40.0,\n  40.0,\n  ...]}"
     },
     "execution_count": 61,
     "metadata": {},
     "output_type": "execute_result"
    }
   ],
   "source": [
    "block.le_jitter_dict"
   ],
   "metadata": {
    "collapsed": false,
    "ExecuteTime": {
     "end_time": "2024-12-28T15:55:18.496911500Z",
     "start_time": "2024-12-28T15:55:18.447425700Z"
    }
   },
   "id": "68ce90edde97255a",
   "execution_count": 61
  },
  {
   "cell_type": "code",
   "outputs": [
    {
     "name": "stdout",
     "output_type": "stream",
     "text": [
      "Swapped 'left_eye' and 'right_eye' data in Z:\\Nimrod\\experiments\\PV_57\\2024_12_01\\block_012\\analysis\\jitter_report_dict.pkl.\n",
      "Updated jitter report saved to Z:\\Nimrod\\experiments\\PV_57\\2024_12_01\\block_012\\analysis\\jitter_report_dict.pkl.\n"
     ]
    }
   ],
   "source": [
    "import pickle\n",
    "from pathlib import Path\n",
    "\n",
    "def swap_jitter_report_eyes_for_block(block):\n",
    "    \"\"\"\n",
    "    Swaps the 'left_eye' and 'right_eye' tags in the jitter_report_dict.pkl file for a specific block.\n",
    "\n",
    "    Args:\n",
    "        block (BlockSync): Block object containing the analysis_path to locate the jitter_report_dict.pkl file.\n",
    "\n",
    "    Returns:\n",
    "        None: Updates the file in place.\n",
    "    \"\"\"\n",
    "    file_path = Path(block.analysis_path) / 'jitter_report_dict.pkl'\n",
    "\n",
    "    if not file_path.exists():\n",
    "        raise FileNotFoundError(f\"Jitter report file {file_path} does not exist.\")\n",
    "\n",
    "    # Load the jitter report dictionary\n",
    "    with open(file_path, 'rb') as f:\n",
    "        jitter_report_dict = pickle.load(f)\n",
    "\n",
    "    # Check that the expected keys are present\n",
    "    if 'left_eye' not in jitter_report_dict or 'right_eye' not in jitter_report_dict:\n",
    "        raise KeyError(\"The keys 'left_eye' and 'right_eye' are not present in the jitter report dictionary.\")\n",
    "\n",
    "    # Swap the data between 'left_eye' and 'right_eye'\n",
    "    jitter_report_dict['left_eye'], jitter_report_dict['right_eye'] = (\n",
    "        jitter_report_dict['right_eye'],\n",
    "        jitter_report_dict['left_eye']\n",
    "    )\n",
    "    print(f\"Swapped 'left_eye' and 'right_eye' data in {file_path}.\")\n",
    "\n",
    "    # Save the updated jitter report dictionary back to the file\n",
    "    with open(file_path, 'wb') as f:\n",
    "        pickle.dump(jitter_report_dict, f)\n",
    "\n",
    "    print(f\"Updated jitter report saved to {file_path}.\")\n",
    "swap_jitter_report_eyes_for_block(block)"
   ],
   "metadata": {
    "collapsed": false,
    "ExecuteTime": {
     "end_time": "2024-12-28T16:59:53.161095100Z",
     "start_time": "2024-12-28T16:59:50.538058500Z"
    }
   },
   "id": "d16f35b21ab84560",
   "execution_count": 63
  },
  {
   "cell_type": "code",
   "outputs": [],
   "source": [
    "block_list = [block_dict['PV_57_block_011'], block_dict['PV_57_block_010']]"
   ],
   "metadata": {
    "collapsed": false,
    "ExecuteTime": {
     "end_time": "2024-12-28T17:05:36.406091700Z",
     "start_time": "2024-12-28T17:05:36.354105300Z"
    }
   },
   "id": "c116f67a37f5eb4d",
   "execution_count": 66
  },
  {
   "cell_type": "code",
   "outputs": [
    {
     "data": {
      "text/plain": "dict_keys(['PV_62_block_023', 'PV_62_block_024', 'PV_62_block_026', 'PV_62_block_038', 'PV_126_block_007', 'PV_126_block_008', 'PV_126_block_009', 'PV_126_block_010', 'PV_126_block_011', 'PV_126_block_012', 'PV_126_block_013', 'PV_57_block_010', 'PV_57_block_011', 'PV_57_block_012'])"
     },
     "execution_count": 64,
     "metadata": {},
     "output_type": "execute_result"
    }
   ],
   "source": [
    "block_dict.keys()"
   ],
   "metadata": {
    "collapsed": false,
    "ExecuteTime": {
     "end_time": "2024-12-28T17:00:27.116448600Z",
     "start_time": "2024-12-28T17:00:27.046785200Z"
    }
   },
   "id": "98cfdbb3321ba95c",
   "execution_count": 64
  },
  {
   "cell_type": "code",
   "outputs": [
    {
     "name": "stdout",
     "output_type": "stream",
     "text": [
      "Swapped 'left_eye' and 'right_eye' data in Z:\\Nimrod\\experiments\\PV_57\\2024_12_01\\block_011\\analysis\\jitter_report_dict.pkl.\n",
      "Updated jitter report saved to Z:\\Nimrod\\experiments\\PV_57\\2024_12_01\\block_011\\analysis\\jitter_report_dict.pkl.\n",
      "Swapped 'left_eye' and 'right_eye' data in Z:\\Nimrod\\experiments\\PV_57\\2024_12_01\\block_010\\analysis\\jitter_report_dict.pkl.\n",
      "Updated jitter report saved to Z:\\Nimrod\\experiments\\PV_57\\2024_12_01\\block_010\\analysis\\jitter_report_dict.pkl.\n"
     ]
    }
   ],
   "source": [
    "for block in block_list:\n",
    "    swap_jitter_report_eyes_for_block(block)"
   ],
   "metadata": {
    "collapsed": false,
    "ExecuteTime": {
     "end_time": "2024-12-28T17:05:42.943738600Z",
     "start_time": "2024-12-28T17:05:39.720789300Z"
    }
   },
   "id": "b48d6f8802571327",
   "execution_count": 67
  },
  {
   "cell_type": "code",
   "outputs": [],
   "source": [],
   "metadata": {
    "collapsed": false
   },
   "id": "ad4aa0f61795c13a"
  },
  {
   "cell_type": "code",
   "outputs": [
    {
     "name": "stdout",
     "output_type": "stream",
     "text": [
      "instantiated block number 001 at Path: Z:\\Nimrod\\experiments\\PV_57\\2024_11_21\\block_001, new OE version\n",
      "Found the sample rate for block 001 in the xml file, it is 20000 Hz\n",
      "created the .oe_rec attribute as an open ephys recording obj with get_data functionality\n",
      "retrieving zertoh sample number for block 001\n",
      "got it!\n",
      "instantiated block number 002 at Path: Z:\\Nimrod\\experiments\\PV_57\\2024_11_21\\block_002, new OE version\n",
      "Found the sample rate for block 002 in the xml file, it is 20000 Hz\n",
      "created the .oe_rec attribute as an open ephys recording obj with get_data functionality\n",
      "retrieving zertoh sample number for block 002\n",
      "got it!\n",
      "instantiated block number 003 at Path: Z:\\Nimrod\\experiments\\PV_57\\2024_11_21\\block_003, new OE version\n",
      "Found the sample rate for block 003 in the xml file, it is 20000 Hz\n",
      "created the .oe_rec attribute as an open ephys recording obj with get_data functionality\n",
      "retrieving zertoh sample number for block 003\n",
      "got it!\n",
      "instantiated block number 004 at Path: Z:\\Nimrod\\experiments\\PV_57\\2024_11_21\\block_004, new OE version\n",
      "Found the sample rate for block 004 in the xml file, it is 20000 Hz\n",
      "created the .oe_rec attribute as an open ephys recording obj with get_data functionality\n",
      "retrieving zertoh sample number for block 004\n",
      "got it!\n",
      "instantiated block number 005 at Path: Z:\\Nimrod\\experiments\\PV_57\\2024_11_25\\block_005, new OE version\n",
      "Found the sample rate for block 005 in the xml file, it is 20000 Hz\n",
      "created the .oe_rec attribute as an open ephys recording obj with get_data functionality\n",
      "retrieving zertoh sample number for block 005\n",
      "got it!\n",
      "instantiated block number 006 at Path: Z:\\Nimrod\\experiments\\PV_57\\2024_11_25\\block_006, new OE version\n",
      "Found the sample rate for block 006 in the xml file, it is 20000 Hz\n",
      "created the .oe_rec attribute as an open ephys recording obj with get_data functionality\n",
      "retrieving zertoh sample number for block 006\n",
      "got it!\n",
      "instantiated block number 007 at Path: Z:\\Nimrod\\experiments\\PV_57\\2024_11_25\\block_007, new OE version\n",
      "Found the sample rate for block 007 in the xml file, it is 20000 Hz\n",
      "created the .oe_rec attribute as an open ephys recording obj with get_data functionality\n",
      "retrieving zertoh sample number for block 007\n",
      "got it!\n",
      "instantiated block number 008 at Path: Z:\\Nimrod\\experiments\\PV_57\\2024_11_25\\block_008, new OE version\n",
      "Found the sample rate for block 008 in the xml file, it is 20000 Hz\n",
      "created the .oe_rec attribute as an open ephys recording obj with get_data functionality\n",
      "retrieving zertoh sample number for block 008\n",
      "got it!\n",
      "instantiated block number 009 at Path: Z:\\Nimrod\\experiments\\PV_57\\2024_11_25\\block_009, new OE version\n",
      "Found the sample rate for block 009 in the xml file, it is 20000 Hz\n",
      "created the .oe_rec attribute as an open ephys recording obj with get_data functionality\n",
      "retrieving zertoh sample number for block 009\n",
      "got it!\n",
      "instantiated block number 013 at Path: Z:\\Nimrod\\experiments\\PV_57\\2024_12_01\\block_013, new OE version\n",
      "Found the sample rate for block 013 in the xml file, it is 20000 Hz\n",
      "created the .oe_rec attribute as an open ephys recording obj with get_data functionality\n",
      "retrieving zertoh sample number for block 013\n",
      "got it!\n"
     ]
    }
   ],
   "source": [
    "\n",
    "# create a multi-animal block_collection:\n",
    "\n",
    "def create_block_collections(animals, block_lists, experiment_path, bad_blocks=None):\n",
    "    \"\"\"\n",
    "    Create block collections and a block dictionary from multiple animals and their respective block lists.\n",
    "\n",
    "    Parameters:\n",
    "    - animals: list of str, names of the animals.\n",
    "    - block_lists: list of lists of int, block numbers corresponding to each animal.\n",
    "    - experiment_path: pathlib.Path, path to the experiment directory.\n",
    "    - bad_blocks: list of int, blocks to exclude. Default is an empty list.\n",
    "\n",
    "    Returns:\n",
    "    - block_collection: list of BlockSync objects for all specified blocks.\n",
    "    - block_dict: dictionary where keys are block numbers as strings and values are BlockSync objects.\n",
    "    \"\"\"\n",
    "    import UtilityFunctions_newOE as uf\n",
    "\n",
    "    if bad_blocks is None:\n",
    "        bad_blocks = []\n",
    "\n",
    "    block_collection = []\n",
    "    block_dict = {}\n",
    "\n",
    "    for animal, blocks in zip(animals, block_lists):\n",
    "        # Generate blocks for the current animal\n",
    "        current_blocks = uf.block_generator(\n",
    "            block_numbers=blocks,\n",
    "            experiment_path=experiment_path,\n",
    "            animal=animal,\n",
    "            bad_blocks=bad_blocks\n",
    "        )\n",
    "        # Add to collection and dictionary\n",
    "        block_collection.extend(current_blocks)\n",
    "        for b in current_blocks:\n",
    "            block_dict[f\"{animal}_block_{b.block_num}\"] = b\n",
    "\n",
    "    return block_collection, block_dict\n",
    "\n",
    "\n",
    "# Example usage:\n",
    "animals = ['PV_57']\n",
    "block_lists = [[1,2,3,4,5,6,7,8,9,13,14]]\n",
    "experiment_path = pathlib.Path(r\"Z:\\Nimrod\\experiments\")\n",
    "bad_blocks = [0]  # Example of bad blocks\n",
    "\n",
    "block_collection, block_dict = create_block_collections(\n",
    "    animals=animals,\n",
    "    block_lists=block_lists,\n",
    "    experiment_path=experiment_path,\n",
    "    bad_blocks=bad_blocks\n",
    ")"
   ],
   "metadata": {
    "collapsed": false,
    "ExecuteTime": {
     "end_time": "2024-12-28T17:07:38.772373800Z",
     "start_time": "2024-12-28T17:07:37.679603400Z"
    }
   },
   "id": "d570aa10f5609b84",
   "execution_count": 69
  },
  {
   "cell_type": "code",
   "outputs": [
    {
     "name": "stdout",
     "output_type": "stream",
     "text": [
      "working on PV_57, block 001, on pv_57_trial01_2024-11-21_15-32-31...\n",
      "\n",
      "Block 001 - Confirmation Required\n",
      "Files to be moved from Left Eye folder to Right Eye folder:\n",
      "  - Z:\\Nimrod\\experiments\\PV_57\\2024_11_21\\block_001\\eye_videos\\LE\\pv_57_single_print_01_640x480_60hz_experiment_1_recording_0\\pv_57_single_print_01.h264\n",
      "  - Z:\\Nimrod\\experiments\\PV_57\\2024_11_21\\block_001\\eye_videos\\LE\\pv_57_single_print_01_640x480_60hz_experiment_1_recording_0\\pv_57_single_print_01_LE.mp4\n",
      "  - Z:\\Nimrod\\experiments\\PV_57\\2024_11_21\\block_001\\eye_videos\\LE\\pv_57_single_print_01_640x480_60hz_experiment_1_recording_0\\pv_57_single_print_01_LEDLC_resnet_50_Eye_Tracking_piplineMar1shuffle1_950000.csv\n",
      "  - Z:\\Nimrod\\experiments\\PV_57\\2024_11_21\\block_001\\eye_videos\\LE\\pv_57_single_print_01_640x480_60hz_experiment_1_recording_0\\pv_57_single_print_01_LEDLC_resnet_50_Eye_Tracking_piplineMar1shuffle1_950000.h5\n",
      "  - Z:\\Nimrod\\experiments\\PV_57\\2024_11_21\\block_001\\eye_videos\\LE\\pv_57_single_print_01_640x480_60hz_experiment_1_recording_0\\pv_57_single_print_01_LEDLC_resnet_50_Eye_Tracking_piplineMar1shuffle1_950000_labeled_LE.mp4\n",
      "  - Z:\\Nimrod\\experiments\\PV_57\\2024_11_21\\block_001\\eye_videos\\LE\\pv_57_single_print_01_640x480_60hz_experiment_1_recording_0\\pv_57_single_print_01_LEDLC_resnet_50_Eye_Tracking_piplineMar1shuffle1_950000_meta.pickle\n",
      "  - Z:\\Nimrod\\experiments\\PV_57\\2024_11_21\\block_001\\eye_videos\\LE\\pv_57_single_print_01_640x480_60hz_experiment_1_recording_0\\pv_57_single_print_01_params.json\n",
      "  - Z:\\Nimrod\\experiments\\PV_57\\2024_11_21\\block_001\\eye_videos\\LE\\pv_57_single_print_01_640x480_60hz_experiment_1_recording_0\\pv_57_single_print_01_timestamps.csv\n",
      "Files to be moved from Right Eye folder to Left Eye folder:\n",
      "  - Z:\\Nimrod\\experiments\\PV_57\\2024_11_21\\block_001\\eye_videos\\RE\\pv_57_single_print_01_640x480_60hz_experiment_1_recording_0\\pv_57_single_print_01.h264\n",
      "  - Z:\\Nimrod\\experiments\\PV_57\\2024_11_21\\block_001\\eye_videos\\RE\\pv_57_single_print_01_640x480_60hz_experiment_1_recording_0\\pv_57_single_print_01.mp4\n",
      "  - Z:\\Nimrod\\experiments\\PV_57\\2024_11_21\\block_001\\eye_videos\\RE\\pv_57_single_print_01_640x480_60hz_experiment_1_recording_0\\pv_57_single_print_01_params.json\n",
      "  - Z:\\Nimrod\\experiments\\PV_57\\2024_11_21\\block_001\\eye_videos\\RE\\pv_57_single_print_01_640x480_60hz_experiment_1_recording_0\\pv_57_single_print_01_RE.mp4\n",
      "  - Z:\\Nimrod\\experiments\\PV_57\\2024_11_21\\block_001\\eye_videos\\RE\\pv_57_single_print_01_640x480_60hz_experiment_1_recording_0\\pv_57_single_print_01_REDLC_resnet_50_Eye_Tracking_piplineMar1shuffle1_950000.csv\n",
      "  - Z:\\Nimrod\\experiments\\PV_57\\2024_11_21\\block_001\\eye_videos\\RE\\pv_57_single_print_01_640x480_60hz_experiment_1_recording_0\\pv_57_single_print_01_REDLC_resnet_50_Eye_Tracking_piplineMar1shuffle1_950000.h5\n",
      "  - Z:\\Nimrod\\experiments\\PV_57\\2024_11_21\\block_001\\eye_videos\\RE\\pv_57_single_print_01_640x480_60hz_experiment_1_recording_0\\pv_57_single_print_01_REDLC_resnet_50_Eye_Tracking_piplineMar1shuffle1_950000_labeled.mp4\n",
      "  - Z:\\Nimrod\\experiments\\PV_57\\2024_11_21\\block_001\\eye_videos\\RE\\pv_57_single_print_01_640x480_60hz_experiment_1_recording_0\\pv_57_single_print_01_REDLC_resnet_50_Eye_Tracking_piplineMar1shuffle1_950000_meta.pickle\n",
      "  - Z:\\Nimrod\\experiments\\PV_57\\2024_11_21\\block_001\\eye_videos\\RE\\pv_57_single_print_01_640x480_60hz_experiment_1_recording_0\\pv_57_single_print_01_timestamps.csv\n",
      "Temporarily moved Z:\\Nimrod\\experiments\\PV_57\\2024_11_21\\block_001\\eye_videos\\LE\\pv_57_single_print_01_640x480_60hz_experiment_1_recording_0\\pv_57_single_print_01.h264 to Z:\\Nimrod\\experiments\\PV_57\\2024_11_21\\block_001\\eye_videos\\RE\\pv_57_single_print_01_640x480_60hz_experiment_1_recording_0\\pv_57_single_print_01_temp.h264\n",
      "Temporarily moved Z:\\Nimrod\\experiments\\PV_57\\2024_11_21\\block_001\\eye_videos\\LE\\pv_57_single_print_01_640x480_60hz_experiment_1_recording_0\\pv_57_single_print_01_LE.mp4 to Z:\\Nimrod\\experiments\\PV_57\\2024_11_21\\block_001\\eye_videos\\RE\\pv_57_single_print_01_640x480_60hz_experiment_1_recording_0\\pv_57_single_print_01_LE_temp.mp4\n",
      "Temporarily moved Z:\\Nimrod\\experiments\\PV_57\\2024_11_21\\block_001\\eye_videos\\LE\\pv_57_single_print_01_640x480_60hz_experiment_1_recording_0\\pv_57_single_print_01_LEDLC_resnet_50_Eye_Tracking_piplineMar1shuffle1_950000.csv to Z:\\Nimrod\\experiments\\PV_57\\2024_11_21\\block_001\\eye_videos\\RE\\pv_57_single_print_01_640x480_60hz_experiment_1_recording_0\\pv_57_single_print_01_LEDLC_resnet_50_Eye_Tracking_piplineMar1shuffle1_950000_temp.csv\n",
      "Temporarily moved Z:\\Nimrod\\experiments\\PV_57\\2024_11_21\\block_001\\eye_videos\\LE\\pv_57_single_print_01_640x480_60hz_experiment_1_recording_0\\pv_57_single_print_01_LEDLC_resnet_50_Eye_Tracking_piplineMar1shuffle1_950000.h5 to Z:\\Nimrod\\experiments\\PV_57\\2024_11_21\\block_001\\eye_videos\\RE\\pv_57_single_print_01_640x480_60hz_experiment_1_recording_0\\pv_57_single_print_01_LEDLC_resnet_50_Eye_Tracking_piplineMar1shuffle1_950000_temp.h5\n",
      "Temporarily moved Z:\\Nimrod\\experiments\\PV_57\\2024_11_21\\block_001\\eye_videos\\LE\\pv_57_single_print_01_640x480_60hz_experiment_1_recording_0\\pv_57_single_print_01_LEDLC_resnet_50_Eye_Tracking_piplineMar1shuffle1_950000_labeled_LE.mp4 to Z:\\Nimrod\\experiments\\PV_57\\2024_11_21\\block_001\\eye_videos\\RE\\pv_57_single_print_01_640x480_60hz_experiment_1_recording_0\\pv_57_single_print_01_LEDLC_resnet_50_Eye_Tracking_piplineMar1shuffle1_950000_labeled_LE_temp.mp4\n",
      "Temporarily moved Z:\\Nimrod\\experiments\\PV_57\\2024_11_21\\block_001\\eye_videos\\LE\\pv_57_single_print_01_640x480_60hz_experiment_1_recording_0\\pv_57_single_print_01_LEDLC_resnet_50_Eye_Tracking_piplineMar1shuffle1_950000_meta.pickle to Z:\\Nimrod\\experiments\\PV_57\\2024_11_21\\block_001\\eye_videos\\RE\\pv_57_single_print_01_640x480_60hz_experiment_1_recording_0\\pv_57_single_print_01_LEDLC_resnet_50_Eye_Tracking_piplineMar1shuffle1_950000_meta_temp.pickle\n",
      "Temporarily moved Z:\\Nimrod\\experiments\\PV_57\\2024_11_21\\block_001\\eye_videos\\LE\\pv_57_single_print_01_640x480_60hz_experiment_1_recording_0\\pv_57_single_print_01_params.json to Z:\\Nimrod\\experiments\\PV_57\\2024_11_21\\block_001\\eye_videos\\RE\\pv_57_single_print_01_640x480_60hz_experiment_1_recording_0\\pv_57_single_print_01_params_temp.json\n",
      "Temporarily moved Z:\\Nimrod\\experiments\\PV_57\\2024_11_21\\block_001\\eye_videos\\LE\\pv_57_single_print_01_640x480_60hz_experiment_1_recording_0\\pv_57_single_print_01_timestamps.csv to Z:\\Nimrod\\experiments\\PV_57\\2024_11_21\\block_001\\eye_videos\\RE\\pv_57_single_print_01_640x480_60hz_experiment_1_recording_0\\pv_57_single_print_01_timestamps_temp.csv\n",
      "Temporarily moved Z:\\Nimrod\\experiments\\PV_57\\2024_11_21\\block_001\\eye_videos\\RE\\pv_57_single_print_01_640x480_60hz_experiment_1_recording_0\\pv_57_single_print_01.h264 to Z:\\Nimrod\\experiments\\PV_57\\2024_11_21\\block_001\\eye_videos\\LE\\pv_57_single_print_01_640x480_60hz_experiment_1_recording_0\\pv_57_single_print_01_temp.h264\n",
      "Temporarily moved Z:\\Nimrod\\experiments\\PV_57\\2024_11_21\\block_001\\eye_videos\\RE\\pv_57_single_print_01_640x480_60hz_experiment_1_recording_0\\pv_57_single_print_01.mp4 to Z:\\Nimrod\\experiments\\PV_57\\2024_11_21\\block_001\\eye_videos\\LE\\pv_57_single_print_01_640x480_60hz_experiment_1_recording_0\\pv_57_single_print_01_temp.mp4\n",
      "Temporarily moved Z:\\Nimrod\\experiments\\PV_57\\2024_11_21\\block_001\\eye_videos\\RE\\pv_57_single_print_01_640x480_60hz_experiment_1_recording_0\\pv_57_single_print_01_params.json to Z:\\Nimrod\\experiments\\PV_57\\2024_11_21\\block_001\\eye_videos\\LE\\pv_57_single_print_01_640x480_60hz_experiment_1_recording_0\\pv_57_single_print_01_params_temp.json\n",
      "Temporarily moved Z:\\Nimrod\\experiments\\PV_57\\2024_11_21\\block_001\\eye_videos\\RE\\pv_57_single_print_01_640x480_60hz_experiment_1_recording_0\\pv_57_single_print_01_RE.mp4 to Z:\\Nimrod\\experiments\\PV_57\\2024_11_21\\block_001\\eye_videos\\LE\\pv_57_single_print_01_640x480_60hz_experiment_1_recording_0\\pv_57_single_print_01_RE_temp.mp4\n",
      "Temporarily moved Z:\\Nimrod\\experiments\\PV_57\\2024_11_21\\block_001\\eye_videos\\RE\\pv_57_single_print_01_640x480_60hz_experiment_1_recording_0\\pv_57_single_print_01_REDLC_resnet_50_Eye_Tracking_piplineMar1shuffle1_950000.csv to Z:\\Nimrod\\experiments\\PV_57\\2024_11_21\\block_001\\eye_videos\\LE\\pv_57_single_print_01_640x480_60hz_experiment_1_recording_0\\pv_57_single_print_01_REDLC_resnet_50_Eye_Tracking_piplineMar1shuffle1_950000_temp.csv\n",
      "Temporarily moved Z:\\Nimrod\\experiments\\PV_57\\2024_11_21\\block_001\\eye_videos\\RE\\pv_57_single_print_01_640x480_60hz_experiment_1_recording_0\\pv_57_single_print_01_REDLC_resnet_50_Eye_Tracking_piplineMar1shuffle1_950000.h5 to Z:\\Nimrod\\experiments\\PV_57\\2024_11_21\\block_001\\eye_videos\\LE\\pv_57_single_print_01_640x480_60hz_experiment_1_recording_0\\pv_57_single_print_01_REDLC_resnet_50_Eye_Tracking_piplineMar1shuffle1_950000_temp.h5\n",
      "Temporarily moved Z:\\Nimrod\\experiments\\PV_57\\2024_11_21\\block_001\\eye_videos\\RE\\pv_57_single_print_01_640x480_60hz_experiment_1_recording_0\\pv_57_single_print_01_REDLC_resnet_50_Eye_Tracking_piplineMar1shuffle1_950000_labeled.mp4 to Z:\\Nimrod\\experiments\\PV_57\\2024_11_21\\block_001\\eye_videos\\LE\\pv_57_single_print_01_640x480_60hz_experiment_1_recording_0\\pv_57_single_print_01_REDLC_resnet_50_Eye_Tracking_piplineMar1shuffle1_950000_labeled_temp.mp4\n",
      "Temporarily moved Z:\\Nimrod\\experiments\\PV_57\\2024_11_21\\block_001\\eye_videos\\RE\\pv_57_single_print_01_640x480_60hz_experiment_1_recording_0\\pv_57_single_print_01_REDLC_resnet_50_Eye_Tracking_piplineMar1shuffle1_950000_meta.pickle to Z:\\Nimrod\\experiments\\PV_57\\2024_11_21\\block_001\\eye_videos\\LE\\pv_57_single_print_01_640x480_60hz_experiment_1_recording_0\\pv_57_single_print_01_REDLC_resnet_50_Eye_Tracking_piplineMar1shuffle1_950000_meta_temp.pickle\n",
      "Temporarily moved Z:\\Nimrod\\experiments\\PV_57\\2024_11_21\\block_001\\eye_videos\\RE\\pv_57_single_print_01_640x480_60hz_experiment_1_recording_0\\pv_57_single_print_01_timestamps.csv to Z:\\Nimrod\\experiments\\PV_57\\2024_11_21\\block_001\\eye_videos\\LE\\pv_57_single_print_01_640x480_60hz_experiment_1_recording_0\\pv_57_single_print_01_timestamps_temp.csv\n",
      "Restored name Z:\\Nimrod\\experiments\\PV_57\\2024_11_21\\block_001\\eye_videos\\RE\\pv_57_single_print_01_640x480_60hz_experiment_1_recording_0\\pv_57_single_print_01_LEDLC_resnet_50_Eye_Tracking_piplineMar1shuffle1_950000_labeled_LE_temp.mp4 to Z:\\Nimrod\\experiments\\PV_57\\2024_11_21\\block_001\\eye_videos\\RE\\pv_57_single_print_01_640x480_60hz_experiment_1_recording_0\\pv_57_single_print_01_LEDLC_resnet_50_Eye_Tracking_piplineMar1shuffle1_950000_labeled_LE.mp4\n",
      "Renamed Z:\\Nimrod\\experiments\\PV_57\\2024_11_21\\block_001\\eye_videos\\RE\\pv_57_single_print_01_640x480_60hz_experiment_1_recording_0\\pv_57_single_print_01_LEDLC_resnet_50_Eye_Tracking_piplineMar1shuffle1_950000_labeled_LE.mp4 to Z:\\Nimrod\\experiments\\PV_57\\2024_11_21\\block_001\\eye_videos\\RE\\pv_57_single_print_01_640x480_60hz_experiment_1_recording_0\\pv_57_single_print_01_REDLC_resnet_50_Eye_Tracking_piplineMar1shuffle1_950000_labeled_RE.mp4\n",
      "Restored name Z:\\Nimrod\\experiments\\PV_57\\2024_11_21\\block_001\\eye_videos\\RE\\pv_57_single_print_01_640x480_60hz_experiment_1_recording_0\\pv_57_single_print_01_LEDLC_resnet_50_Eye_Tracking_piplineMar1shuffle1_950000_meta_temp.pickle to Z:\\Nimrod\\experiments\\PV_57\\2024_11_21\\block_001\\eye_videos\\RE\\pv_57_single_print_01_640x480_60hz_experiment_1_recording_0\\pv_57_single_print_01_LEDLC_resnet_50_Eye_Tracking_piplineMar1shuffle1_950000_meta.pickle\n",
      "Renamed Z:\\Nimrod\\experiments\\PV_57\\2024_11_21\\block_001\\eye_videos\\RE\\pv_57_single_print_01_640x480_60hz_experiment_1_recording_0\\pv_57_single_print_01_LEDLC_resnet_50_Eye_Tracking_piplineMar1shuffle1_950000_meta.pickle to Z:\\Nimrod\\experiments\\PV_57\\2024_11_21\\block_001\\eye_videos\\RE\\pv_57_single_print_01_640x480_60hz_experiment_1_recording_0\\pv_57_single_print_01_REDLC_resnet_50_Eye_Tracking_piplineMar1shuffle1_950000_meta.pickle\n",
      "Restored name Z:\\Nimrod\\experiments\\PV_57\\2024_11_21\\block_001\\eye_videos\\RE\\pv_57_single_print_01_640x480_60hz_experiment_1_recording_0\\pv_57_single_print_01_LEDLC_resnet_50_Eye_Tracking_piplineMar1shuffle1_950000_temp.csv to Z:\\Nimrod\\experiments\\PV_57\\2024_11_21\\block_001\\eye_videos\\RE\\pv_57_single_print_01_640x480_60hz_experiment_1_recording_0\\pv_57_single_print_01_LEDLC_resnet_50_Eye_Tracking_piplineMar1shuffle1_950000.csv\n",
      "Renamed Z:\\Nimrod\\experiments\\PV_57\\2024_11_21\\block_001\\eye_videos\\RE\\pv_57_single_print_01_640x480_60hz_experiment_1_recording_0\\pv_57_single_print_01_LEDLC_resnet_50_Eye_Tracking_piplineMar1shuffle1_950000.csv to Z:\\Nimrod\\experiments\\PV_57\\2024_11_21\\block_001\\eye_videos\\RE\\pv_57_single_print_01_640x480_60hz_experiment_1_recording_0\\pv_57_single_print_01_REDLC_resnet_50_Eye_Tracking_piplineMar1shuffle1_950000.csv\n",
      "Restored name Z:\\Nimrod\\experiments\\PV_57\\2024_11_21\\block_001\\eye_videos\\RE\\pv_57_single_print_01_640x480_60hz_experiment_1_recording_0\\pv_57_single_print_01_LEDLC_resnet_50_Eye_Tracking_piplineMar1shuffle1_950000_temp.h5 to Z:\\Nimrod\\experiments\\PV_57\\2024_11_21\\block_001\\eye_videos\\RE\\pv_57_single_print_01_640x480_60hz_experiment_1_recording_0\\pv_57_single_print_01_LEDLC_resnet_50_Eye_Tracking_piplineMar1shuffle1_950000.h5\n",
      "Renamed Z:\\Nimrod\\experiments\\PV_57\\2024_11_21\\block_001\\eye_videos\\RE\\pv_57_single_print_01_640x480_60hz_experiment_1_recording_0\\pv_57_single_print_01_LEDLC_resnet_50_Eye_Tracking_piplineMar1shuffle1_950000.h5 to Z:\\Nimrod\\experiments\\PV_57\\2024_11_21\\block_001\\eye_videos\\RE\\pv_57_single_print_01_640x480_60hz_experiment_1_recording_0\\pv_57_single_print_01_REDLC_resnet_50_Eye_Tracking_piplineMar1shuffle1_950000.h5\n",
      "Restored name Z:\\Nimrod\\experiments\\PV_57\\2024_11_21\\block_001\\eye_videos\\RE\\pv_57_single_print_01_640x480_60hz_experiment_1_recording_0\\pv_57_single_print_01_LE_temp.mp4 to Z:\\Nimrod\\experiments\\PV_57\\2024_11_21\\block_001\\eye_videos\\RE\\pv_57_single_print_01_640x480_60hz_experiment_1_recording_0\\pv_57_single_print_01_LE.mp4\n",
      "Renamed Z:\\Nimrod\\experiments\\PV_57\\2024_11_21\\block_001\\eye_videos\\RE\\pv_57_single_print_01_640x480_60hz_experiment_1_recording_0\\pv_57_single_print_01_LE.mp4 to Z:\\Nimrod\\experiments\\PV_57\\2024_11_21\\block_001\\eye_videos\\RE\\pv_57_single_print_01_640x480_60hz_experiment_1_recording_0\\pv_57_single_print_01_RE.mp4\n",
      "Restored name Z:\\Nimrod\\experiments\\PV_57\\2024_11_21\\block_001\\eye_videos\\RE\\pv_57_single_print_01_640x480_60hz_experiment_1_recording_0\\pv_57_single_print_01_params_temp.json to Z:\\Nimrod\\experiments\\PV_57\\2024_11_21\\block_001\\eye_videos\\RE\\pv_57_single_print_01_640x480_60hz_experiment_1_recording_0\\pv_57_single_print_01_params.json\n",
      "Restored name Z:\\Nimrod\\experiments\\PV_57\\2024_11_21\\block_001\\eye_videos\\RE\\pv_57_single_print_01_640x480_60hz_experiment_1_recording_0\\pv_57_single_print_01_temp.h264 to Z:\\Nimrod\\experiments\\PV_57\\2024_11_21\\block_001\\eye_videos\\RE\\pv_57_single_print_01_640x480_60hz_experiment_1_recording_0\\pv_57_single_print_01.h264\n",
      "Restored name Z:\\Nimrod\\experiments\\PV_57\\2024_11_21\\block_001\\eye_videos\\RE\\pv_57_single_print_01_640x480_60hz_experiment_1_recording_0\\pv_57_single_print_01_timestamps_temp.csv to Z:\\Nimrod\\experiments\\PV_57\\2024_11_21\\block_001\\eye_videos\\RE\\pv_57_single_print_01_640x480_60hz_experiment_1_recording_0\\pv_57_single_print_01_timestamps.csv\n",
      "Restored name Z:\\Nimrod\\experiments\\PV_57\\2024_11_21\\block_001\\eye_videos\\LE\\pv_57_single_print_01_640x480_60hz_experiment_1_recording_0\\pv_57_single_print_01_params_temp.json to Z:\\Nimrod\\experiments\\PV_57\\2024_11_21\\block_001\\eye_videos\\LE\\pv_57_single_print_01_640x480_60hz_experiment_1_recording_0\\pv_57_single_print_01_params.json\n",
      "Restored name Z:\\Nimrod\\experiments\\PV_57\\2024_11_21\\block_001\\eye_videos\\LE\\pv_57_single_print_01_640x480_60hz_experiment_1_recording_0\\pv_57_single_print_01_REDLC_resnet_50_Eye_Tracking_piplineMar1shuffle1_950000_labeled_temp.mp4 to Z:\\Nimrod\\experiments\\PV_57\\2024_11_21\\block_001\\eye_videos\\LE\\pv_57_single_print_01_640x480_60hz_experiment_1_recording_0\\pv_57_single_print_01_REDLC_resnet_50_Eye_Tracking_piplineMar1shuffle1_950000_labeled.mp4\n",
      "Renamed Z:\\Nimrod\\experiments\\PV_57\\2024_11_21\\block_001\\eye_videos\\LE\\pv_57_single_print_01_640x480_60hz_experiment_1_recording_0\\pv_57_single_print_01_REDLC_resnet_50_Eye_Tracking_piplineMar1shuffle1_950000_labeled.mp4 to Z:\\Nimrod\\experiments\\PV_57\\2024_11_21\\block_001\\eye_videos\\LE\\pv_57_single_print_01_640x480_60hz_experiment_1_recording_0\\pv_57_single_print_01_LEDLC_resnet_50_Eye_Tracking_piplineMar1shuffle1_950000_labeled.mp4\n",
      "Restored name Z:\\Nimrod\\experiments\\PV_57\\2024_11_21\\block_001\\eye_videos\\LE\\pv_57_single_print_01_640x480_60hz_experiment_1_recording_0\\pv_57_single_print_01_REDLC_resnet_50_Eye_Tracking_piplineMar1shuffle1_950000_meta_temp.pickle to Z:\\Nimrod\\experiments\\PV_57\\2024_11_21\\block_001\\eye_videos\\LE\\pv_57_single_print_01_640x480_60hz_experiment_1_recording_0\\pv_57_single_print_01_REDLC_resnet_50_Eye_Tracking_piplineMar1shuffle1_950000_meta.pickle\n",
      "Renamed Z:\\Nimrod\\experiments\\PV_57\\2024_11_21\\block_001\\eye_videos\\LE\\pv_57_single_print_01_640x480_60hz_experiment_1_recording_0\\pv_57_single_print_01_REDLC_resnet_50_Eye_Tracking_piplineMar1shuffle1_950000_meta.pickle to Z:\\Nimrod\\experiments\\PV_57\\2024_11_21\\block_001\\eye_videos\\LE\\pv_57_single_print_01_640x480_60hz_experiment_1_recording_0\\pv_57_single_print_01_LEDLC_resnet_50_Eye_Tracking_piplineMar1shuffle1_950000_meta.pickle\n",
      "Restored name Z:\\Nimrod\\experiments\\PV_57\\2024_11_21\\block_001\\eye_videos\\LE\\pv_57_single_print_01_640x480_60hz_experiment_1_recording_0\\pv_57_single_print_01_REDLC_resnet_50_Eye_Tracking_piplineMar1shuffle1_950000_temp.csv to Z:\\Nimrod\\experiments\\PV_57\\2024_11_21\\block_001\\eye_videos\\LE\\pv_57_single_print_01_640x480_60hz_experiment_1_recording_0\\pv_57_single_print_01_REDLC_resnet_50_Eye_Tracking_piplineMar1shuffle1_950000.csv\n",
      "Renamed Z:\\Nimrod\\experiments\\PV_57\\2024_11_21\\block_001\\eye_videos\\LE\\pv_57_single_print_01_640x480_60hz_experiment_1_recording_0\\pv_57_single_print_01_REDLC_resnet_50_Eye_Tracking_piplineMar1shuffle1_950000.csv to Z:\\Nimrod\\experiments\\PV_57\\2024_11_21\\block_001\\eye_videos\\LE\\pv_57_single_print_01_640x480_60hz_experiment_1_recording_0\\pv_57_single_print_01_LEDLC_resnet_50_Eye_Tracking_piplineMar1shuffle1_950000.csv\n",
      "Restored name Z:\\Nimrod\\experiments\\PV_57\\2024_11_21\\block_001\\eye_videos\\LE\\pv_57_single_print_01_640x480_60hz_experiment_1_recording_0\\pv_57_single_print_01_REDLC_resnet_50_Eye_Tracking_piplineMar1shuffle1_950000_temp.h5 to Z:\\Nimrod\\experiments\\PV_57\\2024_11_21\\block_001\\eye_videos\\LE\\pv_57_single_print_01_640x480_60hz_experiment_1_recording_0\\pv_57_single_print_01_REDLC_resnet_50_Eye_Tracking_piplineMar1shuffle1_950000.h5\n",
      "Renamed Z:\\Nimrod\\experiments\\PV_57\\2024_11_21\\block_001\\eye_videos\\LE\\pv_57_single_print_01_640x480_60hz_experiment_1_recording_0\\pv_57_single_print_01_REDLC_resnet_50_Eye_Tracking_piplineMar1shuffle1_950000.h5 to Z:\\Nimrod\\experiments\\PV_57\\2024_11_21\\block_001\\eye_videos\\LE\\pv_57_single_print_01_640x480_60hz_experiment_1_recording_0\\pv_57_single_print_01_LEDLC_resnet_50_Eye_Tracking_piplineMar1shuffle1_950000.h5\n",
      "Restored name Z:\\Nimrod\\experiments\\PV_57\\2024_11_21\\block_001\\eye_videos\\LE\\pv_57_single_print_01_640x480_60hz_experiment_1_recording_0\\pv_57_single_print_01_RE_temp.mp4 to Z:\\Nimrod\\experiments\\PV_57\\2024_11_21\\block_001\\eye_videos\\LE\\pv_57_single_print_01_640x480_60hz_experiment_1_recording_0\\pv_57_single_print_01_RE.mp4\n",
      "Renamed Z:\\Nimrod\\experiments\\PV_57\\2024_11_21\\block_001\\eye_videos\\LE\\pv_57_single_print_01_640x480_60hz_experiment_1_recording_0\\pv_57_single_print_01_RE.mp4 to Z:\\Nimrod\\experiments\\PV_57\\2024_11_21\\block_001\\eye_videos\\LE\\pv_57_single_print_01_640x480_60hz_experiment_1_recording_0\\pv_57_single_print_01_LE.mp4\n",
      "Restored name Z:\\Nimrod\\experiments\\PV_57\\2024_11_21\\block_001\\eye_videos\\LE\\pv_57_single_print_01_640x480_60hz_experiment_1_recording_0\\pv_57_single_print_01_temp.h264 to Z:\\Nimrod\\experiments\\PV_57\\2024_11_21\\block_001\\eye_videos\\LE\\pv_57_single_print_01_640x480_60hz_experiment_1_recording_0\\pv_57_single_print_01.h264\n",
      "Restored name Z:\\Nimrod\\experiments\\PV_57\\2024_11_21\\block_001\\eye_videos\\LE\\pv_57_single_print_01_640x480_60hz_experiment_1_recording_0\\pv_57_single_print_01_temp.mp4 to Z:\\Nimrod\\experiments\\PV_57\\2024_11_21\\block_001\\eye_videos\\LE\\pv_57_single_print_01_640x480_60hz_experiment_1_recording_0\\pv_57_single_print_01.mp4\n",
      "Restored name Z:\\Nimrod\\experiments\\PV_57\\2024_11_21\\block_001\\eye_videos\\LE\\pv_57_single_print_01_640x480_60hz_experiment_1_recording_0\\pv_57_single_print_01_timestamps_temp.csv to Z:\\Nimrod\\experiments\\PV_57\\2024_11_21\\block_001\\eye_videos\\LE\\pv_57_single_print_01_640x480_60hz_experiment_1_recording_0\\pv_57_single_print_01_timestamps.csv\n",
      "Completed swapping and renaming for block 001\n",
      "working on PV_57, block 002, on pv_57_trial02_2024-11-21_15-55-01...\n",
      "\n",
      "Block 002 - Confirmation Required\n",
      "Files to be moved from Left Eye folder to Right Eye folder:\n",
      "  - Z:\\Nimrod\\experiments\\PV_57\\2024_11_21\\block_002\\eye_videos\\LE\\pv_57_single_print_02_640x480_60hz_experiment_1_recording_0\\pv_57_single_print_02.h264\n",
      "  - Z:\\Nimrod\\experiments\\PV_57\\2024_11_21\\block_002\\eye_videos\\LE\\pv_57_single_print_02_640x480_60hz_experiment_1_recording_0\\pv_57_single_print_02_LE.mp4\n",
      "  - Z:\\Nimrod\\experiments\\PV_57\\2024_11_21\\block_002\\eye_videos\\LE\\pv_57_single_print_02_640x480_60hz_experiment_1_recording_0\\pv_57_single_print_02_LEDLC_resnet_50_Eye_Tracking_piplineMar1shuffle1_950000.csv\n",
      "  - Z:\\Nimrod\\experiments\\PV_57\\2024_11_21\\block_002\\eye_videos\\LE\\pv_57_single_print_02_640x480_60hz_experiment_1_recording_0\\pv_57_single_print_02_LEDLC_resnet_50_Eye_Tracking_piplineMar1shuffle1_950000.h5\n",
      "  - Z:\\Nimrod\\experiments\\PV_57\\2024_11_21\\block_002\\eye_videos\\LE\\pv_57_single_print_02_640x480_60hz_experiment_1_recording_0\\pv_57_single_print_02_LEDLC_resnet_50_Eye_Tracking_piplineMar1shuffle1_950000_labeled_LE.mp4\n",
      "  - Z:\\Nimrod\\experiments\\PV_57\\2024_11_21\\block_002\\eye_videos\\LE\\pv_57_single_print_02_640x480_60hz_experiment_1_recording_0\\pv_57_single_print_02_LEDLC_resnet_50_Eye_Tracking_piplineMar1shuffle1_950000_meta.pickle\n",
      "  - Z:\\Nimrod\\experiments\\PV_57\\2024_11_21\\block_002\\eye_videos\\LE\\pv_57_single_print_02_640x480_60hz_experiment_1_recording_0\\pv_57_single_print_02_params.json\n",
      "  - Z:\\Nimrod\\experiments\\PV_57\\2024_11_21\\block_002\\eye_videos\\LE\\pv_57_single_print_02_640x480_60hz_experiment_1_recording_0\\pv_57_single_print_02_timestamps.csv\n",
      "Files to be moved from Right Eye folder to Left Eye folder:\n",
      "  - Z:\\Nimrod\\experiments\\PV_57\\2024_11_21\\block_002\\eye_videos\\RE\\pv_57_single_print_02_640x480_60hz_experiment_1_recording_0\\pv_57_single_print_02.h264\n",
      "  - Z:\\Nimrod\\experiments\\PV_57\\2024_11_21\\block_002\\eye_videos\\RE\\pv_57_single_print_02_640x480_60hz_experiment_1_recording_0\\pv_57_single_print_02.mp4\n",
      "  - Z:\\Nimrod\\experiments\\PV_57\\2024_11_21\\block_002\\eye_videos\\RE\\pv_57_single_print_02_640x480_60hz_experiment_1_recording_0\\pv_57_single_print_02_params.json\n",
      "  - Z:\\Nimrod\\experiments\\PV_57\\2024_11_21\\block_002\\eye_videos\\RE\\pv_57_single_print_02_640x480_60hz_experiment_1_recording_0\\pv_57_single_print_02_RE.mp4\n",
      "  - Z:\\Nimrod\\experiments\\PV_57\\2024_11_21\\block_002\\eye_videos\\RE\\pv_57_single_print_02_640x480_60hz_experiment_1_recording_0\\pv_57_single_print_02_REDLC_resnet_50_Eye_Tracking_piplineMar1shuffle1_950000.csv\n",
      "  - Z:\\Nimrod\\experiments\\PV_57\\2024_11_21\\block_002\\eye_videos\\RE\\pv_57_single_print_02_640x480_60hz_experiment_1_recording_0\\pv_57_single_print_02_REDLC_resnet_50_Eye_Tracking_piplineMar1shuffle1_950000.h5\n",
      "  - Z:\\Nimrod\\experiments\\PV_57\\2024_11_21\\block_002\\eye_videos\\RE\\pv_57_single_print_02_640x480_60hz_experiment_1_recording_0\\pv_57_single_print_02_REDLC_resnet_50_Eye_Tracking_piplineMar1shuffle1_950000_labeled.mp4\n",
      "  - Z:\\Nimrod\\experiments\\PV_57\\2024_11_21\\block_002\\eye_videos\\RE\\pv_57_single_print_02_640x480_60hz_experiment_1_recording_0\\pv_57_single_print_02_REDLC_resnet_50_Eye_Tracking_piplineMar1shuffle1_950000_meta.pickle\n",
      "  - Z:\\Nimrod\\experiments\\PV_57\\2024_11_21\\block_002\\eye_videos\\RE\\pv_57_single_print_02_640x480_60hz_experiment_1_recording_0\\pv_57_single_print_02_timestamps.csv\n",
      "Temporarily moved Z:\\Nimrod\\experiments\\PV_57\\2024_11_21\\block_002\\eye_videos\\LE\\pv_57_single_print_02_640x480_60hz_experiment_1_recording_0\\pv_57_single_print_02.h264 to Z:\\Nimrod\\experiments\\PV_57\\2024_11_21\\block_002\\eye_videos\\RE\\pv_57_single_print_02_640x480_60hz_experiment_1_recording_0\\pv_57_single_print_02_temp.h264\n",
      "Temporarily moved Z:\\Nimrod\\experiments\\PV_57\\2024_11_21\\block_002\\eye_videos\\LE\\pv_57_single_print_02_640x480_60hz_experiment_1_recording_0\\pv_57_single_print_02_LE.mp4 to Z:\\Nimrod\\experiments\\PV_57\\2024_11_21\\block_002\\eye_videos\\RE\\pv_57_single_print_02_640x480_60hz_experiment_1_recording_0\\pv_57_single_print_02_LE_temp.mp4\n",
      "Temporarily moved Z:\\Nimrod\\experiments\\PV_57\\2024_11_21\\block_002\\eye_videos\\LE\\pv_57_single_print_02_640x480_60hz_experiment_1_recording_0\\pv_57_single_print_02_LEDLC_resnet_50_Eye_Tracking_piplineMar1shuffle1_950000.csv to Z:\\Nimrod\\experiments\\PV_57\\2024_11_21\\block_002\\eye_videos\\RE\\pv_57_single_print_02_640x480_60hz_experiment_1_recording_0\\pv_57_single_print_02_LEDLC_resnet_50_Eye_Tracking_piplineMar1shuffle1_950000_temp.csv\n",
      "Temporarily moved Z:\\Nimrod\\experiments\\PV_57\\2024_11_21\\block_002\\eye_videos\\LE\\pv_57_single_print_02_640x480_60hz_experiment_1_recording_0\\pv_57_single_print_02_LEDLC_resnet_50_Eye_Tracking_piplineMar1shuffle1_950000.h5 to Z:\\Nimrod\\experiments\\PV_57\\2024_11_21\\block_002\\eye_videos\\RE\\pv_57_single_print_02_640x480_60hz_experiment_1_recording_0\\pv_57_single_print_02_LEDLC_resnet_50_Eye_Tracking_piplineMar1shuffle1_950000_temp.h5\n",
      "Temporarily moved Z:\\Nimrod\\experiments\\PV_57\\2024_11_21\\block_002\\eye_videos\\LE\\pv_57_single_print_02_640x480_60hz_experiment_1_recording_0\\pv_57_single_print_02_LEDLC_resnet_50_Eye_Tracking_piplineMar1shuffle1_950000_labeled_LE.mp4 to Z:\\Nimrod\\experiments\\PV_57\\2024_11_21\\block_002\\eye_videos\\RE\\pv_57_single_print_02_640x480_60hz_experiment_1_recording_0\\pv_57_single_print_02_LEDLC_resnet_50_Eye_Tracking_piplineMar1shuffle1_950000_labeled_LE_temp.mp4\n",
      "Temporarily moved Z:\\Nimrod\\experiments\\PV_57\\2024_11_21\\block_002\\eye_videos\\LE\\pv_57_single_print_02_640x480_60hz_experiment_1_recording_0\\pv_57_single_print_02_LEDLC_resnet_50_Eye_Tracking_piplineMar1shuffle1_950000_meta.pickle to Z:\\Nimrod\\experiments\\PV_57\\2024_11_21\\block_002\\eye_videos\\RE\\pv_57_single_print_02_640x480_60hz_experiment_1_recording_0\\pv_57_single_print_02_LEDLC_resnet_50_Eye_Tracking_piplineMar1shuffle1_950000_meta_temp.pickle\n",
      "Temporarily moved Z:\\Nimrod\\experiments\\PV_57\\2024_11_21\\block_002\\eye_videos\\LE\\pv_57_single_print_02_640x480_60hz_experiment_1_recording_0\\pv_57_single_print_02_params.json to Z:\\Nimrod\\experiments\\PV_57\\2024_11_21\\block_002\\eye_videos\\RE\\pv_57_single_print_02_640x480_60hz_experiment_1_recording_0\\pv_57_single_print_02_params_temp.json\n",
      "Temporarily moved Z:\\Nimrod\\experiments\\PV_57\\2024_11_21\\block_002\\eye_videos\\LE\\pv_57_single_print_02_640x480_60hz_experiment_1_recording_0\\pv_57_single_print_02_timestamps.csv to Z:\\Nimrod\\experiments\\PV_57\\2024_11_21\\block_002\\eye_videos\\RE\\pv_57_single_print_02_640x480_60hz_experiment_1_recording_0\\pv_57_single_print_02_timestamps_temp.csv\n",
      "Temporarily moved Z:\\Nimrod\\experiments\\PV_57\\2024_11_21\\block_002\\eye_videos\\RE\\pv_57_single_print_02_640x480_60hz_experiment_1_recording_0\\pv_57_single_print_02.h264 to Z:\\Nimrod\\experiments\\PV_57\\2024_11_21\\block_002\\eye_videos\\LE\\pv_57_single_print_02_640x480_60hz_experiment_1_recording_0\\pv_57_single_print_02_temp.h264\n",
      "Temporarily moved Z:\\Nimrod\\experiments\\PV_57\\2024_11_21\\block_002\\eye_videos\\RE\\pv_57_single_print_02_640x480_60hz_experiment_1_recording_0\\pv_57_single_print_02.mp4 to Z:\\Nimrod\\experiments\\PV_57\\2024_11_21\\block_002\\eye_videos\\LE\\pv_57_single_print_02_640x480_60hz_experiment_1_recording_0\\pv_57_single_print_02_temp.mp4\n",
      "Temporarily moved Z:\\Nimrod\\experiments\\PV_57\\2024_11_21\\block_002\\eye_videos\\RE\\pv_57_single_print_02_640x480_60hz_experiment_1_recording_0\\pv_57_single_print_02_params.json to Z:\\Nimrod\\experiments\\PV_57\\2024_11_21\\block_002\\eye_videos\\LE\\pv_57_single_print_02_640x480_60hz_experiment_1_recording_0\\pv_57_single_print_02_params_temp.json\n",
      "Temporarily moved Z:\\Nimrod\\experiments\\PV_57\\2024_11_21\\block_002\\eye_videos\\RE\\pv_57_single_print_02_640x480_60hz_experiment_1_recording_0\\pv_57_single_print_02_RE.mp4 to Z:\\Nimrod\\experiments\\PV_57\\2024_11_21\\block_002\\eye_videos\\LE\\pv_57_single_print_02_640x480_60hz_experiment_1_recording_0\\pv_57_single_print_02_RE_temp.mp4\n",
      "Temporarily moved Z:\\Nimrod\\experiments\\PV_57\\2024_11_21\\block_002\\eye_videos\\RE\\pv_57_single_print_02_640x480_60hz_experiment_1_recording_0\\pv_57_single_print_02_REDLC_resnet_50_Eye_Tracking_piplineMar1shuffle1_950000.csv to Z:\\Nimrod\\experiments\\PV_57\\2024_11_21\\block_002\\eye_videos\\LE\\pv_57_single_print_02_640x480_60hz_experiment_1_recording_0\\pv_57_single_print_02_REDLC_resnet_50_Eye_Tracking_piplineMar1shuffle1_950000_temp.csv\n",
      "Temporarily moved Z:\\Nimrod\\experiments\\PV_57\\2024_11_21\\block_002\\eye_videos\\RE\\pv_57_single_print_02_640x480_60hz_experiment_1_recording_0\\pv_57_single_print_02_REDLC_resnet_50_Eye_Tracking_piplineMar1shuffle1_950000.h5 to Z:\\Nimrod\\experiments\\PV_57\\2024_11_21\\block_002\\eye_videos\\LE\\pv_57_single_print_02_640x480_60hz_experiment_1_recording_0\\pv_57_single_print_02_REDLC_resnet_50_Eye_Tracking_piplineMar1shuffle1_950000_temp.h5\n",
      "Temporarily moved Z:\\Nimrod\\experiments\\PV_57\\2024_11_21\\block_002\\eye_videos\\RE\\pv_57_single_print_02_640x480_60hz_experiment_1_recording_0\\pv_57_single_print_02_REDLC_resnet_50_Eye_Tracking_piplineMar1shuffle1_950000_labeled.mp4 to Z:\\Nimrod\\experiments\\PV_57\\2024_11_21\\block_002\\eye_videos\\LE\\pv_57_single_print_02_640x480_60hz_experiment_1_recording_0\\pv_57_single_print_02_REDLC_resnet_50_Eye_Tracking_piplineMar1shuffle1_950000_labeled_temp.mp4\n",
      "Temporarily moved Z:\\Nimrod\\experiments\\PV_57\\2024_11_21\\block_002\\eye_videos\\RE\\pv_57_single_print_02_640x480_60hz_experiment_1_recording_0\\pv_57_single_print_02_REDLC_resnet_50_Eye_Tracking_piplineMar1shuffle1_950000_meta.pickle to Z:\\Nimrod\\experiments\\PV_57\\2024_11_21\\block_002\\eye_videos\\LE\\pv_57_single_print_02_640x480_60hz_experiment_1_recording_0\\pv_57_single_print_02_REDLC_resnet_50_Eye_Tracking_piplineMar1shuffle1_950000_meta_temp.pickle\n",
      "Temporarily moved Z:\\Nimrod\\experiments\\PV_57\\2024_11_21\\block_002\\eye_videos\\RE\\pv_57_single_print_02_640x480_60hz_experiment_1_recording_0\\pv_57_single_print_02_timestamps.csv to Z:\\Nimrod\\experiments\\PV_57\\2024_11_21\\block_002\\eye_videos\\LE\\pv_57_single_print_02_640x480_60hz_experiment_1_recording_0\\pv_57_single_print_02_timestamps_temp.csv\n",
      "Restored name Z:\\Nimrod\\experiments\\PV_57\\2024_11_21\\block_002\\eye_videos\\RE\\pv_57_single_print_02_640x480_60hz_experiment_1_recording_0\\pv_57_single_print_02_LEDLC_resnet_50_Eye_Tracking_piplineMar1shuffle1_950000_labeled_LE_temp.mp4 to Z:\\Nimrod\\experiments\\PV_57\\2024_11_21\\block_002\\eye_videos\\RE\\pv_57_single_print_02_640x480_60hz_experiment_1_recording_0\\pv_57_single_print_02_LEDLC_resnet_50_Eye_Tracking_piplineMar1shuffle1_950000_labeled_LE.mp4\n",
      "Renamed Z:\\Nimrod\\experiments\\PV_57\\2024_11_21\\block_002\\eye_videos\\RE\\pv_57_single_print_02_640x480_60hz_experiment_1_recording_0\\pv_57_single_print_02_LEDLC_resnet_50_Eye_Tracking_piplineMar1shuffle1_950000_labeled_LE.mp4 to Z:\\Nimrod\\experiments\\PV_57\\2024_11_21\\block_002\\eye_videos\\RE\\pv_57_single_print_02_640x480_60hz_experiment_1_recording_0\\pv_57_single_print_02_REDLC_resnet_50_Eye_Tracking_piplineMar1shuffle1_950000_labeled_RE.mp4\n",
      "Restored name Z:\\Nimrod\\experiments\\PV_57\\2024_11_21\\block_002\\eye_videos\\RE\\pv_57_single_print_02_640x480_60hz_experiment_1_recording_0\\pv_57_single_print_02_LEDLC_resnet_50_Eye_Tracking_piplineMar1shuffle1_950000_meta_temp.pickle to Z:\\Nimrod\\experiments\\PV_57\\2024_11_21\\block_002\\eye_videos\\RE\\pv_57_single_print_02_640x480_60hz_experiment_1_recording_0\\pv_57_single_print_02_LEDLC_resnet_50_Eye_Tracking_piplineMar1shuffle1_950000_meta.pickle\n",
      "Renamed Z:\\Nimrod\\experiments\\PV_57\\2024_11_21\\block_002\\eye_videos\\RE\\pv_57_single_print_02_640x480_60hz_experiment_1_recording_0\\pv_57_single_print_02_LEDLC_resnet_50_Eye_Tracking_piplineMar1shuffle1_950000_meta.pickle to Z:\\Nimrod\\experiments\\PV_57\\2024_11_21\\block_002\\eye_videos\\RE\\pv_57_single_print_02_640x480_60hz_experiment_1_recording_0\\pv_57_single_print_02_REDLC_resnet_50_Eye_Tracking_piplineMar1shuffle1_950000_meta.pickle\n",
      "Restored name Z:\\Nimrod\\experiments\\PV_57\\2024_11_21\\block_002\\eye_videos\\RE\\pv_57_single_print_02_640x480_60hz_experiment_1_recording_0\\pv_57_single_print_02_LEDLC_resnet_50_Eye_Tracking_piplineMar1shuffle1_950000_temp.csv to Z:\\Nimrod\\experiments\\PV_57\\2024_11_21\\block_002\\eye_videos\\RE\\pv_57_single_print_02_640x480_60hz_experiment_1_recording_0\\pv_57_single_print_02_LEDLC_resnet_50_Eye_Tracking_piplineMar1shuffle1_950000.csv\n",
      "Renamed Z:\\Nimrod\\experiments\\PV_57\\2024_11_21\\block_002\\eye_videos\\RE\\pv_57_single_print_02_640x480_60hz_experiment_1_recording_0\\pv_57_single_print_02_LEDLC_resnet_50_Eye_Tracking_piplineMar1shuffle1_950000.csv to Z:\\Nimrod\\experiments\\PV_57\\2024_11_21\\block_002\\eye_videos\\RE\\pv_57_single_print_02_640x480_60hz_experiment_1_recording_0\\pv_57_single_print_02_REDLC_resnet_50_Eye_Tracking_piplineMar1shuffle1_950000.csv\n",
      "Restored name Z:\\Nimrod\\experiments\\PV_57\\2024_11_21\\block_002\\eye_videos\\RE\\pv_57_single_print_02_640x480_60hz_experiment_1_recording_0\\pv_57_single_print_02_LEDLC_resnet_50_Eye_Tracking_piplineMar1shuffle1_950000_temp.h5 to Z:\\Nimrod\\experiments\\PV_57\\2024_11_21\\block_002\\eye_videos\\RE\\pv_57_single_print_02_640x480_60hz_experiment_1_recording_0\\pv_57_single_print_02_LEDLC_resnet_50_Eye_Tracking_piplineMar1shuffle1_950000.h5\n",
      "Renamed Z:\\Nimrod\\experiments\\PV_57\\2024_11_21\\block_002\\eye_videos\\RE\\pv_57_single_print_02_640x480_60hz_experiment_1_recording_0\\pv_57_single_print_02_LEDLC_resnet_50_Eye_Tracking_piplineMar1shuffle1_950000.h5 to Z:\\Nimrod\\experiments\\PV_57\\2024_11_21\\block_002\\eye_videos\\RE\\pv_57_single_print_02_640x480_60hz_experiment_1_recording_0\\pv_57_single_print_02_REDLC_resnet_50_Eye_Tracking_piplineMar1shuffle1_950000.h5\n",
      "Restored name Z:\\Nimrod\\experiments\\PV_57\\2024_11_21\\block_002\\eye_videos\\RE\\pv_57_single_print_02_640x480_60hz_experiment_1_recording_0\\pv_57_single_print_02_LE_temp.mp4 to Z:\\Nimrod\\experiments\\PV_57\\2024_11_21\\block_002\\eye_videos\\RE\\pv_57_single_print_02_640x480_60hz_experiment_1_recording_0\\pv_57_single_print_02_LE.mp4\n",
      "Renamed Z:\\Nimrod\\experiments\\PV_57\\2024_11_21\\block_002\\eye_videos\\RE\\pv_57_single_print_02_640x480_60hz_experiment_1_recording_0\\pv_57_single_print_02_LE.mp4 to Z:\\Nimrod\\experiments\\PV_57\\2024_11_21\\block_002\\eye_videos\\RE\\pv_57_single_print_02_640x480_60hz_experiment_1_recording_0\\pv_57_single_print_02_RE.mp4\n",
      "Restored name Z:\\Nimrod\\experiments\\PV_57\\2024_11_21\\block_002\\eye_videos\\RE\\pv_57_single_print_02_640x480_60hz_experiment_1_recording_0\\pv_57_single_print_02_params_temp.json to Z:\\Nimrod\\experiments\\PV_57\\2024_11_21\\block_002\\eye_videos\\RE\\pv_57_single_print_02_640x480_60hz_experiment_1_recording_0\\pv_57_single_print_02_params.json\n",
      "Restored name Z:\\Nimrod\\experiments\\PV_57\\2024_11_21\\block_002\\eye_videos\\RE\\pv_57_single_print_02_640x480_60hz_experiment_1_recording_0\\pv_57_single_print_02_temp.h264 to Z:\\Nimrod\\experiments\\PV_57\\2024_11_21\\block_002\\eye_videos\\RE\\pv_57_single_print_02_640x480_60hz_experiment_1_recording_0\\pv_57_single_print_02.h264\n",
      "Restored name Z:\\Nimrod\\experiments\\PV_57\\2024_11_21\\block_002\\eye_videos\\RE\\pv_57_single_print_02_640x480_60hz_experiment_1_recording_0\\pv_57_single_print_02_timestamps_temp.csv to Z:\\Nimrod\\experiments\\PV_57\\2024_11_21\\block_002\\eye_videos\\RE\\pv_57_single_print_02_640x480_60hz_experiment_1_recording_0\\pv_57_single_print_02_timestamps.csv\n",
      "Restored name Z:\\Nimrod\\experiments\\PV_57\\2024_11_21\\block_002\\eye_videos\\LE\\pv_57_single_print_02_640x480_60hz_experiment_1_recording_0\\pv_57_single_print_02_params_temp.json to Z:\\Nimrod\\experiments\\PV_57\\2024_11_21\\block_002\\eye_videos\\LE\\pv_57_single_print_02_640x480_60hz_experiment_1_recording_0\\pv_57_single_print_02_params.json\n",
      "Restored name Z:\\Nimrod\\experiments\\PV_57\\2024_11_21\\block_002\\eye_videos\\LE\\pv_57_single_print_02_640x480_60hz_experiment_1_recording_0\\pv_57_single_print_02_REDLC_resnet_50_Eye_Tracking_piplineMar1shuffle1_950000_labeled_temp.mp4 to Z:\\Nimrod\\experiments\\PV_57\\2024_11_21\\block_002\\eye_videos\\LE\\pv_57_single_print_02_640x480_60hz_experiment_1_recording_0\\pv_57_single_print_02_REDLC_resnet_50_Eye_Tracking_piplineMar1shuffle1_950000_labeled.mp4\n",
      "Renamed Z:\\Nimrod\\experiments\\PV_57\\2024_11_21\\block_002\\eye_videos\\LE\\pv_57_single_print_02_640x480_60hz_experiment_1_recording_0\\pv_57_single_print_02_REDLC_resnet_50_Eye_Tracking_piplineMar1shuffle1_950000_labeled.mp4 to Z:\\Nimrod\\experiments\\PV_57\\2024_11_21\\block_002\\eye_videos\\LE\\pv_57_single_print_02_640x480_60hz_experiment_1_recording_0\\pv_57_single_print_02_LEDLC_resnet_50_Eye_Tracking_piplineMar1shuffle1_950000_labeled.mp4\n",
      "Restored name Z:\\Nimrod\\experiments\\PV_57\\2024_11_21\\block_002\\eye_videos\\LE\\pv_57_single_print_02_640x480_60hz_experiment_1_recording_0\\pv_57_single_print_02_REDLC_resnet_50_Eye_Tracking_piplineMar1shuffle1_950000_meta_temp.pickle to Z:\\Nimrod\\experiments\\PV_57\\2024_11_21\\block_002\\eye_videos\\LE\\pv_57_single_print_02_640x480_60hz_experiment_1_recording_0\\pv_57_single_print_02_REDLC_resnet_50_Eye_Tracking_piplineMar1shuffle1_950000_meta.pickle\n",
      "Renamed Z:\\Nimrod\\experiments\\PV_57\\2024_11_21\\block_002\\eye_videos\\LE\\pv_57_single_print_02_640x480_60hz_experiment_1_recording_0\\pv_57_single_print_02_REDLC_resnet_50_Eye_Tracking_piplineMar1shuffle1_950000_meta.pickle to Z:\\Nimrod\\experiments\\PV_57\\2024_11_21\\block_002\\eye_videos\\LE\\pv_57_single_print_02_640x480_60hz_experiment_1_recording_0\\pv_57_single_print_02_LEDLC_resnet_50_Eye_Tracking_piplineMar1shuffle1_950000_meta.pickle\n",
      "Restored name Z:\\Nimrod\\experiments\\PV_57\\2024_11_21\\block_002\\eye_videos\\LE\\pv_57_single_print_02_640x480_60hz_experiment_1_recording_0\\pv_57_single_print_02_REDLC_resnet_50_Eye_Tracking_piplineMar1shuffle1_950000_temp.csv to Z:\\Nimrod\\experiments\\PV_57\\2024_11_21\\block_002\\eye_videos\\LE\\pv_57_single_print_02_640x480_60hz_experiment_1_recording_0\\pv_57_single_print_02_REDLC_resnet_50_Eye_Tracking_piplineMar1shuffle1_950000.csv\n",
      "Renamed Z:\\Nimrod\\experiments\\PV_57\\2024_11_21\\block_002\\eye_videos\\LE\\pv_57_single_print_02_640x480_60hz_experiment_1_recording_0\\pv_57_single_print_02_REDLC_resnet_50_Eye_Tracking_piplineMar1shuffle1_950000.csv to Z:\\Nimrod\\experiments\\PV_57\\2024_11_21\\block_002\\eye_videos\\LE\\pv_57_single_print_02_640x480_60hz_experiment_1_recording_0\\pv_57_single_print_02_LEDLC_resnet_50_Eye_Tracking_piplineMar1shuffle1_950000.csv\n",
      "Restored name Z:\\Nimrod\\experiments\\PV_57\\2024_11_21\\block_002\\eye_videos\\LE\\pv_57_single_print_02_640x480_60hz_experiment_1_recording_0\\pv_57_single_print_02_REDLC_resnet_50_Eye_Tracking_piplineMar1shuffle1_950000_temp.h5 to Z:\\Nimrod\\experiments\\PV_57\\2024_11_21\\block_002\\eye_videos\\LE\\pv_57_single_print_02_640x480_60hz_experiment_1_recording_0\\pv_57_single_print_02_REDLC_resnet_50_Eye_Tracking_piplineMar1shuffle1_950000.h5\n",
      "Renamed Z:\\Nimrod\\experiments\\PV_57\\2024_11_21\\block_002\\eye_videos\\LE\\pv_57_single_print_02_640x480_60hz_experiment_1_recording_0\\pv_57_single_print_02_REDLC_resnet_50_Eye_Tracking_piplineMar1shuffle1_950000.h5 to Z:\\Nimrod\\experiments\\PV_57\\2024_11_21\\block_002\\eye_videos\\LE\\pv_57_single_print_02_640x480_60hz_experiment_1_recording_0\\pv_57_single_print_02_LEDLC_resnet_50_Eye_Tracking_piplineMar1shuffle1_950000.h5\n",
      "Restored name Z:\\Nimrod\\experiments\\PV_57\\2024_11_21\\block_002\\eye_videos\\LE\\pv_57_single_print_02_640x480_60hz_experiment_1_recording_0\\pv_57_single_print_02_RE_temp.mp4 to Z:\\Nimrod\\experiments\\PV_57\\2024_11_21\\block_002\\eye_videos\\LE\\pv_57_single_print_02_640x480_60hz_experiment_1_recording_0\\pv_57_single_print_02_RE.mp4\n",
      "Renamed Z:\\Nimrod\\experiments\\PV_57\\2024_11_21\\block_002\\eye_videos\\LE\\pv_57_single_print_02_640x480_60hz_experiment_1_recording_0\\pv_57_single_print_02_RE.mp4 to Z:\\Nimrod\\experiments\\PV_57\\2024_11_21\\block_002\\eye_videos\\LE\\pv_57_single_print_02_640x480_60hz_experiment_1_recording_0\\pv_57_single_print_02_LE.mp4\n",
      "Restored name Z:\\Nimrod\\experiments\\PV_57\\2024_11_21\\block_002\\eye_videos\\LE\\pv_57_single_print_02_640x480_60hz_experiment_1_recording_0\\pv_57_single_print_02_temp.h264 to Z:\\Nimrod\\experiments\\PV_57\\2024_11_21\\block_002\\eye_videos\\LE\\pv_57_single_print_02_640x480_60hz_experiment_1_recording_0\\pv_57_single_print_02.h264\n",
      "Restored name Z:\\Nimrod\\experiments\\PV_57\\2024_11_21\\block_002\\eye_videos\\LE\\pv_57_single_print_02_640x480_60hz_experiment_1_recording_0\\pv_57_single_print_02_temp.mp4 to Z:\\Nimrod\\experiments\\PV_57\\2024_11_21\\block_002\\eye_videos\\LE\\pv_57_single_print_02_640x480_60hz_experiment_1_recording_0\\pv_57_single_print_02.mp4\n",
      "Restored name Z:\\Nimrod\\experiments\\PV_57\\2024_11_21\\block_002\\eye_videos\\LE\\pv_57_single_print_02_640x480_60hz_experiment_1_recording_0\\pv_57_single_print_02_timestamps_temp.csv to Z:\\Nimrod\\experiments\\PV_57\\2024_11_21\\block_002\\eye_videos\\LE\\pv_57_single_print_02_640x480_60hz_experiment_1_recording_0\\pv_57_single_print_02_timestamps.csv\n",
      "Completed swapping and renaming for block 002\n",
      "working on PV_57, block 003, on pv_57_trial03_2024-11-21_16-20-30...\n",
      "\n",
      "Block 003 - Confirmation Required\n",
      "Files to be moved from Left Eye folder to Right Eye folder:\n",
      "  - Z:\\Nimrod\\experiments\\PV_57\\2024_11_21\\block_003\\eye_videos\\LE\\pv_57_single_print_03_640x480_60hz_experiment_1_recording_0\\pv_57_single_print_03.h264\n",
      "  - Z:\\Nimrod\\experiments\\PV_57\\2024_11_21\\block_003\\eye_videos\\LE\\pv_57_single_print_03_640x480_60hz_experiment_1_recording_0\\pv_57_single_print_03_LE.mp4\n",
      "  - Z:\\Nimrod\\experiments\\PV_57\\2024_11_21\\block_003\\eye_videos\\LE\\pv_57_single_print_03_640x480_60hz_experiment_1_recording_0\\pv_57_single_print_03_LEDLC_resnet_50_Eye_Tracking_piplineMar1shuffle1_950000.csv\n",
      "  - Z:\\Nimrod\\experiments\\PV_57\\2024_11_21\\block_003\\eye_videos\\LE\\pv_57_single_print_03_640x480_60hz_experiment_1_recording_0\\pv_57_single_print_03_LEDLC_resnet_50_Eye_Tracking_piplineMar1shuffle1_950000.h5\n",
      "  - Z:\\Nimrod\\experiments\\PV_57\\2024_11_21\\block_003\\eye_videos\\LE\\pv_57_single_print_03_640x480_60hz_experiment_1_recording_0\\pv_57_single_print_03_LEDLC_resnet_50_Eye_Tracking_piplineMar1shuffle1_950000_labeled_LE.mp4\n",
      "  - Z:\\Nimrod\\experiments\\PV_57\\2024_11_21\\block_003\\eye_videos\\LE\\pv_57_single_print_03_640x480_60hz_experiment_1_recording_0\\pv_57_single_print_03_LEDLC_resnet_50_Eye_Tracking_piplineMar1shuffle1_950000_meta.pickle\n",
      "  - Z:\\Nimrod\\experiments\\PV_57\\2024_11_21\\block_003\\eye_videos\\LE\\pv_57_single_print_03_640x480_60hz_experiment_1_recording_0\\pv_57_single_print_03_params.json\n",
      "  - Z:\\Nimrod\\experiments\\PV_57\\2024_11_21\\block_003\\eye_videos\\LE\\pv_57_single_print_03_640x480_60hz_experiment_1_recording_0\\pv_57_single_print_03_timestamps.csv\n",
      "Files to be moved from Right Eye folder to Left Eye folder:\n",
      "  - Z:\\Nimrod\\experiments\\PV_57\\2024_11_21\\block_003\\eye_videos\\RE\\pv_57_single_print_03_640x480_60hz_experiment_1_recording_0\\pv_57_single_print_03.h264\n",
      "  - Z:\\Nimrod\\experiments\\PV_57\\2024_11_21\\block_003\\eye_videos\\RE\\pv_57_single_print_03_640x480_60hz_experiment_1_recording_0\\pv_57_single_print_03.mp4\n",
      "  - Z:\\Nimrod\\experiments\\PV_57\\2024_11_21\\block_003\\eye_videos\\RE\\pv_57_single_print_03_640x480_60hz_experiment_1_recording_0\\pv_57_single_print_03_params.json\n",
      "  - Z:\\Nimrod\\experiments\\PV_57\\2024_11_21\\block_003\\eye_videos\\RE\\pv_57_single_print_03_640x480_60hz_experiment_1_recording_0\\pv_57_single_print_03_RE.mp4\n",
      "  - Z:\\Nimrod\\experiments\\PV_57\\2024_11_21\\block_003\\eye_videos\\RE\\pv_57_single_print_03_640x480_60hz_experiment_1_recording_0\\pv_57_single_print_03_REDLC_resnet_50_Eye_Tracking_piplineMar1shuffle1_950000.csv\n",
      "  - Z:\\Nimrod\\experiments\\PV_57\\2024_11_21\\block_003\\eye_videos\\RE\\pv_57_single_print_03_640x480_60hz_experiment_1_recording_0\\pv_57_single_print_03_REDLC_resnet_50_Eye_Tracking_piplineMar1shuffle1_950000.h5\n",
      "  - Z:\\Nimrod\\experiments\\PV_57\\2024_11_21\\block_003\\eye_videos\\RE\\pv_57_single_print_03_640x480_60hz_experiment_1_recording_0\\pv_57_single_print_03_REDLC_resnet_50_Eye_Tracking_piplineMar1shuffle1_950000_labeled.mp4\n",
      "  - Z:\\Nimrod\\experiments\\PV_57\\2024_11_21\\block_003\\eye_videos\\RE\\pv_57_single_print_03_640x480_60hz_experiment_1_recording_0\\pv_57_single_print_03_REDLC_resnet_50_Eye_Tracking_piplineMar1shuffle1_950000_meta.pickle\n",
      "  - Z:\\Nimrod\\experiments\\PV_57\\2024_11_21\\block_003\\eye_videos\\RE\\pv_57_single_print_03_640x480_60hz_experiment_1_recording_0\\pv_57_single_print_03_timestamps.csv\n",
      "Temporarily moved Z:\\Nimrod\\experiments\\PV_57\\2024_11_21\\block_003\\eye_videos\\LE\\pv_57_single_print_03_640x480_60hz_experiment_1_recording_0\\pv_57_single_print_03.h264 to Z:\\Nimrod\\experiments\\PV_57\\2024_11_21\\block_003\\eye_videos\\RE\\pv_57_single_print_03_640x480_60hz_experiment_1_recording_0\\pv_57_single_print_03_temp.h264\n",
      "Temporarily moved Z:\\Nimrod\\experiments\\PV_57\\2024_11_21\\block_003\\eye_videos\\LE\\pv_57_single_print_03_640x480_60hz_experiment_1_recording_0\\pv_57_single_print_03_LE.mp4 to Z:\\Nimrod\\experiments\\PV_57\\2024_11_21\\block_003\\eye_videos\\RE\\pv_57_single_print_03_640x480_60hz_experiment_1_recording_0\\pv_57_single_print_03_LE_temp.mp4\n",
      "Temporarily moved Z:\\Nimrod\\experiments\\PV_57\\2024_11_21\\block_003\\eye_videos\\LE\\pv_57_single_print_03_640x480_60hz_experiment_1_recording_0\\pv_57_single_print_03_LEDLC_resnet_50_Eye_Tracking_piplineMar1shuffle1_950000.csv to Z:\\Nimrod\\experiments\\PV_57\\2024_11_21\\block_003\\eye_videos\\RE\\pv_57_single_print_03_640x480_60hz_experiment_1_recording_0\\pv_57_single_print_03_LEDLC_resnet_50_Eye_Tracking_piplineMar1shuffle1_950000_temp.csv\n",
      "Temporarily moved Z:\\Nimrod\\experiments\\PV_57\\2024_11_21\\block_003\\eye_videos\\LE\\pv_57_single_print_03_640x480_60hz_experiment_1_recording_0\\pv_57_single_print_03_LEDLC_resnet_50_Eye_Tracking_piplineMar1shuffle1_950000.h5 to Z:\\Nimrod\\experiments\\PV_57\\2024_11_21\\block_003\\eye_videos\\RE\\pv_57_single_print_03_640x480_60hz_experiment_1_recording_0\\pv_57_single_print_03_LEDLC_resnet_50_Eye_Tracking_piplineMar1shuffle1_950000_temp.h5\n",
      "Temporarily moved Z:\\Nimrod\\experiments\\PV_57\\2024_11_21\\block_003\\eye_videos\\LE\\pv_57_single_print_03_640x480_60hz_experiment_1_recording_0\\pv_57_single_print_03_LEDLC_resnet_50_Eye_Tracking_piplineMar1shuffle1_950000_labeled_LE.mp4 to Z:\\Nimrod\\experiments\\PV_57\\2024_11_21\\block_003\\eye_videos\\RE\\pv_57_single_print_03_640x480_60hz_experiment_1_recording_0\\pv_57_single_print_03_LEDLC_resnet_50_Eye_Tracking_piplineMar1shuffle1_950000_labeled_LE_temp.mp4\n",
      "Temporarily moved Z:\\Nimrod\\experiments\\PV_57\\2024_11_21\\block_003\\eye_videos\\LE\\pv_57_single_print_03_640x480_60hz_experiment_1_recording_0\\pv_57_single_print_03_LEDLC_resnet_50_Eye_Tracking_piplineMar1shuffle1_950000_meta.pickle to Z:\\Nimrod\\experiments\\PV_57\\2024_11_21\\block_003\\eye_videos\\RE\\pv_57_single_print_03_640x480_60hz_experiment_1_recording_0\\pv_57_single_print_03_LEDLC_resnet_50_Eye_Tracking_piplineMar1shuffle1_950000_meta_temp.pickle\n",
      "Temporarily moved Z:\\Nimrod\\experiments\\PV_57\\2024_11_21\\block_003\\eye_videos\\LE\\pv_57_single_print_03_640x480_60hz_experiment_1_recording_0\\pv_57_single_print_03_params.json to Z:\\Nimrod\\experiments\\PV_57\\2024_11_21\\block_003\\eye_videos\\RE\\pv_57_single_print_03_640x480_60hz_experiment_1_recording_0\\pv_57_single_print_03_params_temp.json\n",
      "Temporarily moved Z:\\Nimrod\\experiments\\PV_57\\2024_11_21\\block_003\\eye_videos\\LE\\pv_57_single_print_03_640x480_60hz_experiment_1_recording_0\\pv_57_single_print_03_timestamps.csv to Z:\\Nimrod\\experiments\\PV_57\\2024_11_21\\block_003\\eye_videos\\RE\\pv_57_single_print_03_640x480_60hz_experiment_1_recording_0\\pv_57_single_print_03_timestamps_temp.csv\n",
      "Temporarily moved Z:\\Nimrod\\experiments\\PV_57\\2024_11_21\\block_003\\eye_videos\\RE\\pv_57_single_print_03_640x480_60hz_experiment_1_recording_0\\pv_57_single_print_03.h264 to Z:\\Nimrod\\experiments\\PV_57\\2024_11_21\\block_003\\eye_videos\\LE\\pv_57_single_print_03_640x480_60hz_experiment_1_recording_0\\pv_57_single_print_03_temp.h264\n",
      "Temporarily moved Z:\\Nimrod\\experiments\\PV_57\\2024_11_21\\block_003\\eye_videos\\RE\\pv_57_single_print_03_640x480_60hz_experiment_1_recording_0\\pv_57_single_print_03.mp4 to Z:\\Nimrod\\experiments\\PV_57\\2024_11_21\\block_003\\eye_videos\\LE\\pv_57_single_print_03_640x480_60hz_experiment_1_recording_0\\pv_57_single_print_03_temp.mp4\n",
      "Temporarily moved Z:\\Nimrod\\experiments\\PV_57\\2024_11_21\\block_003\\eye_videos\\RE\\pv_57_single_print_03_640x480_60hz_experiment_1_recording_0\\pv_57_single_print_03_params.json to Z:\\Nimrod\\experiments\\PV_57\\2024_11_21\\block_003\\eye_videos\\LE\\pv_57_single_print_03_640x480_60hz_experiment_1_recording_0\\pv_57_single_print_03_params_temp.json\n",
      "Temporarily moved Z:\\Nimrod\\experiments\\PV_57\\2024_11_21\\block_003\\eye_videos\\RE\\pv_57_single_print_03_640x480_60hz_experiment_1_recording_0\\pv_57_single_print_03_RE.mp4 to Z:\\Nimrod\\experiments\\PV_57\\2024_11_21\\block_003\\eye_videos\\LE\\pv_57_single_print_03_640x480_60hz_experiment_1_recording_0\\pv_57_single_print_03_RE_temp.mp4\n",
      "Temporarily moved Z:\\Nimrod\\experiments\\PV_57\\2024_11_21\\block_003\\eye_videos\\RE\\pv_57_single_print_03_640x480_60hz_experiment_1_recording_0\\pv_57_single_print_03_REDLC_resnet_50_Eye_Tracking_piplineMar1shuffle1_950000.csv to Z:\\Nimrod\\experiments\\PV_57\\2024_11_21\\block_003\\eye_videos\\LE\\pv_57_single_print_03_640x480_60hz_experiment_1_recording_0\\pv_57_single_print_03_REDLC_resnet_50_Eye_Tracking_piplineMar1shuffle1_950000_temp.csv\n",
      "Temporarily moved Z:\\Nimrod\\experiments\\PV_57\\2024_11_21\\block_003\\eye_videos\\RE\\pv_57_single_print_03_640x480_60hz_experiment_1_recording_0\\pv_57_single_print_03_REDLC_resnet_50_Eye_Tracking_piplineMar1shuffle1_950000.h5 to Z:\\Nimrod\\experiments\\PV_57\\2024_11_21\\block_003\\eye_videos\\LE\\pv_57_single_print_03_640x480_60hz_experiment_1_recording_0\\pv_57_single_print_03_REDLC_resnet_50_Eye_Tracking_piplineMar1shuffle1_950000_temp.h5\n",
      "Temporarily moved Z:\\Nimrod\\experiments\\PV_57\\2024_11_21\\block_003\\eye_videos\\RE\\pv_57_single_print_03_640x480_60hz_experiment_1_recording_0\\pv_57_single_print_03_REDLC_resnet_50_Eye_Tracking_piplineMar1shuffle1_950000_labeled.mp4 to Z:\\Nimrod\\experiments\\PV_57\\2024_11_21\\block_003\\eye_videos\\LE\\pv_57_single_print_03_640x480_60hz_experiment_1_recording_0\\pv_57_single_print_03_REDLC_resnet_50_Eye_Tracking_piplineMar1shuffle1_950000_labeled_temp.mp4\n",
      "Temporarily moved Z:\\Nimrod\\experiments\\PV_57\\2024_11_21\\block_003\\eye_videos\\RE\\pv_57_single_print_03_640x480_60hz_experiment_1_recording_0\\pv_57_single_print_03_REDLC_resnet_50_Eye_Tracking_piplineMar1shuffle1_950000_meta.pickle to Z:\\Nimrod\\experiments\\PV_57\\2024_11_21\\block_003\\eye_videos\\LE\\pv_57_single_print_03_640x480_60hz_experiment_1_recording_0\\pv_57_single_print_03_REDLC_resnet_50_Eye_Tracking_piplineMar1shuffle1_950000_meta_temp.pickle\n",
      "Temporarily moved Z:\\Nimrod\\experiments\\PV_57\\2024_11_21\\block_003\\eye_videos\\RE\\pv_57_single_print_03_640x480_60hz_experiment_1_recording_0\\pv_57_single_print_03_timestamps.csv to Z:\\Nimrod\\experiments\\PV_57\\2024_11_21\\block_003\\eye_videos\\LE\\pv_57_single_print_03_640x480_60hz_experiment_1_recording_0\\pv_57_single_print_03_timestamps_temp.csv\n",
      "Restored name Z:\\Nimrod\\experiments\\PV_57\\2024_11_21\\block_003\\eye_videos\\RE\\pv_57_single_print_03_640x480_60hz_experiment_1_recording_0\\pv_57_single_print_03_LEDLC_resnet_50_Eye_Tracking_piplineMar1shuffle1_950000_labeled_LE_temp.mp4 to Z:\\Nimrod\\experiments\\PV_57\\2024_11_21\\block_003\\eye_videos\\RE\\pv_57_single_print_03_640x480_60hz_experiment_1_recording_0\\pv_57_single_print_03_LEDLC_resnet_50_Eye_Tracking_piplineMar1shuffle1_950000_labeled_LE.mp4\n",
      "Renamed Z:\\Nimrod\\experiments\\PV_57\\2024_11_21\\block_003\\eye_videos\\RE\\pv_57_single_print_03_640x480_60hz_experiment_1_recording_0\\pv_57_single_print_03_LEDLC_resnet_50_Eye_Tracking_piplineMar1shuffle1_950000_labeled_LE.mp4 to Z:\\Nimrod\\experiments\\PV_57\\2024_11_21\\block_003\\eye_videos\\RE\\pv_57_single_print_03_640x480_60hz_experiment_1_recording_0\\pv_57_single_print_03_REDLC_resnet_50_Eye_Tracking_piplineMar1shuffle1_950000_labeled_RE.mp4\n",
      "Restored name Z:\\Nimrod\\experiments\\PV_57\\2024_11_21\\block_003\\eye_videos\\RE\\pv_57_single_print_03_640x480_60hz_experiment_1_recording_0\\pv_57_single_print_03_LEDLC_resnet_50_Eye_Tracking_piplineMar1shuffle1_950000_meta_temp.pickle to Z:\\Nimrod\\experiments\\PV_57\\2024_11_21\\block_003\\eye_videos\\RE\\pv_57_single_print_03_640x480_60hz_experiment_1_recording_0\\pv_57_single_print_03_LEDLC_resnet_50_Eye_Tracking_piplineMar1shuffle1_950000_meta.pickle\n",
      "Renamed Z:\\Nimrod\\experiments\\PV_57\\2024_11_21\\block_003\\eye_videos\\RE\\pv_57_single_print_03_640x480_60hz_experiment_1_recording_0\\pv_57_single_print_03_LEDLC_resnet_50_Eye_Tracking_piplineMar1shuffle1_950000_meta.pickle to Z:\\Nimrod\\experiments\\PV_57\\2024_11_21\\block_003\\eye_videos\\RE\\pv_57_single_print_03_640x480_60hz_experiment_1_recording_0\\pv_57_single_print_03_REDLC_resnet_50_Eye_Tracking_piplineMar1shuffle1_950000_meta.pickle\n",
      "Restored name Z:\\Nimrod\\experiments\\PV_57\\2024_11_21\\block_003\\eye_videos\\RE\\pv_57_single_print_03_640x480_60hz_experiment_1_recording_0\\pv_57_single_print_03_LEDLC_resnet_50_Eye_Tracking_piplineMar1shuffle1_950000_temp.csv to Z:\\Nimrod\\experiments\\PV_57\\2024_11_21\\block_003\\eye_videos\\RE\\pv_57_single_print_03_640x480_60hz_experiment_1_recording_0\\pv_57_single_print_03_LEDLC_resnet_50_Eye_Tracking_piplineMar1shuffle1_950000.csv\n",
      "Renamed Z:\\Nimrod\\experiments\\PV_57\\2024_11_21\\block_003\\eye_videos\\RE\\pv_57_single_print_03_640x480_60hz_experiment_1_recording_0\\pv_57_single_print_03_LEDLC_resnet_50_Eye_Tracking_piplineMar1shuffle1_950000.csv to Z:\\Nimrod\\experiments\\PV_57\\2024_11_21\\block_003\\eye_videos\\RE\\pv_57_single_print_03_640x480_60hz_experiment_1_recording_0\\pv_57_single_print_03_REDLC_resnet_50_Eye_Tracking_piplineMar1shuffle1_950000.csv\n",
      "Restored name Z:\\Nimrod\\experiments\\PV_57\\2024_11_21\\block_003\\eye_videos\\RE\\pv_57_single_print_03_640x480_60hz_experiment_1_recording_0\\pv_57_single_print_03_LEDLC_resnet_50_Eye_Tracking_piplineMar1shuffle1_950000_temp.h5 to Z:\\Nimrod\\experiments\\PV_57\\2024_11_21\\block_003\\eye_videos\\RE\\pv_57_single_print_03_640x480_60hz_experiment_1_recording_0\\pv_57_single_print_03_LEDLC_resnet_50_Eye_Tracking_piplineMar1shuffle1_950000.h5\n",
      "Renamed Z:\\Nimrod\\experiments\\PV_57\\2024_11_21\\block_003\\eye_videos\\RE\\pv_57_single_print_03_640x480_60hz_experiment_1_recording_0\\pv_57_single_print_03_LEDLC_resnet_50_Eye_Tracking_piplineMar1shuffle1_950000.h5 to Z:\\Nimrod\\experiments\\PV_57\\2024_11_21\\block_003\\eye_videos\\RE\\pv_57_single_print_03_640x480_60hz_experiment_1_recording_0\\pv_57_single_print_03_REDLC_resnet_50_Eye_Tracking_piplineMar1shuffle1_950000.h5\n",
      "Restored name Z:\\Nimrod\\experiments\\PV_57\\2024_11_21\\block_003\\eye_videos\\RE\\pv_57_single_print_03_640x480_60hz_experiment_1_recording_0\\pv_57_single_print_03_LE_temp.mp4 to Z:\\Nimrod\\experiments\\PV_57\\2024_11_21\\block_003\\eye_videos\\RE\\pv_57_single_print_03_640x480_60hz_experiment_1_recording_0\\pv_57_single_print_03_LE.mp4\n",
      "Renamed Z:\\Nimrod\\experiments\\PV_57\\2024_11_21\\block_003\\eye_videos\\RE\\pv_57_single_print_03_640x480_60hz_experiment_1_recording_0\\pv_57_single_print_03_LE.mp4 to Z:\\Nimrod\\experiments\\PV_57\\2024_11_21\\block_003\\eye_videos\\RE\\pv_57_single_print_03_640x480_60hz_experiment_1_recording_0\\pv_57_single_print_03_RE.mp4\n",
      "Restored name Z:\\Nimrod\\experiments\\PV_57\\2024_11_21\\block_003\\eye_videos\\RE\\pv_57_single_print_03_640x480_60hz_experiment_1_recording_0\\pv_57_single_print_03_params_temp.json to Z:\\Nimrod\\experiments\\PV_57\\2024_11_21\\block_003\\eye_videos\\RE\\pv_57_single_print_03_640x480_60hz_experiment_1_recording_0\\pv_57_single_print_03_params.json\n",
      "Restored name Z:\\Nimrod\\experiments\\PV_57\\2024_11_21\\block_003\\eye_videos\\RE\\pv_57_single_print_03_640x480_60hz_experiment_1_recording_0\\pv_57_single_print_03_temp.h264 to Z:\\Nimrod\\experiments\\PV_57\\2024_11_21\\block_003\\eye_videos\\RE\\pv_57_single_print_03_640x480_60hz_experiment_1_recording_0\\pv_57_single_print_03.h264\n",
      "Restored name Z:\\Nimrod\\experiments\\PV_57\\2024_11_21\\block_003\\eye_videos\\RE\\pv_57_single_print_03_640x480_60hz_experiment_1_recording_0\\pv_57_single_print_03_timestamps_temp.csv to Z:\\Nimrod\\experiments\\PV_57\\2024_11_21\\block_003\\eye_videos\\RE\\pv_57_single_print_03_640x480_60hz_experiment_1_recording_0\\pv_57_single_print_03_timestamps.csv\n",
      "Restored name Z:\\Nimrod\\experiments\\PV_57\\2024_11_21\\block_003\\eye_videos\\LE\\pv_57_single_print_03_640x480_60hz_experiment_1_recording_0\\pv_57_single_print_03_params_temp.json to Z:\\Nimrod\\experiments\\PV_57\\2024_11_21\\block_003\\eye_videos\\LE\\pv_57_single_print_03_640x480_60hz_experiment_1_recording_0\\pv_57_single_print_03_params.json\n",
      "Restored name Z:\\Nimrod\\experiments\\PV_57\\2024_11_21\\block_003\\eye_videos\\LE\\pv_57_single_print_03_640x480_60hz_experiment_1_recording_0\\pv_57_single_print_03_REDLC_resnet_50_Eye_Tracking_piplineMar1shuffle1_950000_labeled_temp.mp4 to Z:\\Nimrod\\experiments\\PV_57\\2024_11_21\\block_003\\eye_videos\\LE\\pv_57_single_print_03_640x480_60hz_experiment_1_recording_0\\pv_57_single_print_03_REDLC_resnet_50_Eye_Tracking_piplineMar1shuffle1_950000_labeled.mp4\n",
      "Renamed Z:\\Nimrod\\experiments\\PV_57\\2024_11_21\\block_003\\eye_videos\\LE\\pv_57_single_print_03_640x480_60hz_experiment_1_recording_0\\pv_57_single_print_03_REDLC_resnet_50_Eye_Tracking_piplineMar1shuffle1_950000_labeled.mp4 to Z:\\Nimrod\\experiments\\PV_57\\2024_11_21\\block_003\\eye_videos\\LE\\pv_57_single_print_03_640x480_60hz_experiment_1_recording_0\\pv_57_single_print_03_LEDLC_resnet_50_Eye_Tracking_piplineMar1shuffle1_950000_labeled.mp4\n",
      "Restored name Z:\\Nimrod\\experiments\\PV_57\\2024_11_21\\block_003\\eye_videos\\LE\\pv_57_single_print_03_640x480_60hz_experiment_1_recording_0\\pv_57_single_print_03_REDLC_resnet_50_Eye_Tracking_piplineMar1shuffle1_950000_meta_temp.pickle to Z:\\Nimrod\\experiments\\PV_57\\2024_11_21\\block_003\\eye_videos\\LE\\pv_57_single_print_03_640x480_60hz_experiment_1_recording_0\\pv_57_single_print_03_REDLC_resnet_50_Eye_Tracking_piplineMar1shuffle1_950000_meta.pickle\n",
      "Renamed Z:\\Nimrod\\experiments\\PV_57\\2024_11_21\\block_003\\eye_videos\\LE\\pv_57_single_print_03_640x480_60hz_experiment_1_recording_0\\pv_57_single_print_03_REDLC_resnet_50_Eye_Tracking_piplineMar1shuffle1_950000_meta.pickle to Z:\\Nimrod\\experiments\\PV_57\\2024_11_21\\block_003\\eye_videos\\LE\\pv_57_single_print_03_640x480_60hz_experiment_1_recording_0\\pv_57_single_print_03_LEDLC_resnet_50_Eye_Tracking_piplineMar1shuffle1_950000_meta.pickle\n",
      "Restored name Z:\\Nimrod\\experiments\\PV_57\\2024_11_21\\block_003\\eye_videos\\LE\\pv_57_single_print_03_640x480_60hz_experiment_1_recording_0\\pv_57_single_print_03_REDLC_resnet_50_Eye_Tracking_piplineMar1shuffle1_950000_temp.csv to Z:\\Nimrod\\experiments\\PV_57\\2024_11_21\\block_003\\eye_videos\\LE\\pv_57_single_print_03_640x480_60hz_experiment_1_recording_0\\pv_57_single_print_03_REDLC_resnet_50_Eye_Tracking_piplineMar1shuffle1_950000.csv\n",
      "Renamed Z:\\Nimrod\\experiments\\PV_57\\2024_11_21\\block_003\\eye_videos\\LE\\pv_57_single_print_03_640x480_60hz_experiment_1_recording_0\\pv_57_single_print_03_REDLC_resnet_50_Eye_Tracking_piplineMar1shuffle1_950000.csv to Z:\\Nimrod\\experiments\\PV_57\\2024_11_21\\block_003\\eye_videos\\LE\\pv_57_single_print_03_640x480_60hz_experiment_1_recording_0\\pv_57_single_print_03_LEDLC_resnet_50_Eye_Tracking_piplineMar1shuffle1_950000.csv\n",
      "Restored name Z:\\Nimrod\\experiments\\PV_57\\2024_11_21\\block_003\\eye_videos\\LE\\pv_57_single_print_03_640x480_60hz_experiment_1_recording_0\\pv_57_single_print_03_REDLC_resnet_50_Eye_Tracking_piplineMar1shuffle1_950000_temp.h5 to Z:\\Nimrod\\experiments\\PV_57\\2024_11_21\\block_003\\eye_videos\\LE\\pv_57_single_print_03_640x480_60hz_experiment_1_recording_0\\pv_57_single_print_03_REDLC_resnet_50_Eye_Tracking_piplineMar1shuffle1_950000.h5\n",
      "Renamed Z:\\Nimrod\\experiments\\PV_57\\2024_11_21\\block_003\\eye_videos\\LE\\pv_57_single_print_03_640x480_60hz_experiment_1_recording_0\\pv_57_single_print_03_REDLC_resnet_50_Eye_Tracking_piplineMar1shuffle1_950000.h5 to Z:\\Nimrod\\experiments\\PV_57\\2024_11_21\\block_003\\eye_videos\\LE\\pv_57_single_print_03_640x480_60hz_experiment_1_recording_0\\pv_57_single_print_03_LEDLC_resnet_50_Eye_Tracking_piplineMar1shuffle1_950000.h5\n",
      "Restored name Z:\\Nimrod\\experiments\\PV_57\\2024_11_21\\block_003\\eye_videos\\LE\\pv_57_single_print_03_640x480_60hz_experiment_1_recording_0\\pv_57_single_print_03_RE_temp.mp4 to Z:\\Nimrod\\experiments\\PV_57\\2024_11_21\\block_003\\eye_videos\\LE\\pv_57_single_print_03_640x480_60hz_experiment_1_recording_0\\pv_57_single_print_03_RE.mp4\n",
      "Renamed Z:\\Nimrod\\experiments\\PV_57\\2024_11_21\\block_003\\eye_videos\\LE\\pv_57_single_print_03_640x480_60hz_experiment_1_recording_0\\pv_57_single_print_03_RE.mp4 to Z:\\Nimrod\\experiments\\PV_57\\2024_11_21\\block_003\\eye_videos\\LE\\pv_57_single_print_03_640x480_60hz_experiment_1_recording_0\\pv_57_single_print_03_LE.mp4\n",
      "Restored name Z:\\Nimrod\\experiments\\PV_57\\2024_11_21\\block_003\\eye_videos\\LE\\pv_57_single_print_03_640x480_60hz_experiment_1_recording_0\\pv_57_single_print_03_temp.h264 to Z:\\Nimrod\\experiments\\PV_57\\2024_11_21\\block_003\\eye_videos\\LE\\pv_57_single_print_03_640x480_60hz_experiment_1_recording_0\\pv_57_single_print_03.h264\n",
      "Restored name Z:\\Nimrod\\experiments\\PV_57\\2024_11_21\\block_003\\eye_videos\\LE\\pv_57_single_print_03_640x480_60hz_experiment_1_recording_0\\pv_57_single_print_03_temp.mp4 to Z:\\Nimrod\\experiments\\PV_57\\2024_11_21\\block_003\\eye_videos\\LE\\pv_57_single_print_03_640x480_60hz_experiment_1_recording_0\\pv_57_single_print_03.mp4\n",
      "Restored name Z:\\Nimrod\\experiments\\PV_57\\2024_11_21\\block_003\\eye_videos\\LE\\pv_57_single_print_03_640x480_60hz_experiment_1_recording_0\\pv_57_single_print_03_timestamps_temp.csv to Z:\\Nimrod\\experiments\\PV_57\\2024_11_21\\block_003\\eye_videos\\LE\\pv_57_single_print_03_640x480_60hz_experiment_1_recording_0\\pv_57_single_print_03_timestamps.csv\n",
      "Completed swapping and renaming for block 003\n",
      "working on PV_57, block 004, on pv_57_trial04_2024-11-21_16-33-37...\n",
      "\n",
      "Block 004 - Confirmation Required\n",
      "Files to be moved from Left Eye folder to Right Eye folder:\n",
      "  - Z:\\Nimrod\\experiments\\PV_57\\2024_11_21\\block_004\\eye_videos\\LE\\pv_57_single_print_04_640x480_60hz_experiment_1_recording_0\\pv_57_single_print_04.h264\n",
      "  - Z:\\Nimrod\\experiments\\PV_57\\2024_11_21\\block_004\\eye_videos\\LE\\pv_57_single_print_04_640x480_60hz_experiment_1_recording_0\\pv_57_single_print_04_LE.mp4\n",
      "  - Z:\\Nimrod\\experiments\\PV_57\\2024_11_21\\block_004\\eye_videos\\LE\\pv_57_single_print_04_640x480_60hz_experiment_1_recording_0\\pv_57_single_print_04_LEDLC_resnet_50_Eye_Tracking_piplineMar1shuffle1_950000.csv\n",
      "  - Z:\\Nimrod\\experiments\\PV_57\\2024_11_21\\block_004\\eye_videos\\LE\\pv_57_single_print_04_640x480_60hz_experiment_1_recording_0\\pv_57_single_print_04_LEDLC_resnet_50_Eye_Tracking_piplineMar1shuffle1_950000.h5\n",
      "  - Z:\\Nimrod\\experiments\\PV_57\\2024_11_21\\block_004\\eye_videos\\LE\\pv_57_single_print_04_640x480_60hz_experiment_1_recording_0\\pv_57_single_print_04_LEDLC_resnet_50_Eye_Tracking_piplineMar1shuffle1_950000_labeled_LE.mp4\n",
      "  - Z:\\Nimrod\\experiments\\PV_57\\2024_11_21\\block_004\\eye_videos\\LE\\pv_57_single_print_04_640x480_60hz_experiment_1_recording_0\\pv_57_single_print_04_LEDLC_resnet_50_Eye_Tracking_piplineMar1shuffle1_950000_meta.pickle\n",
      "  - Z:\\Nimrod\\experiments\\PV_57\\2024_11_21\\block_004\\eye_videos\\LE\\pv_57_single_print_04_640x480_60hz_experiment_1_recording_0\\pv_57_single_print_04_params.json\n",
      "  - Z:\\Nimrod\\experiments\\PV_57\\2024_11_21\\block_004\\eye_videos\\LE\\pv_57_single_print_04_640x480_60hz_experiment_1_recording_0\\pv_57_single_print_04_timestamps.csv\n",
      "Files to be moved from Right Eye folder to Left Eye folder:\n",
      "  - Z:\\Nimrod\\experiments\\PV_57\\2024_11_21\\block_004\\eye_videos\\RE\\pv_57_single_print_04_640x480_60hz_experiment_1_recording_0\\pv_57_single_print_04.h264\n",
      "  - Z:\\Nimrod\\experiments\\PV_57\\2024_11_21\\block_004\\eye_videos\\RE\\pv_57_single_print_04_640x480_60hz_experiment_1_recording_0\\pv_57_single_print_04.mp4\n",
      "  - Z:\\Nimrod\\experiments\\PV_57\\2024_11_21\\block_004\\eye_videos\\RE\\pv_57_single_print_04_640x480_60hz_experiment_1_recording_0\\pv_57_single_print_04_params.json\n",
      "  - Z:\\Nimrod\\experiments\\PV_57\\2024_11_21\\block_004\\eye_videos\\RE\\pv_57_single_print_04_640x480_60hz_experiment_1_recording_0\\pv_57_single_print_04_RE.mp4\n",
      "  - Z:\\Nimrod\\experiments\\PV_57\\2024_11_21\\block_004\\eye_videos\\RE\\pv_57_single_print_04_640x480_60hz_experiment_1_recording_0\\pv_57_single_print_04_REDLC_resnet_50_Eye_Tracking_piplineMar1shuffle1_950000.csv\n",
      "  - Z:\\Nimrod\\experiments\\PV_57\\2024_11_21\\block_004\\eye_videos\\RE\\pv_57_single_print_04_640x480_60hz_experiment_1_recording_0\\pv_57_single_print_04_REDLC_resnet_50_Eye_Tracking_piplineMar1shuffle1_950000.h5\n",
      "  - Z:\\Nimrod\\experiments\\PV_57\\2024_11_21\\block_004\\eye_videos\\RE\\pv_57_single_print_04_640x480_60hz_experiment_1_recording_0\\pv_57_single_print_04_REDLC_resnet_50_Eye_Tracking_piplineMar1shuffle1_950000_labeled.mp4\n",
      "  - Z:\\Nimrod\\experiments\\PV_57\\2024_11_21\\block_004\\eye_videos\\RE\\pv_57_single_print_04_640x480_60hz_experiment_1_recording_0\\pv_57_single_print_04_REDLC_resnet_50_Eye_Tracking_piplineMar1shuffle1_950000_meta.pickle\n",
      "  - Z:\\Nimrod\\experiments\\PV_57\\2024_11_21\\block_004\\eye_videos\\RE\\pv_57_single_print_04_640x480_60hz_experiment_1_recording_0\\pv_57_single_print_04_timestamps.csv\n",
      "Temporarily moved Z:\\Nimrod\\experiments\\PV_57\\2024_11_21\\block_004\\eye_videos\\LE\\pv_57_single_print_04_640x480_60hz_experiment_1_recording_0\\pv_57_single_print_04.h264 to Z:\\Nimrod\\experiments\\PV_57\\2024_11_21\\block_004\\eye_videos\\RE\\pv_57_single_print_04_640x480_60hz_experiment_1_recording_0\\pv_57_single_print_04_temp.h264\n",
      "Temporarily moved Z:\\Nimrod\\experiments\\PV_57\\2024_11_21\\block_004\\eye_videos\\LE\\pv_57_single_print_04_640x480_60hz_experiment_1_recording_0\\pv_57_single_print_04_LE.mp4 to Z:\\Nimrod\\experiments\\PV_57\\2024_11_21\\block_004\\eye_videos\\RE\\pv_57_single_print_04_640x480_60hz_experiment_1_recording_0\\pv_57_single_print_04_LE_temp.mp4\n",
      "Temporarily moved Z:\\Nimrod\\experiments\\PV_57\\2024_11_21\\block_004\\eye_videos\\LE\\pv_57_single_print_04_640x480_60hz_experiment_1_recording_0\\pv_57_single_print_04_LEDLC_resnet_50_Eye_Tracking_piplineMar1shuffle1_950000.csv to Z:\\Nimrod\\experiments\\PV_57\\2024_11_21\\block_004\\eye_videos\\RE\\pv_57_single_print_04_640x480_60hz_experiment_1_recording_0\\pv_57_single_print_04_LEDLC_resnet_50_Eye_Tracking_piplineMar1shuffle1_950000_temp.csv\n",
      "Temporarily moved Z:\\Nimrod\\experiments\\PV_57\\2024_11_21\\block_004\\eye_videos\\LE\\pv_57_single_print_04_640x480_60hz_experiment_1_recording_0\\pv_57_single_print_04_LEDLC_resnet_50_Eye_Tracking_piplineMar1shuffle1_950000.h5 to Z:\\Nimrod\\experiments\\PV_57\\2024_11_21\\block_004\\eye_videos\\RE\\pv_57_single_print_04_640x480_60hz_experiment_1_recording_0\\pv_57_single_print_04_LEDLC_resnet_50_Eye_Tracking_piplineMar1shuffle1_950000_temp.h5\n",
      "Temporarily moved Z:\\Nimrod\\experiments\\PV_57\\2024_11_21\\block_004\\eye_videos\\LE\\pv_57_single_print_04_640x480_60hz_experiment_1_recording_0\\pv_57_single_print_04_LEDLC_resnet_50_Eye_Tracking_piplineMar1shuffle1_950000_labeled_LE.mp4 to Z:\\Nimrod\\experiments\\PV_57\\2024_11_21\\block_004\\eye_videos\\RE\\pv_57_single_print_04_640x480_60hz_experiment_1_recording_0\\pv_57_single_print_04_LEDLC_resnet_50_Eye_Tracking_piplineMar1shuffle1_950000_labeled_LE_temp.mp4\n",
      "Temporarily moved Z:\\Nimrod\\experiments\\PV_57\\2024_11_21\\block_004\\eye_videos\\LE\\pv_57_single_print_04_640x480_60hz_experiment_1_recording_0\\pv_57_single_print_04_LEDLC_resnet_50_Eye_Tracking_piplineMar1shuffle1_950000_meta.pickle to Z:\\Nimrod\\experiments\\PV_57\\2024_11_21\\block_004\\eye_videos\\RE\\pv_57_single_print_04_640x480_60hz_experiment_1_recording_0\\pv_57_single_print_04_LEDLC_resnet_50_Eye_Tracking_piplineMar1shuffle1_950000_meta_temp.pickle\n",
      "Temporarily moved Z:\\Nimrod\\experiments\\PV_57\\2024_11_21\\block_004\\eye_videos\\LE\\pv_57_single_print_04_640x480_60hz_experiment_1_recording_0\\pv_57_single_print_04_params.json to Z:\\Nimrod\\experiments\\PV_57\\2024_11_21\\block_004\\eye_videos\\RE\\pv_57_single_print_04_640x480_60hz_experiment_1_recording_0\\pv_57_single_print_04_params_temp.json\n",
      "Temporarily moved Z:\\Nimrod\\experiments\\PV_57\\2024_11_21\\block_004\\eye_videos\\LE\\pv_57_single_print_04_640x480_60hz_experiment_1_recording_0\\pv_57_single_print_04_timestamps.csv to Z:\\Nimrod\\experiments\\PV_57\\2024_11_21\\block_004\\eye_videos\\RE\\pv_57_single_print_04_640x480_60hz_experiment_1_recording_0\\pv_57_single_print_04_timestamps_temp.csv\n",
      "Temporarily moved Z:\\Nimrod\\experiments\\PV_57\\2024_11_21\\block_004\\eye_videos\\RE\\pv_57_single_print_04_640x480_60hz_experiment_1_recording_0\\pv_57_single_print_04.h264 to Z:\\Nimrod\\experiments\\PV_57\\2024_11_21\\block_004\\eye_videos\\LE\\pv_57_single_print_04_640x480_60hz_experiment_1_recording_0\\pv_57_single_print_04_temp.h264\n",
      "Temporarily moved Z:\\Nimrod\\experiments\\PV_57\\2024_11_21\\block_004\\eye_videos\\RE\\pv_57_single_print_04_640x480_60hz_experiment_1_recording_0\\pv_57_single_print_04.mp4 to Z:\\Nimrod\\experiments\\PV_57\\2024_11_21\\block_004\\eye_videos\\LE\\pv_57_single_print_04_640x480_60hz_experiment_1_recording_0\\pv_57_single_print_04_temp.mp4\n",
      "Temporarily moved Z:\\Nimrod\\experiments\\PV_57\\2024_11_21\\block_004\\eye_videos\\RE\\pv_57_single_print_04_640x480_60hz_experiment_1_recording_0\\pv_57_single_print_04_params.json to Z:\\Nimrod\\experiments\\PV_57\\2024_11_21\\block_004\\eye_videos\\LE\\pv_57_single_print_04_640x480_60hz_experiment_1_recording_0\\pv_57_single_print_04_params_temp.json\n",
      "Temporarily moved Z:\\Nimrod\\experiments\\PV_57\\2024_11_21\\block_004\\eye_videos\\RE\\pv_57_single_print_04_640x480_60hz_experiment_1_recording_0\\pv_57_single_print_04_RE.mp4 to Z:\\Nimrod\\experiments\\PV_57\\2024_11_21\\block_004\\eye_videos\\LE\\pv_57_single_print_04_640x480_60hz_experiment_1_recording_0\\pv_57_single_print_04_RE_temp.mp4\n",
      "Temporarily moved Z:\\Nimrod\\experiments\\PV_57\\2024_11_21\\block_004\\eye_videos\\RE\\pv_57_single_print_04_640x480_60hz_experiment_1_recording_0\\pv_57_single_print_04_REDLC_resnet_50_Eye_Tracking_piplineMar1shuffle1_950000.csv to Z:\\Nimrod\\experiments\\PV_57\\2024_11_21\\block_004\\eye_videos\\LE\\pv_57_single_print_04_640x480_60hz_experiment_1_recording_0\\pv_57_single_print_04_REDLC_resnet_50_Eye_Tracking_piplineMar1shuffle1_950000_temp.csv\n",
      "Temporarily moved Z:\\Nimrod\\experiments\\PV_57\\2024_11_21\\block_004\\eye_videos\\RE\\pv_57_single_print_04_640x480_60hz_experiment_1_recording_0\\pv_57_single_print_04_REDLC_resnet_50_Eye_Tracking_piplineMar1shuffle1_950000.h5 to Z:\\Nimrod\\experiments\\PV_57\\2024_11_21\\block_004\\eye_videos\\LE\\pv_57_single_print_04_640x480_60hz_experiment_1_recording_0\\pv_57_single_print_04_REDLC_resnet_50_Eye_Tracking_piplineMar1shuffle1_950000_temp.h5\n",
      "Temporarily moved Z:\\Nimrod\\experiments\\PV_57\\2024_11_21\\block_004\\eye_videos\\RE\\pv_57_single_print_04_640x480_60hz_experiment_1_recording_0\\pv_57_single_print_04_REDLC_resnet_50_Eye_Tracking_piplineMar1shuffle1_950000_labeled.mp4 to Z:\\Nimrod\\experiments\\PV_57\\2024_11_21\\block_004\\eye_videos\\LE\\pv_57_single_print_04_640x480_60hz_experiment_1_recording_0\\pv_57_single_print_04_REDLC_resnet_50_Eye_Tracking_piplineMar1shuffle1_950000_labeled_temp.mp4\n",
      "Temporarily moved Z:\\Nimrod\\experiments\\PV_57\\2024_11_21\\block_004\\eye_videos\\RE\\pv_57_single_print_04_640x480_60hz_experiment_1_recording_0\\pv_57_single_print_04_REDLC_resnet_50_Eye_Tracking_piplineMar1shuffle1_950000_meta.pickle to Z:\\Nimrod\\experiments\\PV_57\\2024_11_21\\block_004\\eye_videos\\LE\\pv_57_single_print_04_640x480_60hz_experiment_1_recording_0\\pv_57_single_print_04_REDLC_resnet_50_Eye_Tracking_piplineMar1shuffle1_950000_meta_temp.pickle\n",
      "Temporarily moved Z:\\Nimrod\\experiments\\PV_57\\2024_11_21\\block_004\\eye_videos\\RE\\pv_57_single_print_04_640x480_60hz_experiment_1_recording_0\\pv_57_single_print_04_timestamps.csv to Z:\\Nimrod\\experiments\\PV_57\\2024_11_21\\block_004\\eye_videos\\LE\\pv_57_single_print_04_640x480_60hz_experiment_1_recording_0\\pv_57_single_print_04_timestamps_temp.csv\n",
      "Restored name Z:\\Nimrod\\experiments\\PV_57\\2024_11_21\\block_004\\eye_videos\\RE\\pv_57_single_print_04_640x480_60hz_experiment_1_recording_0\\pv_57_single_print_04_LEDLC_resnet_50_Eye_Tracking_piplineMar1shuffle1_950000_labeled_LE_temp.mp4 to Z:\\Nimrod\\experiments\\PV_57\\2024_11_21\\block_004\\eye_videos\\RE\\pv_57_single_print_04_640x480_60hz_experiment_1_recording_0\\pv_57_single_print_04_LEDLC_resnet_50_Eye_Tracking_piplineMar1shuffle1_950000_labeled_LE.mp4\n",
      "Renamed Z:\\Nimrod\\experiments\\PV_57\\2024_11_21\\block_004\\eye_videos\\RE\\pv_57_single_print_04_640x480_60hz_experiment_1_recording_0\\pv_57_single_print_04_LEDLC_resnet_50_Eye_Tracking_piplineMar1shuffle1_950000_labeled_LE.mp4 to Z:\\Nimrod\\experiments\\PV_57\\2024_11_21\\block_004\\eye_videos\\RE\\pv_57_single_print_04_640x480_60hz_experiment_1_recording_0\\pv_57_single_print_04_REDLC_resnet_50_Eye_Tracking_piplineMar1shuffle1_950000_labeled_RE.mp4\n",
      "Restored name Z:\\Nimrod\\experiments\\PV_57\\2024_11_21\\block_004\\eye_videos\\RE\\pv_57_single_print_04_640x480_60hz_experiment_1_recording_0\\pv_57_single_print_04_LEDLC_resnet_50_Eye_Tracking_piplineMar1shuffle1_950000_meta_temp.pickle to Z:\\Nimrod\\experiments\\PV_57\\2024_11_21\\block_004\\eye_videos\\RE\\pv_57_single_print_04_640x480_60hz_experiment_1_recording_0\\pv_57_single_print_04_LEDLC_resnet_50_Eye_Tracking_piplineMar1shuffle1_950000_meta.pickle\n",
      "Renamed Z:\\Nimrod\\experiments\\PV_57\\2024_11_21\\block_004\\eye_videos\\RE\\pv_57_single_print_04_640x480_60hz_experiment_1_recording_0\\pv_57_single_print_04_LEDLC_resnet_50_Eye_Tracking_piplineMar1shuffle1_950000_meta.pickle to Z:\\Nimrod\\experiments\\PV_57\\2024_11_21\\block_004\\eye_videos\\RE\\pv_57_single_print_04_640x480_60hz_experiment_1_recording_0\\pv_57_single_print_04_REDLC_resnet_50_Eye_Tracking_piplineMar1shuffle1_950000_meta.pickle\n",
      "Restored name Z:\\Nimrod\\experiments\\PV_57\\2024_11_21\\block_004\\eye_videos\\RE\\pv_57_single_print_04_640x480_60hz_experiment_1_recording_0\\pv_57_single_print_04_LEDLC_resnet_50_Eye_Tracking_piplineMar1shuffle1_950000_temp.csv to Z:\\Nimrod\\experiments\\PV_57\\2024_11_21\\block_004\\eye_videos\\RE\\pv_57_single_print_04_640x480_60hz_experiment_1_recording_0\\pv_57_single_print_04_LEDLC_resnet_50_Eye_Tracking_piplineMar1shuffle1_950000.csv\n",
      "Renamed Z:\\Nimrod\\experiments\\PV_57\\2024_11_21\\block_004\\eye_videos\\RE\\pv_57_single_print_04_640x480_60hz_experiment_1_recording_0\\pv_57_single_print_04_LEDLC_resnet_50_Eye_Tracking_piplineMar1shuffle1_950000.csv to Z:\\Nimrod\\experiments\\PV_57\\2024_11_21\\block_004\\eye_videos\\RE\\pv_57_single_print_04_640x480_60hz_experiment_1_recording_0\\pv_57_single_print_04_REDLC_resnet_50_Eye_Tracking_piplineMar1shuffle1_950000.csv\n",
      "Restored name Z:\\Nimrod\\experiments\\PV_57\\2024_11_21\\block_004\\eye_videos\\RE\\pv_57_single_print_04_640x480_60hz_experiment_1_recording_0\\pv_57_single_print_04_LEDLC_resnet_50_Eye_Tracking_piplineMar1shuffle1_950000_temp.h5 to Z:\\Nimrod\\experiments\\PV_57\\2024_11_21\\block_004\\eye_videos\\RE\\pv_57_single_print_04_640x480_60hz_experiment_1_recording_0\\pv_57_single_print_04_LEDLC_resnet_50_Eye_Tracking_piplineMar1shuffle1_950000.h5\n",
      "Renamed Z:\\Nimrod\\experiments\\PV_57\\2024_11_21\\block_004\\eye_videos\\RE\\pv_57_single_print_04_640x480_60hz_experiment_1_recording_0\\pv_57_single_print_04_LEDLC_resnet_50_Eye_Tracking_piplineMar1shuffle1_950000.h5 to Z:\\Nimrod\\experiments\\PV_57\\2024_11_21\\block_004\\eye_videos\\RE\\pv_57_single_print_04_640x480_60hz_experiment_1_recording_0\\pv_57_single_print_04_REDLC_resnet_50_Eye_Tracking_piplineMar1shuffle1_950000.h5\n",
      "Restored name Z:\\Nimrod\\experiments\\PV_57\\2024_11_21\\block_004\\eye_videos\\RE\\pv_57_single_print_04_640x480_60hz_experiment_1_recording_0\\pv_57_single_print_04_LE_temp.mp4 to Z:\\Nimrod\\experiments\\PV_57\\2024_11_21\\block_004\\eye_videos\\RE\\pv_57_single_print_04_640x480_60hz_experiment_1_recording_0\\pv_57_single_print_04_LE.mp4\n",
      "Renamed Z:\\Nimrod\\experiments\\PV_57\\2024_11_21\\block_004\\eye_videos\\RE\\pv_57_single_print_04_640x480_60hz_experiment_1_recording_0\\pv_57_single_print_04_LE.mp4 to Z:\\Nimrod\\experiments\\PV_57\\2024_11_21\\block_004\\eye_videos\\RE\\pv_57_single_print_04_640x480_60hz_experiment_1_recording_0\\pv_57_single_print_04_RE.mp4\n",
      "Restored name Z:\\Nimrod\\experiments\\PV_57\\2024_11_21\\block_004\\eye_videos\\RE\\pv_57_single_print_04_640x480_60hz_experiment_1_recording_0\\pv_57_single_print_04_params_temp.json to Z:\\Nimrod\\experiments\\PV_57\\2024_11_21\\block_004\\eye_videos\\RE\\pv_57_single_print_04_640x480_60hz_experiment_1_recording_0\\pv_57_single_print_04_params.json\n",
      "Restored name Z:\\Nimrod\\experiments\\PV_57\\2024_11_21\\block_004\\eye_videos\\RE\\pv_57_single_print_04_640x480_60hz_experiment_1_recording_0\\pv_57_single_print_04_temp.h264 to Z:\\Nimrod\\experiments\\PV_57\\2024_11_21\\block_004\\eye_videos\\RE\\pv_57_single_print_04_640x480_60hz_experiment_1_recording_0\\pv_57_single_print_04.h264\n",
      "Restored name Z:\\Nimrod\\experiments\\PV_57\\2024_11_21\\block_004\\eye_videos\\RE\\pv_57_single_print_04_640x480_60hz_experiment_1_recording_0\\pv_57_single_print_04_timestamps_temp.csv to Z:\\Nimrod\\experiments\\PV_57\\2024_11_21\\block_004\\eye_videos\\RE\\pv_57_single_print_04_640x480_60hz_experiment_1_recording_0\\pv_57_single_print_04_timestamps.csv\n",
      "Restored name Z:\\Nimrod\\experiments\\PV_57\\2024_11_21\\block_004\\eye_videos\\LE\\pv_57_single_print_04_640x480_60hz_experiment_1_recording_0\\pv_57_single_print_04_params_temp.json to Z:\\Nimrod\\experiments\\PV_57\\2024_11_21\\block_004\\eye_videos\\LE\\pv_57_single_print_04_640x480_60hz_experiment_1_recording_0\\pv_57_single_print_04_params.json\n",
      "Restored name Z:\\Nimrod\\experiments\\PV_57\\2024_11_21\\block_004\\eye_videos\\LE\\pv_57_single_print_04_640x480_60hz_experiment_1_recording_0\\pv_57_single_print_04_REDLC_resnet_50_Eye_Tracking_piplineMar1shuffle1_950000_labeled_temp.mp4 to Z:\\Nimrod\\experiments\\PV_57\\2024_11_21\\block_004\\eye_videos\\LE\\pv_57_single_print_04_640x480_60hz_experiment_1_recording_0\\pv_57_single_print_04_REDLC_resnet_50_Eye_Tracking_piplineMar1shuffle1_950000_labeled.mp4\n",
      "Renamed Z:\\Nimrod\\experiments\\PV_57\\2024_11_21\\block_004\\eye_videos\\LE\\pv_57_single_print_04_640x480_60hz_experiment_1_recording_0\\pv_57_single_print_04_REDLC_resnet_50_Eye_Tracking_piplineMar1shuffle1_950000_labeled.mp4 to Z:\\Nimrod\\experiments\\PV_57\\2024_11_21\\block_004\\eye_videos\\LE\\pv_57_single_print_04_640x480_60hz_experiment_1_recording_0\\pv_57_single_print_04_LEDLC_resnet_50_Eye_Tracking_piplineMar1shuffle1_950000_labeled.mp4\n",
      "Restored name Z:\\Nimrod\\experiments\\PV_57\\2024_11_21\\block_004\\eye_videos\\LE\\pv_57_single_print_04_640x480_60hz_experiment_1_recording_0\\pv_57_single_print_04_REDLC_resnet_50_Eye_Tracking_piplineMar1shuffle1_950000_meta_temp.pickle to Z:\\Nimrod\\experiments\\PV_57\\2024_11_21\\block_004\\eye_videos\\LE\\pv_57_single_print_04_640x480_60hz_experiment_1_recording_0\\pv_57_single_print_04_REDLC_resnet_50_Eye_Tracking_piplineMar1shuffle1_950000_meta.pickle\n",
      "Renamed Z:\\Nimrod\\experiments\\PV_57\\2024_11_21\\block_004\\eye_videos\\LE\\pv_57_single_print_04_640x480_60hz_experiment_1_recording_0\\pv_57_single_print_04_REDLC_resnet_50_Eye_Tracking_piplineMar1shuffle1_950000_meta.pickle to Z:\\Nimrod\\experiments\\PV_57\\2024_11_21\\block_004\\eye_videos\\LE\\pv_57_single_print_04_640x480_60hz_experiment_1_recording_0\\pv_57_single_print_04_LEDLC_resnet_50_Eye_Tracking_piplineMar1shuffle1_950000_meta.pickle\n",
      "Restored name Z:\\Nimrod\\experiments\\PV_57\\2024_11_21\\block_004\\eye_videos\\LE\\pv_57_single_print_04_640x480_60hz_experiment_1_recording_0\\pv_57_single_print_04_REDLC_resnet_50_Eye_Tracking_piplineMar1shuffle1_950000_temp.csv to Z:\\Nimrod\\experiments\\PV_57\\2024_11_21\\block_004\\eye_videos\\LE\\pv_57_single_print_04_640x480_60hz_experiment_1_recording_0\\pv_57_single_print_04_REDLC_resnet_50_Eye_Tracking_piplineMar1shuffle1_950000.csv\n",
      "Renamed Z:\\Nimrod\\experiments\\PV_57\\2024_11_21\\block_004\\eye_videos\\LE\\pv_57_single_print_04_640x480_60hz_experiment_1_recording_0\\pv_57_single_print_04_REDLC_resnet_50_Eye_Tracking_piplineMar1shuffle1_950000.csv to Z:\\Nimrod\\experiments\\PV_57\\2024_11_21\\block_004\\eye_videos\\LE\\pv_57_single_print_04_640x480_60hz_experiment_1_recording_0\\pv_57_single_print_04_LEDLC_resnet_50_Eye_Tracking_piplineMar1shuffle1_950000.csv\n",
      "Restored name Z:\\Nimrod\\experiments\\PV_57\\2024_11_21\\block_004\\eye_videos\\LE\\pv_57_single_print_04_640x480_60hz_experiment_1_recording_0\\pv_57_single_print_04_REDLC_resnet_50_Eye_Tracking_piplineMar1shuffle1_950000_temp.h5 to Z:\\Nimrod\\experiments\\PV_57\\2024_11_21\\block_004\\eye_videos\\LE\\pv_57_single_print_04_640x480_60hz_experiment_1_recording_0\\pv_57_single_print_04_REDLC_resnet_50_Eye_Tracking_piplineMar1shuffle1_950000.h5\n",
      "Renamed Z:\\Nimrod\\experiments\\PV_57\\2024_11_21\\block_004\\eye_videos\\LE\\pv_57_single_print_04_640x480_60hz_experiment_1_recording_0\\pv_57_single_print_04_REDLC_resnet_50_Eye_Tracking_piplineMar1shuffle1_950000.h5 to Z:\\Nimrod\\experiments\\PV_57\\2024_11_21\\block_004\\eye_videos\\LE\\pv_57_single_print_04_640x480_60hz_experiment_1_recording_0\\pv_57_single_print_04_LEDLC_resnet_50_Eye_Tracking_piplineMar1shuffle1_950000.h5\n",
      "Restored name Z:\\Nimrod\\experiments\\PV_57\\2024_11_21\\block_004\\eye_videos\\LE\\pv_57_single_print_04_640x480_60hz_experiment_1_recording_0\\pv_57_single_print_04_RE_temp.mp4 to Z:\\Nimrod\\experiments\\PV_57\\2024_11_21\\block_004\\eye_videos\\LE\\pv_57_single_print_04_640x480_60hz_experiment_1_recording_0\\pv_57_single_print_04_RE.mp4\n",
      "Renamed Z:\\Nimrod\\experiments\\PV_57\\2024_11_21\\block_004\\eye_videos\\LE\\pv_57_single_print_04_640x480_60hz_experiment_1_recording_0\\pv_57_single_print_04_RE.mp4 to Z:\\Nimrod\\experiments\\PV_57\\2024_11_21\\block_004\\eye_videos\\LE\\pv_57_single_print_04_640x480_60hz_experiment_1_recording_0\\pv_57_single_print_04_LE.mp4\n",
      "Restored name Z:\\Nimrod\\experiments\\PV_57\\2024_11_21\\block_004\\eye_videos\\LE\\pv_57_single_print_04_640x480_60hz_experiment_1_recording_0\\pv_57_single_print_04_temp.h264 to Z:\\Nimrod\\experiments\\PV_57\\2024_11_21\\block_004\\eye_videos\\LE\\pv_57_single_print_04_640x480_60hz_experiment_1_recording_0\\pv_57_single_print_04.h264\n",
      "Restored name Z:\\Nimrod\\experiments\\PV_57\\2024_11_21\\block_004\\eye_videos\\LE\\pv_57_single_print_04_640x480_60hz_experiment_1_recording_0\\pv_57_single_print_04_temp.mp4 to Z:\\Nimrod\\experiments\\PV_57\\2024_11_21\\block_004\\eye_videos\\LE\\pv_57_single_print_04_640x480_60hz_experiment_1_recording_0\\pv_57_single_print_04.mp4\n",
      "Restored name Z:\\Nimrod\\experiments\\PV_57\\2024_11_21\\block_004\\eye_videos\\LE\\pv_57_single_print_04_640x480_60hz_experiment_1_recording_0\\pv_57_single_print_04_timestamps_temp.csv to Z:\\Nimrod\\experiments\\PV_57\\2024_11_21\\block_004\\eye_videos\\LE\\pv_57_single_print_04_640x480_60hz_experiment_1_recording_0\\pv_57_single_print_04_timestamps.csv\n",
      "Completed swapping and renaming for block 004\n",
      "working on PV_57, block 005, on pv_57_day2_01_2024-11-25_14-59-12...\n",
      "\n",
      "Block 005 - Confirmation Required\n",
      "Files to be moved from Left Eye folder to Right Eye folder:\n",
      "  - Z:\\Nimrod\\experiments\\PV_57\\2024_11_25\\block_005\\eye_videos\\LE\\pv_57_single_print_d2_01_640x480_60hz_experiment_1_recording_0\\pv_57_single_print_d2_01.h264\n",
      "  - Z:\\Nimrod\\experiments\\PV_57\\2024_11_25\\block_005\\eye_videos\\LE\\pv_57_single_print_d2_01_640x480_60hz_experiment_1_recording_0\\pv_57_single_print_d2_01_LE.mp4\n",
      "  - Z:\\Nimrod\\experiments\\PV_57\\2024_11_25\\block_005\\eye_videos\\LE\\pv_57_single_print_d2_01_640x480_60hz_experiment_1_recording_0\\pv_57_single_print_d2_01_LEDLC_resnet_50_Eye_Tracking_piplineMar1shuffle1_950000.csv\n",
      "  - Z:\\Nimrod\\experiments\\PV_57\\2024_11_25\\block_005\\eye_videos\\LE\\pv_57_single_print_d2_01_640x480_60hz_experiment_1_recording_0\\pv_57_single_print_d2_01_LEDLC_resnet_50_Eye_Tracking_piplineMar1shuffle1_950000.h5\n",
      "  - Z:\\Nimrod\\experiments\\PV_57\\2024_11_25\\block_005\\eye_videos\\LE\\pv_57_single_print_d2_01_640x480_60hz_experiment_1_recording_0\\pv_57_single_print_d2_01_LEDLC_resnet_50_Eye_Tracking_piplineMar1shuffle1_950000_labeled_LE.mp4\n",
      "  - Z:\\Nimrod\\experiments\\PV_57\\2024_11_25\\block_005\\eye_videos\\LE\\pv_57_single_print_d2_01_640x480_60hz_experiment_1_recording_0\\pv_57_single_print_d2_01_LEDLC_resnet_50_Eye_Tracking_piplineMar1shuffle1_950000_meta.pickle\n",
      "  - Z:\\Nimrod\\experiments\\PV_57\\2024_11_25\\block_005\\eye_videos\\LE\\pv_57_single_print_d2_01_640x480_60hz_experiment_1_recording_0\\pv_57_single_print_d2_01_params.json\n",
      "  - Z:\\Nimrod\\experiments\\PV_57\\2024_11_25\\block_005\\eye_videos\\LE\\pv_57_single_print_d2_01_640x480_60hz_experiment_1_recording_0\\pv_57_single_print_d2_01_timestamps.csv\n",
      "Files to be moved from Right Eye folder to Left Eye folder:\n",
      "  - Z:\\Nimrod\\experiments\\PV_57\\2024_11_25\\block_005\\eye_videos\\RE\\pv_57_single_print_d2_01_640x480_60hz_experiment_1_recording_0\\pv_57_single_print_d2_01.h264\n",
      "  - Z:\\Nimrod\\experiments\\PV_57\\2024_11_25\\block_005\\eye_videos\\RE\\pv_57_single_print_d2_01_640x480_60hz_experiment_1_recording_0\\pv_57_single_print_d2_01.mp4\n",
      "  - Z:\\Nimrod\\experiments\\PV_57\\2024_11_25\\block_005\\eye_videos\\RE\\pv_57_single_print_d2_01_640x480_60hz_experiment_1_recording_0\\pv_57_single_print_d2_01_params.json\n",
      "  - Z:\\Nimrod\\experiments\\PV_57\\2024_11_25\\block_005\\eye_videos\\RE\\pv_57_single_print_d2_01_640x480_60hz_experiment_1_recording_0\\pv_57_single_print_d2_01_RE.mp4\n",
      "  - Z:\\Nimrod\\experiments\\PV_57\\2024_11_25\\block_005\\eye_videos\\RE\\pv_57_single_print_d2_01_640x480_60hz_experiment_1_recording_0\\pv_57_single_print_d2_01_REDLC_resnet_50_Eye_Tracking_piplineMar1shuffle1_950000.csv\n",
      "  - Z:\\Nimrod\\experiments\\PV_57\\2024_11_25\\block_005\\eye_videos\\RE\\pv_57_single_print_d2_01_640x480_60hz_experiment_1_recording_0\\pv_57_single_print_d2_01_REDLC_resnet_50_Eye_Tracking_piplineMar1shuffle1_950000.h5\n",
      "  - Z:\\Nimrod\\experiments\\PV_57\\2024_11_25\\block_005\\eye_videos\\RE\\pv_57_single_print_d2_01_640x480_60hz_experiment_1_recording_0\\pv_57_single_print_d2_01_REDLC_resnet_50_Eye_Tracking_piplineMar1shuffle1_950000_labeled.mp4\n",
      "  - Z:\\Nimrod\\experiments\\PV_57\\2024_11_25\\block_005\\eye_videos\\RE\\pv_57_single_print_d2_01_640x480_60hz_experiment_1_recording_0\\pv_57_single_print_d2_01_REDLC_resnet_50_Eye_Tracking_piplineMar1shuffle1_950000_meta.pickle\n",
      "  - Z:\\Nimrod\\experiments\\PV_57\\2024_11_25\\block_005\\eye_videos\\RE\\pv_57_single_print_d2_01_640x480_60hz_experiment_1_recording_0\\pv_57_single_print_d2_01_timestamps.csv\n",
      "Temporarily moved Z:\\Nimrod\\experiments\\PV_57\\2024_11_25\\block_005\\eye_videos\\LE\\pv_57_single_print_d2_01_640x480_60hz_experiment_1_recording_0\\pv_57_single_print_d2_01.h264 to Z:\\Nimrod\\experiments\\PV_57\\2024_11_25\\block_005\\eye_videos\\RE\\pv_57_single_print_d2_01_640x480_60hz_experiment_1_recording_0\\pv_57_single_print_d2_01_temp.h264\n",
      "Temporarily moved Z:\\Nimrod\\experiments\\PV_57\\2024_11_25\\block_005\\eye_videos\\LE\\pv_57_single_print_d2_01_640x480_60hz_experiment_1_recording_0\\pv_57_single_print_d2_01_LE.mp4 to Z:\\Nimrod\\experiments\\PV_57\\2024_11_25\\block_005\\eye_videos\\RE\\pv_57_single_print_d2_01_640x480_60hz_experiment_1_recording_0\\pv_57_single_print_d2_01_LE_temp.mp4\n",
      "Temporarily moved Z:\\Nimrod\\experiments\\PV_57\\2024_11_25\\block_005\\eye_videos\\LE\\pv_57_single_print_d2_01_640x480_60hz_experiment_1_recording_0\\pv_57_single_print_d2_01_LEDLC_resnet_50_Eye_Tracking_piplineMar1shuffle1_950000.csv to Z:\\Nimrod\\experiments\\PV_57\\2024_11_25\\block_005\\eye_videos\\RE\\pv_57_single_print_d2_01_640x480_60hz_experiment_1_recording_0\\pv_57_single_print_d2_01_LEDLC_resnet_50_Eye_Tracking_piplineMar1shuffle1_950000_temp.csv\n",
      "Temporarily moved Z:\\Nimrod\\experiments\\PV_57\\2024_11_25\\block_005\\eye_videos\\LE\\pv_57_single_print_d2_01_640x480_60hz_experiment_1_recording_0\\pv_57_single_print_d2_01_LEDLC_resnet_50_Eye_Tracking_piplineMar1shuffle1_950000.h5 to Z:\\Nimrod\\experiments\\PV_57\\2024_11_25\\block_005\\eye_videos\\RE\\pv_57_single_print_d2_01_640x480_60hz_experiment_1_recording_0\\pv_57_single_print_d2_01_LEDLC_resnet_50_Eye_Tracking_piplineMar1shuffle1_950000_temp.h5\n",
      "Temporarily moved Z:\\Nimrod\\experiments\\PV_57\\2024_11_25\\block_005\\eye_videos\\LE\\pv_57_single_print_d2_01_640x480_60hz_experiment_1_recording_0\\pv_57_single_print_d2_01_LEDLC_resnet_50_Eye_Tracking_piplineMar1shuffle1_950000_labeled_LE.mp4 to Z:\\Nimrod\\experiments\\PV_57\\2024_11_25\\block_005\\eye_videos\\RE\\pv_57_single_print_d2_01_640x480_60hz_experiment_1_recording_0\\pv_57_single_print_d2_01_LEDLC_resnet_50_Eye_Tracking_piplineMar1shuffle1_950000_labeled_LE_temp.mp4\n",
      "Temporarily moved Z:\\Nimrod\\experiments\\PV_57\\2024_11_25\\block_005\\eye_videos\\LE\\pv_57_single_print_d2_01_640x480_60hz_experiment_1_recording_0\\pv_57_single_print_d2_01_LEDLC_resnet_50_Eye_Tracking_piplineMar1shuffle1_950000_meta.pickle to Z:\\Nimrod\\experiments\\PV_57\\2024_11_25\\block_005\\eye_videos\\RE\\pv_57_single_print_d2_01_640x480_60hz_experiment_1_recording_0\\pv_57_single_print_d2_01_LEDLC_resnet_50_Eye_Tracking_piplineMar1shuffle1_950000_meta_temp.pickle\n",
      "Temporarily moved Z:\\Nimrod\\experiments\\PV_57\\2024_11_25\\block_005\\eye_videos\\LE\\pv_57_single_print_d2_01_640x480_60hz_experiment_1_recording_0\\pv_57_single_print_d2_01_params.json to Z:\\Nimrod\\experiments\\PV_57\\2024_11_25\\block_005\\eye_videos\\RE\\pv_57_single_print_d2_01_640x480_60hz_experiment_1_recording_0\\pv_57_single_print_d2_01_params_temp.json\n",
      "Temporarily moved Z:\\Nimrod\\experiments\\PV_57\\2024_11_25\\block_005\\eye_videos\\LE\\pv_57_single_print_d2_01_640x480_60hz_experiment_1_recording_0\\pv_57_single_print_d2_01_timestamps.csv to Z:\\Nimrod\\experiments\\PV_57\\2024_11_25\\block_005\\eye_videos\\RE\\pv_57_single_print_d2_01_640x480_60hz_experiment_1_recording_0\\pv_57_single_print_d2_01_timestamps_temp.csv\n",
      "Temporarily moved Z:\\Nimrod\\experiments\\PV_57\\2024_11_25\\block_005\\eye_videos\\RE\\pv_57_single_print_d2_01_640x480_60hz_experiment_1_recording_0\\pv_57_single_print_d2_01.h264 to Z:\\Nimrod\\experiments\\PV_57\\2024_11_25\\block_005\\eye_videos\\LE\\pv_57_single_print_d2_01_640x480_60hz_experiment_1_recording_0\\pv_57_single_print_d2_01_temp.h264\n",
      "Temporarily moved Z:\\Nimrod\\experiments\\PV_57\\2024_11_25\\block_005\\eye_videos\\RE\\pv_57_single_print_d2_01_640x480_60hz_experiment_1_recording_0\\pv_57_single_print_d2_01.mp4 to Z:\\Nimrod\\experiments\\PV_57\\2024_11_25\\block_005\\eye_videos\\LE\\pv_57_single_print_d2_01_640x480_60hz_experiment_1_recording_0\\pv_57_single_print_d2_01_temp.mp4\n",
      "Temporarily moved Z:\\Nimrod\\experiments\\PV_57\\2024_11_25\\block_005\\eye_videos\\RE\\pv_57_single_print_d2_01_640x480_60hz_experiment_1_recording_0\\pv_57_single_print_d2_01_params.json to Z:\\Nimrod\\experiments\\PV_57\\2024_11_25\\block_005\\eye_videos\\LE\\pv_57_single_print_d2_01_640x480_60hz_experiment_1_recording_0\\pv_57_single_print_d2_01_params_temp.json\n",
      "Temporarily moved Z:\\Nimrod\\experiments\\PV_57\\2024_11_25\\block_005\\eye_videos\\RE\\pv_57_single_print_d2_01_640x480_60hz_experiment_1_recording_0\\pv_57_single_print_d2_01_RE.mp4 to Z:\\Nimrod\\experiments\\PV_57\\2024_11_25\\block_005\\eye_videos\\LE\\pv_57_single_print_d2_01_640x480_60hz_experiment_1_recording_0\\pv_57_single_print_d2_01_RE_temp.mp4\n",
      "Temporarily moved Z:\\Nimrod\\experiments\\PV_57\\2024_11_25\\block_005\\eye_videos\\RE\\pv_57_single_print_d2_01_640x480_60hz_experiment_1_recording_0\\pv_57_single_print_d2_01_REDLC_resnet_50_Eye_Tracking_piplineMar1shuffle1_950000.csv to Z:\\Nimrod\\experiments\\PV_57\\2024_11_25\\block_005\\eye_videos\\LE\\pv_57_single_print_d2_01_640x480_60hz_experiment_1_recording_0\\pv_57_single_print_d2_01_REDLC_resnet_50_Eye_Tracking_piplineMar1shuffle1_950000_temp.csv\n",
      "Temporarily moved Z:\\Nimrod\\experiments\\PV_57\\2024_11_25\\block_005\\eye_videos\\RE\\pv_57_single_print_d2_01_640x480_60hz_experiment_1_recording_0\\pv_57_single_print_d2_01_REDLC_resnet_50_Eye_Tracking_piplineMar1shuffle1_950000.h5 to Z:\\Nimrod\\experiments\\PV_57\\2024_11_25\\block_005\\eye_videos\\LE\\pv_57_single_print_d2_01_640x480_60hz_experiment_1_recording_0\\pv_57_single_print_d2_01_REDLC_resnet_50_Eye_Tracking_piplineMar1shuffle1_950000_temp.h5\n",
      "Temporarily moved Z:\\Nimrod\\experiments\\PV_57\\2024_11_25\\block_005\\eye_videos\\RE\\pv_57_single_print_d2_01_640x480_60hz_experiment_1_recording_0\\pv_57_single_print_d2_01_REDLC_resnet_50_Eye_Tracking_piplineMar1shuffle1_950000_labeled.mp4 to Z:\\Nimrod\\experiments\\PV_57\\2024_11_25\\block_005\\eye_videos\\LE\\pv_57_single_print_d2_01_640x480_60hz_experiment_1_recording_0\\pv_57_single_print_d2_01_REDLC_resnet_50_Eye_Tracking_piplineMar1shuffle1_950000_labeled_temp.mp4\n",
      "Temporarily moved Z:\\Nimrod\\experiments\\PV_57\\2024_11_25\\block_005\\eye_videos\\RE\\pv_57_single_print_d2_01_640x480_60hz_experiment_1_recording_0\\pv_57_single_print_d2_01_REDLC_resnet_50_Eye_Tracking_piplineMar1shuffle1_950000_meta.pickle to Z:\\Nimrod\\experiments\\PV_57\\2024_11_25\\block_005\\eye_videos\\LE\\pv_57_single_print_d2_01_640x480_60hz_experiment_1_recording_0\\pv_57_single_print_d2_01_REDLC_resnet_50_Eye_Tracking_piplineMar1shuffle1_950000_meta_temp.pickle\n",
      "Temporarily moved Z:\\Nimrod\\experiments\\PV_57\\2024_11_25\\block_005\\eye_videos\\RE\\pv_57_single_print_d2_01_640x480_60hz_experiment_1_recording_0\\pv_57_single_print_d2_01_timestamps.csv to Z:\\Nimrod\\experiments\\PV_57\\2024_11_25\\block_005\\eye_videos\\LE\\pv_57_single_print_d2_01_640x480_60hz_experiment_1_recording_0\\pv_57_single_print_d2_01_timestamps_temp.csv\n",
      "Restored name Z:\\Nimrod\\experiments\\PV_57\\2024_11_25\\block_005\\eye_videos\\RE\\pv_57_single_print_d2_01_640x480_60hz_experiment_1_recording_0\\pv_57_single_print_d2_01_LEDLC_resnet_50_Eye_Tracking_piplineMar1shuffle1_950000_labeled_LE_temp.mp4 to Z:\\Nimrod\\experiments\\PV_57\\2024_11_25\\block_005\\eye_videos\\RE\\pv_57_single_print_d2_01_640x480_60hz_experiment_1_recording_0\\pv_57_single_print_d2_01_LEDLC_resnet_50_Eye_Tracking_piplineMar1shuffle1_950000_labeled_LE.mp4\n",
      "Renamed Z:\\Nimrod\\experiments\\PV_57\\2024_11_25\\block_005\\eye_videos\\RE\\pv_57_single_print_d2_01_640x480_60hz_experiment_1_recording_0\\pv_57_single_print_d2_01_LEDLC_resnet_50_Eye_Tracking_piplineMar1shuffle1_950000_labeled_LE.mp4 to Z:\\Nimrod\\experiments\\PV_57\\2024_11_25\\block_005\\eye_videos\\RE\\pv_57_single_print_d2_01_640x480_60hz_experiment_1_recording_0\\pv_57_single_print_d2_01_REDLC_resnet_50_Eye_Tracking_piplineMar1shuffle1_950000_labeled_RE.mp4\n",
      "Restored name Z:\\Nimrod\\experiments\\PV_57\\2024_11_25\\block_005\\eye_videos\\RE\\pv_57_single_print_d2_01_640x480_60hz_experiment_1_recording_0\\pv_57_single_print_d2_01_LEDLC_resnet_50_Eye_Tracking_piplineMar1shuffle1_950000_meta_temp.pickle to Z:\\Nimrod\\experiments\\PV_57\\2024_11_25\\block_005\\eye_videos\\RE\\pv_57_single_print_d2_01_640x480_60hz_experiment_1_recording_0\\pv_57_single_print_d2_01_LEDLC_resnet_50_Eye_Tracking_piplineMar1shuffle1_950000_meta.pickle\n",
      "Renamed Z:\\Nimrod\\experiments\\PV_57\\2024_11_25\\block_005\\eye_videos\\RE\\pv_57_single_print_d2_01_640x480_60hz_experiment_1_recording_0\\pv_57_single_print_d2_01_LEDLC_resnet_50_Eye_Tracking_piplineMar1shuffle1_950000_meta.pickle to Z:\\Nimrod\\experiments\\PV_57\\2024_11_25\\block_005\\eye_videos\\RE\\pv_57_single_print_d2_01_640x480_60hz_experiment_1_recording_0\\pv_57_single_print_d2_01_REDLC_resnet_50_Eye_Tracking_piplineMar1shuffle1_950000_meta.pickle\n",
      "Restored name Z:\\Nimrod\\experiments\\PV_57\\2024_11_25\\block_005\\eye_videos\\RE\\pv_57_single_print_d2_01_640x480_60hz_experiment_1_recording_0\\pv_57_single_print_d2_01_LEDLC_resnet_50_Eye_Tracking_piplineMar1shuffle1_950000_temp.csv to Z:\\Nimrod\\experiments\\PV_57\\2024_11_25\\block_005\\eye_videos\\RE\\pv_57_single_print_d2_01_640x480_60hz_experiment_1_recording_0\\pv_57_single_print_d2_01_LEDLC_resnet_50_Eye_Tracking_piplineMar1shuffle1_950000.csv\n",
      "Renamed Z:\\Nimrod\\experiments\\PV_57\\2024_11_25\\block_005\\eye_videos\\RE\\pv_57_single_print_d2_01_640x480_60hz_experiment_1_recording_0\\pv_57_single_print_d2_01_LEDLC_resnet_50_Eye_Tracking_piplineMar1shuffle1_950000.csv to Z:\\Nimrod\\experiments\\PV_57\\2024_11_25\\block_005\\eye_videos\\RE\\pv_57_single_print_d2_01_640x480_60hz_experiment_1_recording_0\\pv_57_single_print_d2_01_REDLC_resnet_50_Eye_Tracking_piplineMar1shuffle1_950000.csv\n",
      "Restored name Z:\\Nimrod\\experiments\\PV_57\\2024_11_25\\block_005\\eye_videos\\RE\\pv_57_single_print_d2_01_640x480_60hz_experiment_1_recording_0\\pv_57_single_print_d2_01_LEDLC_resnet_50_Eye_Tracking_piplineMar1shuffle1_950000_temp.h5 to Z:\\Nimrod\\experiments\\PV_57\\2024_11_25\\block_005\\eye_videos\\RE\\pv_57_single_print_d2_01_640x480_60hz_experiment_1_recording_0\\pv_57_single_print_d2_01_LEDLC_resnet_50_Eye_Tracking_piplineMar1shuffle1_950000.h5\n",
      "Renamed Z:\\Nimrod\\experiments\\PV_57\\2024_11_25\\block_005\\eye_videos\\RE\\pv_57_single_print_d2_01_640x480_60hz_experiment_1_recording_0\\pv_57_single_print_d2_01_LEDLC_resnet_50_Eye_Tracking_piplineMar1shuffle1_950000.h5 to Z:\\Nimrod\\experiments\\PV_57\\2024_11_25\\block_005\\eye_videos\\RE\\pv_57_single_print_d2_01_640x480_60hz_experiment_1_recording_0\\pv_57_single_print_d2_01_REDLC_resnet_50_Eye_Tracking_piplineMar1shuffle1_950000.h5\n",
      "Restored name Z:\\Nimrod\\experiments\\PV_57\\2024_11_25\\block_005\\eye_videos\\RE\\pv_57_single_print_d2_01_640x480_60hz_experiment_1_recording_0\\pv_57_single_print_d2_01_LE_temp.mp4 to Z:\\Nimrod\\experiments\\PV_57\\2024_11_25\\block_005\\eye_videos\\RE\\pv_57_single_print_d2_01_640x480_60hz_experiment_1_recording_0\\pv_57_single_print_d2_01_LE.mp4\n",
      "Renamed Z:\\Nimrod\\experiments\\PV_57\\2024_11_25\\block_005\\eye_videos\\RE\\pv_57_single_print_d2_01_640x480_60hz_experiment_1_recording_0\\pv_57_single_print_d2_01_LE.mp4 to Z:\\Nimrod\\experiments\\PV_57\\2024_11_25\\block_005\\eye_videos\\RE\\pv_57_single_print_d2_01_640x480_60hz_experiment_1_recording_0\\pv_57_single_print_d2_01_RE.mp4\n",
      "Restored name Z:\\Nimrod\\experiments\\PV_57\\2024_11_25\\block_005\\eye_videos\\RE\\pv_57_single_print_d2_01_640x480_60hz_experiment_1_recording_0\\pv_57_single_print_d2_01_params_temp.json to Z:\\Nimrod\\experiments\\PV_57\\2024_11_25\\block_005\\eye_videos\\RE\\pv_57_single_print_d2_01_640x480_60hz_experiment_1_recording_0\\pv_57_single_print_d2_01_params.json\n",
      "Restored name Z:\\Nimrod\\experiments\\PV_57\\2024_11_25\\block_005\\eye_videos\\RE\\pv_57_single_print_d2_01_640x480_60hz_experiment_1_recording_0\\pv_57_single_print_d2_01_temp.h264 to Z:\\Nimrod\\experiments\\PV_57\\2024_11_25\\block_005\\eye_videos\\RE\\pv_57_single_print_d2_01_640x480_60hz_experiment_1_recording_0\\pv_57_single_print_d2_01.h264\n",
      "Restored name Z:\\Nimrod\\experiments\\PV_57\\2024_11_25\\block_005\\eye_videos\\RE\\pv_57_single_print_d2_01_640x480_60hz_experiment_1_recording_0\\pv_57_single_print_d2_01_timestamps_temp.csv to Z:\\Nimrod\\experiments\\PV_57\\2024_11_25\\block_005\\eye_videos\\RE\\pv_57_single_print_d2_01_640x480_60hz_experiment_1_recording_0\\pv_57_single_print_d2_01_timestamps.csv\n",
      "Restored name Z:\\Nimrod\\experiments\\PV_57\\2024_11_25\\block_005\\eye_videos\\LE\\pv_57_single_print_d2_01_640x480_60hz_experiment_1_recording_0\\pv_57_single_print_d2_01_params_temp.json to Z:\\Nimrod\\experiments\\PV_57\\2024_11_25\\block_005\\eye_videos\\LE\\pv_57_single_print_d2_01_640x480_60hz_experiment_1_recording_0\\pv_57_single_print_d2_01_params.json\n",
      "Restored name Z:\\Nimrod\\experiments\\PV_57\\2024_11_25\\block_005\\eye_videos\\LE\\pv_57_single_print_d2_01_640x480_60hz_experiment_1_recording_0\\pv_57_single_print_d2_01_REDLC_resnet_50_Eye_Tracking_piplineMar1shuffle1_950000_labeled_temp.mp4 to Z:\\Nimrod\\experiments\\PV_57\\2024_11_25\\block_005\\eye_videos\\LE\\pv_57_single_print_d2_01_640x480_60hz_experiment_1_recording_0\\pv_57_single_print_d2_01_REDLC_resnet_50_Eye_Tracking_piplineMar1shuffle1_950000_labeled.mp4\n",
      "Renamed Z:\\Nimrod\\experiments\\PV_57\\2024_11_25\\block_005\\eye_videos\\LE\\pv_57_single_print_d2_01_640x480_60hz_experiment_1_recording_0\\pv_57_single_print_d2_01_REDLC_resnet_50_Eye_Tracking_piplineMar1shuffle1_950000_labeled.mp4 to Z:\\Nimrod\\experiments\\PV_57\\2024_11_25\\block_005\\eye_videos\\LE\\pv_57_single_print_d2_01_640x480_60hz_experiment_1_recording_0\\pv_57_single_print_d2_01_LEDLC_resnet_50_Eye_Tracking_piplineMar1shuffle1_950000_labeled.mp4\n",
      "Restored name Z:\\Nimrod\\experiments\\PV_57\\2024_11_25\\block_005\\eye_videos\\LE\\pv_57_single_print_d2_01_640x480_60hz_experiment_1_recording_0\\pv_57_single_print_d2_01_REDLC_resnet_50_Eye_Tracking_piplineMar1shuffle1_950000_meta_temp.pickle to Z:\\Nimrod\\experiments\\PV_57\\2024_11_25\\block_005\\eye_videos\\LE\\pv_57_single_print_d2_01_640x480_60hz_experiment_1_recording_0\\pv_57_single_print_d2_01_REDLC_resnet_50_Eye_Tracking_piplineMar1shuffle1_950000_meta.pickle\n",
      "Renamed Z:\\Nimrod\\experiments\\PV_57\\2024_11_25\\block_005\\eye_videos\\LE\\pv_57_single_print_d2_01_640x480_60hz_experiment_1_recording_0\\pv_57_single_print_d2_01_REDLC_resnet_50_Eye_Tracking_piplineMar1shuffle1_950000_meta.pickle to Z:\\Nimrod\\experiments\\PV_57\\2024_11_25\\block_005\\eye_videos\\LE\\pv_57_single_print_d2_01_640x480_60hz_experiment_1_recording_0\\pv_57_single_print_d2_01_LEDLC_resnet_50_Eye_Tracking_piplineMar1shuffle1_950000_meta.pickle\n",
      "Restored name Z:\\Nimrod\\experiments\\PV_57\\2024_11_25\\block_005\\eye_videos\\LE\\pv_57_single_print_d2_01_640x480_60hz_experiment_1_recording_0\\pv_57_single_print_d2_01_REDLC_resnet_50_Eye_Tracking_piplineMar1shuffle1_950000_temp.csv to Z:\\Nimrod\\experiments\\PV_57\\2024_11_25\\block_005\\eye_videos\\LE\\pv_57_single_print_d2_01_640x480_60hz_experiment_1_recording_0\\pv_57_single_print_d2_01_REDLC_resnet_50_Eye_Tracking_piplineMar1shuffle1_950000.csv\n",
      "Renamed Z:\\Nimrod\\experiments\\PV_57\\2024_11_25\\block_005\\eye_videos\\LE\\pv_57_single_print_d2_01_640x480_60hz_experiment_1_recording_0\\pv_57_single_print_d2_01_REDLC_resnet_50_Eye_Tracking_piplineMar1shuffle1_950000.csv to Z:\\Nimrod\\experiments\\PV_57\\2024_11_25\\block_005\\eye_videos\\LE\\pv_57_single_print_d2_01_640x480_60hz_experiment_1_recording_0\\pv_57_single_print_d2_01_LEDLC_resnet_50_Eye_Tracking_piplineMar1shuffle1_950000.csv\n",
      "Restored name Z:\\Nimrod\\experiments\\PV_57\\2024_11_25\\block_005\\eye_videos\\LE\\pv_57_single_print_d2_01_640x480_60hz_experiment_1_recording_0\\pv_57_single_print_d2_01_REDLC_resnet_50_Eye_Tracking_piplineMar1shuffle1_950000_temp.h5 to Z:\\Nimrod\\experiments\\PV_57\\2024_11_25\\block_005\\eye_videos\\LE\\pv_57_single_print_d2_01_640x480_60hz_experiment_1_recording_0\\pv_57_single_print_d2_01_REDLC_resnet_50_Eye_Tracking_piplineMar1shuffle1_950000.h5\n",
      "Renamed Z:\\Nimrod\\experiments\\PV_57\\2024_11_25\\block_005\\eye_videos\\LE\\pv_57_single_print_d2_01_640x480_60hz_experiment_1_recording_0\\pv_57_single_print_d2_01_REDLC_resnet_50_Eye_Tracking_piplineMar1shuffle1_950000.h5 to Z:\\Nimrod\\experiments\\PV_57\\2024_11_25\\block_005\\eye_videos\\LE\\pv_57_single_print_d2_01_640x480_60hz_experiment_1_recording_0\\pv_57_single_print_d2_01_LEDLC_resnet_50_Eye_Tracking_piplineMar1shuffle1_950000.h5\n",
      "Restored name Z:\\Nimrod\\experiments\\PV_57\\2024_11_25\\block_005\\eye_videos\\LE\\pv_57_single_print_d2_01_640x480_60hz_experiment_1_recording_0\\pv_57_single_print_d2_01_RE_temp.mp4 to Z:\\Nimrod\\experiments\\PV_57\\2024_11_25\\block_005\\eye_videos\\LE\\pv_57_single_print_d2_01_640x480_60hz_experiment_1_recording_0\\pv_57_single_print_d2_01_RE.mp4\n",
      "Renamed Z:\\Nimrod\\experiments\\PV_57\\2024_11_25\\block_005\\eye_videos\\LE\\pv_57_single_print_d2_01_640x480_60hz_experiment_1_recording_0\\pv_57_single_print_d2_01_RE.mp4 to Z:\\Nimrod\\experiments\\PV_57\\2024_11_25\\block_005\\eye_videos\\LE\\pv_57_single_print_d2_01_640x480_60hz_experiment_1_recording_0\\pv_57_single_print_d2_01_LE.mp4\n",
      "Restored name Z:\\Nimrod\\experiments\\PV_57\\2024_11_25\\block_005\\eye_videos\\LE\\pv_57_single_print_d2_01_640x480_60hz_experiment_1_recording_0\\pv_57_single_print_d2_01_temp.h264 to Z:\\Nimrod\\experiments\\PV_57\\2024_11_25\\block_005\\eye_videos\\LE\\pv_57_single_print_d2_01_640x480_60hz_experiment_1_recording_0\\pv_57_single_print_d2_01.h264\n",
      "Restored name Z:\\Nimrod\\experiments\\PV_57\\2024_11_25\\block_005\\eye_videos\\LE\\pv_57_single_print_d2_01_640x480_60hz_experiment_1_recording_0\\pv_57_single_print_d2_01_temp.mp4 to Z:\\Nimrod\\experiments\\PV_57\\2024_11_25\\block_005\\eye_videos\\LE\\pv_57_single_print_d2_01_640x480_60hz_experiment_1_recording_0\\pv_57_single_print_d2_01.mp4\n",
      "Restored name Z:\\Nimrod\\experiments\\PV_57\\2024_11_25\\block_005\\eye_videos\\LE\\pv_57_single_print_d2_01_640x480_60hz_experiment_1_recording_0\\pv_57_single_print_d2_01_timestamps_temp.csv to Z:\\Nimrod\\experiments\\PV_57\\2024_11_25\\block_005\\eye_videos\\LE\\pv_57_single_print_d2_01_640x480_60hz_experiment_1_recording_0\\pv_57_single_print_d2_01_timestamps.csv\n",
      "Completed swapping and renaming for block 005\n",
      "working on PV_57, block 006, on pv_57_day2_02_2024-11-25_15-12-05...\n",
      "\n",
      "Block 006 - Confirmation Required\n",
      "Files to be moved from Left Eye folder to Right Eye folder:\n",
      "  - Z:\\Nimrod\\experiments\\PV_57\\2024_11_25\\block_006\\eye_videos\\LE\\pv_57_single_print_d2_02_640x480_60hz_experiment_1_recording_0\\pv_57_single_print_d2_02.h264\n",
      "  - Z:\\Nimrod\\experiments\\PV_57\\2024_11_25\\block_006\\eye_videos\\LE\\pv_57_single_print_d2_02_640x480_60hz_experiment_1_recording_0\\pv_57_single_print_d2_02_LE.mp4\n",
      "  - Z:\\Nimrod\\experiments\\PV_57\\2024_11_25\\block_006\\eye_videos\\LE\\pv_57_single_print_d2_02_640x480_60hz_experiment_1_recording_0\\pv_57_single_print_d2_02_LEDLC_resnet_50_Eye_Tracking_piplineMar1shuffle1_950000.csv\n",
      "  - Z:\\Nimrod\\experiments\\PV_57\\2024_11_25\\block_006\\eye_videos\\LE\\pv_57_single_print_d2_02_640x480_60hz_experiment_1_recording_0\\pv_57_single_print_d2_02_LEDLC_resnet_50_Eye_Tracking_piplineMar1shuffle1_950000.h5\n",
      "  - Z:\\Nimrod\\experiments\\PV_57\\2024_11_25\\block_006\\eye_videos\\LE\\pv_57_single_print_d2_02_640x480_60hz_experiment_1_recording_0\\pv_57_single_print_d2_02_LEDLC_resnet_50_Eye_Tracking_piplineMar1shuffle1_950000_labeled_LE.mp4\n",
      "  - Z:\\Nimrod\\experiments\\PV_57\\2024_11_25\\block_006\\eye_videos\\LE\\pv_57_single_print_d2_02_640x480_60hz_experiment_1_recording_0\\pv_57_single_print_d2_02_LEDLC_resnet_50_Eye_Tracking_piplineMar1shuffle1_950000_meta.pickle\n",
      "  - Z:\\Nimrod\\experiments\\PV_57\\2024_11_25\\block_006\\eye_videos\\LE\\pv_57_single_print_d2_02_640x480_60hz_experiment_1_recording_0\\pv_57_single_print_d2_02_params.json\n",
      "  - Z:\\Nimrod\\experiments\\PV_57\\2024_11_25\\block_006\\eye_videos\\LE\\pv_57_single_print_d2_02_640x480_60hz_experiment_1_recording_0\\pv_57_single_print_d2_02_timestamps.csv\n",
      "Files to be moved from Right Eye folder to Left Eye folder:\n",
      "  - Z:\\Nimrod\\experiments\\PV_57\\2024_11_25\\block_006\\eye_videos\\RE\\pv_57_single_print_d2_02_640x480_60hz_experiment_1_recording_0\\pv_57_single_print_d2_02.h264\n",
      "  - Z:\\Nimrod\\experiments\\PV_57\\2024_11_25\\block_006\\eye_videos\\RE\\pv_57_single_print_d2_02_640x480_60hz_experiment_1_recording_0\\pv_57_single_print_d2_02.mp4\n",
      "  - Z:\\Nimrod\\experiments\\PV_57\\2024_11_25\\block_006\\eye_videos\\RE\\pv_57_single_print_d2_02_640x480_60hz_experiment_1_recording_0\\pv_57_single_print_d2_02_params.json\n",
      "  - Z:\\Nimrod\\experiments\\PV_57\\2024_11_25\\block_006\\eye_videos\\RE\\pv_57_single_print_d2_02_640x480_60hz_experiment_1_recording_0\\pv_57_single_print_d2_02_RE.mp4\n",
      "  - Z:\\Nimrod\\experiments\\PV_57\\2024_11_25\\block_006\\eye_videos\\RE\\pv_57_single_print_d2_02_640x480_60hz_experiment_1_recording_0\\pv_57_single_print_d2_02_REDLC_resnet_50_Eye_Tracking_piplineMar1shuffle1_950000.csv\n",
      "  - Z:\\Nimrod\\experiments\\PV_57\\2024_11_25\\block_006\\eye_videos\\RE\\pv_57_single_print_d2_02_640x480_60hz_experiment_1_recording_0\\pv_57_single_print_d2_02_REDLC_resnet_50_Eye_Tracking_piplineMar1shuffle1_950000.h5\n",
      "  - Z:\\Nimrod\\experiments\\PV_57\\2024_11_25\\block_006\\eye_videos\\RE\\pv_57_single_print_d2_02_640x480_60hz_experiment_1_recording_0\\pv_57_single_print_d2_02_REDLC_resnet_50_Eye_Tracking_piplineMar1shuffle1_950000_labeled.mp4\n",
      "  - Z:\\Nimrod\\experiments\\PV_57\\2024_11_25\\block_006\\eye_videos\\RE\\pv_57_single_print_d2_02_640x480_60hz_experiment_1_recording_0\\pv_57_single_print_d2_02_REDLC_resnet_50_Eye_Tracking_piplineMar1shuffle1_950000_meta.pickle\n",
      "  - Z:\\Nimrod\\experiments\\PV_57\\2024_11_25\\block_006\\eye_videos\\RE\\pv_57_single_print_d2_02_640x480_60hz_experiment_1_recording_0\\pv_57_single_print_d2_02_timestamps.csv\n",
      "Temporarily moved Z:\\Nimrod\\experiments\\PV_57\\2024_11_25\\block_006\\eye_videos\\LE\\pv_57_single_print_d2_02_640x480_60hz_experiment_1_recording_0\\pv_57_single_print_d2_02.h264 to Z:\\Nimrod\\experiments\\PV_57\\2024_11_25\\block_006\\eye_videos\\RE\\pv_57_single_print_d2_02_640x480_60hz_experiment_1_recording_0\\pv_57_single_print_d2_02_temp.h264\n",
      "Temporarily moved Z:\\Nimrod\\experiments\\PV_57\\2024_11_25\\block_006\\eye_videos\\LE\\pv_57_single_print_d2_02_640x480_60hz_experiment_1_recording_0\\pv_57_single_print_d2_02_LE.mp4 to Z:\\Nimrod\\experiments\\PV_57\\2024_11_25\\block_006\\eye_videos\\RE\\pv_57_single_print_d2_02_640x480_60hz_experiment_1_recording_0\\pv_57_single_print_d2_02_LE_temp.mp4\n",
      "Temporarily moved Z:\\Nimrod\\experiments\\PV_57\\2024_11_25\\block_006\\eye_videos\\LE\\pv_57_single_print_d2_02_640x480_60hz_experiment_1_recording_0\\pv_57_single_print_d2_02_LEDLC_resnet_50_Eye_Tracking_piplineMar1shuffle1_950000.csv to Z:\\Nimrod\\experiments\\PV_57\\2024_11_25\\block_006\\eye_videos\\RE\\pv_57_single_print_d2_02_640x480_60hz_experiment_1_recording_0\\pv_57_single_print_d2_02_LEDLC_resnet_50_Eye_Tracking_piplineMar1shuffle1_950000_temp.csv\n",
      "Temporarily moved Z:\\Nimrod\\experiments\\PV_57\\2024_11_25\\block_006\\eye_videos\\LE\\pv_57_single_print_d2_02_640x480_60hz_experiment_1_recording_0\\pv_57_single_print_d2_02_LEDLC_resnet_50_Eye_Tracking_piplineMar1shuffle1_950000.h5 to Z:\\Nimrod\\experiments\\PV_57\\2024_11_25\\block_006\\eye_videos\\RE\\pv_57_single_print_d2_02_640x480_60hz_experiment_1_recording_0\\pv_57_single_print_d2_02_LEDLC_resnet_50_Eye_Tracking_piplineMar1shuffle1_950000_temp.h5\n",
      "Temporarily moved Z:\\Nimrod\\experiments\\PV_57\\2024_11_25\\block_006\\eye_videos\\LE\\pv_57_single_print_d2_02_640x480_60hz_experiment_1_recording_0\\pv_57_single_print_d2_02_LEDLC_resnet_50_Eye_Tracking_piplineMar1shuffle1_950000_labeled_LE.mp4 to Z:\\Nimrod\\experiments\\PV_57\\2024_11_25\\block_006\\eye_videos\\RE\\pv_57_single_print_d2_02_640x480_60hz_experiment_1_recording_0\\pv_57_single_print_d2_02_LEDLC_resnet_50_Eye_Tracking_piplineMar1shuffle1_950000_labeled_LE_temp.mp4\n",
      "Temporarily moved Z:\\Nimrod\\experiments\\PV_57\\2024_11_25\\block_006\\eye_videos\\LE\\pv_57_single_print_d2_02_640x480_60hz_experiment_1_recording_0\\pv_57_single_print_d2_02_LEDLC_resnet_50_Eye_Tracking_piplineMar1shuffle1_950000_meta.pickle to Z:\\Nimrod\\experiments\\PV_57\\2024_11_25\\block_006\\eye_videos\\RE\\pv_57_single_print_d2_02_640x480_60hz_experiment_1_recording_0\\pv_57_single_print_d2_02_LEDLC_resnet_50_Eye_Tracking_piplineMar1shuffle1_950000_meta_temp.pickle\n",
      "Temporarily moved Z:\\Nimrod\\experiments\\PV_57\\2024_11_25\\block_006\\eye_videos\\LE\\pv_57_single_print_d2_02_640x480_60hz_experiment_1_recording_0\\pv_57_single_print_d2_02_params.json to Z:\\Nimrod\\experiments\\PV_57\\2024_11_25\\block_006\\eye_videos\\RE\\pv_57_single_print_d2_02_640x480_60hz_experiment_1_recording_0\\pv_57_single_print_d2_02_params_temp.json\n",
      "Temporarily moved Z:\\Nimrod\\experiments\\PV_57\\2024_11_25\\block_006\\eye_videos\\LE\\pv_57_single_print_d2_02_640x480_60hz_experiment_1_recording_0\\pv_57_single_print_d2_02_timestamps.csv to Z:\\Nimrod\\experiments\\PV_57\\2024_11_25\\block_006\\eye_videos\\RE\\pv_57_single_print_d2_02_640x480_60hz_experiment_1_recording_0\\pv_57_single_print_d2_02_timestamps_temp.csv\n",
      "Temporarily moved Z:\\Nimrod\\experiments\\PV_57\\2024_11_25\\block_006\\eye_videos\\RE\\pv_57_single_print_d2_02_640x480_60hz_experiment_1_recording_0\\pv_57_single_print_d2_02.h264 to Z:\\Nimrod\\experiments\\PV_57\\2024_11_25\\block_006\\eye_videos\\LE\\pv_57_single_print_d2_02_640x480_60hz_experiment_1_recording_0\\pv_57_single_print_d2_02_temp.h264\n",
      "Temporarily moved Z:\\Nimrod\\experiments\\PV_57\\2024_11_25\\block_006\\eye_videos\\RE\\pv_57_single_print_d2_02_640x480_60hz_experiment_1_recording_0\\pv_57_single_print_d2_02.mp4 to Z:\\Nimrod\\experiments\\PV_57\\2024_11_25\\block_006\\eye_videos\\LE\\pv_57_single_print_d2_02_640x480_60hz_experiment_1_recording_0\\pv_57_single_print_d2_02_temp.mp4\n",
      "Temporarily moved Z:\\Nimrod\\experiments\\PV_57\\2024_11_25\\block_006\\eye_videos\\RE\\pv_57_single_print_d2_02_640x480_60hz_experiment_1_recording_0\\pv_57_single_print_d2_02_params.json to Z:\\Nimrod\\experiments\\PV_57\\2024_11_25\\block_006\\eye_videos\\LE\\pv_57_single_print_d2_02_640x480_60hz_experiment_1_recording_0\\pv_57_single_print_d2_02_params_temp.json\n",
      "Temporarily moved Z:\\Nimrod\\experiments\\PV_57\\2024_11_25\\block_006\\eye_videos\\RE\\pv_57_single_print_d2_02_640x480_60hz_experiment_1_recording_0\\pv_57_single_print_d2_02_RE.mp4 to Z:\\Nimrod\\experiments\\PV_57\\2024_11_25\\block_006\\eye_videos\\LE\\pv_57_single_print_d2_02_640x480_60hz_experiment_1_recording_0\\pv_57_single_print_d2_02_RE_temp.mp4\n",
      "Temporarily moved Z:\\Nimrod\\experiments\\PV_57\\2024_11_25\\block_006\\eye_videos\\RE\\pv_57_single_print_d2_02_640x480_60hz_experiment_1_recording_0\\pv_57_single_print_d2_02_REDLC_resnet_50_Eye_Tracking_piplineMar1shuffle1_950000.csv to Z:\\Nimrod\\experiments\\PV_57\\2024_11_25\\block_006\\eye_videos\\LE\\pv_57_single_print_d2_02_640x480_60hz_experiment_1_recording_0\\pv_57_single_print_d2_02_REDLC_resnet_50_Eye_Tracking_piplineMar1shuffle1_950000_temp.csv\n",
      "Temporarily moved Z:\\Nimrod\\experiments\\PV_57\\2024_11_25\\block_006\\eye_videos\\RE\\pv_57_single_print_d2_02_640x480_60hz_experiment_1_recording_0\\pv_57_single_print_d2_02_REDLC_resnet_50_Eye_Tracking_piplineMar1shuffle1_950000.h5 to Z:\\Nimrod\\experiments\\PV_57\\2024_11_25\\block_006\\eye_videos\\LE\\pv_57_single_print_d2_02_640x480_60hz_experiment_1_recording_0\\pv_57_single_print_d2_02_REDLC_resnet_50_Eye_Tracking_piplineMar1shuffle1_950000_temp.h5\n",
      "Temporarily moved Z:\\Nimrod\\experiments\\PV_57\\2024_11_25\\block_006\\eye_videos\\RE\\pv_57_single_print_d2_02_640x480_60hz_experiment_1_recording_0\\pv_57_single_print_d2_02_REDLC_resnet_50_Eye_Tracking_piplineMar1shuffle1_950000_labeled.mp4 to Z:\\Nimrod\\experiments\\PV_57\\2024_11_25\\block_006\\eye_videos\\LE\\pv_57_single_print_d2_02_640x480_60hz_experiment_1_recording_0\\pv_57_single_print_d2_02_REDLC_resnet_50_Eye_Tracking_piplineMar1shuffle1_950000_labeled_temp.mp4\n",
      "Temporarily moved Z:\\Nimrod\\experiments\\PV_57\\2024_11_25\\block_006\\eye_videos\\RE\\pv_57_single_print_d2_02_640x480_60hz_experiment_1_recording_0\\pv_57_single_print_d2_02_REDLC_resnet_50_Eye_Tracking_piplineMar1shuffle1_950000_meta.pickle to Z:\\Nimrod\\experiments\\PV_57\\2024_11_25\\block_006\\eye_videos\\LE\\pv_57_single_print_d2_02_640x480_60hz_experiment_1_recording_0\\pv_57_single_print_d2_02_REDLC_resnet_50_Eye_Tracking_piplineMar1shuffle1_950000_meta_temp.pickle\n",
      "Temporarily moved Z:\\Nimrod\\experiments\\PV_57\\2024_11_25\\block_006\\eye_videos\\RE\\pv_57_single_print_d2_02_640x480_60hz_experiment_1_recording_0\\pv_57_single_print_d2_02_timestamps.csv to Z:\\Nimrod\\experiments\\PV_57\\2024_11_25\\block_006\\eye_videos\\LE\\pv_57_single_print_d2_02_640x480_60hz_experiment_1_recording_0\\pv_57_single_print_d2_02_timestamps_temp.csv\n",
      "Restored name Z:\\Nimrod\\experiments\\PV_57\\2024_11_25\\block_006\\eye_videos\\RE\\pv_57_single_print_d2_02_640x480_60hz_experiment_1_recording_0\\pv_57_single_print_d2_02_LEDLC_resnet_50_Eye_Tracking_piplineMar1shuffle1_950000_labeled_LE_temp.mp4 to Z:\\Nimrod\\experiments\\PV_57\\2024_11_25\\block_006\\eye_videos\\RE\\pv_57_single_print_d2_02_640x480_60hz_experiment_1_recording_0\\pv_57_single_print_d2_02_LEDLC_resnet_50_Eye_Tracking_piplineMar1shuffle1_950000_labeled_LE.mp4\n",
      "Renamed Z:\\Nimrod\\experiments\\PV_57\\2024_11_25\\block_006\\eye_videos\\RE\\pv_57_single_print_d2_02_640x480_60hz_experiment_1_recording_0\\pv_57_single_print_d2_02_LEDLC_resnet_50_Eye_Tracking_piplineMar1shuffle1_950000_labeled_LE.mp4 to Z:\\Nimrod\\experiments\\PV_57\\2024_11_25\\block_006\\eye_videos\\RE\\pv_57_single_print_d2_02_640x480_60hz_experiment_1_recording_0\\pv_57_single_print_d2_02_REDLC_resnet_50_Eye_Tracking_piplineMar1shuffle1_950000_labeled_RE.mp4\n",
      "Restored name Z:\\Nimrod\\experiments\\PV_57\\2024_11_25\\block_006\\eye_videos\\RE\\pv_57_single_print_d2_02_640x480_60hz_experiment_1_recording_0\\pv_57_single_print_d2_02_LEDLC_resnet_50_Eye_Tracking_piplineMar1shuffle1_950000_meta_temp.pickle to Z:\\Nimrod\\experiments\\PV_57\\2024_11_25\\block_006\\eye_videos\\RE\\pv_57_single_print_d2_02_640x480_60hz_experiment_1_recording_0\\pv_57_single_print_d2_02_LEDLC_resnet_50_Eye_Tracking_piplineMar1shuffle1_950000_meta.pickle\n",
      "Renamed Z:\\Nimrod\\experiments\\PV_57\\2024_11_25\\block_006\\eye_videos\\RE\\pv_57_single_print_d2_02_640x480_60hz_experiment_1_recording_0\\pv_57_single_print_d2_02_LEDLC_resnet_50_Eye_Tracking_piplineMar1shuffle1_950000_meta.pickle to Z:\\Nimrod\\experiments\\PV_57\\2024_11_25\\block_006\\eye_videos\\RE\\pv_57_single_print_d2_02_640x480_60hz_experiment_1_recording_0\\pv_57_single_print_d2_02_REDLC_resnet_50_Eye_Tracking_piplineMar1shuffle1_950000_meta.pickle\n",
      "Restored name Z:\\Nimrod\\experiments\\PV_57\\2024_11_25\\block_006\\eye_videos\\RE\\pv_57_single_print_d2_02_640x480_60hz_experiment_1_recording_0\\pv_57_single_print_d2_02_LEDLC_resnet_50_Eye_Tracking_piplineMar1shuffle1_950000_temp.csv to Z:\\Nimrod\\experiments\\PV_57\\2024_11_25\\block_006\\eye_videos\\RE\\pv_57_single_print_d2_02_640x480_60hz_experiment_1_recording_0\\pv_57_single_print_d2_02_LEDLC_resnet_50_Eye_Tracking_piplineMar1shuffle1_950000.csv\n",
      "Renamed Z:\\Nimrod\\experiments\\PV_57\\2024_11_25\\block_006\\eye_videos\\RE\\pv_57_single_print_d2_02_640x480_60hz_experiment_1_recording_0\\pv_57_single_print_d2_02_LEDLC_resnet_50_Eye_Tracking_piplineMar1shuffle1_950000.csv to Z:\\Nimrod\\experiments\\PV_57\\2024_11_25\\block_006\\eye_videos\\RE\\pv_57_single_print_d2_02_640x480_60hz_experiment_1_recording_0\\pv_57_single_print_d2_02_REDLC_resnet_50_Eye_Tracking_piplineMar1shuffle1_950000.csv\n",
      "Restored name Z:\\Nimrod\\experiments\\PV_57\\2024_11_25\\block_006\\eye_videos\\RE\\pv_57_single_print_d2_02_640x480_60hz_experiment_1_recording_0\\pv_57_single_print_d2_02_LEDLC_resnet_50_Eye_Tracking_piplineMar1shuffle1_950000_temp.h5 to Z:\\Nimrod\\experiments\\PV_57\\2024_11_25\\block_006\\eye_videos\\RE\\pv_57_single_print_d2_02_640x480_60hz_experiment_1_recording_0\\pv_57_single_print_d2_02_LEDLC_resnet_50_Eye_Tracking_piplineMar1shuffle1_950000.h5\n",
      "Renamed Z:\\Nimrod\\experiments\\PV_57\\2024_11_25\\block_006\\eye_videos\\RE\\pv_57_single_print_d2_02_640x480_60hz_experiment_1_recording_0\\pv_57_single_print_d2_02_LEDLC_resnet_50_Eye_Tracking_piplineMar1shuffle1_950000.h5 to Z:\\Nimrod\\experiments\\PV_57\\2024_11_25\\block_006\\eye_videos\\RE\\pv_57_single_print_d2_02_640x480_60hz_experiment_1_recording_0\\pv_57_single_print_d2_02_REDLC_resnet_50_Eye_Tracking_piplineMar1shuffle1_950000.h5\n",
      "Restored name Z:\\Nimrod\\experiments\\PV_57\\2024_11_25\\block_006\\eye_videos\\RE\\pv_57_single_print_d2_02_640x480_60hz_experiment_1_recording_0\\pv_57_single_print_d2_02_LE_temp.mp4 to Z:\\Nimrod\\experiments\\PV_57\\2024_11_25\\block_006\\eye_videos\\RE\\pv_57_single_print_d2_02_640x480_60hz_experiment_1_recording_0\\pv_57_single_print_d2_02_LE.mp4\n",
      "Renamed Z:\\Nimrod\\experiments\\PV_57\\2024_11_25\\block_006\\eye_videos\\RE\\pv_57_single_print_d2_02_640x480_60hz_experiment_1_recording_0\\pv_57_single_print_d2_02_LE.mp4 to Z:\\Nimrod\\experiments\\PV_57\\2024_11_25\\block_006\\eye_videos\\RE\\pv_57_single_print_d2_02_640x480_60hz_experiment_1_recording_0\\pv_57_single_print_d2_02_RE.mp4\n",
      "Restored name Z:\\Nimrod\\experiments\\PV_57\\2024_11_25\\block_006\\eye_videos\\RE\\pv_57_single_print_d2_02_640x480_60hz_experiment_1_recording_0\\pv_57_single_print_d2_02_params_temp.json to Z:\\Nimrod\\experiments\\PV_57\\2024_11_25\\block_006\\eye_videos\\RE\\pv_57_single_print_d2_02_640x480_60hz_experiment_1_recording_0\\pv_57_single_print_d2_02_params.json\n",
      "Restored name Z:\\Nimrod\\experiments\\PV_57\\2024_11_25\\block_006\\eye_videos\\RE\\pv_57_single_print_d2_02_640x480_60hz_experiment_1_recording_0\\pv_57_single_print_d2_02_temp.h264 to Z:\\Nimrod\\experiments\\PV_57\\2024_11_25\\block_006\\eye_videos\\RE\\pv_57_single_print_d2_02_640x480_60hz_experiment_1_recording_0\\pv_57_single_print_d2_02.h264\n",
      "Restored name Z:\\Nimrod\\experiments\\PV_57\\2024_11_25\\block_006\\eye_videos\\RE\\pv_57_single_print_d2_02_640x480_60hz_experiment_1_recording_0\\pv_57_single_print_d2_02_timestamps_temp.csv to Z:\\Nimrod\\experiments\\PV_57\\2024_11_25\\block_006\\eye_videos\\RE\\pv_57_single_print_d2_02_640x480_60hz_experiment_1_recording_0\\pv_57_single_print_d2_02_timestamps.csv\n",
      "Restored name Z:\\Nimrod\\experiments\\PV_57\\2024_11_25\\block_006\\eye_videos\\LE\\pv_57_single_print_d2_02_640x480_60hz_experiment_1_recording_0\\pv_57_single_print_d2_02_params_temp.json to Z:\\Nimrod\\experiments\\PV_57\\2024_11_25\\block_006\\eye_videos\\LE\\pv_57_single_print_d2_02_640x480_60hz_experiment_1_recording_0\\pv_57_single_print_d2_02_params.json\n",
      "Restored name Z:\\Nimrod\\experiments\\PV_57\\2024_11_25\\block_006\\eye_videos\\LE\\pv_57_single_print_d2_02_640x480_60hz_experiment_1_recording_0\\pv_57_single_print_d2_02_REDLC_resnet_50_Eye_Tracking_piplineMar1shuffle1_950000_labeled_temp.mp4 to Z:\\Nimrod\\experiments\\PV_57\\2024_11_25\\block_006\\eye_videos\\LE\\pv_57_single_print_d2_02_640x480_60hz_experiment_1_recording_0\\pv_57_single_print_d2_02_REDLC_resnet_50_Eye_Tracking_piplineMar1shuffle1_950000_labeled.mp4\n",
      "Renamed Z:\\Nimrod\\experiments\\PV_57\\2024_11_25\\block_006\\eye_videos\\LE\\pv_57_single_print_d2_02_640x480_60hz_experiment_1_recording_0\\pv_57_single_print_d2_02_REDLC_resnet_50_Eye_Tracking_piplineMar1shuffle1_950000_labeled.mp4 to Z:\\Nimrod\\experiments\\PV_57\\2024_11_25\\block_006\\eye_videos\\LE\\pv_57_single_print_d2_02_640x480_60hz_experiment_1_recording_0\\pv_57_single_print_d2_02_LEDLC_resnet_50_Eye_Tracking_piplineMar1shuffle1_950000_labeled.mp4\n",
      "Restored name Z:\\Nimrod\\experiments\\PV_57\\2024_11_25\\block_006\\eye_videos\\LE\\pv_57_single_print_d2_02_640x480_60hz_experiment_1_recording_0\\pv_57_single_print_d2_02_REDLC_resnet_50_Eye_Tracking_piplineMar1shuffle1_950000_meta_temp.pickle to Z:\\Nimrod\\experiments\\PV_57\\2024_11_25\\block_006\\eye_videos\\LE\\pv_57_single_print_d2_02_640x480_60hz_experiment_1_recording_0\\pv_57_single_print_d2_02_REDLC_resnet_50_Eye_Tracking_piplineMar1shuffle1_950000_meta.pickle\n",
      "Renamed Z:\\Nimrod\\experiments\\PV_57\\2024_11_25\\block_006\\eye_videos\\LE\\pv_57_single_print_d2_02_640x480_60hz_experiment_1_recording_0\\pv_57_single_print_d2_02_REDLC_resnet_50_Eye_Tracking_piplineMar1shuffle1_950000_meta.pickle to Z:\\Nimrod\\experiments\\PV_57\\2024_11_25\\block_006\\eye_videos\\LE\\pv_57_single_print_d2_02_640x480_60hz_experiment_1_recording_0\\pv_57_single_print_d2_02_LEDLC_resnet_50_Eye_Tracking_piplineMar1shuffle1_950000_meta.pickle\n",
      "Restored name Z:\\Nimrod\\experiments\\PV_57\\2024_11_25\\block_006\\eye_videos\\LE\\pv_57_single_print_d2_02_640x480_60hz_experiment_1_recording_0\\pv_57_single_print_d2_02_REDLC_resnet_50_Eye_Tracking_piplineMar1shuffle1_950000_temp.csv to Z:\\Nimrod\\experiments\\PV_57\\2024_11_25\\block_006\\eye_videos\\LE\\pv_57_single_print_d2_02_640x480_60hz_experiment_1_recording_0\\pv_57_single_print_d2_02_REDLC_resnet_50_Eye_Tracking_piplineMar1shuffle1_950000.csv\n",
      "Renamed Z:\\Nimrod\\experiments\\PV_57\\2024_11_25\\block_006\\eye_videos\\LE\\pv_57_single_print_d2_02_640x480_60hz_experiment_1_recording_0\\pv_57_single_print_d2_02_REDLC_resnet_50_Eye_Tracking_piplineMar1shuffle1_950000.csv to Z:\\Nimrod\\experiments\\PV_57\\2024_11_25\\block_006\\eye_videos\\LE\\pv_57_single_print_d2_02_640x480_60hz_experiment_1_recording_0\\pv_57_single_print_d2_02_LEDLC_resnet_50_Eye_Tracking_piplineMar1shuffle1_950000.csv\n",
      "Restored name Z:\\Nimrod\\experiments\\PV_57\\2024_11_25\\block_006\\eye_videos\\LE\\pv_57_single_print_d2_02_640x480_60hz_experiment_1_recording_0\\pv_57_single_print_d2_02_REDLC_resnet_50_Eye_Tracking_piplineMar1shuffle1_950000_temp.h5 to Z:\\Nimrod\\experiments\\PV_57\\2024_11_25\\block_006\\eye_videos\\LE\\pv_57_single_print_d2_02_640x480_60hz_experiment_1_recording_0\\pv_57_single_print_d2_02_REDLC_resnet_50_Eye_Tracking_piplineMar1shuffle1_950000.h5\n",
      "Renamed Z:\\Nimrod\\experiments\\PV_57\\2024_11_25\\block_006\\eye_videos\\LE\\pv_57_single_print_d2_02_640x480_60hz_experiment_1_recording_0\\pv_57_single_print_d2_02_REDLC_resnet_50_Eye_Tracking_piplineMar1shuffle1_950000.h5 to Z:\\Nimrod\\experiments\\PV_57\\2024_11_25\\block_006\\eye_videos\\LE\\pv_57_single_print_d2_02_640x480_60hz_experiment_1_recording_0\\pv_57_single_print_d2_02_LEDLC_resnet_50_Eye_Tracking_piplineMar1shuffle1_950000.h5\n",
      "Restored name Z:\\Nimrod\\experiments\\PV_57\\2024_11_25\\block_006\\eye_videos\\LE\\pv_57_single_print_d2_02_640x480_60hz_experiment_1_recording_0\\pv_57_single_print_d2_02_RE_temp.mp4 to Z:\\Nimrod\\experiments\\PV_57\\2024_11_25\\block_006\\eye_videos\\LE\\pv_57_single_print_d2_02_640x480_60hz_experiment_1_recording_0\\pv_57_single_print_d2_02_RE.mp4\n",
      "Renamed Z:\\Nimrod\\experiments\\PV_57\\2024_11_25\\block_006\\eye_videos\\LE\\pv_57_single_print_d2_02_640x480_60hz_experiment_1_recording_0\\pv_57_single_print_d2_02_RE.mp4 to Z:\\Nimrod\\experiments\\PV_57\\2024_11_25\\block_006\\eye_videos\\LE\\pv_57_single_print_d2_02_640x480_60hz_experiment_1_recording_0\\pv_57_single_print_d2_02_LE.mp4\n",
      "Restored name Z:\\Nimrod\\experiments\\PV_57\\2024_11_25\\block_006\\eye_videos\\LE\\pv_57_single_print_d2_02_640x480_60hz_experiment_1_recording_0\\pv_57_single_print_d2_02_temp.h264 to Z:\\Nimrod\\experiments\\PV_57\\2024_11_25\\block_006\\eye_videos\\LE\\pv_57_single_print_d2_02_640x480_60hz_experiment_1_recording_0\\pv_57_single_print_d2_02.h264\n",
      "Restored name Z:\\Nimrod\\experiments\\PV_57\\2024_11_25\\block_006\\eye_videos\\LE\\pv_57_single_print_d2_02_640x480_60hz_experiment_1_recording_0\\pv_57_single_print_d2_02_temp.mp4 to Z:\\Nimrod\\experiments\\PV_57\\2024_11_25\\block_006\\eye_videos\\LE\\pv_57_single_print_d2_02_640x480_60hz_experiment_1_recording_0\\pv_57_single_print_d2_02.mp4\n",
      "Restored name Z:\\Nimrod\\experiments\\PV_57\\2024_11_25\\block_006\\eye_videos\\LE\\pv_57_single_print_d2_02_640x480_60hz_experiment_1_recording_0\\pv_57_single_print_d2_02_timestamps_temp.csv to Z:\\Nimrod\\experiments\\PV_57\\2024_11_25\\block_006\\eye_videos\\LE\\pv_57_single_print_d2_02_640x480_60hz_experiment_1_recording_0\\pv_57_single_print_d2_02_timestamps.csv\n",
      "Completed swapping and renaming for block 006\n",
      "working on PV_57, block 007, on pv_57_day2_03_2024-11-25_15-28-31...\n",
      "\n",
      "Block 007 - Confirmation Required\n",
      "Files to be moved from Left Eye folder to Right Eye folder:\n",
      "  - Z:\\Nimrod\\experiments\\PV_57\\2024_11_25\\block_007\\eye_videos\\LE\\pv_57_single_print_d2_03_640x480_60hz_experiment_1_recording_0\\pv_57_single_print_d2_03.h264\n",
      "  - Z:\\Nimrod\\experiments\\PV_57\\2024_11_25\\block_007\\eye_videos\\LE\\pv_57_single_print_d2_03_640x480_60hz_experiment_1_recording_0\\pv_57_single_print_d2_03_LE.mp4\n",
      "  - Z:\\Nimrod\\experiments\\PV_57\\2024_11_25\\block_007\\eye_videos\\LE\\pv_57_single_print_d2_03_640x480_60hz_experiment_1_recording_0\\pv_57_single_print_d2_03_LEDLC_resnet_50_Eye_Tracking_piplineMar1shuffle1_950000.csv\n",
      "  - Z:\\Nimrod\\experiments\\PV_57\\2024_11_25\\block_007\\eye_videos\\LE\\pv_57_single_print_d2_03_640x480_60hz_experiment_1_recording_0\\pv_57_single_print_d2_03_LEDLC_resnet_50_Eye_Tracking_piplineMar1shuffle1_950000.h5\n",
      "  - Z:\\Nimrod\\experiments\\PV_57\\2024_11_25\\block_007\\eye_videos\\LE\\pv_57_single_print_d2_03_640x480_60hz_experiment_1_recording_0\\pv_57_single_print_d2_03_LEDLC_resnet_50_Eye_Tracking_piplineMar1shuffle1_950000_labeled_LE.mp4\n",
      "  - Z:\\Nimrod\\experiments\\PV_57\\2024_11_25\\block_007\\eye_videos\\LE\\pv_57_single_print_d2_03_640x480_60hz_experiment_1_recording_0\\pv_57_single_print_d2_03_LEDLC_resnet_50_Eye_Tracking_piplineMar1shuffle1_950000_meta.pickle\n",
      "  - Z:\\Nimrod\\experiments\\PV_57\\2024_11_25\\block_007\\eye_videos\\LE\\pv_57_single_print_d2_03_640x480_60hz_experiment_1_recording_0\\pv_57_single_print_d2_03_params.json\n",
      "  - Z:\\Nimrod\\experiments\\PV_57\\2024_11_25\\block_007\\eye_videos\\LE\\pv_57_single_print_d2_03_640x480_60hz_experiment_1_recording_0\\pv_57_single_print_d2_03_timestamps.csv\n",
      "Files to be moved from Right Eye folder to Left Eye folder:\n",
      "  - Z:\\Nimrod\\experiments\\PV_57\\2024_11_25\\block_007\\eye_videos\\RE\\pv_57_single_print_d2_03_640x480_60hz_experiment_1_recording_0\\pv_57_single_print_d2_03.h264\n",
      "  - Z:\\Nimrod\\experiments\\PV_57\\2024_11_25\\block_007\\eye_videos\\RE\\pv_57_single_print_d2_03_640x480_60hz_experiment_1_recording_0\\pv_57_single_print_d2_03.mp4\n",
      "  - Z:\\Nimrod\\experiments\\PV_57\\2024_11_25\\block_007\\eye_videos\\RE\\pv_57_single_print_d2_03_640x480_60hz_experiment_1_recording_0\\pv_57_single_print_d2_03_params.json\n",
      "  - Z:\\Nimrod\\experiments\\PV_57\\2024_11_25\\block_007\\eye_videos\\RE\\pv_57_single_print_d2_03_640x480_60hz_experiment_1_recording_0\\pv_57_single_print_d2_03_RE.mp4\n",
      "  - Z:\\Nimrod\\experiments\\PV_57\\2024_11_25\\block_007\\eye_videos\\RE\\pv_57_single_print_d2_03_640x480_60hz_experiment_1_recording_0\\pv_57_single_print_d2_03_REDLC_resnet_50_Eye_Tracking_piplineMar1shuffle1_950000.csv\n",
      "  - Z:\\Nimrod\\experiments\\PV_57\\2024_11_25\\block_007\\eye_videos\\RE\\pv_57_single_print_d2_03_640x480_60hz_experiment_1_recording_0\\pv_57_single_print_d2_03_REDLC_resnet_50_Eye_Tracking_piplineMar1shuffle1_950000.h5\n",
      "  - Z:\\Nimrod\\experiments\\PV_57\\2024_11_25\\block_007\\eye_videos\\RE\\pv_57_single_print_d2_03_640x480_60hz_experiment_1_recording_0\\pv_57_single_print_d2_03_REDLC_resnet_50_Eye_Tracking_piplineMar1shuffle1_950000_labeled.mp4\n",
      "  - Z:\\Nimrod\\experiments\\PV_57\\2024_11_25\\block_007\\eye_videos\\RE\\pv_57_single_print_d2_03_640x480_60hz_experiment_1_recording_0\\pv_57_single_print_d2_03_REDLC_resnet_50_Eye_Tracking_piplineMar1shuffle1_950000_meta.pickle\n",
      "  - Z:\\Nimrod\\experiments\\PV_57\\2024_11_25\\block_007\\eye_videos\\RE\\pv_57_single_print_d2_03_640x480_60hz_experiment_1_recording_0\\pv_57_single_print_d2_03_timestamps.csv\n",
      "Temporarily moved Z:\\Nimrod\\experiments\\PV_57\\2024_11_25\\block_007\\eye_videos\\LE\\pv_57_single_print_d2_03_640x480_60hz_experiment_1_recording_0\\pv_57_single_print_d2_03.h264 to Z:\\Nimrod\\experiments\\PV_57\\2024_11_25\\block_007\\eye_videos\\RE\\pv_57_single_print_d2_03_640x480_60hz_experiment_1_recording_0\\pv_57_single_print_d2_03_temp.h264\n",
      "Temporarily moved Z:\\Nimrod\\experiments\\PV_57\\2024_11_25\\block_007\\eye_videos\\LE\\pv_57_single_print_d2_03_640x480_60hz_experiment_1_recording_0\\pv_57_single_print_d2_03_LE.mp4 to Z:\\Nimrod\\experiments\\PV_57\\2024_11_25\\block_007\\eye_videos\\RE\\pv_57_single_print_d2_03_640x480_60hz_experiment_1_recording_0\\pv_57_single_print_d2_03_LE_temp.mp4\n",
      "Temporarily moved Z:\\Nimrod\\experiments\\PV_57\\2024_11_25\\block_007\\eye_videos\\LE\\pv_57_single_print_d2_03_640x480_60hz_experiment_1_recording_0\\pv_57_single_print_d2_03_LEDLC_resnet_50_Eye_Tracking_piplineMar1shuffle1_950000.csv to Z:\\Nimrod\\experiments\\PV_57\\2024_11_25\\block_007\\eye_videos\\RE\\pv_57_single_print_d2_03_640x480_60hz_experiment_1_recording_0\\pv_57_single_print_d2_03_LEDLC_resnet_50_Eye_Tracking_piplineMar1shuffle1_950000_temp.csv\n",
      "Temporarily moved Z:\\Nimrod\\experiments\\PV_57\\2024_11_25\\block_007\\eye_videos\\LE\\pv_57_single_print_d2_03_640x480_60hz_experiment_1_recording_0\\pv_57_single_print_d2_03_LEDLC_resnet_50_Eye_Tracking_piplineMar1shuffle1_950000.h5 to Z:\\Nimrod\\experiments\\PV_57\\2024_11_25\\block_007\\eye_videos\\RE\\pv_57_single_print_d2_03_640x480_60hz_experiment_1_recording_0\\pv_57_single_print_d2_03_LEDLC_resnet_50_Eye_Tracking_piplineMar1shuffle1_950000_temp.h5\n",
      "Temporarily moved Z:\\Nimrod\\experiments\\PV_57\\2024_11_25\\block_007\\eye_videos\\LE\\pv_57_single_print_d2_03_640x480_60hz_experiment_1_recording_0\\pv_57_single_print_d2_03_LEDLC_resnet_50_Eye_Tracking_piplineMar1shuffle1_950000_labeled_LE.mp4 to Z:\\Nimrod\\experiments\\PV_57\\2024_11_25\\block_007\\eye_videos\\RE\\pv_57_single_print_d2_03_640x480_60hz_experiment_1_recording_0\\pv_57_single_print_d2_03_LEDLC_resnet_50_Eye_Tracking_piplineMar1shuffle1_950000_labeled_LE_temp.mp4\n",
      "Temporarily moved Z:\\Nimrod\\experiments\\PV_57\\2024_11_25\\block_007\\eye_videos\\LE\\pv_57_single_print_d2_03_640x480_60hz_experiment_1_recording_0\\pv_57_single_print_d2_03_LEDLC_resnet_50_Eye_Tracking_piplineMar1shuffle1_950000_meta.pickle to Z:\\Nimrod\\experiments\\PV_57\\2024_11_25\\block_007\\eye_videos\\RE\\pv_57_single_print_d2_03_640x480_60hz_experiment_1_recording_0\\pv_57_single_print_d2_03_LEDLC_resnet_50_Eye_Tracking_piplineMar1shuffle1_950000_meta_temp.pickle\n",
      "Temporarily moved Z:\\Nimrod\\experiments\\PV_57\\2024_11_25\\block_007\\eye_videos\\LE\\pv_57_single_print_d2_03_640x480_60hz_experiment_1_recording_0\\pv_57_single_print_d2_03_params.json to Z:\\Nimrod\\experiments\\PV_57\\2024_11_25\\block_007\\eye_videos\\RE\\pv_57_single_print_d2_03_640x480_60hz_experiment_1_recording_0\\pv_57_single_print_d2_03_params_temp.json\n",
      "Temporarily moved Z:\\Nimrod\\experiments\\PV_57\\2024_11_25\\block_007\\eye_videos\\LE\\pv_57_single_print_d2_03_640x480_60hz_experiment_1_recording_0\\pv_57_single_print_d2_03_timestamps.csv to Z:\\Nimrod\\experiments\\PV_57\\2024_11_25\\block_007\\eye_videos\\RE\\pv_57_single_print_d2_03_640x480_60hz_experiment_1_recording_0\\pv_57_single_print_d2_03_timestamps_temp.csv\n",
      "Temporarily moved Z:\\Nimrod\\experiments\\PV_57\\2024_11_25\\block_007\\eye_videos\\RE\\pv_57_single_print_d2_03_640x480_60hz_experiment_1_recording_0\\pv_57_single_print_d2_03.h264 to Z:\\Nimrod\\experiments\\PV_57\\2024_11_25\\block_007\\eye_videos\\LE\\pv_57_single_print_d2_03_640x480_60hz_experiment_1_recording_0\\pv_57_single_print_d2_03_temp.h264\n",
      "Temporarily moved Z:\\Nimrod\\experiments\\PV_57\\2024_11_25\\block_007\\eye_videos\\RE\\pv_57_single_print_d2_03_640x480_60hz_experiment_1_recording_0\\pv_57_single_print_d2_03.mp4 to Z:\\Nimrod\\experiments\\PV_57\\2024_11_25\\block_007\\eye_videos\\LE\\pv_57_single_print_d2_03_640x480_60hz_experiment_1_recording_0\\pv_57_single_print_d2_03_temp.mp4\n",
      "Temporarily moved Z:\\Nimrod\\experiments\\PV_57\\2024_11_25\\block_007\\eye_videos\\RE\\pv_57_single_print_d2_03_640x480_60hz_experiment_1_recording_0\\pv_57_single_print_d2_03_params.json to Z:\\Nimrod\\experiments\\PV_57\\2024_11_25\\block_007\\eye_videos\\LE\\pv_57_single_print_d2_03_640x480_60hz_experiment_1_recording_0\\pv_57_single_print_d2_03_params_temp.json\n",
      "Temporarily moved Z:\\Nimrod\\experiments\\PV_57\\2024_11_25\\block_007\\eye_videos\\RE\\pv_57_single_print_d2_03_640x480_60hz_experiment_1_recording_0\\pv_57_single_print_d2_03_RE.mp4 to Z:\\Nimrod\\experiments\\PV_57\\2024_11_25\\block_007\\eye_videos\\LE\\pv_57_single_print_d2_03_640x480_60hz_experiment_1_recording_0\\pv_57_single_print_d2_03_RE_temp.mp4\n",
      "Temporarily moved Z:\\Nimrod\\experiments\\PV_57\\2024_11_25\\block_007\\eye_videos\\RE\\pv_57_single_print_d2_03_640x480_60hz_experiment_1_recording_0\\pv_57_single_print_d2_03_REDLC_resnet_50_Eye_Tracking_piplineMar1shuffle1_950000.csv to Z:\\Nimrod\\experiments\\PV_57\\2024_11_25\\block_007\\eye_videos\\LE\\pv_57_single_print_d2_03_640x480_60hz_experiment_1_recording_0\\pv_57_single_print_d2_03_REDLC_resnet_50_Eye_Tracking_piplineMar1shuffle1_950000_temp.csv\n",
      "Temporarily moved Z:\\Nimrod\\experiments\\PV_57\\2024_11_25\\block_007\\eye_videos\\RE\\pv_57_single_print_d2_03_640x480_60hz_experiment_1_recording_0\\pv_57_single_print_d2_03_REDLC_resnet_50_Eye_Tracking_piplineMar1shuffle1_950000.h5 to Z:\\Nimrod\\experiments\\PV_57\\2024_11_25\\block_007\\eye_videos\\LE\\pv_57_single_print_d2_03_640x480_60hz_experiment_1_recording_0\\pv_57_single_print_d2_03_REDLC_resnet_50_Eye_Tracking_piplineMar1shuffle1_950000_temp.h5\n",
      "Temporarily moved Z:\\Nimrod\\experiments\\PV_57\\2024_11_25\\block_007\\eye_videos\\RE\\pv_57_single_print_d2_03_640x480_60hz_experiment_1_recording_0\\pv_57_single_print_d2_03_REDLC_resnet_50_Eye_Tracking_piplineMar1shuffle1_950000_labeled.mp4 to Z:\\Nimrod\\experiments\\PV_57\\2024_11_25\\block_007\\eye_videos\\LE\\pv_57_single_print_d2_03_640x480_60hz_experiment_1_recording_0\\pv_57_single_print_d2_03_REDLC_resnet_50_Eye_Tracking_piplineMar1shuffle1_950000_labeled_temp.mp4\n",
      "Temporarily moved Z:\\Nimrod\\experiments\\PV_57\\2024_11_25\\block_007\\eye_videos\\RE\\pv_57_single_print_d2_03_640x480_60hz_experiment_1_recording_0\\pv_57_single_print_d2_03_REDLC_resnet_50_Eye_Tracking_piplineMar1shuffle1_950000_meta.pickle to Z:\\Nimrod\\experiments\\PV_57\\2024_11_25\\block_007\\eye_videos\\LE\\pv_57_single_print_d2_03_640x480_60hz_experiment_1_recording_0\\pv_57_single_print_d2_03_REDLC_resnet_50_Eye_Tracking_piplineMar1shuffle1_950000_meta_temp.pickle\n",
      "Temporarily moved Z:\\Nimrod\\experiments\\PV_57\\2024_11_25\\block_007\\eye_videos\\RE\\pv_57_single_print_d2_03_640x480_60hz_experiment_1_recording_0\\pv_57_single_print_d2_03_timestamps.csv to Z:\\Nimrod\\experiments\\PV_57\\2024_11_25\\block_007\\eye_videos\\LE\\pv_57_single_print_d2_03_640x480_60hz_experiment_1_recording_0\\pv_57_single_print_d2_03_timestamps_temp.csv\n",
      "Restored name Z:\\Nimrod\\experiments\\PV_57\\2024_11_25\\block_007\\eye_videos\\RE\\pv_57_single_print_d2_03_640x480_60hz_experiment_1_recording_0\\pv_57_single_print_d2_03_LEDLC_resnet_50_Eye_Tracking_piplineMar1shuffle1_950000_labeled_LE_temp.mp4 to Z:\\Nimrod\\experiments\\PV_57\\2024_11_25\\block_007\\eye_videos\\RE\\pv_57_single_print_d2_03_640x480_60hz_experiment_1_recording_0\\pv_57_single_print_d2_03_LEDLC_resnet_50_Eye_Tracking_piplineMar1shuffle1_950000_labeled_LE.mp4\n",
      "Renamed Z:\\Nimrod\\experiments\\PV_57\\2024_11_25\\block_007\\eye_videos\\RE\\pv_57_single_print_d2_03_640x480_60hz_experiment_1_recording_0\\pv_57_single_print_d2_03_LEDLC_resnet_50_Eye_Tracking_piplineMar1shuffle1_950000_labeled_LE.mp4 to Z:\\Nimrod\\experiments\\PV_57\\2024_11_25\\block_007\\eye_videos\\RE\\pv_57_single_print_d2_03_640x480_60hz_experiment_1_recording_0\\pv_57_single_print_d2_03_REDLC_resnet_50_Eye_Tracking_piplineMar1shuffle1_950000_labeled_RE.mp4\n",
      "Restored name Z:\\Nimrod\\experiments\\PV_57\\2024_11_25\\block_007\\eye_videos\\RE\\pv_57_single_print_d2_03_640x480_60hz_experiment_1_recording_0\\pv_57_single_print_d2_03_LEDLC_resnet_50_Eye_Tracking_piplineMar1shuffle1_950000_meta_temp.pickle to Z:\\Nimrod\\experiments\\PV_57\\2024_11_25\\block_007\\eye_videos\\RE\\pv_57_single_print_d2_03_640x480_60hz_experiment_1_recording_0\\pv_57_single_print_d2_03_LEDLC_resnet_50_Eye_Tracking_piplineMar1shuffle1_950000_meta.pickle\n",
      "Renamed Z:\\Nimrod\\experiments\\PV_57\\2024_11_25\\block_007\\eye_videos\\RE\\pv_57_single_print_d2_03_640x480_60hz_experiment_1_recording_0\\pv_57_single_print_d2_03_LEDLC_resnet_50_Eye_Tracking_piplineMar1shuffle1_950000_meta.pickle to Z:\\Nimrod\\experiments\\PV_57\\2024_11_25\\block_007\\eye_videos\\RE\\pv_57_single_print_d2_03_640x480_60hz_experiment_1_recording_0\\pv_57_single_print_d2_03_REDLC_resnet_50_Eye_Tracking_piplineMar1shuffle1_950000_meta.pickle\n",
      "Restored name Z:\\Nimrod\\experiments\\PV_57\\2024_11_25\\block_007\\eye_videos\\RE\\pv_57_single_print_d2_03_640x480_60hz_experiment_1_recording_0\\pv_57_single_print_d2_03_LEDLC_resnet_50_Eye_Tracking_piplineMar1shuffle1_950000_temp.csv to Z:\\Nimrod\\experiments\\PV_57\\2024_11_25\\block_007\\eye_videos\\RE\\pv_57_single_print_d2_03_640x480_60hz_experiment_1_recording_0\\pv_57_single_print_d2_03_LEDLC_resnet_50_Eye_Tracking_piplineMar1shuffle1_950000.csv\n",
      "Renamed Z:\\Nimrod\\experiments\\PV_57\\2024_11_25\\block_007\\eye_videos\\RE\\pv_57_single_print_d2_03_640x480_60hz_experiment_1_recording_0\\pv_57_single_print_d2_03_LEDLC_resnet_50_Eye_Tracking_piplineMar1shuffle1_950000.csv to Z:\\Nimrod\\experiments\\PV_57\\2024_11_25\\block_007\\eye_videos\\RE\\pv_57_single_print_d2_03_640x480_60hz_experiment_1_recording_0\\pv_57_single_print_d2_03_REDLC_resnet_50_Eye_Tracking_piplineMar1shuffle1_950000.csv\n",
      "Restored name Z:\\Nimrod\\experiments\\PV_57\\2024_11_25\\block_007\\eye_videos\\RE\\pv_57_single_print_d2_03_640x480_60hz_experiment_1_recording_0\\pv_57_single_print_d2_03_LEDLC_resnet_50_Eye_Tracking_piplineMar1shuffle1_950000_temp.h5 to Z:\\Nimrod\\experiments\\PV_57\\2024_11_25\\block_007\\eye_videos\\RE\\pv_57_single_print_d2_03_640x480_60hz_experiment_1_recording_0\\pv_57_single_print_d2_03_LEDLC_resnet_50_Eye_Tracking_piplineMar1shuffle1_950000.h5\n",
      "Renamed Z:\\Nimrod\\experiments\\PV_57\\2024_11_25\\block_007\\eye_videos\\RE\\pv_57_single_print_d2_03_640x480_60hz_experiment_1_recording_0\\pv_57_single_print_d2_03_LEDLC_resnet_50_Eye_Tracking_piplineMar1shuffle1_950000.h5 to Z:\\Nimrod\\experiments\\PV_57\\2024_11_25\\block_007\\eye_videos\\RE\\pv_57_single_print_d2_03_640x480_60hz_experiment_1_recording_0\\pv_57_single_print_d2_03_REDLC_resnet_50_Eye_Tracking_piplineMar1shuffle1_950000.h5\n",
      "Restored name Z:\\Nimrod\\experiments\\PV_57\\2024_11_25\\block_007\\eye_videos\\RE\\pv_57_single_print_d2_03_640x480_60hz_experiment_1_recording_0\\pv_57_single_print_d2_03_LE_temp.mp4 to Z:\\Nimrod\\experiments\\PV_57\\2024_11_25\\block_007\\eye_videos\\RE\\pv_57_single_print_d2_03_640x480_60hz_experiment_1_recording_0\\pv_57_single_print_d2_03_LE.mp4\n",
      "Renamed Z:\\Nimrod\\experiments\\PV_57\\2024_11_25\\block_007\\eye_videos\\RE\\pv_57_single_print_d2_03_640x480_60hz_experiment_1_recording_0\\pv_57_single_print_d2_03_LE.mp4 to Z:\\Nimrod\\experiments\\PV_57\\2024_11_25\\block_007\\eye_videos\\RE\\pv_57_single_print_d2_03_640x480_60hz_experiment_1_recording_0\\pv_57_single_print_d2_03_RE.mp4\n",
      "Restored name Z:\\Nimrod\\experiments\\PV_57\\2024_11_25\\block_007\\eye_videos\\RE\\pv_57_single_print_d2_03_640x480_60hz_experiment_1_recording_0\\pv_57_single_print_d2_03_params_temp.json to Z:\\Nimrod\\experiments\\PV_57\\2024_11_25\\block_007\\eye_videos\\RE\\pv_57_single_print_d2_03_640x480_60hz_experiment_1_recording_0\\pv_57_single_print_d2_03_params.json\n",
      "Restored name Z:\\Nimrod\\experiments\\PV_57\\2024_11_25\\block_007\\eye_videos\\RE\\pv_57_single_print_d2_03_640x480_60hz_experiment_1_recording_0\\pv_57_single_print_d2_03_temp.h264 to Z:\\Nimrod\\experiments\\PV_57\\2024_11_25\\block_007\\eye_videos\\RE\\pv_57_single_print_d2_03_640x480_60hz_experiment_1_recording_0\\pv_57_single_print_d2_03.h264\n",
      "Restored name Z:\\Nimrod\\experiments\\PV_57\\2024_11_25\\block_007\\eye_videos\\RE\\pv_57_single_print_d2_03_640x480_60hz_experiment_1_recording_0\\pv_57_single_print_d2_03_timestamps_temp.csv to Z:\\Nimrod\\experiments\\PV_57\\2024_11_25\\block_007\\eye_videos\\RE\\pv_57_single_print_d2_03_640x480_60hz_experiment_1_recording_0\\pv_57_single_print_d2_03_timestamps.csv\n",
      "Restored name Z:\\Nimrod\\experiments\\PV_57\\2024_11_25\\block_007\\eye_videos\\LE\\pv_57_single_print_d2_03_640x480_60hz_experiment_1_recording_0\\pv_57_single_print_d2_03_params_temp.json to Z:\\Nimrod\\experiments\\PV_57\\2024_11_25\\block_007\\eye_videos\\LE\\pv_57_single_print_d2_03_640x480_60hz_experiment_1_recording_0\\pv_57_single_print_d2_03_params.json\n",
      "Restored name Z:\\Nimrod\\experiments\\PV_57\\2024_11_25\\block_007\\eye_videos\\LE\\pv_57_single_print_d2_03_640x480_60hz_experiment_1_recording_0\\pv_57_single_print_d2_03_REDLC_resnet_50_Eye_Tracking_piplineMar1shuffle1_950000_labeled_temp.mp4 to Z:\\Nimrod\\experiments\\PV_57\\2024_11_25\\block_007\\eye_videos\\LE\\pv_57_single_print_d2_03_640x480_60hz_experiment_1_recording_0\\pv_57_single_print_d2_03_REDLC_resnet_50_Eye_Tracking_piplineMar1shuffle1_950000_labeled.mp4\n",
      "Renamed Z:\\Nimrod\\experiments\\PV_57\\2024_11_25\\block_007\\eye_videos\\LE\\pv_57_single_print_d2_03_640x480_60hz_experiment_1_recording_0\\pv_57_single_print_d2_03_REDLC_resnet_50_Eye_Tracking_piplineMar1shuffle1_950000_labeled.mp4 to Z:\\Nimrod\\experiments\\PV_57\\2024_11_25\\block_007\\eye_videos\\LE\\pv_57_single_print_d2_03_640x480_60hz_experiment_1_recording_0\\pv_57_single_print_d2_03_LEDLC_resnet_50_Eye_Tracking_piplineMar1shuffle1_950000_labeled.mp4\n",
      "Restored name Z:\\Nimrod\\experiments\\PV_57\\2024_11_25\\block_007\\eye_videos\\LE\\pv_57_single_print_d2_03_640x480_60hz_experiment_1_recording_0\\pv_57_single_print_d2_03_REDLC_resnet_50_Eye_Tracking_piplineMar1shuffle1_950000_meta_temp.pickle to Z:\\Nimrod\\experiments\\PV_57\\2024_11_25\\block_007\\eye_videos\\LE\\pv_57_single_print_d2_03_640x480_60hz_experiment_1_recording_0\\pv_57_single_print_d2_03_REDLC_resnet_50_Eye_Tracking_piplineMar1shuffle1_950000_meta.pickle\n",
      "Renamed Z:\\Nimrod\\experiments\\PV_57\\2024_11_25\\block_007\\eye_videos\\LE\\pv_57_single_print_d2_03_640x480_60hz_experiment_1_recording_0\\pv_57_single_print_d2_03_REDLC_resnet_50_Eye_Tracking_piplineMar1shuffle1_950000_meta.pickle to Z:\\Nimrod\\experiments\\PV_57\\2024_11_25\\block_007\\eye_videos\\LE\\pv_57_single_print_d2_03_640x480_60hz_experiment_1_recording_0\\pv_57_single_print_d2_03_LEDLC_resnet_50_Eye_Tracking_piplineMar1shuffle1_950000_meta.pickle\n",
      "Restored name Z:\\Nimrod\\experiments\\PV_57\\2024_11_25\\block_007\\eye_videos\\LE\\pv_57_single_print_d2_03_640x480_60hz_experiment_1_recording_0\\pv_57_single_print_d2_03_REDLC_resnet_50_Eye_Tracking_piplineMar1shuffle1_950000_temp.csv to Z:\\Nimrod\\experiments\\PV_57\\2024_11_25\\block_007\\eye_videos\\LE\\pv_57_single_print_d2_03_640x480_60hz_experiment_1_recording_0\\pv_57_single_print_d2_03_REDLC_resnet_50_Eye_Tracking_piplineMar1shuffle1_950000.csv\n",
      "Renamed Z:\\Nimrod\\experiments\\PV_57\\2024_11_25\\block_007\\eye_videos\\LE\\pv_57_single_print_d2_03_640x480_60hz_experiment_1_recording_0\\pv_57_single_print_d2_03_REDLC_resnet_50_Eye_Tracking_piplineMar1shuffle1_950000.csv to Z:\\Nimrod\\experiments\\PV_57\\2024_11_25\\block_007\\eye_videos\\LE\\pv_57_single_print_d2_03_640x480_60hz_experiment_1_recording_0\\pv_57_single_print_d2_03_LEDLC_resnet_50_Eye_Tracking_piplineMar1shuffle1_950000.csv\n",
      "Restored name Z:\\Nimrod\\experiments\\PV_57\\2024_11_25\\block_007\\eye_videos\\LE\\pv_57_single_print_d2_03_640x480_60hz_experiment_1_recording_0\\pv_57_single_print_d2_03_REDLC_resnet_50_Eye_Tracking_piplineMar1shuffle1_950000_temp.h5 to Z:\\Nimrod\\experiments\\PV_57\\2024_11_25\\block_007\\eye_videos\\LE\\pv_57_single_print_d2_03_640x480_60hz_experiment_1_recording_0\\pv_57_single_print_d2_03_REDLC_resnet_50_Eye_Tracking_piplineMar1shuffle1_950000.h5\n",
      "Renamed Z:\\Nimrod\\experiments\\PV_57\\2024_11_25\\block_007\\eye_videos\\LE\\pv_57_single_print_d2_03_640x480_60hz_experiment_1_recording_0\\pv_57_single_print_d2_03_REDLC_resnet_50_Eye_Tracking_piplineMar1shuffle1_950000.h5 to Z:\\Nimrod\\experiments\\PV_57\\2024_11_25\\block_007\\eye_videos\\LE\\pv_57_single_print_d2_03_640x480_60hz_experiment_1_recording_0\\pv_57_single_print_d2_03_LEDLC_resnet_50_Eye_Tracking_piplineMar1shuffle1_950000.h5\n",
      "Restored name Z:\\Nimrod\\experiments\\PV_57\\2024_11_25\\block_007\\eye_videos\\LE\\pv_57_single_print_d2_03_640x480_60hz_experiment_1_recording_0\\pv_57_single_print_d2_03_RE_temp.mp4 to Z:\\Nimrod\\experiments\\PV_57\\2024_11_25\\block_007\\eye_videos\\LE\\pv_57_single_print_d2_03_640x480_60hz_experiment_1_recording_0\\pv_57_single_print_d2_03_RE.mp4\n",
      "Renamed Z:\\Nimrod\\experiments\\PV_57\\2024_11_25\\block_007\\eye_videos\\LE\\pv_57_single_print_d2_03_640x480_60hz_experiment_1_recording_0\\pv_57_single_print_d2_03_RE.mp4 to Z:\\Nimrod\\experiments\\PV_57\\2024_11_25\\block_007\\eye_videos\\LE\\pv_57_single_print_d2_03_640x480_60hz_experiment_1_recording_0\\pv_57_single_print_d2_03_LE.mp4\n",
      "Restored name Z:\\Nimrod\\experiments\\PV_57\\2024_11_25\\block_007\\eye_videos\\LE\\pv_57_single_print_d2_03_640x480_60hz_experiment_1_recording_0\\pv_57_single_print_d2_03_temp.h264 to Z:\\Nimrod\\experiments\\PV_57\\2024_11_25\\block_007\\eye_videos\\LE\\pv_57_single_print_d2_03_640x480_60hz_experiment_1_recording_0\\pv_57_single_print_d2_03.h264\n",
      "Restored name Z:\\Nimrod\\experiments\\PV_57\\2024_11_25\\block_007\\eye_videos\\LE\\pv_57_single_print_d2_03_640x480_60hz_experiment_1_recording_0\\pv_57_single_print_d2_03_temp.mp4 to Z:\\Nimrod\\experiments\\PV_57\\2024_11_25\\block_007\\eye_videos\\LE\\pv_57_single_print_d2_03_640x480_60hz_experiment_1_recording_0\\pv_57_single_print_d2_03.mp4\n",
      "Restored name Z:\\Nimrod\\experiments\\PV_57\\2024_11_25\\block_007\\eye_videos\\LE\\pv_57_single_print_d2_03_640x480_60hz_experiment_1_recording_0\\pv_57_single_print_d2_03_timestamps_temp.csv to Z:\\Nimrod\\experiments\\PV_57\\2024_11_25\\block_007\\eye_videos\\LE\\pv_57_single_print_d2_03_640x480_60hz_experiment_1_recording_0\\pv_57_single_print_d2_03_timestamps.csv\n",
      "Completed swapping and renaming for block 007\n",
      "working on PV_57, block 008, on pv_57_day2_05_2024-11-25_16-07-18...\n",
      "\n",
      "Block 008 - Confirmation Required\n",
      "Files to be moved from Left Eye folder to Right Eye folder:\n",
      "  - Z:\\Nimrod\\experiments\\PV_57\\2024_11_25\\block_008\\eye_videos\\LE\\pv_57_single_print_d2_05_640x480_60hz_experiment_1_recording_0\\pv_57_single_print_d2_05.h264\n",
      "  - Z:\\Nimrod\\experiments\\PV_57\\2024_11_25\\block_008\\eye_videos\\LE\\pv_57_single_print_d2_05_640x480_60hz_experiment_1_recording_0\\pv_57_single_print_d2_05_LE.mp4\n",
      "  - Z:\\Nimrod\\experiments\\PV_57\\2024_11_25\\block_008\\eye_videos\\LE\\pv_57_single_print_d2_05_640x480_60hz_experiment_1_recording_0\\pv_57_single_print_d2_05_LEDLC_resnet_50_Eye_Tracking_piplineMar1shuffle1_950000.csv\n",
      "  - Z:\\Nimrod\\experiments\\PV_57\\2024_11_25\\block_008\\eye_videos\\LE\\pv_57_single_print_d2_05_640x480_60hz_experiment_1_recording_0\\pv_57_single_print_d2_05_LEDLC_resnet_50_Eye_Tracking_piplineMar1shuffle1_950000.h5\n",
      "  - Z:\\Nimrod\\experiments\\PV_57\\2024_11_25\\block_008\\eye_videos\\LE\\pv_57_single_print_d2_05_640x480_60hz_experiment_1_recording_0\\pv_57_single_print_d2_05_LEDLC_resnet_50_Eye_Tracking_piplineMar1shuffle1_950000_labeled_LE.mp4\n",
      "  - Z:\\Nimrod\\experiments\\PV_57\\2024_11_25\\block_008\\eye_videos\\LE\\pv_57_single_print_d2_05_640x480_60hz_experiment_1_recording_0\\pv_57_single_print_d2_05_LEDLC_resnet_50_Eye_Tracking_piplineMar1shuffle1_950000_meta.pickle\n",
      "  - Z:\\Nimrod\\experiments\\PV_57\\2024_11_25\\block_008\\eye_videos\\LE\\pv_57_single_print_d2_05_640x480_60hz_experiment_1_recording_0\\pv_57_single_print_d2_05_params.json\n",
      "  - Z:\\Nimrod\\experiments\\PV_57\\2024_11_25\\block_008\\eye_videos\\LE\\pv_57_single_print_d2_05_640x480_60hz_experiment_1_recording_0\\pv_57_single_print_d2_05_timestamps.csv\n",
      "Files to be moved from Right Eye folder to Left Eye folder:\n",
      "  - Z:\\Nimrod\\experiments\\PV_57\\2024_11_25\\block_008\\eye_videos\\RE\\pv_57_single_print_d2_05_640x480_60hz_experiment_1_recording_0\\pv_57_single_print_d2_05.h264\n",
      "  - Z:\\Nimrod\\experiments\\PV_57\\2024_11_25\\block_008\\eye_videos\\RE\\pv_57_single_print_d2_05_640x480_60hz_experiment_1_recording_0\\pv_57_single_print_d2_05.mp4\n",
      "  - Z:\\Nimrod\\experiments\\PV_57\\2024_11_25\\block_008\\eye_videos\\RE\\pv_57_single_print_d2_05_640x480_60hz_experiment_1_recording_0\\pv_57_single_print_d2_05_params.json\n",
      "  - Z:\\Nimrod\\experiments\\PV_57\\2024_11_25\\block_008\\eye_videos\\RE\\pv_57_single_print_d2_05_640x480_60hz_experiment_1_recording_0\\pv_57_single_print_d2_05_RE.mp4\n",
      "  - Z:\\Nimrod\\experiments\\PV_57\\2024_11_25\\block_008\\eye_videos\\RE\\pv_57_single_print_d2_05_640x480_60hz_experiment_1_recording_0\\pv_57_single_print_d2_05_REDLC_resnet_50_Eye_Tracking_piplineMar1shuffle1_950000.csv\n",
      "  - Z:\\Nimrod\\experiments\\PV_57\\2024_11_25\\block_008\\eye_videos\\RE\\pv_57_single_print_d2_05_640x480_60hz_experiment_1_recording_0\\pv_57_single_print_d2_05_REDLC_resnet_50_Eye_Tracking_piplineMar1shuffle1_950000.h5\n",
      "  - Z:\\Nimrod\\experiments\\PV_57\\2024_11_25\\block_008\\eye_videos\\RE\\pv_57_single_print_d2_05_640x480_60hz_experiment_1_recording_0\\pv_57_single_print_d2_05_REDLC_resnet_50_Eye_Tracking_piplineMar1shuffle1_950000_labeled.mp4\n",
      "  - Z:\\Nimrod\\experiments\\PV_57\\2024_11_25\\block_008\\eye_videos\\RE\\pv_57_single_print_d2_05_640x480_60hz_experiment_1_recording_0\\pv_57_single_print_d2_05_REDLC_resnet_50_Eye_Tracking_piplineMar1shuffle1_950000_meta.pickle\n",
      "  - Z:\\Nimrod\\experiments\\PV_57\\2024_11_25\\block_008\\eye_videos\\RE\\pv_57_single_print_d2_05_640x480_60hz_experiment_1_recording_0\\pv_57_single_print_d2_05_timestamps.csv\n",
      "Temporarily moved Z:\\Nimrod\\experiments\\PV_57\\2024_11_25\\block_008\\eye_videos\\LE\\pv_57_single_print_d2_05_640x480_60hz_experiment_1_recording_0\\pv_57_single_print_d2_05.h264 to Z:\\Nimrod\\experiments\\PV_57\\2024_11_25\\block_008\\eye_videos\\RE\\pv_57_single_print_d2_05_640x480_60hz_experiment_1_recording_0\\pv_57_single_print_d2_05_temp.h264\n",
      "Temporarily moved Z:\\Nimrod\\experiments\\PV_57\\2024_11_25\\block_008\\eye_videos\\LE\\pv_57_single_print_d2_05_640x480_60hz_experiment_1_recording_0\\pv_57_single_print_d2_05_LE.mp4 to Z:\\Nimrod\\experiments\\PV_57\\2024_11_25\\block_008\\eye_videos\\RE\\pv_57_single_print_d2_05_640x480_60hz_experiment_1_recording_0\\pv_57_single_print_d2_05_LE_temp.mp4\n",
      "Temporarily moved Z:\\Nimrod\\experiments\\PV_57\\2024_11_25\\block_008\\eye_videos\\LE\\pv_57_single_print_d2_05_640x480_60hz_experiment_1_recording_0\\pv_57_single_print_d2_05_LEDLC_resnet_50_Eye_Tracking_piplineMar1shuffle1_950000.csv to Z:\\Nimrod\\experiments\\PV_57\\2024_11_25\\block_008\\eye_videos\\RE\\pv_57_single_print_d2_05_640x480_60hz_experiment_1_recording_0\\pv_57_single_print_d2_05_LEDLC_resnet_50_Eye_Tracking_piplineMar1shuffle1_950000_temp.csv\n",
      "Temporarily moved Z:\\Nimrod\\experiments\\PV_57\\2024_11_25\\block_008\\eye_videos\\LE\\pv_57_single_print_d2_05_640x480_60hz_experiment_1_recording_0\\pv_57_single_print_d2_05_LEDLC_resnet_50_Eye_Tracking_piplineMar1shuffle1_950000.h5 to Z:\\Nimrod\\experiments\\PV_57\\2024_11_25\\block_008\\eye_videos\\RE\\pv_57_single_print_d2_05_640x480_60hz_experiment_1_recording_0\\pv_57_single_print_d2_05_LEDLC_resnet_50_Eye_Tracking_piplineMar1shuffle1_950000_temp.h5\n",
      "Temporarily moved Z:\\Nimrod\\experiments\\PV_57\\2024_11_25\\block_008\\eye_videos\\LE\\pv_57_single_print_d2_05_640x480_60hz_experiment_1_recording_0\\pv_57_single_print_d2_05_LEDLC_resnet_50_Eye_Tracking_piplineMar1shuffle1_950000_labeled_LE.mp4 to Z:\\Nimrod\\experiments\\PV_57\\2024_11_25\\block_008\\eye_videos\\RE\\pv_57_single_print_d2_05_640x480_60hz_experiment_1_recording_0\\pv_57_single_print_d2_05_LEDLC_resnet_50_Eye_Tracking_piplineMar1shuffle1_950000_labeled_LE_temp.mp4\n",
      "Temporarily moved Z:\\Nimrod\\experiments\\PV_57\\2024_11_25\\block_008\\eye_videos\\LE\\pv_57_single_print_d2_05_640x480_60hz_experiment_1_recording_0\\pv_57_single_print_d2_05_LEDLC_resnet_50_Eye_Tracking_piplineMar1shuffle1_950000_meta.pickle to Z:\\Nimrod\\experiments\\PV_57\\2024_11_25\\block_008\\eye_videos\\RE\\pv_57_single_print_d2_05_640x480_60hz_experiment_1_recording_0\\pv_57_single_print_d2_05_LEDLC_resnet_50_Eye_Tracking_piplineMar1shuffle1_950000_meta_temp.pickle\n",
      "Temporarily moved Z:\\Nimrod\\experiments\\PV_57\\2024_11_25\\block_008\\eye_videos\\LE\\pv_57_single_print_d2_05_640x480_60hz_experiment_1_recording_0\\pv_57_single_print_d2_05_params.json to Z:\\Nimrod\\experiments\\PV_57\\2024_11_25\\block_008\\eye_videos\\RE\\pv_57_single_print_d2_05_640x480_60hz_experiment_1_recording_0\\pv_57_single_print_d2_05_params_temp.json\n",
      "Temporarily moved Z:\\Nimrod\\experiments\\PV_57\\2024_11_25\\block_008\\eye_videos\\LE\\pv_57_single_print_d2_05_640x480_60hz_experiment_1_recording_0\\pv_57_single_print_d2_05_timestamps.csv to Z:\\Nimrod\\experiments\\PV_57\\2024_11_25\\block_008\\eye_videos\\RE\\pv_57_single_print_d2_05_640x480_60hz_experiment_1_recording_0\\pv_57_single_print_d2_05_timestamps_temp.csv\n",
      "Temporarily moved Z:\\Nimrod\\experiments\\PV_57\\2024_11_25\\block_008\\eye_videos\\RE\\pv_57_single_print_d2_05_640x480_60hz_experiment_1_recording_0\\pv_57_single_print_d2_05.h264 to Z:\\Nimrod\\experiments\\PV_57\\2024_11_25\\block_008\\eye_videos\\LE\\pv_57_single_print_d2_05_640x480_60hz_experiment_1_recording_0\\pv_57_single_print_d2_05_temp.h264\n",
      "Temporarily moved Z:\\Nimrod\\experiments\\PV_57\\2024_11_25\\block_008\\eye_videos\\RE\\pv_57_single_print_d2_05_640x480_60hz_experiment_1_recording_0\\pv_57_single_print_d2_05.mp4 to Z:\\Nimrod\\experiments\\PV_57\\2024_11_25\\block_008\\eye_videos\\LE\\pv_57_single_print_d2_05_640x480_60hz_experiment_1_recording_0\\pv_57_single_print_d2_05_temp.mp4\n",
      "Temporarily moved Z:\\Nimrod\\experiments\\PV_57\\2024_11_25\\block_008\\eye_videos\\RE\\pv_57_single_print_d2_05_640x480_60hz_experiment_1_recording_0\\pv_57_single_print_d2_05_params.json to Z:\\Nimrod\\experiments\\PV_57\\2024_11_25\\block_008\\eye_videos\\LE\\pv_57_single_print_d2_05_640x480_60hz_experiment_1_recording_0\\pv_57_single_print_d2_05_params_temp.json\n",
      "Temporarily moved Z:\\Nimrod\\experiments\\PV_57\\2024_11_25\\block_008\\eye_videos\\RE\\pv_57_single_print_d2_05_640x480_60hz_experiment_1_recording_0\\pv_57_single_print_d2_05_RE.mp4 to Z:\\Nimrod\\experiments\\PV_57\\2024_11_25\\block_008\\eye_videos\\LE\\pv_57_single_print_d2_05_640x480_60hz_experiment_1_recording_0\\pv_57_single_print_d2_05_RE_temp.mp4\n",
      "Temporarily moved Z:\\Nimrod\\experiments\\PV_57\\2024_11_25\\block_008\\eye_videos\\RE\\pv_57_single_print_d2_05_640x480_60hz_experiment_1_recording_0\\pv_57_single_print_d2_05_REDLC_resnet_50_Eye_Tracking_piplineMar1shuffle1_950000.csv to Z:\\Nimrod\\experiments\\PV_57\\2024_11_25\\block_008\\eye_videos\\LE\\pv_57_single_print_d2_05_640x480_60hz_experiment_1_recording_0\\pv_57_single_print_d2_05_REDLC_resnet_50_Eye_Tracking_piplineMar1shuffle1_950000_temp.csv\n",
      "Temporarily moved Z:\\Nimrod\\experiments\\PV_57\\2024_11_25\\block_008\\eye_videos\\RE\\pv_57_single_print_d2_05_640x480_60hz_experiment_1_recording_0\\pv_57_single_print_d2_05_REDLC_resnet_50_Eye_Tracking_piplineMar1shuffle1_950000.h5 to Z:\\Nimrod\\experiments\\PV_57\\2024_11_25\\block_008\\eye_videos\\LE\\pv_57_single_print_d2_05_640x480_60hz_experiment_1_recording_0\\pv_57_single_print_d2_05_REDLC_resnet_50_Eye_Tracking_piplineMar1shuffle1_950000_temp.h5\n",
      "Temporarily moved Z:\\Nimrod\\experiments\\PV_57\\2024_11_25\\block_008\\eye_videos\\RE\\pv_57_single_print_d2_05_640x480_60hz_experiment_1_recording_0\\pv_57_single_print_d2_05_REDLC_resnet_50_Eye_Tracking_piplineMar1shuffle1_950000_labeled.mp4 to Z:\\Nimrod\\experiments\\PV_57\\2024_11_25\\block_008\\eye_videos\\LE\\pv_57_single_print_d2_05_640x480_60hz_experiment_1_recording_0\\pv_57_single_print_d2_05_REDLC_resnet_50_Eye_Tracking_piplineMar1shuffle1_950000_labeled_temp.mp4\n",
      "Temporarily moved Z:\\Nimrod\\experiments\\PV_57\\2024_11_25\\block_008\\eye_videos\\RE\\pv_57_single_print_d2_05_640x480_60hz_experiment_1_recording_0\\pv_57_single_print_d2_05_REDLC_resnet_50_Eye_Tracking_piplineMar1shuffle1_950000_meta.pickle to Z:\\Nimrod\\experiments\\PV_57\\2024_11_25\\block_008\\eye_videos\\LE\\pv_57_single_print_d2_05_640x480_60hz_experiment_1_recording_0\\pv_57_single_print_d2_05_REDLC_resnet_50_Eye_Tracking_piplineMar1shuffle1_950000_meta_temp.pickle\n",
      "Temporarily moved Z:\\Nimrod\\experiments\\PV_57\\2024_11_25\\block_008\\eye_videos\\RE\\pv_57_single_print_d2_05_640x480_60hz_experiment_1_recording_0\\pv_57_single_print_d2_05_timestamps.csv to Z:\\Nimrod\\experiments\\PV_57\\2024_11_25\\block_008\\eye_videos\\LE\\pv_57_single_print_d2_05_640x480_60hz_experiment_1_recording_0\\pv_57_single_print_d2_05_timestamps_temp.csv\n",
      "Restored name Z:\\Nimrod\\experiments\\PV_57\\2024_11_25\\block_008\\eye_videos\\RE\\pv_57_single_print_d2_05_640x480_60hz_experiment_1_recording_0\\pv_57_single_print_d2_05_LEDLC_resnet_50_Eye_Tracking_piplineMar1shuffle1_950000_labeled_LE_temp.mp4 to Z:\\Nimrod\\experiments\\PV_57\\2024_11_25\\block_008\\eye_videos\\RE\\pv_57_single_print_d2_05_640x480_60hz_experiment_1_recording_0\\pv_57_single_print_d2_05_LEDLC_resnet_50_Eye_Tracking_piplineMar1shuffle1_950000_labeled_LE.mp4\n",
      "Renamed Z:\\Nimrod\\experiments\\PV_57\\2024_11_25\\block_008\\eye_videos\\RE\\pv_57_single_print_d2_05_640x480_60hz_experiment_1_recording_0\\pv_57_single_print_d2_05_LEDLC_resnet_50_Eye_Tracking_piplineMar1shuffle1_950000_labeled_LE.mp4 to Z:\\Nimrod\\experiments\\PV_57\\2024_11_25\\block_008\\eye_videos\\RE\\pv_57_single_print_d2_05_640x480_60hz_experiment_1_recording_0\\pv_57_single_print_d2_05_REDLC_resnet_50_Eye_Tracking_piplineMar1shuffle1_950000_labeled_RE.mp4\n",
      "Restored name Z:\\Nimrod\\experiments\\PV_57\\2024_11_25\\block_008\\eye_videos\\RE\\pv_57_single_print_d2_05_640x480_60hz_experiment_1_recording_0\\pv_57_single_print_d2_05_LEDLC_resnet_50_Eye_Tracking_piplineMar1shuffle1_950000_meta_temp.pickle to Z:\\Nimrod\\experiments\\PV_57\\2024_11_25\\block_008\\eye_videos\\RE\\pv_57_single_print_d2_05_640x480_60hz_experiment_1_recording_0\\pv_57_single_print_d2_05_LEDLC_resnet_50_Eye_Tracking_piplineMar1shuffle1_950000_meta.pickle\n",
      "Renamed Z:\\Nimrod\\experiments\\PV_57\\2024_11_25\\block_008\\eye_videos\\RE\\pv_57_single_print_d2_05_640x480_60hz_experiment_1_recording_0\\pv_57_single_print_d2_05_LEDLC_resnet_50_Eye_Tracking_piplineMar1shuffle1_950000_meta.pickle to Z:\\Nimrod\\experiments\\PV_57\\2024_11_25\\block_008\\eye_videos\\RE\\pv_57_single_print_d2_05_640x480_60hz_experiment_1_recording_0\\pv_57_single_print_d2_05_REDLC_resnet_50_Eye_Tracking_piplineMar1shuffle1_950000_meta.pickle\n",
      "Restored name Z:\\Nimrod\\experiments\\PV_57\\2024_11_25\\block_008\\eye_videos\\RE\\pv_57_single_print_d2_05_640x480_60hz_experiment_1_recording_0\\pv_57_single_print_d2_05_LEDLC_resnet_50_Eye_Tracking_piplineMar1shuffle1_950000_temp.csv to Z:\\Nimrod\\experiments\\PV_57\\2024_11_25\\block_008\\eye_videos\\RE\\pv_57_single_print_d2_05_640x480_60hz_experiment_1_recording_0\\pv_57_single_print_d2_05_LEDLC_resnet_50_Eye_Tracking_piplineMar1shuffle1_950000.csv\n",
      "Renamed Z:\\Nimrod\\experiments\\PV_57\\2024_11_25\\block_008\\eye_videos\\RE\\pv_57_single_print_d2_05_640x480_60hz_experiment_1_recording_0\\pv_57_single_print_d2_05_LEDLC_resnet_50_Eye_Tracking_piplineMar1shuffle1_950000.csv to Z:\\Nimrod\\experiments\\PV_57\\2024_11_25\\block_008\\eye_videos\\RE\\pv_57_single_print_d2_05_640x480_60hz_experiment_1_recording_0\\pv_57_single_print_d2_05_REDLC_resnet_50_Eye_Tracking_piplineMar1shuffle1_950000.csv\n",
      "Restored name Z:\\Nimrod\\experiments\\PV_57\\2024_11_25\\block_008\\eye_videos\\RE\\pv_57_single_print_d2_05_640x480_60hz_experiment_1_recording_0\\pv_57_single_print_d2_05_LEDLC_resnet_50_Eye_Tracking_piplineMar1shuffle1_950000_temp.h5 to Z:\\Nimrod\\experiments\\PV_57\\2024_11_25\\block_008\\eye_videos\\RE\\pv_57_single_print_d2_05_640x480_60hz_experiment_1_recording_0\\pv_57_single_print_d2_05_LEDLC_resnet_50_Eye_Tracking_piplineMar1shuffle1_950000.h5\n",
      "Renamed Z:\\Nimrod\\experiments\\PV_57\\2024_11_25\\block_008\\eye_videos\\RE\\pv_57_single_print_d2_05_640x480_60hz_experiment_1_recording_0\\pv_57_single_print_d2_05_LEDLC_resnet_50_Eye_Tracking_piplineMar1shuffle1_950000.h5 to Z:\\Nimrod\\experiments\\PV_57\\2024_11_25\\block_008\\eye_videos\\RE\\pv_57_single_print_d2_05_640x480_60hz_experiment_1_recording_0\\pv_57_single_print_d2_05_REDLC_resnet_50_Eye_Tracking_piplineMar1shuffle1_950000.h5\n",
      "Restored name Z:\\Nimrod\\experiments\\PV_57\\2024_11_25\\block_008\\eye_videos\\RE\\pv_57_single_print_d2_05_640x480_60hz_experiment_1_recording_0\\pv_57_single_print_d2_05_LE_temp.mp4 to Z:\\Nimrod\\experiments\\PV_57\\2024_11_25\\block_008\\eye_videos\\RE\\pv_57_single_print_d2_05_640x480_60hz_experiment_1_recording_0\\pv_57_single_print_d2_05_LE.mp4\n",
      "Renamed Z:\\Nimrod\\experiments\\PV_57\\2024_11_25\\block_008\\eye_videos\\RE\\pv_57_single_print_d2_05_640x480_60hz_experiment_1_recording_0\\pv_57_single_print_d2_05_LE.mp4 to Z:\\Nimrod\\experiments\\PV_57\\2024_11_25\\block_008\\eye_videos\\RE\\pv_57_single_print_d2_05_640x480_60hz_experiment_1_recording_0\\pv_57_single_print_d2_05_RE.mp4\n",
      "Restored name Z:\\Nimrod\\experiments\\PV_57\\2024_11_25\\block_008\\eye_videos\\RE\\pv_57_single_print_d2_05_640x480_60hz_experiment_1_recording_0\\pv_57_single_print_d2_05_params_temp.json to Z:\\Nimrod\\experiments\\PV_57\\2024_11_25\\block_008\\eye_videos\\RE\\pv_57_single_print_d2_05_640x480_60hz_experiment_1_recording_0\\pv_57_single_print_d2_05_params.json\n",
      "Restored name Z:\\Nimrod\\experiments\\PV_57\\2024_11_25\\block_008\\eye_videos\\RE\\pv_57_single_print_d2_05_640x480_60hz_experiment_1_recording_0\\pv_57_single_print_d2_05_temp.h264 to Z:\\Nimrod\\experiments\\PV_57\\2024_11_25\\block_008\\eye_videos\\RE\\pv_57_single_print_d2_05_640x480_60hz_experiment_1_recording_0\\pv_57_single_print_d2_05.h264\n",
      "Restored name Z:\\Nimrod\\experiments\\PV_57\\2024_11_25\\block_008\\eye_videos\\RE\\pv_57_single_print_d2_05_640x480_60hz_experiment_1_recording_0\\pv_57_single_print_d2_05_timestamps_temp.csv to Z:\\Nimrod\\experiments\\PV_57\\2024_11_25\\block_008\\eye_videos\\RE\\pv_57_single_print_d2_05_640x480_60hz_experiment_1_recording_0\\pv_57_single_print_d2_05_timestamps.csv\n",
      "Restored name Z:\\Nimrod\\experiments\\PV_57\\2024_11_25\\block_008\\eye_videos\\LE\\pv_57_single_print_d2_05_640x480_60hz_experiment_1_recording_0\\pv_57_single_print_d2_05_params_temp.json to Z:\\Nimrod\\experiments\\PV_57\\2024_11_25\\block_008\\eye_videos\\LE\\pv_57_single_print_d2_05_640x480_60hz_experiment_1_recording_0\\pv_57_single_print_d2_05_params.json\n",
      "Restored name Z:\\Nimrod\\experiments\\PV_57\\2024_11_25\\block_008\\eye_videos\\LE\\pv_57_single_print_d2_05_640x480_60hz_experiment_1_recording_0\\pv_57_single_print_d2_05_REDLC_resnet_50_Eye_Tracking_piplineMar1shuffle1_950000_labeled_temp.mp4 to Z:\\Nimrod\\experiments\\PV_57\\2024_11_25\\block_008\\eye_videos\\LE\\pv_57_single_print_d2_05_640x480_60hz_experiment_1_recording_0\\pv_57_single_print_d2_05_REDLC_resnet_50_Eye_Tracking_piplineMar1shuffle1_950000_labeled.mp4\n",
      "Renamed Z:\\Nimrod\\experiments\\PV_57\\2024_11_25\\block_008\\eye_videos\\LE\\pv_57_single_print_d2_05_640x480_60hz_experiment_1_recording_0\\pv_57_single_print_d2_05_REDLC_resnet_50_Eye_Tracking_piplineMar1shuffle1_950000_labeled.mp4 to Z:\\Nimrod\\experiments\\PV_57\\2024_11_25\\block_008\\eye_videos\\LE\\pv_57_single_print_d2_05_640x480_60hz_experiment_1_recording_0\\pv_57_single_print_d2_05_LEDLC_resnet_50_Eye_Tracking_piplineMar1shuffle1_950000_labeled.mp4\n",
      "Restored name Z:\\Nimrod\\experiments\\PV_57\\2024_11_25\\block_008\\eye_videos\\LE\\pv_57_single_print_d2_05_640x480_60hz_experiment_1_recording_0\\pv_57_single_print_d2_05_REDLC_resnet_50_Eye_Tracking_piplineMar1shuffle1_950000_meta_temp.pickle to Z:\\Nimrod\\experiments\\PV_57\\2024_11_25\\block_008\\eye_videos\\LE\\pv_57_single_print_d2_05_640x480_60hz_experiment_1_recording_0\\pv_57_single_print_d2_05_REDLC_resnet_50_Eye_Tracking_piplineMar1shuffle1_950000_meta.pickle\n",
      "Renamed Z:\\Nimrod\\experiments\\PV_57\\2024_11_25\\block_008\\eye_videos\\LE\\pv_57_single_print_d2_05_640x480_60hz_experiment_1_recording_0\\pv_57_single_print_d2_05_REDLC_resnet_50_Eye_Tracking_piplineMar1shuffle1_950000_meta.pickle to Z:\\Nimrod\\experiments\\PV_57\\2024_11_25\\block_008\\eye_videos\\LE\\pv_57_single_print_d2_05_640x480_60hz_experiment_1_recording_0\\pv_57_single_print_d2_05_LEDLC_resnet_50_Eye_Tracking_piplineMar1shuffle1_950000_meta.pickle\n",
      "Restored name Z:\\Nimrod\\experiments\\PV_57\\2024_11_25\\block_008\\eye_videos\\LE\\pv_57_single_print_d2_05_640x480_60hz_experiment_1_recording_0\\pv_57_single_print_d2_05_REDLC_resnet_50_Eye_Tracking_piplineMar1shuffle1_950000_temp.csv to Z:\\Nimrod\\experiments\\PV_57\\2024_11_25\\block_008\\eye_videos\\LE\\pv_57_single_print_d2_05_640x480_60hz_experiment_1_recording_0\\pv_57_single_print_d2_05_REDLC_resnet_50_Eye_Tracking_piplineMar1shuffle1_950000.csv\n",
      "Renamed Z:\\Nimrod\\experiments\\PV_57\\2024_11_25\\block_008\\eye_videos\\LE\\pv_57_single_print_d2_05_640x480_60hz_experiment_1_recording_0\\pv_57_single_print_d2_05_REDLC_resnet_50_Eye_Tracking_piplineMar1shuffle1_950000.csv to Z:\\Nimrod\\experiments\\PV_57\\2024_11_25\\block_008\\eye_videos\\LE\\pv_57_single_print_d2_05_640x480_60hz_experiment_1_recording_0\\pv_57_single_print_d2_05_LEDLC_resnet_50_Eye_Tracking_piplineMar1shuffle1_950000.csv\n",
      "Restored name Z:\\Nimrod\\experiments\\PV_57\\2024_11_25\\block_008\\eye_videos\\LE\\pv_57_single_print_d2_05_640x480_60hz_experiment_1_recording_0\\pv_57_single_print_d2_05_REDLC_resnet_50_Eye_Tracking_piplineMar1shuffle1_950000_temp.h5 to Z:\\Nimrod\\experiments\\PV_57\\2024_11_25\\block_008\\eye_videos\\LE\\pv_57_single_print_d2_05_640x480_60hz_experiment_1_recording_0\\pv_57_single_print_d2_05_REDLC_resnet_50_Eye_Tracking_piplineMar1shuffle1_950000.h5\n",
      "Renamed Z:\\Nimrod\\experiments\\PV_57\\2024_11_25\\block_008\\eye_videos\\LE\\pv_57_single_print_d2_05_640x480_60hz_experiment_1_recording_0\\pv_57_single_print_d2_05_REDLC_resnet_50_Eye_Tracking_piplineMar1shuffle1_950000.h5 to Z:\\Nimrod\\experiments\\PV_57\\2024_11_25\\block_008\\eye_videos\\LE\\pv_57_single_print_d2_05_640x480_60hz_experiment_1_recording_0\\pv_57_single_print_d2_05_LEDLC_resnet_50_Eye_Tracking_piplineMar1shuffle1_950000.h5\n",
      "Restored name Z:\\Nimrod\\experiments\\PV_57\\2024_11_25\\block_008\\eye_videos\\LE\\pv_57_single_print_d2_05_640x480_60hz_experiment_1_recording_0\\pv_57_single_print_d2_05_RE_temp.mp4 to Z:\\Nimrod\\experiments\\PV_57\\2024_11_25\\block_008\\eye_videos\\LE\\pv_57_single_print_d2_05_640x480_60hz_experiment_1_recording_0\\pv_57_single_print_d2_05_RE.mp4\n",
      "Renamed Z:\\Nimrod\\experiments\\PV_57\\2024_11_25\\block_008\\eye_videos\\LE\\pv_57_single_print_d2_05_640x480_60hz_experiment_1_recording_0\\pv_57_single_print_d2_05_RE.mp4 to Z:\\Nimrod\\experiments\\PV_57\\2024_11_25\\block_008\\eye_videos\\LE\\pv_57_single_print_d2_05_640x480_60hz_experiment_1_recording_0\\pv_57_single_print_d2_05_LE.mp4\n",
      "Restored name Z:\\Nimrod\\experiments\\PV_57\\2024_11_25\\block_008\\eye_videos\\LE\\pv_57_single_print_d2_05_640x480_60hz_experiment_1_recording_0\\pv_57_single_print_d2_05_temp.h264 to Z:\\Nimrod\\experiments\\PV_57\\2024_11_25\\block_008\\eye_videos\\LE\\pv_57_single_print_d2_05_640x480_60hz_experiment_1_recording_0\\pv_57_single_print_d2_05.h264\n",
      "Restored name Z:\\Nimrod\\experiments\\PV_57\\2024_11_25\\block_008\\eye_videos\\LE\\pv_57_single_print_d2_05_640x480_60hz_experiment_1_recording_0\\pv_57_single_print_d2_05_temp.mp4 to Z:\\Nimrod\\experiments\\PV_57\\2024_11_25\\block_008\\eye_videos\\LE\\pv_57_single_print_d2_05_640x480_60hz_experiment_1_recording_0\\pv_57_single_print_d2_05.mp4\n",
      "Restored name Z:\\Nimrod\\experiments\\PV_57\\2024_11_25\\block_008\\eye_videos\\LE\\pv_57_single_print_d2_05_640x480_60hz_experiment_1_recording_0\\pv_57_single_print_d2_05_timestamps_temp.csv to Z:\\Nimrod\\experiments\\PV_57\\2024_11_25\\block_008\\eye_videos\\LE\\pv_57_single_print_d2_05_640x480_60hz_experiment_1_recording_0\\pv_57_single_print_d2_05_timestamps.csv\n",
      "Completed swapping and renaming for block 008\n",
      "working on PV_57, block 009, on pv_57_day2_06_2024-11-25_16-25-35...\n",
      "\n",
      "Block 009 - Confirmation Required\n",
      "Files to be moved from Left Eye folder to Right Eye folder:\n",
      "  - Z:\\Nimrod\\experiments\\PV_57\\2024_11_25\\block_009\\eye_videos\\LE\\pv_57_single_print_d2_06_640x480_60hz_experiment_1_recording_0\\pv_57_single_print_d2_06.h264\n",
      "  - Z:\\Nimrod\\experiments\\PV_57\\2024_11_25\\block_009\\eye_videos\\LE\\pv_57_single_print_d2_06_640x480_60hz_experiment_1_recording_0\\pv_57_single_print_d2_06_LE.mp4\n",
      "  - Z:\\Nimrod\\experiments\\PV_57\\2024_11_25\\block_009\\eye_videos\\LE\\pv_57_single_print_d2_06_640x480_60hz_experiment_1_recording_0\\pv_57_single_print_d2_06_LEDLC_resnet_50_Eye_Tracking_piplineMar1shuffle1_950000.csv\n",
      "  - Z:\\Nimrod\\experiments\\PV_57\\2024_11_25\\block_009\\eye_videos\\LE\\pv_57_single_print_d2_06_640x480_60hz_experiment_1_recording_0\\pv_57_single_print_d2_06_LEDLC_resnet_50_Eye_Tracking_piplineMar1shuffle1_950000.h5\n",
      "  - Z:\\Nimrod\\experiments\\PV_57\\2024_11_25\\block_009\\eye_videos\\LE\\pv_57_single_print_d2_06_640x480_60hz_experiment_1_recording_0\\pv_57_single_print_d2_06_LEDLC_resnet_50_Eye_Tracking_piplineMar1shuffle1_950000_labeled_LE.mp4\n",
      "  - Z:\\Nimrod\\experiments\\PV_57\\2024_11_25\\block_009\\eye_videos\\LE\\pv_57_single_print_d2_06_640x480_60hz_experiment_1_recording_0\\pv_57_single_print_d2_06_LEDLC_resnet_50_Eye_Tracking_piplineMar1shuffle1_950000_meta.pickle\n",
      "  - Z:\\Nimrod\\experiments\\PV_57\\2024_11_25\\block_009\\eye_videos\\LE\\pv_57_single_print_d2_06_640x480_60hz_experiment_1_recording_0\\pv_57_single_print_d2_06_params.json\n",
      "  - Z:\\Nimrod\\experiments\\PV_57\\2024_11_25\\block_009\\eye_videos\\LE\\pv_57_single_print_d2_06_640x480_60hz_experiment_1_recording_0\\pv_57_single_print_d2_06_timestamps.csv\n",
      "Files to be moved from Right Eye folder to Left Eye folder:\n",
      "  - Z:\\Nimrod\\experiments\\PV_57\\2024_11_25\\block_009\\eye_videos\\RE\\pv_57_single_print_d2_06_640x480_60hz_experiment_1_recording_0\\pv_57_single_print_d2_06.h264\n",
      "  - Z:\\Nimrod\\experiments\\PV_57\\2024_11_25\\block_009\\eye_videos\\RE\\pv_57_single_print_d2_06_640x480_60hz_experiment_1_recording_0\\pv_57_single_print_d2_06.mp4\n",
      "  - Z:\\Nimrod\\experiments\\PV_57\\2024_11_25\\block_009\\eye_videos\\RE\\pv_57_single_print_d2_06_640x480_60hz_experiment_1_recording_0\\pv_57_single_print_d2_06_params.json\n",
      "  - Z:\\Nimrod\\experiments\\PV_57\\2024_11_25\\block_009\\eye_videos\\RE\\pv_57_single_print_d2_06_640x480_60hz_experiment_1_recording_0\\pv_57_single_print_d2_06_RE.mp4\n",
      "  - Z:\\Nimrod\\experiments\\PV_57\\2024_11_25\\block_009\\eye_videos\\RE\\pv_57_single_print_d2_06_640x480_60hz_experiment_1_recording_0\\pv_57_single_print_d2_06_REDLC_resnet_50_Eye_Tracking_piplineMar1shuffle1_950000.csv\n",
      "  - Z:\\Nimrod\\experiments\\PV_57\\2024_11_25\\block_009\\eye_videos\\RE\\pv_57_single_print_d2_06_640x480_60hz_experiment_1_recording_0\\pv_57_single_print_d2_06_REDLC_resnet_50_Eye_Tracking_piplineMar1shuffle1_950000.h5\n",
      "  - Z:\\Nimrod\\experiments\\PV_57\\2024_11_25\\block_009\\eye_videos\\RE\\pv_57_single_print_d2_06_640x480_60hz_experiment_1_recording_0\\pv_57_single_print_d2_06_REDLC_resnet_50_Eye_Tracking_piplineMar1shuffle1_950000_labeled.mp4\n",
      "  - Z:\\Nimrod\\experiments\\PV_57\\2024_11_25\\block_009\\eye_videos\\RE\\pv_57_single_print_d2_06_640x480_60hz_experiment_1_recording_0\\pv_57_single_print_d2_06_REDLC_resnet_50_Eye_Tracking_piplineMar1shuffle1_950000_meta.pickle\n",
      "  - Z:\\Nimrod\\experiments\\PV_57\\2024_11_25\\block_009\\eye_videos\\RE\\pv_57_single_print_d2_06_640x480_60hz_experiment_1_recording_0\\pv_57_single_print_d2_06_timestamps.csv\n",
      "Temporarily moved Z:\\Nimrod\\experiments\\PV_57\\2024_11_25\\block_009\\eye_videos\\LE\\pv_57_single_print_d2_06_640x480_60hz_experiment_1_recording_0\\pv_57_single_print_d2_06.h264 to Z:\\Nimrod\\experiments\\PV_57\\2024_11_25\\block_009\\eye_videos\\RE\\pv_57_single_print_d2_06_640x480_60hz_experiment_1_recording_0\\pv_57_single_print_d2_06_temp.h264\n",
      "Temporarily moved Z:\\Nimrod\\experiments\\PV_57\\2024_11_25\\block_009\\eye_videos\\LE\\pv_57_single_print_d2_06_640x480_60hz_experiment_1_recording_0\\pv_57_single_print_d2_06_LE.mp4 to Z:\\Nimrod\\experiments\\PV_57\\2024_11_25\\block_009\\eye_videos\\RE\\pv_57_single_print_d2_06_640x480_60hz_experiment_1_recording_0\\pv_57_single_print_d2_06_LE_temp.mp4\n",
      "Temporarily moved Z:\\Nimrod\\experiments\\PV_57\\2024_11_25\\block_009\\eye_videos\\LE\\pv_57_single_print_d2_06_640x480_60hz_experiment_1_recording_0\\pv_57_single_print_d2_06_LEDLC_resnet_50_Eye_Tracking_piplineMar1shuffle1_950000.csv to Z:\\Nimrod\\experiments\\PV_57\\2024_11_25\\block_009\\eye_videos\\RE\\pv_57_single_print_d2_06_640x480_60hz_experiment_1_recording_0\\pv_57_single_print_d2_06_LEDLC_resnet_50_Eye_Tracking_piplineMar1shuffle1_950000_temp.csv\n",
      "Temporarily moved Z:\\Nimrod\\experiments\\PV_57\\2024_11_25\\block_009\\eye_videos\\LE\\pv_57_single_print_d2_06_640x480_60hz_experiment_1_recording_0\\pv_57_single_print_d2_06_LEDLC_resnet_50_Eye_Tracking_piplineMar1shuffle1_950000.h5 to Z:\\Nimrod\\experiments\\PV_57\\2024_11_25\\block_009\\eye_videos\\RE\\pv_57_single_print_d2_06_640x480_60hz_experiment_1_recording_0\\pv_57_single_print_d2_06_LEDLC_resnet_50_Eye_Tracking_piplineMar1shuffle1_950000_temp.h5\n",
      "Temporarily moved Z:\\Nimrod\\experiments\\PV_57\\2024_11_25\\block_009\\eye_videos\\LE\\pv_57_single_print_d2_06_640x480_60hz_experiment_1_recording_0\\pv_57_single_print_d2_06_LEDLC_resnet_50_Eye_Tracking_piplineMar1shuffle1_950000_labeled_LE.mp4 to Z:\\Nimrod\\experiments\\PV_57\\2024_11_25\\block_009\\eye_videos\\RE\\pv_57_single_print_d2_06_640x480_60hz_experiment_1_recording_0\\pv_57_single_print_d2_06_LEDLC_resnet_50_Eye_Tracking_piplineMar1shuffle1_950000_labeled_LE_temp.mp4\n",
      "Temporarily moved Z:\\Nimrod\\experiments\\PV_57\\2024_11_25\\block_009\\eye_videos\\LE\\pv_57_single_print_d2_06_640x480_60hz_experiment_1_recording_0\\pv_57_single_print_d2_06_LEDLC_resnet_50_Eye_Tracking_piplineMar1shuffle1_950000_meta.pickle to Z:\\Nimrod\\experiments\\PV_57\\2024_11_25\\block_009\\eye_videos\\RE\\pv_57_single_print_d2_06_640x480_60hz_experiment_1_recording_0\\pv_57_single_print_d2_06_LEDLC_resnet_50_Eye_Tracking_piplineMar1shuffle1_950000_meta_temp.pickle\n",
      "Temporarily moved Z:\\Nimrod\\experiments\\PV_57\\2024_11_25\\block_009\\eye_videos\\LE\\pv_57_single_print_d2_06_640x480_60hz_experiment_1_recording_0\\pv_57_single_print_d2_06_params.json to Z:\\Nimrod\\experiments\\PV_57\\2024_11_25\\block_009\\eye_videos\\RE\\pv_57_single_print_d2_06_640x480_60hz_experiment_1_recording_0\\pv_57_single_print_d2_06_params_temp.json\n",
      "Temporarily moved Z:\\Nimrod\\experiments\\PV_57\\2024_11_25\\block_009\\eye_videos\\LE\\pv_57_single_print_d2_06_640x480_60hz_experiment_1_recording_0\\pv_57_single_print_d2_06_timestamps.csv to Z:\\Nimrod\\experiments\\PV_57\\2024_11_25\\block_009\\eye_videos\\RE\\pv_57_single_print_d2_06_640x480_60hz_experiment_1_recording_0\\pv_57_single_print_d2_06_timestamps_temp.csv\n",
      "Temporarily moved Z:\\Nimrod\\experiments\\PV_57\\2024_11_25\\block_009\\eye_videos\\RE\\pv_57_single_print_d2_06_640x480_60hz_experiment_1_recording_0\\pv_57_single_print_d2_06.h264 to Z:\\Nimrod\\experiments\\PV_57\\2024_11_25\\block_009\\eye_videos\\LE\\pv_57_single_print_d2_06_640x480_60hz_experiment_1_recording_0\\pv_57_single_print_d2_06_temp.h264\n",
      "Temporarily moved Z:\\Nimrod\\experiments\\PV_57\\2024_11_25\\block_009\\eye_videos\\RE\\pv_57_single_print_d2_06_640x480_60hz_experiment_1_recording_0\\pv_57_single_print_d2_06.mp4 to Z:\\Nimrod\\experiments\\PV_57\\2024_11_25\\block_009\\eye_videos\\LE\\pv_57_single_print_d2_06_640x480_60hz_experiment_1_recording_0\\pv_57_single_print_d2_06_temp.mp4\n",
      "Temporarily moved Z:\\Nimrod\\experiments\\PV_57\\2024_11_25\\block_009\\eye_videos\\RE\\pv_57_single_print_d2_06_640x480_60hz_experiment_1_recording_0\\pv_57_single_print_d2_06_params.json to Z:\\Nimrod\\experiments\\PV_57\\2024_11_25\\block_009\\eye_videos\\LE\\pv_57_single_print_d2_06_640x480_60hz_experiment_1_recording_0\\pv_57_single_print_d2_06_params_temp.json\n",
      "Temporarily moved Z:\\Nimrod\\experiments\\PV_57\\2024_11_25\\block_009\\eye_videos\\RE\\pv_57_single_print_d2_06_640x480_60hz_experiment_1_recording_0\\pv_57_single_print_d2_06_RE.mp4 to Z:\\Nimrod\\experiments\\PV_57\\2024_11_25\\block_009\\eye_videos\\LE\\pv_57_single_print_d2_06_640x480_60hz_experiment_1_recording_0\\pv_57_single_print_d2_06_RE_temp.mp4\n",
      "Temporarily moved Z:\\Nimrod\\experiments\\PV_57\\2024_11_25\\block_009\\eye_videos\\RE\\pv_57_single_print_d2_06_640x480_60hz_experiment_1_recording_0\\pv_57_single_print_d2_06_REDLC_resnet_50_Eye_Tracking_piplineMar1shuffle1_950000.csv to Z:\\Nimrod\\experiments\\PV_57\\2024_11_25\\block_009\\eye_videos\\LE\\pv_57_single_print_d2_06_640x480_60hz_experiment_1_recording_0\\pv_57_single_print_d2_06_REDLC_resnet_50_Eye_Tracking_piplineMar1shuffle1_950000_temp.csv\n",
      "Temporarily moved Z:\\Nimrod\\experiments\\PV_57\\2024_11_25\\block_009\\eye_videos\\RE\\pv_57_single_print_d2_06_640x480_60hz_experiment_1_recording_0\\pv_57_single_print_d2_06_REDLC_resnet_50_Eye_Tracking_piplineMar1shuffle1_950000.h5 to Z:\\Nimrod\\experiments\\PV_57\\2024_11_25\\block_009\\eye_videos\\LE\\pv_57_single_print_d2_06_640x480_60hz_experiment_1_recording_0\\pv_57_single_print_d2_06_REDLC_resnet_50_Eye_Tracking_piplineMar1shuffle1_950000_temp.h5\n",
      "Temporarily moved Z:\\Nimrod\\experiments\\PV_57\\2024_11_25\\block_009\\eye_videos\\RE\\pv_57_single_print_d2_06_640x480_60hz_experiment_1_recording_0\\pv_57_single_print_d2_06_REDLC_resnet_50_Eye_Tracking_piplineMar1shuffle1_950000_labeled.mp4 to Z:\\Nimrod\\experiments\\PV_57\\2024_11_25\\block_009\\eye_videos\\LE\\pv_57_single_print_d2_06_640x480_60hz_experiment_1_recording_0\\pv_57_single_print_d2_06_REDLC_resnet_50_Eye_Tracking_piplineMar1shuffle1_950000_labeled_temp.mp4\n",
      "Temporarily moved Z:\\Nimrod\\experiments\\PV_57\\2024_11_25\\block_009\\eye_videos\\RE\\pv_57_single_print_d2_06_640x480_60hz_experiment_1_recording_0\\pv_57_single_print_d2_06_REDLC_resnet_50_Eye_Tracking_piplineMar1shuffle1_950000_meta.pickle to Z:\\Nimrod\\experiments\\PV_57\\2024_11_25\\block_009\\eye_videos\\LE\\pv_57_single_print_d2_06_640x480_60hz_experiment_1_recording_0\\pv_57_single_print_d2_06_REDLC_resnet_50_Eye_Tracking_piplineMar1shuffle1_950000_meta_temp.pickle\n",
      "Temporarily moved Z:\\Nimrod\\experiments\\PV_57\\2024_11_25\\block_009\\eye_videos\\RE\\pv_57_single_print_d2_06_640x480_60hz_experiment_1_recording_0\\pv_57_single_print_d2_06_timestamps.csv to Z:\\Nimrod\\experiments\\PV_57\\2024_11_25\\block_009\\eye_videos\\LE\\pv_57_single_print_d2_06_640x480_60hz_experiment_1_recording_0\\pv_57_single_print_d2_06_timestamps_temp.csv\n",
      "Restored name Z:\\Nimrod\\experiments\\PV_57\\2024_11_25\\block_009\\eye_videos\\RE\\pv_57_single_print_d2_06_640x480_60hz_experiment_1_recording_0\\pv_57_single_print_d2_06_LEDLC_resnet_50_Eye_Tracking_piplineMar1shuffle1_950000_labeled_LE_temp.mp4 to Z:\\Nimrod\\experiments\\PV_57\\2024_11_25\\block_009\\eye_videos\\RE\\pv_57_single_print_d2_06_640x480_60hz_experiment_1_recording_0\\pv_57_single_print_d2_06_LEDLC_resnet_50_Eye_Tracking_piplineMar1shuffle1_950000_labeled_LE.mp4\n",
      "Renamed Z:\\Nimrod\\experiments\\PV_57\\2024_11_25\\block_009\\eye_videos\\RE\\pv_57_single_print_d2_06_640x480_60hz_experiment_1_recording_0\\pv_57_single_print_d2_06_LEDLC_resnet_50_Eye_Tracking_piplineMar1shuffle1_950000_labeled_LE.mp4 to Z:\\Nimrod\\experiments\\PV_57\\2024_11_25\\block_009\\eye_videos\\RE\\pv_57_single_print_d2_06_640x480_60hz_experiment_1_recording_0\\pv_57_single_print_d2_06_REDLC_resnet_50_Eye_Tracking_piplineMar1shuffle1_950000_labeled_RE.mp4\n",
      "Restored name Z:\\Nimrod\\experiments\\PV_57\\2024_11_25\\block_009\\eye_videos\\RE\\pv_57_single_print_d2_06_640x480_60hz_experiment_1_recording_0\\pv_57_single_print_d2_06_LEDLC_resnet_50_Eye_Tracking_piplineMar1shuffle1_950000_meta_temp.pickle to Z:\\Nimrod\\experiments\\PV_57\\2024_11_25\\block_009\\eye_videos\\RE\\pv_57_single_print_d2_06_640x480_60hz_experiment_1_recording_0\\pv_57_single_print_d2_06_LEDLC_resnet_50_Eye_Tracking_piplineMar1shuffle1_950000_meta.pickle\n",
      "Renamed Z:\\Nimrod\\experiments\\PV_57\\2024_11_25\\block_009\\eye_videos\\RE\\pv_57_single_print_d2_06_640x480_60hz_experiment_1_recording_0\\pv_57_single_print_d2_06_LEDLC_resnet_50_Eye_Tracking_piplineMar1shuffle1_950000_meta.pickle to Z:\\Nimrod\\experiments\\PV_57\\2024_11_25\\block_009\\eye_videos\\RE\\pv_57_single_print_d2_06_640x480_60hz_experiment_1_recording_0\\pv_57_single_print_d2_06_REDLC_resnet_50_Eye_Tracking_piplineMar1shuffle1_950000_meta.pickle\n",
      "Restored name Z:\\Nimrod\\experiments\\PV_57\\2024_11_25\\block_009\\eye_videos\\RE\\pv_57_single_print_d2_06_640x480_60hz_experiment_1_recording_0\\pv_57_single_print_d2_06_LEDLC_resnet_50_Eye_Tracking_piplineMar1shuffle1_950000_temp.csv to Z:\\Nimrod\\experiments\\PV_57\\2024_11_25\\block_009\\eye_videos\\RE\\pv_57_single_print_d2_06_640x480_60hz_experiment_1_recording_0\\pv_57_single_print_d2_06_LEDLC_resnet_50_Eye_Tracking_piplineMar1shuffle1_950000.csv\n",
      "Renamed Z:\\Nimrod\\experiments\\PV_57\\2024_11_25\\block_009\\eye_videos\\RE\\pv_57_single_print_d2_06_640x480_60hz_experiment_1_recording_0\\pv_57_single_print_d2_06_LEDLC_resnet_50_Eye_Tracking_piplineMar1shuffle1_950000.csv to Z:\\Nimrod\\experiments\\PV_57\\2024_11_25\\block_009\\eye_videos\\RE\\pv_57_single_print_d2_06_640x480_60hz_experiment_1_recording_0\\pv_57_single_print_d2_06_REDLC_resnet_50_Eye_Tracking_piplineMar1shuffle1_950000.csv\n",
      "Restored name Z:\\Nimrod\\experiments\\PV_57\\2024_11_25\\block_009\\eye_videos\\RE\\pv_57_single_print_d2_06_640x480_60hz_experiment_1_recording_0\\pv_57_single_print_d2_06_LEDLC_resnet_50_Eye_Tracking_piplineMar1shuffle1_950000_temp.h5 to Z:\\Nimrod\\experiments\\PV_57\\2024_11_25\\block_009\\eye_videos\\RE\\pv_57_single_print_d2_06_640x480_60hz_experiment_1_recording_0\\pv_57_single_print_d2_06_LEDLC_resnet_50_Eye_Tracking_piplineMar1shuffle1_950000.h5\n",
      "Renamed Z:\\Nimrod\\experiments\\PV_57\\2024_11_25\\block_009\\eye_videos\\RE\\pv_57_single_print_d2_06_640x480_60hz_experiment_1_recording_0\\pv_57_single_print_d2_06_LEDLC_resnet_50_Eye_Tracking_piplineMar1shuffle1_950000.h5 to Z:\\Nimrod\\experiments\\PV_57\\2024_11_25\\block_009\\eye_videos\\RE\\pv_57_single_print_d2_06_640x480_60hz_experiment_1_recording_0\\pv_57_single_print_d2_06_REDLC_resnet_50_Eye_Tracking_piplineMar1shuffle1_950000.h5\n",
      "Restored name Z:\\Nimrod\\experiments\\PV_57\\2024_11_25\\block_009\\eye_videos\\RE\\pv_57_single_print_d2_06_640x480_60hz_experiment_1_recording_0\\pv_57_single_print_d2_06_LE_temp.mp4 to Z:\\Nimrod\\experiments\\PV_57\\2024_11_25\\block_009\\eye_videos\\RE\\pv_57_single_print_d2_06_640x480_60hz_experiment_1_recording_0\\pv_57_single_print_d2_06_LE.mp4\n",
      "Renamed Z:\\Nimrod\\experiments\\PV_57\\2024_11_25\\block_009\\eye_videos\\RE\\pv_57_single_print_d2_06_640x480_60hz_experiment_1_recording_0\\pv_57_single_print_d2_06_LE.mp4 to Z:\\Nimrod\\experiments\\PV_57\\2024_11_25\\block_009\\eye_videos\\RE\\pv_57_single_print_d2_06_640x480_60hz_experiment_1_recording_0\\pv_57_single_print_d2_06_RE.mp4\n",
      "Restored name Z:\\Nimrod\\experiments\\PV_57\\2024_11_25\\block_009\\eye_videos\\RE\\pv_57_single_print_d2_06_640x480_60hz_experiment_1_recording_0\\pv_57_single_print_d2_06_params_temp.json to Z:\\Nimrod\\experiments\\PV_57\\2024_11_25\\block_009\\eye_videos\\RE\\pv_57_single_print_d2_06_640x480_60hz_experiment_1_recording_0\\pv_57_single_print_d2_06_params.json\n",
      "Restored name Z:\\Nimrod\\experiments\\PV_57\\2024_11_25\\block_009\\eye_videos\\RE\\pv_57_single_print_d2_06_640x480_60hz_experiment_1_recording_0\\pv_57_single_print_d2_06_temp.h264 to Z:\\Nimrod\\experiments\\PV_57\\2024_11_25\\block_009\\eye_videos\\RE\\pv_57_single_print_d2_06_640x480_60hz_experiment_1_recording_0\\pv_57_single_print_d2_06.h264\n",
      "Restored name Z:\\Nimrod\\experiments\\PV_57\\2024_11_25\\block_009\\eye_videos\\RE\\pv_57_single_print_d2_06_640x480_60hz_experiment_1_recording_0\\pv_57_single_print_d2_06_timestamps_temp.csv to Z:\\Nimrod\\experiments\\PV_57\\2024_11_25\\block_009\\eye_videos\\RE\\pv_57_single_print_d2_06_640x480_60hz_experiment_1_recording_0\\pv_57_single_print_d2_06_timestamps.csv\n",
      "Restored name Z:\\Nimrod\\experiments\\PV_57\\2024_11_25\\block_009\\eye_videos\\LE\\pv_57_single_print_d2_06_640x480_60hz_experiment_1_recording_0\\pv_57_single_print_d2_06_params_temp.json to Z:\\Nimrod\\experiments\\PV_57\\2024_11_25\\block_009\\eye_videos\\LE\\pv_57_single_print_d2_06_640x480_60hz_experiment_1_recording_0\\pv_57_single_print_d2_06_params.json\n",
      "Restored name Z:\\Nimrod\\experiments\\PV_57\\2024_11_25\\block_009\\eye_videos\\LE\\pv_57_single_print_d2_06_640x480_60hz_experiment_1_recording_0\\pv_57_single_print_d2_06_REDLC_resnet_50_Eye_Tracking_piplineMar1shuffle1_950000_labeled_temp.mp4 to Z:\\Nimrod\\experiments\\PV_57\\2024_11_25\\block_009\\eye_videos\\LE\\pv_57_single_print_d2_06_640x480_60hz_experiment_1_recording_0\\pv_57_single_print_d2_06_REDLC_resnet_50_Eye_Tracking_piplineMar1shuffle1_950000_labeled.mp4\n",
      "Renamed Z:\\Nimrod\\experiments\\PV_57\\2024_11_25\\block_009\\eye_videos\\LE\\pv_57_single_print_d2_06_640x480_60hz_experiment_1_recording_0\\pv_57_single_print_d2_06_REDLC_resnet_50_Eye_Tracking_piplineMar1shuffle1_950000_labeled.mp4 to Z:\\Nimrod\\experiments\\PV_57\\2024_11_25\\block_009\\eye_videos\\LE\\pv_57_single_print_d2_06_640x480_60hz_experiment_1_recording_0\\pv_57_single_print_d2_06_LEDLC_resnet_50_Eye_Tracking_piplineMar1shuffle1_950000_labeled.mp4\n",
      "Restored name Z:\\Nimrod\\experiments\\PV_57\\2024_11_25\\block_009\\eye_videos\\LE\\pv_57_single_print_d2_06_640x480_60hz_experiment_1_recording_0\\pv_57_single_print_d2_06_REDLC_resnet_50_Eye_Tracking_piplineMar1shuffle1_950000_meta_temp.pickle to Z:\\Nimrod\\experiments\\PV_57\\2024_11_25\\block_009\\eye_videos\\LE\\pv_57_single_print_d2_06_640x480_60hz_experiment_1_recording_0\\pv_57_single_print_d2_06_REDLC_resnet_50_Eye_Tracking_piplineMar1shuffle1_950000_meta.pickle\n",
      "Renamed Z:\\Nimrod\\experiments\\PV_57\\2024_11_25\\block_009\\eye_videos\\LE\\pv_57_single_print_d2_06_640x480_60hz_experiment_1_recording_0\\pv_57_single_print_d2_06_REDLC_resnet_50_Eye_Tracking_piplineMar1shuffle1_950000_meta.pickle to Z:\\Nimrod\\experiments\\PV_57\\2024_11_25\\block_009\\eye_videos\\LE\\pv_57_single_print_d2_06_640x480_60hz_experiment_1_recording_0\\pv_57_single_print_d2_06_LEDLC_resnet_50_Eye_Tracking_piplineMar1shuffle1_950000_meta.pickle\n",
      "Restored name Z:\\Nimrod\\experiments\\PV_57\\2024_11_25\\block_009\\eye_videos\\LE\\pv_57_single_print_d2_06_640x480_60hz_experiment_1_recording_0\\pv_57_single_print_d2_06_REDLC_resnet_50_Eye_Tracking_piplineMar1shuffle1_950000_temp.csv to Z:\\Nimrod\\experiments\\PV_57\\2024_11_25\\block_009\\eye_videos\\LE\\pv_57_single_print_d2_06_640x480_60hz_experiment_1_recording_0\\pv_57_single_print_d2_06_REDLC_resnet_50_Eye_Tracking_piplineMar1shuffle1_950000.csv\n",
      "Renamed Z:\\Nimrod\\experiments\\PV_57\\2024_11_25\\block_009\\eye_videos\\LE\\pv_57_single_print_d2_06_640x480_60hz_experiment_1_recording_0\\pv_57_single_print_d2_06_REDLC_resnet_50_Eye_Tracking_piplineMar1shuffle1_950000.csv to Z:\\Nimrod\\experiments\\PV_57\\2024_11_25\\block_009\\eye_videos\\LE\\pv_57_single_print_d2_06_640x480_60hz_experiment_1_recording_0\\pv_57_single_print_d2_06_LEDLC_resnet_50_Eye_Tracking_piplineMar1shuffle1_950000.csv\n",
      "Restored name Z:\\Nimrod\\experiments\\PV_57\\2024_11_25\\block_009\\eye_videos\\LE\\pv_57_single_print_d2_06_640x480_60hz_experiment_1_recording_0\\pv_57_single_print_d2_06_REDLC_resnet_50_Eye_Tracking_piplineMar1shuffle1_950000_temp.h5 to Z:\\Nimrod\\experiments\\PV_57\\2024_11_25\\block_009\\eye_videos\\LE\\pv_57_single_print_d2_06_640x480_60hz_experiment_1_recording_0\\pv_57_single_print_d2_06_REDLC_resnet_50_Eye_Tracking_piplineMar1shuffle1_950000.h5\n",
      "Renamed Z:\\Nimrod\\experiments\\PV_57\\2024_11_25\\block_009\\eye_videos\\LE\\pv_57_single_print_d2_06_640x480_60hz_experiment_1_recording_0\\pv_57_single_print_d2_06_REDLC_resnet_50_Eye_Tracking_piplineMar1shuffle1_950000.h5 to Z:\\Nimrod\\experiments\\PV_57\\2024_11_25\\block_009\\eye_videos\\LE\\pv_57_single_print_d2_06_640x480_60hz_experiment_1_recording_0\\pv_57_single_print_d2_06_LEDLC_resnet_50_Eye_Tracking_piplineMar1shuffle1_950000.h5\n",
      "Restored name Z:\\Nimrod\\experiments\\PV_57\\2024_11_25\\block_009\\eye_videos\\LE\\pv_57_single_print_d2_06_640x480_60hz_experiment_1_recording_0\\pv_57_single_print_d2_06_RE_temp.mp4 to Z:\\Nimrod\\experiments\\PV_57\\2024_11_25\\block_009\\eye_videos\\LE\\pv_57_single_print_d2_06_640x480_60hz_experiment_1_recording_0\\pv_57_single_print_d2_06_RE.mp4\n",
      "Renamed Z:\\Nimrod\\experiments\\PV_57\\2024_11_25\\block_009\\eye_videos\\LE\\pv_57_single_print_d2_06_640x480_60hz_experiment_1_recording_0\\pv_57_single_print_d2_06_RE.mp4 to Z:\\Nimrod\\experiments\\PV_57\\2024_11_25\\block_009\\eye_videos\\LE\\pv_57_single_print_d2_06_640x480_60hz_experiment_1_recording_0\\pv_57_single_print_d2_06_LE.mp4\n",
      "Restored name Z:\\Nimrod\\experiments\\PV_57\\2024_11_25\\block_009\\eye_videos\\LE\\pv_57_single_print_d2_06_640x480_60hz_experiment_1_recording_0\\pv_57_single_print_d2_06_temp.h264 to Z:\\Nimrod\\experiments\\PV_57\\2024_11_25\\block_009\\eye_videos\\LE\\pv_57_single_print_d2_06_640x480_60hz_experiment_1_recording_0\\pv_57_single_print_d2_06.h264\n",
      "Restored name Z:\\Nimrod\\experiments\\PV_57\\2024_11_25\\block_009\\eye_videos\\LE\\pv_57_single_print_d2_06_640x480_60hz_experiment_1_recording_0\\pv_57_single_print_d2_06_temp.mp4 to Z:\\Nimrod\\experiments\\PV_57\\2024_11_25\\block_009\\eye_videos\\LE\\pv_57_single_print_d2_06_640x480_60hz_experiment_1_recording_0\\pv_57_single_print_d2_06.mp4\n",
      "Restored name Z:\\Nimrod\\experiments\\PV_57\\2024_11_25\\block_009\\eye_videos\\LE\\pv_57_single_print_d2_06_640x480_60hz_experiment_1_recording_0\\pv_57_single_print_d2_06_timestamps_temp.csv to Z:\\Nimrod\\experiments\\PV_57\\2024_11_25\\block_009\\eye_videos\\LE\\pv_57_single_print_d2_06_640x480_60hz_experiment_1_recording_0\\pv_57_single_print_d2_06_timestamps.csv\n",
      "Completed swapping and renaming for block 009\n",
      "working on PV_57, block 013, on PV_57_hunter_2_2024-12-01_16-34-43...\n",
      "\n",
      "Block 013 - Confirmation Required\n",
      "Files to be moved from Left Eye folder to Right Eye folder:\n",
      "  - Z:\\Nimrod\\experiments\\PV_57\\2024_12_01\\block_013\\eye_videos\\LE\\d3__04_640x480_60hz_experiment_1_recording_0\\d3__04.h264\n",
      "  - Z:\\Nimrod\\experiments\\PV_57\\2024_12_01\\block_013\\eye_videos\\LE\\d3__04_640x480_60hz_experiment_1_recording_0\\d3__04_LE.mp4\n",
      "  - Z:\\Nimrod\\experiments\\PV_57\\2024_12_01\\block_013\\eye_videos\\LE\\d3__04_640x480_60hz_experiment_1_recording_0\\d3__04_LEDLC_resnet_50_Eye_Tracking_piplineMar1shuffle1_950000.csv\n",
      "  - Z:\\Nimrod\\experiments\\PV_57\\2024_12_01\\block_013\\eye_videos\\LE\\d3__04_640x480_60hz_experiment_1_recording_0\\d3__04_LEDLC_resnet_50_Eye_Tracking_piplineMar1shuffle1_950000.h5\n",
      "  - Z:\\Nimrod\\experiments\\PV_57\\2024_12_01\\block_013\\eye_videos\\LE\\d3__04_640x480_60hz_experiment_1_recording_0\\d3__04_LEDLC_resnet_50_Eye_Tracking_piplineMar1shuffle1_950000_labeled_LE.mp4\n",
      "  - Z:\\Nimrod\\experiments\\PV_57\\2024_12_01\\block_013\\eye_videos\\LE\\d3__04_640x480_60hz_experiment_1_recording_0\\d3__04_LEDLC_resnet_50_Eye_Tracking_piplineMar1shuffle1_950000_meta.pickle\n",
      "  - Z:\\Nimrod\\experiments\\PV_57\\2024_12_01\\block_013\\eye_videos\\LE\\d3__04_640x480_60hz_experiment_1_recording_0\\d3__04_params.json\n",
      "  - Z:\\Nimrod\\experiments\\PV_57\\2024_12_01\\block_013\\eye_videos\\LE\\d3__04_640x480_60hz_experiment_1_recording_0\\d3__04_timestamps.csv\n",
      "Files to be moved from Right Eye folder to Left Eye folder:\n",
      "  - Z:\\Nimrod\\experiments\\PV_57\\2024_12_01\\block_013\\eye_videos\\RE\\d3__04_640x480_60hz_experiment_1_recording_0\\d3__04.h264\n",
      "  - Z:\\Nimrod\\experiments\\PV_57\\2024_12_01\\block_013\\eye_videos\\RE\\d3__04_640x480_60hz_experiment_1_recording_0\\d3__04.mp4\n",
      "  - Z:\\Nimrod\\experiments\\PV_57\\2024_12_01\\block_013\\eye_videos\\RE\\d3__04_640x480_60hz_experiment_1_recording_0\\d3__04_params.json\n",
      "  - Z:\\Nimrod\\experiments\\PV_57\\2024_12_01\\block_013\\eye_videos\\RE\\d3__04_640x480_60hz_experiment_1_recording_0\\d3__04_RE.mp4\n",
      "  - Z:\\Nimrod\\experiments\\PV_57\\2024_12_01\\block_013\\eye_videos\\RE\\d3__04_640x480_60hz_experiment_1_recording_0\\d3__04_REDLC_resnet_50_Eye_Tracking_piplineMar1shuffle1_950000.csv\n",
      "  - Z:\\Nimrod\\experiments\\PV_57\\2024_12_01\\block_013\\eye_videos\\RE\\d3__04_640x480_60hz_experiment_1_recording_0\\d3__04_REDLC_resnet_50_Eye_Tracking_piplineMar1shuffle1_950000.h5\n",
      "  - Z:\\Nimrod\\experiments\\PV_57\\2024_12_01\\block_013\\eye_videos\\RE\\d3__04_640x480_60hz_experiment_1_recording_0\\d3__04_REDLC_resnet_50_Eye_Tracking_piplineMar1shuffle1_950000_labeled.mp4\n",
      "  - Z:\\Nimrod\\experiments\\PV_57\\2024_12_01\\block_013\\eye_videos\\RE\\d3__04_640x480_60hz_experiment_1_recording_0\\d3__04_REDLC_resnet_50_Eye_Tracking_piplineMar1shuffle1_950000_meta.pickle\n",
      "  - Z:\\Nimrod\\experiments\\PV_57\\2024_12_01\\block_013\\eye_videos\\RE\\d3__04_640x480_60hz_experiment_1_recording_0\\d3__04_timestamps.csv\n",
      "Temporarily moved Z:\\Nimrod\\experiments\\PV_57\\2024_12_01\\block_013\\eye_videos\\LE\\d3__04_640x480_60hz_experiment_1_recording_0\\d3__04.h264 to Z:\\Nimrod\\experiments\\PV_57\\2024_12_01\\block_013\\eye_videos\\RE\\d3__04_640x480_60hz_experiment_1_recording_0\\d3__04_temp.h264\n",
      "Temporarily moved Z:\\Nimrod\\experiments\\PV_57\\2024_12_01\\block_013\\eye_videos\\LE\\d3__04_640x480_60hz_experiment_1_recording_0\\d3__04_LE.mp4 to Z:\\Nimrod\\experiments\\PV_57\\2024_12_01\\block_013\\eye_videos\\RE\\d3__04_640x480_60hz_experiment_1_recording_0\\d3__04_LE_temp.mp4\n",
      "Temporarily moved Z:\\Nimrod\\experiments\\PV_57\\2024_12_01\\block_013\\eye_videos\\LE\\d3__04_640x480_60hz_experiment_1_recording_0\\d3__04_LEDLC_resnet_50_Eye_Tracking_piplineMar1shuffle1_950000.csv to Z:\\Nimrod\\experiments\\PV_57\\2024_12_01\\block_013\\eye_videos\\RE\\d3__04_640x480_60hz_experiment_1_recording_0\\d3__04_LEDLC_resnet_50_Eye_Tracking_piplineMar1shuffle1_950000_temp.csv\n",
      "Temporarily moved Z:\\Nimrod\\experiments\\PV_57\\2024_12_01\\block_013\\eye_videos\\LE\\d3__04_640x480_60hz_experiment_1_recording_0\\d3__04_LEDLC_resnet_50_Eye_Tracking_piplineMar1shuffle1_950000.h5 to Z:\\Nimrod\\experiments\\PV_57\\2024_12_01\\block_013\\eye_videos\\RE\\d3__04_640x480_60hz_experiment_1_recording_0\\d3__04_LEDLC_resnet_50_Eye_Tracking_piplineMar1shuffle1_950000_temp.h5\n",
      "Temporarily moved Z:\\Nimrod\\experiments\\PV_57\\2024_12_01\\block_013\\eye_videos\\LE\\d3__04_640x480_60hz_experiment_1_recording_0\\d3__04_LEDLC_resnet_50_Eye_Tracking_piplineMar1shuffle1_950000_labeled_LE.mp4 to Z:\\Nimrod\\experiments\\PV_57\\2024_12_01\\block_013\\eye_videos\\RE\\d3__04_640x480_60hz_experiment_1_recording_0\\d3__04_LEDLC_resnet_50_Eye_Tracking_piplineMar1shuffle1_950000_labeled_LE_temp.mp4\n",
      "Temporarily moved Z:\\Nimrod\\experiments\\PV_57\\2024_12_01\\block_013\\eye_videos\\LE\\d3__04_640x480_60hz_experiment_1_recording_0\\d3__04_LEDLC_resnet_50_Eye_Tracking_piplineMar1shuffle1_950000_meta.pickle to Z:\\Nimrod\\experiments\\PV_57\\2024_12_01\\block_013\\eye_videos\\RE\\d3__04_640x480_60hz_experiment_1_recording_0\\d3__04_LEDLC_resnet_50_Eye_Tracking_piplineMar1shuffle1_950000_meta_temp.pickle\n",
      "Temporarily moved Z:\\Nimrod\\experiments\\PV_57\\2024_12_01\\block_013\\eye_videos\\LE\\d3__04_640x480_60hz_experiment_1_recording_0\\d3__04_params.json to Z:\\Nimrod\\experiments\\PV_57\\2024_12_01\\block_013\\eye_videos\\RE\\d3__04_640x480_60hz_experiment_1_recording_0\\d3__04_params_temp.json\n",
      "Temporarily moved Z:\\Nimrod\\experiments\\PV_57\\2024_12_01\\block_013\\eye_videos\\LE\\d3__04_640x480_60hz_experiment_1_recording_0\\d3__04_timestamps.csv to Z:\\Nimrod\\experiments\\PV_57\\2024_12_01\\block_013\\eye_videos\\RE\\d3__04_640x480_60hz_experiment_1_recording_0\\d3__04_timestamps_temp.csv\n",
      "Temporarily moved Z:\\Nimrod\\experiments\\PV_57\\2024_12_01\\block_013\\eye_videos\\RE\\d3__04_640x480_60hz_experiment_1_recording_0\\d3__04.h264 to Z:\\Nimrod\\experiments\\PV_57\\2024_12_01\\block_013\\eye_videos\\LE\\d3__04_640x480_60hz_experiment_1_recording_0\\d3__04_temp.h264\n",
      "Temporarily moved Z:\\Nimrod\\experiments\\PV_57\\2024_12_01\\block_013\\eye_videos\\RE\\d3__04_640x480_60hz_experiment_1_recording_0\\d3__04.mp4 to Z:\\Nimrod\\experiments\\PV_57\\2024_12_01\\block_013\\eye_videos\\LE\\d3__04_640x480_60hz_experiment_1_recording_0\\d3__04_temp.mp4\n",
      "Temporarily moved Z:\\Nimrod\\experiments\\PV_57\\2024_12_01\\block_013\\eye_videos\\RE\\d3__04_640x480_60hz_experiment_1_recording_0\\d3__04_params.json to Z:\\Nimrod\\experiments\\PV_57\\2024_12_01\\block_013\\eye_videos\\LE\\d3__04_640x480_60hz_experiment_1_recording_0\\d3__04_params_temp.json\n",
      "Temporarily moved Z:\\Nimrod\\experiments\\PV_57\\2024_12_01\\block_013\\eye_videos\\RE\\d3__04_640x480_60hz_experiment_1_recording_0\\d3__04_RE.mp4 to Z:\\Nimrod\\experiments\\PV_57\\2024_12_01\\block_013\\eye_videos\\LE\\d3__04_640x480_60hz_experiment_1_recording_0\\d3__04_RE_temp.mp4\n",
      "Temporarily moved Z:\\Nimrod\\experiments\\PV_57\\2024_12_01\\block_013\\eye_videos\\RE\\d3__04_640x480_60hz_experiment_1_recording_0\\d3__04_REDLC_resnet_50_Eye_Tracking_piplineMar1shuffle1_950000.csv to Z:\\Nimrod\\experiments\\PV_57\\2024_12_01\\block_013\\eye_videos\\LE\\d3__04_640x480_60hz_experiment_1_recording_0\\d3__04_REDLC_resnet_50_Eye_Tracking_piplineMar1shuffle1_950000_temp.csv\n",
      "Temporarily moved Z:\\Nimrod\\experiments\\PV_57\\2024_12_01\\block_013\\eye_videos\\RE\\d3__04_640x480_60hz_experiment_1_recording_0\\d3__04_REDLC_resnet_50_Eye_Tracking_piplineMar1shuffle1_950000.h5 to Z:\\Nimrod\\experiments\\PV_57\\2024_12_01\\block_013\\eye_videos\\LE\\d3__04_640x480_60hz_experiment_1_recording_0\\d3__04_REDLC_resnet_50_Eye_Tracking_piplineMar1shuffle1_950000_temp.h5\n",
      "Temporarily moved Z:\\Nimrod\\experiments\\PV_57\\2024_12_01\\block_013\\eye_videos\\RE\\d3__04_640x480_60hz_experiment_1_recording_0\\d3__04_REDLC_resnet_50_Eye_Tracking_piplineMar1shuffle1_950000_labeled.mp4 to Z:\\Nimrod\\experiments\\PV_57\\2024_12_01\\block_013\\eye_videos\\LE\\d3__04_640x480_60hz_experiment_1_recording_0\\d3__04_REDLC_resnet_50_Eye_Tracking_piplineMar1shuffle1_950000_labeled_temp.mp4\n",
      "Temporarily moved Z:\\Nimrod\\experiments\\PV_57\\2024_12_01\\block_013\\eye_videos\\RE\\d3__04_640x480_60hz_experiment_1_recording_0\\d3__04_REDLC_resnet_50_Eye_Tracking_piplineMar1shuffle1_950000_meta.pickle to Z:\\Nimrod\\experiments\\PV_57\\2024_12_01\\block_013\\eye_videos\\LE\\d3__04_640x480_60hz_experiment_1_recording_0\\d3__04_REDLC_resnet_50_Eye_Tracking_piplineMar1shuffle1_950000_meta_temp.pickle\n",
      "Temporarily moved Z:\\Nimrod\\experiments\\PV_57\\2024_12_01\\block_013\\eye_videos\\RE\\d3__04_640x480_60hz_experiment_1_recording_0\\d3__04_timestamps.csv to Z:\\Nimrod\\experiments\\PV_57\\2024_12_01\\block_013\\eye_videos\\LE\\d3__04_640x480_60hz_experiment_1_recording_0\\d3__04_timestamps_temp.csv\n",
      "Restored name Z:\\Nimrod\\experiments\\PV_57\\2024_12_01\\block_013\\eye_videos\\RE\\d3__04_640x480_60hz_experiment_1_recording_0\\d3__04_LEDLC_resnet_50_Eye_Tracking_piplineMar1shuffle1_950000_labeled_LE_temp.mp4 to Z:\\Nimrod\\experiments\\PV_57\\2024_12_01\\block_013\\eye_videos\\RE\\d3__04_640x480_60hz_experiment_1_recording_0\\d3__04_LEDLC_resnet_50_Eye_Tracking_piplineMar1shuffle1_950000_labeled_LE.mp4\n",
      "Renamed Z:\\Nimrod\\experiments\\PV_57\\2024_12_01\\block_013\\eye_videos\\RE\\d3__04_640x480_60hz_experiment_1_recording_0\\d3__04_LEDLC_resnet_50_Eye_Tracking_piplineMar1shuffle1_950000_labeled_LE.mp4 to Z:\\Nimrod\\experiments\\PV_57\\2024_12_01\\block_013\\eye_videos\\RE\\d3__04_640x480_60hz_experiment_1_recording_0\\d3__04_REDLC_resnet_50_Eye_Tracking_piplineMar1shuffle1_950000_labeled_RE.mp4\n",
      "Restored name Z:\\Nimrod\\experiments\\PV_57\\2024_12_01\\block_013\\eye_videos\\RE\\d3__04_640x480_60hz_experiment_1_recording_0\\d3__04_LEDLC_resnet_50_Eye_Tracking_piplineMar1shuffle1_950000_meta_temp.pickle to Z:\\Nimrod\\experiments\\PV_57\\2024_12_01\\block_013\\eye_videos\\RE\\d3__04_640x480_60hz_experiment_1_recording_0\\d3__04_LEDLC_resnet_50_Eye_Tracking_piplineMar1shuffle1_950000_meta.pickle\n",
      "Renamed Z:\\Nimrod\\experiments\\PV_57\\2024_12_01\\block_013\\eye_videos\\RE\\d3__04_640x480_60hz_experiment_1_recording_0\\d3__04_LEDLC_resnet_50_Eye_Tracking_piplineMar1shuffle1_950000_meta.pickle to Z:\\Nimrod\\experiments\\PV_57\\2024_12_01\\block_013\\eye_videos\\RE\\d3__04_640x480_60hz_experiment_1_recording_0\\d3__04_REDLC_resnet_50_Eye_Tracking_piplineMar1shuffle1_950000_meta.pickle\n",
      "Restored name Z:\\Nimrod\\experiments\\PV_57\\2024_12_01\\block_013\\eye_videos\\RE\\d3__04_640x480_60hz_experiment_1_recording_0\\d3__04_LEDLC_resnet_50_Eye_Tracking_piplineMar1shuffle1_950000_temp.csv to Z:\\Nimrod\\experiments\\PV_57\\2024_12_01\\block_013\\eye_videos\\RE\\d3__04_640x480_60hz_experiment_1_recording_0\\d3__04_LEDLC_resnet_50_Eye_Tracking_piplineMar1shuffle1_950000.csv\n",
      "Renamed Z:\\Nimrod\\experiments\\PV_57\\2024_12_01\\block_013\\eye_videos\\RE\\d3__04_640x480_60hz_experiment_1_recording_0\\d3__04_LEDLC_resnet_50_Eye_Tracking_piplineMar1shuffle1_950000.csv to Z:\\Nimrod\\experiments\\PV_57\\2024_12_01\\block_013\\eye_videos\\RE\\d3__04_640x480_60hz_experiment_1_recording_0\\d3__04_REDLC_resnet_50_Eye_Tracking_piplineMar1shuffle1_950000.csv\n",
      "Restored name Z:\\Nimrod\\experiments\\PV_57\\2024_12_01\\block_013\\eye_videos\\RE\\d3__04_640x480_60hz_experiment_1_recording_0\\d3__04_LEDLC_resnet_50_Eye_Tracking_piplineMar1shuffle1_950000_temp.h5 to Z:\\Nimrod\\experiments\\PV_57\\2024_12_01\\block_013\\eye_videos\\RE\\d3__04_640x480_60hz_experiment_1_recording_0\\d3__04_LEDLC_resnet_50_Eye_Tracking_piplineMar1shuffle1_950000.h5\n",
      "Renamed Z:\\Nimrod\\experiments\\PV_57\\2024_12_01\\block_013\\eye_videos\\RE\\d3__04_640x480_60hz_experiment_1_recording_0\\d3__04_LEDLC_resnet_50_Eye_Tracking_piplineMar1shuffle1_950000.h5 to Z:\\Nimrod\\experiments\\PV_57\\2024_12_01\\block_013\\eye_videos\\RE\\d3__04_640x480_60hz_experiment_1_recording_0\\d3__04_REDLC_resnet_50_Eye_Tracking_piplineMar1shuffle1_950000.h5\n",
      "Restored name Z:\\Nimrod\\experiments\\PV_57\\2024_12_01\\block_013\\eye_videos\\RE\\d3__04_640x480_60hz_experiment_1_recording_0\\d3__04_LE_temp.mp4 to Z:\\Nimrod\\experiments\\PV_57\\2024_12_01\\block_013\\eye_videos\\RE\\d3__04_640x480_60hz_experiment_1_recording_0\\d3__04_LE.mp4\n",
      "Renamed Z:\\Nimrod\\experiments\\PV_57\\2024_12_01\\block_013\\eye_videos\\RE\\d3__04_640x480_60hz_experiment_1_recording_0\\d3__04_LE.mp4 to Z:\\Nimrod\\experiments\\PV_57\\2024_12_01\\block_013\\eye_videos\\RE\\d3__04_640x480_60hz_experiment_1_recording_0\\d3__04_RE.mp4\n",
      "Restored name Z:\\Nimrod\\experiments\\PV_57\\2024_12_01\\block_013\\eye_videos\\RE\\d3__04_640x480_60hz_experiment_1_recording_0\\d3__04_params_temp.json to Z:\\Nimrod\\experiments\\PV_57\\2024_12_01\\block_013\\eye_videos\\RE\\d3__04_640x480_60hz_experiment_1_recording_0\\d3__04_params.json\n",
      "Restored name Z:\\Nimrod\\experiments\\PV_57\\2024_12_01\\block_013\\eye_videos\\RE\\d3__04_640x480_60hz_experiment_1_recording_0\\d3__04_temp.h264 to Z:\\Nimrod\\experiments\\PV_57\\2024_12_01\\block_013\\eye_videos\\RE\\d3__04_640x480_60hz_experiment_1_recording_0\\d3__04.h264\n",
      "Restored name Z:\\Nimrod\\experiments\\PV_57\\2024_12_01\\block_013\\eye_videos\\RE\\d3__04_640x480_60hz_experiment_1_recording_0\\d3__04_timestamps_temp.csv to Z:\\Nimrod\\experiments\\PV_57\\2024_12_01\\block_013\\eye_videos\\RE\\d3__04_640x480_60hz_experiment_1_recording_0\\d3__04_timestamps.csv\n",
      "Restored name Z:\\Nimrod\\experiments\\PV_57\\2024_12_01\\block_013\\eye_videos\\LE\\d3__04_640x480_60hz_experiment_1_recording_0\\d3__04_params_temp.json to Z:\\Nimrod\\experiments\\PV_57\\2024_12_01\\block_013\\eye_videos\\LE\\d3__04_640x480_60hz_experiment_1_recording_0\\d3__04_params.json\n",
      "Restored name Z:\\Nimrod\\experiments\\PV_57\\2024_12_01\\block_013\\eye_videos\\LE\\d3__04_640x480_60hz_experiment_1_recording_0\\d3__04_REDLC_resnet_50_Eye_Tracking_piplineMar1shuffle1_950000_labeled_temp.mp4 to Z:\\Nimrod\\experiments\\PV_57\\2024_12_01\\block_013\\eye_videos\\LE\\d3__04_640x480_60hz_experiment_1_recording_0\\d3__04_REDLC_resnet_50_Eye_Tracking_piplineMar1shuffle1_950000_labeled.mp4\n",
      "Renamed Z:\\Nimrod\\experiments\\PV_57\\2024_12_01\\block_013\\eye_videos\\LE\\d3__04_640x480_60hz_experiment_1_recording_0\\d3__04_REDLC_resnet_50_Eye_Tracking_piplineMar1shuffle1_950000_labeled.mp4 to Z:\\Nimrod\\experiments\\PV_57\\2024_12_01\\block_013\\eye_videos\\LE\\d3__04_640x480_60hz_experiment_1_recording_0\\d3__04_LEDLC_resnet_50_Eye_Tracking_piplineMar1shuffle1_950000_labeled.mp4\n",
      "Restored name Z:\\Nimrod\\experiments\\PV_57\\2024_12_01\\block_013\\eye_videos\\LE\\d3__04_640x480_60hz_experiment_1_recording_0\\d3__04_REDLC_resnet_50_Eye_Tracking_piplineMar1shuffle1_950000_meta_temp.pickle to Z:\\Nimrod\\experiments\\PV_57\\2024_12_01\\block_013\\eye_videos\\LE\\d3__04_640x480_60hz_experiment_1_recording_0\\d3__04_REDLC_resnet_50_Eye_Tracking_piplineMar1shuffle1_950000_meta.pickle\n",
      "Renamed Z:\\Nimrod\\experiments\\PV_57\\2024_12_01\\block_013\\eye_videos\\LE\\d3__04_640x480_60hz_experiment_1_recording_0\\d3__04_REDLC_resnet_50_Eye_Tracking_piplineMar1shuffle1_950000_meta.pickle to Z:\\Nimrod\\experiments\\PV_57\\2024_12_01\\block_013\\eye_videos\\LE\\d3__04_640x480_60hz_experiment_1_recording_0\\d3__04_LEDLC_resnet_50_Eye_Tracking_piplineMar1shuffle1_950000_meta.pickle\n",
      "Restored name Z:\\Nimrod\\experiments\\PV_57\\2024_12_01\\block_013\\eye_videos\\LE\\d3__04_640x480_60hz_experiment_1_recording_0\\d3__04_REDLC_resnet_50_Eye_Tracking_piplineMar1shuffle1_950000_temp.csv to Z:\\Nimrod\\experiments\\PV_57\\2024_12_01\\block_013\\eye_videos\\LE\\d3__04_640x480_60hz_experiment_1_recording_0\\d3__04_REDLC_resnet_50_Eye_Tracking_piplineMar1shuffle1_950000.csv\n",
      "Renamed Z:\\Nimrod\\experiments\\PV_57\\2024_12_01\\block_013\\eye_videos\\LE\\d3__04_640x480_60hz_experiment_1_recording_0\\d3__04_REDLC_resnet_50_Eye_Tracking_piplineMar1shuffle1_950000.csv to Z:\\Nimrod\\experiments\\PV_57\\2024_12_01\\block_013\\eye_videos\\LE\\d3__04_640x480_60hz_experiment_1_recording_0\\d3__04_LEDLC_resnet_50_Eye_Tracking_piplineMar1shuffle1_950000.csv\n",
      "Restored name Z:\\Nimrod\\experiments\\PV_57\\2024_12_01\\block_013\\eye_videos\\LE\\d3__04_640x480_60hz_experiment_1_recording_0\\d3__04_REDLC_resnet_50_Eye_Tracking_piplineMar1shuffle1_950000_temp.h5 to Z:\\Nimrod\\experiments\\PV_57\\2024_12_01\\block_013\\eye_videos\\LE\\d3__04_640x480_60hz_experiment_1_recording_0\\d3__04_REDLC_resnet_50_Eye_Tracking_piplineMar1shuffle1_950000.h5\n",
      "Renamed Z:\\Nimrod\\experiments\\PV_57\\2024_12_01\\block_013\\eye_videos\\LE\\d3__04_640x480_60hz_experiment_1_recording_0\\d3__04_REDLC_resnet_50_Eye_Tracking_piplineMar1shuffle1_950000.h5 to Z:\\Nimrod\\experiments\\PV_57\\2024_12_01\\block_013\\eye_videos\\LE\\d3__04_640x480_60hz_experiment_1_recording_0\\d3__04_LEDLC_resnet_50_Eye_Tracking_piplineMar1shuffle1_950000.h5\n",
      "Restored name Z:\\Nimrod\\experiments\\PV_57\\2024_12_01\\block_013\\eye_videos\\LE\\d3__04_640x480_60hz_experiment_1_recording_0\\d3__04_RE_temp.mp4 to Z:\\Nimrod\\experiments\\PV_57\\2024_12_01\\block_013\\eye_videos\\LE\\d3__04_640x480_60hz_experiment_1_recording_0\\d3__04_RE.mp4\n",
      "Renamed Z:\\Nimrod\\experiments\\PV_57\\2024_12_01\\block_013\\eye_videos\\LE\\d3__04_640x480_60hz_experiment_1_recording_0\\d3__04_RE.mp4 to Z:\\Nimrod\\experiments\\PV_57\\2024_12_01\\block_013\\eye_videos\\LE\\d3__04_640x480_60hz_experiment_1_recording_0\\d3__04_LE.mp4\n",
      "Restored name Z:\\Nimrod\\experiments\\PV_57\\2024_12_01\\block_013\\eye_videos\\LE\\d3__04_640x480_60hz_experiment_1_recording_0\\d3__04_temp.h264 to Z:\\Nimrod\\experiments\\PV_57\\2024_12_01\\block_013\\eye_videos\\LE\\d3__04_640x480_60hz_experiment_1_recording_0\\d3__04.h264\n",
      "Restored name Z:\\Nimrod\\experiments\\PV_57\\2024_12_01\\block_013\\eye_videos\\LE\\d3__04_640x480_60hz_experiment_1_recording_0\\d3__04_temp.mp4 to Z:\\Nimrod\\experiments\\PV_57\\2024_12_01\\block_013\\eye_videos\\LE\\d3__04_640x480_60hz_experiment_1_recording_0\\d3__04.mp4\n",
      "Restored name Z:\\Nimrod\\experiments\\PV_57\\2024_12_01\\block_013\\eye_videos\\LE\\d3__04_640x480_60hz_experiment_1_recording_0\\d3__04_timestamps_temp.csv to Z:\\Nimrod\\experiments\\PV_57\\2024_12_01\\block_013\\eye_videos\\LE\\d3__04_640x480_60hz_experiment_1_recording_0\\d3__04_timestamps.csv\n",
      "Completed swapping and renaming for block 013\n"
     ]
    }
   ],
   "source": [
    "for block in block_collection:\n",
    "    print(f'working on {block}...')\n",
    "    swap_and_rename_eye_videos_with_temp_stamping([block])"
   ],
   "metadata": {
    "collapsed": false,
    "ExecuteTime": {
     "end_time": "2024-12-28T17:10:26.406975700Z",
     "start_time": "2024-12-28T17:09:42.426487500Z"
    }
   },
   "id": "b20a5cfcdfc3f6dd",
   "execution_count": 71
  },
  {
   "cell_type": "code",
   "outputs": [
    {
     "name": "stdout",
     "output_type": "stream",
     "text": [
      "Swapped 'left_eye' and 'right_eye' data in Z:\\Nimrod\\experiments\\PV_57\\2024_11_21\\block_001\\analysis\\jitter_report_dict.pkl.\n",
      "Updated jitter report saved to Z:\\Nimrod\\experiments\\PV_57\\2024_11_21\\block_001\\analysis\\jitter_report_dict.pkl.\n",
      "Swapped 'left_eye' and 'right_eye' data in Z:\\Nimrod\\experiments\\PV_57\\2024_11_21\\block_002\\analysis\\jitter_report_dict.pkl.\n",
      "Updated jitter report saved to Z:\\Nimrod\\experiments\\PV_57\\2024_11_21\\block_002\\analysis\\jitter_report_dict.pkl.\n",
      "Swapped 'left_eye' and 'right_eye' data in Z:\\Nimrod\\experiments\\PV_57\\2024_11_21\\block_003\\analysis\\jitter_report_dict.pkl.\n",
      "Updated jitter report saved to Z:\\Nimrod\\experiments\\PV_57\\2024_11_21\\block_003\\analysis\\jitter_report_dict.pkl.\n",
      "Swapped 'left_eye' and 'right_eye' data in Z:\\Nimrod\\experiments\\PV_57\\2024_11_21\\block_004\\analysis\\jitter_report_dict.pkl.\n",
      "Updated jitter report saved to Z:\\Nimrod\\experiments\\PV_57\\2024_11_21\\block_004\\analysis\\jitter_report_dict.pkl.\n",
      "Swapped 'left_eye' and 'right_eye' data in Z:\\Nimrod\\experiments\\PV_57\\2024_11_25\\block_005\\analysis\\jitter_report_dict.pkl.\n",
      "Updated jitter report saved to Z:\\Nimrod\\experiments\\PV_57\\2024_11_25\\block_005\\analysis\\jitter_report_dict.pkl.\n",
      "Swapped 'left_eye' and 'right_eye' data in Z:\\Nimrod\\experiments\\PV_57\\2024_11_25\\block_006\\analysis\\jitter_report_dict.pkl.\n",
      "Updated jitter report saved to Z:\\Nimrod\\experiments\\PV_57\\2024_11_25\\block_006\\analysis\\jitter_report_dict.pkl.\n",
      "Swapped 'left_eye' and 'right_eye' data in Z:\\Nimrod\\experiments\\PV_57\\2024_11_25\\block_007\\analysis\\jitter_report_dict.pkl.\n",
      "Updated jitter report saved to Z:\\Nimrod\\experiments\\PV_57\\2024_11_25\\block_007\\analysis\\jitter_report_dict.pkl.\n",
      "Swapped 'left_eye' and 'right_eye' data in Z:\\Nimrod\\experiments\\PV_57\\2024_11_25\\block_008\\analysis\\jitter_report_dict.pkl.\n",
      "Updated jitter report saved to Z:\\Nimrod\\experiments\\PV_57\\2024_11_25\\block_008\\analysis\\jitter_report_dict.pkl.\n",
      "Swapped 'left_eye' and 'right_eye' data in Z:\\Nimrod\\experiments\\PV_57\\2024_11_25\\block_009\\analysis\\jitter_report_dict.pkl.\n",
      "Updated jitter report saved to Z:\\Nimrod\\experiments\\PV_57\\2024_11_25\\block_009\\analysis\\jitter_report_dict.pkl.\n",
      "Swapped 'left_eye' and 'right_eye' data in Z:\\Nimrod\\experiments\\PV_57\\2024_12_01\\block_013\\analysis\\jitter_report_dict.pkl.\n",
      "Updated jitter report saved to Z:\\Nimrod\\experiments\\PV_57\\2024_12_01\\block_013\\analysis\\jitter_report_dict.pkl.\n"
     ]
    }
   ],
   "source": [
    "for block in block_collection:\n",
    "    swap_jitter_report_eyes_for_block(block)"
   ],
   "metadata": {
    "collapsed": false,
    "ExecuteTime": {
     "end_time": "2024-12-28T17:11:20.337175Z",
     "start_time": "2024-12-28T17:11:09.782058500Z"
    }
   },
   "id": "199437091389b675",
   "execution_count": 72
  },
  {
   "cell_type": "code",
   "outputs": [],
   "source": [],
   "metadata": {
    "collapsed": false
   },
   "id": "274d1fad2c61db1d"
  }
 ],
 "metadata": {
  "kernelspec": {
   "display_name": "Python 3",
   "language": "python",
   "name": "python3"
  },
  "language_info": {
   "codemirror_mode": {
    "name": "ipython",
    "version": 2
   },
   "file_extension": ".py",
   "mimetype": "text/x-python",
   "name": "python",
   "nbconvert_exporter": "python",
   "pygments_lexer": "ipython2",
   "version": "2.7.6"
  }
 },
 "nbformat": 4,
 "nbformat_minor": 5
}
