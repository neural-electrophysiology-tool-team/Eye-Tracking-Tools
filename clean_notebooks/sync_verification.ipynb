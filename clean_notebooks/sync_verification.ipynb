{
 "cells": [
  {
   "metadata": {},
   "cell_type": "markdown",
   "source": [
    "\n",
    "# This notebook used on a blocksync object to verify recording synchronization and TTL mapping of the RPI eye videos"
   ],
   "id": "249c705c39976451"
  },
  {
   "cell_type": "code",
   "id": "initial_id",
   "metadata": {
    "collapsed": true,
    "ExecuteTime": {
     "end_time": "2025-08-05T10:32:08.830822Z",
     "start_time": "2025-08-05T10:32:08.608460Z"
    }
   },
   "source": [
    "import numpy as np\n",
    "import cv2\n",
    "from itertools import cycle\n",
    "import pickle\n",
    "import pathlib\n",
    "import math\n",
    "import tqdm\n",
    "import scipy.io\n",
    "from matplotlib import pyplot as plt\n",
    "import scipy.io\n",
    "import h5py\n",
    "import re\n",
    "from lxml import etree as ET\n",
    "import scipy.signal as sig\n",
    "import pandas as pd\n",
    "from scipy.stats import kde\n",
    "from BlockSync_current import BlockSync\n",
    "import UtilityFunctions_newOE as uf\n",
    "from scipy import signal\n",
    "import bokeh\n",
    "import seaborn as sns"
   ],
   "outputs": [],
   "execution_count": 2
  },
  {
   "metadata": {
    "ExecuteTime": {
     "end_time": "2025-08-05T10:32:09.479181Z",
     "start_time": "2025-08-05T10:32:09.378736Z"
    }
   },
   "cell_type": "code",
   "source": [
    "block_numbers = [1]\n",
    "bad_blocks = [] #\n",
    "experiment_path = pathlib.Path(r\"X:\\Nimrod\\synctrial\")\n",
    "animal = 'test_007'\n",
    "\n",
    "block_collection = uf.block_generator(block_numbers=block_numbers,\n",
    "                                      experiment_path=experiment_path,\n",
    "                                      animal=animal,\n",
    "                                      bad_blocks=bad_blocks,regev=True,\n",
    "                                      )\n",
    "for block in block_collection:\n",
    "    block.channeldict = None\n",
    "    block.channeldict={1: 'LED_driver',\n",
    "                       8: 'L_eye_TTL',\n",
    "                       2: 'Arena_TTL',\n",
    "                       7: 'R_eye_TTL'}\n",
    "# create a block_dict object for ease of access:\n",
    "block_dict = {}\n",
    "for b in block_collection:\n",
    "    block_dict[str(b.block_num)] = b\n",
    "block = block_collection[0]"
   ],
   "id": "904b0e7c841e250d",
   "outputs": [
    {
     "name": "stdout",
     "output_type": "stream",
     "text": [
      "instantiated block number 001 at Path: X:\\Nimrod\\synctrial\\test_007\\2025_08_05\\block_001, new OE version\n",
      "Found the sample rate for block 001 in the xml file, it is 20000 Hz\n",
      "created the .oe_rec attribute as an open ephys recording obj with get_data functionality\n",
      "retrieving zertoh sample number for block 001\n",
      "got it!\n"
     ]
    }
   ],
   "execution_count": 3
  },
  {
   "metadata": {
    "ExecuteTime": {
     "end_time": "2025-08-05T10:33:04.449043Z",
     "start_time": "2025-08-05T10:33:02.992685Z"
    }
   },
   "cell_type": "code",
   "source": [
    "block.handle_eye_videos()\n",
    "block.parse_open_ephys_events()\n"
   ],
   "id": "19c3f822cf092c16",
   "outputs": [
    {
     "name": "stdout",
     "output_type": "stream",
     "text": [
      "handling eye video files\n",
      "converting videos...\n",
      "converting files: ['X:\\\\Nimrod\\\\synctrial\\\\test_007\\\\2025_08_05\\\\block_001\\\\eye_videos\\\\LE\\\\synctrial2\\\\synctrial2.h264', 'X:\\\\Nimrod\\\\synctrial\\\\test_007\\\\2025_08_05\\\\block_001\\\\eye_videos\\\\RE\\\\synctrial2\\\\synctrial2.h264'] \n",
      " avoiding conversion on files: ['X:\\\\Nimrod\\\\synctrial\\\\test_007\\\\2025_08_05\\\\block_001\\\\eye_videos\\\\LE\\\\synctrial2\\\\synctrial2.mp4', 'X:\\\\Nimrod\\\\synctrial\\\\test_007\\\\2025_08_05\\\\block_001\\\\eye_videos\\\\RE\\\\synctrial2\\\\synctrial2.mp4']\n",
      "The file X:\\Nimrod\\synctrial\\test_007\\2025_08_05\\block_001\\eye_videos\\LE\\synctrial2\\synctrial2.mp4 already exists, no conversion necessary\n",
      "The file X:\\Nimrod\\synctrial\\test_007\\2025_08_05\\block_001\\eye_videos\\RE\\synctrial2\\synctrial2.mp4 already exists, no conversion necessary\n",
      "Validating videos...\n",
      "The video named synctrial2.mp4 has reported 22669 frames and has 22669 frames, it has dropped 0 frames\n",
      "The video named synctrial2.mp4 has reported 22681 frames and has 22681 frames, it has dropped 0 frames\n",
      "stamping LE video\n",
      "running parse_open_ephys_events...\n",
      "aligning to zero with 18432\n",
      "open ephys events aligned to zero & exported to csv file at X:\\Nimrod\\synctrial\\test_007\\2025_08_05\\block_001\\oe_files\\test_nimi_sync2_2025-08-05_13-07-31\\events.csv\n",
      "LED_driver was not identified as Arena_TTL\n",
      "the arena TTLs are signaling start and stop positions at [  717 22896]\n",
      "arena first frame timestamp: 425431\n",
      "arena end frame timestamp: 7924240\n",
      "R_eye_TTL was not identified as Arena_TTL\n",
      "L_eye_TTL was not identified as Arena_TTL\n",
      "created X:\\Nimrod\\synctrial\\test_007\\2025_08_05\\block_001\\oe_files\\test_nimi_sync2_2025-08-05_13-07-31\\parsed_events.csv\n"
     ]
    }
   ],
   "execution_count": 4
  },
  {
   "metadata": {
    "ExecuteTime": {
     "end_time": "2025-08-05T13:50:21.058212Z",
     "start_time": "2025-08-05T13:50:21.016215Z"
    }
   },
   "cell_type": "code",
   "source": [
    "import pandas as pd\n",
    "import numpy as np\n",
    "import matplotlib.pyplot as plt\n",
    "\n",
    "def make_events_timeseries(events_csv_path, channeldict, sample_rate):\n",
    "    \"\"\"\n",
    "    Reads an Open Ephys `events.csv` (with columns 'line', 'state', 'sample_number'),\n",
    "    extracts rising edges (state==1), and for each channel in channeldict returns\n",
    "    a DataFrame with:\n",
    "        ms_timestamp : timestamp in milliseconds (relative to first event)\n",
    "        frame_num    : 0-based event index for that channel\n",
    "    Returns:\n",
    "        dict mapping channel_name → DataFrame(ms_timestamp, frame_num)\n",
    "    \"\"\"\n",
    "    # 1. load & keep only rising edges\n",
    "    df = pd.read_csv(events_csv_path)\n",
    "    df_on = df[df['state'] == 1].copy()\n",
    "\n",
    "    ts_dict = {}\n",
    "    for line_id, chan_name in channeldict.items():\n",
    "        sel = df_on[df_on['line'] == line_id]\n",
    "        samples = sel['sample_number'].to_numpy(dtype=float)\n",
    "        # convert to ms\n",
    "        ms = samples * 1000.0 / sample_rate\n",
    "        # make relative to first event\n",
    "        ms_rel = ms - ms[0]\n",
    "        frames = np.arange(len(ms_rel), dtype=int)\n",
    "\n",
    "        ts = pd.DataFrame({\n",
    "            'ms_timestamp': ms_rel,\n",
    "            'frame_num':    frames\n",
    "        })\n",
    "        ts_dict[chan_name] = ts\n",
    "\n",
    "    return ts_dict\n",
    "\n",
    "\n",
    "def make_video_timeseries(video_ts_csv, timestamp_col=None):\n",
    "    \"\"\"\n",
    "    Reads a video timestamp CSV and returns a DataFrame with:\n",
    "        ms_timestamp : timestamp in milliseconds (relative to first frame)\n",
    "        frame_num    : 0-based frame index\n",
    "    Assumes the file has exactly one column of timestamps (in seconds).\n",
    "    If `timestamp_col` is given, uses that column name; otherwise:\n",
    "      • if 'time_sec' exists, uses it\n",
    "      • else takes the first column.\n",
    "    \"\"\"\n",
    "    df = pd.read_csv(video_ts_csv)\n",
    "    # pick the timestamps column\n",
    "    if timestamp_col and timestamp_col in df.columns:\n",
    "        t_sec = df[timestamp_col]\n",
    "    elif 'time_sec' in df.columns:\n",
    "        t_sec = df['time_sec']\n",
    "    else:\n",
    "        t_sec = df.iloc[:, 0]\n",
    "\n",
    "    ms = t_sec.to_numpy(dtype=float) * 1000.0\n",
    "    ms_rel = ms - ms[0]\n",
    "    frames = np.arange(len(ms_rel), dtype=int)\n",
    "\n",
    "    return pd.DataFrame({\n",
    "        'ms_timestamp': ms_rel,\n",
    "        'frame_num':    frames\n",
    "    })\n",
    "\n",
    "\n",
    "def compare_timeseries(ts_events, ts_video, plot=True):\n",
    "    \"\"\"\n",
    "    Given two DataFrames (each with 'ms_timestamp' and 'frame_num'),\n",
    "    computes and returns a dict with:\n",
    "      - count_events, count_video, count_diff\n",
    "      - IEI distributions: iei_events, iei_video\n",
    "      - matched timing differences (video - events)\n",
    "      - summary stats: mean_diff_ms, std_diff_ms\n",
    "\n",
    "    If plot=True, also shows:\n",
    "      1) histogram of IEIs for each series\n",
    "      2) matched-diffs vs. event index\n",
    "    \"\"\"\n",
    "    # 1. align both to zero\n",
    "    ev = ts_events['ms_timestamp'].to_numpy()\n",
    "    vid = ts_video['ms_timestamp'].to_numpy()\n",
    "\n",
    "    n_ev  = len(ev)\n",
    "    n_vid = len(vid)\n",
    "\n",
    "    iei_ev  = np.diff(ev)\n",
    "    iei_vid = np.diff(vid)\n",
    "\n",
    "    # 2. pair up to the shorter length\n",
    "    n_match = min(n_ev, n_vid)\n",
    "    diffs = vid[:n_match] - ev[:n_match]\n",
    "\n",
    "    report = {\n",
    "        'count_events': n_ev,\n",
    "        'count_video':  n_vid,\n",
    "        'count_diff':   n_vid - n_ev,\n",
    "        'iei_events':   iei_ev,\n",
    "        'iei_video':    iei_vid,\n",
    "        'matched_diffs': diffs,\n",
    "        'mean_diff_ms': np.mean(diffs),\n",
    "        'std_diff_ms':  np.std(diffs),\n",
    "    }\n",
    "\n",
    "    if plot:\n",
    "        fig, axs = plt.subplots(2, 1, figsize=(8, 6))\n",
    "\n",
    "        axs[0].hist(iei_ev,  bins=50, alpha=0.6, label='events IEI')\n",
    "        axs[0].hist(iei_vid, bins=50, alpha=0.6, label='video  IEI')\n",
    "        axs[0].set_xlabel('inter-event interval (ms)')\n",
    "        axs[0].legend()\n",
    "\n",
    "        axs[1].plot(diffs, marker='.', linestyle='none')\n",
    "        axs[1].axhline(report['mean_diff_ms'], color='r', label=f\"mean Δ={report['mean_diff_ms']:.2f} ms\")\n",
    "        axs[1].set_xlabel('event index')\n",
    "        axs[1].set_ylabel('video – events (ms)')\n",
    "        axs[1].legend()\n",
    "\n",
    "        plt.tight_layout()\n",
    "        plt.show()\n",
    "\n",
    "    return report\n"
   ],
   "id": "a8079d57c9504edc",
   "outputs": [],
   "execution_count": 5
  },
  {
   "metadata": {
    "ExecuteTime": {
     "end_time": "2025-08-05T13:51:58.990958Z",
     "start_time": "2025-08-05T13:51:58.305958Z"
    }
   },
   "cell_type": "code",
   "source": [
    "# 1) sample rate from your BlockSync instance\n",
    "sr = block.sample_rate   # e.g. 30000.0\n",
    "\n",
    "# 2) turn events.csv → per-channel timeseries\n",
    "chdict = {1:'LED_driver', 8:'L_eye_TTL', 2:'Arena_TTL', 7:'R_eye_TTL'}\n",
    "ts_dict = make_events_timeseries(str(block.block_path/'oe_files'/block.oe_dirname/'events.csv'),\n",
    "                                 chdict,\n",
    "                                 sample_rate=sr)\n",
    "\n",
    "# 3) turn your three video PC files → timeseries\n",
    "ts_L = make_video_timeseries(r'X:\\Nimrod\\synctrial\\test_007\\2025_08_05\\block_001\\eye_videos\\LE\\synctrial2\\synctrial2_timestamps.csv')\n",
    "ts_R = make_video_timeseries(r'X:\\Nimrod\\synctrial\\test_007\\2025_08_05\\block_001\\eye_videos\\RE\\synctrial2\\synctrial2_timestamps.csv')\n",
    "ts_A = make_video_timeseries(r'X:\\Nimrod\\synctrial\\test_007\\2025_08_05\\block_001\\arena_videos\\videos\\frames_timestamps\\top_20250805T130753.csv')\n",
    "\n",
    "# 4) compare any pair, e.g. L-eye vs. its OE events:\n",
    "report_L = compare_timeseries(ts_dict['L_eye_TTL'], ts_L)\n",
    "\n",
    "# 5) inspect\n",
    "print(report_L['count_events'], report_L['count_video'], report_L['count_diff'])\n",
    "print(f\"mean jitter: {report_L['mean_diff_ms']:.2f} ms ± {report_L['std_diff_ms']:.2f} ms\")\n"
   ],
   "id": "8c6a0100ef712c9",
   "outputs": [
    {
     "data": {
      "text/plain": [
       "<Figure size 576x432 with 2 Axes>"
      ],
      "image/png": "[encoded data removed]"
     },
     "metadata": {
      "needs_background": "light"
     },
     "output_type": "display_data"
    },
    {
     "name": "stdout",
     "output_type": "stream",
     "text": [
      "22669 22669 0\n",
      "mean jitter: 1.39 ms ± 4.66 ms\n"
     ]
    }
   ],
   "execution_count": 7
  },
  {
   "metadata": {
    "ExecuteTime": {
     "end_time": "2025-08-05T14:06:27.117546Z",
     "start_time": "2025-08-05T14:06:26.626549Z"
    }
   },
   "cell_type": "code",
   "source": [
    "report_R = compare_timeseries(ts_dict['R_eye_TTL'], ts_R)\n",
    "print(report_R['count_events'], report_R['count_video'], report_R['count_diff'])\n",
    "print(f\"mean jitter: {report_R['mean_diff_ms']:.2f} ms ± {report_R['std_diff_ms']:.2f} ms\")"
   ],
   "id": "a5995ea169aede2b",
   "outputs": [
    {
     "data": {
      "text/plain": [
       "<Figure size 576x432 with 2 Axes>"
      ],
      "image/png": "[encoded data removed]"
     },
     "metadata": {
      "needs_background": "light"
     },
     "output_type": "display_data"
    },
    {
     "name": "stdout",
     "output_type": "stream",
     "text": [
      "22681 22681 0\n",
      "mean jitter: -1.70 ms ± 1.76 ms\n"
     ]
    }
   ],
   "execution_count": 10
  },
  {
   "metadata": {},
   "cell_type": "code",
   "outputs": [],
   "execution_count": null,
   "source": [
    "# -- prepare your OE timeseries for one channel, e.g. 'L_eye_TTL' --\n",
    "ts_dict = make_events_timeseries(\n",
    "    str(block.block_path/'oe_files'/block.oe_dirname/'events.csv'),\n",
    "    block.channeldict,\n",
    "    sample_rate=block.sample_rate\n",
    ")\n",
    "oe_L = ts_dict['L_eye_TTL']\n",
    "\n",
    "# -- then launch the interactive GUI for left‐eye sync checking --\n",
    "interactive_sync_verification(\n",
    "    video_path='/path/to/left_eye_video.mp4',\n",
    "    oe_ts=oe_L,\n",
    "    video_ts_csv='/path/to/left_eye_timestamps.csv'\n",
    ")\n"
   ],
   "id": "57ab2799ca1abfe3"
  },
  {
   "metadata": {
    "ExecuteTime": {
     "end_time": "2025-08-05T14:18:06.661789Z",
     "start_time": "2025-08-05T14:18:06.545766Z"
    }
   },
   "cell_type": "code",
   "source": [
    "ts_dict.keys()\n",
    "from scipy.interpolate import interp1d\n",
    "import numpy as np\n",
    "import pandas as pd\n",
    "import pathlib\n",
    "from tqdm import tqdm\n",
    "\n",
    "def synchronize_block_for_non_60fps_acquisition(self, export=True, overwrite=False, target_frame_rate=60, margin_of_error=0.1):\n",
    "    \"\"\"\n",
    "    Synchronize the video frames to a target frame rate using interpolation.\n",
    "    \"\"\"\n",
    "    # Check if previously exported file exists\n",
    "    if pathlib.Path(self.analysis_path / 'blocksync_df.csv').exists() and not overwrite:\n",
    "        self.blocksync_df = pd.read_csv(pathlib.Path(self.analysis_path / 'blocksync_df.csv'), engine='python')\n",
    "        print('blocksync_df loaded from analysis folder')\n",
    "        return self.blocksync_df\n",
    "\n",
    "    print('Creating blocksync_df')\n",
    "\n",
    "    # Define start and end times\n",
    "    start_time = max([self.arena_vid_first_t, self.r_vid_first_t, self.l_vid_first_t])\n",
    "    end_time = min([self.arena_vid_last_t, self.r_vid_last_t, self.l_vid_last_t])\n",
    "\n",
    "    # Extract TTLs and calculate frame rate\n",
    "    arena_ttls = self.oe_events.query('@start_time < Arena_TTL < @end_time')['Arena_TTL'].values\n",
    "    arena_frame_rate = self.sample_rate / np.median(np.diff(arena_ttls))\n",
    "\n",
    "    if not (target_frame_rate - margin_of_error <= arena_frame_rate <= target_frame_rate + margin_of_error):\n",
    "        print(f\"Arena video frame rate is {arena_frame_rate:.2f} Hz. Adjusting to {target_frame_rate} FPS.\")\n",
    "\n",
    "        # Define target time base\n",
    "        original_time = np.cumsum(np.insert(np.diff(arena_ttls), 0, 0)) / self.sample_rate\n",
    "        target_time = np.arange(0, original_time[-1], 1 / target_frame_rate)\n",
    "\n",
    "        # Interpolate using linear method\n",
    "        interpolator = interp1d(original_time, arena_ttls, kind='linear', fill_value='extrapolate')\n",
    "        new_arena_ttl = interpolator(target_time).astype(int)\n",
    "    else:\n",
    "        print(f\"Arena video frame rate is {arena_frame_rate:.2f} Hz, within acceptable range. No adjustment needed.\")\n",
    "        new_arena_ttl = arena_ttls\n",
    "\n",
    "    # Create a synchronization DataFrame\n",
    "    arena_tf = self.oe_events.query('@start_time < Arena_TTL < @end_time')[['Arena_TTL', 'Arena_TTL_frame']]\n",
    "    r_eye_tf = self.oe_events.query('@start_time < Arena_TTL < @end_time or Arena_TTL != Arena_TTL')[['R_eye_TTL', 'R_eye_TTL_frame']].dropna()\n",
    "    l_eye_tf = self.oe_events.query('@start_time < Arena_TTL < @end_time or Arena_TTL != Arena_TTL')[['L_eye_TTL', 'L_eye_TTL_frame']].dropna()\n",
    "\n",
    "    # Build the synchronization DataFrame\n",
    "    self.blocksync_df = pd.DataFrame(columns=['Arena_frame', 'L_eye_frame', 'R_eye_frame'], index=new_arena_ttl)\n",
    "\n",
    "    for t in tqdm(new_arena_ttl, desc='Synchronizing Frames'):\n",
    "        arena_frame = arena_tf['Arena_TTL_frame'].iloc[self.get_closest_frame(t, arena_tf['Arena_TTL'])]\n",
    "        l_eye_frame = l_eye_tf['L_eye_TTL_frame'].iloc[self.get_closest_frame(t, l_eye_tf['L_eye_TTL'])]\n",
    "        r_eye_frame = r_eye_tf['R_eye_TTL_frame'].iloc[self.get_closest_frame(t, r_eye_tf['R_eye_TTL'])]\n",
    "        self.blocksync_df.loc[t] = [arena_frame, l_eye_frame, r_eye_frame]\n",
    "\n",
    "    print('Created blocksync_df')\n",
    "    if export:\n",
    "        self.blocksync_df.to_csv(self.analysis_path / 'blocksync_df.csv')\n",
    "        print(f'Exported blocksync_df to {self.analysis_path}/blocksync_df.csv')\n",
    "\n",
    "    return self.blocksync_df\n"
   ],
   "id": "2760776f8c745dbc",
   "outputs": [],
   "execution_count": 13
  },
  {
   "metadata": {
    "ExecuteTime": {
     "end_time": "2025-08-05T14:18:53.726525Z",
     "start_time": "2025-08-05T14:18:09.870485Z"
    }
   },
   "cell_type": "code",
   "source": [
    "# This step is used to quickly go over the analyzed blocks and load their internal data\n",
    "for block in block_collection:\n",
    "    block.handle_arena_files()\n",
    "    block.parse_open_ephys_events()\n",
    "    block.handle_eye_videos()\n",
    "    block.get_eye_brightness_vectors()\n",
    "#    block.synchronize_block()\n",
    "    block.synchronize_block_for_non_60fps_acquisition(export=True,\n",
    "                                                      overwrite=False,\n",
    "                                                      target_frame_rate=60,\n",
    "                                                      margin_of_error=5)\n",
    "    block.create_eye_brightness_df(threshold_value=20)"
   ],
   "id": "aceea28a6c9e87a1",
   "outputs": [
    {
     "name": "stdout",
     "output_type": "stream",
     "text": [
      "handling arena files\n",
      "Arena video Names:\n",
      "front_20250805T130753.mp4\n",
      "left_20250805T130753.mp4\n",
      "right_20250805T130753.mp4\n",
      "top_20250805T130753.mp4\n",
      "running parse_open_ephys_events...\n",
      "block 001 has a parsed events file, reading...\n",
      "handling eye video files\n",
      "converting videos...\n",
      "converting files: ['X:\\\\Nimrod\\\\synctrial\\\\test_007\\\\2025_08_05\\\\block_001\\\\eye_videos\\\\LE\\\\synctrial2\\\\synctrial2.h264', 'X:\\\\Nimrod\\\\synctrial\\\\test_007\\\\2025_08_05\\\\block_001\\\\eye_videos\\\\RE\\\\synctrial2\\\\synctrial2.h264'] \n",
      " avoiding conversion on files: ['X:\\\\Nimrod\\\\synctrial\\\\test_007\\\\2025_08_05\\\\block_001\\\\eye_videos\\\\LE\\\\synctrial2\\\\synctrial2_LE.mp4', 'X:\\\\Nimrod\\\\synctrial\\\\test_007\\\\2025_08_05\\\\block_001\\\\eye_videos\\\\RE\\\\synctrial2\\\\synctrial2.mp4']\n",
      "The file X:\\Nimrod\\synctrial\\test_007\\2025_08_05\\block_001\\eye_videos\\RE\\synctrial2\\synctrial2.mp4 already exists, no conversion necessary\n",
      "Validating videos...\n",
      "The video named synctrial2_LE.mp4 has reported 22669 frames and has 22669 frames, it has dropped 0 frames\n",
      "The video named synctrial2.mp4 has reported 22681 frames and has 22681 frames, it has dropped 0 frames\n",
      "Getting eye brightness values for block 001...\n"
     ]
    },
    {
     "name": "stderr",
     "output_type": "stream",
     "text": [
      "Processing X:\\Nimrod\\synctrial\\test_007\\2025_08_05\\block_001\\eye_videos\\LE\\synctrial2\\synctrial2_LE.mp4:   1%|          | 157/22669 [00:00<00:14, 1568.80frame/s]"
     ]
    },
    {
     "name": "stdout",
     "output_type": "stream",
     "text": [
      "Working on video X:\\Nimrod\\synctrial\\test_007\\2025_08_05\\block_001\\eye_videos\\LE\\synctrial2\\synctrial2_LE.mp4\n"
     ]
    },
    {
     "name": "stderr",
     "output_type": "stream",
     "text": [
      "Processing X:\\Nimrod\\synctrial\\test_007\\2025_08_05\\block_001\\eye_videos\\LE\\synctrial2\\synctrial2_LE.mp4: 100%|██████████| 22669/22669 [00:11<00:00, 1982.22frame/s]\n",
      "Processing X:\\Nimrod\\synctrial\\test_007\\2025_08_05\\block_001\\eye_videos\\RE\\synctrial2\\synctrial2.mp4:   1%|          | 175/22681 [00:00<00:12, 1742.39frame/s]"
     ]
    },
    {
     "name": "stdout",
     "output_type": "stream",
     "text": [
      "Finished video X:\\Nimrod\\synctrial\\test_007\\2025_08_05\\block_001\\eye_videos\\LE\\synctrial2\\synctrial2_LE.mp4, processed 22669 frames\n",
      "Working on video X:\\Nimrod\\synctrial\\test_007\\2025_08_05\\block_001\\eye_videos\\RE\\synctrial2\\synctrial2.mp4\n"
     ]
    },
    {
     "name": "stderr",
     "output_type": "stream",
     "text": [
      "Processing X:\\Nimrod\\synctrial\\test_007\\2025_08_05\\block_001\\eye_videos\\RE\\synctrial2\\synctrial2.mp4: 100%|██████████| 22681/22681 [00:10<00:00, 2063.78frame/s]\n",
      "  0%|          | 0/21489 [00:00<?, ?it/s]"
     ]
    },
    {
     "name": "stdout",
     "output_type": "stream",
     "text": [
      "Finished video X:\\Nimrod\\synctrial\\test_007\\2025_08_05\\block_001\\eye_videos\\RE\\synctrial2\\synctrial2.mp4, processed 22681 frames\n",
      "Eye brightness vectors generation complete.\n",
      "creating blocksync_df\n",
      "Arena video frame rate is 59.17 Hz, within acceptable range. No adjustment needed.\n"
     ]
    },
    {
     "name": "stderr",
     "output_type": "stream",
     "text": [
      "100%|██████████| 21489/21489 [00:03<00:00, 5883.06it/s]\n"
     ]
    },
    {
     "name": "stdout",
     "output_type": "stream",
     "text": [
      "created blocksync_df\n",
      "exported blocksync_df to X:\\Nimrod\\synctrial\\test_007\\2025_08_05\\block_001\\analysis/ blocksync_df.csv\n",
      "creating X:\\Nimrod\\synctrial\\test_007\\2025_08_05\\block_001\\analysis/eye_brightness_df.csv\n"
     ]
    }
   ],
   "execution_count": 14
  },
  {
   "metadata": {
    "ExecuteTime": {
     "end_time": "2025-08-05T14:24:56.685386Z",
     "start_time": "2025-08-05T14:24:56.669787Z"
    }
   },
   "cell_type": "code",
   "source": "block.get_eyes_diff_list(2)",
   "id": "9ce4b3662045c41c",
   "outputs": [
    {
     "name": "stdout",
     "output_type": "stream",
     "text": [
      "index error on position 16 out of 17\n",
      "index error on position 19 out of 20\n",
      "The suspected lag between eye cameras is 18.0 with the direction ['right', 'late']\n"
     ]
    }
   ],
   "execution_count": 17
  },
  {
   "metadata": {
    "ExecuteTime": {
     "end_time": "2025-08-05T14:25:05.599676Z",
     "start_time": "2025-08-05T14:25:05.581522Z"
    }
   },
   "cell_type": "code",
   "source": "block.fix_eye_synchronization()",
   "id": "208ff8298282fef4",
   "outputs": [
    {
     "name": "stdout",
     "output_type": "stream",
     "text": [
      "created manual_sync_df attribute for the block\n"
     ]
    }
   ],
   "execution_count": 18
  },
  {
   "metadata": {
    "ExecuteTime": {
     "end_time": "2025-08-05T14:25:16.874896Z",
     "start_time": "2025-08-05T14:25:16.852749Z"
    }
   },
   "cell_type": "code",
   "source": [
    "def full_sync_verification(self):\n",
    "    from bokeh.plotting import figure, show, curdoc\n",
    "    from bokeh.models import Slider, ColumnDataSource, CustomJS\n",
    "    from bokeh.layouts import column\n",
    "    import numpy as np\n",
    "    data_dict = {\n",
    "    'L_values': [None if np.isnan(x) or np.isinf(x) else x for x in\n",
    "    self.manual_sync_df['L_values']],\n",
    "    'R_values': [None if np.isnan(x) or np.isinf(x) else x for x in\n",
    "    self.manual_sync_df['R_values']]\n",
    "    }\n",
    "    source = ColumnDataSource(data=dict(\n",
    "    x_axis=self.manual_sync_df.index / self.sample_rate,\n",
    "    left_y=[None if np.isnan(x) or np.isinf(x) else x for x in\n",
    "    self.manual_sync_df['L_values'].shift(0)],\n",
    "    right_y=[None if np.isnan(x) or np.isinf(x) else x for x in\n",
    "    self.manual_sync_df['R_values'].shift(0)]\n",
    "    ))\n",
    "    bokeh_fig = figure(\n",
    "    title=f'Full Synchronization Verification',\n",
    "    x_axis_label='Seconds',\n",
    "    y_axis_label='Brightness Z_Score',\n",
    "    plot_width=1500,\n",
    "    plot_height=700\n",
    "    )\n",
    "    left_line = bokeh_fig.line('x_axis', 'left_y', source=source,\n",
    "    legend_label='Left_eye_values', line_width=1,\n",
    "    line_color='blue')\n",
    "    right_line = bokeh_fig.line('x_axis', 'right_y', source=source,\n",
    "    legend_label='Right_eye_values', line_width=1,\n",
    "    line_color='red')\n",
    "    slider_left = Slider(start=-50, end=50, value=0, step=1, title=\"Left Eye Shift\")\n",
    "    slider_right = Slider(start=-50, end=50, value=0, step=1, title=\"Right Eye Shift\")\n",
    "    callback = CustomJS(args=dict(source=source, slider_left=slider_left,\n",
    "    slider_right=slider_right, data_dict=data_dict),\n",
    "    code=\"\"\"\n",
    "    const plot_data = source.data;\n",
    "    const left_shift = slider_left.value;\n",
    "    const right_shift = slider_right.value;\n",
    "    const left_values = data_dict['L_values'];\n",
    "    const right_values = data_dict['R_values'];\n",
    "    const length = plot_data['x_axis'].length;\n",
    "    for (let i = 0; i < length; i++) {\n",
    "    plot_data['left_y'][i] = (i + left_shift >= 0 && i +\n",
    "    left_shift < length) ? left_values[i + left_shift] : null;\n",
    "    plot_data['right_y'][i] = (i + right_shift >= 0 && i +\n",
    "    right_shift < length) ? right_values[i + right_shift] : null;\n",
    "    }\n",
    "    console.log(\"Left shift: \", left_shift, \"Right shift: \",\n",
    "    right_shift); // Debug output\n",
    "    source.change.emit();\n",
    "    \"\"\")\n",
    "    slider_left.js_on_change('value', callback)\n",
    "    slider_right.js_on_change('value', callback)\n",
    "    layout = column(bokeh_fig, slider_left, slider_right)\n",
    "    curdoc().add_root(layout)\n",
    "    show(layout)"
   ],
   "id": "2f277221e0304eb3",
   "outputs": [],
   "execution_count": 19
  },
  {
   "metadata": {
    "ExecuteTime": {
     "end_time": "2025-08-05T14:31:32.894596Z",
     "start_time": "2025-08-05T14:31:32.170457Z"
    }
   },
   "cell_type": "code",
   "source": "full_sync_verification(block)",
   "id": "8c914cf9b3535b45",
   "outputs": [],
   "execution_count": 26
  },
  {
   "metadata": {
    "ExecuteTime": {
     "end_time": "2025-08-05T14:30:50.268349Z",
     "start_time": "2025-08-05T14:30:50.250199Z"
    }
   },
   "cell_type": "code",
   "source": "block.manual_sync_df",
   "id": "e5998ea5e7916199",
   "outputs": [
    {
     "data": {
      "text/plain": [
       "          Arena_frame L_eye_frame R_eye_frame  L_values  R_values\n",
       "Arena_TTL                                                        \n",
       "517409.0          272           0          23  5.531620 -0.844745\n",
       "517747.0          273           1          24  5.641008 -0.895167\n",
       "518085.0          274           2          25  6.238871 -0.898901\n",
       "518424.0          275           3          26  6.224128 -0.863281\n",
       "518762.0          276           4          27  0.459562 -0.852422\n",
       "...               ...         ...         ...       ...       ...\n",
       "7781565.0       21756       22662         NaN  0.305233       NaN\n",
       "7781903.0       21757       22663         NaN  0.289121       NaN\n",
       "7782241.0       21758       22664         NaN  0.280812       NaN\n",
       "7782579.0       21759       22665         NaN  0.278937       NaN\n",
       "7782918.0       21760       22666         NaN  0.240481       NaN\n",
       "\n",
       "[21489 rows x 5 columns]"
      ],
      "text/html": [
       "<div>\n",
       "<style scoped>\n",
       "    .dataframe tbody tr th:only-of-type {\n",
       "        vertical-align: middle;\n",
       "    }\n",
       "\n",
       "    .dataframe tbody tr th {\n",
       "        vertical-align: top;\n",
       "    }\n",
       "\n",
       "    .dataframe thead th {\n",
       "        text-align: right;\n",
       "    }\n",
       "</style>\n",
       "<table border=\"1\" class=\"dataframe\">\n",
       "  <thead>\n",
       "    <tr style=\"text-align: right;\">\n",
       "      <th></th>\n",
       "      <th>Arena_frame</th>\n",
       "      <th>L_eye_frame</th>\n",
       "      <th>R_eye_frame</th>\n",
       "      <th>L_values</th>\n",
       "      <th>R_values</th>\n",
       "    </tr>\n",
       "    <tr>\n",
       "      <th>Arena_TTL</th>\n",
       "      <th></th>\n",
       "      <th></th>\n",
       "      <th></th>\n",
       "      <th></th>\n",
       "      <th></th>\n",
       "    </tr>\n",
       "  </thead>\n",
       "  <tbody>\n",
       "    <tr>\n",
       "      <th>517409.0</th>\n",
       "      <td>272</td>\n",
       "      <td>0</td>\n",
       "      <td>23</td>\n",
       "      <td>5.531620</td>\n",
       "      <td>-0.844745</td>\n",
       "    </tr>\n",
       "    <tr>\n",
       "      <th>517747.0</th>\n",
       "      <td>273</td>\n",
       "      <td>1</td>\n",
       "      <td>24</td>\n",
       "      <td>5.641008</td>\n",
       "      <td>-0.895167</td>\n",
       "    </tr>\n",
       "    <tr>\n",
       "      <th>518085.0</th>\n",
       "      <td>274</td>\n",
       "      <td>2</td>\n",
       "      <td>25</td>\n",
       "      <td>6.238871</td>\n",
       "      <td>-0.898901</td>\n",
       "    </tr>\n",
       "    <tr>\n",
       "      <th>518424.0</th>\n",
       "      <td>275</td>\n",
       "      <td>3</td>\n",
       "      <td>26</td>\n",
       "      <td>6.224128</td>\n",
       "      <td>-0.863281</td>\n",
       "    </tr>\n",
       "    <tr>\n",
       "      <th>518762.0</th>\n",
       "      <td>276</td>\n",
       "      <td>4</td>\n",
       "      <td>27</td>\n",
       "      <td>0.459562</td>\n",
       "      <td>-0.852422</td>\n",
       "    </tr>\n",
       "    <tr>\n",
       "      <th>...</th>\n",
       "      <td>...</td>\n",
       "      <td>...</td>\n",
       "      <td>...</td>\n",
       "      <td>...</td>\n",
       "      <td>...</td>\n",
       "    </tr>\n",
       "    <tr>\n",
       "      <th>7781565.0</th>\n",
       "      <td>21756</td>\n",
       "      <td>22662</td>\n",
       "      <td>NaN</td>\n",
       "      <td>0.305233</td>\n",
       "      <td>NaN</td>\n",
       "    </tr>\n",
       "    <tr>\n",
       "      <th>7781903.0</th>\n",
       "      <td>21757</td>\n",
       "      <td>22663</td>\n",
       "      <td>NaN</td>\n",
       "      <td>0.289121</td>\n",
       "      <td>NaN</td>\n",
       "    </tr>\n",
       "    <tr>\n",
       "      <th>7782241.0</th>\n",
       "      <td>21758</td>\n",
       "      <td>22664</td>\n",
       "      <td>NaN</td>\n",
       "      <td>0.280812</td>\n",
       "      <td>NaN</td>\n",
       "    </tr>\n",
       "    <tr>\n",
       "      <th>7782579.0</th>\n",
       "      <td>21759</td>\n",
       "      <td>22665</td>\n",
       "      <td>NaN</td>\n",
       "      <td>0.278937</td>\n",
       "      <td>NaN</td>\n",
       "    </tr>\n",
       "    <tr>\n",
       "      <th>7782918.0</th>\n",
       "      <td>21760</td>\n",
       "      <td>22666</td>\n",
       "      <td>NaN</td>\n",
       "      <td>0.240481</td>\n",
       "      <td>NaN</td>\n",
       "    </tr>\n",
       "  </tbody>\n",
       "</table>\n",
       "<p>21489 rows × 5 columns</p>\n",
       "</div>"
      ]
     },
     "execution_count": 23,
     "metadata": {},
     "output_type": "execute_result"
    }
   ],
   "execution_count": 23
  },
  {
   "metadata": {
    "ExecuteTime": {
     "end_time": "2025-08-06T08:40:48.053194Z",
     "start_time": "2025-08-06T08:40:48.008168Z"
    }
   },
   "cell_type": "code",
   "source": "# alternative sync approach:",
   "id": "b50836fa2affc4e",
   "outputs": [],
   "execution_count": 27
  }
 ],
 "metadata": {
  "kernelspec": {
   "display_name": "Python 3",
   "language": "python",
   "name": "python3"
  },
  "language_info": {
   "codemirror_mode": {
    "name": "ipython",
    "version": 2
   },
   "file_extension": ".py",
   "mimetype": "text/x-python",
   "name": "python",
   "nbconvert_exporter": "python",
   "pygments_lexer": "ipython2",
   "version": "2.7.6"
  }
 },
 "nbformat": 4,
 "nbformat_minor": 5
}
