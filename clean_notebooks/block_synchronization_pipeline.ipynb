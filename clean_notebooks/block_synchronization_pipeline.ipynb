{
 "cells": [
  {
   "cell_type": "code",
   "outputs": [],
   "source": [
    "import numpy as np\n",
    "import cv2\n",
    "from itertools import cycle\n",
    "import pickle\n",
    "import pathlib\n",
    "import math\n",
    "import tqdm\n",
    "import scipy.io\n",
    "from matplotlib import pyplot as plt\n",
    "import scipy.io\n",
    "import h5py\n",
    "import re\n",
    "from lxml import etree as ET\n",
    "import scipy.signal as sig\n",
    "import pandas as pd\n",
    "from scipy.stats import kde\n",
    "from BlockSync_current import BlockSync\n",
    "import UtilityFunctions_newOE as uf\n",
    "from scipy import signal\n",
    "import bokeh\n",
    "import seaborn as sns"
   ],
   "metadata": {
    "collapsed": false,
    "ExecuteTime": {
     "end_time": "2024-12-28T19:50:25.087878700Z",
     "start_time": "2024-12-28T19:50:23.361916800Z"
    }
   },
   "id": "1549b3863d392dbe",
   "execution_count": 1
  },
  {
   "cell_type": "code",
   "outputs": [],
   "source": [
    "def create_distance_plot(distances, top_dist_to_show=500):\n",
    "    # Create cumulative distribution plot\n",
    "    sns.set(style=\"whitegrid\")\n",
    "    fig, axs = plt.subplots(2, figsize=(6, 6), dpi=150)\n",
    "    \n",
    "    axs[0].set_title('Cumulative Euclidean Distances for Camera Jitter', fontsize=15)\n",
    "    axs[0].set_ylabel('Cumulative \\n % of Frames')\n",
    "    axs[0].set_xlim(0, top_dist_to_show)\n",
    "    axs[0].grid(False)\n",
    "    \n",
    "    # Create histogram and cumulative distribution\n",
    "    sns.kdeplot(distances, cumulative=True, label='Left Eye', ax=axs[0], linewidth=4, c='black')\n",
    "    \n",
    "    axs[1].hist(distances, bins=np.linspace(0, top_dist_to_show, 20), log=False, color='black')\n",
    "\n",
    "    # Set title and labels\n",
    "    title = 'Image displacement histogram'\n",
    "    axs[1].set_title(title, fontsize=15)\n",
    "    axs[1].set_xlabel('Euclidean Displacement [$\\mu$m]', fontsize=15)\n",
    "    axs[1].set_xscale('linear')\n",
    "    axs[1].set_yscale('linear')\n",
    "    axs[1].set_ylabel('Frame count', fontsize=15)\n",
    "\n",
    "    # Adjust tick label sizes\n",
    "    axs[1].tick_params(axis='x', which='major', labelsize=15)\n",
    "\n",
    "    # Set white background and black text\n",
    "    axs[1].set_facecolor('white')\n",
    "    axs[1].title.set_color('black')\n",
    "    axs[1].xaxis.label.set_color('black')\n",
    "    axs[1].yaxis.label.set_color('black')\n",
    "    axs[1].tick_params(colors='black')\n",
    "    axs[1].grid(False)\n",
    "\n",
    "    plt.tight_layout()\n",
    "\n",
    "    return fig, axs\n",
    "def add_intermediate_elements(input_vector, gap_to_bridge):\n",
    "    # Step 1: Calculate differences between each element\n",
    "    differences = np.diff(input_vector)\n",
    "\n",
    "    # Step 2: Add intervening elements based on the diff_threshold\n",
    "    output_vector = [input_vector[0]]\n",
    "    for i, diff in enumerate(differences):\n",
    "        if diff < gap_to_bridge:\n",
    "            # Add intervening elements\n",
    "            output_vector.extend(range(input_vector[i] + 1, input_vector[i + 1]))\n",
    "\n",
    "        # Add the next element from the original vector\n",
    "        output_vector.append(input_vector[i + 1])\n",
    "\n",
    "    return np.sort(np.unique(output_vector))\n",
    "\n",
    "def find_jittery_frames(block, eye, max_distance, diff_threshold, gap_to_bridge=6):\n",
    "    \n",
    "    #input checks\n",
    "    if eye not in ['left', 'right']:\n",
    "        print(f'eye can only be left/right, your input: {eye}')\n",
    "        return None\n",
    "    # eye setup\n",
    "    if eye == 'left':\n",
    "        jitter_dict = block.le_jitter_dict\n",
    "        eye_frame_col = 'L_eye_frame'\n",
    "    elif eye == 'right':\n",
    "        jitter_dict = block.re_jitter_dict\n",
    "        eye_frame_col = 'R_eye_frame'\n",
    "    \n",
    "    df_dict = {'left':block.le_df,\n",
    "               'right':block.re_df}\n",
    "    \n",
    "    df = pd.DataFrame.from_dict(jitter_dict)\n",
    "    indices_of_highest_drift = df.query(\"top_correlation_dist > @max_distance\").index.values\n",
    "    diff_vec = np.diff(df['top_correlation_dist'].values)\n",
    "    diff_peaks_indices = np.where(diff_vec > diff_threshold)[0]\n",
    "    video_indices = np.concatenate((diff_peaks_indices, indices_of_highest_drift))\n",
    "    print(f'the diff based jitter frame exclusion gives: {np.shape(diff_peaks_indices)}')\n",
    "    print(f'the threshold based jitter frame exclusion gives: {np.shape(indices_of_highest_drift)}')\n",
    "    \n",
    "    # creates a bridged version of the overly jittery frames (to contend with single frame outliers)\n",
    "    video_indices = add_intermediate_elements(video_indices, gap_to_bridge=gap_to_bridge)\n",
    "    # This is the input you should give to the BlockSync.remove_eye_datapoints function (which already maps it to the df) \n",
    "    \n",
    "    \n",
    "    # translates the video indices to le/re dataframe rows\n",
    "    df_indices_to_remove = df_dict[eye].loc[df_dict[eye][eye_frame_col].isin(video_indices)].index.values\n",
    "    \n",
    "    return df_indices_to_remove, video_indices\n",
    "\n",
    "def bokeh_plotter(data_list, label_list,\n",
    "                  plot_name='default',\n",
    "                  x_axis='X', y_axis='Y',\n",
    "                  peaks=None, peaks_list=False, export_path=False):\n",
    "    \"\"\"Generates an interactive Bokeh plot for the given data vector.\n",
    "    Args:\n",
    "        data_list (list or array): The data to be plotted.\n",
    "        label_list (list of str): The labels of the data vectors\n",
    "        plot_name (str, optional): The title of the plot. Defaults to 'default'.\n",
    "        x_axis (str, optional): The label for the x-axis. Defaults to 'X'.\n",
    "        y_axis (str, optional): The label for the y-axis. Defaults to 'Y'.\n",
    "        peaks (list or array, optional): Indices of peaks to highlight on the plot. Defaults to None.\n",
    "        export_path (False or str): when set to str, will output the resulting html fig\n",
    "    \"\"\"\n",
    "    color_cycle = cycle(bokeh.palettes.Category10_10)\n",
    "    fig = bokeh.plotting.figure(title=f'bokeh explorer: {plot_name}',\n",
    "                                x_axis_label=x_axis,\n",
    "                                y_axis_label=y_axis,\n",
    "                                plot_width=1500,\n",
    "                                plot_height=700)\n",
    "\n",
    "    for i, vec in enumerate(range(len(data_list))):\n",
    "        color = next(color_cycle)\n",
    "        data_vector = data_list[vec]\n",
    "        if label_list is None:\n",
    "            fig.line(range(len(data_vector)), data_vector, line_color=color, legend_label=f\"Line {len(fig.renderers)}\")\n",
    "        elif len(label_list) == len(data_list):\n",
    "            fig.line(range(len(data_vector)), data_vector, line_color=color, legend_label=f\"{label_list[i]}\")\n",
    "        if peaks is not None and peaks_list is True:\n",
    "            fig.circle(peaks[i], data_vector[peaks[i]], size=10, color=color)\n",
    "\n",
    "    if peaks is not None and peaks_list is False:\n",
    "        fig.circle(peaks, data_vector[peaks], size=10, color='red')\n",
    "\n",
    "    if export_path is not False:\n",
    "        print(f'exporting to {export_path}')\n",
    "        bokeh.io.output.output_file(filename=str(export_path / f'{plot_name}.html'), title=f'{plot_name}')\n",
    "    bokeh.plotting.show(fig)\n",
    "    \n",
    "def play_video_with_ellipses_rotation(block, eye, path_to_video=False, xflip=False, transformation_matrix=None, phi_in_radians=False):\n",
    "    if eye == 'left':\n",
    "        video_path = block.le_videos[0]\n",
    "        ellipse_dataframe = block.left_eye_data\n",
    "    elif eye == 'right':\n",
    "        video_path = block.re_videos[0]\n",
    "        ellipse_dataframe = block.right_eye_data\n",
    "    else:\n",
    "        raise ValueError(f\"eye can only be 'left' or 'right'\")\n",
    "    \n",
    "    if video_path is not False:\n",
    "        video_path = path_to_video\n",
    "\n",
    "    # Open the video file\n",
    "    cap = cv2.VideoCapture(video_path)\n",
    "\n",
    "    if not cap.isOpened():\n",
    "        print(\"Error opening video file.\")\n",
    "        return\n",
    "\n",
    "    # Loop through each frame\n",
    "    while True:\n",
    "        # Read a frame from the video\n",
    "        ret, frame = cap.read()\n",
    "    \n",
    "        if not ret:\n",
    "            # Break the loop if the video is finished\n",
    "            break\n",
    "        \n",
    "        # Optionally flip the frame along the x-axis\n",
    "        if xflip:\n",
    "            frame = cv2.flip(frame, 1)\n",
    "\n",
    "        # Apply transformation matrix if provided\n",
    "        if transformation_matrix is not None:\n",
    "            frame = cv2.warpAffine(frame, transformation_matrix, (frame.shape[1], frame.shape[0]))\n",
    "\n",
    "        # Get the corresponding ellipse data for the current frame\n",
    "        current_frame_num = int(cap.get(cv2.CAP_PROP_POS_FRAMES)) - 1\n",
    "        try:\n",
    "            current_frame_data = ellipse_dataframe.iloc[ellipse_dataframe.query('eye_frame == @current_frame_num').index[0]]\n",
    "        except IndexError:\n",
    "            continue\n",
    "\n",
    "        # Extract ellipse parameters\n",
    "        if transformation_matrix is not None:\n",
    "            try:\n",
    "                center_x = int(current_frame_data['center_x'])\n",
    "                center_y = int(current_frame_data['center_y'])\n",
    "                width = int(current_frame_data['width'])\n",
    "                height = int(current_frame_data['height'])\n",
    "                if phi_in_radians:\n",
    "                    phi = np.deg2rad(float(current_frame_data['phi']))\n",
    "                else:\n",
    "                    phi = float(current_frame_data['phi'])\n",
    "                \n",
    "                # Draw the ellipse on the frame\n",
    "                cv2.ellipse(frame, (center_x, center_y), (width, height), phi, 0, 360, (0, 255, 0), 2)\n",
    "                \n",
    "                # Add text to the frame\n",
    "                text = f'ellipse angle: {phi}'\n",
    "                cv2.putText(frame, text, (10, 30), cv2.FONT_HERSHEY_SIMPLEX, 1, (0, 255, 0), 2, cv2.LINE_AA)\n",
    "        \n",
    "                \n",
    "                # Display the frame\n",
    "                cv2.imshow('Video with Ellipses', frame)\n",
    "            \n",
    "                # Check for the 'q' key to quit\n",
    "                if cv2.waitKey(25) & 0xFF == ord('q'):\n",
    "                    break\n",
    "            except ValueError:\n",
    "                continue\n",
    "        else:\n",
    "            try:\n",
    "                center_x = int(current_frame_data['center_x'])\n",
    "                center_y = int(current_frame_data['center_y'])\n",
    "                width = int(current_frame_data['width'])\n",
    "                height = int(current_frame_data['height'])\n",
    "                if phi_in_radians:\n",
    "                    phi = np.deg2rad(float(current_frame_data['phi']))\n",
    "                else:\n",
    "                    phi = float(current_frame_data['phi'])\n",
    "        \n",
    "                # Draw the ellipse on the frame\n",
    "                cv2.ellipse(frame, (center_x, center_y), (width, height), phi, 0, 360, (0, 255, 0), 2)\n",
    "                \n",
    "                # Add text to the frame\n",
    "                text = f'ellipse angle: {phi}'\n",
    "                cv2.putText(frame, text, (10, 30), cv2.FONT_HERSHEY_SIMPLEX, 1, (0, 255, 0), 2, cv2.LINE_AA)\n",
    "                \n",
    "                # Display the frame\n",
    "                cv2.imshow('Video with Ellipses', frame)\n",
    "            \n",
    "                # Check for the 'q' key to quit\n",
    "                if cv2.waitKey(25) & 0xFF == ord('q'):\n",
    "                    break\n",
    "            except ValueError:\n",
    "                continue\n",
    "\n",
    "    # Release video capture object and close the window\n",
    "    cap.release()\n",
    "    cv2.destroyAllWindows()\n",
    "    \n",
    "def play_video_with_ellipses_rotation_plus_major_axis(block, eye, path_to_video=False, xflip=False, transformation_matrix=None):\n",
    "    if eye == 'left':\n",
    "        video_path = block.le_videos[0]\n",
    "        ellipse_dataframe = block.left_eye_data\n",
    "    elif eye == 'right':\n",
    "        video_path = block.re_videos[0]\n",
    "        ellipse_dataframe = block.right_eye_data\n",
    "    else:\n",
    "        raise ValueError(f\"eye can only be 'left' or 'right'\")\n",
    "    \n",
    "    if video_path is not False:\n",
    "        video_path = path_to_video\n",
    "\n",
    "    # Open the video file\n",
    "    cap = cv2.VideoCapture(video_path)\n",
    "\n",
    "    if not cap.isOpened():\n",
    "        print(\"Error opening video file.\")\n",
    "        return\n",
    "\n",
    "    # Loop through each frame\n",
    "    while True:\n",
    "        # Read a frame from the video\n",
    "        ret, frame = cap.read()\n",
    "    \n",
    "        if not ret:\n",
    "            # Break the loop if the video is finished\n",
    "            break\n",
    "        \n",
    "        # Optionally flip the frame along the x-axis\n",
    "        if xflip:\n",
    "            frame = cv2.flip(frame, 1)\n",
    "\n",
    "        # Apply transformation matrix if provided\n",
    "        if transformation_matrix is not None:\n",
    "            frame = cv2.warpAffine(frame, transformation_matrix, (frame.shape[1], frame.shape[0]))\n",
    "\n",
    "        # Get the corresponding ellipse data for the current frame\n",
    "        current_frame_num = int(cap.get(cv2.CAP_PROP_POS_FRAMES)) - 1\n",
    "        try:\n",
    "            current_frame_data = ellipse_dataframe.iloc[ellipse_dataframe.query('eye_frame == @current_frame_num').index[0]]\n",
    "        except IndexError:\n",
    "            continue\n",
    "\n",
    "        # Extract ellipse parameters\n",
    "        try:\n",
    "            center_x = int(current_frame_data['center_x'])\n",
    "            center_y = int(current_frame_data['center_y'])\n",
    "            width = int(current_frame_data['major_ax'])\n",
    "            height = int(current_frame_data['minor_ax'])\n",
    "            phi = np.deg2rad(float(current_frame_data['phi']))  # Convert angle to radians\n",
    "            \n",
    "            # Draw the ellipse on the frame\n",
    "            cv2.ellipse(frame, (center_x, center_y), (width, height), phi, 0, 360, (0, 255, 0), 2)\n",
    "            \n",
    "            # Calculate endpoints of major axis\n",
    "            axis_length = max(width, height) / 2\n",
    "            sin_phi = np.sin(phi)\n",
    "            cos_phi = np.cos(phi)\n",
    "            x1 = int(center_x + axis_length * cos_phi)\n",
    "            y1 = int(center_y + axis_length * sin_phi)\n",
    "            x2 = int(center_x - axis_length * cos_phi)\n",
    "            y2 = int(center_y - axis_length * sin_phi)\n",
    "            \n",
    "            # Draw major axis\n",
    "            cv2.line(frame, (x1, y1), (x2, y2), (0, 0, 255), 2)\n",
    "            \n",
    "            # Add text to the frame\n",
    "            text = f'ellipse angle: {np.rad2deg(phi)}'\n",
    "            cv2.putText(frame, text, (10, 30), cv2.FONT_HERSHEY_SIMPLEX, 1, (0, 255, 0), 2, cv2.LINE_AA)\n",
    "            \n",
    "            # Display the frame\n",
    "            cv2.imshow('Video with Ellipses', frame)\n",
    "        \n",
    "            # Check for the 'q' key to quit\n",
    "            if cv2.waitKey(25) & 0xFF == ord('q'):\n",
    "                break\n",
    "        except ValueError:\n",
    "            continue\n",
    "\n",
    "    # Release video capture object and close the window\n",
    "    cap.release()\n",
    "    cv2.destroyAllWindows()\n",
    "    \n",
    "def get_frame_count(video_path):\n",
    "        \"\"\"\n",
    "        Get the number of frames for the video in the specified path using OpenCV.\n",
    "    \n",
    "        Parameters:\n",
    "            video_path (str): Path to the video file.\n",
    "    \n",
    "        Returns:\n",
    "            int: Number of frames in the video.\n",
    "        \"\"\"\n",
    "        \n",
    "        # Open the video file\n",
    "        cap = cv2.VideoCapture(video_path)\n",
    "    \n",
    "        # Check if the video file is opened successfully\n",
    "        if not cap.isOpened():\n",
    "            print(\"Error: Could not open the video file.\")\n",
    "            return -1\n",
    "    \n",
    "        # Get the total number of frames in the video\n",
    "        frame_count = int(cap.get(cv2.CAP_PROP_FRAME_COUNT))\n",
    "    \n",
    "        # Release the VideoCapture object\n",
    "        cap.release()\n",
    "    \n",
    "        return frame_count\n"
   ],
   "metadata": {
    "collapsed": false,
    "ExecuteTime": {
     "end_time": "2024-12-28T19:50:25.108236600Z",
     "start_time": "2024-12-28T19:50:25.085780100Z"
    }
   },
   "id": "6d3dfdb223dc6e82",
   "execution_count": 2
  },
  {
   "cell_type": "markdown",
   "source": [
    "# Block Instantiation"
   ],
   "metadata": {
    "collapsed": false
   },
   "id": "aa0ef925618c2966"
  },
  {
   "cell_type": "code",
   "outputs": [
    {
     "name": "stdout",
     "output_type": "stream",
     "text": [
      "instantiated block number 026 at Path: Z:\\Nimrod\\experiments\\PV_62\\2023_04_27\\block_026, new OE version\n",
      "Found the sample rate for block 026 in the xml file, it is 20000 Hz\n",
      "created the .oe_rec attribute as an open ephys recording obj with get_data functionality\n",
      "retrieving zertoh sample number for block 026\n",
      "got it!\n"
     ]
    }
   ],
   "source": [
    "\n",
    "# define a single block to synchronize and finally export l/r_eye_data csv files:\n",
    "# this step creates block_collection - a list of BlockSync objects of interest\n",
    "block_numbers = [26]\n",
    "bad_blocks = [] # \n",
    "experiment_path = pathlib.Path(r\"Z:\\Nimrod\\experiments\")\n",
    "animal = 'PV_62'\n",
    "\n",
    "block_collection = uf.block_generator(block_numbers=block_numbers,\n",
    "                                      experiment_path=experiment_path,\n",
    "                                      animal=animal,\n",
    "                                      bad_blocks=bad_blocks,regev=True)\n",
    "# create a block_dict object for ease of access:\n",
    "block_dict = {}\n",
    "for b in block_collection:\n",
    "    block_dict[str(b.block_num)] = b\n",
    "block = block_collection[0]"
   ],
   "metadata": {
    "collapsed": false,
    "ExecuteTime": {
     "end_time": "2024-12-31T13:34:42.465983500Z",
     "start_time": "2024-12-31T13:34:42.074924300Z"
    }
   },
   "id": "1d1afca402f23506",
   "execution_count": 361
  },
  {
   "cell_type": "code",
   "outputs": [],
   "source": [
    "from scipy.interpolate import interp1d\n",
    "import numpy as np\n",
    "import pandas as pd\n",
    "import pathlib\n",
    "from tqdm import tqdm\n",
    "\n",
    "def synchronize_block_for_non_60fps_acquisition(self, export=True, overwrite=False, target_frame_rate=60, margin_of_error=0.1):\n",
    "    \"\"\"\n",
    "    Synchronize the video frames to a target frame rate using interpolation.\n",
    "    \"\"\"\n",
    "    # Check if previously exported file exists\n",
    "    if pathlib.Path(self.analysis_path / 'blocksync_df.csv').exists() and not overwrite:\n",
    "        self.blocksync_df = pd.read_csv(pathlib.Path(self.analysis_path / 'blocksync_df.csv'), engine='python')\n",
    "        print('blocksync_df loaded from analysis folder')\n",
    "        return self.blocksync_df\n",
    "    \n",
    "    print('Creating blocksync_df')\n",
    "\n",
    "    # Define start and end times\n",
    "    start_time = max([self.arena_vid_first_t, self.r_vid_first_t, self.l_vid_first_t])\n",
    "    end_time = min([self.arena_vid_last_t, self.r_vid_last_t, self.l_vid_last_t])\n",
    "\n",
    "    # Extract TTLs and calculate frame rate\n",
    "    arena_ttls = self.oe_events.query('@start_time < Arena_TTL < @end_time')['Arena_TTL'].values\n",
    "    arena_frame_rate = self.sample_rate / np.median(np.diff(arena_ttls))\n",
    "\n",
    "    if not (target_frame_rate - margin_of_error <= arena_frame_rate <= target_frame_rate + margin_of_error):\n",
    "        print(f\"Arena video frame rate is {arena_frame_rate:.2f} Hz. Adjusting to {target_frame_rate} FPS.\")\n",
    "\n",
    "        # Define target time base\n",
    "        original_time = np.cumsum(np.insert(np.diff(arena_ttls), 0, 0)) / self.sample_rate\n",
    "        target_time = np.arange(0, original_time[-1], 1 / target_frame_rate)\n",
    "\n",
    "        # Interpolate using linear method\n",
    "        interpolator = interp1d(original_time, arena_ttls, kind='linear', fill_value='extrapolate')\n",
    "        new_arena_ttl = interpolator(target_time).astype(int)\n",
    "    else:\n",
    "        print(f\"Arena video frame rate is {arena_frame_rate:.2f} Hz, within acceptable range. No adjustment needed.\")\n",
    "        new_arena_ttl = arena_ttls\n",
    "\n",
    "    # Create a synchronization DataFrame\n",
    "    arena_tf = self.oe_events.query('@start_time < Arena_TTL < @end_time')[['Arena_TTL', 'Arena_TTL_frame']]\n",
    "    r_eye_tf = self.oe_events.query('@start_time < Arena_TTL < @end_time or Arena_TTL != Arena_TTL')[['R_eye_TTL', 'R_eye_TTL_frame']].dropna()\n",
    "    l_eye_tf = self.oe_events.query('@start_time < Arena_TTL < @end_time or Arena_TTL != Arena_TTL')[['L_eye_TTL', 'L_eye_TTL_frame']].dropna()\n",
    "\n",
    "    # Build the synchronization DataFrame\n",
    "    self.blocksync_df = pd.DataFrame(columns=['Arena_frame', 'L_eye_frame', 'R_eye_frame'], index=new_arena_ttl)\n",
    "\n",
    "    for t in tqdm(new_arena_ttl, desc='Synchronizing Frames'):\n",
    "        arena_frame = arena_tf['Arena_TTL_frame'].iloc[self.get_closest_frame(t, arena_tf['Arena_TTL'])]\n",
    "        l_eye_frame = l_eye_tf['L_eye_TTL_frame'].iloc[self.get_closest_frame(t, l_eye_tf['L_eye_TTL'])]\n",
    "        r_eye_frame = r_eye_tf['R_eye_TTL_frame'].iloc[self.get_closest_frame(t, r_eye_tf['R_eye_TTL'])]\n",
    "        self.blocksync_df.loc[t] = [arena_frame, l_eye_frame, r_eye_frame]\n",
    "\n",
    "    print('Created blocksync_df')\n",
    "    if export:\n",
    "        self.blocksync_df.to_csv(self.analysis_path / 'blocksync_df.csv')\n",
    "        print(f'Exported blocksync_df to {self.analysis_path}/blocksync_df.csv')\n",
    "\n",
    "    return self.blocksync_df\n"
   ],
   "metadata": {
    "collapsed": false,
    "ExecuteTime": {
     "end_time": "2024-12-28T19:50:52.787683300Z",
     "start_time": "2024-12-28T19:50:52.743682700Z"
    }
   },
   "id": "d6483462c7f7337b",
   "execution_count": 5
  },
  {
   "cell_type": "code",
   "outputs": [],
   "source": [
    "import pickle\n",
    "import cv2\n",
    "from pathlib import Path\n",
    "\n",
    "\n",
    "def select_rois_for_blocks(block_list, save_path):\n",
    "    \"\"\"\n",
    "    Allows the user to select ROIs for all blocks without calculating brightness.\n",
    "\n",
    "    Args:\n",
    "        block_list (list): List of BlockSync objects.\n",
    "        save_path (str or Path): Path to save the selected ROIs as a pickle file.\n",
    "\n",
    "    Returns:\n",
    "        None\n",
    "    \"\"\"\n",
    "    rois_dict = {}\n",
    "    for block in block_list:\n",
    "        rois_dict[block.block_num] = {}\n",
    "\n",
    "        for eye, video_path in zip(['left_eye', 'right_eye'], [block.le_videos[0], block.re_videos[0]]):\n",
    "            cap = cv2.VideoCapture(video_path)\n",
    "            if not cap.isOpened():\n",
    "                print(f\"Error: Cannot open video {video_path}\")\n",
    "                continue\n",
    "\n",
    "            ret, frame = cap.read()\n",
    "            if not ret:\n",
    "                print(f\"Error: Cannot read the first frame of {video_path}\")\n",
    "                cap.release()\n",
    "                continue\n",
    "\n",
    "            roi = cv2.selectROI(f\"Select ROI for {eye} - Block {block.block_num}\", frame, showCrosshair=True, fromCenter=False)\n",
    "            rois_dict[block.block_num][eye] = roi\n",
    "            cv2.destroyWindow(f\"Select ROI for {eye} - Block {block.block_num}\")\n",
    "            cap.release()\n",
    "\n",
    "    # Save the ROIs to a pickle file\n",
    "    save_path = Path(save_path)\n",
    "    with open(save_path, 'wb') as f:\n",
    "        pickle.dump(rois_dict, f)\n",
    "\n",
    "    print(f\"ROIs saved to {save_path}\")\n",
    "\n",
    "\n",
    "def calculate_brightness_for_blocks(block_list, rois_path, threshold_value=30, export=True):\n",
    "    \"\"\"\n",
    "    Calculates brightness vectors for all blocks using preselected ROIs.\n",
    "\n",
    "    Args:\n",
    "        block_list (list): List of BlockSync objects.\n",
    "        rois_path (str or Path): Path to the pickle file containing saved ROIs.\n",
    "        threshold_value (float): Threshold value to use as a mask before calculating brightness.\n",
    "        export (bool): If True, exports the brightness vectors into a pickle file.\n",
    "\n",
    "    Returns:\n",
    "        None\n",
    "    \"\"\"\n",
    "    rois_path = Path(rois_path)\n",
    "    if not rois_path.exists():\n",
    "        raise FileNotFoundError(f\"ROIs file {rois_path} does not exist.\")\n",
    "\n",
    "    # Load the saved ROIs\n",
    "    with open(rois_path, 'rb') as f:\n",
    "        rois_dict = pickle.load(f)\n",
    "\n",
    "    for block in block_list:\n",
    "        if block.block_num not in rois_dict:\n",
    "            print(f\"Skipping Block {block.block_num}: No ROI data found.\")\n",
    "            continue\n",
    "\n",
    "        block_rois = rois_dict[block.block_num]\n",
    "\n",
    "        print(f\"Calculating brightness for Block {block.block_num}...\")\n",
    "\n",
    "        # Calculate brightness for left eye\n",
    "        block.le_frame_val_list = block.produce_frame_val_list_with_roi(\n",
    "            block.le_videos[0], block_rois['left_eye'], threshold_value\n",
    "        )\n",
    "\n",
    "        # Calculate brightness for right eye\n",
    "        block.re_frame_val_list = block.produce_frame_val_list_with_roi(\n",
    "            block.re_videos[0], block_rois['right_eye'], threshold_value\n",
    "        )\n",
    "\n",
    "        if export:\n",
    "            export_path = block.analysis_path / 'eye_brightness_values_dict.pkl'\n",
    "            frame_val_dict = {\n",
    "                'left_eye': block.le_frame_val_list,\n",
    "                'right_eye': block.re_frame_val_list\n",
    "            }\n",
    "            with open(export_path, 'wb') as f:\n",
    "                pickle.dump(frame_val_dict, f)\n",
    "            print(f\"Brightness vectors saved to {export_path}\")\n",
    "\n",
    "        print(f\"Brightness calculation complete for Block {block.block_num}.\")\n"
   ],
   "metadata": {
    "collapsed": false,
    "ExecuteTime": {
     "end_time": "2024-12-28T17:25:08.207927Z",
     "start_time": "2024-12-28T17:25:08.175901500Z"
    }
   },
   "id": "71dd46c03d160467",
   "execution_count": 10
  },
  {
   "cell_type": "code",
   "outputs": [
    {
     "name": "stdout",
     "output_type": "stream",
     "text": [
      "ROIs saved to Z:\\Nimrod\\experiments\\PV_57\\helper_files\\rois.pkl\n"
     ]
    }
   ],
   "source": [
    "save_path = r\"Z:\\Nimrod\\experiments\\PV_57\\helper_files/rois.pkl\"  # Path to save the selected ROIs\n",
    "select_rois_for_blocks(block_collection, save_path)"
   ],
   "metadata": {
    "collapsed": false,
    "ExecuteTime": {
     "end_time": "2024-12-28T17:29:51.889392200Z",
     "start_time": "2024-12-28T17:29:02.583816100Z"
    }
   },
   "id": "1480fa8ab0884c32",
   "execution_count": 13
  },
  {
   "cell_type": "code",
   "outputs": [
    {
     "name": "stderr",
     "output_type": "stream",
     "text": [
      "Processing Z:\\Nimrod\\experiments\\PV_57\\2024_11_21\\block_001\\eye_videos\\LE\\pv_57_single_print_01_640x480_60hz_experiment_1_recording_0\\pv_57_single_print_01.mp4:   0%|          | 160/54465 [00:00<00:33, 1599.95frame/s]"
     ]
    },
    {
     "name": "stdout",
     "output_type": "stream",
     "text": [
      "Calculating brightness for Block 001...\n",
      "Working on video Z:\\Nimrod\\experiments\\PV_57\\2024_11_21\\block_001\\eye_videos\\LE\\pv_57_single_print_01_640x480_60hz_experiment_1_recording_0\\pv_57_single_print_01.mp4\n"
     ]
    },
    {
     "name": "stderr",
     "output_type": "stream",
     "text": [
      "Processing Z:\\Nimrod\\experiments\\PV_57\\2024_11_21\\block_001\\eye_videos\\LE\\pv_57_single_print_01_640x480_60hz_experiment_1_recording_0\\pv_57_single_print_01.mp4: 100%|██████████| 54465/54465 [00:28<00:00, 1909.40frame/s]\n",
      "Processing Z:\\Nimrod\\experiments\\PV_57\\2024_11_21\\block_001\\eye_videos\\RE\\pv_57_single_print_01_640x480_60hz_experiment_1_recording_0\\pv_57_single_print_01.mp4:   0%|          | 174/54492 [00:00<00:31, 1724.76frame/s]"
     ]
    },
    {
     "name": "stdout",
     "output_type": "stream",
     "text": [
      "Finished video Z:\\Nimrod\\experiments\\PV_57\\2024_11_21\\block_001\\eye_videos\\LE\\pv_57_single_print_01_640x480_60hz_experiment_1_recording_0\\pv_57_single_print_01.mp4, processed 54465 frames\n",
      "Working on video Z:\\Nimrod\\experiments\\PV_57\\2024_11_21\\block_001\\eye_videos\\RE\\pv_57_single_print_01_640x480_60hz_experiment_1_recording_0\\pv_57_single_print_01.mp4\n"
     ]
    },
    {
     "name": "stderr",
     "output_type": "stream",
     "text": [
      "Processing Z:\\Nimrod\\experiments\\PV_57\\2024_11_21\\block_001\\eye_videos\\RE\\pv_57_single_print_01_640x480_60hz_experiment_1_recording_0\\pv_57_single_print_01.mp4: 100%|██████████| 54492/54492 [00:32<00:00, 1670.02frame/s]\n"
     ]
    },
    {
     "name": "stdout",
     "output_type": "stream",
     "text": [
      "Finished video Z:\\Nimrod\\experiments\\PV_57\\2024_11_21\\block_001\\eye_videos\\RE\\pv_57_single_print_01_640x480_60hz_experiment_1_recording_0\\pv_57_single_print_01.mp4, processed 54492 frames\n"
     ]
    },
    {
     "name": "stderr",
     "output_type": "stream",
     "text": [
      "Processing Z:\\Nimrod\\experiments\\PV_57\\2024_11_21\\block_002\\eye_videos\\LE\\pv_57_single_print_02_640x480_60hz_experiment_1_recording_0\\pv_57_single_print_02.mp4:   0%|          | 170/75420 [00:00<00:44, 1700.00frame/s]"
     ]
    },
    {
     "name": "stdout",
     "output_type": "stream",
     "text": [
      "Brightness vectors saved to Z:\\Nimrod\\experiments\\PV_57\\2024_11_21\\block_001\\analysis\\eye_brightness_values_dict.pkl\n",
      "Brightness calculation complete for Block 001.\n",
      "Calculating brightness for Block 002...\n",
      "Working on video Z:\\Nimrod\\experiments\\PV_57\\2024_11_21\\block_002\\eye_videos\\LE\\pv_57_single_print_02_640x480_60hz_experiment_1_recording_0\\pv_57_single_print_02.mp4\n"
     ]
    },
    {
     "name": "stderr",
     "output_type": "stream",
     "text": [
      "Processing Z:\\Nimrod\\experiments\\PV_57\\2024_11_21\\block_002\\eye_videos\\LE\\pv_57_single_print_02_640x480_60hz_experiment_1_recording_0\\pv_57_single_print_02.mp4: 100%|██████████| 75420/75420 [00:39<00:00, 1891.86frame/s]\n",
      "Processing Z:\\Nimrod\\experiments\\PV_57\\2024_11_21\\block_002\\eye_videos\\RE\\pv_57_single_print_02_640x480_60hz_experiment_1_recording_0\\pv_57_single_print_02.mp4:   0%|          | 179/75594 [00:00<00:42, 1777.06frame/s]"
     ]
    },
    {
     "name": "stdout",
     "output_type": "stream",
     "text": [
      "Finished video Z:\\Nimrod\\experiments\\PV_57\\2024_11_21\\block_002\\eye_videos\\LE\\pv_57_single_print_02_640x480_60hz_experiment_1_recording_0\\pv_57_single_print_02.mp4, processed 75420 frames\n",
      "Working on video Z:\\Nimrod\\experiments\\PV_57\\2024_11_21\\block_002\\eye_videos\\RE\\pv_57_single_print_02_640x480_60hz_experiment_1_recording_0\\pv_57_single_print_02.mp4\n"
     ]
    },
    {
     "name": "stderr",
     "output_type": "stream",
     "text": [
      "Processing Z:\\Nimrod\\experiments\\PV_57\\2024_11_21\\block_002\\eye_videos\\RE\\pv_57_single_print_02_640x480_60hz_experiment_1_recording_0\\pv_57_single_print_02.mp4: 100%|██████████| 75594/75594 [00:44<00:00, 1717.84frame/s]\n"
     ]
    },
    {
     "name": "stdout",
     "output_type": "stream",
     "text": [
      "Finished video Z:\\Nimrod\\experiments\\PV_57\\2024_11_21\\block_002\\eye_videos\\RE\\pv_57_single_print_02_640x480_60hz_experiment_1_recording_0\\pv_57_single_print_02.mp4, processed 75594 frames\n"
     ]
    },
    {
     "name": "stderr",
     "output_type": "stream",
     "text": [
      "Processing Z:\\Nimrod\\experiments\\PV_57\\2024_11_21\\block_003\\eye_videos\\LE\\pv_57_single_print_03_640x480_60hz_experiment_1_recording_0\\pv_57_single_print_03.mp4:   3%|▎         | 177/5672 [00:00<00:03, 1758.83frame/s]"
     ]
    },
    {
     "name": "stdout",
     "output_type": "stream",
     "text": [
      "Brightness vectors saved to Z:\\Nimrod\\experiments\\PV_57\\2024_11_21\\block_002\\analysis\\eye_brightness_values_dict.pkl\n",
      "Brightness calculation complete for Block 002.\n",
      "Calculating brightness for Block 003...\n",
      "Working on video Z:\\Nimrod\\experiments\\PV_57\\2024_11_21\\block_003\\eye_videos\\LE\\pv_57_single_print_03_640x480_60hz_experiment_1_recording_0\\pv_57_single_print_03.mp4\n"
     ]
    },
    {
     "name": "stderr",
     "output_type": "stream",
     "text": [
      "Processing Z:\\Nimrod\\experiments\\PV_57\\2024_11_21\\block_003\\eye_videos\\LE\\pv_57_single_print_03_640x480_60hz_experiment_1_recording_0\\pv_57_single_print_03.mp4: 100%|██████████| 5672/5672 [00:02<00:00, 1930.77frame/s]\n",
      "Processing Z:\\Nimrod\\experiments\\PV_57\\2024_11_21\\block_003\\eye_videos\\RE\\pv_57_single_print_03_640x480_60hz_experiment_1_recording_0\\pv_57_single_print_03.mp4:   1%|          | 172/30751 [00:00<00:17, 1705.13frame/s]"
     ]
    },
    {
     "name": "stdout",
     "output_type": "stream",
     "text": [
      "Finished video Z:\\Nimrod\\experiments\\PV_57\\2024_11_21\\block_003\\eye_videos\\LE\\pv_57_single_print_03_640x480_60hz_experiment_1_recording_0\\pv_57_single_print_03.mp4, processed 5672 frames\n",
      "Working on video Z:\\Nimrod\\experiments\\PV_57\\2024_11_21\\block_003\\eye_videos\\RE\\pv_57_single_print_03_640x480_60hz_experiment_1_recording_0\\pv_57_single_print_03.mp4\n"
     ]
    },
    {
     "name": "stderr",
     "output_type": "stream",
     "text": [
      "Processing Z:\\Nimrod\\experiments\\PV_57\\2024_11_21\\block_003\\eye_videos\\RE\\pv_57_single_print_03_640x480_60hz_experiment_1_recording_0\\pv_57_single_print_03.mp4: 100%|██████████| 30751/30751 [00:17<00:00, 1754.54frame/s]\n",
      "Processing Z:\\Nimrod\\experiments\\PV_57\\2024_11_21\\block_004\\eye_videos\\LE\\pv_57_single_print_04_640x480_60hz_experiment_1_recording_0\\pv_57_single_print_04.mp4:   0%|          | 0/38079 [00:00<?, ?frame/s]"
     ]
    },
    {
     "name": "stdout",
     "output_type": "stream",
     "text": [
      "Finished video Z:\\Nimrod\\experiments\\PV_57\\2024_11_21\\block_003\\eye_videos\\RE\\pv_57_single_print_03_640x480_60hz_experiment_1_recording_0\\pv_57_single_print_03.mp4, processed 30751 frames\n",
      "Brightness vectors saved to Z:\\Nimrod\\experiments\\PV_57\\2024_11_21\\block_003\\analysis\\eye_brightness_values_dict.pkl\n",
      "Brightness calculation complete for Block 003.\n",
      "Calculating brightness for Block 004...\n",
      "Working on video Z:\\Nimrod\\experiments\\PV_57\\2024_11_21\\block_004\\eye_videos\\LE\\pv_57_single_print_04_640x480_60hz_experiment_1_recording_0\\pv_57_single_print_04.mp4\n"
     ]
    },
    {
     "name": "stderr",
     "output_type": "stream",
     "text": [
      "Processing Z:\\Nimrod\\experiments\\PV_57\\2024_11_21\\block_004\\eye_videos\\LE\\pv_57_single_print_04_640x480_60hz_experiment_1_recording_0\\pv_57_single_print_04.mp4: 100%|██████████| 38079/38079 [00:19<00:00, 1936.19frame/s]\n",
      "Processing Z:\\Nimrod\\experiments\\PV_57\\2024_11_21\\block_004\\eye_videos\\RE\\pv_57_single_print_04_640x480_60hz_experiment_1_recording_0\\pv_57_single_print_04.mp4:   0%|          | 176/38177 [00:00<00:21, 1746.88frame/s]"
     ]
    },
    {
     "name": "stdout",
     "output_type": "stream",
     "text": [
      "Finished video Z:\\Nimrod\\experiments\\PV_57\\2024_11_21\\block_004\\eye_videos\\LE\\pv_57_single_print_04_640x480_60hz_experiment_1_recording_0\\pv_57_single_print_04.mp4, processed 38079 frames\n",
      "Working on video Z:\\Nimrod\\experiments\\PV_57\\2024_11_21\\block_004\\eye_videos\\RE\\pv_57_single_print_04_640x480_60hz_experiment_1_recording_0\\pv_57_single_print_04.mp4\n"
     ]
    },
    {
     "name": "stderr",
     "output_type": "stream",
     "text": [
      "Processing Z:\\Nimrod\\experiments\\PV_57\\2024_11_21\\block_004\\eye_videos\\RE\\pv_57_single_print_04_640x480_60hz_experiment_1_recording_0\\pv_57_single_print_04.mp4: 100%|██████████| 38177/38177 [00:21<00:00, 1752.56frame/s]\n",
      "Processing Z:\\Nimrod\\experiments\\PV_57\\2024_11_25\\block_005\\eye_videos\\LE\\pv_57_single_print_d2_01_640x480_60hz_experiment_1_recording_0\\pv_57_single_print_d2_01.mp4:   0%|          | 0/38542 [00:00<?, ?frame/s]"
     ]
    },
    {
     "name": "stdout",
     "output_type": "stream",
     "text": [
      "Finished video Z:\\Nimrod\\experiments\\PV_57\\2024_11_21\\block_004\\eye_videos\\RE\\pv_57_single_print_04_640x480_60hz_experiment_1_recording_0\\pv_57_single_print_04.mp4, processed 38177 frames\n",
      "Brightness vectors saved to Z:\\Nimrod\\experiments\\PV_57\\2024_11_21\\block_004\\analysis\\eye_brightness_values_dict.pkl\n",
      "Brightness calculation complete for Block 004.\n",
      "Calculating brightness for Block 005...\n",
      "Working on video Z:\\Nimrod\\experiments\\PV_57\\2024_11_25\\block_005\\eye_videos\\LE\\pv_57_single_print_d2_01_640x480_60hz_experiment_1_recording_0\\pv_57_single_print_d2_01.mp4\n"
     ]
    },
    {
     "name": "stderr",
     "output_type": "stream",
     "text": [
      "Processing Z:\\Nimrod\\experiments\\PV_57\\2024_11_25\\block_005\\eye_videos\\LE\\pv_57_single_print_d2_01_640x480_60hz_experiment_1_recording_0\\pv_57_single_print_d2_01.mp4: 100%|██████████| 38542/38542 [00:19<00:00, 1961.54frame/s]\n",
      "Processing Z:\\Nimrod\\experiments\\PV_57\\2024_11_25\\block_005\\eye_videos\\RE\\pv_57_single_print_d2_01_640x480_60hz_experiment_1_recording_0\\pv_57_single_print_d2_01.mp4:   0%|          | 175/38545 [00:00<00:22, 1741.19frame/s]"
     ]
    },
    {
     "name": "stdout",
     "output_type": "stream",
     "text": [
      "Finished video Z:\\Nimrod\\experiments\\PV_57\\2024_11_25\\block_005\\eye_videos\\LE\\pv_57_single_print_d2_01_640x480_60hz_experiment_1_recording_0\\pv_57_single_print_d2_01.mp4, processed 38542 frames\n",
      "Working on video Z:\\Nimrod\\experiments\\PV_57\\2024_11_25\\block_005\\eye_videos\\RE\\pv_57_single_print_d2_01_640x480_60hz_experiment_1_recording_0\\pv_57_single_print_d2_01.mp4\n"
     ]
    },
    {
     "name": "stderr",
     "output_type": "stream",
     "text": [
      "Processing Z:\\Nimrod\\experiments\\PV_57\\2024_11_25\\block_005\\eye_videos\\RE\\pv_57_single_print_d2_01_640x480_60hz_experiment_1_recording_0\\pv_57_single_print_d2_01.mp4: 100%|██████████| 38545/38545 [00:20<00:00, 1856.79frame/s]\n"
     ]
    },
    {
     "name": "stdout",
     "output_type": "stream",
     "text": [
      "Finished video Z:\\Nimrod\\experiments\\PV_57\\2024_11_25\\block_005\\eye_videos\\RE\\pv_57_single_print_d2_01_640x480_60hz_experiment_1_recording_0\\pv_57_single_print_d2_01.mp4, processed 38545 frames\n",
      "Brightness vectors saved to Z:\\Nimrod\\experiments\\PV_57\\2024_11_25\\block_005\\analysis\\eye_brightness_values_dict.pkl\n",
      "Brightness calculation complete for Block 005.\n",
      "Calculating brightness for Block 007...\n",
      "Working on video Z:\\Nimrod\\experiments\\PV_57\\2024_11_25\\block_007\\eye_videos\\LE\\pv_57_single_print_d2_03_640x480_60hz_experiment_1_recording_0\\pv_57_single_print_d2_03.mp4\n"
     ]
    },
    {
     "name": "stderr",
     "output_type": "stream",
     "text": [
      "Processing Z:\\Nimrod\\experiments\\PV_57\\2024_11_25\\block_007\\eye_videos\\LE\\pv_57_single_print_d2_03_640x480_60hz_experiment_1_recording_0\\pv_57_single_print_d2_03.mp4: 100%|██████████| 57768/57768 [00:30<00:00, 1925.21frame/s]\n",
      "Processing Z:\\Nimrod\\experiments\\PV_57\\2024_11_25\\block_007\\eye_videos\\RE\\pv_57_single_print_d2_03_640x480_60hz_experiment_1_recording_0\\pv_57_single_print_d2_03.mp4:   0%|          | 166/57766 [00:00<00:34, 1659.98frame/s]"
     ]
    },
    {
     "name": "stdout",
     "output_type": "stream",
     "text": [
      "Finished video Z:\\Nimrod\\experiments\\PV_57\\2024_11_25\\block_007\\eye_videos\\LE\\pv_57_single_print_d2_03_640x480_60hz_experiment_1_recording_0\\pv_57_single_print_d2_03.mp4, processed 57768 frames\n",
      "Working on video Z:\\Nimrod\\experiments\\PV_57\\2024_11_25\\block_007\\eye_videos\\RE\\pv_57_single_print_d2_03_640x480_60hz_experiment_1_recording_0\\pv_57_single_print_d2_03.mp4\n"
     ]
    },
    {
     "name": "stderr",
     "output_type": "stream",
     "text": [
      "Processing Z:\\Nimrod\\experiments\\PV_57\\2024_11_25\\block_007\\eye_videos\\RE\\pv_57_single_print_d2_03_640x480_60hz_experiment_1_recording_0\\pv_57_single_print_d2_03.mp4: 100%|██████████| 57766/57766 [00:32<00:00, 1797.10frame/s]\n"
     ]
    },
    {
     "name": "stdout",
     "output_type": "stream",
     "text": [
      "Finished video Z:\\Nimrod\\experiments\\PV_57\\2024_11_25\\block_007\\eye_videos\\RE\\pv_57_single_print_d2_03_640x480_60hz_experiment_1_recording_0\\pv_57_single_print_d2_03.mp4, processed 57766 frames\n"
     ]
    },
    {
     "name": "stderr",
     "output_type": "stream",
     "text": [
      "Processing Z:\\Nimrod\\experiments\\PV_57\\2024_11_25\\block_008\\eye_videos\\LE\\pv_57_single_print_d2_05_640x480_60hz_experiment_1_recording_0\\pv_57_single_print_d2_05.mp4:   0%|          | 185/61106 [00:00<00:33, 1831.69frame/s]"
     ]
    },
    {
     "name": "stdout",
     "output_type": "stream",
     "text": [
      "Brightness vectors saved to Z:\\Nimrod\\experiments\\PV_57\\2024_11_25\\block_007\\analysis\\eye_brightness_values_dict.pkl\n",
      "Brightness calculation complete for Block 007.\n",
      "Calculating brightness for Block 008...\n",
      "Working on video Z:\\Nimrod\\experiments\\PV_57\\2024_11_25\\block_008\\eye_videos\\LE\\pv_57_single_print_d2_05_640x480_60hz_experiment_1_recording_0\\pv_57_single_print_d2_05.mp4\n"
     ]
    },
    {
     "name": "stderr",
     "output_type": "stream",
     "text": [
      "Processing Z:\\Nimrod\\experiments\\PV_57\\2024_11_25\\block_008\\eye_videos\\LE\\pv_57_single_print_d2_05_640x480_60hz_experiment_1_recording_0\\pv_57_single_print_d2_05.mp4: 100%|██████████| 61106/61106 [00:31<00:00, 1963.90frame/s]\n",
      "Processing Z:\\Nimrod\\experiments\\PV_57\\2024_11_25\\block_008\\eye_videos\\RE\\pv_57_single_print_d2_05_640x480_60hz_experiment_1_recording_0\\pv_57_single_print_d2_05.mp4:   0%|          | 165/61108 [00:00<00:36, 1647.90frame/s]"
     ]
    },
    {
     "name": "stdout",
     "output_type": "stream",
     "text": [
      "Finished video Z:\\Nimrod\\experiments\\PV_57\\2024_11_25\\block_008\\eye_videos\\LE\\pv_57_single_print_d2_05_640x480_60hz_experiment_1_recording_0\\pv_57_single_print_d2_05.mp4, processed 61106 frames\n",
      "Working on video Z:\\Nimrod\\experiments\\PV_57\\2024_11_25\\block_008\\eye_videos\\RE\\pv_57_single_print_d2_05_640x480_60hz_experiment_1_recording_0\\pv_57_single_print_d2_05.mp4\n"
     ]
    },
    {
     "name": "stderr",
     "output_type": "stream",
     "text": [
      "Processing Z:\\Nimrod\\experiments\\PV_57\\2024_11_25\\block_008\\eye_videos\\RE\\pv_57_single_print_d2_05_640x480_60hz_experiment_1_recording_0\\pv_57_single_print_d2_05.mp4: 100%|██████████| 61108/61108 [00:35<00:00, 1730.69frame/s]\n"
     ]
    },
    {
     "name": "stdout",
     "output_type": "stream",
     "text": [
      "Finished video Z:\\Nimrod\\experiments\\PV_57\\2024_11_25\\block_008\\eye_videos\\RE\\pv_57_single_print_d2_05_640x480_60hz_experiment_1_recording_0\\pv_57_single_print_d2_05.mp4, processed 61108 frames\n"
     ]
    },
    {
     "name": "stderr",
     "output_type": "stream",
     "text": [
      "Processing Z:\\Nimrod\\experiments\\PV_57\\2024_11_25\\block_009\\eye_videos\\LE\\pv_57_single_print_d2_06_640x480_60hz_experiment_1_recording_0\\pv_57_single_print_d2_06.mp4:   0%|          | 182/40170 [00:00<00:22, 1813.46frame/s]"
     ]
    },
    {
     "name": "stdout",
     "output_type": "stream",
     "text": [
      "Brightness vectors saved to Z:\\Nimrod\\experiments\\PV_57\\2024_11_25\\block_008\\analysis\\eye_brightness_values_dict.pkl\n",
      "Brightness calculation complete for Block 008.\n",
      "Calculating brightness for Block 009...\n",
      "Working on video Z:\\Nimrod\\experiments\\PV_57\\2024_11_25\\block_009\\eye_videos\\LE\\pv_57_single_print_d2_06_640x480_60hz_experiment_1_recording_0\\pv_57_single_print_d2_06.mp4\n"
     ]
    },
    {
     "name": "stderr",
     "output_type": "stream",
     "text": [
      "Processing Z:\\Nimrod\\experiments\\PV_57\\2024_11_25\\block_009\\eye_videos\\LE\\pv_57_single_print_d2_06_640x480_60hz_experiment_1_recording_0\\pv_57_single_print_d2_06.mp4: 100%|██████████| 40170/40170 [00:20<00:00, 1958.89frame/s]\n",
      "Processing Z:\\Nimrod\\experiments\\PV_57\\2024_11_25\\block_009\\eye_videos\\RE\\pv_57_single_print_d2_06_640x480_60hz_experiment_1_recording_0\\pv_57_single_print_d2_06.mp4:   0%|          | 180/40174 [00:00<00:22, 1782.20frame/s]"
     ]
    },
    {
     "name": "stdout",
     "output_type": "stream",
     "text": [
      "Finished video Z:\\Nimrod\\experiments\\PV_57\\2024_11_25\\block_009\\eye_videos\\LE\\pv_57_single_print_d2_06_640x480_60hz_experiment_1_recording_0\\pv_57_single_print_d2_06.mp4, processed 40170 frames\n",
      "Working on video Z:\\Nimrod\\experiments\\PV_57\\2024_11_25\\block_009\\eye_videos\\RE\\pv_57_single_print_d2_06_640x480_60hz_experiment_1_recording_0\\pv_57_single_print_d2_06.mp4\n"
     ]
    },
    {
     "name": "stderr",
     "output_type": "stream",
     "text": [
      "Processing Z:\\Nimrod\\experiments\\PV_57\\2024_11_25\\block_009\\eye_videos\\RE\\pv_57_single_print_d2_06_640x480_60hz_experiment_1_recording_0\\pv_57_single_print_d2_06.mp4: 100%|██████████| 40174/40174 [00:22<00:00, 1757.93frame/s]\n"
     ]
    },
    {
     "name": "stdout",
     "output_type": "stream",
     "text": [
      "Finished video Z:\\Nimrod\\experiments\\PV_57\\2024_11_25\\block_009\\eye_videos\\RE\\pv_57_single_print_d2_06_640x480_60hz_experiment_1_recording_0\\pv_57_single_print_d2_06.mp4, processed 40174 frames\n",
      "Brightness vectors saved to Z:\\Nimrod\\experiments\\PV_57\\2024_11_25\\block_009\\analysis\\eye_brightness_values_dict.pkl\n",
      "Brightness calculation complete for Block 009.\n",
      "Calculating brightness for Block 010...\n",
      "Working on video Z:\\Nimrod\\experiments\\PV_57\\2024_12_01\\block_010\\eye_videos\\LE\\d3__01_640x480_60hz_experiment_1_recording_0\\d3__01.mp4\n"
     ]
    },
    {
     "name": "stderr",
     "output_type": "stream",
     "text": [
      "Processing Z:\\Nimrod\\experiments\\PV_57\\2024_12_01\\block_010\\eye_videos\\LE\\d3__01_640x480_60hz_experiment_1_recording_0\\d3__01.mp4: 100%|██████████| 15622/15622 [00:08<00:00, 1906.98frame/s]\n",
      "Processing Z:\\Nimrod\\experiments\\PV_57\\2024_12_01\\block_010\\eye_videos\\RE\\d3__01_640x480_60hz_experiment_1_recording_0\\d3__01_RE.mp4:   1%|          | 191/15623 [00:00<00:08, 1891.11frame/s]"
     ]
    },
    {
     "name": "stdout",
     "output_type": "stream",
     "text": [
      "Finished video Z:\\Nimrod\\experiments\\PV_57\\2024_12_01\\block_010\\eye_videos\\LE\\d3__01_640x480_60hz_experiment_1_recording_0\\d3__01.mp4, processed 15622 frames\n",
      "Working on video Z:\\Nimrod\\experiments\\PV_57\\2024_12_01\\block_010\\eye_videos\\RE\\d3__01_640x480_60hz_experiment_1_recording_0\\d3__01_RE.mp4\n"
     ]
    },
    {
     "name": "stderr",
     "output_type": "stream",
     "text": [
      "Processing Z:\\Nimrod\\experiments\\PV_57\\2024_12_01\\block_010\\eye_videos\\RE\\d3__01_640x480_60hz_experiment_1_recording_0\\d3__01_RE.mp4: 100%|██████████| 15623/15623 [00:08<00:00, 1838.16frame/s]\n",
      "Processing Z:\\Nimrod\\experiments\\PV_57\\2024_12_01\\block_011\\eye_videos\\LE\\d3__02_640x480_60hz_experiment_1_recording_0\\d3__02.mp4:   0%|          | 0/79160 [00:00<?, ?frame/s]"
     ]
    },
    {
     "name": "stdout",
     "output_type": "stream",
     "text": [
      "Finished video Z:\\Nimrod\\experiments\\PV_57\\2024_12_01\\block_010\\eye_videos\\RE\\d3__01_640x480_60hz_experiment_1_recording_0\\d3__01_RE.mp4, processed 15623 frames\n",
      "Brightness vectors saved to Z:\\Nimrod\\experiments\\PV_57\\2024_12_01\\block_010\\analysis\\eye_brightness_values_dict.pkl\n",
      "Brightness calculation complete for Block 010.\n",
      "Calculating brightness for Block 011...\n",
      "Working on video Z:\\Nimrod\\experiments\\PV_57\\2024_12_01\\block_011\\eye_videos\\LE\\d3__02_640x480_60hz_experiment_1_recording_0\\d3__02.mp4\n"
     ]
    },
    {
     "name": "stderr",
     "output_type": "stream",
     "text": [
      "Processing Z:\\Nimrod\\experiments\\PV_57\\2024_12_01\\block_011\\eye_videos\\LE\\d3__02_640x480_60hz_experiment_1_recording_0\\d3__02.mp4: 100%|██████████| 79160/79160 [00:41<00:00, 1917.52frame/s]\n",
      "Processing Z:\\Nimrod\\experiments\\PV_57\\2024_12_01\\block_011\\eye_videos\\RE\\d3__02_640x480_60hz_experiment_1_recording_0\\d3__02.mp4:   0%|          | 180/79222 [00:00<00:44, 1783.46frame/s]"
     ]
    },
    {
     "name": "stdout",
     "output_type": "stream",
     "text": [
      "Finished video Z:\\Nimrod\\experiments\\PV_57\\2024_12_01\\block_011\\eye_videos\\LE\\d3__02_640x480_60hz_experiment_1_recording_0\\d3__02.mp4, processed 79160 frames\n",
      "Working on video Z:\\Nimrod\\experiments\\PV_57\\2024_12_01\\block_011\\eye_videos\\RE\\d3__02_640x480_60hz_experiment_1_recording_0\\d3__02.mp4\n"
     ]
    },
    {
     "name": "stderr",
     "output_type": "stream",
     "text": [
      "Processing Z:\\Nimrod\\experiments\\PV_57\\2024_12_01\\block_011\\eye_videos\\RE\\d3__02_640x480_60hz_experiment_1_recording_0\\d3__02.mp4: 100%|██████████| 79222/79222 [00:45<00:00, 1746.46frame/s]\n"
     ]
    },
    {
     "name": "stdout",
     "output_type": "stream",
     "text": [
      "Finished video Z:\\Nimrod\\experiments\\PV_57\\2024_12_01\\block_011\\eye_videos\\RE\\d3__02_640x480_60hz_experiment_1_recording_0\\d3__02.mp4, processed 79222 frames\n"
     ]
    },
    {
     "name": "stderr",
     "output_type": "stream",
     "text": [
      "Processing Z:\\Nimrod\\experiments\\PV_57\\2024_12_01\\block_012\\eye_videos\\LE\\d3__03_640x480_60hz_experiment_1_recording_0\\d3__03.mp4:   0%|          | 172/85790 [00:00<00:50, 1703.03frame/s]"
     ]
    },
    {
     "name": "stdout",
     "output_type": "stream",
     "text": [
      "Brightness vectors saved to Z:\\Nimrod\\experiments\\PV_57\\2024_12_01\\block_011\\analysis\\eye_brightness_values_dict.pkl\n",
      "Brightness calculation complete for Block 011.\n",
      "Calculating brightness for Block 012...\n",
      "Working on video Z:\\Nimrod\\experiments\\PV_57\\2024_12_01\\block_012\\eye_videos\\LE\\d3__03_640x480_60hz_experiment_1_recording_0\\d3__03.mp4\n"
     ]
    },
    {
     "name": "stderr",
     "output_type": "stream",
     "text": [
      "Processing Z:\\Nimrod\\experiments\\PV_57\\2024_12_01\\block_012\\eye_videos\\LE\\d3__03_640x480_60hz_experiment_1_recording_0\\d3__03.mp4: 100%|██████████| 85790/85790 [00:43<00:00, 1952.52frame/s]\n",
      "Processing Z:\\Nimrod\\experiments\\PV_57\\2024_12_01\\block_012\\eye_videos\\RE\\d3__03_640x480_60hz_experiment_1_recording_0\\d3__03.mp4:   0%|          | 135/85792 [00:00<01:04, 1336.29frame/s]"
     ]
    },
    {
     "name": "stdout",
     "output_type": "stream",
     "text": [
      "Finished video Z:\\Nimrod\\experiments\\PV_57\\2024_12_01\\block_012\\eye_videos\\LE\\d3__03_640x480_60hz_experiment_1_recording_0\\d3__03.mp4, processed 85790 frames\n",
      "Working on video Z:\\Nimrod\\experiments\\PV_57\\2024_12_01\\block_012\\eye_videos\\RE\\d3__03_640x480_60hz_experiment_1_recording_0\\d3__03.mp4\n"
     ]
    },
    {
     "name": "stderr",
     "output_type": "stream",
     "text": [
      "Processing Z:\\Nimrod\\experiments\\PV_57\\2024_12_01\\block_012\\eye_videos\\RE\\d3__03_640x480_60hz_experiment_1_recording_0\\d3__03.mp4: 100%|██████████| 85792/85792 [00:45<00:00, 1885.80frame/s]\n"
     ]
    },
    {
     "name": "stdout",
     "output_type": "stream",
     "text": [
      "Finished video Z:\\Nimrod\\experiments\\PV_57\\2024_12_01\\block_012\\eye_videos\\RE\\d3__03_640x480_60hz_experiment_1_recording_0\\d3__03.mp4, processed 85792 frames\n"
     ]
    },
    {
     "name": "stderr",
     "output_type": "stream",
     "text": [
      "Processing Z:\\Nimrod\\experiments\\PV_57\\2024_12_01\\block_013\\eye_videos\\LE\\d3__04_640x480_60hz_experiment_1_recording_0\\d3__04.mp4:   0%|          | 189/49836 [00:00<00:26, 1889.46frame/s]"
     ]
    },
    {
     "name": "stdout",
     "output_type": "stream",
     "text": [
      "Brightness vectors saved to Z:\\Nimrod\\experiments\\PV_57\\2024_12_01\\block_012\\analysis\\eye_brightness_values_dict.pkl\n",
      "Brightness calculation complete for Block 012.\n",
      "Calculating brightness for Block 013...\n",
      "Working on video Z:\\Nimrod\\experiments\\PV_57\\2024_12_01\\block_013\\eye_videos\\LE\\d3__04_640x480_60hz_experiment_1_recording_0\\d3__04.mp4\n"
     ]
    },
    {
     "name": "stderr",
     "output_type": "stream",
     "text": [
      "Processing Z:\\Nimrod\\experiments\\PV_57\\2024_12_01\\block_013\\eye_videos\\LE\\d3__04_640x480_60hz_experiment_1_recording_0\\d3__04.mp4: 100%|██████████| 49836/49836 [00:25<00:00, 1928.60frame/s]\n",
      "Processing Z:\\Nimrod\\experiments\\PV_57\\2024_12_01\\block_013\\eye_videos\\RE\\d3__04_640x480_60hz_experiment_1_recording_0\\d3__04.mp4:   0%|          | 168/49845 [00:00<00:29, 1663.40frame/s]"
     ]
    },
    {
     "name": "stdout",
     "output_type": "stream",
     "text": [
      "Finished video Z:\\Nimrod\\experiments\\PV_57\\2024_12_01\\block_013\\eye_videos\\LE\\d3__04_640x480_60hz_experiment_1_recording_0\\d3__04.mp4, processed 49836 frames\n",
      "Working on video Z:\\Nimrod\\experiments\\PV_57\\2024_12_01\\block_013\\eye_videos\\RE\\d3__04_640x480_60hz_experiment_1_recording_0\\d3__04.mp4\n"
     ]
    },
    {
     "name": "stderr",
     "output_type": "stream",
     "text": [
      "Processing Z:\\Nimrod\\experiments\\PV_57\\2024_12_01\\block_013\\eye_videos\\RE\\d3__04_640x480_60hz_experiment_1_recording_0\\d3__04.mp4: 100%|██████████| 49845/49845 [00:25<00:00, 1949.28frame/s]\n"
     ]
    },
    {
     "name": "stdout",
     "output_type": "stream",
     "text": [
      "Finished video Z:\\Nimrod\\experiments\\PV_57\\2024_12_01\\block_013\\eye_videos\\RE\\d3__04_640x480_60hz_experiment_1_recording_0\\d3__04.mp4, processed 49845 frames\n",
      "Brightness vectors saved to Z:\\Nimrod\\experiments\\PV_57\\2024_12_01\\block_013\\analysis\\eye_brightness_values_dict.pkl\n",
      "Brightness calculation complete for Block 013.\n"
     ]
    }
   ],
   "source": [
    "calculate_brightness_for_blocks(block_collection,save_path)"
   ],
   "metadata": {
    "collapsed": false,
    "ExecuteTime": {
     "end_time": "2024-12-28T17:42:59.697180600Z",
     "start_time": "2024-12-28T17:31:52.465536600Z"
    }
   },
   "id": "84b61b450a51803a",
   "execution_count": 15
  },
  {
   "cell_type": "code",
   "outputs": [
    {
     "name": "stdout",
     "output_type": "stream",
     "text": [
      "handling eye video files\n",
      "converting videos...\n",
      "converting files: ['Z:\\\\Nimrod\\\\experiments\\\\PV_57\\\\2024_11_21\\\\block_001\\\\eye_videos\\\\LE\\\\pv_57_single_print_01_640x480_60hz_experiment_1_recording_0\\\\pv_57_single_print_01.h264', 'Z:\\\\Nimrod\\\\experiments\\\\PV_57\\\\2024_11_21\\\\block_001\\\\eye_videos\\\\RE\\\\pv_57_single_print_01_640x480_60hz_experiment_1_recording_0\\\\pv_57_single_print_01.h264'] \n",
      " avoiding conversion on files: ['Z:\\\\Nimrod\\\\experiments\\\\PV_57\\\\2024_11_21\\\\block_001\\\\eye_videos\\\\LE\\\\pv_57_single_print_01_640x480_60hz_experiment_1_recording_0\\\\pv_57_single_print_01.mp4', 'Z:\\\\Nimrod\\\\experiments\\\\PV_57\\\\2024_11_21\\\\block_001\\\\eye_videos\\\\LE\\\\pv_57_single_print_01_640x480_60hz_experiment_1_recording_0\\\\pv_57_single_print_01_LE.mp4', 'Z:\\\\Nimrod\\\\experiments\\\\PV_57\\\\2024_11_21\\\\block_001\\\\eye_videos\\\\RE\\\\pv_57_single_print_01_640x480_60hz_experiment_1_recording_0\\\\pv_57_single_print_01.mp4', 'Z:\\\\Nimrod\\\\experiments\\\\PV_57\\\\2024_11_21\\\\block_001\\\\eye_videos\\\\RE\\\\pv_57_single_print_01_640x480_60hz_experiment_1_recording_0\\\\pv_57_single_print_01_RE.mp4']\n",
      "The file Z:\\Nimrod\\experiments\\PV_57\\2024_11_21\\block_001\\eye_videos\\LE\\pv_57_single_print_01_640x480_60hz_experiment_1_recording_0\\pv_57_single_print_01.mp4 already exists, no conversion necessary\n",
      "The file Z:\\Nimrod\\experiments\\PV_57\\2024_11_21\\block_001\\eye_videos\\RE\\pv_57_single_print_01_640x480_60hz_experiment_1_recording_0\\pv_57_single_print_01.mp4 already exists, no conversion necessary\n",
      "Validating videos...\n",
      "something wrong with the inspection, numbers of files does not match:\n",
      "videos_to_inspect = ['Z:\\\\Nimrod\\\\experiments\\\\PV_57\\\\2024_11_21\\\\block_001\\\\eye_videos\\\\LE\\\\pv_57_single_print_01_640x480_60hz_experiment_1_recording_0\\\\pv_57_single_print_01.mp4', 'Z:\\\\Nimrod\\\\experiments\\\\PV_57\\\\2024_11_21\\\\block_001\\\\eye_videos\\\\LE\\\\pv_57_single_print_01_640x480_60hz_experiment_1_recording_0\\\\pv_57_single_print_01_LE.mp4', 'Z:\\\\Nimrod\\\\experiments\\\\PV_57\\\\2024_11_21\\\\block_001\\\\eye_videos\\\\RE\\\\pv_57_single_print_01_640x480_60hz_experiment_1_recording_0\\\\pv_57_single_print_01.mp4', 'Z:\\\\Nimrod\\\\experiments\\\\PV_57\\\\2024_11_21\\\\block_001\\\\eye_videos\\\\RE\\\\pv_57_single_print_01_640x480_60hz_experiment_1_recording_0\\\\pv_57_single_print_01_RE.mp4']\n",
      "timestamps_to_inspect = ['Z:\\\\Nimrod\\\\experiments\\\\PV_57\\\\2024_11_21\\\\block_001\\\\eye_videos\\\\LE\\\\pv_57_single_print_01_640x480_60hz_experiment_1_recording_0\\\\pv_57_single_print_01_timestamps.csv', 'Z:\\\\Nimrod\\\\experiments\\\\PV_57\\\\2024_11_21\\\\block_001\\\\eye_videos\\\\RE\\\\pv_57_single_print_01_640x480_60hz_experiment_1_recording_0\\\\pv_57_single_print_01_timestamps.csv']\n",
      "stamping LE video\n",
      "could not re-stamp the video because the label is already there\n",
      "handling eye video files\n",
      "converting videos...\n",
      "converting files: ['Z:\\\\Nimrod\\\\experiments\\\\PV_57\\\\2024_11_21\\\\block_002\\\\eye_videos\\\\LE\\\\pv_57_single_print_02_640x480_60hz_experiment_1_recording_0\\\\pv_57_single_print_02.h264', 'Z:\\\\Nimrod\\\\experiments\\\\PV_57\\\\2024_11_21\\\\block_002\\\\eye_videos\\\\RE\\\\pv_57_single_print_02_640x480_60hz_experiment_1_recording_0\\\\pv_57_single_print_02.h264'] \n",
      " avoiding conversion on files: ['Z:\\\\Nimrod\\\\experiments\\\\PV_57\\\\2024_11_21\\\\block_002\\\\eye_videos\\\\LE\\\\pv_57_single_print_02_640x480_60hz_experiment_1_recording_0\\\\pv_57_single_print_02.mp4', 'Z:\\\\Nimrod\\\\experiments\\\\PV_57\\\\2024_11_21\\\\block_002\\\\eye_videos\\\\LE\\\\pv_57_single_print_02_640x480_60hz_experiment_1_recording_0\\\\pv_57_single_print_02_LE.mp4', 'Z:\\\\Nimrod\\\\experiments\\\\PV_57\\\\2024_11_21\\\\block_002\\\\eye_videos\\\\RE\\\\pv_57_single_print_02_640x480_60hz_experiment_1_recording_0\\\\pv_57_single_print_02.mp4', 'Z:\\\\Nimrod\\\\experiments\\\\PV_57\\\\2024_11_21\\\\block_002\\\\eye_videos\\\\RE\\\\pv_57_single_print_02_640x480_60hz_experiment_1_recording_0\\\\pv_57_single_print_02_RE.mp4']\n",
      "The file Z:\\Nimrod\\experiments\\PV_57\\2024_11_21\\block_002\\eye_videos\\LE\\pv_57_single_print_02_640x480_60hz_experiment_1_recording_0\\pv_57_single_print_02.mp4 already exists, no conversion necessary\n",
      "The file Z:\\Nimrod\\experiments\\PV_57\\2024_11_21\\block_002\\eye_videos\\RE\\pv_57_single_print_02_640x480_60hz_experiment_1_recording_0\\pv_57_single_print_02.mp4 already exists, no conversion necessary\n",
      "Validating videos...\n",
      "something wrong with the inspection, numbers of files does not match:\n",
      "videos_to_inspect = ['Z:\\\\Nimrod\\\\experiments\\\\PV_57\\\\2024_11_21\\\\block_002\\\\eye_videos\\\\LE\\\\pv_57_single_print_02_640x480_60hz_experiment_1_recording_0\\\\pv_57_single_print_02.mp4', 'Z:\\\\Nimrod\\\\experiments\\\\PV_57\\\\2024_11_21\\\\block_002\\\\eye_videos\\\\LE\\\\pv_57_single_print_02_640x480_60hz_experiment_1_recording_0\\\\pv_57_single_print_02_LE.mp4', 'Z:\\\\Nimrod\\\\experiments\\\\PV_57\\\\2024_11_21\\\\block_002\\\\eye_videos\\\\RE\\\\pv_57_single_print_02_640x480_60hz_experiment_1_recording_0\\\\pv_57_single_print_02.mp4', 'Z:\\\\Nimrod\\\\experiments\\\\PV_57\\\\2024_11_21\\\\block_002\\\\eye_videos\\\\RE\\\\pv_57_single_print_02_640x480_60hz_experiment_1_recording_0\\\\pv_57_single_print_02_RE.mp4']\n",
      "timestamps_to_inspect = ['Z:\\\\Nimrod\\\\experiments\\\\PV_57\\\\2024_11_21\\\\block_002\\\\eye_videos\\\\LE\\\\pv_57_single_print_02_640x480_60hz_experiment_1_recording_0\\\\pv_57_single_print_02_timestamps.csv', 'Z:\\\\Nimrod\\\\experiments\\\\PV_57\\\\2024_11_21\\\\block_002\\\\eye_videos\\\\RE\\\\pv_57_single_print_02_640x480_60hz_experiment_1_recording_0\\\\pv_57_single_print_02_timestamps.csv']\n",
      "stamping LE video\n",
      "could not re-stamp the video because the label is already there\n",
      "stamping LE video\n",
      "handling eye video files\n",
      "converting videos...\n",
      "converting files: ['Z:\\\\Nimrod\\\\experiments\\\\PV_57\\\\2024_11_21\\\\block_003\\\\eye_videos\\\\LE\\\\pv_57_single_print_03_640x480_60hz_experiment_1_recording_0\\\\pv_57_single_print_03.h264', 'Z:\\\\Nimrod\\\\experiments\\\\PV_57\\\\2024_11_21\\\\block_003\\\\eye_videos\\\\RE\\\\pv_57_single_print_03_640x480_60hz_experiment_1_recording_0\\\\pv_57_single_print_03.h264'] \n",
      " avoiding conversion on files: ['Z:\\\\Nimrod\\\\experiments\\\\PV_57\\\\2024_11_21\\\\block_003\\\\eye_videos\\\\LE\\\\pv_57_single_print_03_640x480_60hz_experiment_1_recording_0\\\\pv_57_single_print_03.mp4', 'Z:\\\\Nimrod\\\\experiments\\\\PV_57\\\\2024_11_21\\\\block_003\\\\eye_videos\\\\LE\\\\pv_57_single_print_03_640x480_60hz_experiment_1_recording_0\\\\pv_57_single_print_03_LE.mp4', 'Z:\\\\Nimrod\\\\experiments\\\\PV_57\\\\2024_11_21\\\\block_003\\\\eye_videos\\\\RE\\\\pv_57_single_print_03_640x480_60hz_experiment_1_recording_0\\\\pv_57_single_print_03_RE.mp4']\n",
      "The file Z:\\Nimrod\\experiments\\PV_57\\2024_11_21\\block_003\\eye_videos\\LE\\pv_57_single_print_03_640x480_60hz_experiment_1_recording_0\\pv_57_single_print_03.mp4 already exists, no conversion necessary\n",
      "Z:\\Nimrod\\experiments\\PV_57\\2024_11_21\\block_003\\eye_videos\\RE\\pv_57_single_print_03_640x480_60hz_experiment_1_recording_0\\pv_57_single_print_03.h264 converted \n",
      "Validating videos...\n",
      "something wrong with the inspection, numbers of files does not match:\n",
      "videos_to_inspect = ['Z:\\\\Nimrod\\\\experiments\\\\PV_57\\\\2024_11_21\\\\block_003\\\\eye_videos\\\\LE\\\\pv_57_single_print_03_640x480_60hz_experiment_1_recording_0\\\\pv_57_single_print_03.mp4', 'Z:\\\\Nimrod\\\\experiments\\\\PV_57\\\\2024_11_21\\\\block_003\\\\eye_videos\\\\LE\\\\pv_57_single_print_03_640x480_60hz_experiment_1_recording_0\\\\pv_57_single_print_03_LE.mp4', 'Z:\\\\Nimrod\\\\experiments\\\\PV_57\\\\2024_11_21\\\\block_003\\\\eye_videos\\\\RE\\\\pv_57_single_print_03_640x480_60hz_experiment_1_recording_0\\\\pv_57_single_print_03.mp4', 'Z:\\\\Nimrod\\\\experiments\\\\PV_57\\\\2024_11_21\\\\block_003\\\\eye_videos\\\\RE\\\\pv_57_single_print_03_640x480_60hz_experiment_1_recording_0\\\\pv_57_single_print_03_RE.mp4']\n",
      "timestamps_to_inspect = ['Z:\\\\Nimrod\\\\experiments\\\\PV_57\\\\2024_11_21\\\\block_003\\\\eye_videos\\\\LE\\\\pv_57_single_print_03_640x480_60hz_experiment_1_recording_0\\\\pv_57_single_print_03_timestamps.csv', 'Z:\\\\Nimrod\\\\experiments\\\\PV_57\\\\2024_11_21\\\\block_003\\\\eye_videos\\\\RE\\\\pv_57_single_print_03_640x480_60hz_experiment_1_recording_0\\\\pv_57_single_print_03_timestamps.csv']\n",
      "stamping LE video\n",
      "could not re-stamp the video because the label is already there\n",
      "stamping LE video\n",
      "handling eye video files\n",
      "converting videos...\n",
      "converting files: ['Z:\\\\Nimrod\\\\experiments\\\\PV_57\\\\2024_11_21\\\\block_004\\\\eye_videos\\\\LE\\\\pv_57_single_print_04_640x480_60hz_experiment_1_recording_0\\\\pv_57_single_print_04.h264', 'Z:\\\\Nimrod\\\\experiments\\\\PV_57\\\\2024_11_21\\\\block_004\\\\eye_videos\\\\RE\\\\pv_57_single_print_04_640x480_60hz_experiment_1_recording_0\\\\pv_57_single_print_04.h264'] \n",
      " avoiding conversion on files: ['Z:\\\\Nimrod\\\\experiments\\\\PV_57\\\\2024_11_21\\\\block_004\\\\eye_videos\\\\LE\\\\pv_57_single_print_04_640x480_60hz_experiment_1_recording_0\\\\pv_57_single_print_04.mp4', 'Z:\\\\Nimrod\\\\experiments\\\\PV_57\\\\2024_11_21\\\\block_004\\\\eye_videos\\\\LE\\\\pv_57_single_print_04_640x480_60hz_experiment_1_recording_0\\\\pv_57_single_print_04_LE.mp4', 'Z:\\\\Nimrod\\\\experiments\\\\PV_57\\\\2024_11_21\\\\block_004\\\\eye_videos\\\\RE\\\\pv_57_single_print_04_640x480_60hz_experiment_1_recording_0\\\\pv_57_single_print_04_RE.mp4']\n",
      "The file Z:\\Nimrod\\experiments\\PV_57\\2024_11_21\\block_004\\eye_videos\\LE\\pv_57_single_print_04_640x480_60hz_experiment_1_recording_0\\pv_57_single_print_04.mp4 already exists, no conversion necessary\n",
      "Z:\\Nimrod\\experiments\\PV_57\\2024_11_21\\block_004\\eye_videos\\RE\\pv_57_single_print_04_640x480_60hz_experiment_1_recording_0\\pv_57_single_print_04.h264 converted \n",
      "Validating videos...\n",
      "something wrong with the inspection, numbers of files does not match:\n",
      "videos_to_inspect = ['Z:\\\\Nimrod\\\\experiments\\\\PV_57\\\\2024_11_21\\\\block_004\\\\eye_videos\\\\LE\\\\pv_57_single_print_04_640x480_60hz_experiment_1_recording_0\\\\pv_57_single_print_04.mp4', 'Z:\\\\Nimrod\\\\experiments\\\\PV_57\\\\2024_11_21\\\\block_004\\\\eye_videos\\\\LE\\\\pv_57_single_print_04_640x480_60hz_experiment_1_recording_0\\\\pv_57_single_print_04_LE.mp4', 'Z:\\\\Nimrod\\\\experiments\\\\PV_57\\\\2024_11_21\\\\block_004\\\\eye_videos\\\\RE\\\\pv_57_single_print_04_640x480_60hz_experiment_1_recording_0\\\\pv_57_single_print_04.mp4', 'Z:\\\\Nimrod\\\\experiments\\\\PV_57\\\\2024_11_21\\\\block_004\\\\eye_videos\\\\RE\\\\pv_57_single_print_04_640x480_60hz_experiment_1_recording_0\\\\pv_57_single_print_04_RE.mp4']\n",
      "timestamps_to_inspect = ['Z:\\\\Nimrod\\\\experiments\\\\PV_57\\\\2024_11_21\\\\block_004\\\\eye_videos\\\\LE\\\\pv_57_single_print_04_640x480_60hz_experiment_1_recording_0\\\\pv_57_single_print_04_timestamps.csv', 'Z:\\\\Nimrod\\\\experiments\\\\PV_57\\\\2024_11_21\\\\block_004\\\\eye_videos\\\\RE\\\\pv_57_single_print_04_640x480_60hz_experiment_1_recording_0\\\\pv_57_single_print_04_timestamps.csv']\n",
      "stamping LE video\n",
      "could not re-stamp the video because the label is already there\n",
      "stamping LE video\n",
      "handling eye video files\n",
      "converting videos...\n",
      "converting files: ['Z:\\\\Nimrod\\\\experiments\\\\PV_57\\\\2024_11_25\\\\block_005\\\\eye_videos\\\\LE\\\\pv_57_single_print_d2_01_640x480_60hz_experiment_1_recording_0\\\\pv_57_single_print_d2_01.h264', 'Z:\\\\Nimrod\\\\experiments\\\\PV_57\\\\2024_11_25\\\\block_005\\\\eye_videos\\\\RE\\\\pv_57_single_print_d2_01_640x480_60hz_experiment_1_recording_0\\\\pv_57_single_print_d2_01.h264'] \n",
      " avoiding conversion on files: ['Z:\\\\Nimrod\\\\experiments\\\\PV_57\\\\2024_11_25\\\\block_005\\\\eye_videos\\\\LE\\\\pv_57_single_print_d2_01_640x480_60hz_experiment_1_recording_0\\\\pv_57_single_print_d2_01.mp4', 'Z:\\\\Nimrod\\\\experiments\\\\PV_57\\\\2024_11_25\\\\block_005\\\\eye_videos\\\\LE\\\\pv_57_single_print_d2_01_640x480_60hz_experiment_1_recording_0\\\\pv_57_single_print_d2_01_LE.mp4', 'Z:\\\\Nimrod\\\\experiments\\\\PV_57\\\\2024_11_25\\\\block_005\\\\eye_videos\\\\RE\\\\pv_57_single_print_d2_01_640x480_60hz_experiment_1_recording_0\\\\pv_57_single_print_d2_01_RE.mp4']\n",
      "The file Z:\\Nimrod\\experiments\\PV_57\\2024_11_25\\block_005\\eye_videos\\LE\\pv_57_single_print_d2_01_640x480_60hz_experiment_1_recording_0\\pv_57_single_print_d2_01.mp4 already exists, no conversion necessary\n",
      "Z:\\Nimrod\\experiments\\PV_57\\2024_11_25\\block_005\\eye_videos\\RE\\pv_57_single_print_d2_01_640x480_60hz_experiment_1_recording_0\\pv_57_single_print_d2_01.h264 converted \n",
      "Validating videos...\n",
      "something wrong with the inspection, numbers of files does not match:\n",
      "videos_to_inspect = ['Z:\\\\Nimrod\\\\experiments\\\\PV_57\\\\2024_11_25\\\\block_005\\\\eye_videos\\\\LE\\\\pv_57_single_print_d2_01_640x480_60hz_experiment_1_recording_0\\\\pv_57_single_print_d2_01.mp4', 'Z:\\\\Nimrod\\\\experiments\\\\PV_57\\\\2024_11_25\\\\block_005\\\\eye_videos\\\\LE\\\\pv_57_single_print_d2_01_640x480_60hz_experiment_1_recording_0\\\\pv_57_single_print_d2_01_LE.mp4', 'Z:\\\\Nimrod\\\\experiments\\\\PV_57\\\\2024_11_25\\\\block_005\\\\eye_videos\\\\RE\\\\pv_57_single_print_d2_01_640x480_60hz_experiment_1_recording_0\\\\pv_57_single_print_d2_01.mp4', 'Z:\\\\Nimrod\\\\experiments\\\\PV_57\\\\2024_11_25\\\\block_005\\\\eye_videos\\\\RE\\\\pv_57_single_print_d2_01_640x480_60hz_experiment_1_recording_0\\\\pv_57_single_print_d2_01_RE.mp4']\n",
      "timestamps_to_inspect = ['Z:\\\\Nimrod\\\\experiments\\\\PV_57\\\\2024_11_25\\\\block_005\\\\eye_videos\\\\LE\\\\pv_57_single_print_d2_01_640x480_60hz_experiment_1_recording_0\\\\pv_57_single_print_d2_01_timestamps.csv', 'Z:\\\\Nimrod\\\\experiments\\\\PV_57\\\\2024_11_25\\\\block_005\\\\eye_videos\\\\RE\\\\pv_57_single_print_d2_01_640x480_60hz_experiment_1_recording_0\\\\pv_57_single_print_d2_01_timestamps.csv']\n",
      "stamping LE video\n",
      "could not re-stamp the video because the label is already there\n",
      "stamping LE video\n",
      "handling eye video files\n",
      "converting videos...\n",
      "converting files: ['Z:\\\\Nimrod\\\\experiments\\\\PV_57\\\\2024_11_25\\\\block_007\\\\eye_videos\\\\LE\\\\pv_57_single_print_d2_03_640x480_60hz_experiment_1_recording_0\\\\pv_57_single_print_d2_03.h264', 'Z:\\\\Nimrod\\\\experiments\\\\PV_57\\\\2024_11_25\\\\block_007\\\\eye_videos\\\\RE\\\\pv_57_single_print_d2_03_640x480_60hz_experiment_1_recording_0\\\\pv_57_single_print_d2_03.h264'] \n",
      " avoiding conversion on files: ['Z:\\\\Nimrod\\\\experiments\\\\PV_57\\\\2024_11_25\\\\block_007\\\\eye_videos\\\\LE\\\\pv_57_single_print_d2_03_640x480_60hz_experiment_1_recording_0\\\\pv_57_single_print_d2_03.mp4', 'Z:\\\\Nimrod\\\\experiments\\\\PV_57\\\\2024_11_25\\\\block_007\\\\eye_videos\\\\LE\\\\pv_57_single_print_d2_03_640x480_60hz_experiment_1_recording_0\\\\pv_57_single_print_d2_03_LE.mp4', 'Z:\\\\Nimrod\\\\experiments\\\\PV_57\\\\2024_11_25\\\\block_007\\\\eye_videos\\\\RE\\\\pv_57_single_print_d2_03_640x480_60hz_experiment_1_recording_0\\\\pv_57_single_print_d2_03_RE.mp4']\n",
      "The file Z:\\Nimrod\\experiments\\PV_57\\2024_11_25\\block_007\\eye_videos\\LE\\pv_57_single_print_d2_03_640x480_60hz_experiment_1_recording_0\\pv_57_single_print_d2_03.mp4 already exists, no conversion necessary\n",
      "Z:\\Nimrod\\experiments\\PV_57\\2024_11_25\\block_007\\eye_videos\\RE\\pv_57_single_print_d2_03_640x480_60hz_experiment_1_recording_0\\pv_57_single_print_d2_03.h264 converted \n",
      "Validating videos...\n",
      "something wrong with the inspection, numbers of files does not match:\n",
      "videos_to_inspect = ['Z:\\\\Nimrod\\\\experiments\\\\PV_57\\\\2024_11_25\\\\block_007\\\\eye_videos\\\\LE\\\\pv_57_single_print_d2_03_640x480_60hz_experiment_1_recording_0\\\\pv_57_single_print_d2_03.mp4', 'Z:\\\\Nimrod\\\\experiments\\\\PV_57\\\\2024_11_25\\\\block_007\\\\eye_videos\\\\LE\\\\pv_57_single_print_d2_03_640x480_60hz_experiment_1_recording_0\\\\pv_57_single_print_d2_03_LE.mp4', 'Z:\\\\Nimrod\\\\experiments\\\\PV_57\\\\2024_11_25\\\\block_007\\\\eye_videos\\\\RE\\\\pv_57_single_print_d2_03_640x480_60hz_experiment_1_recording_0\\\\pv_57_single_print_d2_03.mp4', 'Z:\\\\Nimrod\\\\experiments\\\\PV_57\\\\2024_11_25\\\\block_007\\\\eye_videos\\\\RE\\\\pv_57_single_print_d2_03_640x480_60hz_experiment_1_recording_0\\\\pv_57_single_print_d2_03_RE.mp4']\n",
      "timestamps_to_inspect = ['Z:\\\\Nimrod\\\\experiments\\\\PV_57\\\\2024_11_25\\\\block_007\\\\eye_videos\\\\LE\\\\pv_57_single_print_d2_03_640x480_60hz_experiment_1_recording_0\\\\pv_57_single_print_d2_03_timestamps.csv', 'Z:\\\\Nimrod\\\\experiments\\\\PV_57\\\\2024_11_25\\\\block_007\\\\eye_videos\\\\RE\\\\pv_57_single_print_d2_03_640x480_60hz_experiment_1_recording_0\\\\pv_57_single_print_d2_03_timestamps.csv']\n",
      "stamping LE video\n",
      "could not re-stamp the video because the label is already there\n",
      "stamping LE video\n",
      "handling eye video files\n",
      "converting videos...\n",
      "converting files: ['Z:\\\\Nimrod\\\\experiments\\\\PV_57\\\\2024_11_25\\\\block_008\\\\eye_videos\\\\LE\\\\pv_57_single_print_d2_05_640x480_60hz_experiment_1_recording_0\\\\pv_57_single_print_d2_05.h264', 'Z:\\\\Nimrod\\\\experiments\\\\PV_57\\\\2024_11_25\\\\block_008\\\\eye_videos\\\\RE\\\\pv_57_single_print_d2_05_640x480_60hz_experiment_1_recording_0\\\\pv_57_single_print_d2_05.h264'] \n",
      " avoiding conversion on files: ['Z:\\\\Nimrod\\\\experiments\\\\PV_57\\\\2024_11_25\\\\block_008\\\\eye_videos\\\\LE\\\\pv_57_single_print_d2_05_640x480_60hz_experiment_1_recording_0\\\\pv_57_single_print_d2_05.mp4', 'Z:\\\\Nimrod\\\\experiments\\\\PV_57\\\\2024_11_25\\\\block_008\\\\eye_videos\\\\LE\\\\pv_57_single_print_d2_05_640x480_60hz_experiment_1_recording_0\\\\pv_57_single_print_d2_05_LE.mp4', 'Z:\\\\Nimrod\\\\experiments\\\\PV_57\\\\2024_11_25\\\\block_008\\\\eye_videos\\\\RE\\\\pv_57_single_print_d2_05_640x480_60hz_experiment_1_recording_0\\\\pv_57_single_print_d2_05_RE.mp4']\n",
      "The file Z:\\Nimrod\\experiments\\PV_57\\2024_11_25\\block_008\\eye_videos\\LE\\pv_57_single_print_d2_05_640x480_60hz_experiment_1_recording_0\\pv_57_single_print_d2_05.mp4 already exists, no conversion necessary\n",
      "Z:\\Nimrod\\experiments\\PV_57\\2024_11_25\\block_008\\eye_videos\\RE\\pv_57_single_print_d2_05_640x480_60hz_experiment_1_recording_0\\pv_57_single_print_d2_05.h264 converted \n",
      "Validating videos...\n",
      "something wrong with the inspection, numbers of files does not match:\n",
      "videos_to_inspect = ['Z:\\\\Nimrod\\\\experiments\\\\PV_57\\\\2024_11_25\\\\block_008\\\\eye_videos\\\\LE\\\\pv_57_single_print_d2_05_640x480_60hz_experiment_1_recording_0\\\\pv_57_single_print_d2_05.mp4', 'Z:\\\\Nimrod\\\\experiments\\\\PV_57\\\\2024_11_25\\\\block_008\\\\eye_videos\\\\LE\\\\pv_57_single_print_d2_05_640x480_60hz_experiment_1_recording_0\\\\pv_57_single_print_d2_05_LE.mp4', 'Z:\\\\Nimrod\\\\experiments\\\\PV_57\\\\2024_11_25\\\\block_008\\\\eye_videos\\\\RE\\\\pv_57_single_print_d2_05_640x480_60hz_experiment_1_recording_0\\\\pv_57_single_print_d2_05.mp4', 'Z:\\\\Nimrod\\\\experiments\\\\PV_57\\\\2024_11_25\\\\block_008\\\\eye_videos\\\\RE\\\\pv_57_single_print_d2_05_640x480_60hz_experiment_1_recording_0\\\\pv_57_single_print_d2_05_RE.mp4']\n",
      "timestamps_to_inspect = ['Z:\\\\Nimrod\\\\experiments\\\\PV_57\\\\2024_11_25\\\\block_008\\\\eye_videos\\\\LE\\\\pv_57_single_print_d2_05_640x480_60hz_experiment_1_recording_0\\\\pv_57_single_print_d2_05_timestamps.csv', 'Z:\\\\Nimrod\\\\experiments\\\\PV_57\\\\2024_11_25\\\\block_008\\\\eye_videos\\\\RE\\\\pv_57_single_print_d2_05_640x480_60hz_experiment_1_recording_0\\\\pv_57_single_print_d2_05_timestamps.csv']\n",
      "stamping LE video\n",
      "could not re-stamp the video because the label is already there\n",
      "stamping LE video\n",
      "handling eye video files\n",
      "converting videos...\n",
      "converting files: ['Z:\\\\Nimrod\\\\experiments\\\\PV_57\\\\2024_11_25\\\\block_009\\\\eye_videos\\\\LE\\\\pv_57_single_print_d2_06_640x480_60hz_experiment_1_recording_0\\\\pv_57_single_print_d2_06.h264', 'Z:\\\\Nimrod\\\\experiments\\\\PV_57\\\\2024_11_25\\\\block_009\\\\eye_videos\\\\RE\\\\pv_57_single_print_d2_06_640x480_60hz_experiment_1_recording_0\\\\pv_57_single_print_d2_06.h264'] \n",
      " avoiding conversion on files: ['Z:\\\\Nimrod\\\\experiments\\\\PV_57\\\\2024_11_25\\\\block_009\\\\eye_videos\\\\LE\\\\pv_57_single_print_d2_06_640x480_60hz_experiment_1_recording_0\\\\pv_57_single_print_d2_06.mp4', 'Z:\\\\Nimrod\\\\experiments\\\\PV_57\\\\2024_11_25\\\\block_009\\\\eye_videos\\\\LE\\\\pv_57_single_print_d2_06_640x480_60hz_experiment_1_recording_0\\\\pv_57_single_print_d2_06_LE.mp4', 'Z:\\\\Nimrod\\\\experiments\\\\PV_57\\\\2024_11_25\\\\block_009\\\\eye_videos\\\\RE\\\\pv_57_single_print_d2_06_640x480_60hz_experiment_1_recording_0\\\\pv_57_single_print_d2_06_RE.mp4']\n",
      "The file Z:\\Nimrod\\experiments\\PV_57\\2024_11_25\\block_009\\eye_videos\\LE\\pv_57_single_print_d2_06_640x480_60hz_experiment_1_recording_0\\pv_57_single_print_d2_06.mp4 already exists, no conversion necessary\n",
      "Z:\\Nimrod\\experiments\\PV_57\\2024_11_25\\block_009\\eye_videos\\RE\\pv_57_single_print_d2_06_640x480_60hz_experiment_1_recording_0\\pv_57_single_print_d2_06.h264 converted \n",
      "Validating videos...\n",
      "something wrong with the inspection, numbers of files does not match:\n",
      "videos_to_inspect = ['Z:\\\\Nimrod\\\\experiments\\\\PV_57\\\\2024_11_25\\\\block_009\\\\eye_videos\\\\LE\\\\pv_57_single_print_d2_06_640x480_60hz_experiment_1_recording_0\\\\pv_57_single_print_d2_06.mp4', 'Z:\\\\Nimrod\\\\experiments\\\\PV_57\\\\2024_11_25\\\\block_009\\\\eye_videos\\\\LE\\\\pv_57_single_print_d2_06_640x480_60hz_experiment_1_recording_0\\\\pv_57_single_print_d2_06_LE.mp4', 'Z:\\\\Nimrod\\\\experiments\\\\PV_57\\\\2024_11_25\\\\block_009\\\\eye_videos\\\\RE\\\\pv_57_single_print_d2_06_640x480_60hz_experiment_1_recording_0\\\\pv_57_single_print_d2_06.mp4', 'Z:\\\\Nimrod\\\\experiments\\\\PV_57\\\\2024_11_25\\\\block_009\\\\eye_videos\\\\RE\\\\pv_57_single_print_d2_06_640x480_60hz_experiment_1_recording_0\\\\pv_57_single_print_d2_06_RE.mp4']\n",
      "timestamps_to_inspect = ['Z:\\\\Nimrod\\\\experiments\\\\PV_57\\\\2024_11_25\\\\block_009\\\\eye_videos\\\\LE\\\\pv_57_single_print_d2_06_640x480_60hz_experiment_1_recording_0\\\\pv_57_single_print_d2_06_timestamps.csv', 'Z:\\\\Nimrod\\\\experiments\\\\PV_57\\\\2024_11_25\\\\block_009\\\\eye_videos\\\\RE\\\\pv_57_single_print_d2_06_640x480_60hz_experiment_1_recording_0\\\\pv_57_single_print_d2_06_timestamps.csv']\n",
      "stamping LE video\n",
      "could not re-stamp the video because the label is already there\n",
      "stamping LE video\n",
      "handling eye video files\n",
      "converting videos...\n",
      "converting files: ['Z:\\\\Nimrod\\\\experiments\\\\PV_57\\\\2024_12_01\\\\block_010\\\\eye_videos\\\\LE\\\\d3__01_640x480_60hz_experiment_1_recording_0\\\\d3__01.h264'] \n",
      " avoiding conversion on files: ['Z:\\\\Nimrod\\\\experiments\\\\PV_57\\\\2024_12_01\\\\block_010\\\\eye_videos\\\\LE\\\\d3__01_640x480_60hz_experiment_1_recording_0\\\\d3__01.mp4', 'Z:\\\\Nimrod\\\\experiments\\\\PV_57\\\\2024_12_01\\\\block_010\\\\eye_videos\\\\LE\\\\d3__01_640x480_60hz_experiment_1_recording_0\\\\d3__01_LE.mp4', 'Z:\\\\Nimrod\\\\experiments\\\\PV_57\\\\2024_12_01\\\\block_010\\\\eye_videos\\\\RE\\\\d3__01_640x480_60hz_experiment_1_recording_0\\\\d3__01_RE.mp4']\n",
      "The file Z:\\Nimrod\\experiments\\PV_57\\2024_12_01\\block_010\\eye_videos\\LE\\d3__01_640x480_60hz_experiment_1_recording_0\\d3__01.mp4 already exists, no conversion necessary\n",
      "Validating videos...\n",
      "something wrong with the inspection, numbers of files does not match:\n",
      "videos_to_inspect = ['Z:\\\\Nimrod\\\\experiments\\\\PV_57\\\\2024_12_01\\\\block_010\\\\eye_videos\\\\LE\\\\d3__01_640x480_60hz_experiment_1_recording_0\\\\d3__01.mp4', 'Z:\\\\Nimrod\\\\experiments\\\\PV_57\\\\2024_12_01\\\\block_010\\\\eye_videos\\\\LE\\\\d3__01_640x480_60hz_experiment_1_recording_0\\\\d3__01_LE.mp4', 'Z:\\\\Nimrod\\\\experiments\\\\PV_57\\\\2024_12_01\\\\block_010\\\\eye_videos\\\\RE\\\\d3__01_640x480_60hz_experiment_1_recording_0\\\\d3__01_RE.mp4']\n",
      "timestamps_to_inspect = ['Z:\\\\Nimrod\\\\experiments\\\\PV_57\\\\2024_12_01\\\\block_010\\\\eye_videos\\\\LE\\\\d3__01_640x480_60hz_experiment_1_recording_0\\\\d3__01_timestamps.csv']\n",
      "stamping LE video\n",
      "could not re-stamp the video because the label is already there\n",
      "handling eye video files\n",
      "converting videos...\n",
      "converting files: ['Z:\\\\Nimrod\\\\experiments\\\\PV_57\\\\2024_12_01\\\\block_011\\\\eye_videos\\\\LE\\\\d3__02_640x480_60hz_experiment_1_recording_0\\\\d3__02.h264', 'Z:\\\\Nimrod\\\\experiments\\\\PV_57\\\\2024_12_01\\\\block_011\\\\eye_videos\\\\RE\\\\d3__02_640x480_60hz_experiment_1_recording_0\\\\d3__02.h264'] \n",
      " avoiding conversion on files: ['Z:\\\\Nimrod\\\\experiments\\\\PV_57\\\\2024_12_01\\\\block_011\\\\eye_videos\\\\LE\\\\d3__02_640x480_60hz_experiment_1_recording_0\\\\d3__02.mp4', 'Z:\\\\Nimrod\\\\experiments\\\\PV_57\\\\2024_12_01\\\\block_011\\\\eye_videos\\\\LE\\\\d3__02_640x480_60hz_experiment_1_recording_0\\\\d3__02_LE.mp4', 'Z:\\\\Nimrod\\\\experiments\\\\PV_57\\\\2024_12_01\\\\block_011\\\\eye_videos\\\\RE\\\\d3__02_640x480_60hz_experiment_1_recording_0\\\\d3__02_RE.mp4']\n",
      "The file Z:\\Nimrod\\experiments\\PV_57\\2024_12_01\\block_011\\eye_videos\\LE\\d3__02_640x480_60hz_experiment_1_recording_0\\d3__02.mp4 already exists, no conversion necessary\n",
      "Z:\\Nimrod\\experiments\\PV_57\\2024_12_01\\block_011\\eye_videos\\RE\\d3__02_640x480_60hz_experiment_1_recording_0\\d3__02.h264 converted \n",
      "Validating videos...\n",
      "something wrong with the inspection, numbers of files does not match:\n",
      "videos_to_inspect = ['Z:\\\\Nimrod\\\\experiments\\\\PV_57\\\\2024_12_01\\\\block_011\\\\eye_videos\\\\LE\\\\d3__02_640x480_60hz_experiment_1_recording_0\\\\d3__02.mp4', 'Z:\\\\Nimrod\\\\experiments\\\\PV_57\\\\2024_12_01\\\\block_011\\\\eye_videos\\\\LE\\\\d3__02_640x480_60hz_experiment_1_recording_0\\\\d3__02_LE.mp4', 'Z:\\\\Nimrod\\\\experiments\\\\PV_57\\\\2024_12_01\\\\block_011\\\\eye_videos\\\\RE\\\\d3__02_640x480_60hz_experiment_1_recording_0\\\\d3__02.mp4', 'Z:\\\\Nimrod\\\\experiments\\\\PV_57\\\\2024_12_01\\\\block_011\\\\eye_videos\\\\RE\\\\d3__02_640x480_60hz_experiment_1_recording_0\\\\d3__02_RE.mp4']\n",
      "timestamps_to_inspect = ['Z:\\\\Nimrod\\\\experiments\\\\PV_57\\\\2024_12_01\\\\block_011\\\\eye_videos\\\\LE\\\\d3__02_640x480_60hz_experiment_1_recording_0\\\\d3__02_timestamps.csv', 'Z:\\\\Nimrod\\\\experiments\\\\PV_57\\\\2024_12_01\\\\block_011\\\\eye_videos\\\\RE\\\\d3__02_640x480_60hz_experiment_1_recording_0\\\\d3__02_timestamps.csv']\n",
      "stamping LE video\n",
      "could not re-stamp the video because the label is already there\n",
      "stamping LE video\n",
      "handling eye video files\n",
      "converting videos...\n",
      "converting files: ['Z:\\\\Nimrod\\\\experiments\\\\PV_57\\\\2024_12_01\\\\block_012\\\\eye_videos\\\\LE\\\\d3__03_640x480_60hz_experiment_1_recording_0\\\\d3__03.h264', 'Z:\\\\Nimrod\\\\experiments\\\\PV_57\\\\2024_12_01\\\\block_012\\\\eye_videos\\\\RE\\\\d3__03_640x480_60hz_experiment_1_recording_0\\\\d3__03.h264'] \n",
      " avoiding conversion on files: ['Z:\\\\Nimrod\\\\experiments\\\\PV_57\\\\2024_12_01\\\\block_012\\\\eye_videos\\\\LE\\\\d3__03_640x480_60hz_experiment_1_recording_0\\\\d3__03.mp4', 'Z:\\\\Nimrod\\\\experiments\\\\PV_57\\\\2024_12_01\\\\block_012\\\\eye_videos\\\\LE\\\\d3__03_640x480_60hz_experiment_1_recording_0\\\\d3__03_LE.mp4', 'Z:\\\\Nimrod\\\\experiments\\\\PV_57\\\\2024_12_01\\\\block_012\\\\eye_videos\\\\RE\\\\d3__03_640x480_60hz_experiment_1_recording_0\\\\d3__03_RE.mp4']\n",
      "The file Z:\\Nimrod\\experiments\\PV_57\\2024_12_01\\block_012\\eye_videos\\LE\\d3__03_640x480_60hz_experiment_1_recording_0\\d3__03.mp4 already exists, no conversion necessary\n",
      "Z:\\Nimrod\\experiments\\PV_57\\2024_12_01\\block_012\\eye_videos\\RE\\d3__03_640x480_60hz_experiment_1_recording_0\\d3__03.h264 converted \n",
      "Validating videos...\n",
      "something wrong with the inspection, numbers of files does not match:\n",
      "videos_to_inspect = ['Z:\\\\Nimrod\\\\experiments\\\\PV_57\\\\2024_12_01\\\\block_012\\\\eye_videos\\\\LE\\\\d3__03_640x480_60hz_experiment_1_recording_0\\\\d3__03.mp4', 'Z:\\\\Nimrod\\\\experiments\\\\PV_57\\\\2024_12_01\\\\block_012\\\\eye_videos\\\\LE\\\\d3__03_640x480_60hz_experiment_1_recording_0\\\\d3__03_LE.mp4', 'Z:\\\\Nimrod\\\\experiments\\\\PV_57\\\\2024_12_01\\\\block_012\\\\eye_videos\\\\RE\\\\d3__03_640x480_60hz_experiment_1_recording_0\\\\d3__03.mp4', 'Z:\\\\Nimrod\\\\experiments\\\\PV_57\\\\2024_12_01\\\\block_012\\\\eye_videos\\\\RE\\\\d3__03_640x480_60hz_experiment_1_recording_0\\\\d3__03_RE.mp4']\n",
      "timestamps_to_inspect = ['Z:\\\\Nimrod\\\\experiments\\\\PV_57\\\\2024_12_01\\\\block_012\\\\eye_videos\\\\LE\\\\d3__03_640x480_60hz_experiment_1_recording_0\\\\d3__03_timestamps.csv', 'Z:\\\\Nimrod\\\\experiments\\\\PV_57\\\\2024_12_01\\\\block_012\\\\eye_videos\\\\RE\\\\d3__03_640x480_60hz_experiment_1_recording_0\\\\d3__03_timestamps.csv']\n",
      "stamping LE video\n",
      "could not re-stamp the video because the label is already there\n",
      "stamping LE video\n",
      "handling eye video files\n",
      "converting videos...\n",
      "converting files: ['Z:\\\\Nimrod\\\\experiments\\\\PV_57\\\\2024_12_01\\\\block_013\\\\eye_videos\\\\LE\\\\d3__04_640x480_60hz_experiment_1_recording_0\\\\d3__04.h264', 'Z:\\\\Nimrod\\\\experiments\\\\PV_57\\\\2024_12_01\\\\block_013\\\\eye_videos\\\\RE\\\\d3__04_640x480_60hz_experiment_1_recording_0\\\\d3__04.h264'] \n",
      " avoiding conversion on files: ['Z:\\\\Nimrod\\\\experiments\\\\PV_57\\\\2024_12_01\\\\block_013\\\\eye_videos\\\\LE\\\\d3__04_640x480_60hz_experiment_1_recording_0\\\\d3__04.mp4', 'Z:\\\\Nimrod\\\\experiments\\\\PV_57\\\\2024_12_01\\\\block_013\\\\eye_videos\\\\LE\\\\d3__04_640x480_60hz_experiment_1_recording_0\\\\d3__04_LE.mp4', 'Z:\\\\Nimrod\\\\experiments\\\\PV_57\\\\2024_12_01\\\\block_013\\\\eye_videos\\\\RE\\\\d3__04_640x480_60hz_experiment_1_recording_0\\\\d3__04_RE.mp4']\n",
      "The file Z:\\Nimrod\\experiments\\PV_57\\2024_12_01\\block_013\\eye_videos\\LE\\d3__04_640x480_60hz_experiment_1_recording_0\\d3__04.mp4 already exists, no conversion necessary\n",
      "Z:\\Nimrod\\experiments\\PV_57\\2024_12_01\\block_013\\eye_videos\\RE\\d3__04_640x480_60hz_experiment_1_recording_0\\d3__04.h264 converted \n",
      "Validating videos...\n",
      "something wrong with the inspection, numbers of files does not match:\n",
      "videos_to_inspect = ['Z:\\\\Nimrod\\\\experiments\\\\PV_57\\\\2024_12_01\\\\block_013\\\\eye_videos\\\\LE\\\\d3__04_640x480_60hz_experiment_1_recording_0\\\\d3__04.mp4', 'Z:\\\\Nimrod\\\\experiments\\\\PV_57\\\\2024_12_01\\\\block_013\\\\eye_videos\\\\LE\\\\d3__04_640x480_60hz_experiment_1_recording_0\\\\d3__04_LE.mp4', 'Z:\\\\Nimrod\\\\experiments\\\\PV_57\\\\2024_12_01\\\\block_013\\\\eye_videos\\\\RE\\\\d3__04_640x480_60hz_experiment_1_recording_0\\\\d3__04.mp4', 'Z:\\\\Nimrod\\\\experiments\\\\PV_57\\\\2024_12_01\\\\block_013\\\\eye_videos\\\\RE\\\\d3__04_640x480_60hz_experiment_1_recording_0\\\\d3__04_RE.mp4']\n",
      "timestamps_to_inspect = ['Z:\\\\Nimrod\\\\experiments\\\\PV_57\\\\2024_12_01\\\\block_013\\\\eye_videos\\\\LE\\\\d3__04_640x480_60hz_experiment_1_recording_0\\\\d3__04_timestamps.csv', 'Z:\\\\Nimrod\\\\experiments\\\\PV_57\\\\2024_12_01\\\\block_013\\\\eye_videos\\\\RE\\\\d3__04_640x480_60hz_experiment_1_recording_0\\\\d3__04_timestamps.csv']\n",
      "stamping LE video\n",
      "could not re-stamp the video because the label is already there\n",
      "stamping LE video\n"
     ]
    }
   ],
   "source": [
    "for block in block_collection:\n",
    "    block.handle_eye_videos()"
   ],
   "metadata": {
    "collapsed": false,
    "ExecuteTime": {
     "end_time": "2024-12-28T17:28:51.249863200Z",
     "start_time": "2024-12-28T17:26:25.011444500Z"
    }
   },
   "id": "5b42147ca6b69f61",
   "execution_count": 12
  },
  {
   "cell_type": "code",
   "outputs": [
    {
     "name": "stdout",
     "output_type": "stream",
     "text": [
      "handling arena files\n",
      "Arena video Names:\n",
      "front_20241121T153325.mp4\n",
      "left_20241121T153325.mp4\n",
      "right_20241121T153325.mp4\n",
      "top_20241121T153325.mp4\n",
      "running parse_open_ephys_events...\n",
      "block 001 has a parsed events file, reading...\n",
      "handling eye video files\n",
      "converting videos...\n",
      "converting files: ['Z:\\\\Nimrod\\\\experiments\\\\PV_57\\\\2024_11_21\\\\block_001\\\\eye_videos\\\\LE\\\\pv_57_single_print_01_640x480_60hz_experiment_1_recording_0\\\\pv_57_single_print_01.h264', 'Z:\\\\Nimrod\\\\experiments\\\\PV_57\\\\2024_11_21\\\\block_001\\\\eye_videos\\\\RE\\\\pv_57_single_print_01_640x480_60hz_experiment_1_recording_0\\\\pv_57_single_print_01.h264'] \n",
      " avoiding conversion on files: ['Z:\\\\Nimrod\\\\experiments\\\\PV_57\\\\2024_11_21\\\\block_001\\\\eye_videos\\\\LE\\\\pv_57_single_print_01_640x480_60hz_experiment_1_recording_0\\\\pv_57_single_print_01.mp4', 'Z:\\\\Nimrod\\\\experiments\\\\PV_57\\\\2024_11_21\\\\block_001\\\\eye_videos\\\\LE\\\\pv_57_single_print_01_640x480_60hz_experiment_1_recording_0\\\\pv_57_single_print_01_LE.mp4', 'Z:\\\\Nimrod\\\\experiments\\\\PV_57\\\\2024_11_21\\\\block_001\\\\eye_videos\\\\RE\\\\pv_57_single_print_01_640x480_60hz_experiment_1_recording_0\\\\pv_57_single_print_01.mp4', 'Z:\\\\Nimrod\\\\experiments\\\\PV_57\\\\2024_11_21\\\\block_001\\\\eye_videos\\\\RE\\\\pv_57_single_print_01_640x480_60hz_experiment_1_recording_0\\\\pv_57_single_print_01_RE.mp4']\n",
      "The file Z:\\Nimrod\\experiments\\PV_57\\2024_11_21\\block_001\\eye_videos\\LE\\pv_57_single_print_01_640x480_60hz_experiment_1_recording_0\\pv_57_single_print_01.mp4 already exists, no conversion necessary\n",
      "The file Z:\\Nimrod\\experiments\\PV_57\\2024_11_21\\block_001\\eye_videos\\RE\\pv_57_single_print_01_640x480_60hz_experiment_1_recording_0\\pv_57_single_print_01.mp4 already exists, no conversion necessary\n",
      "Validating videos...\n",
      "something wrong with the inspection, numbers of files does not match:\n",
      "videos_to_inspect = ['Z:\\\\Nimrod\\\\experiments\\\\PV_57\\\\2024_11_21\\\\block_001\\\\eye_videos\\\\LE\\\\pv_57_single_print_01_640x480_60hz_experiment_1_recording_0\\\\pv_57_single_print_01.mp4', 'Z:\\\\Nimrod\\\\experiments\\\\PV_57\\\\2024_11_21\\\\block_001\\\\eye_videos\\\\LE\\\\pv_57_single_print_01_640x480_60hz_experiment_1_recording_0\\\\pv_57_single_print_01_LE.mp4', 'Z:\\\\Nimrod\\\\experiments\\\\PV_57\\\\2024_11_21\\\\block_001\\\\eye_videos\\\\RE\\\\pv_57_single_print_01_640x480_60hz_experiment_1_recording_0\\\\pv_57_single_print_01.mp4', 'Z:\\\\Nimrod\\\\experiments\\\\PV_57\\\\2024_11_21\\\\block_001\\\\eye_videos\\\\RE\\\\pv_57_single_print_01_640x480_60hz_experiment_1_recording_0\\\\pv_57_single_print_01_RE.mp4']\n",
      "timestamps_to_inspect = ['Z:\\\\Nimrod\\\\experiments\\\\PV_57\\\\2024_11_21\\\\block_001\\\\eye_videos\\\\LE\\\\pv_57_single_print_01_640x480_60hz_experiment_1_recording_0\\\\pv_57_single_print_01_timestamps.csv', 'Z:\\\\Nimrod\\\\experiments\\\\PV_57\\\\2024_11_21\\\\block_001\\\\eye_videos\\\\RE\\\\pv_57_single_print_01_640x480_60hz_experiment_1_recording_0\\\\pv_57_single_print_01_timestamps.csv']\n",
      "stamping LE video\n",
      "could not re-stamp the video because the label is already there\n",
      "Getting eye brightness values for block 001...\n",
      "Found an existing file!\n",
      "Eye brightness vectors generation complete.\n"
     ]
    },
    {
     "name": "stderr",
     "output_type": "stream",
     "text": [
      "  1%|          | 353/53581 [00:00<00:15, 3529.99it/s]"
     ]
    },
    {
     "name": "stdout",
     "output_type": "stream",
     "text": [
      "creating blocksync_df\n",
      "Arena video frame rate is 59.17 Hz, within acceptable range. No adjustment needed.\n"
     ]
    },
    {
     "name": "stderr",
     "output_type": "stream",
     "text": [
      "100%|██████████| 53581/53581 [00:13<00:00, 3997.64it/s]\n"
     ]
    },
    {
     "name": "stdout",
     "output_type": "stream",
     "text": [
      "created blocksync_df\n",
      "exported blocksync_df to Z:\\Nimrod\\experiments\\PV_57\\2024_11_21\\block_001\\analysis/ blocksync_df.csv\n",
      "creating Z:\\Nimrod\\experiments\\PV_57\\2024_11_21\\block_001\\analysis/eye_brightness_df.csv\n",
      "handling arena files\n",
      "Arena video Names:\n",
      "front_20241121T155541.mp4\n",
      "left_20241121T155541.mp4\n",
      "right_20241121T155541.mp4\n",
      "top_20241121T155541.mp4\n",
      "running parse_open_ephys_events...\n",
      "block 002 has a parsed events file, reading...\n",
      "handling eye video files\n",
      "converting videos...\n",
      "converting files: ['Z:\\\\Nimrod\\\\experiments\\\\PV_57\\\\2024_11_21\\\\block_002\\\\eye_videos\\\\LE\\\\pv_57_single_print_02_640x480_60hz_experiment_1_recording_0\\\\pv_57_single_print_02.h264', 'Z:\\\\Nimrod\\\\experiments\\\\PV_57\\\\2024_11_21\\\\block_002\\\\eye_videos\\\\RE\\\\pv_57_single_print_02_640x480_60hz_experiment_1_recording_0\\\\pv_57_single_print_02.h264'] \n",
      " avoiding conversion on files: ['Z:\\\\Nimrod\\\\experiments\\\\PV_57\\\\2024_11_21\\\\block_002\\\\eye_videos\\\\LE\\\\pv_57_single_print_02_640x480_60hz_experiment_1_recording_0\\\\pv_57_single_print_02.mp4', 'Z:\\\\Nimrod\\\\experiments\\\\PV_57\\\\2024_11_21\\\\block_002\\\\eye_videos\\\\LE\\\\pv_57_single_print_02_640x480_60hz_experiment_1_recording_0\\\\pv_57_single_print_02_LE.mp4', 'Z:\\\\Nimrod\\\\experiments\\\\PV_57\\\\2024_11_21\\\\block_002\\\\eye_videos\\\\RE\\\\pv_57_single_print_02_640x480_60hz_experiment_1_recording_0\\\\pv_57_single_print_02.mp4', 'Z:\\\\Nimrod\\\\experiments\\\\PV_57\\\\2024_11_21\\\\block_002\\\\eye_videos\\\\RE\\\\pv_57_single_print_02_640x480_60hz_experiment_1_recording_0\\\\pv_57_single_print_02_RE.mp4']\n",
      "The file Z:\\Nimrod\\experiments\\PV_57\\2024_11_21\\block_002\\eye_videos\\LE\\pv_57_single_print_02_640x480_60hz_experiment_1_recording_0\\pv_57_single_print_02.mp4 already exists, no conversion necessary\n",
      "The file Z:\\Nimrod\\experiments\\PV_57\\2024_11_21\\block_002\\eye_videos\\RE\\pv_57_single_print_02_640x480_60hz_experiment_1_recording_0\\pv_57_single_print_02.mp4 already exists, no conversion necessary\n",
      "Validating videos...\n",
      "something wrong with the inspection, numbers of files does not match:\n",
      "videos_to_inspect = ['Z:\\\\Nimrod\\\\experiments\\\\PV_57\\\\2024_11_21\\\\block_002\\\\eye_videos\\\\LE\\\\pv_57_single_print_02_640x480_60hz_experiment_1_recording_0\\\\pv_57_single_print_02.mp4', 'Z:\\\\Nimrod\\\\experiments\\\\PV_57\\\\2024_11_21\\\\block_002\\\\eye_videos\\\\LE\\\\pv_57_single_print_02_640x480_60hz_experiment_1_recording_0\\\\pv_57_single_print_02_LE.mp4', 'Z:\\\\Nimrod\\\\experiments\\\\PV_57\\\\2024_11_21\\\\block_002\\\\eye_videos\\\\RE\\\\pv_57_single_print_02_640x480_60hz_experiment_1_recording_0\\\\pv_57_single_print_02.mp4', 'Z:\\\\Nimrod\\\\experiments\\\\PV_57\\\\2024_11_21\\\\block_002\\\\eye_videos\\\\RE\\\\pv_57_single_print_02_640x480_60hz_experiment_1_recording_0\\\\pv_57_single_print_02_RE.mp4']\n",
      "timestamps_to_inspect = ['Z:\\\\Nimrod\\\\experiments\\\\PV_57\\\\2024_11_21\\\\block_002\\\\eye_videos\\\\LE\\\\pv_57_single_print_02_640x480_60hz_experiment_1_recording_0\\\\pv_57_single_print_02_timestamps.csv', 'Z:\\\\Nimrod\\\\experiments\\\\PV_57\\\\2024_11_21\\\\block_002\\\\eye_videos\\\\RE\\\\pv_57_single_print_02_640x480_60hz_experiment_1_recording_0\\\\pv_57_single_print_02_timestamps.csv']\n",
      "stamping LE video\n",
      "could not re-stamp the video because the label is already there\n",
      "Getting eye brightness values for block 002...\n",
      "Found an existing file!\n"
     ]
    },
    {
     "name": "stderr",
     "output_type": "stream",
     "text": [
      "  1%|          | 385/53581 [00:00<00:13, 3847.85it/s]"
     ]
    },
    {
     "name": "stdout",
     "output_type": "stream",
     "text": [
      "Eye brightness vectors generation complete.\n",
      "creating blocksync_df\n",
      "Arena video frame rate is 59.17 Hz, within acceptable range. No adjustment needed.\n"
     ]
    },
    {
     "name": "stderr",
     "output_type": "stream",
     "text": [
      "100%|██████████| 53581/53581 [00:13<00:00, 3994.59it/s]\n"
     ]
    },
    {
     "name": "stdout",
     "output_type": "stream",
     "text": [
      "created blocksync_df\n",
      "exported blocksync_df to Z:\\Nimrod\\experiments\\PV_57\\2024_11_21\\block_002\\analysis/ blocksync_df.csv\n",
      "creating Z:\\Nimrod\\experiments\\PV_57\\2024_11_21\\block_002\\analysis/eye_brightness_df.csv\n",
      "handling arena files\n",
      "Arena video Names:\n",
      "front_20241121T162100.mp4\n",
      "left_20241121T162100.mp4\n",
      "right_20241121T162100.mp4\n",
      "top_20241121T162100.mp4\n",
      "running parse_open_ephys_events...\n",
      "block 003 has a parsed events file, reading...\n",
      "handling eye video files\n",
      "converting videos...\n",
      "converting files: ['Z:\\\\Nimrod\\\\experiments\\\\PV_57\\\\2024_11_21\\\\block_003\\\\eye_videos\\\\LE\\\\pv_57_single_print_03_640x480_60hz_experiment_1_recording_0\\\\pv_57_single_print_03.h264', 'Z:\\\\Nimrod\\\\experiments\\\\PV_57\\\\2024_11_21\\\\block_003\\\\eye_videos\\\\RE\\\\pv_57_single_print_03_640x480_60hz_experiment_1_recording_0\\\\pv_57_single_print_03.h264'] \n",
      " avoiding conversion on files: ['Z:\\\\Nimrod\\\\experiments\\\\PV_57\\\\2024_11_21\\\\block_003\\\\eye_videos\\\\LE\\\\pv_57_single_print_03_640x480_60hz_experiment_1_recording_0\\\\pv_57_single_print_03.mp4', 'Z:\\\\Nimrod\\\\experiments\\\\PV_57\\\\2024_11_21\\\\block_003\\\\eye_videos\\\\LE\\\\pv_57_single_print_03_640x480_60hz_experiment_1_recording_0\\\\pv_57_single_print_03_LE.mp4', 'Z:\\\\Nimrod\\\\experiments\\\\PV_57\\\\2024_11_21\\\\block_003\\\\eye_videos\\\\RE\\\\pv_57_single_print_03_640x480_60hz_experiment_1_recording_0\\\\pv_57_single_print_03.mp4', 'Z:\\\\Nimrod\\\\experiments\\\\PV_57\\\\2024_11_21\\\\block_003\\\\eye_videos\\\\RE\\\\pv_57_single_print_03_640x480_60hz_experiment_1_recording_0\\\\pv_57_single_print_03_RE.mp4']\n",
      "The file Z:\\Nimrod\\experiments\\PV_57\\2024_11_21\\block_003\\eye_videos\\LE\\pv_57_single_print_03_640x480_60hz_experiment_1_recording_0\\pv_57_single_print_03.mp4 already exists, no conversion necessary\n",
      "The file Z:\\Nimrod\\experiments\\PV_57\\2024_11_21\\block_003\\eye_videos\\RE\\pv_57_single_print_03_640x480_60hz_experiment_1_recording_0\\pv_57_single_print_03.mp4 already exists, no conversion necessary\n",
      "Validating videos...\n"
     ]
    },
    {
     "name": "stderr",
     "output_type": "stream",
     "text": [
      "  1%|          | 367/53581 [00:00<00:14, 3662.22it/s]"
     ]
    },
    {
     "name": "stdout",
     "output_type": "stream",
     "text": [
      "something wrong with the inspection, numbers of files does not match:\n",
      "videos_to_inspect = ['Z:\\\\Nimrod\\\\experiments\\\\PV_57\\\\2024_11_21\\\\block_003\\\\eye_videos\\\\LE\\\\pv_57_single_print_03_640x480_60hz_experiment_1_recording_0\\\\pv_57_single_print_03.mp4', 'Z:\\\\Nimrod\\\\experiments\\\\PV_57\\\\2024_11_21\\\\block_003\\\\eye_videos\\\\LE\\\\pv_57_single_print_03_640x480_60hz_experiment_1_recording_0\\\\pv_57_single_print_03_LE.mp4', 'Z:\\\\Nimrod\\\\experiments\\\\PV_57\\\\2024_11_21\\\\block_003\\\\eye_videos\\\\RE\\\\pv_57_single_print_03_640x480_60hz_experiment_1_recording_0\\\\pv_57_single_print_03.mp4', 'Z:\\\\Nimrod\\\\experiments\\\\PV_57\\\\2024_11_21\\\\block_003\\\\eye_videos\\\\RE\\\\pv_57_single_print_03_640x480_60hz_experiment_1_recording_0\\\\pv_57_single_print_03_RE.mp4']\n",
      "timestamps_to_inspect = ['Z:\\\\Nimrod\\\\experiments\\\\PV_57\\\\2024_11_21\\\\block_003\\\\eye_videos\\\\LE\\\\pv_57_single_print_03_640x480_60hz_experiment_1_recording_0\\\\pv_57_single_print_03_timestamps.csv', 'Z:\\\\Nimrod\\\\experiments\\\\PV_57\\\\2024_11_21\\\\block_003\\\\eye_videos\\\\RE\\\\pv_57_single_print_03_640x480_60hz_experiment_1_recording_0\\\\pv_57_single_print_03_timestamps.csv']\n",
      "stamping LE video\n",
      "could not re-stamp the video because the label is already there\n",
      "Getting eye brightness values for block 003...\n",
      "Found an existing file!\n",
      "Eye brightness vectors generation complete.\n",
      "creating blocksync_df\n",
      "Arena video frame rate is 59.17 Hz, within acceptable range. No adjustment needed.\n"
     ]
    },
    {
     "name": "stderr",
     "output_type": "stream",
     "text": [
      "100%|██████████| 53581/53581 [00:13<00:00, 3909.72it/s]\n"
     ]
    },
    {
     "name": "stdout",
     "output_type": "stream",
     "text": [
      "created blocksync_df\n",
      "exported blocksync_df to Z:\\Nimrod\\experiments\\PV_57\\2024_11_21\\block_003\\analysis/ blocksync_df.csv\n",
      "creating Z:\\Nimrod\\experiments\\PV_57\\2024_11_21\\block_003\\analysis/eye_brightness_df.csv\n",
      "handling arena files\n",
      "Arena video Names:\n",
      "front_20241121T163405.mp4\n",
      "left_20241121T163405.mp4\n",
      "right_20241121T163405.mp4\n",
      "top_20241121T163405.mp4\n",
      "running parse_open_ephys_events...\n",
      "block 004 has a parsed events file, reading...\n"
     ]
    },
    {
     "name": "stderr",
     "output_type": "stream",
     "text": [
      "  0%|          | 0/53581 [00:00<?, ?it/s]"
     ]
    },
    {
     "name": "stdout",
     "output_type": "stream",
     "text": [
      "handling eye video files\n",
      "converting videos...\n",
      "converting files: ['Z:\\\\Nimrod\\\\experiments\\\\PV_57\\\\2024_11_21\\\\block_004\\\\eye_videos\\\\LE\\\\pv_57_single_print_04_640x480_60hz_experiment_1_recording_0\\\\pv_57_single_print_04.h264', 'Z:\\\\Nimrod\\\\experiments\\\\PV_57\\\\2024_11_21\\\\block_004\\\\eye_videos\\\\RE\\\\pv_57_single_print_04_640x480_60hz_experiment_1_recording_0\\\\pv_57_single_print_04.h264'] \n",
      " avoiding conversion on files: ['Z:\\\\Nimrod\\\\experiments\\\\PV_57\\\\2024_11_21\\\\block_004\\\\eye_videos\\\\LE\\\\pv_57_single_print_04_640x480_60hz_experiment_1_recording_0\\\\pv_57_single_print_04.mp4', 'Z:\\\\Nimrod\\\\experiments\\\\PV_57\\\\2024_11_21\\\\block_004\\\\eye_videos\\\\LE\\\\pv_57_single_print_04_640x480_60hz_experiment_1_recording_0\\\\pv_57_single_print_04_LE.mp4', 'Z:\\\\Nimrod\\\\experiments\\\\PV_57\\\\2024_11_21\\\\block_004\\\\eye_videos\\\\RE\\\\pv_57_single_print_04_640x480_60hz_experiment_1_recording_0\\\\pv_57_single_print_04.mp4', 'Z:\\\\Nimrod\\\\experiments\\\\PV_57\\\\2024_11_21\\\\block_004\\\\eye_videos\\\\RE\\\\pv_57_single_print_04_640x480_60hz_experiment_1_recording_0\\\\pv_57_single_print_04_RE.mp4']\n",
      "The file Z:\\Nimrod\\experiments\\PV_57\\2024_11_21\\block_004\\eye_videos\\LE\\pv_57_single_print_04_640x480_60hz_experiment_1_recording_0\\pv_57_single_print_04.mp4 already exists, no conversion necessary\n",
      "The file Z:\\Nimrod\\experiments\\PV_57\\2024_11_21\\block_004\\eye_videos\\RE\\pv_57_single_print_04_640x480_60hz_experiment_1_recording_0\\pv_57_single_print_04.mp4 already exists, no conversion necessary\n",
      "Validating videos...\n",
      "something wrong with the inspection, numbers of files does not match:\n",
      "videos_to_inspect = ['Z:\\\\Nimrod\\\\experiments\\\\PV_57\\\\2024_11_21\\\\block_004\\\\eye_videos\\\\LE\\\\pv_57_single_print_04_640x480_60hz_experiment_1_recording_0\\\\pv_57_single_print_04.mp4', 'Z:\\\\Nimrod\\\\experiments\\\\PV_57\\\\2024_11_21\\\\block_004\\\\eye_videos\\\\LE\\\\pv_57_single_print_04_640x480_60hz_experiment_1_recording_0\\\\pv_57_single_print_04_LE.mp4', 'Z:\\\\Nimrod\\\\experiments\\\\PV_57\\\\2024_11_21\\\\block_004\\\\eye_videos\\\\RE\\\\pv_57_single_print_04_640x480_60hz_experiment_1_recording_0\\\\pv_57_single_print_04.mp4', 'Z:\\\\Nimrod\\\\experiments\\\\PV_57\\\\2024_11_21\\\\block_004\\\\eye_videos\\\\RE\\\\pv_57_single_print_04_640x480_60hz_experiment_1_recording_0\\\\pv_57_single_print_04_RE.mp4']\n",
      "timestamps_to_inspect = ['Z:\\\\Nimrod\\\\experiments\\\\PV_57\\\\2024_11_21\\\\block_004\\\\eye_videos\\\\LE\\\\pv_57_single_print_04_640x480_60hz_experiment_1_recording_0\\\\pv_57_single_print_04_timestamps.csv', 'Z:\\\\Nimrod\\\\experiments\\\\PV_57\\\\2024_11_21\\\\block_004\\\\eye_videos\\\\RE\\\\pv_57_single_print_04_640x480_60hz_experiment_1_recording_0\\\\pv_57_single_print_04_timestamps.csv']\n",
      "stamping LE video\n",
      "could not re-stamp the video because the label is already there\n",
      "Getting eye brightness values for block 004...\n",
      "Found an existing file!\n",
      "Eye brightness vectors generation complete.\n",
      "creating blocksync_df\n",
      "Arena video frame rate is 59.17 Hz, within acceptable range. No adjustment needed.\n"
     ]
    },
    {
     "name": "stderr",
     "output_type": "stream",
     "text": [
      "100%|██████████| 53581/53581 [00:13<00:00, 3947.17it/s]\n"
     ]
    },
    {
     "name": "stdout",
     "output_type": "stream",
     "text": [
      "created blocksync_df\n",
      "exported blocksync_df to Z:\\Nimrod\\experiments\\PV_57\\2024_11_21\\block_004\\analysis/ blocksync_df.csv\n",
      "creating Z:\\Nimrod\\experiments\\PV_57\\2024_11_21\\block_004\\analysis/eye_brightness_df.csv\n",
      "handling arena files\n",
      "Arena video Names:\n",
      "front_20241125T150007.mp4\n",
      "left_20241125T150007.mp4\n",
      "right_20241125T150007.mp4\n",
      "top_20241125T150007.mp4\n",
      "running parse_open_ephys_events...\n",
      "block 005 has a parsed events file, reading...\n",
      "handling eye video files\n",
      "converting videos...\n",
      "converting files: ['Z:\\\\Nimrod\\\\experiments\\\\PV_57\\\\2024_11_25\\\\block_005\\\\eye_videos\\\\LE\\\\pv_57_single_print_d2_01_640x480_60hz_experiment_1_recording_0\\\\pv_57_single_print_d2_01.h264', 'Z:\\\\Nimrod\\\\experiments\\\\PV_57\\\\2024_11_25\\\\block_005\\\\eye_videos\\\\RE\\\\pv_57_single_print_d2_01_640x480_60hz_experiment_1_recording_0\\\\pv_57_single_print_d2_01.h264'] \n",
      " avoiding conversion on files: ['Z:\\\\Nimrod\\\\experiments\\\\PV_57\\\\2024_11_25\\\\block_005\\\\eye_videos\\\\LE\\\\pv_57_single_print_d2_01_640x480_60hz_experiment_1_recording_0\\\\pv_57_single_print_d2_01.mp4', 'Z:\\\\Nimrod\\\\experiments\\\\PV_57\\\\2024_11_25\\\\block_005\\\\eye_videos\\\\LE\\\\pv_57_single_print_d2_01_640x480_60hz_experiment_1_recording_0\\\\pv_57_single_print_d2_01_LE.mp4', 'Z:\\\\Nimrod\\\\experiments\\\\PV_57\\\\2024_11_25\\\\block_005\\\\eye_videos\\\\RE\\\\pv_57_single_print_d2_01_640x480_60hz_experiment_1_recording_0\\\\pv_57_single_print_d2_01.mp4', 'Z:\\\\Nimrod\\\\experiments\\\\PV_57\\\\2024_11_25\\\\block_005\\\\eye_videos\\\\RE\\\\pv_57_single_print_d2_01_640x480_60hz_experiment_1_recording_0\\\\pv_57_single_print_d2_01_RE.mp4']\n",
      "The file Z:\\Nimrod\\experiments\\PV_57\\2024_11_25\\block_005\\eye_videos\\LE\\pv_57_single_print_d2_01_640x480_60hz_experiment_1_recording_0\\pv_57_single_print_d2_01.mp4 already exists, no conversion necessary\n",
      "The file Z:\\Nimrod\\experiments\\PV_57\\2024_11_25\\block_005\\eye_videos\\RE\\pv_57_single_print_d2_01_640x480_60hz_experiment_1_recording_0\\pv_57_single_print_d2_01.mp4 already exists, no conversion necessary\n",
      "Validating videos...\n",
      "something wrong with the inspection, numbers of files does not match:\n",
      "videos_to_inspect = ['Z:\\\\Nimrod\\\\experiments\\\\PV_57\\\\2024_11_25\\\\block_005\\\\eye_videos\\\\LE\\\\pv_57_single_print_d2_01_640x480_60hz_experiment_1_recording_0\\\\pv_57_single_print_d2_01.mp4', 'Z:\\\\Nimrod\\\\experiments\\\\PV_57\\\\2024_11_25\\\\block_005\\\\eye_videos\\\\LE\\\\pv_57_single_print_d2_01_640x480_60hz_experiment_1_recording_0\\\\pv_57_single_print_d2_01_LE.mp4', 'Z:\\\\Nimrod\\\\experiments\\\\PV_57\\\\2024_11_25\\\\block_005\\\\eye_videos\\\\RE\\\\pv_57_single_print_d2_01_640x480_60hz_experiment_1_recording_0\\\\pv_57_single_print_d2_01.mp4', 'Z:\\\\Nimrod\\\\experiments\\\\PV_57\\\\2024_11_25\\\\block_005\\\\eye_videos\\\\RE\\\\pv_57_single_print_d2_01_640x480_60hz_experiment_1_recording_0\\\\pv_57_single_print_d2_01_RE.mp4']\n",
      "timestamps_to_inspect = ['Z:\\\\Nimrod\\\\experiments\\\\PV_57\\\\2024_11_25\\\\block_005\\\\eye_videos\\\\LE\\\\pv_57_single_print_d2_01_640x480_60hz_experiment_1_recording_0\\\\pv_57_single_print_d2_01_timestamps.csv', 'Z:\\\\Nimrod\\\\experiments\\\\PV_57\\\\2024_11_25\\\\block_005\\\\eye_videos\\\\RE\\\\pv_57_single_print_d2_01_640x480_60hz_experiment_1_recording_0\\\\pv_57_single_print_d2_01_timestamps.csv']\n"
     ]
    },
    {
     "name": "stderr",
     "output_type": "stream",
     "text": [
      "  1%|          | 389/53581 [00:00<00:13, 3877.80it/s]"
     ]
    },
    {
     "name": "stdout",
     "output_type": "stream",
     "text": [
      "stamping LE video\n",
      "could not re-stamp the video because the label is already there\n",
      "Getting eye brightness values for block 005...\n",
      "Found an existing file!\n",
      "Eye brightness vectors generation complete.\n",
      "creating blocksync_df\n",
      "Arena video frame rate is 59.17 Hz, within acceptable range. No adjustment needed.\n"
     ]
    },
    {
     "name": "stderr",
     "output_type": "stream",
     "text": [
      "100%|██████████| 53581/53581 [00:13<00:00, 3914.21it/s]\n"
     ]
    },
    {
     "name": "stdout",
     "output_type": "stream",
     "text": [
      "created blocksync_df\n",
      "exported blocksync_df to Z:\\Nimrod\\experiments\\PV_57\\2024_11_25\\block_005\\analysis/ blocksync_df.csv\n",
      "creating Z:\\Nimrod\\experiments\\PV_57\\2024_11_25\\block_005\\analysis/eye_brightness_df.csv\n",
      "handling arena files\n",
      "Arena video Names:\n",
      "front_20241125T151238.mp4\n",
      "left_20241125T151238.mp4\n",
      "right_20241125T151238.mp4\n",
      "top_20241125T151238.mp4\n",
      "running parse_open_ephys_events...\n",
      "block 006 has a parsed events file, reading...\n",
      "handling eye video files\n",
      "converting videos...\n",
      "converting files: ['Z:\\\\Nimrod\\\\experiments\\\\PV_57\\\\2024_11_25\\\\block_006\\\\eye_videos\\\\LE\\\\pv_57_single_print_d2_02_640x480_60hz_experiment_1_recording_0\\\\pv_57_single_print_d2_02.h264', 'Z:\\\\Nimrod\\\\experiments\\\\PV_57\\\\2024_11_25\\\\block_006\\\\eye_videos\\\\RE\\\\pv_57_single_print_d2_02_640x480_60hz_experiment_1_recording_0\\\\pv_57_single_print_d2_02.h264'] \n",
      " avoiding conversion on files: ['Z:\\\\Nimrod\\\\experiments\\\\PV_57\\\\2024_11_25\\\\block_006\\\\eye_videos\\\\LE\\\\pv_57_single_print_d2_02_640x480_60hz_experiment_1_recording_0\\\\pv_57_single_print_d2_02.mp4', 'Z:\\\\Nimrod\\\\experiments\\\\PV_57\\\\2024_11_25\\\\block_006\\\\eye_videos\\\\LE\\\\pv_57_single_print_d2_02_640x480_60hz_experiment_1_recording_0\\\\pv_57_single_print_d2_02_LE.mp4', 'Z:\\\\Nimrod\\\\experiments\\\\PV_57\\\\2024_11_25\\\\block_006\\\\eye_videos\\\\RE\\\\pv_57_single_print_d2_02_640x480_60hz_experiment_1_recording_0\\\\pv_57_single_print_d2_02_RE.mp4']\n",
      "The file Z:\\Nimrod\\experiments\\PV_57\\2024_11_25\\block_006\\eye_videos\\LE\\pv_57_single_print_d2_02_640x480_60hz_experiment_1_recording_0\\pv_57_single_print_d2_02.mp4 already exists, no conversion necessary\n",
      "Z:\\Nimrod\\experiments\\PV_57\\2024_11_25\\block_006\\eye_videos\\RE\\pv_57_single_print_d2_02_640x480_60hz_experiment_1_recording_0\\pv_57_single_print_d2_02.h264 converted \n",
      "Validating videos...\n",
      "something wrong with the inspection, numbers of files does not match:\n",
      "videos_to_inspect = ['Z:\\\\Nimrod\\\\experiments\\\\PV_57\\\\2024_11_25\\\\block_006\\\\eye_videos\\\\LE\\\\pv_57_single_print_d2_02_640x480_60hz_experiment_1_recording_0\\\\pv_57_single_print_d2_02.mp4', 'Z:\\\\Nimrod\\\\experiments\\\\PV_57\\\\2024_11_25\\\\block_006\\\\eye_videos\\\\LE\\\\pv_57_single_print_d2_02_640x480_60hz_experiment_1_recording_0\\\\pv_57_single_print_d2_02_LE.mp4', 'Z:\\\\Nimrod\\\\experiments\\\\PV_57\\\\2024_11_25\\\\block_006\\\\eye_videos\\\\RE\\\\pv_57_single_print_d2_02_640x480_60hz_experiment_1_recording_0\\\\pv_57_single_print_d2_02.mp4', 'Z:\\\\Nimrod\\\\experiments\\\\PV_57\\\\2024_11_25\\\\block_006\\\\eye_videos\\\\RE\\\\pv_57_single_print_d2_02_640x480_60hz_experiment_1_recording_0\\\\pv_57_single_print_d2_02_RE.mp4']\n",
      "timestamps_to_inspect = ['Z:\\\\Nimrod\\\\experiments\\\\PV_57\\\\2024_11_25\\\\block_006\\\\eye_videos\\\\LE\\\\pv_57_single_print_d2_02_640x480_60hz_experiment_1_recording_0\\\\pv_57_single_print_d2_02_timestamps.csv', 'Z:\\\\Nimrod\\\\experiments\\\\PV_57\\\\2024_11_25\\\\block_006\\\\eye_videos\\\\RE\\\\pv_57_single_print_d2_02_640x480_60hz_experiment_1_recording_0\\\\pv_57_single_print_d2_02_timestamps.csv']\n",
      "stamping LE video\n",
      "could not re-stamp the video because the label is already there\n",
      "stamping LE video\n",
      "Getting eye brightness values for block 006...\n"
     ]
    },
    {
     "name": "stderr",
     "output_type": "stream",
     "text": [
      "Processing Z:\\Nimrod\\experiments\\PV_57\\2024_11_25\\block_006\\eye_videos\\LE\\pv_57_single_print_d2_02_640x480_60hz_experiment_1_recording_0\\pv_57_single_print_d2_02.mp4:   0%|          | 168/42603 [00:00<00:25, 1671.22frame/s]"
     ]
    },
    {
     "name": "stdout",
     "output_type": "stream",
     "text": [
      "Working on video Z:\\Nimrod\\experiments\\PV_57\\2024_11_25\\block_006\\eye_videos\\LE\\pv_57_single_print_d2_02_640x480_60hz_experiment_1_recording_0\\pv_57_single_print_d2_02.mp4\n"
     ]
    },
    {
     "name": "stderr",
     "output_type": "stream",
     "text": [
      "Processing Z:\\Nimrod\\experiments\\PV_57\\2024_11_25\\block_006\\eye_videos\\LE\\pv_57_single_print_d2_02_640x480_60hz_experiment_1_recording_0\\pv_57_single_print_d2_02.mp4: 100%|██████████| 42603/42603 [00:21<00:00, 2020.62frame/s]\n",
      "Processing Z:\\Nimrod\\experiments\\PV_57\\2024_11_25\\block_006\\eye_videos\\RE\\pv_57_single_print_d2_02_640x480_60hz_experiment_1_recording_0\\pv_57_single_print_d2_02.mp4:   0%|          | 180/42609 [00:00<00:23, 1790.38frame/s]"
     ]
    },
    {
     "name": "stdout",
     "output_type": "stream",
     "text": [
      "Finished video Z:\\Nimrod\\experiments\\PV_57\\2024_11_25\\block_006\\eye_videos\\LE\\pv_57_single_print_d2_02_640x480_60hz_experiment_1_recording_0\\pv_57_single_print_d2_02.mp4, processed 42603 frames\n",
      "Working on video Z:\\Nimrod\\experiments\\PV_57\\2024_11_25\\block_006\\eye_videos\\RE\\pv_57_single_print_d2_02_640x480_60hz_experiment_1_recording_0\\pv_57_single_print_d2_02.mp4\n"
     ]
    },
    {
     "name": "stderr",
     "output_type": "stream",
     "text": [
      "Processing Z:\\Nimrod\\experiments\\PV_57\\2024_11_25\\block_006\\eye_videos\\RE\\pv_57_single_print_d2_02_640x480_60hz_experiment_1_recording_0\\pv_57_single_print_d2_02.mp4: 100%|██████████| 42609/42609 [00:23<00:00, 1844.55frame/s]\n",
      "  0%|          | 0/53581 [00:00<?, ?it/s]"
     ]
    },
    {
     "name": "stdout",
     "output_type": "stream",
     "text": [
      "Finished video Z:\\Nimrod\\experiments\\PV_57\\2024_11_25\\block_006\\eye_videos\\RE\\pv_57_single_print_d2_02_640x480_60hz_experiment_1_recording_0\\pv_57_single_print_d2_02.mp4, processed 42609 frames\n",
      "Eye brightness vectors generation complete.\n",
      "creating blocksync_df\n",
      "Arena video frame rate is 59.17 Hz, within acceptable range. No adjustment needed.\n"
     ]
    },
    {
     "name": "stderr",
     "output_type": "stream",
     "text": [
      "100%|██████████| 53581/53581 [00:13<00:00, 3987.82it/s]\n"
     ]
    },
    {
     "name": "stdout",
     "output_type": "stream",
     "text": [
      "created blocksync_df\n",
      "exported blocksync_df to Z:\\Nimrod\\experiments\\PV_57\\2024_11_25\\block_006\\analysis/ blocksync_df.csv\n",
      "creating Z:\\Nimrod\\experiments\\PV_57\\2024_11_25\\block_006\\analysis/eye_brightness_df.csv\n",
      "handling arena files\n",
      "Arena video Names:\n",
      "front_20241125T152924.mp4\n",
      "left_20241125T152924.mp4\n",
      "right_20241125T152924.mp4\n",
      "top_20241125T152924.mp4\n",
      "running parse_open_ephys_events...\n",
      "block 007 has a parsed events file, reading...\n",
      "handling eye video files\n",
      "converting videos...\n"
     ]
    },
    {
     "name": "stderr",
     "output_type": "stream",
     "text": [
      "  0%|          | 0/53581 [00:00<?, ?it/s]"
     ]
    },
    {
     "name": "stdout",
     "output_type": "stream",
     "text": [
      "converting files: ['Z:\\\\Nimrod\\\\experiments\\\\PV_57\\\\2024_11_25\\\\block_007\\\\eye_videos\\\\LE\\\\pv_57_single_print_d2_03_640x480_60hz_experiment_1_recording_0\\\\pv_57_single_print_d2_03.h264', 'Z:\\\\Nimrod\\\\experiments\\\\PV_57\\\\2024_11_25\\\\block_007\\\\eye_videos\\\\RE\\\\pv_57_single_print_d2_03_640x480_60hz_experiment_1_recording_0\\\\pv_57_single_print_d2_03.h264'] \n",
      " avoiding conversion on files: ['Z:\\\\Nimrod\\\\experiments\\\\PV_57\\\\2024_11_25\\\\block_007\\\\eye_videos\\\\LE\\\\pv_57_single_print_d2_03_640x480_60hz_experiment_1_recording_0\\\\pv_57_single_print_d2_03.mp4', 'Z:\\\\Nimrod\\\\experiments\\\\PV_57\\\\2024_11_25\\\\block_007\\\\eye_videos\\\\LE\\\\pv_57_single_print_d2_03_640x480_60hz_experiment_1_recording_0\\\\pv_57_single_print_d2_03_LE.mp4', 'Z:\\\\Nimrod\\\\experiments\\\\PV_57\\\\2024_11_25\\\\block_007\\\\eye_videos\\\\RE\\\\pv_57_single_print_d2_03_640x480_60hz_experiment_1_recording_0\\\\pv_57_single_print_d2_03.mp4', 'Z:\\\\Nimrod\\\\experiments\\\\PV_57\\\\2024_11_25\\\\block_007\\\\eye_videos\\\\RE\\\\pv_57_single_print_d2_03_640x480_60hz_experiment_1_recording_0\\\\pv_57_single_print_d2_03_RE.mp4']\n",
      "The file Z:\\Nimrod\\experiments\\PV_57\\2024_11_25\\block_007\\eye_videos\\LE\\pv_57_single_print_d2_03_640x480_60hz_experiment_1_recording_0\\pv_57_single_print_d2_03.mp4 already exists, no conversion necessary\n",
      "The file Z:\\Nimrod\\experiments\\PV_57\\2024_11_25\\block_007\\eye_videos\\RE\\pv_57_single_print_d2_03_640x480_60hz_experiment_1_recording_0\\pv_57_single_print_d2_03.mp4 already exists, no conversion necessary\n",
      "Validating videos...\n",
      "something wrong with the inspection, numbers of files does not match:\n",
      "videos_to_inspect = ['Z:\\\\Nimrod\\\\experiments\\\\PV_57\\\\2024_11_25\\\\block_007\\\\eye_videos\\\\LE\\\\pv_57_single_print_d2_03_640x480_60hz_experiment_1_recording_0\\\\pv_57_single_print_d2_03.mp4', 'Z:\\\\Nimrod\\\\experiments\\\\PV_57\\\\2024_11_25\\\\block_007\\\\eye_videos\\\\LE\\\\pv_57_single_print_d2_03_640x480_60hz_experiment_1_recording_0\\\\pv_57_single_print_d2_03_LE.mp4', 'Z:\\\\Nimrod\\\\experiments\\\\PV_57\\\\2024_11_25\\\\block_007\\\\eye_videos\\\\RE\\\\pv_57_single_print_d2_03_640x480_60hz_experiment_1_recording_0\\\\pv_57_single_print_d2_03.mp4', 'Z:\\\\Nimrod\\\\experiments\\\\PV_57\\\\2024_11_25\\\\block_007\\\\eye_videos\\\\RE\\\\pv_57_single_print_d2_03_640x480_60hz_experiment_1_recording_0\\\\pv_57_single_print_d2_03_RE.mp4']\n",
      "timestamps_to_inspect = ['Z:\\\\Nimrod\\\\experiments\\\\PV_57\\\\2024_11_25\\\\block_007\\\\eye_videos\\\\LE\\\\pv_57_single_print_d2_03_640x480_60hz_experiment_1_recording_0\\\\pv_57_single_print_d2_03_timestamps.csv', 'Z:\\\\Nimrod\\\\experiments\\\\PV_57\\\\2024_11_25\\\\block_007\\\\eye_videos\\\\RE\\\\pv_57_single_print_d2_03_640x480_60hz_experiment_1_recording_0\\\\pv_57_single_print_d2_03_timestamps.csv']\n",
      "stamping LE video\n",
      "could not re-stamp the video because the label is already there\n",
      "Getting eye brightness values for block 007...\n",
      "Found an existing file!\n",
      "Eye brightness vectors generation complete.\n",
      "creating blocksync_df\n",
      "Arena video frame rate is 59.17 Hz, within acceptable range. No adjustment needed.\n"
     ]
    },
    {
     "name": "stderr",
     "output_type": "stream",
     "text": [
      "100%|██████████| 53581/53581 [00:13<00:00, 4053.33it/s]\n"
     ]
    },
    {
     "name": "stdout",
     "output_type": "stream",
     "text": [
      "created blocksync_df\n",
      "exported blocksync_df to Z:\\Nimrod\\experiments\\PV_57\\2024_11_25\\block_007\\analysis/ blocksync_df.csv\n",
      "creating Z:\\Nimrod\\experiments\\PV_57\\2024_11_25\\block_007\\analysis/eye_brightness_df.csv\n",
      "handling arena files\n",
      "Arena video Names:\n",
      "front_20241125T160752.mp4\n",
      "left_20241125T160752.mp4\n",
      "right_20241125T160752.mp4\n",
      "top_20241125T160752.mp4\n",
      "running parse_open_ephys_events...\n",
      "block 008 has a parsed events file, reading...\n",
      "handling eye video files\n",
      "converting videos...\n",
      "converting files: ['Z:\\\\Nimrod\\\\experiments\\\\PV_57\\\\2024_11_25\\\\block_008\\\\eye_videos\\\\LE\\\\pv_57_single_print_d2_05_640x480_60hz_experiment_1_recording_0\\\\pv_57_single_print_d2_05.h264', 'Z:\\\\Nimrod\\\\experiments\\\\PV_57\\\\2024_11_25\\\\block_008\\\\eye_videos\\\\RE\\\\pv_57_single_print_d2_05_640x480_60hz_experiment_1_recording_0\\\\pv_57_single_print_d2_05.h264'] \n",
      " avoiding conversion on files: ['Z:\\\\Nimrod\\\\experiments\\\\PV_57\\\\2024_11_25\\\\block_008\\\\eye_videos\\\\LE\\\\pv_57_single_print_d2_05_640x480_60hz_experiment_1_recording_0\\\\pv_57_single_print_d2_05.mp4', 'Z:\\\\Nimrod\\\\experiments\\\\PV_57\\\\2024_11_25\\\\block_008\\\\eye_videos\\\\LE\\\\pv_57_single_print_d2_05_640x480_60hz_experiment_1_recording_0\\\\pv_57_single_print_d2_05_LE.mp4', 'Z:\\\\Nimrod\\\\experiments\\\\PV_57\\\\2024_11_25\\\\block_008\\\\eye_videos\\\\RE\\\\pv_57_single_print_d2_05_640x480_60hz_experiment_1_recording_0\\\\pv_57_single_print_d2_05.mp4', 'Z:\\\\Nimrod\\\\experiments\\\\PV_57\\\\2024_11_25\\\\block_008\\\\eye_videos\\\\RE\\\\pv_57_single_print_d2_05_640x480_60hz_experiment_1_recording_0\\\\pv_57_single_print_d2_05_RE.mp4']\n",
      "The file Z:\\Nimrod\\experiments\\PV_57\\2024_11_25\\block_008\\eye_videos\\LE\\pv_57_single_print_d2_05_640x480_60hz_experiment_1_recording_0\\pv_57_single_print_d2_05.mp4 already exists, no conversion necessary\n",
      "The file Z:\\Nimrod\\experiments\\PV_57\\2024_11_25\\block_008\\eye_videos\\RE\\pv_57_single_print_d2_05_640x480_60hz_experiment_1_recording_0\\pv_57_single_print_d2_05.mp4 already exists, no conversion necessary\n",
      "Validating videos...\n",
      "something wrong with the inspection, numbers of files does not match:\n",
      "videos_to_inspect = ['Z:\\\\Nimrod\\\\experiments\\\\PV_57\\\\2024_11_25\\\\block_008\\\\eye_videos\\\\LE\\\\pv_57_single_print_d2_05_640x480_60hz_experiment_1_recording_0\\\\pv_57_single_print_d2_05.mp4', 'Z:\\\\Nimrod\\\\experiments\\\\PV_57\\\\2024_11_25\\\\block_008\\\\eye_videos\\\\LE\\\\pv_57_single_print_d2_05_640x480_60hz_experiment_1_recording_0\\\\pv_57_single_print_d2_05_LE.mp4', 'Z:\\\\Nimrod\\\\experiments\\\\PV_57\\\\2024_11_25\\\\block_008\\\\eye_videos\\\\RE\\\\pv_57_single_print_d2_05_640x480_60hz_experiment_1_recording_0\\\\pv_57_single_print_d2_05.mp4', 'Z:\\\\Nimrod\\\\experiments\\\\PV_57\\\\2024_11_25\\\\block_008\\\\eye_videos\\\\RE\\\\pv_57_single_print_d2_05_640x480_60hz_experiment_1_recording_0\\\\pv_57_single_print_d2_05_RE.mp4']\n",
      "timestamps_to_inspect = ['Z:\\\\Nimrod\\\\experiments\\\\PV_57\\\\2024_11_25\\\\block_008\\\\eye_videos\\\\LE\\\\pv_57_single_print_d2_05_640x480_60hz_experiment_1_recording_0\\\\pv_57_single_print_d2_05_timestamps.csv', 'Z:\\\\Nimrod\\\\experiments\\\\PV_57\\\\2024_11_25\\\\block_008\\\\eye_videos\\\\RE\\\\pv_57_single_print_d2_05_640x480_60hz_experiment_1_recording_0\\\\pv_57_single_print_d2_05_timestamps.csv']\n",
      "stamping LE video\n",
      "could not re-stamp the video because the label is already there\n"
     ]
    },
    {
     "name": "stderr",
     "output_type": "stream",
     "text": [
      "  0%|          | 0/53581 [00:00<?, ?it/s]"
     ]
    },
    {
     "name": "stdout",
     "output_type": "stream",
     "text": [
      "Getting eye brightness values for block 008...\n",
      "Found an existing file!\n",
      "Eye brightness vectors generation complete.\n",
      "creating blocksync_df\n",
      "Arena video frame rate is 59.17 Hz, within acceptable range. No adjustment needed.\n"
     ]
    },
    {
     "name": "stderr",
     "output_type": "stream",
     "text": [
      "100%|██████████| 53581/53581 [00:14<00:00, 3805.18it/s]\n"
     ]
    },
    {
     "name": "stdout",
     "output_type": "stream",
     "text": [
      "created blocksync_df\n",
      "exported blocksync_df to Z:\\Nimrod\\experiments\\PV_57\\2024_11_25\\block_008\\analysis/ blocksync_df.csv\n",
      "creating Z:\\Nimrod\\experiments\\PV_57\\2024_11_25\\block_008\\analysis/eye_brightness_df.csv\n",
      "handling arena files\n",
      "Arena video Names:\n",
      "front_20241125T162606.mp4\n",
      "left_20241125T162606.mp4\n",
      "right_20241125T162606.mp4\n",
      "top_20241125T162606.mp4\n",
      "running parse_open_ephys_events...\n",
      "block 009 has a parsed events file, reading...\n",
      "handling eye video files\n",
      "converting videos...\n",
      "converting files: ['Z:\\\\Nimrod\\\\experiments\\\\PV_57\\\\2024_11_25\\\\block_009\\\\eye_videos\\\\LE\\\\pv_57_single_print_d2_06_640x480_60hz_experiment_1_recording_0\\\\pv_57_single_print_d2_06.h264', 'Z:\\\\Nimrod\\\\experiments\\\\PV_57\\\\2024_11_25\\\\block_009\\\\eye_videos\\\\RE\\\\pv_57_single_print_d2_06_640x480_60hz_experiment_1_recording_0\\\\pv_57_single_print_d2_06.h264'] \n",
      " avoiding conversion on files: ['Z:\\\\Nimrod\\\\experiments\\\\PV_57\\\\2024_11_25\\\\block_009\\\\eye_videos\\\\LE\\\\pv_57_single_print_d2_06_640x480_60hz_experiment_1_recording_0\\\\pv_57_single_print_d2_06.mp4', 'Z:\\\\Nimrod\\\\experiments\\\\PV_57\\\\2024_11_25\\\\block_009\\\\eye_videos\\\\LE\\\\pv_57_single_print_d2_06_640x480_60hz_experiment_1_recording_0\\\\pv_57_single_print_d2_06_LE.mp4', 'Z:\\\\Nimrod\\\\experiments\\\\PV_57\\\\2024_11_25\\\\block_009\\\\eye_videos\\\\RE\\\\pv_57_single_print_d2_06_640x480_60hz_experiment_1_recording_0\\\\pv_57_single_print_d2_06.mp4', 'Z:\\\\Nimrod\\\\experiments\\\\PV_57\\\\2024_11_25\\\\block_009\\\\eye_videos\\\\RE\\\\pv_57_single_print_d2_06_640x480_60hz_experiment_1_recording_0\\\\pv_57_single_print_d2_06_RE.mp4']\n",
      "The file Z:\\Nimrod\\experiments\\PV_57\\2024_11_25\\block_009\\eye_videos\\LE\\pv_57_single_print_d2_06_640x480_60hz_experiment_1_recording_0\\pv_57_single_print_d2_06.mp4 already exists, no conversion necessary\n",
      "The file Z:\\Nimrod\\experiments\\PV_57\\2024_11_25\\block_009\\eye_videos\\RE\\pv_57_single_print_d2_06_640x480_60hz_experiment_1_recording_0\\pv_57_single_print_d2_06.mp4 already exists, no conversion necessary\n",
      "Validating videos...\n",
      "something wrong with the inspection, numbers of files does not match:\n",
      "videos_to_inspect = ['Z:\\\\Nimrod\\\\experiments\\\\PV_57\\\\2024_11_25\\\\block_009\\\\eye_videos\\\\LE\\\\pv_57_single_print_d2_06_640x480_60hz_experiment_1_recording_0\\\\pv_57_single_print_d2_06.mp4', 'Z:\\\\Nimrod\\\\experiments\\\\PV_57\\\\2024_11_25\\\\block_009\\\\eye_videos\\\\LE\\\\pv_57_single_print_d2_06_640x480_60hz_experiment_1_recording_0\\\\pv_57_single_print_d2_06_LE.mp4', 'Z:\\\\Nimrod\\\\experiments\\\\PV_57\\\\2024_11_25\\\\block_009\\\\eye_videos\\\\RE\\\\pv_57_single_print_d2_06_640x480_60hz_experiment_1_recording_0\\\\pv_57_single_print_d2_06.mp4', 'Z:\\\\Nimrod\\\\experiments\\\\PV_57\\\\2024_11_25\\\\block_009\\\\eye_videos\\\\RE\\\\pv_57_single_print_d2_06_640x480_60hz_experiment_1_recording_0\\\\pv_57_single_print_d2_06_RE.mp4']\n",
      "timestamps_to_inspect = ['Z:\\\\Nimrod\\\\experiments\\\\PV_57\\\\2024_11_25\\\\block_009\\\\eye_videos\\\\LE\\\\pv_57_single_print_d2_06_640x480_60hz_experiment_1_recording_0\\\\pv_57_single_print_d2_06_timestamps.csv', 'Z:\\\\Nimrod\\\\experiments\\\\PV_57\\\\2024_11_25\\\\block_009\\\\eye_videos\\\\RE\\\\pv_57_single_print_d2_06_640x480_60hz_experiment_1_recording_0\\\\pv_57_single_print_d2_06_timestamps.csv']\n",
      "stamping LE video\n",
      "could not re-stamp the video because the label is already there\n",
      "Getting eye brightness values for block 009...\n",
      "Found an existing file!\n",
      "Eye brightness vectors generation complete.\n"
     ]
    },
    {
     "name": "stderr",
     "output_type": "stream",
     "text": [
      "  1%|          | 358/53581 [00:00<00:14, 3559.69it/s]"
     ]
    },
    {
     "name": "stdout",
     "output_type": "stream",
     "text": [
      "creating blocksync_df\n",
      "Arena video frame rate is 59.17 Hz, within acceptable range. No adjustment needed.\n"
     ]
    },
    {
     "name": "stderr",
     "output_type": "stream",
     "text": [
      "100%|██████████| 53581/53581 [00:14<00:00, 3810.69it/s]\n"
     ]
    },
    {
     "name": "stdout",
     "output_type": "stream",
     "text": [
      "created blocksync_df\n",
      "exported blocksync_df to Z:\\Nimrod\\experiments\\PV_57\\2024_11_25\\block_009\\analysis/ blocksync_df.csv\n",
      "creating Z:\\Nimrod\\experiments\\PV_57\\2024_11_25\\block_009\\analysis/eye_brightness_df.csv\n",
      "handling arena files\n",
      "Arena video Names:\n",
      "front_20241201T153825.mp4\n",
      "left_20241201T153825.mp4\n",
      "right_20241201T153825.mp4\n",
      "top_20241201T153825.mp4\n",
      "running parse_open_ephys_events...\n",
      "block 010 has a parsed events file, reading...\n"
     ]
    },
    {
     "name": "stderr",
     "output_type": "stream",
     "text": [
      "  0%|          | 0/53581 [00:00<?, ?it/s]"
     ]
    },
    {
     "name": "stdout",
     "output_type": "stream",
     "text": [
      "handling eye video files\n",
      "converting videos...\n",
      "converting files: ['Z:\\\\Nimrod\\\\experiments\\\\PV_57\\\\2024_12_01\\\\block_010\\\\eye_videos\\\\LE\\\\d3__01_640x480_60hz_experiment_1_recording_0\\\\d3__01.h264'] \n",
      " avoiding conversion on files: ['Z:\\\\Nimrod\\\\experiments\\\\PV_57\\\\2024_12_01\\\\block_010\\\\eye_videos\\\\LE\\\\d3__01_640x480_60hz_experiment_1_recording_0\\\\d3__01.mp4', 'Z:\\\\Nimrod\\\\experiments\\\\PV_57\\\\2024_12_01\\\\block_010\\\\eye_videos\\\\LE\\\\d3__01_640x480_60hz_experiment_1_recording_0\\\\d3__01_LE.mp4', 'Z:\\\\Nimrod\\\\experiments\\\\PV_57\\\\2024_12_01\\\\block_010\\\\eye_videos\\\\RE\\\\d3__01_640x480_60hz_experiment_1_recording_0\\\\d3__01_RE.mp4']\n",
      "The file Z:\\Nimrod\\experiments\\PV_57\\2024_12_01\\block_010\\eye_videos\\LE\\d3__01_640x480_60hz_experiment_1_recording_0\\d3__01.mp4 already exists, no conversion necessary\n",
      "Validating videos...\n",
      "something wrong with the inspection, numbers of files does not match:\n",
      "videos_to_inspect = ['Z:\\\\Nimrod\\\\experiments\\\\PV_57\\\\2024_12_01\\\\block_010\\\\eye_videos\\\\LE\\\\d3__01_640x480_60hz_experiment_1_recording_0\\\\d3__01.mp4', 'Z:\\\\Nimrod\\\\experiments\\\\PV_57\\\\2024_12_01\\\\block_010\\\\eye_videos\\\\LE\\\\d3__01_640x480_60hz_experiment_1_recording_0\\\\d3__01_LE.mp4', 'Z:\\\\Nimrod\\\\experiments\\\\PV_57\\\\2024_12_01\\\\block_010\\\\eye_videos\\\\RE\\\\d3__01_640x480_60hz_experiment_1_recording_0\\\\d3__01_RE.mp4']\n",
      "timestamps_to_inspect = ['Z:\\\\Nimrod\\\\experiments\\\\PV_57\\\\2024_12_01\\\\block_010\\\\eye_videos\\\\LE\\\\d3__01_640x480_60hz_experiment_1_recording_0\\\\d3__01_timestamps.csv']\n",
      "stamping LE video\n",
      "could not re-stamp the video because the label is already there\n",
      "Getting eye brightness values for block 010...\n",
      "Found an existing file!\n",
      "Eye brightness vectors generation complete.\n",
      "creating blocksync_df\n",
      "Arena video frame rate is 59.17 Hz, within acceptable range. No adjustment needed.\n"
     ]
    },
    {
     "name": "stderr",
     "output_type": "stream",
     "text": [
      "100%|██████████| 53581/53581 [00:13<00:00, 3837.95it/s]\n"
     ]
    },
    {
     "name": "stdout",
     "output_type": "stream",
     "text": [
      "created blocksync_df\n",
      "exported blocksync_df to Z:\\Nimrod\\experiments\\PV_57\\2024_12_01\\block_010\\analysis/ blocksync_df.csv\n",
      "creating Z:\\Nimrod\\experiments\\PV_57\\2024_12_01\\block_010\\analysis/eye_brightness_df.csv\n",
      "handling arena files\n",
      "Arena video Names:\n",
      "front_20241201T154403.mp4\n",
      "left_20241201T154403.mp4\n",
      "right_20241201T154403.mp4\n",
      "top_20241201T154403.mp4\n",
      "running parse_open_ephys_events...\n",
      "block 011 has a parsed events file, reading...\n",
      "handling eye video files\n",
      "converting videos...\n"
     ]
    },
    {
     "name": "stderr",
     "output_type": "stream",
     "text": [
      "  0%|          | 0/53581 [00:00<?, ?it/s]"
     ]
    },
    {
     "name": "stdout",
     "output_type": "stream",
     "text": [
      "converting files: ['Z:\\\\Nimrod\\\\experiments\\\\PV_57\\\\2024_12_01\\\\block_011\\\\eye_videos\\\\LE\\\\d3__02_640x480_60hz_experiment_1_recording_0\\\\d3__02.h264', 'Z:\\\\Nimrod\\\\experiments\\\\PV_57\\\\2024_12_01\\\\block_011\\\\eye_videos\\\\RE\\\\d3__02_640x480_60hz_experiment_1_recording_0\\\\d3__02.h264'] \n",
      " avoiding conversion on files: ['Z:\\\\Nimrod\\\\experiments\\\\PV_57\\\\2024_12_01\\\\block_011\\\\eye_videos\\\\LE\\\\d3__02_640x480_60hz_experiment_1_recording_0\\\\d3__02.mp4', 'Z:\\\\Nimrod\\\\experiments\\\\PV_57\\\\2024_12_01\\\\block_011\\\\eye_videos\\\\LE\\\\d3__02_640x480_60hz_experiment_1_recording_0\\\\d3__02_LE.mp4', 'Z:\\\\Nimrod\\\\experiments\\\\PV_57\\\\2024_12_01\\\\block_011\\\\eye_videos\\\\RE\\\\d3__02_640x480_60hz_experiment_1_recording_0\\\\d3__02.mp4', 'Z:\\\\Nimrod\\\\experiments\\\\PV_57\\\\2024_12_01\\\\block_011\\\\eye_videos\\\\RE\\\\d3__02_640x480_60hz_experiment_1_recording_0\\\\d3__02_RE.mp4']\n",
      "The file Z:\\Nimrod\\experiments\\PV_57\\2024_12_01\\block_011\\eye_videos\\LE\\d3__02_640x480_60hz_experiment_1_recording_0\\d3__02.mp4 already exists, no conversion necessary\n",
      "The file Z:\\Nimrod\\experiments\\PV_57\\2024_12_01\\block_011\\eye_videos\\RE\\d3__02_640x480_60hz_experiment_1_recording_0\\d3__02.mp4 already exists, no conversion necessary\n",
      "Validating videos...\n",
      "something wrong with the inspection, numbers of files does not match:\n",
      "videos_to_inspect = ['Z:\\\\Nimrod\\\\experiments\\\\PV_57\\\\2024_12_01\\\\block_011\\\\eye_videos\\\\LE\\\\d3__02_640x480_60hz_experiment_1_recording_0\\\\d3__02.mp4', 'Z:\\\\Nimrod\\\\experiments\\\\PV_57\\\\2024_12_01\\\\block_011\\\\eye_videos\\\\LE\\\\d3__02_640x480_60hz_experiment_1_recording_0\\\\d3__02_LE.mp4', 'Z:\\\\Nimrod\\\\experiments\\\\PV_57\\\\2024_12_01\\\\block_011\\\\eye_videos\\\\RE\\\\d3__02_640x480_60hz_experiment_1_recording_0\\\\d3__02.mp4', 'Z:\\\\Nimrod\\\\experiments\\\\PV_57\\\\2024_12_01\\\\block_011\\\\eye_videos\\\\RE\\\\d3__02_640x480_60hz_experiment_1_recording_0\\\\d3__02_RE.mp4']\n",
      "timestamps_to_inspect = ['Z:\\\\Nimrod\\\\experiments\\\\PV_57\\\\2024_12_01\\\\block_011\\\\eye_videos\\\\LE\\\\d3__02_640x480_60hz_experiment_1_recording_0\\\\d3__02_timestamps.csv', 'Z:\\\\Nimrod\\\\experiments\\\\PV_57\\\\2024_12_01\\\\block_011\\\\eye_videos\\\\RE\\\\d3__02_640x480_60hz_experiment_1_recording_0\\\\d3__02_timestamps.csv']\n",
      "stamping LE video\n",
      "could not re-stamp the video because the label is already there\n",
      "Getting eye brightness values for block 011...\n",
      "Found an existing file!\n",
      "Eye brightness vectors generation complete.\n",
      "creating blocksync_df\n",
      "Arena video frame rate is 59.17 Hz, within acceptable range. No adjustment needed.\n"
     ]
    },
    {
     "name": "stderr",
     "output_type": "stream",
     "text": [
      "100%|██████████| 53581/53581 [00:14<00:00, 3774.33it/s]\n"
     ]
    },
    {
     "name": "stdout",
     "output_type": "stream",
     "text": [
      "created blocksync_df\n",
      "exported blocksync_df to Z:\\Nimrod\\experiments\\PV_57\\2024_12_01\\block_011\\analysis/ blocksync_df.csv\n",
      "creating Z:\\Nimrod\\experiments\\PV_57\\2024_12_01\\block_011\\analysis/eye_brightness_df.csv\n",
      "handling arena files\n",
      "Arena video Names:\n",
      "front_20241201T160900.mp4\n",
      "left_20241201T160900.mp4\n",
      "right_20241201T160900.mp4\n",
      "top_20241201T160900.mp4\n",
      "running parse_open_ephys_events...\n",
      "block 012 has a parsed events file, reading...\n",
      "handling eye video files\n",
      "converting videos...\n",
      "converting files: ['Z:\\\\Nimrod\\\\experiments\\\\PV_57\\\\2024_12_01\\\\block_012\\\\eye_videos\\\\LE\\\\d3__03_640x480_60hz_experiment_1_recording_0\\\\d3__03.h264', 'Z:\\\\Nimrod\\\\experiments\\\\PV_57\\\\2024_12_01\\\\block_012\\\\eye_videos\\\\RE\\\\d3__03_640x480_60hz_experiment_1_recording_0\\\\d3__03.h264'] \n",
      " avoiding conversion on files: ['Z:\\\\Nimrod\\\\experiments\\\\PV_57\\\\2024_12_01\\\\block_012\\\\eye_videos\\\\LE\\\\d3__03_640x480_60hz_experiment_1_recording_0\\\\d3__03.mp4', 'Z:\\\\Nimrod\\\\experiments\\\\PV_57\\\\2024_12_01\\\\block_012\\\\eye_videos\\\\LE\\\\d3__03_640x480_60hz_experiment_1_recording_0\\\\d3__03_LE.mp4', 'Z:\\\\Nimrod\\\\experiments\\\\PV_57\\\\2024_12_01\\\\block_012\\\\eye_videos\\\\RE\\\\d3__03_640x480_60hz_experiment_1_recording_0\\\\d3__03.mp4', 'Z:\\\\Nimrod\\\\experiments\\\\PV_57\\\\2024_12_01\\\\block_012\\\\eye_videos\\\\RE\\\\d3__03_640x480_60hz_experiment_1_recording_0\\\\d3__03_RE.mp4']\n",
      "The file Z:\\Nimrod\\experiments\\PV_57\\2024_12_01\\block_012\\eye_videos\\LE\\d3__03_640x480_60hz_experiment_1_recording_0\\d3__03.mp4 already exists, no conversion necessary\n",
      "The file Z:\\Nimrod\\experiments\\PV_57\\2024_12_01\\block_012\\eye_videos\\RE\\d3__03_640x480_60hz_experiment_1_recording_0\\d3__03.mp4 already exists, no conversion necessary\n",
      "Validating videos...\n"
     ]
    },
    {
     "name": "stderr",
     "output_type": "stream",
     "text": [
      "  0%|          | 0/53581 [00:00<?, ?it/s]"
     ]
    },
    {
     "name": "stdout",
     "output_type": "stream",
     "text": [
      "something wrong with the inspection, numbers of files does not match:\n",
      "videos_to_inspect = ['Z:\\\\Nimrod\\\\experiments\\\\PV_57\\\\2024_12_01\\\\block_012\\\\eye_videos\\\\LE\\\\d3__03_640x480_60hz_experiment_1_recording_0\\\\d3__03.mp4', 'Z:\\\\Nimrod\\\\experiments\\\\PV_57\\\\2024_12_01\\\\block_012\\\\eye_videos\\\\LE\\\\d3__03_640x480_60hz_experiment_1_recording_0\\\\d3__03_LE.mp4', 'Z:\\\\Nimrod\\\\experiments\\\\PV_57\\\\2024_12_01\\\\block_012\\\\eye_videos\\\\RE\\\\d3__03_640x480_60hz_experiment_1_recording_0\\\\d3__03.mp4', 'Z:\\\\Nimrod\\\\experiments\\\\PV_57\\\\2024_12_01\\\\block_012\\\\eye_videos\\\\RE\\\\d3__03_640x480_60hz_experiment_1_recording_0\\\\d3__03_RE.mp4']\n",
      "timestamps_to_inspect = ['Z:\\\\Nimrod\\\\experiments\\\\PV_57\\\\2024_12_01\\\\block_012\\\\eye_videos\\\\LE\\\\d3__03_640x480_60hz_experiment_1_recording_0\\\\d3__03_timestamps.csv', 'Z:\\\\Nimrod\\\\experiments\\\\PV_57\\\\2024_12_01\\\\block_012\\\\eye_videos\\\\RE\\\\d3__03_640x480_60hz_experiment_1_recording_0\\\\d3__03_timestamps.csv']\n",
      "stamping LE video\n",
      "could not re-stamp the video because the label is already there\n",
      "Getting eye brightness values for block 012...\n",
      "Found an existing file!\n",
      "Eye brightness vectors generation complete.\n",
      "creating blocksync_df\n",
      "Arena video frame rate is 59.17 Hz, within acceptable range. No adjustment needed.\n"
     ]
    },
    {
     "name": "stderr",
     "output_type": "stream",
     "text": [
      "100%|██████████| 53581/53581 [00:13<00:00, 3919.18it/s]\n"
     ]
    },
    {
     "name": "stdout",
     "output_type": "stream",
     "text": [
      "created blocksync_df\n",
      "exported blocksync_df to Z:\\Nimrod\\experiments\\PV_57\\2024_12_01\\block_012\\analysis/ blocksync_df.csv\n",
      "creating Z:\\Nimrod\\experiments\\PV_57\\2024_12_01\\block_012\\analysis/eye_brightness_df.csv\n",
      "handling arena files\n",
      "Arena video Names:\n",
      "front_20241201T163514.mp4\n",
      "left_20241201T163514.mp4\n",
      "right_20241201T163514.mp4\n",
      "top_20241201T163514.mp4\n",
      "running parse_open_ephys_events...\n",
      "block 013 has a parsed events file, reading...\n",
      "handling eye video files\n",
      "converting videos...\n"
     ]
    },
    {
     "name": "stderr",
     "output_type": "stream",
     "text": [
      "  0%|          | 0/53581 [00:00<?, ?it/s]"
     ]
    },
    {
     "name": "stdout",
     "output_type": "stream",
     "text": [
      "converting files: ['Z:\\\\Nimrod\\\\experiments\\\\PV_57\\\\2024_12_01\\\\block_013\\\\eye_videos\\\\LE\\\\d3__04_640x480_60hz_experiment_1_recording_0\\\\d3__04.h264', 'Z:\\\\Nimrod\\\\experiments\\\\PV_57\\\\2024_12_01\\\\block_013\\\\eye_videos\\\\RE\\\\d3__04_640x480_60hz_experiment_1_recording_0\\\\d3__04.h264'] \n",
      " avoiding conversion on files: ['Z:\\\\Nimrod\\\\experiments\\\\PV_57\\\\2024_12_01\\\\block_013\\\\eye_videos\\\\LE\\\\d3__04_640x480_60hz_experiment_1_recording_0\\\\d3__04.mp4', 'Z:\\\\Nimrod\\\\experiments\\\\PV_57\\\\2024_12_01\\\\block_013\\\\eye_videos\\\\LE\\\\d3__04_640x480_60hz_experiment_1_recording_0\\\\d3__04_LE.mp4', 'Z:\\\\Nimrod\\\\experiments\\\\PV_57\\\\2024_12_01\\\\block_013\\\\eye_videos\\\\RE\\\\d3__04_640x480_60hz_experiment_1_recording_0\\\\d3__04.mp4', 'Z:\\\\Nimrod\\\\experiments\\\\PV_57\\\\2024_12_01\\\\block_013\\\\eye_videos\\\\RE\\\\d3__04_640x480_60hz_experiment_1_recording_0\\\\d3__04_RE.mp4']\n",
      "The file Z:\\Nimrod\\experiments\\PV_57\\2024_12_01\\block_013\\eye_videos\\LE\\d3__04_640x480_60hz_experiment_1_recording_0\\d3__04.mp4 already exists, no conversion necessary\n",
      "The file Z:\\Nimrod\\experiments\\PV_57\\2024_12_01\\block_013\\eye_videos\\RE\\d3__04_640x480_60hz_experiment_1_recording_0\\d3__04.mp4 already exists, no conversion necessary\n",
      "Validating videos...\n",
      "something wrong with the inspection, numbers of files does not match:\n",
      "videos_to_inspect = ['Z:\\\\Nimrod\\\\experiments\\\\PV_57\\\\2024_12_01\\\\block_013\\\\eye_videos\\\\LE\\\\d3__04_640x480_60hz_experiment_1_recording_0\\\\d3__04.mp4', 'Z:\\\\Nimrod\\\\experiments\\\\PV_57\\\\2024_12_01\\\\block_013\\\\eye_videos\\\\LE\\\\d3__04_640x480_60hz_experiment_1_recording_0\\\\d3__04_LE.mp4', 'Z:\\\\Nimrod\\\\experiments\\\\PV_57\\\\2024_12_01\\\\block_013\\\\eye_videos\\\\RE\\\\d3__04_640x480_60hz_experiment_1_recording_0\\\\d3__04.mp4', 'Z:\\\\Nimrod\\\\experiments\\\\PV_57\\\\2024_12_01\\\\block_013\\\\eye_videos\\\\RE\\\\d3__04_640x480_60hz_experiment_1_recording_0\\\\d3__04_RE.mp4']\n",
      "timestamps_to_inspect = ['Z:\\\\Nimrod\\\\experiments\\\\PV_57\\\\2024_12_01\\\\block_013\\\\eye_videos\\\\LE\\\\d3__04_640x480_60hz_experiment_1_recording_0\\\\d3__04_timestamps.csv', 'Z:\\\\Nimrod\\\\experiments\\\\PV_57\\\\2024_12_01\\\\block_013\\\\eye_videos\\\\RE\\\\d3__04_640x480_60hz_experiment_1_recording_0\\\\d3__04_timestamps.csv']\n",
      "stamping LE video\n",
      "could not re-stamp the video because the label is already there\n",
      "Getting eye brightness values for block 013...\n",
      "Found an existing file!\n",
      "Eye brightness vectors generation complete.\n",
      "creating blocksync_df\n",
      "Arena video frame rate is 59.17 Hz, within acceptable range. No adjustment needed.\n"
     ]
    },
    {
     "name": "stderr",
     "output_type": "stream",
     "text": [
      "100%|██████████| 53581/53581 [00:13<00:00, 3841.99it/s]\n"
     ]
    },
    {
     "name": "stdout",
     "output_type": "stream",
     "text": [
      "created blocksync_df\n",
      "exported blocksync_df to Z:\\Nimrod\\experiments\\PV_57\\2024_12_01\\block_013\\analysis/ blocksync_df.csv\n",
      "creating Z:\\Nimrod\\experiments\\PV_57\\2024_12_01\\block_013\\analysis/eye_brightness_df.csv\n"
     ]
    }
   ],
   "source": [
    "# This step is used to quickly go over the analyzed blocks and load their internal data\n",
    "for block in block_collection:\n",
    "    block.handle_arena_files()\n",
    "    block.parse_open_ephys_events()\n",
    "    block.handle_eye_videos()\n",
    "    block.get_eye_brightness_vectors()\n",
    "    #block.synchronize_block()\n",
    "    block.synchronize_block_for_non_60fps_acquisition(export=True,\n",
    "                                                      overwrite=True,\n",
    "                                                      target_frame_rate=60,\n",
    "                                                      margin_of_error=5)\n",
    "    block.create_eye_brightness_df(threshold_value=20)\n",
    "    \n",
    "    # if the code fails here, go to manual synchronization\n",
    "#    block.import_manual_sync_df()"
   ],
   "metadata": {
    "collapsed": false,
    "ExecuteTime": {
     "end_time": "2024-12-28T20:00:34.397397800Z",
     "start_time": "2024-12-28T19:51:01.403183900Z"
    }
   },
   "id": "60c947f44aeb8546",
   "execution_count": 6
  },
  {
   "cell_type": "code",
   "outputs": [
    {
     "name": "stderr",
     "output_type": "stream",
     "text": [
      "c:\\users\\marks3\\pycharmprojects\\pythonproject3\\venv\\lib\\site-packages\\IPython\\core\\interactiveshell.py:3338: DtypeWarning: Columns (0,1,2,3,4,5,6,7,8,9,10,11,12,13,14,15,16,17,18,19,20,21,22,23,24,25,26,27,28,29,30) have mixed types.Specify dtype option on import or set low_memory=False.\n",
      "  if (await self.run_code(code, result,  async_=asy)):\n",
      "100%|██████████| 54463/54463 [00:33<00:00, 1631.26it/s]\n"
     ]
    },
    {
     "name": "stdout",
     "output_type": "stream",
     "text": [
      "\n",
      " ellipses calculation complete\n"
     ]
    },
    {
     "name": "stderr",
     "output_type": "stream",
     "text": [
      "100%|██████████| 54490/54490 [00:33<00:00, 1613.27it/s]\n",
      "C:\\Users\\MarkS3\\AppData\\Local\\Programs\\Python\\Python38\\lib\\site-packages\\pandas\\core\\reshape\\merge.py:1112: RuntimeWarning: invalid value encountered in cast\n",
      "  if not (lk == lk.astype(rk.dtype))[~np.isnan(lk)].all():\n"
     ]
    },
    {
     "name": "stdout",
     "output_type": "stream",
     "text": [
      "\n",
      " ellipses calculation complete\n",
      "created le / re dataframes\n",
      "exporting to analysis folder\n"
     ]
    },
    {
     "name": "stderr",
     "output_type": "stream",
     "text": [
      "c:\\users\\marks3\\pycharmprojects\\pythonproject3\\venv\\lib\\site-packages\\IPython\\core\\interactiveshell.py:3338: DtypeWarning: Columns (0,1,2,3,4,5,6,7,8,9,10,11,12,13,14,15,16,17,18,19,20,21,22,23,24,25,26,27,28,29,30) have mixed types.Specify dtype option on import or set low_memory=False.\n",
      "  if (await self.run_code(code, result,  async_=asy)):\n",
      "100%|██████████| 75418/75418 [00:46<00:00, 1618.13it/s]\n"
     ]
    },
    {
     "name": "stdout",
     "output_type": "stream",
     "text": [
      "\n",
      " ellipses calculation complete\n"
     ]
    },
    {
     "name": "stderr",
     "output_type": "stream",
     "text": [
      "100%|██████████| 75592/75592 [00:46<00:00, 1624.84it/s]\n",
      "C:\\Users\\MarkS3\\AppData\\Local\\Programs\\Python\\Python38\\lib\\site-packages\\pandas\\core\\reshape\\merge.py:1112: RuntimeWarning: invalid value encountered in cast\n",
      "  if not (lk == lk.astype(rk.dtype))[~np.isnan(lk)].all():\n"
     ]
    },
    {
     "name": "stdout",
     "output_type": "stream",
     "text": [
      "\n",
      " ellipses calculation complete\n",
      "created le / re dataframes\n",
      "exporting to analysis folder\n"
     ]
    },
    {
     "name": "stderr",
     "output_type": "stream",
     "text": [
      "100%|██████████| 5670/5670 [00:03<00:00, 1617.05it/s]\n",
      "  0%|          | 0/30749 [00:00<?, ?it/s]"
     ]
    },
    {
     "name": "stdout",
     "output_type": "stream",
     "text": [
      "\n",
      " ellipses calculation complete\n"
     ]
    },
    {
     "name": "stderr",
     "output_type": "stream",
     "text": [
      "100%|██████████| 30749/30749 [00:18<00:00, 1697.28it/s]\n",
      "C:\\Users\\MarkS3\\AppData\\Local\\Programs\\Python\\Python38\\lib\\site-packages\\pandas\\core\\reshape\\merge.py:1112: RuntimeWarning: invalid value encountered in cast\n",
      "  if not (lk == lk.astype(rk.dtype))[~np.isnan(lk)].all():\n"
     ]
    },
    {
     "name": "stdout",
     "output_type": "stream",
     "text": [
      "\n",
      " ellipses calculation complete\n",
      "created le / re dataframes\n",
      "exporting to analysis folder\n"
     ]
    },
    {
     "name": "stderr",
     "output_type": "stream",
     "text": [
      "c:\\users\\marks3\\pycharmprojects\\pythonproject3\\venv\\lib\\site-packages\\IPython\\core\\interactiveshell.py:3338: DtypeWarning: Columns (0,1,2,3,4,5,6,7,8,9,10,11,12,13,14,15,16,17,18,19,20,21,22,23,24,25,26,27,28,29,30) have mixed types.Specify dtype option on import or set low_memory=False.\n",
      "  if (await self.run_code(code, result,  async_=asy)):\n",
      "100%|██████████| 38077/38077 [00:23<00:00, 1611.62it/s]\n"
     ]
    },
    {
     "name": "stdout",
     "output_type": "stream",
     "text": [
      "\n",
      " ellipses calculation complete\n"
     ]
    },
    {
     "name": "stderr",
     "output_type": "stream",
     "text": [
      "100%|██████████| 38175/38175 [00:23<00:00, 1593.48it/s]\n",
      "C:\\Users\\MarkS3\\AppData\\Local\\Programs\\Python\\Python38\\lib\\site-packages\\pandas\\core\\reshape\\merge.py:1112: RuntimeWarning: invalid value encountered in cast\n",
      "  if not (lk == lk.astype(rk.dtype))[~np.isnan(lk)].all():\n"
     ]
    },
    {
     "name": "stdout",
     "output_type": "stream",
     "text": [
      "\n",
      " ellipses calculation complete\n",
      "created le / re dataframes\n",
      "exporting to analysis folder\n"
     ]
    },
    {
     "name": "stderr",
     "output_type": "stream",
     "text": [
      "c:\\users\\marks3\\pycharmprojects\\pythonproject3\\venv\\lib\\site-packages\\IPython\\core\\interactiveshell.py:3338: DtypeWarning: Columns (0,1,2,3,4,5,6,7,8,9,10,11,12,13,14,15,16,17,18,19,20,21,22,23,24,25,26,27,28,29,30) have mixed types.Specify dtype option on import or set low_memory=False.\n",
      "  if (await self.run_code(code, result,  async_=asy)):\n",
      "100%|██████████| 38540/38540 [00:21<00:00, 1802.17it/s]\n"
     ]
    },
    {
     "name": "stdout",
     "output_type": "stream",
     "text": [
      "\n",
      " ellipses calculation complete\n"
     ]
    },
    {
     "name": "stderr",
     "output_type": "stream",
     "text": [
      "100%|██████████| 38543/38543 [00:20<00:00, 1839.40it/s]\n",
      "C:\\Users\\MarkS3\\AppData\\Local\\Programs\\Python\\Python38\\lib\\site-packages\\pandas\\core\\reshape\\merge.py:1112: RuntimeWarning: invalid value encountered in cast\n",
      "  if not (lk == lk.astype(rk.dtype))[~np.isnan(lk)].all():\n"
     ]
    },
    {
     "name": "stdout",
     "output_type": "stream",
     "text": [
      "\n",
      " ellipses calculation complete\n",
      "created le / re dataframes\n",
      "exporting to analysis folder\n"
     ]
    },
    {
     "name": "stderr",
     "output_type": "stream",
     "text": [
      "c:\\users\\marks3\\pycharmprojects\\pythonproject3\\venv\\lib\\site-packages\\IPython\\core\\interactiveshell.py:3338: DtypeWarning: Columns (0,1,2,3,4,5,6,7,8,9,10,11,12,13,14,15,16,17,18,19,20,21,22,23,24,25,26,27,28,29,30) have mixed types.Specify dtype option on import or set low_memory=False.\n",
      "  if (await self.run_code(code, result,  async_=asy)):\n",
      "100%|██████████| 42601/42601 [00:26<00:00, 1600.47it/s]\n"
     ]
    },
    {
     "name": "stdout",
     "output_type": "stream",
     "text": [
      "\n",
      " ellipses calculation complete\n"
     ]
    },
    {
     "name": "stderr",
     "output_type": "stream",
     "text": [
      "100%|██████████| 42607/42607 [00:26<00:00, 1609.94it/s]\n",
      "C:\\Users\\MarkS3\\AppData\\Local\\Programs\\Python\\Python38\\lib\\site-packages\\pandas\\core\\reshape\\merge.py:1112: RuntimeWarning: invalid value encountered in cast\n",
      "  if not (lk == lk.astype(rk.dtype))[~np.isnan(lk)].all():\n"
     ]
    },
    {
     "name": "stdout",
     "output_type": "stream",
     "text": [
      "\n",
      " ellipses calculation complete\n",
      "created le / re dataframes\n",
      "exporting to analysis folder\n"
     ]
    },
    {
     "name": "stderr",
     "output_type": "stream",
     "text": [
      "c:\\users\\marks3\\pycharmprojects\\pythonproject3\\venv\\lib\\site-packages\\IPython\\core\\interactiveshell.py:3338: DtypeWarning: Columns (0,1,2,3,4,5,6,7,8,9,10,11,12,13,14,15,16,17,18,19,20,21,22,23,24,25,26,27,28,29,30) have mixed types.Specify dtype option on import or set low_memory=False.\n",
      "  if (await self.run_code(code, result,  async_=asy)):\n",
      "100%|██████████| 57766/57766 [00:36<00:00, 1586.17it/s]\n"
     ]
    },
    {
     "name": "stdout",
     "output_type": "stream",
     "text": [
      "\n",
      " ellipses calculation complete\n"
     ]
    },
    {
     "name": "stderr",
     "output_type": "stream",
     "text": [
      "100%|██████████| 57764/57764 [00:44<00:00, 1293.45it/s]\n"
     ]
    },
    {
     "name": "stdout",
     "output_type": "stream",
     "text": [
      "\n",
      " ellipses calculation complete\n",
      "created le / re dataframes\n",
      "exporting to analysis folder\n"
     ]
    },
    {
     "name": "stderr",
     "output_type": "stream",
     "text": [
      "C:\\Users\\MarkS3\\AppData\\Local\\Programs\\Python\\Python38\\lib\\site-packages\\pandas\\core\\reshape\\merge.py:1112: RuntimeWarning: invalid value encountered in cast\n",
      "  if not (lk == lk.astype(rk.dtype))[~np.isnan(lk)].all():\n",
      "c:\\users\\marks3\\pycharmprojects\\pythonproject3\\venv\\lib\\site-packages\\IPython\\core\\interactiveshell.py:3338: DtypeWarning: Columns (0,1,2,3,4,5,6,7,8,9,10,11,12,13,14,15,16,17,18,19,20,21,22,23,24,25,26,27,28,29,30) have mixed types.Specify dtype option on import or set low_memory=False.\n",
      "  if (await self.run_code(code, result,  async_=asy)):\n",
      "100%|██████████| 61104/61104 [00:37<00:00, 1639.85it/s]\n"
     ]
    },
    {
     "name": "stdout",
     "output_type": "stream",
     "text": [
      "\n",
      " ellipses calculation complete\n"
     ]
    },
    {
     "name": "stderr",
     "output_type": "stream",
     "text": [
      "100%|██████████| 61106/61106 [00:37<00:00, 1620.35it/s]\n",
      "C:\\Users\\MarkS3\\AppData\\Local\\Programs\\Python\\Python38\\lib\\site-packages\\pandas\\core\\reshape\\merge.py:1112: RuntimeWarning: invalid value encountered in cast\n",
      "  if not (lk == lk.astype(rk.dtype))[~np.isnan(lk)].all():\n"
     ]
    },
    {
     "name": "stdout",
     "output_type": "stream",
     "text": [
      "\n",
      " ellipses calculation complete\n",
      "created le / re dataframes\n",
      "exporting to analysis folder\n"
     ]
    },
    {
     "name": "stderr",
     "output_type": "stream",
     "text": [
      "c:\\users\\marks3\\pycharmprojects\\pythonproject3\\venv\\lib\\site-packages\\IPython\\core\\interactiveshell.py:3338: DtypeWarning: Columns (0,1,2,3,4,5,6,7,8,9,10,11,12,13,14,15,16,17,18,19,20,21,22,23,24,25,26,27,28,29,30) have mixed types.Specify dtype option on import or set low_memory=False.\n",
      "  if (await self.run_code(code, result,  async_=asy)):\n",
      "100%|██████████| 40168/40168 [00:23<00:00, 1700.09it/s]\n"
     ]
    },
    {
     "name": "stdout",
     "output_type": "stream",
     "text": [
      "\n",
      " ellipses calculation complete\n"
     ]
    },
    {
     "name": "stderr",
     "output_type": "stream",
     "text": [
      "100%|██████████| 40172/40172 [00:24<00:00, 1624.09it/s]\n",
      "C:\\Users\\MarkS3\\AppData\\Local\\Programs\\Python\\Python38\\lib\\site-packages\\pandas\\core\\reshape\\merge.py:1112: RuntimeWarning: invalid value encountered in cast\n",
      "  if not (lk == lk.astype(rk.dtype))[~np.isnan(lk)].all():\n"
     ]
    },
    {
     "name": "stdout",
     "output_type": "stream",
     "text": [
      "\n",
      " ellipses calculation complete\n",
      "created le / re dataframes\n",
      "exporting to analysis folder\n"
     ]
    },
    {
     "name": "stderr",
     "output_type": "stream",
     "text": [
      "100%|██████████| 15620/15620 [00:09<00:00, 1606.93it/s]\n",
      "  0%|          | 0/15621 [00:00<?, ?it/s]"
     ]
    },
    {
     "name": "stdout",
     "output_type": "stream",
     "text": [
      "\n",
      " ellipses calculation complete\n"
     ]
    },
    {
     "name": "stderr",
     "output_type": "stream",
     "text": [
      "100%|██████████| 15621/15621 [00:09<00:00, 1629.65it/s]\n",
      "C:\\Users\\MarkS3\\AppData\\Local\\Programs\\Python\\Python38\\lib\\site-packages\\pandas\\core\\reshape\\merge.py:1112: RuntimeWarning: invalid value encountered in cast\n",
      "  if not (lk == lk.astype(rk.dtype))[~np.isnan(lk)].all():\n"
     ]
    },
    {
     "name": "stdout",
     "output_type": "stream",
     "text": [
      "\n",
      " ellipses calculation complete\n",
      "created le / re dataframes\n",
      "exporting to analysis folder\n"
     ]
    },
    {
     "name": "stderr",
     "output_type": "stream",
     "text": [
      "c:\\users\\marks3\\pycharmprojects\\pythonproject3\\venv\\lib\\site-packages\\IPython\\core\\interactiveshell.py:3338: DtypeWarning: Columns (0,1,2,3,4,5,6,7,8,9,10,11,12,13,14,15,16,17,18,19,20,21,22,23,24,25,26,27,28,29,30) have mixed types.Specify dtype option on import or set low_memory=False.\n",
      "  if (await self.run_code(code, result,  async_=asy)):\n",
      "100%|██████████| 79158/79158 [00:47<00:00, 1650.16it/s]\n"
     ]
    },
    {
     "name": "stdout",
     "output_type": "stream",
     "text": [
      "\n",
      " ellipses calculation complete\n"
     ]
    },
    {
     "name": "stderr",
     "output_type": "stream",
     "text": [
      "100%|██████████| 79220/79220 [00:47<00:00, 1656.79it/s]\n",
      "C:\\Users\\MarkS3\\AppData\\Local\\Programs\\Python\\Python38\\lib\\site-packages\\pandas\\core\\reshape\\merge.py:1112: RuntimeWarning: invalid value encountered in cast\n",
      "  if not (lk == lk.astype(rk.dtype))[~np.isnan(lk)].all():\n"
     ]
    },
    {
     "name": "stdout",
     "output_type": "stream",
     "text": [
      "\n",
      " ellipses calculation complete\n",
      "created le / re dataframes\n",
      "exporting to analysis folder\n"
     ]
    },
    {
     "name": "stderr",
     "output_type": "stream",
     "text": [
      "c:\\users\\marks3\\pycharmprojects\\pythonproject3\\venv\\lib\\site-packages\\IPython\\core\\interactiveshell.py:3338: DtypeWarning: Columns (0,1,2,3,4,5,6,7,8,9,10,11,12,13,14,15,16,17,18,19,20,21,22,23,24,25,26,27,28,29,30) have mixed types.Specify dtype option on import or set low_memory=False.\n",
      "  if (await self.run_code(code, result,  async_=asy)):\n",
      "100%|██████████| 85788/85788 [00:51<00:00, 1675.86it/s]\n"
     ]
    },
    {
     "name": "stdout",
     "output_type": "stream",
     "text": [
      "\n",
      " ellipses calculation complete\n"
     ]
    },
    {
     "name": "stderr",
     "output_type": "stream",
     "text": [
      "100%|██████████| 85790/85790 [00:53<00:00, 1589.21it/s]\n",
      "C:\\Users\\MarkS3\\AppData\\Local\\Programs\\Python\\Python38\\lib\\site-packages\\pandas\\core\\reshape\\merge.py:1112: RuntimeWarning: invalid value encountered in cast\n",
      "  if not (lk == lk.astype(rk.dtype))[~np.isnan(lk)].all():\n"
     ]
    },
    {
     "name": "stdout",
     "output_type": "stream",
     "text": [
      "\n",
      " ellipses calculation complete\n",
      "created le / re dataframes\n",
      "exporting to analysis folder\n"
     ]
    },
    {
     "name": "stderr",
     "output_type": "stream",
     "text": [
      "c:\\users\\marks3\\pycharmprojects\\pythonproject3\\venv\\lib\\site-packages\\IPython\\core\\interactiveshell.py:3338: DtypeWarning: Columns (0,1,2,3,4,5,6,7,8,9,10,11,12,13,14,15,16,17,18,19,20,21,22,23,24,25,26,27,28,29,30) have mixed types.Specify dtype option on import or set low_memory=False.\n",
      "  if (await self.run_code(code, result,  async_=asy)):\n",
      "100%|██████████| 49834/49834 [00:28<00:00, 1720.48it/s]\n"
     ]
    },
    {
     "name": "stdout",
     "output_type": "stream",
     "text": [
      "\n",
      " ellipses calculation complete\n"
     ]
    },
    {
     "name": "stderr",
     "output_type": "stream",
     "text": [
      "100%|██████████| 49843/49843 [00:30<00:00, 1611.64it/s]\n",
      "C:\\Users\\MarkS3\\AppData\\Local\\Programs\\Python\\Python38\\lib\\site-packages\\pandas\\core\\reshape\\merge.py:1112: RuntimeWarning: invalid value encountered in cast\n",
      "  if not (lk == lk.astype(rk.dtype))[~np.isnan(lk)].all():\n"
     ]
    },
    {
     "name": "stdout",
     "output_type": "stream",
     "text": [
      "\n",
      " ellipses calculation complete\n",
      "created le / re dataframes\n",
      "exporting to analysis folder\n"
     ]
    }
   ],
   "source": [
    "for block in block_collection:\n",
    "    block.read_dlc_data(overwrite=True, export=True)\n",
    "    #block.calibrate_pixel_size(10)"
   ],
   "metadata": {
    "collapsed": false,
    "ExecuteTime": {
     "end_time": "2024-12-28T21:54:58.800309700Z",
     "start_time": "2024-12-28T21:39:17.854596900Z"
    }
   },
   "id": "d958a1c1efa05343",
   "execution_count": 123
  },
  {
   "cell_type": "code",
   "outputs": [
    {
     "name": "stdout",
     "output_type": "stream",
     "text": [
      "jitter report loaded from analysis folder\n",
      "results saved to Z:\\Nimrod\\experiments\\PV_57\\2024_11_21\\block_001\\analysis\\jitter_report_dict.pkl\n",
      "Got the jitter report - check out re/le_jitter_dict attributes\n",
      "jitter report loaded from analysis folder\n",
      "results saved to Z:\\Nimrod\\experiments\\PV_57\\2024_11_21\\block_002\\analysis\\jitter_report_dict.pkl\n",
      "Got the jitter report - check out re/le_jitter_dict attributes\n",
      "jitter report loaded from analysis folder\n",
      "results saved to Z:\\Nimrod\\experiments\\PV_57\\2024_11_21\\block_003\\analysis\\jitter_report_dict.pkl\n",
      "Got the jitter report - check out re/le_jitter_dict attributes\n",
      "jitter report loaded from analysis folder\n",
      "results saved to Z:\\Nimrod\\experiments\\PV_57\\2024_11_21\\block_004\\analysis\\jitter_report_dict.pkl\n",
      "Got the jitter report - check out re/le_jitter_dict attributes\n",
      "jitter report loaded from analysis folder\n",
      "results saved to Z:\\Nimrod\\experiments\\PV_57\\2024_11_25\\block_005\\analysis\\jitter_report_dict.pkl\n",
      "Got the jitter report - check out re/le_jitter_dict attributes\n",
      "jitter report loaded from analysis folder\n",
      "results saved to Z:\\Nimrod\\experiments\\PV_57\\2024_11_25\\block_006\\analysis\\jitter_report_dict.pkl\n",
      "Got the jitter report - check out re/le_jitter_dict attributes\n",
      "jitter report loaded from analysis folder\n",
      "results saved to Z:\\Nimrod\\experiments\\PV_57\\2024_11_25\\block_007\\analysis\\jitter_report_dict.pkl\n",
      "Got the jitter report - check out re/le_jitter_dict attributes\n",
      "jitter report loaded from analysis folder\n",
      "results saved to Z:\\Nimrod\\experiments\\PV_57\\2024_11_25\\block_008\\analysis\\jitter_report_dict.pkl\n",
      "Got the jitter report - check out re/le_jitter_dict attributes\n",
      "jitter report loaded from analysis folder\n",
      "results saved to Z:\\Nimrod\\experiments\\PV_57\\2024_11_25\\block_009\\analysis\\jitter_report_dict.pkl\n",
      "Got the jitter report - check out re/le_jitter_dict attributes\n",
      "jitter report loaded from analysis folder\n",
      "results saved to Z:\\Nimrod\\experiments\\PV_57\\2024_12_01\\block_010\\analysis\\jitter_report_dict.pkl\n",
      "Got the jitter report - check out re/le_jitter_dict attributes\n",
      "jitter report loaded from analysis folder\n",
      "results saved to Z:\\Nimrod\\experiments\\PV_57\\2024_12_01\\block_011\\analysis\\jitter_report_dict.pkl\n",
      "Got the jitter report - check out re/le_jitter_dict attributes\n",
      "jitter report loaded from analysis folder\n",
      "results saved to Z:\\Nimrod\\experiments\\PV_57\\2024_12_01\\block_012\\analysis\\jitter_report_dict.pkl\n",
      "Got the jitter report - check out re/le_jitter_dict attributes\n",
      "jitter report loaded from analysis folder\n",
      "results saved to Z:\\Nimrod\\experiments\\PV_57\\2024_12_01\\block_013\\analysis\\jitter_report_dict.pkl\n",
      "Got the jitter report - check out re/le_jitter_dict attributes\n"
     ]
    }
   ],
   "source": [
    "for block in block_collection:\n",
    "    block.get_jitter_reports(export=True, overwrite=False, remove_led_blinks=False, sort_on_loading=True)"
   ],
   "metadata": {
    "collapsed": false,
    "ExecuteTime": {
     "end_time": "2024-12-28T22:00:58.012216300Z",
     "start_time": "2024-12-28T22:00:40.271525Z"
    }
   },
   "id": "6db8279c2cbac608",
   "execution_count": 124
  },
  {
   "cell_type": "code",
   "outputs": [
    {
     "name": "stderr",
     "output_type": "stream",
     "text": [
      "100%|██████████| 36/36 [00:00<00:00, 3999.65it/s]"
     ]
    },
    {
     "name": "stdout",
     "output_type": "stream",
     "text": [
      "The right eye std of the X coord was 17.068908727991413\n",
      "After correction it is: 17.085446672029057\n",
      "The right eye std of the Y coord was 17.115669246049826\n",
      "After correction it is: 17.036504142955067\n",
      "\n",
      " The left eye std of the X coord was 15.090810175602341\n",
      "After correction it is: 15.105009208881155\n",
      "\n",
      " The left eye std of the Y coord was 17.659165602271962\n",
      "After correction it is: 17.982080501311415\n",
      "hi new version\n",
      "collecting left-eye data\n",
      "data length is 54465\n",
      "z_score length is 54465\n"
     ]
    },
    {
     "name": "stderr",
     "output_type": "stream",
     "text": [
      "\n",
      "100%|██████████| 36/36 [00:00<00:00, 3999.34it/s]"
     ]
    },
    {
     "name": "stdout",
     "output_type": "stream",
     "text": [
      "collecting right eye data\n",
      "data length is 54492\n",
      "z_score length is 54492\n"
     ]
    },
    {
     "name": "stderr",
     "output_type": "stream",
     "text": [
      "\n"
     ]
    },
    {
     "name": "stdout",
     "output_type": "stream",
     "text": [
      "removed led blink data from le / re dataframes\n",
      "exported nan filled dataframes to csv\n",
      "The right eye std of the X coord was 17.946259759076572\n",
      "After correction it is: 28.259195025411277\n",
      "The right eye std of the Y coord was 17.83160036358416\n",
      "After correction it is: 24.896536067397715\n"
     ]
    },
    {
     "name": "stderr",
     "output_type": "stream",
     "text": [
      "100%|██████████| 50/50 [00:00<00:00, 3846.36it/s]"
     ]
    },
    {
     "name": "stdout",
     "output_type": "stream",
     "text": [
      "\n",
      " The left eye std of the X coord was 16.566839156709072\n",
      "After correction it is: 16.587706393289135\n",
      "\n",
      " The left eye std of the Y coord was 18.34405938341986\n",
      "After correction it is: 18.519068000336972\n",
      "hi new version\n",
      "collecting left-eye data\n",
      "data length is 75420\n",
      "z_score length is 75420\n"
     ]
    },
    {
     "name": "stderr",
     "output_type": "stream",
     "text": [
      "\n",
      "100%|██████████| 50/50 [00:00<00:00, 3845.80it/s]"
     ]
    },
    {
     "name": "stdout",
     "output_type": "stream",
     "text": [
      "collecting right eye data\n",
      "data length is 75594\n",
      "z_score length is 75594\n"
     ]
    },
    {
     "name": "stderr",
     "output_type": "stream",
     "text": [
      "\n"
     ]
    },
    {
     "name": "stdout",
     "output_type": "stream",
     "text": [
      "removed led blink data from le / re dataframes\n"
     ]
    },
    {
     "name": "stderr",
     "output_type": "stream",
     "text": [
      "100%|██████████| 3/3 [00:00<00:00, 1407.33it/s]"
     ]
    },
    {
     "name": "stdout",
     "output_type": "stream",
     "text": [
      "exported nan filled dataframes to csv\n",
      "The right eye std of the X coord was 16.7485294745314\n",
      "After correction it is: 16.394127862905027\n",
      "The right eye std of the Y coord was 19.70673661716513\n",
      "After correction it is: 25.19536016268542\n",
      "\n",
      " The left eye std of the X coord was 13.274413043757505\n",
      "After correction it is: 12.88788138438777\n",
      "\n",
      " The left eye std of the Y coord was 15.058712789842359\n",
      "After correction it is: 15.60889113157617\n",
      "hi new version\n",
      "collecting left-eye data\n",
      "data length is 5672\n",
      "z_score length is 5672\n"
     ]
    },
    {
     "name": "stderr",
     "output_type": "stream",
     "text": [
      "\n",
      "100%|██████████| 20/20 [00:00<00:00, 3746.92it/s]\n"
     ]
    },
    {
     "name": "stdout",
     "output_type": "stream",
     "text": [
      "collecting right eye data\n",
      "data length is 30751\n",
      "z_score length is 30751\n",
      "removed led blink data from le / re dataframes\n"
     ]
    },
    {
     "name": "stderr",
     "output_type": "stream",
     "text": [
      "  0%|          | 0/25 [00:00<?, ?it/s]"
     ]
    },
    {
     "name": "stdout",
     "output_type": "stream",
     "text": [
      "exported nan filled dataframes to csv\n",
      "The right eye std of the X coord was 15.613062269074494\n",
      "After correction it is: 15.613062269074494\n",
      "The right eye std of the Y coord was 10.898397190795018\n",
      "After correction it is: 10.760012382335917\n",
      "\n",
      " The left eye std of the X coord was 48.5436576733902\n",
      "After correction it is: 37.998491184181134\n",
      "\n",
      " The left eye std of the Y coord was 17.675088326320903\n",
      "After correction it is: 19.173916689431515\n",
      "hi new version\n",
      "collecting left-eye data\n",
      "data length is 38079\n"
     ]
    },
    {
     "name": "stderr",
     "output_type": "stream",
     "text": [
      "100%|██████████| 25/25 [00:00<00:00, 3203.42it/s]\n",
      "  0%|          | 0/25 [00:00<?, ?it/s]"
     ]
    },
    {
     "name": "stdout",
     "output_type": "stream",
     "text": [
      "z_score length is 38079\n",
      "collecting right eye data\n",
      "data length is 38177\n"
     ]
    },
    {
     "name": "stderr",
     "output_type": "stream",
     "text": [
      "C:\\Users\\MarkS3\\AppData\\Local\\Programs\\Python\\Python38\\lib\\site-packages\\scipy\\stats\\stats.py:2500: RuntimeWarning: invalid value encountered in divide\n",
      "  return (a - mns) / sstd\n",
      "100%|██████████| 25/25 [00:00<00:00, 955.61it/s]\n"
     ]
    },
    {
     "name": "stdout",
     "output_type": "stream",
     "text": [
      "z_score length is 38177\n",
      "removed led blink data from le / re dataframes\n",
      "exported nan filled dataframes to csv\n",
      "The right eye std of the X coord was 24.10960412520888\n",
      "After correction it is: 24.133476182705085\n",
      "The right eye std of the Y coord was 22.12003100654654\n",
      "After correction it is: 22.136378967626886\n",
      "\n",
      " The left eye std of the X coord was 22.091154539182423\n",
      "After correction it is: 21.024996619319005\n",
      "\n",
      " The left eye std of the Y coord was 20.1167658624396\n",
      "After correction it is: 20.229253636184477\n",
      "hi new version\n",
      "collecting left-eye data\n",
      "data length is 38542\n"
     ]
    },
    {
     "name": "stderr",
     "output_type": "stream",
     "text": [
      "100%|██████████| 25/25 [00:00<00:00, 4168.29it/s]\n"
     ]
    },
    {
     "name": "stdout",
     "output_type": "stream",
     "text": [
      "z_score length is 38542\n",
      "collecting right eye data\n",
      "data length is 38545\n"
     ]
    },
    {
     "name": "stderr",
     "output_type": "stream",
     "text": [
      "100%|██████████| 25/25 [00:00<00:00, 3571.57it/s]\n"
     ]
    },
    {
     "name": "stdout",
     "output_type": "stream",
     "text": [
      "z_score length is 38545\n",
      "removed led blink data from le / re dataframes\n",
      "exported nan filled dataframes to csv\n",
      "The right eye std of the X coord was 15.205445914595288\n",
      "After correction it is: 20.113636170668904\n",
      "The right eye std of the Y coord was 15.281135306439124\n",
      "After correction it is: 18.135882030068608\n",
      "\n",
      " The left eye std of the X coord was 14.457718417383088\n"
     ]
    },
    {
     "name": "stderr",
     "output_type": "stream",
     "text": [
      "100%|██████████| 28/28 [00:00<00:00, 4005.06it/s]"
     ]
    },
    {
     "name": "stdout",
     "output_type": "stream",
     "text": [
      "After correction it is: 15.101686285224151\n",
      "\n",
      " The left eye std of the Y coord was 17.351777414725152\n",
      "After correction it is: 26.956378401869248\n",
      "hi new version\n",
      "collecting left-eye data\n",
      "data length is 42603\n",
      "z_score length is 42603\n"
     ]
    },
    {
     "name": "stderr",
     "output_type": "stream",
     "text": [
      "\n",
      "100%|██████████| 28/28 [00:00<00:00, 4000.29it/s]"
     ]
    },
    {
     "name": "stdout",
     "output_type": "stream",
     "text": [
      "collecting right eye data\n",
      "data length is 42609\n",
      "z_score length is 42609\n"
     ]
    },
    {
     "name": "stderr",
     "output_type": "stream",
     "text": [
      "\n"
     ]
    },
    {
     "name": "stdout",
     "output_type": "stream",
     "text": [
      "removed led blink data from le / re dataframes\n",
      "exported nan filled dataframes to csv\n",
      "The right eye std of the X coord was 14.548008455795815\n",
      "After correction it is: 14.608677827197553\n",
      "The right eye std of the Y coord was 18.059010835198162\n",
      "After correction it is: 17.863758314024604\n",
      "\n",
      " The left eye std of the X coord was 14.456024925590777\n"
     ]
    },
    {
     "name": "stderr",
     "output_type": "stream",
     "text": [
      "100%|██████████| 38/38 [00:00<00:00, 4210.04it/s]"
     ]
    },
    {
     "name": "stdout",
     "output_type": "stream",
     "text": [
      "After correction it is: 14.52636231017666\n",
      "\n",
      " The left eye std of the Y coord was 17.460881405878443\n",
      "After correction it is: 17.4947983968912\n",
      "hi new version\n",
      "collecting left-eye data\n",
      "data length is 57768\n",
      "z_score length is 57768\n"
     ]
    },
    {
     "name": "stderr",
     "output_type": "stream",
     "text": [
      "\n",
      "100%|██████████| 38/38 [00:00<00:00, 3799.28it/s]"
     ]
    },
    {
     "name": "stdout",
     "output_type": "stream",
     "text": [
      "collecting right eye data\n",
      "data length is 57766\n",
      "z_score length is 57766\n"
     ]
    },
    {
     "name": "stderr",
     "output_type": "stream",
     "text": [
      "\n"
     ]
    },
    {
     "name": "stdout",
     "output_type": "stream",
     "text": [
      "removed led blink data from le / re dataframes\n",
      "exported nan filled dataframes to csv\n",
      "The right eye std of the X coord was 15.087928512710986\n",
      "After correction it is: 15.153897237771208\n",
      "The right eye std of the Y coord was 11.461038860039716\n",
      "After correction it is: 11.677587778342726\n"
     ]
    },
    {
     "name": "stderr",
     "output_type": "stream",
     "text": [
      "100%|██████████| 40/40 [00:00<00:00, 3486.10it/s]"
     ]
    },
    {
     "name": "stdout",
     "output_type": "stream",
     "text": [
      "\n",
      " The left eye std of the X coord was 14.757416457759678\n",
      "After correction it is: 14.438865969487248\n",
      "\n",
      " The left eye std of the Y coord was 13.363234352910382\n",
      "After correction it is: 13.82671947379777\n",
      "hi new version\n",
      "collecting left-eye data\n",
      "data length is 61106\n",
      "z_score length is 61106\n"
     ]
    },
    {
     "name": "stderr",
     "output_type": "stream",
     "text": [
      "\n",
      "100%|██████████| 40/40 [00:00<00:00, 4049.44it/s]"
     ]
    },
    {
     "name": "stdout",
     "output_type": "stream",
     "text": [
      "collecting right eye data\n",
      "data length is 61108\n",
      "z_score length is 61108\n"
     ]
    },
    {
     "name": "stderr",
     "output_type": "stream",
     "text": [
      "\n"
     ]
    },
    {
     "name": "stdout",
     "output_type": "stream",
     "text": [
      "removed led blink data from le / re dataframes\n",
      "exported nan filled dataframes to csv\n",
      "The right eye std of the X coord was 15.63439471860425\n",
      "After correction it is: 15.668110435117452\n",
      "The right eye std of the Y coord was 13.89689594632694\n",
      "After correction it is: 13.775364181484932\n",
      "\n",
      " The left eye std of the X coord was 17.541804521195996\n",
      "After correction it is: 17.824694149998702\n",
      "\n",
      " The left eye std of the Y coord was 17.22024745804405\n",
      "After correction it is: 16.994283448239596\n"
     ]
    },
    {
     "name": "stderr",
     "output_type": "stream",
     "text": [
      "100%|██████████| 26/26 [00:00<00:00, 4118.59it/s]"
     ]
    },
    {
     "name": "stdout",
     "output_type": "stream",
     "text": [
      "hi new version\n",
      "collecting left-eye data\n",
      "data length is 40170\n",
      "z_score length is 40170\n",
      "collecting right eye data"
     ]
    },
    {
     "name": "stderr",
     "output_type": "stream",
     "text": [
      "\n",
      "100%|██████████| 26/26 [00:00<00:00, 3512.14it/s]"
     ]
    },
    {
     "name": "stdout",
     "output_type": "stream",
     "text": [
      "\n",
      "data length is 40174\n",
      "z_score length is 40174\n"
     ]
    },
    {
     "name": "stderr",
     "output_type": "stream",
     "text": [
      "\n"
     ]
    },
    {
     "name": "stdout",
     "output_type": "stream",
     "text": [
      "removed led blink data from le / re dataframes\n",
      "exported nan filled dataframes to csv\n",
      "The right eye std of the X coord was"
     ]
    },
    {
     "name": "stderr",
     "output_type": "stream",
     "text": [
      "100%|██████████| 10/10 [00:00<00:00, 3158.12it/s]"
     ]
    },
    {
     "name": "stdout",
     "output_type": "stream",
     "text": [
      " 11.759969328282693\n",
      "After correction it is: 11.767247485169833\n",
      "The right eye std of the Y coord was 13.84607948013561\n",
      "After correction it is: 13.795449356163811\n",
      "\n",
      " The left eye std of the X coord was 17.511793456086874\n",
      "After correction it is: 17.54877770019362\n",
      "\n",
      " The left eye std of the Y coord was 12.782887181053049\n",
      "After correction it is: 13.060188697089881\n",
      "hi new version\n",
      "collecting left-eye data\n",
      "data length is 15622\n",
      "z_score length is 15622\n"
     ]
    },
    {
     "name": "stderr",
     "output_type": "stream",
     "text": [
      "\n",
      "100%|██████████| 10/10 [00:00<00:00, 3228.37it/s]\n"
     ]
    },
    {
     "name": "stdout",
     "output_type": "stream",
     "text": [
      "collecting right eye data\n",
      "data length is 15623\n",
      "z_score length is 15623\n",
      "removed led blink data from le / re dataframes\n",
      "exported nan filled dataframes to csv\n",
      "The right eye std of the X coord was 13.504577621301427\n",
      "After correction it is: 14.39807589797349\n",
      "The right eye std of the Y coord was 27.762069519641404\n",
      "After correction it is: 28.095175759904834\n"
     ]
    },
    {
     "name": "stderr",
     "output_type": "stream",
     "text": [
      "100%|██████████| 52/52 [00:00<00:00, 3999.41it/s]"
     ]
    },
    {
     "name": "stdout",
     "output_type": "stream",
     "text": [
      "\n",
      " The left eye std of the X coord was 13.73420481645715\n",
      "After correction it is: 13.850278022300692\n",
      "\n",
      " The left eye std of the Y coord was 13.020684204487969\n",
      "After correction it is: 13.837112317963324\n",
      "hi new version\n",
      "collecting left-eye data\n",
      "data length is 79160\n",
      "z_score length is 79160\n"
     ]
    },
    {
     "name": "stderr",
     "output_type": "stream",
     "text": [
      "\n",
      "100%|██████████| 52/52 [00:00<00:00, 3794.63it/s]"
     ]
    },
    {
     "name": "stdout",
     "output_type": "stream",
     "text": [
      "collecting right eye data\n",
      "data length is 79222\n",
      "z_score length is 79222\n"
     ]
    },
    {
     "name": "stderr",
     "output_type": "stream",
     "text": [
      "\n"
     ]
    },
    {
     "name": "stdout",
     "output_type": "stream",
     "text": [
      "removed led blink data from le / re dataframes\n",
      "exported nan filled dataframes to csv\n",
      "The right eye std of the X coord was 12.197934951323182\n",
      "After correction it is: 12.41311070792088\n",
      "The right eye std of the Y coord was 10.476277102408654\n",
      "After correction it is: 10.456179295754913\n"
     ]
    },
    {
     "name": "stderr",
     "output_type": "stream",
     "text": [
      "100%|██████████| 57/57 [00:00<00:00, 3708.38it/s]"
     ]
    },
    {
     "name": "stdout",
     "output_type": "stream",
     "text": [
      "\n",
      " The left eye std of the X coord was 14.629050602481806\n",
      "After correction it is: 14.685004911593165\n",
      "\n",
      " The left eye std of the Y coord was 16.139700392648454\n",
      "After correction it is: 15.832167710956918\n",
      "hi new version\n",
      "collecting left-eye data\n",
      "data length is 85790\n",
      "z_score length is 85790\n"
     ]
    },
    {
     "name": "stderr",
     "output_type": "stream",
     "text": [
      "\n",
      "100%|██████████| 57/57 [00:00<00:00, 4108.25it/s]"
     ]
    },
    {
     "name": "stdout",
     "output_type": "stream",
     "text": [
      "collecting right eye data\n",
      "data length is 85792\n",
      "z_score length is 85792\n"
     ]
    },
    {
     "name": "stderr",
     "output_type": "stream",
     "text": [
      "\n"
     ]
    },
    {
     "name": "stdout",
     "output_type": "stream",
     "text": [
      "removed led blink data from le / re dataframes\n",
      "exported nan filled dataframes to csv\n",
      "The right eye std of the X coord was 13.249581771259011\n",
      "After correction it is: 13.342795792277025\n",
      "The right eye std of the Y coord was 12.173645348222955\n",
      "After correction it is: 11.977040484162751\n",
      "\n",
      " The left eye std of the X coord was 15.053855275361395\n",
      "After correction it is: 15.827086857626933\n",
      "\n",
      " The left eye std of the Y coord was 18.22991442595649\n",
      "After correction it is: 17.099026700893713\n"
     ]
    },
    {
     "name": "stderr",
     "output_type": "stream",
     "text": [
      "100%|██████████| 33/33 [00:00<00:00, 4111.45it/s]\n",
      "  0%|          | 0/33 [00:00<?, ?it/s]"
     ]
    },
    {
     "name": "stdout",
     "output_type": "stream",
     "text": [
      "hi new version\n",
      "collecting left-eye data\n",
      "data length is 49836\n",
      "z_score length is 49836\n",
      "collecting right eye data\n",
      "data length is 49845\n"
     ]
    },
    {
     "name": "stderr",
     "output_type": "stream",
     "text": [
      "100%|██████████| 33/33 [00:00<00:00, 3666.45it/s]\n"
     ]
    },
    {
     "name": "stdout",
     "output_type": "stream",
     "text": [
      "z_score length is 49845\n",
      "removed led blink data from le / re dataframes\n",
      "exported nan filled dataframes to csv\n"
     ]
    }
   ],
   "source": [
    "for block in block_collection:\n",
    "#    block.get_jitter_reports(export=True, overwrite=True, remove_led_blinks=False, sort_on_loading=True)\n",
    "    block.correct_jitter()\n",
    "    block.find_led_blink_frames(plot=True)\n",
    "    block.remove_led_blinks_from_eye_df(export=True)"
   ],
   "metadata": {
    "collapsed": false,
    "ExecuteTime": {
     "end_time": "2024-12-28T22:04:51.621504400Z",
     "start_time": "2024-12-28T22:03:13.312948800Z"
    }
   },
   "id": "78ca521af1225991",
   "execution_count": 125
  },
  {
   "cell_type": "code",
   "outputs": [
    {
     "data": {
      "text/plain": "dict_keys(['001', '002', '003', '004', '005', '006', '007', '008', '009', '010', '011', '012', '013'])"
     },
     "execution_count": 126,
     "metadata": {},
     "output_type": "execute_result"
    }
   ],
   "source": [
    "block_dict.keys()"
   ],
   "metadata": {
    "collapsed": false,
    "ExecuteTime": {
     "end_time": "2024-12-28T22:10:02.293464100Z",
     "start_time": "2024-12-28T22:10:02.136903800Z"
    }
   },
   "id": "5e85c9464af77acb",
   "execution_count": 126
  },
  {
   "cell_type": "code",
   "outputs": [],
   "source": [
    "block=block_dict['013']"
   ],
   "metadata": {
    "collapsed": false,
    "ExecuteTime": {
     "end_time": "2024-12-28T22:46:01.506770500Z",
     "start_time": "2024-12-28T22:46:01.444083800Z"
    }
   },
   "id": "19ab5f7e9a222288",
   "execution_count": 344
  },
  {
   "cell_type": "code",
   "outputs": [
    {
     "name": "stdout",
     "output_type": "stream",
     "text": [
      "the diff based jitter frame exclusion gives: (259,)\n",
      "the threshold based jitter frame exclusion gives: (365,)\n",
      "the diff based jitter frame exclusion gives: (65,)\n",
      "the threshold based jitter frame exclusion gives: (15,)\n"
     ]
    }
   ],
   "source": [
    "df_inds_to_remove_l, vid_inds_l = find_jittery_frames(block,'left',max_distance=60, diff_threshold=5, gap_to_bridge=24)\n",
    "df_inds_to_remove_r, vid_inds_r = find_jittery_frames(block,'right',max_distance=60, diff_threshold=5, gap_to_bridge=24)\n",
    "\n",
    "# These are verification plots for the jitter outlier removal functions:\n",
    "# to verify, I want a bokeh explorable:\n",
    "rdf = pd.DataFrame.from_dict(block.re_jitter_dict)\n",
    "ldf = pd.DataFrame.from_dict(block.le_jitter_dict)"
   ],
   "metadata": {
    "collapsed": false,
    "ExecuteTime": {
     "end_time": "2024-12-28T22:46:01.897203Z",
     "start_time": "2024-12-28T22:46:01.773390800Z"
    }
   },
   "id": "6a5a4a654a05a123",
   "execution_count": 345
  },
  {
   "cell_type": "code",
   "outputs": [],
   "source": [
    "bokeh_plotter([rdf.top_correlation_dist], ['drift_distance'], peaks=vid_inds_r)"
   ],
   "metadata": {
    "collapsed": false,
    "ExecuteTime": {
     "end_time": "2024-12-28T22:46:03.239758500Z",
     "start_time": "2024-12-28T22:46:03.075495400Z"
    }
   },
   "id": "11353e3307678ed9",
   "execution_count": 346
  },
  {
   "cell_type": "code",
   "outputs": [],
   "source": [
    "bokeh_plotter([ldf.top_correlation_dist], ['drift_distance'], peaks=vid_inds_l)"
   ],
   "metadata": {
    "collapsed": false,
    "ExecuteTime": {
     "end_time": "2024-12-28T22:46:03.916050100Z",
     "start_time": "2024-12-28T22:46:03.746519200Z"
    }
   },
   "id": "8f3ab8cfc5315274",
   "execution_count": 347
  },
  {
   "cell_type": "code",
   "outputs": [
    {
     "name": "stdout",
     "output_type": "stream",
     "text": [
      "removed 228 from the right eye dataframe\n",
      "removed 1148 from the left eye dataframe\n"
     ]
    }
   ],
   "source": [
    "block.remove_eye_datapoints_based_on_video_frames('right', indices_to_nan=vid_inds_r)\n",
    "block.remove_eye_datapoints_based_on_video_frames('left', indices_to_nan=vid_inds_l)"
   ],
   "metadata": {
    "collapsed": false,
    "ExecuteTime": {
     "end_time": "2024-12-28T22:46:05.270243800Z",
     "start_time": "2024-12-28T22:46:05.223546800Z"
    }
   },
   "id": "8f20634ab2b7d684",
   "execution_count": 348
  },
  {
   "cell_type": "markdown",
   "source": [
    "# Data rotation"
   ],
   "metadata": {
    "collapsed": false
   },
   "id": "dc4b57c620e01f87"
  },
  {
   "cell_type": "code",
   "outputs": [
    {
     "name": "stdout",
     "output_type": "stream",
     "text": [
      "Please select two points on the frame.\n",
      "left rotation matrix: \n",
      " [[   0.71137921   -0.70280838  261.0326629 ]\n",
      " [   0.70280838    0.71137921 -155.62969195]] \n",
      " left rotation angle: \n",
      " -44.652757102914244\n",
      "left data rotated\n"
     ]
    }
   ],
   "source": [
    "block.rotate_data_according_to_frame_ref('left')"
   ],
   "metadata": {
    "collapsed": false,
    "ExecuteTime": {
     "end_time": "2024-12-28T22:46:22.078338800Z",
     "start_time": "2024-12-28T22:46:08.718469800Z"
    }
   },
   "id": "92286b8b4e9f6624",
   "execution_count": 349
  },
  {
   "cell_type": "code",
   "outputs": [
    {
     "name": "stdout",
     "output_type": "stream",
     "text": [
      "Please select two points on the frame.\n",
      "right rotation matrix: \n",
      " [[  0.75288548   0.65815154 -78.87972396]\n",
      " [ -0.65815154   0.75288548 269.9159793 ]] \n",
      " right rotation angle: \n",
      " 41.159050974663046\n",
      "right data rotated\n"
     ]
    }
   ],
   "source": [
    "block.rotate_data_according_to_frame_ref('right')"
   ],
   "metadata": {
    "collapsed": false,
    "ExecuteTime": {
     "end_time": "2024-12-28T22:46:34.943086700Z",
     "start_time": "2024-12-28T22:46:23.808216200Z"
    }
   },
   "id": "f1164ff6db7fa269",
   "execution_count": 350
  },
  {
   "cell_type": "code",
   "outputs": [
    {
     "name": "stdout",
     "output_type": "stream",
     "text": [
      "Index(['Arena_TTL', 'R_eye_frame', 'ms_axis', 'center_x_rotated',\n",
      "       'center_y_rotated', 'phi_rotated', 'width', 'height', 'major_ax',\n",
      "       'minor_ax', 'ratio'],\n",
      "      dtype='object')\n",
      "   OE_timestamp  eye_frame   ms_axis    center_x    center_y        phi  \\\n",
      "0     1482496.0       18.0  74124.80  252.722856  322.255968  31.410567   \n",
      "1     1482834.0       19.0  74141.70  253.217326  322.139737  32.446504   \n",
      "2     1483173.0       20.0  74158.65  253.491721  322.237446  32.691181   \n",
      "3     1483511.0       21.0  74175.55  253.479622  322.097218  32.495051   \n",
      "4     1483849.0       22.0  74192.45  253.444468  322.394839  32.593095   \n",
      "\n",
      "       width     height   major_ax   minor_ax     ratio  \n",
      "0  39.862326  26.029617  39.862326  26.029617  1.531422  \n",
      "1  40.005766  26.032208  40.005766  26.032208  1.536780  \n",
      "2  39.569541  26.134329  39.569541  26.134329  1.514083  \n",
      "3  39.565902  26.113054  39.565902  26.113054  1.515177  \n",
      "4  39.629568  25.953247  39.629568  25.953247  1.526960  \n",
      "Index(['Arena_TTL', 'L_eye_frame', 'ms_axis', 'center_x_rotated',\n",
      "       'center_y_rotated', 'phi_rotated', 'width', 'height', 'major_ax',\n",
      "       'minor_ax', 'ratio'],\n",
      "      dtype='object')\n",
      "   OE_timestamp  eye_frame   ms_axis    center_x    center_y        phi  \\\n",
      "0     1482496.0        3.0  74124.80  373.085054  364.632370 -52.168605   \n",
      "1     1482834.0        4.0  74141.70  373.218110  364.880320 -49.056045   \n",
      "2     1483173.0        5.0  74158.65  373.393890  364.863272 -51.186767   \n",
      "3     1483511.0        6.0  74175.55  373.441609  365.072135 -52.413300   \n",
      "4     1483849.0        8.0  74192.45  373.348570  365.273389 -50.720270   \n",
      "\n",
      "       width     height   major_ax   minor_ax     ratio  \n",
      "0  44.035456  40.968327  44.035456  40.968327  1.074866  \n",
      "1  44.224272  40.878104  44.224272  40.878104  1.081857  \n",
      "2  44.073769  40.959846  44.073769  40.959846  1.076024  \n",
      "3  44.235770  40.803794  44.235770  40.803794  1.084109  \n",
      "4  44.326575  40.855241  44.326575  40.855241  1.084967  \n",
      "successfully rotated the data reference horizon to tear-ducts, created left/right_eye_data\n"
     ]
    },
    {
     "name": "stderr",
     "output_type": "stream",
     "text": [
      "C:\\Users\\MarkS3\\PycharmProjects\\pythonProject3\\BlockSync_current.py:2786: RuntimeWarning: All-NaN axis encountered\n",
      "  df['major_ax'] = np.nanmax(df[['width', 'height']], axis=1)\n",
      "C:\\Users\\MarkS3\\PycharmProjects\\pythonProject3\\BlockSync_current.py:2787: RuntimeWarning: All-NaN axis encountered\n",
      "  df['minor_ax'] = np.nanmin(df[['width', 'height']], axis=1)\n"
     ]
    }
   ],
   "source": [
    "block.create_eye_data()"
   ],
   "metadata": {
    "collapsed": false,
    "ExecuteTime": {
     "end_time": "2024-12-28T22:46:37.466042600Z",
     "start_time": "2024-12-28T22:46:37.376613100Z"
    }
   },
   "id": "7a57ec4048496c28",
   "execution_count": 351
  },
  {
   "cell_type": "code",
   "outputs": [],
   "source": [
    "# This bit examine the ellipses to verify phi jump issues\n",
    "block.right_eye_data['phi'] = block.right_eye_data['phi'] + 90"
   ],
   "metadata": {
    "collapsed": false,
    "ExecuteTime": {
     "end_time": "2024-12-28T22:46:38.611515600Z",
     "start_time": "2024-12-28T22:46:38.557391800Z"
    }
   },
   "id": "a5de927402bb2460",
   "execution_count": 352
  },
  {
   "cell_type": "code",
   "outputs": [],
   "source": [
    "block.left_eye_data['phi'] = block.left_eye_data['phi'] + 90"
   ],
   "metadata": {
    "collapsed": false,
    "ExecuteTime": {
     "end_time": "2024-12-28T22:46:38.632827800Z",
     "start_time": "2024-12-28T22:46:38.583524300Z"
    }
   },
   "id": "4cce53ee47aad7af",
   "execution_count": 353
  },
  {
   "cell_type": "markdown",
   "source": [
    "# Rotation eye data Verification"
   ],
   "metadata": {
    "collapsed": false
   },
   "id": "c3a27ee6a22cb1a4"
  },
  {
   "cell_type": "code",
   "outputs": [
    {
     "name": "stdout",
     "output_type": "stream",
     "text": [
      "Z:\\Nimrod\\experiments\\PV_57\\2024_12_01\\block_013\\eye_videos\\RE\\d3__04_640x480_60hz_experiment_1_recording_0\\d3__04.mp4\n"
     ]
    }
   ],
   "source": [
    "# right eye inspection after rotation\n",
    "#path_to_video = [x for x in pathlib.Path(block.re_videos[0]).parent.iterdir() if '.mp4' in str(x.name) and 'DLC' in str(x.name)][0]\n",
    "path_to_video = [x for x in pathlib.Path(block.re_videos[0]).parent.iterdir() if '.mp4' in str(x.name)][0]\n",
    "print(path_to_video)\n",
    "play_video_with_ellipses_rotation(block=block ,eye='right', path_to_video=str(path_to_video) ,xflip=True, transformation_matrix=block.right_rotation_matrix)"
   ],
   "metadata": {
    "collapsed": false,
    "ExecuteTime": {
     "end_time": "2024-12-28T22:46:41.245167300Z",
     "start_time": "2024-12-28T22:46:39.452037300Z"
    }
   },
   "id": "d79690728513967a",
   "execution_count": 354
  },
  {
   "cell_type": "code",
   "outputs": [],
   "source": [
    "# left eye inspection\n",
    "#path_to_video = [x for x in pathlib.Path(block.le_videos[0]).parent.iterdir() if '.mp4' in str(x.name) and 'DLC' in str(x.name)][0]\n",
    "path_to_video = [x for x in pathlib.Path(block.le_videos[0]).parent.iterdir() if '.mp4' in str(x.name)][0]\n",
    "play_video_with_ellipses_rotation(block=block,eye='left', path_to_video=str(path_to_video) ,xflip=True, transformation_matrix=block.left_rotation_matrix)"
   ],
   "metadata": {
    "collapsed": false,
    "ExecuteTime": {
     "end_time": "2024-12-28T22:46:42.497473800Z",
     "start_time": "2024-12-28T22:46:41.481415100Z"
    }
   },
   "id": "e9720489c49c31e1",
   "execution_count": 355
  },
  {
   "cell_type": "markdown",
   "source": [
    "# Eye videos relative lag correction"
   ],
   "metadata": {
    "collapsed": false
   },
   "id": "fa67aa5b943dd2d2"
  },
  {
   "cell_type": "code",
   "outputs": [
    {
     "name": "stderr",
     "output_type": "stream",
     "text": [
      "100%|██████████| 71/71 [00:00<00:00, 8230.72it/s]\n",
      "100%|██████████| 71/71 [00:00<00:00, 8404.23it/s]"
     ]
    },
    {
     "name": "stdout",
     "output_type": "stream",
     "text": [
      "collecting left-eye data\n",
      "data length is 107642\n",
      "z_score length is 107642\n",
      "collecting right eye data\n",
      "data length is 107640\n",
      "z_score length is 107640\n",
      "missing frame at 7\n",
      "missing frame at 11\n",
      "missing frame at 27\n",
      "missing frame at 28\n",
      "missing frame at 29\n",
      "99208 99208\n",
      "0\n",
      "0\n",
      "0 S\n",
      "1 S\n",
      "2 S\n",
      "3 S\n",
      "4 S\n",
      "5 S\n",
      "6 S\n",
      "7 S\n",
      "8 S\n",
      "9 S\n",
      "10 S\n",
      "11 S\n",
      "12 S\n",
      "13 S\n",
      "14 S\n",
      "15 S\n",
      "16 S\n",
      "17 S\n",
      "18 S\n",
      "19 S\n",
      "20 S\n",
      "21 S\n",
      "22 S\n",
      "23 S\n",
      "24 S\n"
     ]
    },
    {
     "name": "stderr",
     "output_type": "stream",
     "text": [
      "\n"
     ]
    }
   ],
   "source": [
    "# block integrated version:\n",
    "block.find_led_blink_frames()\n",
    "l_df, r_df = block.correct_relative_eye_drift_based_on_LED_lights_out(verification_plots=False)\n",
    "block.left_eye_data = l_df\n",
    "block.right_eye_data = r_df"
   ],
   "metadata": {
    "collapsed": false,
    "ExecuteTime": {
     "end_time": "2024-12-31T13:38:41.273660200Z",
     "start_time": "2024-12-31T13:38:41.136293Z"
    }
   },
   "id": "a5dbac7bcb642aa3",
   "execution_count": 369
  },
  {
   "cell_type": "code",
   "outputs": [
    {
     "name": "stdout",
     "output_type": "stream",
     "text": [
      "missing frame at 7\n",
      "missing frame at 11\n",
      "double row at 17\n",
      "double row at 23\n",
      "missing frame at 27\n",
      "missing frame at 28\n",
      "missing frame at 29\n"
     ]
    },
    {
     "ename": "KeyError",
     "evalue": "\"None of [Index(['LED_driver'], dtype='object')] are in the [columns]\"",
     "output_type": "error",
     "traceback": [
      "\u001B[1;31m---------------------------------------------------------------------------\u001B[0m",
      "\u001B[1;31mKeyError\u001B[0m                                  Traceback (most recent call last)",
      "\u001B[1;32m<ipython-input-368-2cf86bc30cd1>\u001B[0m in \u001B[0;36m<module>\u001B[1;34m\u001B[0m\n\u001B[1;32m----> 1\u001B[1;33m \u001B[0ml_df\u001B[0m\u001B[1;33m,\u001B[0m \u001B[0mr_df\u001B[0m \u001B[1;33m=\u001B[0m \u001B[0mblock\u001B[0m\u001B[1;33m.\u001B[0m\u001B[0mcorrect_eye_sync_based_on_OE_LED_events\u001B[0m\u001B[1;33m(\u001B[0m\u001B[1;33m)\u001B[0m\u001B[1;33m\u001B[0m\u001B[1;33m\u001B[0m\u001B[0m\n\u001B[0m",
      "\u001B[1;32m~\\PycharmProjects\\pythonProject3\\BlockSync_current.py\u001B[0m in \u001B[0;36mcorrect_eye_sync_based_on_OE_LED_events\u001B[1;34m(self)\u001B[0m\n\u001B[0;32m   2747\u001B[0m         \u001B[1;31m# This is where the led blink frames are found and a mean correction value is computed\u001B[0m\u001B[1;33m\u001B[0m\u001B[1;33m\u001B[0m\u001B[1;33m\u001B[0m\u001B[0m\n\u001B[0;32m   2748\u001B[0m         \u001B[1;31m# get ms oe-based blink frames:\u001B[0m\u001B[1;33m\u001B[0m\u001B[1;33m\u001B[0m\u001B[1;33m\u001B[0m\u001B[0m\n\u001B[1;32m-> 2749\u001B[1;33m         \u001B[0moe_led_blinks\u001B[0m \u001B[1;33m=\u001B[0m \u001B[0mself\u001B[0m\u001B[1;33m.\u001B[0m\u001B[0moe_events\u001B[0m\u001B[1;33m[\u001B[0m\u001B[1;33m[\u001B[0m\u001B[1;34m'LED_driver'\u001B[0m\u001B[1;33m]\u001B[0m\u001B[1;33m]\u001B[0m\u001B[1;33m.\u001B[0m\u001B[0mquery\u001B[0m\u001B[1;33m(\u001B[0m\u001B[1;34m'LED_driver == LED_driver'\u001B[0m\u001B[1;33m)\u001B[0m\u001B[1;33m.\u001B[0m\u001B[0mvalues\u001B[0m\u001B[1;33m\u001B[0m\u001B[1;33m\u001B[0m\u001B[0m\n\u001B[0m\u001B[0;32m   2750\u001B[0m         \u001B[0mms_timestamps\u001B[0m \u001B[1;33m=\u001B[0m \u001B[0moe_led_blinks\u001B[0m\u001B[1;33m.\u001B[0m\u001B[0mT\u001B[0m \u001B[1;33m/\u001B[0m \u001B[1;36m20\u001B[0m\u001B[1;33m\u001B[0m\u001B[1;33m\u001B[0m\u001B[0m\n\u001B[0;32m   2751\u001B[0m         \u001B[0mms_axis\u001B[0m \u001B[1;33m=\u001B[0m \u001B[0mself\u001B[0m\u001B[1;33m.\u001B[0m\u001B[0mleft_eye_data\u001B[0m\u001B[1;33m.\u001B[0m\u001B[0mms_axis\u001B[0m\u001B[1;33m.\u001B[0m\u001B[0mvalues\u001B[0m\u001B[1;33m\u001B[0m\u001B[1;33m\u001B[0m\u001B[0m\n",
      "\u001B[1;32m~\\AppData\\Local\\Programs\\Python\\Python38\\lib\\site-packages\\pandas\\core\\frame.py\u001B[0m in \u001B[0;36m__getitem__\u001B[1;34m(self, key)\u001B[0m\n\u001B[0;32m   2910\u001B[0m             \u001B[1;32mif\u001B[0m \u001B[0mis_iterator\u001B[0m\u001B[1;33m(\u001B[0m\u001B[0mkey\u001B[0m\u001B[1;33m)\u001B[0m\u001B[1;33m:\u001B[0m\u001B[1;33m\u001B[0m\u001B[1;33m\u001B[0m\u001B[0m\n\u001B[0;32m   2911\u001B[0m                 \u001B[0mkey\u001B[0m \u001B[1;33m=\u001B[0m \u001B[0mlist\u001B[0m\u001B[1;33m(\u001B[0m\u001B[0mkey\u001B[0m\u001B[1;33m)\u001B[0m\u001B[1;33m\u001B[0m\u001B[1;33m\u001B[0m\u001B[0m\n\u001B[1;32m-> 2912\u001B[1;33m             \u001B[0mindexer\u001B[0m \u001B[1;33m=\u001B[0m \u001B[0mself\u001B[0m\u001B[1;33m.\u001B[0m\u001B[0mloc\u001B[0m\u001B[1;33m.\u001B[0m\u001B[0m_get_listlike_indexer\u001B[0m\u001B[1;33m(\u001B[0m\u001B[0mkey\u001B[0m\u001B[1;33m,\u001B[0m \u001B[0maxis\u001B[0m\u001B[1;33m=\u001B[0m\u001B[1;36m1\u001B[0m\u001B[1;33m,\u001B[0m \u001B[0mraise_missing\u001B[0m\u001B[1;33m=\u001B[0m\u001B[1;32mTrue\u001B[0m\u001B[1;33m)\u001B[0m\u001B[1;33m[\u001B[0m\u001B[1;36m1\u001B[0m\u001B[1;33m]\u001B[0m\u001B[1;33m\u001B[0m\u001B[1;33m\u001B[0m\u001B[0m\n\u001B[0m\u001B[0;32m   2913\u001B[0m \u001B[1;33m\u001B[0m\u001B[0m\n\u001B[0;32m   2914\u001B[0m         \u001B[1;31m# take() does not accept boolean indexers\u001B[0m\u001B[1;33m\u001B[0m\u001B[1;33m\u001B[0m\u001B[1;33m\u001B[0m\u001B[0m\n",
      "\u001B[1;32m~\\AppData\\Local\\Programs\\Python\\Python38\\lib\\site-packages\\pandas\\core\\indexing.py\u001B[0m in \u001B[0;36m_get_listlike_indexer\u001B[1;34m(self, key, axis, raise_missing)\u001B[0m\n\u001B[0;32m   1252\u001B[0m             \u001B[0mkeyarr\u001B[0m\u001B[1;33m,\u001B[0m \u001B[0mindexer\u001B[0m\u001B[1;33m,\u001B[0m \u001B[0mnew_indexer\u001B[0m \u001B[1;33m=\u001B[0m \u001B[0max\u001B[0m\u001B[1;33m.\u001B[0m\u001B[0m_reindex_non_unique\u001B[0m\u001B[1;33m(\u001B[0m\u001B[0mkeyarr\u001B[0m\u001B[1;33m)\u001B[0m\u001B[1;33m\u001B[0m\u001B[1;33m\u001B[0m\u001B[0m\n\u001B[0;32m   1253\u001B[0m \u001B[1;33m\u001B[0m\u001B[0m\n\u001B[1;32m-> 1254\u001B[1;33m         \u001B[0mself\u001B[0m\u001B[1;33m.\u001B[0m\u001B[0m_validate_read_indexer\u001B[0m\u001B[1;33m(\u001B[0m\u001B[0mkeyarr\u001B[0m\u001B[1;33m,\u001B[0m \u001B[0mindexer\u001B[0m\u001B[1;33m,\u001B[0m \u001B[0maxis\u001B[0m\u001B[1;33m,\u001B[0m \u001B[0mraise_missing\u001B[0m\u001B[1;33m=\u001B[0m\u001B[0mraise_missing\u001B[0m\u001B[1;33m)\u001B[0m\u001B[1;33m\u001B[0m\u001B[1;33m\u001B[0m\u001B[0m\n\u001B[0m\u001B[0;32m   1255\u001B[0m         \u001B[1;32mreturn\u001B[0m \u001B[0mkeyarr\u001B[0m\u001B[1;33m,\u001B[0m \u001B[0mindexer\u001B[0m\u001B[1;33m\u001B[0m\u001B[1;33m\u001B[0m\u001B[0m\n\u001B[0;32m   1256\u001B[0m \u001B[1;33m\u001B[0m\u001B[0m\n",
      "\u001B[1;32m~\\AppData\\Local\\Programs\\Python\\Python38\\lib\\site-packages\\pandas\\core\\indexing.py\u001B[0m in \u001B[0;36m_validate_read_indexer\u001B[1;34m(self, key, indexer, axis, raise_missing)\u001B[0m\n\u001B[0;32m   1296\u001B[0m             \u001B[1;32mif\u001B[0m \u001B[0mmissing\u001B[0m \u001B[1;33m==\u001B[0m \u001B[0mlen\u001B[0m\u001B[1;33m(\u001B[0m\u001B[0mindexer\u001B[0m\u001B[1;33m)\u001B[0m\u001B[1;33m:\u001B[0m\u001B[1;33m\u001B[0m\u001B[1;33m\u001B[0m\u001B[0m\n\u001B[0;32m   1297\u001B[0m                 \u001B[0maxis_name\u001B[0m \u001B[1;33m=\u001B[0m \u001B[0mself\u001B[0m\u001B[1;33m.\u001B[0m\u001B[0mobj\u001B[0m\u001B[1;33m.\u001B[0m\u001B[0m_get_axis_name\u001B[0m\u001B[1;33m(\u001B[0m\u001B[0maxis\u001B[0m\u001B[1;33m)\u001B[0m\u001B[1;33m\u001B[0m\u001B[1;33m\u001B[0m\u001B[0m\n\u001B[1;32m-> 1298\u001B[1;33m                 \u001B[1;32mraise\u001B[0m \u001B[0mKeyError\u001B[0m\u001B[1;33m(\u001B[0m\u001B[1;34mf\"None of [{key}] are in the [{axis_name}]\"\u001B[0m\u001B[1;33m)\u001B[0m\u001B[1;33m\u001B[0m\u001B[1;33m\u001B[0m\u001B[0m\n\u001B[0m\u001B[0;32m   1299\u001B[0m \u001B[1;33m\u001B[0m\u001B[0m\n\u001B[0;32m   1300\u001B[0m             \u001B[1;31m# We (temporarily) allow for some missing keys with .loc, except in\u001B[0m\u001B[1;33m\u001B[0m\u001B[1;33m\u001B[0m\u001B[1;33m\u001B[0m\u001B[0m\n",
      "\u001B[1;31mKeyError\u001B[0m: \"None of [Index(['LED_driver'], dtype='object')] are in the [columns]\""
     ]
    }
   ],
   "source": [
    "l_df, r_df = block.correct_eye_sync_based_on_OE_LED_events()"
   ],
   "metadata": {
    "collapsed": false,
    "ExecuteTime": {
     "end_time": "2024-12-31T13:38:30.669576900Z",
     "start_time": "2024-12-31T13:38:30.534854Z"
    }
   },
   "id": "a982500494089ee6",
   "execution_count": 368
  },
  {
   "cell_type": "code",
   "outputs": [],
   "source": [
    "#finalize here, then export\n",
    "block.left_eye_data = l_df\n",
    "block.right_eye_data = r_df"
   ],
   "metadata": {
    "collapsed": false,
    "ExecuteTime": {
     "end_time": "2024-12-31T13:38:50.027947800Z",
     "start_time": "2024-12-31T13:38:49.986047300Z"
    }
   },
   "id": "722552b60cd511dc",
   "execution_count": 370
  },
  {
   "cell_type": "markdown",
   "source": [
    "# End of Synchronization Pipeline"
   ],
   "metadata": {
    "collapsed": false
   },
   "id": "906cceb8f6c47b4b"
  },
  {
   "cell_type": "markdown",
   "source": [
    "# Data export steps:"
   ],
   "metadata": {
    "collapsed": false
   },
   "id": "2e68d89b4efe7289"
  },
  {
   "cell_type": "code",
   "outputs": [
    {
     "name": "stdout",
     "output_type": "stream",
     "text": [
      "eye dataframes and rotation matrix saved to: <_io.BufferedWriter name='Z:\\\\Nimrod\\\\experiments\\\\PV_57\\\\2024_12_01\\\\block_013\\\\analysis\\\\rotate_eye_data_params.pkl'>\n"
     ]
    }
   ],
   "source": [
    "def export_eye_data_2d_w_rotation_matrix(block):\n",
    "    \"\"\"\n",
    "    This function saves the eye dataframes to two csv files\n",
    "    :param block: The current blocksync class with verifiec re/le dfs\n",
    "    :return: None\n",
    "    \"\"\"\n",
    "    block.right_eye_data.to_csv(block.analysis_path / 'right_eye_data.csv')\n",
    "    block.left_eye_data.to_csv(block.analysis_path / 'left_eye_data.csv')\n",
    "    rotation_dict = {'left_rotation_matrix': block.left_rotation_matrix,\n",
    "                'left_rotation_angle':  block.left_rotation_angle,\n",
    "                'right_rotation_matrix':block.right_rotation_matrix,\n",
    "                'right_rotation_angle': block.right_rotation_angle}\n",
    "    with open(block.analysis_path / 'rotate_eye_data_params.pkl', 'wb') as file:\n",
    "        pickle.dump(rotation_dict, file)\n",
    "        print(f'eye dataframes and rotation matrix saved to: {file}')\n",
    "        \n",
    "export_eye_data_2d_w_rotation_matrix(block)"
   ],
   "metadata": {
    "collapsed": false,
    "ExecuteTime": {
     "end_time": "2024-12-28T22:46:55.310596200Z",
     "start_time": "2024-12-28T22:46:51.085492800Z"
    }
   },
   "id": "c527e159d544437a",
   "execution_count": 360
  },
  {
   "cell_type": "code",
   "outputs": [],
   "source": [
    "block.final_sync_df"
   ],
   "metadata": {
    "collapsed": false,
    "ExecuteTime": {
     "end_time": "2024-12-26T18:19:22.841119Z",
     "start_time": "2024-12-26T18:19:22.811388300Z"
    }
   },
   "id": "798b493f461429ea",
   "execution_count": 64
  },
  {
   "cell_type": "markdown",
   "source": [
    "# Manual Synchronization steps - only use when needed and after block instantiation"
   ],
   "metadata": {
    "collapsed": false
   },
   "id": "2fe8c022a31e2581"
  },
  {
   "cell_type": "code",
   "outputs": [
    {
     "data": {
      "text/plain": "dict_keys(['026'])"
     },
     "execution_count": 389,
     "metadata": {},
     "output_type": "execute_result"
    }
   ],
   "source": [
    "block_dict.keys()"
   ],
   "metadata": {
    "collapsed": false,
    "ExecuteTime": {
     "end_time": "2025-01-01T18:24:41.782474500Z",
     "start_time": "2025-01-01T18:24:41.745352600Z"
    }
   },
   "id": "9cc787410750ea3b",
   "execution_count": 389
  },
  {
   "cell_type": "code",
   "outputs": [],
   "source": [
    "block = block_dict['013']"
   ],
   "metadata": {
    "collapsed": false,
    "ExecuteTime": {
     "end_time": "2024-12-28T21:38:08.569216600Z",
     "start_time": "2024-12-28T21:38:08.483254500Z"
    }
   },
   "id": "bdcd2a518321f5f3",
   "execution_count": 114
  },
  {
   "cell_type": "code",
   "outputs": [
    {
     "name": "stdout",
     "output_type": "stream",
     "text": [
      "index error on position 39 out of 40\n",
      "index error on position 59 out of 60\n",
      "The suspected lag between eye cameras is 15.0 with the direction ['right', 'late']\n"
     ]
    }
   ],
   "source": [
    "block.get_eyes_diff_list(2)"
   ],
   "metadata": {
    "collapsed": false,
    "ExecuteTime": {
     "end_time": "2024-12-28T21:38:09.606633700Z",
     "start_time": "2024-12-28T21:38:09.553537900Z"
    }
   },
   "id": "96e6a638ce6b278a",
   "execution_count": 115
  },
  {
   "cell_type": "code",
   "outputs": [
    {
     "name": "stdout",
     "output_type": "stream",
     "text": [
      "created manual_sync_df attribute for the block\n"
     ]
    }
   ],
   "source": [
    "block.fix_eye_synchronization()"
   ],
   "metadata": {
    "collapsed": false,
    "ExecuteTime": {
     "end_time": "2024-12-28T21:38:11.408159400Z",
     "start_time": "2024-12-28T21:38:11.341520100Z"
    }
   },
   "id": "41926d1e9a8563b7",
   "execution_count": 116
  },
  {
   "cell_type": "code",
   "outputs": [
    {
     "data": {
      "text/plain": "       Unnamed: 0  Unnamed: 0.1   Arena_TTL  Arena_frame  L_eye_frame  \\\n0               0             0    565951.0        913.0          1.0   \n1               1             1    566291.0        914.0          2.0   \n2               2             2    566631.0        915.0          3.0   \n3               3             3    566970.0        916.0          4.0   \n4               4             4    567310.0        917.0          5.0   \n...           ...           ...         ...          ...          ...   \n99203       99203         99203  34261949.0     100116.0     101272.0   \n99204       99204         99204  34262289.0     100117.0     101273.0   \n99205       99205         99205  34262628.0     100118.0     101274.0   \n99206       99206         99206  34262968.0     100119.0     101275.0   \n99207       99207         99207  34263307.0     100120.0     101276.0   \n\n       R_eye_frame  L_values  R_values  \n0              NaN -2.646521       NaN  \n1              NaN -2.646440       NaN  \n2              NaN -2.646465       NaN  \n3              NaN -2.641369       NaN  \n4              2.0 -2.641731  0.554543  \n...            ...       ...       ...  \n99203     101271.0  0.072080 -1.185376  \n99204     101272.0  0.072150 -1.185574  \n99205     101273.0  0.072569 -1.186444  \n99206     101274.0  0.075081 -1.186171  \n99207     101275.0  0.074788 -1.186275  \n\n[99208 rows x 8 columns]",
      "text/html": "<div>\n<style scoped>\n    .dataframe tbody tr th:only-of-type {\n        vertical-align: middle;\n    }\n\n    .dataframe tbody tr th {\n        vertical-align: top;\n    }\n\n    .dataframe thead th {\n        text-align: right;\n    }\n</style>\n<table border=\"1\" class=\"dataframe\">\n  <thead>\n    <tr style=\"text-align: right;\">\n      <th></th>\n      <th>Unnamed: 0</th>\n      <th>Unnamed: 0.1</th>\n      <th>Arena_TTL</th>\n      <th>Arena_frame</th>\n      <th>L_eye_frame</th>\n      <th>R_eye_frame</th>\n      <th>L_values</th>\n      <th>R_values</th>\n    </tr>\n  </thead>\n  <tbody>\n    <tr>\n      <th>0</th>\n      <td>0</td>\n      <td>0</td>\n      <td>565951.0</td>\n      <td>913.0</td>\n      <td>1.0</td>\n      <td>NaN</td>\n      <td>-2.646521</td>\n      <td>NaN</td>\n    </tr>\n    <tr>\n      <th>1</th>\n      <td>1</td>\n      <td>1</td>\n      <td>566291.0</td>\n      <td>914.0</td>\n      <td>2.0</td>\n      <td>NaN</td>\n      <td>-2.646440</td>\n      <td>NaN</td>\n    </tr>\n    <tr>\n      <th>2</th>\n      <td>2</td>\n      <td>2</td>\n      <td>566631.0</td>\n      <td>915.0</td>\n      <td>3.0</td>\n      <td>NaN</td>\n      <td>-2.646465</td>\n      <td>NaN</td>\n    </tr>\n    <tr>\n      <th>3</th>\n      <td>3</td>\n      <td>3</td>\n      <td>566970.0</td>\n      <td>916.0</td>\n      <td>4.0</td>\n      <td>NaN</td>\n      <td>-2.641369</td>\n      <td>NaN</td>\n    </tr>\n    <tr>\n      <th>4</th>\n      <td>4</td>\n      <td>4</td>\n      <td>567310.0</td>\n      <td>917.0</td>\n      <td>5.0</td>\n      <td>2.0</td>\n      <td>-2.641731</td>\n      <td>0.554543</td>\n    </tr>\n    <tr>\n      <th>...</th>\n      <td>...</td>\n      <td>...</td>\n      <td>...</td>\n      <td>...</td>\n      <td>...</td>\n      <td>...</td>\n      <td>...</td>\n      <td>...</td>\n    </tr>\n    <tr>\n      <th>99203</th>\n      <td>99203</td>\n      <td>99203</td>\n      <td>34261949.0</td>\n      <td>100116.0</td>\n      <td>101272.0</td>\n      <td>101271.0</td>\n      <td>0.072080</td>\n      <td>-1.185376</td>\n    </tr>\n    <tr>\n      <th>99204</th>\n      <td>99204</td>\n      <td>99204</td>\n      <td>34262289.0</td>\n      <td>100117.0</td>\n      <td>101273.0</td>\n      <td>101272.0</td>\n      <td>0.072150</td>\n      <td>-1.185574</td>\n    </tr>\n    <tr>\n      <th>99205</th>\n      <td>99205</td>\n      <td>99205</td>\n      <td>34262628.0</td>\n      <td>100118.0</td>\n      <td>101274.0</td>\n      <td>101273.0</td>\n      <td>0.072569</td>\n      <td>-1.186444</td>\n    </tr>\n    <tr>\n      <th>99206</th>\n      <td>99206</td>\n      <td>99206</td>\n      <td>34262968.0</td>\n      <td>100119.0</td>\n      <td>101275.0</td>\n      <td>101274.0</td>\n      <td>0.075081</td>\n      <td>-1.186171</td>\n    </tr>\n    <tr>\n      <th>99207</th>\n      <td>99207</td>\n      <td>99207</td>\n      <td>34263307.0</td>\n      <td>100120.0</td>\n      <td>101276.0</td>\n      <td>101275.0</td>\n      <td>0.074788</td>\n      <td>-1.186275</td>\n    </tr>\n  </tbody>\n</table>\n<p>99208 rows × 8 columns</p>\n</div>"
     },
     "execution_count": 371,
     "metadata": {},
     "output_type": "execute_result"
    }
   ],
   "source": [
    "block.manual_sync_df"
   ],
   "metadata": {
    "collapsed": false,
    "ExecuteTime": {
     "end_time": "2024-12-31T13:39:03.346289100Z",
     "start_time": "2024-12-31T13:39:03.293819Z"
    }
   },
   "id": "fcfdf198c2b4b8f5",
   "execution_count": 371
  },
  {
   "cell_type": "code",
   "outputs": [],
   "source": [
    "# use this to manually shift L\\R eye synchronization\n",
    "eye_to_move = 'R'\n",
    "block.move_eye_sync_manual(cols_to_move=[f'{eye_to_move}_eye_frame',f'{eye_to_move}_values'],step=-2)"
   ],
   "metadata": {
    "collapsed": false,
    "ExecuteTime": {
     "end_time": "2024-12-28T21:38:32.534785500Z",
     "start_time": "2024-12-28T21:38:32.492568200Z"
    }
   },
   "id": "612bae28bc9a5278",
   "execution_count": 119
  },
  {
   "cell_type": "code",
   "outputs": [],
   "source": [
    "block.full_sync_verification(ms_axis=False,with_arena=False)"
   ],
   "metadata": {
    "collapsed": false,
    "ExecuteTime": {
     "end_time": "2024-12-28T21:38:33.907705300Z",
     "start_time": "2024-12-28T21:38:33.658658700Z"
    }
   },
   "id": "dfa027bfac3d1e4a",
   "execution_count": 120
  },
  {
   "cell_type": "code",
   "outputs": [],
   "source": [
    "block.export_manual_sync_df()\n",
    "block.import_manual_sync_df()"
   ],
   "metadata": {
    "collapsed": false,
    "ExecuteTime": {
     "end_time": "2024-12-28T21:38:43.930586800Z",
     "start_time": "2024-12-28T21:38:42.531531300Z"
    }
   },
   "id": "f1aa0fea4b85630f",
   "execution_count": 121
  },
  {
   "cell_type": "code",
   "outputs": [],
   "source": [
    "def full_sync_verification(self):\n",
    "    from bokeh.plotting import figure, show, curdoc\n",
    "    from bokeh.models import Slider, ColumnDataSource, CustomJS\n",
    "    from bokeh.layouts import column\n",
    "    import numpy as np\n",
    "    data_dict = {\n",
    "    'L_values': [None if np.isnan(x) or np.isinf(x) else x for x in\n",
    "    self.manual_sync_df['L_values']],\n",
    "    'R_values': [None if np.isnan(x) or np.isinf(x) else x for x in\n",
    "    self.manual_sync_df['R_values']]\n",
    "    }\n",
    "    source = ColumnDataSource(data=dict(\n",
    "    x_axis=self.manual_sync_df.index / self.sample_rate,\n",
    "    left_y=[None if np.isnan(x) or np.isinf(x) else x for x in\n",
    "    self.manual_sync_df['L_values'].shift(0)],\n",
    "    right_y=[None if np.isnan(x) or np.isinf(x) else x for x in\n",
    "    self.manual_sync_df['R_values'].shift(0)]\n",
    "    ))\n",
    "    bokeh_fig = figure(\n",
    "    title=f'Full Synchronization Verification',\n",
    "    x_axis_label='Seconds',\n",
    "    y_axis_label='Brightness Z_Score',\n",
    "    plot_width=1500,\n",
    "    plot_height=700\n",
    "    )\n",
    "    left_line = bokeh_fig.line('x_axis', 'left_y', source=source,\n",
    "    legend_label='Left_eye_values', line_width=1,\n",
    "    line_color='blue')\n",
    "    right_line = bokeh_fig.line('x_axis', 'right_y', source=source,\n",
    "    legend_label='Right_eye_values', line_width=1,\n",
    "    line_color='red')\n",
    "    slider_left = Slider(start=-50, end=50, value=0, step=1, title=\"Left Eye Shift\")\n",
    "    slider_right = Slider(start=-50, end=50, value=0, step=1, title=\"Right Eye Shift\")\n",
    "    callback = CustomJS(args=dict(source=source, slider_left=slider_left,\n",
    "    slider_right=slider_right, data_dict=data_dict),\n",
    "    code=\"\"\"\n",
    "    const plot_data = source.data;\n",
    "    const left_shift = slider_left.value;\n",
    "    const right_shift = slider_right.value;\n",
    "    const left_values = data_dict['L_values'];\n",
    "    const right_values = data_dict['R_values'];\n",
    "    const length = plot_data['x_axis'].length;\n",
    "    for (let i = 0; i < length; i++) {\n",
    "    plot_data['left_y'][i] = (i + left_shift >= 0 && i +\n",
    "    left_shift < length) ? left_values[i + left_shift] : null;\n",
    "    plot_data['right_y'][i] = (i + right_shift >= 0 && i +\n",
    "    right_shift < length) ? right_values[i + right_shift] : null;\n",
    "    }\n",
    "    console.log(\"Left shift: \", left_shift, \"Right shift: \",\n",
    "    right_shift); // Debug output\n",
    "    source.change.emit();\n",
    "    \"\"\")\n",
    "    slider_left.js_on_change('value', callback)\n",
    "    slider_right.js_on_change('value', callback)\n",
    "    layout = column(bokeh_fig, slider_left, slider_right)\n",
    "    curdoc().add_root(layout)\n",
    "    show(layout)\n"
   ],
   "metadata": {
    "collapsed": false,
    "ExecuteTime": {
     "end_time": "2024-12-31T13:39:07.740907700Z",
     "start_time": "2024-12-31T13:39:07.693286600Z"
    }
   },
   "id": "5ab839e1eebe4170",
   "execution_count": 372
  },
  {
   "cell_type": "code",
   "outputs": [],
   "source": [
    "full_sync_verification(block)"
   ],
   "metadata": {
    "collapsed": false,
    "ExecuteTime": {
     "end_time": "2024-12-31T13:39:12.655642600Z",
     "start_time": "2024-12-31T13:39:08.953053300Z"
    }
   },
   "id": "b8f73dc680caa978",
   "execution_count": 373
  },
  {
   "cell_type": "code",
   "outputs": [],
   "source": [
    "block.manual_sync_df.rename(columns={'Unnamed: 0.1': 'Arena_TTL'},inplace=True)"
   ],
   "metadata": {
    "collapsed": false,
    "ExecuteTime": {
     "end_time": "2024-12-18T13:23:42.716265100Z",
     "start_time": "2024-12-18T13:23:42.659953500Z"
    }
   },
   "id": "1fbc218b27752fa4",
   "execution_count": 38
  },
  {
   "cell_type": "code",
   "outputs": [
    {
     "data": {
      "text/plain": "        Arena_TTL  Arena_frame  L_eye_frame  R_eye_frame  L_values  R_values\n0          913655        845.0          6.0          2.0 -0.970385 -0.877140\n1          913988        846.0          6.0          3.0 -0.970385 -0.872642\n2          914321        846.0          8.0          4.0 -0.969849 -0.871553\n3          914655        847.0          9.0          5.0 -0.966254 -0.868974\n4          914988        847.0         10.0          6.0 -0.970299 -0.867236\n...           ...          ...          ...          ...       ...       ...\n121570   41436988      62567.0     121799.0     121794.0 -0.277042  0.023131\n121571   41437321      62567.0     121799.0          NaN -0.277042       NaN\n121572   41437655      62568.0     121800.0          NaN -0.285377       NaN\n121573   41437988      62568.0     121802.0          NaN -0.269196       NaN\n121574   41438321      62569.0     121803.0          NaN -0.269542       NaN\n\n[121575 rows x 6 columns]",
      "text/html": "<div>\n<style scoped>\n    .dataframe tbody tr th:only-of-type {\n        vertical-align: middle;\n    }\n\n    .dataframe tbody tr th {\n        vertical-align: top;\n    }\n\n    .dataframe thead th {\n        text-align: right;\n    }\n</style>\n<table border=\"1\" class=\"dataframe\">\n  <thead>\n    <tr style=\"text-align: right;\">\n      <th></th>\n      <th>Arena_TTL</th>\n      <th>Arena_frame</th>\n      <th>L_eye_frame</th>\n      <th>R_eye_frame</th>\n      <th>L_values</th>\n      <th>R_values</th>\n    </tr>\n  </thead>\n  <tbody>\n    <tr>\n      <th>0</th>\n      <td>913655</td>\n      <td>845.0</td>\n      <td>6.0</td>\n      <td>2.0</td>\n      <td>-0.970385</td>\n      <td>-0.877140</td>\n    </tr>\n    <tr>\n      <th>1</th>\n      <td>913988</td>\n      <td>846.0</td>\n      <td>6.0</td>\n      <td>3.0</td>\n      <td>-0.970385</td>\n      <td>-0.872642</td>\n    </tr>\n    <tr>\n      <th>2</th>\n      <td>914321</td>\n      <td>846.0</td>\n      <td>8.0</td>\n      <td>4.0</td>\n      <td>-0.969849</td>\n      <td>-0.871553</td>\n    </tr>\n    <tr>\n      <th>3</th>\n      <td>914655</td>\n      <td>847.0</td>\n      <td>9.0</td>\n      <td>5.0</td>\n      <td>-0.966254</td>\n      <td>-0.868974</td>\n    </tr>\n    <tr>\n      <th>4</th>\n      <td>914988</td>\n      <td>847.0</td>\n      <td>10.0</td>\n      <td>6.0</td>\n      <td>-0.970299</td>\n      <td>-0.867236</td>\n    </tr>\n    <tr>\n      <th>...</th>\n      <td>...</td>\n      <td>...</td>\n      <td>...</td>\n      <td>...</td>\n      <td>...</td>\n      <td>...</td>\n    </tr>\n    <tr>\n      <th>121570</th>\n      <td>41436988</td>\n      <td>62567.0</td>\n      <td>121799.0</td>\n      <td>121794.0</td>\n      <td>-0.277042</td>\n      <td>0.023131</td>\n    </tr>\n    <tr>\n      <th>121571</th>\n      <td>41437321</td>\n      <td>62567.0</td>\n      <td>121799.0</td>\n      <td>NaN</td>\n      <td>-0.277042</td>\n      <td>NaN</td>\n    </tr>\n    <tr>\n      <th>121572</th>\n      <td>41437655</td>\n      <td>62568.0</td>\n      <td>121800.0</td>\n      <td>NaN</td>\n      <td>-0.285377</td>\n      <td>NaN</td>\n    </tr>\n    <tr>\n      <th>121573</th>\n      <td>41437988</td>\n      <td>62568.0</td>\n      <td>121802.0</td>\n      <td>NaN</td>\n      <td>-0.269196</td>\n      <td>NaN</td>\n    </tr>\n    <tr>\n      <th>121574</th>\n      <td>41438321</td>\n      <td>62569.0</td>\n      <td>121803.0</td>\n      <td>NaN</td>\n      <td>-0.269542</td>\n      <td>NaN</td>\n    </tr>\n  </tbody>\n</table>\n<p>121575 rows × 6 columns</p>\n</div>"
     },
     "execution_count": 39,
     "metadata": {},
     "output_type": "execute_result"
    }
   ],
   "source": [
    "block.manual_sync_df"
   ],
   "metadata": {
    "collapsed": false,
    "ExecuteTime": {
     "end_time": "2024-12-18T13:23:48.869666800Z",
     "start_time": "2024-12-18T13:23:48.781390800Z"
    }
   },
   "id": "ba9b814f2b62f286",
   "execution_count": 39
  },
  {
   "cell_type": "code",
   "outputs": [
    {
     "data": {
      "text/plain": "       OE_timestamp  eye_frame     ms_axis    center_x    center_y        phi  \\\n0          676740.0        5.0    33837.00  319.518120  177.992945 -15.443761   \n1          677073.0        6.0    33853.65  319.537921  177.984564 -15.536813   \n2          677397.0        7.0    33869.85  319.510882  178.011487 -15.462979   \n3          677730.0        8.0    33886.50  319.491438  178.003452 -14.895568   \n4          678053.0        9.0    33902.65  319.491147  178.091727 -14.170065   \n...             ...        ...         ...         ...         ...        ...   \n97994    32834371.0    96856.0  1641718.55  340.761068  109.354315 -24.174997   \n97995    32834704.0    96857.0  1641735.20  340.931360  109.326126 -24.160139   \n97996    32835027.0    96858.0  1641751.35  340.753870  109.435444 -24.996913   \n97997    32835360.0    96859.0  1641768.00  341.181379  109.345112 -23.876929   \n97998    32835683.0    96860.0  1641784.15  341.092590  109.340605 -23.859499   \n\n           width     height   major_ax   minor_ax     ratio  \n0      46.028471  40.458124  46.028471  40.458124  1.137682  \n1      46.187965  40.480872  46.187965  40.480872  1.140982  \n2      46.079456  40.440812  46.079456  40.440812  1.139430  \n3      45.985501  40.541131  45.985501  40.541131  1.134293  \n4      45.875067  40.475895  45.875067  40.475895  1.133392  \n...          ...        ...        ...        ...       ...  \n97994  41.280409  28.235806  41.280409  28.235806  1.461988  \n97995  41.655405  28.352723  41.655405  28.352723  1.469185  \n97996  42.075840  28.446548  42.075840  28.446548  1.479119  \n97997  41.828722  28.359923  41.828722  28.359923  1.474924  \n97998  41.863880  28.545485  41.863880  28.545485  1.466567  \n\n[97999 rows x 11 columns]",
      "text/html": "<div>\n<style scoped>\n    .dataframe tbody tr th:only-of-type {\n        vertical-align: middle;\n    }\n\n    .dataframe tbody tr th {\n        vertical-align: top;\n    }\n\n    .dataframe thead th {\n        text-align: right;\n    }\n</style>\n<table border=\"1\" class=\"dataframe\">\n  <thead>\n    <tr style=\"text-align: right;\">\n      <th></th>\n      <th>OE_timestamp</th>\n      <th>eye_frame</th>\n      <th>ms_axis</th>\n      <th>center_x</th>\n      <th>center_y</th>\n      <th>phi</th>\n      <th>width</th>\n      <th>height</th>\n      <th>major_ax</th>\n      <th>minor_ax</th>\n      <th>ratio</th>\n    </tr>\n  </thead>\n  <tbody>\n    <tr>\n      <th>0</th>\n      <td>676740.0</td>\n      <td>5.0</td>\n      <td>33837.00</td>\n      <td>319.518120</td>\n      <td>177.992945</td>\n      <td>-15.443761</td>\n      <td>46.028471</td>\n      <td>40.458124</td>\n      <td>46.028471</td>\n      <td>40.458124</td>\n      <td>1.137682</td>\n    </tr>\n    <tr>\n      <th>1</th>\n      <td>677073.0</td>\n      <td>6.0</td>\n      <td>33853.65</td>\n      <td>319.537921</td>\n      <td>177.984564</td>\n      <td>-15.536813</td>\n      <td>46.187965</td>\n      <td>40.480872</td>\n      <td>46.187965</td>\n      <td>40.480872</td>\n      <td>1.140982</td>\n    </tr>\n    <tr>\n      <th>2</th>\n      <td>677397.0</td>\n      <td>7.0</td>\n      <td>33869.85</td>\n      <td>319.510882</td>\n      <td>178.011487</td>\n      <td>-15.462979</td>\n      <td>46.079456</td>\n      <td>40.440812</td>\n      <td>46.079456</td>\n      <td>40.440812</td>\n      <td>1.139430</td>\n    </tr>\n    <tr>\n      <th>3</th>\n      <td>677730.0</td>\n      <td>8.0</td>\n      <td>33886.50</td>\n      <td>319.491438</td>\n      <td>178.003452</td>\n      <td>-14.895568</td>\n      <td>45.985501</td>\n      <td>40.541131</td>\n      <td>45.985501</td>\n      <td>40.541131</td>\n      <td>1.134293</td>\n    </tr>\n    <tr>\n      <th>4</th>\n      <td>678053.0</td>\n      <td>9.0</td>\n      <td>33902.65</td>\n      <td>319.491147</td>\n      <td>178.091727</td>\n      <td>-14.170065</td>\n      <td>45.875067</td>\n      <td>40.475895</td>\n      <td>45.875067</td>\n      <td>40.475895</td>\n      <td>1.133392</td>\n    </tr>\n    <tr>\n      <th>...</th>\n      <td>...</td>\n      <td>...</td>\n      <td>...</td>\n      <td>...</td>\n      <td>...</td>\n      <td>...</td>\n      <td>...</td>\n      <td>...</td>\n      <td>...</td>\n      <td>...</td>\n      <td>...</td>\n    </tr>\n    <tr>\n      <th>97994</th>\n      <td>32834371.0</td>\n      <td>96856.0</td>\n      <td>1641718.55</td>\n      <td>340.761068</td>\n      <td>109.354315</td>\n      <td>-24.174997</td>\n      <td>41.280409</td>\n      <td>28.235806</td>\n      <td>41.280409</td>\n      <td>28.235806</td>\n      <td>1.461988</td>\n    </tr>\n    <tr>\n      <th>97995</th>\n      <td>32834704.0</td>\n      <td>96857.0</td>\n      <td>1641735.20</td>\n      <td>340.931360</td>\n      <td>109.326126</td>\n      <td>-24.160139</td>\n      <td>41.655405</td>\n      <td>28.352723</td>\n      <td>41.655405</td>\n      <td>28.352723</td>\n      <td>1.469185</td>\n    </tr>\n    <tr>\n      <th>97996</th>\n      <td>32835027.0</td>\n      <td>96858.0</td>\n      <td>1641751.35</td>\n      <td>340.753870</td>\n      <td>109.435444</td>\n      <td>-24.996913</td>\n      <td>42.075840</td>\n      <td>28.446548</td>\n      <td>42.075840</td>\n      <td>28.446548</td>\n      <td>1.479119</td>\n    </tr>\n    <tr>\n      <th>97997</th>\n      <td>32835360.0</td>\n      <td>96859.0</td>\n      <td>1641768.00</td>\n      <td>341.181379</td>\n      <td>109.345112</td>\n      <td>-23.876929</td>\n      <td>41.828722</td>\n      <td>28.359923</td>\n      <td>41.828722</td>\n      <td>28.359923</td>\n      <td>1.474924</td>\n    </tr>\n    <tr>\n      <th>97998</th>\n      <td>32835683.0</td>\n      <td>96860.0</td>\n      <td>1641784.15</td>\n      <td>341.092590</td>\n      <td>109.340605</td>\n      <td>-23.859499</td>\n      <td>41.863880</td>\n      <td>28.545485</td>\n      <td>41.863880</td>\n      <td>28.545485</td>\n      <td>1.466567</td>\n    </tr>\n  </tbody>\n</table>\n<p>97999 rows × 11 columns</p>\n</div>"
     },
     "execution_count": 167,
     "metadata": {},
     "output_type": "execute_result"
    }
   ],
   "source": [
    "block.left_eye_data"
   ],
   "metadata": {
    "collapsed": false,
    "ExecuteTime": {
     "end_time": "2024-12-23T17:11:02.404288100Z",
     "start_time": "2024-12-23T17:11:02.363456700Z"
    }
   },
   "id": "3848e862ac3b44b6",
   "execution_count": 167
  },
  {
   "cell_type": "code",
   "outputs": [],
   "source": [
    "# This bit of code goes over blocks and collects the median distance between the rostral and caudal edges\n",
    "import os\n",
    "from ellipse import LsqEllipse\n",
    "import scipy.stats as stats\n",
    "\n",
    "def eye_tracking_analysis(dlc_video_analysis_csv, uncertainty_thr):\n",
    "    \"\"\"\n",
    "    :param dlc_video_analysis_csv: the csv output of a dlc analysis of one video, already read by pandas with header=1\n",
    "    :param uncertainty_thr: The confidence P value to use as a threshold for datapoint validity in the analysis\n",
    "    :returns ellipse_df: a DataFrame of ellipses parameters (center, width, height, phi, size) for each video frame\n",
    "\n",
    "    \"\"\"\n",
    "    # import the dataframe and convert it to floats\n",
    "    data = dlc_video_analysis_csv\n",
    "    data = data.iloc[1:].apply(pd.to_numeric)\n",
    "\n",
    "    # sort the pupil elements to dfs: x and y, with p as probability\n",
    "    pupil_elements = np.array([x for x in data.columns if 'Pupil' in x])\n",
    "\n",
    "    # get X coords\n",
    "    pupil_xs_before_flip = data[pupil_elements[np.arange(0, len(pupil_elements), 3)]]\n",
    "\n",
    "    # flip the data around the midpoint of the x-axis (shooting the eye through a camera flips right and left)\n",
    "    pupil_xs = 320 * 2 - pupil_xs_before_flip\n",
    "\n",
    "    # get Y coords (no need to flip as opencv conventions already start with origin at top left of frame\n",
    "    # and so, positive Y is maintained as up in a flipped image as we have)\n",
    "    pupil_ys = data[pupil_elements[np.arange(1, len(pupil_elements), 3)]]\n",
    "    pupil_ps = data[pupil_elements[np.arange(2, len(pupil_elements), 3)]]\n",
    "\n",
    "    # rename dataframes for masking with p values of bad points:\n",
    "    pupil_ps = pupil_ps.rename(columns=dict(zip(pupil_ps.columns, pupil_xs.columns)))\n",
    "    pupil_ys = pupil_ys.rename(columns=dict(zip(pupil_ys.columns, pupil_xs.columns)))\n",
    "    good_points = pupil_ps > uncertainty_thr\n",
    "    pupil_xs = pupil_xs[good_points]\n",
    "    pupil_ys = pupil_ys[good_points]\n",
    "\n",
    "    # Do the same for the edges\n",
    "    edge_elements = np.array([x for x in data.columns if 'edge' in x])\n",
    "    edge_xs_before_flip = data[edge_elements[np.arange(0, len(edge_elements), 3)]]\n",
    "    edge_xs = 320*2 - edge_xs_before_flip\n",
    "    edge_ys = data[edge_elements[np.arange(1, len(edge_elements), 3)]]\n",
    "    edge_ps = data[edge_elements[np.arange(2,len(edge_elements),3)]]\n",
    "    edge_ps = edge_ps.rename(columns=dict(zip(edge_ps.columns,edge_xs.columns)))\n",
    "    edge_ys = edge_ys.rename(columns=dict(zip(edge_ys.columns,edge_xs.columns)))\n",
    "    good_edge_points = edge_ps < uncertainty_thr\n",
    "    \n",
    "    # work row by row to figure out the ellipses\n",
    "    ellipses = []\n",
    "    caudal_edge_ls = []\n",
    "    rostral_edge_ls = []\n",
    "    for row in tqdm.tqdm(range(1, len(data) - 1)):\n",
    "        # first, take all the values, and concatenate them into an X array\n",
    "        x_values = pupil_xs.loc[row].values\n",
    "        y_values = pupil_ys.loc[row].values\n",
    "        X = np.c_[x_values, y_values]\n",
    "\n",
    "        # now, remove nan values, and check if there are enough points to make the ellipse\n",
    "        X = X[~ np.isnan(X).any(axis=1)]\n",
    "\n",
    "        # if there are enough rows for a fit, make an ellipse\n",
    "        if X.shape[0] > 5:\n",
    "            el = LsqEllipse().fit(X)\n",
    "            center, width, height, phi = el.as_parameters()\n",
    "            center_x = center[0]\n",
    "            center_y = center[1]\n",
    "            ellipses.append([center_x, center_y, width, height, phi])\n",
    "        else:\n",
    "            ellipses.append([np.nan, np.nan, np.nan, np.nan, np.nan])\n",
    "\n",
    "        caudal_edge = [\n",
    "            float(data['Caudal_edge'][row]),\n",
    "            float(data['Caudal_edge.1'][row])\n",
    "        ]\n",
    "        rostral_edge = [\n",
    "            float(data['Rostral_edge'][row]),\n",
    "            float(data['Rostral_edge.1'][row])\n",
    "        ]\n",
    "        caudal_edge_ls.append(caudal_edge)\n",
    "        rostral_edge_ls.append(rostral_edge)\n",
    "\n",
    "\n",
    "    # ellipse_df = pd.DataFrame(columns=['center_x', 'center_y', 'width', 'height', 'phi'], data=ellipses)\n",
    "    # a = np.array(ellipse_df['height'][:])\n",
    "    # b = np.array(ellipse_df['width'][:])\n",
    "    # ellipse_size_per_frame = a * b * math.pi\n",
    "    # ellipse_df['ellipse_size'] = ellipse_size_per_frame\n",
    "    ellipse_df = pd.Dataframe({\n",
    "        'rostral_edge':rostral_edge_ls,\n",
    "        'caudal_edge': caudal_edge_ls\n",
    "    })\n",
    "    \n",
    "\n",
    "    print(f'\\n ellipses calculation complete')\n",
    "    \n",
    "    ellipse_df[['caudal_edge_x', 'caudal_edge_y']] = pd.DataFrame(ellipse_df['caudal_edge'].tolist(), index=ellipse_df.index)\n",
    "    ellipse_df[['rostral_edge_x', 'rostral_edge_y']] = pd.DataFrame(ellipse_df['rostral_edge'].tolist(), index=ellipse_df.index)\n",
    "    \n",
    "    return ellipse_df\n",
    "\n",
    "def get_pixel_distance(df):\n",
    "    distances = np.sqrt((df['caudal_edge_x'] - df['rostral_edge_x'])**2 + \n",
    "                        (df['caudal_edge_y'] - df['rostral_edge_y'])**2)\n",
    "    \n",
    "    mean_distance = np.nanmean(distances)\n",
    "    std_distance = np.nanstd(distances)\n",
    "    # Shapiro-Wilk Test\n",
    "    shapiro_test = stats.shapiro(distances)\n",
    "    print(f\"Shapiro-Wilk Test: Statistic={shapiro_test.statistic}, p-value={shapiro_test.pvalue}\")\n",
    "    \n",
    "    # Kolmogorov-Smirnov Test\n",
    "    ks_test = stats.kstest(distances, 'norm', args=(mean_distance, std_distance))\n",
    "    print(f\"Kolmogorov-Smirnov Test: Statistic={ks_test.statistic}, p-value={ks_test.pvalue}\")\n",
    "    \n",
    "    median_distance = np.median(distances)\n",
    "    iqr_distance = stats.iqr(distances)\n",
    "    print(f\"Median Distance: {median_distance}\")\n",
    "    print(f\"IQR: {iqr_distance}\")\n",
    "    print(f'mean = {mean_distance}')\n",
    "    print(f'std = {std_distance}')\n",
    "    return median_distance\n",
    "\n",
    "R_pix_distance_dict = {}\n",
    "L_pix_distance_dict = {}\n",
    "\n",
    "for block in block_collection:\n",
    "    print(f'working on {block}')\n",
    "    pl = [i for i in os.listdir(block.r_e_path) if 'DLC' in i and '.csv' in i]\n",
    "    if len(pl) > 1:\n",
    "        pl = [i for i in pl if 'filtered' in i][0]\n",
    "    else:\n",
    "        pl = pl[0]\n",
    "    R_csv  = pd.read_csv(block.r_e_path / pl, header=1)\n",
    "    \n",
    "    pl = [i for i in os.listdir(block.l_e_path) if 'DLC' in i and '.csv' in i]\n",
    "    if len(pl) > 1:\n",
    "        pl = [i for i in pl if 'filtered' in i][0]\n",
    "    else:\n",
    "        pl = pl[0]\n",
    "    L_csv  = pd.read_csv(block.l_e_path / pl, header=1)\n",
    "    R_ellipse_df = eye_tracking_analysis(R_csv,0.998)\n",
    "    print('working on the right eye')\n",
    "    R_pixel_distance = get_pixel_distance(R_ellipse_df)    \n",
    "    L_ellipse_df = eye_tracking_analysis(L_csv,0.998)\n",
    "    print('working on the left eye')\n",
    "    L_pixel_distance = get_pixel_distance(L_ellipse_df)\n",
    "    R_pix_distance_dict[block.block_num] = R_pixel_distance\n",
    "    L_pix_distance_dict[block.block_num] = L_pixel_distance\n",
    "    "
   ],
   "metadata": {
    "collapsed": false
   },
   "id": "c1c3954ac1f85237"
  },
  {
   "cell_type": "code",
   "outputs": [],
   "source": [
    "def load_eye_data_2d_w_rotation_matrix(block):\n",
    "    \"\"\"\n",
    "    This function checks if the eye dataframes and rotation dict object exist, then imports them\n",
    "    :param block: The current blocksync class with verifiec re/le dfs\n",
    "    :return: None\n",
    "    \"\"\"\n",
    "    try:\n",
    "        block.left_eye_data = pd.read_csv(block.analysis_path / 'left_eye_data.csv', index_col=0, engine='python')\n",
    "        block.right_eye_data = pd.read_csv(block.analysis_path / 'right_eye_data.csv', index_col=0, engine='python')\n",
    "    except FileNotFoundError:\n",
    "        print('eye_data files not found, run the pipeline!')\n",
    "        return\n",
    "\n",
    "    try:\n",
    "        with open(block.analysis_path / 'rotate_eye_data_params.pkl', 'rb') as file:\n",
    "            rotation_dict = pickle.load(file)\n",
    "            block.left_rotation_matrix = rotation_dict['left_rotation_matrix']\n",
    "            block.right_rotation_matrix = rotation_dict['right_rotation_matrix']\n",
    "            block.left_rotation_angle = rotation_dict['left_rotation_angle']\n",
    "            block.right_rotation_angle = rotation_dict['right_rotation_angle']\n",
    "    except FileNotFoundError:\n",
    "        print('No rotation matrix file, create it')\n",
    "\n"
   ],
   "metadata": {
    "collapsed": false,
    "ExecuteTime": {
     "end_time": "2024-12-31T13:36:20.756961Z",
     "start_time": "2024-12-31T13:36:20.706232900Z"
    }
   },
   "id": "2818f547b0b15ab1",
   "execution_count": 362
  },
  {
   "cell_type": "code",
   "outputs": [
    {
     "name": "stdout",
     "output_type": "stream",
     "text": [
      "running parse_open_ephys_events...\n",
      "block 026 has a parsed events file, reading...\n",
      "Getting eye brightness values for block 026...\n",
      "Found an existing file!\n",
      "Eye brightness vectors generation complete.\n",
      "blocksync_df loaded from analysis folder\n",
      "eye_brightness_df loaded from analysis folder\n",
      "eye dataframes loaded from analysis folder\n",
      "got the calibration values from the analysis folder\n"
     ]
    }
   ],
   "source": [
    "for block in block_collection:\n",
    "    block.parse_open_ephys_events()\n",
    "    block.get_eye_brightness_vectors()\n",
    "    block.synchronize_block()\n",
    "    block.create_eye_brightness_df(threshold_value=20)\n",
    "\n",
    "    # if the code fails here, go to manual synchronization\n",
    "    block.import_manual_sync_df()\n",
    "    block.read_dlc_data()\n",
    "    block.calibrate_pixel_size(10)\n",
    "    load_eye_data_2d_w_rotation_matrix(block) #should be integrated again... later\n",
    "    \n",
    "    # calibrate pupil diameter:\n",
    "\n",
    "    block.left_eye_data['pupil_diameter_pixels'] = block.left_eye_data.major_ax * 2 * np.pi\n",
    "    block.right_eye_data['pupil_diameter_pixels'] = block.right_eye_data.major_ax * 2 * np.pi\n",
    "    block.left_eye_data['pupil_diameter'] = block.left_eye_data['pupil_diameter_pixels'] * block.L_pix_size\n",
    "    block.right_eye_data['pupil_diameter'] = block.right_eye_data['pupil_diameter_pixels'] * block.R_pix_size"
   ],
   "metadata": {
    "collapsed": false,
    "ExecuteTime": {
     "end_time": "2024-12-31T13:36:29.018710400Z",
     "start_time": "2024-12-31T13:36:22.126271700Z"
    }
   },
   "id": "fa540b5110ac4829",
   "execution_count": 363
  },
  {
   "cell_type": "code",
   "outputs": [
    {
     "data": {
      "text/plain": "Index(['Unnamed: 0.1', 'Arena_TTL', 'Arena_frame', 'L_eye_frame',\n       'R_eye_frame', 'L_values', 'R_values'],\n      dtype='object')"
     },
     "execution_count": 374,
     "metadata": {},
     "output_type": "execute_result"
    }
   ],
   "source": [
    "block.final_sync_df.columns"
   ],
   "metadata": {
    "collapsed": false,
    "ExecuteTime": {
     "end_time": "2024-12-31T13:48:14.901938400Z",
     "start_time": "2024-12-31T13:48:14.837076600Z"
    }
   },
   "id": "3ae919e01a35d4d9",
   "execution_count": 374
  },
  {
   "cell_type": "code",
   "outputs": [
    {
     "data": {
      "text/plain": "       OE_timestamp  eye_frame     ms_axis    center_x    center_y  \\\n0          565951.0        1.0    28297.55  444.632190  206.829264   \n1          566291.0        2.0    28314.55  444.501312  206.839827   \n2          566631.0        3.0    28331.55  444.489259  206.843911   \n3          566970.0        4.0    28348.50  444.515784  206.859801   \n4          567310.0        5.0    28365.50  444.444498  206.920830   \n...             ...        ...         ...         ...         ...   \n99203    34261949.0   101272.0  1713097.45  412.843225  200.260902   \n99204    34262289.0   101273.0  1713114.45  412.871902  200.210474   \n99205    34262628.0   101274.0  1713131.40  412.912947  200.210626   \n99206    34262968.0   101275.0  1713148.40  413.046975  200.175398   \n99207    34263307.0   101276.0  1713165.35  413.075933  200.188772   \n\n       ellipse_phi      width     height   major_ax   minor_ax     ratio  \\\n0        83.016304  45.335549  32.726528  45.335549  32.726528  1.385284   \n1        83.435273  45.316501  32.731487  45.316501  32.731487  1.384493   \n2        83.266029  45.292542  32.789987  45.292542  32.789987  1.381292   \n3        83.509805  45.268229  32.769033  45.268229  32.769033  1.381433   \n4        83.589111  45.316728  32.700692  45.316728  32.700692  1.385803   \n...            ...        ...        ...        ...        ...       ...   \n99203    66.957846  46.307113  37.235502  46.307113  37.235502  1.243628   \n99204    66.951497  46.246748  37.140492  46.246748  37.140492  1.245184   \n99205    66.240158  46.229480  37.094161  46.229480  37.094161  1.246274   \n99206    66.738613  46.132734  36.995682  46.132734  36.995682  1.246976   \n99207    66.737361  46.157752  36.959724  46.157752  36.959724  1.248866   \n\n       xgb_theta  xgb_phi        phi      theta  pupil_diameter_pixels  \\\n0            NaN      NaN  41.484692 -28.411240             284.851657   \n1            NaN      NaN  41.484692 -28.411240             284.731971   \n2            NaN      NaN  41.484692 -28.411240             284.581437   \n3            NaN      NaN  41.484692 -28.411240             284.428670   \n4            NaN      NaN  41.484692 -28.411240             284.733399   \n...          ...      ...        ...        ...                    ...   \n99203        NaN      NaN  39.517727 -33.517628             290.956173   \n99204        NaN      NaN  39.517727 -33.517628             290.576885   \n99205        NaN      NaN  39.518051 -33.517628             290.468388   \n99206        NaN      NaN  39.518051 -33.517628             289.860518   \n99207        NaN      NaN  40.215939 -33.517628             290.017709   \n\n       pupil_diameter  \n0           12.818325  \n1           12.812939  \n2           12.806165  \n3           12.799290  \n4           12.813003  \n...               ...  \n99203       13.093028  \n99204       13.075960  \n99205       13.071077  \n99206       13.043723  \n99207       13.050797  \n\n[99208 rows x 17 columns]",
      "text/html": "<div>\n<style scoped>\n    .dataframe tbody tr th:only-of-type {\n        vertical-align: middle;\n    }\n\n    .dataframe tbody tr th {\n        vertical-align: top;\n    }\n\n    .dataframe thead th {\n        text-align: right;\n    }\n</style>\n<table border=\"1\" class=\"dataframe\">\n  <thead>\n    <tr style=\"text-align: right;\">\n      <th></th>\n      <th>OE_timestamp</th>\n      <th>eye_frame</th>\n      <th>ms_axis</th>\n      <th>center_x</th>\n      <th>center_y</th>\n      <th>ellipse_phi</th>\n      <th>width</th>\n      <th>height</th>\n      <th>major_ax</th>\n      <th>minor_ax</th>\n      <th>ratio</th>\n      <th>xgb_theta</th>\n      <th>xgb_phi</th>\n      <th>phi</th>\n      <th>theta</th>\n      <th>pupil_diameter_pixels</th>\n      <th>pupil_diameter</th>\n    </tr>\n  </thead>\n  <tbody>\n    <tr>\n      <th>0</th>\n      <td>565951.0</td>\n      <td>1.0</td>\n      <td>28297.55</td>\n      <td>444.632190</td>\n      <td>206.829264</td>\n      <td>83.016304</td>\n      <td>45.335549</td>\n      <td>32.726528</td>\n      <td>45.335549</td>\n      <td>32.726528</td>\n      <td>1.385284</td>\n      <td>NaN</td>\n      <td>NaN</td>\n      <td>41.484692</td>\n      <td>-28.411240</td>\n      <td>284.851657</td>\n      <td>12.818325</td>\n    </tr>\n    <tr>\n      <th>1</th>\n      <td>566291.0</td>\n      <td>2.0</td>\n      <td>28314.55</td>\n      <td>444.501312</td>\n      <td>206.839827</td>\n      <td>83.435273</td>\n      <td>45.316501</td>\n      <td>32.731487</td>\n      <td>45.316501</td>\n      <td>32.731487</td>\n      <td>1.384493</td>\n      <td>NaN</td>\n      <td>NaN</td>\n      <td>41.484692</td>\n      <td>-28.411240</td>\n      <td>284.731971</td>\n      <td>12.812939</td>\n    </tr>\n    <tr>\n      <th>2</th>\n      <td>566631.0</td>\n      <td>3.0</td>\n      <td>28331.55</td>\n      <td>444.489259</td>\n      <td>206.843911</td>\n      <td>83.266029</td>\n      <td>45.292542</td>\n      <td>32.789987</td>\n      <td>45.292542</td>\n      <td>32.789987</td>\n      <td>1.381292</td>\n      <td>NaN</td>\n      <td>NaN</td>\n      <td>41.484692</td>\n      <td>-28.411240</td>\n      <td>284.581437</td>\n      <td>12.806165</td>\n    </tr>\n    <tr>\n      <th>3</th>\n      <td>566970.0</td>\n      <td>4.0</td>\n      <td>28348.50</td>\n      <td>444.515784</td>\n      <td>206.859801</td>\n      <td>83.509805</td>\n      <td>45.268229</td>\n      <td>32.769033</td>\n      <td>45.268229</td>\n      <td>32.769033</td>\n      <td>1.381433</td>\n      <td>NaN</td>\n      <td>NaN</td>\n      <td>41.484692</td>\n      <td>-28.411240</td>\n      <td>284.428670</td>\n      <td>12.799290</td>\n    </tr>\n    <tr>\n      <th>4</th>\n      <td>567310.0</td>\n      <td>5.0</td>\n      <td>28365.50</td>\n      <td>444.444498</td>\n      <td>206.920830</td>\n      <td>83.589111</td>\n      <td>45.316728</td>\n      <td>32.700692</td>\n      <td>45.316728</td>\n      <td>32.700692</td>\n      <td>1.385803</td>\n      <td>NaN</td>\n      <td>NaN</td>\n      <td>41.484692</td>\n      <td>-28.411240</td>\n      <td>284.733399</td>\n      <td>12.813003</td>\n    </tr>\n    <tr>\n      <th>...</th>\n      <td>...</td>\n      <td>...</td>\n      <td>...</td>\n      <td>...</td>\n      <td>...</td>\n      <td>...</td>\n      <td>...</td>\n      <td>...</td>\n      <td>...</td>\n      <td>...</td>\n      <td>...</td>\n      <td>...</td>\n      <td>...</td>\n      <td>...</td>\n      <td>...</td>\n      <td>...</td>\n      <td>...</td>\n    </tr>\n    <tr>\n      <th>99203</th>\n      <td>34261949.0</td>\n      <td>101272.0</td>\n      <td>1713097.45</td>\n      <td>412.843225</td>\n      <td>200.260902</td>\n      <td>66.957846</td>\n      <td>46.307113</td>\n      <td>37.235502</td>\n      <td>46.307113</td>\n      <td>37.235502</td>\n      <td>1.243628</td>\n      <td>NaN</td>\n      <td>NaN</td>\n      <td>39.517727</td>\n      <td>-33.517628</td>\n      <td>290.956173</td>\n      <td>13.093028</td>\n    </tr>\n    <tr>\n      <th>99204</th>\n      <td>34262289.0</td>\n      <td>101273.0</td>\n      <td>1713114.45</td>\n      <td>412.871902</td>\n      <td>200.210474</td>\n      <td>66.951497</td>\n      <td>46.246748</td>\n      <td>37.140492</td>\n      <td>46.246748</td>\n      <td>37.140492</td>\n      <td>1.245184</td>\n      <td>NaN</td>\n      <td>NaN</td>\n      <td>39.517727</td>\n      <td>-33.517628</td>\n      <td>290.576885</td>\n      <td>13.075960</td>\n    </tr>\n    <tr>\n      <th>99205</th>\n      <td>34262628.0</td>\n      <td>101274.0</td>\n      <td>1713131.40</td>\n      <td>412.912947</td>\n      <td>200.210626</td>\n      <td>66.240158</td>\n      <td>46.229480</td>\n      <td>37.094161</td>\n      <td>46.229480</td>\n      <td>37.094161</td>\n      <td>1.246274</td>\n      <td>NaN</td>\n      <td>NaN</td>\n      <td>39.518051</td>\n      <td>-33.517628</td>\n      <td>290.468388</td>\n      <td>13.071077</td>\n    </tr>\n    <tr>\n      <th>99206</th>\n      <td>34262968.0</td>\n      <td>101275.0</td>\n      <td>1713148.40</td>\n      <td>413.046975</td>\n      <td>200.175398</td>\n      <td>66.738613</td>\n      <td>46.132734</td>\n      <td>36.995682</td>\n      <td>46.132734</td>\n      <td>36.995682</td>\n      <td>1.246976</td>\n      <td>NaN</td>\n      <td>NaN</td>\n      <td>39.518051</td>\n      <td>-33.517628</td>\n      <td>289.860518</td>\n      <td>13.043723</td>\n    </tr>\n    <tr>\n      <th>99207</th>\n      <td>34263307.0</td>\n      <td>101276.0</td>\n      <td>1713165.35</td>\n      <td>413.075933</td>\n      <td>200.188772</td>\n      <td>66.737361</td>\n      <td>46.157752</td>\n      <td>36.959724</td>\n      <td>46.157752</td>\n      <td>36.959724</td>\n      <td>1.248866</td>\n      <td>NaN</td>\n      <td>NaN</td>\n      <td>40.215939</td>\n      <td>-33.517628</td>\n      <td>290.017709</td>\n      <td>13.050797</td>\n    </tr>\n  </tbody>\n</table>\n<p>99208 rows × 17 columns</p>\n</div>"
     },
     "execution_count": 366,
     "metadata": {},
     "output_type": "execute_result"
    }
   ],
   "source": [
    "block.left_eye_data"
   ],
   "metadata": {
    "collapsed": false,
    "ExecuteTime": {
     "end_time": "2024-12-31T13:36:53.366646100Z",
     "start_time": "2024-12-31T13:36:53.303980300Z"
    }
   },
   "id": "ecd3a3eebe396cdb",
   "execution_count": 366
  },
  {
   "cell_type": "code",
   "outputs": [
    {
     "data": {
      "text/plain": "       OE_timestamp  eye_frame     ms_axis    center_x    center_y  \\\n0          565951.0        1.0    28297.55  444.632190  206.829264   \n1          566291.0        2.0    28314.55  444.501312  206.839827   \n2          566631.0        3.0    28331.55  444.489259  206.843911   \n3          566970.0        4.0    28348.50  444.515784  206.859801   \n4          567310.0        5.0    28365.50  444.444498  206.920830   \n...             ...        ...         ...         ...         ...   \n99203    34261949.0   101272.0  1713097.45  412.843225  200.260902   \n99204    34262289.0   101273.0  1713114.45  412.871902  200.210474   \n99205    34262628.0   101274.0  1713131.40  412.912947  200.210626   \n99206    34262968.0   101275.0  1713148.40  413.046975  200.175398   \n99207    34263307.0   101276.0  1713165.35  413.075933  200.188772   \n\n       ellipse_phi      width     height   major_ax   minor_ax     ratio  \\\n0        83.016304  45.335549  32.726528  45.335549  32.726528  1.385284   \n1        83.435273  45.316501  32.731487  45.316501  32.731487  1.384493   \n2        83.266029  45.292542  32.789987  45.292542  32.789987  1.381292   \n3        83.509805  45.268229  32.769033  45.268229  32.769033  1.381433   \n4        83.589111  45.316728  32.700692  45.316728  32.700692  1.385803   \n...            ...        ...        ...        ...        ...       ...   \n99203    66.957846  46.307113  37.235502  46.307113  37.235502  1.243628   \n99204    66.951497  46.246748  37.140492  46.246748  37.140492  1.245184   \n99205    66.240158  46.229480  37.094161  46.229480  37.094161  1.246274   \n99206    66.738613  46.132734  36.995682  46.132734  36.995682  1.246976   \n99207    66.737361  46.157752  36.959724  46.157752  36.959724  1.248866   \n\n       xgb_theta  xgb_phi        phi      theta  pupil_diameter_pixels  \\\n0            NaN      NaN  41.484692 -28.411240             284.851657   \n1            NaN      NaN  41.484692 -28.411240             284.731971   \n2            NaN      NaN  41.484692 -28.411240             284.581437   \n3            NaN      NaN  41.484692 -28.411240             284.428670   \n4            NaN      NaN  41.484692 -28.411240             284.733399   \n...          ...      ...        ...        ...                    ...   \n99203        NaN      NaN  39.517727 -33.517628             290.956173   \n99204        NaN      NaN  39.517727 -33.517628             290.576885   \n99205        NaN      NaN  39.518051 -33.517628             290.468388   \n99206        NaN      NaN  39.518051 -33.517628             289.860518   \n99207        NaN      NaN  40.215939 -33.517628             290.017709   \n\n       pupil_diameter  \n0           12.818325  \n1           12.812939  \n2           12.806165  \n3           12.799290  \n4           12.813003  \n...               ...  \n99203       13.093028  \n99204       13.075960  \n99205       13.071077  \n99206       13.043723  \n99207       13.050797  \n\n[99208 rows x 17 columns]",
      "text/html": "<div>\n<style scoped>\n    .dataframe tbody tr th:only-of-type {\n        vertical-align: middle;\n    }\n\n    .dataframe tbody tr th {\n        vertical-align: top;\n    }\n\n    .dataframe thead th {\n        text-align: right;\n    }\n</style>\n<table border=\"1\" class=\"dataframe\">\n  <thead>\n    <tr style=\"text-align: right;\">\n      <th></th>\n      <th>OE_timestamp</th>\n      <th>eye_frame</th>\n      <th>ms_axis</th>\n      <th>center_x</th>\n      <th>center_y</th>\n      <th>ellipse_phi</th>\n      <th>width</th>\n      <th>height</th>\n      <th>major_ax</th>\n      <th>minor_ax</th>\n      <th>ratio</th>\n      <th>xgb_theta</th>\n      <th>xgb_phi</th>\n      <th>phi</th>\n      <th>theta</th>\n      <th>pupil_diameter_pixels</th>\n      <th>pupil_diameter</th>\n    </tr>\n  </thead>\n  <tbody>\n    <tr>\n      <th>0</th>\n      <td>565951.0</td>\n      <td>1.0</td>\n      <td>28297.55</td>\n      <td>444.632190</td>\n      <td>206.829264</td>\n      <td>83.016304</td>\n      <td>45.335549</td>\n      <td>32.726528</td>\n      <td>45.335549</td>\n      <td>32.726528</td>\n      <td>1.385284</td>\n      <td>NaN</td>\n      <td>NaN</td>\n      <td>41.484692</td>\n      <td>-28.411240</td>\n      <td>284.851657</td>\n      <td>12.818325</td>\n    </tr>\n    <tr>\n      <th>1</th>\n      <td>566291.0</td>\n      <td>2.0</td>\n      <td>28314.55</td>\n      <td>444.501312</td>\n      <td>206.839827</td>\n      <td>83.435273</td>\n      <td>45.316501</td>\n      <td>32.731487</td>\n      <td>45.316501</td>\n      <td>32.731487</td>\n      <td>1.384493</td>\n      <td>NaN</td>\n      <td>NaN</td>\n      <td>41.484692</td>\n      <td>-28.411240</td>\n      <td>284.731971</td>\n      <td>12.812939</td>\n    </tr>\n    <tr>\n      <th>2</th>\n      <td>566631.0</td>\n      <td>3.0</td>\n      <td>28331.55</td>\n      <td>444.489259</td>\n      <td>206.843911</td>\n      <td>83.266029</td>\n      <td>45.292542</td>\n      <td>32.789987</td>\n      <td>45.292542</td>\n      <td>32.789987</td>\n      <td>1.381292</td>\n      <td>NaN</td>\n      <td>NaN</td>\n      <td>41.484692</td>\n      <td>-28.411240</td>\n      <td>284.581437</td>\n      <td>12.806165</td>\n    </tr>\n    <tr>\n      <th>3</th>\n      <td>566970.0</td>\n      <td>4.0</td>\n      <td>28348.50</td>\n      <td>444.515784</td>\n      <td>206.859801</td>\n      <td>83.509805</td>\n      <td>45.268229</td>\n      <td>32.769033</td>\n      <td>45.268229</td>\n      <td>32.769033</td>\n      <td>1.381433</td>\n      <td>NaN</td>\n      <td>NaN</td>\n      <td>41.484692</td>\n      <td>-28.411240</td>\n      <td>284.428670</td>\n      <td>12.799290</td>\n    </tr>\n    <tr>\n      <th>4</th>\n      <td>567310.0</td>\n      <td>5.0</td>\n      <td>28365.50</td>\n      <td>444.444498</td>\n      <td>206.920830</td>\n      <td>83.589111</td>\n      <td>45.316728</td>\n      <td>32.700692</td>\n      <td>45.316728</td>\n      <td>32.700692</td>\n      <td>1.385803</td>\n      <td>NaN</td>\n      <td>NaN</td>\n      <td>41.484692</td>\n      <td>-28.411240</td>\n      <td>284.733399</td>\n      <td>12.813003</td>\n    </tr>\n    <tr>\n      <th>...</th>\n      <td>...</td>\n      <td>...</td>\n      <td>...</td>\n      <td>...</td>\n      <td>...</td>\n      <td>...</td>\n      <td>...</td>\n      <td>...</td>\n      <td>...</td>\n      <td>...</td>\n      <td>...</td>\n      <td>...</td>\n      <td>...</td>\n      <td>...</td>\n      <td>...</td>\n      <td>...</td>\n      <td>...</td>\n    </tr>\n    <tr>\n      <th>99203</th>\n      <td>34261949.0</td>\n      <td>101272.0</td>\n      <td>1713097.45</td>\n      <td>412.843225</td>\n      <td>200.260902</td>\n      <td>66.957846</td>\n      <td>46.307113</td>\n      <td>37.235502</td>\n      <td>46.307113</td>\n      <td>37.235502</td>\n      <td>1.243628</td>\n      <td>NaN</td>\n      <td>NaN</td>\n      <td>39.517727</td>\n      <td>-33.517628</td>\n      <td>290.956173</td>\n      <td>13.093028</td>\n    </tr>\n    <tr>\n      <th>99204</th>\n      <td>34262289.0</td>\n      <td>101273.0</td>\n      <td>1713114.45</td>\n      <td>412.871902</td>\n      <td>200.210474</td>\n      <td>66.951497</td>\n      <td>46.246748</td>\n      <td>37.140492</td>\n      <td>46.246748</td>\n      <td>37.140492</td>\n      <td>1.245184</td>\n      <td>NaN</td>\n      <td>NaN</td>\n      <td>39.517727</td>\n      <td>-33.517628</td>\n      <td>290.576885</td>\n      <td>13.075960</td>\n    </tr>\n    <tr>\n      <th>99205</th>\n      <td>34262628.0</td>\n      <td>101274.0</td>\n      <td>1713131.40</td>\n      <td>412.912947</td>\n      <td>200.210626</td>\n      <td>66.240158</td>\n      <td>46.229480</td>\n      <td>37.094161</td>\n      <td>46.229480</td>\n      <td>37.094161</td>\n      <td>1.246274</td>\n      <td>NaN</td>\n      <td>NaN</td>\n      <td>39.518051</td>\n      <td>-33.517628</td>\n      <td>290.468388</td>\n      <td>13.071077</td>\n    </tr>\n    <tr>\n      <th>99206</th>\n      <td>34262968.0</td>\n      <td>101275.0</td>\n      <td>1713148.40</td>\n      <td>413.046975</td>\n      <td>200.175398</td>\n      <td>66.738613</td>\n      <td>46.132734</td>\n      <td>36.995682</td>\n      <td>46.132734</td>\n      <td>36.995682</td>\n      <td>1.246976</td>\n      <td>NaN</td>\n      <td>NaN</td>\n      <td>39.518051</td>\n      <td>-33.517628</td>\n      <td>289.860518</td>\n      <td>13.043723</td>\n    </tr>\n    <tr>\n      <th>99207</th>\n      <td>34263307.0</td>\n      <td>101276.0</td>\n      <td>1713165.35</td>\n      <td>413.075933</td>\n      <td>200.188772</td>\n      <td>66.737361</td>\n      <td>46.157752</td>\n      <td>36.959724</td>\n      <td>46.157752</td>\n      <td>36.959724</td>\n      <td>1.248866</td>\n      <td>NaN</td>\n      <td>NaN</td>\n      <td>40.215939</td>\n      <td>-33.517628</td>\n      <td>290.017709</td>\n      <td>13.050797</td>\n    </tr>\n  </tbody>\n</table>\n<p>99208 rows × 17 columns</p>\n</div>"
     },
     "execution_count": 375,
     "metadata": {},
     "output_type": "execute_result"
    }
   ],
   "source": [
    "block.left_eye_data"
   ],
   "metadata": {
    "collapsed": false,
    "ExecuteTime": {
     "end_time": "2024-12-31T13:50:57.799498300Z",
     "start_time": "2024-12-31T13:50:57.688130800Z"
    }
   },
   "id": "91ab2df9cd0a9ff6",
   "execution_count": 375
  },
  {
   "cell_type": "code",
   "outputs": [
    {
     "data": {
      "text/plain": "        Arena_TTL  Arena_frame\n0        565951.0        913.0\n1        566291.0        914.0\n2        566631.0        915.0\n3        566970.0        916.0\n4        567310.0        917.0\n...           ...          ...\n99203  34261949.0     100116.0\n99204  34262289.0     100117.0\n99205  34262628.0     100118.0\n99206  34262968.0     100119.0\n99207  34263307.0     100120.0\n\n[99208 rows x 2 columns]",
      "text/html": "<div>\n<style scoped>\n    .dataframe tbody tr th:only-of-type {\n        vertical-align: middle;\n    }\n\n    .dataframe tbody tr th {\n        vertical-align: top;\n    }\n\n    .dataframe thead th {\n        text-align: right;\n    }\n</style>\n<table border=\"1\" class=\"dataframe\">\n  <thead>\n    <tr style=\"text-align: right;\">\n      <th></th>\n      <th>Arena_TTL</th>\n      <th>Arena_frame</th>\n    </tr>\n  </thead>\n  <tbody>\n    <tr>\n      <th>0</th>\n      <td>565951.0</td>\n      <td>913.0</td>\n    </tr>\n    <tr>\n      <th>1</th>\n      <td>566291.0</td>\n      <td>914.0</td>\n    </tr>\n    <tr>\n      <th>2</th>\n      <td>566631.0</td>\n      <td>915.0</td>\n    </tr>\n    <tr>\n      <th>3</th>\n      <td>566970.0</td>\n      <td>916.0</td>\n    </tr>\n    <tr>\n      <th>4</th>\n      <td>567310.0</td>\n      <td>917.0</td>\n    </tr>\n    <tr>\n      <th>...</th>\n      <td>...</td>\n      <td>...</td>\n    </tr>\n    <tr>\n      <th>99203</th>\n      <td>34261949.0</td>\n      <td>100116.0</td>\n    </tr>\n    <tr>\n      <th>99204</th>\n      <td>34262289.0</td>\n      <td>100117.0</td>\n    </tr>\n    <tr>\n      <th>99205</th>\n      <td>34262628.0</td>\n      <td>100118.0</td>\n    </tr>\n    <tr>\n      <th>99206</th>\n      <td>34262968.0</td>\n      <td>100119.0</td>\n    </tr>\n    <tr>\n      <th>99207</th>\n      <td>34263307.0</td>\n      <td>100120.0</td>\n    </tr>\n  </tbody>\n</table>\n<p>99208 rows × 2 columns</p>\n</div>"
     },
     "execution_count": 382,
     "metadata": {},
     "output_type": "execute_result"
    }
   ],
   "source": [
    "block.final_sync_df[['Arena_TTL','Arena_frame']]"
   ],
   "metadata": {
    "collapsed": false,
    "ExecuteTime": {
     "end_time": "2024-12-31T14:01:26.538536100Z",
     "start_time": "2024-12-31T14:01:26.449306800Z"
    }
   },
   "id": "33c7eb4b64a5daf9",
   "execution_count": 382
  },
  {
   "cell_type": "code",
   "outputs": [
    {
     "data": {
      "text/plain": "   Unnamed: 0.1  Arena_TTL  Arena_frame  L_eye_frame  R_eye_frame  L_values  \\\n0             0   565951.0        913.0          1.0          NaN -2.646521   \n1             1   566291.0        914.0          2.0          NaN -2.646440   \n2             2   566631.0        915.0          3.0          NaN -2.646465   \n3             3   566970.0        916.0          4.0          NaN -2.641369   \n4             4   567310.0        917.0          5.0          2.0 -2.641731   \n\n   R_values  \n0       NaN  \n1       NaN  \n2       NaN  \n3       NaN  \n4  0.554543  ",
      "text/html": "<div>\n<style scoped>\n    .dataframe tbody tr th:only-of-type {\n        vertical-align: middle;\n    }\n\n    .dataframe tbody tr th {\n        vertical-align: top;\n    }\n\n    .dataframe thead th {\n        text-align: right;\n    }\n</style>\n<table border=\"1\" class=\"dataframe\">\n  <thead>\n    <tr style=\"text-align: right;\">\n      <th></th>\n      <th>Unnamed: 0.1</th>\n      <th>Arena_TTL</th>\n      <th>Arena_frame</th>\n      <th>L_eye_frame</th>\n      <th>R_eye_frame</th>\n      <th>L_values</th>\n      <th>R_values</th>\n    </tr>\n  </thead>\n  <tbody>\n    <tr>\n      <th>0</th>\n      <td>0</td>\n      <td>565951.0</td>\n      <td>913.0</td>\n      <td>1.0</td>\n      <td>NaN</td>\n      <td>-2.646521</td>\n      <td>NaN</td>\n    </tr>\n    <tr>\n      <th>1</th>\n      <td>1</td>\n      <td>566291.0</td>\n      <td>914.0</td>\n      <td>2.0</td>\n      <td>NaN</td>\n      <td>-2.646440</td>\n      <td>NaN</td>\n    </tr>\n    <tr>\n      <th>2</th>\n      <td>2</td>\n      <td>566631.0</td>\n      <td>915.0</td>\n      <td>3.0</td>\n      <td>NaN</td>\n      <td>-2.646465</td>\n      <td>NaN</td>\n    </tr>\n    <tr>\n      <th>3</th>\n      <td>3</td>\n      <td>566970.0</td>\n      <td>916.0</td>\n      <td>4.0</td>\n      <td>NaN</td>\n      <td>-2.641369</td>\n      <td>NaN</td>\n    </tr>\n    <tr>\n      <th>4</th>\n      <td>4</td>\n      <td>567310.0</td>\n      <td>917.0</td>\n      <td>5.0</td>\n      <td>2.0</td>\n      <td>-2.641731</td>\n      <td>0.554543</td>\n    </tr>\n  </tbody>\n</table>\n</div>"
     },
     "execution_count": 380,
     "metadata": {},
     "output_type": "execute_result"
    }
   ],
   "source": [
    "block.final_sync_df.head()"
   ],
   "metadata": {
    "collapsed": false,
    "ExecuteTime": {
     "end_time": "2024-12-31T14:01:11.252587900Z",
     "start_time": "2024-12-31T14:01:11.176083500Z"
    }
   },
   "id": "aae3cc695f1bc31c",
   "execution_count": 380
  },
  {
   "cell_type": "code",
   "outputs": [],
   "source": [
    "\n",
    "def create_sync_dataframe(block):\n",
    "    \"\"\"\n",
    "    Constructs a synchronization dataframe for video synchronization.\n",
    "\n",
    "    Parameters:\n",
    "        block: BlockSync object containing synchronization data and eye data.\n",
    "\n",
    "    Returns:\n",
    "        pd.DataFrame: A dataframe with integrated synchronization data for arena and eye videos.\n",
    "    \"\"\"\n",
    "    # Start with the final_sync_df\n",
    "    try:\n",
    "        sync_df = block.final_sync_df[['Arena_TTL', 'Arena_frame']].copy()\n",
    "        sync_df.rename(columns={'Arena_TTL': 'OE_timestamp'}, inplace=True)\n",
    "    except KeyError:\n",
    "        sync_df = block.final_sync_df[['OE_timestamp','Arena_frame']].copy()\n",
    "\n",
    "    # Merge with left eye data\n",
    "    left_eye_data = block.left_eye_data[['OE_timestamp', 'eye_frame']].rename(columns={'eye_frame': 'L_eye_frame'})\n",
    "    sync_df = pd.merge(sync_df, left_eye_data, on='OE_timestamp', how='left')\n",
    "\n",
    "    # Merge with right eye data\n",
    "    right_eye_data = block.right_eye_data[['OE_timestamp', 'eye_frame']].rename(columns={'eye_frame': 'R_eye_frame'})\n",
    "    sync_df = pd.merge(sync_df, right_eye_data, on='OE_timestamp', how='left')\n",
    "\n",
    "    return sync_df\n",
    "\n",
    "# Example Usage\n",
    "sync_df = create_sync_dataframe(block)"
   ],
   "metadata": {
    "collapsed": false,
    "ExecuteTime": {
     "end_time": "2025-01-01T18:27:58.727753700Z",
     "start_time": "2025-01-01T18:27:58.599729600Z"
    }
   },
   "id": "5925f18caca6155",
   "execution_count": 392
  },
  {
   "cell_type": "code",
   "outputs": [
    {
     "data": {
      "text/plain": "       Unnamed: 0.1  OE_timestamp  Arena_frame  L_eye_frame  R_eye_frame  \\\n0                 0      565951.0        913.0          1.0          NaN   \n1                 1      566291.0        914.0          2.0          NaN   \n2                 2      566631.0        915.0          3.0          NaN   \n3                 3      566970.0        916.0          4.0          NaN   \n4                 4      567310.0        917.0          5.0          2.0   \n...             ...           ...          ...          ...          ...   \n99203         99203    34261949.0     100116.0     101272.0     101271.0   \n99204         99204    34262289.0     100117.0     101273.0     101272.0   \n99205         99205    34262628.0     100118.0     101274.0     101273.0   \n99206         99206    34262968.0     100119.0     101275.0     101274.0   \n99207         99207    34263307.0     100120.0     101276.0     101275.0   \n\n       L_values  R_values  \n0     -2.646521       NaN  \n1     -2.646440       NaN  \n2     -2.646465       NaN  \n3     -2.641369       NaN  \n4     -2.641731  0.554543  \n...         ...       ...  \n99203  0.072080 -1.185376  \n99204  0.072150 -1.185574  \n99205  0.072569 -1.186444  \n99206  0.075081 -1.186171  \n99207  0.074788 -1.186275  \n\n[99208 rows x 7 columns]",
      "text/html": "<div>\n<style scoped>\n    .dataframe tbody tr th:only-of-type {\n        vertical-align: middle;\n    }\n\n    .dataframe tbody tr th {\n        vertical-align: top;\n    }\n\n    .dataframe thead th {\n        text-align: right;\n    }\n</style>\n<table border=\"1\" class=\"dataframe\">\n  <thead>\n    <tr style=\"text-align: right;\">\n      <th></th>\n      <th>Unnamed: 0.1</th>\n      <th>OE_timestamp</th>\n      <th>Arena_frame</th>\n      <th>L_eye_frame</th>\n      <th>R_eye_frame</th>\n      <th>L_values</th>\n      <th>R_values</th>\n    </tr>\n  </thead>\n  <tbody>\n    <tr>\n      <th>0</th>\n      <td>0</td>\n      <td>565951.0</td>\n      <td>913.0</td>\n      <td>1.0</td>\n      <td>NaN</td>\n      <td>-2.646521</td>\n      <td>NaN</td>\n    </tr>\n    <tr>\n      <th>1</th>\n      <td>1</td>\n      <td>566291.0</td>\n      <td>914.0</td>\n      <td>2.0</td>\n      <td>NaN</td>\n      <td>-2.646440</td>\n      <td>NaN</td>\n    </tr>\n    <tr>\n      <th>2</th>\n      <td>2</td>\n      <td>566631.0</td>\n      <td>915.0</td>\n      <td>3.0</td>\n      <td>NaN</td>\n      <td>-2.646465</td>\n      <td>NaN</td>\n    </tr>\n    <tr>\n      <th>3</th>\n      <td>3</td>\n      <td>566970.0</td>\n      <td>916.0</td>\n      <td>4.0</td>\n      <td>NaN</td>\n      <td>-2.641369</td>\n      <td>NaN</td>\n    </tr>\n    <tr>\n      <th>4</th>\n      <td>4</td>\n      <td>567310.0</td>\n      <td>917.0</td>\n      <td>5.0</td>\n      <td>2.0</td>\n      <td>-2.641731</td>\n      <td>0.554543</td>\n    </tr>\n    <tr>\n      <th>...</th>\n      <td>...</td>\n      <td>...</td>\n      <td>...</td>\n      <td>...</td>\n      <td>...</td>\n      <td>...</td>\n      <td>...</td>\n    </tr>\n    <tr>\n      <th>99203</th>\n      <td>99203</td>\n      <td>34261949.0</td>\n      <td>100116.0</td>\n      <td>101272.0</td>\n      <td>101271.0</td>\n      <td>0.072080</td>\n      <td>-1.185376</td>\n    </tr>\n    <tr>\n      <th>99204</th>\n      <td>99204</td>\n      <td>34262289.0</td>\n      <td>100117.0</td>\n      <td>101273.0</td>\n      <td>101272.0</td>\n      <td>0.072150</td>\n      <td>-1.185574</td>\n    </tr>\n    <tr>\n      <th>99205</th>\n      <td>99205</td>\n      <td>34262628.0</td>\n      <td>100118.0</td>\n      <td>101274.0</td>\n      <td>101273.0</td>\n      <td>0.072569</td>\n      <td>-1.186444</td>\n    </tr>\n    <tr>\n      <th>99206</th>\n      <td>99206</td>\n      <td>34262968.0</td>\n      <td>100119.0</td>\n      <td>101275.0</td>\n      <td>101274.0</td>\n      <td>0.075081</td>\n      <td>-1.186171</td>\n    </tr>\n    <tr>\n      <th>99207</th>\n      <td>99207</td>\n      <td>34263307.0</td>\n      <td>100120.0</td>\n      <td>101276.0</td>\n      <td>101275.0</td>\n      <td>0.074788</td>\n      <td>-1.186275</td>\n    </tr>\n  </tbody>\n</table>\n<p>99208 rows × 7 columns</p>\n</div>"
     },
     "execution_count": 391,
     "metadata": {},
     "output_type": "execute_result"
    }
   ],
   "source": [
    "block.final_sync_df"
   ],
   "metadata": {
    "collapsed": false,
    "ExecuteTime": {
     "end_time": "2025-01-01T18:27:02.579659Z",
     "start_time": "2025-01-01T18:27:02.495470700Z"
    }
   },
   "id": "84f2127bc1618632",
   "execution_count": 391
  },
  {
   "cell_type": "code",
   "outputs": [
    {
     "data": {
      "text/plain": "       Unnamed: 0.1   Arena_TTL  Arena_frame  L_eye_frame  R_eye_frame  \\\n0                 0    565951.0        913.0          1.0          NaN   \n1                 1    566291.0        914.0          2.0          NaN   \n2                 2    566631.0        915.0          3.0          NaN   \n3                 3    566970.0        916.0          4.0          NaN   \n4                 4    567310.0        917.0          5.0          2.0   \n...             ...         ...          ...          ...          ...   \n99203         99203  34261949.0     100116.0     101272.0     101271.0   \n99204         99204  34262289.0     100117.0     101273.0     101272.0   \n99205         99205  34262628.0     100118.0     101274.0     101273.0   \n99206         99206  34262968.0     100119.0     101275.0     101274.0   \n99207         99207  34263307.0     100120.0     101276.0     101275.0   \n\n       L_values  R_values  \n0     -2.646521       NaN  \n1     -2.646440       NaN  \n2     -2.646465       NaN  \n3     -2.641369       NaN  \n4     -2.641731  0.554543  \n...         ...       ...  \n99203  0.072080 -1.185376  \n99204  0.072150 -1.185574  \n99205  0.072569 -1.186444  \n99206  0.075081 -1.186171  \n99207  0.074788 -1.186275  \n\n[99208 rows x 7 columns]",
      "text/html": "<div>\n<style scoped>\n    .dataframe tbody tr th:only-of-type {\n        vertical-align: middle;\n    }\n\n    .dataframe tbody tr th {\n        vertical-align: top;\n    }\n\n    .dataframe thead th {\n        text-align: right;\n    }\n</style>\n<table border=\"1\" class=\"dataframe\">\n  <thead>\n    <tr style=\"text-align: right;\">\n      <th></th>\n      <th>Unnamed: 0.1</th>\n      <th>Arena_TTL</th>\n      <th>Arena_frame</th>\n      <th>L_eye_frame</th>\n      <th>R_eye_frame</th>\n      <th>L_values</th>\n      <th>R_values</th>\n    </tr>\n  </thead>\n  <tbody>\n    <tr>\n      <th>0</th>\n      <td>0</td>\n      <td>565951.0</td>\n      <td>913.0</td>\n      <td>1.0</td>\n      <td>NaN</td>\n      <td>-2.646521</td>\n      <td>NaN</td>\n    </tr>\n    <tr>\n      <th>1</th>\n      <td>1</td>\n      <td>566291.0</td>\n      <td>914.0</td>\n      <td>2.0</td>\n      <td>NaN</td>\n      <td>-2.646440</td>\n      <td>NaN</td>\n    </tr>\n    <tr>\n      <th>2</th>\n      <td>2</td>\n      <td>566631.0</td>\n      <td>915.0</td>\n      <td>3.0</td>\n      <td>NaN</td>\n      <td>-2.646465</td>\n      <td>NaN</td>\n    </tr>\n    <tr>\n      <th>3</th>\n      <td>3</td>\n      <td>566970.0</td>\n      <td>916.0</td>\n      <td>4.0</td>\n      <td>NaN</td>\n      <td>-2.641369</td>\n      <td>NaN</td>\n    </tr>\n    <tr>\n      <th>4</th>\n      <td>4</td>\n      <td>567310.0</td>\n      <td>917.0</td>\n      <td>5.0</td>\n      <td>2.0</td>\n      <td>-2.641731</td>\n      <td>0.554543</td>\n    </tr>\n    <tr>\n      <th>...</th>\n      <td>...</td>\n      <td>...</td>\n      <td>...</td>\n      <td>...</td>\n      <td>...</td>\n      <td>...</td>\n      <td>...</td>\n    </tr>\n    <tr>\n      <th>99203</th>\n      <td>99203</td>\n      <td>34261949.0</td>\n      <td>100116.0</td>\n      <td>101272.0</td>\n      <td>101271.0</td>\n      <td>0.072080</td>\n      <td>-1.185376</td>\n    </tr>\n    <tr>\n      <th>99204</th>\n      <td>99204</td>\n      <td>34262289.0</td>\n      <td>100117.0</td>\n      <td>101273.0</td>\n      <td>101272.0</td>\n      <td>0.072150</td>\n      <td>-1.185574</td>\n    </tr>\n    <tr>\n      <th>99205</th>\n      <td>99205</td>\n      <td>34262628.0</td>\n      <td>100118.0</td>\n      <td>101274.0</td>\n      <td>101273.0</td>\n      <td>0.072569</td>\n      <td>-1.186444</td>\n    </tr>\n    <tr>\n      <th>99206</th>\n      <td>99206</td>\n      <td>34262968.0</td>\n      <td>100119.0</td>\n      <td>101275.0</td>\n      <td>101274.0</td>\n      <td>0.075081</td>\n      <td>-1.186171</td>\n    </tr>\n    <tr>\n      <th>99207</th>\n      <td>99207</td>\n      <td>34263307.0</td>\n      <td>100120.0</td>\n      <td>101276.0</td>\n      <td>101275.0</td>\n      <td>0.074788</td>\n      <td>-1.186275</td>\n    </tr>\n  </tbody>\n</table>\n<p>99208 rows × 7 columns</p>\n</div>"
     },
     "execution_count": 387,
     "metadata": {},
     "output_type": "execute_result"
    }
   ],
   "source": [
    "block.final_sync_df"
   ],
   "metadata": {
    "collapsed": false,
    "ExecuteTime": {
     "end_time": "2024-12-31T14:07:49.364792Z",
     "start_time": "2024-12-31T14:07:49.334778300Z"
    }
   },
   "id": "48c0fdb859d02958",
   "execution_count": 387
  },
  {
   "cell_type": "code",
   "outputs": [
    {
     "name": "stdout",
     "output_type": "stream",
     "text": [
      "Mismatch Summary:\n",
      "total_frames: 99208\n",
      "L_eye_mismatches: 20951\n",
      "R_eye_mismatches: 10525\n",
      "L_eye_mismatch_percentage: 21.118256592210304\n",
      "R_eye_mismatch_percentage: 10.609023465849528\n"
     ]
    }
   ],
   "source": [
    "def compare_eye_frames(new_sync_df, final_sync_df):\n",
    "    \"\"\"\n",
    "    Compares the L_eye_frame and R_eye_frame columns between new_sync_df and final_sync_df.\n",
    "\n",
    "    Parameters:\n",
    "        new_sync_df (pd.DataFrame): The newly created synchronization dataframe.\n",
    "        final_sync_df (pd.DataFrame): The original synchronization dataframe.\n",
    "\n",
    "    Returns:\n",
    "        dict: A dictionary with mismatches and summary statistics.\n",
    "    \"\"\"\n",
    "    final_sync_df.rename(columns={'Arena_TTL': 'OE_timestamp'}, inplace=True)\n",
    "    # Merge the dataframes on OE_timestamp for alignment\n",
    "    comparison_df = pd.merge(\n",
    "        new_sync_df[['OE_timestamp', 'L_eye_frame', 'R_eye_frame']],\n",
    "        final_sync_df[['OE_timestamp', 'L_eye_frame', 'R_eye_frame']],\n",
    "        on='OE_timestamp',\n",
    "        suffixes=('_new', '_final'),\n",
    "        how='inner'\n",
    "    )\n",
    "\n",
    "    # Compare the columns\n",
    "    comparison_df['L_eye_mismatch'] = comparison_df['L_eye_frame_new'] != comparison_df['L_eye_frame_final']\n",
    "    comparison_df['R_eye_mismatch'] = comparison_df['R_eye_frame_new'] != comparison_df['R_eye_frame_final']\n",
    "\n",
    "    # Identify mismatches\n",
    "    l_eye_mismatches = comparison_df[comparison_df['L_eye_mismatch']]\n",
    "    r_eye_mismatches = comparison_df[comparison_df['R_eye_mismatch']]\n",
    "\n",
    "    # Summary statistics\n",
    "    mismatch_summary = {\n",
    "        'total_frames': len(comparison_df),\n",
    "        'L_eye_mismatches': len(l_eye_mismatches),\n",
    "        'R_eye_mismatches': len(r_eye_mismatches),\n",
    "        'L_eye_mismatch_percentage': len(l_eye_mismatches) / len(comparison_df) * 100,\n",
    "        'R_eye_mismatch_percentage': len(r_eye_mismatches) / len(comparison_df) * 100,\n",
    "    }\n",
    "\n",
    "    return {\n",
    "        'comparison_df': comparison_df,\n",
    "        'l_eye_mismatches': l_eye_mismatches,\n",
    "        'r_eye_mismatches': r_eye_mismatches,\n",
    "        'mismatch_summary': mismatch_summary\n",
    "    }\n",
    "\n",
    "# Example Usage\n",
    "results = compare_eye_frames(sync_df, block.final_sync_df)\n",
    "\n",
    "# Display summary of mismatches\n",
    "print(\"Mismatch Summary:\")\n",
    "for key, value in results['mismatch_summary'].items():\n",
    "    print(f\"{key}: {value}\")\n",
    "\n",
    "# Optionally, save the comparison dataframe to a CSV for detailed analysis\n",
    "results['comparison_df'].to_csv(\"eye_frame_comparison.csv\", index=False)\n"
   ],
   "metadata": {
    "collapsed": false,
    "ExecuteTime": {
     "end_time": "2024-12-31T14:08:09.097486300Z",
     "start_time": "2024-12-31T14:08:08.597541200Z"
    }
   },
   "id": "f71924d206aba84d",
   "execution_count": 388
  },
  {
   "cell_type": "code",
   "outputs": [],
   "source": [
    "def save_synchronized_videos(sync_df, arena_vid_left, arena_vid_top, left_vid, right_vid, indices, output_file, fps=60, duration=5, separator_duration=2):\n",
    "    \"\"\"\n",
    "    Saves synchronized frames from four video sources into a single concatenated video.\n",
    "\n",
    "    Parameters:\n",
    "        sync_df (pd.DataFrame): A dataframe with columns ['Arena_frame', 'L_eye_frame', 'R_eye_frame'].\n",
    "        arena_vid_left (str): Path to the left arena video file.\n",
    "        arena_vid_top (str): Path to the top arena video file.\n",
    "        left_vid (str): Path to the left eye video file.\n",
    "        right_vid (str): Path to the right eye video file.\n",
    "        indices (list): List of starting indices for segments to save.\n",
    "        output_file (str): Path to the output video file.\n",
    "        fps (int): Frames per second for the output video.\n",
    "        duration (int): Duration of each mini-video segment in seconds.\n",
    "        separator_duration (int): Duration of black screen separator in seconds.\n",
    "    \"\"\"\n",
    "    # Open video capture objects\n",
    "    arena_left_cap = cv2.VideoCapture(arena_vid_left)\n",
    "    arena_top_cap = cv2.VideoCapture(arena_vid_top)\n",
    "    left_cap = cv2.VideoCapture(left_vid)\n",
    "    right_cap = cv2.VideoCapture(right_vid)\n",
    "\n",
    "    if not (arena_left_cap.isOpened() and arena_top_cap.isOpened() and left_cap.isOpened() and right_cap.isOpened()):\n",
    "        print(\"Error: Could not open one or more video files.\")\n",
    "        return\n",
    "\n",
    "    # Get video properties\n",
    "    frame_width = int(arena_left_cap.get(cv2.CAP_PROP_FRAME_WIDTH))\n",
    "    frame_height = int(arena_left_cap.get(cv2.CAP_PROP_FRAME_HEIGHT))\n",
    "    black_frame = np.zeros((frame_height, frame_width, 3), dtype=np.uint8)\n",
    "\n",
    "    # Define output video writer\n",
    "    fourcc = cv2.VideoWriter_fourcc(*'mp4v')\n",
    "    output_size = (frame_width * 2, frame_height * 2)\n",
    "    out = cv2.VideoWriter(output_file, fourcc, fps, output_size)\n",
    "\n",
    "    # Function to resize frames while keeping aspect ratio\n",
    "    def resize_frame(frame, scale, canvas):\n",
    "        new_w, new_h = int(frame.shape[1] * scale), int(frame.shape[0] * scale)\n",
    "        resized = cv2.resize(frame, (new_w, new_h), interpolation=cv2.INTER_AREA)\n",
    "        canvas.fill(0)\n",
    "        canvas[(canvas.shape[0] - new_h) // 2:(canvas.shape[0] - new_h) // 2 + new_h,\n",
    "               (canvas.shape[1] - new_w) // 2:(canvas.shape[1] - new_w) // 2 + new_w] = resized\n",
    "        return canvas\n",
    "\n",
    "    # Function to concatenate frames\n",
    "    def concatenate_frames(frames):\n",
    "        top_row = np.hstack((frames[0], frames[1]))  # Arena left and top\n",
    "        bottom_row = np.hstack((frames[2], frames[3]))  # Left and right eye\n",
    "        return np.vstack((top_row, bottom_row))\n",
    "\n",
    "    # Process each segment\n",
    "    for start_idx in indices:\n",
    "        end_idx = start_idx + int(duration * fps)\n",
    "\n",
    "        for idx in range(start_idx, end_idx):\n",
    "            if idx >= len(sync_df):\n",
    "                break\n",
    "\n",
    "            row = sync_df.iloc[idx]\n",
    "            arena_left_frame, arena_top_frame = row['Arena_frame'], row['Arena_frame']\n",
    "            left_frame, right_frame = row['L_eye_frame'], row['R_eye_frame']\n",
    "\n",
    "            # Retrieve frames\n",
    "            def get_frame(cap, frame_idx):\n",
    "                cap.set(cv2.CAP_PROP_POS_FRAMES, frame_idx)\n",
    "                ret, frame = cap.read()\n",
    "                return frame if ret else black_frame\n",
    "\n",
    "            arena_left_img = get_frame(arena_left_cap, arena_left_frame)\n",
    "            arena_top_img = get_frame(arena_top_cap, arena_top_frame)\n",
    "            left_img = get_frame(left_cap, left_frame)\n",
    "            right_img = get_frame(right_cap, right_frame)\n",
    "\n",
    "            # Prepare individual canvases\n",
    "            arena_canvas_left = np.zeros((frame_height, frame_width, 3), dtype=np.uint8)\n",
    "            arena_canvas_top = np.zeros((frame_height, frame_width, 3), dtype=np.uint8)\n",
    "            eye_canvas_left = np.zeros((frame_height, frame_width, 3), dtype=np.uint8)\n",
    "            eye_canvas_right = np.zeros((frame_height, frame_width, 3), dtype=np.uint8)\n",
    "\n",
    "            # Resize frames to match dimensions\n",
    "            arena_left_img = resize_frame(arena_left_img, 1.0, arena_canvas_left)\n",
    "            arena_top_img = resize_frame(arena_top_img, 1.0, arena_canvas_top)\n",
    "            left_img = resize_frame(left_img, 1.0, eye_canvas_left)\n",
    "            right_img = resize_frame(right_img, 1.0, eye_canvas_right)\n",
    "\n",
    "            # Concatenate resized frames\n",
    "            concatenated_frame = concatenate_frames([arena_left_img, arena_top_img, left_img, right_img])\n",
    "            out.write(concatenated_frame)\n",
    "\n",
    "        # Add separator (black screen)\n",
    "        for _ in range(int(separator_duration * fps)):\n",
    "            separator_frame = np.vstack((np.hstack((black_frame, black_frame)), np.hstack((black_frame, black_frame))))\n",
    "            out.write(separator_frame)\n",
    "\n",
    "    # Release resources\n",
    "    arena_left_cap.release()\n",
    "    arena_top_cap.release()\n",
    "    left_cap.release()\n",
    "    right_cap.release()\n",
    "    out.release()\n",
    "\n",
    "\n",
    "# Example usage\n",
    "arena_vid_left = r'Z:\\Nimrod\\experiments\\PV_62\\2023_04_27\\block_026\\arena_videos\\videos\\left_20230427T122154.mp4'\n",
    "arena_vid_top = r'Z:\\Nimrod\\experiments\\PV_62\\2023_04_27\\block_026\\arena_videos\\videos\\top_20230427T122154.mp4'\n",
    "left_vid = block.le_videos[0]\n",
    "right_vid = block.re_videos[0]\n",
    "sync_df = block.final_sync_df\n",
    "indices = [3420, 3639,8820,12336,14856,18576,22626,25656,29646,33066,47916,49446,52476,60516,63996,65556,67145,75066]  # Start indices for segments\n",
    "output_file = \"output_video.mp4\"\n",
    "\n",
    "save_synchronized_videos(sync_df, arena_vid_left, arena_vid_top, left_vid, right_vid, indices, output_file)"
   ],
   "metadata": {
    "collapsed": false,
    "is_executing": true,
    "ExecuteTime": {
     "start_time": "2025-01-01T18:30:51.600066Z"
    }
   },
   "id": "be72dfdc897ccd0b",
   "execution_count": null
  },
  {
   "cell_type": "code",
   "outputs": [],
   "source": [],
   "metadata": {
    "collapsed": false
   },
   "id": "c8673294589a26c5"
  }
 ],
 "metadata": {
  "kernelspec": {
   "display_name": "Python 3",
   "language": "python",
   "name": "python3"
  },
  "language_info": {
   "codemirror_mode": {
    "name": "ipython",
    "version": 2
   },
   "file_extension": ".py",
   "mimetype": "text/x-python",
   "name": "python",
   "nbconvert_exporter": "python",
   "pygments_lexer": "ipython2",
   "version": "2.7.6"
  }
 },
 "nbformat": 4,
 "nbformat_minor": 5
}
