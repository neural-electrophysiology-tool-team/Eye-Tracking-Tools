{
 "cells": [
  {
   "cell_type": "code",
   "outputs": [],
   "source": [
    "import numpy as np\n",
    "import cv2\n",
    "from itertools import cycle\n",
    "import pickle\n",
    "import pathlib\n",
    "import math\n",
    "import tqdm\n",
    "import scipy.io\n",
    "from matplotlib import pyplot as plt\n",
    "import scipy.io\n",
    "import h5py\n",
    "import re\n",
    "from lxml import etree as ET\n",
    "import scipy.signal as sig\n",
    "import pandas as pd\n",
    "from scipy.stats import kde\n",
    "from BlockSync_current import BlockSync\n",
    "import UtilityFunctions_newOE as uf\n",
    "from scipy import signal\n",
    "import bokeh\n",
    "import seaborn as sns"
   ],
   "metadata": {
    "collapsed": false,
    "ExecuteTime": {
     "end_time": "2024-12-23T13:26:51.074616700Z",
     "start_time": "2024-12-23T13:26:51.051799300Z"
    }
   },
   "id": "1549b3863d392dbe",
   "execution_count": 46
  },
  {
   "cell_type": "code",
   "outputs": [],
   "source": [
    "def create_distance_plot(distances, top_dist_to_show=500):\n",
    "    # Create cumulative distribution plot\n",
    "    sns.set(style=\"whitegrid\")\n",
    "    fig, axs = plt.subplots(2, figsize=(6, 6), dpi=150)\n",
    "    \n",
    "    axs[0].set_title('Cumulative Euclidean Distances for Camera Jitter', fontsize=15)\n",
    "    axs[0].set_ylabel('Cumulative \\n % of Frames')\n",
    "    axs[0].set_xlim(0, top_dist_to_show)\n",
    "    axs[0].grid(False)\n",
    "    \n",
    "    # Create histogram and cumulative distribution\n",
    "    sns.kdeplot(distances, cumulative=True, label='Left Eye', ax=axs[0], linewidth=4, c='black')\n",
    "    \n",
    "    axs[1].hist(distances, bins=np.linspace(0, top_dist_to_show, 20), log=False, color='black')\n",
    "\n",
    "    # Set title and labels\n",
    "    title = 'Image displacement histogram'\n",
    "    axs[1].set_title(title, fontsize=15)\n",
    "    axs[1].set_xlabel('Euclidean Displacement [$\\mu$m]', fontsize=15)\n",
    "    axs[1].set_xscale('linear')\n",
    "    axs[1].set_yscale('linear')\n",
    "    axs[1].set_ylabel('Frame count', fontsize=15)\n",
    "\n",
    "    # Adjust tick label sizes\n",
    "    axs[1].tick_params(axis='x', which='major', labelsize=15)\n",
    "\n",
    "    # Set white background and black text\n",
    "    axs[1].set_facecolor('white')\n",
    "    axs[1].title.set_color('black')\n",
    "    axs[1].xaxis.label.set_color('black')\n",
    "    axs[1].yaxis.label.set_color('black')\n",
    "    axs[1].tick_params(colors='black')\n",
    "    axs[1].grid(False)\n",
    "\n",
    "    plt.tight_layout()\n",
    "\n",
    "    return fig, axs\n",
    "def add_intermediate_elements(input_vector, gap_to_bridge):\n",
    "    # Step 1: Calculate differences between each element\n",
    "    differences = np.diff(input_vector)\n",
    "\n",
    "    # Step 2: Add intervening elements based on the diff_threshold\n",
    "    output_vector = [input_vector[0]]\n",
    "    for i, diff in enumerate(differences):\n",
    "        if diff < gap_to_bridge:\n",
    "            # Add intervening elements\n",
    "            output_vector.extend(range(input_vector[i] + 1, input_vector[i + 1]))\n",
    "\n",
    "        # Add the next element from the original vector\n",
    "        output_vector.append(input_vector[i + 1])\n",
    "\n",
    "    return np.sort(np.unique(output_vector))\n",
    "\n",
    "def find_jittery_frames(block, eye, max_distance, diff_threshold, gap_to_bridge=6):\n",
    "    \n",
    "    #input checks\n",
    "    if eye not in ['left', 'right']:\n",
    "        print(f'eye can only be left/right, your input: {eye}')\n",
    "        return None\n",
    "    # eye setup\n",
    "    if eye == 'left':\n",
    "        jitter_dict = block.le_jitter_dict\n",
    "        eye_frame_col = 'L_eye_frame'\n",
    "    elif eye == 'right':\n",
    "        jitter_dict = block.re_jitter_dict\n",
    "        eye_frame_col = 'R_eye_frame'\n",
    "    \n",
    "    df_dict = {'left':block.le_df,\n",
    "               'right':block.re_df}\n",
    "    \n",
    "    df = pd.DataFrame.from_dict(jitter_dict)\n",
    "    indices_of_highest_drift = df.query(\"top_correlation_dist > @max_distance\").index.values\n",
    "    diff_vec = np.diff(df['top_correlation_dist'].values)\n",
    "    diff_peaks_indices = np.where(diff_vec > diff_threshold)[0]\n",
    "    video_indices = np.concatenate((diff_peaks_indices, indices_of_highest_drift))\n",
    "    print(f'the diff based jitter frame exclusion gives: {np.shape(diff_peaks_indices)}')\n",
    "    print(f'the threshold based jitter frame exclusion gives: {np.shape(indices_of_highest_drift)}')\n",
    "    \n",
    "    # creates a bridged version of the overly jittery frames (to contend with single frame outliers)\n",
    "    video_indices = add_intermediate_elements(video_indices, gap_to_bridge=gap_to_bridge)\n",
    "    # This is the input you should give to the BlockSync.remove_eye_datapoints function (which already maps it to the df) \n",
    "    \n",
    "    \n",
    "    # translates the video indices to le/re dataframe rows\n",
    "    df_indices_to_remove = df_dict[eye].loc[df_dict[eye][eye_frame_col].isin(video_indices)].index.values\n",
    "    \n",
    "    return df_indices_to_remove, video_indices\n",
    "\n",
    "def bokeh_plotter(data_list, label_list,\n",
    "                  plot_name='default',\n",
    "                  x_axis='X', y_axis='Y',\n",
    "                  peaks=None, peaks_list=False, export_path=False):\n",
    "    \"\"\"Generates an interactive Bokeh plot for the given data vector.\n",
    "    Args:\n",
    "        data_list (list or array): The data to be plotted.\n",
    "        label_list (list of str): The labels of the data vectors\n",
    "        plot_name (str, optional): The title of the plot. Defaults to 'default'.\n",
    "        x_axis (str, optional): The label for the x-axis. Defaults to 'X'.\n",
    "        y_axis (str, optional): The label for the y-axis. Defaults to 'Y'.\n",
    "        peaks (list or array, optional): Indices of peaks to highlight on the plot. Defaults to None.\n",
    "        export_path (False or str): when set to str, will output the resulting html fig\n",
    "    \"\"\"\n",
    "    color_cycle = cycle(bokeh.palettes.Category10_10)\n",
    "    fig = bokeh.plotting.figure(title=f'bokeh explorer: {plot_name}',\n",
    "                                x_axis_label=x_axis,\n",
    "                                y_axis_label=y_axis,\n",
    "                                plot_width=1500,\n",
    "                                plot_height=700)\n",
    "\n",
    "    for i, vec in enumerate(range(len(data_list))):\n",
    "        color = next(color_cycle)\n",
    "        data_vector = data_list[vec]\n",
    "        if label_list is None:\n",
    "            fig.line(range(len(data_vector)), data_vector, line_color=color, legend_label=f\"Line {len(fig.renderers)}\")\n",
    "        elif len(label_list) == len(data_list):\n",
    "            fig.line(range(len(data_vector)), data_vector, line_color=color, legend_label=f\"{label_list[i]}\")\n",
    "        if peaks is not None and peaks_list is True:\n",
    "            fig.circle(peaks[i], data_vector[peaks[i]], size=10, color=color)\n",
    "\n",
    "    if peaks is not None and peaks_list is False:\n",
    "        fig.circle(peaks, data_vector[peaks], size=10, color='red')\n",
    "\n",
    "    if export_path is not False:\n",
    "        print(f'exporting to {export_path}')\n",
    "        bokeh.io.output.output_file(filename=str(export_path / f'{plot_name}.html'), title=f'{plot_name}')\n",
    "    bokeh.plotting.show(fig)\n",
    "    \n",
    "def play_video_with_ellipses_rotation(block, eye, path_to_video=False, xflip=False, transformation_matrix=None, phi_in_radians=False):\n",
    "    if eye == 'left':\n",
    "        video_path = block.le_videos[0]\n",
    "        ellipse_dataframe = block.left_eye_data\n",
    "    elif eye == 'right':\n",
    "        video_path = block.re_videos[0]\n",
    "        ellipse_dataframe = block.right_eye_data\n",
    "    else:\n",
    "        raise ValueError(f\"eye can only be 'left' or 'right'\")\n",
    "    \n",
    "    if video_path is not False:\n",
    "        video_path = path_to_video\n",
    "\n",
    "    # Open the video file\n",
    "    cap = cv2.VideoCapture(video_path)\n",
    "\n",
    "    if not cap.isOpened():\n",
    "        print(\"Error opening video file.\")\n",
    "        return\n",
    "\n",
    "    # Loop through each frame\n",
    "    while True:\n",
    "        # Read a frame from the video\n",
    "        ret, frame = cap.read()\n",
    "    \n",
    "        if not ret:\n",
    "            # Break the loop if the video is finished\n",
    "            break\n",
    "        \n",
    "        # Optionally flip the frame along the x-axis\n",
    "        if xflip:\n",
    "            frame = cv2.flip(frame, 1)\n",
    "\n",
    "        # Apply transformation matrix if provided\n",
    "        if transformation_matrix is not None:\n",
    "            frame = cv2.warpAffine(frame, transformation_matrix, (frame.shape[1], frame.shape[0]))\n",
    "\n",
    "        # Get the corresponding ellipse data for the current frame\n",
    "        current_frame_num = int(cap.get(cv2.CAP_PROP_POS_FRAMES)) - 1\n",
    "        try:\n",
    "            current_frame_data = ellipse_dataframe.iloc[ellipse_dataframe.query('eye_frame == @current_frame_num').index[0]]\n",
    "        except IndexError:\n",
    "            continue\n",
    "\n",
    "        # Extract ellipse parameters\n",
    "        if transformation_matrix is not None:\n",
    "            try:\n",
    "                center_x = int(current_frame_data['center_x'])\n",
    "                center_y = int(current_frame_data['center_y'])\n",
    "                width = int(current_frame_data['width'])\n",
    "                height = int(current_frame_data['height'])\n",
    "                if phi_in_radians:\n",
    "                    phi = np.deg2rad(float(current_frame_data['phi']))\n",
    "                else:\n",
    "                    phi = float(current_frame_data['phi'])\n",
    "                \n",
    "                # Draw the ellipse on the frame\n",
    "                cv2.ellipse(frame, (center_x, center_y), (width, height), phi, 0, 360, (0, 255, 0), 2)\n",
    "                \n",
    "                # Add text to the frame\n",
    "                text = f'ellipse angle: {phi}'\n",
    "                cv2.putText(frame, text, (10, 30), cv2.FONT_HERSHEY_SIMPLEX, 1, (0, 255, 0), 2, cv2.LINE_AA)\n",
    "        \n",
    "                \n",
    "                # Display the frame\n",
    "                cv2.imshow('Video with Ellipses', frame)\n",
    "            \n",
    "                # Check for the 'q' key to quit\n",
    "                if cv2.waitKey(25) & 0xFF == ord('q'):\n",
    "                    break\n",
    "            except ValueError:\n",
    "                continue\n",
    "        else:\n",
    "            try:\n",
    "                center_x = int(current_frame_data['center_x'])\n",
    "                center_y = int(current_frame_data['center_y'])\n",
    "                width = int(current_frame_data['width'])\n",
    "                height = int(current_frame_data['height'])\n",
    "                if phi_in_radians:\n",
    "                    phi = np.deg2rad(float(current_frame_data['phi']))\n",
    "                else:\n",
    "                    phi = float(current_frame_data['phi'])\n",
    "        \n",
    "                # Draw the ellipse on the frame\n",
    "                cv2.ellipse(frame, (center_x, center_y), (width, height), phi, 0, 360, (0, 255, 0), 2)\n",
    "                \n",
    "                # Add text to the frame\n",
    "                text = f'ellipse angle: {phi}'\n",
    "                cv2.putText(frame, text, (10, 30), cv2.FONT_HERSHEY_SIMPLEX, 1, (0, 255, 0), 2, cv2.LINE_AA)\n",
    "                \n",
    "                # Display the frame\n",
    "                cv2.imshow('Video with Ellipses', frame)\n",
    "            \n",
    "                # Check for the 'q' key to quit\n",
    "                if cv2.waitKey(25) & 0xFF == ord('q'):\n",
    "                    break\n",
    "            except ValueError:\n",
    "                continue\n",
    "\n",
    "    # Release video capture object and close the window\n",
    "    cap.release()\n",
    "    cv2.destroyAllWindows()\n",
    "    \n",
    "def play_video_with_ellipses_rotation_plus_major_axis(block, eye, path_to_video=False, xflip=False, transformation_matrix=None):\n",
    "    if eye == 'left':\n",
    "        video_path = block.le_videos[0]\n",
    "        ellipse_dataframe = block.left_eye_data\n",
    "    elif eye == 'right':\n",
    "        video_path = block.re_videos[0]\n",
    "        ellipse_dataframe = block.right_eye_data\n",
    "    else:\n",
    "        raise ValueError(f\"eye can only be 'left' or 'right'\")\n",
    "    \n",
    "    if video_path is not False:\n",
    "        video_path = path_to_video\n",
    "\n",
    "    # Open the video file\n",
    "    cap = cv2.VideoCapture(video_path)\n",
    "\n",
    "    if not cap.isOpened():\n",
    "        print(\"Error opening video file.\")\n",
    "        return\n",
    "\n",
    "    # Loop through each frame\n",
    "    while True:\n",
    "        # Read a frame from the video\n",
    "        ret, frame = cap.read()\n",
    "    \n",
    "        if not ret:\n",
    "            # Break the loop if the video is finished\n",
    "            break\n",
    "        \n",
    "        # Optionally flip the frame along the x-axis\n",
    "        if xflip:\n",
    "            frame = cv2.flip(frame, 1)\n",
    "\n",
    "        # Apply transformation matrix if provided\n",
    "        if transformation_matrix is not None:\n",
    "            frame = cv2.warpAffine(frame, transformation_matrix, (frame.shape[1], frame.shape[0]))\n",
    "\n",
    "        # Get the corresponding ellipse data for the current frame\n",
    "        current_frame_num = int(cap.get(cv2.CAP_PROP_POS_FRAMES)) - 1\n",
    "        try:\n",
    "            current_frame_data = ellipse_dataframe.iloc[ellipse_dataframe.query('eye_frame == @current_frame_num').index[0]]\n",
    "        except IndexError:\n",
    "            continue\n",
    "\n",
    "        # Extract ellipse parameters\n",
    "        try:\n",
    "            center_x = int(current_frame_data['center_x'])\n",
    "            center_y = int(current_frame_data['center_y'])\n",
    "            width = int(current_frame_data['major_ax'])\n",
    "            height = int(current_frame_data['minor_ax'])\n",
    "            phi = np.deg2rad(float(current_frame_data['phi']))  # Convert angle to radians\n",
    "            \n",
    "            # Draw the ellipse on the frame\n",
    "            cv2.ellipse(frame, (center_x, center_y), (width, height), phi, 0, 360, (0, 255, 0), 2)\n",
    "            \n",
    "            # Calculate endpoints of major axis\n",
    "            axis_length = max(width, height) / 2\n",
    "            sin_phi = np.sin(phi)\n",
    "            cos_phi = np.cos(phi)\n",
    "            x1 = int(center_x + axis_length * cos_phi)\n",
    "            y1 = int(center_y + axis_length * sin_phi)\n",
    "            x2 = int(center_x - axis_length * cos_phi)\n",
    "            y2 = int(center_y - axis_length * sin_phi)\n",
    "            \n",
    "            # Draw major axis\n",
    "            cv2.line(frame, (x1, y1), (x2, y2), (0, 0, 255), 2)\n",
    "            \n",
    "            # Add text to the frame\n",
    "            text = f'ellipse angle: {np.rad2deg(phi)}'\n",
    "            cv2.putText(frame, text, (10, 30), cv2.FONT_HERSHEY_SIMPLEX, 1, (0, 255, 0), 2, cv2.LINE_AA)\n",
    "            \n",
    "            # Display the frame\n",
    "            cv2.imshow('Video with Ellipses', frame)\n",
    "        \n",
    "            # Check for the 'q' key to quit\n",
    "            if cv2.waitKey(25) & 0xFF == ord('q'):\n",
    "                break\n",
    "        except ValueError:\n",
    "            continue\n",
    "\n",
    "    # Release video capture object and close the window\n",
    "    cap.release()\n",
    "    cv2.destroyAllWindows()\n",
    "    \n",
    "def get_frame_count(video_path):\n",
    "        \"\"\"\n",
    "        Get the number of frames for the video in the specified path using OpenCV.\n",
    "    \n",
    "        Parameters:\n",
    "            video_path (str): Path to the video file.\n",
    "    \n",
    "        Returns:\n",
    "            int: Number of frames in the video.\n",
    "        \"\"\"\n",
    "        \n",
    "        # Open the video file\n",
    "        cap = cv2.VideoCapture(video_path)\n",
    "    \n",
    "        # Check if the video file is opened successfully\n",
    "        if not cap.isOpened():\n",
    "            print(\"Error: Could not open the video file.\")\n",
    "            return -1\n",
    "    \n",
    "        # Get the total number of frames in the video\n",
    "        frame_count = int(cap.get(cv2.CAP_PROP_FRAME_COUNT))\n",
    "    \n",
    "        # Release the VideoCapture object\n",
    "        cap.release()\n",
    "    \n",
    "        return frame_count\n"
   ],
   "metadata": {
    "collapsed": false,
    "ExecuteTime": {
     "end_time": "2024-12-23T13:26:51.451691Z",
     "start_time": "2024-12-23T13:26:51.446349600Z"
    }
   },
   "id": "6d3dfdb223dc6e82",
   "execution_count": 47
  },
  {
   "cell_type": "markdown",
   "source": [
    "# Block Instantiation"
   ],
   "metadata": {
    "collapsed": false
   },
   "id": "aa0ef925618c2966"
  },
  {
   "cell_type": "code",
   "outputs": [
    {
     "name": "stdout",
     "output_type": "stream",
     "text": [
      "instantiated block number 015 at Path: Z:\\Nimrod\\experiments\\PV_126\\2024_08_13\\block_015, new OE version\n",
      "Found the sample rate for block 015 in the xml file, it is 20000 Hz\n",
      "created the .oe_rec attribute as an open ephys recording obj with get_data functionality\n",
      "retrieving zertoh sample number for block 015\n",
      "got it!\n"
     ]
    }
   ],
   "source": [
    "\n",
    "# define a single block to synchronize and finally export l/r_eye_data csv files:\n",
    "# this step creates block_collection - a list of BlockSync objects of interest\n",
    "block_numbers = [15]\n",
    "bad_blocks = [6] # \n",
    "experiment_path = pathlib.Path(r\"Z:\\Nimrod\\experiments\")\n",
    "animal = 'PV_126'\n",
    "\n",
    "block_collection = uf.block_generator(block_numbers=block_numbers,\n",
    "                                      experiment_path=experiment_path,\n",
    "                                      animal=animal,\n",
    "                                      bad_blocks=bad_blocks,regev=True)\n",
    "# create a block_dict object for ease of access:\n",
    "block_dict = {}\n",
    "for b in block_collection:\n",
    "    block_dict[str(b.block_num)] = b\n",
    "block = block_collection[0]"
   ],
   "metadata": {
    "collapsed": false,
    "ExecuteTime": {
     "end_time": "2024-12-23T13:47:15.650122700Z",
     "start_time": "2024-12-23T13:47:15.246370700Z"
    }
   },
   "id": "1d1afca402f23506",
   "execution_count": 132
  },
  {
   "cell_type": "code",
   "outputs": [],
   "source": [
    "from scipy.interpolate import interp1d\n",
    "import numpy as np\n",
    "import pandas as pd\n",
    "import pathlib\n",
    "from tqdm import tqdm\n",
    "\n",
    "def synchronize_block_for_non_60fps_acquisition(self, export=True, overwrite=False, target_frame_rate=60, margin_of_error=0.1):\n",
    "    \"\"\"\n",
    "    Synchronize the video frames to a target frame rate using interpolation.\n",
    "    \"\"\"\n",
    "    # Check if previously exported file exists\n",
    "    if pathlib.Path(self.analysis_path / 'blocksync_df.csv').exists() and not overwrite:\n",
    "        self.blocksync_df = pd.read_csv(pathlib.Path(self.analysis_path / 'blocksync_df.csv'), engine='python')\n",
    "        print('blocksync_df loaded from analysis folder')\n",
    "        return self.blocksync_df\n",
    "    \n",
    "    print('Creating blocksync_df')\n",
    "\n",
    "    # Define start and end times\n",
    "    start_time = max([self.arena_vid_first_t, self.r_vid_first_t, self.l_vid_first_t])\n",
    "    end_time = min([self.arena_vid_last_t, self.r_vid_last_t, self.l_vid_last_t])\n",
    "\n",
    "    # Extract TTLs and calculate frame rate\n",
    "    arena_ttls = self.oe_events.query('@start_time < Arena_TTL < @end_time')['Arena_TTL'].values\n",
    "    arena_frame_rate = self.sample_rate / np.median(np.diff(arena_ttls))\n",
    "\n",
    "    if not (target_frame_rate - margin_of_error <= arena_frame_rate <= target_frame_rate + margin_of_error):\n",
    "        print(f\"Arena video frame rate is {arena_frame_rate:.2f} Hz. Adjusting to {target_frame_rate} FPS.\")\n",
    "\n",
    "        # Define target time base\n",
    "        original_time = np.cumsum(np.insert(np.diff(arena_ttls), 0, 0)) / self.sample_rate\n",
    "        target_time = np.arange(0, original_time[-1], 1 / target_frame_rate)\n",
    "\n",
    "        # Interpolate using linear method\n",
    "        interpolator = interp1d(original_time, arena_ttls, kind='linear', fill_value='extrapolate')\n",
    "        new_arena_ttl = interpolator(target_time).astype(int)\n",
    "    else:\n",
    "        print(f\"Arena video frame rate is {arena_frame_rate:.2f} Hz, within acceptable range. No adjustment needed.\")\n",
    "        new_arena_ttl = arena_ttls\n",
    "\n",
    "    # Create a synchronization DataFrame\n",
    "    arena_tf = self.oe_events.query('@start_time < Arena_TTL < @end_time')[['Arena_TTL', 'Arena_TTL_frame']]\n",
    "    r_eye_tf = self.oe_events.query('@start_time < Arena_TTL < @end_time or Arena_TTL != Arena_TTL')[['R_eye_TTL', 'R_eye_TTL_frame']].dropna()\n",
    "    l_eye_tf = self.oe_events.query('@start_time < Arena_TTL < @end_time or Arena_TTL != Arena_TTL')[['L_eye_TTL', 'L_eye_TTL_frame']].dropna()\n",
    "\n",
    "    # Build the synchronization DataFrame\n",
    "    self.blocksync_df = pd.DataFrame(columns=['Arena_frame', 'L_eye_frame', 'R_eye_frame'], index=new_arena_ttl)\n",
    "\n",
    "    for t in tqdm(new_arena_ttl, desc='Synchronizing Frames'):\n",
    "        arena_frame = arena_tf['Arena_TTL_frame'].iloc[self.get_closest_frame(t, arena_tf['Arena_TTL'])]\n",
    "        l_eye_frame = l_eye_tf['L_eye_TTL_frame'].iloc[self.get_closest_frame(t, l_eye_tf['L_eye_TTL'])]\n",
    "        r_eye_frame = r_eye_tf['R_eye_TTL_frame'].iloc[self.get_closest_frame(t, r_eye_tf['R_eye_TTL'])]\n",
    "        self.blocksync_df.loc[t] = [arena_frame, l_eye_frame, r_eye_frame]\n",
    "\n",
    "    print('Created blocksync_df')\n",
    "    if export:\n",
    "        self.blocksync_df.to_csv(self.analysis_path / 'blocksync_df.csv')\n",
    "        print(f'Exported blocksync_df to {self.analysis_path}/blocksync_df.csv')\n",
    "\n",
    "    return self.blocksync_df\n"
   ],
   "metadata": {
    "collapsed": false,
    "ExecuteTime": {
     "end_time": "2024-12-23T13:47:16.084677200Z",
     "start_time": "2024-12-23T13:47:16.053650400Z"
    }
   },
   "id": "d6483462c7f7337b",
   "execution_count": 133
  },
  {
   "cell_type": "code",
   "outputs": [
    {
     "name": "stdout",
     "output_type": "stream",
     "text": [
      "handling arena files\n",
      "Arena video Names:\n",
      "front_20240813T150642.mp4\n",
      "left_20240813T150642.mp4\n",
      "right_20240813T150642.mp4\n",
      "top_20240813T150642.mp4\n",
      "running parse_open_ephys_events...\n",
      "block 015 has a parsed events file, reading...\n",
      "handling eye video files\n",
      "converting videos...\n",
      "converting files: ['Z:\\\\Nimrod\\\\experiments\\\\PV_126\\\\2024_08_13\\\\block_015\\\\eye_videos\\\\LE\\\\126_w10_640x480_60hz_experiment_1_recording_0\\\\126_w10.h264', 'Z:\\\\Nimrod\\\\experiments\\\\PV_126\\\\2024_08_13\\\\block_015\\\\eye_videos\\\\RE\\\\126_w10_640x480_60hz_experiment_1_recording_0\\\\126_w10.h264'] \n",
      " avoiding conversion on files: ['Z:\\\\Nimrod\\\\experiments\\\\PV_126\\\\2024_08_13\\\\block_015\\\\eye_videos\\\\LE\\\\126_w10_640x480_60hz_experiment_1_recording_0\\\\126_w10_LE.mp4', 'Z:\\\\Nimrod\\\\experiments\\\\PV_126\\\\2024_08_13\\\\block_015\\\\eye_videos\\\\RE\\\\126_w10_640x480_60hz_experiment_1_recording_0\\\\126_w10.mp4']\n",
      "The file Z:\\Nimrod\\experiments\\PV_126\\2024_08_13\\block_015\\eye_videos\\RE\\126_w10_640x480_60hz_experiment_1_recording_0\\126_w10.mp4 already exists, no conversion necessary\n",
      "Validating videos...\n",
      "The video named 126_w10_LE.mp4 has reported 97846 frames and has 97846 frames, it has dropped 0 frames\n",
      "The video named 126_w10.mp4 has reported 97611 frames and has 97611 frames, it has dropped 0 frames\n",
      "Getting eye brightness values for block 015...\n",
      "Found an existing file!\n",
      "Eye brightness vectors generation complete.\n",
      "creating blocksync_df\n",
      "Arena video frame rate is 30.49 Hz. Adjusting to 60 FPS.\n"
     ]
    },
    {
     "name": "stderr",
     "output_type": "stream",
     "text": [
      "100%|██████████| 97999/97999 [00:34<00:00, 2842.70it/s]\n"
     ]
    },
    {
     "name": "stdout",
     "output_type": "stream",
     "text": [
      "created blocksync_df\n",
      "exported blocksync_df to Z:\\Nimrod\\experiments\\PV_126\\2024_08_13\\block_015\\analysis/ blocksync_df.csv\n",
      "creating Z:\\Nimrod\\experiments\\PV_126\\2024_08_13\\block_015\\analysis/eye_brightness_df.csv\n",
      "there is no manual sync file for block 015, manually sync the block\n"
     ]
    }
   ],
   "source": [
    "# This step is used to quickly go over the analyzed blocks and load their internal data\n",
    "for block in block_collection:\n",
    "    block.handle_arena_files()\n",
    "    block.parse_open_ephys_events()\n",
    "    block.handle_eye_videos()\n",
    "    block.get_eye_brightness_vectors()\n",
    "    #synchronize_block_for_non_60fps_acquisition(block,export=True,overwrite=True,target_frame_rate=60,margin_of_error=0.1)\n",
    "    #block.synchronize_block()\n",
    "    block.synchronize_block_for_non_60fps_acquisition(export=True,\n",
    "                                                      overwrite=True,\n",
    "                                                      target_frame_rate=60,\n",
    "                                                      margin_of_error=0.5)\n",
    "    block.create_eye_brightness_df(threshold_value=20)\n",
    "    \n",
    "    # if the code fails here, go to manual synchronization\n",
    "    block.import_manual_sync_df()"
   ],
   "metadata": {
    "collapsed": false,
    "ExecuteTime": {
     "end_time": "2024-12-23T13:48:50.062601400Z",
     "start_time": "2024-12-23T13:48:12.197325400Z"
    }
   },
   "id": "60c947f44aeb8546",
   "execution_count": 134
  },
  {
   "cell_type": "code",
   "outputs": [
    {
     "name": "stderr",
     "output_type": "stream",
     "text": [
      "c:\\users\\marks3\\pycharmprojects\\pythonproject3\\venv\\lib\\site-packages\\IPython\\core\\interactiveshell.py:3338: DtypeWarning: Columns (0,1,2,3,4,5,6,7,8,9,10,11,12,13,14,15,16,17,18,19,20,21,22,23,24,25,26,27,28,29,30) have mixed types.Specify dtype option on import or set low_memory=False.\n",
      "  if (await self.run_code(code, result,  async_=asy)):\n",
      "100%|██████████| 97844/97844 [00:59<00:00, 1640.92it/s]\n"
     ]
    },
    {
     "name": "stdout",
     "output_type": "stream",
     "text": [
      "\n",
      " ellipses calculation complete\n"
     ]
    },
    {
     "name": "stderr",
     "output_type": "stream",
     "text": [
      "100%|██████████| 97609/97609 [00:57<00:00, 1683.10it/s]\n",
      "C:\\Users\\MarkS3\\AppData\\Local\\Programs\\Python\\Python38\\lib\\site-packages\\pandas\\core\\reshape\\merge.py:1112: RuntimeWarning: invalid value encountered in cast\n",
      "  if not (lk == lk.astype(rk.dtype))[~np.isnan(lk)].all():\n"
     ]
    },
    {
     "name": "stdout",
     "output_type": "stream",
     "text": [
      "\n",
      " ellipses calculation complete\n",
      "created le / re dataframes\n",
      "exporting to analysis folder\n",
      "got the calibration values from the analysis folder\n"
     ]
    }
   ],
   "source": [
    "for block in block_collection:\n",
    "    block.read_dlc_data(overwrite=True, export=True)\n",
    "    block.calibrate_pixel_size(10)"
   ],
   "metadata": {
    "collapsed": false,
    "ExecuteTime": {
     "end_time": "2024-12-23T13:52:11.178783600Z",
     "start_time": "2024-12-23T13:49:58.831226600Z"
    }
   },
   "id": "d958a1c1efa05343",
   "execution_count": 142
  },
  {
   "cell_type": "code",
   "outputs": [
    {
     "name": "stderr",
     "output_type": "stream",
     "text": [
      "Computing Cross-Correlation:   3%|▎         | 2513/97611 [00:10<06:13, 254.85frame/s]C:\\Users\\MarkS3\\PycharmProjects\\pythonProject3\\BlockSync_current.py:1826: RuntimeWarning: invalid value encountered in divide\n",
      "  out = out / np.sqrt(image * template)\n",
      "Computing Cross-Correlation: 100%|█████████▉| 97610/97611 [06:23<00:00, 254.39frame/s]\n",
      "Computing Cross-Correlation:  96%|█████████▌| 93564/97846 [05:38<00:15, 279.80frame/s]C:\\Users\\MarkS3\\PycharmProjects\\pythonProject3\\BlockSync_current.py:1826: RuntimeWarning: divide by zero encountered in divide\n",
      "  out = out / np.sqrt(image * template)\n",
      "Computing Cross-Correlation: 100%|█████████▉| 97845/97846 [05:54<00:00, 276.38frame/s]\n"
     ]
    },
    {
     "name": "stdout",
     "output_type": "stream",
     "text": [
      "results saved to Z:\\Nimrod\\experiments\\PV_126\\2024_08_13\\block_015\\analysis\\jitter_report_dict.pkl\n",
      "Got the jitter report - check out re/le_jitter_dict attributes\n"
     ]
    }
   ],
   "source": [
    "for block in block_collection:\n",
    "    block.get_jitter_reports(export=True, overwrite=False, remove_led_blinks=False, sort_on_loading=True)"
   ],
   "metadata": {
    "collapsed": false,
    "ExecuteTime": {
     "end_time": "2024-12-23T14:06:37.251715100Z",
     "start_time": "2024-12-23T13:52:11.165833400Z"
    }
   },
   "id": "6db8279c2cbac608",
   "execution_count": 143
  },
  {
   "cell_type": "code",
   "outputs": [
    {
     "name": "stdout",
     "output_type": "stream",
     "text": [
      "The right eye std of the X coord was 23.860579658160653\n",
      "After correction it is: 19.824572626903237\n",
      "The right eye std of the Y coord was 56.85015255377097\n",
      "After correction it is: 77.64178916691681\n",
      "\n",
      " The left eye std of the X coord was 24.01711128529211\n",
      "After correction it is: 24.361775099773702\n",
      "\n",
      " The left eye std of the Y coord was 14.691032176124786\n",
      "After correction it is: 16.310097849348423\n"
     ]
    },
    {
     "name": "stderr",
     "output_type": "stream",
     "text": [
      "100%|██████████| 65/65 [00:00<00:00, 6483.77it/s]"
     ]
    },
    {
     "name": "stdout",
     "output_type": "stream",
     "text": [
      "collecting left-eye data\n",
      "data length is 97846\n",
      "z_score length is 97846\n"
     ]
    },
    {
     "name": "stderr",
     "output_type": "stream",
     "text": [
      "\n",
      "100%|██████████| 65/65 [00:00<00:00, 8791.96it/s]"
     ]
    },
    {
     "name": "stdout",
     "output_type": "stream",
     "text": [
      "collecting right eye data\n",
      "data length is 97611\n",
      "z_score length is 97611\n"
     ]
    },
    {
     "name": "stderr",
     "output_type": "stream",
     "text": [
      "\n"
     ]
    },
    {
     "name": "stdout",
     "output_type": "stream",
     "text": [
      "removed led blink data from le / re dataframes\n",
      "exported nan filled dataframes to csv\n"
     ]
    }
   ],
   "source": [
    "for block in block_collection:\n",
    "#    block.get_jitter_reports(export=True, overwrite=True, remove_led_blinks=False, sort_on_loading=True)\n",
    "    block.correct_jitter()\n",
    "    block.find_led_blink_frames(plot=True)\n",
    "    block.remove_led_blinks_from_eye_df(export=True)"
   ],
   "metadata": {
    "collapsed": false,
    "ExecuteTime": {
     "end_time": "2024-12-23T14:06:49.679213300Z",
     "start_time": "2024-12-23T14:06:37.307364500Z"
    }
   },
   "id": "78ca521af1225991",
   "execution_count": 144
  },
  {
   "cell_type": "code",
   "outputs": [
    {
     "name": "stdout",
     "output_type": "stream",
     "text": [
      "the diff based jitter frame exclusion gives: (256,)\n",
      "the threshold based jitter frame exclusion gives: (409,)\n",
      "the diff based jitter frame exclusion gives: (98,)\n",
      "the threshold based jitter frame exclusion gives: (60487,)\n"
     ]
    }
   ],
   "source": [
    "df_inds_to_remove_l, vid_inds_l = find_jittery_frames(block,'left',max_distance=20, diff_threshold=5, gap_to_bridge=24)\n",
    "df_inds_to_remove_r, vid_inds_r = find_jittery_frames(block,'right',max_distance=20, diff_threshold=5, gap_to_bridge=24)\n",
    "\n",
    "# These are verification plots for the jitter outlier removal functions:\n",
    "# to verify, I want a bokeh explorable:\n",
    "rdf = pd.DataFrame.from_dict(block.re_jitter_dict)\n",
    "ldf = pd.DataFrame.from_dict(block.le_jitter_dict)"
   ],
   "metadata": {
    "collapsed": false,
    "ExecuteTime": {
     "end_time": "2024-12-23T16:53:31.251519400Z",
     "start_time": "2024-12-23T16:53:30.658606600Z"
    }
   },
   "id": "6a5a4a654a05a123",
   "execution_count": 148
  },
  {
   "cell_type": "code",
   "outputs": [],
   "source": [
    "bokeh_plotter([rdf.top_correlation_dist], ['drift_distance'], peaks=vid_inds_r)"
   ],
   "metadata": {
    "collapsed": false,
    "ExecuteTime": {
     "end_time": "2024-12-23T16:53:32.399327Z",
     "start_time": "2024-12-23T16:53:31.887187Z"
    }
   },
   "id": "11353e3307678ed9",
   "execution_count": 149
  },
  {
   "cell_type": "code",
   "outputs": [],
   "source": [
    "bokeh_plotter([ldf.top_correlation_dist], ['drift_distance'], peaks=vid_inds_l)"
   ],
   "metadata": {
    "collapsed": false,
    "ExecuteTime": {
     "end_time": "2024-12-23T16:53:32.694702600Z",
     "start_time": "2024-12-23T16:53:32.411243900Z"
    }
   },
   "id": "8f3ab8cfc5315274",
   "execution_count": 150
  },
  {
   "cell_type": "code",
   "outputs": [
    {
     "name": "stdout",
     "output_type": "stream",
     "text": [
      "removed 60564 from the right eye dataframe\n",
      "removed 1238 from the left eye dataframe\n"
     ]
    }
   ],
   "source": [
    "block.remove_eye_datapoints_based_on_video_frames('right', indices_to_nan=vid_inds_r)\n",
    "block.remove_eye_datapoints_based_on_video_frames('left', indices_to_nan=vid_inds_l)"
   ],
   "metadata": {
    "collapsed": false,
    "ExecuteTime": {
     "end_time": "2024-12-23T16:53:36.327852900Z",
     "start_time": "2024-12-23T16:53:36.281324700Z"
    }
   },
   "id": "8f20634ab2b7d684",
   "execution_count": 151
  },
  {
   "cell_type": "markdown",
   "source": [
    "# Data rotation"
   ],
   "metadata": {
    "collapsed": false
   },
   "id": "dc4b57c620e01f87"
  },
  {
   "cell_type": "code",
   "outputs": [
    {
     "name": "stdout",
     "output_type": "stream",
     "text": [
      "Please select two points on the frame.\n",
      "left rotation matrix: \n",
      " [[  0.95197877  -0.30616403  88.84615877]\n",
      " [  0.30616403   0.95197877 -86.44739498]] \n",
      " left rotation angle: \n",
      " -17.828208332058207\n",
      "left data rotated\n"
     ]
    }
   ],
   "source": [
    "block.rotate_data_according_to_frame_ref('left')"
   ],
   "metadata": {
    "collapsed": false,
    "ExecuteTime": {
     "end_time": "2024-12-23T16:53:53.033279700Z",
     "start_time": "2024-12-23T16:53:41.216736Z"
    }
   },
   "id": "92286b8b4e9f6624",
   "execution_count": 152
  },
  {
   "cell_type": "code",
   "outputs": [
    {
     "name": "stdout",
     "output_type": "stream",
     "text": [
      "Please select two points on the frame.\n",
      "right rotation matrix: \n",
      " [[  0.95312427   0.30257913 -57.61875727]\n",
      " [ -0.30257913   0.95312427 108.07549826]] \n",
      " right rotation angle: \n",
      " 17.61257784292383\n",
      "right data rotated\n"
     ]
    }
   ],
   "source": [
    "block.rotate_data_according_to_frame_ref('right')"
   ],
   "metadata": {
    "collapsed": false,
    "ExecuteTime": {
     "end_time": "2024-12-23T17:04:03.643029300Z",
     "start_time": "2024-12-23T17:03:51.956398700Z"
    }
   },
   "id": "f1164ff6db7fa269",
   "execution_count": 153
  },
  {
   "cell_type": "code",
   "outputs": [
    {
     "name": "stdout",
     "output_type": "stream",
     "text": [
      "Index(['Arena_TTL', 'R_eye_frame', 'ms_axis', 'center_x_rotated',\n",
      "       'center_y_rotated', 'phi_rotated', 'width', 'height', 'major_ax',\n",
      "       'minor_ax', 'ratio'],\n",
      "      dtype='object')\n",
      "   OE_timestamp  eye_frame   ms_axis    center_x    center_y       phi  \\\n",
      "0      676740.0        0.0  33837.00  362.731420  169.259462  5.894529   \n",
      "1      677073.0        2.0  33853.65  362.868702  169.244679  5.662257   \n",
      "2      677397.0        3.0  33869.85  362.861714  169.181252  5.298216   \n",
      "3      677730.0        4.0  33886.50  362.725648  169.216733  5.331653   \n",
      "4      678053.0        5.0  33902.65  362.811217  169.333283  4.814047   \n",
      "\n",
      "       width     height   major_ax   minor_ax     ratio  \n",
      "0  45.637936  37.335848  45.637936  37.335848  1.222362  \n",
      "1  45.585475  37.188742  45.585475  37.188742  1.225787  \n",
      "2  45.640489  37.209324  45.640489  37.209324  1.226587  \n",
      "3  45.716606  37.162466  45.716606  37.162466  1.230182  \n",
      "4  45.532021  37.073076  45.532021  37.073076  1.228170  \n",
      "Index(['Arena_TTL', 'L_eye_frame', 'ms_axis', 'center_x_rotated',\n",
      "       'center_y_rotated', 'phi_rotated', 'width', 'height', 'major_ax',\n",
      "       'minor_ax', 'ratio'],\n",
      "      dtype='object')\n",
      "   OE_timestamp  eye_frame   ms_axis    center_x    center_y        phi  \\\n",
      "0      676740.0        5.0  33837.00  319.518120  177.992945 -15.443761   \n",
      "1      677073.0        6.0  33853.65  319.537921  177.984564 -15.536813   \n",
      "2      677397.0        7.0  33869.85  319.510882  178.011487 -15.462979   \n",
      "3      677730.0        8.0  33886.50  319.491438  178.003452 -14.895568   \n",
      "4      678053.0        9.0  33902.65  319.491147  178.091727 -14.170065   \n",
      "\n",
      "       width     height   major_ax   minor_ax     ratio  \n",
      "0  46.028471  40.458124  46.028471  40.458124  1.137682  \n",
      "1  46.187965  40.480872  46.187965  40.480872  1.140982  \n",
      "2  46.079456  40.440812  46.079456  40.440812  1.139430  \n",
      "3  45.985501  40.541131  45.985501  40.541131  1.134293  \n",
      "4  45.875067  40.475895  45.875067  40.475895  1.133392  \n",
      "successfully rotated the data reference horizon to tear-ducts, created left/right_eye_data\n"
     ]
    },
    {
     "name": "stderr",
     "output_type": "stream",
     "text": [
      "C:\\Users\\MarkS3\\PycharmProjects\\pythonProject3\\BlockSync_current.py:2778: RuntimeWarning: All-NaN axis encountered\n",
      "  df['major_ax'] = np.nanmax(df[['width', 'height']], axis=1)\n",
      "C:\\Users\\MarkS3\\PycharmProjects\\pythonProject3\\BlockSync_current.py:2779: RuntimeWarning: All-NaN axis encountered\n",
      "  df['minor_ax'] = np.nanmin(df[['width', 'height']], axis=1)\n"
     ]
    }
   ],
   "source": [
    "block.create_eye_data()"
   ],
   "metadata": {
    "collapsed": false,
    "ExecuteTime": {
     "end_time": "2024-12-23T17:04:07.768860400Z",
     "start_time": "2024-12-23T17:04:07.670835300Z"
    }
   },
   "id": "7a57ec4048496c28",
   "execution_count": 154
  },
  {
   "cell_type": "code",
   "outputs": [],
   "source": [
    "# This bit examine the ellipses to verify phi jump issues\n",
    "block.right_eye_data['phi'] = block.right_eye_data['phi'] + 90"
   ],
   "metadata": {
    "collapsed": false,
    "ExecuteTime": {
     "end_time": "2024-12-23T17:04:24.927347400Z",
     "start_time": "2024-12-23T17:04:24.894373300Z"
    }
   },
   "id": "a5de927402bb2460",
   "execution_count": 157
  },
  {
   "cell_type": "code",
   "outputs": [],
   "source": [
    "block.left_eye_data['phi'] = block.left_eye_data['phi'] - 90"
   ],
   "metadata": {
    "collapsed": false,
    "ExecuteTime": {
     "end_time": "2024-12-21T18:36:08.880047100Z",
     "start_time": "2024-12-21T18:36:08.857021500Z"
    }
   },
   "id": "4cce53ee47aad7af",
   "execution_count": 89
  },
  {
   "cell_type": "markdown",
   "source": [
    "# Rotation eye data Verification"
   ],
   "metadata": {
    "collapsed": false
   },
   "id": "c3a27ee6a22cb1a4"
  },
  {
   "cell_type": "code",
   "outputs": [
    {
     "name": "stdout",
     "output_type": "stream",
     "text": [
      "Z:\\Nimrod\\experiments\\PV_126\\2024_08_13\\block_015\\eye_videos\\RE\\126_w10_640x480_60hz_experiment_1_recording_0\\126_w10.mp4\n"
     ]
    }
   ],
   "source": [
    "# right eye inspection after rotation\n",
    "#path_to_video = [x for x in pathlib.Path(block.re_videos[0]).parent.iterdir() if '.mp4' in str(x.name) and 'DLC' in str(x.name)][0]\n",
    "path_to_video = [x for x in pathlib.Path(block.re_videos[0]).parent.iterdir() if '.mp4' in str(x.name)][0]\n",
    "print(path_to_video)\n",
    "play_video_with_ellipses_rotation(block=block ,eye='right', path_to_video=str(path_to_video) ,xflip=True, transformation_matrix=block.right_rotation_matrix)"
   ],
   "metadata": {
    "collapsed": false,
    "ExecuteTime": {
     "end_time": "2024-12-23T17:04:28.222385900Z",
     "start_time": "2024-12-23T17:04:26.475584800Z"
    }
   },
   "id": "d79690728513967a",
   "execution_count": 158
  },
  {
   "cell_type": "code",
   "outputs": [],
   "source": [
    "# left eye inspection\n",
    "#path_to_video = [x for x in pathlib.Path(block.le_videos[0]).parent.iterdir() if '.mp4' in str(x.name) and 'DLC' in str(x.name)][0]\n",
    "path_to_video = [x for x in pathlib.Path(block.le_videos[0]).parent.iterdir() if '.mp4' in str(x.name)][0]\n",
    "play_video_with_ellipses_rotation(block=block,eye='left', path_to_video=str(path_to_video) ,xflip=True, transformation_matrix=block.left_rotation_matrix)"
   ],
   "metadata": {
    "collapsed": false,
    "ExecuteTime": {
     "end_time": "2024-12-23T17:07:35.862453600Z",
     "start_time": "2024-12-23T17:07:29.552006600Z"
    }
   },
   "id": "e9720489c49c31e1",
   "execution_count": 163
  },
  {
   "cell_type": "markdown",
   "source": [
    "# Eye videos relative lag correction"
   ],
   "metadata": {
    "collapsed": false
   },
   "id": "fa67aa5b943dd2d2"
  },
  {
   "cell_type": "code",
   "outputs": [
    {
     "name": "stderr",
     "output_type": "stream",
     "text": [
      "100%|██████████| 65/65 [00:00<00:00, 7219.30it/s]\n",
      "100%|██████████| 65/65 [00:00<00:00, 8150.12it/s]"
     ]
    },
    {
     "name": "stdout",
     "output_type": "stream",
     "text": [
      "collecting left-eye data\n",
      "data length is 97846\n",
      "z_score length is 97846\n",
      "collecting right eye data\n",
      "data length is 97611\n",
      "z_score length is 97611\n",
      "missing frame at 21\n",
      "missing frame at 24\n",
      "missing frame at 26\n",
      "97999 97999\n",
      "0\n",
      "0\n",
      "0 S\n",
      "1 S\n",
      "2 S\n",
      "3 S\n",
      "4 S\n",
      "5 S\n",
      "6 S\n",
      "7 S\n",
      "8 S\n",
      "9 S\n",
      "10 S\n",
      "11 S\n",
      "12 S\n",
      "13 S\n",
      "14 S\n",
      "15 S\n",
      "16 S\n",
      "17 S\n",
      "18 S\n",
      "19 S\n",
      "20 S\n",
      "21 S\n",
      "22 S\n",
      "23 S\n"
     ]
    },
    {
     "name": "stderr",
     "output_type": "stream",
     "text": [
      "\n"
     ]
    }
   ],
   "source": [
    "# block integrated version:\n",
    "block.find_led_blink_frames()\n",
    "l_df, r_df = block.correct_relative_eye_drift_based_on_LED_lights_out(verification_plots=False)\n",
    "block.left_eye_data = l_df\n",
    "block.right_eye_data = r_df"
   ],
   "metadata": {
    "collapsed": false,
    "ExecuteTime": {
     "end_time": "2024-12-23T17:07:40.936677400Z",
     "start_time": "2024-12-23T17:07:40.805096300Z"
    }
   },
   "id": "a5dbac7bcb642aa3",
   "execution_count": 164
  },
  {
   "cell_type": "code",
   "outputs": [
    {
     "name": "stdout",
     "output_type": "stream",
     "text": [
      "double row at 1\n",
      "double row at 3\n",
      "missing frame at 21\n",
      "missing frame at 24\n",
      "missing frame at 26\n",
      "The correction employed was -2.0, \n",
      "check the output and overwirte the left/right eye data dfs when happy, then re-export\n"
     ]
    }
   ],
   "source": [
    "l_df, r_df = block.correct_eye_sync_based_on_OE_LED_events()"
   ],
   "metadata": {
    "collapsed": false,
    "ExecuteTime": {
     "end_time": "2024-12-23T17:07:42.606811500Z",
     "start_time": "2024-12-23T17:07:42.495031600Z"
    }
   },
   "id": "a982500494089ee6",
   "execution_count": 165
  },
  {
   "cell_type": "code",
   "outputs": [],
   "source": [
    "block.left_eye_data = l_df\n",
    "block.right_eye_data = r_df"
   ],
   "metadata": {
    "collapsed": false,
    "ExecuteTime": {
     "end_time": "2024-12-21T18:38:08.589554Z",
     "start_time": "2024-12-21T18:38:08.553128Z"
    }
   },
   "id": "722552b60cd511dc",
   "execution_count": 94
  },
  {
   "cell_type": "code",
   "outputs": [],
   "source": [
    "# I get weird behavior from my OE_LED sync - here is where I'm testing what's really up\n",
    "# helper functrions:\n",
    "def find_middle_values(series):\n",
    "    # Create a DataFrame from the series\n",
    "    data = pd.DataFrame({'index': series.index, 'value': series.values})\n",
    "\n",
    "    # Identify chunks of consecutive indices\n",
    "    data['chunk'] = (data['index'].diff() != 1).cumsum()\n",
    "\n",
    "    # Function to get the middle value of each chunk\n",
    "    def get_middle_value(chunk):\n",
    "        # Calculate the position of the middle value (0-based index)\n",
    "        middle_idx = (len(chunk) - 1) // 2\n",
    "        return chunk.iloc[middle_idx]['value']\n",
    "\n",
    "    # Group by chunk and apply the function to find the middle value\n",
    "    middle_values = data.groupby('chunk').apply(get_middle_value).tolist()\n",
    "\n",
    "    return middle_values\n",
    "\n",
    "oe_led_blinks = block.oe_events[['LED_driver']].query('LED_driver == LED_driver').values\n",
    "ms_timestamps = oe_led_blinks.T / 20\n",
    "ms_axis = block.left_eye_data.ms_axis.values\n",
    "ms_blink_frames = []\n",
    "# The timestamps now correspond with the real time axis and not the down-sampled arena frames time markers -\n",
    "# the following code corrects that and finds the closest frames\n",
    "for t in ms_timestamps[0]:\n",
    "    ms_blink_frames.append(ms_axis[np.argmin(np.abs(ms_axis - t))])\n",
    "\n",
    "ms_blink_times = np.array(ms_blink_frames)\n",
    "le_frame_blinks = block.left_eye_data[block.left_eye_data.eye_frame.isin(block.led_blink_frames_l)].ms_axis\n",
    "le_blinks_ms = find_middle_values(le_frame_blinks)\n",
    "re_frame_blinks = block.right_eye_data[block.right_eye_data.eye_frame.isin(block.led_blink_frames_r)].ms_axis\n",
    "re_blinks_ms = find_middle_values(re_frame_blinks)\n"
   ],
   "metadata": {
    "collapsed": false,
    "ExecuteTime": {
     "end_time": "2024-12-23T13:26:00.714927800Z",
     "start_time": "2024-12-23T13:26:00.661194500Z"
    }
   },
   "id": "7c1a4f975f590e8a",
   "execution_count": 44
  },
  {
   "cell_type": "markdown",
   "source": [
    "# End of Synchronization Pipeline"
   ],
   "metadata": {
    "collapsed": false
   },
   "id": "906cceb8f6c47b4b"
  },
  {
   "cell_type": "markdown",
   "source": [
    "# Data export steps:"
   ],
   "metadata": {
    "collapsed": false
   },
   "id": "2e68d89b4efe7289"
  },
  {
   "cell_type": "code",
   "outputs": [
    {
     "name": "stdout",
     "output_type": "stream",
     "text": [
      "eye dataframes and rotation matrix saved to: <_io.BufferedWriter name='Z:\\\\Nimrod\\\\experiments\\\\PV_126\\\\2024_08_13\\\\block_015\\\\analysis\\\\rotate_eye_data_params.pkl'>\n"
     ]
    }
   ],
   "source": [
    "def export_eye_data_2d_w_rotation_matrix(block):\n",
    "    \"\"\"\n",
    "    This function saves the eye dataframes to two csv files\n",
    "    :param block: The current blocksync class with verifiec re/le dfs\n",
    "    :return: None\n",
    "    \"\"\"\n",
    "    block.right_eye_data.to_csv(block.analysis_path / 'right_eye_data.csv')\n",
    "    block.left_eye_data.to_csv(block.analysis_path / 'left_eye_data.csv')\n",
    "    rotation_dict = {'left_rotation_matrix': block.left_rotation_matrix,\n",
    "                'left_rotation_angle':  block.left_rotation_angle,\n",
    "                'right_rotation_matrix':block.right_rotation_matrix,\n",
    "                'right_rotation_angle': block.right_rotation_angle}\n",
    "    with open(block.analysis_path / 'rotate_eye_data_params.pkl', 'wb') as file:\n",
    "        pickle.dump(rotation_dict, file)\n",
    "        print(f'eye dataframes and rotation matrix saved to: {file}')\n",
    "        \n",
    "export_eye_data_2d_w_rotation_matrix(block)"
   ],
   "metadata": {
    "collapsed": false,
    "ExecuteTime": {
     "end_time": "2024-12-23T17:07:57.271245600Z",
     "start_time": "2024-12-23T17:07:50.391422400Z"
    }
   },
   "id": "c527e159d544437a",
   "execution_count": 166
  },
  {
   "cell_type": "code",
   "outputs": [
    {
     "data": {
      "text/plain": "         Arena_TTL  Arena_frame  L_eye_frame  R_eye_frame  L_values  R_values\n0         857974.0        392.0        136.0         69.0 -2.313608 -1.473610\n1         858307.0        393.0        137.0         70.0 -2.307578 -1.472873\n2         858630.0        393.0        138.0         71.0 -2.307772 -1.466903\n3         858963.0        394.0        139.0         72.0 -2.311223 -1.458486\n4         859287.0        394.0        140.0         73.0 -2.311346 -1.461533\n...            ...          ...          ...          ...       ...       ...\n154064  51439069.0      77424.0          NaN          NaN       NaN       NaN\n154065  51439402.0      77425.0          NaN          NaN       NaN       NaN\n154066  51439725.0      77425.0          NaN          NaN       NaN       NaN\n154067  51440058.0      77426.0          NaN          NaN       NaN       NaN\n154068  51440382.0      77426.0          NaN          NaN       NaN       NaN\n\n[154069 rows x 6 columns]",
      "text/html": "<div>\n<style scoped>\n    .dataframe tbody tr th:only-of-type {\n        vertical-align: middle;\n    }\n\n    .dataframe tbody tr th {\n        vertical-align: top;\n    }\n\n    .dataframe thead th {\n        text-align: right;\n    }\n</style>\n<table border=\"1\" class=\"dataframe\">\n  <thead>\n    <tr style=\"text-align: right;\">\n      <th></th>\n      <th>Arena_TTL</th>\n      <th>Arena_frame</th>\n      <th>L_eye_frame</th>\n      <th>R_eye_frame</th>\n      <th>L_values</th>\n      <th>R_values</th>\n    </tr>\n  </thead>\n  <tbody>\n    <tr>\n      <th>0</th>\n      <td>857974.0</td>\n      <td>392.0</td>\n      <td>136.0</td>\n      <td>69.0</td>\n      <td>-2.313608</td>\n      <td>-1.473610</td>\n    </tr>\n    <tr>\n      <th>1</th>\n      <td>858307.0</td>\n      <td>393.0</td>\n      <td>137.0</td>\n      <td>70.0</td>\n      <td>-2.307578</td>\n      <td>-1.472873</td>\n    </tr>\n    <tr>\n      <th>2</th>\n      <td>858630.0</td>\n      <td>393.0</td>\n      <td>138.0</td>\n      <td>71.0</td>\n      <td>-2.307772</td>\n      <td>-1.466903</td>\n    </tr>\n    <tr>\n      <th>3</th>\n      <td>858963.0</td>\n      <td>394.0</td>\n      <td>139.0</td>\n      <td>72.0</td>\n      <td>-2.311223</td>\n      <td>-1.458486</td>\n    </tr>\n    <tr>\n      <th>4</th>\n      <td>859287.0</td>\n      <td>394.0</td>\n      <td>140.0</td>\n      <td>73.0</td>\n      <td>-2.311346</td>\n      <td>-1.461533</td>\n    </tr>\n    <tr>\n      <th>...</th>\n      <td>...</td>\n      <td>...</td>\n      <td>...</td>\n      <td>...</td>\n      <td>...</td>\n      <td>...</td>\n    </tr>\n    <tr>\n      <th>154064</th>\n      <td>51439069.0</td>\n      <td>77424.0</td>\n      <td>NaN</td>\n      <td>NaN</td>\n      <td>NaN</td>\n      <td>NaN</td>\n    </tr>\n    <tr>\n      <th>154065</th>\n      <td>51439402.0</td>\n      <td>77425.0</td>\n      <td>NaN</td>\n      <td>NaN</td>\n      <td>NaN</td>\n      <td>NaN</td>\n    </tr>\n    <tr>\n      <th>154066</th>\n      <td>51439725.0</td>\n      <td>77425.0</td>\n      <td>NaN</td>\n      <td>NaN</td>\n      <td>NaN</td>\n      <td>NaN</td>\n    </tr>\n    <tr>\n      <th>154067</th>\n      <td>51440058.0</td>\n      <td>77426.0</td>\n      <td>NaN</td>\n      <td>NaN</td>\n      <td>NaN</td>\n      <td>NaN</td>\n    </tr>\n    <tr>\n      <th>154068</th>\n      <td>51440382.0</td>\n      <td>77426.0</td>\n      <td>NaN</td>\n      <td>NaN</td>\n      <td>NaN</td>\n      <td>NaN</td>\n    </tr>\n  </tbody>\n</table>\n<p>154069 rows × 6 columns</p>\n</div>"
     },
     "execution_count": 37,
     "metadata": {},
     "output_type": "execute_result"
    }
   ],
   "source": [
    "block.final_sync_df"
   ],
   "metadata": {
    "collapsed": false,
    "ExecuteTime": {
     "end_time": "2024-12-22T23:15:37.854243400Z",
     "start_time": "2024-12-22T23:15:37.807670100Z"
    }
   },
   "id": "798b493f461429ea",
   "execution_count": 37
  },
  {
   "cell_type": "markdown",
   "source": [
    "# Manual Synchronization steps - only use when needed and after block instantiation"
   ],
   "metadata": {
    "collapsed": false
   },
   "id": "2fe8c022a31e2581"
  },
  {
   "cell_type": "code",
   "outputs": [
    {
     "name": "stdout",
     "output_type": "stream",
     "text": [
      "index error on position 59 out of 60\n",
      "index error on position 91 out of 92\n",
      "The suspected lag between eye cameras is -5.0 with the direction ['right', 'early']\n"
     ]
    }
   ],
   "source": [
    "block.get_eyes_diff_list(2)"
   ],
   "metadata": {
    "collapsed": false,
    "ExecuteTime": {
     "end_time": "2024-12-23T13:48:59.512930800Z",
     "start_time": "2024-12-23T13:48:59.460519800Z"
    }
   },
   "id": "96e6a638ce6b278a",
   "execution_count": 135
  },
  {
   "cell_type": "code",
   "outputs": [
    {
     "name": "stdout",
     "output_type": "stream",
     "text": [
      "created manual_sync_df attribute for the block\n"
     ]
    }
   ],
   "source": [
    "block.fix_eye_synchronization()"
   ],
   "metadata": {
    "collapsed": false,
    "ExecuteTime": {
     "end_time": "2024-12-23T13:49:00.039598900Z",
     "start_time": "2024-12-23T13:48:59.980860700Z"
    }
   },
   "id": "41926d1e9a8563b7",
   "execution_count": 136
  },
  {
   "cell_type": "code",
   "outputs": [
    {
     "data": {
      "text/plain": "           Arena_frame L_eye_frame R_eye_frame\nArena_TTL                                     \n676740.0           497           5           0\n677073.0           498           6           2\n677397.0           498           7           3\n677730.0           499           8           4\n678053.0           499           9           5\n...                ...         ...         ...\n32834371.0       49494       96856       96654\n32834704.0       49495       96857       96655\n32835027.0       49495       96858       96656\n32835360.0       49496       96859       96657\n32835683.0       49496       96860       96657\n\n[97999 rows x 3 columns]",
      "text/html": "<div>\n<style scoped>\n    .dataframe tbody tr th:only-of-type {\n        vertical-align: middle;\n    }\n\n    .dataframe tbody tr th {\n        vertical-align: top;\n    }\n\n    .dataframe thead th {\n        text-align: right;\n    }\n</style>\n<table border=\"1\" class=\"dataframe\">\n  <thead>\n    <tr style=\"text-align: right;\">\n      <th></th>\n      <th>Arena_frame</th>\n      <th>L_eye_frame</th>\n      <th>R_eye_frame</th>\n    </tr>\n    <tr>\n      <th>Arena_TTL</th>\n      <th></th>\n      <th></th>\n      <th></th>\n    </tr>\n  </thead>\n  <tbody>\n    <tr>\n      <th>676740.0</th>\n      <td>497</td>\n      <td>5</td>\n      <td>0</td>\n    </tr>\n    <tr>\n      <th>677073.0</th>\n      <td>498</td>\n      <td>6</td>\n      <td>2</td>\n    </tr>\n    <tr>\n      <th>677397.0</th>\n      <td>498</td>\n      <td>7</td>\n      <td>3</td>\n    </tr>\n    <tr>\n      <th>677730.0</th>\n      <td>499</td>\n      <td>8</td>\n      <td>4</td>\n    </tr>\n    <tr>\n      <th>678053.0</th>\n      <td>499</td>\n      <td>9</td>\n      <td>5</td>\n    </tr>\n    <tr>\n      <th>...</th>\n      <td>...</td>\n      <td>...</td>\n      <td>...</td>\n    </tr>\n    <tr>\n      <th>32834371.0</th>\n      <td>49494</td>\n      <td>96856</td>\n      <td>96654</td>\n    </tr>\n    <tr>\n      <th>32834704.0</th>\n      <td>49495</td>\n      <td>96857</td>\n      <td>96655</td>\n    </tr>\n    <tr>\n      <th>32835027.0</th>\n      <td>49495</td>\n      <td>96858</td>\n      <td>96656</td>\n    </tr>\n    <tr>\n      <th>32835360.0</th>\n      <td>49496</td>\n      <td>96859</td>\n      <td>96657</td>\n    </tr>\n    <tr>\n      <th>32835683.0</th>\n      <td>49496</td>\n      <td>96860</td>\n      <td>96657</td>\n    </tr>\n  </tbody>\n</table>\n<p>97999 rows × 3 columns</p>\n</div>"
     },
     "execution_count": 137,
     "metadata": {},
     "output_type": "execute_result"
    }
   ],
   "source": [
    "block.blocksync_df"
   ],
   "metadata": {
    "collapsed": false,
    "ExecuteTime": {
     "end_time": "2024-12-23T13:49:01.157843500Z",
     "start_time": "2024-12-23T13:49:01.127847500Z"
    }
   },
   "id": "fcfdf198c2b4b8f5",
   "execution_count": 137
  },
  {
   "cell_type": "code",
   "outputs": [],
   "source": [
    "# use this to manually shift L\\R eye synchronization\n",
    "eye_to_move = 'R'\n",
    "block.move_eye_sync_manual(cols_to_move=[f'{eye_to_move}_eye_frame',f'{eye_to_move}_values'],step=-5)"
   ],
   "metadata": {
    "collapsed": false,
    "ExecuteTime": {
     "end_time": "2024-12-23T13:49:36.194697800Z",
     "start_time": "2024-12-23T13:49:36.133878Z"
    }
   },
   "id": "612bae28bc9a5278",
   "execution_count": 139
  },
  {
   "cell_type": "code",
   "outputs": [],
   "source": [
    "block.full_sync_verification(ms_axis=False,with_arena=False)"
   ],
   "metadata": {
    "collapsed": false,
    "ExecuteTime": {
     "end_time": "2024-12-23T13:49:39.294567400Z",
     "start_time": "2024-12-23T13:49:38.343834800Z"
    }
   },
   "id": "dfa027bfac3d1e4a",
   "execution_count": 140
  },
  {
   "cell_type": "code",
   "outputs": [],
   "source": [
    "block.export_manual_sync_df()\n",
    "block.import_manual_sync_df()"
   ],
   "metadata": {
    "collapsed": false,
    "ExecuteTime": {
     "end_time": "2024-12-23T13:49:48.826689Z",
     "start_time": "2024-12-23T13:49:47.033338400Z"
    }
   },
   "id": "f1aa0fea4b85630f",
   "execution_count": 141
  },
  {
   "cell_type": "code",
   "outputs": [],
   "source": [
    "def full_sync_verification(self):\n",
    "    from bokeh.plotting import figure, show, curdoc\n",
    "    from bokeh.models import Slider, ColumnDataSource, CustomJS\n",
    "    from bokeh.layouts import column\n",
    "    import numpy as np\n",
    "    data_dict = {\n",
    "    'L_values': [None if np.isnan(x) or np.isinf(x) else x for x in\n",
    "    self.manual_sync_df['L_values']],\n",
    "    'R_values': [None if np.isnan(x) or np.isinf(x) else x for x in\n",
    "    self.manual_sync_df['R_values']]\n",
    "    }\n",
    "    source = ColumnDataSource(data=dict(\n",
    "    x_axis=self.manual_sync_df.index / self.sample_rate,\n",
    "    left_y=[None if np.isnan(x) or np.isinf(x) else x for x in\n",
    "    self.manual_sync_df['L_values'].shift(0)],\n",
    "    right_y=[None if np.isnan(x) or np.isinf(x) else x for x in\n",
    "    self.manual_sync_df['R_values'].shift(0)]\n",
    "    ))\n",
    "    bokeh_fig = figure(\n",
    "    title=f'Full Synchronization Verification',\n",
    "    x_axis_label='Seconds',\n",
    "    y_axis_label='Brightness Z_Score',\n",
    "    plot_width=1500,\n",
    "    plot_height=700\n",
    "    )\n",
    "    left_line = bokeh_fig.line('x_axis', 'left_y', source=source,\n",
    "    legend_label='Left_eye_values', line_width=1,\n",
    "    line_color='blue')\n",
    "    right_line = bokeh_fig.line('x_axis', 'right_y', source=source,\n",
    "    legend_label='Right_eye_values', line_width=1,\n",
    "    line_color='red')\n",
    "    slider_left = Slider(start=-500, end=500, value=0, step=1, title=\"Left Eye Shift\")\n",
    "    slider_right = Slider(start=-500, end=500, value=0, step=1, title=\"Right Eye Shift\")\n",
    "    callback = CustomJS(args=dict(source=source, slider_left=slider_left,\n",
    "    slider_right=slider_right, data_dict=data_dict),\n",
    "    code=\"\"\"\n",
    "    const plot_data = source.data;\n",
    "    const left_shift = slider_left.value;\n",
    "    const right_shift = slider_right.value;\n",
    "    const left_values = data_dict['L_values'];\n",
    "    const right_values = data_dict['R_values'];\n",
    "    const length = plot_data['x_axis'].length;\n",
    "    for (let i = 0; i < length; i++) {\n",
    "    plot_data['left_y'][i] = (i + left_shift >= 0 && i +\n",
    "    left_shift < length) ? left_values[i + left_shift] : null;\n",
    "    plot_data['right_y'][i] = (i + right_shift >= 0 && i +\n",
    "    right_shift < length) ? right_values[i + right_shift] : null;\n",
    "    }\n",
    "    console.log(\"Left shift: \", left_shift, \"Right shift: \",\n",
    "    right_shift); // Debug output\n",
    "    source.change.emit();\n",
    "    \"\"\")\n",
    "    slider_left.js_on_change('value', callback)\n",
    "    slider_right.js_on_change('value', callback)\n",
    "    layout = column(bokeh_fig, slider_left, slider_right)\n",
    "    curdoc().add_root(layout)\n",
    "    show(layout)\n"
   ],
   "metadata": {
    "collapsed": false,
    "ExecuteTime": {
     "end_time": "2024-12-23T13:39:59.034826Z",
     "start_time": "2024-12-23T13:39:58.993825900Z"
    }
   },
   "id": "5ab839e1eebe4170",
   "execution_count": 111
  },
  {
   "cell_type": "code",
   "outputs": [],
   "source": [
    "full_sync_verification(block)"
   ],
   "metadata": {
    "collapsed": false,
    "ExecuteTime": {
     "end_time": "2024-12-23T13:49:07.558851500Z",
     "start_time": "2024-12-23T13:49:05.911293700Z"
    }
   },
   "id": "b8f73dc680caa978",
   "execution_count": 138
  },
  {
   "cell_type": "code",
   "outputs": [],
   "source": [
    "block.manual_sync_df.rename(columns={'Unnamed: 0.1': 'Arena_TTL'},inplace=True)"
   ],
   "metadata": {
    "collapsed": false,
    "ExecuteTime": {
     "end_time": "2024-12-18T13:23:42.716265100Z",
     "start_time": "2024-12-18T13:23:42.659953500Z"
    }
   },
   "id": "1fbc218b27752fa4",
   "execution_count": 38
  },
  {
   "cell_type": "code",
   "outputs": [
    {
     "data": {
      "text/plain": "        Arena_TTL  Arena_frame  L_eye_frame  R_eye_frame  L_values  R_values\n0          913655        845.0          6.0          2.0 -0.970385 -0.877140\n1          913988        846.0          6.0          3.0 -0.970385 -0.872642\n2          914321        846.0          8.0          4.0 -0.969849 -0.871553\n3          914655        847.0          9.0          5.0 -0.966254 -0.868974\n4          914988        847.0         10.0          6.0 -0.970299 -0.867236\n...           ...          ...          ...          ...       ...       ...\n121570   41436988      62567.0     121799.0     121794.0 -0.277042  0.023131\n121571   41437321      62567.0     121799.0          NaN -0.277042       NaN\n121572   41437655      62568.0     121800.0          NaN -0.285377       NaN\n121573   41437988      62568.0     121802.0          NaN -0.269196       NaN\n121574   41438321      62569.0     121803.0          NaN -0.269542       NaN\n\n[121575 rows x 6 columns]",
      "text/html": "<div>\n<style scoped>\n    .dataframe tbody tr th:only-of-type {\n        vertical-align: middle;\n    }\n\n    .dataframe tbody tr th {\n        vertical-align: top;\n    }\n\n    .dataframe thead th {\n        text-align: right;\n    }\n</style>\n<table border=\"1\" class=\"dataframe\">\n  <thead>\n    <tr style=\"text-align: right;\">\n      <th></th>\n      <th>Arena_TTL</th>\n      <th>Arena_frame</th>\n      <th>L_eye_frame</th>\n      <th>R_eye_frame</th>\n      <th>L_values</th>\n      <th>R_values</th>\n    </tr>\n  </thead>\n  <tbody>\n    <tr>\n      <th>0</th>\n      <td>913655</td>\n      <td>845.0</td>\n      <td>6.0</td>\n      <td>2.0</td>\n      <td>-0.970385</td>\n      <td>-0.877140</td>\n    </tr>\n    <tr>\n      <th>1</th>\n      <td>913988</td>\n      <td>846.0</td>\n      <td>6.0</td>\n      <td>3.0</td>\n      <td>-0.970385</td>\n      <td>-0.872642</td>\n    </tr>\n    <tr>\n      <th>2</th>\n      <td>914321</td>\n      <td>846.0</td>\n      <td>8.0</td>\n      <td>4.0</td>\n      <td>-0.969849</td>\n      <td>-0.871553</td>\n    </tr>\n    <tr>\n      <th>3</th>\n      <td>914655</td>\n      <td>847.0</td>\n      <td>9.0</td>\n      <td>5.0</td>\n      <td>-0.966254</td>\n      <td>-0.868974</td>\n    </tr>\n    <tr>\n      <th>4</th>\n      <td>914988</td>\n      <td>847.0</td>\n      <td>10.0</td>\n      <td>6.0</td>\n      <td>-0.970299</td>\n      <td>-0.867236</td>\n    </tr>\n    <tr>\n      <th>...</th>\n      <td>...</td>\n      <td>...</td>\n      <td>...</td>\n      <td>...</td>\n      <td>...</td>\n      <td>...</td>\n    </tr>\n    <tr>\n      <th>121570</th>\n      <td>41436988</td>\n      <td>62567.0</td>\n      <td>121799.0</td>\n      <td>121794.0</td>\n      <td>-0.277042</td>\n      <td>0.023131</td>\n    </tr>\n    <tr>\n      <th>121571</th>\n      <td>41437321</td>\n      <td>62567.0</td>\n      <td>121799.0</td>\n      <td>NaN</td>\n      <td>-0.277042</td>\n      <td>NaN</td>\n    </tr>\n    <tr>\n      <th>121572</th>\n      <td>41437655</td>\n      <td>62568.0</td>\n      <td>121800.0</td>\n      <td>NaN</td>\n      <td>-0.285377</td>\n      <td>NaN</td>\n    </tr>\n    <tr>\n      <th>121573</th>\n      <td>41437988</td>\n      <td>62568.0</td>\n      <td>121802.0</td>\n      <td>NaN</td>\n      <td>-0.269196</td>\n      <td>NaN</td>\n    </tr>\n    <tr>\n      <th>121574</th>\n      <td>41438321</td>\n      <td>62569.0</td>\n      <td>121803.0</td>\n      <td>NaN</td>\n      <td>-0.269542</td>\n      <td>NaN</td>\n    </tr>\n  </tbody>\n</table>\n<p>121575 rows × 6 columns</p>\n</div>"
     },
     "execution_count": 39,
     "metadata": {},
     "output_type": "execute_result"
    }
   ],
   "source": [
    "block.manual_sync_df"
   ],
   "metadata": {
    "collapsed": false,
    "ExecuteTime": {
     "end_time": "2024-12-18T13:23:48.869666800Z",
     "start_time": "2024-12-18T13:23:48.781390800Z"
    }
   },
   "id": "ba9b814f2b62f286",
   "execution_count": 39
  },
  {
   "cell_type": "code",
   "outputs": [
    {
     "data": {
      "text/plain": "       OE_timestamp  eye_frame     ms_axis    center_x    center_y        phi  \\\n0          676740.0        5.0    33837.00  319.518120  177.992945 -15.443761   \n1          677073.0        6.0    33853.65  319.537921  177.984564 -15.536813   \n2          677397.0        7.0    33869.85  319.510882  178.011487 -15.462979   \n3          677730.0        8.0    33886.50  319.491438  178.003452 -14.895568   \n4          678053.0        9.0    33902.65  319.491147  178.091727 -14.170065   \n...             ...        ...         ...         ...         ...        ...   \n97994    32834371.0    96856.0  1641718.55  340.761068  109.354315 -24.174997   \n97995    32834704.0    96857.0  1641735.20  340.931360  109.326126 -24.160139   \n97996    32835027.0    96858.0  1641751.35  340.753870  109.435444 -24.996913   \n97997    32835360.0    96859.0  1641768.00  341.181379  109.345112 -23.876929   \n97998    32835683.0    96860.0  1641784.15  341.092590  109.340605 -23.859499   \n\n           width     height   major_ax   minor_ax     ratio  \n0      46.028471  40.458124  46.028471  40.458124  1.137682  \n1      46.187965  40.480872  46.187965  40.480872  1.140982  \n2      46.079456  40.440812  46.079456  40.440812  1.139430  \n3      45.985501  40.541131  45.985501  40.541131  1.134293  \n4      45.875067  40.475895  45.875067  40.475895  1.133392  \n...          ...        ...        ...        ...       ...  \n97994  41.280409  28.235806  41.280409  28.235806  1.461988  \n97995  41.655405  28.352723  41.655405  28.352723  1.469185  \n97996  42.075840  28.446548  42.075840  28.446548  1.479119  \n97997  41.828722  28.359923  41.828722  28.359923  1.474924  \n97998  41.863880  28.545485  41.863880  28.545485  1.466567  \n\n[97999 rows x 11 columns]",
      "text/html": "<div>\n<style scoped>\n    .dataframe tbody tr th:only-of-type {\n        vertical-align: middle;\n    }\n\n    .dataframe tbody tr th {\n        vertical-align: top;\n    }\n\n    .dataframe thead th {\n        text-align: right;\n    }\n</style>\n<table border=\"1\" class=\"dataframe\">\n  <thead>\n    <tr style=\"text-align: right;\">\n      <th></th>\n      <th>OE_timestamp</th>\n      <th>eye_frame</th>\n      <th>ms_axis</th>\n      <th>center_x</th>\n      <th>center_y</th>\n      <th>phi</th>\n      <th>width</th>\n      <th>height</th>\n      <th>major_ax</th>\n      <th>minor_ax</th>\n      <th>ratio</th>\n    </tr>\n  </thead>\n  <tbody>\n    <tr>\n      <th>0</th>\n      <td>676740.0</td>\n      <td>5.0</td>\n      <td>33837.00</td>\n      <td>319.518120</td>\n      <td>177.992945</td>\n      <td>-15.443761</td>\n      <td>46.028471</td>\n      <td>40.458124</td>\n      <td>46.028471</td>\n      <td>40.458124</td>\n      <td>1.137682</td>\n    </tr>\n    <tr>\n      <th>1</th>\n      <td>677073.0</td>\n      <td>6.0</td>\n      <td>33853.65</td>\n      <td>319.537921</td>\n      <td>177.984564</td>\n      <td>-15.536813</td>\n      <td>46.187965</td>\n      <td>40.480872</td>\n      <td>46.187965</td>\n      <td>40.480872</td>\n      <td>1.140982</td>\n    </tr>\n    <tr>\n      <th>2</th>\n      <td>677397.0</td>\n      <td>7.0</td>\n      <td>33869.85</td>\n      <td>319.510882</td>\n      <td>178.011487</td>\n      <td>-15.462979</td>\n      <td>46.079456</td>\n      <td>40.440812</td>\n      <td>46.079456</td>\n      <td>40.440812</td>\n      <td>1.139430</td>\n    </tr>\n    <tr>\n      <th>3</th>\n      <td>677730.0</td>\n      <td>8.0</td>\n      <td>33886.50</td>\n      <td>319.491438</td>\n      <td>178.003452</td>\n      <td>-14.895568</td>\n      <td>45.985501</td>\n      <td>40.541131</td>\n      <td>45.985501</td>\n      <td>40.541131</td>\n      <td>1.134293</td>\n    </tr>\n    <tr>\n      <th>4</th>\n      <td>678053.0</td>\n      <td>9.0</td>\n      <td>33902.65</td>\n      <td>319.491147</td>\n      <td>178.091727</td>\n      <td>-14.170065</td>\n      <td>45.875067</td>\n      <td>40.475895</td>\n      <td>45.875067</td>\n      <td>40.475895</td>\n      <td>1.133392</td>\n    </tr>\n    <tr>\n      <th>...</th>\n      <td>...</td>\n      <td>...</td>\n      <td>...</td>\n      <td>...</td>\n      <td>...</td>\n      <td>...</td>\n      <td>...</td>\n      <td>...</td>\n      <td>...</td>\n      <td>...</td>\n      <td>...</td>\n    </tr>\n    <tr>\n      <th>97994</th>\n      <td>32834371.0</td>\n      <td>96856.0</td>\n      <td>1641718.55</td>\n      <td>340.761068</td>\n      <td>109.354315</td>\n      <td>-24.174997</td>\n      <td>41.280409</td>\n      <td>28.235806</td>\n      <td>41.280409</td>\n      <td>28.235806</td>\n      <td>1.461988</td>\n    </tr>\n    <tr>\n      <th>97995</th>\n      <td>32834704.0</td>\n      <td>96857.0</td>\n      <td>1641735.20</td>\n      <td>340.931360</td>\n      <td>109.326126</td>\n      <td>-24.160139</td>\n      <td>41.655405</td>\n      <td>28.352723</td>\n      <td>41.655405</td>\n      <td>28.352723</td>\n      <td>1.469185</td>\n    </tr>\n    <tr>\n      <th>97996</th>\n      <td>32835027.0</td>\n      <td>96858.0</td>\n      <td>1641751.35</td>\n      <td>340.753870</td>\n      <td>109.435444</td>\n      <td>-24.996913</td>\n      <td>42.075840</td>\n      <td>28.446548</td>\n      <td>42.075840</td>\n      <td>28.446548</td>\n      <td>1.479119</td>\n    </tr>\n    <tr>\n      <th>97997</th>\n      <td>32835360.0</td>\n      <td>96859.0</td>\n      <td>1641768.00</td>\n      <td>341.181379</td>\n      <td>109.345112</td>\n      <td>-23.876929</td>\n      <td>41.828722</td>\n      <td>28.359923</td>\n      <td>41.828722</td>\n      <td>28.359923</td>\n      <td>1.474924</td>\n    </tr>\n    <tr>\n      <th>97998</th>\n      <td>32835683.0</td>\n      <td>96860.0</td>\n      <td>1641784.15</td>\n      <td>341.092590</td>\n      <td>109.340605</td>\n      <td>-23.859499</td>\n      <td>41.863880</td>\n      <td>28.545485</td>\n      <td>41.863880</td>\n      <td>28.545485</td>\n      <td>1.466567</td>\n    </tr>\n  </tbody>\n</table>\n<p>97999 rows × 11 columns</p>\n</div>"
     },
     "execution_count": 167,
     "metadata": {},
     "output_type": "execute_result"
    }
   ],
   "source": [
    "block.left_eye_data"
   ],
   "metadata": {
    "collapsed": false,
    "ExecuteTime": {
     "end_time": "2024-12-23T17:11:02.404288100Z",
     "start_time": "2024-12-23T17:11:02.363456700Z"
    }
   },
   "id": "3848e862ac3b44b6",
   "execution_count": 167
  },
  {
   "cell_type": "code",
   "outputs": [],
   "source": [
    "# This bit of code goes over blocks and collects the median distance between the rostral and caudal edges\n",
    "import os\n",
    "from ellipse import LsqEllipse\n",
    "import scipy.stats as stats\n",
    "\n",
    "def eye_tracking_analysis(dlc_video_analysis_csv, uncertainty_thr):\n",
    "    \"\"\"\n",
    "    :param dlc_video_analysis_csv: the csv output of a dlc analysis of one video, already read by pandas with header=1\n",
    "    :param uncertainty_thr: The confidence P value to use as a threshold for datapoint validity in the analysis\n",
    "    :returns ellipse_df: a DataFrame of ellipses parameters (center, width, height, phi, size) for each video frame\n",
    "\n",
    "    \"\"\"\n",
    "    # import the dataframe and convert it to floats\n",
    "    data = dlc_video_analysis_csv\n",
    "    data = data.iloc[1:].apply(pd.to_numeric)\n",
    "\n",
    "    # sort the pupil elements to dfs: x and y, with p as probability\n",
    "    pupil_elements = np.array([x for x in data.columns if 'Pupil' in x])\n",
    "\n",
    "    # get X coords\n",
    "    pupil_xs_before_flip = data[pupil_elements[np.arange(0, len(pupil_elements), 3)]]\n",
    "\n",
    "    # flip the data around the midpoint of the x-axis (shooting the eye through a camera flips right and left)\n",
    "    pupil_xs = 320 * 2 - pupil_xs_before_flip\n",
    "\n",
    "    # get Y coords (no need to flip as opencv conventions already start with origin at top left of frame\n",
    "    # and so, positive Y is maintained as up in a flipped image as we have)\n",
    "    pupil_ys = data[pupil_elements[np.arange(1, len(pupil_elements), 3)]]\n",
    "    pupil_ps = data[pupil_elements[np.arange(2, len(pupil_elements), 3)]]\n",
    "\n",
    "    # rename dataframes for masking with p values of bad points:\n",
    "    pupil_ps = pupil_ps.rename(columns=dict(zip(pupil_ps.columns, pupil_xs.columns)))\n",
    "    pupil_ys = pupil_ys.rename(columns=dict(zip(pupil_ys.columns, pupil_xs.columns)))\n",
    "    good_points = pupil_ps > uncertainty_thr\n",
    "    pupil_xs = pupil_xs[good_points]\n",
    "    pupil_ys = pupil_ys[good_points]\n",
    "\n",
    "    # Do the same for the edges\n",
    "    edge_elements = np.array([x for x in data.columns if 'edge' in x])\n",
    "    edge_xs_before_flip = data[edge_elements[np.arange(0, len(edge_elements), 3)]]\n",
    "    edge_xs = 320*2 - edge_xs_before_flip\n",
    "    edge_ys = data[edge_elements[np.arange(1, len(edge_elements), 3)]]\n",
    "    edge_ps = data[edge_elements[np.arange(2,len(edge_elements),3)]]\n",
    "    edge_ps = edge_ps.rename(columns=dict(zip(edge_ps.columns,edge_xs.columns)))\n",
    "    edge_ys = edge_ys.rename(columns=dict(zip(edge_ys.columns,edge_xs.columns)))\n",
    "    good_edge_points = edge_ps < uncertainty_thr\n",
    "    \n",
    "    # work row by row to figure out the ellipses\n",
    "    ellipses = []\n",
    "    caudal_edge_ls = []\n",
    "    rostral_edge_ls = []\n",
    "    for row in tqdm.tqdm(range(1, len(data) - 1)):\n",
    "        # first, take all the values, and concatenate them into an X array\n",
    "        x_values = pupil_xs.loc[row].values\n",
    "        y_values = pupil_ys.loc[row].values\n",
    "        X = np.c_[x_values, y_values]\n",
    "\n",
    "        # now, remove nan values, and check if there are enough points to make the ellipse\n",
    "        X = X[~ np.isnan(X).any(axis=1)]\n",
    "\n",
    "        # if there are enough rows for a fit, make an ellipse\n",
    "        if X.shape[0] > 5:\n",
    "            el = LsqEllipse().fit(X)\n",
    "            center, width, height, phi = el.as_parameters()\n",
    "            center_x = center[0]\n",
    "            center_y = center[1]\n",
    "            ellipses.append([center_x, center_y, width, height, phi])\n",
    "        else:\n",
    "            ellipses.append([np.nan, np.nan, np.nan, np.nan, np.nan])\n",
    "\n",
    "        caudal_edge = [\n",
    "            float(data['Caudal_edge'][row]),\n",
    "            float(data['Caudal_edge.1'][row])\n",
    "        ]\n",
    "        rostral_edge = [\n",
    "            float(data['Rostral_edge'][row]),\n",
    "            float(data['Rostral_edge.1'][row])\n",
    "        ]\n",
    "        caudal_edge_ls.append(caudal_edge)\n",
    "        rostral_edge_ls.append(rostral_edge)\n",
    "\n",
    "\n",
    "    # ellipse_df = pd.DataFrame(columns=['center_x', 'center_y', 'width', 'height', 'phi'], data=ellipses)\n",
    "    # a = np.array(ellipse_df['height'][:])\n",
    "    # b = np.array(ellipse_df['width'][:])\n",
    "    # ellipse_size_per_frame = a * b * math.pi\n",
    "    # ellipse_df['ellipse_size'] = ellipse_size_per_frame\n",
    "    ellipse_df = pd.Dataframe({\n",
    "        'rostral_edge':rostral_edge_ls,\n",
    "        'caudal_edge': caudal_edge_ls\n",
    "    })\n",
    "    \n",
    "\n",
    "    print(f'\\n ellipses calculation complete')\n",
    "    \n",
    "    ellipse_df[['caudal_edge_x', 'caudal_edge_y']] = pd.DataFrame(ellipse_df['caudal_edge'].tolist(), index=ellipse_df.index)\n",
    "    ellipse_df[['rostral_edge_x', 'rostral_edge_y']] = pd.DataFrame(ellipse_df['rostral_edge'].tolist(), index=ellipse_df.index)\n",
    "    \n",
    "    return ellipse_df\n",
    "\n",
    "def get_pixel_distance(df):\n",
    "    distances = np.sqrt((df['caudal_edge_x'] - df['rostral_edge_x'])**2 + \n",
    "                        (df['caudal_edge_y'] - df['rostral_edge_y'])**2)\n",
    "    \n",
    "    mean_distance = np.nanmean(distances)\n",
    "    std_distance = np.nanstd(distances)\n",
    "    # Shapiro-Wilk Test\n",
    "    shapiro_test = stats.shapiro(distances)\n",
    "    print(f\"Shapiro-Wilk Test: Statistic={shapiro_test.statistic}, p-value={shapiro_test.pvalue}\")\n",
    "    \n",
    "    # Kolmogorov-Smirnov Test\n",
    "    ks_test = stats.kstest(distances, 'norm', args=(mean_distance, std_distance))\n",
    "    print(f\"Kolmogorov-Smirnov Test: Statistic={ks_test.statistic}, p-value={ks_test.pvalue}\")\n",
    "    \n",
    "    median_distance = np.median(distances)\n",
    "    iqr_distance = stats.iqr(distances)\n",
    "    print(f\"Median Distance: {median_distance}\")\n",
    "    print(f\"IQR: {iqr_distance}\")\n",
    "    print(f'mean = {mean_distance}')\n",
    "    print(f'std = {std_distance}')\n",
    "    return median_distance\n",
    "\n",
    "R_pix_distance_dict = {}\n",
    "L_pix_distance_dict = {}\n",
    "\n",
    "for block in block_collection:\n",
    "    print(f'working on {block}')\n",
    "    pl = [i for i in os.listdir(block.r_e_path) if 'DLC' in i and '.csv' in i]\n",
    "    if len(pl) > 1:\n",
    "        pl = [i for i in pl if 'filtered' in i][0]\n",
    "    else:\n",
    "        pl = pl[0]\n",
    "    R_csv  = pd.read_csv(block.r_e_path / pl, header=1)\n",
    "    \n",
    "    pl = [i for i in os.listdir(block.l_e_path) if 'DLC' in i and '.csv' in i]\n",
    "    if len(pl) > 1:\n",
    "        pl = [i for i in pl if 'filtered' in i][0]\n",
    "    else:\n",
    "        pl = pl[0]\n",
    "    L_csv  = pd.read_csv(block.l_e_path / pl, header=1)\n",
    "    R_ellipse_df = eye_tracking_analysis(R_csv,0.998)\n",
    "    print('working on the right eye')\n",
    "    R_pixel_distance = get_pixel_distance(R_ellipse_df)    \n",
    "    L_ellipse_df = eye_tracking_analysis(L_csv,0.998)\n",
    "    print('working on the left eye')\n",
    "    L_pixel_distance = get_pixel_distance(L_ellipse_df)\n",
    "    R_pix_distance_dict[block.block_num] = R_pixel_distance\n",
    "    L_pix_distance_dict[block.block_num] = L_pixel_distance\n",
    "    "
   ],
   "metadata": {
    "collapsed": false
   },
   "id": "c1c3954ac1f85237"
  }
 ],
 "metadata": {
  "kernelspec": {
   "display_name": "Python 3",
   "language": "python",
   "name": "python3"
  },
  "language_info": {
   "codemirror_mode": {
    "name": "ipython",
    "version": 2
   },
   "file_extension": ".py",
   "mimetype": "text/x-python",
   "name": "python",
   "nbconvert_exporter": "python",
   "pygments_lexer": "ipython2",
   "version": "2.7.6"
  }
 },
 "nbformat": 4,
 "nbformat_minor": 5
}
