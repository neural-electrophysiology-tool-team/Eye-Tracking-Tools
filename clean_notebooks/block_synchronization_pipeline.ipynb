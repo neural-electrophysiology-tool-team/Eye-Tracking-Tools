{
 "cells": [
  {
   "cell_type": "code",
   "source": [
    "import numpy as np\n",
    "import cv2\n",
    "from itertools import cycle\n",
    "import pickle\n",
    "import pathlib\n",
    "import math\n",
    "import tqdm\n",
    "import scipy.io\n",
    "from matplotlib import pyplot as plt\n",
    "import scipy.io\n",
    "import h5py\n",
    "import re\n",
    "from lxml import etree as ET\n",
    "import scipy.signal as sig\n",
    "import pandas as pd\n",
    "from scipy.stats import kde\n",
    "from BlockSync_current import BlockSync\n",
    "import UtilityFunctions_newOE as uf\n",
    "from scipy import signal\n",
    "import bokeh\n",
    "import seaborn as sns"
   ],
   "metadata": {
    "collapsed": false,
    "ExecuteTime": {
     "end_time": "2025-08-26T15:19:35.010086Z",
     "start_time": "2025-08-26T15:19:34.274921Z"
    }
   },
   "id": "1549b3863d392dbe",
   "outputs": [],
   "execution_count": 1
  },
  {
   "cell_type": "code",
   "source": [
    "def create_distance_plot(distances, top_dist_to_show=500):\n",
    "    # Create cumulative distribution plot\n",
    "    sns.set(style=\"whitegrid\")\n",
    "    fig, axs = plt.subplots(2, figsize=(6, 6), dpi=150)\n",
    "    \n",
    "    axs[0].set_title('Cumulative Euclidean Distances for Camera Jitter', fontsize=15)\n",
    "    axs[0].set_ylabel('Cumulative \\n % of Frames')\n",
    "    axs[0].set_xlim(0, top_dist_to_show)\n",
    "    axs[0].grid(False)\n",
    "    \n",
    "    # Create histogram and cumulative distribution\n",
    "    sns.kdeplot(distances, cumulative=True, label='Left Eye', ax=axs[0], linewidth=4, c='black')\n",
    "    \n",
    "    axs[1].hist(distances, bins=np.linspace(0, top_dist_to_show, 20), log=False, color='black')\n",
    "\n",
    "    # Set title and labels\n",
    "    title = 'Image displacement histogram'\n",
    "    axs[1].set_title(title, fontsize=15)\n",
    "    axs[1].set_xlabel('Euclidean Displacement [$\\mu$m]', fontsize=15)\n",
    "    axs[1].set_xscale('linear')\n",
    "    axs[1].set_yscale('linear')\n",
    "    axs[1].set_ylabel('Frame count', fontsize=15)\n",
    "\n",
    "    # Adjust tick label sizes\n",
    "    axs[1].tick_params(axis='x', which='major', labelsize=15)\n",
    "\n",
    "    # Set white background and black text\n",
    "    axs[1].set_facecolor('white')\n",
    "    axs[1].title.set_color('black')\n",
    "    axs[1].xaxis.label.set_color('black')\n",
    "    axs[1].yaxis.label.set_color('black')\n",
    "    axs[1].tick_params(colors='black')\n",
    "    axs[1].grid(False)\n",
    "\n",
    "    plt.tight_layout()\n",
    "\n",
    "    return fig, axs\n",
    "def add_intermediate_elements(input_vector, gap_to_bridge):\n",
    "    # Step 1: Calculate differences between each element\n",
    "    differences = np.diff(input_vector)\n",
    "\n",
    "    # Step 2: Add intervening elements based on the diff_threshold\n",
    "    output_vector = [input_vector[0]]\n",
    "    for i, diff in enumerate(differences):\n",
    "        if diff < gap_to_bridge:\n",
    "            # Add intervening elements\n",
    "            output_vector.extend(range(input_vector[i] + 1, input_vector[i + 1]))\n",
    "\n",
    "        # Add the next element from the original vector\n",
    "        output_vector.append(input_vector[i + 1])\n",
    "\n",
    "    return np.sort(np.unique(output_vector))\n",
    "\n",
    "def find_jittery_frames(block, eye, max_distance, diff_threshold, gap_to_bridge=6):\n",
    "    \n",
    "    #input checks\n",
    "    if eye not in ['left', 'right']:\n",
    "        print(f'eye can only be left/right, your input: {eye}')\n",
    "        return None\n",
    "    # eye setup\n",
    "    if eye == 'left':\n",
    "        jitter_dict = block.le_jitter_dict\n",
    "        eye_frame_col = 'L_eye_frame'\n",
    "    elif eye == 'right':\n",
    "        jitter_dict = block.re_jitter_dict\n",
    "        eye_frame_col = 'R_eye_frame'\n",
    "    \n",
    "    df_dict = {'left':block.le_df,\n",
    "               'right':block.re_df}\n",
    "    \n",
    "    df = pd.DataFrame.from_dict(jitter_dict)\n",
    "    indices_of_highest_drift = df.query(\"top_correlation_dist > @max_distance\").index.values\n",
    "    diff_vec = np.diff(df['top_correlation_dist'].values)\n",
    "    diff_peaks_indices = np.where(diff_vec > diff_threshold)[0]\n",
    "    video_indices = np.concatenate((diff_peaks_indices, indices_of_highest_drift))\n",
    "    print(f'the diff based jitter frame exclusion gives: {np.shape(diff_peaks_indices)}')\n",
    "    print(f'the threshold based jitter frame exclusion gives: {np.shape(indices_of_highest_drift)}')\n",
    "    \n",
    "    # creates a bridged version of the overly jittery frames (to contend with single frame outliers)\n",
    "    video_indices = add_intermediate_elements(video_indices, gap_to_bridge=gap_to_bridge)\n",
    "    # This is the input you should give to the BlockSync.remove_eye_datapoints function (which already maps it to the df) \n",
    "    \n",
    "    \n",
    "    # translates the video indices to le/re dataframe rows\n",
    "    df_indices_to_remove = df_dict[eye].loc[df_dict[eye][eye_frame_col].isin(video_indices)].index.values\n",
    "    \n",
    "    return df_indices_to_remove, video_indices\n",
    "\n",
    "def bokeh_plotter(data_list, label_list,\n",
    "                  plot_name='default',\n",
    "                  x_axis='X', y_axis='Y',\n",
    "                  peaks=None, peaks_list=False, export_path=False):\n",
    "    \"\"\"Generates an interactive Bokeh plot for the given data vector.\n",
    "    Args:\n",
    "        data_list (list or array): The data to be plotted.\n",
    "        label_list (list of str): The labels of the data vectors\n",
    "        plot_name (str, optional): The title of the plot. Defaults to 'default'.\n",
    "        x_axis (str, optional): The label for the x-axis. Defaults to 'X'.\n",
    "        y_axis (str, optional): The label for the y-axis. Defaults to 'Y'.\n",
    "        peaks (list or array, optional): Indices of peaks to highlight on the plot. Defaults to None.\n",
    "        export_path (False or str): when set to str, will output the resulting html fig\n",
    "    \"\"\"\n",
    "    color_cycle = cycle(bokeh.palettes.Category10_10)\n",
    "    fig = bokeh.plotting.figure(title=f'bokeh explorer: {plot_name}',\n",
    "                                x_axis_label=x_axis,\n",
    "                                y_axis_label=y_axis,\n",
    "                                plot_width=1500,\n",
    "                                plot_height=700)\n",
    "\n",
    "    for i, vec in enumerate(range(len(data_list))):\n",
    "        color = next(color_cycle)\n",
    "        data_vector = data_list[vec]\n",
    "        if label_list is None:\n",
    "            fig.line(range(len(data_vector)), data_vector, line_color=color, legend_label=f\"Line {len(fig.renderers)}\")\n",
    "        elif len(label_list) == len(data_list):\n",
    "            fig.line(range(len(data_vector)), data_vector, line_color=color, legend_label=f\"{label_list[i]}\")\n",
    "        if peaks is not None and peaks_list is True:\n",
    "            fig.circle(peaks[i], data_vector[peaks[i]], size=10, color=color)\n",
    "\n",
    "    if peaks is not None and peaks_list is False:\n",
    "        fig.circle(peaks, data_vector[peaks], size=10, color='red')\n",
    "\n",
    "    if export_path is not False:\n",
    "        print(f'exporting to {export_path}')\n",
    "        bokeh.io.output.output_file(filename=str(export_path / f'{plot_name}.html'), title=f'{plot_name}')\n",
    "    bokeh.plotting.show(fig)\n",
    "    \n",
    "def play_video_with_ellipses_rotation(block, eye, path_to_video=False, xflip=False, transformation_matrix=None, phi_in_radians=False):\n",
    "    if eye == 'left':\n",
    "        video_path = block.le_videos[0]\n",
    "        ellipse_dataframe = block.left_eye_data\n",
    "    elif eye == 'right':\n",
    "        video_path = block.re_videos[0]\n",
    "        ellipse_dataframe = block.right_eye_data\n",
    "    else:\n",
    "        raise ValueError(f\"eye can only be 'left' or 'right'\")\n",
    "    \n",
    "    if video_path is not False:\n",
    "        video_path = path_to_video\n",
    "\n",
    "    # Open the video file\n",
    "    cap = cv2.VideoCapture(video_path)\n",
    "\n",
    "    if not cap.isOpened():\n",
    "        print(\"Error opening video file.\")\n",
    "        return\n",
    "\n",
    "    # Loop through each frame\n",
    "    while True:\n",
    "        # Read a frame from the video\n",
    "        ret, frame = cap.read()\n",
    "    \n",
    "        if not ret:\n",
    "            # Break the loop if the video is finished\n",
    "            break\n",
    "        \n",
    "        # Optionally flip the frame along the x-axis\n",
    "        if xflip:\n",
    "            frame = cv2.flip(frame, 1)\n",
    "\n",
    "        # Apply transformation matrix if provided\n",
    "        if transformation_matrix is not None:\n",
    "            frame = cv2.warpAffine(frame, transformation_matrix, (frame.shape[1], frame.shape[0]))\n",
    "\n",
    "        # Get the corresponding ellipse data for the current frame\n",
    "        current_frame_num = int(cap.get(cv2.CAP_PROP_POS_FRAMES)) - 1\n",
    "        try:\n",
    "            current_frame_data = ellipse_dataframe.iloc[ellipse_dataframe.query('eye_frame == @current_frame_num').index[0]]\n",
    "        except IndexError:\n",
    "            continue\n",
    "\n",
    "        # Extract ellipse parameters\n",
    "        if transformation_matrix is not None:\n",
    "            try:\n",
    "                center_x = int(current_frame_data['center_x'])\n",
    "                center_y = int(current_frame_data['center_y'])\n",
    "                width = int(current_frame_data['width'])\n",
    "                height = int(current_frame_data['height'])\n",
    "                if phi_in_radians:\n",
    "                    phi = np.deg2rad(float(current_frame_data['phi']))\n",
    "                else:\n",
    "                    phi = float(current_frame_data['phi'])\n",
    "                \n",
    "                # Draw the ellipse on the frame\n",
    "                cv2.ellipse(frame, (center_x, center_y), (width, height), phi, 0, 360, (0, 255, 0), 2)\n",
    "                \n",
    "                # Add text to the frame\n",
    "                text = f'ellipse angle: {phi}'\n",
    "                cv2.putText(frame, text, (10, 30), cv2.FONT_HERSHEY_SIMPLEX, 1, (0, 255, 0), 2, cv2.LINE_AA)\n",
    "        \n",
    "                \n",
    "                # Display the frame\n",
    "                cv2.imshow('Video with Ellipses', frame)\n",
    "            \n",
    "                # Check for the 'q' key to quit\n",
    "                if cv2.waitKey(25) & 0xFF == ord('q'):\n",
    "                    break\n",
    "            except ValueError:\n",
    "                continue\n",
    "        else:\n",
    "            try:\n",
    "                center_x = int(current_frame_data['center_x'])\n",
    "                center_y = int(current_frame_data['center_y'])\n",
    "                width = int(current_frame_data['width'])\n",
    "                height = int(current_frame_data['height'])\n",
    "                if phi_in_radians:\n",
    "                    phi = np.deg2rad(float(current_frame_data['phi']))\n",
    "                else:\n",
    "                    phi = float(current_frame_data['phi'])\n",
    "        \n",
    "                # Draw the ellipse on the frame\n",
    "                cv2.ellipse(frame, (center_x, center_y), (width, height), phi, 0, 360, (0, 255, 0), 2)\n",
    "                \n",
    "                # Add text to the frame\n",
    "                text = f'ellipse angle: {phi}'\n",
    "                cv2.putText(frame, text, (10, 30), cv2.FONT_HERSHEY_SIMPLEX, 1, (0, 255, 0), 2, cv2.LINE_AA)\n",
    "                \n",
    "                # Display the frame\n",
    "                cv2.imshow('Video with Ellipses', frame)\n",
    "            \n",
    "                # Check for the 'q' key to quit\n",
    "                if cv2.waitKey(25) & 0xFF == ord('q'):\n",
    "                    break\n",
    "            except ValueError:\n",
    "                continue\n",
    "\n",
    "    # Release video capture object and close the window\n",
    "    cap.release()\n",
    "    cv2.destroyAllWindows()\n",
    "    \n",
    "def play_video_with_ellipses_rotation_plus_major_axis(block, eye, path_to_video=False, xflip=False, transformation_matrix=None):\n",
    "    if eye == 'left':\n",
    "        video_path = block.le_videos[0]\n",
    "        ellipse_dataframe = block.left_eye_data\n",
    "    elif eye == 'right':\n",
    "        video_path = block.re_videos[0]\n",
    "        ellipse_dataframe = block.right_eye_data\n",
    "    else:\n",
    "        raise ValueError(f\"eye can only be 'left' or 'right'\")\n",
    "    \n",
    "    if video_path is not False:\n",
    "        video_path = path_to_video\n",
    "\n",
    "    # Open the video file\n",
    "    cap = cv2.VideoCapture(video_path)\n",
    "\n",
    "    if not cap.isOpened():\n",
    "        print(\"Error opening video file.\")\n",
    "        return\n",
    "\n",
    "    # Loop through each frame\n",
    "    while True:\n",
    "        # Read a frame from the video\n",
    "        ret, frame = cap.read()\n",
    "    \n",
    "        if not ret:\n",
    "            # Break the loop if the video is finished\n",
    "            break\n",
    "        \n",
    "        # Optionally flip the frame along the x-axis\n",
    "        if xflip:\n",
    "            frame = cv2.flip(frame, 1)\n",
    "\n",
    "        # Apply transformation matrix if provided\n",
    "        if transformation_matrix is not None:\n",
    "            frame = cv2.warpAffine(frame, transformation_matrix, (frame.shape[1], frame.shape[0]))\n",
    "\n",
    "        # Get the corresponding ellipse data for the current frame\n",
    "        current_frame_num = int(cap.get(cv2.CAP_PROP_POS_FRAMES)) - 1\n",
    "        try:\n",
    "            current_frame_data = ellipse_dataframe.iloc[ellipse_dataframe.query('eye_frame == @current_frame_num').index[0]]\n",
    "        except IndexError:\n",
    "            continue\n",
    "\n",
    "        # Extract ellipse parameters\n",
    "        try:\n",
    "            center_x = int(current_frame_data['center_x'])\n",
    "            center_y = int(current_frame_data['center_y'])\n",
    "            width = int(current_frame_data['major_ax'])\n",
    "            height = int(current_frame_data['minor_ax'])\n",
    "            phi = np.deg2rad(float(current_frame_data['phi']))  # Convert angle to radians\n",
    "            \n",
    "            # Draw the ellipse on the frame\n",
    "            cv2.ellipse(frame, (center_x, center_y), (width, height), phi, 0, 360, (0, 255, 0), 2)\n",
    "            \n",
    "            # Calculate endpoints of major axis\n",
    "            axis_length = max(width, height) / 2\n",
    "            sin_phi = np.sin(phi)\n",
    "            cos_phi = np.cos(phi)\n",
    "            x1 = int(center_x + axis_length * cos_phi)\n",
    "            y1 = int(center_y + axis_length * sin_phi)\n",
    "            x2 = int(center_x - axis_length * cos_phi)\n",
    "            y2 = int(center_y - axis_length * sin_phi)\n",
    "            \n",
    "            # Draw major axis\n",
    "            cv2.line(frame, (x1, y1), (x2, y2), (0, 0, 255), 2)\n",
    "            \n",
    "            # Add text to the frame\n",
    "            text = f'ellipse angle: {np.rad2deg(phi)}'\n",
    "            cv2.putText(frame, text, (10, 30), cv2.FONT_HERSHEY_SIMPLEX, 1, (0, 255, 0), 2, cv2.LINE_AA)\n",
    "            \n",
    "            # Display the frame\n",
    "            cv2.imshow('Video with Ellipses', frame)\n",
    "        \n",
    "            # Check for the 'q' key to quit\n",
    "            if cv2.waitKey(25) & 0xFF == ord('q'):\n",
    "                break\n",
    "        except ValueError:\n",
    "            continue\n",
    "\n",
    "    # Release video capture object and close the window\n",
    "    cap.release()\n",
    "    cv2.destroyAllWindows()\n",
    "    \n",
    "def get_frame_count(video_path):\n",
    "        \"\"\"\n",
    "        Get the number of frames for the video in the specified path using OpenCV.\n",
    "    \n",
    "        Parameters:\n",
    "            video_path (str): Path to the video file.\n",
    "    \n",
    "        Returns:\n",
    "            int: Number of frames in the video.\n",
    "        \"\"\"\n",
    "        \n",
    "        # Open the video file\n",
    "        cap = cv2.VideoCapture(video_path)\n",
    "    \n",
    "        # Check if the video file is opened successfully\n",
    "        if not cap.isOpened():\n",
    "            print(\"Error: Could not open the video file.\")\n",
    "            return -1\n",
    "    \n",
    "        # Get the total number of frames in the video\n",
    "        frame_count = int(cap.get(cv2.CAP_PROP_FRAME_COUNT))\n",
    "    \n",
    "        # Release the VideoCapture object\n",
    "        cap.release()\n",
    "    \n",
    "        return frame_count\n"
   ],
   "metadata": {
    "collapsed": false,
    "ExecuteTime": {
     "end_time": "2025-08-26T15:19:35.885610Z",
     "start_time": "2025-08-26T15:19:35.840611Z"
    }
   },
   "id": "6d3dfdb223dc6e82",
   "outputs": [],
   "execution_count": 2
  },
  {
   "cell_type": "markdown",
   "source": [
    "# Block Instantiation"
   ],
   "metadata": {
    "collapsed": false
   },
   "id": "aa0ef925618c2966"
  },
  {
   "cell_type": "code",
   "source": [
    "\n",
    "# define a single block to synchronize and finally export l/r_eye_data csv files:\n",
    "# this step creates block_collection - a list of BlockSync objects of interest\n",
    "#block_numbers = [8,9,10,11,12,13], animal = 'PV_106'\n",
    "bad_blocks = [] # \n",
    "experiment_path = pathlib.Path(r\"Z:\\Nimrod\\experiments\")\n",
    "\n",
    "block_numbers = [1,2,3,4]\n",
    "animal = 'PV_143'\n",
    "block_collection = uf.block_generator(block_numbers=block_numbers,\n",
    "                                      experiment_path=experiment_path,\n",
    "                                      animal=animal,\n",
    "                                      bad_blocks=bad_blocks,regev=True,\n",
    "                                      )\n",
    "for block in block_collection:\n",
    "    block.channeldict = None\n",
    "    block.channeldict={1: 'LED_driver',\n",
    "                       8: 'L_eye_TTL',\n",
    "                       2: 'Arena_TTL',\n",
    "                       7: 'R_eye_TTL'}\n",
    "# create a block_dict object for ease of access:\n",
    "block_dict = {}\n",
    "for b in block_collection:\n",
    "    block_dict[str(b.block_num)] = b\n",
    "block = block_collection[0]"
   ],
   "metadata": {
    "collapsed": false,
    "ExecuteTime": {
     "end_time": "2025-08-26T15:19:36.710946Z",
     "start_time": "2025-08-26T15:19:35.902611Z"
    }
   },
   "id": "1d1afca402f23506",
   "outputs": [
    {
     "name": "stdout",
     "output_type": "stream",
     "text": [
      "instantiated block number 001 at Path: Z:\\Nimrod\\experiments\\PV_143\\2025_08_25\\block_001, new OE version\n",
      "Found the sample rate for block 001 in the xml file, it is 20000 Hz\n",
      "created the .oe_rec attribute as an open ephys recording obj with get_data functionality\n",
      "retrieving zertoh sample number for block 001\n",
      "got it!\n",
      "instantiated block number 002 at Path: Z:\\Nimrod\\experiments\\PV_143\\2025_08_25\\block_002, new OE version\n",
      "Found the sample rate for block 002 in the xml file, it is 20000 Hz\n",
      "created the .oe_rec attribute as an open ephys recording obj with get_data functionality\n",
      "retrieving zertoh sample number for block 002\n",
      "got it!\n",
      "instantiated block number 003 at Path: Z:\\Nimrod\\experiments\\PV_143\\2025_08_25\\block_003, new OE version\n",
      "Found the sample rate for block 003 in the xml file, it is 20000 Hz\n",
      "created the .oe_rec attribute as an open ephys recording obj with get_data functionality\n",
      "retrieving zertoh sample number for block 003\n",
      "got it!\n",
      "instantiated block number 004 at Path: Z:\\Nimrod\\experiments\\PV_143\\2025_08_25\\block_004, new OE version\n",
      "Found the sample rate for block 004 in the xml file, it is 20000 Hz\n",
      "created the .oe_rec attribute as an open ephys recording obj with get_data functionality\n",
      "retrieving zertoh sample number for block 004\n",
      "got it!\n"
     ]
    }
   ],
   "execution_count": 3
  },
  {
   "cell_type": "code",
   "source": [
    "for block in block_collection:\n",
    "    block.handle_eye_videos()\n",
    "    block.parse_open_ephys_events()"
   ],
   "metadata": {
    "collapsed": false,
    "ExecuteTime": {
     "end_time": "2025-08-26T15:19:37.961528Z",
     "start_time": "2025-08-26T15:19:36.743640Z"
    }
   },
   "id": "5b42147ca6b69f61",
   "outputs": [
    {
     "name": "stdout",
     "output_type": "stream",
     "text": [
      "handling eye video files\n",
      "converting videos...\n",
      "converting files: ['Z:\\\\Nimrod\\\\experiments\\\\PV_143\\\\2025_08_25\\\\block_001\\\\eye_videos\\\\LE\\\\pv_143_d1t1\\\\pv_143_d1t1.h264', 'Z:\\\\Nimrod\\\\experiments\\\\PV_143\\\\2025_08_25\\\\block_001\\\\eye_videos\\\\RE\\\\pv_143_d1t1\\\\pv_143_d1t1.h264'] \n",
      " avoiding conversion on files: ['Z:\\\\Nimrod\\\\experiments\\\\PV_143\\\\2025_08_25\\\\block_001\\\\eye_videos\\\\LE\\\\pv_143_d1t1\\\\pv_143_d1t1_LE.mp4', 'Z:\\\\Nimrod\\\\experiments\\\\PV_143\\\\2025_08_25\\\\block_001\\\\eye_videos\\\\RE\\\\pv_143_d1t1\\\\pv_143_d1t1.mp4']\n",
      "The file Z:\\Nimrod\\experiments\\PV_143\\2025_08_25\\block_001\\eye_videos\\RE\\pv_143_d1t1\\pv_143_d1t1.mp4 already exists, no conversion necessary\n",
      "Validating videos...\n",
      "The video named pv_143_d1t1_LE.mp4 has reported 74966 frames and has 74966 frames, it has dropped 0 frames\n",
      "The video named pv_143_d1t1.mp4 has reported 75162 frames and has 75162 frames, it has dropped 0 frames\n",
      "running parse_open_ephys_events...\n",
      "block 001 has a parsed events file, reading...\n",
      "handling eye video files\n",
      "converting videos...\n",
      "converting files: ['Z:\\\\Nimrod\\\\experiments\\\\PV_143\\\\2025_08_25\\\\block_002\\\\eye_videos\\\\LE\\\\pv_143_d1t2\\\\pv_143_d1t2.h264', 'Z:\\\\Nimrod\\\\experiments\\\\PV_143\\\\2025_08_25\\\\block_002\\\\eye_videos\\\\RE\\\\pv_143_d1t2\\\\pv_143_d1t2.h264'] \n",
      " avoiding conversion on files: ['Z:\\\\Nimrod\\\\experiments\\\\PV_143\\\\2025_08_25\\\\block_002\\\\eye_videos\\\\LE\\\\pv_143_d1t2\\\\pv_143_d1t2_LE.mp4', 'Z:\\\\Nimrod\\\\experiments\\\\PV_143\\\\2025_08_25\\\\block_002\\\\eye_videos\\\\RE\\\\pv_143_d1t2\\\\pv_143_d1t2.mp4']\n",
      "The file Z:\\Nimrod\\experiments\\PV_143\\2025_08_25\\block_002\\eye_videos\\RE\\pv_143_d1t2\\pv_143_d1t2.mp4 already exists, no conversion necessary\n",
      "Validating videos...\n",
      "The video named pv_143_d1t2_LE.mp4 has reported 82151 frames and has 82151 frames, it has dropped 0 frames\n",
      "The video named pv_143_d1t2.mp4 has reported 82573 frames and has 82572 frames, it has dropped 1 frames\n",
      "running parse_open_ephys_events...\n",
      "block 002 has a parsed events file, reading...\n",
      "handling eye video files\n",
      "converting videos...\n",
      "converting files: ['Z:\\\\Nimrod\\\\experiments\\\\PV_143\\\\2025_08_25\\\\block_003\\\\eye_videos\\\\LE\\\\pv_143_d1t3\\\\pv_143_d1t3.h264', 'Z:\\\\Nimrod\\\\experiments\\\\PV_143\\\\2025_08_25\\\\block_003\\\\eye_videos\\\\RE\\\\pv_143_d1t3\\\\pv_143_d1t3.h264'] \n",
      " avoiding conversion on files: ['Z:\\\\Nimrod\\\\experiments\\\\PV_143\\\\2025_08_25\\\\block_003\\\\eye_videos\\\\LE\\\\pv_143_d1t3\\\\pv_143_d1t3_LE.mp4', 'Z:\\\\Nimrod\\\\experiments\\\\PV_143\\\\2025_08_25\\\\block_003\\\\eye_videos\\\\RE\\\\pv_143_d1t3\\\\pv_143_d1t3.mp4']\n",
      "The file Z:\\Nimrod\\experiments\\PV_143\\2025_08_25\\block_003\\eye_videos\\RE\\pv_143_d1t3\\pv_143_d1t3.mp4 already exists, no conversion necessary\n",
      "Validating videos...\n",
      "The video named pv_143_d1t3_LE.mp4 has reported 87481 frames and has 87481 frames, it has dropped 0 frames\n",
      "The video named pv_143_d1t3.mp4 has reported 87431 frames and has 87430 frames, it has dropped 1 frames\n",
      "running parse_open_ephys_events...\n",
      "block 003 has a parsed events file, reading...\n",
      "handling eye video files\n",
      "converting videos...\n",
      "converting files: ['Z:\\\\Nimrod\\\\experiments\\\\PV_143\\\\2025_08_25\\\\block_004\\\\eye_videos\\\\LE\\\\pv_143_d1t4\\\\pv_143_d1t4.h264', 'Z:\\\\Nimrod\\\\experiments\\\\PV_143\\\\2025_08_25\\\\block_004\\\\eye_videos\\\\RE\\\\pv_143_d1t4\\\\pv_143_d1t4.h264'] \n",
      " avoiding conversion on files: ['Z:\\\\Nimrod\\\\experiments\\\\PV_143\\\\2025_08_25\\\\block_004\\\\eye_videos\\\\LE\\\\pv_143_d1t4\\\\pv_143_d1t4_LE.mp4', 'Z:\\\\Nimrod\\\\experiments\\\\PV_143\\\\2025_08_25\\\\block_004\\\\eye_videos\\\\RE\\\\pv_143_d1t4\\\\pv_143_d1t4.mp4']\n",
      "The file Z:\\Nimrod\\experiments\\PV_143\\2025_08_25\\block_004\\eye_videos\\RE\\pv_143_d1t4\\pv_143_d1t4.mp4 already exists, no conversion necessary\n",
      "Validating videos...\n",
      "The video named pv_143_d1t4_LE.mp4 has reported 74968 frames and has 74968 frames, it has dropped 0 frames\n",
      "The video named pv_143_d1t4.mp4 has reported 75008 frames and has 75007 frames, it has dropped 1 frames\n",
      "running parse_open_ephys_events...\n",
      "block 004 has a parsed events file, reading...\n"
     ]
    }
   ],
   "execution_count": 4
  },
  {
   "metadata": {
    "ExecuteTime": {
     "end_time": "2025-08-13T16:06:04.854340Z",
     "start_time": "2025-08-13T16:06:04.838722Z"
    }
   },
   "cell_type": "code",
   "source": [
    "from scipy.interpolate import interp1d\n",
    "import numpy as np\n",
    "import pandas as pd\n",
    "import pathlib\n",
    "from tqdm import tqdm\n",
    "\n",
    "def synchronize_block_for_non_60fps_acquisition(self, export=True, overwrite=False, target_frame_rate=60, margin_of_error=0.1):\n",
    "    \"\"\"\n",
    "    Synchronize the video frames to a target frame rate using interpolation.\n",
    "    \"\"\"\n",
    "    # Check if previously exported file exists\n",
    "    if pathlib.Path(self.analysis_path / 'blocksync_df.csv').exists() and not overwrite:\n",
    "        self.blocksync_df = pd.read_csv(pathlib.Path(self.analysis_path / 'blocksync_df.csv'), engine='python')\n",
    "        print('blocksync_df loaded from analysis folder')\n",
    "        return self.blocksync_df\n",
    "\n",
    "    print('Creating blocksync_df')\n",
    "\n",
    "    # Define start and end times\n",
    "    start_time = max([self.arena_vid_first_t, self.r_vid_first_t, self.l_vid_first_t])\n",
    "    end_time = min([self.arena_vid_last_t, self.r_vid_last_t, self.l_vid_last_t])\n",
    "\n",
    "    # Extract TTLs and calculate frame rate\n",
    "    arena_ttls = self.oe_events.query('@start_time < Arena_TTL < @end_time')['Arena_TTL'].values\n",
    "    arena_frame_rate = self.sample_rate / np.median(np.diff(arena_ttls))\n",
    "\n",
    "    if not (target_frame_rate - margin_of_error <= arena_frame_rate <= target_frame_rate + margin_of_error):\n",
    "        print(f\"Arena video frame rate is {arena_frame_rate:.2f} Hz. Adjusting to {target_frame_rate} FPS.\")\n",
    "\n",
    "        # Define target time base\n",
    "        original_time = np.cumsum(np.insert(np.diff(arena_ttls), 0, 0)) / self.sample_rate\n",
    "        target_time = np.arange(0, original_time[-1], 1 / target_frame_rate)\n",
    "\n",
    "        # Interpolate using linear method\n",
    "        interpolator = interp1d(original_time, arena_ttls, kind='linear', fill_value='extrapolate')\n",
    "        new_arena_ttl = interpolator(target_time).astype(int)\n",
    "    else:\n",
    "        print(f\"Arena video frame rate is {arena_frame_rate:.2f} Hz, within acceptable range. No adjustment needed.\")\n",
    "        new_arena_ttl = arena_ttls\n",
    "\n",
    "    # Create a synchronization DataFrame\n",
    "    arena_tf = self.oe_events.query('@start_time < Arena_TTL < @end_time')[['Arena_TTL', 'Arena_TTL_frame']]\n",
    "    r_eye_tf = self.oe_events.query('@start_time < Arena_TTL < @end_time or Arena_TTL != Arena_TTL')[['R_eye_TTL', 'R_eye_TTL_frame']].dropna()\n",
    "    l_eye_tf = self.oe_events.query('@start_time < Arena_TTL < @end_time or Arena_TTL != Arena_TTL')[['L_eye_TTL', 'L_eye_TTL_frame']].dropna()\n",
    "\n",
    "    # Build the synchronization DataFrame\n",
    "    self.blocksync_df = pd.DataFrame(columns=['Arena_frame', 'L_eye_frame', 'R_eye_frame'], index=new_arena_ttl)\n",
    "\n",
    "    for t in tqdm(new_arena_ttl, desc='Synchronizing Frames'):\n",
    "        arena_frame = arena_tf['Arena_TTL_frame'].iloc[self.get_closest_frame(t, arena_tf['Arena_TTL'])]\n",
    "        l_eye_frame = l_eye_tf['L_eye_TTL_frame'].iloc[self.get_closest_frame(t, l_eye_tf['L_eye_TTL'])]\n",
    "        r_eye_frame = r_eye_tf['R_eye_TTL_frame'].iloc[self.get_closest_frame(t, r_eye_tf['R_eye_TTL'])]\n",
    "        self.blocksync_df.loc[t] = [arena_frame, l_eye_frame, r_eye_frame]\n",
    "\n",
    "    print('Created blocksync_df')\n",
    "    if export:\n",
    "        self.blocksync_df.to_csv(self.analysis_path / 'blocksync_df.csv')\n",
    "        print(f'Exported blocksync_df to {self.analysis_path}/blocksync_df.csv')\n",
    "\n",
    "    return self.blocksync_df\n"
   ],
   "id": "d6483462c7f7337b",
   "outputs": [],
   "execution_count": 21
  },
  {
   "metadata": {
    "ExecuteTime": {
     "end_time": "2025-08-26T14:18:04.072471Z",
     "start_time": "2025-08-26T14:18:04.059469Z"
    }
   },
   "cell_type": "code",
   "source": [
    "import pickle\n",
    "import cv2\n",
    "from pathlib import Path\n",
    "\n",
    "\n",
    "def select_rois_for_blocks(block_list, save_path):\n",
    "    \"\"\"\n",
    "    Allows the user to select ROIs for all blocks without calculating brightness.\n",
    "\n",
    "    Args:\n",
    "        block_list (list): List of BlockSync objects.\n",
    "        save_path (str or Path): Path to save the selected ROIs as a pickle file.\n",
    "\n",
    "    Returns:\n",
    "        None\n",
    "    \"\"\"\n",
    "    rois_dict = {}\n",
    "    for block in block_list:\n",
    "        rois_dict[block.block_num] = {}\n",
    "\n",
    "        for eye, video_path in zip(['left_eye', 'right_eye'], [block.le_videos[0], block.re_videos[0]]):\n",
    "            cap = cv2.VideoCapture(video_path)\n",
    "            if not cap.isOpened():\n",
    "                print(f\"Error: Cannot open video {video_path}\")\n",
    "                continue\n",
    "\n",
    "            ret, frame = cap.read()\n",
    "            if not ret:\n",
    "                print(f\"Error: Cannot read the first frame of {video_path}\")\n",
    "                cap.release()\n",
    "                continue\n",
    "\n",
    "            roi = cv2.selectROI(f\"Select ROI for {eye} - Block {block.block_num}\", frame, showCrosshair=True, fromCenter=False)\n",
    "            rois_dict[block.block_num][eye] = roi\n",
    "            cv2.destroyWindow(f\"Select ROI for {eye} - Block {block.block_num}\")\n",
    "            cap.release()\n",
    "\n",
    "    # Save the ROIs to a pickle file\n",
    "    save_path = Path(save_path)\n",
    "    with open(save_path, 'wb') as f:\n",
    "        pickle.dump(rois_dict, f)\n",
    "\n",
    "    print(f\"ROIs saved to {save_path}\")\n",
    "\n",
    "\n",
    "def calculate_brightness_for_blocks(block_list, rois_path, threshold_value=30, export=True):\n",
    "    \"\"\"\n",
    "    Calculates brightness vectors for all blocks using preselected ROIs.\n",
    "\n",
    "    Args:\n",
    "        block_list (list): List of BlockSync objects.\n",
    "        rois_path (str or Path): Path to the pickle file containing saved ROIs.\n",
    "        threshold_value (float): Threshold value to use as a mask before calculating brightness.\n",
    "        export (bool): If True, exports the brightness vectors into a pickle file.\n",
    "\n",
    "    Returns:\n",
    "        None\n",
    "    \"\"\"\n",
    "    rois_path = Path(rois_path)\n",
    "    if not rois_path.exists():\n",
    "        raise FileNotFoundError(f\"ROIs file {rois_path} does not exist.\")\n",
    "\n",
    "    # Load the saved ROIs\n",
    "    with open(rois_path, 'rb') as f:\n",
    "        rois_dict = pickle.load(f)\n",
    "\n",
    "    for block in block_list:\n",
    "        if block.block_num not in rois_dict:\n",
    "            print(f\"Skipping Block {block.block_num}: No ROI data found.\")\n",
    "            continue\n",
    "\n",
    "        block_rois = rois_dict[block.block_num]\n",
    "\n",
    "        print(f\"Calculating brightness for Block {block.block_num}...\")\n",
    "\n",
    "        # Calculate brightness for left eye\n",
    "        block.le_frame_val_list = block.produce_frame_val_list_with_roi(\n",
    "            block.le_videos[0], block_rois['left_eye'], threshold_value\n",
    "        )\n",
    "\n",
    "        # Calculate brightness for right eye\n",
    "        block.re_frame_val_list = block.produce_frame_val_list_with_roi(\n",
    "            block.re_videos[0], block_rois['right_eye'], threshold_value\n",
    "        )\n",
    "\n",
    "        if export:\n",
    "            export_path = block.analysis_path / 'eye_brightness_values_dict.pkl'\n",
    "            frame_val_dict = {\n",
    "                'left_eye': block.le_frame_val_list,\n",
    "                'right_eye': block.re_frame_val_list\n",
    "            }\n",
    "            with open(export_path, 'wb') as f:\n",
    "                pickle.dump(frame_val_dict, f)\n",
    "            print(f\"Brightness vectors saved to {export_path}\")\n",
    "\n",
    "        print(f\"Brightness calculation complete for Block {block.block_num}.\")\n"
   ],
   "id": "71dd46c03d160467",
   "outputs": [],
   "execution_count": 5
  },
  {
   "metadata": {
    "ExecuteTime": {
     "end_time": "2025-08-26T14:18:33.718374Z",
     "start_time": "2025-08-26T14:18:09.694980Z"
    }
   },
   "cell_type": "code",
   "source": [
    "save_path = r\"X:\\Nimrod\\experiments\\PV_143\\HelperFiles\\rois.pkl\"  # Path to save the selected ROIs\n",
    "select_rois_for_blocks(block_collection, save_path)"
   ],
   "id": "1480fa8ab0884c32",
   "outputs": [
    {
     "name": "stdout",
     "output_type": "stream",
     "text": [
      "ROIs saved to X:\\Nimrod\\experiments\\PV_143\\HelperFiles\\rois.pkl\n"
     ]
    }
   ],
   "execution_count": 6
  },
  {
   "metadata": {
    "ExecuteTime": {
     "end_time": "2025-08-26T14:20:13.198444Z",
     "start_time": "2025-08-26T14:20:13.063418Z"
    }
   },
   "cell_type": "code",
   "source": "calculate_brightness_for_blocks(block_collection,save_path)",
   "id": "84b61b450a51803a",
   "outputs": [
    {
     "name": "stderr",
     "output_type": "stream",
     "text": [
      "Processing Z:\\Nimrod\\experiments\\PV_143\\2025_08_25\\block_001\\eye_videos\\LE\\pv_143_d1t1\\pv_143_d1t1_LE.mp4:   0%|          | 96/74966 [00:00<00:56, 1333.31frame/s]"
     ]
    },
    {
     "name": "stdout",
     "output_type": "stream",
     "text": [
      "Calculating brightness for Block 001...\n",
      "Working on video Z:\\Nimrod\\experiments\\PV_143\\2025_08_25\\block_001\\eye_videos\\LE\\pv_143_d1t1\\pv_143_d1t1_LE.mp4\n"
     ]
    },
    {
     "name": "stderr",
     "output_type": "stream",
     "text": [
      "\n"
     ]
    },
    {
     "ename": "KeyboardInterrupt",
     "evalue": "",
     "output_type": "error",
     "traceback": [
      "\u001B[1;31m---------------------------------------------------------------------------\u001B[0m",
      "\u001B[1;31mKeyboardInterrupt\u001B[0m                         Traceback (most recent call last)",
      "\u001B[1;32m<ipython-input-8-b2e4f7d41032>\u001B[0m in \u001B[0;36m<module>\u001B[1;34m\u001B[0m\n\u001B[1;32m----> 1\u001B[1;33m \u001B[0mcalculate_brightness_for_blocks\u001B[0m\u001B[1;33m(\u001B[0m\u001B[0mblock_collection\u001B[0m\u001B[1;33m,\u001B[0m\u001B[0msave_path\u001B[0m\u001B[1;33m)\u001B[0m\u001B[1;33m\u001B[0m\u001B[1;33m\u001B[0m\u001B[0m\n\u001B[0m",
      "\u001B[1;32m<ipython-input-5-7f66c5b13fd4>\u001B[0m in \u001B[0;36mcalculate_brightness_for_blocks\u001B[1;34m(block_list, rois_path, threshold_value, export)\u001B[0m\n\u001B[0;32m     75\u001B[0m \u001B[1;33m\u001B[0m\u001B[0m\n\u001B[0;32m     76\u001B[0m         \u001B[1;31m# Calculate brightness for left eye\u001B[0m\u001B[1;33m\u001B[0m\u001B[1;33m\u001B[0m\u001B[1;33m\u001B[0m\u001B[0m\n\u001B[1;32m---> 77\u001B[1;33m         block.le_frame_val_list = block.produce_frame_val_list_with_roi(\n\u001B[0m\u001B[0;32m     78\u001B[0m             \u001B[0mblock\u001B[0m\u001B[1;33m.\u001B[0m\u001B[0mle_videos\u001B[0m\u001B[1;33m[\u001B[0m\u001B[1;36m0\u001B[0m\u001B[1;33m]\u001B[0m\u001B[1;33m,\u001B[0m \u001B[0mblock_rois\u001B[0m\u001B[1;33m[\u001B[0m\u001B[1;34m'left_eye'\u001B[0m\u001B[1;33m]\u001B[0m\u001B[1;33m,\u001B[0m \u001B[0mthreshold_value\u001B[0m\u001B[1;33m\u001B[0m\u001B[1;33m\u001B[0m\u001B[0m\n\u001B[0;32m     79\u001B[0m         )\n",
      "\u001B[1;32m~\\PycharmProjects\\pythonProject3\\BlockSync_current.py\u001B[0m in \u001B[0;36mproduce_frame_val_list_with_roi\u001B[1;34m(vid_path, roi, threshold_value)\u001B[0m\n\u001B[0;32m    538\u001B[0m \u001B[1;33m\u001B[0m\u001B[0m\n\u001B[0;32m    539\u001B[0m         \u001B[1;32mfor\u001B[0m \u001B[0m_\u001B[0m \u001B[1;32min\u001B[0m \u001B[0mtqdm\u001B[0m\u001B[1;33m(\u001B[0m\u001B[0mrange\u001B[0m\u001B[1;33m(\u001B[0m\u001B[0mtotal_frames\u001B[0m\u001B[1;33m)\u001B[0m\u001B[1;33m,\u001B[0m \u001B[0mdesc\u001B[0m\u001B[1;33m=\u001B[0m\u001B[1;34mf'Processing {vid_path}'\u001B[0m\u001B[1;33m,\u001B[0m \u001B[0munit\u001B[0m\u001B[1;33m=\u001B[0m\u001B[1;34m'frame'\u001B[0m\u001B[1;33m)\u001B[0m\u001B[1;33m:\u001B[0m\u001B[1;33m\u001B[0m\u001B[1;33m\u001B[0m\u001B[0m\n\u001B[1;32m--> 540\u001B[1;33m             \u001B[0mret\u001B[0m\u001B[1;33m,\u001B[0m \u001B[0mframe\u001B[0m \u001B[1;33m=\u001B[0m \u001B[0mcap\u001B[0m\u001B[1;33m.\u001B[0m\u001B[0mread\u001B[0m\u001B[1;33m(\u001B[0m\u001B[1;33m)\u001B[0m\u001B[1;33m\u001B[0m\u001B[1;33m\u001B[0m\u001B[0m\n\u001B[0m\u001B[0;32m    541\u001B[0m             \u001B[1;32mif\u001B[0m \u001B[1;32mnot\u001B[0m \u001B[0mret\u001B[0m\u001B[1;33m:\u001B[0m\u001B[1;33m\u001B[0m\u001B[1;33m\u001B[0m\u001B[0m\n\u001B[0;32m    542\u001B[0m                 \u001B[1;32mbreak\u001B[0m\u001B[1;33m\u001B[0m\u001B[1;33m\u001B[0m\u001B[0m\n",
      "\u001B[1;31mKeyboardInterrupt\u001B[0m: "
     ]
    }
   ],
   "execution_count": 8
  },
  {
   "metadata": {
    "ExecuteTime": {
     "end_time": "2025-08-13T16:06:16.057571Z",
     "start_time": "2025-08-13T16:06:13.197975Z"
    }
   },
   "cell_type": "code",
   "source": [
    "# This step is used to quickly go over the analyzed blocks and load their internal data\n",
    "for block in block_collection:\n",
    "    block.handle_arena_files()\n",
    "    block.parse_open_ephys_events()\n",
    "    block.handle_eye_videos()\n",
    "    block.get_eye_brightness_vectors()\n",
    "    #block.synchronize_block()\n",
    "    block.synchronize_block_for_non_60fps_acquisition(export=True,\n",
    "                                                      overwrite=False,\n",
    "                                                      target_frame_rate=60,\n",
    "                                                      margin_of_error=5)\n",
    "    block.create_eye_brightness_df(threshold_value=20)"
   ],
   "id": "abe925650acef0db",
   "outputs": [
    {
     "name": "stdout",
     "output_type": "stream",
     "text": [
      "handling arena files\n",
      "Arena video Names:\n",
      "front_20250811T132926.mp4\n",
      "left_20250811T132926.mp4\n",
      "right_20250811T132926.mp4\n",
      "top_20250811T132926.mp4\n",
      "running parse_open_ephys_events...\n",
      "block 001 has a parsed events file, reading...\n",
      "handling eye video files\n",
      "converting videos...\n",
      "converting files: ['X:\\\\Nimrod\\\\experiments\\\\PV_143\\\\2025_08_25\\\\block_001\\\\eye_videos\\\\LE\\\\pv_143_d1t1\\\\pv_143_d1t1.h264', 'X:\\\\Nimrod\\\\experiments\\\\PV_143\\\\2025_08_25\\\\block_001\\\\eye_videos\\\\RE\\\\pv_143_d1t1\\\\pv_143_d1t1.h264'] \n",
      " avoiding conversion on files: ['X:\\\\Nimrod\\\\experiments\\\\PV_143\\\\2025_08_25\\\\block_001\\\\eye_videos\\\\LE\\\\pv_143_d1t1\\\\pv_143_d1t1_LE.mp4', 'X:\\\\Nimrod\\\\experiments\\\\PV_143\\\\2025_08_25\\\\block_001\\\\eye_videos\\\\RE\\\\pv_143_d1t1\\\\pv_143_d1t1.mp4']\n",
      "The file X:\\Nimrod\\experiments\\PV_143\\2025_08_25\\block_001\\eye_videos\\RE\\pv_143_d1t1\\pv_143_d1t1.mp4 already exists, no conversion necessary\n",
      "Validating videos...\n",
      "The video named pv_143_d1t1_LE.mp4 has reported 75162 frames and has 75162 frames, it has dropped 0 frames\n",
      "The video named pv_143_d1t1.mp4 has reported 74966 frames and has 74966 frames, it has dropped 0 frames\n",
      "Getting eye brightness values for block 001...\n",
      "Found an existing file!\n",
      "Eye brightness vectors generation complete.\n",
      "blocksync_df loaded from analysis folder\n",
      "eye_brightness_df loaded from analysis folder\n",
      "handling arena files\n",
      "Arena video Names:\n",
      "front_20250811T135030.mp4\n",
      "left_20250811T135030.mp4\n",
      "right_20250811T135030.mp4\n",
      "top_20250811T135030.mp4\n",
      "running parse_open_ephys_events...\n",
      "block 002 has a parsed events file, reading...\n",
      "handling eye video files\n",
      "converting videos...\n",
      "converting files: ['X:\\\\Nimrod\\\\experiments\\\\PV_143\\\\2025_08_25\\\\block_002\\\\eye_videos\\\\LE\\\\pv_143_d1t2\\\\pv_143_d1t2.h264', 'X:\\\\Nimrod\\\\experiments\\\\PV_143\\\\2025_08_25\\\\block_002\\\\eye_videos\\\\RE\\\\pv_143_d1t2\\\\pv_143_d1t2.h264'] \n",
      " avoiding conversion on files: ['X:\\\\Nimrod\\\\experiments\\\\PV_143\\\\2025_08_25\\\\block_002\\\\eye_videos\\\\LE\\\\pv_143_d1t2\\\\pv_143_d1t2_LE.mp4', 'X:\\\\Nimrod\\\\experiments\\\\PV_143\\\\2025_08_25\\\\block_002\\\\eye_videos\\\\RE\\\\pv_143_d1t2\\\\pv_143_d1t2.mp4']\n",
      "The file X:\\Nimrod\\experiments\\PV_143\\2025_08_25\\block_002\\eye_videos\\RE\\pv_143_d1t2\\pv_143_d1t2.mp4 already exists, no conversion necessary\n",
      "Validating videos...\n",
      "The video named pv_143_d1t2_LE.mp4 has reported 82573 frames and has 82572 frames, it has dropped 1 frames\n",
      "The video named pv_143_d1t2.mp4 has reported 82151 frames and has 82151 frames, it has dropped 0 frames\n",
      "Getting eye brightness values for block 002...\n",
      "Found an existing file!\n",
      "Eye brightness vectors generation complete.\n",
      "blocksync_df loaded from analysis folder\n",
      "eye_brightness_df loaded from analysis folder\n",
      "handling arena files\n",
      "Arena video Names:\n",
      "front_20250811T142059.mp4\n",
      "left_20250811T142059.mp4\n",
      "right_20250811T142059.mp4\n",
      "top_20250811T142059.mp4\n",
      "running parse_open_ephys_events...\n",
      "block 003 has a parsed events file, reading...\n",
      "handling eye video files\n",
      "converting videos...\n",
      "converting files: ['X:\\\\Nimrod\\\\experiments\\\\PV_143\\\\2025_08_25\\\\block_003\\\\eye_videos\\\\LE\\\\pv_143_d1t3\\\\pv_143_d1t3.h264', 'X:\\\\Nimrod\\\\experiments\\\\PV_143\\\\2025_08_25\\\\block_003\\\\eye_videos\\\\RE\\\\pv_143_d1t3\\\\pv_143_d1t3.h264'] \n",
      " avoiding conversion on files: ['X:\\\\Nimrod\\\\experiments\\\\PV_143\\\\2025_08_25\\\\block_003\\\\eye_videos\\\\LE\\\\pv_143_d1t3\\\\pv_143_d1t3_LE.mp4', 'X:\\\\Nimrod\\\\experiments\\\\PV_143\\\\2025_08_25\\\\block_003\\\\eye_videos\\\\RE\\\\pv_143_d1t3\\\\pv_143_d1t3.mp4']\n",
      "The file X:\\Nimrod\\experiments\\PV_143\\2025_08_25\\block_003\\eye_videos\\RE\\pv_143_d1t3\\pv_143_d1t3.mp4 already exists, no conversion necessary\n",
      "Validating videos...\n",
      "The video named pv_143_d1t3_LE.mp4 has reported 87431 frames and has 87430 frames, it has dropped 1 frames\n",
      "The video named pv_143_d1t3.mp4 has reported 87481 frames and has 87481 frames, it has dropped 0 frames\n",
      "Getting eye brightness values for block 003...\n",
      "Found an existing file!\n",
      "Eye brightness vectors generation complete.\n",
      "blocksync_df loaded from analysis folder\n",
      "eye_brightness_df loaded from analysis folder\n",
      "handling arena files\n",
      "Arena video Names:\n",
      "front_20250811T145848.mp4\n",
      "left_20250811T145848.mp4\n",
      "right_20250811T145848.mp4\n",
      "top_20250811T145848.mp4\n",
      "running parse_open_ephys_events...\n",
      "block 004 has a parsed events file, reading...\n",
      "handling eye video files\n",
      "converting videos...\n",
      "converting files: ['X:\\\\Nimrod\\\\experiments\\\\PV_143\\\\2025_08_25\\\\block_004\\\\eye_videos\\\\LE\\\\pv_143_d1t4\\\\pv_143_d1t4.h264', 'X:\\\\Nimrod\\\\experiments\\\\PV_143\\\\2025_08_25\\\\block_004\\\\eye_videos\\\\RE\\\\pv_143_d1t4\\\\pv_143_d1t4.h264'] \n",
      " avoiding conversion on files: ['X:\\\\Nimrod\\\\experiments\\\\PV_143\\\\2025_08_25\\\\block_004\\\\eye_videos\\\\LE\\\\pv_143_d1t4\\\\pv_143_d1t4_LE.mp4', 'X:\\\\Nimrod\\\\experiments\\\\PV_143\\\\2025_08_25\\\\block_004\\\\eye_videos\\\\RE\\\\pv_143_d1t4\\\\pv_143_d1t4.mp4']\n",
      "The file X:\\Nimrod\\experiments\\PV_143\\2025_08_25\\block_004\\eye_videos\\RE\\pv_143_d1t4\\pv_143_d1t4.mp4 already exists, no conversion necessary\n",
      "Validating videos...\n",
      "The video named pv_143_d1t4_LE.mp4 has reported 75008 frames and has 75007 frames, it has dropped 1 frames\n",
      "The video named pv_143_d1t4.mp4 has reported 74968 frames and has 74968 frames, it has dropped 0 frames\n",
      "Getting eye brightness values for block 004...\n",
      "Found an existing file!\n",
      "Eye brightness vectors generation complete.\n",
      "blocksync_df loaded from analysis folder\n",
      "eye_brightness_df loaded from analysis folder\n"
     ]
    }
   ],
   "execution_count": 22
  },
  {
   "metadata": {
    "ExecuteTime": {
     "end_time": "2025-08-09T14:25:54.699654Z",
     "start_time": "2025-08-09T14:25:54.669656Z"
    }
   },
   "cell_type": "code",
   "source": [
    "l_num_frames_ttl = np.max(block.oe_events.L_eye_TTL_frame.dropna().values)\n",
    "l_num_frames_count = get_frame_count(block.le_videos[0])\n",
    "\n",
    "r_num_frames_ttl = np.max(block.oe_events.R_eye_TTL_frame.dropna().values)\n",
    "r_num_frames_count = get_frame_count(block.re_videos[0])\n",
    "print('LEFT:',l_num_frames_ttl, l_num_frames_count)\n",
    "print('RIGHT',r_num_frames_ttl, r_num_frames_count)"
   ],
   "id": "981bc3f2f7adb7f8",
   "outputs": [
    {
     "name": "stdout",
     "output_type": "stream",
     "text": [
      "LEFT: 58848.0 58849\n",
      "RIGHT 39298.0 39299\n"
     ]
    }
   ],
   "execution_count": 10
  },
  {
   "metadata": {
    "ExecuteTime": {
     "end_time": "2025-08-26T15:19:53.018797Z",
     "start_time": "2025-08-26T15:19:45.312135Z"
    }
   },
   "cell_type": "code",
   "source": [
    "# This step is used to quickly go over the analyzed blocks and load their internal data\n",
    "for block in block_collection:\n",
    "    block.handle_arena_files()\n",
    "    block.parse_open_ephys_events()\n",
    "    block.handle_eye_videos()\n",
    "    block.get_eye_brightness_vectors()\n",
    "    #block.synchronize_block()\n",
    "    block.synchronize_block_for_non_60fps_acquisition(export=True,\n",
    "                                                      overwrite=False,\n",
    "                                                      target_frame_rate=62,\n",
    "                                                      margin_of_error=5)\n",
    "    block.create_eye_brightness_df(threshold_value=20)"
   ],
   "id": "52f37f634eef8fc8",
   "outputs": [
    {
     "name": "stdout",
     "output_type": "stream",
     "text": [
      "handling arena files\n",
      "Arena video Names:\n",
      "front_20250811T132926.mp4\n",
      "left_20250811T132926.mp4\n",
      "right_20250811T132926.mp4\n",
      "top_20250811T132926.mp4\n",
      "running parse_open_ephys_events...\n",
      "block 001 has a parsed events file, reading...\n",
      "handling eye video files\n",
      "converting videos...\n",
      "converting files: ['Z:\\\\Nimrod\\\\experiments\\\\PV_143\\\\2025_08_25\\\\block_001\\\\eye_videos\\\\LE\\\\pv_143_d1t1\\\\pv_143_d1t1.h264', 'Z:\\\\Nimrod\\\\experiments\\\\PV_143\\\\2025_08_25\\\\block_001\\\\eye_videos\\\\RE\\\\pv_143_d1t1\\\\pv_143_d1t1.h264'] \n",
      " avoiding conversion on files: ['Z:\\\\Nimrod\\\\experiments\\\\PV_143\\\\2025_08_25\\\\block_001\\\\eye_videos\\\\LE\\\\pv_143_d1t1\\\\pv_143_d1t1_LE.mp4', 'Z:\\\\Nimrod\\\\experiments\\\\PV_143\\\\2025_08_25\\\\block_001\\\\eye_videos\\\\RE\\\\pv_143_d1t1\\\\pv_143_d1t1.mp4']\n",
      "The file Z:\\Nimrod\\experiments\\PV_143\\2025_08_25\\block_001\\eye_videos\\RE\\pv_143_d1t1\\pv_143_d1t1.mp4 already exists, no conversion necessary\n",
      "Validating videos...\n",
      "The video named pv_143_d1t1_LE.mp4 has reported 74966 frames and has 74966 frames, it has dropped 0 frames\n",
      "The video named pv_143_d1t1.mp4 has reported 75162 frames and has 75162 frames, it has dropped 0 frames\n",
      "Getting eye brightness values for block 001...\n",
      "Found an existing file!\n",
      "Eye brightness vectors generation complete.\n",
      "blocksync_df loaded from analysis folder\n"
     ]
    },
    {
     "name": "stderr",
     "output_type": "stream",
     "text": [
      "C:\\Users\\MarkS3\\AppData\\Local\\Programs\\Python\\Python38\\lib\\site-packages\\pandas\\core\\reshape\\merge.py:1112: RuntimeWarning: invalid value encountered in cast\n",
      "  if not (lk == lk.astype(rk.dtype))[~np.isnan(lk)].all():\n"
     ]
    },
    {
     "name": "stdout",
     "output_type": "stream",
     "text": [
      "creating Z:\\Nimrod\\experiments\\PV_143\\2025_08_25\\block_001\\analysis/eye_brightness_df.csv\n",
      "handling arena files\n",
      "Arena video Names:\n",
      "front_20250811T135030.mp4\n",
      "left_20250811T135030.mp4\n",
      "right_20250811T135030.mp4\n",
      "top_20250811T135030.mp4\n",
      "running parse_open_ephys_events...\n",
      "block 002 has a parsed events file, reading...\n",
      "handling eye video files\n",
      "converting videos...\n",
      "converting files: ['Z:\\\\Nimrod\\\\experiments\\\\PV_143\\\\2025_08_25\\\\block_002\\\\eye_videos\\\\LE\\\\pv_143_d1t2\\\\pv_143_d1t2.h264', 'Z:\\\\Nimrod\\\\experiments\\\\PV_143\\\\2025_08_25\\\\block_002\\\\eye_videos\\\\RE\\\\pv_143_d1t2\\\\pv_143_d1t2.h264'] \n",
      " avoiding conversion on files: ['Z:\\\\Nimrod\\\\experiments\\\\PV_143\\\\2025_08_25\\\\block_002\\\\eye_videos\\\\LE\\\\pv_143_d1t2\\\\pv_143_d1t2_LE.mp4', 'Z:\\\\Nimrod\\\\experiments\\\\PV_143\\\\2025_08_25\\\\block_002\\\\eye_videos\\\\RE\\\\pv_143_d1t2\\\\pv_143_d1t2.mp4']\n",
      "The file Z:\\Nimrod\\experiments\\PV_143\\2025_08_25\\block_002\\eye_videos\\RE\\pv_143_d1t2\\pv_143_d1t2.mp4 already exists, no conversion necessary\n",
      "Validating videos...\n",
      "The video named pv_143_d1t2_LE.mp4 has reported 82151 frames and has 82151 frames, it has dropped 0 frames\n",
      "The video named pv_143_d1t2.mp4 has reported 82573 frames and has 82572 frames, it has dropped 1 frames\n",
      "Getting eye brightness values for block 002...\n",
      "Found an existing file!\n",
      "Eye brightness vectors generation complete.\n",
      "blocksync_df loaded from analysis folder\n"
     ]
    },
    {
     "name": "stderr",
     "output_type": "stream",
     "text": [
      "C:\\Users\\MarkS3\\AppData\\Local\\Programs\\Python\\Python38\\lib\\site-packages\\pandas\\core\\reshape\\merge.py:1112: RuntimeWarning: invalid value encountered in cast\n",
      "  if not (lk == lk.astype(rk.dtype))[~np.isnan(lk)].all():\n"
     ]
    },
    {
     "name": "stdout",
     "output_type": "stream",
     "text": [
      "creating Z:\\Nimrod\\experiments\\PV_143\\2025_08_25\\block_002\\analysis/eye_brightness_df.csv\n",
      "handling arena files\n",
      "Arena video Names:\n",
      "front_20250811T142059.mp4\n",
      "left_20250811T142059.mp4\n",
      "right_20250811T142059.mp4\n",
      "top_20250811T142059.mp4\n",
      "running parse_open_ephys_events...\n",
      "block 003 has a parsed events file, reading...\n",
      "handling eye video files\n",
      "converting videos...\n",
      "converting files: ['Z:\\\\Nimrod\\\\experiments\\\\PV_143\\\\2025_08_25\\\\block_003\\\\eye_videos\\\\LE\\\\pv_143_d1t3\\\\pv_143_d1t3.h264', 'Z:\\\\Nimrod\\\\experiments\\\\PV_143\\\\2025_08_25\\\\block_003\\\\eye_videos\\\\RE\\\\pv_143_d1t3\\\\pv_143_d1t3.h264'] \n",
      " avoiding conversion on files: ['Z:\\\\Nimrod\\\\experiments\\\\PV_143\\\\2025_08_25\\\\block_003\\\\eye_videos\\\\LE\\\\pv_143_d1t3\\\\pv_143_d1t3_LE.mp4', 'Z:\\\\Nimrod\\\\experiments\\\\PV_143\\\\2025_08_25\\\\block_003\\\\eye_videos\\\\RE\\\\pv_143_d1t3\\\\pv_143_d1t3.mp4']\n",
      "The file Z:\\Nimrod\\experiments\\PV_143\\2025_08_25\\block_003\\eye_videos\\RE\\pv_143_d1t3\\pv_143_d1t3.mp4 already exists, no conversion necessary\n",
      "Validating videos...\n",
      "The video named pv_143_d1t3_LE.mp4 has reported 87481 frames and has 87481 frames, it has dropped 0 frames\n",
      "The video named pv_143_d1t3.mp4 has reported 87431 frames and has 87430 frames, it has dropped 1 frames\n",
      "Getting eye brightness values for block 003...\n",
      "Found an existing file!\n",
      "Eye brightness vectors generation complete.\n",
      "blocksync_df loaded from analysis folder\n"
     ]
    },
    {
     "name": "stderr",
     "output_type": "stream",
     "text": [
      "C:\\Users\\MarkS3\\AppData\\Local\\Programs\\Python\\Python38\\lib\\site-packages\\pandas\\core\\reshape\\merge.py:1112: RuntimeWarning: invalid value encountered in cast\n",
      "  if not (lk == lk.astype(rk.dtype))[~np.isnan(lk)].all():\n"
     ]
    },
    {
     "name": "stdout",
     "output_type": "stream",
     "text": [
      "creating Z:\\Nimrod\\experiments\\PV_143\\2025_08_25\\block_003\\analysis/eye_brightness_df.csv\n",
      "handling arena files\n",
      "Arena video Names:\n",
      "front_20250811T145848.mp4\n",
      "left_20250811T145848.mp4\n",
      "right_20250811T145848.mp4\n",
      "top_20250811T145848.mp4\n",
      "running parse_open_ephys_events...\n",
      "block 004 has a parsed events file, reading...\n",
      "handling eye video files\n",
      "converting videos...\n",
      "converting files: ['Z:\\\\Nimrod\\\\experiments\\\\PV_143\\\\2025_08_25\\\\block_004\\\\eye_videos\\\\LE\\\\pv_143_d1t4\\\\pv_143_d1t4.h264', 'Z:\\\\Nimrod\\\\experiments\\\\PV_143\\\\2025_08_25\\\\block_004\\\\eye_videos\\\\RE\\\\pv_143_d1t4\\\\pv_143_d1t4.h264'] \n",
      " avoiding conversion on files: ['Z:\\\\Nimrod\\\\experiments\\\\PV_143\\\\2025_08_25\\\\block_004\\\\eye_videos\\\\LE\\\\pv_143_d1t4\\\\pv_143_d1t4_LE.mp4', 'Z:\\\\Nimrod\\\\experiments\\\\PV_143\\\\2025_08_25\\\\block_004\\\\eye_videos\\\\RE\\\\pv_143_d1t4\\\\pv_143_d1t4.mp4']\n",
      "The file Z:\\Nimrod\\experiments\\PV_143\\2025_08_25\\block_004\\eye_videos\\RE\\pv_143_d1t4\\pv_143_d1t4.mp4 already exists, no conversion necessary\n",
      "Validating videos...\n",
      "The video named pv_143_d1t4_LE.mp4 has reported 74968 frames and has 74968 frames, it has dropped 0 frames\n",
      "The video named pv_143_d1t4.mp4 has reported 75008 frames and has 75007 frames, it has dropped 1 frames\n",
      "Getting eye brightness values for block 004...\n",
      "Found an existing file!\n",
      "Eye brightness vectors generation complete.\n",
      "blocksync_df loaded from analysis folder\n"
     ]
    },
    {
     "name": "stderr",
     "output_type": "stream",
     "text": [
      "C:\\Users\\MarkS3\\AppData\\Local\\Programs\\Python\\Python38\\lib\\site-packages\\pandas\\core\\reshape\\merge.py:1112: RuntimeWarning: invalid value encountered in cast\n",
      "  if not (lk == lk.astype(rk.dtype))[~np.isnan(lk)].all():\n"
     ]
    },
    {
     "name": "stdout",
     "output_type": "stream",
     "text": [
      "creating Z:\\Nimrod\\experiments\\PV_143\\2025_08_25\\block_004\\analysis/eye_brightness_df.csv\n"
     ]
    }
   ],
   "execution_count": 5
  },
  {
   "metadata": {},
   "cell_type": "markdown",
   "source": "",
   "id": "b4a78a1d97a17a92"
  },
  {
   "metadata": {
    "ExecuteTime": {
     "end_time": "2025-08-04T10:54:46.835487Z",
     "start_time": "2025-08-04T10:54:46.823487Z"
    }
   },
   "cell_type": "code",
   "source": [
    "import cv2\n",
    "import numpy as np\n",
    "import pandas as pd\n",
    "from pathlib import Path\n",
    "from tqdm import tqdm\n",
    "\n",
    "\n",
    "def _video_brightness_table(video_path: Path) -> pd.DataFrame:\n",
    "    \"\"\"\n",
    "    Parse `video_path` frame-by-frame and return a DataFrame with:\n",
    "        frame        – zero-based frame index (Int32)\n",
    "        brightness   – mean of grayscale image (float)\n",
    "        red/green/blue – mean of each colour channel (float)\n",
    "\n",
    "    Notes\n",
    "    -----\n",
    "    * Brightness is the un-weighted mean of the grayscale image\n",
    "      (cv2 uses ITU-R 601 coefficients internally).\n",
    "      If you prefer equal weighting, replace the `cv2.cvtColor` line with\n",
    "      `overall = frame.mean()`.\n",
    "\n",
    "    * Uses NumPy pre-allocation for speed; falls back gracefully if the\n",
    "      video ends early.\n",
    "    \"\"\"\n",
    "    cap = cv2.VideoCapture(str(video_path))\n",
    "    if not cap.isOpened():\n",
    "        raise IOError(f\"Cannot open video: {video_path}\")\n",
    "\n",
    "    n_frames = int(cap.get(cv2.CAP_PROP_FRAME_COUNT))\n",
    "    data = np.empty((n_frames, 5), dtype=np.float32)\n",
    "\n",
    "    for i in tqdm(range(n_frames), desc=f\"Parsing {video_path.name}\", unit=\"frame\"):\n",
    "        ok, frame = cap.read()\n",
    "        if not ok:                      # truncate if the header over-counts\n",
    "            data = data[:i]\n",
    "            break\n",
    "\n",
    "        gray      = cv2.cvtColor(frame, cv2.COLOR_BGR2GRAY)\n",
    "        b, g, r   = cv2.split(frame)    # OpenCV default is BGR\n",
    "        data[i]   = (i, gray.mean(), r.mean(), g.mean(), b.mean())\n",
    "\n",
    "    cap.release()\n",
    "    df = pd.DataFrame(data, columns=['frame', 'brightness', 'red', 'green', 'blue'])\n",
    "    df['frame'] = df['frame'].astype('int32')\n",
    "    return df\n",
    "\n",
    "\n",
    "import pandas as pd\n",
    "from pathlib import Path\n",
    "\n",
    "def create_eye_brightness_tables(self,\n",
    "                                 overwrite: bool = False,\n",
    "                                 export: bool = True):\n",
    "    \"\"\"\n",
    "    Populate (or reload) `self.le_rgb_brightness_df` and\n",
    "    `self.re_rgb_brightness_df` with per-frame RGB brightness tables.\n",
    "\n",
    "    Parameters\n",
    "    ----------\n",
    "    overwrite : bool\n",
    "        • False  → if the CSV already exists, load it instead of recomputing.\n",
    "        • True   → recompute and overwrite any existing CSVs.\n",
    "    export : bool\n",
    "        If True and we *recompute*, write CSVs to the block’s `analysis` folder.\n",
    "\n",
    "    Returns\n",
    "    -------\n",
    "    (le_df, re_df) : tuple of pandas.DataFrame\n",
    "        Left- and right-eye brightness tables.\n",
    "    \"\"\"\n",
    "    # ------------------------------------------------------------\n",
    "    # Resolve paths\n",
    "    # ------------------------------------------------------------\n",
    "    left_vid   = Path(self.le_videos[0])\n",
    "    right_vid  = Path(self.re_videos[0])\n",
    "    left_csv   = self.analysis_path / 'L_eye_rgb_brightness.csv'\n",
    "    right_csv  = self.analysis_path / 'R_eye_rgb_brightness.csv'\n",
    "\n",
    "    self.analysis_path.mkdir(parents=True, exist_ok=True)  # just in case\n",
    "\n",
    "    # ------------------------------------------------------------\n",
    "    # Left eye\n",
    "    # ------------------------------------------------------------\n",
    "    if not overwrite and left_csv.exists():\n",
    "        self.le_rgb_brightness_df = pd.read_csv(left_csv)\n",
    "    else:\n",
    "        self.le_rgb_brightness_df = _video_brightness_table(left_vid)\n",
    "        if export:\n",
    "            self.le_rgb_brightness_df.to_csv(left_csv, index=False)\n",
    "\n",
    "    # ------------------------------------------------------------\n",
    "    # Right eye\n",
    "    # ------------------------------------------------------------\n",
    "    if not overwrite and right_csv.exists():\n",
    "        self.re_rgb_brightness_df = pd.read_csv(right_csv)\n",
    "    else:\n",
    "        self.re_rgb_brightness_df = _video_brightness_table(right_vid)\n",
    "        if export:\n",
    "            self.re_rgb_brightness_df.to_csv(right_csv, index=False)\n",
    "\n",
    "    return self.le_rgb_brightness_df, self.re_rgb_brightness_df\n",
    "\n",
    "\n",
    "\n",
    "\n"
   ],
   "id": "28573b81353d7f9e",
   "outputs": [],
   "execution_count": 8
  },
  {
   "metadata": {
    "ExecuteTime": {
     "end_time": "2025-08-04T10:54:50.022578Z",
     "start_time": "2025-08-04T10:54:50.009553Z"
    }
   },
   "cell_type": "code",
   "source": [
    "import pickle\n",
    "import numpy as np\n",
    "from pathlib import Path\n",
    "\n",
    "def update_eye_brightness_vectors(self,\n",
    "                                  l_df,\n",
    "                                  r_df,\n",
    "                                  use_channel: str = 'brightness',\n",
    "                                  export: bool = True):\n",
    "    \"\"\"\n",
    "    Replace the legacy *frame-val* vectors with values taken directly\n",
    "    from the per-frame brightness tables produced by\n",
    "    `create_eye_brightness_tables()`.\n",
    "\n",
    "    Parameters\n",
    "    ----------\n",
    "    l_df, r_df : pandas.DataFrame\n",
    "        Output of `create_eye_brightness_tables()` for left & right eyes.\n",
    "    use_channel : {'brightness', 'red', 'green', 'blue'}, default 'brightness'\n",
    "        Which column to use as the synchronisation trace.\n",
    "    export : bool, default True\n",
    "        If True, rewrites `analysis/eye_brightness_values_dict.pkl`\n",
    "        so downstream code loads the new vectors automatically.\n",
    "\n",
    "    Returns\n",
    "    -------\n",
    "    le_vec, re_vec : np.ndarray\n",
    "        The vectors now stored in `self.le_frame_val_list` and\n",
    "        `self.re_frame_val_list`.\n",
    "    \"\"\"\n",
    "    # --- 1. Basic validation --------------------------------------------------\n",
    "    for eye, df in zip(('left', 'right'), (l_df, r_df)):\n",
    "        if use_channel not in df.columns:\n",
    "            raise ValueError(\n",
    "                f\"{use_channel!r} column missing from {eye}-eye DataFrame \"\n",
    "                f\"(available columns: {list(df.columns)})\"\n",
    "            )\n",
    "\n",
    "    # --- 2. Extract the chosen channel ---------------------------------------\n",
    "    le_vec = df_to_vec = l_df[use_channel].to_numpy(dtype=np.float32)\n",
    "    re_vec = r_df[use_channel].to_numpy(dtype=np.float32)\n",
    "\n",
    "    # --- 3. Store on the object ----------------------------------------------\n",
    "    self.le_frame_val_list = le_vec\n",
    "    self.re_frame_val_list = re_vec\n",
    "\n",
    "    # --- 4. Persist so old code picks it up automatically --------------------\n",
    "    if export:\n",
    "        pkl_path = Path(self.analysis_path) / 'eye_brightness_values_dict.pkl'\n",
    "        pkl_path.parent.mkdir(parents=True, exist_ok=True)  # safety\n",
    "\n",
    "        with open(pkl_path, 'wb') as fh:\n",
    "            pickle.dump({'left_eye': le_vec, 'right_eye': re_vec}, fh)\n",
    "\n",
    "    return le_vec, re_vec\n",
    "\n"
   ],
   "id": "edeb81950bb13292",
   "outputs": [],
   "execution_count": 9
  },
  {
   "metadata": {
    "ExecuteTime": {
     "end_time": "2025-08-04T10:59:33.035662Z",
     "start_time": "2025-08-04T10:54:53.993579Z"
    }
   },
   "cell_type": "code",
   "source": [
    "for block in block_collection:\n",
    "    l_df,r_df = create_eye_brightness_tables(block)\n",
    "    update_eye_brightness_vectors(block,l_df,r_df,export=True)"
   ],
   "id": "78571541993613b1",
   "outputs": [
    {
     "name": "stderr",
     "output_type": "stream",
     "text": [
      "Parsing pv_106_d2t2.mp4: 100%|██████████| 59805/59805 [01:31<00:00, 653.13frame/s]\n",
      "Parsing pv_106_d2t3_LE.mp4: 100%|██████████| 59851/59851 [01:31<00:00, 653.53frame/s]\n",
      "Parsing pv_106_d2t3.mp4: 100%|██████████| 59997/59997 [01:33<00:00, 640.77frame/s]\n"
     ]
    }
   ],
   "execution_count": 10
  },
  {
   "cell_type": "code",
   "source": [
    "# This step is used to quickly go over the analyzed blocks and load their internal data\n",
    "for block in block_collection:\n",
    "    block.handle_arena_files()\n",
    "    block.parse_open_ephys_events()\n",
    "    block.handle_eye_videos()\n",
    "    block.get_eye_brightness_vectors()\n",
    "    #block.synchronize_block()\n",
    "    block.synchronize_block_for_non_60fps_acquisition(export=True,\n",
    "                                                      overwrite=False,\n",
    "                                                      target_frame_rate=60,\n",
    "                                                      margin_of_error=5)\n",
    "    #block.create_eye_brightness_df(threshold_value=20)\n",
    "    \n",
    "    # if the code fails here, go to manual synchronization\n",
    "    #block.import_manual_sync_df()"
   ],
   "metadata": {
    "collapsed": false,
    "ExecuteTime": {
     "end_time": "2025-08-04T11:53:00.743028Z",
     "start_time": "2025-08-04T11:52:58.176017Z"
    }
   },
   "id": "60c947f44aeb8546",
   "outputs": [
    {
     "name": "stdout",
     "output_type": "stream",
     "text": [
      "handling arena files\n",
      "Arena video Names:\n",
      "front_20250728T133755.mp4\n",
      "left_20250728T133755.mp4\n",
      "right_20250728T133755.mp4\n",
      "top_20250728T133755.mp4\n",
      "running parse_open_ephys_events...\n",
      "block 001 has a parsed events file, reading...\n",
      "handling eye video files\n",
      "converting videos...\n",
      "converting files: ['X:\\\\Nimrod\\\\experiments\\\\PV_106\\\\2025_07_28\\\\block_001\\\\eye_videos\\\\LE\\\\pv_106_d1t1\\\\pv_106_d1t1.h264', 'X:\\\\Nimrod\\\\experiments\\\\PV_106\\\\2025_07_28\\\\block_001\\\\eye_videos\\\\RE\\\\pv_106_d1t1\\\\pv_106_d1t1.h264'] \n",
      " avoiding conversion on files: ['X:\\\\Nimrod\\\\experiments\\\\PV_106\\\\2025_07_28\\\\block_001\\\\eye_videos\\\\LE\\\\pv_106_d1t1\\\\pv_106_d1t1_LE.mp4', 'X:\\\\Nimrod\\\\experiments\\\\PV_106\\\\2025_07_28\\\\block_001\\\\eye_videos\\\\RE\\\\pv_106_d1t1\\\\pv_106_d1t1.mp4']\n",
      "The file X:\\Nimrod\\experiments\\PV_106\\2025_07_28\\block_001\\eye_videos\\RE\\pv_106_d1t1\\pv_106_d1t1.mp4 already exists, no conversion necessary\n",
      "Validating videos...\n",
      "The video named pv_106_d1t1_LE.mp4 has reported 89600 frames and has 94054 frames, it has dropped -4454 frames\n",
      "The video named pv_106_d1t1.mp4 has reported 88122 frames and has 94332 frames, it has dropped -6210 frames\n",
      "Getting eye brightness values for block 001...\n",
      "Found an existing file!\n",
      "Eye brightness vectors generation complete.\n",
      "blocksync_df loaded from analysis folder\n",
      "handling arena files\n",
      "Arena video Names:\n",
      "\n",
      "running parse_open_ephys_events...\n",
      "block 002 has a parsed events file, reading...\n",
      "handling eye video files\n",
      "converting videos...\n",
      "converting files: ['X:\\\\Nimrod\\\\experiments\\\\PV_106\\\\2025_07_28\\\\block_002\\\\eye_videos\\\\LE\\\\pv_106_d1t2\\\\pv_106_d1t2.h264', 'X:\\\\Nimrod\\\\experiments\\\\PV_106\\\\2025_07_28\\\\block_002\\\\eye_videos\\\\RE\\\\pv_106_d1t2\\\\pv_106_d1t2.h264'] \n",
      " avoiding conversion on files: ['X:\\\\Nimrod\\\\experiments\\\\PV_106\\\\2025_07_28\\\\block_002\\\\eye_videos\\\\LE\\\\pv_106_d1t2\\\\pv_106_d1t2_LE.mp4', 'X:\\\\Nimrod\\\\experiments\\\\PV_106\\\\2025_07_28\\\\block_002\\\\eye_videos\\\\RE\\\\pv_106_d1t2\\\\pv_106_d1t2.mp4']\n",
      "The file X:\\Nimrod\\experiments\\PV_106\\2025_07_28\\block_002\\eye_videos\\RE\\pv_106_d1t2\\pv_106_d1t2.mp4 already exists, no conversion necessary\n",
      "Validating videos...\n",
      "The video named pv_106_d1t2_LE.mp4 has reported 55879 frames and has 58603 frames, it has dropped -2724 frames\n",
      "The video named pv_106_d1t2.mp4 has reported 55239 frames and has 58816 frames, it has dropped -3577 frames\n",
      "Getting eye brightness values for block 002...\n",
      "Found an existing file!\n",
      "Eye brightness vectors generation complete.\n",
      "blocksync_df loaded from analysis folder\n",
      "handling arena files\n",
      "no arena timestamps folder found\n",
      "Arena video Names:\n",
      "\n",
      "running parse_open_ephys_events...\n",
      "block 003 has a parsed events file, reading...\n",
      "handling eye video files\n",
      "converting videos...\n",
      "converting files: ['X:\\\\Nimrod\\\\experiments\\\\PV_106\\\\2025_07_28\\\\block_003\\\\eye_videos\\\\LE\\\\pv_106_d1t3\\\\pv_106_d1t3.h264', 'X:\\\\Nimrod\\\\experiments\\\\PV_106\\\\2025_07_28\\\\block_003\\\\eye_videos\\\\RE\\\\pv_106_d1t3\\\\pv_106_d1t3.h264'] \n",
      " avoiding conversion on files: ['X:\\\\Nimrod\\\\experiments\\\\PV_106\\\\2025_07_28\\\\block_003\\\\eye_videos\\\\LE\\\\pv_106_d1t3\\\\pv_106_d1t3_LE.mp4', 'X:\\\\Nimrod\\\\experiments\\\\PV_106\\\\2025_07_28\\\\block_003\\\\eye_videos\\\\RE\\\\pv_106_d1t3\\\\pv_106_d1t3.mp4']\n",
      "The file X:\\Nimrod\\experiments\\PV_106\\2025_07_28\\block_003\\eye_videos\\RE\\pv_106_d1t3\\pv_106_d1t3.mp4 already exists, no conversion necessary\n",
      "Validating videos...\n",
      "The video named pv_106_d1t3_LE.mp4 has reported 55164 frames and has 57961 frames, it has dropped -2797 frames\n",
      "The video named pv_106_d1t3.mp4 has reported 54545 frames and has 58067 frames, it has dropped -3522 frames\n",
      "Getting eye brightness values for block 003...\n",
      "Found an existing file!\n",
      "Eye brightness vectors generation complete.\n",
      "blocksync_df loaded from analysis folder\n",
      "handling arena files\n",
      "Arena video Names:\n",
      "\n",
      "running parse_open_ephys_events...\n",
      "block 004 has a parsed events file, reading...\n",
      "handling eye video files\n",
      "converting videos...\n",
      "converting files: ['X:\\\\Nimrod\\\\experiments\\\\PV_106\\\\2025_07_29\\\\block_004\\\\eye_videos\\\\LE\\\\pv_106_d2t1\\\\pv_106_d2t1.h264', 'X:\\\\Nimrod\\\\experiments\\\\PV_106\\\\2025_07_29\\\\block_004\\\\eye_videos\\\\RE\\\\pv_106_d2t1\\\\pv_106_d2t1.h264'] \n",
      " avoiding conversion on files: ['X:\\\\Nimrod\\\\experiments\\\\PV_106\\\\2025_07_29\\\\block_004\\\\eye_videos\\\\LE\\\\pv_106_d2t1\\\\pv_106_d2t1_LE.mp4', 'X:\\\\Nimrod\\\\experiments\\\\PV_106\\\\2025_07_29\\\\block_004\\\\eye_videos\\\\RE\\\\pv_106_d2t1\\\\pv_106_d2t1.mp4']\n",
      "The file X:\\Nimrod\\experiments\\PV_106\\2025_07_29\\block_004\\eye_videos\\RE\\pv_106_d2t1\\pv_106_d2t1.mp4 already exists, no conversion necessary\n",
      "Validating videos...\n",
      "The video named pv_106_d2t1_LE.mp4 has reported 55262 frames and has 58431 frames, it has dropped -3169 frames\n",
      "The video named pv_106_d2t1.mp4 has reported 54812 frames and has 58634 frames, it has dropped -3822 frames\n",
      "Getting eye brightness values for block 004...\n",
      "Found an existing file!\n",
      "Eye brightness vectors generation complete.\n",
      "blocksync_df loaded from analysis folder\n",
      "handling arena files\n",
      "Arena video Names:\n",
      "\n",
      "running parse_open_ephys_events...\n",
      "block 005 has a parsed events file, reading...\n",
      "handling eye video files\n",
      "converting videos...\n",
      "converting files: ['X:\\\\Nimrod\\\\experiments\\\\PV_106\\\\2025_07_29\\\\block_005\\\\eye_videos\\\\LE\\\\pv_106_d2t2\\\\pv_106_d2t2.h264', 'X:\\\\Nimrod\\\\experiments\\\\PV_106\\\\2025_07_29\\\\block_005\\\\eye_videos\\\\RE\\\\pv_106_d2t2\\\\pv_106_d2t2.h264'] \n",
      " avoiding conversion on files: ['X:\\\\Nimrod\\\\experiments\\\\PV_106\\\\2025_07_29\\\\block_005\\\\eye_videos\\\\LE\\\\pv_106_d2t2\\\\pv_106_d2t2_LE.mp4', 'X:\\\\Nimrod\\\\experiments\\\\PV_106\\\\2025_07_29\\\\block_005\\\\eye_videos\\\\RE\\\\pv_106_d2t2\\\\pv_106_d2t2.mp4']\n",
      "The file X:\\Nimrod\\experiments\\PV_106\\2025_07_29\\block_005\\eye_videos\\RE\\pv_106_d2t2\\pv_106_d2t2.mp4 already exists, no conversion necessary\n",
      "Validating videos...\n",
      "The video named pv_106_d2t2_LE.mp4 has reported 56390 frames and has 59802 frames, it has dropped -3412 frames\n",
      "The video named pv_106_d2t2.mp4 has reported 55941 frames and has 59805 frames, it has dropped -3864 frames\n",
      "Getting eye brightness values for block 005...\n",
      "Found an existing file!\n",
      "Eye brightness vectors generation complete.\n",
      "blocksync_df loaded from analysis folder\n",
      "handling arena files\n",
      "Arena video Names:\n",
      "\n",
      "running parse_open_ephys_events...\n",
      "block 006 has a parsed events file, reading...\n",
      "handling eye video files\n",
      "converting videos...\n",
      "converting files: ['X:\\\\Nimrod\\\\experiments\\\\PV_106\\\\2025_07_29\\\\block_006\\\\eye_videos\\\\LE\\\\pv_106_d2t3\\\\pv_106_d2t3.h264', 'X:\\\\Nimrod\\\\experiments\\\\PV_106\\\\2025_07_29\\\\block_006\\\\eye_videos\\\\RE\\\\pv_106_d2t3\\\\pv_106_d2t3.h264'] \n",
      " avoiding conversion on files: ['X:\\\\Nimrod\\\\experiments\\\\PV_106\\\\2025_07_29\\\\block_006\\\\eye_videos\\\\LE\\\\pv_106_d2t3\\\\pv_106_d2t3_LE.mp4', 'X:\\\\Nimrod\\\\experiments\\\\PV_106\\\\2025_07_29\\\\block_006\\\\eye_videos\\\\RE\\\\pv_106_d2t3\\\\pv_106_d2t3.mp4']\n",
      "The file X:\\Nimrod\\experiments\\PV_106\\2025_07_29\\block_006\\eye_videos\\RE\\pv_106_d2t3\\pv_106_d2t3.mp4 already exists, no conversion necessary\n",
      "Validating videos...\n",
      "The video named pv_106_d2t3_LE.mp4 has reported 56562 frames and has 59851 frames, it has dropped -3289 frames\n",
      "The video named pv_106_d2t3.mp4 has reported 56123 frames and has 59997 frames, it has dropped -3874 frames\n",
      "Getting eye brightness values for block 006...\n",
      "Found an existing file!\n",
      "Eye brightness vectors generation complete.\n",
      "blocksync_df loaded from analysis folder\n"
     ]
    }
   ],
   "execution_count": 16
  },
  {
   "cell_type": "code",
   "source": [
    "for block in block_collection:\n",
    "    block.read_dlc_data(overwrite=True, export=True)\n",
    "    #block.calibrate_pixel_size(10)"
   ],
   "metadata": {
    "collapsed": false,
    "ExecuteTime": {
     "end_time": "2025-08-26T15:21:51.965575Z",
     "start_time": "2025-08-26T15:20:23.744103Z"
    }
   },
   "id": "d958a1c1efa05343",
   "outputs": [
    {
     "name": "stderr",
     "output_type": "stream",
     "text": [
      "C:\\Users\\MarkS3\\PycharmProjects\\pythonProject3\\venv\\lib\\site-packages\\IPython\\core\\interactiveshell.py:3338: DtypeWarning: Columns (0,1,2,3,4,5,6,7,8,9,10,11,12,13,14,15,16,17,18,19,20,21,22,23,24,25,26,27,28,29,30) have mixed types.Specify dtype option on import or set low_memory=False.\n",
      "  if (await self.run_code(code, result,  async_=asy)):\n",
      "100%|██████████| 74964/74964 [00:42<00:00, 1781.63it/s]\n"
     ]
    },
    {
     "name": "stdout",
     "output_type": "stream",
     "text": [
      "\n",
      " ellipses calculation complete\n"
     ]
    },
    {
     "name": "stderr",
     "output_type": "stream",
     "text": [
      "100%|██████████| 75160/75160 [00:42<00:00, 1769.88it/s]\n"
     ]
    },
    {
     "name": "stdout",
     "output_type": "stream",
     "text": [
      "\n",
      " ellipses calculation complete\n",
      "Missing something, probably final_sync_df, have you gone through manual sync?\n"
     ]
    },
    {
     "ename": "AttributeError",
     "evalue": "'NoneType' object has no attribute 'merge'",
     "output_type": "error",
     "traceback": [
      "\u001B[1;31m---------------------------------------------------------------------------\u001B[0m",
      "\u001B[1;31mAttributeError\u001B[0m                            Traceback (most recent call last)",
      "\u001B[1;32m<ipython-input-6-bdb48ef90bac>\u001B[0m in \u001B[0;36m<module>\u001B[1;34m\u001B[0m\n\u001B[0;32m      1\u001B[0m \u001B[1;32mfor\u001B[0m \u001B[0mblock\u001B[0m \u001B[1;32min\u001B[0m \u001B[0mblock_collection\u001B[0m\u001B[1;33m:\u001B[0m\u001B[1;33m\u001B[0m\u001B[1;33m\u001B[0m\u001B[0m\n\u001B[1;32m----> 2\u001B[1;33m     \u001B[0mblock\u001B[0m\u001B[1;33m.\u001B[0m\u001B[0mread_dlc_data\u001B[0m\u001B[1;33m(\u001B[0m\u001B[0moverwrite\u001B[0m\u001B[1;33m=\u001B[0m\u001B[1;32mTrue\u001B[0m\u001B[1;33m,\u001B[0m \u001B[0mexport\u001B[0m\u001B[1;33m=\u001B[0m\u001B[1;32mTrue\u001B[0m\u001B[1;33m)\u001B[0m\u001B[1;33m\u001B[0m\u001B[1;33m\u001B[0m\u001B[0m\n\u001B[0m\u001B[0;32m      3\u001B[0m     \u001B[1;31m#block.calibrate_pixel_size(10)\u001B[0m\u001B[1;33m\u001B[0m\u001B[1;33m\u001B[0m\u001B[1;33m\u001B[0m\u001B[0m\n",
      "\u001B[1;32m~\\PycharmProjects\\pythonProject3\\BlockSync_current.py\u001B[0m in \u001B[0;36mread_dlc_data\u001B[1;34m(self, threshold_to_use, export, overwrite)\u001B[0m\n\u001B[0;32m   1530\u001B[0m \u001B[1;33m\u001B[0m\u001B[0m\n\u001B[0;32m   1531\u001B[0m         \u001B[1;31m# use frame numbers as the hooks to merge data and frame-timestamp relationships\u001B[0m\u001B[1;33m\u001B[0m\u001B[1;33m\u001B[0m\u001B[1;33m\u001B[0m\u001B[0m\n\u001B[1;32m-> 1532\u001B[1;33m         \u001B[0mself\u001B[0m\u001B[1;33m.\u001B[0m\u001B[0mle_df\u001B[0m \u001B[1;33m=\u001B[0m \u001B[0mself\u001B[0m\u001B[1;33m.\u001B[0m\u001B[0mle_df\u001B[0m\u001B[1;33m.\u001B[0m\u001B[0mmerge\u001B[0m\u001B[1;33m(\u001B[0m\u001B[0mself\u001B[0m\u001B[1;33m.\u001B[0m\u001B[0mle_ellipses\u001B[0m\u001B[1;33m,\u001B[0m \u001B[0mleft_on\u001B[0m\u001B[1;33m=\u001B[0m\u001B[1;34m'L_eye_frame'\u001B[0m\u001B[1;33m,\u001B[0m \u001B[0mright_index\u001B[0m\u001B[1;33m=\u001B[0m\u001B[1;32mTrue\u001B[0m\u001B[1;33m,\u001B[0m \u001B[0mhow\u001B[0m\u001B[1;33m=\u001B[0m\u001B[1;34m'left'\u001B[0m\u001B[1;33m)\u001B[0m\u001B[1;33m\u001B[0m\u001B[1;33m\u001B[0m\u001B[0m\n\u001B[0m\u001B[0;32m   1533\u001B[0m         \u001B[0mself\u001B[0m\u001B[1;33m.\u001B[0m\u001B[0mre_df\u001B[0m \u001B[1;33m=\u001B[0m \u001B[0mself\u001B[0m\u001B[1;33m.\u001B[0m\u001B[0mre_df\u001B[0m\u001B[1;33m.\u001B[0m\u001B[0mmerge\u001B[0m\u001B[1;33m(\u001B[0m\u001B[0mself\u001B[0m\u001B[1;33m.\u001B[0m\u001B[0mre_ellipses\u001B[0m\u001B[1;33m,\u001B[0m \u001B[0mleft_on\u001B[0m\u001B[1;33m=\u001B[0m\u001B[1;34m'R_eye_frame'\u001B[0m\u001B[1;33m,\u001B[0m \u001B[0mright_index\u001B[0m\u001B[1;33m=\u001B[0m\u001B[1;32mTrue\u001B[0m\u001B[1;33m,\u001B[0m \u001B[0mhow\u001B[0m\u001B[1;33m=\u001B[0m\u001B[1;34m'left'\u001B[0m\u001B[1;33m)\u001B[0m\u001B[1;33m\u001B[0m\u001B[1;33m\u001B[0m\u001B[0m\n\u001B[0;32m   1534\u001B[0m         \u001B[0mself\u001B[0m\u001B[1;33m.\u001B[0m\u001B[0mre_df\u001B[0m\u001B[1;33m[\u001B[0m\u001B[1;34m'ms_axis'\u001B[0m\u001B[1;33m]\u001B[0m \u001B[1;33m=\u001B[0m \u001B[0mself\u001B[0m\u001B[1;33m.\u001B[0m\u001B[0mre_df\u001B[0m\u001B[1;33m[\u001B[0m\u001B[1;34m'Arena_TTL'\u001B[0m\u001B[1;33m]\u001B[0m \u001B[1;33m/\u001B[0m \u001B[1;33m(\u001B[0m\u001B[0mself\u001B[0m\u001B[1;33m.\u001B[0m\u001B[0msample_rate\u001B[0m \u001B[1;33m/\u001B[0m \u001B[1;36m1000\u001B[0m\u001B[1;33m)\u001B[0m\u001B[1;33m\u001B[0m\u001B[1;33m\u001B[0m\u001B[0m\n",
      "\u001B[1;31mAttributeError\u001B[0m: 'NoneType' object has no attribute 'merge'"
     ]
    }
   ],
   "execution_count": 6
  },
  {
   "cell_type": "code",
   "source": [
    "for block in block_collection:\n",
    "    block.get_jitter_reports(export=True, overwrite=False, remove_led_blinks=False, sort_on_loading=True)"
   ],
   "metadata": {
    "collapsed": false,
    "ExecuteTime": {
     "end_time": "2025-08-13T06:16:29.508208Z",
     "start_time": "2025-08-13T06:08:50.854363Z"
    }
   },
   "id": "6db8279c2cbac608",
   "outputs": [
    {
     "name": "stdout",
     "output_type": "stream",
     "text": [
      "jitter report loaded from analysis folder\n",
      "results saved to X:\\Nimrod\\experiments\\PV_143\\2025_08_25\\block_001\\analysis\\jitter_report_dict.pkl\n",
      "Got the jitter report - check out re/le_jitter_dict attributes\n",
      "jitter report loaded from analysis folder\n",
      "results saved to X:\\Nimrod\\experiments\\PV_143\\2025_08_25\\block_002\\analysis\\jitter_report_dict.pkl\n",
      "Got the jitter report - check out re/le_jitter_dict attributes\n",
      "jitter report loaded from analysis folder\n",
      "results saved to X:\\Nimrod\\experiments\\PV_143\\2025_08_25\\block_003\\analysis\\jitter_report_dict.pkl\n",
      "Got the jitter report - check out re/le_jitter_dict attributes\n"
     ]
    },
    {
     "name": "stderr",
     "output_type": "stream",
     "text": [
      "Computing Cross-Correlation:   0%|          | 193/74968 [00:00<04:06, 303.15frame/s]C:\\Users\\MarkS3\\PycharmProjects\\pythonProject3\\BlockSync_current.py:1858: RuntimeWarning: invalid value encountered in divide\n",
      "  out = out / np.sqrt(image * template)\n",
      "Computing Cross-Correlation: 100%|█████████▉| 74967/74968 [03:58<00:00, 314.32frame/s]\n",
      "Computing Cross-Correlation:  60%|██████    | 45012/75007 [02:00<01:21, 368.27frame/s]C:\\Users\\MarkS3\\PycharmProjects\\pythonProject3\\BlockSync_current.py:1858: RuntimeWarning: divide by zero encountered in divide\n",
      "  out = out / np.sqrt(image * template)\n",
      "Computing Cross-Correlation: 100%|█████████▉| 75006/75007 [03:21<00:00, 373.16frame/s]\n"
     ]
    },
    {
     "name": "stdout",
     "output_type": "stream",
     "text": [
      "results saved to X:\\Nimrod\\experiments\\PV_143\\2025_08_25\\block_004\\analysis\\jitter_report_dict.pkl\n",
      "Got the jitter report - check out re/le_jitter_dict attributes\n"
     ]
    }
   ],
   "execution_count": 5
  },
  {
   "cell_type": "code",
   "source": [
    "for block in block_collection:\n",
    "#    block.get_jitter_reports(export=True, overwrite=True, remove_led_blinks=False, sort_on_loading=True)\n",
    "    block.correct_jitter()\n",
    "    block.find_led_blink_frames(plot=True)\n",
    "    block.remove_led_blinks_from_eye_df(export=True)"
   ],
   "metadata": {
    "collapsed": false,
    "ExecuteTime": {
     "end_time": "2025-08-09T19:01:40.420598Z",
     "start_time": "2025-08-09T19:00:37.974880Z"
    }
   },
   "id": "78ca521af1225991",
   "outputs": [
    {
     "name": "stderr",
     "output_type": "stream",
     "text": [
      "  0%|          | 0/39 [00:00<?, ?it/s]"
     ]
    },
    {
     "name": "stdout",
     "output_type": "stream",
     "text": [
      "The right eye std of the X coord was 6.240561081217664\n",
      "After correction it is: 6.239175744389042\n",
      "The right eye std of the Y coord was 4.946127175969952\n",
      "After correction it is: 4.908154602925958\n",
      "\n",
      " The left eye std of the X coord was 12.063547164590005\n",
      "After correction it is: 12.473005899029635\n",
      "\n",
      " The left eye std of the Y coord was 5.954732188399744\n",
      "After correction it is: 6.468220872208222\n",
      "hi new version\n",
      "collecting left-eye data\n",
      "data length is 59074\n"
     ]
    },
    {
     "name": "stderr",
     "output_type": "stream",
     "text": [
      "100%|██████████| 39/39 [00:00<00:00, 3889.15it/s]\n"
     ]
    },
    {
     "name": "stdout",
     "output_type": "stream",
     "text": [
      "z_score length is 59074\n"
     ]
    },
    {
     "name": "stderr",
     "output_type": "stream",
     "text": [
      "100%|██████████| 39/39 [00:00<00:00, 3535.21it/s]"
     ]
    },
    {
     "name": "stdout",
     "output_type": "stream",
     "text": [
      "collecting right eye data\n",
      "data length is 59233\n",
      "z_score length is 59233\n"
     ]
    },
    {
     "name": "stderr",
     "output_type": "stream",
     "text": [
      "\n"
     ]
    },
    {
     "name": "stdout",
     "output_type": "stream",
     "text": [
      "removed led blink data from le / re dataframes\n",
      "exported nan filled dataframes to csv\n",
      "The right eye std of the X coord was 12.231620864160343\n",
      "After correction it is: 12.148622286686576\n",
      "The right eye std of the Y coord was 4.224784966504682\n",
      "After correction it is: 4.262783612405686\n"
     ]
    },
    {
     "name": "stderr",
     "output_type": "stream",
     "text": [
      "100%|██████████| 39/39 [00:00<00:00, 4334.22it/s]"
     ]
    },
    {
     "name": "stdout",
     "output_type": "stream",
     "text": [
      "\n",
      " The left eye std of the X coord was 10.481594442424171\n",
      "After correction it is: 10.477510900919846\n",
      "\n",
      " The left eye std of the Y coord was 5.0490358135994775\n",
      "After correction it is: 5.0490358135994775\n",
      "hi new version\n",
      "collecting left-eye data\n",
      "data length is 58843\n",
      "z_score length is 58843\n"
     ]
    },
    {
     "name": "stderr",
     "output_type": "stream",
     "text": [
      "\n",
      "100%|██████████| 39/39 [00:00<00:00, 3899.54it/s]"
     ]
    },
    {
     "name": "stdout",
     "output_type": "stream",
     "text": [
      "collecting right eye data\n",
      "data length is 59027\n",
      "z_score length is 59027\n"
     ]
    },
    {
     "name": "stderr",
     "output_type": "stream",
     "text": [
      "\n"
     ]
    },
    {
     "name": "stdout",
     "output_type": "stream",
     "text": [
      "removed led blink data from le / re dataframes\n",
      "exported nan filled dataframes to csv\n",
      "The right eye std of the X coord was 7.607322685338738\n",
      "After correction it is: 7.342471477825688\n",
      "The right eye std of the Y coord was 5.570734693497462\n",
      "After correction it is: 5.670718751197942\n"
     ]
    },
    {
     "name": "stderr",
     "output_type": "stream",
     "text": [
      "100%|██████████| 38/38 [00:00<00:00, 3799.82it/s]"
     ]
    },
    {
     "name": "stdout",
     "output_type": "stream",
     "text": [
      "\n",
      " The left eye std of the X coord was 11.110842597539484\n",
      "After correction it is: 11.198504430814992\n",
      "\n",
      " The left eye std of the Y coord was 5.49489090241731\n",
      "After correction it is: 5.509402357363878\n",
      "hi new version\n",
      "collecting left-eye data\n",
      "data length is 58278\n",
      "z_score length is 58278\n"
     ]
    },
    {
     "name": "stderr",
     "output_type": "stream",
     "text": [
      "\n",
      "100%|██████████| 38/38 [00:00<00:00, 4222.42it/s]"
     ]
    },
    {
     "name": "stdout",
     "output_type": "stream",
     "text": [
      "collecting right eye data\n",
      "data length is 58439\n",
      "z_score length is 58439\n"
     ]
    },
    {
     "name": "stderr",
     "output_type": "stream",
     "text": [
      "\n"
     ]
    },
    {
     "name": "stdout",
     "output_type": "stream",
     "text": [
      "removed led blink data from le / re dataframes\n",
      "exported nan filled dataframes to csv\n",
      "The right eye std of the X coord was 16.60054430623197\n",
      "After correction it is: 16.203701166491577\n",
      "The right eye std of the Y coord was 10.546158872803133\n",
      "After correction it is: 11.020098988947257\n"
     ]
    },
    {
     "name": "stderr",
     "output_type": "stream",
     "text": [
      "100%|██████████| 88/88 [00:00<00:00, 3516.10it/s]"
     ]
    },
    {
     "name": "stdout",
     "output_type": "stream",
     "text": [
      "\n",
      " The left eye std of the X coord was 14.805602813377984\n",
      "After correction it is: 14.719184383702562\n",
      "\n",
      " The left eye std of the Y coord was 7.375426390907353\n",
      "After correction it is: 7.681079738086703\n",
      "hi new version\n",
      "collecting left-eye data\n",
      "data length is 133269\n",
      "z_score length is 133269\n"
     ]
    },
    {
     "name": "stderr",
     "output_type": "stream",
     "text": [
      "\n",
      "100%|██████████| 88/88 [00:00<00:00, 3826.21it/s]"
     ]
    },
    {
     "name": "stdout",
     "output_type": "stream",
     "text": [
      "collecting right eye data\n",
      "data length is 133281\n",
      "z_score length is 133281\n"
     ]
    },
    {
     "name": "stderr",
     "output_type": "stream",
     "text": [
      "\n"
     ]
    },
    {
     "name": "stdout",
     "output_type": "stream",
     "text": [
      "removed led blink data from le / re dataframes\n",
      "exported nan filled dataframes to csv\n",
      "The right eye std of the X coord was 16.717590476835756\n",
      "After correction it is: 16.543472975136627\n",
      "The right eye std of the Y coord was 10.021391185382358\n",
      "After correction it is: 10.786943768354968\n"
     ]
    },
    {
     "name": "stderr",
     "output_type": "stream",
     "text": [
      "100%|██████████| 76/76 [00:00<00:00, 3454.72it/s]"
     ]
    },
    {
     "name": "stdout",
     "output_type": "stream",
     "text": [
      "\n",
      " The left eye std of the X coord was 13.860617721446262\n",
      "After correction it is: 13.911745326679181\n",
      "\n",
      " The left eye std of the Y coord was 7.965593747966773\n",
      "After correction it is: 8.410730034301146\n",
      "hi new version\n",
      "collecting left-eye data\n",
      "data length is 114914\n",
      "z_score length is 114914\n"
     ]
    },
    {
     "name": "stderr",
     "output_type": "stream",
     "text": [
      "\n",
      "100%|██████████| 76/76 [00:00<00:00, 3994.53it/s]"
     ]
    },
    {
     "name": "stdout",
     "output_type": "stream",
     "text": [
      "collecting right eye data\n",
      "data length is 115195\n",
      "z_score length is 115195\n"
     ]
    },
    {
     "name": "stderr",
     "output_type": "stream",
     "text": [
      "\n"
     ]
    },
    {
     "name": "stdout",
     "output_type": "stream",
     "text": [
      "removed led blink data from le / re dataframes\n"
     ]
    },
    {
     "name": "stderr",
     "output_type": "stream",
     "text": [
      "  0%|          | 0/39 [00:00<?, ?it/s]"
     ]
    },
    {
     "name": "stdout",
     "output_type": "stream",
     "text": [
      "exported nan filled dataframes to csv\n",
      "The right eye std of the X coord was 10.130871732182621\n",
      "After correction it is: 10.0978752708943\n",
      "The right eye std of the Y coord was 5.897053756032271\n",
      "After correction it is: 5.9274421103717305\n",
      "\n",
      " The left eye std of the X coord was 8.123256321352706\n",
      "After correction it is: 8.228639064029508\n",
      "\n",
      " The left eye std of the Y coord was 4.623665783807161\n",
      "After correction it is: 4.803331495978627\n",
      "hi new version\n",
      "collecting left-eye data\n",
      "data length is 58849\n"
     ]
    },
    {
     "name": "stderr",
     "output_type": "stream",
     "text": [
      "100%|██████████| 39/39 [00:00<00:00, 3889.99it/s]\n"
     ]
    },
    {
     "name": "stdout",
     "output_type": "stream",
     "text": [
      "z_score length is 58849\n"
     ]
    },
    {
     "name": "stderr",
     "output_type": "stream",
     "text": [
      "100%|██████████| 26/26 [00:00<00:00, 3714.05it/s]"
     ]
    },
    {
     "name": "stdout",
     "output_type": "stream",
     "text": [
      "collecting right eye data\n",
      "data length is 39299\n",
      "z_score length is 39299\n"
     ]
    },
    {
     "name": "stderr",
     "output_type": "stream",
     "text": [
      "\n"
     ]
    },
    {
     "name": "stdout",
     "output_type": "stream",
     "text": [
      "removed led blink data from le / re dataframes\n",
      "exported nan filled dataframes to csv\n"
     ]
    }
   ],
   "execution_count": 77
  },
  {
   "cell_type": "code",
   "source": [
    "block_dict.keys()"
   ],
   "metadata": {
    "collapsed": false,
    "ExecuteTime": {
     "end_time": "2025-08-09T19:04:13.983076Z",
     "start_time": "2025-08-09T19:04:13.972076Z"
    }
   },
   "id": "5e85c9464af77acb",
   "outputs": [
    {
     "data": {
      "text/plain": [
       "dict_keys(['008', '009', '010', '011', '012', '013'])"
      ]
     },
     "execution_count": 78,
     "metadata": {},
     "output_type": "execute_result"
    }
   ],
   "execution_count": 78
  },
  {
   "cell_type": "code",
   "source": "block=block_dict['013']",
   "metadata": {
    "collapsed": false,
    "ExecuteTime": {
     "end_time": "2025-08-09T19:18:00.678903Z",
     "start_time": "2025-08-09T19:18:00.665907Z"
    }
   },
   "id": "19ab5f7e9a222288",
   "outputs": [],
   "execution_count": 163
  },
  {
   "cell_type": "code",
   "source": [
    "df_inds_to_remove_l, vid_inds_l = find_jittery_frames(block,'left',max_distance=60, diff_threshold=5, gap_to_bridge=24)\n",
    "df_inds_to_remove_r, vid_inds_r = find_jittery_frames(block,'right',max_distance=60, diff_threshold=5, gap_to_bridge=24)\n",
    "\n",
    "# These are verification plots for the jitter outlier removal functions:\n",
    "# to verify, I want a bokeh explorable:\n",
    "rdf = pd.DataFrame.from_dict(block.re_jitter_dict)\n",
    "ldf = pd.DataFrame.from_dict(block.le_jitter_dict)"
   ],
   "metadata": {
    "collapsed": false,
    "ExecuteTime": {
     "end_time": "2025-08-09T19:18:01.727421Z",
     "start_time": "2025-08-09T19:18:01.502392Z"
    }
   },
   "id": "6a5a4a654a05a123",
   "outputs": [
    {
     "name": "stdout",
     "output_type": "stream",
     "text": [
      "the diff based jitter frame exclusion gives: (17,)\n",
      "the threshold based jitter frame exclusion gives: (0,)\n",
      "the diff based jitter frame exclusion gives: (21,)\n",
      "the threshold based jitter frame exclusion gives: (19,)\n"
     ]
    }
   ],
   "execution_count": 164
  },
  {
   "cell_type": "code",
   "source": [
    "bokeh_plotter([rdf.top_correlation_dist], ['drift_distance'], peaks=vid_inds_r)"
   ],
   "metadata": {
    "collapsed": false,
    "ExecuteTime": {
     "end_time": "2025-08-09T19:18:04.464708Z",
     "start_time": "2025-08-09T19:18:03.985206Z"
    }
   },
   "id": "11353e3307678ed9",
   "outputs": [],
   "execution_count": 165
  },
  {
   "cell_type": "code",
   "source": [
    "bokeh_plotter([ldf.top_correlation_dist], ['drift_distance'], peaks=vid_inds_l)"
   ],
   "metadata": {
    "collapsed": false,
    "ExecuteTime": {
     "end_time": "2025-08-09T19:18:04.803710Z",
     "start_time": "2025-08-09T19:18:04.471709Z"
    }
   },
   "id": "8f3ab8cfc5315274",
   "outputs": [],
   "execution_count": 166
  },
  {
   "cell_type": "code",
   "source": [
    "block.remove_eye_datapoints_based_on_video_frames('right', indices_to_nan=vid_inds_r)\n",
    "block.remove_eye_datapoints_based_on_video_frames('left', indices_to_nan=vid_inds_l)"
   ],
   "metadata": {
    "collapsed": false,
    "ExecuteTime": {
     "end_time": "2025-08-09T19:18:07.814940Z",
     "start_time": "2025-08-09T19:18:07.803939Z"
    }
   },
   "id": "8f20634ab2b7d684",
   "outputs": [
    {
     "name": "stdout",
     "output_type": "stream",
     "text": [
      "removed 61 from the right eye dataframe\n",
      "removed 17 from the left eye dataframe\n"
     ]
    }
   ],
   "execution_count": 167
  },
  {
   "cell_type": "markdown",
   "source": [
    "# Data rotation"
   ],
   "metadata": {
    "collapsed": false
   },
   "id": "dc4b57c620e01f87"
  },
  {
   "cell_type": "code",
   "source": [
    "block.rotate_data_according_to_frame_ref('left')"
   ],
   "metadata": {
    "collapsed": false,
    "ExecuteTime": {
     "end_time": "2025-08-09T19:18:21.424887Z",
     "start_time": "2025-08-09T19:18:11.810381Z"
    }
   },
   "id": "92286b8b4e9f6624",
   "outputs": [
    {
     "name": "stdout",
     "output_type": "stream",
     "text": [
      "Please select two points on the frame.\n",
      "left rotation matrix: \n",
      " [[  0.99937774  -0.03527216   8.66443931]\n",
      " [  0.03527216   0.99937774 -11.13774835]] \n",
      " left rotation angle: \n",
      " -2.021364940356016\n",
      "left data rotated\n"
     ]
    }
   ],
   "execution_count": 168
  },
  {
   "cell_type": "code",
   "source": [
    "block.rotate_data_according_to_frame_ref('right')"
   ],
   "metadata": {
    "collapsed": false,
    "ExecuteTime": {
     "end_time": "2025-08-09T19:18:33.406037Z",
     "start_time": "2025-08-09T19:18:23.396363Z"
    }
   },
   "id": "f1164ff6db7fa269",
   "outputs": [
    {
     "name": "stdout",
     "output_type": "stream",
     "text": [
      "Please select two points on the frame.\n",
      "right rotation matrix: \n",
      " [[  0.97978354   0.20006051 -41.54525705]\n",
      " [ -0.20006051   0.97978354  68.8713142 ]] \n",
      " right rotation angle: \n",
      " 11.540497746609342\n",
      "right data rotated\n"
     ]
    }
   ],
   "execution_count": 169
  },
  {
   "cell_type": "code",
   "source": [
    "block.create_eye_data()"
   ],
   "metadata": {
    "collapsed": false,
    "ExecuteTime": {
     "end_time": "2025-08-09T19:18:34.875523Z",
     "start_time": "2025-08-09T19:18:34.818530Z"
    }
   },
   "id": "7a57ec4048496c28",
   "outputs": [
    {
     "name": "stdout",
     "output_type": "stream",
     "text": [
      "Index(['Arena_TTL', 'R_eye_frame', 'ms_axis', 'center_x_rotated',\n",
      "       'center_y_rotated', 'phi_rotated', 'width', 'height', 'major_ax',\n",
      "       'minor_ax', 'ratio'],\n",
      "      dtype='object')\n",
      "   OE_timestamp  eye_frame   ms_axis  center_x  center_y  phi  width  height  \\\n",
      "0      881449.0        NaN  44072.45       NaN       NaN  NaN    NaN     NaN   \n",
      "1      881788.0        NaN  44089.40       NaN       NaN  NaN    NaN     NaN   \n",
      "2      882126.0        NaN  44106.30       NaN       NaN  NaN    NaN     NaN   \n",
      "3      882464.0        NaN  44123.20       NaN       NaN  NaN    NaN     NaN   \n",
      "4      882802.0        NaN  44140.10       NaN       NaN  NaN    NaN     NaN   \n",
      "\n",
      "   major_ax  minor_ax  ratio  \n",
      "0       NaN       NaN    NaN  \n",
      "1       NaN       NaN    NaN  \n",
      "2       NaN       NaN    NaN  \n",
      "3       NaN       NaN    NaN  \n",
      "4       NaN       NaN    NaN  \n",
      "Index(['Arena_TTL', 'L_eye_frame', 'ms_axis', 'center_x_rotated',\n",
      "       'center_y_rotated', 'phi_rotated', 'width', 'height', 'major_ax',\n",
      "       'minor_ax', 'ratio'],\n",
      "      dtype='object')\n",
      "   OE_timestamp  eye_frame   ms_axis  center_x  center_y  phi  width  height  \\\n",
      "0      881449.0        NaN  44072.45       NaN       NaN  NaN    NaN     NaN   \n",
      "1      881788.0        NaN  44089.40       NaN       NaN  NaN    NaN     NaN   \n",
      "2      882126.0        NaN  44106.30       NaN       NaN  NaN    NaN     NaN   \n",
      "3      882464.0        NaN  44123.20       NaN       NaN  NaN    NaN     NaN   \n",
      "4      882802.0        NaN  44140.10       NaN       NaN  NaN    NaN     NaN   \n",
      "\n",
      "   major_ax  minor_ax  ratio  \n",
      "0       NaN       NaN    NaN  \n",
      "1       NaN       NaN    NaN  \n",
      "2       NaN       NaN    NaN  \n",
      "3       NaN       NaN    NaN  \n",
      "4       NaN       NaN    NaN  \n",
      "successfully rotated the data reference horizon to tear-ducts, created left/right_eye_data\n"
     ]
    },
    {
     "name": "stderr",
     "output_type": "stream",
     "text": [
      "C:\\Users\\MarkS3\\PycharmProjects\\pythonProject3\\BlockSync_current.py:2810: RuntimeWarning: All-NaN axis encountered\n",
      "  df['major_ax'] = np.nanmax(df[['width', 'height']], axis=1)\n",
      "C:\\Users\\MarkS3\\PycharmProjects\\pythonProject3\\BlockSync_current.py:2811: RuntimeWarning: All-NaN axis encountered\n",
      "  df['minor_ax'] = np.nanmin(df[['width', 'height']], axis=1)\n"
     ]
    }
   ],
   "execution_count": 170
  },
  {
   "cell_type": "code",
   "outputs": [],
   "source": [
    "# This bit examine the ellipses to verify phi jump issues\n",
    "block.right_eye_data['phi'] = block.right_eye_data['phi'] + 90"
   ],
   "metadata": {
    "collapsed": false,
    "ExecuteTime": {
     "end_time": "2024-12-28T22:46:38.611515600Z",
     "start_time": "2024-12-28T22:46:38.557391800Z"
    }
   },
   "id": "a5de927402bb2460",
   "execution_count": 352
  },
  {
   "cell_type": "code",
   "outputs": [],
   "source": [
    "block.left_eye_data['phi'] = block.left_eye_data['phi'] + 90"
   ],
   "metadata": {
    "collapsed": false,
    "ExecuteTime": {
     "end_time": "2024-12-28T22:46:38.632827800Z",
     "start_time": "2024-12-28T22:46:38.583524300Z"
    }
   },
   "id": "4cce53ee47aad7af",
   "execution_count": 353
  },
  {
   "cell_type": "markdown",
   "source": [
    "# Rotation eye data Verification"
   ],
   "metadata": {
    "collapsed": false
   },
   "id": "c3a27ee6a22cb1a4"
  },
  {
   "cell_type": "code",
   "source": [
    "# right eye inspection after rotation\n",
    "#path_to_video = [x for x in pathlib.Path(block.re_videos[0]).parent.iterdir() if '.mp4' in str(x.name) and 'DLC' in str(x.name)][0]\n",
    "path_to_video = [x for x in pathlib.Path(block.re_videos[0]).parent.iterdir() if '.mp4' in str(x.name)][0]\n",
    "print(path_to_video)\n",
    "play_video_with_ellipses_rotation(block=block ,eye='right', path_to_video=str(path_to_video) ,xflip=True, transformation_matrix=block.right_rotation_matrix)"
   ],
   "metadata": {
    "collapsed": false,
    "ExecuteTime": {
     "end_time": "2025-08-09T19:18:43.245140Z",
     "start_time": "2025-08-09T19:18:38.346732Z"
    }
   },
   "id": "d79690728513967a",
   "outputs": [
    {
     "name": "stdout",
     "output_type": "stream",
     "text": [
      "X:\\Nimrod\\experiments\\PV_106\\2025_08_06\\block_013\\eye_videos\\RE\\pv_106_d3_t6\\pv_106_d3_t6.mp4\n"
     ]
    }
   ],
   "execution_count": 171
  },
  {
   "cell_type": "code",
   "source": [
    "# left eye inspection\n",
    "#path_to_video = [x for x in pathlib.Path(block.le_videos[0]).parent.iterdir() if '.mp4' in str(x.name) and 'DLC' in str(x.name)][0]\n",
    "path_to_video = [x for x in pathlib.Path(block.le_videos[0]).parent.iterdir() if '.mp4' in str(x.name)][0]\n",
    "play_video_with_ellipses_rotation(block=block,eye='left', path_to_video=str(path_to_video) ,xflip=True, transformation_matrix=block.left_rotation_matrix)"
   ],
   "metadata": {
    "collapsed": false,
    "ExecuteTime": {
     "end_time": "2025-08-09T19:18:46.596147Z",
     "start_time": "2025-08-09T19:18:43.820221Z"
    }
   },
   "id": "e9720489c49c31e1",
   "outputs": [],
   "execution_count": 172
  },
  {
   "cell_type": "markdown",
   "source": [
    "# Eye videos relative lag correction"
   ],
   "metadata": {
    "collapsed": false
   },
   "id": "fa67aa5b943dd2d2"
  },
  {
   "cell_type": "code",
   "source": [
    "# block integrated version:\n",
    "block.find_led_blink_frames()\n",
    "l_df, r_df = block.correct_relative_eye_drift_based_on_LED_lights_out(verification_plots=False)\n",
    "block.left_eye_data = l_df\n",
    "block.right_eye_data = r_df"
   ],
   "metadata": {
    "collapsed": false,
    "ExecuteTime": {
     "end_time": "2025-08-09T19:18:51.815603Z",
     "start_time": "2025-08-09T19:18:47.967602Z"
    }
   },
   "id": "a5dbac7bcb642aa3",
   "outputs": [
    {
     "name": "stderr",
     "output_type": "stream",
     "text": [
      "100%|██████████| 39/39 [00:00<00:00, 3544.94it/s]\n",
      "100%|██████████| 26/26 [00:00<00:00, 4333.30it/s]"
     ]
    },
    {
     "name": "stdout",
     "output_type": "stream",
     "text": [
      "hi new version\n",
      "collecting left-eye data\n",
      "data length is 58849\n",
      "z_score length is 58849\n",
      "collecting right eye data\n",
      "data length is 39299\n",
      "z_score length is 39299\n",
      "hi new version\n",
      "missing frame at 1\n",
      "37217 37217\n",
      "3\n",
      "0\n",
      "0 S\n",
      "1 S\n",
      "2 S\n",
      "3 R\n",
      "4 S\n",
      "5 S\n",
      "6 S\n",
      "7 S\n",
      "8 R\n",
      "9 R\n"
     ]
    },
    {
     "name": "stderr",
     "output_type": "stream",
     "text": [
      "\n",
      "C:\\Users\\MarkS3\\PycharmProjects\\pythonProject3\\BlockSync_current.py:2552: SettingWithCopyWarning: \n",
      "A value is trying to be set on a copy of a slice from a DataFrame\n",
      "\n",
      "See the caveats in the documentation: https://pandas.pydata.org/pandas-docs/stable/user_guide/indexing.html#returning-a-view-versus-a-copy\n",
      "  df['ms_axis'].iloc[ind_to_remove:] = original_ms_axis[:-1]\n",
      "C:\\Users\\MarkS3\\PycharmProjects\\pythonProject3\\BlockSync_current.py:2554: SettingWithCopyWarning: \n",
      "A value is trying to be set on a copy of a slice from a DataFrame\n",
      "\n",
      "See the caveats in the documentation: https://pandas.pydata.org/pandas-docs/stable/user_guide/indexing.html#returning-a-view-versus-a-copy\n",
      "  df['OE_timestamp'].iloc[ind_to_remove:] = original_oe_axis[:-1]\n"
     ]
    }
   ],
   "execution_count": 173
  },
  {
   "metadata": {
    "ExecuteTime": {
     "end_time": "2025-08-09T19:18:51.861603Z",
     "start_time": "2025-08-09T19:18:51.848603Z"
    }
   },
   "cell_type": "code",
   "source": "blink_frame_ms = block.oe_events.LED_driver.dropna()",
   "id": "8b44e232b3dfbff",
   "outputs": [],
   "execution_count": 174
  },
  {
   "cell_type": "code",
   "source": [
    "l_df, r_df = block.correct_eye_sync_based_on_OE_LED_events()"
   ],
   "metadata": {
    "collapsed": false,
    "ExecuteTime": {
     "end_time": "2025-08-09T19:18:53.062728Z",
     "start_time": "2025-08-09T19:18:53.006730Z"
    }
   },
   "id": "a982500494089ee6",
   "outputs": [
    {
     "name": "stdout",
     "output_type": "stream",
     "text": [
      "hi\n",
      "missing frame at 1\n",
      "The correction employed was 6.0, \n",
      "check the output and overwirte the left/right eye data dfs when happy, then re-export\n"
     ]
    }
   ],
   "execution_count": 175
  },
  {
   "cell_type": "code",
   "source": [
    "#finalize here, then export\n",
    "block.left_eye_data = l_df\n",
    "block.right_eye_data = r_df"
   ],
   "metadata": {
    "collapsed": false,
    "ExecuteTime": {
     "end_time": "2025-08-09T19:18:55.098857Z",
     "start_time": "2025-08-09T19:18:55.086857Z"
    }
   },
   "id": "722552b60cd511dc",
   "outputs": [],
   "execution_count": 176
  },
  {
   "cell_type": "markdown",
   "source": [
    "# End of Synchronization Pipeline"
   ],
   "metadata": {
    "collapsed": false
   },
   "id": "906cceb8f6c47b4b"
  },
  {
   "cell_type": "markdown",
   "source": [
    "# Data export steps:"
   ],
   "metadata": {
    "collapsed": false
   },
   "id": "2e68d89b4efe7289"
  },
  {
   "cell_type": "code",
   "source": [
    "def export_eye_data_2d_w_rotation_matrix(block):\n",
    "    \"\"\"\n",
    "    This function saves the eye dataframes to two csv files\n",
    "    :param block: The current blocksync class with verifiec re/le dfs\n",
    "    :return: None\n",
    "    \"\"\"\n",
    "    block.right_eye_data.to_csv(block.analysis_path / 'right_eye_data.csv')\n",
    "    block.left_eye_data.to_csv(block.analysis_path / 'left_eye_data.csv')\n",
    "    rotation_dict = {'left_rotation_matrix': block.left_rotation_matrix,\n",
    "                'left_rotation_angle':  block.left_rotation_angle,\n",
    "                'right_rotation_matrix':block.right_rotation_matrix,\n",
    "                'right_rotation_angle': block.right_rotation_angle}\n",
    "    with open(block.analysis_path / 'rotate_eye_data_params.pkl', 'wb') as file:\n",
    "        pickle.dump(rotation_dict, file)\n",
    "        print(f'eye dataframes and rotation matrix saved to: {file}')\n",
    "        \n",
    "export_eye_data_2d_w_rotation_matrix(block)"
   ],
   "metadata": {
    "collapsed": false,
    "ExecuteTime": {
     "end_time": "2025-08-09T19:18:58.510861Z",
     "start_time": "2025-08-09T19:18:56.430223Z"
    }
   },
   "id": "c527e159d544437a",
   "outputs": [
    {
     "name": "stdout",
     "output_type": "stream",
     "text": [
      "eye dataframes and rotation matrix saved to: <_io.BufferedWriter name='X:\\\\Nimrod\\\\experiments\\\\PV_106\\\\2025_08_06\\\\block_013\\\\analysis\\\\rotate_eye_data_params.pkl'>\n"
     ]
    }
   ],
   "execution_count": 177
  },
  {
   "cell_type": "code",
   "source": [
    "block.final_sync_df"
   ],
   "metadata": {
    "collapsed": false,
    "ExecuteTime": {
     "end_time": "2025-08-26T15:30:21.977940Z",
     "start_time": "2025-08-26T15:30:21.962253Z"
    }
   },
   "id": "798b493f461429ea",
   "outputs": [],
   "execution_count": 7
  },
  {
   "cell_type": "markdown",
   "source": [
    "# Manual Synchronization steps - only use when needed and after block instantiation"
   ],
   "metadata": {
    "collapsed": false
   },
   "id": "2fe8c022a31e2581"
  },
  {
   "cell_type": "code",
   "source": "block_dict.keys()",
   "metadata": {
    "collapsed": false,
    "ExecuteTime": {
     "end_time": "2025-08-13T16:06:33.291775Z",
     "start_time": "2025-08-13T16:06:33.276264Z"
    }
   },
   "id": "9cc787410750ea3b",
   "outputs": [
    {
     "data": {
      "text/plain": [
       "dict_keys(['001', '002', '003', '004'])"
      ]
     },
     "execution_count": 23,
     "metadata": {},
     "output_type": "execute_result"
    }
   ],
   "execution_count": 23
  },
  {
   "cell_type": "code",
   "source": "block = block_dict['001']",
   "metadata": {
    "collapsed": false,
    "ExecuteTime": {
     "end_time": "2025-08-13T16:06:33.791887Z",
     "start_time": "2025-08-13T16:06:33.776148Z"
    }
   },
   "id": "bdcd2a518321f5f3",
   "outputs": [],
   "execution_count": 24
  },
  {
   "metadata": {
    "ExecuteTime": {
     "end_time": "2025-08-13T16:06:35.245017Z",
     "start_time": "2025-08-13T16:06:35.026184Z"
    }
   },
   "cell_type": "code",
   "source": "plt.plot(pd.Series(data=np.array(block.le_frame_val_list)))",
   "id": "37c03c5a683b56c8",
   "outputs": [
    {
     "data": {
      "text/plain": [
       "[<matplotlib.lines.Line2D at 0x18862b3d670>]"
      ]
     },
     "execution_count": 25,
     "metadata": {},
     "output_type": "execute_result"
    },
    {
     "data": {
      "text/plain": [
       "<Figure size 432x288 with 1 Axes>"
      ],
      "image/png": "[encoded data removed]"
     },
     "metadata": {
      "needs_background": "light"
     },
     "output_type": "display_data"
    }
   ],
   "execution_count": 25
  },
  {
   "metadata": {
    "ExecuteTime": {
     "end_time": "2025-08-13T16:06:36.101347Z",
     "start_time": "2025-08-13T16:06:35.901278Z"
    }
   },
   "cell_type": "code",
   "source": "plt.plot(block.eye_brightness_df.L_values)",
   "id": "c627517d7b8023c2",
   "outputs": [
    {
     "data": {
      "text/plain": [
       "[<matplotlib.lines.Line2D at 0x18862438e20>]"
      ]
     },
     "execution_count": 26,
     "metadata": {},
     "output_type": "execute_result"
    },
    {
     "data": {
      "text/plain": [
       "<Figure size 432x288 with 1 Axes>"
      ],
      "image/png": "[encoded data removed]"
     },
     "metadata": {
      "needs_background": "light"
     },
     "output_type": "display_data"
    }
   ],
   "execution_count": 26
  },
  {
   "cell_type": "code",
   "source": [
    "block.get_eyes_diff_list(2)"
   ],
   "metadata": {
    "collapsed": false,
    "ExecuteTime": {
     "end_time": "2025-08-13T16:06:37.619858Z",
     "start_time": "2025-08-13T16:06:37.604236Z"
    }
   },
   "id": "96e6a638ce6b278a",
   "outputs": [
    {
     "name": "stdout",
     "output_type": "stream",
     "text": [
      "index error on position 61 out of 62\n",
      "index error on position 49 out of 50\n",
      "The suspected lag between eye cameras is 68.0 with the direction ['left', 'late']\n"
     ]
    }
   ],
   "execution_count": 27
  },
  {
   "cell_type": "code",
   "source": [
    "block.fix_eye_synchronization()"
   ],
   "metadata": {
    "collapsed": false,
    "ExecuteTime": {
     "end_time": "2025-08-13T16:08:05.776154Z",
     "start_time": "2025-08-13T16:08:05.760613Z"
    }
   },
   "id": "41926d1e9a8563b7",
   "outputs": [
    {
     "name": "stdout",
     "output_type": "stream",
     "text": [
      "created manual_sync_df attribute for the block\n"
     ]
    }
   ],
   "execution_count": 29
  },
  {
   "metadata": {
    "ExecuteTime": {
     "end_time": "2025-08-13T16:08:07.823022Z",
     "start_time": "2025-08-13T16:08:06.620227Z"
    }
   },
   "cell_type": "code",
   "source": "full_sync_verification(block)\n",
   "id": "d666a383f4fa81c4",
   "outputs": [],
   "execution_count": 30
  },
  {
   "metadata": {
    "ExecuteTime": {
     "end_time": "2025-08-13T16:34:00.658643Z",
     "start_time": "2025-08-13T16:34:00.647643Z"
    }
   },
   "cell_type": "code",
   "source": "print(block.final_sync_df.head())",
   "id": "ee984321ab741f21",
   "outputs": [
    {
     "name": "stdout",
     "output_type": "stream",
     "text": [
      "   Arena_TTL  Arena_frame  L_eye_frame  R_eye_frame  L_values  R_values\n",
      "0   525019.0        534.0         72.0          8.0  0.573617  0.172625\n",
      "1   525357.0        535.0         73.0          9.0  0.532124  0.172625\n",
      "2   525695.0        536.0         74.0         10.0  0.545264  0.188799\n",
      "3   526033.0        537.0         75.0         11.0  0.572926  0.162516\n",
      "4   526372.0        538.0         76.0         12.0  0.542498  0.177073\n"
     ]
    }
   ],
   "execution_count": 34
  },
  {
   "metadata": {
    "ExecuteTime": {
     "end_time": "2025-08-09T17:09:00.349616Z",
     "start_time": "2025-08-09T17:09:00.322104Z"
    }
   },
   "cell_type": "code",
   "source": "block.manual_sync_df",
   "id": "a82f6911eb8f3b5c",
   "outputs": [
    {
     "data": {
      "text/plain": [
       "           Arena_frame L_eye_frame R_eye_frame  L_values  R_values\n",
       "Arena_TTL                                                         \n",
       "840447.0           407         NaN          85       NaN  0.215534\n",
       "840786.0           408         NaN          86       NaN  0.145452\n",
       "841124.0           409         NaN          87       NaN  0.167931\n",
       "841462.0           410         NaN          88       NaN  0.156030\n",
       "841800.0           411         NaN          89       NaN  0.116361\n",
       "...                ...         ...         ...       ...       ...\n",
       "19800028.0       56452       58996         NaN -0.416388       NaN\n",
       "19800366.0       56453       58997         NaN -0.417114       NaN\n",
       "19800704.0       56454       58998         NaN -0.417477       NaN\n",
       "19801042.0       56455       58999         NaN -0.417477       NaN\n",
       "19801380.0       56456       59000         NaN -0.415662       NaN\n",
       "\n",
       "[56050 rows x 5 columns]"
      ],
      "text/html": [
       "<div>\n",
       "<style scoped>\n",
       "    .dataframe tbody tr th:only-of-type {\n",
       "        vertical-align: middle;\n",
       "    }\n",
       "\n",
       "    .dataframe tbody tr th {\n",
       "        vertical-align: top;\n",
       "    }\n",
       "\n",
       "    .dataframe thead th {\n",
       "        text-align: right;\n",
       "    }\n",
       "</style>\n",
       "<table border=\"1\" class=\"dataframe\">\n",
       "  <thead>\n",
       "    <tr style=\"text-align: right;\">\n",
       "      <th></th>\n",
       "      <th>Arena_frame</th>\n",
       "      <th>L_eye_frame</th>\n",
       "      <th>R_eye_frame</th>\n",
       "      <th>L_values</th>\n",
       "      <th>R_values</th>\n",
       "    </tr>\n",
       "    <tr>\n",
       "      <th>Arena_TTL</th>\n",
       "      <th></th>\n",
       "      <th></th>\n",
       "      <th></th>\n",
       "      <th></th>\n",
       "      <th></th>\n",
       "    </tr>\n",
       "  </thead>\n",
       "  <tbody>\n",
       "    <tr>\n",
       "      <th>840447.0</th>\n",
       "      <td>407</td>\n",
       "      <td>NaN</td>\n",
       "      <td>85</td>\n",
       "      <td>NaN</td>\n",
       "      <td>0.215534</td>\n",
       "    </tr>\n",
       "    <tr>\n",
       "      <th>840786.0</th>\n",
       "      <td>408</td>\n",
       "      <td>NaN</td>\n",
       "      <td>86</td>\n",
       "      <td>NaN</td>\n",
       "      <td>0.145452</td>\n",
       "    </tr>\n",
       "    <tr>\n",
       "      <th>841124.0</th>\n",
       "      <td>409</td>\n",
       "      <td>NaN</td>\n",
       "      <td>87</td>\n",
       "      <td>NaN</td>\n",
       "      <td>0.167931</td>\n",
       "    </tr>\n",
       "    <tr>\n",
       "      <th>841462.0</th>\n",
       "      <td>410</td>\n",
       "      <td>NaN</td>\n",
       "      <td>88</td>\n",
       "      <td>NaN</td>\n",
       "      <td>0.156030</td>\n",
       "    </tr>\n",
       "    <tr>\n",
       "      <th>841800.0</th>\n",
       "      <td>411</td>\n",
       "      <td>NaN</td>\n",
       "      <td>89</td>\n",
       "      <td>NaN</td>\n",
       "      <td>0.116361</td>\n",
       "    </tr>\n",
       "    <tr>\n",
       "      <th>...</th>\n",
       "      <td>...</td>\n",
       "      <td>...</td>\n",
       "      <td>...</td>\n",
       "      <td>...</td>\n",
       "      <td>...</td>\n",
       "    </tr>\n",
       "    <tr>\n",
       "      <th>19800028.0</th>\n",
       "      <td>56452</td>\n",
       "      <td>58996</td>\n",
       "      <td>NaN</td>\n",
       "      <td>-0.416388</td>\n",
       "      <td>NaN</td>\n",
       "    </tr>\n",
       "    <tr>\n",
       "      <th>19800366.0</th>\n",
       "      <td>56453</td>\n",
       "      <td>58997</td>\n",
       "      <td>NaN</td>\n",
       "      <td>-0.417114</td>\n",
       "      <td>NaN</td>\n",
       "    </tr>\n",
       "    <tr>\n",
       "      <th>19800704.0</th>\n",
       "      <td>56454</td>\n",
       "      <td>58998</td>\n",
       "      <td>NaN</td>\n",
       "      <td>-0.417477</td>\n",
       "      <td>NaN</td>\n",
       "    </tr>\n",
       "    <tr>\n",
       "      <th>19801042.0</th>\n",
       "      <td>56455</td>\n",
       "      <td>58999</td>\n",
       "      <td>NaN</td>\n",
       "      <td>-0.417477</td>\n",
       "      <td>NaN</td>\n",
       "    </tr>\n",
       "    <tr>\n",
       "      <th>19801380.0</th>\n",
       "      <td>56456</td>\n",
       "      <td>59000</td>\n",
       "      <td>NaN</td>\n",
       "      <td>-0.415662</td>\n",
       "      <td>NaN</td>\n",
       "    </tr>\n",
       "  </tbody>\n",
       "</table>\n",
       "<p>56050 rows × 5 columns</p>\n",
       "</div>"
      ]
     },
     "execution_count": 25,
     "metadata": {},
     "output_type": "execute_result"
    }
   ],
   "execution_count": 25
  },
  {
   "cell_type": "code",
   "source": [
    "# use this to manually shift L\\R eye synchronization\n",
    "eye_to_move = 'R'\n",
    "block.move_eye_sync_manual(cols_to_move=[f'{eye_to_move}_eye_frame',f'{eye_to_move}_values'],step=+8)"
   ],
   "metadata": {
    "collapsed": false,
    "ExecuteTime": {
     "end_time": "2025-08-09T17:17:48.743588Z",
     "start_time": "2025-08-09T17:17:48.730587Z"
    }
   },
   "id": "612bae28bc9a5278",
   "outputs": [],
   "execution_count": 72
  },
  {
   "cell_type": "code",
   "source": [
    "block.full_sync_verification(ms_axis=False,with_arena=False)"
   ],
   "metadata": {
    "collapsed": false,
    "ExecuteTime": {
     "end_time": "2025-08-09T17:17:50.339015Z",
     "start_time": "2025-08-09T17:17:49.456014Z"
    }
   },
   "id": "dfa027bfac3d1e4a",
   "outputs": [],
   "execution_count": 73
  },
  {
   "cell_type": "code",
   "source": [
    "block.export_manual_sync_df()\n",
    "block.import_manual_sync_df()"
   ],
   "metadata": {
    "collapsed": false,
    "ExecuteTime": {
     "end_time": "2025-08-13T16:33:13.948551Z",
     "start_time": "2025-08-13T16:33:13.067409Z"
    }
   },
   "id": "f1aa0fea4b85630f",
   "outputs": [],
   "execution_count": 32
  },
  {
   "metadata": {
    "ExecuteTime": {
     "end_time": "2025-08-26T15:30:40.179728Z",
     "start_time": "2025-08-26T15:30:40.167729Z"
    }
   },
   "cell_type": "code",
   "source": "block.import_manual_sync_df()",
   "id": "5bd2fa2738e1d6e8",
   "outputs": [
    {
     "name": "stdout",
     "output_type": "stream",
     "text": [
      "there is no manual sync file for block 001, manually sync the block\n"
     ]
    }
   ],
   "execution_count": 8
  },
  {
   "cell_type": "code",
   "source": [
    "def full_sync_verification(self):\n",
    "    from bokeh.plotting import figure, show, curdoc\n",
    "    from bokeh.models import Slider, ColumnDataSource, CustomJS\n",
    "    from bokeh.layouts import column\n",
    "    import numpy as np\n",
    "    data_dict = {\n",
    "    'L_values': [None if np.isnan(x) or np.isinf(x) else x for x in\n",
    "    self.manual_sync_df['L_values']],\n",
    "    'R_values': [None if np.isnan(x) or np.isinf(x) else x for x in\n",
    "    self.manual_sync_df['R_values']]\n",
    "    }\n",
    "    source = ColumnDataSource(data=dict(\n",
    "    x_axis=self.manual_sync_df.index / self.sample_rate,\n",
    "    left_y=[None if np.isnan(x) or np.isinf(x) else x for x in\n",
    "    self.manual_sync_df['L_values'].shift(0)],\n",
    "    right_y=[None if np.isnan(x) or np.isinf(x) else x for x in\n",
    "    self.manual_sync_df['R_values'].shift(0)]\n",
    "    ))\n",
    "    bokeh_fig = figure(\n",
    "    title=f'Full Synchronization Verification',\n",
    "    x_axis_label='Seconds',\n",
    "    y_axis_label='Brightness Z_Score',\n",
    "    plot_width=1500,\n",
    "    plot_height=700\n",
    "    )\n",
    "    left_line = bokeh_fig.line('x_axis', 'left_y', source=source,\n",
    "    legend_label='Left_eye_values', line_width=1,\n",
    "    line_color='blue')\n",
    "    right_line = bokeh_fig.line('x_axis', 'right_y', source=source,\n",
    "    legend_label='Right_eye_values', line_width=1,\n",
    "    line_color='red')\n",
    "    slider_left = Slider(start=-200, end=200, value=0, step=1, title=\"Left Eye Shift\")\n",
    "    slider_right = Slider(start=-200, end=200, value=0, step=1, title=\"Right Eye Shift\")\n",
    "    callback = CustomJS(args=dict(source=source, slider_left=slider_left,\n",
    "    slider_right=slider_right, data_dict=data_dict),\n",
    "    code=\"\"\"\n",
    "    const plot_data = source.data;\n",
    "    const left_shift = slider_left.value;\n",
    "    const right_shift = slider_right.value;\n",
    "    const left_values = data_dict['L_values'];\n",
    "    const right_values = data_dict['R_values'];\n",
    "    const length = plot_data['x_axis'].length;\n",
    "    for (let i = 0; i < length; i++) {\n",
    "    plot_data['left_y'][i] = (i + left_shift >= 0 && i +\n",
    "    left_shift < length) ? left_values[i + left_shift] : null;\n",
    "    plot_data['right_y'][i] = (i + right_shift >= 0 && i +\n",
    "    right_shift < length) ? right_values[i + right_shift] : null;\n",
    "    }\n",
    "    console.log(\"Left shift: \", left_shift, \"Right shift: \",\n",
    "    right_shift); // Debug output\n",
    "    source.change.emit();\n",
    "    \"\"\")\n",
    "    slider_left.js_on_change('value', callback)\n",
    "    slider_right.js_on_change('value', callback)\n",
    "    layout = column(bokeh_fig, slider_left, slider_right)\n",
    "    curdoc().add_root(layout)\n",
    "    show(layout)\n"
   ],
   "metadata": {
    "collapsed": false,
    "ExecuteTime": {
     "end_time": "2025-08-13T15:06:26.088810Z",
     "start_time": "2025-08-13T15:06:26.046611Z"
    }
   },
   "id": "5ab839e1eebe4170",
   "outputs": [],
   "execution_count": 15
  },
  {
   "metadata": {},
   "cell_type": "markdown",
   "source": "# This section deals with correcting the arena videos and eye videos relative to the LED driver events",
   "id": "773175e9fdb30463"
  },
  {
   "metadata": {
    "ExecuteTime": {
     "end_time": "2025-06-12T13:03:46.162865Z",
     "start_time": "2025-06-12T13:03:45.217979Z"
    }
   },
   "cell_type": "code",
   "source": [
    "# 1. Prep DataFrame and clean up infinite values\n",
    "import pandas as pd\n",
    "import numpy as np\n",
    "from bokeh.plotting import figure, show\n",
    "from bokeh.models import ColumnDataSource\n",
    "\n",
    "df = block.final_sync_df.copy()\n",
    "\n",
    "# Ensure Arena_TTL is a column\n",
    "if 'Arena_TTL' not in df.columns:\n",
    "    df = df.reset_index().rename(columns={'index':'Arena_TTL'})\n",
    "\n",
    "# Clean NaN/inf in brightness\n",
    "L = df['L_values'].replace([np.inf, -np.inf], np.nan)\n",
    "R = df['R_values'].replace([np.inf, -np.inf], np.nan)\n",
    "\n",
    "# 2. Get the LED-driver event sample numbers\n",
    "led_samples = (\n",
    "    block.oe_events['LED_driver']\n",
    "         .dropna()\n",
    "         .astype(int)\n",
    "         .unique()\n",
    ")\n",
    "\n",
    "# 3. Build a ColumnDataSource\n",
    "source = ColumnDataSource(dict(\n",
    "    x = df['Arena_TTL'].values,\n",
    "    L = [None if np.isnan(v) else v for v in L],\n",
    "    R = [None if np.isnan(v) else v for v in R],\n",
    "))\n",
    "\n",
    "# 4. Create the Bokeh figure\n",
    "p = figure(\n",
    "    title='Sync Verification (Arena_TTL) with LED Events',\n",
    "    x_axis_label='Arena_TTL (OE sample #)',\n",
    "    y_axis_label='Brightness Z-score',\n",
    "    plot_width=1200, plot_height=500,\n",
    "    tools='pan,wheel_zoom,box_zoom,reset,save'\n",
    ")\n",
    "\n",
    "# 5. Plot left/right brightness\n",
    "p.line('x', 'L', source=source, legend_label='L_eye', line_color='blue',  line_width=1)\n",
    "p.line('x', 'R', source=source, legend_label='R_eye', line_color='red',   line_width=1)\n",
    "\n",
    "# 6. Draw vertical segments at each LED event from y=-10 to y=+10\n",
    "for sample in led_samples:\n",
    "    if sample >= df['Arena_TTL'].min() and sample <= df['Arena_TTL'].max():\n",
    "        p.segment(x0=sample, y0=-10, x1=sample, y1=10,\n",
    "                  line_color='green', line_dash='dashed', line_width=1)\n",
    "\n",
    "p.legend.location = 'top_left'\n",
    "show(p)\n"
   ],
   "id": "5d8398f751d37111",
   "outputs": [],
   "execution_count": 9
  },
  {
   "metadata": {
    "ExecuteTime": {
     "end_time": "2025-06-12T13:28:47.284118Z",
     "start_time": "2025-06-12T13:25:13.118419Z"
    }
   },
   "cell_type": "code",
   "source": [
    "# over here, I use Tali's DLC annotations to get brightness values around the animal's head:\n",
    "# (These can be used by looking at diff values to determine LED blinking ground-truth)\n",
    "# compute brightness in a head‐ROI based on DeepLabCut annotations\n",
    "import cv2\n",
    "import pandas as pd\n",
    "import numpy as np\n",
    "from tqdm import tqdm\n",
    "\n",
    "def compute_head_roi_brightness(\n",
    "    video_path: str,\n",
    "    annotations_csv: str,\n",
    "    bodyparts: tuple = ('nose', 'left_ear', 'right_ear'),\n",
    "    padding: int = 10\n",
    ") -> pd.DataFrame:\n",
    "    \"\"\"\n",
    "    For each frame in `video_path`, build a tight ROI around the specified\n",
    "    bodyparts (according to the Deeplabcut CSV), compute the mean grayscale\n",
    "    brightness in that ROI, and return a DataFrame of frame‐index → brightness.\n",
    "\n",
    "    Assumes the CSV has a 3-row header (scorer / bodyparts / coords) and\n",
    "    that the first column is already the zero-based frame index.\n",
    "    \"\"\"\n",
    "    # --- 1. load annotations with the first column as the frame-index ---\n",
    "    df_anno = pd.read_csv(\n",
    "        annotations_csv,\n",
    "        header=[0, 1, 2],\n",
    "        index_col=0\n",
    "    )\n",
    "    # grab the actual scorer name from level 0 of the MultiIndex\n",
    "    scorer = df_anno.columns.levels[0][0]\n",
    "\n",
    "    # --- 2. open video capture ---\n",
    "    cap = cv2.VideoCapture(video_path)\n",
    "    if not cap.isOpened():\n",
    "        raise IOError(f\"Cannot open video: {video_path}\")\n",
    "\n",
    "    results = []\n",
    "    # use the annotation index (frame numbers) for iteration\n",
    "    for frame_idx, row in tqdm(df_anno.iterrows(), total=len(df_anno), desc=\"Frames\"):\n",
    "        ret, frame = cap.read()\n",
    "        if not ret:\n",
    "            break\n",
    "\n",
    "        # extract keypoint coords for this frame\n",
    "        xs = [row[(scorer, bp, 'x')] for bp in bodyparts]\n",
    "        ys = [row[(scorer, bp, 'y')] for bp in bodyparts]\n",
    "\n",
    "        # compute bounding box + padding, clipped to image\n",
    "        h, w = frame.shape[:2]\n",
    "        x_min = max(int(min(xs) - padding), 0)\n",
    "        x_max = min(int(max(xs) + padding), w - 1)\n",
    "        y_min = max(int(min(ys) - padding), 0)\n",
    "        y_max = min(int(max(ys) + padding), h - 1)\n",
    "\n",
    "        # extract ROI and compute mean brightness\n",
    "        roi = frame[y_min:y_max, x_min:x_max]\n",
    "        gray = cv2.cvtColor(roi, cv2.COLOR_BGR2GRAY)\n",
    "        mean_brightness = float(np.mean(gray))\n",
    "\n",
    "        results.append({\n",
    "            'frame': frame_idx,\n",
    "            'brightness': mean_brightness\n",
    "        })\n",
    "\n",
    "    cap.release()\n",
    "    return pd.DataFrame(results)\n",
    "\n",
    "\n",
    "# Example usage:\n",
    "head_brightness_df = compute_head_roi_brightness(\n",
    "    'Z:/Nimrod/experiments/PV_57/2024_11_25/block_007/arena_videos/videos/top_20241125T152924.mp4',\n",
    "    r'Z:/Nimrod/experiments/PV_57/2024_11_25/block_007/arena_videos/videos/top_20241125T152924DLC_Resnet50_headApr3shuffle2_snapshot_120.csv',\n",
    "    bodyparts=('nose','left_ear','right_ear'),\n",
    "    padding=1)\n",
    "#head_brightness_df.head()\n",
    "\n"
   ],
   "id": "7337fa22903a2d7",
   "outputs": [
    {
     "name": "stderr",
     "output_type": "stream",
     "text": [
      "Frames: 100%|██████████| 52494/52494 [03:32<00:00, 247.09it/s]\n"
     ]
    }
   ],
   "execution_count": 8
  },
  {
   "metadata": {
    "ExecuteTime": {
     "end_time": "2025-06-12T13:06:28.965295Z",
     "start_time": "2025-06-12T13:06:28.953296Z"
    }
   },
   "cell_type": "code",
   "source": "block.arena_videos",
   "id": "2696b5b598fd0f46",
   "outputs": [
    {
     "data": {
      "text/plain": [
       "[WindowsPath('Z:/Nimrod/experiments/PV_57/2024_11_25/block_007/arena_videos/videos/front_20241125T152924.mp4'),\n",
       " WindowsPath('Z:/Nimrod/experiments/PV_57/2024_11_25/block_007/arena_videos/videos/left_20241125T152924.mp4'),\n",
       " WindowsPath('Z:/Nimrod/experiments/PV_57/2024_11_25/block_007/arena_videos/videos/right_20241125T152924.mp4'),\n",
       " WindowsPath('Z:/Nimrod/experiments/PV_57/2024_11_25/block_007/arena_videos/videos/top_20241125T152924.mp4')]"
      ]
     },
     "execution_count": 12,
     "metadata": {},
     "output_type": "execute_result"
    }
   ],
   "execution_count": 12
  },
  {
   "metadata": {
    "ExecuteTime": {
     "end_time": "2025-06-12T13:31:27.726246Z",
     "start_time": "2025-06-12T13:31:27.467505Z"
    }
   },
   "cell_type": "code",
   "source": "plt.plot(head_brightness_df['brightness'].diff())",
   "id": "371551c55724be03",
   "outputs": [
    {
     "data": {
      "text/plain": [
       "[<matplotlib.lines.Line2D at 0x116365e8970>]"
      ]
     },
     "execution_count": 9,
     "metadata": {},
     "output_type": "execute_result"
    },
    {
     "data": {
      "text/plain": [
       "<Figure size 432x288 with 1 Axes>"
      ],
      "image/png": "[encoded data removed]"
     },
     "metadata": {
      "needs_background": "light"
     },
     "output_type": "display_data"
    }
   ],
   "execution_count": 9
  },
  {
   "metadata": {
    "ExecuteTime": {
     "end_time": "2025-06-12T13:31:45.728891Z",
     "start_time": "2025-06-12T13:31:44.654194Z"
    }
   },
   "cell_type": "code",
   "source": [
    "# Jupyter cell: add head‐brightness diff trace to the sync verification plot\n",
    "\n",
    "import pandas as pd\n",
    "import numpy as np\n",
    "\n",
    "from bokeh.plotting import figure, show\n",
    "from bokeh.models import ColumnDataSource, Span, Slider, CustomJS\n",
    "from bokeh.layouts import column\n",
    "\n",
    "# 1. Prepare your final_sync_df\n",
    "df_sync = block.final_sync_df.copy()\n",
    "if 'Arena_TTL' not in df_sync.columns:\n",
    "    df_sync = df_sync.reset_index().rename(columns={'index':'Arena_TTL'})\n",
    "# 2. Compute head‐ROI brightness diff\n",
    "hb = head_brightness_df.copy()                    # assume this exists in your namespace\n",
    "hb['diff'] = hb['brightness'].diff()\n",
    "\n",
    "# 3. Build mapping: Arena_frame → Arena_TTL\n",
    "mapping = dict(zip(df_sync['Arena_frame'], df_sync['Arena_TTL']))\n",
    "\n",
    "# 4. Map each head‐frame diff to its Arena_TTL (skip frames not in mapping)\n",
    "head_map = { mapping[f]: d\n",
    "             for f, d in zip(hb['frame'], hb['diff'])\n",
    "             if f in mapping }\n",
    "\n",
    "# 5. Clean your eye‐brightness vectors\n",
    "L = df_sync['L_values'].replace([np.inf, -np.inf], np.nan)\n",
    "R = df_sync['R_values'].replace([np.inf, -np.inf], np.nan)\n",
    "\n",
    "# 6. Prepare arrays for plotting\n",
    "ttls     = df_sync['Arena_TTL'].values\n",
    "left_y   = [None if np.isnan(v) else v for v in L]\n",
    "right_y  = [None if np.isnan(v) else v for v in R]\n",
    "head_y   = [ head_map.get(ttl, None) for ttl in ttls ]  # diff trace\n",
    "\n",
    "# 7. Extract LED-driver event sample numbers\n",
    "led_samples = block.oe_events['LED_driver'].dropna().astype(int).unique()\n",
    "\n",
    "# 8. ColumnDataSources\n",
    "source = ColumnDataSource(data=dict(\n",
    "    x = ttls,\n",
    "    L = left_y,\n",
    "    R = right_y,\n",
    "    H = head_y\n",
    "))\n",
    "events_source = ColumnDataSource(data=dict(\n",
    "    orig_x = led_samples,\n",
    "    x0     = led_samples,\n",
    "    y0     = [-10]*len(led_samples),\n",
    "    x1     = led_samples,\n",
    "    y1     = [ 10]*len(led_samples),\n",
    "))\n",
    "\n",
    "# 9. Build the figure\n",
    "p = figure(\n",
    "    title='Sync Verification: Eyes & Head‐ROI Diff',\n",
    "    x_axis_label='Arena_TTL (OE sample #)',\n",
    "    y_axis_label='Brightness Z-score / ΔBrightness',\n",
    "    plot_width=1200, plot_height=500,\n",
    "    tools='pan,wheel_zoom,box_zoom,reset,save'\n",
    ")\n",
    "\n",
    "# Eye brightness traces\n",
    "p.line('x', 'L', source=source, legend_label='L_eye',  line_color='blue',  line_width=1)\n",
    "p.line('x', 'R', source=source, legend_label='R_eye',  line_color='red',   line_width=1)\n",
    "\n",
    "# Head‐ROI diff trace\n",
    "p.line('x', 'H', source=source, legend_label='Head Δ', line_color='black', line_width=1)\n",
    "\n",
    "# LED‐driver event segments\n",
    "p.segment(x0='x0', y0='y0', x1='x1', y1='y1', source=events_source,\n",
    "          line_color='green', line_dash='dashed', line_width=1)\n",
    "\n",
    "p.legend.location = 'top_left'\n",
    "\n",
    "# 10. Slider to shift LED events\n",
    "slider = Slider(start=-40000, end=40000, value=0, step=1, title='LED-event shift (samples)')\n",
    "callback = CustomJS(args=dict(events=events_source, slider=slider), code=\"\"\"\n",
    "    const data = events.data;\n",
    "    const orig = data['orig_x'];\n",
    "    const shift = slider.value;\n",
    "    for (let i = 0; i < orig.length; i++) {\n",
    "        data['x0'][i] = orig[i] + shift;\n",
    "        data['x1'][i] = orig[i] + shift;\n",
    "    }\n",
    "    events.change.emit();\n",
    "\"\"\")\n",
    "slider.js_on_change('value', callback)\n",
    "\n",
    "# 11. Show the interactive layout\n",
    "layout = column(p, slider)\n",
    "show(layout)\n"
   ],
   "id": "deb6c35e26e1cc92",
   "outputs": [],
   "execution_count": 10
  },
  {
   "metadata": {
    "ExecuteTime": {
     "end_time": "2025-05-21T12:09:36.845069Z",
     "start_time": "2025-05-21T12:09:36.820776Z"
    }
   },
   "cell_type": "code",
   "source": "block.final_sync_df",
   "id": "a746c5b618cc0d5",
   "outputs": [
    {
     "data": {
      "text/plain": [
       "         Arena_TTL  Arena_frame  L_eye_frame  R_eye_frame  L_values  R_values\n",
       "0         695905.0        368.0        142.0         72.0 -0.034811 -0.622838\n",
       "1         696238.0        369.0        143.0         73.0 -0.033420 -0.624309\n",
       "2         696561.0        369.0        144.0         74.0 -0.032600 -0.623545\n",
       "3         696894.0        370.0        145.0         75.0 -0.029220 -0.623072\n",
       "4         697218.0        370.0        146.0         76.0 -0.021908 -0.626490\n",
       "...            ...          ...          ...          ...       ...       ...\n",
       "160542  53407754.0      80639.0          NaN          NaN       NaN       NaN\n",
       "160543  53408087.0      80640.0          NaN          NaN       NaN       NaN\n",
       "160544  53408411.0      80640.0          NaN          NaN       NaN       NaN\n",
       "160545  53408744.0      80641.0          NaN          NaN       NaN       NaN\n",
       "160546  53409068.0      80641.0          NaN          NaN       NaN       NaN\n",
       "\n",
       "[160547 rows x 6 columns]"
      ],
      "text/html": [
       "<div>\n",
       "<style scoped>\n",
       "    .dataframe tbody tr th:only-of-type {\n",
       "        vertical-align: middle;\n",
       "    }\n",
       "\n",
       "    .dataframe tbody tr th {\n",
       "        vertical-align: top;\n",
       "    }\n",
       "\n",
       "    .dataframe thead th {\n",
       "        text-align: right;\n",
       "    }\n",
       "</style>\n",
       "<table border=\"1\" class=\"dataframe\">\n",
       "  <thead>\n",
       "    <tr style=\"text-align: right;\">\n",
       "      <th></th>\n",
       "      <th>Arena_TTL</th>\n",
       "      <th>Arena_frame</th>\n",
       "      <th>L_eye_frame</th>\n",
       "      <th>R_eye_frame</th>\n",
       "      <th>L_values</th>\n",
       "      <th>R_values</th>\n",
       "    </tr>\n",
       "  </thead>\n",
       "  <tbody>\n",
       "    <tr>\n",
       "      <th>0</th>\n",
       "      <td>695905.0</td>\n",
       "      <td>368.0</td>\n",
       "      <td>142.0</td>\n",
       "      <td>72.0</td>\n",
       "      <td>-0.034811</td>\n",
       "      <td>-0.622838</td>\n",
       "    </tr>\n",
       "    <tr>\n",
       "      <th>1</th>\n",
       "      <td>696238.0</td>\n",
       "      <td>369.0</td>\n",
       "      <td>143.0</td>\n",
       "      <td>73.0</td>\n",
       "      <td>-0.033420</td>\n",
       "      <td>-0.624309</td>\n",
       "    </tr>\n",
       "    <tr>\n",
       "      <th>2</th>\n",
       "      <td>696561.0</td>\n",
       "      <td>369.0</td>\n",
       "      <td>144.0</td>\n",
       "      <td>74.0</td>\n",
       "      <td>-0.032600</td>\n",
       "      <td>-0.623545</td>\n",
       "    </tr>\n",
       "    <tr>\n",
       "      <th>3</th>\n",
       "      <td>696894.0</td>\n",
       "      <td>370.0</td>\n",
       "      <td>145.0</td>\n",
       "      <td>75.0</td>\n",
       "      <td>-0.029220</td>\n",
       "      <td>-0.623072</td>\n",
       "    </tr>\n",
       "    <tr>\n",
       "      <th>4</th>\n",
       "      <td>697218.0</td>\n",
       "      <td>370.0</td>\n",
       "      <td>146.0</td>\n",
       "      <td>76.0</td>\n",
       "      <td>-0.021908</td>\n",
       "      <td>-0.626490</td>\n",
       "    </tr>\n",
       "    <tr>\n",
       "      <th>...</th>\n",
       "      <td>...</td>\n",
       "      <td>...</td>\n",
       "      <td>...</td>\n",
       "      <td>...</td>\n",
       "      <td>...</td>\n",
       "      <td>...</td>\n",
       "    </tr>\n",
       "    <tr>\n",
       "      <th>160542</th>\n",
       "      <td>53407754.0</td>\n",
       "      <td>80639.0</td>\n",
       "      <td>NaN</td>\n",
       "      <td>NaN</td>\n",
       "      <td>NaN</td>\n",
       "      <td>NaN</td>\n",
       "    </tr>\n",
       "    <tr>\n",
       "      <th>160543</th>\n",
       "      <td>53408087.0</td>\n",
       "      <td>80640.0</td>\n",
       "      <td>NaN</td>\n",
       "      <td>NaN</td>\n",
       "      <td>NaN</td>\n",
       "      <td>NaN</td>\n",
       "    </tr>\n",
       "    <tr>\n",
       "      <th>160544</th>\n",
       "      <td>53408411.0</td>\n",
       "      <td>80640.0</td>\n",
       "      <td>NaN</td>\n",
       "      <td>NaN</td>\n",
       "      <td>NaN</td>\n",
       "      <td>NaN</td>\n",
       "    </tr>\n",
       "    <tr>\n",
       "      <th>160545</th>\n",
       "      <td>53408744.0</td>\n",
       "      <td>80641.0</td>\n",
       "      <td>NaN</td>\n",
       "      <td>NaN</td>\n",
       "      <td>NaN</td>\n",
       "      <td>NaN</td>\n",
       "    </tr>\n",
       "    <tr>\n",
       "      <th>160546</th>\n",
       "      <td>53409068.0</td>\n",
       "      <td>80641.0</td>\n",
       "      <td>NaN</td>\n",
       "      <td>NaN</td>\n",
       "      <td>NaN</td>\n",
       "      <td>NaN</td>\n",
       "    </tr>\n",
       "  </tbody>\n",
       "</table>\n",
       "<p>160547 rows × 6 columns</p>\n",
       "</div>"
      ]
     },
     "execution_count": 78,
     "metadata": {},
     "output_type": "execute_result"
    }
   ],
   "execution_count": 78
  },
  {
   "cell_type": "code",
   "source": [
    "full_sync_verification(block)"
   ],
   "metadata": {
    "collapsed": false,
    "ExecuteTime": {
     "end_time": "2025-05-21T08:18:33.942567Z",
     "start_time": "2025-05-21T08:18:30.779385Z"
    }
   },
   "id": "b8f73dc680caa978",
   "outputs": [],
   "execution_count": 11
  },
  {
   "cell_type": "code",
   "outputs": [],
   "source": [
    "block.manual_sync_df.rename(columns={'Unnamed: 0.1': 'Arena_TTL'},inplace=True)"
   ],
   "metadata": {
    "collapsed": false,
    "ExecuteTime": {
     "end_time": "2024-12-18T13:23:42.716265100Z",
     "start_time": "2024-12-18T13:23:42.659953500Z"
    }
   },
   "id": "1fbc218b27752fa4",
   "execution_count": 38
  },
  {
   "cell_type": "code",
   "outputs": [
    {
     "data": {
      "text/plain": "        Arena_TTL  Arena_frame  L_eye_frame  R_eye_frame  L_values  R_values\n0          913655        845.0          6.0          2.0 -0.970385 -0.877140\n1          913988        846.0          6.0          3.0 -0.970385 -0.872642\n2          914321        846.0          8.0          4.0 -0.969849 -0.871553\n3          914655        847.0          9.0          5.0 -0.966254 -0.868974\n4          914988        847.0         10.0          6.0 -0.970299 -0.867236\n...           ...          ...          ...          ...       ...       ...\n121570   41436988      62567.0     121799.0     121794.0 -0.277042  0.023131\n121571   41437321      62567.0     121799.0          NaN -0.277042       NaN\n121572   41437655      62568.0     121800.0          NaN -0.285377       NaN\n121573   41437988      62568.0     121802.0          NaN -0.269196       NaN\n121574   41438321      62569.0     121803.0          NaN -0.269542       NaN\n\n[121575 rows x 6 columns]",
      "text/html": "<div>\n<style scoped>\n    .dataframe tbody tr th:only-of-type {\n        vertical-align: middle;\n    }\n\n    .dataframe tbody tr th {\n        vertical-align: top;\n    }\n\n    .dataframe thead th {\n        text-align: right;\n    }\n</style>\n<table border=\"1\" class=\"dataframe\">\n  <thead>\n    <tr style=\"text-align: right;\">\n      <th></th>\n      <th>Arena_TTL</th>\n      <th>Arena_frame</th>\n      <th>L_eye_frame</th>\n      <th>R_eye_frame</th>\n      <th>L_values</th>\n      <th>R_values</th>\n    </tr>\n  </thead>\n  <tbody>\n    <tr>\n      <th>0</th>\n      <td>913655</td>\n      <td>845.0</td>\n      <td>6.0</td>\n      <td>2.0</td>\n      <td>-0.970385</td>\n      <td>-0.877140</td>\n    </tr>\n    <tr>\n      <th>1</th>\n      <td>913988</td>\n      <td>846.0</td>\n      <td>6.0</td>\n      <td>3.0</td>\n      <td>-0.970385</td>\n      <td>-0.872642</td>\n    </tr>\n    <tr>\n      <th>2</th>\n      <td>914321</td>\n      <td>846.0</td>\n      <td>8.0</td>\n      <td>4.0</td>\n      <td>-0.969849</td>\n      <td>-0.871553</td>\n    </tr>\n    <tr>\n      <th>3</th>\n      <td>914655</td>\n      <td>847.0</td>\n      <td>9.0</td>\n      <td>5.0</td>\n      <td>-0.966254</td>\n      <td>-0.868974</td>\n    </tr>\n    <tr>\n      <th>4</th>\n      <td>914988</td>\n      <td>847.0</td>\n      <td>10.0</td>\n      <td>6.0</td>\n      <td>-0.970299</td>\n      <td>-0.867236</td>\n    </tr>\n    <tr>\n      <th>...</th>\n      <td>...</td>\n      <td>...</td>\n      <td>...</td>\n      <td>...</td>\n      <td>...</td>\n      <td>...</td>\n    </tr>\n    <tr>\n      <th>121570</th>\n      <td>41436988</td>\n      <td>62567.0</td>\n      <td>121799.0</td>\n      <td>121794.0</td>\n      <td>-0.277042</td>\n      <td>0.023131</td>\n    </tr>\n    <tr>\n      <th>121571</th>\n      <td>41437321</td>\n      <td>62567.0</td>\n      <td>121799.0</td>\n      <td>NaN</td>\n      <td>-0.277042</td>\n      <td>NaN</td>\n    </tr>\n    <tr>\n      <th>121572</th>\n      <td>41437655</td>\n      <td>62568.0</td>\n      <td>121800.0</td>\n      <td>NaN</td>\n      <td>-0.285377</td>\n      <td>NaN</td>\n    </tr>\n    <tr>\n      <th>121573</th>\n      <td>41437988</td>\n      <td>62568.0</td>\n      <td>121802.0</td>\n      <td>NaN</td>\n      <td>-0.269196</td>\n      <td>NaN</td>\n    </tr>\n    <tr>\n      <th>121574</th>\n      <td>41438321</td>\n      <td>62569.0</td>\n      <td>121803.0</td>\n      <td>NaN</td>\n      <td>-0.269542</td>\n      <td>NaN</td>\n    </tr>\n  </tbody>\n</table>\n<p>121575 rows × 6 columns</p>\n</div>"
     },
     "execution_count": 39,
     "metadata": {},
     "output_type": "execute_result"
    }
   ],
   "source": [
    "block.manual_sync_df"
   ],
   "metadata": {
    "collapsed": false,
    "ExecuteTime": {
     "end_time": "2024-12-18T13:23:48.869666800Z",
     "start_time": "2024-12-18T13:23:48.781390800Z"
    }
   },
   "id": "ba9b814f2b62f286",
   "execution_count": 39
  },
  {
   "cell_type": "code",
   "outputs": [
    {
     "data": {
      "text/plain": "       OE_timestamp  eye_frame     ms_axis    center_x    center_y        phi  \\\n0          676740.0        5.0    33837.00  319.518120  177.992945 -15.443761   \n1          677073.0        6.0    33853.65  319.537921  177.984564 -15.536813   \n2          677397.0        7.0    33869.85  319.510882  178.011487 -15.462979   \n3          677730.0        8.0    33886.50  319.491438  178.003452 -14.895568   \n4          678053.0        9.0    33902.65  319.491147  178.091727 -14.170065   \n...             ...        ...         ...         ...         ...        ...   \n97994    32834371.0    96856.0  1641718.55  340.761068  109.354315 -24.174997   \n97995    32834704.0    96857.0  1641735.20  340.931360  109.326126 -24.160139   \n97996    32835027.0    96858.0  1641751.35  340.753870  109.435444 -24.996913   \n97997    32835360.0    96859.0  1641768.00  341.181379  109.345112 -23.876929   \n97998    32835683.0    96860.0  1641784.15  341.092590  109.340605 -23.859499   \n\n           width     height   major_ax   minor_ax     ratio  \n0      46.028471  40.458124  46.028471  40.458124  1.137682  \n1      46.187965  40.480872  46.187965  40.480872  1.140982  \n2      46.079456  40.440812  46.079456  40.440812  1.139430  \n3      45.985501  40.541131  45.985501  40.541131  1.134293  \n4      45.875067  40.475895  45.875067  40.475895  1.133392  \n...          ...        ...        ...        ...       ...  \n97994  41.280409  28.235806  41.280409  28.235806  1.461988  \n97995  41.655405  28.352723  41.655405  28.352723  1.469185  \n97996  42.075840  28.446548  42.075840  28.446548  1.479119  \n97997  41.828722  28.359923  41.828722  28.359923  1.474924  \n97998  41.863880  28.545485  41.863880  28.545485  1.466567  \n\n[97999 rows x 11 columns]",
      "text/html": "<div>\n<style scoped>\n    .dataframe tbody tr th:only-of-type {\n        vertical-align: middle;\n    }\n\n    .dataframe tbody tr th {\n        vertical-align: top;\n    }\n\n    .dataframe thead th {\n        text-align: right;\n    }\n</style>\n<table border=\"1\" class=\"dataframe\">\n  <thead>\n    <tr style=\"text-align: right;\">\n      <th></th>\n      <th>OE_timestamp</th>\n      <th>eye_frame</th>\n      <th>ms_axis</th>\n      <th>center_x</th>\n      <th>center_y</th>\n      <th>phi</th>\n      <th>width</th>\n      <th>height</th>\n      <th>major_ax</th>\n      <th>minor_ax</th>\n      <th>ratio</th>\n    </tr>\n  </thead>\n  <tbody>\n    <tr>\n      <th>0</th>\n      <td>676740.0</td>\n      <td>5.0</td>\n      <td>33837.00</td>\n      <td>319.518120</td>\n      <td>177.992945</td>\n      <td>-15.443761</td>\n      <td>46.028471</td>\n      <td>40.458124</td>\n      <td>46.028471</td>\n      <td>40.458124</td>\n      <td>1.137682</td>\n    </tr>\n    <tr>\n      <th>1</th>\n      <td>677073.0</td>\n      <td>6.0</td>\n      <td>33853.65</td>\n      <td>319.537921</td>\n      <td>177.984564</td>\n      <td>-15.536813</td>\n      <td>46.187965</td>\n      <td>40.480872</td>\n      <td>46.187965</td>\n      <td>40.480872</td>\n      <td>1.140982</td>\n    </tr>\n    <tr>\n      <th>2</th>\n      <td>677397.0</td>\n      <td>7.0</td>\n      <td>33869.85</td>\n      <td>319.510882</td>\n      <td>178.011487</td>\n      <td>-15.462979</td>\n      <td>46.079456</td>\n      <td>40.440812</td>\n      <td>46.079456</td>\n      <td>40.440812</td>\n      <td>1.139430</td>\n    </tr>\n    <tr>\n      <th>3</th>\n      <td>677730.0</td>\n      <td>8.0</td>\n      <td>33886.50</td>\n      <td>319.491438</td>\n      <td>178.003452</td>\n      <td>-14.895568</td>\n      <td>45.985501</td>\n      <td>40.541131</td>\n      <td>45.985501</td>\n      <td>40.541131</td>\n      <td>1.134293</td>\n    </tr>\n    <tr>\n      <th>4</th>\n      <td>678053.0</td>\n      <td>9.0</td>\n      <td>33902.65</td>\n      <td>319.491147</td>\n      <td>178.091727</td>\n      <td>-14.170065</td>\n      <td>45.875067</td>\n      <td>40.475895</td>\n      <td>45.875067</td>\n      <td>40.475895</td>\n      <td>1.133392</td>\n    </tr>\n    <tr>\n      <th>...</th>\n      <td>...</td>\n      <td>...</td>\n      <td>...</td>\n      <td>...</td>\n      <td>...</td>\n      <td>...</td>\n      <td>...</td>\n      <td>...</td>\n      <td>...</td>\n      <td>...</td>\n      <td>...</td>\n    </tr>\n    <tr>\n      <th>97994</th>\n      <td>32834371.0</td>\n      <td>96856.0</td>\n      <td>1641718.55</td>\n      <td>340.761068</td>\n      <td>109.354315</td>\n      <td>-24.174997</td>\n      <td>41.280409</td>\n      <td>28.235806</td>\n      <td>41.280409</td>\n      <td>28.235806</td>\n      <td>1.461988</td>\n    </tr>\n    <tr>\n      <th>97995</th>\n      <td>32834704.0</td>\n      <td>96857.0</td>\n      <td>1641735.20</td>\n      <td>340.931360</td>\n      <td>109.326126</td>\n      <td>-24.160139</td>\n      <td>41.655405</td>\n      <td>28.352723</td>\n      <td>41.655405</td>\n      <td>28.352723</td>\n      <td>1.469185</td>\n    </tr>\n    <tr>\n      <th>97996</th>\n      <td>32835027.0</td>\n      <td>96858.0</td>\n      <td>1641751.35</td>\n      <td>340.753870</td>\n      <td>109.435444</td>\n      <td>-24.996913</td>\n      <td>42.075840</td>\n      <td>28.446548</td>\n      <td>42.075840</td>\n      <td>28.446548</td>\n      <td>1.479119</td>\n    </tr>\n    <tr>\n      <th>97997</th>\n      <td>32835360.0</td>\n      <td>96859.0</td>\n      <td>1641768.00</td>\n      <td>341.181379</td>\n      <td>109.345112</td>\n      <td>-23.876929</td>\n      <td>41.828722</td>\n      <td>28.359923</td>\n      <td>41.828722</td>\n      <td>28.359923</td>\n      <td>1.474924</td>\n    </tr>\n    <tr>\n      <th>97998</th>\n      <td>32835683.0</td>\n      <td>96860.0</td>\n      <td>1641784.15</td>\n      <td>341.092590</td>\n      <td>109.340605</td>\n      <td>-23.859499</td>\n      <td>41.863880</td>\n      <td>28.545485</td>\n      <td>41.863880</td>\n      <td>28.545485</td>\n      <td>1.466567</td>\n    </tr>\n  </tbody>\n</table>\n<p>97999 rows × 11 columns</p>\n</div>"
     },
     "execution_count": 167,
     "metadata": {},
     "output_type": "execute_result"
    }
   ],
   "source": [
    "block.left_eye_data"
   ],
   "metadata": {
    "collapsed": false,
    "ExecuteTime": {
     "end_time": "2024-12-23T17:11:02.404288100Z",
     "start_time": "2024-12-23T17:11:02.363456700Z"
    }
   },
   "id": "3848e862ac3b44b6",
   "execution_count": 167
  },
  {
   "cell_type": "code",
   "outputs": [],
   "source": [
    "# This bit of code goes over blocks and collects the median distance between the rostral and caudal edges\n",
    "import os\n",
    "from ellipse import LsqEllipse\n",
    "import scipy.stats as stats\n",
    "\n",
    "def eye_tracking_analysis(dlc_video_analysis_csv, uncertainty_thr):\n",
    "    \"\"\"\n",
    "    :param dlc_video_analysis_csv: the csv output of a dlc analysis of one video, already read by pandas with header=1\n",
    "    :param uncertainty_thr: The confidence P value to use as a threshold for datapoint validity in the analysis\n",
    "    :returns ellipse_df: a DataFrame of ellipses parameters (center, width, height, phi, size) for each video frame\n",
    "\n",
    "    \"\"\"\n",
    "    # import the dataframe and convert it to floats\n",
    "    data = dlc_video_analysis_csv\n",
    "    data = data.iloc[1:].apply(pd.to_numeric)\n",
    "\n",
    "    # sort the pupil elements to dfs: x and y, with p as probability\n",
    "    pupil_elements = np.array([x for x in data.columns if 'Pupil' in x])\n",
    "\n",
    "    # get X coords\n",
    "    pupil_xs_before_flip = data[pupil_elements[np.arange(0, len(pupil_elements), 3)]]\n",
    "\n",
    "    # flip the data around the midpoint of the x-axis (shooting the eye through a camera flips right and left)\n",
    "    pupil_xs = 320 * 2 - pupil_xs_before_flip\n",
    "\n",
    "    # get Y coords (no need to flip as opencv conventions already start with origin at top left of frame\n",
    "    # and so, positive Y is maintained as up in a flipped image as we have)\n",
    "    pupil_ys = data[pupil_elements[np.arange(1, len(pupil_elements), 3)]]\n",
    "    pupil_ps = data[pupil_elements[np.arange(2, len(pupil_elements), 3)]]\n",
    "\n",
    "    # rename dataframes for masking with p values of bad points:\n",
    "    pupil_ps = pupil_ps.rename(columns=dict(zip(pupil_ps.columns, pupil_xs.columns)))\n",
    "    pupil_ys = pupil_ys.rename(columns=dict(zip(pupil_ys.columns, pupil_xs.columns)))\n",
    "    good_points = pupil_ps > uncertainty_thr\n",
    "    pupil_xs = pupil_xs[good_points]\n",
    "    pupil_ys = pupil_ys[good_points]\n",
    "\n",
    "    # Do the same for the edges\n",
    "    edge_elements = np.array([x for x in data.columns if 'edge' in x])\n",
    "    edge_xs_before_flip = data[edge_elements[np.arange(0, len(edge_elements), 3)]]\n",
    "    edge_xs = 320*2 - edge_xs_before_flip\n",
    "    edge_ys = data[edge_elements[np.arange(1, len(edge_elements), 3)]]\n",
    "    edge_ps = data[edge_elements[np.arange(2,len(edge_elements),3)]]\n",
    "    edge_ps = edge_ps.rename(columns=dict(zip(edge_ps.columns,edge_xs.columns)))\n",
    "    edge_ys = edge_ys.rename(columns=dict(zip(edge_ys.columns,edge_xs.columns)))\n",
    "    good_edge_points = edge_ps < uncertainty_thr\n",
    "    \n",
    "    # work row by row to figure out the ellipses\n",
    "    ellipses = []\n",
    "    caudal_edge_ls = []\n",
    "    rostral_edge_ls = []\n",
    "    for row in tqdm.tqdm(range(1, len(data) - 1)):\n",
    "        # first, take all the values, and concatenate them into an X array\n",
    "        x_values = pupil_xs.loc[row].values\n",
    "        y_values = pupil_ys.loc[row].values\n",
    "        X = np.c_[x_values, y_values]\n",
    "\n",
    "        # now, remove nan values, and check if there are enough points to make the ellipse\n",
    "        X = X[~ np.isnan(X).any(axis=1)]\n",
    "\n",
    "        # if there are enough rows for a fit, make an ellipse\n",
    "        if X.shape[0] > 5:\n",
    "            el = LsqEllipse().fit(X)\n",
    "            center, width, height, phi = el.as_parameters()\n",
    "            center_x = center[0]\n",
    "            center_y = center[1]\n",
    "            ellipses.append([center_x, center_y, width, height, phi])\n",
    "        else:\n",
    "            ellipses.append([np.nan, np.nan, np.nan, np.nan, np.nan])\n",
    "\n",
    "        caudal_edge = [\n",
    "            float(data['Caudal_edge'][row]),\n",
    "            float(data['Caudal_edge.1'][row])\n",
    "        ]\n",
    "        rostral_edge = [\n",
    "            float(data['Rostral_edge'][row]),\n",
    "            float(data['Rostral_edge.1'][row])\n",
    "        ]\n",
    "        caudal_edge_ls.append(caudal_edge)\n",
    "        rostral_edge_ls.append(rostral_edge)\n",
    "\n",
    "\n",
    "    # ellipse_df = pd.DataFrame(columns=['center_x', 'center_y', 'width', 'height', 'phi'], data=ellipses)\n",
    "    # a = np.array(ellipse_df['height'][:])\n",
    "    # b = np.array(ellipse_df['width'][:])\n",
    "    # ellipse_size_per_frame = a * b * math.pi\n",
    "    # ellipse_df['ellipse_size'] = ellipse_size_per_frame\n",
    "    ellipse_df = pd.Dataframe({\n",
    "        'rostral_edge':rostral_edge_ls,\n",
    "        'caudal_edge': caudal_edge_ls\n",
    "    })\n",
    "    \n",
    "\n",
    "    print(f'\\n ellipses calculation complete')\n",
    "    \n",
    "    ellipse_df[['caudal_edge_x', 'caudal_edge_y']] = pd.DataFrame(ellipse_df['caudal_edge'].tolist(), index=ellipse_df.index)\n",
    "    ellipse_df[['rostral_edge_x', 'rostral_edge_y']] = pd.DataFrame(ellipse_df['rostral_edge'].tolist(), index=ellipse_df.index)\n",
    "    \n",
    "    return ellipse_df\n",
    "\n",
    "def get_pixel_distance(df):\n",
    "    distances = np.sqrt((df['caudal_edge_x'] - df['rostral_edge_x'])**2 + \n",
    "                        (df['caudal_edge_y'] - df['rostral_edge_y'])**2)\n",
    "    \n",
    "    mean_distance = np.nanmean(distances)\n",
    "    std_distance = np.nanstd(distances)\n",
    "    # Shapiro-Wilk Test\n",
    "    shapiro_test = stats.shapiro(distances)\n",
    "    print(f\"Shapiro-Wilk Test: Statistic={shapiro_test.statistic}, p-value={shapiro_test.pvalue}\")\n",
    "    \n",
    "    # Kolmogorov-Smirnov Test\n",
    "    ks_test = stats.kstest(distances, 'norm', args=(mean_distance, std_distance))\n",
    "    print(f\"Kolmogorov-Smirnov Test: Statistic={ks_test.statistic}, p-value={ks_test.pvalue}\")\n",
    "    \n",
    "    median_distance = np.median(distances)\n",
    "    iqr_distance = stats.iqr(distances)\n",
    "    print(f\"Median Distance: {median_distance}\")\n",
    "    print(f\"IQR: {iqr_distance}\")\n",
    "    print(f'mean = {mean_distance}')\n",
    "    print(f'std = {std_distance}')\n",
    "    return median_distance\n",
    "\n",
    "R_pix_distance_dict = {}\n",
    "L_pix_distance_dict = {}\n",
    "\n",
    "for block in block_collection:\n",
    "    print(f'working on {block}')\n",
    "    pl = [i for i in os.listdir(block.r_e_path) if 'DLC' in i and '.csv' in i]\n",
    "    if len(pl) > 1:\n",
    "        pl = [i for i in pl if 'filtered' in i][0]\n",
    "    else:\n",
    "        pl = pl[0]\n",
    "    R_csv  = pd.read_csv(block.r_e_path / pl, header=1)\n",
    "    \n",
    "    pl = [i for i in os.listdir(block.l_e_path) if 'DLC' in i and '.csv' in i]\n",
    "    if len(pl) > 1:\n",
    "        pl = [i for i in pl if 'filtered' in i][0]\n",
    "    else:\n",
    "        pl = pl[0]\n",
    "    L_csv  = pd.read_csv(block.l_e_path / pl, header=1)\n",
    "    R_ellipse_df = eye_tracking_analysis(R_csv,0.998)\n",
    "    print('working on the right eye')\n",
    "    R_pixel_distance = get_pixel_distance(R_ellipse_df)    \n",
    "    L_ellipse_df = eye_tracking_analysis(L_csv,0.998)\n",
    "    print('working on the left eye')\n",
    "    L_pixel_distance = get_pixel_distance(L_ellipse_df)\n",
    "    R_pix_distance_dict[block.block_num] = R_pixel_distance\n",
    "    L_pix_distance_dict[block.block_num] = L_pixel_distance\n",
    "    "
   ],
   "metadata": {
    "collapsed": false
   },
   "id": "c1c3954ac1f85237",
   "execution_count": null
  },
  {
   "cell_type": "code",
   "source": [
    "def load_eye_data_2d_w_rotation_matrix(block):\n",
    "    \"\"\"\n",
    "    This function checks if the eye dataframes and rotation dict object exist, then imports them\n",
    "    :param block: The current blocksync class with verifiec re/le dfs\n",
    "    :return: None\n",
    "    \"\"\"\n",
    "    try:\n",
    "        block.left_eye_data = pd.read_csv(block.analysis_path / 'left_eye_data.csv', index_col=0, engine='python')\n",
    "        block.right_eye_data = pd.read_csv(block.analysis_path / 'right_eye_data.csv', index_col=0, engine='python')\n",
    "    except FileNotFoundError:\n",
    "        print('eye_data files not found, run the pipeline!')\n",
    "        return\n",
    "\n",
    "    try:\n",
    "        with open(block.analysis_path / 'rotate_eye_data_params.pkl', 'rb') as file:\n",
    "            rotation_dict = pickle.load(file)\n",
    "            block.left_rotation_matrix = rotation_dict['left_rotation_matrix']\n",
    "            block.right_rotation_matrix = rotation_dict['right_rotation_matrix']\n",
    "            block.left_rotation_angle = rotation_dict['left_rotation_angle']\n",
    "            block.right_rotation_angle = rotation_dict['right_rotation_angle']\n",
    "    except FileNotFoundError:\n",
    "        print('No rotation matrix file, create it')\n",
    "\n"
   ],
   "metadata": {
    "collapsed": false,
    "ExecuteTime": {
     "end_time": "2025-05-21T08:17:59.883583Z",
     "start_time": "2025-05-21T08:17:59.869582Z"
    }
   },
   "id": "2818f547b0b15ab1",
   "outputs": [],
   "execution_count": 7
  },
  {
   "cell_type": "code",
   "source": [
    "for block in block_collection:\n",
    "    block.parse_open_ephys_events()\n",
    "    block.get_eye_brightness_vectors()\n",
    "    block.synchronize_block()\n",
    "    block.create_eye_brightness_df(threshold_value=20)\n",
    "\n",
    "    # if the code fails here, go to manual synchronization\n",
    "    block.import_manual_sync_df()\n",
    "    block.read_dlc_data()\n",
    "    block.calibrate_pixel_size(10)\n",
    "    load_eye_data_2d_w_rotation_matrix(block) #should be integrated again... later\n",
    "    \n",
    "    # calibrate pupil diameter:\n",
    "\n",
    "    block.left_eye_data['pupil_diameter_pixels'] = block.left_eye_data.major_ax\n",
    "    block.right_eye_data['pupil_diameter_pixels'] = block.right_eye_data.major_ax\n",
    "    block.left_eye_data['pupil_diameter'] = block.left_eye_data['pupil_diameter_pixels'] * block.L_pix_size\n",
    "    block.right_eye_data['pupil_diameter'] = block.right_eye_data['pupil_diameter_pixels'] * block.R_pix_size"
   ],
   "metadata": {
    "collapsed": false,
    "ExecuteTime": {
     "end_time": "2025-05-21T08:18:13.583235Z",
     "start_time": "2025-05-21T08:18:08.202999Z"
    }
   },
   "id": "fa540b5110ac4829",
   "outputs": [
    {
     "name": "stdout",
     "output_type": "stream",
     "text": [
      "running parse_open_ephys_events...\n",
      "block 009 has a parsed events file, reading...\n",
      "Getting eye brightness values for block 009...\n",
      "Found an existing file!\n",
      "Eye brightness vectors generation complete.\n",
      "blocksync_df loaded from analysis folder\n",
      "eye_brightness_df loaded from analysis folder\n",
      "eye dataframes loaded from analysis folder\n",
      "got the calibration values from the analysis folder\n"
     ]
    }
   ],
   "execution_count": 8
  },
  {
   "cell_type": "code",
   "source": [
    "block.final_sync_df.columns"
   ],
   "metadata": {
    "collapsed": false,
    "ExecuteTime": {
     "end_time": "2025-05-21T08:18:15.249812Z",
     "start_time": "2025-05-21T08:18:15.237812Z"
    }
   },
   "id": "3ae919e01a35d4d9",
   "outputs": [
    {
     "data": {
      "text/plain": [
       "Index(['Arena_TTL', 'Arena_frame', 'L_eye_frame', 'R_eye_frame', 'L_values',\n",
       "       'R_values'],\n",
       "      dtype='object')"
      ]
     },
     "execution_count": 9,
     "metadata": {},
     "output_type": "execute_result"
    }
   ],
   "execution_count": 9
  },
  {
   "cell_type": "code",
   "outputs": [
    {
     "data": {
      "text/plain": "       OE_timestamp  eye_frame     ms_axis    center_x    center_y  \\\n0          565951.0        1.0    28297.55  444.632190  206.829264   \n1          566291.0        2.0    28314.55  444.501312  206.839827   \n2          566631.0        3.0    28331.55  444.489259  206.843911   \n3          566970.0        4.0    28348.50  444.515784  206.859801   \n4          567310.0        5.0    28365.50  444.444498  206.920830   \n...             ...        ...         ...         ...         ...   \n99203    34261949.0   101272.0  1713097.45  412.843225  200.260902   \n99204    34262289.0   101273.0  1713114.45  412.871902  200.210474   \n99205    34262628.0   101274.0  1713131.40  412.912947  200.210626   \n99206    34262968.0   101275.0  1713148.40  413.046975  200.175398   \n99207    34263307.0   101276.0  1713165.35  413.075933  200.188772   \n\n       ellipse_phi      width     height   major_ax   minor_ax     ratio  \\\n0        83.016304  45.335549  32.726528  45.335549  32.726528  1.385284   \n1        83.435273  45.316501  32.731487  45.316501  32.731487  1.384493   \n2        83.266029  45.292542  32.789987  45.292542  32.789987  1.381292   \n3        83.509805  45.268229  32.769033  45.268229  32.769033  1.381433   \n4        83.589111  45.316728  32.700692  45.316728  32.700692  1.385803   \n...            ...        ...        ...        ...        ...       ...   \n99203    66.957846  46.307113  37.235502  46.307113  37.235502  1.243628   \n99204    66.951497  46.246748  37.140492  46.246748  37.140492  1.245184   \n99205    66.240158  46.229480  37.094161  46.229480  37.094161  1.246274   \n99206    66.738613  46.132734  36.995682  46.132734  36.995682  1.246976   \n99207    66.737361  46.157752  36.959724  46.157752  36.959724  1.248866   \n\n       xgb_theta  xgb_phi        phi      theta  pupil_diameter_pixels  \\\n0            NaN      NaN  41.484692 -28.411240             284.851657   \n1            NaN      NaN  41.484692 -28.411240             284.731971   \n2            NaN      NaN  41.484692 -28.411240             284.581437   \n3            NaN      NaN  41.484692 -28.411240             284.428670   \n4            NaN      NaN  41.484692 -28.411240             284.733399   \n...          ...      ...        ...        ...                    ...   \n99203        NaN      NaN  39.517727 -33.517628             290.956173   \n99204        NaN      NaN  39.517727 -33.517628             290.576885   \n99205        NaN      NaN  39.518051 -33.517628             290.468388   \n99206        NaN      NaN  39.518051 -33.517628             289.860518   \n99207        NaN      NaN  40.215939 -33.517628             290.017709   \n\n       pupil_diameter  \n0           12.818325  \n1           12.812939  \n2           12.806165  \n3           12.799290  \n4           12.813003  \n...               ...  \n99203       13.093028  \n99204       13.075960  \n99205       13.071077  \n99206       13.043723  \n99207       13.050797  \n\n[99208 rows x 17 columns]",
      "text/html": "<div>\n<style scoped>\n    .dataframe tbody tr th:only-of-type {\n        vertical-align: middle;\n    }\n\n    .dataframe tbody tr th {\n        vertical-align: top;\n    }\n\n    .dataframe thead th {\n        text-align: right;\n    }\n</style>\n<table border=\"1\" class=\"dataframe\">\n  <thead>\n    <tr style=\"text-align: right;\">\n      <th></th>\n      <th>OE_timestamp</th>\n      <th>eye_frame</th>\n      <th>ms_axis</th>\n      <th>center_x</th>\n      <th>center_y</th>\n      <th>ellipse_phi</th>\n      <th>width</th>\n      <th>height</th>\n      <th>major_ax</th>\n      <th>minor_ax</th>\n      <th>ratio</th>\n      <th>xgb_theta</th>\n      <th>xgb_phi</th>\n      <th>phi</th>\n      <th>theta</th>\n      <th>pupil_diameter_pixels</th>\n      <th>pupil_diameter</th>\n    </tr>\n  </thead>\n  <tbody>\n    <tr>\n      <th>0</th>\n      <td>565951.0</td>\n      <td>1.0</td>\n      <td>28297.55</td>\n      <td>444.632190</td>\n      <td>206.829264</td>\n      <td>83.016304</td>\n      <td>45.335549</td>\n      <td>32.726528</td>\n      <td>45.335549</td>\n      <td>32.726528</td>\n      <td>1.385284</td>\n      <td>NaN</td>\n      <td>NaN</td>\n      <td>41.484692</td>\n      <td>-28.411240</td>\n      <td>284.851657</td>\n      <td>12.818325</td>\n    </tr>\n    <tr>\n      <th>1</th>\n      <td>566291.0</td>\n      <td>2.0</td>\n      <td>28314.55</td>\n      <td>444.501312</td>\n      <td>206.839827</td>\n      <td>83.435273</td>\n      <td>45.316501</td>\n      <td>32.731487</td>\n      <td>45.316501</td>\n      <td>32.731487</td>\n      <td>1.384493</td>\n      <td>NaN</td>\n      <td>NaN</td>\n      <td>41.484692</td>\n      <td>-28.411240</td>\n      <td>284.731971</td>\n      <td>12.812939</td>\n    </tr>\n    <tr>\n      <th>2</th>\n      <td>566631.0</td>\n      <td>3.0</td>\n      <td>28331.55</td>\n      <td>444.489259</td>\n      <td>206.843911</td>\n      <td>83.266029</td>\n      <td>45.292542</td>\n      <td>32.789987</td>\n      <td>45.292542</td>\n      <td>32.789987</td>\n      <td>1.381292</td>\n      <td>NaN</td>\n      <td>NaN</td>\n      <td>41.484692</td>\n      <td>-28.411240</td>\n      <td>284.581437</td>\n      <td>12.806165</td>\n    </tr>\n    <tr>\n      <th>3</th>\n      <td>566970.0</td>\n      <td>4.0</td>\n      <td>28348.50</td>\n      <td>444.515784</td>\n      <td>206.859801</td>\n      <td>83.509805</td>\n      <td>45.268229</td>\n      <td>32.769033</td>\n      <td>45.268229</td>\n      <td>32.769033</td>\n      <td>1.381433</td>\n      <td>NaN</td>\n      <td>NaN</td>\n      <td>41.484692</td>\n      <td>-28.411240</td>\n      <td>284.428670</td>\n      <td>12.799290</td>\n    </tr>\n    <tr>\n      <th>4</th>\n      <td>567310.0</td>\n      <td>5.0</td>\n      <td>28365.50</td>\n      <td>444.444498</td>\n      <td>206.920830</td>\n      <td>83.589111</td>\n      <td>45.316728</td>\n      <td>32.700692</td>\n      <td>45.316728</td>\n      <td>32.700692</td>\n      <td>1.385803</td>\n      <td>NaN</td>\n      <td>NaN</td>\n      <td>41.484692</td>\n      <td>-28.411240</td>\n      <td>284.733399</td>\n      <td>12.813003</td>\n    </tr>\n    <tr>\n      <th>...</th>\n      <td>...</td>\n      <td>...</td>\n      <td>...</td>\n      <td>...</td>\n      <td>...</td>\n      <td>...</td>\n      <td>...</td>\n      <td>...</td>\n      <td>...</td>\n      <td>...</td>\n      <td>...</td>\n      <td>...</td>\n      <td>...</td>\n      <td>...</td>\n      <td>...</td>\n      <td>...</td>\n      <td>...</td>\n    </tr>\n    <tr>\n      <th>99203</th>\n      <td>34261949.0</td>\n      <td>101272.0</td>\n      <td>1713097.45</td>\n      <td>412.843225</td>\n      <td>200.260902</td>\n      <td>66.957846</td>\n      <td>46.307113</td>\n      <td>37.235502</td>\n      <td>46.307113</td>\n      <td>37.235502</td>\n      <td>1.243628</td>\n      <td>NaN</td>\n      <td>NaN</td>\n      <td>39.517727</td>\n      <td>-33.517628</td>\n      <td>290.956173</td>\n      <td>13.093028</td>\n    </tr>\n    <tr>\n      <th>99204</th>\n      <td>34262289.0</td>\n      <td>101273.0</td>\n      <td>1713114.45</td>\n      <td>412.871902</td>\n      <td>200.210474</td>\n      <td>66.951497</td>\n      <td>46.246748</td>\n      <td>37.140492</td>\n      <td>46.246748</td>\n      <td>37.140492</td>\n      <td>1.245184</td>\n      <td>NaN</td>\n      <td>NaN</td>\n      <td>39.517727</td>\n      <td>-33.517628</td>\n      <td>290.576885</td>\n      <td>13.075960</td>\n    </tr>\n    <tr>\n      <th>99205</th>\n      <td>34262628.0</td>\n      <td>101274.0</td>\n      <td>1713131.40</td>\n      <td>412.912947</td>\n      <td>200.210626</td>\n      <td>66.240158</td>\n      <td>46.229480</td>\n      <td>37.094161</td>\n      <td>46.229480</td>\n      <td>37.094161</td>\n      <td>1.246274</td>\n      <td>NaN</td>\n      <td>NaN</td>\n      <td>39.518051</td>\n      <td>-33.517628</td>\n      <td>290.468388</td>\n      <td>13.071077</td>\n    </tr>\n    <tr>\n      <th>99206</th>\n      <td>34262968.0</td>\n      <td>101275.0</td>\n      <td>1713148.40</td>\n      <td>413.046975</td>\n      <td>200.175398</td>\n      <td>66.738613</td>\n      <td>46.132734</td>\n      <td>36.995682</td>\n      <td>46.132734</td>\n      <td>36.995682</td>\n      <td>1.246976</td>\n      <td>NaN</td>\n      <td>NaN</td>\n      <td>39.518051</td>\n      <td>-33.517628</td>\n      <td>289.860518</td>\n      <td>13.043723</td>\n    </tr>\n    <tr>\n      <th>99207</th>\n      <td>34263307.0</td>\n      <td>101276.0</td>\n      <td>1713165.35</td>\n      <td>413.075933</td>\n      <td>200.188772</td>\n      <td>66.737361</td>\n      <td>46.157752</td>\n      <td>36.959724</td>\n      <td>46.157752</td>\n      <td>36.959724</td>\n      <td>1.248866</td>\n      <td>NaN</td>\n      <td>NaN</td>\n      <td>40.215939</td>\n      <td>-33.517628</td>\n      <td>290.017709</td>\n      <td>13.050797</td>\n    </tr>\n  </tbody>\n</table>\n<p>99208 rows × 17 columns</p>\n</div>"
     },
     "execution_count": 366,
     "metadata": {},
     "output_type": "execute_result"
    }
   ],
   "source": [
    "block.left_eye_data"
   ],
   "metadata": {
    "collapsed": false,
    "ExecuteTime": {
     "end_time": "2024-12-31T13:36:53.366646100Z",
     "start_time": "2024-12-31T13:36:53.303980300Z"
    }
   },
   "id": "ecd3a3eebe396cdb",
   "execution_count": 366
  },
  {
   "cell_type": "code",
   "outputs": [
    {
     "data": {
      "text/plain": "       OE_timestamp  eye_frame     ms_axis    center_x    center_y  \\\n0          565951.0        1.0    28297.55  444.632190  206.829264   \n1          566291.0        2.0    28314.55  444.501312  206.839827   \n2          566631.0        3.0    28331.55  444.489259  206.843911   \n3          566970.0        4.0    28348.50  444.515784  206.859801   \n4          567310.0        5.0    28365.50  444.444498  206.920830   \n...             ...        ...         ...         ...         ...   \n99203    34261949.0   101272.0  1713097.45  412.843225  200.260902   \n99204    34262289.0   101273.0  1713114.45  412.871902  200.210474   \n99205    34262628.0   101274.0  1713131.40  412.912947  200.210626   \n99206    34262968.0   101275.0  1713148.40  413.046975  200.175398   \n99207    34263307.0   101276.0  1713165.35  413.075933  200.188772   \n\n       ellipse_phi      width     height   major_ax   minor_ax     ratio  \\\n0        83.016304  45.335549  32.726528  45.335549  32.726528  1.385284   \n1        83.435273  45.316501  32.731487  45.316501  32.731487  1.384493   \n2        83.266029  45.292542  32.789987  45.292542  32.789987  1.381292   \n3        83.509805  45.268229  32.769033  45.268229  32.769033  1.381433   \n4        83.589111  45.316728  32.700692  45.316728  32.700692  1.385803   \n...            ...        ...        ...        ...        ...       ...   \n99203    66.957846  46.307113  37.235502  46.307113  37.235502  1.243628   \n99204    66.951497  46.246748  37.140492  46.246748  37.140492  1.245184   \n99205    66.240158  46.229480  37.094161  46.229480  37.094161  1.246274   \n99206    66.738613  46.132734  36.995682  46.132734  36.995682  1.246976   \n99207    66.737361  46.157752  36.959724  46.157752  36.959724  1.248866   \n\n       xgb_theta  xgb_phi        phi      theta  pupil_diameter_pixels  \\\n0            NaN      NaN  41.484692 -28.411240             284.851657   \n1            NaN      NaN  41.484692 -28.411240             284.731971   \n2            NaN      NaN  41.484692 -28.411240             284.581437   \n3            NaN      NaN  41.484692 -28.411240             284.428670   \n4            NaN      NaN  41.484692 -28.411240             284.733399   \n...          ...      ...        ...        ...                    ...   \n99203        NaN      NaN  39.517727 -33.517628             290.956173   \n99204        NaN      NaN  39.517727 -33.517628             290.576885   \n99205        NaN      NaN  39.518051 -33.517628             290.468388   \n99206        NaN      NaN  39.518051 -33.517628             289.860518   \n99207        NaN      NaN  40.215939 -33.517628             290.017709   \n\n       pupil_diameter  \n0           12.818325  \n1           12.812939  \n2           12.806165  \n3           12.799290  \n4           12.813003  \n...               ...  \n99203       13.093028  \n99204       13.075960  \n99205       13.071077  \n99206       13.043723  \n99207       13.050797  \n\n[99208 rows x 17 columns]",
      "text/html": "<div>\n<style scoped>\n    .dataframe tbody tr th:only-of-type {\n        vertical-align: middle;\n    }\n\n    .dataframe tbody tr th {\n        vertical-align: top;\n    }\n\n    .dataframe thead th {\n        text-align: right;\n    }\n</style>\n<table border=\"1\" class=\"dataframe\">\n  <thead>\n    <tr style=\"text-align: right;\">\n      <th></th>\n      <th>OE_timestamp</th>\n      <th>eye_frame</th>\n      <th>ms_axis</th>\n      <th>center_x</th>\n      <th>center_y</th>\n      <th>ellipse_phi</th>\n      <th>width</th>\n      <th>height</th>\n      <th>major_ax</th>\n      <th>minor_ax</th>\n      <th>ratio</th>\n      <th>xgb_theta</th>\n      <th>xgb_phi</th>\n      <th>phi</th>\n      <th>theta</th>\n      <th>pupil_diameter_pixels</th>\n      <th>pupil_diameter</th>\n    </tr>\n  </thead>\n  <tbody>\n    <tr>\n      <th>0</th>\n      <td>565951.0</td>\n      <td>1.0</td>\n      <td>28297.55</td>\n      <td>444.632190</td>\n      <td>206.829264</td>\n      <td>83.016304</td>\n      <td>45.335549</td>\n      <td>32.726528</td>\n      <td>45.335549</td>\n      <td>32.726528</td>\n      <td>1.385284</td>\n      <td>NaN</td>\n      <td>NaN</td>\n      <td>41.484692</td>\n      <td>-28.411240</td>\n      <td>284.851657</td>\n      <td>12.818325</td>\n    </tr>\n    <tr>\n      <th>1</th>\n      <td>566291.0</td>\n      <td>2.0</td>\n      <td>28314.55</td>\n      <td>444.501312</td>\n      <td>206.839827</td>\n      <td>83.435273</td>\n      <td>45.316501</td>\n      <td>32.731487</td>\n      <td>45.316501</td>\n      <td>32.731487</td>\n      <td>1.384493</td>\n      <td>NaN</td>\n      <td>NaN</td>\n      <td>41.484692</td>\n      <td>-28.411240</td>\n      <td>284.731971</td>\n      <td>12.812939</td>\n    </tr>\n    <tr>\n      <th>2</th>\n      <td>566631.0</td>\n      <td>3.0</td>\n      <td>28331.55</td>\n      <td>444.489259</td>\n      <td>206.843911</td>\n      <td>83.266029</td>\n      <td>45.292542</td>\n      <td>32.789987</td>\n      <td>45.292542</td>\n      <td>32.789987</td>\n      <td>1.381292</td>\n      <td>NaN</td>\n      <td>NaN</td>\n      <td>41.484692</td>\n      <td>-28.411240</td>\n      <td>284.581437</td>\n      <td>12.806165</td>\n    </tr>\n    <tr>\n      <th>3</th>\n      <td>566970.0</td>\n      <td>4.0</td>\n      <td>28348.50</td>\n      <td>444.515784</td>\n      <td>206.859801</td>\n      <td>83.509805</td>\n      <td>45.268229</td>\n      <td>32.769033</td>\n      <td>45.268229</td>\n      <td>32.769033</td>\n      <td>1.381433</td>\n      <td>NaN</td>\n      <td>NaN</td>\n      <td>41.484692</td>\n      <td>-28.411240</td>\n      <td>284.428670</td>\n      <td>12.799290</td>\n    </tr>\n    <tr>\n      <th>4</th>\n      <td>567310.0</td>\n      <td>5.0</td>\n      <td>28365.50</td>\n      <td>444.444498</td>\n      <td>206.920830</td>\n      <td>83.589111</td>\n      <td>45.316728</td>\n      <td>32.700692</td>\n      <td>45.316728</td>\n      <td>32.700692</td>\n      <td>1.385803</td>\n      <td>NaN</td>\n      <td>NaN</td>\n      <td>41.484692</td>\n      <td>-28.411240</td>\n      <td>284.733399</td>\n      <td>12.813003</td>\n    </tr>\n    <tr>\n      <th>...</th>\n      <td>...</td>\n      <td>...</td>\n      <td>...</td>\n      <td>...</td>\n      <td>...</td>\n      <td>...</td>\n      <td>...</td>\n      <td>...</td>\n      <td>...</td>\n      <td>...</td>\n      <td>...</td>\n      <td>...</td>\n      <td>...</td>\n      <td>...</td>\n      <td>...</td>\n      <td>...</td>\n      <td>...</td>\n    </tr>\n    <tr>\n      <th>99203</th>\n      <td>34261949.0</td>\n      <td>101272.0</td>\n      <td>1713097.45</td>\n      <td>412.843225</td>\n      <td>200.260902</td>\n      <td>66.957846</td>\n      <td>46.307113</td>\n      <td>37.235502</td>\n      <td>46.307113</td>\n      <td>37.235502</td>\n      <td>1.243628</td>\n      <td>NaN</td>\n      <td>NaN</td>\n      <td>39.517727</td>\n      <td>-33.517628</td>\n      <td>290.956173</td>\n      <td>13.093028</td>\n    </tr>\n    <tr>\n      <th>99204</th>\n      <td>34262289.0</td>\n      <td>101273.0</td>\n      <td>1713114.45</td>\n      <td>412.871902</td>\n      <td>200.210474</td>\n      <td>66.951497</td>\n      <td>46.246748</td>\n      <td>37.140492</td>\n      <td>46.246748</td>\n      <td>37.140492</td>\n      <td>1.245184</td>\n      <td>NaN</td>\n      <td>NaN</td>\n      <td>39.517727</td>\n      <td>-33.517628</td>\n      <td>290.576885</td>\n      <td>13.075960</td>\n    </tr>\n    <tr>\n      <th>99205</th>\n      <td>34262628.0</td>\n      <td>101274.0</td>\n      <td>1713131.40</td>\n      <td>412.912947</td>\n      <td>200.210626</td>\n      <td>66.240158</td>\n      <td>46.229480</td>\n      <td>37.094161</td>\n      <td>46.229480</td>\n      <td>37.094161</td>\n      <td>1.246274</td>\n      <td>NaN</td>\n      <td>NaN</td>\n      <td>39.518051</td>\n      <td>-33.517628</td>\n      <td>290.468388</td>\n      <td>13.071077</td>\n    </tr>\n    <tr>\n      <th>99206</th>\n      <td>34262968.0</td>\n      <td>101275.0</td>\n      <td>1713148.40</td>\n      <td>413.046975</td>\n      <td>200.175398</td>\n      <td>66.738613</td>\n      <td>46.132734</td>\n      <td>36.995682</td>\n      <td>46.132734</td>\n      <td>36.995682</td>\n      <td>1.246976</td>\n      <td>NaN</td>\n      <td>NaN</td>\n      <td>39.518051</td>\n      <td>-33.517628</td>\n      <td>289.860518</td>\n      <td>13.043723</td>\n    </tr>\n    <tr>\n      <th>99207</th>\n      <td>34263307.0</td>\n      <td>101276.0</td>\n      <td>1713165.35</td>\n      <td>413.075933</td>\n      <td>200.188772</td>\n      <td>66.737361</td>\n      <td>46.157752</td>\n      <td>36.959724</td>\n      <td>46.157752</td>\n      <td>36.959724</td>\n      <td>1.248866</td>\n      <td>NaN</td>\n      <td>NaN</td>\n      <td>40.215939</td>\n      <td>-33.517628</td>\n      <td>290.017709</td>\n      <td>13.050797</td>\n    </tr>\n  </tbody>\n</table>\n<p>99208 rows × 17 columns</p>\n</div>"
     },
     "execution_count": 375,
     "metadata": {},
     "output_type": "execute_result"
    }
   ],
   "source": [
    "block.left_eye_data"
   ],
   "metadata": {
    "collapsed": false,
    "ExecuteTime": {
     "end_time": "2024-12-31T13:50:57.799498300Z",
     "start_time": "2024-12-31T13:50:57.688130800Z"
    }
   },
   "id": "91ab2df9cd0a9ff6",
   "execution_count": 375
  },
  {
   "cell_type": "code",
   "outputs": [
    {
     "data": {
      "text/plain": "        Arena_TTL  Arena_frame\n0        565951.0        913.0\n1        566291.0        914.0\n2        566631.0        915.0\n3        566970.0        916.0\n4        567310.0        917.0\n...           ...          ...\n99203  34261949.0     100116.0\n99204  34262289.0     100117.0\n99205  34262628.0     100118.0\n99206  34262968.0     100119.0\n99207  34263307.0     100120.0\n\n[99208 rows x 2 columns]",
      "text/html": "<div>\n<style scoped>\n    .dataframe tbody tr th:only-of-type {\n        vertical-align: middle;\n    }\n\n    .dataframe tbody tr th {\n        vertical-align: top;\n    }\n\n    .dataframe thead th {\n        text-align: right;\n    }\n</style>\n<table border=\"1\" class=\"dataframe\">\n  <thead>\n    <tr style=\"text-align: right;\">\n      <th></th>\n      <th>Arena_TTL</th>\n      <th>Arena_frame</th>\n    </tr>\n  </thead>\n  <tbody>\n    <tr>\n      <th>0</th>\n      <td>565951.0</td>\n      <td>913.0</td>\n    </tr>\n    <tr>\n      <th>1</th>\n      <td>566291.0</td>\n      <td>914.0</td>\n    </tr>\n    <tr>\n      <th>2</th>\n      <td>566631.0</td>\n      <td>915.0</td>\n    </tr>\n    <tr>\n      <th>3</th>\n      <td>566970.0</td>\n      <td>916.0</td>\n    </tr>\n    <tr>\n      <th>4</th>\n      <td>567310.0</td>\n      <td>917.0</td>\n    </tr>\n    <tr>\n      <th>...</th>\n      <td>...</td>\n      <td>...</td>\n    </tr>\n    <tr>\n      <th>99203</th>\n      <td>34261949.0</td>\n      <td>100116.0</td>\n    </tr>\n    <tr>\n      <th>99204</th>\n      <td>34262289.0</td>\n      <td>100117.0</td>\n    </tr>\n    <tr>\n      <th>99205</th>\n      <td>34262628.0</td>\n      <td>100118.0</td>\n    </tr>\n    <tr>\n      <th>99206</th>\n      <td>34262968.0</td>\n      <td>100119.0</td>\n    </tr>\n    <tr>\n      <th>99207</th>\n      <td>34263307.0</td>\n      <td>100120.0</td>\n    </tr>\n  </tbody>\n</table>\n<p>99208 rows × 2 columns</p>\n</div>"
     },
     "execution_count": 382,
     "metadata": {},
     "output_type": "execute_result"
    }
   ],
   "source": [
    "block.final_sync_df[['Arena_TTL','Arena_frame']]"
   ],
   "metadata": {
    "collapsed": false,
    "ExecuteTime": {
     "end_time": "2024-12-31T14:01:26.538536100Z",
     "start_time": "2024-12-31T14:01:26.449306800Z"
    }
   },
   "id": "33c7eb4b64a5daf9",
   "execution_count": 382
  },
  {
   "cell_type": "code",
   "outputs": [
    {
     "data": {
      "text/plain": "   Unnamed: 0.1  Arena_TTL  Arena_frame  L_eye_frame  R_eye_frame  L_values  \\\n0             0   565951.0        913.0          1.0          NaN -2.646521   \n1             1   566291.0        914.0          2.0          NaN -2.646440   \n2             2   566631.0        915.0          3.0          NaN -2.646465   \n3             3   566970.0        916.0          4.0          NaN -2.641369   \n4             4   567310.0        917.0          5.0          2.0 -2.641731   \n\n   R_values  \n0       NaN  \n1       NaN  \n2       NaN  \n3       NaN  \n4  0.554543  ",
      "text/html": "<div>\n<style scoped>\n    .dataframe tbody tr th:only-of-type {\n        vertical-align: middle;\n    }\n\n    .dataframe tbody tr th {\n        vertical-align: top;\n    }\n\n    .dataframe thead th {\n        text-align: right;\n    }\n</style>\n<table border=\"1\" class=\"dataframe\">\n  <thead>\n    <tr style=\"text-align: right;\">\n      <th></th>\n      <th>Unnamed: 0.1</th>\n      <th>Arena_TTL</th>\n      <th>Arena_frame</th>\n      <th>L_eye_frame</th>\n      <th>R_eye_frame</th>\n      <th>L_values</th>\n      <th>R_values</th>\n    </tr>\n  </thead>\n  <tbody>\n    <tr>\n      <th>0</th>\n      <td>0</td>\n      <td>565951.0</td>\n      <td>913.0</td>\n      <td>1.0</td>\n      <td>NaN</td>\n      <td>-2.646521</td>\n      <td>NaN</td>\n    </tr>\n    <tr>\n      <th>1</th>\n      <td>1</td>\n      <td>566291.0</td>\n      <td>914.0</td>\n      <td>2.0</td>\n      <td>NaN</td>\n      <td>-2.646440</td>\n      <td>NaN</td>\n    </tr>\n    <tr>\n      <th>2</th>\n      <td>2</td>\n      <td>566631.0</td>\n      <td>915.0</td>\n      <td>3.0</td>\n      <td>NaN</td>\n      <td>-2.646465</td>\n      <td>NaN</td>\n    </tr>\n    <tr>\n      <th>3</th>\n      <td>3</td>\n      <td>566970.0</td>\n      <td>916.0</td>\n      <td>4.0</td>\n      <td>NaN</td>\n      <td>-2.641369</td>\n      <td>NaN</td>\n    </tr>\n    <tr>\n      <th>4</th>\n      <td>4</td>\n      <td>567310.0</td>\n      <td>917.0</td>\n      <td>5.0</td>\n      <td>2.0</td>\n      <td>-2.641731</td>\n      <td>0.554543</td>\n    </tr>\n  </tbody>\n</table>\n</div>"
     },
     "execution_count": 380,
     "metadata": {},
     "output_type": "execute_result"
    }
   ],
   "source": [
    "block.final_sync_df.head()"
   ],
   "metadata": {
    "collapsed": false,
    "ExecuteTime": {
     "end_time": "2024-12-31T14:01:11.252587900Z",
     "start_time": "2024-12-31T14:01:11.176083500Z"
    }
   },
   "id": "aae3cc695f1bc31c",
   "execution_count": 380
  },
  {
   "cell_type": "code",
   "outputs": [],
   "source": [
    "\n",
    "def create_sync_dataframe(block):\n",
    "    \"\"\"\n",
    "    Constructs a synchronization dataframe for video synchronization.\n",
    "\n",
    "    Parameters:\n",
    "        block: BlockSync object containing synchronization data and eye data.\n",
    "\n",
    "    Returns:\n",
    "        pd.DataFrame: A dataframe with integrated synchronization data for arena and eye videos.\n",
    "    \"\"\"\n",
    "    # Start with the final_sync_df\n",
    "    try:\n",
    "        sync_df = block.final_sync_df[['Arena_TTL', 'Arena_frame']].copy()\n",
    "        sync_df.rename(columns={'Arena_TTL': 'OE_timestamp'}, inplace=True)\n",
    "    except KeyError:\n",
    "        sync_df = block.final_sync_df[['OE_timestamp','Arena_frame']].copy()\n",
    "\n",
    "    # Merge with left eye data\n",
    "    left_eye_data = block.left_eye_data[['OE_timestamp', 'eye_frame']].rename(columns={'eye_frame': 'L_eye_frame'})\n",
    "    sync_df = pd.merge(sync_df, left_eye_data, on='OE_timestamp', how='left')\n",
    "\n",
    "    # Merge with right eye data\n",
    "    right_eye_data = block.right_eye_data[['OE_timestamp', 'eye_frame']].rename(columns={'eye_frame': 'R_eye_frame'})\n",
    "    sync_df = pd.merge(sync_df, right_eye_data, on='OE_timestamp', how='left')\n",
    "\n",
    "    return sync_df\n",
    "\n",
    "# Example Usage\n",
    "sync_df = create_sync_dataframe(block)"
   ],
   "metadata": {
    "collapsed": false,
    "ExecuteTime": {
     "end_time": "2025-01-01T18:27:58.727753700Z",
     "start_time": "2025-01-01T18:27:58.599729600Z"
    }
   },
   "id": "5925f18caca6155",
   "execution_count": 392
  },
  {
   "cell_type": "code",
   "outputs": [
    {
     "data": {
      "text/plain": "       Unnamed: 0.1  OE_timestamp  Arena_frame  L_eye_frame  R_eye_frame  \\\n0                 0      565951.0        913.0          1.0          NaN   \n1                 1      566291.0        914.0          2.0          NaN   \n2                 2      566631.0        915.0          3.0          NaN   \n3                 3      566970.0        916.0          4.0          NaN   \n4                 4      567310.0        917.0          5.0          2.0   \n...             ...           ...          ...          ...          ...   \n99203         99203    34261949.0     100116.0     101272.0     101271.0   \n99204         99204    34262289.0     100117.0     101273.0     101272.0   \n99205         99205    34262628.0     100118.0     101274.0     101273.0   \n99206         99206    34262968.0     100119.0     101275.0     101274.0   \n99207         99207    34263307.0     100120.0     101276.0     101275.0   \n\n       L_values  R_values  \n0     -2.646521       NaN  \n1     -2.646440       NaN  \n2     -2.646465       NaN  \n3     -2.641369       NaN  \n4     -2.641731  0.554543  \n...         ...       ...  \n99203  0.072080 -1.185376  \n99204  0.072150 -1.185574  \n99205  0.072569 -1.186444  \n99206  0.075081 -1.186171  \n99207  0.074788 -1.186275  \n\n[99208 rows x 7 columns]",
      "text/html": "<div>\n<style scoped>\n    .dataframe tbody tr th:only-of-type {\n        vertical-align: middle;\n    }\n\n    .dataframe tbody tr th {\n        vertical-align: top;\n    }\n\n    .dataframe thead th {\n        text-align: right;\n    }\n</style>\n<table border=\"1\" class=\"dataframe\">\n  <thead>\n    <tr style=\"text-align: right;\">\n      <th></th>\n      <th>Unnamed: 0.1</th>\n      <th>OE_timestamp</th>\n      <th>Arena_frame</th>\n      <th>L_eye_frame</th>\n      <th>R_eye_frame</th>\n      <th>L_values</th>\n      <th>R_values</th>\n    </tr>\n  </thead>\n  <tbody>\n    <tr>\n      <th>0</th>\n      <td>0</td>\n      <td>565951.0</td>\n      <td>913.0</td>\n      <td>1.0</td>\n      <td>NaN</td>\n      <td>-2.646521</td>\n      <td>NaN</td>\n    </tr>\n    <tr>\n      <th>1</th>\n      <td>1</td>\n      <td>566291.0</td>\n      <td>914.0</td>\n      <td>2.0</td>\n      <td>NaN</td>\n      <td>-2.646440</td>\n      <td>NaN</td>\n    </tr>\n    <tr>\n      <th>2</th>\n      <td>2</td>\n      <td>566631.0</td>\n      <td>915.0</td>\n      <td>3.0</td>\n      <td>NaN</td>\n      <td>-2.646465</td>\n      <td>NaN</td>\n    </tr>\n    <tr>\n      <th>3</th>\n      <td>3</td>\n      <td>566970.0</td>\n      <td>916.0</td>\n      <td>4.0</td>\n      <td>NaN</td>\n      <td>-2.641369</td>\n      <td>NaN</td>\n    </tr>\n    <tr>\n      <th>4</th>\n      <td>4</td>\n      <td>567310.0</td>\n      <td>917.0</td>\n      <td>5.0</td>\n      <td>2.0</td>\n      <td>-2.641731</td>\n      <td>0.554543</td>\n    </tr>\n    <tr>\n      <th>...</th>\n      <td>...</td>\n      <td>...</td>\n      <td>...</td>\n      <td>...</td>\n      <td>...</td>\n      <td>...</td>\n      <td>...</td>\n    </tr>\n    <tr>\n      <th>99203</th>\n      <td>99203</td>\n      <td>34261949.0</td>\n      <td>100116.0</td>\n      <td>101272.0</td>\n      <td>101271.0</td>\n      <td>0.072080</td>\n      <td>-1.185376</td>\n    </tr>\n    <tr>\n      <th>99204</th>\n      <td>99204</td>\n      <td>34262289.0</td>\n      <td>100117.0</td>\n      <td>101273.0</td>\n      <td>101272.0</td>\n      <td>0.072150</td>\n      <td>-1.185574</td>\n    </tr>\n    <tr>\n      <th>99205</th>\n      <td>99205</td>\n      <td>34262628.0</td>\n      <td>100118.0</td>\n      <td>101274.0</td>\n      <td>101273.0</td>\n      <td>0.072569</td>\n      <td>-1.186444</td>\n    </tr>\n    <tr>\n      <th>99206</th>\n      <td>99206</td>\n      <td>34262968.0</td>\n      <td>100119.0</td>\n      <td>101275.0</td>\n      <td>101274.0</td>\n      <td>0.075081</td>\n      <td>-1.186171</td>\n    </tr>\n    <tr>\n      <th>99207</th>\n      <td>99207</td>\n      <td>34263307.0</td>\n      <td>100120.0</td>\n      <td>101276.0</td>\n      <td>101275.0</td>\n      <td>0.074788</td>\n      <td>-1.186275</td>\n    </tr>\n  </tbody>\n</table>\n<p>99208 rows × 7 columns</p>\n</div>"
     },
     "execution_count": 391,
     "metadata": {},
     "output_type": "execute_result"
    }
   ],
   "source": [
    "block.final_sync_df"
   ],
   "metadata": {
    "collapsed": false,
    "ExecuteTime": {
     "end_time": "2025-01-01T18:27:02.579659Z",
     "start_time": "2025-01-01T18:27:02.495470700Z"
    }
   },
   "id": "84f2127bc1618632",
   "execution_count": 391
  },
  {
   "cell_type": "code",
   "outputs": [
    {
     "data": {
      "text/plain": "       Unnamed: 0.1   Arena_TTL  Arena_frame  L_eye_frame  R_eye_frame  \\\n0                 0    565951.0        913.0          1.0          NaN   \n1                 1    566291.0        914.0          2.0          NaN   \n2                 2    566631.0        915.0          3.0          NaN   \n3                 3    566970.0        916.0          4.0          NaN   \n4                 4    567310.0        917.0          5.0          2.0   \n...             ...         ...          ...          ...          ...   \n99203         99203  34261949.0     100116.0     101272.0     101271.0   \n99204         99204  34262289.0     100117.0     101273.0     101272.0   \n99205         99205  34262628.0     100118.0     101274.0     101273.0   \n99206         99206  34262968.0     100119.0     101275.0     101274.0   \n99207         99207  34263307.0     100120.0     101276.0     101275.0   \n\n       L_values  R_values  \n0     -2.646521       NaN  \n1     -2.646440       NaN  \n2     -2.646465       NaN  \n3     -2.641369       NaN  \n4     -2.641731  0.554543  \n...         ...       ...  \n99203  0.072080 -1.185376  \n99204  0.072150 -1.185574  \n99205  0.072569 -1.186444  \n99206  0.075081 -1.186171  \n99207  0.074788 -1.186275  \n\n[99208 rows x 7 columns]",
      "text/html": "<div>\n<style scoped>\n    .dataframe tbody tr th:only-of-type {\n        vertical-align: middle;\n    }\n\n    .dataframe tbody tr th {\n        vertical-align: top;\n    }\n\n    .dataframe thead th {\n        text-align: right;\n    }\n</style>\n<table border=\"1\" class=\"dataframe\">\n  <thead>\n    <tr style=\"text-align: right;\">\n      <th></th>\n      <th>Unnamed: 0.1</th>\n      <th>Arena_TTL</th>\n      <th>Arena_frame</th>\n      <th>L_eye_frame</th>\n      <th>R_eye_frame</th>\n      <th>L_values</th>\n      <th>R_values</th>\n    </tr>\n  </thead>\n  <tbody>\n    <tr>\n      <th>0</th>\n      <td>0</td>\n      <td>565951.0</td>\n      <td>913.0</td>\n      <td>1.0</td>\n      <td>NaN</td>\n      <td>-2.646521</td>\n      <td>NaN</td>\n    </tr>\n    <tr>\n      <th>1</th>\n      <td>1</td>\n      <td>566291.0</td>\n      <td>914.0</td>\n      <td>2.0</td>\n      <td>NaN</td>\n      <td>-2.646440</td>\n      <td>NaN</td>\n    </tr>\n    <tr>\n      <th>2</th>\n      <td>2</td>\n      <td>566631.0</td>\n      <td>915.0</td>\n      <td>3.0</td>\n      <td>NaN</td>\n      <td>-2.646465</td>\n      <td>NaN</td>\n    </tr>\n    <tr>\n      <th>3</th>\n      <td>3</td>\n      <td>566970.0</td>\n      <td>916.0</td>\n      <td>4.0</td>\n      <td>NaN</td>\n      <td>-2.641369</td>\n      <td>NaN</td>\n    </tr>\n    <tr>\n      <th>4</th>\n      <td>4</td>\n      <td>567310.0</td>\n      <td>917.0</td>\n      <td>5.0</td>\n      <td>2.0</td>\n      <td>-2.641731</td>\n      <td>0.554543</td>\n    </tr>\n    <tr>\n      <th>...</th>\n      <td>...</td>\n      <td>...</td>\n      <td>...</td>\n      <td>...</td>\n      <td>...</td>\n      <td>...</td>\n      <td>...</td>\n    </tr>\n    <tr>\n      <th>99203</th>\n      <td>99203</td>\n      <td>34261949.0</td>\n      <td>100116.0</td>\n      <td>101272.0</td>\n      <td>101271.0</td>\n      <td>0.072080</td>\n      <td>-1.185376</td>\n    </tr>\n    <tr>\n      <th>99204</th>\n      <td>99204</td>\n      <td>34262289.0</td>\n      <td>100117.0</td>\n      <td>101273.0</td>\n      <td>101272.0</td>\n      <td>0.072150</td>\n      <td>-1.185574</td>\n    </tr>\n    <tr>\n      <th>99205</th>\n      <td>99205</td>\n      <td>34262628.0</td>\n      <td>100118.0</td>\n      <td>101274.0</td>\n      <td>101273.0</td>\n      <td>0.072569</td>\n      <td>-1.186444</td>\n    </tr>\n    <tr>\n      <th>99206</th>\n      <td>99206</td>\n      <td>34262968.0</td>\n      <td>100119.0</td>\n      <td>101275.0</td>\n      <td>101274.0</td>\n      <td>0.075081</td>\n      <td>-1.186171</td>\n    </tr>\n    <tr>\n      <th>99207</th>\n      <td>99207</td>\n      <td>34263307.0</td>\n      <td>100120.0</td>\n      <td>101276.0</td>\n      <td>101275.0</td>\n      <td>0.074788</td>\n      <td>-1.186275</td>\n    </tr>\n  </tbody>\n</table>\n<p>99208 rows × 7 columns</p>\n</div>"
     },
     "execution_count": 387,
     "metadata": {},
     "output_type": "execute_result"
    }
   ],
   "source": [
    "block.final_sync_df"
   ],
   "metadata": {
    "collapsed": false,
    "ExecuteTime": {
     "end_time": "2024-12-31T14:07:49.364792Z",
     "start_time": "2024-12-31T14:07:49.334778300Z"
    }
   },
   "id": "48c0fdb859d02958",
   "execution_count": 387
  },
  {
   "cell_type": "code",
   "outputs": [
    {
     "name": "stdout",
     "output_type": "stream",
     "text": [
      "Mismatch Summary:\n",
      "total_frames: 99208\n",
      "L_eye_mismatches: 20951\n",
      "R_eye_mismatches: 10525\n",
      "L_eye_mismatch_percentage: 21.118256592210304\n",
      "R_eye_mismatch_percentage: 10.609023465849528\n"
     ]
    }
   ],
   "source": [
    "def compare_eye_frames(new_sync_df, final_sync_df):\n",
    "    \"\"\"\n",
    "    Compares the L_eye_frame and R_eye_frame columns between new_sync_df and final_sync_df.\n",
    "\n",
    "    Parameters:\n",
    "        new_sync_df (pd.DataFrame): The newly created synchronization dataframe.\n",
    "        final_sync_df (pd.DataFrame): The original synchronization dataframe.\n",
    "\n",
    "    Returns:\n",
    "        dict: A dictionary with mismatches and summary statistics.\n",
    "    \"\"\"\n",
    "    final_sync_df.rename(columns={'Arena_TTL': 'OE_timestamp'}, inplace=True)\n",
    "    # Merge the dataframes on OE_timestamp for alignment\n",
    "    comparison_df = pd.merge(\n",
    "        new_sync_df[['OE_timestamp', 'L_eye_frame', 'R_eye_frame']],\n",
    "        final_sync_df[['OE_timestamp', 'L_eye_frame', 'R_eye_frame']],\n",
    "        on='OE_timestamp',\n",
    "        suffixes=('_new', '_final'),\n",
    "        how='inner'\n",
    "    )\n",
    "\n",
    "    # Compare the columns\n",
    "    comparison_df['L_eye_mismatch'] = comparison_df['L_eye_frame_new'] != comparison_df['L_eye_frame_final']\n",
    "    comparison_df['R_eye_mismatch'] = comparison_df['R_eye_frame_new'] != comparison_df['R_eye_frame_final']\n",
    "\n",
    "    # Identify mismatches\n",
    "    l_eye_mismatches = comparison_df[comparison_df['L_eye_mismatch']]\n",
    "    r_eye_mismatches = comparison_df[comparison_df['R_eye_mismatch']]\n",
    "\n",
    "    # Summary statistics\n",
    "    mismatch_summary = {\n",
    "        'total_frames': len(comparison_df),\n",
    "        'L_eye_mismatches': len(l_eye_mismatches),\n",
    "        'R_eye_mismatches': len(r_eye_mismatches),\n",
    "        'L_eye_mismatch_percentage': len(l_eye_mismatches) / len(comparison_df) * 100,\n",
    "        'R_eye_mismatch_percentage': len(r_eye_mismatches) / len(comparison_df) * 100,\n",
    "    }\n",
    "\n",
    "    return {\n",
    "        'comparison_df': comparison_df,\n",
    "        'l_eye_mismatches': l_eye_mismatches,\n",
    "        'r_eye_mismatches': r_eye_mismatches,\n",
    "        'mismatch_summary': mismatch_summary\n",
    "    }\n",
    "\n",
    "# Example Usage\n",
    "results = compare_eye_frames(sync_df, block.final_sync_df)\n",
    "\n",
    "# Display summary of mismatches\n",
    "print(\"Mismatch Summary:\")\n",
    "for key, value in results['mismatch_summary'].items():\n",
    "    print(f\"{key}: {value}\")\n",
    "\n",
    "# Optionally, save the comparison dataframe to a CSV for detailed analysis\n",
    "results['comparison_df'].to_csv(\"eye_frame_comparison.csv\", index=False)\n"
   ],
   "metadata": {
    "collapsed": false,
    "ExecuteTime": {
     "end_time": "2024-12-31T14:08:09.097486300Z",
     "start_time": "2024-12-31T14:08:08.597541200Z"
    }
   },
   "id": "f71924d206aba84d",
   "execution_count": 388
  },
  {
   "metadata": {
    "ExecuteTime": {
     "end_time": "2025-08-10T08:58:15.021830Z",
     "start_time": "2025-08-10T08:36:50.906608Z"
    }
   },
   "cell_type": "code",
   "source": [
    "# Synchronized playback based on block.final_sync_df\n",
    "import cv2\n",
    "import numpy as np\n",
    "import pandas as pd\n",
    "import time\n",
    "\n",
    "def display_synchronized_frames(sync_df, arena_vid, left_vid, right_vid):\n",
    "    \"\"\"\n",
    "    Displays synchronized frames from three video sources with options for manual control and rolling playback.\n",
    "\n",
    "    Parameters:\n",
    "        sync_df (pd.DataFrame): A dataframe with columns ['Arena_frame', 'L_eye_frame', 'R_eye_frame'].\n",
    "        arena_vid (str): Path to the arena video file.\n",
    "        left_vid (str): Path to the left eye video file.\n",
    "        right_vid (str): Path to the right eye video file.\n",
    "    \"\"\"\n",
    "    # Open video capture objects\n",
    "    arena_cap = cv2.VideoCapture(arena_vid)\n",
    "    left_cap = cv2.VideoCapture(left_vid)\n",
    "    right_cap = cv2.VideoCapture(right_vid)\n",
    "\n",
    "    if not (arena_cap.isOpened() and left_cap.isOpened() and right_cap.isOpened()):\n",
    "        print(\"Error: Could not open one or more video files.\")\n",
    "        return\n",
    "\n",
    "    # Function to resize frames while keeping aspect ratio\n",
    "    def resize_frame(frame, scale, canvas):\n",
    "        new_w, new_h = int(frame.shape[1] * scale), int(frame.shape[0] * scale)\n",
    "        resized = cv2.resize(frame, (new_w, new_h), interpolation=cv2.INTER_AREA)\n",
    "        canvas.fill(0)\n",
    "        canvas[(canvas.shape[0] - new_h) // 2:(canvas.shape[0] - new_h) // 2 + new_h,\n",
    "               (canvas.shape[1] - new_w) // 2:(canvas.shape[1] - new_w) // 2 + new_w] = resized\n",
    "        return canvas\n",
    "\n",
    "    # Parameters for display\n",
    "    window_size = (640, 480)  # Default window size for each video\n",
    "    cv2.namedWindow(\"Arena View\", cv2.WINDOW_NORMAL)\n",
    "    cv2.namedWindow(\"Left Eye View\", cv2.WINDOW_NORMAL)\n",
    "    cv2.namedWindow(\"Right Eye View\", cv2.WINDOW_NORMAL)\n",
    "    cv2.resizeWindow(\"Arena View\", window_size[0], window_size[1])\n",
    "    cv2.resizeWindow(\"Left Eye View\", window_size[0], window_size[1])\n",
    "    cv2.resizeWindow(\"Right Eye View\", window_size[0], window_size[1])\n",
    "\n",
    "    # Precompute scaling factors and allocate canvases\n",
    "    scale_arena = min(window_size[0] / arena_cap.get(cv2.CAP_PROP_FRAME_WIDTH),\n",
    "                      window_size[1] / arena_cap.get(cv2.CAP_PROP_FRAME_HEIGHT))\n",
    "    scale_eye = min(window_size[0] / left_cap.get(cv2.CAP_PROP_FRAME_WIDTH),\n",
    "                    window_size[1] / left_cap.get(cv2.CAP_PROP_FRAME_HEIGHT))\n",
    "    arena_canvas = np.zeros((window_size[1], window_size[0], 3), dtype=np.uint8)\n",
    "    left_canvas = np.zeros((window_size[1], window_size[0], 3), dtype=np.uint8)\n",
    "    right_canvas = np.zeros((window_size[1], window_size[0], 3), dtype=np.uint8)\n",
    "\n",
    "    current_idx = 0\n",
    "    max_idx = len(sync_df)\n",
    "    rolling_playback = False\n",
    "    slo_mo = 0\n",
    "    # Main loop for displaying frames\n",
    "    while True:\n",
    "        row = sync_df.iloc[current_idx]\n",
    "        arena_frame, left_frame, right_frame = row['Arena_frame'], row['L_eye_frame'], row['R_eye_frame']\n",
    "\n",
    "        # Retrieve frames (sequential read during rolling playback, seeking otherwise)\n",
    "        if rolling_playback:\n",
    "            if slo_mo % 2 == 0:\n",
    "                time.sleep(1 / 60)  # Playback at 60 fps\n",
    "\n",
    "            if current_idx < max_idx - 1:\n",
    "                current_idx += 1\n",
    "                arena_img = arena_cap.read()[1] if not pd.isna(arena_frame) else None\n",
    "                left_img = left_cap.read()[1] if not pd.isna(left_frame) else None\n",
    "                right_img = right_cap.read()[1] if not pd.isna(right_frame) else None\n",
    "            else:\n",
    "                rolling_playback = False  # Stop playback at the last frame\n",
    "        else:\n",
    "            arena_cap.set(cv2.CAP_PROP_POS_FRAMES, arena_frame if not pd.isna(arena_frame) else 0)\n",
    "            left_cap.set(cv2.CAP_PROP_POS_FRAMES, left_frame if not pd.isna(left_frame) else 0)\n",
    "            right_cap.set(cv2.CAP_PROP_POS_FRAMES, right_frame if not pd.isna(right_frame) else 0)\n",
    "            arena_img = arena_cap.read()[1] if not pd.isna(arena_frame) else None\n",
    "            left_img = left_cap.read()[1] if not pd.isna(left_frame) else None\n",
    "            right_img = right_cap.read()[1] if not pd.isna(right_frame) else None\n",
    "\n",
    "        # Prepare display images\n",
    "        def prepare_display(image, scale, canvas, flip=False):\n",
    "            if image is None:\n",
    "                display = np.zeros(canvas.shape, dtype=np.uint8)\n",
    "                cv2.putText(display, \"No synchronized frame\", (50, canvas.shape[0] // 2),\n",
    "                            cv2.FONT_HERSHEY_SIMPLEX, 1, (0, 0, 255), 2)\n",
    "            else:\n",
    "                if flip:\n",
    "                    image = cv2.flip(cv2.flip(image, 0), 1)  # Flip vertically and horizontally\n",
    "                display = resize_frame(image, scale, canvas)\n",
    "            return display\n",
    "\n",
    "        arena_display = prepare_display(arena_img, scale_arena, arena_canvas)\n",
    "        left_display = prepare_display(left_img, scale_eye, left_canvas, flip=True)\n",
    "        right_display = prepare_display(right_img, scale_eye, right_canvas, flip=True)\n",
    "\n",
    "        # Show frames in separate windows\n",
    "        cv2.imshow(\"Arena View\", arena_display)\n",
    "        cv2.imshow(\"Left Eye View\", left_display)\n",
    "        cv2.imshow(\"Right Eye View\", right_display)\n",
    "\n",
    "        # Clear the console and print updated frame info\n",
    "        print(f\"\\rFrame Info: Arena: {arena_frame}, Left Eye: {left_frame}, Right Eye: {right_frame} (Index: {current_idx})\", end='', flush=True)\n",
    "\n",
    "        # Handle keyboard events\n",
    "        if not rolling_playback:\n",
    "            key = cv2.waitKey(0) & 0xFF\n",
    "            if key == ord('q'):  # Quit\n",
    "                break\n",
    "            elif key == ord('n'):  # Step backward\n",
    "                current_idx = max(0, current_idx - 1)\n",
    "            elif key == ord('c'):  # Step backward by 30 frames\n",
    "                current_idx = max(0, current_idx - 30)\n",
    "            elif key == ord('m'):  # Step forward\n",
    "                current_idx = min(max_idx - 1, current_idx + 1)\n",
    "            elif key == ord('v'):  # Step forward by 30 frames\n",
    "                current_idx = min(max_idx - 1, current_idx + 30)\n",
    "            elif key == ord('f'):  # Step forward by 120 frames\n",
    "                current_idx = min(max_idx - 1, current_idx + 120)\n",
    "            elif key == ord('p'):  # Start rolling playback\n",
    "                rolling_playback = True\n",
    "        else:\n",
    "            if cv2.waitKey(1) & 0xFF == ord('p'):  # Stop rolling playback\n",
    "                rolling_playback = False\n",
    "            elif cv2.waitKey(1) & 0xFF == ord('o'):\n",
    "                slo_mo += 1\n",
    "\n",
    "    # Release video captures and destroy windows\n",
    "    arena_cap.release()\n",
    "    left_cap.release()\n",
    "    right_cap.release()\n",
    "    cv2.destroyAllWindows()\n",
    "\n",
    "\n",
    "\n",
    "\n",
    "arena_vid = r'X:\\Nimrod\\experiments\\PV_106\\2025_08_06\\block_013\\arena_videos\\videos/top_20250806T140238.avi'\n",
    "left_vid = block.le_videos[0]\n",
    "right_vid = block.re_videos[0]\n",
    "sync_df = block.final_sync_df\n",
    "display_synchronized_frames(sync_df, arena_vid=arena_vid,left_vid=left_vid, right_vid=right_vid)"
   ],
   "id": "349df64c140321c6",
   "outputs": [
    {
     "name": "stdout",
     "output_type": "stream",
     "text": [
      "Frame Info: Arena: 1475.0, Left Eye: 793.0, Right Eye: 807.0 (Index: 758)"
     ]
    }
   ],
   "execution_count": 180
  },
  {
   "metadata": {
    "ExecuteTime": {
     "end_time": "2025-08-10T08:32:43.548030Z",
     "start_time": "2025-08-10T08:32:43.535032Z"
    }
   },
   "cell_type": "code",
   "source": "block",
   "id": "b2dfb19213902307",
   "outputs": [
    {
     "data": {
      "text/plain": [
       "BlockSync object for animal PV_106 with \n",
       "block_num 013 at date PV106_ET_d3t6_2025-08-06_14-02-05"
      ]
     },
     "execution_count": 179,
     "metadata": {},
     "output_type": "execute_result"
    }
   ],
   "execution_count": 179
  },
  {
   "metadata": {},
   "cell_type": "code",
   "outputs": [],
   "execution_count": null,
   "source": "",
   "id": "232a952f4592765e"
  }
 ],
 "metadata": {
  "kernelspec": {
   "display_name": "Python 3",
   "language": "python",
   "name": "python3"
  },
  "language_info": {
   "codemirror_mode": {
    "name": "ipython",
    "version": 2
   },
   "file_extension": ".py",
   "mimetype": "text/x-python",
   "name": "python",
   "nbconvert_exporter": "python",
   "pygments_lexer": "ipython2",
   "version": "2.7.6"
  }
 },
 "nbformat": 4,
 "nbformat_minor": 5
}
