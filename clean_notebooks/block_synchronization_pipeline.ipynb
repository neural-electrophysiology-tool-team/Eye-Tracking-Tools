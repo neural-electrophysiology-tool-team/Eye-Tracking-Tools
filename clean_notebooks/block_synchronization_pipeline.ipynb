{
 "cells": [
  {
   "cell_type": "code",
   "outputs": [],
   "source": [
    "import numpy as np\n",
    "import cv2\n",
    "from itertools import cycle\n",
    "import pickle\n",
    "import pathlib\n",
    "import math\n",
    "import tqdm\n",
    "import scipy.io\n",
    "from matplotlib import pyplot as plt\n",
    "import scipy.io\n",
    "import h5py\n",
    "import re\n",
    "from lxml import etree as ET\n",
    "import scipy.signal as sig\n",
    "import pandas as pd\n",
    "from scipy.stats import kde\n",
    "from BlockSync_current import BlockSync\n",
    "import UtilityFunctions_newOE as uf\n",
    "from scipy import signal\n",
    "import bokeh\n",
    "import seaborn as sns"
   ],
   "metadata": {
    "collapsed": false,
    "ExecuteTime": {
     "end_time": "2025-05-07T11:33:02.847841300Z",
     "start_time": "2025-05-07T11:33:02.444842400Z"
    }
   },
   "id": "1549b3863d392dbe",
   "execution_count": 1
  },
  {
   "cell_type": "code",
   "outputs": [],
   "source": [
    "def create_distance_plot(distances, top_dist_to_show=500):\n",
    "    # Create cumulative distribution plot\n",
    "    sns.set(style=\"whitegrid\")\n",
    "    fig, axs = plt.subplots(2, figsize=(6, 6), dpi=150)\n",
    "    \n",
    "    axs[0].set_title('Cumulative Euclidean Distances for Camera Jitter', fontsize=15)\n",
    "    axs[0].set_ylabel('Cumulative \\n % of Frames')\n",
    "    axs[0].set_xlim(0, top_dist_to_show)\n",
    "    axs[0].grid(False)\n",
    "    \n",
    "    # Create histogram and cumulative distribution\n",
    "    sns.kdeplot(distances, cumulative=True, label='Left Eye', ax=axs[0], linewidth=4, c='black')\n",
    "    \n",
    "    axs[1].hist(distances, bins=np.linspace(0, top_dist_to_show, 20), log=False, color='black')\n",
    "\n",
    "    # Set title and labels\n",
    "    title = 'Image displacement histogram'\n",
    "    axs[1].set_title(title, fontsize=15)\n",
    "    axs[1].set_xlabel('Euclidean Displacement [$\\mu$m]', fontsize=15)\n",
    "    axs[1].set_xscale('linear')\n",
    "    axs[1].set_yscale('linear')\n",
    "    axs[1].set_ylabel('Frame count', fontsize=15)\n",
    "\n",
    "    # Adjust tick label sizes\n",
    "    axs[1].tick_params(axis='x', which='major', labelsize=15)\n",
    "\n",
    "    # Set white background and black text\n",
    "    axs[1].set_facecolor('white')\n",
    "    axs[1].title.set_color('black')\n",
    "    axs[1].xaxis.label.set_color('black')\n",
    "    axs[1].yaxis.label.set_color('black')\n",
    "    axs[1].tick_params(colors='black')\n",
    "    axs[1].grid(False)\n",
    "\n",
    "    plt.tight_layout()\n",
    "\n",
    "    return fig, axs\n",
    "def add_intermediate_elements(input_vector, gap_to_bridge):\n",
    "    # Step 1: Calculate differences between each element\n",
    "    differences = np.diff(input_vector)\n",
    "\n",
    "    # Step 2: Add intervening elements based on the diff_threshold\n",
    "    output_vector = [input_vector[0]]\n",
    "    for i, diff in enumerate(differences):\n",
    "        if diff < gap_to_bridge:\n",
    "            # Add intervening elements\n",
    "            output_vector.extend(range(input_vector[i] + 1, input_vector[i + 1]))\n",
    "\n",
    "        # Add the next element from the original vector\n",
    "        output_vector.append(input_vector[i + 1])\n",
    "\n",
    "    return np.sort(np.unique(output_vector))\n",
    "\n",
    "def find_jittery_frames(block, eye, max_distance, diff_threshold, gap_to_bridge=6):\n",
    "    \n",
    "    #input checks\n",
    "    if eye not in ['left', 'right']:\n",
    "        print(f'eye can only be left/right, your input: {eye}')\n",
    "        return None\n",
    "    # eye setup\n",
    "    if eye == 'left':\n",
    "        jitter_dict = block.le_jitter_dict\n",
    "        eye_frame_col = 'L_eye_frame'\n",
    "    elif eye == 'right':\n",
    "        jitter_dict = block.re_jitter_dict\n",
    "        eye_frame_col = 'R_eye_frame'\n",
    "    \n",
    "    df_dict = {'left':block.le_df,\n",
    "               'right':block.re_df}\n",
    "    \n",
    "    df = pd.DataFrame.from_dict(jitter_dict)\n",
    "    indices_of_highest_drift = df.query(\"top_correlation_dist > @max_distance\").index.values\n",
    "    diff_vec = np.diff(df['top_correlation_dist'].values)\n",
    "    diff_peaks_indices = np.where(diff_vec > diff_threshold)[0]\n",
    "    video_indices = np.concatenate((diff_peaks_indices, indices_of_highest_drift))\n",
    "    print(f'the diff based jitter frame exclusion gives: {np.shape(diff_peaks_indices)}')\n",
    "    print(f'the threshold based jitter frame exclusion gives: {np.shape(indices_of_highest_drift)}')\n",
    "    \n",
    "    # creates a bridged version of the overly jittery frames (to contend with single frame outliers)\n",
    "    video_indices = add_intermediate_elements(video_indices, gap_to_bridge=gap_to_bridge)\n",
    "    # This is the input you should give to the BlockSync.remove_eye_datapoints function (which already maps it to the df) \n",
    "    \n",
    "    \n",
    "    # translates the video indices to le/re dataframe rows\n",
    "    df_indices_to_remove = df_dict[eye].loc[df_dict[eye][eye_frame_col].isin(video_indices)].index.values\n",
    "    \n",
    "    return df_indices_to_remove, video_indices\n",
    "\n",
    "def bokeh_plotter(data_list, label_list,\n",
    "                  plot_name='default',\n",
    "                  x_axis='X', y_axis='Y',\n",
    "                  peaks=None, peaks_list=False, export_path=False):\n",
    "    \"\"\"Generates an interactive Bokeh plot for the given data vector.\n",
    "    Args:\n",
    "        data_list (list or array): The data to be plotted.\n",
    "        label_list (list of str): The labels of the data vectors\n",
    "        plot_name (str, optional): The title of the plot. Defaults to 'default'.\n",
    "        x_axis (str, optional): The label for the x-axis. Defaults to 'X'.\n",
    "        y_axis (str, optional): The label for the y-axis. Defaults to 'Y'.\n",
    "        peaks (list or array, optional): Indices of peaks to highlight on the plot. Defaults to None.\n",
    "        export_path (False or str): when set to str, will output the resulting html fig\n",
    "    \"\"\"\n",
    "    color_cycle = cycle(bokeh.palettes.Category10_10)\n",
    "    fig = bokeh.plotting.figure(title=f'bokeh explorer: {plot_name}',\n",
    "                                x_axis_label=x_axis,\n",
    "                                y_axis_label=y_axis,\n",
    "                                plot_width=1500,\n",
    "                                plot_height=700)\n",
    "\n",
    "    for i, vec in enumerate(range(len(data_list))):\n",
    "        color = next(color_cycle)\n",
    "        data_vector = data_list[vec]\n",
    "        if label_list is None:\n",
    "            fig.line(range(len(data_vector)), data_vector, line_color=color, legend_label=f\"Line {len(fig.renderers)}\")\n",
    "        elif len(label_list) == len(data_list):\n",
    "            fig.line(range(len(data_vector)), data_vector, line_color=color, legend_label=f\"{label_list[i]}\")\n",
    "        if peaks is not None and peaks_list is True:\n",
    "            fig.circle(peaks[i], data_vector[peaks[i]], size=10, color=color)\n",
    "\n",
    "    if peaks is not None and peaks_list is False:\n",
    "        fig.circle(peaks, data_vector[peaks], size=10, color='red')\n",
    "\n",
    "    if export_path is not False:\n",
    "        print(f'exporting to {export_path}')\n",
    "        bokeh.io.output.output_file(filename=str(export_path / f'{plot_name}.html'), title=f'{plot_name}')\n",
    "    bokeh.plotting.show(fig)\n",
    "    \n",
    "def play_video_with_ellipses_rotation(block, eye, path_to_video=False, xflip=False, transformation_matrix=None, phi_in_radians=False):\n",
    "    if eye == 'left':\n",
    "        video_path = block.le_videos[0]\n",
    "        ellipse_dataframe = block.left_eye_data\n",
    "    elif eye == 'right':\n",
    "        video_path = block.re_videos[0]\n",
    "        ellipse_dataframe = block.right_eye_data\n",
    "    else:\n",
    "        raise ValueError(f\"eye can only be 'left' or 'right'\")\n",
    "    \n",
    "    if video_path is not False:\n",
    "        video_path = path_to_video\n",
    "\n",
    "    # Open the video file\n",
    "    cap = cv2.VideoCapture(video_path)\n",
    "\n",
    "    if not cap.isOpened():\n",
    "        print(\"Error opening video file.\")\n",
    "        return\n",
    "\n",
    "    # Loop through each frame\n",
    "    while True:\n",
    "        # Read a frame from the video\n",
    "        ret, frame = cap.read()\n",
    "    \n",
    "        if not ret:\n",
    "            # Break the loop if the video is finished\n",
    "            break\n",
    "        \n",
    "        # Optionally flip the frame along the x-axis\n",
    "        if xflip:\n",
    "            frame = cv2.flip(frame, 1)\n",
    "\n",
    "        # Apply transformation matrix if provided\n",
    "        if transformation_matrix is not None:\n",
    "            frame = cv2.warpAffine(frame, transformation_matrix, (frame.shape[1], frame.shape[0]))\n",
    "\n",
    "        # Get the corresponding ellipse data for the current frame\n",
    "        current_frame_num = int(cap.get(cv2.CAP_PROP_POS_FRAMES)) - 1\n",
    "        try:\n",
    "            current_frame_data = ellipse_dataframe.iloc[ellipse_dataframe.query('eye_frame == @current_frame_num').index[0]]\n",
    "        except IndexError:\n",
    "            continue\n",
    "\n",
    "        # Extract ellipse parameters\n",
    "        if transformation_matrix is not None:\n",
    "            try:\n",
    "                center_x = int(current_frame_data['center_x'])\n",
    "                center_y = int(current_frame_data['center_y'])\n",
    "                width = int(current_frame_data['width'])\n",
    "                height = int(current_frame_data['height'])\n",
    "                if phi_in_radians:\n",
    "                    phi = np.deg2rad(float(current_frame_data['phi']))\n",
    "                else:\n",
    "                    phi = float(current_frame_data['phi'])\n",
    "                \n",
    "                # Draw the ellipse on the frame\n",
    "                cv2.ellipse(frame, (center_x, center_y), (width, height), phi, 0, 360, (0, 255, 0), 2)\n",
    "                \n",
    "                # Add text to the frame\n",
    "                text = f'ellipse angle: {phi}'\n",
    "                cv2.putText(frame, text, (10, 30), cv2.FONT_HERSHEY_SIMPLEX, 1, (0, 255, 0), 2, cv2.LINE_AA)\n",
    "        \n",
    "                \n",
    "                # Display the frame\n",
    "                cv2.imshow('Video with Ellipses', frame)\n",
    "            \n",
    "                # Check for the 'q' key to quit\n",
    "                if cv2.waitKey(25) & 0xFF == ord('q'):\n",
    "                    break\n",
    "            except ValueError:\n",
    "                continue\n",
    "        else:\n",
    "            try:\n",
    "                center_x = int(current_frame_data['center_x'])\n",
    "                center_y = int(current_frame_data['center_y'])\n",
    "                width = int(current_frame_data['width'])\n",
    "                height = int(current_frame_data['height'])\n",
    "                if phi_in_radians:\n",
    "                    phi = np.deg2rad(float(current_frame_data['phi']))\n",
    "                else:\n",
    "                    phi = float(current_frame_data['phi'])\n",
    "        \n",
    "                # Draw the ellipse on the frame\n",
    "                cv2.ellipse(frame, (center_x, center_y), (width, height), phi, 0, 360, (0, 255, 0), 2)\n",
    "                \n",
    "                # Add text to the frame\n",
    "                text = f'ellipse angle: {phi}'\n",
    "                cv2.putText(frame, text, (10, 30), cv2.FONT_HERSHEY_SIMPLEX, 1, (0, 255, 0), 2, cv2.LINE_AA)\n",
    "                \n",
    "                # Display the frame\n",
    "                cv2.imshow('Video with Ellipses', frame)\n",
    "            \n",
    "                # Check for the 'q' key to quit\n",
    "                if cv2.waitKey(25) & 0xFF == ord('q'):\n",
    "                    break\n",
    "            except ValueError:\n",
    "                continue\n",
    "\n",
    "    # Release video capture object and close the window\n",
    "    cap.release()\n",
    "    cv2.destroyAllWindows()\n",
    "    \n",
    "def play_video_with_ellipses_rotation_plus_major_axis(block, eye, path_to_video=False, xflip=False, transformation_matrix=None):\n",
    "    if eye == 'left':\n",
    "        video_path = block.le_videos[0]\n",
    "        ellipse_dataframe = block.left_eye_data\n",
    "    elif eye == 'right':\n",
    "        video_path = block.re_videos[0]\n",
    "        ellipse_dataframe = block.right_eye_data\n",
    "    else:\n",
    "        raise ValueError(f\"eye can only be 'left' or 'right'\")\n",
    "    \n",
    "    if video_path is not False:\n",
    "        video_path = path_to_video\n",
    "\n",
    "    # Open the video file\n",
    "    cap = cv2.VideoCapture(video_path)\n",
    "\n",
    "    if not cap.isOpened():\n",
    "        print(\"Error opening video file.\")\n",
    "        return\n",
    "\n",
    "    # Loop through each frame\n",
    "    while True:\n",
    "        # Read a frame from the video\n",
    "        ret, frame = cap.read()\n",
    "    \n",
    "        if not ret:\n",
    "            # Break the loop if the video is finished\n",
    "            break\n",
    "        \n",
    "        # Optionally flip the frame along the x-axis\n",
    "        if xflip:\n",
    "            frame = cv2.flip(frame, 1)\n",
    "\n",
    "        # Apply transformation matrix if provided\n",
    "        if transformation_matrix is not None:\n",
    "            frame = cv2.warpAffine(frame, transformation_matrix, (frame.shape[1], frame.shape[0]))\n",
    "\n",
    "        # Get the corresponding ellipse data for the current frame\n",
    "        current_frame_num = int(cap.get(cv2.CAP_PROP_POS_FRAMES)) - 1\n",
    "        try:\n",
    "            current_frame_data = ellipse_dataframe.iloc[ellipse_dataframe.query('eye_frame == @current_frame_num').index[0]]\n",
    "        except IndexError:\n",
    "            continue\n",
    "\n",
    "        # Extract ellipse parameters\n",
    "        try:\n",
    "            center_x = int(current_frame_data['center_x'])\n",
    "            center_y = int(current_frame_data['center_y'])\n",
    "            width = int(current_frame_data['major_ax'])\n",
    "            height = int(current_frame_data['minor_ax'])\n",
    "            phi = np.deg2rad(float(current_frame_data['phi']))  # Convert angle to radians\n",
    "            \n",
    "            # Draw the ellipse on the frame\n",
    "            cv2.ellipse(frame, (center_x, center_y), (width, height), phi, 0, 360, (0, 255, 0), 2)\n",
    "            \n",
    "            # Calculate endpoints of major axis\n",
    "            axis_length = max(width, height) / 2\n",
    "            sin_phi = np.sin(phi)\n",
    "            cos_phi = np.cos(phi)\n",
    "            x1 = int(center_x + axis_length * cos_phi)\n",
    "            y1 = int(center_y + axis_length * sin_phi)\n",
    "            x2 = int(center_x - axis_length * cos_phi)\n",
    "            y2 = int(center_y - axis_length * sin_phi)\n",
    "            \n",
    "            # Draw major axis\n",
    "            cv2.line(frame, (x1, y1), (x2, y2), (0, 0, 255), 2)\n",
    "            \n",
    "            # Add text to the frame\n",
    "            text = f'ellipse angle: {np.rad2deg(phi)}'\n",
    "            cv2.putText(frame, text, (10, 30), cv2.FONT_HERSHEY_SIMPLEX, 1, (0, 255, 0), 2, cv2.LINE_AA)\n",
    "            \n",
    "            # Display the frame\n",
    "            cv2.imshow('Video with Ellipses', frame)\n",
    "        \n",
    "            # Check for the 'q' key to quit\n",
    "            if cv2.waitKey(25) & 0xFF == ord('q'):\n",
    "                break\n",
    "        except ValueError:\n",
    "            continue\n",
    "\n",
    "    # Release video capture object and close the window\n",
    "    cap.release()\n",
    "    cv2.destroyAllWindows()\n",
    "    \n",
    "def get_frame_count(video_path):\n",
    "        \"\"\"\n",
    "        Get the number of frames for the video in the specified path using OpenCV.\n",
    "    \n",
    "        Parameters:\n",
    "            video_path (str): Path to the video file.\n",
    "    \n",
    "        Returns:\n",
    "            int: Number of frames in the video.\n",
    "        \"\"\"\n",
    "        \n",
    "        # Open the video file\n",
    "        cap = cv2.VideoCapture(video_path)\n",
    "    \n",
    "        # Check if the video file is opened successfully\n",
    "        if not cap.isOpened():\n",
    "            print(\"Error: Could not open the video file.\")\n",
    "            return -1\n",
    "    \n",
    "        # Get the total number of frames in the video\n",
    "        frame_count = int(cap.get(cv2.CAP_PROP_FRAME_COUNT))\n",
    "    \n",
    "        # Release the VideoCapture object\n",
    "        cap.release()\n",
    "    \n",
    "        return frame_count\n"
   ],
   "metadata": {
    "collapsed": false,
    "ExecuteTime": {
     "end_time": "2025-05-07T11:33:04.169841400Z",
     "start_time": "2025-05-07T11:33:04.144843Z"
    }
   },
   "id": "6d3dfdb223dc6e82",
   "execution_count": 2
  },
  {
   "cell_type": "markdown",
   "source": [
    "# Block Instantiation"
   ],
   "metadata": {
    "collapsed": false
   },
   "id": "aa0ef925618c2966"
  },
  {
   "cell_type": "code",
   "outputs": [
    {
     "name": "stdout",
     "output_type": "stream",
     "text": [
      "instantiated block number 007 at Path: Z:\\Nimrod\\experiments\\PV_57\\2024_11_25\\block_007, new OE version\n",
      "Found the sample rate for block 007 in the xml file, it is 20000 Hz\n",
      "created the .oe_rec attribute as an open ephys recording obj with get_data functionality\n",
      "retrieving zertoh sample number for block 007\n",
      "got it!\n"
     ]
    }
   ],
   "source": [
    "\n",
    "# define a single block to synchronize and finally export l/r_eye_data csv files:\n",
    "# this step creates block_collection - a list of BlockSync objects of interest\n",
    "block_numbers = [7]\n",
    "bad_blocks = [] # \n",
    "experiment_path = pathlib.Path(r\"Z:\\Nimrod\\experiments\")\n",
    "animal = 'PV_57'\n",
    "\n",
    "block_collection = uf.block_generator(block_numbers=block_numbers,\n",
    "                                      experiment_path=experiment_path,\n",
    "                                      animal=animal,\n",
    "                                      bad_blocks=bad_blocks,regev=True)\n",
    "# create a block_dict object for ease of access:\n",
    "block_dict = {}\n",
    "for b in block_collection:\n",
    "    block_dict[str(b.block_num)] = b\n",
    "block = block_collection[0]"
   ],
   "metadata": {
    "collapsed": false,
    "ExecuteTime": {
     "end_time": "2025-05-07T11:33:13.897108100Z",
     "start_time": "2025-05-07T11:33:13.553109700Z"
    }
   },
   "id": "1d1afca402f23506",
   "execution_count": 3
  },
  {
   "cell_type": "code",
   "outputs": [],
   "source": [
    "from scipy.interpolate import interp1d\n",
    "import numpy as np\n",
    "import pandas as pd\n",
    "import pathlib\n",
    "from tqdm import tqdm\n",
    "\n",
    "def synchronize_block_for_non_60fps_acquisition(self, export=True, overwrite=False, target_frame_rate=60, margin_of_error=0.1):\n",
    "    \"\"\"\n",
    "    Synchronize the video frames to a target frame rate using interpolation.\n",
    "    \"\"\"\n",
    "    # Check if previously exported file exists\n",
    "    if pathlib.Path(self.analysis_path / 'blocksync_df.csv').exists() and not overwrite:\n",
    "        self.blocksync_df = pd.read_csv(pathlib.Path(self.analysis_path / 'blocksync_df.csv'), engine='python')\n",
    "        print('blocksync_df loaded from analysis folder')\n",
    "        return self.blocksync_df\n",
    "    \n",
    "    print('Creating blocksync_df')\n",
    "\n",
    "    # Define start and end times\n",
    "    start_time = max([self.arena_vid_first_t, self.r_vid_first_t, self.l_vid_first_t])\n",
    "    end_time = min([self.arena_vid_last_t, self.r_vid_last_t, self.l_vid_last_t])\n",
    "\n",
    "    # Extract TTLs and calculate frame rate\n",
    "    arena_ttls = self.oe_events.query('@start_time < Arena_TTL < @end_time')['Arena_TTL'].values\n",
    "    arena_frame_rate = self.sample_rate / np.median(np.diff(arena_ttls))\n",
    "\n",
    "    if not (target_frame_rate - margin_of_error <= arena_frame_rate <= target_frame_rate + margin_of_error):\n",
    "        print(f\"Arena video frame rate is {arena_frame_rate:.2f} Hz. Adjusting to {target_frame_rate} FPS.\")\n",
    "\n",
    "        # Define target time base\n",
    "        original_time = np.cumsum(np.insert(np.diff(arena_ttls), 0, 0)) / self.sample_rate\n",
    "        target_time = np.arange(0, original_time[-1], 1 / target_frame_rate)\n",
    "\n",
    "        # Interpolate using linear method\n",
    "        interpolator = interp1d(original_time, arena_ttls, kind='linear', fill_value='extrapolate')\n",
    "        new_arena_ttl = interpolator(target_time).astype(int)\n",
    "    else:\n",
    "        print(f\"Arena video frame rate is {arena_frame_rate:.2f} Hz, within acceptable range. No adjustment needed.\")\n",
    "        new_arena_ttl = arena_ttls\n",
    "\n",
    "    # Create a synchronization DataFrame\n",
    "    arena_tf = self.oe_events.query('@start_time < Arena_TTL < @end_time')[['Arena_TTL', 'Arena_TTL_frame']]\n",
    "    r_eye_tf = self.oe_events.query('@start_time < Arena_TTL < @end_time or Arena_TTL != Arena_TTL')[['R_eye_TTL', 'R_eye_TTL_frame']].dropna()\n",
    "    l_eye_tf = self.oe_events.query('@start_time < Arena_TTL < @end_time or Arena_TTL != Arena_TTL')[['L_eye_TTL', 'L_eye_TTL_frame']].dropna()\n",
    "\n",
    "    # Build the synchronization DataFrame\n",
    "    self.blocksync_df = pd.DataFrame(columns=['Arena_frame', 'L_eye_frame', 'R_eye_frame'], index=new_arena_ttl)\n",
    "\n",
    "    for t in tqdm(new_arena_ttl, desc='Synchronizing Frames'):\n",
    "        arena_frame = arena_tf['Arena_TTL_frame'].iloc[self.get_closest_frame(t, arena_tf['Arena_TTL'])]\n",
    "        l_eye_frame = l_eye_tf['L_eye_TTL_frame'].iloc[self.get_closest_frame(t, l_eye_tf['L_eye_TTL'])]\n",
    "        r_eye_frame = r_eye_tf['R_eye_TTL_frame'].iloc[self.get_closest_frame(t, r_eye_tf['R_eye_TTL'])]\n",
    "        self.blocksync_df.loc[t] = [arena_frame, l_eye_frame, r_eye_frame]\n",
    "\n",
    "    print('Created blocksync_df')\n",
    "    if export:\n",
    "        self.blocksync_df.to_csv(self.analysis_path / 'blocksync_df.csv')\n",
    "        print(f'Exported blocksync_df to {self.analysis_path}/blocksync_df.csv')\n",
    "\n",
    "    return self.blocksync_df\n"
   ],
   "metadata": {
    "collapsed": false,
    "ExecuteTime": {
     "end_time": "2025-02-18T12:25:02.765978900Z",
     "start_time": "2025-02-18T12:25:02.731936600Z"
    }
   },
   "id": "d6483462c7f7337b",
   "execution_count": 63
  },
  {
   "cell_type": "code",
   "outputs": [],
   "source": [
    "import pickle\n",
    "import cv2\n",
    "from pathlib import Path\n",
    "\n",
    "\n",
    "def select_rois_for_blocks(block_list, save_path):\n",
    "    \"\"\"\n",
    "    Allows the user to select ROIs for all blocks without calculating brightness.\n",
    "\n",
    "    Args:\n",
    "        block_list (list): List of BlockSync objects.\n",
    "        save_path (str or Path): Path to save the selected ROIs as a pickle file.\n",
    "\n",
    "    Returns:\n",
    "        None\n",
    "    \"\"\"\n",
    "    rois_dict = {}\n",
    "    for block in block_list:\n",
    "        rois_dict[block.block_num] = {}\n",
    "\n",
    "        for eye, video_path in zip(['left_eye', 'right_eye'], [block.le_videos[0], block.re_videos[0]]):\n",
    "            cap = cv2.VideoCapture(video_path)\n",
    "            if not cap.isOpened():\n",
    "                print(f\"Error: Cannot open video {video_path}\")\n",
    "                continue\n",
    "\n",
    "            ret, frame = cap.read()\n",
    "            if not ret:\n",
    "                print(f\"Error: Cannot read the first frame of {video_path}\")\n",
    "                cap.release()\n",
    "                continue\n",
    "\n",
    "            roi = cv2.selectROI(f\"Select ROI for {eye} - Block {block.block_num}\", frame, showCrosshair=True, fromCenter=False)\n",
    "            rois_dict[block.block_num][eye] = roi\n",
    "            cv2.destroyWindow(f\"Select ROI for {eye} - Block {block.block_num}\")\n",
    "            cap.release()\n",
    "\n",
    "    # Save the ROIs to a pickle file\n",
    "    save_path = Path(save_path)\n",
    "    with open(save_path, 'wb') as f:\n",
    "        pickle.dump(rois_dict, f)\n",
    "\n",
    "    print(f\"ROIs saved to {save_path}\")\n",
    "\n",
    "\n",
    "def calculate_brightness_for_blocks(block_list, rois_path, threshold_value=30, export=True):\n",
    "    \"\"\"\n",
    "    Calculates brightness vectors for all blocks using preselected ROIs.\n",
    "\n",
    "    Args:\n",
    "        block_list (list): List of BlockSync objects.\n",
    "        rois_path (str or Path): Path to the pickle file containing saved ROIs.\n",
    "        threshold_value (float): Threshold value to use as a mask before calculating brightness.\n",
    "        export (bool): If True, exports the brightness vectors into a pickle file.\n",
    "\n",
    "    Returns:\n",
    "        None\n",
    "    \"\"\"\n",
    "    rois_path = Path(rois_path)\n",
    "    if not rois_path.exists():\n",
    "        raise FileNotFoundError(f\"ROIs file {rois_path} does not exist.\")\n",
    "\n",
    "    # Load the saved ROIs\n",
    "    with open(rois_path, 'rb') as f:\n",
    "        rois_dict = pickle.load(f)\n",
    "\n",
    "    for block in block_list:\n",
    "        if block.block_num not in rois_dict:\n",
    "            print(f\"Skipping Block {block.block_num}: No ROI data found.\")\n",
    "            continue\n",
    "\n",
    "        block_rois = rois_dict[block.block_num]\n",
    "\n",
    "        print(f\"Calculating brightness for Block {block.block_num}...\")\n",
    "\n",
    "        # Calculate brightness for left eye\n",
    "        block.le_frame_val_list = block.produce_frame_val_list_with_roi(\n",
    "            block.le_videos[0], block_rois['left_eye'], threshold_value\n",
    "        )\n",
    "\n",
    "        # Calculate brightness for right eye\n",
    "        block.re_frame_val_list = block.produce_frame_val_list_with_roi(\n",
    "            block.re_videos[0], block_rois['right_eye'], threshold_value\n",
    "        )\n",
    "\n",
    "        if export:\n",
    "            export_path = block.analysis_path / 'eye_brightness_values_dict.pkl'\n",
    "            frame_val_dict = {\n",
    "                'left_eye': block.le_frame_val_list,\n",
    "                'right_eye': block.re_frame_val_list\n",
    "            }\n",
    "            with open(export_path, 'wb') as f:\n",
    "                pickle.dump(frame_val_dict, f)\n",
    "            print(f\"Brightness vectors saved to {export_path}\")\n",
    "\n",
    "        print(f\"Brightness calculation complete for Block {block.block_num}.\")\n"
   ],
   "metadata": {
    "collapsed": false,
    "ExecuteTime": {
     "end_time": "2025-02-18T12:25:04.238472900Z",
     "start_time": "2025-02-18T12:25:04.220445900Z"
    }
   },
   "id": "71dd46c03d160467",
   "execution_count": 64
  },
  {
   "cell_type": "code",
   "outputs": [
    {
     "name": "stdout",
     "output_type": "stream",
     "text": [
      "ROIs saved to Z:\\Nimrod\\experiments\\PV_57\\helper_files\\rois.pkl\n"
     ]
    }
   ],
   "source": [
    "save_path = r\"Z:\\Nimrod\\experiments\\PV_57\\helper_files/rois.pkl\"  # Path to save the selected ROIs\n",
    "select_rois_for_blocks(block_collection, save_path)"
   ],
   "metadata": {
    "collapsed": false,
    "ExecuteTime": {
     "end_time": "2025-02-18T12:26:05.139444200Z",
     "start_time": "2025-02-18T12:25:52.368798600Z"
    }
   },
   "id": "1480fa8ab0884c32",
   "execution_count": 68
  },
  {
   "cell_type": "code",
   "outputs": [
    {
     "name": "stderr",
     "output_type": "stream",
     "text": [
      "Processing Z:\\Nimrod\\experiments\\PV_24\\2022_01_05\\block_068\\eye_videos\\LE\\PV24_EE68_640x480_60hz_experiment_1_recording_0\\PV24_EE68_LE.mp4:   0%|          | 176/113199 [00:00<01:04, 1743.05frame/s]"
     ]
    },
    {
     "name": "stdout",
     "output_type": "stream",
     "text": [
      "Calculating brightness for Block 068...\n",
      "Working on video Z:\\Nimrod\\experiments\\PV_24\\2022_01_05\\block_068\\eye_videos\\LE\\PV24_EE68_640x480_60hz_experiment_1_recording_0\\PV24_EE68_LE.mp4\n"
     ]
    },
    {
     "name": "stderr",
     "output_type": "stream",
     "text": [
      "Processing Z:\\Nimrod\\experiments\\PV_24\\2022_01_05\\block_068\\eye_videos\\LE\\PV24_EE68_640x480_60hz_experiment_1_recording_0\\PV24_EE68_LE.mp4: 100%|██████████| 113199/113199 [00:56<00:00, 1994.52frame/s]\n",
      "Processing Z:\\Nimrod\\experiments\\PV_24\\2022_01_05\\block_068\\eye_videos\\RE\\PV24_EE68_640x480_60hz_experiment_1_recording_0\\PV24_EE68.mp4:   0%|          | 182/113200 [00:00<01:02, 1802.00frame/s]"
     ]
    },
    {
     "name": "stdout",
     "output_type": "stream",
     "text": [
      "Finished video Z:\\Nimrod\\experiments\\PV_24\\2022_01_05\\block_068\\eye_videos\\LE\\PV24_EE68_640x480_60hz_experiment_1_recording_0\\PV24_EE68_LE.mp4, processed 113199 frames\n",
      "Working on video Z:\\Nimrod\\experiments\\PV_24\\2022_01_05\\block_068\\eye_videos\\RE\\PV24_EE68_640x480_60hz_experiment_1_recording_0\\PV24_EE68.mp4\n"
     ]
    },
    {
     "name": "stderr",
     "output_type": "stream",
     "text": [
      "Processing Z:\\Nimrod\\experiments\\PV_24\\2022_01_05\\block_068\\eye_videos\\RE\\PV24_EE68_640x480_60hz_experiment_1_recording_0\\PV24_EE68.mp4: 100%|██████████| 113200/113200 [01:07<00:00, 1680.22frame/s]\n"
     ]
    },
    {
     "name": "stdout",
     "output_type": "stream",
     "text": [
      "Finished video Z:\\Nimrod\\experiments\\PV_24\\2022_01_05\\block_068\\eye_videos\\RE\\PV24_EE68_640x480_60hz_experiment_1_recording_0\\PV24_EE68.mp4, processed 113200 frames\n"
     ]
    },
    {
     "name": "stderr",
     "output_type": "stream",
     "text": [
      "Processing Z:\\Nimrod\\experiments\\PV_24\\2022_01_05\\block_069\\eye_videos\\LE\\PV24_EE69_640x480_60hz_experiment_1_recording_0\\PV24_EE69_LE.mp4:   0%|          | 171/120459 [00:00<01:11, 1693.07frame/s]"
     ]
    },
    {
     "name": "stdout",
     "output_type": "stream",
     "text": [
      "Brightness vectors saved to Z:\\Nimrod\\experiments\\PV_24\\2022_01_05\\block_068\\analysis\\eye_brightness_values_dict.pkl\n",
      "Brightness calculation complete for Block 068.\n",
      "Calculating brightness for Block 069...\n",
      "Working on video Z:\\Nimrod\\experiments\\PV_24\\2022_01_05\\block_069\\eye_videos\\LE\\PV24_EE69_640x480_60hz_experiment_1_recording_0\\PV24_EE69_LE.mp4\n"
     ]
    },
    {
     "name": "stderr",
     "output_type": "stream",
     "text": [
      "Processing Z:\\Nimrod\\experiments\\PV_24\\2022_01_05\\block_069\\eye_videos\\LE\\PV24_EE69_640x480_60hz_experiment_1_recording_0\\PV24_EE69_LE.mp4: 100%|██████████| 120459/120459 [01:07<00:00, 1794.52frame/s]\n",
      "Processing Z:\\Nimrod\\experiments\\PV_24\\2022_01_05\\block_069\\eye_videos\\RE\\PV24_EE69_640x480_60hz_experiment_1_recording_0\\PV24_EE69.mp4:   0%|          | 165/120461 [00:00<01:12, 1649.99frame/s]"
     ]
    },
    {
     "name": "stdout",
     "output_type": "stream",
     "text": [
      "Finished video Z:\\Nimrod\\experiments\\PV_24\\2022_01_05\\block_069\\eye_videos\\LE\\PV24_EE69_640x480_60hz_experiment_1_recording_0\\PV24_EE69_LE.mp4, processed 120459 frames\n",
      "Working on video Z:\\Nimrod\\experiments\\PV_24\\2022_01_05\\block_069\\eye_videos\\RE\\PV24_EE69_640x480_60hz_experiment_1_recording_0\\PV24_EE69.mp4\n"
     ]
    },
    {
     "name": "stderr",
     "output_type": "stream",
     "text": [
      "Processing Z:\\Nimrod\\experiments\\PV_24\\2022_01_05\\block_069\\eye_videos\\RE\\PV24_EE69_640x480_60hz_experiment_1_recording_0\\PV24_EE69.mp4: 100%|██████████| 120461/120461 [01:17<00:00, 1558.20frame/s]\n"
     ]
    },
    {
     "name": "stdout",
     "output_type": "stream",
     "text": [
      "Finished video Z:\\Nimrod\\experiments\\PV_24\\2022_01_05\\block_069\\eye_videos\\RE\\PV24_EE69_640x480_60hz_experiment_1_recording_0\\PV24_EE69.mp4, processed 120461 frames\n",
      "Brightness vectors saved to Z:\\Nimrod\\experiments\\PV_24\\2022_01_05\\block_069\\analysis\\eye_brightness_values_dict.pkl\n",
      "Brightness calculation complete for Block 069.\n",
      "Calculating brightness for Block 070...\n",
      "Working on video Z:\\Nimrod\\experiments\\PV_24\\2022_01_05\\block_070\\eye_videos\\LE\\PV24_EE70_640x480_60hz_experiment_1_recording_0\\PV24_EE70_LE.mp4\n"
     ]
    },
    {
     "name": "stderr",
     "output_type": "stream",
     "text": [
      "Processing Z:\\Nimrod\\experiments\\PV_24\\2022_01_05\\block_070\\eye_videos\\LE\\PV24_EE70_640x480_60hz_experiment_1_recording_0\\PV24_EE70_LE.mp4: 100%|██████████| 111670/111670 [01:03<00:00, 1749.20frame/s]\n",
      "Processing Z:\\Nimrod\\experiments\\PV_24\\2022_01_05\\block_070\\eye_videos\\RE\\PV24_EE70_640x480_60hz_experiment_1_recording_0\\PV24_EE70.mp4:   0%|          | 181/111671 [00:00<01:01, 1803.89frame/s]"
     ]
    },
    {
     "name": "stdout",
     "output_type": "stream",
     "text": [
      "Finished video Z:\\Nimrod\\experiments\\PV_24\\2022_01_05\\block_070\\eye_videos\\LE\\PV24_EE70_640x480_60hz_experiment_1_recording_0\\PV24_EE70_LE.mp4, processed 111670 frames\n",
      "Working on video Z:\\Nimrod\\experiments\\PV_24\\2022_01_05\\block_070\\eye_videos\\RE\\PV24_EE70_640x480_60hz_experiment_1_recording_0\\PV24_EE70.mp4\n"
     ]
    },
    {
     "name": "stderr",
     "output_type": "stream",
     "text": [
      "Processing Z:\\Nimrod\\experiments\\PV_24\\2022_01_05\\block_070\\eye_videos\\RE\\PV24_EE70_640x480_60hz_experiment_1_recording_0\\PV24_EE70.mp4: 100%|██████████| 111671/111671 [00:57<00:00, 1955.54frame/s]\n"
     ]
    },
    {
     "name": "stdout",
     "output_type": "stream",
     "text": [
      "Finished video Z:\\Nimrod\\experiments\\PV_24\\2022_01_05\\block_070\\eye_videos\\RE\\PV24_EE70_640x480_60hz_experiment_1_recording_0\\PV24_EE70.mp4, processed 111671 frames\n",
      "Brightness vectors saved to Z:\\Nimrod\\experiments\\PV_24\\2022_01_05\\block_070\\analysis\\eye_brightness_values_dict.pkl\n",
      "Brightness calculation complete for Block 070.\n"
     ]
    }
   ],
   "source": [
    "calculate_brightness_for_blocks(block_collection,save_path)"
   ],
   "metadata": {
    "collapsed": false,
    "ExecuteTime": {
     "end_time": "2025-02-18T12:32:42.756870500Z",
     "start_time": "2025-02-18T12:26:07.010796700Z"
    }
   },
   "id": "84b61b450a51803a",
   "execution_count": 69
  },
  {
   "cell_type": "code",
   "outputs": [
    {
     "name": "stdout",
     "output_type": "stream",
     "text": [
      "handling eye video files\n",
      "converting videos...\n",
      "converting files: ['Z:\\\\Nimrod\\\\experiments\\\\PV_57\\\\2024_11_25\\\\block_007\\\\eye_videos\\\\LE\\\\pv_57_single_print_d2_03_640x480_60hz_experiment_1_recording_0\\\\pv_57_single_print_d2_03.h264', 'Z:\\\\Nimrod\\\\experiments\\\\PV_57\\\\2024_11_25\\\\block_007\\\\eye_videos\\\\RE\\\\pv_57_single_print_d2_03_640x480_60hz_experiment_1_recording_0\\\\pv_57_single_print_d2_03.h264'] \n",
      " avoiding conversion on files: ['Z:\\\\Nimrod\\\\experiments\\\\PV_57\\\\2024_11_25\\\\block_007\\\\eye_videos\\\\LE\\\\pv_57_single_print_d2_03_640x480_60hz_experiment_1_recording_0\\\\pv_57_single_print_d2_03.mp4', 'Z:\\\\Nimrod\\\\experiments\\\\PV_57\\\\2024_11_25\\\\block_007\\\\eye_videos\\\\LE\\\\pv_57_single_print_d2_03_640x480_60hz_experiment_1_recording_0\\\\pv_57_single_print_d2_03_LE.mp4', 'Z:\\\\Nimrod\\\\experiments\\\\PV_57\\\\2024_11_25\\\\block_007\\\\eye_videos\\\\RE\\\\pv_57_single_print_d2_03_640x480_60hz_experiment_1_recording_0\\\\pv_57_single_print_d2_03.mp4', 'Z:\\\\Nimrod\\\\experiments\\\\PV_57\\\\2024_11_25\\\\block_007\\\\eye_videos\\\\RE\\\\pv_57_single_print_d2_03_640x480_60hz_experiment_1_recording_0\\\\pv_57_single_print_d2_03_RE.mp4']\n",
      "The file Z:\\Nimrod\\experiments\\PV_57\\2024_11_25\\block_007\\eye_videos\\LE\\pv_57_single_print_d2_03_640x480_60hz_experiment_1_recording_0\\pv_57_single_print_d2_03.mp4 already exists, no conversion necessary\n",
      "The file Z:\\Nimrod\\experiments\\PV_57\\2024_11_25\\block_007\\eye_videos\\RE\\pv_57_single_print_d2_03_640x480_60hz_experiment_1_recording_0\\pv_57_single_print_d2_03.mp4 already exists, no conversion necessary\n",
      "Validating videos...\n",
      "something wrong with the inspection, numbers of files does not match:\n",
      "videos_to_inspect = ['Z:\\\\Nimrod\\\\experiments\\\\PV_57\\\\2024_11_25\\\\block_007\\\\eye_videos\\\\LE\\\\pv_57_single_print_d2_03_640x480_60hz_experiment_1_recording_0\\\\pv_57_single_print_d2_03.mp4', 'Z:\\\\Nimrod\\\\experiments\\\\PV_57\\\\2024_11_25\\\\block_007\\\\eye_videos\\\\LE\\\\pv_57_single_print_d2_03_640x480_60hz_experiment_1_recording_0\\\\pv_57_single_print_d2_03_LE.mp4', 'Z:\\\\Nimrod\\\\experiments\\\\PV_57\\\\2024_11_25\\\\block_007\\\\eye_videos\\\\RE\\\\pv_57_single_print_d2_03_640x480_60hz_experiment_1_recording_0\\\\pv_57_single_print_d2_03.mp4', 'Z:\\\\Nimrod\\\\experiments\\\\PV_57\\\\2024_11_25\\\\block_007\\\\eye_videos\\\\RE\\\\pv_57_single_print_d2_03_640x480_60hz_experiment_1_recording_0\\\\pv_57_single_print_d2_03_RE.mp4']\n",
      "timestamps_to_inspect = ['Z:\\\\Nimrod\\\\experiments\\\\PV_57\\\\2024_11_25\\\\block_007\\\\eye_videos\\\\LE\\\\pv_57_single_print_d2_03_640x480_60hz_experiment_1_recording_0\\\\pv_57_single_print_d2_03_timestamps.csv', 'Z:\\\\Nimrod\\\\experiments\\\\PV_57\\\\2024_11_25\\\\block_007\\\\eye_videos\\\\RE\\\\pv_57_single_print_d2_03_640x480_60hz_experiment_1_recording_0\\\\pv_57_single_print_d2_03_timestamps.csv']\n",
      "stamping LE video\n",
      "could not re-stamp the video because the label is already there\n"
     ]
    }
   ],
   "source": [
    "for block in block_collection:\n",
    "    block.handle_eye_videos()"
   ],
   "metadata": {
    "collapsed": false,
    "ExecuteTime": {
     "end_time": "2025-05-07T11:33:29.037165100Z",
     "start_time": "2025-05-07T11:33:28.955445400Z"
    }
   },
   "id": "5b42147ca6b69f61",
   "execution_count": 4
  },
  {
   "cell_type": "code",
   "outputs": [
    {
     "name": "stdout",
     "output_type": "stream",
     "text": [
      "handling arena files\n",
      "Arena video Names:\n",
      "front_20241125T152924.mp4\n",
      "left_20241125T152924.mp4\n",
      "right_20241125T152924.mp4\n",
      "top_20241125T152924.mp4\n",
      "running parse_open_ephys_events...\n",
      "block 007 has a parsed events file, reading...\n",
      "handling eye video files\n",
      "converting videos...\n",
      "converting files: ['Z:\\\\Nimrod\\\\experiments\\\\PV_57\\\\2024_11_25\\\\block_007\\\\eye_videos\\\\LE\\\\pv_57_single_print_d2_03_640x480_60hz_experiment_1_recording_0\\\\pv_57_single_print_d2_03.h264', 'Z:\\\\Nimrod\\\\experiments\\\\PV_57\\\\2024_11_25\\\\block_007\\\\eye_videos\\\\RE\\\\pv_57_single_print_d2_03_640x480_60hz_experiment_1_recording_0\\\\pv_57_single_print_d2_03.h264'] \n",
      " avoiding conversion on files: ['Z:\\\\Nimrod\\\\experiments\\\\PV_57\\\\2024_11_25\\\\block_007\\\\eye_videos\\\\LE\\\\pv_57_single_print_d2_03_640x480_60hz_experiment_1_recording_0\\\\pv_57_single_print_d2_03.mp4', 'Z:\\\\Nimrod\\\\experiments\\\\PV_57\\\\2024_11_25\\\\block_007\\\\eye_videos\\\\LE\\\\pv_57_single_print_d2_03_640x480_60hz_experiment_1_recording_0\\\\pv_57_single_print_d2_03_LE.mp4', 'Z:\\\\Nimrod\\\\experiments\\\\PV_57\\\\2024_11_25\\\\block_007\\\\eye_videos\\\\RE\\\\pv_57_single_print_d2_03_640x480_60hz_experiment_1_recording_0\\\\pv_57_single_print_d2_03.mp4', 'Z:\\\\Nimrod\\\\experiments\\\\PV_57\\\\2024_11_25\\\\block_007\\\\eye_videos\\\\RE\\\\pv_57_single_print_d2_03_640x480_60hz_experiment_1_recording_0\\\\pv_57_single_print_d2_03_RE.mp4']\n",
      "The file Z:\\Nimrod\\experiments\\PV_57\\2024_11_25\\block_007\\eye_videos\\LE\\pv_57_single_print_d2_03_640x480_60hz_experiment_1_recording_0\\pv_57_single_print_d2_03.mp4 already exists, no conversion necessary\n",
      "The file Z:\\Nimrod\\experiments\\PV_57\\2024_11_25\\block_007\\eye_videos\\RE\\pv_57_single_print_d2_03_640x480_60hz_experiment_1_recording_0\\pv_57_single_print_d2_03.mp4 already exists, no conversion necessary\n",
      "Validating videos...\n",
      "something wrong with the inspection, numbers of files does not match:\n",
      "videos_to_inspect = ['Z:\\\\Nimrod\\\\experiments\\\\PV_57\\\\2024_11_25\\\\block_007\\\\eye_videos\\\\LE\\\\pv_57_single_print_d2_03_640x480_60hz_experiment_1_recording_0\\\\pv_57_single_print_d2_03.mp4', 'Z:\\\\Nimrod\\\\experiments\\\\PV_57\\\\2024_11_25\\\\block_007\\\\eye_videos\\\\LE\\\\pv_57_single_print_d2_03_640x480_60hz_experiment_1_recording_0\\\\pv_57_single_print_d2_03_LE.mp4', 'Z:\\\\Nimrod\\\\experiments\\\\PV_57\\\\2024_11_25\\\\block_007\\\\eye_videos\\\\RE\\\\pv_57_single_print_d2_03_640x480_60hz_experiment_1_recording_0\\\\pv_57_single_print_d2_03.mp4', 'Z:\\\\Nimrod\\\\experiments\\\\PV_57\\\\2024_11_25\\\\block_007\\\\eye_videos\\\\RE\\\\pv_57_single_print_d2_03_640x480_60hz_experiment_1_recording_0\\\\pv_57_single_print_d2_03_RE.mp4']\n",
      "timestamps_to_inspect = ['Z:\\\\Nimrod\\\\experiments\\\\PV_57\\\\2024_11_25\\\\block_007\\\\eye_videos\\\\LE\\\\pv_57_single_print_d2_03_640x480_60hz_experiment_1_recording_0\\\\pv_57_single_print_d2_03_timestamps.csv', 'Z:\\\\Nimrod\\\\experiments\\\\PV_57\\\\2024_11_25\\\\block_007\\\\eye_videos\\\\RE\\\\pv_57_single_print_d2_03_640x480_60hz_experiment_1_recording_0\\\\pv_57_single_print_d2_03_timestamps.csv']\n",
      "stamping LE video\n",
      "could not re-stamp the video because the label is already there\n",
      "Getting eye brightness values for block 007...\n",
      "Found an existing file!\n",
      "Eye brightness vectors generation complete.\n",
      "creating blocksync_df\n",
      "Arena video frame rate is 59.17 Hz, within acceptable range. No adjustment needed.\n"
     ]
    },
    {
     "name": "stderr",
     "output_type": "stream",
     "text": [
      "100%|██████████| 53581/53581 [00:15<00:00, 3386.09it/s]\n"
     ]
    },
    {
     "name": "stdout",
     "output_type": "stream",
     "text": [
      "created blocksync_df\n",
      "exported blocksync_df to Z:\\Nimrod\\experiments\\PV_57\\2024_11_25\\block_007\\analysis/ blocksync_df.csv\n",
      "eye_brightness_df loaded from analysis folder\n"
     ]
    }
   ],
   "source": [
    "# This step is used to quickly go over the analyzed blocks and load their internal data\n",
    "for block in block_collection:\n",
    "    block.handle_arena_files()\n",
    "    block.parse_open_ephys_events()\n",
    "    block.handle_eye_videos()\n",
    "    block.get_eye_brightness_vectors()\n",
    "    #block.synchronize_block()\n",
    "    block.synchronize_block_for_non_60fps_acquisition(export=True,\n",
    "                                                      overwrite=True,\n",
    "                                                      target_frame_rate=60,\n",
    "                                                      margin_of_error=5)\n",
    "    block.create_eye_brightness_df(threshold_value=20)\n",
    "    \n",
    "    # if the code fails here, go to manual synchronization\n",
    "#    block.import_manual_sync_df()"
   ],
   "metadata": {
    "collapsed": false,
    "ExecuteTime": {
     "end_time": "2025-05-07T11:33:46.773034500Z",
     "start_time": "2025-05-07T11:33:29.982967100Z"
    }
   },
   "id": "60c947f44aeb8546",
   "execution_count": 5
  },
  {
   "cell_type": "code",
   "outputs": [
    {
     "name": "stdout",
     "output_type": "stream",
     "text": [
      "eye dataframes loaded from analysis folder\n"
     ]
    }
   ],
   "source": [
    "for block in block_collection:\n",
    "    block.read_dlc_data(overwrite=True, export=True)\n",
    "    #block.calibrate_pixel_size(10)"
   ],
   "metadata": {
    "collapsed": false,
    "ExecuteTime": {
     "end_time": "2025-05-07T11:34:06.496021300Z",
     "start_time": "2025-05-07T11:34:04.368917500Z"
    }
   },
   "id": "d958a1c1efa05343",
   "execution_count": 6
  },
  {
   "cell_type": "code",
   "outputs": [
    {
     "name": "stdout",
     "output_type": "stream",
     "text": [
      "jitter report loaded from analysis folder\n",
      "results saved to Z:\\Nimrod\\experiments\\PV_24\\2021_12_27\\block_012\\analysis\\jitter_report_dict.pkl\n",
      "Got the jitter report - check out re/le_jitter_dict attributes\n"
     ]
    }
   ],
   "source": [
    "for block in block_collection:\n",
    "    block.get_jitter_reports(export=True, overwrite=False, remove_led_blinks=False, sort_on_loading=True)"
   ],
   "metadata": {
    "collapsed": false,
    "ExecuteTime": {
     "end_time": "2025-02-17T10:41:38.275596300Z",
     "start_time": "2025-02-17T10:41:33.130329700Z"
    }
   },
   "id": "6db8279c2cbac608",
   "execution_count": 37
  },
  {
   "cell_type": "code",
   "outputs": [
    {
     "name": "stdout",
     "output_type": "stream",
     "text": [
      "The right eye std of the X coord was 12.9082188540481\n",
      "After correction it is: 12.528589847791775\n",
      "The right eye std of the Y coord was 16.309120349651895\n",
      "After correction it is: 16.565644286328588\n"
     ]
    },
    {
     "name": "stderr",
     "output_type": "stream",
     "text": [
      "  0%|          | 0/72 [00:00<?, ?it/s]C:\\Users\\MarkS3\\AppData\\Local\\Programs\\Python\\Python38\\lib\\site-packages\\scipy\\stats\\stats.py:2500: RuntimeWarning: invalid value encountered in divide\n",
      "  return (a - mns) / sstd\n",
      "100%|██████████| 72/72 [00:00<00:00, 1599.97it/s]"
     ]
    },
    {
     "name": "stdout",
     "output_type": "stream",
     "text": [
      "\n",
      " The left eye std of the X coord was 12.123654032769519\n",
      "After correction it is: 12.121447191756491\n",
      "\n",
      " The left eye std of the Y coord was 12.510031619206137\n",
      "After correction it is: 12.265633048118133\n",
      "hi new version\n",
      "collecting left-eye data\n",
      "data length is 109368\n",
      "z_score length is 109368\n"
     ]
    },
    {
     "name": "stderr",
     "output_type": "stream",
     "text": [
      "\n",
      "100%|██████████| 72/72 [00:00<00:00, 2769.10it/s]"
     ]
    },
    {
     "name": "stdout",
     "output_type": "stream",
     "text": [
      "collecting right eye data\n",
      "data length is 109367\n",
      "z_score length is 109367\n"
     ]
    },
    {
     "name": "stderr",
     "output_type": "stream",
     "text": [
      "\n"
     ]
    },
    {
     "name": "stdout",
     "output_type": "stream",
     "text": [
      "removed led blink data from le / re dataframes\n",
      "exported nan filled dataframes to csv\n"
     ]
    }
   ],
   "source": [
    "for block in block_collection:\n",
    "#    block.get_jitter_reports(export=True, overwrite=True, remove_led_blinks=False, sort_on_loading=True)\n",
    "    block.correct_jitter()\n",
    "    block.find_led_blink_frames(plot=True)\n",
    "    block.remove_led_blinks_from_eye_df(export=True)"
   ],
   "metadata": {
    "collapsed": false,
    "ExecuteTime": {
     "end_time": "2025-02-17T10:41:57.645414800Z",
     "start_time": "2025-02-17T10:41:40.359721100Z"
    }
   },
   "id": "78ca521af1225991",
   "execution_count": 38
  },
  {
   "cell_type": "code",
   "outputs": [
    {
     "data": {
      "text/plain": "dict_keys(['001', '002', '003', '004', '005', '006', '007', '008', '009', '010', '011', '012', '013'])"
     },
     "execution_count": 126,
     "metadata": {},
     "output_type": "execute_result"
    }
   ],
   "source": [
    "block_dict.keys()"
   ],
   "metadata": {
    "collapsed": false,
    "ExecuteTime": {
     "end_time": "2024-12-28T22:10:02.293464100Z",
     "start_time": "2024-12-28T22:10:02.136903800Z"
    }
   },
   "id": "5e85c9464af77acb",
   "execution_count": 126
  },
  {
   "cell_type": "code",
   "outputs": [],
   "source": [
    "block=block_dict['013']"
   ],
   "metadata": {
    "collapsed": false,
    "ExecuteTime": {
     "end_time": "2024-12-28T22:46:01.506770500Z",
     "start_time": "2024-12-28T22:46:01.444083800Z"
    }
   },
   "id": "19ab5f7e9a222288",
   "execution_count": 344
  },
  {
   "cell_type": "code",
   "outputs": [
    {
     "name": "stdout",
     "output_type": "stream",
     "text": [
      "the diff based jitter frame exclusion gives: (40,)\n",
      "the threshold based jitter frame exclusion gives: (37,)\n",
      "the diff based jitter frame exclusion gives: (32,)\n",
      "the threshold based jitter frame exclusion gives: (46,)\n"
     ]
    }
   ],
   "source": [
    "df_inds_to_remove_l, vid_inds_l = find_jittery_frames(block,'left',max_distance=60, diff_threshold=5, gap_to_bridge=24)\n",
    "df_inds_to_remove_r, vid_inds_r = find_jittery_frames(block,'right',max_distance=60, diff_threshold=5, gap_to_bridge=24)\n",
    "\n",
    "# These are verification plots for the jitter outlier removal functions:\n",
    "# to verify, I want a bokeh explorable:\n",
    "rdf = pd.DataFrame.from_dict(block.re_jitter_dict)\n",
    "ldf = pd.DataFrame.from_dict(block.le_jitter_dict)"
   ],
   "metadata": {
    "collapsed": false,
    "ExecuteTime": {
     "end_time": "2025-02-17T10:41:57.993416200Z",
     "start_time": "2025-02-17T10:41:57.650442900Z"
    }
   },
   "id": "6a5a4a654a05a123",
   "execution_count": 39
  },
  {
   "cell_type": "code",
   "outputs": [],
   "source": [
    "bokeh_plotter([rdf.top_correlation_dist], ['drift_distance'], peaks=vid_inds_r)"
   ],
   "metadata": {
    "collapsed": false,
    "ExecuteTime": {
     "end_time": "2025-02-17T10:42:03.894055400Z",
     "start_time": "2025-02-17T10:42:02.381080100Z"
    }
   },
   "id": "11353e3307678ed9",
   "execution_count": 40
  },
  {
   "cell_type": "code",
   "outputs": [],
   "source": [
    "bokeh_plotter([ldf.top_correlation_dist], ['drift_distance'], peaks=vid_inds_l)"
   ],
   "metadata": {
    "collapsed": false,
    "ExecuteTime": {
     "end_time": "2025-02-17T10:42:15.113207900Z",
     "start_time": "2025-02-17T10:42:14.156204900Z"
    }
   },
   "id": "8f3ab8cfc5315274",
   "execution_count": 41
  },
  {
   "cell_type": "code",
   "outputs": [
    {
     "name": "stdout",
     "output_type": "stream",
     "text": [
      "removed 78 from the right eye dataframe\n",
      "removed 77 from the left eye dataframe\n"
     ]
    }
   ],
   "source": [
    "block.remove_eye_datapoints_based_on_video_frames('right', indices_to_nan=vid_inds_r)\n",
    "block.remove_eye_datapoints_based_on_video_frames('left', indices_to_nan=vid_inds_l)"
   ],
   "metadata": {
    "collapsed": false,
    "ExecuteTime": {
     "end_time": "2025-02-17T10:42:18.529615500Z",
     "start_time": "2025-02-17T10:42:18.485589Z"
    }
   },
   "id": "8f20634ab2b7d684",
   "execution_count": 42
  },
  {
   "cell_type": "markdown",
   "source": [
    "# Data rotation"
   ],
   "metadata": {
    "collapsed": false
   },
   "id": "dc4b57c620e01f87"
  },
  {
   "cell_type": "code",
   "outputs": [
    {
     "name": "stdout",
     "output_type": "stream",
     "text": [
      "Please select two points on the frame.\n",
      "left rotation matrix: \n",
      " [[   0.83321379   -0.55295097  186.07981958]\n",
      " [   0.55295097    0.83321379 -136.9156209 ]] \n",
      " left rotation angle: \n",
      " -33.56969841837246\n",
      "left data rotated\n"
     ]
    }
   ],
   "source": [
    "block.rotate_data_according_to_frame_ref('left')"
   ],
   "metadata": {
    "collapsed": false,
    "ExecuteTime": {
     "end_time": "2025-02-17T10:43:35.336488300Z",
     "start_time": "2025-02-17T10:43:23.213441400Z"
    }
   },
   "id": "92286b8b4e9f6624",
   "execution_count": 45
  },
  {
   "cell_type": "code",
   "outputs": [
    {
     "name": "stdout",
     "output_type": "stream",
     "text": [
      "Please select two points on the frame.\n",
      "right rotation matrix: \n",
      " [[  0.93040839   0.36652452 -65.69657011]\n",
      " [ -0.36652452   0.93040839 133.98983161]] \n",
      " right rotation angle: \n",
      " 21.501434324047903\n",
      "right data rotated\n"
     ]
    }
   ],
   "source": [
    "block.rotate_data_according_to_frame_ref('right')"
   ],
   "metadata": {
    "collapsed": false,
    "ExecuteTime": {
     "end_time": "2025-02-17T10:42:50.650649800Z",
     "start_time": "2025-02-17T10:42:41.652104400Z"
    }
   },
   "id": "f1164ff6db7fa269",
   "execution_count": 44
  },
  {
   "cell_type": "code",
   "outputs": [
    {
     "ename": "KeyError",
     "evalue": "\"['phi_rotated', 'center_y_rotated', 'center_x_rotated'] not in index\"",
     "output_type": "error",
     "traceback": [
      "\u001B[1;31m---------------------------------------------------------------------------\u001B[0m",
      "\u001B[1;31mKeyError\u001B[0m                                  Traceback (most recent call last)",
      "\u001B[1;32m<ipython-input-7-df6a327b8017>\u001B[0m in \u001B[0;36m<module>\u001B[1;34m\u001B[0m\n\u001B[1;32m----> 1\u001B[1;33m \u001B[0mblock\u001B[0m\u001B[1;33m.\u001B[0m\u001B[0mcreate_eye_data\u001B[0m\u001B[1;33m(\u001B[0m\u001B[1;33m)\u001B[0m\u001B[1;33m\u001B[0m\u001B[1;33m\u001B[0m\u001B[0m\n\u001B[0m",
      "\u001B[1;32m~\\PycharmProjects\\pythonProject3\\BlockSync_current.py\u001B[0m in \u001B[0;36mcreate_eye_data\u001B[1;34m(self)\u001B[0m\n\u001B[0;32m   2823\u001B[0m         \u001B[1;31m# create the eye_data dfs to finalize the translation and sort out some mess\u001B[0m\u001B[1;33m\u001B[0m\u001B[1;33m\u001B[0m\u001B[1;33m\u001B[0m\u001B[0m\n\u001B[0;32m   2824\u001B[0m         \u001B[0mself\u001B[0m\u001B[1;33m.\u001B[0m\u001B[0mright_eye_data\u001B[0m \u001B[1;33m=\u001B[0m \u001B[0mself\u001B[0m\u001B[1;33m.\u001B[0m\u001B[0mre_df\u001B[0m\u001B[1;33m.\u001B[0m\u001B[0mcopy\u001B[0m\u001B[1;33m(\u001B[0m\u001B[1;33m)\u001B[0m\u001B[1;33m\u001B[0m\u001B[1;33m\u001B[0m\u001B[0m\n\u001B[1;32m-> 2825\u001B[1;33m         self.right_eye_data = self.right_eye_data[['Arena_TTL', 'R_eye_frame', 'ms_axis',\n\u001B[0m\u001B[0;32m   2826\u001B[0m                                                      \u001B[1;34m'center_x_rotated'\u001B[0m\u001B[1;33m,\u001B[0m \u001B[1;34m'center_y_rotated'\u001B[0m\u001B[1;33m,\u001B[0m\u001B[1;33m\u001B[0m\u001B[1;33m\u001B[0m\u001B[0m\n\u001B[0;32m   2827\u001B[0m                                                      'phi_rotated', 'width', 'height']]\n",
      "\u001B[1;32m~\\AppData\\Local\\Programs\\Python\\Python38\\lib\\site-packages\\pandas\\core\\frame.py\u001B[0m in \u001B[0;36m__getitem__\u001B[1;34m(self, key)\u001B[0m\n\u001B[0;32m   2910\u001B[0m             \u001B[1;32mif\u001B[0m \u001B[0mis_iterator\u001B[0m\u001B[1;33m(\u001B[0m\u001B[0mkey\u001B[0m\u001B[1;33m)\u001B[0m\u001B[1;33m:\u001B[0m\u001B[1;33m\u001B[0m\u001B[1;33m\u001B[0m\u001B[0m\n\u001B[0;32m   2911\u001B[0m                 \u001B[0mkey\u001B[0m \u001B[1;33m=\u001B[0m \u001B[0mlist\u001B[0m\u001B[1;33m(\u001B[0m\u001B[0mkey\u001B[0m\u001B[1;33m)\u001B[0m\u001B[1;33m\u001B[0m\u001B[1;33m\u001B[0m\u001B[0m\n\u001B[1;32m-> 2912\u001B[1;33m             \u001B[0mindexer\u001B[0m \u001B[1;33m=\u001B[0m \u001B[0mself\u001B[0m\u001B[1;33m.\u001B[0m\u001B[0mloc\u001B[0m\u001B[1;33m.\u001B[0m\u001B[0m_get_listlike_indexer\u001B[0m\u001B[1;33m(\u001B[0m\u001B[0mkey\u001B[0m\u001B[1;33m,\u001B[0m \u001B[0maxis\u001B[0m\u001B[1;33m=\u001B[0m\u001B[1;36m1\u001B[0m\u001B[1;33m,\u001B[0m \u001B[0mraise_missing\u001B[0m\u001B[1;33m=\u001B[0m\u001B[1;32mTrue\u001B[0m\u001B[1;33m)\u001B[0m\u001B[1;33m[\u001B[0m\u001B[1;36m1\u001B[0m\u001B[1;33m]\u001B[0m\u001B[1;33m\u001B[0m\u001B[1;33m\u001B[0m\u001B[0m\n\u001B[0m\u001B[0;32m   2913\u001B[0m \u001B[1;33m\u001B[0m\u001B[0m\n\u001B[0;32m   2914\u001B[0m         \u001B[1;31m# take() does not accept boolean indexers\u001B[0m\u001B[1;33m\u001B[0m\u001B[1;33m\u001B[0m\u001B[1;33m\u001B[0m\u001B[0m\n",
      "\u001B[1;32m~\\AppData\\Local\\Programs\\Python\\Python38\\lib\\site-packages\\pandas\\core\\indexing.py\u001B[0m in \u001B[0;36m_get_listlike_indexer\u001B[1;34m(self, key, axis, raise_missing)\u001B[0m\n\u001B[0;32m   1252\u001B[0m             \u001B[0mkeyarr\u001B[0m\u001B[1;33m,\u001B[0m \u001B[0mindexer\u001B[0m\u001B[1;33m,\u001B[0m \u001B[0mnew_indexer\u001B[0m \u001B[1;33m=\u001B[0m \u001B[0max\u001B[0m\u001B[1;33m.\u001B[0m\u001B[0m_reindex_non_unique\u001B[0m\u001B[1;33m(\u001B[0m\u001B[0mkeyarr\u001B[0m\u001B[1;33m)\u001B[0m\u001B[1;33m\u001B[0m\u001B[1;33m\u001B[0m\u001B[0m\n\u001B[0;32m   1253\u001B[0m \u001B[1;33m\u001B[0m\u001B[0m\n\u001B[1;32m-> 1254\u001B[1;33m         \u001B[0mself\u001B[0m\u001B[1;33m.\u001B[0m\u001B[0m_validate_read_indexer\u001B[0m\u001B[1;33m(\u001B[0m\u001B[0mkeyarr\u001B[0m\u001B[1;33m,\u001B[0m \u001B[0mindexer\u001B[0m\u001B[1;33m,\u001B[0m \u001B[0maxis\u001B[0m\u001B[1;33m,\u001B[0m \u001B[0mraise_missing\u001B[0m\u001B[1;33m=\u001B[0m\u001B[0mraise_missing\u001B[0m\u001B[1;33m)\u001B[0m\u001B[1;33m\u001B[0m\u001B[1;33m\u001B[0m\u001B[0m\n\u001B[0m\u001B[0;32m   1255\u001B[0m         \u001B[1;32mreturn\u001B[0m \u001B[0mkeyarr\u001B[0m\u001B[1;33m,\u001B[0m \u001B[0mindexer\u001B[0m\u001B[1;33m\u001B[0m\u001B[1;33m\u001B[0m\u001B[0m\n\u001B[0;32m   1256\u001B[0m \u001B[1;33m\u001B[0m\u001B[0m\n",
      "\u001B[1;32m~\\AppData\\Local\\Programs\\Python\\Python38\\lib\\site-packages\\pandas\\core\\indexing.py\u001B[0m in \u001B[0;36m_validate_read_indexer\u001B[1;34m(self, key, indexer, axis, raise_missing)\u001B[0m\n\u001B[0;32m   1302\u001B[0m             \u001B[1;32mif\u001B[0m \u001B[0mraise_missing\u001B[0m\u001B[1;33m:\u001B[0m\u001B[1;33m\u001B[0m\u001B[1;33m\u001B[0m\u001B[0m\n\u001B[0;32m   1303\u001B[0m                 \u001B[0mnot_found\u001B[0m \u001B[1;33m=\u001B[0m \u001B[0mlist\u001B[0m\u001B[1;33m(\u001B[0m\u001B[0mset\u001B[0m\u001B[1;33m(\u001B[0m\u001B[0mkey\u001B[0m\u001B[1;33m)\u001B[0m \u001B[1;33m-\u001B[0m \u001B[0mset\u001B[0m\u001B[1;33m(\u001B[0m\u001B[0max\u001B[0m\u001B[1;33m)\u001B[0m\u001B[1;33m)\u001B[0m\u001B[1;33m\u001B[0m\u001B[1;33m\u001B[0m\u001B[0m\n\u001B[1;32m-> 1304\u001B[1;33m                 \u001B[1;32mraise\u001B[0m \u001B[0mKeyError\u001B[0m\u001B[1;33m(\u001B[0m\u001B[1;34mf\"{not_found} not in index\"\u001B[0m\u001B[1;33m)\u001B[0m\u001B[1;33m\u001B[0m\u001B[1;33m\u001B[0m\u001B[0m\n\u001B[0m\u001B[0;32m   1305\u001B[0m \u001B[1;33m\u001B[0m\u001B[0m\n\u001B[0;32m   1306\u001B[0m             \u001B[1;31m# we skip the warning on Categorical\u001B[0m\u001B[1;33m\u001B[0m\u001B[1;33m\u001B[0m\u001B[1;33m\u001B[0m\u001B[0m\n",
      "\u001B[1;31mKeyError\u001B[0m: \"['phi_rotated', 'center_y_rotated', 'center_x_rotated'] not in index\""
     ]
    }
   ],
   "source": [
    "block.create_eye_data()"
   ],
   "metadata": {
    "collapsed": false,
    "ExecuteTime": {
     "end_time": "2025-05-07T11:36:38.566485300Z",
     "start_time": "2025-05-07T11:36:37.778453700Z"
    }
   },
   "id": "7a57ec4048496c28",
   "execution_count": 7
  },
  {
   "cell_type": "code",
   "outputs": [],
   "source": [
    "# This bit examine the ellipses to verify phi jump issues\n",
    "block.right_eye_data['phi'] = block.right_eye_data['phi'] + 90"
   ],
   "metadata": {
    "collapsed": false,
    "ExecuteTime": {
     "end_time": "2024-12-28T22:46:38.611515600Z",
     "start_time": "2024-12-28T22:46:38.557391800Z"
    }
   },
   "id": "a5de927402bb2460",
   "execution_count": 352
  },
  {
   "cell_type": "code",
   "outputs": [],
   "source": [
    "block.left_eye_data['phi'] = block.left_eye_data['phi'] + 90"
   ],
   "metadata": {
    "collapsed": false,
    "ExecuteTime": {
     "end_time": "2024-12-28T22:46:38.632827800Z",
     "start_time": "2024-12-28T22:46:38.583524300Z"
    }
   },
   "id": "4cce53ee47aad7af",
   "execution_count": 353
  },
  {
   "cell_type": "markdown",
   "source": [
    "# Rotation eye data Verification"
   ],
   "metadata": {
    "collapsed": false
   },
   "id": "c3a27ee6a22cb1a4"
  },
  {
   "cell_type": "code",
   "outputs": [
    {
     "name": "stdout",
     "output_type": "stream",
     "text": [
      "Z:\\Nimrod\\experiments\\PV_24\\2021_12_27\\block_012\\eye_videos\\RE\\PV24_EE12_640x480_60hz_experiment_1_recording_0\\PV24_EE12.mp4\n"
     ]
    }
   ],
   "source": [
    "# right eye inspection after rotation\n",
    "#path_to_video = [x for x in pathlib.Path(block.re_videos[0]).parent.iterdir() if '.mp4' in str(x.name) and 'DLC' in str(x.name)][0]\n",
    "path_to_video = [x for x in pathlib.Path(block.re_videos[0]).parent.iterdir() if '.mp4' in str(x.name)][0]\n",
    "print(path_to_video)\n",
    "play_video_with_ellipses_rotation(block=block ,eye='right', path_to_video=str(path_to_video) ,xflip=True, transformation_matrix=block.right_rotation_matrix)"
   ],
   "metadata": {
    "collapsed": false,
    "ExecuteTime": {
     "end_time": "2025-02-17T10:44:37.972177700Z",
     "start_time": "2025-02-17T10:44:33.735088400Z"
    }
   },
   "id": "d79690728513967a",
   "execution_count": 47
  },
  {
   "cell_type": "code",
   "outputs": [],
   "source": [
    "# left eye inspection\n",
    "#path_to_video = [x for x in pathlib.Path(block.le_videos[0]).parent.iterdir() if '.mp4' in str(x.name) and 'DLC' in str(x.name)][0]\n",
    "path_to_video = [x for x in pathlib.Path(block.le_videos[0]).parent.iterdir() if '.mp4' in str(x.name)][0]\n",
    "play_video_with_ellipses_rotation(block=block,eye='left', path_to_video=str(path_to_video) ,xflip=True, transformation_matrix=block.left_rotation_matrix)"
   ],
   "metadata": {
    "collapsed": false,
    "ExecuteTime": {
     "end_time": "2025-02-17T10:45:18.524433400Z",
     "start_time": "2025-02-17T10:44:42.302402700Z"
    }
   },
   "id": "e9720489c49c31e1",
   "execution_count": 48
  },
  {
   "cell_type": "markdown",
   "source": [
    "# Eye videos relative lag correction"
   ],
   "metadata": {
    "collapsed": false
   },
   "id": "fa67aa5b943dd2d2"
  },
  {
   "cell_type": "code",
   "outputs": [
    {
     "name": "stderr",
     "output_type": "stream",
     "text": [
      "  0%|          | 0/72 [00:00<?, ?it/s]C:\\Users\\MarkS3\\AppData\\Local\\Programs\\Python\\Python38\\lib\\site-packages\\scipy\\stats\\stats.py:2500: RuntimeWarning: invalid value encountered in divide\n",
      "  return (a - mns) / sstd\n",
      "100%|██████████| 72/72 [00:00<00:00, 2954.43it/s]\n",
      "100%|██████████| 72/72 [00:00<00:00, 3083.17it/s]\n",
      "100%|██████████| 72/72 [00:00<00:00, 3137.43it/s]\n",
      "100%|██████████| 72/72 [00:00<00:00, 3295.43it/s]"
     ]
    },
    {
     "name": "stdout",
     "output_type": "stream",
     "text": [
      "hi new version\n",
      "collecting left-eye data\n",
      "data length is 109368\n",
      "z_score length is 109368\n",
      "collecting right eye data\n",
      "data length is 109367\n",
      "z_score length is 109367\n",
      "hi new version\n"
     ]
    },
    {
     "name": "stderr",
     "output_type": "stream",
     "text": [
      "\n"
     ]
    },
    {
     "name": "stdout",
     "output_type": "stream",
     "text": [
      "missing frame at 2\n",
      "missing frame at 3\n",
      "missing frame at 6\n",
      "missing frame at 8\n",
      "missing frame at 17\n",
      "missing frame at 24\n",
      "106709 106709\n",
      "0\n",
      "13\n",
      "0 S\n",
      "1 S\n",
      "2 S\n",
      "3 S\n",
      "4 S\n",
      "5 S\n",
      "6 S\n",
      "7 L\n",
      "[40692     1]\n",
      "8 L\n",
      "[44212     3]\n",
      "9 L\n",
      "[47732     5]\n"
     ]
    },
    {
     "name": "stderr",
     "output_type": "stream",
     "text": [
      "C:\\Users\\MarkS3\\PycharmProjects\\pythonProject3\\BlockSync_current.py:2550: SettingWithCopyWarning: \n",
      "A value is trying to be set on a copy of a slice from a DataFrame\n",
      "\n",
      "See the caveats in the documentation: https://pandas.pydata.org/pandas-docs/stable/user_guide/indexing.html#returning-a-view-versus-a-copy\n",
      "  df['ms_axis'].iloc[ind_to_remove:] = original_ms_axis[:-1]\n",
      "C:\\Users\\MarkS3\\PycharmProjects\\pythonProject3\\BlockSync_current.py:2552: SettingWithCopyWarning: \n",
      "A value is trying to be set on a copy of a slice from a DataFrame\n",
      "\n",
      "See the caveats in the documentation: https://pandas.pydata.org/pandas-docs/stable/user_guide/indexing.html#returning-a-view-versus-a-copy\n",
      "  df['OE_timestamp'].iloc[ind_to_remove:] = original_oe_axis[:-1]\n"
     ]
    },
    {
     "name": "stdout",
     "output_type": "stream",
     "text": [
      "10 L\n",
      "[51252     3]\n",
      "11 L\n",
      "[54773     4]\n",
      "12 L\n",
      "[58294     3]\n",
      "13 S\n",
      "14 S\n",
      "15 L\n",
      "[72380     1]\n",
      "16 L\n",
      "[75903     3]\n",
      "17 L\n",
      "[79425     6]\n",
      "18 L\n",
      "[82948     5]\n",
      "19 S\n",
      "20 S\n",
      "21 L\n",
      "[97036     1]\n",
      "22 L\n",
      "[100558      3]\n"
     ]
    },
    {
     "ename": "ValueError",
     "evalue": "cannot set using a slice indexer with a different length than the value",
     "output_type": "error",
     "traceback": [
      "\u001B[1;31m---------------------------------------------------------------------------\u001B[0m",
      "\u001B[1;31mValueError\u001B[0m                                Traceback (most recent call last)",
      "\u001B[1;32m<ipython-input-53-ec9ca688bd74>\u001B[0m in \u001B[0;36m<module>\u001B[1;34m\u001B[0m\n\u001B[0;32m      1\u001B[0m \u001B[1;31m# block integrated version:\u001B[0m\u001B[1;33m\u001B[0m\u001B[1;33m\u001B[0m\u001B[1;33m\u001B[0m\u001B[0m\n\u001B[0;32m      2\u001B[0m \u001B[0mblock\u001B[0m\u001B[1;33m.\u001B[0m\u001B[0mfind_led_blink_frames\u001B[0m\u001B[1;33m(\u001B[0m\u001B[1;33m)\u001B[0m\u001B[1;33m\u001B[0m\u001B[1;33m\u001B[0m\u001B[0m\n\u001B[1;32m----> 3\u001B[1;33m \u001B[0ml_df\u001B[0m\u001B[1;33m,\u001B[0m \u001B[0mr_df\u001B[0m \u001B[1;33m=\u001B[0m \u001B[0mblock\u001B[0m\u001B[1;33m.\u001B[0m\u001B[0mcorrect_relative_eye_drift_based_on_LED_lights_out\u001B[0m\u001B[1;33m(\u001B[0m\u001B[0mverification_plots\u001B[0m\u001B[1;33m=\u001B[0m\u001B[1;32mTrue\u001B[0m\u001B[1;33m)\u001B[0m\u001B[1;33m\u001B[0m\u001B[1;33m\u001B[0m\u001B[0m\n\u001B[0m\u001B[0;32m      4\u001B[0m \u001B[0mblock\u001B[0m\u001B[1;33m.\u001B[0m\u001B[0mleft_eye_data\u001B[0m \u001B[1;33m=\u001B[0m \u001B[0ml_df\u001B[0m\u001B[1;33m\u001B[0m\u001B[1;33m\u001B[0m\u001B[0m\n\u001B[0;32m      5\u001B[0m \u001B[0mblock\u001B[0m\u001B[1;33m.\u001B[0m\u001B[0mright_eye_data\u001B[0m \u001B[1;33m=\u001B[0m \u001B[0mr_df\u001B[0m\u001B[1;33m\u001B[0m\u001B[1;33m\u001B[0m\u001B[0m\n",
      "\u001B[1;32m~\\PycharmProjects\\pythonProject3\\BlockSync_current.py\u001B[0m in \u001B[0;36mcorrect_relative_eye_drift_based_on_LED_lights_out\u001B[1;34m(self, verification_plots)\u001B[0m\n\u001B[0;32m   2674\u001B[0m                                                           correct_oe_timestamps=True)\n\u001B[0;32m   2675\u001B[0m                     \u001B[0minserted_rows_l\u001B[0m\u001B[1;33m.\u001B[0m\u001B[0mappend\u001B[0m\u001B[1;33m(\u001B[0m\u001B[0ml_corr\u001B[0m\u001B[1;33m[\u001B[0m\u001B[1;36m0\u001B[0m\u001B[1;33m]\u001B[0m\u001B[1;33m)\u001B[0m\u001B[1;33m\u001B[0m\u001B[1;33m\u001B[0m\u001B[0m\n\u001B[1;32m-> 2676\u001B[1;33m                     \u001B[1;32mtry\u001B[0m\u001B[1;33m:\u001B[0m\u001B[1;33m\u001B[0m\u001B[1;33m\u001B[0m\u001B[0m\n\u001B[0m\u001B[0;32m   2677\u001B[0m                         l_df = self.remove_df_row_at_index(l_df, l_corr[0] + 3534, correct_ms=True,\n\u001B[0;32m   2678\u001B[0m                                                            correct_oe_timestamps=True)\n",
      "\u001B[1;32m~\\PycharmProjects\\pythonProject3\\BlockSync_current.py\u001B[0m in \u001B[0;36mremove_df_row_at_index\u001B[1;34m(df, ind_to_remove, correct_ms, correct_oe_timestamps)\u001B[0m\n\u001B[0;32m   2548\u001B[0m         \u001B[0moriginal_oe_axis\u001B[0m \u001B[1;33m=\u001B[0m \u001B[0mdf\u001B[0m\u001B[1;33m[\u001B[0m\u001B[1;34m'OE_timestamp'\u001B[0m\u001B[1;33m]\u001B[0m\u001B[1;33m.\u001B[0m\u001B[0miloc\u001B[0m\u001B[1;33m[\u001B[0m\u001B[0mind_to_remove\u001B[0m\u001B[1;33m:\u001B[0m\u001B[1;33m]\u001B[0m\u001B[1;33m.\u001B[0m\u001B[0mvalues\u001B[0m\u001B[1;33m\u001B[0m\u001B[1;33m\u001B[0m\u001B[0m\n\u001B[0;32m   2549\u001B[0m         \u001B[0mdf\u001B[0m \u001B[1;33m=\u001B[0m \u001B[0mdf\u001B[0m\u001B[1;33m.\u001B[0m\u001B[0mdrop\u001B[0m\u001B[1;33m(\u001B[0m\u001B[0mlabel_to_remove\u001B[0m\u001B[1;33m)\u001B[0m\u001B[1;33m\u001B[0m\u001B[1;33m\u001B[0m\u001B[0m\n\u001B[1;32m-> 2550\u001B[1;33m         \u001B[1;32mif\u001B[0m \u001B[0mcorrect_ms\u001B[0m\u001B[1;33m:\u001B[0m\u001B[1;33m\u001B[0m\u001B[1;33m\u001B[0m\u001B[0m\n\u001B[0m\u001B[0;32m   2551\u001B[0m             \u001B[0mdf\u001B[0m\u001B[1;33m[\u001B[0m\u001B[1;34m'ms_axis'\u001B[0m\u001B[1;33m]\u001B[0m\u001B[1;33m.\u001B[0m\u001B[0miloc\u001B[0m\u001B[1;33m[\u001B[0m\u001B[0mind_to_remove\u001B[0m\u001B[1;33m:\u001B[0m\u001B[1;33m]\u001B[0m \u001B[1;33m=\u001B[0m \u001B[0moriginal_ms_axis\u001B[0m\u001B[1;33m[\u001B[0m\u001B[1;33m:\u001B[0m\u001B[1;33m-\u001B[0m\u001B[1;36m1\u001B[0m\u001B[1;33m]\u001B[0m\u001B[1;33m\u001B[0m\u001B[1;33m\u001B[0m\u001B[0m\n\u001B[0;32m   2552\u001B[0m         \u001B[1;32mif\u001B[0m \u001B[0mcorrect_oe_timestamps\u001B[0m\u001B[1;33m:\u001B[0m\u001B[1;33m\u001B[0m\u001B[1;33m\u001B[0m\u001B[0m\n",
      "\u001B[1;32m~\\AppData\\Local\\Programs\\Python\\Python38\\lib\\site-packages\\pandas\\core\\indexing.py\u001B[0m in \u001B[0;36m__setitem__\u001B[1;34m(self, key, value)\u001B[0m\n\u001B[0;32m    668\u001B[0m \u001B[1;33m\u001B[0m\u001B[0m\n\u001B[0;32m    669\u001B[0m         \u001B[0miloc\u001B[0m \u001B[1;33m=\u001B[0m \u001B[0mself\u001B[0m \u001B[1;32mif\u001B[0m \u001B[0mself\u001B[0m\u001B[1;33m.\u001B[0m\u001B[0mname\u001B[0m \u001B[1;33m==\u001B[0m \u001B[1;34m\"iloc\"\u001B[0m \u001B[1;32melse\u001B[0m \u001B[0mself\u001B[0m\u001B[1;33m.\u001B[0m\u001B[0mobj\u001B[0m\u001B[1;33m.\u001B[0m\u001B[0miloc\u001B[0m\u001B[1;33m\u001B[0m\u001B[1;33m\u001B[0m\u001B[0m\n\u001B[1;32m--> 670\u001B[1;33m         \u001B[0miloc\u001B[0m\u001B[1;33m.\u001B[0m\u001B[0m_setitem_with_indexer\u001B[0m\u001B[1;33m(\u001B[0m\u001B[0mindexer\u001B[0m\u001B[1;33m,\u001B[0m \u001B[0mvalue\u001B[0m\u001B[1;33m)\u001B[0m\u001B[1;33m\u001B[0m\u001B[1;33m\u001B[0m\u001B[0m\n\u001B[0m\u001B[0;32m    671\u001B[0m \u001B[1;33m\u001B[0m\u001B[0m\n\u001B[0;32m    672\u001B[0m     \u001B[1;32mdef\u001B[0m \u001B[0m_validate_key\u001B[0m\u001B[1;33m(\u001B[0m\u001B[0mself\u001B[0m\u001B[1;33m,\u001B[0m \u001B[0mkey\u001B[0m\u001B[1;33m,\u001B[0m \u001B[0maxis\u001B[0m\u001B[1;33m:\u001B[0m \u001B[0mint\u001B[0m\u001B[1;33m)\u001B[0m\u001B[1;33m:\u001B[0m\u001B[1;33m\u001B[0m\u001B[1;33m\u001B[0m\u001B[0m\n",
      "\u001B[1;32m~\\AppData\\Local\\Programs\\Python\\Python38\\lib\\site-packages\\pandas\\core\\indexing.py\u001B[0m in \u001B[0;36m_setitem_with_indexer\u001B[1;34m(self, indexer, value)\u001B[0m\n\u001B[0;32m   1798\u001B[0m             \u001B[1;31m# actually do the set\u001B[0m\u001B[1;33m\u001B[0m\u001B[1;33m\u001B[0m\u001B[1;33m\u001B[0m\u001B[0m\n\u001B[0;32m   1799\u001B[0m             \u001B[0mself\u001B[0m\u001B[1;33m.\u001B[0m\u001B[0mobj\u001B[0m\u001B[1;33m.\u001B[0m\u001B[0m_consolidate_inplace\u001B[0m\u001B[1;33m(\u001B[0m\u001B[1;33m)\u001B[0m\u001B[1;33m\u001B[0m\u001B[1;33m\u001B[0m\u001B[0m\n\u001B[1;32m-> 1800\u001B[1;33m             \u001B[0mself\u001B[0m\u001B[1;33m.\u001B[0m\u001B[0mobj\u001B[0m\u001B[1;33m.\u001B[0m\u001B[0m_mgr\u001B[0m \u001B[1;33m=\u001B[0m \u001B[0mself\u001B[0m\u001B[1;33m.\u001B[0m\u001B[0mobj\u001B[0m\u001B[1;33m.\u001B[0m\u001B[0m_mgr\u001B[0m\u001B[1;33m.\u001B[0m\u001B[0msetitem\u001B[0m\u001B[1;33m(\u001B[0m\u001B[0mindexer\u001B[0m\u001B[1;33m=\u001B[0m\u001B[0mindexer\u001B[0m\u001B[1;33m,\u001B[0m \u001B[0mvalue\u001B[0m\u001B[1;33m=\u001B[0m\u001B[0mvalue\u001B[0m\u001B[1;33m)\u001B[0m\u001B[1;33m\u001B[0m\u001B[1;33m\u001B[0m\u001B[0m\n\u001B[0m\u001B[0;32m   1801\u001B[0m             \u001B[0mself\u001B[0m\u001B[1;33m.\u001B[0m\u001B[0mobj\u001B[0m\u001B[1;33m.\u001B[0m\u001B[0m_maybe_update_cacher\u001B[0m\u001B[1;33m(\u001B[0m\u001B[0mclear\u001B[0m\u001B[1;33m=\u001B[0m\u001B[1;32mTrue\u001B[0m\u001B[1;33m)\u001B[0m\u001B[1;33m\u001B[0m\u001B[1;33m\u001B[0m\u001B[0m\n\u001B[0;32m   1802\u001B[0m \u001B[1;33m\u001B[0m\u001B[0m\n",
      "\u001B[1;32m~\\AppData\\Local\\Programs\\Python\\Python38\\lib\\site-packages\\pandas\\core\\internals\\managers.py\u001B[0m in \u001B[0;36msetitem\u001B[1;34m(self, indexer, value)\u001B[0m\n\u001B[0;32m    541\u001B[0m \u001B[1;33m\u001B[0m\u001B[0m\n\u001B[0;32m    542\u001B[0m     \u001B[1;32mdef\u001B[0m \u001B[0msetitem\u001B[0m\u001B[1;33m(\u001B[0m\u001B[0mself\u001B[0m\u001B[1;33m,\u001B[0m \u001B[0mindexer\u001B[0m\u001B[1;33m,\u001B[0m \u001B[0mvalue\u001B[0m\u001B[1;33m)\u001B[0m \u001B[1;33m->\u001B[0m \u001B[1;34m\"BlockManager\"\u001B[0m\u001B[1;33m:\u001B[0m\u001B[1;33m\u001B[0m\u001B[1;33m\u001B[0m\u001B[0m\n\u001B[1;32m--> 543\u001B[1;33m         \u001B[1;32mreturn\u001B[0m \u001B[0mself\u001B[0m\u001B[1;33m.\u001B[0m\u001B[0mapply\u001B[0m\u001B[1;33m(\u001B[0m\u001B[1;34m\"setitem\"\u001B[0m\u001B[1;33m,\u001B[0m \u001B[0mindexer\u001B[0m\u001B[1;33m=\u001B[0m\u001B[0mindexer\u001B[0m\u001B[1;33m,\u001B[0m \u001B[0mvalue\u001B[0m\u001B[1;33m=\u001B[0m\u001B[0mvalue\u001B[0m\u001B[1;33m)\u001B[0m\u001B[1;33m\u001B[0m\u001B[1;33m\u001B[0m\u001B[0m\n\u001B[0m\u001B[0;32m    544\u001B[0m \u001B[1;33m\u001B[0m\u001B[0m\n\u001B[0;32m    545\u001B[0m     def putmask(\n",
      "\u001B[1;32m~\\AppData\\Local\\Programs\\Python\\Python38\\lib\\site-packages\\pandas\\core\\internals\\managers.py\u001B[0m in \u001B[0;36mapply\u001B[1;34m(self, f, align_keys, **kwargs)\u001B[0m\n\u001B[0;32m    407\u001B[0m                 \u001B[0mapplied\u001B[0m \u001B[1;33m=\u001B[0m \u001B[0mb\u001B[0m\u001B[1;33m.\u001B[0m\u001B[0mapply\u001B[0m\u001B[1;33m(\u001B[0m\u001B[0mf\u001B[0m\u001B[1;33m,\u001B[0m \u001B[1;33m**\u001B[0m\u001B[0mkwargs\u001B[0m\u001B[1;33m)\u001B[0m\u001B[1;33m\u001B[0m\u001B[1;33m\u001B[0m\u001B[0m\n\u001B[0;32m    408\u001B[0m             \u001B[1;32melse\u001B[0m\u001B[1;33m:\u001B[0m\u001B[1;33m\u001B[0m\u001B[1;33m\u001B[0m\u001B[0m\n\u001B[1;32m--> 409\u001B[1;33m                 \u001B[0mapplied\u001B[0m \u001B[1;33m=\u001B[0m \u001B[0mgetattr\u001B[0m\u001B[1;33m(\u001B[0m\u001B[0mb\u001B[0m\u001B[1;33m,\u001B[0m \u001B[0mf\u001B[0m\u001B[1;33m)\u001B[0m\u001B[1;33m(\u001B[0m\u001B[1;33m**\u001B[0m\u001B[0mkwargs\u001B[0m\u001B[1;33m)\u001B[0m\u001B[1;33m\u001B[0m\u001B[1;33m\u001B[0m\u001B[0m\n\u001B[0m\u001B[0;32m    410\u001B[0m             \u001B[0mresult_blocks\u001B[0m \u001B[1;33m=\u001B[0m \u001B[0m_extend_blocks\u001B[0m\u001B[1;33m(\u001B[0m\u001B[0mapplied\u001B[0m\u001B[1;33m,\u001B[0m \u001B[0mresult_blocks\u001B[0m\u001B[1;33m)\u001B[0m\u001B[1;33m\u001B[0m\u001B[1;33m\u001B[0m\u001B[0m\n\u001B[0;32m    411\u001B[0m \u001B[1;33m\u001B[0m\u001B[0m\n",
      "\u001B[1;32m~\\AppData\\Local\\Programs\\Python\\Python38\\lib\\site-packages\\pandas\\core\\internals\\blocks.py\u001B[0m in \u001B[0;36msetitem\u001B[1;34m(self, indexer, value)\u001B[0m\n\u001B[0;32m    853\u001B[0m \u001B[1;33m\u001B[0m\u001B[0m\n\u001B[0;32m    854\u001B[0m         \u001B[1;31m# length checking\u001B[0m\u001B[1;33m\u001B[0m\u001B[1;33m\u001B[0m\u001B[1;33m\u001B[0m\u001B[0m\n\u001B[1;32m--> 855\u001B[1;33m         \u001B[0mcheck_setitem_lengths\u001B[0m\u001B[1;33m(\u001B[0m\u001B[0mindexer\u001B[0m\u001B[1;33m,\u001B[0m \u001B[0mvalue\u001B[0m\u001B[1;33m,\u001B[0m \u001B[0mvalues\u001B[0m\u001B[1;33m)\u001B[0m\u001B[1;33m\u001B[0m\u001B[1;33m\u001B[0m\u001B[0m\n\u001B[0m\u001B[0;32m    856\u001B[0m         exact_match = (\n\u001B[0;32m    857\u001B[0m             \u001B[0mlen\u001B[0m\u001B[1;33m(\u001B[0m\u001B[0marr_value\u001B[0m\u001B[1;33m.\u001B[0m\u001B[0mshape\u001B[0m\u001B[1;33m)\u001B[0m\u001B[1;33m\u001B[0m\u001B[1;33m\u001B[0m\u001B[0m\n",
      "\u001B[1;32m~\\AppData\\Local\\Programs\\Python\\Python38\\lib\\site-packages\\pandas\\core\\indexers.py\u001B[0m in \u001B[0;36mcheck_setitem_lengths\u001B[1;34m(indexer, value, values)\u001B[0m\n\u001B[0;32m    158\u001B[0m         \u001B[1;32mif\u001B[0m \u001B[0mis_list_like\u001B[0m\u001B[1;33m(\u001B[0m\u001B[0mvalue\u001B[0m\u001B[1;33m)\u001B[0m \u001B[1;32mand\u001B[0m \u001B[0mlen\u001B[0m\u001B[1;33m(\u001B[0m\u001B[0mvalues\u001B[0m\u001B[1;33m)\u001B[0m\u001B[1;33m:\u001B[0m\u001B[1;33m\u001B[0m\u001B[1;33m\u001B[0m\u001B[0m\n\u001B[0;32m    159\u001B[0m             \u001B[1;32mif\u001B[0m \u001B[0mlen\u001B[0m\u001B[1;33m(\u001B[0m\u001B[0mvalue\u001B[0m\u001B[1;33m)\u001B[0m \u001B[1;33m!=\u001B[0m \u001B[0mlength_of_indexer\u001B[0m\u001B[1;33m(\u001B[0m\u001B[0mindexer\u001B[0m\u001B[1;33m,\u001B[0m \u001B[0mvalues\u001B[0m\u001B[1;33m)\u001B[0m\u001B[1;33m:\u001B[0m\u001B[1;33m\u001B[0m\u001B[1;33m\u001B[0m\u001B[0m\n\u001B[1;32m--> 160\u001B[1;33m                 raise ValueError(\n\u001B[0m\u001B[0;32m    161\u001B[0m                     \u001B[1;34m\"cannot set using a slice indexer with a \"\u001B[0m\u001B[1;33m\u001B[0m\u001B[1;33m\u001B[0m\u001B[0m\n\u001B[0;32m    162\u001B[0m                     \u001B[1;34m\"different length than the value\"\u001B[0m\u001B[1;33m\u001B[0m\u001B[1;33m\u001B[0m\u001B[0m\n",
      "\u001B[1;31mValueError\u001B[0m: cannot set using a slice indexer with a different length than the value"
     ]
    }
   ],
   "source": [
    "# block integrated version:\n",
    "block.find_led_blink_frames()\n",
    "l_df, r_df = block.correct_relative_eye_drift_based_on_LED_lights_out(verification_plots=True)\n",
    "block.left_eye_data = l_df\n",
    "block.right_eye_data = r_df"
   ],
   "metadata": {
    "collapsed": false,
    "ExecuteTime": {
     "end_time": "2025-02-17T10:46:08.396169800Z",
     "start_time": "2025-02-17T10:46:04.602200300Z"
    }
   },
   "id": "a5dbac7bcb642aa3",
   "execution_count": 53
  },
  {
   "cell_type": "code",
   "outputs": [
    {
     "name": "stdout",
     "output_type": "stream",
     "text": [
      "missing frame at 7\n",
      "missing frame at 11\n",
      "double row at 17\n",
      "double row at 23\n",
      "missing frame at 27\n",
      "missing frame at 28\n",
      "missing frame at 29\n"
     ]
    },
    {
     "ename": "KeyError",
     "evalue": "\"None of [Index(['LED_driver'], dtype='object')] are in the [columns]\"",
     "output_type": "error",
     "traceback": [
      "\u001B[1;31m---------------------------------------------------------------------------\u001B[0m",
      "\u001B[1;31mKeyError\u001B[0m                                  Traceback (most recent call last)",
      "\u001B[1;32m<ipython-input-368-2cf86bc30cd1>\u001B[0m in \u001B[0;36m<module>\u001B[1;34m\u001B[0m\n\u001B[1;32m----> 1\u001B[1;33m \u001B[0ml_df\u001B[0m\u001B[1;33m,\u001B[0m \u001B[0mr_df\u001B[0m \u001B[1;33m=\u001B[0m \u001B[0mblock\u001B[0m\u001B[1;33m.\u001B[0m\u001B[0mcorrect_eye_sync_based_on_OE_LED_events\u001B[0m\u001B[1;33m(\u001B[0m\u001B[1;33m)\u001B[0m\u001B[1;33m\u001B[0m\u001B[1;33m\u001B[0m\u001B[0m\n\u001B[0m",
      "\u001B[1;32m~\\PycharmProjects\\pythonProject3\\BlockSync_current.py\u001B[0m in \u001B[0;36mcorrect_eye_sync_based_on_OE_LED_events\u001B[1;34m(self)\u001B[0m\n\u001B[0;32m   2747\u001B[0m         \u001B[1;31m# This is where the led blink frames are found and a mean correction value is computed\u001B[0m\u001B[1;33m\u001B[0m\u001B[1;33m\u001B[0m\u001B[1;33m\u001B[0m\u001B[0m\n\u001B[0;32m   2748\u001B[0m         \u001B[1;31m# get ms oe-based blink frames:\u001B[0m\u001B[1;33m\u001B[0m\u001B[1;33m\u001B[0m\u001B[1;33m\u001B[0m\u001B[0m\n\u001B[1;32m-> 2749\u001B[1;33m         \u001B[0moe_led_blinks\u001B[0m \u001B[1;33m=\u001B[0m \u001B[0mself\u001B[0m\u001B[1;33m.\u001B[0m\u001B[0moe_events\u001B[0m\u001B[1;33m[\u001B[0m\u001B[1;33m[\u001B[0m\u001B[1;34m'LED_driver'\u001B[0m\u001B[1;33m]\u001B[0m\u001B[1;33m]\u001B[0m\u001B[1;33m.\u001B[0m\u001B[0mquery\u001B[0m\u001B[1;33m(\u001B[0m\u001B[1;34m'LED_driver == LED_driver'\u001B[0m\u001B[1;33m)\u001B[0m\u001B[1;33m.\u001B[0m\u001B[0mvalues\u001B[0m\u001B[1;33m\u001B[0m\u001B[1;33m\u001B[0m\u001B[0m\n\u001B[0m\u001B[0;32m   2750\u001B[0m         \u001B[0mms_timestamps\u001B[0m \u001B[1;33m=\u001B[0m \u001B[0moe_led_blinks\u001B[0m\u001B[1;33m.\u001B[0m\u001B[0mT\u001B[0m \u001B[1;33m/\u001B[0m \u001B[1;36m20\u001B[0m\u001B[1;33m\u001B[0m\u001B[1;33m\u001B[0m\u001B[0m\n\u001B[0;32m   2751\u001B[0m         \u001B[0mms_axis\u001B[0m \u001B[1;33m=\u001B[0m \u001B[0mself\u001B[0m\u001B[1;33m.\u001B[0m\u001B[0mleft_eye_data\u001B[0m\u001B[1;33m.\u001B[0m\u001B[0mms_axis\u001B[0m\u001B[1;33m.\u001B[0m\u001B[0mvalues\u001B[0m\u001B[1;33m\u001B[0m\u001B[1;33m\u001B[0m\u001B[0m\n",
      "\u001B[1;32m~\\AppData\\Local\\Programs\\Python\\Python38\\lib\\site-packages\\pandas\\core\\frame.py\u001B[0m in \u001B[0;36m__getitem__\u001B[1;34m(self, key)\u001B[0m\n\u001B[0;32m   2910\u001B[0m             \u001B[1;32mif\u001B[0m \u001B[0mis_iterator\u001B[0m\u001B[1;33m(\u001B[0m\u001B[0mkey\u001B[0m\u001B[1;33m)\u001B[0m\u001B[1;33m:\u001B[0m\u001B[1;33m\u001B[0m\u001B[1;33m\u001B[0m\u001B[0m\n\u001B[0;32m   2911\u001B[0m                 \u001B[0mkey\u001B[0m \u001B[1;33m=\u001B[0m \u001B[0mlist\u001B[0m\u001B[1;33m(\u001B[0m\u001B[0mkey\u001B[0m\u001B[1;33m)\u001B[0m\u001B[1;33m\u001B[0m\u001B[1;33m\u001B[0m\u001B[0m\n\u001B[1;32m-> 2912\u001B[1;33m             \u001B[0mindexer\u001B[0m \u001B[1;33m=\u001B[0m \u001B[0mself\u001B[0m\u001B[1;33m.\u001B[0m\u001B[0mloc\u001B[0m\u001B[1;33m.\u001B[0m\u001B[0m_get_listlike_indexer\u001B[0m\u001B[1;33m(\u001B[0m\u001B[0mkey\u001B[0m\u001B[1;33m,\u001B[0m \u001B[0maxis\u001B[0m\u001B[1;33m=\u001B[0m\u001B[1;36m1\u001B[0m\u001B[1;33m,\u001B[0m \u001B[0mraise_missing\u001B[0m\u001B[1;33m=\u001B[0m\u001B[1;32mTrue\u001B[0m\u001B[1;33m)\u001B[0m\u001B[1;33m[\u001B[0m\u001B[1;36m1\u001B[0m\u001B[1;33m]\u001B[0m\u001B[1;33m\u001B[0m\u001B[1;33m\u001B[0m\u001B[0m\n\u001B[0m\u001B[0;32m   2913\u001B[0m \u001B[1;33m\u001B[0m\u001B[0m\n\u001B[0;32m   2914\u001B[0m         \u001B[1;31m# take() does not accept boolean indexers\u001B[0m\u001B[1;33m\u001B[0m\u001B[1;33m\u001B[0m\u001B[1;33m\u001B[0m\u001B[0m\n",
      "\u001B[1;32m~\\AppData\\Local\\Programs\\Python\\Python38\\lib\\site-packages\\pandas\\core\\indexing.py\u001B[0m in \u001B[0;36m_get_listlike_indexer\u001B[1;34m(self, key, axis, raise_missing)\u001B[0m\n\u001B[0;32m   1252\u001B[0m             \u001B[0mkeyarr\u001B[0m\u001B[1;33m,\u001B[0m \u001B[0mindexer\u001B[0m\u001B[1;33m,\u001B[0m \u001B[0mnew_indexer\u001B[0m \u001B[1;33m=\u001B[0m \u001B[0max\u001B[0m\u001B[1;33m.\u001B[0m\u001B[0m_reindex_non_unique\u001B[0m\u001B[1;33m(\u001B[0m\u001B[0mkeyarr\u001B[0m\u001B[1;33m)\u001B[0m\u001B[1;33m\u001B[0m\u001B[1;33m\u001B[0m\u001B[0m\n\u001B[0;32m   1253\u001B[0m \u001B[1;33m\u001B[0m\u001B[0m\n\u001B[1;32m-> 1254\u001B[1;33m         \u001B[0mself\u001B[0m\u001B[1;33m.\u001B[0m\u001B[0m_validate_read_indexer\u001B[0m\u001B[1;33m(\u001B[0m\u001B[0mkeyarr\u001B[0m\u001B[1;33m,\u001B[0m \u001B[0mindexer\u001B[0m\u001B[1;33m,\u001B[0m \u001B[0maxis\u001B[0m\u001B[1;33m,\u001B[0m \u001B[0mraise_missing\u001B[0m\u001B[1;33m=\u001B[0m\u001B[0mraise_missing\u001B[0m\u001B[1;33m)\u001B[0m\u001B[1;33m\u001B[0m\u001B[1;33m\u001B[0m\u001B[0m\n\u001B[0m\u001B[0;32m   1255\u001B[0m         \u001B[1;32mreturn\u001B[0m \u001B[0mkeyarr\u001B[0m\u001B[1;33m,\u001B[0m \u001B[0mindexer\u001B[0m\u001B[1;33m\u001B[0m\u001B[1;33m\u001B[0m\u001B[0m\n\u001B[0;32m   1256\u001B[0m \u001B[1;33m\u001B[0m\u001B[0m\n",
      "\u001B[1;32m~\\AppData\\Local\\Programs\\Python\\Python38\\lib\\site-packages\\pandas\\core\\indexing.py\u001B[0m in \u001B[0;36m_validate_read_indexer\u001B[1;34m(self, key, indexer, axis, raise_missing)\u001B[0m\n\u001B[0;32m   1296\u001B[0m             \u001B[1;32mif\u001B[0m \u001B[0mmissing\u001B[0m \u001B[1;33m==\u001B[0m \u001B[0mlen\u001B[0m\u001B[1;33m(\u001B[0m\u001B[0mindexer\u001B[0m\u001B[1;33m)\u001B[0m\u001B[1;33m:\u001B[0m\u001B[1;33m\u001B[0m\u001B[1;33m\u001B[0m\u001B[0m\n\u001B[0;32m   1297\u001B[0m                 \u001B[0maxis_name\u001B[0m \u001B[1;33m=\u001B[0m \u001B[0mself\u001B[0m\u001B[1;33m.\u001B[0m\u001B[0mobj\u001B[0m\u001B[1;33m.\u001B[0m\u001B[0m_get_axis_name\u001B[0m\u001B[1;33m(\u001B[0m\u001B[0maxis\u001B[0m\u001B[1;33m)\u001B[0m\u001B[1;33m\u001B[0m\u001B[1;33m\u001B[0m\u001B[0m\n\u001B[1;32m-> 1298\u001B[1;33m                 \u001B[1;32mraise\u001B[0m \u001B[0mKeyError\u001B[0m\u001B[1;33m(\u001B[0m\u001B[1;34mf\"None of [{key}] are in the [{axis_name}]\"\u001B[0m\u001B[1;33m)\u001B[0m\u001B[1;33m\u001B[0m\u001B[1;33m\u001B[0m\u001B[0m\n\u001B[0m\u001B[0;32m   1299\u001B[0m \u001B[1;33m\u001B[0m\u001B[0m\n\u001B[0;32m   1300\u001B[0m             \u001B[1;31m# We (temporarily) allow for some missing keys with .loc, except in\u001B[0m\u001B[1;33m\u001B[0m\u001B[1;33m\u001B[0m\u001B[1;33m\u001B[0m\u001B[0m\n",
      "\u001B[1;31mKeyError\u001B[0m: \"None of [Index(['LED_driver'], dtype='object')] are in the [columns]\""
     ]
    }
   ],
   "source": [
    "l_df, r_df = block.correct_eye_sync_based_on_OE_LED_events()"
   ],
   "metadata": {
    "collapsed": false,
    "ExecuteTime": {
     "end_time": "2024-12-31T13:38:30.669576900Z",
     "start_time": "2024-12-31T13:38:30.534854Z"
    }
   },
   "id": "a982500494089ee6",
   "execution_count": 368
  },
  {
   "cell_type": "code",
   "outputs": [],
   "source": [
    "#finalize here, then export\n",
    "block.left_eye_data = l_df\n",
    "block.right_eye_data = r_df"
   ],
   "metadata": {
    "collapsed": false,
    "ExecuteTime": {
     "end_time": "2024-12-31T13:38:50.027947800Z",
     "start_time": "2024-12-31T13:38:49.986047300Z"
    }
   },
   "id": "722552b60cd511dc",
   "execution_count": 370
  },
  {
   "cell_type": "markdown",
   "source": [
    "# End of Synchronization Pipeline"
   ],
   "metadata": {
    "collapsed": false
   },
   "id": "906cceb8f6c47b4b"
  },
  {
   "cell_type": "markdown",
   "source": [
    "# Data export steps:"
   ],
   "metadata": {
    "collapsed": false
   },
   "id": "2e68d89b4efe7289"
  },
  {
   "cell_type": "code",
   "outputs": [
    {
     "name": "stdout",
     "output_type": "stream",
     "text": [
      "eye dataframes and rotation matrix saved to: <_io.BufferedWriter name='Z:\\\\Nimrod\\\\experiments\\\\PV_24\\\\2021_12_27\\\\block_012\\\\analysis\\\\rotate_eye_data_params.pkl'>\n"
     ]
    }
   ],
   "source": [
    "def export_eye_data_2d_w_rotation_matrix(block):\n",
    "    \"\"\"\n",
    "    This function saves the eye dataframes to two csv files\n",
    "    :param block: The current blocksync class with verifiec re/le dfs\n",
    "    :return: None\n",
    "    \"\"\"\n",
    "    block.right_eye_data.to_csv(block.analysis_path / 'right_eye_data.csv')\n",
    "    block.left_eye_data.to_csv(block.analysis_path / 'left_eye_data.csv')\n",
    "    rotation_dict = {'left_rotation_matrix': block.left_rotation_matrix,\n",
    "                'left_rotation_angle':  block.left_rotation_angle,\n",
    "                'right_rotation_matrix':block.right_rotation_matrix,\n",
    "                'right_rotation_angle': block.right_rotation_angle}\n",
    "    with open(block.analysis_path / 'rotate_eye_data_params.pkl', 'wb') as file:\n",
    "        pickle.dump(rotation_dict, file)\n",
    "        print(f'eye dataframes and rotation matrix saved to: {file}')\n",
    "        \n",
    "export_eye_data_2d_w_rotation_matrix(block)"
   ],
   "metadata": {
    "collapsed": false,
    "ExecuteTime": {
     "end_time": "2025-02-17T10:46:26.166907300Z",
     "start_time": "2025-02-17T10:46:19.279713900Z"
    }
   },
   "id": "c527e159d544437a",
   "execution_count": 54
  },
  {
   "cell_type": "code",
   "outputs": [],
   "source": [
    "block.final_sync_df"
   ],
   "metadata": {
    "collapsed": false,
    "ExecuteTime": {
     "end_time": "2024-12-26T18:19:22.841119Z",
     "start_time": "2024-12-26T18:19:22.811388300Z"
    }
   },
   "id": "798b493f461429ea",
   "execution_count": 64
  },
  {
   "cell_type": "markdown",
   "source": [
    "# Manual Synchronization steps - only use when needed and after block instantiation"
   ],
   "metadata": {
    "collapsed": false
   },
   "id": "2fe8c022a31e2581"
  },
  {
   "cell_type": "code",
   "outputs": [
    {
     "data": {
      "text/plain": "dict_keys(['012'])"
     },
     "execution_count": 19,
     "metadata": {},
     "output_type": "execute_result"
    }
   ],
   "source": [
    "block_dict.keys()"
   ],
   "metadata": {
    "collapsed": false,
    "ExecuteTime": {
     "end_time": "2025-02-17T10:32:50.423046800Z",
     "start_time": "2025-02-17T10:32:50.353020700Z"
    }
   },
   "id": "9cc787410750ea3b",
   "execution_count": 19
  },
  {
   "cell_type": "code",
   "outputs": [],
   "source": [
    "block = block_dict['012']"
   ],
   "metadata": {
    "collapsed": false,
    "ExecuteTime": {
     "end_time": "2025-02-17T10:32:54.538259800Z",
     "start_time": "2025-02-17T10:32:54.485258900Z"
    }
   },
   "id": "bdcd2a518321f5f3",
   "execution_count": 20
  },
  {
   "cell_type": "code",
   "outputs": [
    {
     "name": "stdout",
     "output_type": "stream",
     "text": [
      "index error on position 33 out of 34\n",
      "index error on position 35 out of 36\n",
      "The suspected lag between eye cameras is 2.0 with the direction ['left', 'late']\n"
     ]
    }
   ],
   "source": [
    "block.get_eyes_diff_list(2)"
   ],
   "metadata": {
    "collapsed": false,
    "ExecuteTime": {
     "end_time": "2025-02-17T10:32:55.184461800Z",
     "start_time": "2025-02-17T10:32:55.142464500Z"
    }
   },
   "id": "96e6a638ce6b278a",
   "execution_count": 21
  },
  {
   "cell_type": "code",
   "outputs": [
    {
     "name": "stdout",
     "output_type": "stream",
     "text": [
      "created manual_sync_df attribute for the block\n"
     ]
    }
   ],
   "source": [
    "block.fix_eye_synchronization()"
   ],
   "metadata": {
    "collapsed": false,
    "ExecuteTime": {
     "end_time": "2025-02-17T10:32:56.897018600Z",
     "start_time": "2025-02-17T10:32:56.864996100Z"
    }
   },
   "id": "41926d1e9a8563b7",
   "execution_count": 22
  },
  {
   "cell_type": "code",
   "outputs": [
    {
     "data": {
      "text/plain": "           Arena_frame L_eye_frame R_eye_frame  L_values  R_values\nArena_TTL                                                         \n1270728.0         1296           3           3  0.020995  0.021889\n1271070.0         1297           4           4  0.020995  0.021889\n1271411.0         1298           5           5  0.020995  0.021889\n1271752.0         1299           6           6  0.020995  0.021889\n1272093.0         1300           7           7  0.020995  0.021889\n...                ...         ...         ...       ...       ...\n37658090.0      108000      109364      109363  0.020995  0.021889\n37658431.0      108001      109364      109364  0.020995  0.021889\n37658772.0      108002      109366      109365  0.020995  0.021889\n37659113.0      108003         NaN      109366       NaN  0.021889\n37659454.0      108004         NaN      109367       NaN       NaN\n\n[106709 rows x 5 columns]",
      "text/html": "<div>\n<style scoped>\n    .dataframe tbody tr th:only-of-type {\n        vertical-align: middle;\n    }\n\n    .dataframe tbody tr th {\n        vertical-align: top;\n    }\n\n    .dataframe thead th {\n        text-align: right;\n    }\n</style>\n<table border=\"1\" class=\"dataframe\">\n  <thead>\n    <tr style=\"text-align: right;\">\n      <th></th>\n      <th>Arena_frame</th>\n      <th>L_eye_frame</th>\n      <th>R_eye_frame</th>\n      <th>L_values</th>\n      <th>R_values</th>\n    </tr>\n    <tr>\n      <th>Arena_TTL</th>\n      <th></th>\n      <th></th>\n      <th></th>\n      <th></th>\n      <th></th>\n    </tr>\n  </thead>\n  <tbody>\n    <tr>\n      <th>1270728.0</th>\n      <td>1296</td>\n      <td>3</td>\n      <td>3</td>\n      <td>0.020995</td>\n      <td>0.021889</td>\n    </tr>\n    <tr>\n      <th>1271070.0</th>\n      <td>1297</td>\n      <td>4</td>\n      <td>4</td>\n      <td>0.020995</td>\n      <td>0.021889</td>\n    </tr>\n    <tr>\n      <th>1271411.0</th>\n      <td>1298</td>\n      <td>5</td>\n      <td>5</td>\n      <td>0.020995</td>\n      <td>0.021889</td>\n    </tr>\n    <tr>\n      <th>1271752.0</th>\n      <td>1299</td>\n      <td>6</td>\n      <td>6</td>\n      <td>0.020995</td>\n      <td>0.021889</td>\n    </tr>\n    <tr>\n      <th>1272093.0</th>\n      <td>1300</td>\n      <td>7</td>\n      <td>7</td>\n      <td>0.020995</td>\n      <td>0.021889</td>\n    </tr>\n    <tr>\n      <th>...</th>\n      <td>...</td>\n      <td>...</td>\n      <td>...</td>\n      <td>...</td>\n      <td>...</td>\n    </tr>\n    <tr>\n      <th>37658090.0</th>\n      <td>108000</td>\n      <td>109364</td>\n      <td>109363</td>\n      <td>0.020995</td>\n      <td>0.021889</td>\n    </tr>\n    <tr>\n      <th>37658431.0</th>\n      <td>108001</td>\n      <td>109364</td>\n      <td>109364</td>\n      <td>0.020995</td>\n      <td>0.021889</td>\n    </tr>\n    <tr>\n      <th>37658772.0</th>\n      <td>108002</td>\n      <td>109366</td>\n      <td>109365</td>\n      <td>0.020995</td>\n      <td>0.021889</td>\n    </tr>\n    <tr>\n      <th>37659113.0</th>\n      <td>108003</td>\n      <td>NaN</td>\n      <td>109366</td>\n      <td>NaN</td>\n      <td>0.021889</td>\n    </tr>\n    <tr>\n      <th>37659454.0</th>\n      <td>108004</td>\n      <td>NaN</td>\n      <td>109367</td>\n      <td>NaN</td>\n      <td>NaN</td>\n    </tr>\n  </tbody>\n</table>\n<p>106709 rows × 5 columns</p>\n</div>"
     },
     "execution_count": 23,
     "metadata": {},
     "output_type": "execute_result"
    }
   ],
   "source": [
    "block.manual_sync_df"
   ],
   "metadata": {
    "collapsed": false,
    "ExecuteTime": {
     "end_time": "2025-02-17T10:32:59.266082800Z",
     "start_time": "2025-02-17T10:32:59.207083200Z"
    }
   },
   "id": "fcfdf198c2b4b8f5",
   "execution_count": 23
  },
  {
   "cell_type": "code",
   "outputs": [],
   "source": [
    "# use this to manually shift L\\R eye synchronization\n",
    "eye_to_move = 'L'\n",
    "block.move_eye_sync_manual(cols_to_move=[f'{eye_to_move}_eye_frame',f'{eye_to_move}_values'],step=-3)"
   ],
   "metadata": {
    "collapsed": false,
    "ExecuteTime": {
     "end_time": "2025-02-17T10:35:31.750450800Z",
     "start_time": "2025-02-17T10:35:31.680451600Z"
    }
   },
   "id": "612bae28bc9a5278",
   "execution_count": 33
  },
  {
   "cell_type": "code",
   "outputs": [],
   "source": [
    "block.full_sync_verification(ms_axis=False,with_arena=False)"
   ],
   "metadata": {
    "collapsed": false,
    "ExecuteTime": {
     "end_time": "2025-02-17T10:35:33.987511700Z",
     "start_time": "2025-02-17T10:35:32.461512Z"
    }
   },
   "id": "dfa027bfac3d1e4a",
   "execution_count": 34
  },
  {
   "cell_type": "code",
   "outputs": [],
   "source": [
    "block.export_manual_sync_df()\n",
    "block.import_manual_sync_df()"
   ],
   "metadata": {
    "collapsed": false,
    "ExecuteTime": {
     "end_time": "2025-02-17T10:36:10.188163300Z",
     "start_time": "2025-02-17T10:36:08.612614400Z"
    }
   },
   "id": "f1aa0fea4b85630f",
   "execution_count": 35
  },
  {
   "cell_type": "code",
   "outputs": [],
   "source": [
    "def full_sync_verification(self):\n",
    "    from bokeh.plotting import figure, show, curdoc\n",
    "    from bokeh.models import Slider, ColumnDataSource, CustomJS\n",
    "    from bokeh.layouts import column\n",
    "    import numpy as np\n",
    "    data_dict = {\n",
    "    'L_values': [None if np.isnan(x) or np.isinf(x) else x for x in\n",
    "    self.manual_sync_df['L_values']],\n",
    "    'R_values': [None if np.isnan(x) or np.isinf(x) else x for x in\n",
    "    self.manual_sync_df['R_values']]\n",
    "    }\n",
    "    source = ColumnDataSource(data=dict(\n",
    "    x_axis=self.manual_sync_df.index / self.sample_rate,\n",
    "    left_y=[None if np.isnan(x) or np.isinf(x) else x for x in\n",
    "    self.manual_sync_df['L_values'].shift(0)],\n",
    "    right_y=[None if np.isnan(x) or np.isinf(x) else x for x in\n",
    "    self.manual_sync_df['R_values'].shift(0)]\n",
    "    ))\n",
    "    bokeh_fig = figure(\n",
    "    title=f'Full Synchronization Verification',\n",
    "    x_axis_label='Seconds',\n",
    "    y_axis_label='Brightness Z_Score',\n",
    "    plot_width=1500,\n",
    "    plot_height=700\n",
    "    )\n",
    "    left_line = bokeh_fig.line('x_axis', 'left_y', source=source,\n",
    "    legend_label='Left_eye_values', line_width=1,\n",
    "    line_color='blue')\n",
    "    right_line = bokeh_fig.line('x_axis', 'right_y', source=source,\n",
    "    legend_label='Right_eye_values', line_width=1,\n",
    "    line_color='red')\n",
    "    slider_left = Slider(start=-50, end=50, value=0, step=1, title=\"Left Eye Shift\")\n",
    "    slider_right = Slider(start=-50, end=50, value=0, step=1, title=\"Right Eye Shift\")\n",
    "    callback = CustomJS(args=dict(source=source, slider_left=slider_left,\n",
    "    slider_right=slider_right, data_dict=data_dict),\n",
    "    code=\"\"\"\n",
    "    const plot_data = source.data;\n",
    "    const left_shift = slider_left.value;\n",
    "    const right_shift = slider_right.value;\n",
    "    const left_values = data_dict['L_values'];\n",
    "    const right_values = data_dict['R_values'];\n",
    "    const length = plot_data['x_axis'].length;\n",
    "    for (let i = 0; i < length; i++) {\n",
    "    plot_data['left_y'][i] = (i + left_shift >= 0 && i +\n",
    "    left_shift < length) ? left_values[i + left_shift] : null;\n",
    "    plot_data['right_y'][i] = (i + right_shift >= 0 && i +\n",
    "    right_shift < length) ? right_values[i + right_shift] : null;\n",
    "    }\n",
    "    console.log(\"Left shift: \", left_shift, \"Right shift: \",\n",
    "    right_shift); // Debug output\n",
    "    source.change.emit();\n",
    "    \"\"\")\n",
    "    slider_left.js_on_change('value', callback)\n",
    "    slider_right.js_on_change('value', callback)\n",
    "    layout = column(bokeh_fig, slider_left, slider_right)\n",
    "    curdoc().add_root(layout)\n",
    "    show(layout)\n"
   ],
   "metadata": {
    "collapsed": false,
    "ExecuteTime": {
     "end_time": "2025-02-17T10:33:23.537631100Z",
     "start_time": "2025-02-17T10:33:23.506655300Z"
    }
   },
   "id": "5ab839e1eebe4170",
   "execution_count": 25
  },
  {
   "cell_type": "code",
   "outputs": [],
   "source": [
    "full_sync_verification(block)"
   ],
   "metadata": {
    "collapsed": false,
    "ExecuteTime": {
     "end_time": "2025-02-17T10:33:57.010429700Z",
     "start_time": "2025-02-17T10:33:53.546430Z"
    }
   },
   "id": "b8f73dc680caa978",
   "execution_count": 27
  },
  {
   "cell_type": "code",
   "outputs": [],
   "source": [
    "block.manual_sync_df.rename(columns={'Unnamed: 0.1': 'Arena_TTL'},inplace=True)"
   ],
   "metadata": {
    "collapsed": false,
    "ExecuteTime": {
     "end_time": "2024-12-18T13:23:42.716265100Z",
     "start_time": "2024-12-18T13:23:42.659953500Z"
    }
   },
   "id": "1fbc218b27752fa4",
   "execution_count": 38
  },
  {
   "cell_type": "code",
   "outputs": [
    {
     "data": {
      "text/plain": "        Arena_TTL  Arena_frame  L_eye_frame  R_eye_frame  L_values  R_values\n0          913655        845.0          6.0          2.0 -0.970385 -0.877140\n1          913988        846.0          6.0          3.0 -0.970385 -0.872642\n2          914321        846.0          8.0          4.0 -0.969849 -0.871553\n3          914655        847.0          9.0          5.0 -0.966254 -0.868974\n4          914988        847.0         10.0          6.0 -0.970299 -0.867236\n...           ...          ...          ...          ...       ...       ...\n121570   41436988      62567.0     121799.0     121794.0 -0.277042  0.023131\n121571   41437321      62567.0     121799.0          NaN -0.277042       NaN\n121572   41437655      62568.0     121800.0          NaN -0.285377       NaN\n121573   41437988      62568.0     121802.0          NaN -0.269196       NaN\n121574   41438321      62569.0     121803.0          NaN -0.269542       NaN\n\n[121575 rows x 6 columns]",
      "text/html": "<div>\n<style scoped>\n    .dataframe tbody tr th:only-of-type {\n        vertical-align: middle;\n    }\n\n    .dataframe tbody tr th {\n        vertical-align: top;\n    }\n\n    .dataframe thead th {\n        text-align: right;\n    }\n</style>\n<table border=\"1\" class=\"dataframe\">\n  <thead>\n    <tr style=\"text-align: right;\">\n      <th></th>\n      <th>Arena_TTL</th>\n      <th>Arena_frame</th>\n      <th>L_eye_frame</th>\n      <th>R_eye_frame</th>\n      <th>L_values</th>\n      <th>R_values</th>\n    </tr>\n  </thead>\n  <tbody>\n    <tr>\n      <th>0</th>\n      <td>913655</td>\n      <td>845.0</td>\n      <td>6.0</td>\n      <td>2.0</td>\n      <td>-0.970385</td>\n      <td>-0.877140</td>\n    </tr>\n    <tr>\n      <th>1</th>\n      <td>913988</td>\n      <td>846.0</td>\n      <td>6.0</td>\n      <td>3.0</td>\n      <td>-0.970385</td>\n      <td>-0.872642</td>\n    </tr>\n    <tr>\n      <th>2</th>\n      <td>914321</td>\n      <td>846.0</td>\n      <td>8.0</td>\n      <td>4.0</td>\n      <td>-0.969849</td>\n      <td>-0.871553</td>\n    </tr>\n    <tr>\n      <th>3</th>\n      <td>914655</td>\n      <td>847.0</td>\n      <td>9.0</td>\n      <td>5.0</td>\n      <td>-0.966254</td>\n      <td>-0.868974</td>\n    </tr>\n    <tr>\n      <th>4</th>\n      <td>914988</td>\n      <td>847.0</td>\n      <td>10.0</td>\n      <td>6.0</td>\n      <td>-0.970299</td>\n      <td>-0.867236</td>\n    </tr>\n    <tr>\n      <th>...</th>\n      <td>...</td>\n      <td>...</td>\n      <td>...</td>\n      <td>...</td>\n      <td>...</td>\n      <td>...</td>\n    </tr>\n    <tr>\n      <th>121570</th>\n      <td>41436988</td>\n      <td>62567.0</td>\n      <td>121799.0</td>\n      <td>121794.0</td>\n      <td>-0.277042</td>\n      <td>0.023131</td>\n    </tr>\n    <tr>\n      <th>121571</th>\n      <td>41437321</td>\n      <td>62567.0</td>\n      <td>121799.0</td>\n      <td>NaN</td>\n      <td>-0.277042</td>\n      <td>NaN</td>\n    </tr>\n    <tr>\n      <th>121572</th>\n      <td>41437655</td>\n      <td>62568.0</td>\n      <td>121800.0</td>\n      <td>NaN</td>\n      <td>-0.285377</td>\n      <td>NaN</td>\n    </tr>\n    <tr>\n      <th>121573</th>\n      <td>41437988</td>\n      <td>62568.0</td>\n      <td>121802.0</td>\n      <td>NaN</td>\n      <td>-0.269196</td>\n      <td>NaN</td>\n    </tr>\n    <tr>\n      <th>121574</th>\n      <td>41438321</td>\n      <td>62569.0</td>\n      <td>121803.0</td>\n      <td>NaN</td>\n      <td>-0.269542</td>\n      <td>NaN</td>\n    </tr>\n  </tbody>\n</table>\n<p>121575 rows × 6 columns</p>\n</div>"
     },
     "execution_count": 39,
     "metadata": {},
     "output_type": "execute_result"
    }
   ],
   "source": [
    "block.manual_sync_df"
   ],
   "metadata": {
    "collapsed": false,
    "ExecuteTime": {
     "end_time": "2024-12-18T13:23:48.869666800Z",
     "start_time": "2024-12-18T13:23:48.781390800Z"
    }
   },
   "id": "ba9b814f2b62f286",
   "execution_count": 39
  },
  {
   "cell_type": "code",
   "outputs": [
    {
     "data": {
      "text/plain": "       OE_timestamp  eye_frame     ms_axis    center_x    center_y        phi  \\\n0          676740.0        5.0    33837.00  319.518120  177.992945 -15.443761   \n1          677073.0        6.0    33853.65  319.537921  177.984564 -15.536813   \n2          677397.0        7.0    33869.85  319.510882  178.011487 -15.462979   \n3          677730.0        8.0    33886.50  319.491438  178.003452 -14.895568   \n4          678053.0        9.0    33902.65  319.491147  178.091727 -14.170065   \n...             ...        ...         ...         ...         ...        ...   \n97994    32834371.0    96856.0  1641718.55  340.761068  109.354315 -24.174997   \n97995    32834704.0    96857.0  1641735.20  340.931360  109.326126 -24.160139   \n97996    32835027.0    96858.0  1641751.35  340.753870  109.435444 -24.996913   \n97997    32835360.0    96859.0  1641768.00  341.181379  109.345112 -23.876929   \n97998    32835683.0    96860.0  1641784.15  341.092590  109.340605 -23.859499   \n\n           width     height   major_ax   minor_ax     ratio  \n0      46.028471  40.458124  46.028471  40.458124  1.137682  \n1      46.187965  40.480872  46.187965  40.480872  1.140982  \n2      46.079456  40.440812  46.079456  40.440812  1.139430  \n3      45.985501  40.541131  45.985501  40.541131  1.134293  \n4      45.875067  40.475895  45.875067  40.475895  1.133392  \n...          ...        ...        ...        ...       ...  \n97994  41.280409  28.235806  41.280409  28.235806  1.461988  \n97995  41.655405  28.352723  41.655405  28.352723  1.469185  \n97996  42.075840  28.446548  42.075840  28.446548  1.479119  \n97997  41.828722  28.359923  41.828722  28.359923  1.474924  \n97998  41.863880  28.545485  41.863880  28.545485  1.466567  \n\n[97999 rows x 11 columns]",
      "text/html": "<div>\n<style scoped>\n    .dataframe tbody tr th:only-of-type {\n        vertical-align: middle;\n    }\n\n    .dataframe tbody tr th {\n        vertical-align: top;\n    }\n\n    .dataframe thead th {\n        text-align: right;\n    }\n</style>\n<table border=\"1\" class=\"dataframe\">\n  <thead>\n    <tr style=\"text-align: right;\">\n      <th></th>\n      <th>OE_timestamp</th>\n      <th>eye_frame</th>\n      <th>ms_axis</th>\n      <th>center_x</th>\n      <th>center_y</th>\n      <th>phi</th>\n      <th>width</th>\n      <th>height</th>\n      <th>major_ax</th>\n      <th>minor_ax</th>\n      <th>ratio</th>\n    </tr>\n  </thead>\n  <tbody>\n    <tr>\n      <th>0</th>\n      <td>676740.0</td>\n      <td>5.0</td>\n      <td>33837.00</td>\n      <td>319.518120</td>\n      <td>177.992945</td>\n      <td>-15.443761</td>\n      <td>46.028471</td>\n      <td>40.458124</td>\n      <td>46.028471</td>\n      <td>40.458124</td>\n      <td>1.137682</td>\n    </tr>\n    <tr>\n      <th>1</th>\n      <td>677073.0</td>\n      <td>6.0</td>\n      <td>33853.65</td>\n      <td>319.537921</td>\n      <td>177.984564</td>\n      <td>-15.536813</td>\n      <td>46.187965</td>\n      <td>40.480872</td>\n      <td>46.187965</td>\n      <td>40.480872</td>\n      <td>1.140982</td>\n    </tr>\n    <tr>\n      <th>2</th>\n      <td>677397.0</td>\n      <td>7.0</td>\n      <td>33869.85</td>\n      <td>319.510882</td>\n      <td>178.011487</td>\n      <td>-15.462979</td>\n      <td>46.079456</td>\n      <td>40.440812</td>\n      <td>46.079456</td>\n      <td>40.440812</td>\n      <td>1.139430</td>\n    </tr>\n    <tr>\n      <th>3</th>\n      <td>677730.0</td>\n      <td>8.0</td>\n      <td>33886.50</td>\n      <td>319.491438</td>\n      <td>178.003452</td>\n      <td>-14.895568</td>\n      <td>45.985501</td>\n      <td>40.541131</td>\n      <td>45.985501</td>\n      <td>40.541131</td>\n      <td>1.134293</td>\n    </tr>\n    <tr>\n      <th>4</th>\n      <td>678053.0</td>\n      <td>9.0</td>\n      <td>33902.65</td>\n      <td>319.491147</td>\n      <td>178.091727</td>\n      <td>-14.170065</td>\n      <td>45.875067</td>\n      <td>40.475895</td>\n      <td>45.875067</td>\n      <td>40.475895</td>\n      <td>1.133392</td>\n    </tr>\n    <tr>\n      <th>...</th>\n      <td>...</td>\n      <td>...</td>\n      <td>...</td>\n      <td>...</td>\n      <td>...</td>\n      <td>...</td>\n      <td>...</td>\n      <td>...</td>\n      <td>...</td>\n      <td>...</td>\n      <td>...</td>\n    </tr>\n    <tr>\n      <th>97994</th>\n      <td>32834371.0</td>\n      <td>96856.0</td>\n      <td>1641718.55</td>\n      <td>340.761068</td>\n      <td>109.354315</td>\n      <td>-24.174997</td>\n      <td>41.280409</td>\n      <td>28.235806</td>\n      <td>41.280409</td>\n      <td>28.235806</td>\n      <td>1.461988</td>\n    </tr>\n    <tr>\n      <th>97995</th>\n      <td>32834704.0</td>\n      <td>96857.0</td>\n      <td>1641735.20</td>\n      <td>340.931360</td>\n      <td>109.326126</td>\n      <td>-24.160139</td>\n      <td>41.655405</td>\n      <td>28.352723</td>\n      <td>41.655405</td>\n      <td>28.352723</td>\n      <td>1.469185</td>\n    </tr>\n    <tr>\n      <th>97996</th>\n      <td>32835027.0</td>\n      <td>96858.0</td>\n      <td>1641751.35</td>\n      <td>340.753870</td>\n      <td>109.435444</td>\n      <td>-24.996913</td>\n      <td>42.075840</td>\n      <td>28.446548</td>\n      <td>42.075840</td>\n      <td>28.446548</td>\n      <td>1.479119</td>\n    </tr>\n    <tr>\n      <th>97997</th>\n      <td>32835360.0</td>\n      <td>96859.0</td>\n      <td>1641768.00</td>\n      <td>341.181379</td>\n      <td>109.345112</td>\n      <td>-23.876929</td>\n      <td>41.828722</td>\n      <td>28.359923</td>\n      <td>41.828722</td>\n      <td>28.359923</td>\n      <td>1.474924</td>\n    </tr>\n    <tr>\n      <th>97998</th>\n      <td>32835683.0</td>\n      <td>96860.0</td>\n      <td>1641784.15</td>\n      <td>341.092590</td>\n      <td>109.340605</td>\n      <td>-23.859499</td>\n      <td>41.863880</td>\n      <td>28.545485</td>\n      <td>41.863880</td>\n      <td>28.545485</td>\n      <td>1.466567</td>\n    </tr>\n  </tbody>\n</table>\n<p>97999 rows × 11 columns</p>\n</div>"
     },
     "execution_count": 167,
     "metadata": {},
     "output_type": "execute_result"
    }
   ],
   "source": [
    "block.left_eye_data"
   ],
   "metadata": {
    "collapsed": false,
    "ExecuteTime": {
     "end_time": "2024-12-23T17:11:02.404288100Z",
     "start_time": "2024-12-23T17:11:02.363456700Z"
    }
   },
   "id": "3848e862ac3b44b6",
   "execution_count": 167
  },
  {
   "cell_type": "code",
   "outputs": [],
   "source": [
    "# This bit of code goes over blocks and collects the median distance between the rostral and caudal edges\n",
    "import os\n",
    "from ellipse import LsqEllipse\n",
    "import scipy.stats as stats\n",
    "\n",
    "def eye_tracking_analysis(dlc_video_analysis_csv, uncertainty_thr):\n",
    "    \"\"\"\n",
    "    :param dlc_video_analysis_csv: the csv output of a dlc analysis of one video, already read by pandas with header=1\n",
    "    :param uncertainty_thr: The confidence P value to use as a threshold for datapoint validity in the analysis\n",
    "    :returns ellipse_df: a DataFrame of ellipses parameters (center, width, height, phi, size) for each video frame\n",
    "\n",
    "    \"\"\"\n",
    "    # import the dataframe and convert it to floats\n",
    "    data = dlc_video_analysis_csv\n",
    "    data = data.iloc[1:].apply(pd.to_numeric)\n",
    "\n",
    "    # sort the pupil elements to dfs: x and y, with p as probability\n",
    "    pupil_elements = np.array([x for x in data.columns if 'Pupil' in x])\n",
    "\n",
    "    # get X coords\n",
    "    pupil_xs_before_flip = data[pupil_elements[np.arange(0, len(pupil_elements), 3)]]\n",
    "\n",
    "    # flip the data around the midpoint of the x-axis (shooting the eye through a camera flips right and left)\n",
    "    pupil_xs = 320 * 2 - pupil_xs_before_flip\n",
    "\n",
    "    # get Y coords (no need to flip as opencv conventions already start with origin at top left of frame\n",
    "    # and so, positive Y is maintained as up in a flipped image as we have)\n",
    "    pupil_ys = data[pupil_elements[np.arange(1, len(pupil_elements), 3)]]\n",
    "    pupil_ps = data[pupil_elements[np.arange(2, len(pupil_elements), 3)]]\n",
    "\n",
    "    # rename dataframes for masking with p values of bad points:\n",
    "    pupil_ps = pupil_ps.rename(columns=dict(zip(pupil_ps.columns, pupil_xs.columns)))\n",
    "    pupil_ys = pupil_ys.rename(columns=dict(zip(pupil_ys.columns, pupil_xs.columns)))\n",
    "    good_points = pupil_ps > uncertainty_thr\n",
    "    pupil_xs = pupil_xs[good_points]\n",
    "    pupil_ys = pupil_ys[good_points]\n",
    "\n",
    "    # Do the same for the edges\n",
    "    edge_elements = np.array([x for x in data.columns if 'edge' in x])\n",
    "    edge_xs_before_flip = data[edge_elements[np.arange(0, len(edge_elements), 3)]]\n",
    "    edge_xs = 320*2 - edge_xs_before_flip\n",
    "    edge_ys = data[edge_elements[np.arange(1, len(edge_elements), 3)]]\n",
    "    edge_ps = data[edge_elements[np.arange(2,len(edge_elements),3)]]\n",
    "    edge_ps = edge_ps.rename(columns=dict(zip(edge_ps.columns,edge_xs.columns)))\n",
    "    edge_ys = edge_ys.rename(columns=dict(zip(edge_ys.columns,edge_xs.columns)))\n",
    "    good_edge_points = edge_ps < uncertainty_thr\n",
    "    \n",
    "    # work row by row to figure out the ellipses\n",
    "    ellipses = []\n",
    "    caudal_edge_ls = []\n",
    "    rostral_edge_ls = []\n",
    "    for row in tqdm.tqdm(range(1, len(data) - 1)):\n",
    "        # first, take all the values, and concatenate them into an X array\n",
    "        x_values = pupil_xs.loc[row].values\n",
    "        y_values = pupil_ys.loc[row].values\n",
    "        X = np.c_[x_values, y_values]\n",
    "\n",
    "        # now, remove nan values, and check if there are enough points to make the ellipse\n",
    "        X = X[~ np.isnan(X).any(axis=1)]\n",
    "\n",
    "        # if there are enough rows for a fit, make an ellipse\n",
    "        if X.shape[0] > 5:\n",
    "            el = LsqEllipse().fit(X)\n",
    "            center, width, height, phi = el.as_parameters()\n",
    "            center_x = center[0]\n",
    "            center_y = center[1]\n",
    "            ellipses.append([center_x, center_y, width, height, phi])\n",
    "        else:\n",
    "            ellipses.append([np.nan, np.nan, np.nan, np.nan, np.nan])\n",
    "\n",
    "        caudal_edge = [\n",
    "            float(data['Caudal_edge'][row]),\n",
    "            float(data['Caudal_edge.1'][row])\n",
    "        ]\n",
    "        rostral_edge = [\n",
    "            float(data['Rostral_edge'][row]),\n",
    "            float(data['Rostral_edge.1'][row])\n",
    "        ]\n",
    "        caudal_edge_ls.append(caudal_edge)\n",
    "        rostral_edge_ls.append(rostral_edge)\n",
    "\n",
    "\n",
    "    # ellipse_df = pd.DataFrame(columns=['center_x', 'center_y', 'width', 'height', 'phi'], data=ellipses)\n",
    "    # a = np.array(ellipse_df['height'][:])\n",
    "    # b = np.array(ellipse_df['width'][:])\n",
    "    # ellipse_size_per_frame = a * b * math.pi\n",
    "    # ellipse_df['ellipse_size'] = ellipse_size_per_frame\n",
    "    ellipse_df = pd.Dataframe({\n",
    "        'rostral_edge':rostral_edge_ls,\n",
    "        'caudal_edge': caudal_edge_ls\n",
    "    })\n",
    "    \n",
    "\n",
    "    print(f'\\n ellipses calculation complete')\n",
    "    \n",
    "    ellipse_df[['caudal_edge_x', 'caudal_edge_y']] = pd.DataFrame(ellipse_df['caudal_edge'].tolist(), index=ellipse_df.index)\n",
    "    ellipse_df[['rostral_edge_x', 'rostral_edge_y']] = pd.DataFrame(ellipse_df['rostral_edge'].tolist(), index=ellipse_df.index)\n",
    "    \n",
    "    return ellipse_df\n",
    "\n",
    "def get_pixel_distance(df):\n",
    "    distances = np.sqrt((df['caudal_edge_x'] - df['rostral_edge_x'])**2 + \n",
    "                        (df['caudal_edge_y'] - df['rostral_edge_y'])**2)\n",
    "    \n",
    "    mean_distance = np.nanmean(distances)\n",
    "    std_distance = np.nanstd(distances)\n",
    "    # Shapiro-Wilk Test\n",
    "    shapiro_test = stats.shapiro(distances)\n",
    "    print(f\"Shapiro-Wilk Test: Statistic={shapiro_test.statistic}, p-value={shapiro_test.pvalue}\")\n",
    "    \n",
    "    # Kolmogorov-Smirnov Test\n",
    "    ks_test = stats.kstest(distances, 'norm', args=(mean_distance, std_distance))\n",
    "    print(f\"Kolmogorov-Smirnov Test: Statistic={ks_test.statistic}, p-value={ks_test.pvalue}\")\n",
    "    \n",
    "    median_distance = np.median(distances)\n",
    "    iqr_distance = stats.iqr(distances)\n",
    "    print(f\"Median Distance: {median_distance}\")\n",
    "    print(f\"IQR: {iqr_distance}\")\n",
    "    print(f'mean = {mean_distance}')\n",
    "    print(f'std = {std_distance}')\n",
    "    return median_distance\n",
    "\n",
    "R_pix_distance_dict = {}\n",
    "L_pix_distance_dict = {}\n",
    "\n",
    "for block in block_collection:\n",
    "    print(f'working on {block}')\n",
    "    pl = [i for i in os.listdir(block.r_e_path) if 'DLC' in i and '.csv' in i]\n",
    "    if len(pl) > 1:\n",
    "        pl = [i for i in pl if 'filtered' in i][0]\n",
    "    else:\n",
    "        pl = pl[0]\n",
    "    R_csv  = pd.read_csv(block.r_e_path / pl, header=1)\n",
    "    \n",
    "    pl = [i for i in os.listdir(block.l_e_path) if 'DLC' in i and '.csv' in i]\n",
    "    if len(pl) > 1:\n",
    "        pl = [i for i in pl if 'filtered' in i][0]\n",
    "    else:\n",
    "        pl = pl[0]\n",
    "    L_csv  = pd.read_csv(block.l_e_path / pl, header=1)\n",
    "    R_ellipse_df = eye_tracking_analysis(R_csv,0.998)\n",
    "    print('working on the right eye')\n",
    "    R_pixel_distance = get_pixel_distance(R_ellipse_df)    \n",
    "    L_ellipse_df = eye_tracking_analysis(L_csv,0.998)\n",
    "    print('working on the left eye')\n",
    "    L_pixel_distance = get_pixel_distance(L_ellipse_df)\n",
    "    R_pix_distance_dict[block.block_num] = R_pixel_distance\n",
    "    L_pix_distance_dict[block.block_num] = L_pixel_distance\n",
    "    "
   ],
   "metadata": {
    "collapsed": false
   },
   "id": "c1c3954ac1f85237"
  },
  {
   "cell_type": "code",
   "outputs": [],
   "source": [
    "def load_eye_data_2d_w_rotation_matrix(block):\n",
    "    \"\"\"\n",
    "    This function checks if the eye dataframes and rotation dict object exist, then imports them\n",
    "    :param block: The current blocksync class with verifiec re/le dfs\n",
    "    :return: None\n",
    "    \"\"\"\n",
    "    try:\n",
    "        block.left_eye_data = pd.read_csv(block.analysis_path / 'left_eye_data.csv', index_col=0, engine='python')\n",
    "        block.right_eye_data = pd.read_csv(block.analysis_path / 'right_eye_data.csv', index_col=0, engine='python')\n",
    "    except FileNotFoundError:\n",
    "        print('eye_data files not found, run the pipeline!')\n",
    "        return\n",
    "\n",
    "    try:\n",
    "        with open(block.analysis_path / 'rotate_eye_data_params.pkl', 'rb') as file:\n",
    "            rotation_dict = pickle.load(file)\n",
    "            block.left_rotation_matrix = rotation_dict['left_rotation_matrix']\n",
    "            block.right_rotation_matrix = rotation_dict['right_rotation_matrix']\n",
    "            block.left_rotation_angle = rotation_dict['left_rotation_angle']\n",
    "            block.right_rotation_angle = rotation_dict['right_rotation_angle']\n",
    "    except FileNotFoundError:\n",
    "        print('No rotation matrix file, create it')\n",
    "\n"
   ],
   "metadata": {
    "collapsed": false,
    "ExecuteTime": {
     "end_time": "2024-12-31T13:36:20.756961Z",
     "start_time": "2024-12-31T13:36:20.706232900Z"
    }
   },
   "id": "2818f547b0b15ab1",
   "execution_count": 362
  },
  {
   "cell_type": "code",
   "outputs": [
    {
     "name": "stdout",
     "output_type": "stream",
     "text": [
      "running parse_open_ephys_events...\n",
      "block 026 has a parsed events file, reading...\n",
      "Getting eye brightness values for block 026...\n",
      "Found an existing file!\n",
      "Eye brightness vectors generation complete.\n",
      "blocksync_df loaded from analysis folder\n",
      "eye_brightness_df loaded from analysis folder\n",
      "eye dataframes loaded from analysis folder\n",
      "got the calibration values from the analysis folder\n"
     ]
    }
   ],
   "source": [
    "for block in block_collection:\n",
    "    block.parse_open_ephys_events()\n",
    "    block.get_eye_brightness_vectors()\n",
    "    block.synchronize_block()\n",
    "    block.create_eye_brightness_df(threshold_value=20)\n",
    "\n",
    "    # if the code fails here, go to manual synchronization\n",
    "    block.import_manual_sync_df()\n",
    "    block.read_dlc_data()\n",
    "    block.calibrate_pixel_size(10)\n",
    "    load_eye_data_2d_w_rotation_matrix(block) #should be integrated again... later\n",
    "    \n",
    "    # calibrate pupil diameter:\n",
    "\n",
    "    block.left_eye_data['pupil_diameter_pixels'] = block.left_eye_data.major_ax\n",
    "    block.right_eye_data['pupil_diameter_pixels'] = block.right_eye_data.major_ax\n",
    "    block.left_eye_data['pupil_diameter'] = block.left_eye_data['pupil_diameter_pixels'] * block.L_pix_size\n",
    "    block.right_eye_data['pupil_diameter'] = block.right_eye_data['pupil_diameter_pixels'] * block.R_pix_size"
   ],
   "metadata": {
    "collapsed": false,
    "ExecuteTime": {
     "end_time": "2024-12-31T13:36:29.018710400Z",
     "start_time": "2024-12-31T13:36:22.126271700Z"
    }
   },
   "id": "fa540b5110ac4829",
   "execution_count": 363
  },
  {
   "cell_type": "code",
   "outputs": [
    {
     "data": {
      "text/plain": "Index(['Unnamed: 0.1', 'Arena_TTL', 'Arena_frame', 'L_eye_frame',\n       'R_eye_frame', 'L_values', 'R_values'],\n      dtype='object')"
     },
     "execution_count": 374,
     "metadata": {},
     "output_type": "execute_result"
    }
   ],
   "source": [
    "block.final_sync_df.columns"
   ],
   "metadata": {
    "collapsed": false,
    "ExecuteTime": {
     "end_time": "2024-12-31T13:48:14.901938400Z",
     "start_time": "2024-12-31T13:48:14.837076600Z"
    }
   },
   "id": "3ae919e01a35d4d9",
   "execution_count": 374
  },
  {
   "cell_type": "code",
   "outputs": [
    {
     "data": {
      "text/plain": "       OE_timestamp  eye_frame     ms_axis    center_x    center_y  \\\n0          565951.0        1.0    28297.55  444.632190  206.829264   \n1          566291.0        2.0    28314.55  444.501312  206.839827   \n2          566631.0        3.0    28331.55  444.489259  206.843911   \n3          566970.0        4.0    28348.50  444.515784  206.859801   \n4          567310.0        5.0    28365.50  444.444498  206.920830   \n...             ...        ...         ...         ...         ...   \n99203    34261949.0   101272.0  1713097.45  412.843225  200.260902   \n99204    34262289.0   101273.0  1713114.45  412.871902  200.210474   \n99205    34262628.0   101274.0  1713131.40  412.912947  200.210626   \n99206    34262968.0   101275.0  1713148.40  413.046975  200.175398   \n99207    34263307.0   101276.0  1713165.35  413.075933  200.188772   \n\n       ellipse_phi      width     height   major_ax   minor_ax     ratio  \\\n0        83.016304  45.335549  32.726528  45.335549  32.726528  1.385284   \n1        83.435273  45.316501  32.731487  45.316501  32.731487  1.384493   \n2        83.266029  45.292542  32.789987  45.292542  32.789987  1.381292   \n3        83.509805  45.268229  32.769033  45.268229  32.769033  1.381433   \n4        83.589111  45.316728  32.700692  45.316728  32.700692  1.385803   \n...            ...        ...        ...        ...        ...       ...   \n99203    66.957846  46.307113  37.235502  46.307113  37.235502  1.243628   \n99204    66.951497  46.246748  37.140492  46.246748  37.140492  1.245184   \n99205    66.240158  46.229480  37.094161  46.229480  37.094161  1.246274   \n99206    66.738613  46.132734  36.995682  46.132734  36.995682  1.246976   \n99207    66.737361  46.157752  36.959724  46.157752  36.959724  1.248866   \n\n       xgb_theta  xgb_phi        phi      theta  pupil_diameter_pixels  \\\n0            NaN      NaN  41.484692 -28.411240             284.851657   \n1            NaN      NaN  41.484692 -28.411240             284.731971   \n2            NaN      NaN  41.484692 -28.411240             284.581437   \n3            NaN      NaN  41.484692 -28.411240             284.428670   \n4            NaN      NaN  41.484692 -28.411240             284.733399   \n...          ...      ...        ...        ...                    ...   \n99203        NaN      NaN  39.517727 -33.517628             290.956173   \n99204        NaN      NaN  39.517727 -33.517628             290.576885   \n99205        NaN      NaN  39.518051 -33.517628             290.468388   \n99206        NaN      NaN  39.518051 -33.517628             289.860518   \n99207        NaN      NaN  40.215939 -33.517628             290.017709   \n\n       pupil_diameter  \n0           12.818325  \n1           12.812939  \n2           12.806165  \n3           12.799290  \n4           12.813003  \n...               ...  \n99203       13.093028  \n99204       13.075960  \n99205       13.071077  \n99206       13.043723  \n99207       13.050797  \n\n[99208 rows x 17 columns]",
      "text/html": "<div>\n<style scoped>\n    .dataframe tbody tr th:only-of-type {\n        vertical-align: middle;\n    }\n\n    .dataframe tbody tr th {\n        vertical-align: top;\n    }\n\n    .dataframe thead th {\n        text-align: right;\n    }\n</style>\n<table border=\"1\" class=\"dataframe\">\n  <thead>\n    <tr style=\"text-align: right;\">\n      <th></th>\n      <th>OE_timestamp</th>\n      <th>eye_frame</th>\n      <th>ms_axis</th>\n      <th>center_x</th>\n      <th>center_y</th>\n      <th>ellipse_phi</th>\n      <th>width</th>\n      <th>height</th>\n      <th>major_ax</th>\n      <th>minor_ax</th>\n      <th>ratio</th>\n      <th>xgb_theta</th>\n      <th>xgb_phi</th>\n      <th>phi</th>\n      <th>theta</th>\n      <th>pupil_diameter_pixels</th>\n      <th>pupil_diameter</th>\n    </tr>\n  </thead>\n  <tbody>\n    <tr>\n      <th>0</th>\n      <td>565951.0</td>\n      <td>1.0</td>\n      <td>28297.55</td>\n      <td>444.632190</td>\n      <td>206.829264</td>\n      <td>83.016304</td>\n      <td>45.335549</td>\n      <td>32.726528</td>\n      <td>45.335549</td>\n      <td>32.726528</td>\n      <td>1.385284</td>\n      <td>NaN</td>\n      <td>NaN</td>\n      <td>41.484692</td>\n      <td>-28.411240</td>\n      <td>284.851657</td>\n      <td>12.818325</td>\n    </tr>\n    <tr>\n      <th>1</th>\n      <td>566291.0</td>\n      <td>2.0</td>\n      <td>28314.55</td>\n      <td>444.501312</td>\n      <td>206.839827</td>\n      <td>83.435273</td>\n      <td>45.316501</td>\n      <td>32.731487</td>\n      <td>45.316501</td>\n      <td>32.731487</td>\n      <td>1.384493</td>\n      <td>NaN</td>\n      <td>NaN</td>\n      <td>41.484692</td>\n      <td>-28.411240</td>\n      <td>284.731971</td>\n      <td>12.812939</td>\n    </tr>\n    <tr>\n      <th>2</th>\n      <td>566631.0</td>\n      <td>3.0</td>\n      <td>28331.55</td>\n      <td>444.489259</td>\n      <td>206.843911</td>\n      <td>83.266029</td>\n      <td>45.292542</td>\n      <td>32.789987</td>\n      <td>45.292542</td>\n      <td>32.789987</td>\n      <td>1.381292</td>\n      <td>NaN</td>\n      <td>NaN</td>\n      <td>41.484692</td>\n      <td>-28.411240</td>\n      <td>284.581437</td>\n      <td>12.806165</td>\n    </tr>\n    <tr>\n      <th>3</th>\n      <td>566970.0</td>\n      <td>4.0</td>\n      <td>28348.50</td>\n      <td>444.515784</td>\n      <td>206.859801</td>\n      <td>83.509805</td>\n      <td>45.268229</td>\n      <td>32.769033</td>\n      <td>45.268229</td>\n      <td>32.769033</td>\n      <td>1.381433</td>\n      <td>NaN</td>\n      <td>NaN</td>\n      <td>41.484692</td>\n      <td>-28.411240</td>\n      <td>284.428670</td>\n      <td>12.799290</td>\n    </tr>\n    <tr>\n      <th>4</th>\n      <td>567310.0</td>\n      <td>5.0</td>\n      <td>28365.50</td>\n      <td>444.444498</td>\n      <td>206.920830</td>\n      <td>83.589111</td>\n      <td>45.316728</td>\n      <td>32.700692</td>\n      <td>45.316728</td>\n      <td>32.700692</td>\n      <td>1.385803</td>\n      <td>NaN</td>\n      <td>NaN</td>\n      <td>41.484692</td>\n      <td>-28.411240</td>\n      <td>284.733399</td>\n      <td>12.813003</td>\n    </tr>\n    <tr>\n      <th>...</th>\n      <td>...</td>\n      <td>...</td>\n      <td>...</td>\n      <td>...</td>\n      <td>...</td>\n      <td>...</td>\n      <td>...</td>\n      <td>...</td>\n      <td>...</td>\n      <td>...</td>\n      <td>...</td>\n      <td>...</td>\n      <td>...</td>\n      <td>...</td>\n      <td>...</td>\n      <td>...</td>\n      <td>...</td>\n    </tr>\n    <tr>\n      <th>99203</th>\n      <td>34261949.0</td>\n      <td>101272.0</td>\n      <td>1713097.45</td>\n      <td>412.843225</td>\n      <td>200.260902</td>\n      <td>66.957846</td>\n      <td>46.307113</td>\n      <td>37.235502</td>\n      <td>46.307113</td>\n      <td>37.235502</td>\n      <td>1.243628</td>\n      <td>NaN</td>\n      <td>NaN</td>\n      <td>39.517727</td>\n      <td>-33.517628</td>\n      <td>290.956173</td>\n      <td>13.093028</td>\n    </tr>\n    <tr>\n      <th>99204</th>\n      <td>34262289.0</td>\n      <td>101273.0</td>\n      <td>1713114.45</td>\n      <td>412.871902</td>\n      <td>200.210474</td>\n      <td>66.951497</td>\n      <td>46.246748</td>\n      <td>37.140492</td>\n      <td>46.246748</td>\n      <td>37.140492</td>\n      <td>1.245184</td>\n      <td>NaN</td>\n      <td>NaN</td>\n      <td>39.517727</td>\n      <td>-33.517628</td>\n      <td>290.576885</td>\n      <td>13.075960</td>\n    </tr>\n    <tr>\n      <th>99205</th>\n      <td>34262628.0</td>\n      <td>101274.0</td>\n      <td>1713131.40</td>\n      <td>412.912947</td>\n      <td>200.210626</td>\n      <td>66.240158</td>\n      <td>46.229480</td>\n      <td>37.094161</td>\n      <td>46.229480</td>\n      <td>37.094161</td>\n      <td>1.246274</td>\n      <td>NaN</td>\n      <td>NaN</td>\n      <td>39.518051</td>\n      <td>-33.517628</td>\n      <td>290.468388</td>\n      <td>13.071077</td>\n    </tr>\n    <tr>\n      <th>99206</th>\n      <td>34262968.0</td>\n      <td>101275.0</td>\n      <td>1713148.40</td>\n      <td>413.046975</td>\n      <td>200.175398</td>\n      <td>66.738613</td>\n      <td>46.132734</td>\n      <td>36.995682</td>\n      <td>46.132734</td>\n      <td>36.995682</td>\n      <td>1.246976</td>\n      <td>NaN</td>\n      <td>NaN</td>\n      <td>39.518051</td>\n      <td>-33.517628</td>\n      <td>289.860518</td>\n      <td>13.043723</td>\n    </tr>\n    <tr>\n      <th>99207</th>\n      <td>34263307.0</td>\n      <td>101276.0</td>\n      <td>1713165.35</td>\n      <td>413.075933</td>\n      <td>200.188772</td>\n      <td>66.737361</td>\n      <td>46.157752</td>\n      <td>36.959724</td>\n      <td>46.157752</td>\n      <td>36.959724</td>\n      <td>1.248866</td>\n      <td>NaN</td>\n      <td>NaN</td>\n      <td>40.215939</td>\n      <td>-33.517628</td>\n      <td>290.017709</td>\n      <td>13.050797</td>\n    </tr>\n  </tbody>\n</table>\n<p>99208 rows × 17 columns</p>\n</div>"
     },
     "execution_count": 366,
     "metadata": {},
     "output_type": "execute_result"
    }
   ],
   "source": [
    "block.left_eye_data"
   ],
   "metadata": {
    "collapsed": false,
    "ExecuteTime": {
     "end_time": "2024-12-31T13:36:53.366646100Z",
     "start_time": "2024-12-31T13:36:53.303980300Z"
    }
   },
   "id": "ecd3a3eebe396cdb",
   "execution_count": 366
  },
  {
   "cell_type": "code",
   "outputs": [
    {
     "data": {
      "text/plain": "       OE_timestamp  eye_frame     ms_axis    center_x    center_y  \\\n0          565951.0        1.0    28297.55  444.632190  206.829264   \n1          566291.0        2.0    28314.55  444.501312  206.839827   \n2          566631.0        3.0    28331.55  444.489259  206.843911   \n3          566970.0        4.0    28348.50  444.515784  206.859801   \n4          567310.0        5.0    28365.50  444.444498  206.920830   \n...             ...        ...         ...         ...         ...   \n99203    34261949.0   101272.0  1713097.45  412.843225  200.260902   \n99204    34262289.0   101273.0  1713114.45  412.871902  200.210474   \n99205    34262628.0   101274.0  1713131.40  412.912947  200.210626   \n99206    34262968.0   101275.0  1713148.40  413.046975  200.175398   \n99207    34263307.0   101276.0  1713165.35  413.075933  200.188772   \n\n       ellipse_phi      width     height   major_ax   minor_ax     ratio  \\\n0        83.016304  45.335549  32.726528  45.335549  32.726528  1.385284   \n1        83.435273  45.316501  32.731487  45.316501  32.731487  1.384493   \n2        83.266029  45.292542  32.789987  45.292542  32.789987  1.381292   \n3        83.509805  45.268229  32.769033  45.268229  32.769033  1.381433   \n4        83.589111  45.316728  32.700692  45.316728  32.700692  1.385803   \n...            ...        ...        ...        ...        ...       ...   \n99203    66.957846  46.307113  37.235502  46.307113  37.235502  1.243628   \n99204    66.951497  46.246748  37.140492  46.246748  37.140492  1.245184   \n99205    66.240158  46.229480  37.094161  46.229480  37.094161  1.246274   \n99206    66.738613  46.132734  36.995682  46.132734  36.995682  1.246976   \n99207    66.737361  46.157752  36.959724  46.157752  36.959724  1.248866   \n\n       xgb_theta  xgb_phi        phi      theta  pupil_diameter_pixels  \\\n0            NaN      NaN  41.484692 -28.411240             284.851657   \n1            NaN      NaN  41.484692 -28.411240             284.731971   \n2            NaN      NaN  41.484692 -28.411240             284.581437   \n3            NaN      NaN  41.484692 -28.411240             284.428670   \n4            NaN      NaN  41.484692 -28.411240             284.733399   \n...          ...      ...        ...        ...                    ...   \n99203        NaN      NaN  39.517727 -33.517628             290.956173   \n99204        NaN      NaN  39.517727 -33.517628             290.576885   \n99205        NaN      NaN  39.518051 -33.517628             290.468388   \n99206        NaN      NaN  39.518051 -33.517628             289.860518   \n99207        NaN      NaN  40.215939 -33.517628             290.017709   \n\n       pupil_diameter  \n0           12.818325  \n1           12.812939  \n2           12.806165  \n3           12.799290  \n4           12.813003  \n...               ...  \n99203       13.093028  \n99204       13.075960  \n99205       13.071077  \n99206       13.043723  \n99207       13.050797  \n\n[99208 rows x 17 columns]",
      "text/html": "<div>\n<style scoped>\n    .dataframe tbody tr th:only-of-type {\n        vertical-align: middle;\n    }\n\n    .dataframe tbody tr th {\n        vertical-align: top;\n    }\n\n    .dataframe thead th {\n        text-align: right;\n    }\n</style>\n<table border=\"1\" class=\"dataframe\">\n  <thead>\n    <tr style=\"text-align: right;\">\n      <th></th>\n      <th>OE_timestamp</th>\n      <th>eye_frame</th>\n      <th>ms_axis</th>\n      <th>center_x</th>\n      <th>center_y</th>\n      <th>ellipse_phi</th>\n      <th>width</th>\n      <th>height</th>\n      <th>major_ax</th>\n      <th>minor_ax</th>\n      <th>ratio</th>\n      <th>xgb_theta</th>\n      <th>xgb_phi</th>\n      <th>phi</th>\n      <th>theta</th>\n      <th>pupil_diameter_pixels</th>\n      <th>pupil_diameter</th>\n    </tr>\n  </thead>\n  <tbody>\n    <tr>\n      <th>0</th>\n      <td>565951.0</td>\n      <td>1.0</td>\n      <td>28297.55</td>\n      <td>444.632190</td>\n      <td>206.829264</td>\n      <td>83.016304</td>\n      <td>45.335549</td>\n      <td>32.726528</td>\n      <td>45.335549</td>\n      <td>32.726528</td>\n      <td>1.385284</td>\n      <td>NaN</td>\n      <td>NaN</td>\n      <td>41.484692</td>\n      <td>-28.411240</td>\n      <td>284.851657</td>\n      <td>12.818325</td>\n    </tr>\n    <tr>\n      <th>1</th>\n      <td>566291.0</td>\n      <td>2.0</td>\n      <td>28314.55</td>\n      <td>444.501312</td>\n      <td>206.839827</td>\n      <td>83.435273</td>\n      <td>45.316501</td>\n      <td>32.731487</td>\n      <td>45.316501</td>\n      <td>32.731487</td>\n      <td>1.384493</td>\n      <td>NaN</td>\n      <td>NaN</td>\n      <td>41.484692</td>\n      <td>-28.411240</td>\n      <td>284.731971</td>\n      <td>12.812939</td>\n    </tr>\n    <tr>\n      <th>2</th>\n      <td>566631.0</td>\n      <td>3.0</td>\n      <td>28331.55</td>\n      <td>444.489259</td>\n      <td>206.843911</td>\n      <td>83.266029</td>\n      <td>45.292542</td>\n      <td>32.789987</td>\n      <td>45.292542</td>\n      <td>32.789987</td>\n      <td>1.381292</td>\n      <td>NaN</td>\n      <td>NaN</td>\n      <td>41.484692</td>\n      <td>-28.411240</td>\n      <td>284.581437</td>\n      <td>12.806165</td>\n    </tr>\n    <tr>\n      <th>3</th>\n      <td>566970.0</td>\n      <td>4.0</td>\n      <td>28348.50</td>\n      <td>444.515784</td>\n      <td>206.859801</td>\n      <td>83.509805</td>\n      <td>45.268229</td>\n      <td>32.769033</td>\n      <td>45.268229</td>\n      <td>32.769033</td>\n      <td>1.381433</td>\n      <td>NaN</td>\n      <td>NaN</td>\n      <td>41.484692</td>\n      <td>-28.411240</td>\n      <td>284.428670</td>\n      <td>12.799290</td>\n    </tr>\n    <tr>\n      <th>4</th>\n      <td>567310.0</td>\n      <td>5.0</td>\n      <td>28365.50</td>\n      <td>444.444498</td>\n      <td>206.920830</td>\n      <td>83.589111</td>\n      <td>45.316728</td>\n      <td>32.700692</td>\n      <td>45.316728</td>\n      <td>32.700692</td>\n      <td>1.385803</td>\n      <td>NaN</td>\n      <td>NaN</td>\n      <td>41.484692</td>\n      <td>-28.411240</td>\n      <td>284.733399</td>\n      <td>12.813003</td>\n    </tr>\n    <tr>\n      <th>...</th>\n      <td>...</td>\n      <td>...</td>\n      <td>...</td>\n      <td>...</td>\n      <td>...</td>\n      <td>...</td>\n      <td>...</td>\n      <td>...</td>\n      <td>...</td>\n      <td>...</td>\n      <td>...</td>\n      <td>...</td>\n      <td>...</td>\n      <td>...</td>\n      <td>...</td>\n      <td>...</td>\n      <td>...</td>\n    </tr>\n    <tr>\n      <th>99203</th>\n      <td>34261949.0</td>\n      <td>101272.0</td>\n      <td>1713097.45</td>\n      <td>412.843225</td>\n      <td>200.260902</td>\n      <td>66.957846</td>\n      <td>46.307113</td>\n      <td>37.235502</td>\n      <td>46.307113</td>\n      <td>37.235502</td>\n      <td>1.243628</td>\n      <td>NaN</td>\n      <td>NaN</td>\n      <td>39.517727</td>\n      <td>-33.517628</td>\n      <td>290.956173</td>\n      <td>13.093028</td>\n    </tr>\n    <tr>\n      <th>99204</th>\n      <td>34262289.0</td>\n      <td>101273.0</td>\n      <td>1713114.45</td>\n      <td>412.871902</td>\n      <td>200.210474</td>\n      <td>66.951497</td>\n      <td>46.246748</td>\n      <td>37.140492</td>\n      <td>46.246748</td>\n      <td>37.140492</td>\n      <td>1.245184</td>\n      <td>NaN</td>\n      <td>NaN</td>\n      <td>39.517727</td>\n      <td>-33.517628</td>\n      <td>290.576885</td>\n      <td>13.075960</td>\n    </tr>\n    <tr>\n      <th>99205</th>\n      <td>34262628.0</td>\n      <td>101274.0</td>\n      <td>1713131.40</td>\n      <td>412.912947</td>\n      <td>200.210626</td>\n      <td>66.240158</td>\n      <td>46.229480</td>\n      <td>37.094161</td>\n      <td>46.229480</td>\n      <td>37.094161</td>\n      <td>1.246274</td>\n      <td>NaN</td>\n      <td>NaN</td>\n      <td>39.518051</td>\n      <td>-33.517628</td>\n      <td>290.468388</td>\n      <td>13.071077</td>\n    </tr>\n    <tr>\n      <th>99206</th>\n      <td>34262968.0</td>\n      <td>101275.0</td>\n      <td>1713148.40</td>\n      <td>413.046975</td>\n      <td>200.175398</td>\n      <td>66.738613</td>\n      <td>46.132734</td>\n      <td>36.995682</td>\n      <td>46.132734</td>\n      <td>36.995682</td>\n      <td>1.246976</td>\n      <td>NaN</td>\n      <td>NaN</td>\n      <td>39.518051</td>\n      <td>-33.517628</td>\n      <td>289.860518</td>\n      <td>13.043723</td>\n    </tr>\n    <tr>\n      <th>99207</th>\n      <td>34263307.0</td>\n      <td>101276.0</td>\n      <td>1713165.35</td>\n      <td>413.075933</td>\n      <td>200.188772</td>\n      <td>66.737361</td>\n      <td>46.157752</td>\n      <td>36.959724</td>\n      <td>46.157752</td>\n      <td>36.959724</td>\n      <td>1.248866</td>\n      <td>NaN</td>\n      <td>NaN</td>\n      <td>40.215939</td>\n      <td>-33.517628</td>\n      <td>290.017709</td>\n      <td>13.050797</td>\n    </tr>\n  </tbody>\n</table>\n<p>99208 rows × 17 columns</p>\n</div>"
     },
     "execution_count": 375,
     "metadata": {},
     "output_type": "execute_result"
    }
   ],
   "source": [
    "block.left_eye_data"
   ],
   "metadata": {
    "collapsed": false,
    "ExecuteTime": {
     "end_time": "2024-12-31T13:50:57.799498300Z",
     "start_time": "2024-12-31T13:50:57.688130800Z"
    }
   },
   "id": "91ab2df9cd0a9ff6",
   "execution_count": 375
  },
  {
   "cell_type": "code",
   "outputs": [
    {
     "data": {
      "text/plain": "        Arena_TTL  Arena_frame\n0        565951.0        913.0\n1        566291.0        914.0\n2        566631.0        915.0\n3        566970.0        916.0\n4        567310.0        917.0\n...           ...          ...\n99203  34261949.0     100116.0\n99204  34262289.0     100117.0\n99205  34262628.0     100118.0\n99206  34262968.0     100119.0\n99207  34263307.0     100120.0\n\n[99208 rows x 2 columns]",
      "text/html": "<div>\n<style scoped>\n    .dataframe tbody tr th:only-of-type {\n        vertical-align: middle;\n    }\n\n    .dataframe tbody tr th {\n        vertical-align: top;\n    }\n\n    .dataframe thead th {\n        text-align: right;\n    }\n</style>\n<table border=\"1\" class=\"dataframe\">\n  <thead>\n    <tr style=\"text-align: right;\">\n      <th></th>\n      <th>Arena_TTL</th>\n      <th>Arena_frame</th>\n    </tr>\n  </thead>\n  <tbody>\n    <tr>\n      <th>0</th>\n      <td>565951.0</td>\n      <td>913.0</td>\n    </tr>\n    <tr>\n      <th>1</th>\n      <td>566291.0</td>\n      <td>914.0</td>\n    </tr>\n    <tr>\n      <th>2</th>\n      <td>566631.0</td>\n      <td>915.0</td>\n    </tr>\n    <tr>\n      <th>3</th>\n      <td>566970.0</td>\n      <td>916.0</td>\n    </tr>\n    <tr>\n      <th>4</th>\n      <td>567310.0</td>\n      <td>917.0</td>\n    </tr>\n    <tr>\n      <th>...</th>\n      <td>...</td>\n      <td>...</td>\n    </tr>\n    <tr>\n      <th>99203</th>\n      <td>34261949.0</td>\n      <td>100116.0</td>\n    </tr>\n    <tr>\n      <th>99204</th>\n      <td>34262289.0</td>\n      <td>100117.0</td>\n    </tr>\n    <tr>\n      <th>99205</th>\n      <td>34262628.0</td>\n      <td>100118.0</td>\n    </tr>\n    <tr>\n      <th>99206</th>\n      <td>34262968.0</td>\n      <td>100119.0</td>\n    </tr>\n    <tr>\n      <th>99207</th>\n      <td>34263307.0</td>\n      <td>100120.0</td>\n    </tr>\n  </tbody>\n</table>\n<p>99208 rows × 2 columns</p>\n</div>"
     },
     "execution_count": 382,
     "metadata": {},
     "output_type": "execute_result"
    }
   ],
   "source": [
    "block.final_sync_df[['Arena_TTL','Arena_frame']]"
   ],
   "metadata": {
    "collapsed": false,
    "ExecuteTime": {
     "end_time": "2024-12-31T14:01:26.538536100Z",
     "start_time": "2024-12-31T14:01:26.449306800Z"
    }
   },
   "id": "33c7eb4b64a5daf9",
   "execution_count": 382
  },
  {
   "cell_type": "code",
   "outputs": [
    {
     "data": {
      "text/plain": "   Unnamed: 0.1  Arena_TTL  Arena_frame  L_eye_frame  R_eye_frame  L_values  \\\n0             0   565951.0        913.0          1.0          NaN -2.646521   \n1             1   566291.0        914.0          2.0          NaN -2.646440   \n2             2   566631.0        915.0          3.0          NaN -2.646465   \n3             3   566970.0        916.0          4.0          NaN -2.641369   \n4             4   567310.0        917.0          5.0          2.0 -2.641731   \n\n   R_values  \n0       NaN  \n1       NaN  \n2       NaN  \n3       NaN  \n4  0.554543  ",
      "text/html": "<div>\n<style scoped>\n    .dataframe tbody tr th:only-of-type {\n        vertical-align: middle;\n    }\n\n    .dataframe tbody tr th {\n        vertical-align: top;\n    }\n\n    .dataframe thead th {\n        text-align: right;\n    }\n</style>\n<table border=\"1\" class=\"dataframe\">\n  <thead>\n    <tr style=\"text-align: right;\">\n      <th></th>\n      <th>Unnamed: 0.1</th>\n      <th>Arena_TTL</th>\n      <th>Arena_frame</th>\n      <th>L_eye_frame</th>\n      <th>R_eye_frame</th>\n      <th>L_values</th>\n      <th>R_values</th>\n    </tr>\n  </thead>\n  <tbody>\n    <tr>\n      <th>0</th>\n      <td>0</td>\n      <td>565951.0</td>\n      <td>913.0</td>\n      <td>1.0</td>\n      <td>NaN</td>\n      <td>-2.646521</td>\n      <td>NaN</td>\n    </tr>\n    <tr>\n      <th>1</th>\n      <td>1</td>\n      <td>566291.0</td>\n      <td>914.0</td>\n      <td>2.0</td>\n      <td>NaN</td>\n      <td>-2.646440</td>\n      <td>NaN</td>\n    </tr>\n    <tr>\n      <th>2</th>\n      <td>2</td>\n      <td>566631.0</td>\n      <td>915.0</td>\n      <td>3.0</td>\n      <td>NaN</td>\n      <td>-2.646465</td>\n      <td>NaN</td>\n    </tr>\n    <tr>\n      <th>3</th>\n      <td>3</td>\n      <td>566970.0</td>\n      <td>916.0</td>\n      <td>4.0</td>\n      <td>NaN</td>\n      <td>-2.641369</td>\n      <td>NaN</td>\n    </tr>\n    <tr>\n      <th>4</th>\n      <td>4</td>\n      <td>567310.0</td>\n      <td>917.0</td>\n      <td>5.0</td>\n      <td>2.0</td>\n      <td>-2.641731</td>\n      <td>0.554543</td>\n    </tr>\n  </tbody>\n</table>\n</div>"
     },
     "execution_count": 380,
     "metadata": {},
     "output_type": "execute_result"
    }
   ],
   "source": [
    "block.final_sync_df.head()"
   ],
   "metadata": {
    "collapsed": false,
    "ExecuteTime": {
     "end_time": "2024-12-31T14:01:11.252587900Z",
     "start_time": "2024-12-31T14:01:11.176083500Z"
    }
   },
   "id": "aae3cc695f1bc31c",
   "execution_count": 380
  },
  {
   "cell_type": "code",
   "outputs": [],
   "source": [
    "\n",
    "def create_sync_dataframe(block):\n",
    "    \"\"\"\n",
    "    Constructs a synchronization dataframe for video synchronization.\n",
    "\n",
    "    Parameters:\n",
    "        block: BlockSync object containing synchronization data and eye data.\n",
    "\n",
    "    Returns:\n",
    "        pd.DataFrame: A dataframe with integrated synchronization data for arena and eye videos.\n",
    "    \"\"\"\n",
    "    # Start with the final_sync_df\n",
    "    try:\n",
    "        sync_df = block.final_sync_df[['Arena_TTL', 'Arena_frame']].copy()\n",
    "        sync_df.rename(columns={'Arena_TTL': 'OE_timestamp'}, inplace=True)\n",
    "    except KeyError:\n",
    "        sync_df = block.final_sync_df[['OE_timestamp','Arena_frame']].copy()\n",
    "\n",
    "    # Merge with left eye data\n",
    "    left_eye_data = block.left_eye_data[['OE_timestamp', 'eye_frame']].rename(columns={'eye_frame': 'L_eye_frame'})\n",
    "    sync_df = pd.merge(sync_df, left_eye_data, on='OE_timestamp', how='left')\n",
    "\n",
    "    # Merge with right eye data\n",
    "    right_eye_data = block.right_eye_data[['OE_timestamp', 'eye_frame']].rename(columns={'eye_frame': 'R_eye_frame'})\n",
    "    sync_df = pd.merge(sync_df, right_eye_data, on='OE_timestamp', how='left')\n",
    "\n",
    "    return sync_df\n",
    "\n",
    "# Example Usage\n",
    "sync_df = create_sync_dataframe(block)"
   ],
   "metadata": {
    "collapsed": false,
    "ExecuteTime": {
     "end_time": "2025-01-01T18:27:58.727753700Z",
     "start_time": "2025-01-01T18:27:58.599729600Z"
    }
   },
   "id": "5925f18caca6155",
   "execution_count": 392
  },
  {
   "cell_type": "code",
   "outputs": [
    {
     "data": {
      "text/plain": "       Unnamed: 0.1  OE_timestamp  Arena_frame  L_eye_frame  R_eye_frame  \\\n0                 0      565951.0        913.0          1.0          NaN   \n1                 1      566291.0        914.0          2.0          NaN   \n2                 2      566631.0        915.0          3.0          NaN   \n3                 3      566970.0        916.0          4.0          NaN   \n4                 4      567310.0        917.0          5.0          2.0   \n...             ...           ...          ...          ...          ...   \n99203         99203    34261949.0     100116.0     101272.0     101271.0   \n99204         99204    34262289.0     100117.0     101273.0     101272.0   \n99205         99205    34262628.0     100118.0     101274.0     101273.0   \n99206         99206    34262968.0     100119.0     101275.0     101274.0   \n99207         99207    34263307.0     100120.0     101276.0     101275.0   \n\n       L_values  R_values  \n0     -2.646521       NaN  \n1     -2.646440       NaN  \n2     -2.646465       NaN  \n3     -2.641369       NaN  \n4     -2.641731  0.554543  \n...         ...       ...  \n99203  0.072080 -1.185376  \n99204  0.072150 -1.185574  \n99205  0.072569 -1.186444  \n99206  0.075081 -1.186171  \n99207  0.074788 -1.186275  \n\n[99208 rows x 7 columns]",
      "text/html": "<div>\n<style scoped>\n    .dataframe tbody tr th:only-of-type {\n        vertical-align: middle;\n    }\n\n    .dataframe tbody tr th {\n        vertical-align: top;\n    }\n\n    .dataframe thead th {\n        text-align: right;\n    }\n</style>\n<table border=\"1\" class=\"dataframe\">\n  <thead>\n    <tr style=\"text-align: right;\">\n      <th></th>\n      <th>Unnamed: 0.1</th>\n      <th>OE_timestamp</th>\n      <th>Arena_frame</th>\n      <th>L_eye_frame</th>\n      <th>R_eye_frame</th>\n      <th>L_values</th>\n      <th>R_values</th>\n    </tr>\n  </thead>\n  <tbody>\n    <tr>\n      <th>0</th>\n      <td>0</td>\n      <td>565951.0</td>\n      <td>913.0</td>\n      <td>1.0</td>\n      <td>NaN</td>\n      <td>-2.646521</td>\n      <td>NaN</td>\n    </tr>\n    <tr>\n      <th>1</th>\n      <td>1</td>\n      <td>566291.0</td>\n      <td>914.0</td>\n      <td>2.0</td>\n      <td>NaN</td>\n      <td>-2.646440</td>\n      <td>NaN</td>\n    </tr>\n    <tr>\n      <th>2</th>\n      <td>2</td>\n      <td>566631.0</td>\n      <td>915.0</td>\n      <td>3.0</td>\n      <td>NaN</td>\n      <td>-2.646465</td>\n      <td>NaN</td>\n    </tr>\n    <tr>\n      <th>3</th>\n      <td>3</td>\n      <td>566970.0</td>\n      <td>916.0</td>\n      <td>4.0</td>\n      <td>NaN</td>\n      <td>-2.641369</td>\n      <td>NaN</td>\n    </tr>\n    <tr>\n      <th>4</th>\n      <td>4</td>\n      <td>567310.0</td>\n      <td>917.0</td>\n      <td>5.0</td>\n      <td>2.0</td>\n      <td>-2.641731</td>\n      <td>0.554543</td>\n    </tr>\n    <tr>\n      <th>...</th>\n      <td>...</td>\n      <td>...</td>\n      <td>...</td>\n      <td>...</td>\n      <td>...</td>\n      <td>...</td>\n      <td>...</td>\n    </tr>\n    <tr>\n      <th>99203</th>\n      <td>99203</td>\n      <td>34261949.0</td>\n      <td>100116.0</td>\n      <td>101272.0</td>\n      <td>101271.0</td>\n      <td>0.072080</td>\n      <td>-1.185376</td>\n    </tr>\n    <tr>\n      <th>99204</th>\n      <td>99204</td>\n      <td>34262289.0</td>\n      <td>100117.0</td>\n      <td>101273.0</td>\n      <td>101272.0</td>\n      <td>0.072150</td>\n      <td>-1.185574</td>\n    </tr>\n    <tr>\n      <th>99205</th>\n      <td>99205</td>\n      <td>34262628.0</td>\n      <td>100118.0</td>\n      <td>101274.0</td>\n      <td>101273.0</td>\n      <td>0.072569</td>\n      <td>-1.186444</td>\n    </tr>\n    <tr>\n      <th>99206</th>\n      <td>99206</td>\n      <td>34262968.0</td>\n      <td>100119.0</td>\n      <td>101275.0</td>\n      <td>101274.0</td>\n      <td>0.075081</td>\n      <td>-1.186171</td>\n    </tr>\n    <tr>\n      <th>99207</th>\n      <td>99207</td>\n      <td>34263307.0</td>\n      <td>100120.0</td>\n      <td>101276.0</td>\n      <td>101275.0</td>\n      <td>0.074788</td>\n      <td>-1.186275</td>\n    </tr>\n  </tbody>\n</table>\n<p>99208 rows × 7 columns</p>\n</div>"
     },
     "execution_count": 391,
     "metadata": {},
     "output_type": "execute_result"
    }
   ],
   "source": [
    "block.final_sync_df"
   ],
   "metadata": {
    "collapsed": false,
    "ExecuteTime": {
     "end_time": "2025-01-01T18:27:02.579659Z",
     "start_time": "2025-01-01T18:27:02.495470700Z"
    }
   },
   "id": "84f2127bc1618632",
   "execution_count": 391
  },
  {
   "cell_type": "code",
   "outputs": [
    {
     "data": {
      "text/plain": "       Unnamed: 0.1   Arena_TTL  Arena_frame  L_eye_frame  R_eye_frame  \\\n0                 0    565951.0        913.0          1.0          NaN   \n1                 1    566291.0        914.0          2.0          NaN   \n2                 2    566631.0        915.0          3.0          NaN   \n3                 3    566970.0        916.0          4.0          NaN   \n4                 4    567310.0        917.0          5.0          2.0   \n...             ...         ...          ...          ...          ...   \n99203         99203  34261949.0     100116.0     101272.0     101271.0   \n99204         99204  34262289.0     100117.0     101273.0     101272.0   \n99205         99205  34262628.0     100118.0     101274.0     101273.0   \n99206         99206  34262968.0     100119.0     101275.0     101274.0   \n99207         99207  34263307.0     100120.0     101276.0     101275.0   \n\n       L_values  R_values  \n0     -2.646521       NaN  \n1     -2.646440       NaN  \n2     -2.646465       NaN  \n3     -2.641369       NaN  \n4     -2.641731  0.554543  \n...         ...       ...  \n99203  0.072080 -1.185376  \n99204  0.072150 -1.185574  \n99205  0.072569 -1.186444  \n99206  0.075081 -1.186171  \n99207  0.074788 -1.186275  \n\n[99208 rows x 7 columns]",
      "text/html": "<div>\n<style scoped>\n    .dataframe tbody tr th:only-of-type {\n        vertical-align: middle;\n    }\n\n    .dataframe tbody tr th {\n        vertical-align: top;\n    }\n\n    .dataframe thead th {\n        text-align: right;\n    }\n</style>\n<table border=\"1\" class=\"dataframe\">\n  <thead>\n    <tr style=\"text-align: right;\">\n      <th></th>\n      <th>Unnamed: 0.1</th>\n      <th>Arena_TTL</th>\n      <th>Arena_frame</th>\n      <th>L_eye_frame</th>\n      <th>R_eye_frame</th>\n      <th>L_values</th>\n      <th>R_values</th>\n    </tr>\n  </thead>\n  <tbody>\n    <tr>\n      <th>0</th>\n      <td>0</td>\n      <td>565951.0</td>\n      <td>913.0</td>\n      <td>1.0</td>\n      <td>NaN</td>\n      <td>-2.646521</td>\n      <td>NaN</td>\n    </tr>\n    <tr>\n      <th>1</th>\n      <td>1</td>\n      <td>566291.0</td>\n      <td>914.0</td>\n      <td>2.0</td>\n      <td>NaN</td>\n      <td>-2.646440</td>\n      <td>NaN</td>\n    </tr>\n    <tr>\n      <th>2</th>\n      <td>2</td>\n      <td>566631.0</td>\n      <td>915.0</td>\n      <td>3.0</td>\n      <td>NaN</td>\n      <td>-2.646465</td>\n      <td>NaN</td>\n    </tr>\n    <tr>\n      <th>3</th>\n      <td>3</td>\n      <td>566970.0</td>\n      <td>916.0</td>\n      <td>4.0</td>\n      <td>NaN</td>\n      <td>-2.641369</td>\n      <td>NaN</td>\n    </tr>\n    <tr>\n      <th>4</th>\n      <td>4</td>\n      <td>567310.0</td>\n      <td>917.0</td>\n      <td>5.0</td>\n      <td>2.0</td>\n      <td>-2.641731</td>\n      <td>0.554543</td>\n    </tr>\n    <tr>\n      <th>...</th>\n      <td>...</td>\n      <td>...</td>\n      <td>...</td>\n      <td>...</td>\n      <td>...</td>\n      <td>...</td>\n      <td>...</td>\n    </tr>\n    <tr>\n      <th>99203</th>\n      <td>99203</td>\n      <td>34261949.0</td>\n      <td>100116.0</td>\n      <td>101272.0</td>\n      <td>101271.0</td>\n      <td>0.072080</td>\n      <td>-1.185376</td>\n    </tr>\n    <tr>\n      <th>99204</th>\n      <td>99204</td>\n      <td>34262289.0</td>\n      <td>100117.0</td>\n      <td>101273.0</td>\n      <td>101272.0</td>\n      <td>0.072150</td>\n      <td>-1.185574</td>\n    </tr>\n    <tr>\n      <th>99205</th>\n      <td>99205</td>\n      <td>34262628.0</td>\n      <td>100118.0</td>\n      <td>101274.0</td>\n      <td>101273.0</td>\n      <td>0.072569</td>\n      <td>-1.186444</td>\n    </tr>\n    <tr>\n      <th>99206</th>\n      <td>99206</td>\n      <td>34262968.0</td>\n      <td>100119.0</td>\n      <td>101275.0</td>\n      <td>101274.0</td>\n      <td>0.075081</td>\n      <td>-1.186171</td>\n    </tr>\n    <tr>\n      <th>99207</th>\n      <td>99207</td>\n      <td>34263307.0</td>\n      <td>100120.0</td>\n      <td>101276.0</td>\n      <td>101275.0</td>\n      <td>0.074788</td>\n      <td>-1.186275</td>\n    </tr>\n  </tbody>\n</table>\n<p>99208 rows × 7 columns</p>\n</div>"
     },
     "execution_count": 387,
     "metadata": {},
     "output_type": "execute_result"
    }
   ],
   "source": [
    "block.final_sync_df"
   ],
   "metadata": {
    "collapsed": false,
    "ExecuteTime": {
     "end_time": "2024-12-31T14:07:49.364792Z",
     "start_time": "2024-12-31T14:07:49.334778300Z"
    }
   },
   "id": "48c0fdb859d02958",
   "execution_count": 387
  },
  {
   "cell_type": "code",
   "outputs": [
    {
     "name": "stdout",
     "output_type": "stream",
     "text": [
      "Mismatch Summary:\n",
      "total_frames: 99208\n",
      "L_eye_mismatches: 20951\n",
      "R_eye_mismatches: 10525\n",
      "L_eye_mismatch_percentage: 21.118256592210304\n",
      "R_eye_mismatch_percentage: 10.609023465849528\n"
     ]
    }
   ],
   "source": [
    "def compare_eye_frames(new_sync_df, final_sync_df):\n",
    "    \"\"\"\n",
    "    Compares the L_eye_frame and R_eye_frame columns between new_sync_df and final_sync_df.\n",
    "\n",
    "    Parameters:\n",
    "        new_sync_df (pd.DataFrame): The newly created synchronization dataframe.\n",
    "        final_sync_df (pd.DataFrame): The original synchronization dataframe.\n",
    "\n",
    "    Returns:\n",
    "        dict: A dictionary with mismatches and summary statistics.\n",
    "    \"\"\"\n",
    "    final_sync_df.rename(columns={'Arena_TTL': 'OE_timestamp'}, inplace=True)\n",
    "    # Merge the dataframes on OE_timestamp for alignment\n",
    "    comparison_df = pd.merge(\n",
    "        new_sync_df[['OE_timestamp', 'L_eye_frame', 'R_eye_frame']],\n",
    "        final_sync_df[['OE_timestamp', 'L_eye_frame', 'R_eye_frame']],\n",
    "        on='OE_timestamp',\n",
    "        suffixes=('_new', '_final'),\n",
    "        how='inner'\n",
    "    )\n",
    "\n",
    "    # Compare the columns\n",
    "    comparison_df['L_eye_mismatch'] = comparison_df['L_eye_frame_new'] != comparison_df['L_eye_frame_final']\n",
    "    comparison_df['R_eye_mismatch'] = comparison_df['R_eye_frame_new'] != comparison_df['R_eye_frame_final']\n",
    "\n",
    "    # Identify mismatches\n",
    "    l_eye_mismatches = comparison_df[comparison_df['L_eye_mismatch']]\n",
    "    r_eye_mismatches = comparison_df[comparison_df['R_eye_mismatch']]\n",
    "\n",
    "    # Summary statistics\n",
    "    mismatch_summary = {\n",
    "        'total_frames': len(comparison_df),\n",
    "        'L_eye_mismatches': len(l_eye_mismatches),\n",
    "        'R_eye_mismatches': len(r_eye_mismatches),\n",
    "        'L_eye_mismatch_percentage': len(l_eye_mismatches) / len(comparison_df) * 100,\n",
    "        'R_eye_mismatch_percentage': len(r_eye_mismatches) / len(comparison_df) * 100,\n",
    "    }\n",
    "\n",
    "    return {\n",
    "        'comparison_df': comparison_df,\n",
    "        'l_eye_mismatches': l_eye_mismatches,\n",
    "        'r_eye_mismatches': r_eye_mismatches,\n",
    "        'mismatch_summary': mismatch_summary\n",
    "    }\n",
    "\n",
    "# Example Usage\n",
    "results = compare_eye_frames(sync_df, block.final_sync_df)\n",
    "\n",
    "# Display summary of mismatches\n",
    "print(\"Mismatch Summary:\")\n",
    "for key, value in results['mismatch_summary'].items():\n",
    "    print(f\"{key}: {value}\")\n",
    "\n",
    "# Optionally, save the comparison dataframe to a CSV for detailed analysis\n",
    "results['comparison_df'].to_csv(\"eye_frame_comparison.csv\", index=False)\n"
   ],
   "metadata": {
    "collapsed": false,
    "ExecuteTime": {
     "end_time": "2024-12-31T14:08:09.097486300Z",
     "start_time": "2024-12-31T14:08:08.597541200Z"
    }
   },
   "id": "f71924d206aba84d",
   "execution_count": 388
  },
  {
   "cell_type": "code",
   "outputs": [],
   "source": [
    "def save_synchronized_videos(sync_df, arena_vid_left, arena_vid_top, left_vid, right_vid, indices, output_file, fps=60, duration=5, separator_duration=2):\n",
    "    \"\"\"\n",
    "    Saves synchronized frames from four video sources into a single concatenated video.\n",
    "\n",
    "    Parameters:\n",
    "        sync_df (pd.DataFrame): A dataframe with columns ['Arena_frame', 'L_eye_frame', 'R_eye_frame'].\n",
    "        arena_vid_left (str): Path to the left arena video file.\n",
    "        arena_vid_top (str): Path to the top arena video file.\n",
    "        left_vid (str): Path to the left eye video file.\n",
    "        right_vid (str): Path to the right eye video file.\n",
    "        indices (list): List of starting indices for segments to save.\n",
    "        output_file (str): Path to the output video file.\n",
    "        fps (int): Frames per second for the output video.\n",
    "        duration (int): Duration of each mini-video segment in seconds.\n",
    "        separator_duration (int): Duration of black screen separator in seconds.\n",
    "    \"\"\"\n",
    "    # Open video capture objects\n",
    "    arena_left_cap = cv2.VideoCapture(arena_vid_left)\n",
    "    arena_top_cap = cv2.VideoCapture(arena_vid_top)\n",
    "    left_cap = cv2.VideoCapture(left_vid)\n",
    "    right_cap = cv2.VideoCapture(right_vid)\n",
    "\n",
    "    if not (arena_left_cap.isOpened() and arena_top_cap.isOpened() and left_cap.isOpened() and right_cap.isOpened()):\n",
    "        print(\"Error: Could not open one or more video files.\")\n",
    "        return\n",
    "\n",
    "    # Get video properties\n",
    "    frame_width = int(arena_left_cap.get(cv2.CAP_PROP_FRAME_WIDTH))\n",
    "    frame_height = int(arena_left_cap.get(cv2.CAP_PROP_FRAME_HEIGHT))\n",
    "    black_frame = np.zeros((frame_height, frame_width, 3), dtype=np.uint8)\n",
    "\n",
    "    # Define output video writer\n",
    "    fourcc = cv2.VideoWriter_fourcc(*'mp4v')\n",
    "    output_size = (frame_width * 2, frame_height * 2)\n",
    "    out = cv2.VideoWriter(output_file, fourcc, fps, output_size)\n",
    "\n",
    "    # Function to resize frames while keeping aspect ratio\n",
    "    def resize_frame(frame, scale, canvas):\n",
    "        new_w, new_h = int(frame.shape[1] * scale), int(frame.shape[0] * scale)\n",
    "        resized = cv2.resize(frame, (new_w, new_h), interpolation=cv2.INTER_AREA)\n",
    "        canvas.fill(0)\n",
    "        canvas[(canvas.shape[0] - new_h) // 2:(canvas.shape[0] - new_h) // 2 + new_h,\n",
    "               (canvas.shape[1] - new_w) // 2:(canvas.shape[1] - new_w) // 2 + new_w] = resized\n",
    "        return canvas\n",
    "\n",
    "    # Function to concatenate frames\n",
    "    def concatenate_frames(frames):\n",
    "        top_row = np.hstack((frames[0], frames[1]))  # Arena left and top\n",
    "        bottom_row = np.hstack((frames[2], frames[3]))  # Left and right eye\n",
    "        return np.vstack((top_row, bottom_row))\n",
    "\n",
    "    # Process each segment\n",
    "    for start_idx in indices:\n",
    "        end_idx = start_idx + int(duration * fps)\n",
    "\n",
    "        for idx in range(start_idx, end_idx):\n",
    "            if idx >= len(sync_df):\n",
    "                break\n",
    "\n",
    "            row = sync_df.iloc[idx]\n",
    "            arena_left_frame, arena_top_frame = row['Arena_frame'], row['Arena_frame']\n",
    "            left_frame, right_frame = row['L_eye_frame'], row['R_eye_frame']\n",
    "\n",
    "            # Retrieve frames\n",
    "            def get_frame(cap, frame_idx):\n",
    "                cap.set(cv2.CAP_PROP_POS_FRAMES, frame_idx)\n",
    "                ret, frame = cap.read()\n",
    "                return frame if ret else black_frame\n",
    "\n",
    "            arena_left_img = get_frame(arena_left_cap, arena_left_frame)\n",
    "            arena_top_img = get_frame(arena_top_cap, arena_top_frame)\n",
    "            left_img = get_frame(left_cap, left_frame)\n",
    "            right_img = get_frame(right_cap, right_frame)\n",
    "\n",
    "            # Prepare individual canvases\n",
    "            arena_canvas_left = np.zeros((frame_height, frame_width, 3), dtype=np.uint8)\n",
    "            arena_canvas_top = np.zeros((frame_height, frame_width, 3), dtype=np.uint8)\n",
    "            eye_canvas_left = np.zeros((frame_height, frame_width, 3), dtype=np.uint8)\n",
    "            eye_canvas_right = np.zeros((frame_height, frame_width, 3), dtype=np.uint8)\n",
    "\n",
    "            # Resize frames to match dimensions\n",
    "            arena_left_img = resize_frame(arena_left_img, 1.0, arena_canvas_left)\n",
    "            arena_top_img = resize_frame(arena_top_img, 1.0, arena_canvas_top)\n",
    "            left_img = resize_frame(left_img, 1.0, eye_canvas_left)\n",
    "            right_img = resize_frame(right_img, 1.0, eye_canvas_right)\n",
    "\n",
    "            # Concatenate resized frames\n",
    "            concatenated_frame = concatenate_frames([arena_left_img, arena_top_img, left_img, right_img])\n",
    "            out.write(concatenated_frame)\n",
    "\n",
    "        # Add separator (black screen)\n",
    "        for _ in range(int(separator_duration * fps)):\n",
    "            separator_frame = np.vstack((np.hstack((black_frame, black_frame)), np.hstack((black_frame, black_frame))))\n",
    "            out.write(separator_frame)\n",
    "\n",
    "    # Release resources\n",
    "    arena_left_cap.release()\n",
    "    arena_top_cap.release()\n",
    "    left_cap.release()\n",
    "    right_cap.release()\n",
    "    out.release()\n",
    "\n",
    "\n",
    "# Example usage\n",
    "arena_vid_left = r'Z:\\Nimrod\\experiments\\PV_62\\2023_04_27\\block_026\\arena_videos\\videos\\left_20230427T122154.mp4'\n",
    "arena_vid_top = r'Z:\\Nimrod\\experiments\\PV_62\\2023_04_27\\block_026\\arena_videos\\videos\\top_20230427T122154.mp4'\n",
    "left_vid = block.le_videos[0]\n",
    "right_vid = block.re_videos[0]\n",
    "sync_df = block.final_sync_df\n",
    "indices = [3420, 3639,8820,12336,14856,18576,22626,25656,29646,33066,47916,49446,52476,60516,63996,65556,67145,75066]  # Start indices for segments\n",
    "output_file = \"output_video.mp4\"\n",
    "\n",
    "save_synchronized_videos(sync_df, arena_vid_left, arena_vid_top, left_vid, right_vid, indices, output_file)"
   ],
   "metadata": {
    "collapsed": false,
    "ExecuteTime": {
     "start_time": "2025-01-01T18:30:51.600066Z"
    }
   },
   "id": "be72dfdc897ccd0b",
   "execution_count": null
  }
 ],
 "metadata": {
  "kernelspec": {
   "display_name": "Python 3",
   "language": "python",
   "name": "python3"
  },
  "language_info": {
   "codemirror_mode": {
    "name": "ipython",
    "version": 2
   },
   "file_extension": ".py",
   "mimetype": "text/x-python",
   "name": "python",
   "nbconvert_exporter": "python",
   "pygments_lexer": "ipython2",
   "version": "2.7.6"
  }
 },
 "nbformat": 4,
 "nbformat_minor": 5
}
