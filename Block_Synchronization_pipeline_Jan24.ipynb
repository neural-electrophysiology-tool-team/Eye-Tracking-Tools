{
 "cells": [
  {
   "cell_type": "markdown",
   "source": [
    "# Manual Synchronization steps - only use when needed and after block instantiation"
   ],
   "metadata": {
    "collapsed": false
   },
   "id": "b28b3252b4a2c9e7"
  },
  {
   "cell_type": "code",
   "outputs": [
    {
     "ename": "TypeError",
     "evalue": "'NoneType' object is not subscriptable",
     "output_type": "error",
     "traceback": [
      "\u001B[1;31m---------------------------------------------------------------------------\u001B[0m",
      "\u001B[1;31mTypeError\u001B[0m                                 Traceback (most recent call last)",
      "\u001B[1;32m<ipython-input-18-daa725e67d81>\u001B[0m in \u001B[0;36m<module>\u001B[1;34m\u001B[0m\n\u001B[1;32m----> 1\u001B[1;33m \u001B[0mblock\u001B[0m\u001B[1;33m.\u001B[0m\u001B[0mget_eyes_diff_list\u001B[0m\u001B[1;33m(\u001B[0m\u001B[0mthreshold\u001B[0m\u001B[1;33m=\u001B[0m\u001B[1;36m2\u001B[0m\u001B[1;33m)\u001B[0m\u001B[1;33m\u001B[0m\u001B[1;33m\u001B[0m\u001B[0m\n\u001B[0m\u001B[0;32m      2\u001B[0m \u001B[1;33m\u001B[0m\u001B[0m\n",
      "\u001B[1;32m~\\PycharmProjects\\pythonProject3\\BlockSync_current.py\u001B[0m in \u001B[0;36mget_eyes_diff_list\u001B[1;34m(self, threshold)\u001B[0m\n\u001B[0;32m   1012\u001B[0m \u001B[1;33m\u001B[0m\u001B[0m\n\u001B[0;32m   1013\u001B[0m     \u001B[1;32mdef\u001B[0m \u001B[0mget_eyes_diff_list\u001B[0m\u001B[1;33m(\u001B[0m\u001B[0mself\u001B[0m\u001B[1;33m,\u001B[0m \u001B[0mthreshold\u001B[0m\u001B[1;33m)\u001B[0m\u001B[1;33m:\u001B[0m\u001B[1;33m\u001B[0m\u001B[1;33m\u001B[0m\u001B[0m\n\u001B[1;32m-> 1014\u001B[1;33m         r_rising = self.blink_rising_edges_detector(self.eye_brightness_df['R_values'].values,\n\u001B[0m\u001B[0;32m   1015\u001B[0m                                                     self.eye_brightness_df['R_eye_frame'], threshold=threshold)\n\u001B[0;32m   1016\u001B[0m         l_rising = self.blink_rising_edges_detector(self.eye_brightness_df['L_values'].values,\n",
      "\u001B[1;31mTypeError\u001B[0m: 'NoneType' object is not subscriptable"
     ]
    }
   ],
   "source": [
    "block.get_eyes_diff_list(threshold=2)\n"
   ],
   "metadata": {
    "collapsed": false,
    "ExecuteTime": {
     "end_time": "2024-03-13T13:37:03.567197500Z",
     "start_time": "2024-03-13T13:37:03.538140Z"
    }
   },
   "id": "6e65ef600b4cac9b",
   "execution_count": 18
  },
  {
   "cell_type": "code",
   "outputs": [
    {
     "name": "stdout",
     "output_type": "stream",
     "text": [
      "created manual_sync_df attribute for the block\n"
     ]
    }
   ],
   "source": [
    "block.fix_eye_synchronization()"
   ],
   "metadata": {
    "collapsed": false,
    "ExecuteTime": {
     "end_time": "2024-03-11T12:52:35.898743900Z",
     "start_time": "2024-03-11T12:52:35.874824900Z"
    }
   },
   "id": "9e9af6a87fd6ba77",
   "execution_count": 6
  },
  {
   "cell_type": "code",
   "outputs": [
    {
     "data": {
      "text/plain": "        Unnamed: 0   Arena_TTL  Arena_frame  L_eye_frame  R_eye_frame  \\\n0                0   1049501.0        594.0          NaN          NaN   \n1                1   1049841.0        595.0          NaN          NaN   \n2                2   1050181.0        596.0          4.0          NaN   \n3                3   1050520.0        597.0          5.0          3.0   \n4                4   1050860.0        598.0          6.0          4.0   \n...            ...         ...          ...          ...          ...   \n201477      201477  69466929.0     202071.0     205626.0     205628.0   \n201478      201478  69467268.0     202072.0     205627.0     205629.0   \n201479      201479  69467608.0     202073.0     205628.0     205630.0   \n201480      201480  69467948.0     202074.0     205629.0     205631.0   \n201481      201481  69468287.0     202075.0          NaN     205632.0   \n\n        L_values  R_values  \n0            NaN       NaN  \n1            NaN       NaN  \n2      -1.326694       NaN  \n3      -1.328904  0.220736  \n4      -1.325705  0.223267  \n...          ...       ...  \n201477  0.338515 -0.614755  \n201478  0.342720 -0.613439  \n201479  0.340249 -0.613364  \n201480  0.340050 -0.614101  \n201481       NaN -0.613418  \n\n[201482 rows x 7 columns]",
      "text/html": "<div>\n<style scoped>\n    .dataframe tbody tr th:only-of-type {\n        vertical-align: middle;\n    }\n\n    .dataframe tbody tr th {\n        vertical-align: top;\n    }\n\n    .dataframe thead th {\n        text-align: right;\n    }\n</style>\n<table border=\"1\" class=\"dataframe\">\n  <thead>\n    <tr style=\"text-align: right;\">\n      <th></th>\n      <th>Unnamed: 0</th>\n      <th>Arena_TTL</th>\n      <th>Arena_frame</th>\n      <th>L_eye_frame</th>\n      <th>R_eye_frame</th>\n      <th>L_values</th>\n      <th>R_values</th>\n    </tr>\n  </thead>\n  <tbody>\n    <tr>\n      <th>0</th>\n      <td>0</td>\n      <td>1049501.0</td>\n      <td>594.0</td>\n      <td>NaN</td>\n      <td>NaN</td>\n      <td>NaN</td>\n      <td>NaN</td>\n    </tr>\n    <tr>\n      <th>1</th>\n      <td>1</td>\n      <td>1049841.0</td>\n      <td>595.0</td>\n      <td>NaN</td>\n      <td>NaN</td>\n      <td>NaN</td>\n      <td>NaN</td>\n    </tr>\n    <tr>\n      <th>2</th>\n      <td>2</td>\n      <td>1050181.0</td>\n      <td>596.0</td>\n      <td>4.0</td>\n      <td>NaN</td>\n      <td>-1.326694</td>\n      <td>NaN</td>\n    </tr>\n    <tr>\n      <th>3</th>\n      <td>3</td>\n      <td>1050520.0</td>\n      <td>597.0</td>\n      <td>5.0</td>\n      <td>3.0</td>\n      <td>-1.328904</td>\n      <td>0.220736</td>\n    </tr>\n    <tr>\n      <th>4</th>\n      <td>4</td>\n      <td>1050860.0</td>\n      <td>598.0</td>\n      <td>6.0</td>\n      <td>4.0</td>\n      <td>-1.325705</td>\n      <td>0.223267</td>\n    </tr>\n    <tr>\n      <th>...</th>\n      <td>...</td>\n      <td>...</td>\n      <td>...</td>\n      <td>...</td>\n      <td>...</td>\n      <td>...</td>\n      <td>...</td>\n    </tr>\n    <tr>\n      <th>201477</th>\n      <td>201477</td>\n      <td>69466929.0</td>\n      <td>202071.0</td>\n      <td>205626.0</td>\n      <td>205628.0</td>\n      <td>0.338515</td>\n      <td>-0.614755</td>\n    </tr>\n    <tr>\n      <th>201478</th>\n      <td>201478</td>\n      <td>69467268.0</td>\n      <td>202072.0</td>\n      <td>205627.0</td>\n      <td>205629.0</td>\n      <td>0.342720</td>\n      <td>-0.613439</td>\n    </tr>\n    <tr>\n      <th>201479</th>\n      <td>201479</td>\n      <td>69467608.0</td>\n      <td>202073.0</td>\n      <td>205628.0</td>\n      <td>205630.0</td>\n      <td>0.340249</td>\n      <td>-0.613364</td>\n    </tr>\n    <tr>\n      <th>201480</th>\n      <td>201480</td>\n      <td>69467948.0</td>\n      <td>202074.0</td>\n      <td>205629.0</td>\n      <td>205631.0</td>\n      <td>0.340050</td>\n      <td>-0.614101</td>\n    </tr>\n    <tr>\n      <th>201481</th>\n      <td>201481</td>\n      <td>69468287.0</td>\n      <td>202075.0</td>\n      <td>NaN</td>\n      <td>205632.0</td>\n      <td>NaN</td>\n      <td>-0.613418</td>\n    </tr>\n  </tbody>\n</table>\n<p>201482 rows × 7 columns</p>\n</div>"
     },
     "execution_count": 13,
     "metadata": {},
     "output_type": "execute_result"
    }
   ],
   "source": [
    "block.manual_sync_df"
   ],
   "metadata": {
    "collapsed": false,
    "ExecuteTime": {
     "end_time": "2024-03-11T12:55:43.058747800Z",
     "start_time": "2024-03-11T12:55:43.043725Z"
    }
   },
   "id": "8bd2d4cfb315cb5e",
   "execution_count": 13
  },
  {
   "cell_type": "code",
   "outputs": [],
   "source": [
    "# use this to manually shift L\\R eye synchronization\n",
    "eye_to_move = 'L'\n",
    "block.move_eye_sync_manual(cols_to_move=[f'{eye_to_move}_eye_frame',f'{eye_to_move}_values'],step=+1)"
   ],
   "metadata": {
    "collapsed": false,
    "ExecuteTime": {
     "end_time": "2024-02-29T09:41:58.115684200Z",
     "start_time": "2024-02-29T09:41:58.094685400Z"
    }
   },
   "id": "d846b11b51f5c54a",
   "execution_count": 27
  },
  {
   "cell_type": "code",
   "outputs": [],
   "source": [
    "block.full_sync_verification(ms_axis=False,with_arena=False)"
   ],
   "metadata": {
    "collapsed": false,
    "ExecuteTime": {
     "end_time": "2024-03-11T12:55:47.440575200Z",
     "start_time": "2024-03-11T12:55:46.790601Z"
    }
   },
   "id": "2dde52c4e5641a70",
   "execution_count": 14
  },
  {
   "cell_type": "code",
   "outputs": [],
   "source": [
    "block.export_manual_sync_df()\n",
    "block.import_manual_sync_df()"
   ],
   "metadata": {
    "collapsed": false,
    "ExecuteTime": {
     "end_time": "2024-02-29T09:42:59.406450900Z",
     "start_time": "2024-02-29T09:42:49.624943Z"
    }
   },
   "id": "3a56d4987541b353",
   "execution_count": 31
  },
  {
   "cell_type": "markdown",
   "source": [
    "# Start Here"
   ],
   "metadata": {
    "collapsed": false
   },
   "id": "5f9af4f71039b974"
  },
  {
   "cell_type": "code",
   "outputs": [],
   "source": [
    "import numpy as np\n",
    "import cv2\n",
    "from itertools import cycle\n",
    "import pickle\n",
    "import pathlib\n",
    "import math\n",
    "import tqdm\n",
    "import scipy.io\n",
    "from matplotlib import pyplot as plt\n",
    "import scipy.io\n",
    "import h5py\n",
    "import re\n",
    "from lxml import etree as ET\n",
    "import scipy.signal as sig\n",
    "import pandas as pd\n",
    "from scipy.stats import kde\n",
    "from BlockSync_current import BlockSync\n",
    "import UtilityFunctions_newOE as uf\n",
    "from scipy import signal\n",
    "import bokeh\n",
    "import seaborn as sns"
   ],
   "metadata": {
    "collapsed": true,
    "ExecuteTime": {
     "end_time": "2024-04-08T12:45:21.494776500Z",
     "start_time": "2024-04-08T12:45:20.759527100Z"
    }
   },
   "id": "initial_id",
   "execution_count": 1
  },
  {
   "cell_type": "code",
   "outputs": [],
   "source": [
    "def create_distance_plot(distances, top_dist_to_show=500):\n",
    "    # Create cumulative distribution plot\n",
    "    sns.set(style=\"whitegrid\")\n",
    "    fig, axs = plt.subplots(2, figsize=(6, 6), dpi=150)\n",
    "    \n",
    "    axs[0].set_title('Cumulative Euclidean Distances for Camera Jitter', fontsize=15)\n",
    "    axs[0].set_ylabel('Cumulative \\n % of Frames')\n",
    "    axs[0].set_xlim(0, top_dist_to_show)\n",
    "    axs[0].grid(False)\n",
    "    \n",
    "    # Create histogram and cumulative distribution\n",
    "    sns.kdeplot(distances, cumulative=True, label='Left Eye', ax=axs[0], linewidth=4, c='black')\n",
    "    \n",
    "    axs[1].hist(distances, bins=np.linspace(0, top_dist_to_show, 20), log=False, color='black')\n",
    "\n",
    "    # Set title and labels\n",
    "    title = 'Image displacement histogram'\n",
    "    axs[1].set_title(title, fontsize=15)\n",
    "    axs[1].set_xlabel('Euclidean Displacement [$\\mu$m]', fontsize=15)\n",
    "    axs[1].set_xscale('linear')\n",
    "    axs[1].set_yscale('linear')\n",
    "    axs[1].set_ylabel('Frame count', fontsize=15)\n",
    "\n",
    "    # Adjust tick label sizes\n",
    "    axs[1].tick_params(axis='x', which='major', labelsize=15)\n",
    "\n",
    "    # Set white background and black text\n",
    "    axs[1].set_facecolor('white')\n",
    "    axs[1].title.set_color('black')\n",
    "    axs[1].xaxis.label.set_color('black')\n",
    "    axs[1].yaxis.label.set_color('black')\n",
    "    axs[1].tick_params(colors='black')\n",
    "    axs[1].grid(False)\n",
    "\n",
    "    plt.tight_layout()\n",
    "\n",
    "    return fig, axs\n",
    "def add_intermediate_elements(input_vector, gap_to_bridge):\n",
    "    # Step 1: Calculate differences between each element\n",
    "    differences = np.diff(input_vector)\n",
    "\n",
    "    # Step 2: Add intervening elements based on the diff_threshold\n",
    "    output_vector = [input_vector[0]]\n",
    "    for i, diff in enumerate(differences):\n",
    "        if diff < gap_to_bridge:\n",
    "            # Add intervening elements\n",
    "            output_vector.extend(range(input_vector[i] + 1, input_vector[i + 1]))\n",
    "\n",
    "        # Add the next element from the original vector\n",
    "        output_vector.append(input_vector[i + 1])\n",
    "\n",
    "    return np.sort(np.unique(output_vector))\n",
    "def find_jittery_frames(block, eye, max_distance, diff_threshold, gap_to_bridge=6):\n",
    "    \n",
    "    #input checks\n",
    "    if eye not in ['left', 'right']:\n",
    "        print(f'eye can only be left/right, your input: {eye}')\n",
    "        return None\n",
    "    # eye setup\n",
    "    if eye == 'left':\n",
    "        jitter_dict = block.le_jitter_dict\n",
    "        eye_frame_col = 'L_eye_frame'\n",
    "    elif eye == 'right':\n",
    "        jitter_dict = block.re_jitter_dict\n",
    "        eye_frame_col = 'R_eye_frame'\n",
    "    \n",
    "    df_dict = {'left':block.le_df,\n",
    "               'right':block.re_df}\n",
    "    \n",
    "    df = pd.DataFrame.from_dict(jitter_dict)\n",
    "    indices_of_highest_drift = df.query(\"top_correlation_dist > @max_distance\").index.values\n",
    "    diff_vec = np.diff(df['top_correlation_dist'].values)\n",
    "    diff_peaks_indices = np.where(diff_vec > diff_threshold)[0]\n",
    "    video_indices = np.concatenate((diff_peaks_indices, indices_of_highest_drift))\n",
    "    print(f'the diff based jitter frame exclusion gives: {np.shape(diff_peaks_indices)}')\n",
    "    print(f'the threshold based jitter frame exclusion gives: {np.shape(indices_of_highest_drift)}')\n",
    "    \n",
    "    # creates a bridged version of the overly jittery frames (to contend with single frame outliers)\n",
    "    video_indices = add_intermediate_elements(video_indices, gap_to_bridge=gap_to_bridge)\n",
    "    # This is the input you should give to the BlockSync.remove_eye_datapoints function (which already maps it to the df) \n",
    "    \n",
    "    \n",
    "    # translates the video indices to le/re dataframe rows\n",
    "    df_indices_to_remove = df_dict[eye].loc[df_dict[eye][eye_frame_col].isin(video_indices)].index.values\n",
    "    \n",
    "    return df_indices_to_remove, video_indices\n",
    "def bokeh_plotter(data_list, label_list,\n",
    "                  plot_name='default',\n",
    "                  x_axis='X', y_axis='Y',\n",
    "                  peaks=None, peaks_list=False, export_path=False):\n",
    "    \"\"\"Generates an interactive Bokeh plot for the given data vector.\n",
    "    Args:\n",
    "        data_list (list or array): The data to be plotted.\n",
    "        label_list (list of str): The labels of the data vectors\n",
    "        plot_name (str, optional): The title of the plot. Defaults to 'default'.\n",
    "        x_axis (str, optional): The label for the x-axis. Defaults to 'X'.\n",
    "        y_axis (str, optional): The label for the y-axis. Defaults to 'Y'.\n",
    "        peaks (list or array, optional): Indices of peaks to highlight on the plot. Defaults to None.\n",
    "        export_path (False or str): when set to str, will output the resulting html fig\n",
    "    \"\"\"\n",
    "    color_cycle = cycle(bokeh.palettes.Category10_10)\n",
    "    fig = bokeh.plotting.figure(title=f'bokeh explorer: {plot_name}',\n",
    "                                x_axis_label=x_axis,\n",
    "                                y_axis_label=y_axis,\n",
    "                                plot_width=1500,\n",
    "                                plot_height=700)\n",
    "\n",
    "    for i, vec in enumerate(range(len(data_list))):\n",
    "        color = next(color_cycle)\n",
    "        data_vector = data_list[vec]\n",
    "        if label_list is None:\n",
    "            fig.line(range(len(data_vector)), data_vector, line_color=color, legend_label=f\"Line {len(fig.renderers)}\")\n",
    "        elif len(label_list) == len(data_list):\n",
    "            fig.line(range(len(data_vector)), data_vector, line_color=color, legend_label=f\"{label_list[i]}\")\n",
    "        if peaks is not None and peaks_list is True:\n",
    "            fig.circle(peaks[i], data_vector[peaks[i]], size=10, color=color)\n",
    "\n",
    "    if peaks is not None and peaks_list is False:\n",
    "        fig.circle(peaks, data_vector[peaks], size=10, color='red')\n",
    "\n",
    "    if export_path is not False:\n",
    "        print(f'exporting to {export_path}')\n",
    "        bokeh.io.output.output_file(filename=str(export_path / f'{plot_name}.html'), title=f'{plot_name}')\n",
    "    bokeh.plotting.show(fig)\n",
    "def play_video_with_ellipses_rotation(block, eye, path_to_video=False, xflip=False, transformation_matrix=None):\n",
    "    if eye == 'left':\n",
    "        video_path = block.le_videos[0]\n",
    "        ellipse_dataframe = block.left_eye_data\n",
    "    elif eye == 'right':\n",
    "        video_path = block.re_videos[0]\n",
    "        ellipse_dataframe = block.right_eye_data\n",
    "    else:\n",
    "        raise ValueError(f\"eye can only be 'left' or 'right'\")\n",
    "    \n",
    "    if video_path is not False:\n",
    "        video_path = path_to_video\n",
    "\n",
    "    # Open the video file\n",
    "    cap = cv2.VideoCapture(video_path)\n",
    "\n",
    "    if not cap.isOpened():\n",
    "        print(\"Error opening video file.\")\n",
    "        return\n",
    "\n",
    "    # Loop through each frame\n",
    "    while True:\n",
    "        # Read a frame from the video\n",
    "        ret, frame = cap.read()\n",
    "    \n",
    "        if not ret:\n",
    "            # Break the loop if the video is finished\n",
    "            break\n",
    "        \n",
    "        # Optionally flip the frame along the x-axis\n",
    "        if xflip:\n",
    "            frame = cv2.flip(frame, 1)\n",
    "\n",
    "        # Apply transformation matrix if provided\n",
    "        if transformation_matrix is not None:\n",
    "            frame = cv2.warpAffine(frame, transformation_matrix, (frame.shape[1], frame.shape[0]))\n",
    "\n",
    "        # Get the corresponding ellipse data for the current frame\n",
    "        current_frame_num = int(cap.get(cv2.CAP_PROP_POS_FRAMES)) - 1\n",
    "        try:\n",
    "            current_frame_data = ellipse_dataframe.iloc[ellipse_dataframe.query('eye_frame == @current_frame_num').index[0]]\n",
    "        except IndexError:\n",
    "            continue\n",
    "\n",
    "        # Extract ellipse parameters\n",
    "        if transformation_matrix is not None:\n",
    "            try:\n",
    "                center_x = int(current_frame_data['center_x'])\n",
    "                center_y = int(current_frame_data['center_y'])\n",
    "                width = int(current_frame_data['width'])\n",
    "                height = int(current_frame_data['height'])\n",
    "                phi = float(current_frame_data['phi'])\n",
    "                \n",
    "                # Draw the ellipse on the frame\n",
    "                cv2.ellipse(frame, (center_x, center_y), (width, height), phi, 0, 360, (0, 255, 0), 2)\n",
    "                \n",
    "                # Add text to the frame\n",
    "                text = f'ellipse angle: {phi}'\n",
    "                cv2.putText(frame, text, (10, 30), cv2.FONT_HERSHEY_SIMPLEX, 1, (0, 255, 0), 2, cv2.LINE_AA)\n",
    "        \n",
    "                \n",
    "                # Display the frame\n",
    "                cv2.imshow('Video with Ellipses', frame)\n",
    "            \n",
    "                # Check for the 'q' key to quit\n",
    "                if cv2.waitKey(25) & 0xFF == ord('q'):\n",
    "                    break\n",
    "            except ValueError:\n",
    "                continue\n",
    "        else:\n",
    "            try:\n",
    "                center_x = int(current_frame_data['center_x'])\n",
    "                center_y = int(current_frame_data['center_y'])\n",
    "                width = int(current_frame_data['width'])\n",
    "                height = int(current_frame_data['height'])\n",
    "                phi = float(current_frame_data['phi'])\n",
    "        \n",
    "                # Draw the ellipse on the frame\n",
    "                cv2.ellipse(frame, (center_x, center_y), (width, height), phi, 0, 360, (0, 255, 0), 2)\n",
    "                \n",
    "                # Add text to the frame\n",
    "                text = f'ellipse angle: {phi}'\n",
    "                cv2.putText(frame, text, (10, 30), cv2.FONT_HERSHEY_SIMPLEX, 1, (0, 255, 0), 2, cv2.LINE_AA)\n",
    "                \n",
    "                # Display the frame\n",
    "                cv2.imshow('Video with Ellipses', frame)\n",
    "            \n",
    "                # Check for the 'q' key to quit\n",
    "                if cv2.waitKey(25) & 0xFF == ord('q'):\n",
    "                    break\n",
    "            except ValueError:\n",
    "                continue\n",
    "\n",
    "    # Release video capture object and close the window\n",
    "    cap.release()\n",
    "    cv2.destroyAllWindows()\n",
    "def get_frame_count(video_path):\n",
    "        \"\"\"\n",
    "        Get the number of frames for the video in the specified path using OpenCV.\n",
    "    \n",
    "        Parameters:\n",
    "            video_path (str): Path to the video file.\n",
    "    \n",
    "        Returns:\n",
    "            int: Number of frames in the video.\n",
    "        \"\"\"\n",
    "        # Open the video file\n",
    "        cap = cv2.VideoCapture(video_path)\n",
    "    \n",
    "        # Check if the video file is opened successfully\n",
    "        if not cap.isOpened():\n",
    "            print(\"Error: Could not open the video file.\")\n",
    "            return -1\n",
    "    \n",
    "        # Get the total number of frames in the video\n",
    "        frame_count = int(cap.get(cv2.CAP_PROP_FRAME_COUNT))\n",
    "    \n",
    "        # Release the VideoCapture object\n",
    "        cap.release()\n",
    "    \n",
    "        return frame_count\n"
   ],
   "metadata": {
    "collapsed": false,
    "ExecuteTime": {
     "end_time": "2024-04-08T12:45:26.829118300Z",
     "start_time": "2024-04-08T12:45:26.798325500Z"
    }
   },
   "id": "78a25d835e87d5c9",
   "execution_count": 2
  },
  {
   "cell_type": "markdown",
   "source": [
    "# Block Instantiation"
   ],
   "metadata": {
    "collapsed": false
   },
   "id": "f60f9943200c9986"
  },
  {
   "cell_type": "code",
   "outputs": [
    {
     "name": "stdout",
     "output_type": "stream",
     "text": [
      "instantiated block number 026 at Path: Z:\\Nimrod\\experiments\\PV_62\\2023_04_27\\block_026, new OE version\n",
      "Found the sample rate for block 026 in the xml file, it is 20000 Hz\n",
      "created the .oe_rec attribute as an open ephys recording obj with get_data functionality\n",
      "retrieving zertoh sample number for block 026\n",
      "got it!\n",
      "instantiated block number 027 at Path: Z:\\Nimrod\\experiments\\PV_62\\2023_04_27\\block_027, new OE version\n",
      "Found the sample rate for block 027 in the xml file, it is 20000 Hz\n",
      "created the .oe_rec attribute as an open ephys recording obj with get_data functionality\n",
      "retrieving zertoh sample number for block 027\n",
      "got it!\n",
      "instantiated block number 028 at Path: Z:\\Nimrod\\experiments\\PV_62\\2023_04_27\\block_028, new OE version\n",
      "Found the sample rate for block 028 in the xml file, it is 20000 Hz\n",
      "created the .oe_rec attribute as an open ephys recording obj with get_data functionality\n",
      "retrieving zertoh sample number for block 028\n",
      "got it!\n",
      "instantiated block number 029 at Path: Z:\\Nimrod\\experiments\\PV_62\\2023_04_27\\block_029, new OE version\n",
      "Found the sample rate for block 029 in the xml file, it is 20000 Hz\n",
      "created the .oe_rec attribute as an open ephys recording obj with get_data functionality\n",
      "retrieving zertoh sample number for block 029\n",
      "got it!\n",
      "instantiated block number 030 at Path: Z:\\Nimrod\\experiments\\PV_62\\2023_04_27\\block_030, new OE version\n",
      "Found the sample rate for block 030 in the xml file, it is 20000 Hz\n",
      "created the .oe_rec attribute as an open ephys recording obj with get_data functionality\n",
      "retrieving zertoh sample number for block 030\n",
      "got it!\n",
      "instantiated block number 031 at Path: Z:\\Nimrod\\experiments\\PV_62\\2023_04_27\\block_031, new OE version\n",
      "Found the sample rate for block 031 in the xml file, it is 20000 Hz\n",
      "created the .oe_rec attribute as an open ephys recording obj with get_data functionality\n",
      "retrieving zertoh sample number for block 031\n",
      "got it!\n",
      "instantiated block number 032 at Path: Z:\\Nimrod\\experiments\\PV_62\\2023_04_27\\block_032, new OE version\n",
      "Found the sample rate for block 032 in the xml file, it is 20000 Hz\n",
      "created the .oe_rec attribute as an open ephys recording obj with get_data functionality\n",
      "retrieving zertoh sample number for block 032\n",
      "got it!\n",
      "instantiated block number 033 at Path: Z:\\Nimrod\\experiments\\PV_62\\2023_04_30\\block_033, new OE version\n",
      "Found the sample rate for block 033 in the xml file, it is 20000 Hz\n",
      "created the .oe_rec attribute as an open ephys recording obj with get_data functionality\n",
      "retrieving zertoh sample number for block 033\n",
      "got it!\n",
      "instantiated block number 034 at Path: Z:\\Nimrod\\experiments\\PV_62\\2023_04_30\\block_034, new OE version\n",
      "Found the sample rate for block 034 in the xml file, it is 20000 Hz\n",
      "created the .oe_rec attribute as an open ephys recording obj with get_data functionality\n",
      "retrieving zertoh sample number for block 034\n",
      "got it!\n",
      "instantiated block number 035 at Path: Z:\\Nimrod\\experiments\\PV_62\\2023_04_30\\block_035, new OE version\n",
      "Found the sample rate for block 035 in the xml file, it is 20000 Hz\n",
      "created the .oe_rec attribute as an open ephys recording obj with get_data functionality\n",
      "retrieving zertoh sample number for block 035\n",
      "got it!\n",
      "instantiated block number 036 at Path: Z:\\Nimrod\\experiments\\PV_62\\2023_04_30\\block_036, new OE version\n",
      "Found the sample rate for block 036 in the xml file, it is 20000 Hz\n",
      "created the .oe_rec attribute as an open ephys recording obj with get_data functionality\n",
      "retrieving zertoh sample number for block 036\n",
      "got it!\n",
      "instantiated block number 037 at Path: Z:\\Nimrod\\experiments\\PV_62\\2023_04_30\\block_037, new OE version\n",
      "Found the sample rate for block 037 in the xml file, it is 20000 Hz\n",
      "created the .oe_rec attribute as an open ephys recording obj with get_data functionality\n",
      "retrieving zertoh sample number for block 037\n",
      "got it!\n",
      "instantiated block number 038 at Path: Z:\\Nimrod\\experiments\\PV_62\\2023_05_01\\block_038, new OE version\n",
      "Found the sample rate for block 038 in the xml file, it is 20000 Hz\n",
      "created the .oe_rec attribute as an open ephys recording obj with get_data functionality\n",
      "retrieving zertoh sample number for block 038\n",
      "got it!\n",
      "instantiated block number 039 at Path: Z:\\Nimrod\\experiments\\PV_62\\2023_05_01\\block_039, new OE version\n",
      "Found the sample rate for block 039 in the xml file, it is 20000 Hz\n",
      "created the .oe_rec attribute as an open ephys recording obj with get_data functionality\n",
      "retrieving zertoh sample number for block 039\n",
      "got it!\n",
      "instantiated block number 040 at Path: Z:\\Nimrod\\experiments\\PV_62\\2023_05_01\\block_040, new OE version\n",
      "Found the sample rate for block 040 in the xml file, it is 20000 Hz\n",
      "created the .oe_rec attribute as an open ephys recording obj with get_data functionality\n",
      "retrieving zertoh sample number for block 040\n",
      "got it!\n",
      "instantiated block number 041 at Path: Z:\\Nimrod\\experiments\\PV_62\\2023_05_01\\block_041, new OE version\n",
      "Found the sample rate for block 041 in the xml file, it is 20000 Hz\n",
      "created the .oe_rec attribute as an open ephys recording obj with get_data functionality\n",
      "retrieving zertoh sample number for block 041\n",
      "got it!\n",
      "instantiated block number 043 at Path: Z:\\Nimrod\\experiments\\PV_62\\2023_05_02\\block_043, new OE version\n",
      "Found the sample rate for block 043 in the xml file, it is 20000 Hz\n",
      "created the .oe_rec attribute as an open ephys recording obj with get_data functionality\n",
      "retrieving zertoh sample number for block 043\n",
      "got it!\n",
      "instantiated block number 044 at Path: Z:\\Nimrod\\experiments\\PV_62\\2023_05_02\\block_044, new OE version\n",
      "Found the sample rate for block 044 in the xml file, it is 20000 Hz\n",
      "created the .oe_rec attribute as an open ephys recording obj with get_data functionality\n",
      "retrieving zertoh sample number for block 044\n",
      "got it!\n",
      "instantiated block number 047 at Path: Z:\\Nimrod\\experiments\\PV_62\\2023_05_03\\block_047, new OE version\n",
      "Found the sample rate for block 047 in the xml file, it is 20000 Hz\n",
      "created the .oe_rec attribute as an open ephys recording obj with get_data functionality\n",
      "retrieving zertoh sample number for block 047\n",
      "got it!\n",
      "instantiated block number 048 at Path: Z:\\Nimrod\\experiments\\PV_62\\2023_05_04\\block_048, new OE version\n",
      "Found the sample rate for block 048 in the xml file, it is 20000 Hz\n",
      "created the .oe_rec attribute as an open ephys recording obj with get_data functionality\n",
      "retrieving zertoh sample number for block 048\n",
      "got it!\n",
      "instantiated block number 049 at Path: Z:\\Nimrod\\experiments\\PV_62\\2023_05_04\\block_049, new OE version\n",
      "Found the sample rate for block 049 in the xml file, it is 20000 Hz\n",
      "created the .oe_rec attribute as an open ephys recording obj with get_data functionality\n",
      "retrieving zertoh sample number for block 049\n",
      "got it!\n",
      "instantiated block number 050 at Path: Z:\\Nimrod\\experiments\\PV_62\\2023_05_04\\block_050, new OE version\n",
      "Found the sample rate for block 050 in the xml file, it is 20000 Hz\n",
      "created the .oe_rec attribute as an open ephys recording obj with get_data functionality\n",
      "retrieving zertoh sample number for block 050\n",
      "got it!\n",
      "instantiated block number 051 at Path: Z:\\Nimrod\\experiments\\PV_62\\2023_05_04\\block_051, new OE version\n",
      "Found the sample rate for block 051 in the xml file, it is 20000 Hz\n",
      "created the .oe_rec attribute as an open ephys recording obj with get_data functionality\n",
      "retrieving zertoh sample number for block 051\n",
      "got it!\n",
      "instantiated block number 052 at Path: Z:\\Nimrod\\experiments\\PV_62\\2023_05_07\\block_052, new OE version\n",
      "Found the sample rate for block 052 in the xml file, it is 20000 Hz\n",
      "created the .oe_rec attribute as an open ephys recording obj with get_data functionality\n",
      "retrieving zertoh sample number for block 052\n",
      "got it!\n",
      "instantiated block number 053 at Path: Z:\\Nimrod\\experiments\\PV_62\\2023_05_07\\block_053, new OE version\n",
      "Found the sample rate for block 053 in the xml file, it is 20000 Hz\n",
      "created the .oe_rec attribute as an open ephys recording obj with get_data functionality\n",
      "retrieving zertoh sample number for block 053\n",
      "got it!\n",
      "instantiated block number 054 at Path: Z:\\Nimrod\\experiments\\PV_62\\2023_05_07\\block_054, new OE version\n",
      "Found the sample rate for block 054 in the xml file, it is 20000 Hz\n",
      "created the .oe_rec attribute as an open ephys recording obj with get_data functionality\n",
      "retrieving zertoh sample number for block 054\n",
      "got it!\n",
      "instantiated block number 055 at Path: Z:\\Nimrod\\experiments\\PV_62\\2023_05_07\\block_055, new OE version\n",
      "Found the sample rate for block 055 in the xml file, it is 20000 Hz\n",
      "created the .oe_rec attribute as an open ephys recording obj with get_data functionality\n",
      "retrieving zertoh sample number for block 055\n",
      "got it!\n",
      "instantiated block number 056 at Path: Z:\\Nimrod\\experiments\\PV_62\\2023_05_08\\block_056, new OE version\n",
      "Found the sample rate for block 056 in the xml file, it is 20000 Hz\n",
      "created the .oe_rec attribute as an open ephys recording obj with get_data functionality\n",
      "retrieving zertoh sample number for block 056\n",
      "got it!\n",
      "instantiated block number 057 at Path: Z:\\Nimrod\\experiments\\PV_62\\2023_05_08\\block_057, new OE version\n",
      "Found the sample rate for block 057 in the xml file, it is 20000 Hz\n",
      "created the .oe_rec attribute as an open ephys recording obj with get_data functionality\n",
      "retrieving zertoh sample number for block 057\n",
      "got it!\n",
      "instantiated block number 058 at Path: Z:\\Nimrod\\experiments\\PV_62\\2023_05_08\\block_058, new OE version\n",
      "Found the sample rate for block 058 in the xml file, it is 20000 Hz\n",
      "created the .oe_rec attribute as an open ephys recording obj with get_data functionality\n",
      "retrieving zertoh sample number for block 058\n",
      "got it!\n",
      "instantiated block number 059 at Path: Z:\\Nimrod\\experiments\\PV_62\\2023_05_08\\block_059, new OE version\n",
      "Found the sample rate for block 059 in the xml file, it is 20000 Hz\n",
      "created the .oe_rec attribute as an open ephys recording obj with get_data functionality\n",
      "retrieving zertoh sample number for block 059\n",
      "got it!\n",
      "instantiated block number 060 at Path: Z:\\Nimrod\\experiments\\PV_62\\2023_05_09\\block_060, new OE version\n",
      "Found the sample rate for block 060 in the xml file, it is 20000 Hz\n",
      "created the .oe_rec attribute as an open ephys recording obj with get_data functionality\n",
      "retrieving zertoh sample number for block 060\n",
      "got it!\n",
      "instantiated block number 063 at Path: Z:\\Nimrod\\experiments\\PV_62\\2023_05_09\\block_063, new OE version\n",
      "Found the sample rate for block 063 in the xml file, it is 20000 Hz\n",
      "created the .oe_rec attribute as an open ephys recording obj with get_data functionality\n",
      "retrieving zertoh sample number for block 063\n",
      "got it!\n",
      "instantiated block number 067 at Path: Z:\\Nimrod\\experiments\\PV_62\\2023_05_18\\block_067, new OE version\n",
      "Found the sample rate for block 067 in the xml file, it is 20000 Hz\n",
      "created the .oe_rec attribute as an open ephys recording obj with get_data functionality\n",
      "retrieving zertoh sample number for block 067\n",
      "got it!\n",
      "instantiated block number 068 at Path: Z:\\Nimrod\\experiments\\PV_62\\2023_05_18\\block_068, new OE version\n",
      "Found the sample rate for block 068 in the xml file, it is 20000 Hz\n",
      "created the .oe_rec attribute as an open ephys recording obj with get_data functionality\n",
      "retrieving zertoh sample number for block 068\n",
      "got it!\n",
      "instantiated block number 069 at Path: Z:\\Nimrod\\experiments\\PV_62\\2023_05_18\\block_069, new OE version\n",
      "Found the sample rate for block 069 in the xml file, it is 20000 Hz\n",
      "created the .oe_rec attribute as an open ephys recording obj with get_data functionality\n",
      "retrieving zertoh sample number for block 069\n",
      "got it!\n",
      "instantiated block number 070 at Path: Z:\\Nimrod\\experiments\\PV_62\\2023_05_18\\block_070, new OE version\n",
      "Found the sample rate for block 070 in the xml file, it is 20000 Hz\n",
      "created the .oe_rec attribute as an open ephys recording obj with get_data functionality\n",
      "retrieving zertoh sample number for block 070\n",
      "got it!\n",
      "instantiated block number 071 at Path: Z:\\Nimrod\\experiments\\PV_62\\2023_06_19\\block_071, new OE version\n",
      "Found the sample rate for block 071 in the xml file, it is 20000 Hz\n",
      "created the .oe_rec attribute as an open ephys recording obj with get_data functionality\n",
      "retrieving zertoh sample number for block 071\n",
      "got it!\n",
      "instantiated block number 072 at Path: Z:\\Nimrod\\experiments\\PV_62\\2023_06_21\\block_072, new OE version\n",
      "Found the sample rate for block 072 in the xml file, it is 20000 Hz\n",
      "created the .oe_rec attribute as an open ephys recording obj with get_data functionality\n",
      "retrieving zertoh sample number for block 072\n",
      "got it!\n",
      "instantiated block number 073 at Path: Z:\\Nimrod\\experiments\\PV_62\\2023_06_21\\block_073, new OE version\n",
      "Found the sample rate for block 073 in the xml file, it is 20000 Hz\n",
      "created the .oe_rec attribute as an open ephys recording obj with get_data functionality\n",
      "retrieving zertoh sample number for block 073\n",
      "got it!\n",
      "instantiated block number 074 at Path: Z:\\Nimrod\\experiments\\PV_62\\2023_06_21\\block_074, new OE version\n",
      "Found the sample rate for block 074 in the xml file, it is 20000 Hz\n",
      "created the .oe_rec attribute as an open ephys recording obj with get_data functionality\n",
      "retrieving zertoh sample number for block 074\n",
      "got it!\n"
     ]
    }
   ],
   "source": [
    "# define a single block to synchronize and finally export l/r_eye_data csv files:\n",
    "# this step creates block_collection - a list of BlockSync objects of interest\n",
    "block_numbers = range(26,75)\n",
    "bad_blocks = [42, 45, 46, 61, 62, 64, 65, 66] # True for PV_62\n",
    "experiment_path = pathlib.Path(r\"Z:\\Nimrod\\experiments\")\n",
    "animal = 'PV_62'\n",
    "block_collection = uf.block_generator(block_numbers=block_numbers,\n",
    "                                      experiment_path=experiment_path,\n",
    "                                      animal=animal,\n",
    "                                      bad_blocks=bad_blocks)\n",
    "# create a block_dict object for ease of access:\n",
    "block_dict = {}\n",
    "for b in block_collection:\n",
    "    block_dict[str(b.block_num)] = b\n"
   ],
   "metadata": {
    "collapsed": false,
    "ExecuteTime": {
     "end_time": "2024-04-08T12:50:24.312168700Z",
     "start_time": "2024-04-08T12:50:20.514785300Z"
    }
   },
   "id": "e1493e3b793d5cb1",
   "execution_count": 8
  },
  {
   "cell_type": "code",
   "outputs": [
    {
     "name": "stdout",
     "output_type": "stream",
     "text": [
      "running parse_open_ephys_events...\n",
      "events.csv file already exists\n",
      "the arena TTLs are signaling start and stop positions at [ 2266 91707]\n",
      "arena first frame timestamp: 831171\n",
      "arena end frame timestamp: 31208078\n",
      "L_eye_TTL was not identified as Arena_TTL\n",
      "R_eye_TTL was not identified as Arena_TTL\n",
      "created Z:\\Nimrod\\experiments\\PV_62\\2023_04_30\\block_034\\oe_files\\2023-04-30_11-16-53\\parsed_events.csv\n",
      "034 226.0\n",
      "running parse_open_ephys_events...\n",
      "events.csv file already exists\n",
      "the arena TTLs are signaling start and stop positions at [  2581 183148]\n",
      "arena first frame timestamp: 938080\n",
      "arena end frame timestamp: 62256621\n",
      "L_eye_TTL was not identified as Arena_TTL\n",
      "R_eye_TTL was not identified as Arena_TTL\n",
      "created Z:\\Nimrod\\experiments\\PV_62\\2023_04_30\\block_035\\oe_files\\2023-04-30_11-44-30\\parsed_events.csv\n",
      "035 209.0\n",
      "running parse_open_ephys_events...\n",
      "events.csv file already exists\n",
      "arena first frame timestamp: 3284771\n",
      "arena end frame timestamp: 54019364\n",
      "LED_driver was not identified as Arena_TTL\n",
      "L_eye_TTL was not identified as Arena_TTL\n",
      "R_eye_TTL was not identified as Arena_TTL\n",
      "created Z:\\Nimrod\\experiments\\PV_62\\2023_05_01\\block_038\\oe_files\\2023-05-01_13-57-45\\parsed_events.csv\n",
      "038 82.0\n",
      "running parse_open_ephys_events...\n",
      "aligning to zero with 87303936\n",
      "open ephys events aligned to zero & exported to csv file at Z:\\Nimrod\\experiments\\PV_62\\2023_05_02\\block_043\\oe_files\\2023-05-02_13-41-50\\events.csv\n",
      "arena first frame timestamp: 2869710\n",
      "arena end frame timestamp: 18968026\n",
      "LED_driver was not identified as Arena_TTL\n",
      "L_eye_TTL was not identified as Arena_TTL\n",
      "R_eye_TTL was not identified as Arena_TTL\n",
      "created Z:\\Nimrod\\experiments\\PV_62\\2023_05_02\\block_043\\oe_files\\2023-05-02_13-41-50\\parsed_events.csv\n",
      "043 95.0\n",
      "running parse_open_ephys_events...\n",
      "aligning to zero with 107376640\n",
      "open ephys events aligned to zero & exported to csv file at Z:\\Nimrod\\experiments\\PV_62\\2023_05_02\\block_044\\oe_files\\2023-05-02_13-58-34\\events.csv\n",
      "the arena TTLs are signaling start and stop positions at [  592 60472]\n",
      "arena first frame timestamp: 261935\n",
      "arena end frame timestamp: 20593955\n",
      "LED_driver was not identified as Arena_TTL\n",
      "L_eye_TTL was not identified as Arena_TTL\n",
      "R_eye_TTL was not identified as Arena_TTL\n",
      "created Z:\\Nimrod\\experiments\\PV_62\\2023_05_02\\block_044\\oe_files\\2023-05-02_13-58-34\\parsed_events.csv\n",
      "044 279.0\n",
      "running parse_open_ephys_events...\n",
      "aligning to zero with 448512\n",
      "open ephys events aligned to zero & exported to csv file at Z:\\Nimrod\\experiments\\PV_62\\2023_05_07\\block_052\\oe_files\\2023-05-07_12-04-21\\events.csv\n",
      "the arena TTLs are signaling start and stop positions at [ 1661 24692]\n",
      "arena first frame timestamp: 625574\n",
      "arena end frame timestamp: 8447941\n",
      "LED_driver was not identified as Arena_TTL\n",
      "L_eye_TTL was not identified as Arena_TTL\n",
      "R_eye_TTL was not identified as Arena_TTL\n",
      "created Z:\\Nimrod\\experiments\\PV_62\\2023_05_07\\block_052\\oe_files\\2023-05-07_12-04-21\\parsed_events.csv\n",
      "052 144.0\n",
      "running parse_open_ephys_events...\n",
      "aligning to zero with 203263\n",
      "open ephys events aligned to zero & exported to csv file at Z:\\Nimrod\\experiments\\PV_62\\2023_05_07\\block_053\\oe_files\\2023-05-07_12-24-23\\events.csv\n",
      "the arena TTLs are signaling start and stop positions at [  1274 262286]\n",
      "arena first frame timestamp: 493783\n",
      "arena end frame timestamp: 89136539\n",
      "LED_driver was not identified as Arena_TTL\n",
      "L_eye_TTL was not identified as Arena_TTL\n",
      "R_eye_TTL was not identified as Arena_TTL\n",
      "created Z:\\Nimrod\\experiments\\PV_62\\2023_05_07\\block_053\\oe_files\\2023-05-07_12-24-23\\parsed_events.csv\n",
      "053 85.0\n",
      "running parse_open_ephys_events...\n",
      "aligning to zero with 89919488\n",
      "open ephys events aligned to zero & exported to csv file at Z:\\Nimrod\\experiments\\PV_62\\2023_05_07\\block_054\\oe_files\\2023-05-07_13-39-09\\events.csv\n",
      "the arena TTLs are signaling start and stop positions at [ 1005 76037]\n",
      "arena first frame timestamp: 403525\n",
      "arena end frame timestamp: 25886093\n",
      "LED_driver was not identified as Arena_TTL\n",
      "L_eye_TTL was not identified as Arena_TTL\n",
      "R_eye_TTL was not identified as Arena_TTL\n",
      "created Z:\\Nimrod\\experiments\\PV_62\\2023_05_07\\block_054\\oe_files\\2023-05-07_13-39-09\\parsed_events.csv\n",
      "054 147.0\n",
      "running parse_open_ephys_events...\n",
      "aligning to zero with 72975360\n",
      "open ephys events aligned to zero & exported to csv file at Z:\\Nimrod\\experiments\\PV_62\\2023_05_09\\block_063\\oe_files\\2023-05-09_14-01-20\\events.csv\n",
      "arena first frame timestamp: 2090577\n",
      "arena end frame timestamp: 67012086\n",
      "LED_driver was not identified as Arena_TTL\n",
      "L_eye_TTL was not identified as Arena_TTL\n",
      "R_eye_TTL was not identified as Arena_TTL\n",
      "created Z:\\Nimrod\\experiments\\PV_62\\2023_05_09\\block_063\\oe_files\\2023-05-09_14-01-20\\parsed_events.csv\n",
      "063 15.0\n"
     ]
    }
   ],
   "source": [
    "# verify that all blocks were aligned to zero by the oe event parser:\n",
    "\n",
    "for block in block_collection:\n",
    "    \n",
    "    if block.oe_events is None:\n",
    "        block.parse_open_ephys_events(align_to_zero=True, overwrite=True, auto_break_selection=True)\n",
    "    print(block.block_num, block.oe_events.Arena_TTL.min())"
   ],
   "metadata": {
    "collapsed": false,
    "ExecuteTime": {
     "end_time": "2024-04-08T12:46:32.062183100Z",
     "start_time": "2024-04-08T12:45:42.837110800Z"
    }
   },
   "id": "3a9a90a8ec1c51ea",
   "execution_count": 4
  },
  {
   "cell_type": "code",
   "outputs": [],
   "source": [
    "# create Mark's ground-truth table\n",
    "trig_df = pd.read_csv(r'Z:\\Nimrod\\HelperFiles\\trigger_count_table.csv')\n",
    "frame_count_df = pd.read_csv(r'Z:\\Nimrod\\HelperFiles\\frame_count_table.csv')\n",
    "as_paths = [pathlib.Path(p) for p in frame_count_df.Var1.values]\n",
    "frame_count_df['block_num'] = [i.parent.parent.parent.name[-3:] for i in as_paths]\n",
    "trig_as_paths = [pathlib.Path(p) for p in trig_df.Var1.values]\n",
    "trig_df['block_num'] = [i.parent.parent.parent.name[-3:] for i in trig_as_paths]\n",
    "frame_trig_report = pd.merge(frame_count_df, trig_df, on='block_num', how='left')\n",
    "frame_trig_report = frame_trig_report.rename(columns={'Var2':'frame_count_mark', 'Var1_x':'vid_name','trig_count':'trig_count_mark','block_num':'block_number'})\n",
    "frame_trig_report['vid_name'] = [str(pathlib.Path(vid_name).name) for vid_name in frame_trig_report.vid_name.values]\n",
    "frame_trig_report.drop(columns=['Var1_y'],inplace=True)\n",
    "\n"
   ],
   "metadata": {
    "collapsed": false,
    "ExecuteTime": {
     "end_time": "2024-04-09T14:28:27.350993200Z",
     "start_time": "2024-04-09T14:28:27.288030700Z"
    }
   },
   "id": "82d1ff2a626dab97",
   "execution_count": 69
  },
  {
   "cell_type": "markdown",
   "source": [],
   "metadata": {
    "collapsed": false
   },
   "id": "9449a4c5a70b4d61"
  },
  {
   "cell_type": "code",
   "outputs": [
    {
     "ename": "ValueError",
     "evalue": "Length of values (1) does not match length of index (66)",
     "output_type": "error",
     "traceback": [
      "\u001B[1;31m---------------------------------------------------------------------------\u001B[0m",
      "\u001B[1;31mValueError\u001B[0m                                Traceback (most recent call last)",
      "\u001B[1;32m<ipython-input-74-08b3097747e5>\u001B[0m in \u001B[0;36m<module>\u001B[1;34m\u001B[0m\n\u001B[0;32m      1\u001B[0m \u001B[1;31m#df_blocks = df_blocks.rename(columns={'block number':'block_number', 'trigger count':'trigger_count'})\u001B[0m\u001B[1;33m\u001B[0m\u001B[1;33m\u001B[0m\u001B[1;33m\u001B[0m\u001B[0m\n\u001B[0;32m      2\u001B[0m \u001B[0mreport\u001B[0m \u001B[1;33m=\u001B[0m \u001B[0mpd\u001B[0m\u001B[1;33m.\u001B[0m\u001B[0mmerge\u001B[0m\u001B[1;33m(\u001B[0m\u001B[0mframe_trig_report\u001B[0m\u001B[1;33m,\u001B[0m \u001B[0mdf_blocks\u001B[0m\u001B[1;33m,\u001B[0m \u001B[0mon\u001B[0m\u001B[1;33m=\u001B[0m\u001B[1;34m'block_number'\u001B[0m\u001B[1;33m,\u001B[0m \u001B[0mhow\u001B[0m\u001B[1;33m=\u001B[0m\u001B[1;34m'left'\u001B[0m\u001B[1;33m)\u001B[0m\u001B[1;33m\u001B[0m\u001B[1;33m\u001B[0m\u001B[0m\n\u001B[1;32m----> 3\u001B[1;33m \u001B[0mreport\u001B[0m\u001B[1;33m[\u001B[0m\u001B[1;34m'synced_block'\u001B[0m\u001B[1;33m]\u001B[0m \u001B[1;33m=\u001B[0m \u001B[1;33m[\u001B[0m\u001B[0mreport\u001B[0m\u001B[1;33m.\u001B[0m\u001B[0mframe_count_mark\u001B[0m\u001B[1;33m.\u001B[0m\u001B[0mvalues\u001B[0m \u001B[1;33m==\u001B[0m \u001B[0mreport\u001B[0m\u001B[1;33m.\u001B[0m\u001B[0mtrig_count_mark\u001B[0m\u001B[1;33m.\u001B[0m\u001B[0mvalues\u001B[0m\u001B[1;33m]\u001B[0m\u001B[1;33m\u001B[0m\u001B[1;33m\u001B[0m\u001B[0m\n\u001B[0m",
      "\u001B[1;32m~\\AppData\\Local\\Programs\\Python\\Python38\\lib\\site-packages\\pandas\\core\\frame.py\u001B[0m in \u001B[0;36m__setitem__\u001B[1;34m(self, key, value)\u001B[0m\n\u001B[0;32m   3042\u001B[0m         \u001B[1;32melse\u001B[0m\u001B[1;33m:\u001B[0m\u001B[1;33m\u001B[0m\u001B[1;33m\u001B[0m\u001B[0m\n\u001B[0;32m   3043\u001B[0m             \u001B[1;31m# set column\u001B[0m\u001B[1;33m\u001B[0m\u001B[1;33m\u001B[0m\u001B[1;33m\u001B[0m\u001B[0m\n\u001B[1;32m-> 3044\u001B[1;33m             \u001B[0mself\u001B[0m\u001B[1;33m.\u001B[0m\u001B[0m_set_item\u001B[0m\u001B[1;33m(\u001B[0m\u001B[0mkey\u001B[0m\u001B[1;33m,\u001B[0m \u001B[0mvalue\u001B[0m\u001B[1;33m)\u001B[0m\u001B[1;33m\u001B[0m\u001B[1;33m\u001B[0m\u001B[0m\n\u001B[0m\u001B[0;32m   3045\u001B[0m \u001B[1;33m\u001B[0m\u001B[0m\n\u001B[0;32m   3046\u001B[0m     \u001B[1;32mdef\u001B[0m \u001B[0m_setitem_slice\u001B[0m\u001B[1;33m(\u001B[0m\u001B[0mself\u001B[0m\u001B[1;33m,\u001B[0m \u001B[0mkey\u001B[0m\u001B[1;33m:\u001B[0m \u001B[0mslice\u001B[0m\u001B[1;33m,\u001B[0m \u001B[0mvalue\u001B[0m\u001B[1;33m)\u001B[0m\u001B[1;33m:\u001B[0m\u001B[1;33m\u001B[0m\u001B[1;33m\u001B[0m\u001B[0m\n",
      "\u001B[1;32m~\\AppData\\Local\\Programs\\Python\\Python38\\lib\\site-packages\\pandas\\core\\frame.py\u001B[0m in \u001B[0;36m_set_item\u001B[1;34m(self, key, value)\u001B[0m\n\u001B[0;32m   3118\u001B[0m         \"\"\"\n\u001B[0;32m   3119\u001B[0m         \u001B[0mself\u001B[0m\u001B[1;33m.\u001B[0m\u001B[0m_ensure_valid_index\u001B[0m\u001B[1;33m(\u001B[0m\u001B[0mvalue\u001B[0m\u001B[1;33m)\u001B[0m\u001B[1;33m\u001B[0m\u001B[1;33m\u001B[0m\u001B[0m\n\u001B[1;32m-> 3120\u001B[1;33m         \u001B[0mvalue\u001B[0m \u001B[1;33m=\u001B[0m \u001B[0mself\u001B[0m\u001B[1;33m.\u001B[0m\u001B[0m_sanitize_column\u001B[0m\u001B[1;33m(\u001B[0m\u001B[0mkey\u001B[0m\u001B[1;33m,\u001B[0m \u001B[0mvalue\u001B[0m\u001B[1;33m)\u001B[0m\u001B[1;33m\u001B[0m\u001B[1;33m\u001B[0m\u001B[0m\n\u001B[0m\u001B[0;32m   3121\u001B[0m         \u001B[0mNDFrame\u001B[0m\u001B[1;33m.\u001B[0m\u001B[0m_set_item\u001B[0m\u001B[1;33m(\u001B[0m\u001B[0mself\u001B[0m\u001B[1;33m,\u001B[0m \u001B[0mkey\u001B[0m\u001B[1;33m,\u001B[0m \u001B[0mvalue\u001B[0m\u001B[1;33m)\u001B[0m\u001B[1;33m\u001B[0m\u001B[1;33m\u001B[0m\u001B[0m\n\u001B[0;32m   3122\u001B[0m \u001B[1;33m\u001B[0m\u001B[0m\n",
      "\u001B[1;32m~\\AppData\\Local\\Programs\\Python\\Python38\\lib\\site-packages\\pandas\\core\\frame.py\u001B[0m in \u001B[0;36m_sanitize_column\u001B[1;34m(self, key, value, broadcast)\u001B[0m\n\u001B[0;32m   3766\u001B[0m \u001B[1;33m\u001B[0m\u001B[0m\n\u001B[0;32m   3767\u001B[0m             \u001B[1;31m# turn me into an ndarray\u001B[0m\u001B[1;33m\u001B[0m\u001B[1;33m\u001B[0m\u001B[1;33m\u001B[0m\u001B[0m\n\u001B[1;32m-> 3768\u001B[1;33m             \u001B[0mvalue\u001B[0m \u001B[1;33m=\u001B[0m \u001B[0msanitize_index\u001B[0m\u001B[1;33m(\u001B[0m\u001B[0mvalue\u001B[0m\u001B[1;33m,\u001B[0m \u001B[0mself\u001B[0m\u001B[1;33m.\u001B[0m\u001B[0mindex\u001B[0m\u001B[1;33m)\u001B[0m\u001B[1;33m\u001B[0m\u001B[1;33m\u001B[0m\u001B[0m\n\u001B[0m\u001B[0;32m   3769\u001B[0m             \u001B[1;32mif\u001B[0m \u001B[1;32mnot\u001B[0m \u001B[0misinstance\u001B[0m\u001B[1;33m(\u001B[0m\u001B[0mvalue\u001B[0m\u001B[1;33m,\u001B[0m \u001B[1;33m(\u001B[0m\u001B[0mnp\u001B[0m\u001B[1;33m.\u001B[0m\u001B[0mndarray\u001B[0m\u001B[1;33m,\u001B[0m \u001B[0mIndex\u001B[0m\u001B[1;33m)\u001B[0m\u001B[1;33m)\u001B[0m\u001B[1;33m:\u001B[0m\u001B[1;33m\u001B[0m\u001B[1;33m\u001B[0m\u001B[0m\n\u001B[0;32m   3770\u001B[0m                 \u001B[1;32mif\u001B[0m \u001B[0misinstance\u001B[0m\u001B[1;33m(\u001B[0m\u001B[0mvalue\u001B[0m\u001B[1;33m,\u001B[0m \u001B[0mlist\u001B[0m\u001B[1;33m)\u001B[0m \u001B[1;32mand\u001B[0m \u001B[0mlen\u001B[0m\u001B[1;33m(\u001B[0m\u001B[0mvalue\u001B[0m\u001B[1;33m)\u001B[0m \u001B[1;33m>\u001B[0m \u001B[1;36m0\u001B[0m\u001B[1;33m:\u001B[0m\u001B[1;33m\u001B[0m\u001B[1;33m\u001B[0m\u001B[0m\n",
      "\u001B[1;32m~\\AppData\\Local\\Programs\\Python\\Python38\\lib\\site-packages\\pandas\\core\\internals\\construction.py\u001B[0m in \u001B[0;36msanitize_index\u001B[1;34m(data, index)\u001B[0m\n\u001B[0;32m    745\u001B[0m     \"\"\"\n\u001B[0;32m    746\u001B[0m     \u001B[1;32mif\u001B[0m \u001B[0mlen\u001B[0m\u001B[1;33m(\u001B[0m\u001B[0mdata\u001B[0m\u001B[1;33m)\u001B[0m \u001B[1;33m!=\u001B[0m \u001B[0mlen\u001B[0m\u001B[1;33m(\u001B[0m\u001B[0mindex\u001B[0m\u001B[1;33m)\u001B[0m\u001B[1;33m:\u001B[0m\u001B[1;33m\u001B[0m\u001B[1;33m\u001B[0m\u001B[0m\n\u001B[1;32m--> 747\u001B[1;33m         raise ValueError(\n\u001B[0m\u001B[0;32m    748\u001B[0m             \u001B[1;34m\"Length of values \"\u001B[0m\u001B[1;33m\u001B[0m\u001B[1;33m\u001B[0m\u001B[0m\n\u001B[0;32m    749\u001B[0m             \u001B[1;34mf\"({len(data)}) \"\u001B[0m\u001B[1;33m\u001B[0m\u001B[1;33m\u001B[0m\u001B[0m\n",
      "\u001B[1;31mValueError\u001B[0m: Length of values (1) does not match length of index (66)"
     ]
    }
   ],
   "source": [
    "#df_blocks = df_blocks.rename(columns={'block number':'block_number', 'trigger count':'trigger_count'})\n",
    "report = pd.merge(frame_trig_report, df_blocks, on='block_number', how='left')\n",
    "report['synced_block'] = [report.frame_count_mark.values == report.trig_count_mark.values]"
   ],
   "metadata": {
    "collapsed": false,
    "ExecuteTime": {
     "end_time": "2024-04-10T08:28:02.863968Z",
     "start_time": "2024-04-10T08:28:02.820121400Z"
    }
   },
   "id": "83d3eee30e138969",
   "execution_count": 74
  },
  {
   "cell_type": "code",
   "outputs": [
    {
     "data": {
      "text/plain": "1000.0"
     },
     "execution_count": 82,
     "metadata": {},
     "output_type": "execute_result"
    }
   ],
   "source": [
    "20000 / (block.sample_rate / 1000)"
   ],
   "metadata": {
    "collapsed": false,
    "ExecuteTime": {
     "end_time": "2024-04-10T09:10:33.561516500Z",
     "start_time": "2024-04-10T09:10:33.503961700Z"
    }
   },
   "id": "1c75163c9dd0499f",
   "execution_count": 82
  },
  {
   "cell_type": "code",
   "outputs": [
    {
     "name": "stdout",
     "output_type": "stream",
     "text": [
      "handling arena files\n",
      "Arena video Names:\n",
      "back_20230430T103511.mp4\n",
      "left_20230430T103511.mp4\n",
      "right_20230430T103511.mp4\n",
      "top_20230430T103511.mp4\n",
      "PV_62, block 033, on 2023-04-30_10-34-58\n",
      "Frame count:  91174\n",
      "trigger count:  8087\n"
     ]
    }
   ],
   "source": [
    "#block = block_collection[0]\n",
    "for block in block_collection:\n",
    "        \n",
    "    block.handle_arena_files()\n",
    "    print(block)\n",
    "    df = pd.read_csv(block.block_path / rf'oe_files' / block.exp_date_time / 'events.csv')\n",
    "    channels = np.unique(df['line'].to_numpy(copy=True))\n",
    "    df_onstate = df[df['state'] == 1]\n",
    "    \n",
    "    all_triggers = pd.Series(df_onstate['sample_number'][df_onstate['line'] == 1])\n",
    "    diff_arr = np.diff(s.values) // 20\n",
    "    arena_start_stop = np.where(diff_arr > 1000)[0]\n",
    "    start_ind = arena_start_stop[0] +1\n",
    "    end_ind = arena_start_stop[-1]\n",
    "    arena_start_timestamp = s.iloc[[start_ind]]\n",
    "    arena_end_timestamp = s.iloc[end_ind]\n",
    "    trigger_count = len(s.values[start_ind:end_ind])\n",
    "    frame_count = get_frame_count(str(block.arena_videos[0]))\n",
    "    print('Frame count: ',frame_count)\n",
    "    print('trigger count: ',trigger_count)\n"
   ],
   "metadata": {
    "collapsed": false,
    "ExecuteTime": {
     "end_time": "2024-04-07T16:48:30.849192400Z",
     "start_time": "2024-04-07T16:48:30.539890500Z"
    }
   },
   "id": "74164485b5b2024b",
   "execution_count": 116
  },
  {
   "cell_type": "code",
   "outputs": [
    {
     "name": "stdout",
     "output_type": "stream",
     "text": [
      "   block number  options                                        frame count  \\\n",
      "0           026        2      [98336, 99922, 99457, 100026, 100026, 100026]   \n",
      "1           027        2                       [86195, 87582, 87691, 87843]   \n",
      "2           028        3                       [93636, 94189, 94696, 94880]   \n",
      "3           029        2                       [90347, 90752, 90947, 90941]   \n",
      "4           030        2                       [91973, 92817, 42940, 93477]   \n",
      "5           031        4         [88359, 88359, 88579, 88579, 88509, 88509]   \n",
      "6           032        2                              [84982, 84935, 84973]   \n",
      "7           033        3                       [91174, 91427, 91400, 91535]   \n",
      "8           034        2                                  [44355, 44896, 4]   \n",
      "9           035        2                              [90455, 90473, 90267]   \n",
      "10          036        2  [78142, 78142, 78129, 78129, 77818, 77818, 770...   \n",
      "11          037        2                       [62113, 62018, 61897, 62093]   \n",
      "12          038        3                   [156342, 156779, 157188, 157299]   \n",
      "13          039        3                   [214693, 215663, 215880, 215870]   \n",
      "14          040        2                   [198373, 198331, 198283, 198288]   \n",
      "15          041        3                   [113312, 113341, 113332, 113349]   \n",
      "16          043        3                       [53936, 53935, 53936, 53933]   \n",
      "17          044        2                       [59870, 59870, 59870, 59868]   \n",
      "18          047        2                   [231380, 231366, 231380, 115794]   \n",
      "19          048        3                   [213425, 213426, 213426, 213419]   \n",
      "20          049        2                   [241664, 241668, 241667, 241663]   \n",
      "21          050        2                   [222155, 222159, 222154, 222149]   \n",
      "22          051        2                   [222643, 222660, 222649, 222632]   \n",
      "23          052        2                       [65409, 65411, 65412, 65408]   \n",
      "24          053        2                    [260997, 261000, 75521, 260997]   \n",
      "25          054        2                       [74990, 74992, 74988, 74992]   \n",
      "26          055        2                   [212471, 212472, 212472, 212467]   \n",
      "27          056        2                   [129583, 129574, 129584, 129584]   \n",
      "28          057        3                   [212967, 212969, 212967, 212968]   \n",
      "29          058        2                    [253889, 253892, 75373, 253883]   \n",
      "30          059        2                   [108320, 108321, 108323, 108323]   \n",
      "31          060        2                       [46814, 46813, 46813, 46812]   \n",
      "32          063        3                   [195954, 195954, 195952, 195931]   \n",
      "33          067        3                   [127528, 127527, 127528, 127525]   \n",
      "34          068        2                   [215259, 215261, 215261, 215250]   \n",
      "35          069        2                   [271556, 271537, 271559, 271554]   \n",
      "36          070        2                   [212962, 212964, 212965, 212961]   \n",
      "37          071        3                       [55142, 55000, 55160, 54650]   \n",
      "38          072        3                       [47966, 47095, 47947, 47728]   \n",
      "39          073        2                       [67433, 67481, 67445, 67419]   \n",
      "40          074        2                       [32295, 32218, 32294, 32301]   \n",
      "\n",
      "    trigger count  trigger diff  \n",
      "0          100123           -97  \n",
      "1           88659          -816  \n",
      "2           94760           120  \n",
      "3           90975           -34  \n",
      "4           93553           -76  \n",
      "5           85889          2620  \n",
      "6           84955            18  \n",
      "7           86532          5003  \n",
      "8           89442        -89438  \n",
      "9          180568        -90301  \n",
      "10         156050        -78982  \n",
      "11         123997        -61904  \n",
      "12         149359          7940  \n",
      "13         207987          7883  \n",
      "14         198304           -16  \n",
      "15         108674          4675  \n",
      "16          47410          6523  \n",
      "17          59881           -13  \n",
      "18         231394       -115600  \n",
      "19         203032         10387  \n",
      "20         241685           -22  \n",
      "21         222188           -39  \n",
      "22         222688           -56  \n",
      "23          23032         42376  \n",
      "24         261013           -16  \n",
      "25          75033           -41  \n",
      "26         271712        -59245  \n",
      "27          14022        115562  \n",
      "28         208253          4715  \n",
      "29         253915           -32  \n",
      "30         108437          -114  \n",
      "31           8089         38723  \n",
      "32         191278          4653  \n",
      "33         122483          5042  \n",
      "34         215270           -20  \n",
      "35         271571           -17  \n",
      "36         212977           -16  \n",
      "37          52960          1690  \n",
      "38          38003          9725  \n",
      "39          67436           -17  \n",
      "40          32300             1  \n"
     ]
    }
   ],
   "source": [
    "import pandas as pd\n",
    "import numpy as np\n",
    "\n",
    "# Assuming the get_frame_count function is already defined as mentioned earlier\n",
    "\n",
    "# Initialize an empty list to store data for each block\n",
    "block_data = []\n",
    "\n",
    "for block in block_collection:\n",
    "    # block.handle_arena_files()\n",
    "    #print(block)\n",
    "    df = pd.read_csv(block.block_path / rf'oe_files' / block.exp_date_time / 'events.csv')\n",
    "    channels = np.unique(df['line'].to_numpy(copy=True))\n",
    "    df_onstate = df[df['state'] == 1]\n",
    "    \n",
    "    s = pd.Series(df_onstate['sample_number'][df_onstate['line'] == 1])\n",
    "    \n",
    "    diff_arr = np.diff(s.values) / (block.sample_rate / 1000) \n",
    "    arena_start_stop = np.where(diff_arr > 1000)[0]\n",
    "    option_count = len(arena_start_stop)\n",
    "    if option_count > 2:\n",
    "        # max_diff logic:\n",
    "        ind_max_diff = np.argmax(np.diff(arena_start_stop))\n",
    "        start_ind = arena_start_stop[ind_max_diff]\n",
    "        end_ind = arena_start_stop[ind_max_diff + 1] \n",
    "        \n",
    "    elif option_count == 2:\n",
    "        start_ind = arena_start_stop[0]\n",
    "        end_ind = arena_start_stop[-1]      \n",
    "        \n",
    "    arena_start_timestamp = s.iloc[[start_ind]]\n",
    "    arena_end_timestamp = s.iloc[end_ind]\n",
    "    trigger_count = len(s.values[start_ind:end_ind]) + 1\n",
    "    frame_count_list = []\n",
    "    for vid in block.arena_videos:\n",
    "        frame_count = get_frame_count(str(vid))\n",
    "        frame_count_list.append(frame_count)\n",
    "    \n",
    "    # Calculate the difference between frame count and trigger count\n",
    "    trigger_diff = frame_count - trigger_count\n",
    "    \n",
    "    # Append data for the current block to the list of dictionaries\n",
    "    block_data.append({\n",
    "        'block number': block.block_num,\n",
    "        'options': option_count,\n",
    "        'frame count': frame_count_list,\n",
    "        'trigger count': trigger_count,\n",
    "        'trigger diff': trigger_diff\n",
    "    })\n",
    "\n",
    "# Convert the list of dictionaries to a pandas DataFrame\n",
    "df_blocks = pd.DataFrame(block_data)\n",
    "\n",
    "# Display the DataFrame\n",
    "print(df_blocks)\n"
   ],
   "metadata": {
    "collapsed": false,
    "ExecuteTime": {
     "end_time": "2024-04-09T14:23:48.491538100Z",
     "start_time": "2024-04-09T14:23:17.392683700Z"
    }
   },
   "id": "1148c6808bfa585d",
   "execution_count": 64
  },
  {
   "cell_type": "code",
   "outputs": [
    {
     "data": {
      "text/plain": "   block number  options                                        frame count  \\\n0           026        2      [98336, 99922, 99457, 100026, 100026, 100026]   \n1           027        2                       [86195, 87582, 87691, 87843]   \n2           028        3                       [93636, 94189, 94696, 94880]   \n3           029        2                       [90347, 90752, 90947, 90941]   \n4           030        2                       [91973, 92817, 42940, 93477]   \n5           031        4         [88359, 88359, 88579, 88579, 88509, 88509]   \n6           032        2                              [84982, 84935, 84973]   \n7           033        3                       [91174, 91427, 91400, 91535]   \n8           034        2                                  [44355, 44896, 4]   \n9           035        2                              [90455, 90473, 90267]   \n10          036        2  [78142, 78142, 78129, 78129, 77818, 77818, 770...   \n11          037        2                       [62113, 62018, 61897, 62093]   \n12          038        3                   [156342, 156779, 157188, 157299]   \n13          039        3                   [214693, 215663, 215880, 215870]   \n14          040        2                   [198373, 198331, 198283, 198288]   \n15          041        3                   [113312, 113341, 113332, 113349]   \n16          043        3                       [53936, 53935, 53936, 53933]   \n17          044        2                       [59870, 59870, 59870, 59868]   \n18          047        2                   [231380, 231366, 231380, 115794]   \n19          048        3                   [213425, 213426, 213426, 213419]   \n20          049        2                   [241664, 241668, 241667, 241663]   \n21          050        2                   [222155, 222159, 222154, 222149]   \n22          051        2                   [222643, 222660, 222649, 222632]   \n23          052        2                       [65409, 65411, 65412, 65408]   \n24          053        2                    [260997, 261000, 75521, 260997]   \n25          054        2                       [74990, 74992, 74988, 74992]   \n26          055        2                   [212471, 212472, 212472, 212467]   \n27          056        2                   [129583, 129574, 129584, 129584]   \n28          057        3                   [212967, 212969, 212967, 212968]   \n29          058        2                    [253889, 253892, 75373, 253883]   \n30          059        2                   [108320, 108321, 108323, 108323]   \n31          060        2                       [46814, 46813, 46813, 46812]   \n32          063        3                   [195954, 195954, 195952, 195931]   \n33          067        3                   [127528, 127527, 127528, 127525]   \n34          068        2                   [215259, 215261, 215261, 215250]   \n35          069        2                   [271556, 271537, 271559, 271554]   \n36          070        2                   [212962, 212964, 212965, 212961]   \n37          071        3                       [55142, 55000, 55160, 54650]   \n38          072        3                       [47966, 47095, 47947, 47728]   \n39          073        2                       [67433, 67481, 67445, 67419]   \n40          074        2                       [32295, 32218, 32294, 32301]   \n\n    trigger count  trigger diff  \n0          100123           -97  \n1           88659          -816  \n2           94760           120  \n3           90975           -34  \n4           93553           -76  \n5           85889          2620  \n6           84955            18  \n7           86532          5003  \n8           89442        -89438  \n9          180568        -90301  \n10         156050        -78982  \n11         123997        -61904  \n12         149359          7940  \n13         207987          7883  \n14         198304           -16  \n15         108674          4675  \n16          47410          6523  \n17          59881           -13  \n18         231394       -115600  \n19         203032         10387  \n20         241685           -22  \n21         222188           -39  \n22         222688           -56  \n23          23032         42376  \n24         261013           -16  \n25          75033           -41  \n26         271712        -59245  \n27          14022        115562  \n28         208253          4715  \n29         253915           -32  \n30         108437          -114  \n31           8089         38723  \n32         191278          4653  \n33         122483          5042  \n34         215270           -20  \n35         271571           -17  \n36         212977           -16  \n37          52960          1690  \n38          38003          9725  \n39          67436           -17  \n40          32300             1  ",
      "text/html": "<div>\n<style scoped>\n    .dataframe tbody tr th:only-of-type {\n        vertical-align: middle;\n    }\n\n    .dataframe tbody tr th {\n        vertical-align: top;\n    }\n\n    .dataframe thead th {\n        text-align: right;\n    }\n</style>\n<table border=\"1\" class=\"dataframe\">\n  <thead>\n    <tr style=\"text-align: right;\">\n      <th></th>\n      <th>block number</th>\n      <th>options</th>\n      <th>frame count</th>\n      <th>trigger count</th>\n      <th>trigger diff</th>\n    </tr>\n  </thead>\n  <tbody>\n    <tr>\n      <th>0</th>\n      <td>026</td>\n      <td>2</td>\n      <td>[98336, 99922, 99457, 100026, 100026, 100026]</td>\n      <td>100123</td>\n      <td>-97</td>\n    </tr>\n    <tr>\n      <th>1</th>\n      <td>027</td>\n      <td>2</td>\n      <td>[86195, 87582, 87691, 87843]</td>\n      <td>88659</td>\n      <td>-816</td>\n    </tr>\n    <tr>\n      <th>2</th>\n      <td>028</td>\n      <td>3</td>\n      <td>[93636, 94189, 94696, 94880]</td>\n      <td>94760</td>\n      <td>120</td>\n    </tr>\n    <tr>\n      <th>3</th>\n      <td>029</td>\n      <td>2</td>\n      <td>[90347, 90752, 90947, 90941]</td>\n      <td>90975</td>\n      <td>-34</td>\n    </tr>\n    <tr>\n      <th>4</th>\n      <td>030</td>\n      <td>2</td>\n      <td>[91973, 92817, 42940, 93477]</td>\n      <td>93553</td>\n      <td>-76</td>\n    </tr>\n    <tr>\n      <th>5</th>\n      <td>031</td>\n      <td>4</td>\n      <td>[88359, 88359, 88579, 88579, 88509, 88509]</td>\n      <td>85889</td>\n      <td>2620</td>\n    </tr>\n    <tr>\n      <th>6</th>\n      <td>032</td>\n      <td>2</td>\n      <td>[84982, 84935, 84973]</td>\n      <td>84955</td>\n      <td>18</td>\n    </tr>\n    <tr>\n      <th>7</th>\n      <td>033</td>\n      <td>3</td>\n      <td>[91174, 91427, 91400, 91535]</td>\n      <td>86532</td>\n      <td>5003</td>\n    </tr>\n    <tr>\n      <th>8</th>\n      <td>034</td>\n      <td>2</td>\n      <td>[44355, 44896, 4]</td>\n      <td>89442</td>\n      <td>-89438</td>\n    </tr>\n    <tr>\n      <th>9</th>\n      <td>035</td>\n      <td>2</td>\n      <td>[90455, 90473, 90267]</td>\n      <td>180568</td>\n      <td>-90301</td>\n    </tr>\n    <tr>\n      <th>10</th>\n      <td>036</td>\n      <td>2</td>\n      <td>[78142, 78142, 78129, 78129, 77818, 77818, 770...</td>\n      <td>156050</td>\n      <td>-78982</td>\n    </tr>\n    <tr>\n      <th>11</th>\n      <td>037</td>\n      <td>2</td>\n      <td>[62113, 62018, 61897, 62093]</td>\n      <td>123997</td>\n      <td>-61904</td>\n    </tr>\n    <tr>\n      <th>12</th>\n      <td>038</td>\n      <td>3</td>\n      <td>[156342, 156779, 157188, 157299]</td>\n      <td>149359</td>\n      <td>7940</td>\n    </tr>\n    <tr>\n      <th>13</th>\n      <td>039</td>\n      <td>3</td>\n      <td>[214693, 215663, 215880, 215870]</td>\n      <td>207987</td>\n      <td>7883</td>\n    </tr>\n    <tr>\n      <th>14</th>\n      <td>040</td>\n      <td>2</td>\n      <td>[198373, 198331, 198283, 198288]</td>\n      <td>198304</td>\n      <td>-16</td>\n    </tr>\n    <tr>\n      <th>15</th>\n      <td>041</td>\n      <td>3</td>\n      <td>[113312, 113341, 113332, 113349]</td>\n      <td>108674</td>\n      <td>4675</td>\n    </tr>\n    <tr>\n      <th>16</th>\n      <td>043</td>\n      <td>3</td>\n      <td>[53936, 53935, 53936, 53933]</td>\n      <td>47410</td>\n      <td>6523</td>\n    </tr>\n    <tr>\n      <th>17</th>\n      <td>044</td>\n      <td>2</td>\n      <td>[59870, 59870, 59870, 59868]</td>\n      <td>59881</td>\n      <td>-13</td>\n    </tr>\n    <tr>\n      <th>18</th>\n      <td>047</td>\n      <td>2</td>\n      <td>[231380, 231366, 231380, 115794]</td>\n      <td>231394</td>\n      <td>-115600</td>\n    </tr>\n    <tr>\n      <th>19</th>\n      <td>048</td>\n      <td>3</td>\n      <td>[213425, 213426, 213426, 213419]</td>\n      <td>203032</td>\n      <td>10387</td>\n    </tr>\n    <tr>\n      <th>20</th>\n      <td>049</td>\n      <td>2</td>\n      <td>[241664, 241668, 241667, 241663]</td>\n      <td>241685</td>\n      <td>-22</td>\n    </tr>\n    <tr>\n      <th>21</th>\n      <td>050</td>\n      <td>2</td>\n      <td>[222155, 222159, 222154, 222149]</td>\n      <td>222188</td>\n      <td>-39</td>\n    </tr>\n    <tr>\n      <th>22</th>\n      <td>051</td>\n      <td>2</td>\n      <td>[222643, 222660, 222649, 222632]</td>\n      <td>222688</td>\n      <td>-56</td>\n    </tr>\n    <tr>\n      <th>23</th>\n      <td>052</td>\n      <td>2</td>\n      <td>[65409, 65411, 65412, 65408]</td>\n      <td>23032</td>\n      <td>42376</td>\n    </tr>\n    <tr>\n      <th>24</th>\n      <td>053</td>\n      <td>2</td>\n      <td>[260997, 261000, 75521, 260997]</td>\n      <td>261013</td>\n      <td>-16</td>\n    </tr>\n    <tr>\n      <th>25</th>\n      <td>054</td>\n      <td>2</td>\n      <td>[74990, 74992, 74988, 74992]</td>\n      <td>75033</td>\n      <td>-41</td>\n    </tr>\n    <tr>\n      <th>26</th>\n      <td>055</td>\n      <td>2</td>\n      <td>[212471, 212472, 212472, 212467]</td>\n      <td>271712</td>\n      <td>-59245</td>\n    </tr>\n    <tr>\n      <th>27</th>\n      <td>056</td>\n      <td>2</td>\n      <td>[129583, 129574, 129584, 129584]</td>\n      <td>14022</td>\n      <td>115562</td>\n    </tr>\n    <tr>\n      <th>28</th>\n      <td>057</td>\n      <td>3</td>\n      <td>[212967, 212969, 212967, 212968]</td>\n      <td>208253</td>\n      <td>4715</td>\n    </tr>\n    <tr>\n      <th>29</th>\n      <td>058</td>\n      <td>2</td>\n      <td>[253889, 253892, 75373, 253883]</td>\n      <td>253915</td>\n      <td>-32</td>\n    </tr>\n    <tr>\n      <th>30</th>\n      <td>059</td>\n      <td>2</td>\n      <td>[108320, 108321, 108323, 108323]</td>\n      <td>108437</td>\n      <td>-114</td>\n    </tr>\n    <tr>\n      <th>31</th>\n      <td>060</td>\n      <td>2</td>\n      <td>[46814, 46813, 46813, 46812]</td>\n      <td>8089</td>\n      <td>38723</td>\n    </tr>\n    <tr>\n      <th>32</th>\n      <td>063</td>\n      <td>3</td>\n      <td>[195954, 195954, 195952, 195931]</td>\n      <td>191278</td>\n      <td>4653</td>\n    </tr>\n    <tr>\n      <th>33</th>\n      <td>067</td>\n      <td>3</td>\n      <td>[127528, 127527, 127528, 127525]</td>\n      <td>122483</td>\n      <td>5042</td>\n    </tr>\n    <tr>\n      <th>34</th>\n      <td>068</td>\n      <td>2</td>\n      <td>[215259, 215261, 215261, 215250]</td>\n      <td>215270</td>\n      <td>-20</td>\n    </tr>\n    <tr>\n      <th>35</th>\n      <td>069</td>\n      <td>2</td>\n      <td>[271556, 271537, 271559, 271554]</td>\n      <td>271571</td>\n      <td>-17</td>\n    </tr>\n    <tr>\n      <th>36</th>\n      <td>070</td>\n      <td>2</td>\n      <td>[212962, 212964, 212965, 212961]</td>\n      <td>212977</td>\n      <td>-16</td>\n    </tr>\n    <tr>\n      <th>37</th>\n      <td>071</td>\n      <td>3</td>\n      <td>[55142, 55000, 55160, 54650]</td>\n      <td>52960</td>\n      <td>1690</td>\n    </tr>\n    <tr>\n      <th>38</th>\n      <td>072</td>\n      <td>3</td>\n      <td>[47966, 47095, 47947, 47728]</td>\n      <td>38003</td>\n      <td>9725</td>\n    </tr>\n    <tr>\n      <th>39</th>\n      <td>073</td>\n      <td>2</td>\n      <td>[67433, 67481, 67445, 67419]</td>\n      <td>67436</td>\n      <td>-17</td>\n    </tr>\n    <tr>\n      <th>40</th>\n      <td>074</td>\n      <td>2</td>\n      <td>[32295, 32218, 32294, 32301]</td>\n      <td>32300</td>\n      <td>1</td>\n    </tr>\n  </tbody>\n</table>\n</div>"
     },
     "execution_count": 65,
     "metadata": {},
     "output_type": "execute_result"
    }
   ],
   "source": [
    "df_blocks\n"
   ],
   "metadata": {
    "collapsed": false,
    "ExecuteTime": {
     "end_time": "2024-04-09T14:27:47.381199500Z",
     "start_time": "2024-04-09T14:27:47.334200500Z"
    }
   },
   "id": "4131dd6b311154e5",
   "execution_count": 65
  },
  {
   "cell_type": "markdown",
   "source": [
    "# Automated steps"
   ],
   "metadata": {
    "collapsed": false
   },
   "id": "3989511c8aaab26b"
  },
  {
   "cell_type": "code",
   "outputs": [
    {
     "name": "stdout",
     "output_type": "stream",
     "text": [
      "handling arena files\n",
      "Arena video Names:\n",
      "back_20230427T122154.mp4\n",
      "left_20230427T122154.mp4\n",
      "right_20230427T122154.mp4\n",
      "top_20230427T122154.mp4\n",
      "top_annotated.mp4\n",
      "top_annotated2.mp4\n",
      "running parse_open_ephys_events...\n",
      "block 026 has a parsed events file, reading...\n",
      "getting eye brigtness values for block 026...\n",
      "found a file!\n",
      "blocksync_df loaded from analysis folder\n",
      "eye_brightness_df loaded from analysis folder\n",
      "handling arena files\n",
      "no arena timestamps folder found\n",
      "Arena video Names:\n",
      "back_20230427T125343.mp4\n",
      "left_20230427T125343.mp4\n",
      "right_20230427T125343.mp4\n",
      "top_20230427T125343.mp4\n",
      "running parse_open_ephys_events...\n",
      "block 027 has a parsed events file, reading...\n",
      "getting eye brigtness values for block 027...\n",
      "found a file!\n",
      "blocksync_df loaded from analysis folder\n",
      "eye_brightness_df loaded from analysis folder\n",
      "handling arena files\n",
      "no arena timestamps folder found\n",
      "Arena video Names:\n",
      "back_20230427T134802.mp4\n",
      "left_20230427T134802.mp4\n",
      "right_20230427T134802.mp4\n",
      "top_20230427T134802.mp4\n",
      "running parse_open_ephys_events...\n",
      "block 028 has a parsed events file, reading...\n",
      "getting eye brigtness values for block 028...\n",
      "found a file!\n",
      "blocksync_df loaded from analysis folder\n",
      "eye_brightness_df loaded from analysis folder\n",
      "handling arena files\n",
      "no arena timestamps folder found\n",
      "Arena video Names:\n",
      "back_20230427T141803.mp4\n",
      "left_20230427T141803.mp4\n",
      "right_20230427T141803.mp4\n",
      "top_20230427T141803.mp4\n",
      "running parse_open_ephys_events...\n",
      "block 029 has a parsed events file, reading...\n",
      "getting eye brigtness values for block 029...\n",
      "found a file!\n",
      "blocksync_df loaded from analysis folder\n",
      "eye_brightness_df loaded from analysis folder\n",
      "handling arena files\n",
      "no arena timestamps folder found\n",
      "Arena video Names:\n",
      "back_20230427T144559.mp4\n",
      "left_20230427T144559.mp4\n",
      "right_20230427T144559.mp4\n",
      "top_20230427T144559.mp4\n",
      "running parse_open_ephys_events...\n",
      "block 030 has a parsed events file, reading...\n",
      "getting eye brigtness values for block 030...\n",
      "found a file!\n",
      "blocksync_df loaded from analysis folder\n",
      "eye_brightness_df loaded from analysis folder\n",
      "handling arena files\n",
      "Arena video Names:\n",
      "left_20230427T151755.mp4\n",
      "left_20230427T151755DLC_resnet50_try1May10shuffle1_1030000_labeled.mp4\n",
      "right_20230427T151755.mp4\n",
      "right_20230427T151755DLC_resnet50_try1May10shuffle1_1030000_labeled.mp4\n",
      "top_20230427T151755.mp4\n",
      "top_20230427T151755DLC_resnet50_try1May10shuffle1_1030000_labeled.mp4\n",
      "running parse_open_ephys_events...\n",
      "block 031 has a parsed events file, reading...\n",
      "getting eye brigtness values for block 031...\n",
      "found a file!\n",
      "blocksync_df loaded from analysis folder\n",
      "eye_brightness_df loaded from analysis folder\n",
      "handling arena files\n",
      "no arena timestamps folder found\n",
      "Arena video Names:\n",
      "back_20230427T155205.mp4\n",
      "left_20230427T155205.mp4\n",
      "right_20230427T155205.mp4\n",
      "running parse_open_ephys_events...\n",
      "block 032 has a parsed events file, reading...\n",
      "getting eye brigtness values for block 032...\n",
      "found a file!\n",
      "blocksync_df loaded from analysis folder\n",
      "eye_brightness_df loaded from analysis folder\n",
      "handling arena files\n",
      "Arena video Names:\n",
      "back_20230430T103511.mp4\n",
      "left_20230430T103511.mp4\n",
      "right_20230430T103511.mp4\n",
      "top_20230430T103511.mp4\n",
      "running parse_open_ephys_events...\n",
      "block 033 has a parsed events file, reading...\n",
      "getting eye brigtness values for block 033...\n",
      "found a file!\n",
      "blocksync_df loaded from analysis folder\n",
      "eye_brightness_df loaded from analysis folder\n",
      "handling arena files\n",
      "no arena timestamps folder found\n",
      "Arena video Names:\n",
      "back_20230430T111734.mp4\n",
      "right_20230430T111734.mp4\n",
      "top_20230430T111734.mp4\n",
      "running parse_open_ephys_events...\n",
      "block 034 has a parsed events file, reading...\n",
      "getting eye brigtness values for block 034...\n",
      "found a file!\n",
      "blocksync_df loaded from analysis folder\n",
      "eye_brightness_df loaded from analysis folder\n",
      "handling arena files\n",
      "Arena video Names:\n",
      "back_20230430T114517.mp4\n",
      "right_20230430T114517.mp4\n",
      "top_20230430T114517.mp4\n",
      "running parse_open_ephys_events...\n",
      "block 035 has a parsed events file, reading...\n",
      "getting eye brigtness values for block 035...\n",
      "found a file!\n",
      "blocksync_df loaded from analysis folder\n",
      "eye_brightness_df loaded from analysis folder\n",
      "handling arena files\n",
      "Arena video Names:\n",
      "back_20230430T123839.mp4\n",
      "back_20230430T123839DLC_resnet50_try1May10shuffle1_1030000_labeled.mp4\n",
      "left_20230430T123839.mp4\n",
      "left_20230430T123839DLC_resnet50_try1May10shuffle1_1030000_labeled.mp4\n",
      "right_20230430T123839.mp4\n",
      "right_20230430T123839DLC_resnet50_try1May10shuffle1_1030000_labeled.mp4\n",
      "top_20230430T123839.mp4\n",
      "top_20230430T123839DLC_resnet50_try1May10shuffle1_1030000_labeled.mp4\n",
      "running parse_open_ephys_events...\n",
      "block 036 has a parsed events file, reading...\n",
      "getting eye brigtness values for block 036...\n",
      "found a file!\n",
      "blocksync_df loaded from analysis folder\n",
      "eye_brightness_df loaded from analysis folder\n",
      "handling arena files\n",
      "Arena video Names:\n",
      "back_20230430T132507.mp4\n",
      "left_20230430T132507.mp4\n",
      "right_20230430T132507.mp4\n",
      "top_20230430T132507.mp4\n",
      "running parse_open_ephys_events...\n",
      "block 037 has a parsed events file, reading...\n",
      "getting eye brigtness values for block 037...\n",
      "found a file!\n",
      "blocksync_df loaded from analysis folder\n",
      "eye_brightness_df loaded from analysis folder\n",
      "handling arena files\n",
      "no arena timestamps folder found\n",
      "Arena video Names:\n",
      "back_20230501T135811.mp4\n",
      "left_20230501T135811.mp4\n",
      "right_20230501T135811.mp4\n",
      "top_20230501T135811.mp4\n",
      "running parse_open_ephys_events...\n",
      "block 038 has a parsed events file, reading...\n",
      "getting eye brigtness values for block 038...\n",
      "found a file!\n",
      "blocksync_df loaded from analysis folder\n",
      "eye_brightness_df loaded from analysis folder\n",
      "handling arena files\n",
      "no arena timestamps folder found\n",
      "Arena video Names:\n",
      "back_20230501T144448.mp4\n",
      "left_20230501T144448.mp4\n",
      "right_20230501T144448.mp4\n",
      "top_20230501T144448.mp4\n",
      "running parse_open_ephys_events...\n",
      "block 039 has a parsed events file, reading...\n",
      "getting eye brigtness values for block 039...\n",
      "found a file!\n",
      "blocksync_df loaded from analysis folder\n",
      "eye_brightness_df loaded from analysis folder\n",
      "handling arena files\n",
      "no arena timestamps folder found\n",
      "Arena video Names:\n",
      "back_20230501T154949.mp4\n",
      "left_20230501T154949.mp4\n",
      "right_20230501T154949.mp4\n",
      "top_20230501T154949.mp4\n",
      "running parse_open_ephys_events...\n",
      "block 040 has a parsed events file, reading...\n",
      "getting eye brigtness values for block 040...\n",
      "found a file!\n",
      "blocksync_df loaded from analysis folder\n",
      "eye_brightness_df loaded from analysis folder\n",
      "handling arena files\n",
      "no arena timestamps folder found\n",
      "Arena video Names:\n",
      "back_20230501T165910.mp4\n",
      "left_20230501T165910.mp4\n",
      "right_20230501T165910.mp4\n",
      "top_20230501T165910.mp4\n",
      "running parse_open_ephys_events...\n",
      "block 041 has a parsed events file, reading...\n",
      "getting eye brigtness values for block 041...\n",
      "found a file!\n",
      "blocksync_df loaded from analysis folder\n",
      "eye_brightness_df loaded from analysis folder\n",
      "handling arena files\n",
      "Arena video Names:\n",
      "back_20230502T134223.mp4\n",
      "left_20230502T134223.mp4\n",
      "right_20230502T134223.mp4\n",
      "top_20230502T134223.mp4\n",
      "running parse_open_ephys_events...\n",
      "block 043 has a parsed events file, reading...\n",
      "getting eye brigtness values for block 043...\n",
      "found a file!\n",
      "blocksync_df loaded from analysis folder\n",
      "eye_brightness_df loaded from analysis folder\n",
      "there is no manual sync file for block 043, manually sync the block\n",
      "handling arena files\n",
      "Arena video Names:\n",
      "back_20230502T135847.mp4\n",
      "left_20230502T135847.mp4\n",
      "right_20230502T135847.mp4\n",
      "top_20230502T135847.mp4\n",
      "running parse_open_ephys_events...\n",
      "block 044 has a parsed events file, reading...\n",
      "getting eye brigtness values for block 044...\n",
      "found a file!\n",
      "blocksync_df loaded from analysis folder\n",
      "eye_brightness_df loaded from analysis folder\n",
      "handling arena files\n",
      "Arena video Names:\n",
      "back_20230503T150411.mp4\n",
      "left_20230503T150411.mp4\n",
      "right_20230503T150411.mp4\n",
      "top_20230503T150411.mp4\n",
      "running parse_open_ephys_events...\n",
      "block 047 has a parsed events file, reading...\n",
      "getting eye brigtness values for block 047...\n",
      "found a file!\n",
      "blocksync_df loaded from analysis folder\n",
      "creating Z:\\Nimrod\\experiments\\PV_62\\2023_05_03\\block_047\\analysis/eye_brightness_df.csv\n",
      "there is no manual sync file for block 047, manually sync the block\n",
      "handling arena files\n",
      "Arena video Names:\n",
      "back_20230504T121147.mp4\n",
      "left_20230504T121147.mp4\n",
      "right_20230504T121147.mp4\n",
      "top_20230504T121147.mp4\n",
      "running parse_open_ephys_events...\n",
      "block 048 has a parsed events file, reading...\n",
      "getting eye brigtness values for block 048...\n",
      "found a file!\n",
      "blocksync_df loaded from analysis folder\n",
      "creating Z:\\Nimrod\\experiments\\PV_62\\2023_05_04\\block_048\\analysis/eye_brightness_df.csv\n",
      "there is no manual sync file for block 048, manually sync the block\n",
      "handling arena files\n",
      "Arena video Names:\n",
      "back_20230504T131406.mp4\n",
      "left_20230504T131406.mp4\n",
      "right_20230504T131406.mp4\n",
      "top_20230504T131406.mp4\n",
      "running parse_open_ephys_events...\n",
      "block 049 has a parsed events file, reading...\n",
      "getting eye brigtness values for block 049...\n",
      "found a file!\n",
      "blocksync_df loaded from analysis folder\n",
      "creating Z:\\Nimrod\\experiments\\PV_62\\2023_05_04\\block_049\\analysis/eye_brightness_df.csv\n",
      "there is no manual sync file for block 049, manually sync the block\n",
      "handling arena files\n",
      "Arena video Names:\n",
      "back_20230504T142357.mp4\n",
      "left_20230504T142357.mp4\n",
      "right_20230504T142357.mp4\n",
      "top_20230504T142357.mp4\n",
      "running parse_open_ephys_events...\n",
      "block 050 has a parsed events file, reading...\n",
      "getting eye brigtness values for block 050...\n",
      "found a file!\n",
      "blocksync_df loaded from analysis folder\n",
      "creating Z:\\Nimrod\\experiments\\PV_62\\2023_05_04\\block_050\\analysis/eye_brightness_df.csv\n",
      "there is no manual sync file for block 050, manually sync the block\n",
      "handling arena files\n",
      "Arena video Names:\n",
      "back_20230504T152903.mp4\n",
      "left_20230504T152903.mp4\n",
      "right_20230504T152903.mp4\n",
      "top_20230504T152903.mp4\n",
      "running parse_open_ephys_events...\n",
      "block 051 has a parsed events file, reading...\n",
      "getting eye brigtness values for block 051...\n",
      "found a file!\n",
      "blocksync_df loaded from analysis folder\n",
      "creating Z:\\Nimrod\\experiments\\PV_62\\2023_05_04\\block_051\\analysis/eye_brightness_df.csv\n",
      "there is no manual sync file for block 051, manually sync the block\n",
      "handling arena files\n",
      "Arena video Names:\n",
      "back_20230507T120453.mp4\n",
      "left_20230507T120453.mp4\n",
      "right_20230507T120453.mp4\n",
      "top_20230507T120453.mp4\n",
      "running parse_open_ephys_events...\n",
      "block 052 has a parsed events file, reading...\n",
      "getting eye brigtness values for block 052...\n",
      "found a file!\n",
      "blocksync_df loaded from analysis folder\n",
      "eye_brightness_df loaded from analysis folder\n",
      "handling arena files\n",
      "Arena video Names:\n",
      "back_20230507T122448.mp4\n",
      "left_20230507T122448.mp4\n",
      "right_20230507T122448.mp4\n",
      "top_20230507T122448.mp4\n",
      "running parse_open_ephys_events...\n",
      "block 053 has a parsed events file, reading...\n",
      "getting eye brigtness values for block 053...\n",
      "found a file!\n",
      "blocksync_df loaded from analysis folder\n",
      "eye_brightness_df loaded from analysis folder\n",
      "handling arena files\n",
      "Arena video Names:\n",
      "back_20230507T133929.mp4\n",
      "left_20230507T133929.mp4\n",
      "right_20230507T133929.mp4\n",
      "top_20230507T133929.mp4\n",
      "running parse_open_ephys_events...\n",
      "block 054 has a parsed events file, reading...\n",
      "getting eye brigtness values for block 054...\n",
      "found a file!\n",
      "blocksync_df loaded from analysis folder\n",
      "eye_brightness_df loaded from analysis folder\n",
      "handling arena files\n",
      "Arena video Names:\n",
      "back_20230507T152359.mp4\n",
      "left_20230507T152358.mp4\n",
      "right_20230507T152359.mp4\n",
      "top_20230507T152359.mp4\n",
      "running parse_open_ephys_events...\n",
      "block 055 has a parsed events file, reading...\n",
      "getting eye brigtness values for block 055...\n",
      "found a file!\n",
      "blocksync_df loaded from analysis folder\n",
      "creating Z:\\Nimrod\\experiments\\PV_62\\2023_05_07\\block_055\\analysis/eye_brightness_df.csv\n",
      "there is no manual sync file for block 055, manually sync the block\n",
      "handling arena files\n",
      "Arena video Names:\n",
      "back_20230508T114036.mp4\n",
      "left_20230508T114036.mp4\n",
      "right_20230508T114036.mp4\n",
      "top_20230508T114036.mp4\n",
      "running parse_open_ephys_events...\n",
      "block 056 has a parsed events file, reading...\n",
      "getting eye brigtness values for block 056...\n",
      "found a file!\n",
      "blocksync_df loaded from analysis folder\n",
      "creating Z:\\Nimrod\\experiments\\PV_62\\2023_05_08\\block_056\\analysis/eye_brightness_df.csv\n",
      "there is no manual sync file for block 056, manually sync the block\n",
      "handling arena files\n",
      "Arena video Names:\n",
      "back_20230508T121813.mp4\n",
      "left_20230508T121813.mp4\n",
      "right_20230508T121813.mp4\n",
      "top_20230508T121813.mp4\n",
      "running parse_open_ephys_events...\n",
      "block 057 has a parsed events file, reading...\n",
      "getting eye brigtness values for block 057...\n",
      "found a file!\n",
      "blocksync_df loaded from analysis folder\n",
      "creating Z:\\Nimrod\\experiments\\PV_62\\2023_05_08\\block_057\\analysis/eye_brightness_df.csv\n",
      "there is no manual sync file for block 057, manually sync the block\n",
      "handling arena files\n",
      "Arena video Names:\n",
      "back_20230508T131915.mp4\n",
      "left_20230508T131915.mp4\n",
      "right_20230508T131915.mp4\n",
      "top_20230508T131915.mp4\n",
      "running parse_open_ephys_events...\n",
      "block 058 has a parsed events file, reading...\n",
      "getting eye brigtness values for block 058...\n",
      "found a file!\n",
      "blocksync_df loaded from analysis folder\n",
      "creating Z:\\Nimrod\\experiments\\PV_62\\2023_05_08\\block_058\\analysis/eye_brightness_df.csv\n",
      "there is no manual sync file for block 058, manually sync the block\n",
      "handling arena files\n",
      "Arena video Names:\n",
      "back_20230508T143202.mp4\n",
      "left_20230508T143202.mp4\n",
      "right_20230508T143202.mp4\n",
      "top_20230508T143202.mp4\n",
      "running parse_open_ephys_events...\n",
      "block 059 has a parsed events file, reading...\n",
      "getting eye brigtness values for block 059...\n",
      "found a file!\n",
      "blocksync_df loaded from analysis folder\n",
      "creating Z:\\Nimrod\\experiments\\PV_62\\2023_05_08\\block_059\\analysis/eye_brightness_df.csv\n",
      "there is no manual sync file for block 059, manually sync the block\n",
      "handling arena files\n",
      "Arena video Names:\n",
      "back_20230509T113332.mp4\n",
      "left_20230509T113332.mp4\n",
      "right_20230509T113332.mp4\n",
      "top_20230509T113332.mp4\n",
      "running parse_open_ephys_events...\n",
      "block 060 has a parsed events file, reading...\n",
      "getting eye brigtness values for block 060...\n",
      "found a file!\n",
      "blocksync_df loaded from analysis folder\n",
      "eye_brightness_df loaded from analysis folder\n",
      "handling arena files\n",
      "Arena video Names:\n",
      "back_20230509T140145.mp4\n",
      "left_20230509T140145.mp4\n",
      "right_20230509T140145.mp4\n",
      "top_20230509T140145.mp4\n",
      "running parse_open_ephys_events...\n",
      "block 063 has a parsed events file, reading...\n",
      "getting eye brigtness values for block 063...\n",
      "found a file!\n",
      "blocksync_df loaded from analysis folder\n",
      "eye_brightness_df loaded from analysis folder\n",
      "handling arena files\n",
      "Arena video Names:\n",
      "back_20230518T112715.mp4\n",
      "left_20230518T112715.mp4\n",
      "right_20230518T112715.mp4\n",
      "top_20230518T112715.mp4\n",
      "running parse_open_ephys_events...\n",
      "block 067 has a parsed events file, reading...\n",
      "getting eye brigtness values for block 067...\n",
      "found a file!\n",
      "blocksync_df loaded from analysis folder\n",
      "eye_brightness_df loaded from analysis folder\n",
      "handling arena files\n",
      "Arena video Names:\n",
      "back_20230518T120622.mp4\n",
      "left_20230518T120622.mp4\n",
      "right_20230518T120622.mp4\n",
      "top_20230518T120622.mp4\n",
      "running parse_open_ephys_events...\n",
      "block 068 has a parsed events file, reading...\n",
      "getting eye brigtness values for block 068...\n",
      "found a file!\n",
      "blocksync_df loaded from analysis folder\n",
      "eye_brightness_df loaded from analysis folder\n",
      "handling arena files\n",
      "Arena video Names:\n",
      "back_20230518T130844.mp4\n",
      "left_20230518T130844.mp4\n",
      "right_20230518T130844.mp4\n",
      "top_20230518T130844.mp4\n",
      "running parse_open_ephys_events...\n",
      "block 069 has a parsed events file, reading...\n",
      "getting eye brigtness values for block 069...\n",
      "found a file!\n",
      "blocksync_df loaded from analysis folder\n",
      "eye_brightness_df loaded from analysis folder\n",
      "handling arena files\n",
      "Arena video Names:\n",
      "back_20230518T142626.mp4\n",
      "left_20230518T142626.mp4\n",
      "right_20230518T142626.mp4\n",
      "top_20230518T142626.mp4\n",
      "running parse_open_ephys_events...\n",
      "block 070 has a parsed events file, reading...\n",
      "getting eye brigtness values for block 070...\n",
      "found a file!\n",
      "blocksync_df loaded from analysis folder\n",
      "eye_brightness_df loaded from analysis folder\n",
      "handling arena files\n",
      "Arena video Names:\n",
      "back_20230619T144718.mp4\n",
      "left_20230619T144718.mp4\n",
      "right_20230619T144718.mp4\n",
      "top_20230619T144718.mp4\n",
      "running parse_open_ephys_events...\n",
      "block 071 has a parsed events file, reading...\n",
      "getting eye brigtness values for block 071...\n",
      "found a file!\n",
      "blocksync_df loaded from analysis folder\n",
      "eye_brightness_df loaded from analysis folder\n",
      "handling arena files\n",
      "no arena timestamps folder found\n",
      "Arena video Names:\n",
      "back_20230621T143120.mp4\n",
      "left_20230621T143120.mp4\n",
      "right_20230621T143120.mp4\n",
      "top_20230621T143120.mp4\n",
      "running parse_open_ephys_events...\n",
      "block 072 has a parsed events file, reading...\n",
      "getting eye brigtness values for block 072...\n",
      "found a file!\n",
      "blocksync_df loaded from analysis folder\n",
      "eye_brightness_df loaded from analysis folder\n",
      "handling arena files\n",
      "no arena timestamps folder found\n",
      "Arena video Names:\n",
      "back_20230621T144553.mp4\n",
      "left_20230621T144553.mp4\n",
      "right_20230621T144553.mp4\n",
      "top_20230621T144553.mp4\n",
      "running parse_open_ephys_events...\n",
      "block 073 has a parsed events file, reading...\n",
      "getting eye brigtness values for block 073...\n",
      "found a file!\n",
      "blocksync_df loaded from analysis folder\n",
      "eye_brightness_df loaded from analysis folder\n",
      "handling arena files\n",
      "no arena timestamps folder found\n",
      "Arena video Names:\n",
      "back_20230621T150602.mp4\n",
      "left_20230621T150602.mp4\n",
      "right_20230621T150602.mp4\n",
      "top_20230621T150602.mp4\n",
      "running parse_open_ephys_events...\n",
      "block 074 has a parsed events file, reading...\n",
      "getting eye brigtness values for block 074...\n",
      "found a file!\n",
      "blocksync_df loaded from analysis folder\n",
      "eye_brightness_df loaded from analysis folder\n"
     ]
    }
   ],
   "source": [
    "# This step is used to quickly go over the analyzed blocks and load their internal data\n",
    "for block in block_collection:\n",
    "    block.handle_arena_files()\n",
    "    block.parse_open_ephys_events()\n",
    "    block.get_eye_brightness_vectors()\n",
    "    block.synchronize_block()\n",
    "    block.create_eye_brightness_df(threshold_value=20)\n",
    "    \n",
    "    # if the code fails here, go to manual synchronization\n",
    "    block.import_manual_sync_df()  \n",
    "\n",
    "    \n",
    "    "
   ],
   "metadata": {
    "collapsed": false,
    "ExecuteTime": {
     "end_time": "2024-04-08T12:51:38.444421400Z",
     "start_time": "2024-04-08T12:50:26.453513600Z"
    }
   },
   "id": "84275180672b08f9",
   "execution_count": 9
  },
  {
   "cell_type": "code",
   "outputs": [
    {
     "name": "stdout",
     "output_type": "stream",
     "text": [
      "038 156342 157433.0 -1091.0\n",
      "039 214693 215813.0 -1120.0\n",
      "040 198373 198301.0 72.0\n",
      "041 113312 113282.0 30.0\n",
      "043 53936 53890.0 46.0\n",
      "044 59870 59878.0 -8.0\n",
      "047 231380 231391.0 -11.0\n",
      "048 213425 213351.0 74.0\n",
      "049 241664 241682.0 -18.0\n",
      "050 222155 222185.0 -30.0\n",
      "051 222643 222685.0 -42.0\n",
      "052 65409 23029.0 42380.0\n",
      "053 260997 261010.0 -13.0\n",
      "054 74990 75030.0 -40.0\n",
      "055 212471 271709.0 -59238.0\n",
      "056 129583 14019.0 115564.0\n",
      "057 212967 212880.0 87.0\n",
      "058 253889 253912.0 -23.0\n",
      "059 108320 108434.0 -114.0\n"
     ]
    }
   ],
   "source": [
    "# figure out sync viability\n",
    "def check_sync_viable(block):\n",
    "    \n",
    "    video_path = block.arena_videos[-4]\n",
    "    TTLs_synced = block.oe_events.query('Arena_TTL < @block.arena_vid_last_t').iloc[-1]['Arena_TTL_frame']    \n",
    "    \n",
    "    \n",
    "    frame_num = get_frame_count(str(video_path))\n",
    "    print(block.block_num, frame_num, TTLs_synced, frame_num - TTLs_synced)\n",
    "for block in block_collection:\n",
    "    check_sync_viable(block)\n",
    "\n"
   ],
   "metadata": {
    "collapsed": false,
    "ExecuteTime": {
     "end_time": "2024-04-06T13:28:19.496646800Z",
     "start_time": "2024-04-06T13:28:18.356673300Z"
    }
   },
   "id": "8edd5c0db8c85d8c",
   "execution_count": 41
  },
  {
   "cell_type": "code",
   "outputs": [
    {
     "name": "stdout",
     "output_type": "stream",
     "text": [
      "eye dataframes loaded from analysis folder\n",
      "exported to Z:\\Nimrod\\experiments\\PV_62\\2023_05_02\\block_044\\analysis\\LR_pix_size.csv\n"
     ]
    }
   ],
   "source": [
    "for block in block_collection:\n",
    "    block.read_dlc_data()\n",
    "    block.calibrate_pixel_size(10)"
   ],
   "metadata": {
    "collapsed": false,
    "ExecuteTime": {
     "end_time": "2024-04-06T13:30:11.479030900Z",
     "start_time": "2024-04-06T13:29:24.252405200Z"
    }
   },
   "id": "7415f5882f4770b8",
   "execution_count": 44
  },
  {
   "cell_type": "markdown",
   "source": [
    "# From here on, only run if right/left_eye_data is not in the exported files of the block "
   ],
   "metadata": {
    "collapsed": false
   },
   "id": "c46b87f1081bab7c"
  },
  {
   "cell_type": "markdown",
   "source": [
    "# Jitter Correction"
   ],
   "metadata": {
    "collapsed": false
   },
   "id": "46d0a1765fa624b6"
  },
  {
   "cell_type": "code",
   "outputs": [
    {
     "name": "stderr",
     "output_type": "stream",
     "text": [
      "Computing Cross-Correlation: 100%|█████████▉| 60907/60908 [05:42<00:00, 178.08frame/s]\n",
      "Computing Cross-Correlation:  42%|████▏     | 25380/60909 [02:55<04:05, 144.52frame/s]C:\\Users\\MarkS3\\PycharmProjects\\pythonProject3\\BlockSync_current.py:1558: RuntimeWarning: invalid value encountered in true_divide\n",
      "  out = out / np.sqrt(image * template)\n",
      "Computing Cross-Correlation: 100%|█████████▉| 60908/60909 [07:02<00:00, 144.21frame/s]\n"
     ]
    },
    {
     "name": "stdout",
     "output_type": "stream",
     "text": [
      "results saved to Z:\\Nimrod\\experiments\\PV_62\\2023_05_02\\block_044\\analysis\\jitter_report_dict.pkl\n",
      "Jitter report computed - check out re/le_jitter_dict attributes\n"
     ]
    }
   ],
   "source": [
    "for block in block_collection:\n",
    "    block.get_jitter_reports(export=True, overwrite=False, remove_led_blinks=False, sort_on_loading=True)"
   ],
   "metadata": {
    "collapsed": false,
    "ExecuteTime": {
     "end_time": "2024-04-06T13:43:09.809591700Z",
     "start_time": "2024-04-06T13:30:17.007251Z"
    }
   },
   "id": "6fe1d9d00c38c3a6",
   "execution_count": 45
  },
  {
   "cell_type": "code",
   "outputs": [
    {
     "data": {
      "text/plain": "dict_keys(['top_correlation_values', 'top_correlation_dist', 'y_displacement', 'x_displacement', 'top_correlation_x', 'top_correlation_y'])"
     },
     "execution_count": 31,
     "metadata": {},
     "output_type": "execute_result"
    }
   ],
   "source": [
    "block.le_jitter_dict.keys()"
   ],
   "metadata": {
    "collapsed": false,
    "ExecuteTime": {
     "end_time": "2024-03-14T09:27:53.708068500Z",
     "start_time": "2024-03-14T09:27:53.652262500Z"
    }
   },
   "id": "632297f129bb804",
   "execution_count": 31
  },
  {
   "cell_type": "code",
   "outputs": [],
   "source": [
    "bokeh_plotter([block.le_jitter_dict['top_correlation_dist'],block.re_jitter_dict['top_correlation_dist']],\n",
    "              ['Left_eye','right_eye'],'check jitter report','frame', 'top_corr_dist')"
   ],
   "metadata": {
    "collapsed": false,
    "ExecuteTime": {
     "end_time": "2024-03-14T09:28:04.713883400Z",
     "start_time": "2024-03-14T09:28:03.115090800Z"
    }
   },
   "id": "29d38df153212c92",
   "execution_count": 32
  },
  {
   "cell_type": "code",
   "outputs": [
    {
     "name": "stdout",
     "output_type": "stream",
     "text": [
      "The right eye std of the X coord was 29.70489748083102\n",
      "After correction it is: 35.71246177411408\n",
      "The right eye std of the Y coord was 22.47156842530908\n",
      "After correction it is: 22.721711159786857\n"
     ]
    },
    {
     "name": "stderr",
     "output_type": "stream",
     "text": [
      "100%|██████████| 106/106 [00:00<00:00, 5047.76it/s]"
     ]
    },
    {
     "name": "stdout",
     "output_type": "stream",
     "text": [
      "\n",
      " The left eye std of the X coord was 40.83836547133711\n",
      "After correction it is: 51.79689245151132\n",
      "\n",
      " The left eye std of the Y coord was 24.61636660595697\n",
      "After correction it is: 29.617407861059714\n",
      "collecting left-eye data\n",
      "data length is 160087\n",
      "z_score length is 160087\n"
     ]
    },
    {
     "name": "stderr",
     "output_type": "stream",
     "text": [
      "\n",
      "100%|██████████| 106/106 [00:00<00:00, 6624.49it/s]"
     ]
    },
    {
     "name": "stdout",
     "output_type": "stream",
     "text": [
      "collecting right eye data\n",
      "data length is 160087\n",
      "z_score length is 160087\n"
     ]
    },
    {
     "name": "stderr",
     "output_type": "stream",
     "text": [
      "\n"
     ]
    },
    {
     "name": "stdout",
     "output_type": "stream",
     "text": [
      "removed led blink data from le / re dataframes\n"
     ]
    }
   ],
   "source": [
    "for block in block_collection:\n",
    "#    block.get_jitter_reports(export=True, overwrite=True, remove_led_blinks=False, sort_on_loading=True)\n",
    "    block.correct_jitter()\n",
    "    block.find_led_blink_frames(plot=True)\n",
    "    block.remove_led_blinks_from_eye_df(export=False)"
   ],
   "metadata": {
    "collapsed": false,
    "ExecuteTime": {
     "end_time": "2024-03-13T09:21:53.466038800Z",
     "start_time": "2024-03-13T09:21:51.498957400Z"
    }
   },
   "id": "c54ae2554172f003",
   "execution_count": 7
  },
  {
   "cell_type": "code",
   "outputs": [
    {
     "name": "stdout",
     "output_type": "stream",
     "text": [
      "the diff based jitter frame exclusion gives: (1664,)\n",
      "the threshold based jitter frame exclusion gives: (252,)\n",
      "the diff based jitter frame exclusion gives: (265,)\n",
      "the threshold based jitter frame exclusion gives: (108,)\n"
     ]
    }
   ],
   "source": [
    "df_inds_to_remove_l, vid_inds_l = find_jittery_frames(block,'left',max_distance=60, diff_threshold=15, gap_to_bridge=24)\n",
    "df_inds_to_remove_r, vid_inds_r = find_jittery_frames(block,'right',max_distance=60, diff_threshold=10, gap_to_bridge=24)\n",
    "\n",
    "# These are verification plots for the jitter outlier removal functions:\n",
    "# to verify, I want a bokeh explorable:\n",
    "rdf = pd.DataFrame.from_dict(block.re_jitter_dict)\n",
    "ldf = pd.DataFrame.from_dict(block.le_jitter_dict)"
   ],
   "metadata": {
    "collapsed": false,
    "ExecuteTime": {
     "end_time": "2024-03-21T15:52:07.868504500Z",
     "start_time": "2024-03-21T15:52:07.542505800Z"
    }
   },
   "id": "1145ae4b82fac8a8",
   "execution_count": 11
  },
  {
   "cell_type": "code",
   "outputs": [],
   "source": [
    "bokeh_plotter([rdf.top_correlation_dist], ['drift_distance'], peaks=vid_inds_r)"
   ],
   "metadata": {
    "collapsed": false,
    "ExecuteTime": {
     "end_time": "2024-03-21T16:55:40.880364100Z",
     "start_time": "2024-03-21T16:55:40.404362900Z"
    }
   },
   "id": "c3972761d2451c93",
   "execution_count": 14
  },
  {
   "cell_type": "code",
   "outputs": [],
   "source": [
    "bokeh_plotter([ldf.top_correlation_dist], ['drift_distance'], peaks=vid_inds_l)"
   ],
   "metadata": {
    "collapsed": false,
    "ExecuteTime": {
     "end_time": "2024-03-21T16:55:59.818269300Z",
     "start_time": "2024-03-21T16:55:59.459463500Z"
    }
   },
   "id": "fd25e409b671a692",
   "execution_count": 15
  },
  {
   "cell_type": "code",
   "outputs": [
    {
     "name": "stdout",
     "output_type": "stream",
     "text": [
      "removed 1297 from the right eye dataframe\n",
      "removed 5471 from the left eye dataframe\n"
     ]
    }
   ],
   "source": [
    "block.remove_eye_datapoints_based_on_video_frames('right', indices_to_nan=vid_inds_r)\n",
    "block.remove_eye_datapoints_based_on_video_frames('left', indices_to_nan=vid_inds_l)"
   ],
   "metadata": {
    "collapsed": false,
    "ExecuteTime": {
     "end_time": "2024-03-13T09:23:50.230743300Z",
     "start_time": "2024-03-13T09:23:50.170743500Z"
    }
   },
   "id": "65798a0282a6aefe",
   "execution_count": 15
  },
  {
   "cell_type": "markdown",
   "source": [
    "# Data rotation"
   ],
   "metadata": {
    "collapsed": false
   },
   "id": "3b874c4b228c7b91"
  },
  {
   "cell_type": "code",
   "outputs": [
    {
     "name": "stdout",
     "output_type": "stream",
     "text": [
      "Please select two points on the frame.\n",
      "left rotation matrix: \n",
      " [[   0.84197436   -0.53951755  180.05241781]\n",
      " [   0.53951755    0.84197436 -134.71946072]] \n",
      " left rotation angle: \n",
      " -32.650802296595565\n",
      "left data rotated\n"
     ]
    }
   ],
   "source": [
    "block.rotate_data_according_to_frame_ref('left')"
   ],
   "metadata": {
    "collapsed": false,
    "ExecuteTime": {
     "end_time": "2024-03-05T12:21:05.064857700Z",
     "start_time": "2024-03-05T12:20:46.920771200Z"
    }
   },
   "id": "ff59e381f95a15d5",
   "execution_count": 12
  },
  {
   "cell_type": "code",
   "outputs": [
    {
     "name": "stdout",
     "output_type": "stream",
     "text": [
      "Please select two points on the frame.\n",
      "right rotation matrix: \n",
      " [[  0.77486502   0.63212673 -79.66722124]\n",
      " [ -0.63212673   0.77486502 256.31294781]] \n",
      " right rotation angle: \n",
      " 39.20720350496784\n",
      "right data rotated\n"
     ]
    }
   ],
   "source": [
    "block.rotate_data_according_to_frame_ref('right')"
   ],
   "metadata": {
    "collapsed": false,
    "ExecuteTime": {
     "end_time": "2024-03-05T12:21:19.417112600Z",
     "start_time": "2024-03-05T12:21:06.938632900Z"
    }
   },
   "id": "def89dd37a1574fd",
   "execution_count": 13
  },
  {
   "cell_type": "code",
   "outputs": [
    {
     "name": "stdout",
     "output_type": "stream",
     "text": [
      "Index(['Arena_TTL', 'R_eye_frame', 'ms_axis', 'center_x_rotated',\n",
      "       'center_y_rotated', 'phi_rotated', 'width', 'height'],\n",
      "      dtype='object')\n",
      "   OE_timestamp  eye_frame   ms_axis  center_x  center_y  phi  width  height\n",
      "0      881314.0        NaN  44065.70       NaN       NaN  NaN    NaN     NaN\n",
      "1      881654.0        NaN  44082.70       NaN       NaN  NaN    NaN     NaN\n",
      "2      881993.0        NaN  44099.65       NaN       NaN  NaN    NaN     NaN\n",
      "3      882333.0        NaN  44116.65       NaN       NaN  NaN    NaN     NaN\n",
      "4      882673.0        NaN  44133.65       NaN       NaN  NaN    NaN     NaN\n",
      "Index(['Arena_TTL', 'L_eye_frame', 'ms_axis', 'center_x_rotated',\n",
      "       'center_y_rotated', 'phi_rotated', 'width', 'height'],\n",
      "      dtype='object')\n",
      "   OE_timestamp  eye_frame   ms_axis  center_x  center_y  phi  width  height\n",
      "0      881314.0       24.0  44065.70       NaN       NaN  NaN    NaN     NaN\n",
      "1      881654.0       25.0  44082.70       NaN       NaN  NaN    NaN     NaN\n",
      "2      881993.0       26.0  44099.65       NaN       NaN  NaN    NaN     NaN\n",
      "3      882333.0       27.0  44116.65       NaN       NaN  NaN    NaN     NaN\n",
      "4      882673.0       28.0  44133.65       NaN       NaN  NaN    NaN     NaN\n",
      "successfully rotated the data reference horizon to tear-ducts, created left/right_eye_data\n"
     ]
    }
   ],
   "source": [
    "block.create_eye_data()"
   ],
   "metadata": {
    "collapsed": false,
    "ExecuteTime": {
     "end_time": "2024-03-05T12:21:24.440036600Z",
     "start_time": "2024-03-05T12:21:24.393089600Z"
    }
   },
   "id": "b04586f077f697e",
   "execution_count": 14
  },
  {
   "cell_type": "code",
   "outputs": [],
   "source": [
    "block.right_eye_data['phi'] = block.right_eye_data['phi'] + 90"
   ],
   "metadata": {
    "collapsed": false,
    "ExecuteTime": {
     "end_time": "2024-03-05T12:21:26.308881400Z",
     "start_time": "2024-03-05T12:21:26.281859800Z"
    }
   },
   "id": "cfd59b4d16ad19bc",
   "execution_count": 15
  },
  {
   "cell_type": "code",
   "outputs": [],
   "source": [
    "block.left_eye_data['phi'] = block.left_eye_data['phi'] + 90"
   ],
   "metadata": {
    "collapsed": false,
    "ExecuteTime": {
     "end_time": "2024-03-05T12:21:26.648865900Z",
     "start_time": "2024-03-05T12:21:26.609048700Z"
    }
   },
   "id": "25bd252449eda51e",
   "execution_count": 16
  },
  {
   "cell_type": "markdown",
   "source": [
    "# Rotation eye data Verification"
   ],
   "metadata": {
    "collapsed": false
   },
   "id": "679967f015be74bd"
  },
  {
   "cell_type": "code",
   "outputs": [
    {
     "name": "stdout",
     "output_type": "stream",
     "text": [
      "Z:\\Nimrod\\experiments\\PV_62\\2023_05_01\\block_038\\eye_videos\\RE\\230501_pv62_trial1_640x480_60hz_experiment_1_recording_0\\230501_pv62_trial1DLC_resnet50_pogona_eye_trackingMay25shuffle1_1030000_labeled.mp4\n"
     ]
    }
   ],
   "source": [
    "# right eye inspection after rotation\n",
    "path_to_video = [x for x in pathlib.Path(block.re_videos[0]).parent.iterdir() if '.mp4' in str(x.name) and 'DLC' in str(x.name)][0]\n",
    "print(path_to_video)\n",
    "play_video_with_ellipses_rotation(block=block,eye='right', path_to_video=str(path_to_video) ,xflip=True, transformation_matrix=block.right_rotation_matrix)"
   ],
   "metadata": {
    "collapsed": false,
    "ExecuteTime": {
     "end_time": "2024-03-17T15:00:40.479872700Z",
     "start_time": "2024-03-17T15:00:06.871710300Z"
    }
   },
   "id": "7e2ee523faf63ad9",
   "execution_count": 110
  },
  {
   "cell_type": "code",
   "outputs": [],
   "source": [
    "# left eye inspection\n",
    "path_to_video = [x for x in pathlib.Path(block.le_videos[0]).parent.iterdir() if '.mp4' in str(x.name) and 'DLC' in str(x.name)][0]\n",
    "play_video_with_ellipses_rotation(block=block,eye='left', path_to_video=str(path_to_video) ,xflip=True, transformation_matrix=block.left_rotation_matrix)"
   ],
   "metadata": {
    "collapsed": false,
    "ExecuteTime": {
     "end_time": "2024-03-10T17:17:00.411448100Z",
     "start_time": "2024-03-10T17:15:48.085050400Z"
    }
   },
   "id": "b67b0378f637109d",
   "execution_count": 71
  },
  {
   "cell_type": "markdown",
   "source": [
    "# Eye videos relative lag correction"
   ],
   "metadata": {
    "collapsed": false
   },
   "id": "672ffdb84e74ea3b"
  },
  {
   "cell_type": "code",
   "outputs": [
    {
     "name": "stderr",
     "output_type": "stream",
     "text": [
      "100%|██████████| 146/146 [00:00<00:00, 4559.57it/s]\n",
      "100%|██████████| 146/146 [00:00<00:00, 4955.24it/s]\n",
      "100%|██████████| 146/146 [00:00<00:00, 4763.55it/s]\n",
      "100%|██████████| 146/146 [00:00<00:00, 4513.56it/s]"
     ]
    },
    {
     "name": "stdout",
     "output_type": "stream",
     "text": [
      "collecting left-eye data\n",
      "data length is 220080\n",
      "z_score length is 220080\n",
      "collecting right eye data\n",
      "data length is 220063\n",
      "z_score length is 220063\n"
     ]
    },
    {
     "name": "stderr",
     "output_type": "stream",
     "text": [
      "\n"
     ]
    },
    {
     "name": "stdout",
     "output_type": "stream",
     "text": [
      "missing frame at 14\n",
      "missing frame at 31\n",
      "missing frame at 35\n",
      "215159 215159\n",
      "0\n",
      "0\n",
      "0 S\n",
      "1 S\n",
      "2 S\n",
      "3 S\n",
      "4 S\n",
      "5 S\n",
      "6 S\n",
      "7 S\n",
      "8 S\n",
      "9 S\n",
      "10 S\n",
      "11 S\n",
      "12 S\n",
      "13 S\n",
      "14 S\n",
      "15 S\n",
      "16 S\n",
      "17 S\n",
      "18 S\n",
      "19 S\n",
      "20 S\n",
      "21 S\n",
      "22 S\n",
      "23 S\n",
      "24 S\n",
      "25 S\n",
      "26 S\n",
      "27 S\n",
      "28 S\n",
      "29 S\n",
      "30 S\n",
      "31 S\n",
      "32 S\n",
      "33 S\n",
      "34 S\n",
      "35 S\n",
      "36 S\n",
      "37 S\n",
      "38 S\n",
      "39 S\n",
      "40 S\n",
      "41 S\n",
      "42 S\n",
      "43 S\n",
      "44 S\n",
      "45 S\n",
      "46 S\n",
      "47 S\n",
      "48 S\n",
      "49 S\n",
      "50 S\n",
      "51 S\n",
      "52 S\n",
      "53 S\n",
      "54 S\n",
      "55 S\n",
      "56 S\n",
      "57 S\n"
     ]
    }
   ],
   "source": [
    "# block integrated version:\n",
    "block.find_led_blink_frames()\n",
    "l_df, r_df = block.correct_relative_eye_drift_based_on_LED_lights_out(verification_plots=True)\n",
    "#block.left_eye_data = l_df\n",
    "#block.right_eye_data = r_df"
   ],
   "metadata": {
    "collapsed": false,
    "ExecuteTime": {
     "end_time": "2024-03-13T13:10:56.469679200Z",
     "start_time": "2024-03-13T13:10:54.913911Z"
    }
   },
   "id": "897ca6d18afa8f5e",
   "execution_count": 87
  },
  {
   "cell_type": "code",
   "outputs": [
    {
     "name": "stdout",
     "output_type": "stream",
     "text": [
      "double row at 3\n",
      "missing frame at 14\n",
      "missing frame at 31\n",
      "missing frame at 35\n",
      "double row at 42\n",
      "The correction employed was 80.0, \n",
      "check the output and overwirte the left/right eye data dfs when happy, then re-export\n"
     ]
    }
   ],
   "source": [
    "l_df, r_df = block.correct_eye_sync_based_on_OE_LED_events()"
   ],
   "metadata": {
    "collapsed": false,
    "ExecuteTime": {
     "end_time": "2024-03-13T13:11:13.309573500Z",
     "start_time": "2024-03-13T13:11:12.952916200Z"
    }
   },
   "id": "f026f1df4683f8f8",
   "execution_count": 88
  },
  {
   "cell_type": "code",
   "outputs": [],
   "source": [
    "block.left_eye_data = l_df\n",
    "block.right_eye_data = r_df"
   ],
   "metadata": {
    "collapsed": false,
    "ExecuteTime": {
     "end_time": "2024-03-13T10:21:07.850448800Z",
     "start_time": "2024-03-13T10:21:07.802458300Z"
    }
   },
   "id": "6580afa2e9e2a057",
   "execution_count": 12
  },
  {
   "cell_type": "markdown",
   "source": [
    "# End of Synchronization Pipeline"
   ],
   "metadata": {
    "collapsed": false
   },
   "id": "7822eb1bb9de6d0c"
  },
  {
   "cell_type": "code",
   "outputs": [],
   "source": [
    "# load the data of an already synced block:\n",
    "def load_eye_data_2d_w_rotation_matrix(block):\n",
    "    \"\"\"\n",
    "    This function checks if the eye dataframes and rotation dict object exist, then imports them\n",
    "    :param block: The current blocksync class with verifiec re/le dfs\n",
    "    :return: None\n",
    "    \"\"\"\n",
    "    try:\n",
    "        block.left_eye_data = pd.read_csv(block.analysis_path / 'left_eye_data.csv', index_col=0)\n",
    "        block.right_eye_data = pd.read_csv(block.analysis_path / 'right_eye_data.csv', index_col=0)\n",
    "    except FileNotFoundError:\n",
    "        print('eye_data files not found, run the pipeline!')\n",
    "        return\n",
    "    \n",
    "    try:\n",
    "        with open(block.analysis_path / 'rotate_eye_data_params.pkl', 'rb') as file:\n",
    "            rotation_dict = pickle.load(file)\n",
    "            block.left_rotation_matrix = rotation_dict['left_rotation_matrix']\n",
    "            block.right_rotation_matrix = rotation_dict['right_rotation_matrix']\n",
    "            block.left_rotation_angle = rotation_dict['left_rotation_angle']\n",
    "            block.right_rotation_angle = rotation_dict['right_rotation_angle']\n",
    "    except FileNotFoundError:\n",
    "        print('No rotation matrix file, create it')\n",
    "load_eye_data_2d_w_rotation_matrix(block)"
   ],
   "metadata": {
    "collapsed": false,
    "ExecuteTime": {
     "end_time": "2024-03-14T09:46:31.540502400Z",
     "start_time": "2024-03-14T09:46:30.626575600Z"
    }
   },
   "id": "663190b7268a1876",
   "execution_count": 43
  },
  {
   "cell_type": "markdown",
   "source": [
    "# Data export steps:"
   ],
   "metadata": {
    "collapsed": false
   },
   "id": "73b9d51a7749d12f"
  },
  {
   "cell_type": "code",
   "outputs": [],
   "source": [
    "\n",
    "def export_eye_data_2d_w_rotation_matrix(block):\n",
    "    \"\"\"\n",
    "    This function saves the eye dataframes to two csv files\n",
    "    :param block: The current blocksync class with verifiec re/le dfs\n",
    "    :return: None\n",
    "    \"\"\"\n",
    "        \n",
    "    block.right_eye_data.to_csv(block.analysis_path / 'right_eye_data.csv')\n",
    "    block.left_eye_data.to_csv(block.analysis_path / 'left_eye_data.csv')\n",
    "    rotation_dict = {'left_rotation_matrix': block.left_rotation_matrix,\n",
    "                'left_rotation_angle':  block.left_rotation_angle,\n",
    "                'right_rotation_matrix':block.right_rotation_matrix,\n",
    "                'right_rotation_angle': block.right_rotation_angle}\n",
    "    with open(block.analysis_path / 'rotate_eye_data_params.pkl', 'wb') as file:\n",
    "        pickle.dump(rotation_dict, file)\n",
    "        \n",
    "\n",
    "export_eye_data_2d_w_rotation_matrix(block)"
   ],
   "metadata": {
    "collapsed": false,
    "ExecuteTime": {
     "end_time": "2024-03-13T11:52:53.192947400Z",
     "start_time": "2024-03-13T11:52:46.881548400Z"
    }
   },
   "id": "4e9294b80cebdcbc",
   "execution_count": 26
  },
  {
   "cell_type": "markdown",
   "source": [
    "# Sync paradigm analysis - how much did I move the frames around?"
   ],
   "metadata": {
    "collapsed": false
   },
   "id": "bcd9b00cb4d29d5e"
  },
  {
   "cell_type": "code",
   "outputs": [],
   "source": [
    "def analyze_frame_corrections(frames):\n",
    "    duplicate_indices = []\n",
    "    jump_indices = []\n",
    "    jump_count = 0\n",
    "    duplicate_count = 0\n",
    "    interval_size = 3600\n",
    "\n",
    "    for i in range(1, len(frames)):\n",
    "        if frames[i] == frames[i - 1] and i not in duplicate_indices:\n",
    "            duplicate_indices.append(i)\n",
    "            duplicate_count += 1\n",
    "        elif frames[i] != frames[i - 1] + 1 and i not in jump_indices:\n",
    "            jump_indices.append(i)\n",
    "            jump_count += 1\n",
    "\n",
    "    # Collect jump distances and duplication amounts\n",
    "    jump_distances = [frames[j] - frames[j - 1] for j in jump_indices]\n",
    "    duplication_amounts = [frames[d] - frames[d - 1] + 1 for d in duplicate_indices]\n",
    "\n",
    "    # Quantify occurrences within each 3600 frames\n",
    "    occurrences_within_interval = len(frames) // interval_size\n",
    "    duplicate_rate = duplicate_count / occurrences_within_interval\n",
    "    jump_rate = jump_count / occurrences_within_interval\n",
    "\n",
    "    report = {\n",
    "        'duplicate_indices': duplicate_indices,\n",
    "        'jump_indices': jump_indices,\n",
    "        'jump_distances': jump_distances,\n",
    "        'duplication_amounts': duplication_amounts,\n",
    "        'duplicate_count': duplicate_count,\n",
    "        'jump_count': jump_count,\n",
    "        'occurrences_within_interval': occurrences_within_interval,\n",
    "        'duplicate_rate': duplicate_rate,\n",
    "        'jump_rate': jump_rate\n",
    "    }\n",
    "\n",
    "    return report\n",
    "def remove_data_from_df_rows(df,indices_to_nan):\n",
    "    columns_to_nan = ['center_x',\n",
    "                  'center_y',\n",
    "                  'phi',\n",
    "                  'width',\n",
    "                  'height']\n",
    "    col_inds = [df.columns.get_loc(col_name) for col_name in columns_to_nan]\n",
    "    df.iloc[indices_to_nan, col_inds] = np.nan\n",
    "    return df\n",
    "\n",
    "\n",
    "def clean_duplicated_frames_data(df, result):\n",
    "    duplicated = np.insert(np.diff(result['duplicate_indices']) == 1,0,False)\n",
    "    duplicated_shift = np.roll(duplicated, 1)\n",
    "    dup_on_off = duplicated.astype(int) - duplicated_shift.astype(int)\n",
    "    rising_edge = np.where(dup_on_off == 1)[0]\n",
    "    falling_edge = np.where(dup_on_off == -1)[0]\n",
    "    length_of_chunk = falling_edge - rising_edge\n",
    "    duplication_on_off = np.column_stack((rising_edge,falling_edge, length_of_chunk))\n",
    "    \n",
    "    events_to_nan = np.where(duplication_on_off[:,2] > 8)[0] # this is the conditional where chunks threshold is defined\n",
    "    start_nan = np.array(result['duplicate_indices'])[duplication_on_off[events_to_nan][:,0]]\n",
    "    end_nan = np.array(result['duplicate_indices'])[duplication_on_off[events_to_nan][:,1]]\n",
    "    for nan_segment in zip(start_nan,end_nan):\n",
    "        rows = list(range(nan_segment[0],nan_segment[1]))\n",
    "        df = remove_data_from_df_rows(df, rows)\n",
    "    return df \n",
    "\n"
   ],
   "metadata": {
    "collapsed": false,
    "ExecuteTime": {
     "end_time": "2024-03-14T13:53:53.889278900Z",
     "start_time": "2024-03-14T13:53:53.824978700Z"
    }
   },
   "id": "4f20a32d6b33c5d0",
   "execution_count": 90
  },
  {
   "cell_type": "code",
   "outputs": [
    {
     "name": "stdout",
     "output_type": "stream",
     "text": [
      "right eye report:\n",
      "overall length of video:156180 = 43 minutes\n",
      "Duplicate Count: 3525\n",
      "Jump Count: 6479\n",
      "overall correction percentage: 6.405429632475348\n",
      "Occurrences within 3600 frames: 43\n",
      "Duplicate Frames per-minute: 82.0\n",
      "Jump frames per-minute: 151.0\n",
      "left eye report:\n",
      "overall length of video:156180 = 43 minutes\n",
      "Duplicate Count: 4035\n",
      "Jump Count: 6463\n",
      "overall correction percentage: 6.721731335638366\n",
      "Occurrences within 3600 frames: 43\n",
      "Duplicate Frames per-minute: 94.0\n",
      "Jump frames per-minute: 150.0\n"
     ]
    }
   ],
   "source": [
    "# employ on right eye:\n",
    "frame_list_r = block.right_eye_data.eye_frame.values\n",
    "result_r = analyze_frame_corrections(frame_list_r)\n",
    "\n",
    "#print(\"Duplicate Indices:\", len(result['duplicate_indices']))\n",
    "#print(\"Jump Indices:\", len(result['jump_indices']))\n",
    "print('right eye report:')\n",
    "print(f'overall length of video:{len(frame_list_r)} = {len(frame_list_r) // 60 //60} minutes')\n",
    "print(\"Duplicate Count:\", result_r['duplicate_count'])\n",
    "print(\"Jump Count:\", result_r['jump_count'])\n",
    "print(f\"overall correction percentage: {((result_r['duplicate_count'] + result_r['jump_count']) / len(frame_list_r)) * 100}\")\n",
    "print(\"Occurrences within 3600 frames:\", result_r['occurrences_within_interval'])\n",
    "print(\"Duplicate Frames per-minute:\", np.round(result_r['duplicate_rate']))\n",
    "print(\"Jump frames per-minute:\", np.round(result_r['jump_rate']))\n",
    "\n",
    "# employ on left eye:\n",
    "frame_list_l = block.left_eye_data.eye_frame.values\n",
    "result_l = analyze_frame_corrections(frame_list_l)\n",
    "\n",
    "#print(\"Duplicate Indices:\", len(result['duplicate_indices']))\n",
    "#print(\"Jump Indices:\", len(result['jump_indices']))\n",
    "print('left eye report:')\n",
    "print(f'overall length of video:{len(frame_list_l)} = {len(frame_list_l) // 60 //60} minutes')\n",
    "print(\"Duplicate Count:\", result_l['duplicate_count'])\n",
    "print(\"Jump Count:\", result_l['jump_count'])\n",
    "print(f\"overall correction percentage: {((result_l['duplicate_count'] + result_l['jump_count']) / len(frame_list_l)) * 100}\")\n",
    "print(\"Occurrences within 3600 frames:\", result_l['occurrences_within_interval'])\n",
    "print(\"Duplicate Frames per-minute:\", np.round(result_l['duplicate_rate']))\n",
    "print(\"Jump frames per-minute:\", np.round(result_l['jump_rate']))"
   ],
   "metadata": {
    "collapsed": false,
    "ExecuteTime": {
     "end_time": "2024-03-14T11:16:45.094085800Z",
     "start_time": "2024-03-14T11:16:44.027916800Z"
    }
   },
   "id": "8d95f6e7fac1ec79",
   "execution_count": 67
  },
  {
   "cell_type": "code",
   "outputs": [],
   "source": [
    "r_df = clean_duplicated_frames_data(block.right_eye_data,result_r)\n",
    "l_df = clean_duplicated_frames_data(block.left_eye_data,result_l)\n"
   ],
   "metadata": {
    "collapsed": false,
    "ExecuteTime": {
     "end_time": "2024-03-14T13:54:48.166398700Z",
     "start_time": "2024-03-14T13:54:48.106090500Z"
    }
   },
   "id": "598c856e2ed2488c",
   "execution_count": 95
  },
  {
   "cell_type": "code",
   "outputs": [
    {
     "data": {
      "text/plain": "[<matplotlib.lines.Line2D at 0x27d03583160>]"
     },
     "execution_count": 98,
     "metadata": {},
     "output_type": "execute_result"
    },
    {
     "data": {
      "text/plain": "<Figure size 432x288 with 1 Axes>",
      "image/png": "[encoded data removed]"
     },
     "metadata": {},
     "output_type": "display_data"
    }
   ],
   "source": [
    "# this cell identifies segments where many duplications occur and NaNs the data from these points:\n",
    "r_df_framesort = r_df.dropna()\n",
    "plt.plot(np.diff(r_df_framesort.OE_timestamp.values[:]))"
   ],
   "metadata": {
    "collapsed": false,
    "ExecuteTime": {
     "end_time": "2024-03-14T13:55:13.725882800Z",
     "start_time": "2024-03-14T13:55:13.539843700Z"
    }
   },
   "id": "1d0f385a735ca9b3",
   "execution_count": 98
  },
  {
   "cell_type": "code",
   "outputs": [
    {
     "data": {
      "text/plain": "(3600.0, 7200.0)"
     },
     "execution_count": 79,
     "metadata": {},
     "output_type": "execute_result"
    },
    {
     "data": {
      "text/plain": "<Figure size 2550x750 with 1 Axes>",
      "image/png": "[encoded data removed]"
     },
     "metadata": {},
     "output_type": "display_data"
    }
   ],
   "source": [
    "# stupid cell for inspection of duplicate dispersion\n",
    "fig,axs = plt.subplots(figsize=(17,5),dpi=150)\n",
    "axs.vlines(result_r['jump_indices'],0,0.1,color='r',linestyles='-',linewidth=0.5)\n",
    "#axs.vlines(result_r['duplicate_indices'],0,0.1,color='b',linestyles='-', linewidth=0.5)\n",
    "xlim = np.array([0,3600]) + 3600*1\n",
    "axs.set_xlim(xlim[0],xlim[1])\n",
    "#axs.set_xlim(29800,29850)"
   ],
   "metadata": {
    "collapsed": false,
    "ExecuteTime": {
     "end_time": "2024-03-14T13:38:53.414187200Z",
     "start_time": "2024-03-14T13:38:53.100034Z"
    }
   },
   "id": "205eb2eb21fd5c6f",
   "execution_count": 79
  },
  {
   "cell_type": "code",
   "outputs": [],
   "source": [
    "# This section looks at the RPI report csvs\n",
    "rpi_df = pd.read_csv([ l for l in pathlib.Path(block.le_videos[0]).parent.iterdir() if 'timestamps.csv' in str(l)][0])"
   ],
   "metadata": {
    "collapsed": false,
    "ExecuteTime": {
     "end_time": "2024-03-13T11:39:22.901093300Z",
     "start_time": "2024-03-13T11:39:22.815804800Z"
    }
   },
   "id": "30d24af73c698c88",
   "execution_count": 13
  },
  {
   "cell_type": "code",
   "outputs": [
    {
     "data": {
      "text/plain": "[<matplotlib.lines.Line2D at 0x1b7de004ac0>]"
     },
     "execution_count": 19,
     "metadata": {},
     "output_type": "execute_result"
    },
    {
     "data": {
      "text/plain": "<Figure size 432x288 with 1 Axes>",
      "image/png": "[encoded data removed]"
     },
     "metadata": {},
     "output_type": "display_data"
    }
   ],
   "source": [
    "rpi_df['diff'] = rpi_df['# frame timestamp'] - rpi_df[' TTL timestamp']\n",
    "plt.plot(np.diff(rpi_df[' TTL timestamp'].values))"
   ],
   "metadata": {
    "collapsed": false,
    "ExecuteTime": {
     "end_time": "2024-03-13T11:42:07.081373900Z",
     "start_time": "2024-03-13T11:42:06.888628500Z"
    }
   },
   "id": "b4118ae334fbdc4e",
   "execution_count": 19
  },
  {
   "cell_type": "markdown",
   "source": [
    "# The following is the preliminary version of the OE LED blink synchronization\n",
    "before incorporation into the class"
   ],
   "metadata": {
    "collapsed": false
   },
   "id": "616b353e131da249"
  },
  {
   "cell_type": "code",
   "outputs": [],
   "source": [
    "def duplicate_df_row_at_index(df, ind_to_duplicate, correct_ms=True, correct_oe_timestamps=True):\n",
    "    \"\"\"\n",
    "    :param correct_ms: if true, will correct the ms_axis of eye data\n",
    "    :param df: dataframe \n",
    "    :param ind_to_duplicate: which row to duplicate, in iloc logic\n",
    "    :return: longer df \n",
    "    \"\"\"\n",
    "    # cut the df\n",
    "    df_top = df.iloc[:ind_to_duplicate]\n",
    "    df_bot = df.iloc[ind_to_duplicate:]\n",
    "    # duplicate the row\n",
    "    df_top = df_top.append(df_top.iloc[-1])\n",
    "    df_longer = pd.concat([df_top, df_bot], ignore_index=False)\n",
    "    if correct_ms:\n",
    "        df_longer['ms_axis'].iloc[ind_to_duplicate:-1] = df_longer['ms_axis'].iloc[ind_to_duplicate+1:].values\n",
    "    if correct_oe_timestamps:\n",
    "        df_longer['OE_timestamp'].iloc[ind_to_duplicate:-1] = df_longer['OE_timestamp'].iloc[ind_to_duplicate+1:].values\n",
    "    return df_longer.copy()\n",
    "\n",
    "def remove_df_row_at_index(df, ind_to_remove, correct_ms=True, correct_oe_timestamps=True):\n",
    "    label_to_remove = df.index[ind_to_remove]\n",
    "    original_ms_axis = df['ms_axis'].iloc[ind_to_remove:].values\n",
    "    original_oe_axis = df['OE_timestamp'].iloc[ind_to_remove:].values\n",
    "    df = df.drop(label_to_remove)\n",
    "    if correct_ms:\n",
    "        df['ms_axis'].iloc[ind_to_remove:] = original_ms_axis[:-1]\n",
    "    if correct_oe_timestamps:\n",
    "        df['OE_timestamp'].iloc[ind_to_remove:] = original_oe_axis[:-1]\n",
    "    return df\n",
    "\n",
    "def correct_relative_eye_drift_based_on_LED_lights_out(block, verification_plots=True):\n",
    "    r_vals = block.re_frame_val_list[0][1]\n",
    "    l_vals = block.le_frame_val_list[0][1]\n",
    "    l_blinks = block.led_blink_frames_l\n",
    "    r_blinks = block.led_blink_frames_r\n",
    "    chunks_r = np.insert(np.diff(r_blinks) > 10,0,False)\n",
    "    r_inds = np.insert(r_blinks[chunks_r],0,r_blinks[0])\n",
    "    chunks_l = np.insert(np.diff(l_blinks) > 10,0,False)\n",
    "    l_inds = np.insert(l_blinks[chunks_l],0,l_blinks[0])\n",
    "    # check for non-matchig lengths\n",
    "    if len(l_inds) > len(r_inds):\n",
    "        if max(l_inds) > max(r_inds) + 100: # left with an extra led at the end\n",
    "            l_inds = l_inds[:len(r_inds)]\n",
    "        elif min(l_inds) < min(r_inds) - 100: # left with extra led at the beginning\n",
    "            l_inds = l_inds[1:]\n",
    "    elif len(r_inds) > len(l_inds):\n",
    "        if max(r_inds) > max(l_inds) + 100:\n",
    "            r_inds = r_inds[:len(l_inds)]\n",
    "        elif min(r_inds) < min(l_inds) - 100:\n",
    "            r_inds = r_inds[1:]\n",
    "        \n",
    "    if verification_plots:\n",
    "        # verify detection here:\n",
    "        z_score_data_r = block.rolling_window_z_scores(r_vals, roll_w_size=1500)\n",
    "        z_score_data_l = block.rolling_window_z_scores(l_vals, roll_w_size=1500)\n",
    "        \n",
    "        bokeh_plotter([z_score_data_r, z_score_data_l],\n",
    "                      label_list=['r_scores', 'l_scores'],\n",
    "                      x_axis='Frame',\n",
    "                      y_axis='brightness Z score', \n",
    "                      peaks=[r_inds, l_inds], peaks_list=True)\n",
    "    # I want to understand the drift between the two corrected l_ms vectors now - if a frame appears in two l_ms values, take the larger one (a duplicated frame)\n",
    "    l_frames = []\n",
    "    r_frames = []\n",
    "    l_ms = []\n",
    "    r_ms = []\n",
    "    l_blink_inds = []\n",
    "    r_blink_inds = []\n",
    "    # collect the l_ms list\n",
    "    for i, (lb,rb) in enumerate(zip(l_inds,r_inds)):\n",
    "        l_blink_row = block.left_eye_data.query('eye_frame == @lb')\n",
    "        r_blink_row = block.right_eye_data.query('eye_frame == @rb')\n",
    "        #check that both rows exist in the eye dataframes\n",
    "        if r_blink_row.empty or l_blink_row.empty:\n",
    "            print('missing frame at',i)\n",
    "            continue\n",
    "        l_blink_row = l_blink_row.iloc[-1][['eye_frame', 'ms_axis']]\n",
    "        l_ms.append(l_blink_row['ms_axis'])\n",
    "        l_frames.append(l_blink_row['eye_frame'])\n",
    "        l_blink_inds.append(l_blink_row.name)\n",
    "        r_blink_row = r_blink_row.iloc[-1][['eye_frame', 'ms_axis']]\n",
    "        r_ms.append(r_blink_row['ms_axis'])\n",
    "        r_frames.append(r_blink_row['eye_frame'])\n",
    "        r_blink_inds.append(r_blink_row.name)\n",
    "    # This bit creates a map of the neccessary movements to each dataframe in order for the sync to match (for each blink)\n",
    "    r_arr = np.array([r_frames, r_ms]).T\n",
    "    l_arr = np.array([l_frames, l_ms]).T\n",
    "    diff_arr = r_arr[:,1] - l_arr[:,1]\n",
    "    diff_arr = (diff_arr // 17).astype(int)\n",
    "    correction_order = []\n",
    "    l_corrections_inds = []\n",
    "    l_corrections_size = []\n",
    "    r_corrections_inds = []\n",
    "    r_corrections_size = []\n",
    "    stable_ind_pairs = []\n",
    "    for i, diff in enumerate(diff_arr):\n",
    "        if diff > 0: # L lagging\n",
    "            l_corrections_inds.append(l_blink_inds[i])\n",
    "            l_corrections_size.append(diff)\n",
    "            correction_order.append('L')\n",
    "        elif diff < 0: # R lagging\n",
    "            r_corrections_inds.append(r_blink_inds[i])\n",
    "            r_corrections_size.append(np.abs(diff))\n",
    "            correction_order.append('R')\n",
    "        else:\n",
    "            stable_ind_pairs.append([r_blink_inds[i], l_blink_inds[i]])\n",
    "            correction_order.append('S')\n",
    "    r_corrections = np.array([r_corrections_inds, r_corrections_size]).T\n",
    "    l_corrections = np.array([l_corrections_inds, l_corrections_size]).T\n",
    "\n",
    "    \n",
    "    # This is the second try:\n",
    "    l_df = block.left_eye_data.copy()\n",
    "    r_df = block.right_eye_data.copy()\n",
    "    print(len(l_df),len(r_df))\n",
    "    current_l_correction = 0\n",
    "    current_r_correction = 0\n",
    "    print(len(r_corrections))\n",
    "    print(len(l_corrections))\n",
    "    # Initialize lists to track inserted rows\n",
    "    inserted_rows_l = []\n",
    "    removed_rows_l = []\n",
    "    inserted_rows_r = []\n",
    "    removed_rows_r = []\n",
    "    for minute, df_to_correct in enumerate(correction_order):\n",
    "        print(minute, df_to_correct)\n",
    "        if df_to_correct == 'L':\n",
    "            l_corr = l_corrections[current_l_correction]\n",
    "            inserted_rows_l.append(l_corr)\n",
    "            print(l_corr)\n",
    "            for row in range(l_corr[1]):\n",
    "                l_df = duplicate_df_row_at_index(l_df,l_corr[0], correct_ms=True, correct_oe_timestamps=True)\n",
    "                inserted_rows_l.append(l_corr[0])\n",
    "                try:\n",
    "                    l_df = remove_df_row_at_index(l_df, l_corr[0] + 3534, correct_ms=True, correct_oe_timestamps=True)\n",
    "                except IndexError or ValueError:\n",
    "                    l_df = remove_df_row_at_index(l_df, l_df.index[-1])\n",
    "            current_l_correction += 1\n",
    "        elif df_to_correct == 'R':\n",
    "            r_corr = r_corrections[current_r_correction]\n",
    "            inserted_rows_r.append(r_corr)\n",
    "            #print(r_corr)\n",
    "            for row in range(r_corr[1]):\n",
    "                \n",
    "                r_df = duplicate_df_row_at_index(r_df,r_corr[0], correct_ms=True)\n",
    "                try:\n",
    "                    r_df = remove_df_row_at_index(r_df, r_corr[0] + 3534, correct_ms=True)\n",
    "                except IndexError or ValueError:\n",
    "                    r_df = remove_df_row_at_index(r_df, r_df.index[-1], correct_ms=True)\n",
    "            current_r_correction += 1\n",
    "        else:\n",
    "            continue\n",
    "    \n",
    "    return l_df.copy(), r_df.copy()"
   ],
   "metadata": {
    "collapsed": false,
    "ExecuteTime": {
     "end_time": "2024-03-13T09:39:24.601271400Z",
     "start_time": "2024-03-13T09:39:24.561250800Z"
    }
   },
   "id": "592e72ea774a3df8",
   "execution_count": 19
  },
  {
   "cell_type": "code",
   "outputs": [
    {
     "name": "stdout",
     "output_type": "stream",
     "text": [
      "missing frame at 26\n",
      "missing frame at 31\n",
      "112497 112497\n",
      "0\n",
      "0\n",
      "0 S\n",
      "1 S\n",
      "2 S\n",
      "3 S\n",
      "4 S\n",
      "5 S\n",
      "6 S\n",
      "7 S\n",
      "8 S\n",
      "9 S\n",
      "10 S\n",
      "11 S\n",
      "12 S\n",
      "13 S\n",
      "14 S\n",
      "15 S\n",
      "16 S\n",
      "17 S\n",
      "18 S\n",
      "19 S\n",
      "20 S\n",
      "21 S\n",
      "22 S\n",
      "23 S\n",
      "24 S\n",
      "25 S\n",
      "26 S\n",
      "27 S\n",
      "28 S\n",
      "29 S\n"
     ]
    }
   ],
   "source": [
    "l_df, r_df, inserted_rows_l, inserted_rows_r = correct_relative_eye_drift_based_on_LED_lights_out(block, False)\n",
    "r_report_arr = np.array([(r[0],r[1]) for r in inserted_rows_r])\n",
    "l_report_arr = np.array([(r[0].r[1]) for r in inserted_rows_l])\n",
    "block.left_eye_data = l_df\n",
    "block.right_eye_data = r_df"
   ],
   "metadata": {
    "collapsed": false,
    "ExecuteTime": {
     "end_time": "2024-03-11T12:44:24.088882900Z",
     "start_time": "2024-03-11T12:44:23.944056500Z"
    }
   },
   "id": "ff4f632bb82f5634",
   "execution_count": 72
  },
  {
   "cell_type": "code",
   "outputs": [
    {
     "name": "stderr",
     "output_type": "stream",
     "text": [
      "100%|██████████| 106/106 [00:00<00:00, 5545.25it/s]\n",
      "100%|██████████| 106/106 [00:00<00:00, 6593.35it/s]"
     ]
    },
    {
     "name": "stdout",
     "output_type": "stream",
     "text": [
      "collecting left-eye data\n",
      "data length is 160087\n",
      "z_score length is 160087\n",
      "collecting right eye data\n",
      "data length is 160087\n",
      "z_score length is 160087\n"
     ]
    },
    {
     "name": "stderr",
     "output_type": "stream",
     "text": [
      "\n"
     ]
    }
   ],
   "source": [
    "block.find_led_blink_frames()"
   ],
   "metadata": {
    "collapsed": false,
    "ExecuteTime": {
     "end_time": "2024-03-12T12:23:32.739180400Z",
     "start_time": "2024-03-12T12:23:32.654990300Z"
    }
   },
   "id": "f078d5558f30524d",
   "execution_count": 89
  },
  {
   "cell_type": "code",
   "outputs": [],
   "source": [
    "# get the brightness values of the frames for each eye \n",
    "r_vals = block.re_frame_val_list[0][1]\n",
    "l_vals = block.le_frame_val_list[0][1]\n",
    "\n",
    "# get the blink frames\n",
    "l_blinks = block.led_blink_frames_l\n",
    "r_blinks = block.led_blink_frames_r\n",
    "\n",
    "# find the beginning sample of the blink frames:\n",
    "chunks_r = np.insert(np.diff(r_blinks) > 10,0,False)\n",
    "r_inds = np.insert(r_blinks[chunks_r],0,r_blinks[0])\n",
    "chunks_l = np.insert(np.diff(l_blinks) > 10,0,False)\n",
    "l_inds = np.insert(l_blinks[chunks_l],0,l_blinks[0])\n",
    "\n",
    "# verify:\n",
    "bokeh_plotter([r_vals, l_vals], ['right','left'], peaks_list=True, peaks=[r_inds,l_inds])\n",
    "\n"
   ],
   "metadata": {
    "collapsed": false,
    "ExecuteTime": {
     "end_time": "2024-03-12T12:23:37.863336300Z",
     "start_time": "2024-03-12T12:23:36.422099100Z"
    }
   },
   "id": "eba83e15d5db50b1",
   "execution_count": 90
  },
  {
   "cell_type": "code",
   "outputs": [
    {
     "name": "stdout",
     "output_type": "stream",
     "text": [
      "missing frame at 0\n",
      "missing frame at 5\n",
      "double row at 12\n",
      "missing frame at 14\n",
      "missing frame at 16\n",
      "missing frame at 19\n",
      "missing frame at 20\n",
      "missing frame at 21\n",
      "double row at 22\n",
      "missing frame at 24\n"
     ]
    }
   ],
   "source": [
    "def correct_eye_sync_based_on_LED_OE_events():\n",
    "    return\n",
    "# get the brightness values of the frames for each eye \n",
    "r_vals = block.re_frame_val_list[0][1]\n",
    "l_vals = block.le_frame_val_list[0][1]\n",
    "\n",
    "# get the blink frames\n",
    "l_blinks = block.led_blink_frames_l\n",
    "r_blinks = block.led_blink_frames_r\n",
    "\n",
    "# find the beginning sample of the blink frames:\n",
    "chunks_r = np.insert(np.diff(r_blinks) > 10,0,False)\n",
    "r_inds = np.insert(r_blinks[chunks_r],0,r_blinks[0])\n",
    "chunks_l = np.insert(np.diff(l_blinks) > 10,0,False)\n",
    "l_inds = np.insert(l_blinks[chunks_l],0,l_blinks[0])\n",
    "\n",
    "\n",
    "\n",
    "# check for non-matchig lengths\n",
    "if len(l_inds) > len(r_inds):\n",
    "    if max(l_inds) > max(r_inds) + 100: # left with an extra led at the end\n",
    "        print('hi')\n",
    "        l_inds = l_inds[:len(r_inds)]\n",
    "    elif min(l_inds) < min(r_inds) - 100: # left with extra led at the beginning\n",
    "        l_inds = l_inds[1:]\n",
    "        print('hello')\n",
    "elif len(r_inds) > len(l_inds):\n",
    "    if max(r_inds) > max(l_inds) + 100:\n",
    "        print('hell')\n",
    "        r_inds = r_inds[:len(l_inds)]\n",
    "    elif min(r_inds) < min(l_inds) - 100:\n",
    "        r_inds = r_inds[1:]\n",
    "        print('helloya')\n",
    "        \n",
    "l_df = block.left_eye_data.copy()\n",
    "r_df = block.right_eye_data.copy()\n",
    "l_frames = []\n",
    "r_frames = []\n",
    "l_ms = []\n",
    "r_ms = []\n",
    "l_blink_inds = []\n",
    "r_blink_inds = []\n",
    "\n",
    "for i, (lb,rb) in enumerate(zip(l_inds,r_inds)):\n",
    "    l_blink_row = block.left_eye_data.query('eye_frame == @lb')\n",
    "    r_blink_row = block.right_eye_data.query('eye_frame == @rb')\n",
    "    #check that both rows exist in the eye dataframes\n",
    "    if r_blink_row.empty or l_blink_row.empty:\n",
    "        print('missing frame at',i)\n",
    "        continue\n",
    "    if len(r_blink_row) > 1 or len(l_blink_row) > 1:\n",
    "        print('double row at', i)\n",
    "    l_blink_row = l_blink_row.iloc[-1][['eye_frame', 'ms_axis']]\n",
    "    l_ms.append(l_blink_row['ms_axis'])\n",
    "    l_frames.append(l_blink_row['eye_frame'])\n",
    "    l_blink_inds.append(l_blink_row.name)\n",
    "    r_blink_row = r_blink_row.iloc[-1][['eye_frame', 'ms_axis']]\n",
    "    r_ms.append(r_blink_row['ms_axis'])\n",
    "    r_frames.append(r_blink_row['eye_frame'])\n",
    "    r_blink_inds.append(r_blink_row.name)\n",
    "r_arr = np.array([r_frames, r_ms]).T\n",
    "l_arr = np.array([l_frames, l_ms]).T"
   ],
   "metadata": {
    "collapsed": false,
    "ExecuteTime": {
     "end_time": "2024-03-13T09:54:03.060274200Z",
     "start_time": "2024-03-13T09:54:02.876300900Z"
    }
   },
   "id": "ceaced08702a9d7f",
   "execution_count": 20
  },
  {
   "cell_type": "code",
   "outputs": [],
   "source": [
    "bokeh_plotter([r_vals, l_vals], ['right','left'], peaks_list=True, peaks=[r_arr[:,0].astype(int),l_arr[:,0].astype(int)])"
   ],
   "metadata": {
    "collapsed": false,
    "ExecuteTime": {
     "end_time": "2024-03-12T12:24:56.619155300Z",
     "start_time": "2024-03-12T12:24:55.735304900Z"
    }
   },
   "id": "a8279efd1ba73543",
   "execution_count": 92
  },
  {
   "cell_type": "code",
   "outputs": [
    {
     "data": {
      "text/plain": "array([[ 405139.4 ,  405139.4 ],\n       [ 466559.05,  466559.05],\n       [ 526603.75,  526603.75],\n       [ 586624.2 ,  586624.2 ],\n       [ 706706.15,  706706.15],\n       [ 766735.8 ,  766735.8 ],\n       [ 826780.1 ,  826780.1 ],\n       [ 886806.5 ,  886806.5 ],\n       [ 946835.1 ,  946835.1 ],\n       [1006888.9 , 1006888.9 ],\n       [1066914.45, 1066914.45],\n       [1126951.6 , 1126951.6 ],\n       [1247012.95, 1247012.95],\n       [1367076.15, 1367076.15],\n       [1427138.8 , 1427138.8 ],\n       [1667247.8 , 1667247.8 ],\n       [1727284.95, 1727284.95],\n       [1847362.75, 1847362.75],\n       [1907386.95, 1907386.95],\n       [1967415.55, 1967415.55],\n       [2027447.55, 2027447.55],\n       [2087484.55, 2087484.55],\n       [2147517.8 , 2147517.8 ],\n       [2207558.6 , 2207558.6 ],\n       [2267598.6 , 2267598.6 ],\n       [2327625.25, 2327625.25],\n       [2387654.75, 2387654.75],\n       [2447684.6 , 2447684.6 ],\n       [2507726.6 , 2507726.6 ],\n       [2567747.  , 2567747.  ],\n       [2627798.7 , 2627798.7 ],\n       [2687829.65, 2687829.65],\n       [2747850.75, 2747850.75],\n       [2807899.9 , 2807899.9 ],\n       [2867920.15, 2867920.15],\n       [2927957.6 , 2927957.6 ]])"
     },
     "execution_count": 176,
     "metadata": {},
     "output_type": "execute_result"
    }
   ],
   "source": [
    "np.vstack([r_arr[:,1], l_arr[:,1]]).T "
   ],
   "metadata": {
    "collapsed": false,
    "ExecuteTime": {
     "end_time": "2024-03-12T14:09:43.554488900Z",
     "start_time": "2024-03-12T14:09:43.517080200Z"
    }
   },
   "id": "e53c1e8fecbd713",
   "execution_count": 176
  },
  {
   "cell_type": "code",
   "outputs": [
    {
     "data": {
      "text/plain": "array([[ 61419.65,  61419.65],\n       [ 60044.7 ,  60044.7 ],\n       [ 60020.45,  60020.45],\n       [120081.95, 120081.95],\n       [ 60029.65,  60029.65],\n       [ 60044.3 ,  60044.3 ],\n       [ 60026.4 ,  60026.4 ],\n       [ 60028.6 ,  60028.6 ],\n       [ 60053.8 ,  60053.8 ],\n       [ 60025.55,  60025.55],\n       [ 60037.15,  60037.15],\n       [120061.35, 120061.35],\n       [120063.2 , 120063.2 ],\n       [ 60062.65,  60062.65],\n       [240109.  , 240109.  ],\n       [ 60037.15,  60037.15],\n       [120077.8 , 120077.8 ],\n       [ 60024.2 ,  60024.2 ],\n       [ 60028.6 ,  60028.6 ],\n       [ 60032.  ,  60032.  ],\n       [ 60037.  ,  60037.  ],\n       [ 60033.25,  60033.25],\n       [ 60040.8 ,  60040.8 ],\n       [ 60040.  ,  60040.  ],\n       [ 60026.65,  60026.65],\n       [ 60029.5 ,  60029.5 ],\n       [ 60029.85,  60029.85],\n       [ 60042.  ,  60042.  ],\n       [ 60020.4 ,  60020.4 ],\n       [ 60051.7 ,  60051.7 ],\n       [ 60030.95,  60030.95],\n       [ 60021.1 ,  60021.1 ],\n       [ 60049.15,  60049.15],\n       [ 60020.25,  60020.25],\n       [ 60037.45,  60037.45]])"
     },
     "execution_count": 93,
     "metadata": {},
     "output_type": "execute_result"
    }
   ],
   "source": [
    "np.diff(np.vstack([r_arr[:,1], l_arr[:,1]]).T, axis=0) "
   ],
   "metadata": {
    "collapsed": false,
    "ExecuteTime": {
     "end_time": "2024-03-12T12:25:21.785066400Z",
     "start_time": "2024-03-12T12:25:21.752926900Z"
    }
   },
   "id": "c6244f0a089dce4f",
   "execution_count": 93
  },
  {
   "cell_type": "code",
   "outputs": [],
   "source": [
    "# This is where the led blink frames are found and a mean correction value is computed\n",
    "# get ms oe-based blink frames:\n",
    "oe_led_blinks = block.oe_events[['LED_driver']].query('LED_driver == LED_driver').values\n",
    "ms_timestamps = oe_led_blinks.T / 20\n",
    "ms_axis = block.left_eye_data.ms_axis.values\n",
    "ms_blink_frames = []\n",
    "# The timestamps now correspond with the real time axis and not the downsampled arena frames time markers - the following code corrects that and finds the closest frames\n",
    "for t in ms_timestamps[0]:\n",
    "    ms_blink_frames.append(ms_axis[np.argmin(np.abs(ms_axis - t))])\n",
    "\n",
    "ms_blink_times = np.array(ms_blink_frames)\n",
    "\n",
    "def get_timestamp_diff(suspect_times, real_times):\n",
    "    real_ts = []\n",
    "    for i,t in enumerate(suspect_times):\n",
    "        real_t = real_times[np.argmin(np.abs(real_times - t))]\n",
    "        real_ts.append(real_t)\n",
    "    return np.array([suspect_times, real_ts, suspect_times - real_ts]).T\n",
    "\n",
    "l_timestamp_diff = get_timestamp_diff(l_arr[:,1], ms_blink_times)\n",
    "r_timestamp_diff = get_timestamp_diff(r_arr[:,1], ms_blink_times)\n",
    "\n",
    "oe_led_blink_correction = np.mean(l_timestamp_diff[1:-1,2]) // 17 # this computes how many 'frame steps' the dataframe needs to take to be synced\n",
    "\n",
    "# if the correction is positive -> the report is lagging behind real events and needs to move back in time\n",
    "# if the correction is negative -> the report is produced before actual frames are taken and the reel needs to be pushed forward to synchronize\n",
    "\n",
    "\n"
   ],
   "metadata": {
    "collapsed": false,
    "ExecuteTime": {
     "end_time": "2024-03-13T09:54:07.698145400Z",
     "start_time": "2024-03-13T09:54:07.638144500Z"
    }
   },
   "id": "58afbb3420e0fadd",
   "execution_count": 21
  },
  {
   "cell_type": "code",
   "outputs": [
    {
     "data": {
      "text/plain": "79.0"
     },
     "execution_count": 22,
     "metadata": {},
     "output_type": "execute_result"
    }
   ],
   "source": [
    "oe_led_blink_correction"
   ],
   "metadata": {
    "collapsed": false,
    "ExecuteTime": {
     "end_time": "2024-03-13T09:54:08.368196600Z",
     "start_time": "2024-03-13T09:54:08.327197400Z"
    }
   },
   "id": "ffd4ca0fc56a26cc",
   "execution_count": 22
  },
  {
   "cell_type": "code",
   "outputs": [],
   "source": [
    "# oe_lag correction - RUN ONLY ONCE!!!!\n",
    "df = block.left_eye_data.copy()\n",
    "df['OE_timestamp'] = df['OE_timestamp'] - oe_led_blink_correction*17*20\n",
    "df['ms_axis'] = df['ms_axis'] - oe_led_blink_correction*17 \n",
    "block.left_eye_data = df # this df should be corrected to OE events!\n",
    "\n",
    "df = block.right_eye_data.copy()\n",
    "df['OE_timestamp'] = df['OE_timestamp'] - oe_led_blink_correction*17*20\n",
    "df['ms_axis'] = df['ms_axis'] - oe_led_blink_correction*17 \n",
    "block.right_eye_data = df # this df should be corrected to OE events!\n"
   ],
   "metadata": {
    "collapsed": false,
    "ExecuteTime": {
     "end_time": "2024-03-12T14:09:27.827723800Z",
     "start_time": "2024-03-12T14:09:27.745178800Z"
    }
   },
   "id": "5c76276da426b405",
   "execution_count": 174
  },
  {
   "cell_type": "code",
   "outputs": [],
   "source": [
    "# This is a verification of the blink-step problem (lag between LED_driver_TTLs and led blinks in eye videos)\n",
    "\n",
    "le_TTLs = block.oe_events.L_eye_TTL.dropna()\n",
    "led_driver_TTLs = block.oe_events.LED_driver.dropna()\n",
    "le_TTLs.values[np.argmin(np.abs(le_TTLs.values - led_driver_TTLs.values[3]))]\n",
    "def play_video(video_path, start_frame=0):\n",
    "    cap = cv2.VideoCapture(video_path)\n",
    "    if not cap.isOpened():\n",
    "        print(\"Error: Unable to open video file.\")\n",
    "        return\n",
    "\n",
    "    # Set the start frame\n",
    "    cap.set(cv2.CAP_PROP_POS_FRAMES, start_frame)\n",
    "    \n",
    "    frames_played = start_frame\n",
    "\n",
    "    while True:\n",
    "        ret, frame = cap.read()\n",
    "        if not ret:\n",
    "            print(\"End of video.\")\n",
    "            break\n",
    "\n",
    "        # Draw frame count on the frame\n",
    "        cv2.putText(frame, f\"Frames played: {frames_played - start_frame}\", (20, 50), cv2.FONT_HERSHEY_SIMPLEX, 1, (0, 255, 0), 2)\n",
    "\n",
    "        cv2.imshow('Video', frame)\n",
    "        \n",
    "        frames_played += 1\n",
    "\n",
    "        key = cv2.waitKey(0)\n",
    "        if key == ord('q'):\n",
    "            break\n",
    "        elif key == ord('n'):\n",
    "            continue\n",
    "\n",
    "    cap.release()\n",
    "    cv2.destroyAllWindows()\n",
    "\n",
    "\n",
    "video_path = block.le_videos[0]\n",
    "play_video(video_path=video_path, start_frame=11669+3680)\n"
   ],
   "metadata": {
    "collapsed": false,
    "ExecuteTime": {
     "end_time": "2024-03-13T13:25:54.208182900Z",
     "start_time": "2024-03-13T13:25:28.319386500Z"
    }
   },
   "id": "bac8985f0cbc30d3",
   "execution_count": 112
  },
  {
   "cell_type": "code",
   "outputs": [
    {
     "name": "stderr",
     "output_type": "stream",
     "text": [
      "100%|██████████| 499/499 [00:00<00:00, 1782.21it/s]"
     ]
    },
    {
     "name": "stdout",
     "output_type": "stream",
     "text": [
      "\n",
      " ellipses calculation complete\n"
     ]
    },
    {
     "name": "stderr",
     "output_type": "stream",
     "text": [
      "\n"
     ]
    },
    {
     "data": {
      "text/plain": "       center_x    center_y      width     height       phi  ellipse_size\n0           NaN         NaN        NaN        NaN       NaN           NaN\n1           NaN         NaN        NaN        NaN       NaN           NaN\n2           NaN         NaN        NaN        NaN       NaN           NaN\n3           NaN         NaN        NaN        NaN       NaN           NaN\n4           NaN         NaN        NaN        NaN       NaN           NaN\n..          ...         ...        ...        ...       ...           ...\n494  300.791002  221.603339  70.292923  67.290508  0.023982  14859.879209\n495  306.324043  224.135213  72.716317  67.412158  0.285855  15399.973656\n496  312.557446  229.092076  75.100778  67.140380  0.140160  15840.836355\n497  316.224135  233.315824  74.134170  70.348368  0.193882  16384.090047\n498  319.686523  236.063303  75.146119  69.694959  0.101364  16453.481169\n\n[499 rows x 6 columns]",
      "text/html": "<div>\n<style scoped>\n    .dataframe tbody tr th:only-of-type {\n        vertical-align: middle;\n    }\n\n    .dataframe tbody tr th {\n        vertical-align: top;\n    }\n\n    .dataframe thead th {\n        text-align: right;\n    }\n</style>\n<table border=\"1\" class=\"dataframe\">\n  <thead>\n    <tr style=\"text-align: right;\">\n      <th></th>\n      <th>center_x</th>\n      <th>center_y</th>\n      <th>width</th>\n      <th>height</th>\n      <th>phi</th>\n      <th>ellipse_size</th>\n    </tr>\n  </thead>\n  <tbody>\n    <tr>\n      <th>0</th>\n      <td>NaN</td>\n      <td>NaN</td>\n      <td>NaN</td>\n      <td>NaN</td>\n      <td>NaN</td>\n      <td>NaN</td>\n    </tr>\n    <tr>\n      <th>1</th>\n      <td>NaN</td>\n      <td>NaN</td>\n      <td>NaN</td>\n      <td>NaN</td>\n      <td>NaN</td>\n      <td>NaN</td>\n    </tr>\n    <tr>\n      <th>2</th>\n      <td>NaN</td>\n      <td>NaN</td>\n      <td>NaN</td>\n      <td>NaN</td>\n      <td>NaN</td>\n      <td>NaN</td>\n    </tr>\n    <tr>\n      <th>3</th>\n      <td>NaN</td>\n      <td>NaN</td>\n      <td>NaN</td>\n      <td>NaN</td>\n      <td>NaN</td>\n      <td>NaN</td>\n    </tr>\n    <tr>\n      <th>4</th>\n      <td>NaN</td>\n      <td>NaN</td>\n      <td>NaN</td>\n      <td>NaN</td>\n      <td>NaN</td>\n      <td>NaN</td>\n    </tr>\n    <tr>\n      <th>...</th>\n      <td>...</td>\n      <td>...</td>\n      <td>...</td>\n      <td>...</td>\n      <td>...</td>\n      <td>...</td>\n    </tr>\n    <tr>\n      <th>494</th>\n      <td>300.791002</td>\n      <td>221.603339</td>\n      <td>70.292923</td>\n      <td>67.290508</td>\n      <td>0.023982</td>\n      <td>14859.879209</td>\n    </tr>\n    <tr>\n      <th>495</th>\n      <td>306.324043</td>\n      <td>224.135213</td>\n      <td>72.716317</td>\n      <td>67.412158</td>\n      <td>0.285855</td>\n      <td>15399.973656</td>\n    </tr>\n    <tr>\n      <th>496</th>\n      <td>312.557446</td>\n      <td>229.092076</td>\n      <td>75.100778</td>\n      <td>67.140380</td>\n      <td>0.140160</td>\n      <td>15840.836355</td>\n    </tr>\n    <tr>\n      <th>497</th>\n      <td>316.224135</td>\n      <td>233.315824</td>\n      <td>74.134170</td>\n      <td>70.348368</td>\n      <td>0.193882</td>\n      <td>16384.090047</td>\n    </tr>\n    <tr>\n      <th>498</th>\n      <td>319.686523</td>\n      <td>236.063303</td>\n      <td>75.146119</td>\n      <td>69.694959</td>\n      <td>0.101364</td>\n      <td>16453.481169</td>\n    </tr>\n  </tbody>\n</table>\n<p>499 rows × 6 columns</p>\n</div>"
     },
     "execution_count": 104,
     "metadata": {},
     "output_type": "execute_result"
    }
   ],
   "source": [
    "dlc_csv_path =r'Z:\\Nimrod\\3D_calibration\\Test_Dataset\\Eye_angle_test_random_movementsDLC_resnet_50_Eye_Tracking_piplineMar1shuffle1_950000.csv'\n",
    "le_csv = pd.read_csv(dlc_csv_path, header=1)\n",
    "ellipse_df = block.eye_tracking_analysis(le_csv,0.6)\n",
    "ellipse_df"
   ],
   "metadata": {
    "collapsed": false,
    "ExecuteTime": {
     "end_time": "2024-03-14T15:48:10.810010300Z",
     "start_time": "2024-03-14T15:48:10.487734100Z"
    }
   },
   "id": "1be4b27bdff031a2",
   "execution_count": 104
  },
  {
   "cell_type": "code",
   "outputs": [],
   "source": [
    "# this shows the video with the ellipse:\n",
    "export_path = r'Z:\\Nimrod\\3D_calibration\\Test_Dataset\\elliipse_fit_test.mp4' \n",
    "ellipse_dataframe = ellipse_df \n",
    "video_path = r'Z:\\Nimrod\\3D_calibration\\Test_Dataset\\Eye_angle_test_random_movementsDLC_resnet_50_Eye_Tracking_piplineMar1shuffle1_950000_labeled.mp4'\n",
    "transformation_matrix=None\n",
    "xflip=True\n",
    "# Open the video file\n",
    "cap = cv2.VideoCapture(video_path)\n",
    "\n",
    "if not cap.isOpened():\n",
    "    raise Exception(\"Error: Unable to open video file.\")\n",
    "fourcc = cv2.VideoWriter_fourcc(*'mp4v')\n",
    "out = cv2.VideoWriter(export_path, fourcc, 30, (int(cap.get(3)), int(cap.get(4))))\n",
    "# Loop through each frame\n",
    "while True:\n",
    "    # Read a frame from the video\n",
    "    ret, frame = cap.read()\n",
    "\n",
    "    if not ret:\n",
    "        # Break the loop if the video is finished\n",
    "        break\n",
    "    \n",
    "    # Optionally flip the frame along the x-axis\n",
    "    if xflip:\n",
    "        frame = cv2.flip(frame, 1)\n",
    "\n",
    "    # Apply transformation matrix if provided\n",
    "    if transformation_matrix is not None:\n",
    "        frame = cv2.warpAffine(frame, transformation_matrix, (frame.shape[1], frame.shape[0]))\n",
    "\n",
    "    # Get the corresponding ellipse data for the current frame\n",
    "    current_frame_num = int(cap.get(cv2.CAP_PROP_POS_FRAMES)) - 1\n",
    "    try:\n",
    "        current_frame_data = ellipse_dataframe.iloc[ellipse_dataframe.query('index == @current_frame_num').index[0]]\n",
    "    except IndexError:\n",
    "        continue\n",
    "\n",
    "    # Extract ellipse parameters\n",
    "    if transformation_matrix is not None:\n",
    "        try:\n",
    "            center_x = int(current_frame_data['center_x'])\n",
    "            center_y = int(current_frame_data['center_y'])\n",
    "            width = int(current_frame_data['width'])\n",
    "            height = int(current_frame_data['height'])\n",
    "            phi = float(current_frame_data['phi'])\n",
    "            \n",
    "            # Draw the ellipse on the frame\n",
    "            cv2.ellipse(frame, (center_x, center_y), (width, height), phi, 0, 360, (0, 255, 0), 2)\n",
    "            \n",
    "            # Add text to the frame\n",
    "            text = f'ellipse angle: {phi}'\n",
    "            cv2.putText(frame, text, (10, 30), cv2.FONT_HERSHEY_SIMPLEX, 1, (0, 255, 0), 2, cv2.LINE_AA)\n",
    "    \n",
    "            \n",
    "            # Display the frame\n",
    "            cv2.imshow('Video with Ellipses', frame)\n",
    "        \n",
    "            # Check for the 'q' key to quit\n",
    "            if cv2.waitKey(25) & 0xFF == ord('q'):\n",
    "                break\n",
    "        except ValueError:\n",
    "            continue\n",
    "    else:\n",
    "        try:\n",
    "            center_x = int(current_frame_data['center_x'])\n",
    "            center_y = int(current_frame_data['center_y'])\n",
    "            width = int(current_frame_data['width'])\n",
    "            height = int(current_frame_data['height'])\n",
    "            phi = float(current_frame_data['phi'])\n",
    "    \n",
    "            # Draw the ellipse on the frame\n",
    "            cv2.ellipse(frame, (center_x, center_y), (width, height), phi, 0, 360, (0, 255, 0), 2)\n",
    "            \n",
    "            # Add text to the frame\n",
    "            text = f'ellipse angle: {phi}'\n",
    "            cv2.putText(frame, text, (10, 30), cv2.FONT_HERSHEY_SIMPLEX, 1, (0, 255, 0), 2, cv2.LINE_AA)\n",
    "            \n",
    "            # Display the frame\n",
    "            cv2.imshow('Video with Ellipses', frame)\n",
    "        \n",
    "        \n",
    "            out.write(frame)\n",
    "            # Check for the 'q' key to quit\n",
    "            if cv2.waitKey(25) & 0xFF == ord('q'):\n",
    "                break\n",
    "        except ValueError:\n",
    "            continue\n",
    "\n",
    "# Release video capture object and close the window\n",
    "cap.release()\n",
    "out.release()\n",
    "cv2.destroyAllWindows()"
   ],
   "metadata": {
    "collapsed": false,
    "ExecuteTime": {
     "end_time": "2024-03-14T15:56:57.406323500Z",
     "start_time": "2024-03-14T15:56:37.986292800Z"
    }
   },
   "id": "22a135ba59212e07",
   "execution_count": 109
  },
  {
   "cell_type": "code",
   "outputs": [],
   "source": [],
   "metadata": {
    "collapsed": false
   },
   "id": "316d1c07979eea59"
  }
 ],
 "metadata": {
  "kernelspec": {
   "display_name": "Python 3",
   "language": "python",
   "name": "python3"
  },
  "language_info": {
   "codemirror_mode": {
    "name": "ipython",
    "version": 2
   },
   "file_extension": ".py",
   "mimetype": "text/x-python",
   "name": "python",
   "nbconvert_exporter": "python",
   "pygments_lexer": "ipython2",
   "version": "2.7.6"
  }
 },
 "nbformat": 4,
 "nbformat_minor": 5
}
