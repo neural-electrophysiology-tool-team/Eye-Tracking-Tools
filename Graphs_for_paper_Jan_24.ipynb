{
 "cells": [
  {
   "cell_type": "code",
   "execution_count": 1,
   "id": "initial_id",
   "metadata": {
    "collapsed": true,
    "ExecuteTime": {
     "end_time": "2024-02-12T09:25:20.968942300Z",
     "start_time": "2024-02-12T09:25:20.143719300Z"
    }
   },
   "outputs": [],
   "source": [
    "import numpy as np\n",
    "import cv2\n",
    "from itertools import cycle\n",
    "import pathlib\n",
    "import math\n",
    "import tqdm\n",
    "import scipy.io\n",
    "from matplotlib import pyplot as plt\n",
    "import scipy.io\n",
    "import h5py\n",
    "import re\n",
    "from lxml import etree as ET\n",
    "import scipy.signal as sig\n",
    "import pandas as pd\n",
    "from scipy.stats import kde\n",
    "from BlockSync_current import BlockSync\n",
    "import UtilityFunctions_newOE as uf\n",
    "from scipy import signal\n",
    "import bokeh\n",
    "import seaborn as sns"
   ]
  },
  {
   "cell_type": "code",
   "outputs": [],
   "source": [
    "# new utility functions defined here:\n",
    "def bokeh_plotter(data_list, label_list,\n",
    "                  plot_name='default',\n",
    "                  x_axis='X', y_axis='Y',\n",
    "                  peaks=None, export_path=False):\n",
    "    \"\"\"Generates an interactive Bokeh plot for the given data vector.\n",
    "    Args:\n",
    "        data_list (list or array): The data to be plotted.\n",
    "        label_list (list of str): The labels of the data vectors\n",
    "        plot_name (str, optional): The title of the plot. Defaults to 'default'.\n",
    "        x_axis (str, optional): The label for the x-axis. Defaults to 'X'.\n",
    "        y_axis (str, optional): The label for the y-axis. Defaults to 'Y'.\n",
    "        peaks (list or array, optional): Indices of peaks to highlight on the plot. Defaults to None.\n",
    "        export_path (False or str): when set to str, will output the resulting html fig\n",
    "    \"\"\"\n",
    "    color_cycle = cycle(bokeh.palettes.Category10_10)\n",
    "    fig = bokeh.plotting.figure(title=f'bokeh explorer: {plot_name}',\n",
    "                                x_axis_label=x_axis,\n",
    "                                y_axis_label=y_axis,\n",
    "                                plot_width=1500,\n",
    "                                plot_height=700)\n",
    "\n",
    "    for i, vec in enumerate(range(len(data_list))):\n",
    "        color = next(color_cycle)\n",
    "        data_vector = data_list[vec]\n",
    "        if label_list is None:\n",
    "            fig.line(range(len(data_vector)), data_vector, line_color=color, legend_label=f\"Line {len(fig.renderers)}\")\n",
    "        elif len(label_list) == len(data_list):\n",
    "            fig.line(range(len(data_vector)), data_vector, line_color=color, legend_label=f\"{label_list[i]}\")\n",
    "\n",
    "    if peaks is not None:\n",
    "        fig.circle(peaks, data_vector[peaks], size=10, color='red')\n",
    "\n",
    "    if export_path is not False:\n",
    "        print(f'exporting to {export_path}')\n",
    "        bokeh.io.output.output_file(filename=str(export_path / f'{plot_name}.html'), title=f'{plot_name}')\n",
    "    bokeh.plotting.show(fig)\n",
    "    \n",
    "    \n",
    "    # verification function for a single eye video + ellipse (requires cv2)\n",
    "\n",
    "# currently working very slowly\n",
    "def play_video_with_ellipses(block, eye, path_to_video=False, xflip=False):\n",
    "\n",
    "    if eye == 'left':\n",
    "        video_path = block.le_videos[0]\n",
    "        ellipse_dataframe = block.left_eye_data\n",
    "    elif eye == 'right':\n",
    "        video_path = block.re_videos[0]\n",
    "        ellipse_dataframe = block.right_eye_data\n",
    "    else:\n",
    "        raise ValueError(f\"eye can only be 'left' or 'right'\")\n",
    "    if video_path is not False:\n",
    "        video_path = path_to_video\n",
    "    # Open the video file\n",
    "    cap = cv2.VideoCapture(video_path)\n",
    "\n",
    "    if not cap.isOpened():\n",
    "        print(\"Error opening video file.\")\n",
    "        return\n",
    "\n",
    "    # Loop through each frame\n",
    "    while True:\n",
    "        # Read a frame from the video\n",
    "        ret, frame = cap.read()\n",
    "    \n",
    "        if not ret:\n",
    "            # Break the loop if the video is finished\n",
    "            break\n",
    "        \n",
    "        # Optionally flip the frame along the x-axis\n",
    "        if xflip:\n",
    "            frame = cv2.flip(frame, 1)\n",
    "\n",
    "        # Get the corresponding ellipse data for the current frame\n",
    "        current_frame_num = int(cap.get(cv2.CAP_PROP_POS_FRAMES)) - 1\n",
    "        try:\n",
    "            if eye == 'right':\n",
    "                current_frame_data = ellipse_dataframe.iloc[ellipse_dataframe.query('R_eye_frame == @current_frame_num').index[0]]\n",
    "            elif eye == 'left':\n",
    "                current_frame_data = ellipse_dataframe.iloc[ellipse_dataframe.query('L_eye_frame == @current_frame_num').index[0]]\n",
    "        except IndexError:\n",
    "            continue\n",
    "        # Extract ellipse parameters\n",
    "        try:\n",
    "            center_x = int(current_frame_data['center_x'])\n",
    "            center_y = int(current_frame_data['center_y'])\n",
    "            width = int(current_frame_data['width'])\n",
    "            height = int(current_frame_data['height'])\n",
    "            phi = float(current_frame_data['phi'])\n",
    "    \n",
    "            # Draw the ellipse on the frame\n",
    "            cv2.ellipse(frame, (center_x, center_y), (width, height), phi, 0, 360, (0, 255, 0), 2)\n",
    "    \n",
    "            # Display the frame\n",
    "            cv2.imshow('Video with Ellipses', frame)\n",
    "        \n",
    "            # Check for the 'q' key to quit\n",
    "            if cv2.waitKey(25) & 0xFF == ord('q'):\n",
    "                break\n",
    "        except ValueError:\n",
    "            continue\n",
    "    # Release video capture object and close the window\n",
    "    cap.release()\n",
    "    cv2.destroyAllWindows()\n",
    "    \n",
    "def play_video_with_ellipses_rotation(block, eye, path_to_video=False, xflip=False, transformation_matrix=None):\n",
    "    if eye == 'left':\n",
    "        video_path = block.le_videos[0]\n",
    "        ellipse_dataframe = block.left_eye_data\n",
    "    elif eye == 'right':\n",
    "        video_path = block.re_videos[0]\n",
    "        ellipse_dataframe = block.right_eye_data\n",
    "    else:\n",
    "        raise ValueError(f\"eye can only be 'left' or 'right'\")\n",
    "    \n",
    "    if video_path is not False:\n",
    "        video_path = path_to_video\n",
    "\n",
    "    # Open the video file\n",
    "    cap = cv2.VideoCapture(video_path)\n",
    "\n",
    "    if not cap.isOpened():\n",
    "        print(\"Error opening video file.\")\n",
    "        return\n",
    "\n",
    "    # Loop through each frame\n",
    "    while True:\n",
    "        # Read a frame from the video\n",
    "        ret, frame = cap.read()\n",
    "    \n",
    "        if not ret:\n",
    "            # Break the loop if the video is finished\n",
    "            break\n",
    "        \n",
    "        # Optionally flip the frame along the x-axis\n",
    "        if xflip:\n",
    "            frame = cv2.flip(frame, 1)\n",
    "\n",
    "        # Apply transformation matrix if provided\n",
    "        if transformation_matrix is not None:\n",
    "            frame = cv2.warpAffine(frame, transformation_matrix, (frame.shape[1], frame.shape[0]))\n",
    "\n",
    "        # Get the corresponding ellipse data for the current frame\n",
    "        current_frame_num = int(cap.get(cv2.CAP_PROP_POS_FRAMES)) - 1\n",
    "        try:\n",
    "            current_frame_data = ellipse_dataframe.iloc[ellipse_dataframe.query('eye_frame == @current_frame_num').index[0]]\n",
    "        except IndexError:\n",
    "            continue\n",
    "\n",
    "        # Extract ellipse parameters\n",
    "        if transformation_matrix is not None:\n",
    "            try:\n",
    "                center_x = int(current_frame_data['center_x'])\n",
    "                center_y = int(current_frame_data['center_y'])\n",
    "                width = int(current_frame_data['width'])\n",
    "                height = int(current_frame_data['height'])\n",
    "                phi = float(current_frame_data['phi'])\n",
    "                \n",
    "                # Draw the ellipse on the frame\n",
    "                cv2.ellipse(frame, (center_x, center_y), (width, height), phi, 0, 360, (0, 255, 0), 2)\n",
    "                \n",
    "                # Add text to the frame\n",
    "                text = f'ellipse angle: {phi}'\n",
    "                cv2.putText(frame, text, (10, 30), cv2.FONT_HERSHEY_SIMPLEX, 1, (0, 255, 0), 2, cv2.LINE_AA)\n",
    "        \n",
    "                \n",
    "                # Display the frame\n",
    "                cv2.imshow('Video with Ellipses', frame)\n",
    "            \n",
    "                # Check for the 'q' key to quit\n",
    "                if cv2.waitKey(25) & 0xFF == ord('q'):\n",
    "                    break\n",
    "            except ValueError:\n",
    "                continue\n",
    "        else:\n",
    "            try:\n",
    "                center_x = int(current_frame_data['center_x'])\n",
    "                center_y = int(current_frame_data['center_y'])\n",
    "                width = int(current_frame_data['width'])\n",
    "                height = int(current_frame_data['height'])\n",
    "                phi = float(current_frame_data['phi'])\n",
    "        \n",
    "                # Draw the ellipse on the frame\n",
    "                cv2.ellipse(frame, (center_x, center_y), (width, height), phi, 0, 360, (0, 255, 0), 2)\n",
    "                \n",
    "                # Add text to the frame\n",
    "                text = f'ellipse angle: {phi}'\n",
    "                cv2.putText(frame, text, (10, 30), cv2.FONT_HERSHEY_SIMPLEX, 1, (0, 255, 0), 2, cv2.LINE_AA)\n",
    "                \n",
    "                # Display the frame\n",
    "                cv2.imshow('Video with Ellipses', frame)\n",
    "            \n",
    "                # Check for the 'q' key to quit\n",
    "                if cv2.waitKey(25) & 0xFF == ord('q'):\n",
    "                    break\n",
    "            except ValueError:\n",
    "                continue\n",
    "\n",
    "    # Release video capture object and close the window\n",
    "    cap.release()\n",
    "    cv2.destroyAllWindows()\n",
    "\n",
    "def collect_lights_out_events(data, roll_w_size=1500, plot=False): \n",
    "    \"\"\"Identifies potential lights-out events from the given data.\n",
    "    \n",
    "    Args:\n",
    "        data (list or array): The data containing light measurements.\n",
    "        roll_w_size (int, optional): The window size for rolling z-score calculation. Defaults to 1500.\n",
    "\n",
    "    Returns:\n",
    "        list: Indices of the identified potential lights-out events.\n",
    "    \"\"\"\n",
    "    # use a function to get relative z-scores and deal with changes in ambient light\n",
    "    z_score_data = rolling_window_z_scores(data, roll_w_size=roll_w_size)\n",
    "    z_score_data = z_score_data[:len(data)]\n",
    "    \n",
    "    # detect peaks based on the scipy algorithm\n",
    "    peak_indices, _ = scipy.signal.find_peaks(-1 * z_score_data, width=1, distance = 3000)\n",
    "    \n",
    "    # expand the peaks to include the dimming and re-lighting frames\n",
    "    expanded_indices = np.sort(np.array([peak_indices -1, peak_indices, peak_indices + 1]).flatten())\n",
    "    \n",
    "    if plot:\n",
    "        bokeh_plotter([z_score_data],label_list=['phi diff'], plot_name='peak detector output', x_axis='Frame', y_axis='brightness Z score', peaks=expanded_indices)\n",
    "    \n",
    "    return expanded_indices\n",
    "\n",
    "def rolling_window_z_scores(data, roll_w_size=120):\n",
    "    \"\"\"\n",
    "    Detect threshold-crossing data points in a 1D data vector using a rolling window approach.\n",
    "\n",
    "    Parameters:\n",
    "    - data (numpy array): 1D data vector with values.\n",
    "    - roll_w_size (int): Size, in samples, of the rolling window.\n",
    "    \n",
    "    Returns:\n",
    "    - numpy array: A 1D array where each element is the relative z-score of the original value in its window\n",
    "    \"\"\"\n",
    "    result = []\n",
    "    len_data = len(data)\n",
    "\n",
    "    for i in tqdm.tqdm(range(0, len_data - roll_w_size + 1, roll_w_size)):\n",
    "        window_data = data[i:i + roll_w_size]\n",
    "        \n",
    "        std_value = np.std(window_data)\n",
    "        zscores = scipy.stats.zscore(window_data)\n",
    "        \n",
    "        \n",
    "        #threshold_crossing_indices = np.where(window_data < std_value*threshold)[0]\n",
    "        if i==0:\n",
    "            result = zscores\n",
    "        else:\n",
    "            result = np.concatenate([result, zscores])\n",
    "        \n",
    "\n",
    "    # Handle remaining elements after the last complete rolling window\n",
    "    last_window_start = len_data - roll_w_size\n",
    "    last_window_data = data[last_window_start:]\n",
    "\n",
    "    std_value_last = np.std(last_window_data)\n",
    "    zscores_last = scipy.stats.zscore(last_window_data)\n",
    "    result = np.concatenate([result, zscores_last])\n",
    "    \n",
    "    return result\n"
   ],
   "metadata": {
    "collapsed": false,
    "ExecuteTime": {
     "end_time": "2024-02-12T09:25:20.997940900Z",
     "start_time": "2024-02-12T09:25:20.934941500Z"
    }
   },
   "id": "af772d371f6cc645",
   "execution_count": 2
  },
  {
   "cell_type": "code",
   "outputs": [],
   "source": [
    "def show_synced_eye_videos(block, start_ms, end_ms, xflip=True, rotate_frames=True):\n",
    "    \n",
    "    le_vid = block.le_videos[0]\n",
    "    re_vid = block.re_videos[0]\n",
    "\n",
    "    if block.left_eye_data.iloc[0].ms_axis > start_ms:\n",
    "        print(f'ms_axis starts at {block.left_eye_data.iloc[0].ms_axis} but {start_ms} was requested, defaulting to earliest sample')\n",
    "        start_ms = block.left_eye_data.iloc[0].ms_axis\n",
    "    if block.left_eye_data.iloc[-1].ms_axis < end_ms:\n",
    "        print(f'ms_axis ends at {block.left_eye_data.iloc[-1].ms_axis} but {end_ms} was requested, defaulting to last sample')\n",
    "        end_ms = block.left_eye_data.iloc[-1].ms_axis\n",
    "    \n",
    "    ms_timestamps = block.left_eye_data.query('ms_axis > @start_ms and ms_axis < @end_ms')['ms_axis'].values\n",
    "    \n",
    "    le_cap = cv2.VideoCapture(le_vid)\n",
    "    re_cap = cv2.VideoCapture(re_vid)\n",
    "\n",
    "    if not le_cap.isOpened() or not re_cap.isOpened():\n",
    "        print(\"Error opening video file.\")\n",
    "        return\n",
    "    \n",
    "    prev_l_frame = 0\n",
    "    prev_r_frame = 0\n",
    "    for current_ms in ms_timestamps:\n",
    "        \n",
    "        current_le_frame = int(block.left_eye_data.query('ms_axis == @current_ms').eye_frame)\n",
    "        current_re_frame = int(block.right_eye_data.query('ms_axis == @current_ms').eye_frame)\n",
    "        \n",
    "        if prev_l_frame + 1 != current_le_frame:\n",
    "            le_cap.set(cv2.CAP_PROP_POS_FRAMES, current_le_frame)        \n",
    "        l_ret, l_frame = le_cap.read()\n",
    "        \n",
    "        if prev_r_frame + 1 != current_re_frame:\n",
    "            re_cap.set(cv2.CAP_PROP_POS_FRAMES, current_re_frame)        \n",
    "        r_ret, r_frame = re_cap.read()\n",
    "        \n",
    "        if not r_ret or not l_ret:\n",
    "            break\n",
    "        \n",
    "        # Optionally flip the frame along the x-axis\n",
    "        if xflip:\n",
    "            l_frame = cv2.flip(l_frame, 1)\n",
    "            r_frame = cv2.flip(r_frame, 1)\n",
    "        \n",
    "        if rotate_frames:\n",
    "            if block.left_rotation_matrix is None or block.right_rotation_matrix is None:\n",
    "                print('at least one rotation matrix is missing... \\n '\n",
    "                      'run the rotate_frame_to_horizontal_with_interpolation for each eye video')\n",
    "            else:\n",
    "                # Apply transformation matrix if provided\n",
    "                l_frame = cv2.warpAffine(l_frame, block.left_rotation_matrix, (l_frame.shape[1], l_frame.shape[0]))\n",
    "                r_frame = cv2.warpAffine(r_frame, block.right_rotation_matrix, (r_frame.shape[1], r_frame.shape[0]))\n",
    "            \n",
    "        # Concatenate frames side by side\n",
    "        synchronized_frame = cv2.hconcat([l_frame, r_frame])\n",
    "        \n",
    "        # Display the synchronized frame\n",
    "        cv2.imshow('Synchronized Videos', synchronized_frame)\n",
    "        prev_l_frame = current_le_frame\n",
    "        prev_r_frame = current_re_frame\n",
    "        \n",
    "        # Check for the 'q' key to quit\n",
    "        if cv2.waitKey(25) & 0xFF == ord('q'):\n",
    "            break\n",
    "        \n",
    "    le_cap.release()\n",
    "    re_cap.release()\n",
    "    cv2.destroyAllWindows()\n",
    "    "
   ],
   "metadata": {
    "collapsed": false,
    "ExecuteTime": {
     "end_time": "2024-02-12T09:25:21.012939300Z",
     "start_time": "2024-02-12T09:25:20.991940500Z"
    }
   },
   "id": "b6b56e1efcb33294",
   "execution_count": 3
  },
  {
   "cell_type": "code",
   "outputs": [],
   "source": [
    "import cv2\n",
    "\n",
    "def show_synced_eye_videos_for_saccades(block, start_ms_list, end_ms_list, xflip=True, yrotate=True, rotate_frames=True):\n",
    "    le_vid = block.le_videos[0]\n",
    "    re_vid = block.re_videos[0]\n",
    "\n",
    "    if len(start_ms_list) != len(end_ms_list):\n",
    "        print(\"Error: The number of start_ms values must be equal to the number of end_ms values.\")\n",
    "        return\n",
    "\n",
    "    le_cap = cv2.VideoCapture(le_vid)\n",
    "    re_cap = cv2.VideoCapture(re_vid)\n",
    "\n",
    "    if not le_cap.isOpened() or not re_cap.isOpened():\n",
    "        print(\"Error opening video file.\")\n",
    "        return\n",
    "\n",
    "    prev_l_frame = 0\n",
    "    prev_r_frame = 0\n",
    "    stop_flag = False\n",
    "    for i, (start_ms, end_ms) in enumerate(zip(start_ms_list, end_ms_list)):\n",
    "        if stop_flag:\n",
    "            break\n",
    "        if block.left_eye_data.iloc[0].ms_axis > start_ms:\n",
    "            print(f'ms_axis starts at {block.left_eye_data.iloc[0].ms_axis} but {start_ms} was requested, defaulting to earliest sample')\n",
    "            start_ms = block.left_eye_data.iloc[0].ms_axis\n",
    "        if block.left_eye_data.iloc[-1].ms_axis < end_ms:\n",
    "            print(f'ms_axis ends at {block.left_eye_data.iloc[-1].ms_axis} but {end_ms} was requested, defaulting to last sample')\n",
    "            end_ms = block.left_eye_data.iloc[-1].ms_axis\n",
    "\n",
    "        ms_timestamps = block.left_eye_data.query('ms_axis > @start_ms and ms_axis < @end_ms')['ms_axis'].values\n",
    "\n",
    "        for current_ms in ms_timestamps:\n",
    "            current_le_frame = int(block.left_eye_data.query('ms_axis == @current_ms').eye_frame)\n",
    "            current_re_frame = int(block.right_eye_data.query('ms_axis == @current_ms').eye_frame)\n",
    "\n",
    "            if prev_l_frame + 1 != current_le_frame:\n",
    "                le_cap.set(cv2.CAP_PROP_POS_FRAMES, current_le_frame)\n",
    "            l_ret, l_frame = le_cap.read()\n",
    "\n",
    "            if prev_r_frame + 1 != current_re_frame:\n",
    "                re_cap.set(cv2.CAP_PROP_POS_FRAMES, current_re_frame)\n",
    "            r_ret, r_frame = re_cap.read()\n",
    "\n",
    "            if not r_ret or not l_ret:\n",
    "                break\n",
    "\n",
    "            if xflip:\n",
    "                l_frame = cv2.flip(l_frame, 1)\n",
    "                r_frame = cv2.flip(r_frame, 1)\n",
    "            \n",
    "            if rotate_frames:\n",
    "                if block.left_rotation_matrix is None or block.right_rotation_matrix is None:\n",
    "                    raise AttributeError('At least one rotation matrix is missing... \\n '\n",
    "                                         'Run the rotate_frame_to_horizontal_with_interpolation for each eye video')\n",
    "                else:\n",
    "                    l_frame = cv2.warpAffine(l_frame, block.left_rotation_matrix, (l_frame.shape[1], l_frame.shape[0]))\n",
    "                    r_frame = cv2.warpAffine(r_frame, block.right_rotation_matrix, (r_frame.shape[1], r_frame.shape[0]))\n",
    "            if yrotate:\n",
    "                l_frame = cv2.rotate(l_frame, cv2.ROTATE_180)\n",
    "                r_frame = cv2.rotate(r_frame, cv2.ROTATE_180)\n",
    "                \n",
    "            synchronized_frame = cv2.hconcat([r_frame, l_frame])\n",
    "             \n",
    "            # Add a black lower section to the frame\n",
    "            black_section = np.zeros((l_frame.shape[0], l_frame.shape[1]*2, 3), dtype=np.uint8)\n",
    "            synchronized_frame = np.vstack([synchronized_frame, black_section])\n",
    "            # Write current_ms value in the added black area\n",
    "            font = cv2.FONT_HERSHEY_SIMPLEX\n",
    "            cv2.putText(synchronized_frame, f'Millisecond timestamp: {current_ms}', (10, l_frame.shape[0] + 30),\n",
    "                        font, 0.7, (255, 255, 255), 2, cv2.LINE_AA)\n",
    "            cv2.putText(synchronized_frame, f'saccade_number: {i}', (10, l_frame.shape[0] + 60),\n",
    "                        font, 0.7, (255, 255, 255), 2, cv2.LINE_AA)\n",
    "            \n",
    "            cv2.imshow('Synchronized Videos', synchronized_frame)\n",
    "\n",
    "            prev_l_frame = current_le_frame\n",
    "            prev_r_frame = current_re_frame\n",
    "\n",
    "            key = cv2.waitKey(25)\n",
    "            if key == ord('q'):\n",
    "                stop_flag = True\n",
    "                break\n",
    "            elif key == ord('n'):\n",
    "                break\n",
    "\n",
    "    le_cap.release()\n",
    "    re_cap.release()\n",
    "    cv2.destroyAllWindows()\n",
    "\n",
    "# Example usage:\n",
    "# show_synced_eye_videos(block, [start_ms1, start_ms2, ...], [end_ms1, end_ms2, ...])\n"
   ],
   "metadata": {
    "collapsed": false,
    "ExecuteTime": {
     "end_time": "2024-02-12T14:24:46.698911800Z",
     "start_time": "2024-02-12T14:24:46.597940600Z"
    }
   },
   "id": "7b3ec8cc3e71ba92",
   "execution_count": 199
  },
  {
   "cell_type": "code",
   "outputs": [],
   "source": [
    "l_saccades_start_ms = block.left_eye_data.iloc[block.l_saccade_df.saccade_start_ind].ms_axis.values\n",
    "l_saccades_end_ms = block.left_eye_data.iloc[block.l_saccade_df.saccade_end_ind].ms_axis.values\n",
    "r_saccades_start_ms = block.right_eye_data.iloc[block.r_saccade_df.saccade_start_ind].ms_axis.values\n",
    "r_saccades_end_ms = block.right_eye_data.iloc[block.r_saccade_df.saccade_end_ind].ms_axis.values\n",
    "\n",
    "all_saccades_start_ms = np.hstack([l_saccades_start_ms,r_saccades_start_ms])\n",
    "all_saccades_end_ms = np.hstack([l_saccades_end_ms,r_saccades_end_ms])\n",
    "\n",
    "show_synced_eye_videos_for_saccades(block,all_saccades_start_ms[0:1],all_saccades_end_ms[0:1]+61000, xflip=True, rotate_frames=True, yrotate=True)"
   ],
   "metadata": {
    "collapsed": false,
    "ExecuteTime": {
     "end_time": "2024-02-12T15:10:47.228257100Z",
     "start_time": "2024-02-12T15:07:46.859514100Z"
    }
   },
   "id": "e78d5073fd77db8d",
   "execution_count": 210
  },
  {
   "cell_type": "code",
   "outputs": [
    {
     "data": {
      "text/plain": "\"\\nsynced_saccades_df_on_left = pd.merge_asof(block.l_saccade_df.sort_values('saccade_start_timestamp')[['saccade_start_timestamp','saccade_end_timestamp']],\\n                                           block.r_saccade_df.sort_values('saccade_start_timestamp')[['saccade_start_timestamp','saccade_end_timestamp']],\\n                                           left_on='saccade_start_timestamp', right_on='saccade_start_timestamp',tolerance=17.5).dropna()\\nsynced_saccades_df_on_right = pd.merge_asof(block.r_saccade_df.sort_values('saccade_start_timestamp')[['saccade_start_timestamp','saccade_end_timestamp']],\\n                                           block.l_saccade_df.sort_values('saccade_start_timestamp')[['saccade_start_timestamp','saccade_end_timestamp']],\\n                                           left_on='saccade_start_timestamp', right_on='saccade_start_timestamp',tolerance=17.5).dropna()\\n\\ndf = pd.DataFrame.from_dict({'right':synced_saccades_df_on_right.saccade_start_timestamp,\\n                            'left':synced_saccades_df_on_left.saccade_start_timestamp})\\n\""
     },
     "execution_count": 168,
     "metadata": {},
     "output_type": "execute_result"
    }
   ],
   "source": [
    "\n",
    "\n",
    "\n",
    "\"\"\"\n",
    "synced_saccades_df_on_left = pd.merge_asof(block.l_saccade_df.sort_values('saccade_start_timestamp')[['saccade_start_timestamp','saccade_end_timestamp']],\n",
    "                                           block.r_saccade_df.sort_values('saccade_start_timestamp')[['saccade_start_timestamp','saccade_end_timestamp']],\n",
    "                                           left_on='saccade_start_timestamp', right_on='saccade_start_timestamp',tolerance=17.5).dropna()\n",
    "synced_saccades_df_on_right = pd.merge_asof(block.r_saccade_df.sort_values('saccade_start_timestamp')[['saccade_start_timestamp','saccade_end_timestamp']],\n",
    "                                           block.l_saccade_df.sort_values('saccade_start_timestamp')[['saccade_start_timestamp','saccade_end_timestamp']],\n",
    "                                           left_on='saccade_start_timestamp', right_on='saccade_start_timestamp',tolerance=17.5).dropna()\n",
    "\n",
    "df = pd.DataFrame.from_dict({'right':synced_saccades_df_on_right.saccade_start_timestamp,\n",
    "                            'left':synced_saccades_df_on_left.saccade_start_timestamp})\n",
    "\"\"\""
   ],
   "metadata": {
    "collapsed": false,
    "ExecuteTime": {
     "end_time": "2024-02-12T13:33:30.843221300Z",
     "start_time": "2024-02-12T13:33:30.769331100Z"
    }
   },
   "id": "ac5baefd24ab1ca1",
   "execution_count": 168
  },
  {
   "cell_type": "code",
   "outputs": [],
   "source": [
    "saccade_on_left = block.l_saccade_df[['saccade_start_timestamp']].copy()\n",
    "saccade_on_right = block.r_saccade_df[['saccade_start_timestamp']].copy()\n",
    "saccade_on_left['left_timestamp'] = saccade_on_left.loc[:, 'saccade_start_timestamp']\n",
    "saccade_on_right['right_timestamp'] = saccade_on_right.loc[:, 'saccade_start_timestamp']\n",
    "synced_saccades_df = pd.merge_asof(saccade_on_left.sort_values('saccade_start_timestamp'),\n",
    "                                   saccade_on_right.sort_values('saccade_start_timestamp'),\n",
    "                                   left_on='saccade_start_timestamp', right_on='saccade_start_timestamp',tolerance=300).dropna()\n",
    "synced_saccades_df['min_saccade_start'] = synced_saccades_df[['left_timestamp','right_timestamp']].min(axis=1)\n",
    "synced_saccades_timestamps = synced_saccades_df['min_saccade_start'].values\n",
    "\n",
    "saccade_off_left = block.l_saccade_df[['saccade_end_timestamp']].copy()\n",
    "saccade_off_right = block.r_saccade_df[['saccade_end_timestamp']].copy()\n",
    "saccade_off_left['left_timestamp'] = saccade_off_left.loc[:, 'saccade_end_timestamp']\n",
    "saccade_off_right['right_timestamp'] = saccade_off_right.loc[:, 'saccade_end_timestamp']\n",
    "synced_saccades_off_df = pd.merge_asof(saccade_off_left.sort_values('saccade_end_timestamp'),\n",
    "                                   saccade_off_right.sort_values('saccade_end_timestamp'),\n",
    "                                   left_on='saccade_end_timestamp', right_on='saccade_end_timestamp',tolerance=300).dropna()\n",
    "synced_saccades_off_df['max_saccade_end'] = synced_saccades_df[['left_timestamp','right_timestamp']].max(axis=1)\n",
    "synced_saccades_off_timestamps = synced_saccades_off_df['max_saccade_end'].values\n",
    "\n",
    "saccade_starts_ms = block.left_eye_data[block.left_eye_data['OE_timestamp'].isin(synced_saccades_timestamps)]['ms_axis'].values\n",
    "\n",
    "show_synced_eye_videos_for_saccades(block,saccade_starts_ms, saccade_starts_ms + 1000, xflip=True, rotate_frames=True, yrotate=True)\n"
   ],
   "metadata": {
    "collapsed": false,
    "ExecuteTime": {
     "end_time": "2024-02-12T14:08:57.252517200Z",
     "start_time": "2024-02-12T14:08:46.648791900Z"
    }
   },
   "id": "de1a378bf3dd3d7a",
   "execution_count": 189
  },
  {
   "cell_type": "code",
   "outputs": [
    {
     "name": "stdout",
     "output_type": "stream",
     "text": [
      "instantiated block number 026 at Path: Z:\\Nimrod\\experiments\\PV_62\\2023_04_27\\block_026, new OE version\n",
      "Found the sample rate for block 026 in the xml file, it is 20000 Hz\n",
      "created the .oe_rec attribute as an open ephys recording obj with get_data functionality\n",
      "retrieving zertoh sample number for block 026\n",
      "got it!\n"
     ]
    }
   ],
   "source": [
    "# define a single block to figure things out with:\n",
    "# this step creates block_collection - a list of BlockSync objects of interest\n",
    "block_numbers = range(26,27)\n",
    "bad_blocks = [42, 61, 62, 64, 65, 66] # True for PV_62\n",
    "experiment_path = pathlib.Path(r\"Z:\\Nimrod\\experiments\")\n",
    "animal = 'PV_62'\n",
    "block_collection = uf.block_generator(block_numbers=block_numbers,\n",
    "                                      experiment_path=experiment_path,\n",
    "                                      animal=animal,\n",
    "                                      bad_blocks=bad_blocks)\n",
    "# create a block_dict object for ease of access:\n",
    "block_dict = {}\n",
    "for b in block_collection:\n",
    "    block_dict[str(b.block_num)] = b\n",
    "\n"
   ],
   "metadata": {
    "collapsed": false,
    "ExecuteTime": {
     "end_time": "2024-02-12T09:25:21.202940300Z",
     "start_time": "2024-02-12T09:25:21.008941200Z"
    }
   },
   "id": "67ff6f0b4cceaaae",
   "execution_count": 4
  },
  {
   "cell_type": "code",
   "outputs": [
    {
     "name": "stdout",
     "output_type": "stream",
     "text": [
      "running parse_open_ephys_events...\n",
      "block 026 has a parsed events file, reading...\n",
      "getting eye brigtness values for block 026...\n",
      "found a file!\n",
      "blocksync_df loaded from analysis folder\n",
      "eye_brightness_df loaded from analysis folder\n"
     ]
    }
   ],
   "source": [
    "# This step is used to quickly go over the analyzed blocks and load their internal data\n",
    "for block in block_collection:\n",
    "    block.parse_open_ephys_events()\n",
    "    block.get_eye_brightness_vectors()\n",
    "    block.synchronize_block()\n",
    "    block.create_eye_brightness_df(threshold_value=20)"
   ],
   "metadata": {
    "collapsed": false,
    "ExecuteTime": {
     "end_time": "2024-02-12T09:25:21.893199900Z",
     "start_time": "2024-02-12T09:25:21.210940600Z"
    }
   },
   "id": "c3039b2271316c6f",
   "execution_count": 5
  },
  {
   "cell_type": "code",
   "outputs": [
    {
     "name": "stdout",
     "output_type": "stream",
     "text": [
      "eye dataframes loaded from analysis folder\n",
      "got the calibration values from the analysis folder\n"
     ]
    }
   ],
   "source": [
    "# These are additional steps required after manual synchronization\n",
    "for block in block_collection:\n",
    "    block.import_manual_sync_df()  \n",
    "    block.read_dlc_data()\n",
    "    block.calibrate_pixel_size(10)"
   ],
   "metadata": {
    "collapsed": false,
    "ExecuteTime": {
     "end_time": "2024-02-12T09:25:24.448244600Z",
     "start_time": "2024-02-12T09:25:23.241200100Z"
    }
   },
   "id": "9b0b395f67f85fcb",
   "execution_count": 6
  },
  {
   "cell_type": "markdown",
   "source": [
    "# This section deals with jitter-correction and led-blink-frames removal"
   ],
   "metadata": {
    "collapsed": false
   },
   "id": "87f3c08e38d0ac64"
  },
  {
   "cell_type": "code",
   "outputs": [
    {
     "name": "stdout",
     "output_type": "stream",
     "text": [
      "jitter report loaded from analysis folder\n",
      "Jitter report computed - check out re/le_jitter_dict attributes\n"
     ]
    }
   ],
   "source": [
    "for block in block_collection:\n",
    "    block.get_jitter_reports(export=False, overwrite=False, remove_led_blinks=False, sort_on_loading=True)"
   ],
   "metadata": {
    "collapsed": false,
    "ExecuteTime": {
     "end_time": "2024-02-12T09:41:32.727993700Z",
     "start_time": "2024-02-12T09:41:32.577767200Z"
    }
   },
   "id": "a26d39594010df46",
   "execution_count": 29
  },
  {
   "cell_type": "code",
   "outputs": [
    {
     "name": "stdout",
     "output_type": "stream",
     "text": [
      "The right eye std of the X coord was 28.65898070457673\n",
      "After correction it is: 28.650198980446824\n",
      "The right eye std of the Y coord was 22.038532828733256\n",
      "After correction it is: 21.932270107771483\n",
      "\n",
      " The left eye std of the X coord was 29.92191994743241\n",
      "After correction it is: 30.119748662732388\n",
      "\n",
      " The left eye std of the Y coord was 17.468058729203516\n",
      "After correction it is: 17.440770632394447\n"
     ]
    }
   ],
   "source": [
    "block.correct_jitter()"
   ],
   "metadata": {
    "collapsed": false,
    "ExecuteTime": {
     "end_time": "2024-02-12T09:41:34.130520600Z",
     "start_time": "2024-02-12T09:41:33.736658900Z"
    }
   },
   "id": "b3d6d7c071fdab37",
   "execution_count": 30
  },
  {
   "cell_type": "code",
   "outputs": [
    {
     "name": "stderr",
     "output_type": "stream",
     "text": [
      "100%|██████████| 71/71 [00:00<00:00, 9062.00it/s]"
     ]
    },
    {
     "name": "stdout",
     "output_type": "stream",
     "text": [
      "collecting left-eye data\n",
      "data length is 107642\n",
      "z_score length is 107642\n"
     ]
    },
    {
     "name": "stderr",
     "output_type": "stream",
     "text": [
      "\n",
      "100%|██████████| 71/71 [00:00<00:00, 10962.47it/s]"
     ]
    },
    {
     "name": "stdout",
     "output_type": "stream",
     "text": [
      "collecting right eye data\n",
      "data length is 107640\n",
      "z_score length is 107640\n"
     ]
    },
    {
     "name": "stderr",
     "output_type": "stream",
     "text": [
      "\n"
     ]
    },
    {
     "name": "stdout",
     "output_type": "stream",
     "text": [
      "removed led blink data from le / re dataframes\n"
     ]
    }
   ],
   "source": [
    "block.find_led_blink_frames(plot=True)\n",
    "block.remove_led_blinks_from_eye_df(export=False)"
   ],
   "metadata": {
    "collapsed": false,
    "ExecuteTime": {
     "end_time": "2024-02-12T09:41:41.358953200Z",
     "start_time": "2024-02-12T09:41:40.735307900Z"
    }
   },
   "id": "5f6bcd2cfe8d2dbc",
   "execution_count": 31
  },
  {
   "cell_type": "code",
   "outputs": [
    {
     "data": {
      "text/plain": "<Figure size 900x900 with 2 Axes>",
      "image/png": "[encoded data removed]"
     },
     "metadata": {},
     "output_type": "display_data"
    }
   ],
   "source": [
    "def create_distance_plot(distances, top_dist_to_show=500):\n",
    "    # Create cumulative distribution plot\n",
    "    sns.set(style=\"whitegrid\")\n",
    "    fig, axs = plt.subplots(2, figsize=(6, 6), dpi=150)\n",
    "    \n",
    "    axs[0].set_title('Cumulative Euclidean Distances for Camera Jitter', fontsize=15)\n",
    "    axs[0].set_ylabel('Cumulative \\n % of Frames')\n",
    "    axs[0].set_xlim(0, top_dist_to_show)\n",
    "    axs[0].grid(False)\n",
    "    \n",
    "    # Create histogram and cumulative distribution\n",
    "    sns.kdeplot(distances, cumulative=True, label='Left Eye', ax=axs[0], linewidth=4, c='black')\n",
    "    \n",
    "    axs[1].hist(distances, bins=np.linspace(0, top_dist_to_show, 20), log=False, color='black')\n",
    "\n",
    "    # Set title and labels\n",
    "    title = 'Image displacement histogram'\n",
    "    axs[1].set_title(title, fontsize=15)\n",
    "    axs[1].set_xlabel('Euclidean Displacement [$\\mu$m]', fontsize=15)\n",
    "    axs[1].set_xscale('linear')\n",
    "    axs[1].set_yscale('linear')\n",
    "    axs[1].set_ylabel('Frame count', fontsize=15)\n",
    "\n",
    "    # Adjust tick label sizes\n",
    "    axs[1].tick_params(axis='x', which='major', labelsize=15)\n",
    "\n",
    "    # Set white background and black text\n",
    "    axs[1].set_facecolor('white')\n",
    "    axs[1].title.set_color('black')\n",
    "    axs[1].xaxis.label.set_color('black')\n",
    "    axs[1].yaxis.label.set_color('black')\n",
    "    axs[1].tick_params(colors='black')\n",
    "    axs[1].grid(False)\n",
    "\n",
    "    plt.tight_layout()\n",
    "\n",
    "    return fig, axs\n",
    "\n",
    "\n",
    "# This cell produces the jitter magnitude reports before correction:\n",
    "# define jitter dicts\n",
    "jitter_dict_l = block.le_jitter_dict\n",
    "jitter_dict_r = block.re_jitter_dict\n",
    "\n",
    "# compute euclidean jitter magnitude\n",
    "xl = np.array(jitter_dict_l['x_displacement'])\n",
    "yl = np.array(jitter_dict_l['y_displacement'])\n",
    "l_distances = np.sqrt(xl**2+yl**2)*block.L_pix_size*1000\n",
    "\n",
    "\n",
    "# compute euclidean jitter magnitude\n",
    "xr = np.array(jitter_dict_r['x_displacement'])\n",
    "yr = np.array(jitter_dict_r['y_displacement'])\n",
    "r_distances = np.sqrt(xr**2+yr**2)*block.R_pix_size*1000\n",
    "\n",
    "distances = np.concatenate([l_distances, r_distances])\n",
    "\n",
    "_,_ = create_distance_plot(distances=distances)"
   ],
   "metadata": {
    "collapsed": false,
    "ExecuteTime": {
     "end_time": "2024-02-12T09:25:38.393689Z",
     "start_time": "2024-02-12T09:25:35.003560100Z"
    }
   },
   "id": "3286bfe45e6e0348",
   "execution_count": 10
  },
  {
   "cell_type": "markdown",
   "source": [
    "Now, I want to collect frames where jitter was too much to correct"
   ],
   "metadata": {
    "collapsed": false
   },
   "id": "81240d77761b4905"
  },
  {
   "cell_type": "code",
   "outputs": [],
   "source": [
    "# define the functions\n",
    "def add_intermediate_elements(input_vector, gap_to_bridge):\n",
    "    # Step 1: Calculate differences between each element\n",
    "    differences = np.diff(input_vector)\n",
    "\n",
    "    # Step 2: Add intervening elements based on the diff_threshold\n",
    "    output_vector = [input_vector[0]]\n",
    "    for i, diff in enumerate(differences):\n",
    "        if diff < gap_to_bridge:\n",
    "            # Add intervening elements\n",
    "            output_vector.extend(range(input_vector[i] + 1, input_vector[i + 1]))\n",
    "\n",
    "        # Add the next element from the original vector\n",
    "        output_vector.append(input_vector[i + 1])\n",
    "\n",
    "    return np.sort(np.unique(output_vector))\n",
    "\n",
    "def find_jittery_frames(block, eye, max_distance, diff_threshold, gap_to_bridge=6):\n",
    "    \n",
    "    #input checks\n",
    "    if eye not in ['left', 'right']:\n",
    "        print(f'eye can only be left/right, your input: {eye}')\n",
    "        return None\n",
    "    # eye setup\n",
    "    if eye == 'left':\n",
    "        jitter_dict = block.le_jitter_dict\n",
    "        eye_frame_col = 'L_eye_frame'\n",
    "    elif eye == 'right':\n",
    "        jitter_dict = block.re_jitter_dict\n",
    "        eye_frame_col = 'R_eye_frame'\n",
    "    \n",
    "    df_dict = {'left':block.le_df,\n",
    "               'right':block.re_df}\n",
    "    \n",
    "    df = pd.DataFrame.from_dict(jitter_dict)\n",
    "    indices_of_highest_drift = df.query(\"top_correlation_dist > @max_distance\").index.values\n",
    "    diff_vec = np.diff(df['top_correlation_dist'].values)\n",
    "    diff_peaks_indices = np.where(diff_vec > diff_threshold)[0]\n",
    "    video_indices = np.concatenate((diff_peaks_indices, indices_of_highest_drift))\n",
    "    print(f'the diff based jitter frame exclusion gives: {np.shape(diff_peaks_indices)}')\n",
    "    print(f'the threshold based jitter frame exclusion gives: {np.shape(indices_of_highest_drift)}')\n",
    "    \n",
    "    # creates a bridged version of the overly jittery frames (to contend with single frame outliers)\n",
    "    video_indices = add_intermediate_elements(video_indices, gap_to_bridge=gap_to_bridge)\n",
    "    # This is the input you should give to the BlockSync.remove_eye_datapoints function (which already maps it to the df) \n",
    "    \n",
    "    \n",
    "    # translates the video indices to le/re dataframe rows\n",
    "    df_indices_to_remove = df_dict[eye].loc[df_dict[eye][eye_frame_col].isin(video_indices)].index.values\n",
    "    \n",
    "    return df_indices_to_remove, video_indices\n"
   ],
   "metadata": {
    "collapsed": false,
    "ExecuteTime": {
     "end_time": "2024-02-12T09:25:38.517102300Z",
     "start_time": "2024-02-12T09:25:38.394797400Z"
    }
   },
   "id": "f5adc6f476f1d822",
   "execution_count": 11
  },
  {
   "cell_type": "code",
   "outputs": [
    {
     "name": "stdout",
     "output_type": "stream",
     "text": [
      "the diff based jitter frame exclusion gives: (24,)\n",
      "the threshold based jitter frame exclusion gives: (6,)\n",
      "the diff based jitter frame exclusion gives: (26,)\n",
      "the threshold based jitter frame exclusion gives: (9,)\n"
     ]
    }
   ],
   "source": [
    "\n",
    "df_inds_to_remove_l, vid_inds_l = find_jittery_frames(block,'left',max_distance=8.5, diff_threshold=2, gap_to_bridge=24)\n",
    "df_inds_to_remove_r, vid_inds_r = find_jittery_frames(block,'right',max_distance=8.5, diff_threshold=2, gap_to_bridge=24)\n",
    "\n",
    "# These are verification plots for the jitter outlier removal functions:\n",
    "# to verify, I want a bokeh explorable:\n",
    "rdf = pd.DataFrame.from_dict(block.re_jitter_dict)\n",
    "ldf = pd.DataFrame.from_dict(block.le_jitter_dict)"
   ],
   "metadata": {
    "collapsed": false,
    "ExecuteTime": {
     "end_time": "2024-02-12T09:25:38.621516800Z",
     "start_time": "2024-02-12T09:25:38.408578800Z"
    }
   },
   "id": "62d247681df35195",
   "execution_count": 12
  },
  {
   "cell_type": "code",
   "outputs": [],
   "source": [
    "bokeh_plotter([rdf.top_correlation_dist], ['drift_distance'], peaks=vid_inds_r)"
   ],
   "metadata": {
    "collapsed": false,
    "ExecuteTime": {
     "end_time": "2024-02-12T09:25:39.592432600Z",
     "start_time": "2024-02-12T09:25:39.344236300Z"
    }
   },
   "id": "36b2f66f9f493acc",
   "execution_count": 13
  },
  {
   "cell_type": "code",
   "outputs": [],
   "source": [
    "bokeh_plotter([ldf.top_correlation_dist], ['drift_distance'], peaks=vid_inds_l)"
   ],
   "metadata": {
    "collapsed": false,
    "ExecuteTime": {
     "end_time": "2024-02-11T16:23:07.045245700Z",
     "start_time": "2024-02-11T16:23:06.712080800Z"
    }
   },
   "id": "f621cd15b49ed26a",
   "execution_count": 15
  },
  {
   "cell_type": "markdown",
   "source": [
    "### The next step finally removes the irrelevant frames"
   ],
   "metadata": {
    "collapsed": false
   },
   "id": "cd7064e88d24a53d"
  },
  {
   "cell_type": "code",
   "outputs": [
    {
     "name": "stdout",
     "output_type": "stream",
     "text": [
      "removed 75 from the right eye dataframe\n",
      "removed 61 from the left eye dataframe\n"
     ]
    }
   ],
   "source": [
    "block.remove_eye_datapoints_based_on_video_frames('right', indices_to_nan=vid_inds_r)\n",
    "block.remove_eye_datapoints_based_on_video_frames('left', indices_to_nan=vid_inds_l)"
   ],
   "metadata": {
    "collapsed": false,
    "ExecuteTime": {
     "end_time": "2024-02-12T09:42:21.683605500Z",
     "start_time": "2024-02-12T09:42:21.630403500Z"
    }
   },
   "id": "1fa7559178c67f56",
   "execution_count": 32
  },
  {
   "cell_type": "markdown",
   "source": [
    "And now I expect the jitter report to be changed:"
   ],
   "metadata": {
    "collapsed": false
   },
   "id": "1a8b0ff77166d558"
  },
  {
   "cell_type": "code",
   "outputs": [
    {
     "data": {
      "text/plain": "<Figure size 900x900 with 2 Axes>",
      "image/png": "[encoded data removed]"
     },
     "metadata": {},
     "output_type": "display_data"
    }
   ],
   "source": [
    "jitter_dict_l = block.le_jitter_dict\n",
    "jitter_dict_r = block.re_jitter_dict\n",
    "rdf = pd.DataFrame.from_dict(jitter_dict_r)\n",
    "ldf = pd.DataFrame.from_dict(jitter_dict_l)\n",
    "ldf.iloc[vid_inds_l, :] = np.nan\n",
    "rdf.iloc[vid_inds_r, :] = np.nan\n",
    "r_distances = rdf['top_correlation_dist']*block.R_pix_size*1000\n",
    "l_distances = ldf['top_correlation_dist']*block.L_pix_size*1000\n",
    "\n",
    "all_distances = np.concatenate([l_distances, r_distances])\n",
    "_,_ = create_distance_plot(distances=all_distances,top_dist_to_show=500)"
   ],
   "metadata": {
    "collapsed": false,
    "ExecuteTime": {
     "end_time": "2024-02-12T09:25:59.967223700Z",
     "start_time": "2024-02-12T09:25:56.905973200Z"
    }
   },
   "id": "cfb438422f443b13",
   "execution_count": 15
  },
  {
   "cell_type": "markdown",
   "source": [
    "# I want to understand how to translate my data such that the X and Y axes are reliable and not determined by the camera tilt\n",
    "This will be achieved by the following solution:\n",
    "1. get a line that cuts the image along the tearducts of the animal when the pupil is as close to a circle as possible\n",
    "2. translate phi, x-center and y-center together with the line such that the line is horizontal"
   ],
   "metadata": {
    "collapsed": false
   },
   "id": "d432a0979c481cb4"
  },
  {
   "cell_type": "code",
   "outputs": [
    {
     "data": {
      "text/plain": "'\\nExample usage\\npath_to_video = block.le_videos[0]\\nframe_number = frame_number_to_show\\noutput_path = block.analysis_path / \\'frame_rotation.avi\\'\\ntransformation_matrix, angle = rotate_frame_to_horizontal_with_interpolation(path_to_video, frame_number, block.le_df, output_path=None)\\nprint(\"Transformation Matrix:\")\\nprint(transformation_matrix)\\n'"
     },
     "execution_count": 16,
     "metadata": {},
     "output_type": "execute_result"
    }
   ],
   "source": [
    "# this is the second iteration of the rotation verification function:\n",
    "def rotate_frame_to_horizontal_with_interpolation(path_to_video_file, frame_number, ellipse_df, xflip=True, output_path= None):\n",
    "    \"\"\"\n",
    "    Rotate the specified frame from a video file to horizontal orientation with interpolation.\n",
    "\n",
    "    Parameters:\n",
    "    - path_to_video_file (str): Path to the video file.\n",
    "    - frame_number (int): Frame number to be processed.\n",
    "    - ellipse_df (pd.DataFrame): DataFrame containing ellipse parameters for each frame.\n",
    "    - xflip (bool, optional): Flag to horizontally flip the frame (default is True).\n",
    "    - output_path (str, optional): Path to save the output video file (default is None).\n",
    "\n",
    "    Returns:\n",
    "    - rotation_matrix (np.ndarray): The rotation matrix used for the transformation.\n",
    "    - angle (float): The rotation angle applied to the frame.\n",
    "    \"\"\"\n",
    "    # Read the video file\n",
    "    cap = cv2.VideoCapture(path_to_video_file)\n",
    "\n",
    "    # Check if the video file is opened successfully\n",
    "    if not cap.isOpened():\n",
    "        print(\"Error: Unable to open video file.\")\n",
    "        return None\n",
    "\n",
    "    # Set the frame position\n",
    "    cap.set(cv2.CAP_PROP_POS_FRAMES, frame_number)\n",
    "\n",
    "    # Read the frame\n",
    "    ret, frame = cap.read()\n",
    "\n",
    "    # Check if the frame is read successfully\n",
    "    if not ret:\n",
    "        print(f\"Error: Unable to read frame {frame_number}.\")\n",
    "        cap.release()\n",
    "        return None\n",
    "\n",
    "    # horizontally flip frame if applicable:\n",
    "    if xflip:\n",
    "        frame = cv2.flip(frame, 1)\n",
    "\n",
    "    # get the original ellipse from the block dataframe\n",
    "    if 'R_eye_frame' in ellipse_df.columns:\n",
    "        current_frame_data = ellipse_df.iloc[ellipse_df.query('R_eye_frame == @frame_number').index[0]]\n",
    "    elif 'L_eye_frame' in ellipse_df.columns:\n",
    "        current_frame_data = ellipse_df.iloc[ellipse_df.query('L_eye_frame == @frame_number').index[0]]\n",
    "\n",
    "    # Extract ellipse parameters\n",
    "    try:\n",
    "        center_x = int(current_frame_data['center_x'])\n",
    "        center_y = int(current_frame_data['center_y'])\n",
    "        width = int(current_frame_data['width'])\n",
    "        height = int(current_frame_data['height'])\n",
    "        phi = float(current_frame_data['phi'])\n",
    "\n",
    "        # Draw the ellipse on the frame\n",
    "        cv2.ellipse(frame, (center_x, center_y), (width, height), phi, 0, 360, (0, 255, 0), 2)\n",
    "    except ValueError:\n",
    "        print('could not paint ellipse, missing values')\n",
    "\n",
    "    # Display the frame\n",
    "    cv2.imshow(\"Original Frame\", frame)\n",
    "\n",
    "    # Prompt user to select two points\n",
    "    print(\"Please select two points on the frame.\")\n",
    "\n",
    "    # Callback function for mouse events\n",
    "    def mouse_callback(event, x, y, flags, param):\n",
    "        if event == cv2.EVENT_LBUTTONDOWN:\n",
    "            points.append((x, y))\n",
    "\n",
    "    # Set up the mouse callback\n",
    "    cv2.setMouseCallback(\"Original Frame\", mouse_callback)\n",
    "\n",
    "    # Wait for the user to select two points\n",
    "    points = []\n",
    "    while len(points) < 2:\n",
    "        cv2.waitKey(1)\n",
    "\n",
    "    # Draw a line between the selected points\n",
    "    cv2.line(frame, points[0], points[1], (0, 255, 0), 2)\n",
    "    cv2.imshow(\"Line Drawn Frame\", frame)\n",
    "    cv2.waitKey(0)\n",
    "    cv2.destroyAllWindows()\n",
    "\n",
    "    # Calculate the rotation angle\n",
    "    angle = np.arctan2(points[1][1] - points[0][1], points[1][0] - points[0][0]) * 180 / np.pi\n",
    "\n",
    "    # Create rotation matrix\n",
    "    rotation_matrix = cv2.getRotationMatrix2D((frame.shape[1] // 2, frame.shape[0] // 2), angle, 1)\n",
    "    #rotation_matrix[:,2] = 0\n",
    "    \n",
    "    # Generate and display video with 50 steps between original and rotated frames\n",
    "    for step in range(51):\n",
    "        alpha = step / 50.0\n",
    "        current_rotation_matrix = cv2.getRotationMatrix2D(\n",
    "            (frame.shape[1] // 2, frame.shape[0] // 2),\n",
    "            angle * alpha,\n",
    "            1\n",
    "        )\n",
    "     #   current_rotation_matrix[:,2] = 0\n",
    "        rotated_frame = cv2.warpAffine(frame, current_rotation_matrix, (frame.shape[1], frame.shape[0]))\n",
    "\n",
    "        cv2.imshow(\"Interpolated Rotated Frame\", rotated_frame)\n",
    "        \n",
    "        cv2.waitKey(100)  # Adjust the wait time to control the playback speed\n",
    "\n",
    "    # Release resources\n",
    "\n",
    "    cap.release()\n",
    "    cv2.destroyAllWindows()\n",
    "\n",
    "    return rotation_matrix, angle\n",
    "\n",
    "\"\"\"\n",
    "Example usage\n",
    "path_to_video = block.le_videos[0]\n",
    "frame_number = frame_number_to_show\n",
    "output_path = block.analysis_path / 'frame_rotation.avi'\n",
    "transformation_matrix, angle = rotate_frame_to_horizontal_with_interpolation(path_to_video, frame_number, block.le_df, output_path=None)\n",
    "print(\"Transformation Matrix:\")\n",
    "print(transformation_matrix)\n",
    "\"\"\"\n"
   ],
   "metadata": {
    "collapsed": false,
    "ExecuteTime": {
     "end_time": "2024-02-12T09:26:00.095555100Z",
     "start_time": "2024-02-12T09:25:59.977121500Z"
    }
   },
   "id": "4de9821d1b9018b",
   "execution_count": 16
  },
  {
   "cell_type": "code",
   "outputs": [],
   "source": [
    "def apply_rotation_around_center_to_df(eye_df, transformation_matrix, rotation_angle):\n",
    "    \"\"\"This is a static method for applying the transformation matrix to eye dataframes within a block class object\"\"\"\n",
    "    original_centers = eye_df[['center_x_corrected', 'center_y_corrected']].values\n",
    "    original_phi = eye_df['phi'].values\n",
    "    M = transformation_matrix\n",
    "    # apply the rotation to xy\n",
    "    rotated_centers = np.dot(original_centers, M[:, :2].T) + M[:, 2]\n",
    "    # apply rotation to phi\n",
    "    rotated_phi = np.rad2deg(original_phi) + rotation_angle\n",
    "    \n",
    "    eye_df['center_x_rotated'] = rotated_centers[:,0]\n",
    "    eye_df['center_y_rotated'] = rotated_centers[:,1]\n",
    "    eye_df['phi_rotated'] = rotated_phi\n",
    "    \n",
    "    return eye_df"
   ],
   "metadata": {
    "collapsed": false,
    "ExecuteTime": {
     "end_time": "2024-02-12T09:26:01.232191600Z",
     "start_time": "2024-02-12T09:26:01.199238900Z"
    }
   },
   "id": "1c1e00addeb4bf1d",
   "execution_count": 17
  },
  {
   "cell_type": "code",
   "outputs": [
    {
     "name": "stdout",
     "output_type": "stream",
     "text": [
      "Please select two points on the frame.\n",
      "Left rotation matrix:\n",
      "[[   0.88412198   -0.46725617  149.22244944]\n",
      " [   0.46725617    0.88412198 -121.71124979]]\n",
      "Left angle\n",
      "-27.856335734616888\n"
     ]
    }
   ],
   "source": [
    "# Initialize for left eye video\n",
    "# get the frames where the pupil is closest to round:\n",
    "s = block.le_df.width / block.le_df.height\n",
    "closest_ind = np.argmin(np.abs(s - 1)) # find the index of the value closest to 1\n",
    "frame_number_to_show = block.le_df.L_eye_frame.iloc[closest_ind]\n",
    "path_to_video = block.le_videos[0]\n",
    "frame_number = frame_number_to_show\n",
    "ellipse_df = block.le_df\n",
    "\n",
    "left_rotation_matrix, left_angle = rotate_frame_to_horizontal_with_interpolation(path_to_video_file=path_to_video,\n",
    "                                                                                 frame_number=frame_number,\n",
    "                                                                                 ellipse_df=ellipse_df,\n",
    "                                                                                 xflip=True)\n",
    "print(\"Left rotation matrix:\")\n",
    "print(left_rotation_matrix)\n",
    "print(\"Left angle\")\n",
    "print(left_angle)\n",
    "block.left_rotation_matrix = left_rotation_matrix\n",
    "block.left_rotation_angle = left_angle"
   ],
   "metadata": {
    "collapsed": false,
    "ExecuteTime": {
     "end_time": "2024-02-12T09:26:19.034533500Z",
     "start_time": "2024-02-12T09:26:04.392044500Z"
    }
   },
   "id": "52f1be802418e7e0",
   "execution_count": 18
  },
  {
   "cell_type": "code",
   "outputs": [
    {
     "name": "stdout",
     "output_type": "stream",
     "text": [
      "Please select two points on the frame.\n",
      "Right rotation matrix:\n",
      "[[  0.76116088   0.64856312 -79.22662929]\n",
      " [ -0.64856312   0.76116088 264.86158612]]\n",
      "Right angle\n",
      "40.43335439460138\n"
     ]
    }
   ],
   "source": [
    "# initialize for right eye video\n",
    "# get the frames where the pupil is closest to round:\n",
    "s = block.re_df.width / block.re_df.height\n",
    "closest_ind = np.argmin(np.abs(s - 1)) # find the index of the value closest to 1\n",
    "frame_number_to_show = block.re_df.R_eye_frame.iloc[closest_ind]\n",
    "path_to_video = block.re_videos[0]\n",
    "frame_number = frame_number_to_show\n",
    "ellipse_df = block.re_df\n",
    "\n",
    "right_rotation_matrix, right_angle = rotate_frame_to_horizontal_with_interpolation(path_to_video_file=path_to_video,\n",
    "                                                                                   frame_number=frame_number,\n",
    "                                                                                   ellipse_df=ellipse_df,\n",
    "                                                                                   xflip=True)\n",
    "print(\"Right rotation matrix:\")\n",
    "print(right_rotation_matrix)\n",
    "print(\"Right angle\")\n",
    "print(right_angle)\n",
    "block.right_rotation_matrix = right_rotation_matrix\n",
    "block.right_rotation_angle = right_angle"
   ],
   "metadata": {
    "collapsed": false,
    "ExecuteTime": {
     "end_time": "2024-02-12T09:26:35.292987300Z",
     "start_time": "2024-02-12T09:26:22.990192900Z"
    }
   },
   "id": "7052af786a1399a7",
   "execution_count": 19
  },
  {
   "cell_type": "code",
   "outputs": [],
   "source": [
    "# apply the transformation and rotation gathered in the previous stage\n",
    "block.re_df = apply_rotation_around_center_to_df(eye_df = block.re_df.copy(),\n",
    "                                           transformation_matrix = right_rotation_matrix,\n",
    "                                           rotation_angle = right_angle)\n",
    "block.le_df = apply_rotation_around_center_to_df(eye_df = block.le_df.copy(),\n",
    "                                           transformation_matrix = left_rotation_matrix,\n",
    "                                           rotation_angle= left_angle)\n",
    "\n"
   ],
   "metadata": {
    "collapsed": false,
    "ExecuteTime": {
     "end_time": "2024-02-12T09:42:33.146917800Z",
     "start_time": "2024-02-12T09:42:33.099203Z"
    }
   },
   "id": "fe3b08f5eab70e87",
   "execution_count": 33
  },
  {
   "cell_type": "code",
   "outputs": [],
   "source": [
    "# create the eye_data dfs to finalize the translation and sort out some mess\n",
    "block.right_eye_data = block.re_df.copy()\n",
    "block.right_eye_data = block.right_eye_data[['Arena_TTL', 'R_eye_frame', 'ms_axis', \n",
    "                                             'center_x_rotated', 'center_y_rotated',\n",
    "                                             'phi_rotated','width', 'height']]\n",
    "block.left_eye_data = block.le_df.copy()\n",
    "block.left_eye_data = block.left_eye_data[['Arena_TTL', 'L_eye_frame', 'ms_axis', \n",
    "                                             'center_x_rotated', 'center_y_rotated',\n",
    "                                             'phi_rotated','width', 'height']]\n"
   ],
   "metadata": {
    "collapsed": false,
    "ExecuteTime": {
     "end_time": "2024-02-12T09:42:35.443546800Z",
     "start_time": "2024-02-12T09:42:35.400222900Z"
    }
   },
   "id": "871ca576eefd62b7",
   "execution_count": 34
  },
  {
   "cell_type": "code",
   "outputs": [
    {
     "name": "stdout",
     "output_type": "stream",
     "text": [
      "Index(['Arena_TTL', 'R_eye_frame', 'ms_axis', 'center_x_rotated',\n",
      "       'center_y_rotated', 'phi_rotated', 'width', 'height'],\n",
      "      dtype='object')\n",
      "   OE_timestamp  eye_frame   ms_axis    center_x    center_y       phi  \\\n",
      "0      565951.0        NaN  28297.55         NaN         NaN       NaN   \n",
      "1      566291.0        NaN  28314.55         NaN         NaN       NaN   \n",
      "2      566631.0        NaN  28331.55         NaN         NaN       NaN   \n",
      "3      566970.0        NaN  28348.50         NaN         NaN       NaN   \n",
      "4      567310.0        2.0  28365.50  390.617348  187.770265 -0.738162   \n",
      "\n",
      "       width     height  \n",
      "0        NaN        NaN  \n",
      "1        NaN        NaN  \n",
      "2        NaN        NaN  \n",
      "3        NaN        NaN  \n",
      "4  25.688217  41.897356  \n",
      "Index(['Arena_TTL', 'L_eye_frame', 'ms_axis', 'center_x_rotated',\n",
      "       'center_y_rotated', 'phi_rotated', 'width', 'height'],\n",
      "      dtype='object')\n",
      "   OE_timestamp  eye_frame   ms_axis    center_x    center_y       phi  \\\n",
      "0      565951.0        1.0  28297.55  444.234753  205.370438 -6.311983   \n",
      "1      566291.0        2.0  28314.55  444.104007  205.382533 -5.893014   \n",
      "2      566631.0        3.0  28331.55  444.092004  205.386758 -6.062257   \n",
      "3      566970.0        4.0  28348.50  444.118713  205.402337 -5.818482   \n",
      "4      567310.0        5.0  28365.50  444.048147  205.464198 -5.739175   \n",
      "\n",
      "       width     height  \n",
      "0  45.335549  32.726528  \n",
      "1  45.316501  32.731487  \n",
      "2  45.292542  32.789987  \n",
      "3  45.268229  32.769033  \n",
      "4  45.316728  32.700692  \n"
     ]
    }
   ],
   "source": [
    "# change dataframe column names to comply with earlier code\n",
    "translation_dict = {'center_x_rotated':'center_x',\n",
    "                    'center_y_rotated':'center_y',\n",
    "                    'phi_rotated':'phi',\n",
    "                    'L_eye_frame':'eye_frame',\n",
    "                    'R_eye_frame': 'eye_frame',\n",
    "                    'Arena_TTL':'OE_timestamp'}\n",
    "for df in [block.right_eye_data, block.left_eye_data]:\n",
    "    print(df.columns)\n",
    "    df.rename(columns=translation_dict, inplace=True)\n",
    "    print(df.head())\n"
   ],
   "metadata": {
    "collapsed": false,
    "ExecuteTime": {
     "end_time": "2024-02-12T09:42:37.711561300Z",
     "start_time": "2024-02-12T09:42:37.671954800Z"
    }
   },
   "id": "33b01fa472d39efe",
   "execution_count": 35
  },
  {
   "cell_type": "markdown",
   "source": [
    "# Now I should verify this worked..."
   ],
   "metadata": {
    "collapsed": false
   },
   "id": "f0f9d45e24f54339"
  },
  {
   "cell_type": "code",
   "outputs": [],
   "source": [
    "block.right_eye_data['phi'] = block.right_eye_data['phi'] + 90"
   ],
   "metadata": {
    "collapsed": false,
    "ExecuteTime": {
     "end_time": "2024-02-12T09:42:41.026009800Z",
     "start_time": "2024-02-12T09:42:40.983388900Z"
    }
   },
   "id": "6386c087574eaf41",
   "execution_count": 36
  },
  {
   "cell_type": "code",
   "outputs": [],
   "source": [
    "block.left_eye_data['phi'] = block.left_eye_data['phi'] + 90"
   ],
   "metadata": {
    "collapsed": false,
    "ExecuteTime": {
     "end_time": "2024-02-12T09:42:41.486684600Z",
     "start_time": "2024-02-12T09:42:41.445304100Z"
    }
   },
   "id": "422480a834954994",
   "execution_count": 37
  },
  {
   "cell_type": "code",
   "outputs": [
    {
     "name": "stdout",
     "output_type": "stream",
     "text": [
      "Z:\\Nimrod\\experiments\\PV_62\\2023_04_27\\block_026\\eye_videos\\RE\\230427_pv62_trial4_640x480_60hz_experiment_1_recording_0\\230427_pv62_trial4DLC_resnet50_pogona_eye_trackingMay25shuffle1_1030000_labeled.mp4\n"
     ]
    }
   ],
   "source": [
    "# right eye inspection after rotation\n",
    "path_to_video = [x for x in pathlib.Path(block.re_videos[0]).parent.iterdir() if '.mp4' in str(x.name) and 'DLC' in str(x.name)][0]\n",
    "print(path_to_video)\n",
    "play_video_with_ellipses_rotation(block=block,eye='right', path_to_video=str(path_to_video) ,xflip=True, transformation_matrix=right_rotation_matrix)"
   ],
   "metadata": {
    "collapsed": false,
    "ExecuteTime": {
     "end_time": "2024-02-12T14:51:16.118193100Z",
     "start_time": "2024-02-12T14:48:07.308674100Z"
    }
   },
   "id": "8550503bfbfa8cd2",
   "execution_count": 209
  },
  {
   "cell_type": "code",
   "outputs": [
    {
     "data": {
      "text/plain": "       OE_timestamp  eye_frame     ms_axis  center_x  center_y        phi  \\\n0          565951.0        1.0    28297.55       NaN       NaN  83.688017   \n1          566291.0        2.0    28314.55       NaN       NaN  84.106986   \n2          566631.0        3.0    28331.55       NaN       NaN  83.937743   \n3          566970.0        4.0    28348.50       NaN       NaN  84.181518   \n4          567310.0        5.0    28365.50       NaN       NaN  84.260825   \n...             ...        ...         ...       ...       ...        ...   \n99203    34261949.0   101272.0  1713097.45       NaN       NaN  67.629559   \n99204    34262289.0   101273.0  1713114.45       NaN       NaN  67.623210   \n99205    34262628.0   101274.0  1713131.40       NaN       NaN  66.911872   \n99206    34262968.0   101275.0  1713148.40       NaN       NaN  67.410327   \n99207    34263307.0   101276.0  1713165.35       NaN       NaN  67.409074   \n\n           width     height  \n0      45.335549  32.726528  \n1      45.316501  32.731487  \n2      45.292542  32.789987  \n3      45.268229  32.769033  \n4      45.316728  32.700692  \n...          ...        ...  \n99203  46.307113  37.235502  \n99204  46.246748  37.140492  \n99205  46.229480  37.094161  \n99206  46.132734  36.995682  \n99207  46.157752  36.959724  \n\n[99208 rows x 8 columns]",
      "text/html": "<div>\n<style scoped>\n    .dataframe tbody tr th:only-of-type {\n        vertical-align: middle;\n    }\n\n    .dataframe tbody tr th {\n        vertical-align: top;\n    }\n\n    .dataframe thead th {\n        text-align: right;\n    }\n</style>\n<table border=\"1\" class=\"dataframe\">\n  <thead>\n    <tr style=\"text-align: right;\">\n      <th></th>\n      <th>OE_timestamp</th>\n      <th>eye_frame</th>\n      <th>ms_axis</th>\n      <th>center_x</th>\n      <th>center_y</th>\n      <th>phi</th>\n      <th>width</th>\n      <th>height</th>\n    </tr>\n  </thead>\n  <tbody>\n    <tr>\n      <th>0</th>\n      <td>565951.0</td>\n      <td>1.0</td>\n      <td>28297.55</td>\n      <td>NaN</td>\n      <td>NaN</td>\n      <td>83.688017</td>\n      <td>45.335549</td>\n      <td>32.726528</td>\n    </tr>\n    <tr>\n      <th>1</th>\n      <td>566291.0</td>\n      <td>2.0</td>\n      <td>28314.55</td>\n      <td>NaN</td>\n      <td>NaN</td>\n      <td>84.106986</td>\n      <td>45.316501</td>\n      <td>32.731487</td>\n    </tr>\n    <tr>\n      <th>2</th>\n      <td>566631.0</td>\n      <td>3.0</td>\n      <td>28331.55</td>\n      <td>NaN</td>\n      <td>NaN</td>\n      <td>83.937743</td>\n      <td>45.292542</td>\n      <td>32.789987</td>\n    </tr>\n    <tr>\n      <th>3</th>\n      <td>566970.0</td>\n      <td>4.0</td>\n      <td>28348.50</td>\n      <td>NaN</td>\n      <td>NaN</td>\n      <td>84.181518</td>\n      <td>45.268229</td>\n      <td>32.769033</td>\n    </tr>\n    <tr>\n      <th>4</th>\n      <td>567310.0</td>\n      <td>5.0</td>\n      <td>28365.50</td>\n      <td>NaN</td>\n      <td>NaN</td>\n      <td>84.260825</td>\n      <td>45.316728</td>\n      <td>32.700692</td>\n    </tr>\n    <tr>\n      <th>...</th>\n      <td>...</td>\n      <td>...</td>\n      <td>...</td>\n      <td>...</td>\n      <td>...</td>\n      <td>...</td>\n      <td>...</td>\n      <td>...</td>\n    </tr>\n    <tr>\n      <th>99203</th>\n      <td>34261949.0</td>\n      <td>101272.0</td>\n      <td>1713097.45</td>\n      <td>NaN</td>\n      <td>NaN</td>\n      <td>67.629559</td>\n      <td>46.307113</td>\n      <td>37.235502</td>\n    </tr>\n    <tr>\n      <th>99204</th>\n      <td>34262289.0</td>\n      <td>101273.0</td>\n      <td>1713114.45</td>\n      <td>NaN</td>\n      <td>NaN</td>\n      <td>67.623210</td>\n      <td>46.246748</td>\n      <td>37.140492</td>\n    </tr>\n    <tr>\n      <th>99205</th>\n      <td>34262628.0</td>\n      <td>101274.0</td>\n      <td>1713131.40</td>\n      <td>NaN</td>\n      <td>NaN</td>\n      <td>66.911872</td>\n      <td>46.229480</td>\n      <td>37.094161</td>\n    </tr>\n    <tr>\n      <th>99206</th>\n      <td>34262968.0</td>\n      <td>101275.0</td>\n      <td>1713148.40</td>\n      <td>NaN</td>\n      <td>NaN</td>\n      <td>67.410327</td>\n      <td>46.132734</td>\n      <td>36.995682</td>\n    </tr>\n    <tr>\n      <th>99207</th>\n      <td>34263307.0</td>\n      <td>101276.0</td>\n      <td>1713165.35</td>\n      <td>NaN</td>\n      <td>NaN</td>\n      <td>67.409074</td>\n      <td>46.157752</td>\n      <td>36.959724</td>\n    </tr>\n  </tbody>\n</table>\n<p>99208 rows × 8 columns</p>\n</div>"
     },
     "execution_count": 26,
     "metadata": {},
     "output_type": "execute_result"
    }
   ],
   "source": [
    "block.left_eye_data"
   ],
   "metadata": {
    "collapsed": false,
    "ExecuteTime": {
     "end_time": "2024-02-12T09:28:45.085748900Z",
     "start_time": "2024-02-12T09:28:45.026898Z"
    }
   },
   "id": "8f736683bf1fa55",
   "execution_count": 26
  },
  {
   "cell_type": "code",
   "outputs": [],
   "source": [
    "# left eye inspection\n",
    "path_to_video = [x for x in pathlib.Path(block.le_videos[0]).parent.iterdir() if '.mp4' in str(x.name) and 'DLC' in str(x.name)][0]\n",
    "play_video_with_ellipses_rotation(block=block,eye='left', path_to_video=str(path_to_video) ,xflip=True, transformation_matrix=left_rotation_matrix)"
   ],
   "metadata": {
    "collapsed": false,
    "ExecuteTime": {
     "end_time": "2024-02-12T09:42:54.789957500Z",
     "start_time": "2024-02-12T09:42:52.529886300Z"
    }
   },
   "id": "a107096e094273da",
   "execution_count": 39
  },
  {
   "cell_type": "markdown",
   "source": [
    "# after verification, I want to have a function that exports the right/left eye data dfs to file "
   ],
   "metadata": {
    "collapsed": false
   },
   "id": "e5dab165eb16c2f1"
  },
  {
   "cell_type": "code",
   "outputs": [],
   "source": [
    "def export_eye_data_2d(block):\n",
    "    \"\"\"\n",
    "    This function saves the eye dataframes to two csv files\n",
    "    :param block: The current blocksync class with verifiec re/le dfs\n",
    "    :return: None\n",
    "    \"\"\"\n",
    "    block.right_eye_data.to_csv(block.analysis_path / 'right_eye_data.csv')\n",
    "    block.left_eye_data.to_csv(block.analysis_path / 'left_eye_data.csv')\n",
    "\n",
    "export_eye_data_2d(block)"
   ],
   "metadata": {
    "collapsed": false,
    "ExecuteTime": {
     "end_time": "2024-02-11T16:26:43.903900400Z",
     "start_time": "2024-02-11T16:26:38.915503400Z"
    }
   },
   "id": "a0a510124fa19306",
   "execution_count": 30
  },
  {
   "cell_type": "markdown",
   "source": [
    "# over here, I can load the eye dataframes if I already exported them"
   ],
   "metadata": {
    "collapsed": false
   },
   "id": "baea2aa891fe8518"
  },
  {
   "cell_type": "code",
   "outputs": [],
   "source": [
    "block.left_eye_data = pd.read_csv(block.analysis_path / 'left_eye_data.csv', index_col=0)\n",
    "block.right_eye_data = pd.read_csv(block.analysis_path / 'right_eye_data.csv', index_col=0)"
   ],
   "metadata": {
    "collapsed": false,
    "ExecuteTime": {
     "end_time": "2024-02-11T16:26:45.825478100Z",
     "start_time": "2024-02-11T16:26:45.394781400Z"
    }
   },
   "id": "b33af39e34a68084",
   "execution_count": 31
  },
  {
   "cell_type": "code",
   "outputs": [],
   "source": [
    "def create_saccade_events_df(eye_data_df, speed_threshold, bokeh_verify_threshold=False):    \n",
    "    \"\"\"\n",
    "    Detects saccade events in eye tracking data and computes relevant metrics.\n",
    "\n",
    "    Parameters:\n",
    "    - eye_data_df (pd.DataFrame): Input DataFrame containing eye tracking data.\n",
    "    - speed_threshold (float): Threshold for saccade detection based on speed.\n",
    "\n",
    "    Returns:\n",
    "    - df (pd.DataFrame): Modified input DataFrame with added columns for speed and saccade detection.\n",
    "    - saccade_events_df (pd.DataFrame): DataFrame containing information about detected saccade events.\n",
    "\n",
    "    Steps:\n",
    "    1. Calculate speed components ('speed_x', 'speed_y') based on differences in 'center_x' and 'center_y'.\n",
    "    2. Compute the magnitude of the velocity vector ('speed_r').\n",
    "    3. Create a binary column ('is_saccade') indicating saccade events based on the speed threshold.\n",
    "    4. Determine saccade onset and offset indices and timestamps.\n",
    "    5. Create a DataFrame ('saccade_events_df') with columns:\n",
    "        - 'saccade_start_ind': Indices of saccade onset.\n",
    "        - 'saccade_start_timestamp': Timestamps corresponding to saccade onset.\n",
    "        - 'saccade_end_ind': Indices of saccade offset.\n",
    "        - 'saccade_end_timestamp': Timestamps corresponding to saccade offset.\n",
    "        - 'length': Duration of each saccade event.\n",
    "    6. Calculate distance traveled and angles for each saccade event.\n",
    "    7. Append additional columns to 'saccade_events_df':\n",
    "        - 'magnitude': Magnitude of the distance traveled during each saccade.\n",
    "        - 'angle': Angle of the saccade vector in degrees.\n",
    "        - 'initial_x', 'initial_y': Initial coordinates of the saccade.\n",
    "        - 'end_x', 'end_y': End coordinates of the saccade.\n",
    "\n",
    "    Note: The original 'eye_data_df' is not modified; modified data is returned as 'df'.\n",
    "    \"\"\"\n",
    "    df = eye_data_df\n",
    "    df['speed_x'] = df['center_x'].diff()  # Difference between consecutive 'center_x' values\n",
    "    df['speed_y'] = df['center_y'].diff()  # Difference between consecutive 'center_y' values\n",
    "    \n",
    "    # Step 2: Calculate magnitude of the velocity vector (R vector speed)\n",
    "    df['speed_r'] = (df['speed_x']**2 + df['speed_y']**2)**0.5\n",
    "    \n",
    "    # Create a column for saccade detection\n",
    "    df['is_saccade'] = df['speed_r'] > speed_threshold\n",
    "    \n",
    "    # create a saccade_on_off indicator where 1 is rising edge and -1 is falling edge by subtracting a shifted binary mask\n",
    "    saccade_on_off = df.is_saccade.astype(int) - df.is_saccade.shift(periods=1,fill_value=False).astype(int)\n",
    "    saccade_on_inds = np.where(saccade_on_off == 1)[0] - 1 # notice the manual shift here, chosen to include the first (sometimes slower) eye frame, just before saccade threshold crossing\n",
    "    saccade_on_timestamps = df['OE_timestamp'].iloc[saccade_on_inds]\n",
    "    saccade_off_inds = np.where(saccade_on_off == -1)[0]\n",
    "    saccade_off_timestamps = df['OE_timestamp'].iloc[saccade_off_inds]\n",
    "    \n",
    "    saccade_dict = {'saccade_start_ind' :  saccade_on_inds ,\n",
    "                    'saccade_start_timestamp': saccade_on_timestamps.values,\n",
    "                    'saccade_end_ind':      saccade_off_inds,\n",
    "                    'saccade_end_timestamp':saccade_off_timestamps.values\n",
    "                    }\n",
    "    saccade_events_df = pd.DataFrame.from_dict(saccade_dict)\n",
    "    saccade_events_df['length'] = saccade_events_df['saccade_end_ind'] - saccade_events_df['saccade_start_ind']\n",
    "    # Drop columns used for intermediate steps\n",
    "    df = df.drop(['is_saccade'], axis=1)\n",
    "    \n",
    "    distances = []\n",
    "    angles = []\n",
    "    for index, row in tqdm.tqdm(saccade_events_df.iterrows()):\n",
    "        saccade_samples = df.loc[(df['OE_timestamp'] >= row['saccade_start_timestamp']) & \n",
    "                                 (df['OE_timestamp'] <= row['saccade_end_timestamp'])]\n",
    "        distance_traveled = saccade_samples['speed_r'].sum()\n",
    "        # Calculate angle from initial position to endpoint\n",
    "        initial_position = saccade_samples.iloc[0][['center_x', 'center_y']]\n",
    "        endpoint = saccade_samples.iloc[-1][['center_x', 'center_y']]\n",
    "        overall_angle = np.arctan2(endpoint['center_y'] - initial_position['center_y'],\n",
    "                           endpoint['center_x'] - initial_position['center_x'])\n",
    "        \n",
    "        # calculate intermittent angles:\n",
    "        #step_angles = np.arctan2(saccade_samples['center_y'].diff(), saccade_samples['center_x'].diff())\n",
    "        #correlation_score = np.corrcoef(step_angles, overall_angle)[0, 1]\n",
    "        #correlations.append(correlation_score)\n",
    "        angles.append(overall_angle)  # Convert radians to degrees and ensure result is in [0, 360)\n",
    "        distances.append(distance_traveled)\n",
    "    \n",
    "    saccade_events_df['magnitude'] = distances \n",
    "    saccade_events_df['angle'] = np.rad2deg(angles) %360\n",
    "    \n",
    "    start_ts = saccade_events_df['saccade_start_timestamp'].values\n",
    "    end_ts = saccade_events_df['saccade_end_timestamp'].values\n",
    "    saccade_start_df = df[df['OE_timestamp'].isin(start_ts)]\n",
    "    saccade_end_df = df[df['OE_timestamp'].isin(end_ts)]\n",
    "    start_x_coord = saccade_start_df['center_x']\n",
    "    start_y_coord = saccade_start_df['center_y']\n",
    "    end_x_coord = saccade_end_df['center_x']\n",
    "    end_y_coord = saccade_end_df['center_y']\n",
    "    saccade_events_df['initial_x'] = start_x_coord.values\n",
    "    saccade_events_df['initial_y'] = start_y_coord.values\n",
    "    saccade_events_df['end_x'] = end_x_coord.values\n",
    "    saccade_events_df['end_y'] = end_y_coord.values\n",
    "    \n",
    "    if bokeh_verify_threshold:\n",
    "        bokeh_plotter(data_list=[df.speed_r], label_list=['Pupil Velocity'], peaks=saccade_on_inds)\n",
    "        \n",
    "    return df, saccade_events_df"
   ],
   "metadata": {
    "collapsed": false,
    "ExecuteTime": {
     "end_time": "2024-02-12T09:43:04.283567300Z",
     "start_time": "2024-02-12T09:43:04.260333700Z"
    }
   },
   "id": "7d3d9810488dc9f5",
   "execution_count": 40
  },
  {
   "cell_type": "code",
   "outputs": [
    {
     "name": "stderr",
     "output_type": "stream",
     "text": [
      "948it [00:01, 757.78it/s]\n",
      "<ipython-input-40-0ed2046103a3>:80: RuntimeWarning: invalid value encountered in remainder\n",
      "  saccade_events_df['angle'] = np.rad2deg(angles) %360\n",
      "990it [00:01, 766.24it/s]\n",
      "<ipython-input-40-0ed2046103a3>:80: RuntimeWarning: invalid value encountered in remainder\n",
      "  saccade_events_df['angle'] = np.rad2deg(angles) %360\n"
     ]
    }
   ],
   "source": [
    "block.left_eye_data, block.l_saccade_df = create_saccade_events_df(block.left_eye_data, speed_threshold=2, bokeh_verify_threshold=False)\n",
    "block.right_eye_data, block.r_saccade_df = create_saccade_events_df(block.right_eye_data, speed_threshold=2, bokeh_verify_threshold=True)"
   ],
   "metadata": {
    "collapsed": false,
    "ExecuteTime": {
     "end_time": "2024-02-12T09:43:40.687697600Z",
     "start_time": "2024-02-12T09:43:37.824698600Z"
    }
   },
   "id": "1573be47ac7e109a",
   "execution_count": 41
  },
  {
   "cell_type": "code",
   "outputs": [
    {
     "name": "stdout",
     "output_type": "stream",
     "text": [
      "31473.6\n",
      "31524.5\n"
     ]
    }
   ],
   "source": [
    "start_ms = block.left_eye_data[block.left_eye_data['OE_timestamp'] == block.l_saccade_df.saccade_start_timestamp[0]].ms_axis.values[0]\n",
    "end_ms = block.left_eye_data[block.left_eye_data['OE_timestamp'] == block.l_saccade_df.saccade_end_timestamp[0]].ms_axis.values[0]\n",
    "print(start_ms)\n",
    "print(end_ms)\n",
    "show_synced_eye_videos(block,start_ms=start_ms, end_ms = end_ms+10000, xflip=True, rotate_frames=True)"
   ],
   "metadata": {
    "collapsed": false,
    "ExecuteTime": {
     "end_time": "2024-02-12T09:56:58.678629400Z",
     "start_time": "2024-02-12T09:56:38.070621300Z"
    }
   },
   "id": "c033a74eca095fdf",
   "execution_count": 56
  },
  {
   "cell_type": "code",
   "outputs": [],
   "source": [
    "start_ms = \n",
    "show_synced_eye_videos(block)"
   ],
   "metadata": {
    "collapsed": false
   },
   "id": "384e54a58f7aeca5"
  },
  {
   "cell_type": "code",
   "outputs": [],
   "source": [
    "# I want to collect saccade events from the new dataframe:\n",
    "# first stage is to understand pupil speeds:\n",
    "# Step 1: Calculate speed in each axis\n",
    "df = block.left_eye_data.copy()\n",
    "df['speed_x'] = df['center_x'].diff()  # Difference between consecutive 'center_x' values\n",
    "df['speed_y'] = df['center_y'].diff()  # Difference between consecutive 'center_y' values\n",
    "\n",
    "# Step 2: Calculate magnitude of the velocity vector (R vector speed)\n",
    "df['speed_r'] = (df['speed_x']**2 + df['speed_y']**2)**0.5\n"
   ],
   "metadata": {
    "collapsed": false,
    "ExecuteTime": {
     "end_time": "2024-02-08T16:45:34.138818400Z",
     "start_time": "2024-02-08T16:45:34.105641600Z"
    }
   },
   "id": "7cf7b2aa02cf0466",
   "execution_count": 51
  },
  {
   "cell_type": "code",
   "outputs": [],
   "source": [
    "# now detect saccade events and chunk them:\n",
    "speed_threshold = 2\n",
    "# Create a column for saccade detection\n",
    "df['is_saccade'] = df['speed_r'] > speed_threshold\n",
    "\n",
    "# create a saccade_on_off indicator where 1 is rising edge and -1 is falling edge by subtracting a shifted binary mask\n",
    "saccade_on_off = df.is_saccade.astype(int) - df.is_saccade.shift(periods=1,fill_value=False).astype(int)\n",
    "saccade_on_inds = np.where(saccade_on_off == 1)[0]\n",
    "saccade_on_timestamps = df['OE_timestamp'].iloc[saccade_on_inds]\n",
    "saccade_off_inds = np.where(saccade_on_off == -1)[0]\n",
    "saccade_off_timestamps = df['OE_timestamp'].iloc[saccade_off_inds]\n",
    "\n",
    "saccade_dict = {'saccade_start_ind' :  saccade_on_inds ,\n",
    "                'saccade_start_timestamp': saccade_on_timestamps.values,\n",
    "                'saccade_end_ind':      saccade_off_inds,\n",
    "                'saccade_end_timestamp':saccade_off_timestamps.values\n",
    "                }\n",
    "saccade_events_df = pd.DataFrame.from_dict(saccade_dict)\n",
    "saccade_events_df['length'] = saccade_events_df['saccade_end_ind'] - saccade_events_df['saccade_start_ind']\n",
    "# Drop columns used for intermediate steps\n",
    "# df = df.drop(['is_saccade'], axis=1)\n",
    "\n",
    "distances = []\n",
    "angles = []\n",
    "correlations = []\n",
    "\n",
    "\n",
    "for index, row in tqdm.tqdm(saccade_events_df.iterrows()):\n",
    "    saccade_samples = df.loc[(df['OE_timestamp'] >= row['saccade_start_timestamp']) & \n",
    "                             (df['OE_timestamp'] <= row['saccade_end_timestamp'])]\n",
    "    distance_traveled = saccade_samples['speed_r'].sum()\n",
    "    # Calculate angle from initial position to endpoint\n",
    "    initial_position = saccade_samples.iloc[0][['center_x', 'center_y']]\n",
    "    endpoint = saccade_samples.iloc[-1][['center_x', 'center_y']]\n",
    "    overall_angle = np.arctan2(endpoint['center_y'] - initial_position['center_y'],\n",
    "                       endpoint['center_x'] - initial_position['center_x'])\n",
    "    \n",
    "    # calculate intermittent angles:\n",
    "    #step_angles = np.arctan2(saccade_samples['center_y'].diff(), saccade_samples['center_x'].diff())\n",
    "    #correlation_score = np.corrcoef(step_angles, overall_angle)[0, 1]\n",
    "    #correlations.append(correlation_score)\n",
    "    angles.append(overall_angle)  # Convert radians to degrees and ensure result is in [0, 360)\n",
    "    distances.append(distance_traveled)\n",
    "\n",
    "\n",
    "saccade_events_df['magnitude'] = distances \n",
    "saccade_events_df['angle'] = np.rad2deg(angles) %360\n",
    "# now get xy coordinates for start and end timestamps:\n",
    "start_ts = saccade_events_df['saccade_start_timestamp'].values\n",
    "end_ts = saccade_events_df['saccade_end_timestamp'].values\n",
    "saccade_start_df = df[df['OE_timestamp'].isin(start_ts)]\n",
    "saccade_end_df = df[df['OE_timestamp'].isin(end_ts)]\n",
    "start_x_coord = saccade_start_df['center_x']\n",
    "start_y_coord = saccade_start_df['center_y']\n",
    "end_x_coord = saccade_end_df['center_x']\n",
    "end_y_coord = saccade_end_df['center_y']\n",
    "saccade_events_df['initial_x'] = start_x_coord.values\n",
    "saccade_events_df['initial_y'] = start_y_coord.values\n",
    "saccade_events_df['end_x'] = end_x_coord.values\n",
    "saccade_events_df['end_y'] = end_y_coord.values\n",
    "saccade_events_df\n",
    "#saccade_events_df['correlation'] = correlations"
   ],
   "metadata": {
    "collapsed": false,
    "ExecuteTime": {
     "end_time": "2024-02-08T16:45:44.373005700Z",
     "start_time": "2024-02-08T16:45:44.307197800Z"
    }
   },
   "id": "bc5fd88241a2db76",
   "execution_count": 52
  },
  {
   "cell_type": "code",
   "outputs": [
    {
     "data": {
      "text/plain": "<Figure size 720x504 with 1 Axes>",
      "image/png": "[encoded data removed]"
     },
     "metadata": {},
     "output_type": "display_data"
    }
   ],
   "source": [
    "# make a histogram plot for all saccade magnitudes (L/R):\n",
    "all_magnitudes_mm = np.hstack([block.l_saccade_df['magnitude'].values * block.L_pix_size, block.r_saccade_df['magnitude'].values * block.R_pix_size])\n",
    "# Create the figure and axis\n",
    "fig, ax = plt.subplots(figsize=(10, 7))\n",
    "\n",
    "# Plot the histogram\n",
    "ax.hist(all_magnitudes_mm,bins=np.linspace(0,10,20),log=True, color='black')\n",
    "\n",
    "# Set title and labels\n",
    "title = f'Saccade amplitude distribution Blocks 23-32 \\n overall {len(all_magnitudes_mm)} saccades'\n",
    "ax.set_title(title, fontsize=17)\n",
    "ax.set_xlabel('Saccade amplitude [mm]', fontsize=17)\n",
    "ax.set_xscale('linear')\n",
    "ax.set_yscale('linear')\n",
    "ax.set_ylabel('Count', fontsize=20)\n",
    "\n",
    "# Adjust tick label sizes\n",
    "ax.tick_params(axis='both', which='major', labelsize=15)\n",
    "\n",
    "# Set white background and black text\n",
    "fig.patch.set_facecolor('white')\n",
    "ax.set_facecolor('white')\n",
    "ax.title.set_color('black')\n",
    "ax.xaxis.label.set_color('black')\n",
    "ax.yaxis.label.set_color('black')\n",
    "ax.tick_params(colors='black')\n",
    "\n",
    "plt.show()"
   ],
   "metadata": {
    "collapsed": false,
    "ExecuteTime": {
     "end_time": "2024-02-11T16:27:06.061441800Z",
     "start_time": "2024-02-11T16:27:05.882671100Z"
    }
   },
   "id": "6f1ec678ee2ce773",
   "execution_count": 35
  },
  {
   "cell_type": "code",
   "outputs": [
    {
     "data": {
      "text/plain": "<Figure size 720x432 with 1 Axes>",
      "image/png": "[encoded data removed]"
     },
     "metadata": {},
     "output_type": "display_data"
    }
   ],
   "source": [
    "# Create a Seaborn histogram plot\n",
    "sns.set(style=\"whitegrid\")  # Remove the background grid\n",
    "plt.figure(figsize=(10, 6))  # Enlarge the plot\n",
    "\n",
    "# Set custom color for the bars\n",
    "ax = sns.histplot(all_magnitudes_mm, color='black')\n",
    "\n",
    "# Customize text size\n",
    "ax.set_title(f'Saccade Magnitude Histogram\\n overall {len(all_magnitudes_mm)} saccades', fontsize=22)\n",
    "ax.set_xlabel('Magnitudes [mm]', fontsize=20)\n",
    "ax.set_ylabel('Count', fontsize=20)\n",
    "ax.tick_params(axis='both', labelsize=18)\n"
   ],
   "metadata": {
    "collapsed": false,
    "ExecuteTime": {
     "end_time": "2024-02-11T16:27:07.151327500Z",
     "start_time": "2024-02-11T16:27:06.915645600Z"
    }
   },
   "id": "3aa8484e4dff906e",
   "execution_count": 36
  },
  {
   "cell_type": "code",
   "outputs": [
    {
     "data": {
      "text/plain": "<Figure size 1200x900 with 1 Axes>",
      "image/png": "[encoded data removed]"
     },
     "metadata": {},
     "output_type": "display_data"
    }
   ],
   "source": [
    "# saccade_angles = np.hstack([block.l_saccade_df['angle'].values, \n",
    "#                             block.r_saccade_df['angle'].values])\n",
    "saccade_angles = block.r_saccade_df['angle'].values\n",
    "num_bins = 36\n",
    "hist, bin_edges = np.histogram(saccade_angles, bins=num_bins, range=(0, 360))\n",
    "bin_centers = (bin_edges[:-1] + bin_edges[1:]) / 2  # Calculate bin centers\n",
    "\n",
    "plt.figure(figsize=(8, 6), dpi=150)\n",
    "ax = plt.subplot(111, projection='polar')\n",
    "\n",
    "ax.bar(np.deg2rad(list(bin_centers.astype(int))), hist, width=np.deg2rad(360/num_bins), align='center')\n",
    "\n",
    "#ax.set_theta_direction(-1)\n",
    "#ax.set_theta_offset(np.radians(90))\n",
    "ax.grid(True)\n",
    "#ax.set_rlabel_position(0)\n",
    "ax.set_yticks([])\n",
    "plt.title(\"Polar Histogram of saccade directions - synced saccades\")\n",
    "\n",
    "plt.show()"
   ],
   "metadata": {
    "collapsed": false,
    "ExecuteTime": {
     "end_time": "2024-02-11T16:28:01.240619Z",
     "start_time": "2024-02-11T16:28:01.060664200Z"
    }
   },
   "id": "b33c146c6d1e5d7f",
   "execution_count": 39
  },
  {
   "cell_type": "code",
   "outputs": [
    {
     "data": {
      "text/plain": "     saccade_on_timestamps  saccade_off_timestamps\n0                 543242.0                543921.0\n1                 586047.0                586727.0\n2                 597599.0                598279.0\n3                 673697.0                674037.0\n4                 762709.0                763049.0\n..                     ...                     ...\n480             32141307.0              32142666.0\n481             32240480.0              32241159.0\n482             32252707.0              32253386.0\n483             32259839.0              32260518.0\n484             32410635.0              32410974.0\n\n[485 rows x 2 columns]",
      "text/html": "<div>\n<style scoped>\n    .dataframe tbody tr th:only-of-type {\n        vertical-align: middle;\n    }\n\n    .dataframe tbody tr th {\n        vertical-align: top;\n    }\n\n    .dataframe thead th {\n        text-align: right;\n    }\n</style>\n<table border=\"1\" class=\"dataframe\">\n  <thead>\n    <tr style=\"text-align: right;\">\n      <th></th>\n      <th>saccade_on_timestamps</th>\n      <th>saccade_off_timestamps</th>\n    </tr>\n  </thead>\n  <tbody>\n    <tr>\n      <th>0</th>\n      <td>543242.0</td>\n      <td>543921.0</td>\n    </tr>\n    <tr>\n      <th>1</th>\n      <td>586047.0</td>\n      <td>586727.0</td>\n    </tr>\n    <tr>\n      <th>2</th>\n      <td>597599.0</td>\n      <td>598279.0</td>\n    </tr>\n    <tr>\n      <th>3</th>\n      <td>673697.0</td>\n      <td>674037.0</td>\n    </tr>\n    <tr>\n      <th>4</th>\n      <td>762709.0</td>\n      <td>763049.0</td>\n    </tr>\n    <tr>\n      <th>...</th>\n      <td>...</td>\n      <td>...</td>\n    </tr>\n    <tr>\n      <th>480</th>\n      <td>32141307.0</td>\n      <td>32142666.0</td>\n    </tr>\n    <tr>\n      <th>481</th>\n      <td>32240480.0</td>\n      <td>32241159.0</td>\n    </tr>\n    <tr>\n      <th>482</th>\n      <td>32252707.0</td>\n      <td>32253386.0</td>\n    </tr>\n    <tr>\n      <th>483</th>\n      <td>32259839.0</td>\n      <td>32260518.0</td>\n    </tr>\n    <tr>\n      <th>484</th>\n      <td>32410635.0</td>\n      <td>32410974.0</td>\n    </tr>\n  </tbody>\n</table>\n<p>485 rows × 2 columns</p>\n</div>"
     },
     "execution_count": 74,
     "metadata": {},
     "output_type": "execute_result"
    }
   ],
   "source": [
    "saccade_on_off = df.is_saccade.astype(int) - df.is_saccade.shift(periods=1,fill_value=False).astype(int)\n",
    "saccade_on_inds = np.where(saccade_on_off == 1)[0]\n",
    "saccade_on_timestamps = df['OE_timestamp'].iloc[saccade_on_inds]\n",
    "saccade_off_inds = np.where(saccade_on_off == -1)[0]\n",
    "saccade_off_timestamps = df['OE_timestamp'].iloc[saccade_off_inds]\n",
    "saccade_dict = {\n",
    "    'saccade_on_timestamps':    saccade_on_timestamps.values,\n",
    "    'saccade_off_timestamps':   saccade_off_timestamps.values\n",
    "}\n",
    "saccade_events = pd.DataFrame.from_dict(saccade_dict)\n",
    "saccade_events"
   ],
   "metadata": {
    "collapsed": false,
    "ExecuteTime": {
     "end_time": "2024-02-07T18:03:37.635107300Z",
     "start_time": "2024-02-07T18:03:37.574293800Z"
    }
   },
   "id": "b4f5ac42d72518a7",
   "execution_count": 74
  },
  {
   "cell_type": "code",
   "outputs": [
    {
     "data": {
      "text/plain": "Index(['saccade_start_ind', 'saccade_start_timestamp', 'saccade_end_ind',\n       'saccade_end_timestamp', 'length', 'initial_x', 'initial_y', 'end_x',\n       'end_y'],\n      dtype='object')"
     },
     "execution_count": 65,
     "metadata": {},
     "output_type": "execute_result"
    }
   ],
   "source": [
    "saccade_events_df.columns"
   ],
   "metadata": {
    "collapsed": false,
    "ExecuteTime": {
     "end_time": "2024-02-08T16:57:32.957730800Z",
     "start_time": "2024-02-08T16:57:32.879150600Z"
    }
   },
   "id": "2ecbc19485fe6999",
   "execution_count": 65
  },
  {
   "cell_type": "code",
   "outputs": [],
   "source": [
    "bokeh_plotter(data_list=[df.speed_r],label_list=['Speed'], peaks=saccade_off_inds)"
   ],
   "metadata": {
    "collapsed": false,
    "ExecuteTime": {
     "end_time": "2024-02-08T16:47:06.373164100Z",
     "start_time": "2024-02-08T16:47:06.105107300Z"
    }
   },
   "id": "92f5585966a6a6a",
   "execution_count": 56
  },
  {
   "cell_type": "code",
   "outputs": [],
   "source": [
    "\n",
    "\n",
    "# Create a Bokeh figure\n",
    "p = bokeh.figure(title='Eye Movement Speed with Saccade Events', x_axis_label='OE_Timestamp', y_axis_label='Speed (R)',\n",
    "           width=1800, height=700)\n",
    "\n",
    "# Plot speed graph\n",
    "p.line(x='OE_timestamp', y='speed_r', source=df, line_width=2, line_color='blue', legend_label='Speed (R)')\n",
    "\n",
    "# Plot saccade start points\n",
    "p.circle(x=saccade_events['saccade_start_timestamp'], y=[0]*len(saccade_events),\n",
    "         size=8, color='red', legend_label='Saccade Start')\n",
    "\n",
    "# Plot saccade end points\n",
    "p.circle(x=saccade_events['saccade_end_timestamp'], y=[0]*len(saccade_events),\n",
    "         size=8, color='green', legend_label='Saccade End')\n",
    "\n",
    "# Show the plot\n",
    "bokeh.show(p)\n",
    "\n"
   ],
   "metadata": {
    "collapsed": false,
    "ExecuteTime": {
     "end_time": "2024-02-07T17:45:06.916778800Z",
     "start_time": "2024-02-07T17:45:05.808479400Z"
    }
   },
   "id": "f690583613b6212b",
   "execution_count": 54
  },
  {
   "cell_type": "code",
   "outputs": [
    {
     "data": {
      "text/plain": "971"
     },
     "execution_count": 48,
     "metadata": {},
     "output_type": "execute_result"
    }
   ],
   "source": [
    "len(saccade_events)"
   ],
   "metadata": {
    "collapsed": false,
    "ExecuteTime": {
     "end_time": "2024-02-07T17:40:51.223604200Z",
     "start_time": "2024-02-07T17:40:51.160615700Z"
    }
   },
   "id": "21c08ea02fbeb7",
   "execution_count": 48
  },
  {
   "cell_type": "code",
   "outputs": [
    {
     "data": {
      "text/plain": "        Arena_TTL  index  Unnamed: 0.1  R_eye_frame  L_values  R_values  \\\n0        605092.0      0             0          1.0       NaN  0.885172   \n1        605431.0      1             1          2.0       NaN  0.887300   \n2        605771.0      2             2          3.0       NaN  0.890668   \n3        606111.0      3             3          4.0       NaN  0.892202   \n4        606451.0      4             4          5.0 -2.813021  0.893261   \n...           ...    ...           ...          ...       ...       ...   \n91948  31841220.0  91948         91948      93880.0 -1.851355  1.670915   \n91949  31841560.0  91949         91949      93881.0 -1.855220  1.670836   \n91950  31841900.0  91950         91950      93882.0 -1.851100  1.670840   \n91951  31842239.0  91951         91951      93883.0 -1.852275  1.670417   \n91952  31842579.0  91952         91952      93884.0 -1.849970  1.670401   \n\n         center_x    center_y      width     height       phi  ellipse_size  \\\n0      329.658646  250.250975  47.719488  33.468928  0.261552   5017.500800   \n1      329.553549  250.337861  47.743960  33.410857  0.261714   5011.363778   \n2      329.549745  250.345209  47.746411  33.421520  0.261817   5013.220329   \n3      329.517116  250.357417  47.683452  33.422243  0.260236   5006.718323   \n4      329.354194  250.382232  47.632214  33.373532  0.270074   4994.049142   \n...           ...         ...        ...        ...       ...           ...   \n91948  406.511275  259.860345  27.489900  44.459345 -0.757032   3839.601034   \n91949  406.518275  259.861253  27.536835  44.459374 -0.758336   3846.159073   \n91950  406.541420  259.892993  27.577937  44.409008 -0.758430   3847.536187   \n91951  406.581305  259.871842  27.539825  44.425089 -0.757278   3843.610443   \n91952  406.584399  259.878537  27.552929  44.412362 -0.756950   3844.337523   \n\n          ms_axis  center_x_corrected  center_y_corrected  \n0        30254.60          329.658646          250.250975  \n1        30271.55          329.553549          250.337861  \n2        30288.55          329.549745          250.345209  \n3        30305.55          329.517116          250.357417  \n4        30322.55          329.354194          250.382232  \n...           ...                 ...                 ...  \n91948  1592061.00          410.511275          259.860345  \n91949  1592078.00          410.518275          259.861253  \n91950  1592095.00          410.541420          259.892993  \n91951  1592111.95          410.581305          259.871842  \n91952  1592128.95          410.584399          259.878537  \n\n[91953 rows x 15 columns]",
      "text/html": "<div>\n<style scoped>\n    .dataframe tbody tr th:only-of-type {\n        vertical-align: middle;\n    }\n\n    .dataframe tbody tr th {\n        vertical-align: top;\n    }\n\n    .dataframe thead th {\n        text-align: right;\n    }\n</style>\n<table border=\"1\" class=\"dataframe\">\n  <thead>\n    <tr style=\"text-align: right;\">\n      <th></th>\n      <th>Arena_TTL</th>\n      <th>index</th>\n      <th>Unnamed: 0.1</th>\n      <th>R_eye_frame</th>\n      <th>L_values</th>\n      <th>R_values</th>\n      <th>center_x</th>\n      <th>center_y</th>\n      <th>width</th>\n      <th>height</th>\n      <th>phi</th>\n      <th>ellipse_size</th>\n      <th>ms_axis</th>\n      <th>center_x_corrected</th>\n      <th>center_y_corrected</th>\n    </tr>\n  </thead>\n  <tbody>\n    <tr>\n      <th>0</th>\n      <td>605092.0</td>\n      <td>0</td>\n      <td>0</td>\n      <td>1.0</td>\n      <td>NaN</td>\n      <td>0.885172</td>\n      <td>329.658646</td>\n      <td>250.250975</td>\n      <td>47.719488</td>\n      <td>33.468928</td>\n      <td>0.261552</td>\n      <td>5017.500800</td>\n      <td>30254.60</td>\n      <td>329.658646</td>\n      <td>250.250975</td>\n    </tr>\n    <tr>\n      <th>1</th>\n      <td>605431.0</td>\n      <td>1</td>\n      <td>1</td>\n      <td>2.0</td>\n      <td>NaN</td>\n      <td>0.887300</td>\n      <td>329.553549</td>\n      <td>250.337861</td>\n      <td>47.743960</td>\n      <td>33.410857</td>\n      <td>0.261714</td>\n      <td>5011.363778</td>\n      <td>30271.55</td>\n      <td>329.553549</td>\n      <td>250.337861</td>\n    </tr>\n    <tr>\n      <th>2</th>\n      <td>605771.0</td>\n      <td>2</td>\n      <td>2</td>\n      <td>3.0</td>\n      <td>NaN</td>\n      <td>0.890668</td>\n      <td>329.549745</td>\n      <td>250.345209</td>\n      <td>47.746411</td>\n      <td>33.421520</td>\n      <td>0.261817</td>\n      <td>5013.220329</td>\n      <td>30288.55</td>\n      <td>329.549745</td>\n      <td>250.345209</td>\n    </tr>\n    <tr>\n      <th>3</th>\n      <td>606111.0</td>\n      <td>3</td>\n      <td>3</td>\n      <td>4.0</td>\n      <td>NaN</td>\n      <td>0.892202</td>\n      <td>329.517116</td>\n      <td>250.357417</td>\n      <td>47.683452</td>\n      <td>33.422243</td>\n      <td>0.260236</td>\n      <td>5006.718323</td>\n      <td>30305.55</td>\n      <td>329.517116</td>\n      <td>250.357417</td>\n    </tr>\n    <tr>\n      <th>4</th>\n      <td>606451.0</td>\n      <td>4</td>\n      <td>4</td>\n      <td>5.0</td>\n      <td>-2.813021</td>\n      <td>0.893261</td>\n      <td>329.354194</td>\n      <td>250.382232</td>\n      <td>47.632214</td>\n      <td>33.373532</td>\n      <td>0.270074</td>\n      <td>4994.049142</td>\n      <td>30322.55</td>\n      <td>329.354194</td>\n      <td>250.382232</td>\n    </tr>\n    <tr>\n      <th>...</th>\n      <td>...</td>\n      <td>...</td>\n      <td>...</td>\n      <td>...</td>\n      <td>...</td>\n      <td>...</td>\n      <td>...</td>\n      <td>...</td>\n      <td>...</td>\n      <td>...</td>\n      <td>...</td>\n      <td>...</td>\n      <td>...</td>\n      <td>...</td>\n      <td>...</td>\n    </tr>\n    <tr>\n      <th>91948</th>\n      <td>31841220.0</td>\n      <td>91948</td>\n      <td>91948</td>\n      <td>93880.0</td>\n      <td>-1.851355</td>\n      <td>1.670915</td>\n      <td>406.511275</td>\n      <td>259.860345</td>\n      <td>27.489900</td>\n      <td>44.459345</td>\n      <td>-0.757032</td>\n      <td>3839.601034</td>\n      <td>1592061.00</td>\n      <td>410.511275</td>\n      <td>259.860345</td>\n    </tr>\n    <tr>\n      <th>91949</th>\n      <td>31841560.0</td>\n      <td>91949</td>\n      <td>91949</td>\n      <td>93881.0</td>\n      <td>-1.855220</td>\n      <td>1.670836</td>\n      <td>406.518275</td>\n      <td>259.861253</td>\n      <td>27.536835</td>\n      <td>44.459374</td>\n      <td>-0.758336</td>\n      <td>3846.159073</td>\n      <td>1592078.00</td>\n      <td>410.518275</td>\n      <td>259.861253</td>\n    </tr>\n    <tr>\n      <th>91950</th>\n      <td>31841900.0</td>\n      <td>91950</td>\n      <td>91950</td>\n      <td>93882.0</td>\n      <td>-1.851100</td>\n      <td>1.670840</td>\n      <td>406.541420</td>\n      <td>259.892993</td>\n      <td>27.577937</td>\n      <td>44.409008</td>\n      <td>-0.758430</td>\n      <td>3847.536187</td>\n      <td>1592095.00</td>\n      <td>410.541420</td>\n      <td>259.892993</td>\n    </tr>\n    <tr>\n      <th>91951</th>\n      <td>31842239.0</td>\n      <td>91951</td>\n      <td>91951</td>\n      <td>93883.0</td>\n      <td>-1.852275</td>\n      <td>1.670417</td>\n      <td>406.581305</td>\n      <td>259.871842</td>\n      <td>27.539825</td>\n      <td>44.425089</td>\n      <td>-0.757278</td>\n      <td>3843.610443</td>\n      <td>1592111.95</td>\n      <td>410.581305</td>\n      <td>259.871842</td>\n    </tr>\n    <tr>\n      <th>91952</th>\n      <td>31842579.0</td>\n      <td>91952</td>\n      <td>91952</td>\n      <td>93884.0</td>\n      <td>-1.849970</td>\n      <td>1.670401</td>\n      <td>406.584399</td>\n      <td>259.878537</td>\n      <td>27.552929</td>\n      <td>44.412362</td>\n      <td>-0.756950</td>\n      <td>3844.337523</td>\n      <td>1592128.95</td>\n      <td>410.584399</td>\n      <td>259.878537</td>\n    </tr>\n  </tbody>\n</table>\n<p>91953 rows × 15 columns</p>\n</div>"
     },
     "execution_count": 8,
     "metadata": {},
     "output_type": "execute_result"
    }
   ],
   "source": [
    "import pandas as pd\n",
    "\n",
    "def detect_saccades(df, speed_threshold):\n",
    "    # Create a column for saccade detection\n",
    "    df['is_saccade'] = df['speed_r'] > speed_threshold\n",
    "\n",
    "    # Identify consecutive chunks where 'is_saccade' is True\n",
    "    df['saccade_chunk'] = (df['is_saccade'] != df['is_saccade'].shift()).cumsum()\n",
    "\n",
    "    # Group by 'saccade_chunk' and calculate start and end timestamps\n",
    "    saccade_events = (df.groupby('saccade_chunk')\n",
    "                      .agg(saccade_start_timestamp=('OE_timestamp', 'first'),\n",
    "                           saccade_end_timestamp=('OE_timestamp', 'last'))\n",
    "                      .reset_index(drop=True))\n",
    "\n",
    "    # Drop columns used for intermediate steps\n",
    "    df = df.drop(['is_saccade', 'saccade_chunk'], axis=1)\n",
    "\n",
    "    return saccade_events\n",
    "\n",
    "\n"
   ],
   "metadata": {
    "collapsed": false,
    "ExecuteTime": {
     "end_time": "2024-02-04T15:48:06.937257500Z",
     "start_time": "2024-02-04T15:48:06.912232300Z"
    }
   },
   "id": "a2d8a701c2d1912a",
   "execution_count": 8
  },
  {
   "cell_type": "markdown",
   "source": [],
   "metadata": {
    "collapsed": false
   },
   "id": "89fbebac3ba6fd7e"
  },
  {
   "cell_type": "code",
   "outputs": [
    {
     "data": {
      "text/plain": "       OE_timestamp  eye_frame     ms_axis    center_x    center_y        phi  \\\n0          489228.0        8.0    24461.40  426.667884  197.885896  76.448107   \n1          489568.0        9.0    24478.40  426.679774  197.910592  76.518209   \n2          489907.0       11.0    24495.35  426.638287  197.901864  76.629702   \n3          490247.0       11.0    24512.35  426.638287  197.901864  76.629702   \n4          490587.0       12.0    24529.35  426.548423  197.896510  77.068176   \n...             ...        ...         ...         ...         ...        ...   \n94071    32445276.0        NaN  1622263.80         NaN         NaN        NaN   \n94072    32445615.0        NaN  1622280.75         NaN         NaN        NaN   \n94073    32445955.0        NaN  1622297.75         NaN         NaN        NaN   \n94074    32446294.0        NaN  1622314.70         NaN         NaN        NaN   \n94075    32446634.0        NaN  1622331.70         NaN         NaN        NaN   \n\n           width     height   speed_x   speed_y   speed_r  \n0      45.652720  33.360344       NaN       NaN       NaN  \n1      45.650638  33.354662  0.011890  0.024696  0.027409  \n2      45.639808  33.348853 -0.041487 -0.008728  0.042395  \n3      45.639808  33.348853  0.000000  0.000000  0.000000  \n4      45.489204  33.231075 -0.089864 -0.005354  0.090024  \n...          ...        ...       ...       ...       ...  \n94071        NaN        NaN       NaN       NaN       NaN  \n94072        NaN        NaN       NaN       NaN       NaN  \n94073        NaN        NaN       NaN       NaN       NaN  \n94074        NaN        NaN       NaN       NaN       NaN  \n94075        NaN        NaN       NaN       NaN       NaN  \n\n[94076 rows x 11 columns]",
      "text/html": "<div>\n<style scoped>\n    .dataframe tbody tr th:only-of-type {\n        vertical-align: middle;\n    }\n\n    .dataframe tbody tr th {\n        vertical-align: top;\n    }\n\n    .dataframe thead th {\n        text-align: right;\n    }\n</style>\n<table border=\"1\" class=\"dataframe\">\n  <thead>\n    <tr style=\"text-align: right;\">\n      <th></th>\n      <th>OE_timestamp</th>\n      <th>eye_frame</th>\n      <th>ms_axis</th>\n      <th>center_x</th>\n      <th>center_y</th>\n      <th>phi</th>\n      <th>width</th>\n      <th>height</th>\n      <th>speed_x</th>\n      <th>speed_y</th>\n      <th>speed_r</th>\n    </tr>\n  </thead>\n  <tbody>\n    <tr>\n      <th>0</th>\n      <td>489228.0</td>\n      <td>8.0</td>\n      <td>24461.40</td>\n      <td>426.667884</td>\n      <td>197.885896</td>\n      <td>76.448107</td>\n      <td>45.652720</td>\n      <td>33.360344</td>\n      <td>NaN</td>\n      <td>NaN</td>\n      <td>NaN</td>\n    </tr>\n    <tr>\n      <th>1</th>\n      <td>489568.0</td>\n      <td>9.0</td>\n      <td>24478.40</td>\n      <td>426.679774</td>\n      <td>197.910592</td>\n      <td>76.518209</td>\n      <td>45.650638</td>\n      <td>33.354662</td>\n      <td>0.011890</td>\n      <td>0.024696</td>\n      <td>0.027409</td>\n    </tr>\n    <tr>\n      <th>2</th>\n      <td>489907.0</td>\n      <td>11.0</td>\n      <td>24495.35</td>\n      <td>426.638287</td>\n      <td>197.901864</td>\n      <td>76.629702</td>\n      <td>45.639808</td>\n      <td>33.348853</td>\n      <td>-0.041487</td>\n      <td>-0.008728</td>\n      <td>0.042395</td>\n    </tr>\n    <tr>\n      <th>3</th>\n      <td>490247.0</td>\n      <td>11.0</td>\n      <td>24512.35</td>\n      <td>426.638287</td>\n      <td>197.901864</td>\n      <td>76.629702</td>\n      <td>45.639808</td>\n      <td>33.348853</td>\n      <td>0.000000</td>\n      <td>0.000000</td>\n      <td>0.000000</td>\n    </tr>\n    <tr>\n      <th>4</th>\n      <td>490587.0</td>\n      <td>12.0</td>\n      <td>24529.35</td>\n      <td>426.548423</td>\n      <td>197.896510</td>\n      <td>77.068176</td>\n      <td>45.489204</td>\n      <td>33.231075</td>\n      <td>-0.089864</td>\n      <td>-0.005354</td>\n      <td>0.090024</td>\n    </tr>\n    <tr>\n      <th>...</th>\n      <td>...</td>\n      <td>...</td>\n      <td>...</td>\n      <td>...</td>\n      <td>...</td>\n      <td>...</td>\n      <td>...</td>\n      <td>...</td>\n      <td>...</td>\n      <td>...</td>\n      <td>...</td>\n    </tr>\n    <tr>\n      <th>94071</th>\n      <td>32445276.0</td>\n      <td>NaN</td>\n      <td>1622263.80</td>\n      <td>NaN</td>\n      <td>NaN</td>\n      <td>NaN</td>\n      <td>NaN</td>\n      <td>NaN</td>\n      <td>NaN</td>\n      <td>NaN</td>\n      <td>NaN</td>\n    </tr>\n    <tr>\n      <th>94072</th>\n      <td>32445615.0</td>\n      <td>NaN</td>\n      <td>1622280.75</td>\n      <td>NaN</td>\n      <td>NaN</td>\n      <td>NaN</td>\n      <td>NaN</td>\n      <td>NaN</td>\n      <td>NaN</td>\n      <td>NaN</td>\n      <td>NaN</td>\n    </tr>\n    <tr>\n      <th>94073</th>\n      <td>32445955.0</td>\n      <td>NaN</td>\n      <td>1622297.75</td>\n      <td>NaN</td>\n      <td>NaN</td>\n      <td>NaN</td>\n      <td>NaN</td>\n      <td>NaN</td>\n      <td>NaN</td>\n      <td>NaN</td>\n      <td>NaN</td>\n    </tr>\n    <tr>\n      <th>94074</th>\n      <td>32446294.0</td>\n      <td>NaN</td>\n      <td>1622314.70</td>\n      <td>NaN</td>\n      <td>NaN</td>\n      <td>NaN</td>\n      <td>NaN</td>\n      <td>NaN</td>\n      <td>NaN</td>\n      <td>NaN</td>\n      <td>NaN</td>\n    </tr>\n    <tr>\n      <th>94075</th>\n      <td>32446634.0</td>\n      <td>NaN</td>\n      <td>1622331.70</td>\n      <td>NaN</td>\n      <td>NaN</td>\n      <td>NaN</td>\n      <td>NaN</td>\n      <td>NaN</td>\n      <td>NaN</td>\n      <td>NaN</td>\n      <td>NaN</td>\n    </tr>\n  </tbody>\n</table>\n<p>94076 rows × 11 columns</p>\n</div>"
     },
     "execution_count": 42,
     "metadata": {},
     "output_type": "execute_result"
    }
   ],
   "source": [
    "df"
   ],
   "metadata": {
    "collapsed": false,
    "ExecuteTime": {
     "end_time": "2024-02-07T17:25:26.181316400Z",
     "start_time": "2024-02-07T17:25:26.111000700Z"
    }
   },
   "id": "d7e309528223cbc3",
   "execution_count": 42
  },
  {
   "cell_type": "code",
   "outputs": [],
   "source": [
    "# for each eye, get the median displacement vector -> create a synced version of the correction\n",
    "# according to previous sync -> perform column based addition / subtraction to correct the jitter\n",
    "# -> measure std decline to validate correction\n",
    "# right eye:\n",
    "rx_median_series = pd.Series(signal.medfilt(block.re_jitter_dict['x_displacement'], kernel_size=13),\n",
    "                             name='x_correction')\n",
    "ry_median_series = pd.Series(signal.medfilt(block.re_jitter_dict['y_displacement'], kernel_size=13),\n",
    "                             name='y_correction')\n",
    "r_correction_df = pd.concat([ry_median_series, rx_median_series], axis=1)\n",
    "# r_corrected = block.re_df[['Arena_TTL', 'R_eye_frame', 'center_y', 'center_x']].set_index('R_eye_frame').merge(\n",
    "#     r_correction_df,\n",
    "#     how='left',\n",
    "#     left_index=True,\n",
    "#     right_index=True)\n",
    "#r_corrected['center_y_corrected'] = r_corrected['center_y'] + r_corrected['y_correction']\n",
    "#r_corrected['center_x_corrected'] = r_corrected['center_x'] + r_corrected['x_correction']\n",
    "\n",
    "\n"
   ],
   "metadata": {
    "collapsed": false,
    "ExecuteTime": {
     "end_time": "2024-02-04T13:49:08.565686Z",
     "start_time": "2024-02-04T13:49:08.548609700Z"
    }
   },
   "id": "f6abfc51a50e41b3",
   "execution_count": 50
  },
  {
   "cell_type": "code",
   "outputs": [
    {
     "data": {
      "text/plain": "[<matplotlib.lines.Line2D at 0x21a098f5a00>]"
     },
     "execution_count": 57,
     "metadata": {},
     "output_type": "execute_result"
    },
    {
     "data": {
      "text/plain": "<Figure size 432x288 with 1 Axes>",
      "image/png": "[encoded data removed]"
     },
     "metadata": {},
     "output_type": "display_data"
    }
   ],
   "source": [
    "ax = r_correction_df.plot(kind='line')\n",
    "ax.plot(block.re_jitter_dict['top_correlation_x'], label='x_coord')\n",
    "ax.plot(block.re_jitter_dict['top_correlation_x']+r_correction_df['x_correction'], label='x_corected')\n"
   ],
   "metadata": {
    "collapsed": false,
    "ExecuteTime": {
     "end_time": "2024-02-04T13:51:49.339935900Z",
     "start_time": "2024-02-04T13:51:48.609951400Z"
    }
   },
   "id": "1f49cf8954e3ef55",
   "execution_count": 57
  },
  {
   "cell_type": "code",
   "outputs": [],
   "source": [
    "# L eye plot\n",
    "x_before = block.re_df['center_x']\n",
    "x_after = block.re_df['center_x_corrected']\n",
    "y_before = block.re_df['center_y']\n",
    "y_after = block.re_df['center_y_corrected']\n",
    "\n",
    "bokeh_plotter([x_before, x_after, y_before, y_after], [\"x_before\", \"x_after\", \"y_before\", \"y_after\"])"
   ],
   "metadata": {
    "collapsed": false,
    "ExecuteTime": {
     "end_time": "2024-02-04T14:17:33.599927500Z",
     "start_time": "2024-02-04T14:17:32.882932900Z"
    }
   },
   "id": "4a525bdbb9cf9fb7",
   "execution_count": 10
  },
  {
   "cell_type": "code",
   "outputs": [
    {
     "data": {
      "text/plain": "numpy.ndarray"
     },
     "execution_count": 14,
     "metadata": {},
     "output_type": "execute_result"
    }
   ],
   "source": [
    "type(block.led_blink_frames_l)\n"
   ],
   "metadata": {
    "collapsed": false,
    "ExecuteTime": {
     "end_time": "2024-02-04T15:00:56.323445400Z",
     "start_time": "2024-02-04T15:00:56.294447500Z"
    }
   },
   "id": "99aad04691101262",
   "execution_count": 14
  },
  {
   "cell_type": "code",
   "outputs": [
    {
     "name": "stdout",
     "output_type": "stream",
     "text": [
      "120\n"
     ]
    }
   ],
   "source": [
    "# get the R vector for a median absolute deviation calc\n",
    "\n",
    "jitter_dict = block.re_jitter_dict\n",
    "# Compute euclidean jitter magnitude\n",
    "x = np.array(jitter_dict['x_displacement'])\n",
    "y = np.array(jitter_dict['y_displacement'])\n",
    "r = np.sqrt(x**2 + y**2)\n",
    "corr_score = jitter_dict['top_correlation_values']\n",
    "mean_value = np.mean(r)\n",
    "mad = np.mean(np.abs(r - mean_value))\n",
    "extreme_inds = np.where(r > 5 * mad)[0]\n",
    "filt_r = scipy.signal.medfilt(r, kernel_size=121)\n",
    "threshold = 3\n",
    "peaks = np.where(np.abs(np.diff(filt_r)) > threshold)[0]\n",
    "bokeh_plotter([ r, filt_r, np.abs(np.diff(filt_r))], ['R', 'filtered_R', 'derivative'],\n",
    "              plot_name='mean absolute deviation', x_axis='frame', y_axis='euclidean displacement', peaks=peaks)\n",
    "print(len(extreme_inds))"
   ],
   "metadata": {
    "collapsed": false,
    "ExecuteTime": {
     "end_time": "2024-01-18T14:58:29.127180700Z",
     "start_time": "2024-01-18T14:58:28.212135900Z"
    }
   },
   "id": "df9f6d9c9a848f41",
   "execution_count": 66
  },
  {
   "cell_type": "code",
   "outputs": [
    {
     "data": {
      "text/plain": "array([ 3606,  3607,  3608,  3609,  3610,  3734,  4578,  4887, 10638,\n       17224, 17228, 20912, 78914, 79687, 88782, 88783, 93412],\n      dtype=int64)"
     },
     "execution_count": 55,
     "metadata": {},
     "output_type": "execute_result"
    }
   ],
   "source": [
    "threshold = 3\n",
    "peaks = np.where(np.abs(np.diff(filt_r)) > threshold)[0]\n",
    "peaks"
   ],
   "metadata": {
    "collapsed": false,
    "ExecuteTime": {
     "end_time": "2024-01-18T13:50:00.421406700Z",
     "start_time": "2024-01-18T13:50:00.402380600Z"
    }
   },
   "id": "771e1d52ab1fce32",
   "execution_count": 55
  },
  {
   "cell_type": "code",
   "outputs": [
    {
     "name": "stdout",
     "output_type": "stream",
     "text": [
      "Please select two points on the frame.\n",
      "Transformation Matrix:\n",
      "[[-8.56851544e-01  5.15563217e-01  4.70457322e+02]\n",
      " [-5.15563217e-01 -8.56851544e-01  6.10624600e+02]]\n"
     ]
    }
   ],
   "source": [
    "# This is the first iteration of the manual frame rotation annotator:\n",
    "\n",
    "# OLD VERSION OF THE FUNCTION\n",
    "def rotate_frame_to_horizontal_old(path_to_video_file, frame_number, ellipse_df, xflip=True):\n",
    "    # Read the video file\n",
    "    cap = cv2.VideoCapture(path_to_video_file)\n",
    "\n",
    "    # Check if the video file is opened successfully\n",
    "    if not cap.isOpened():\n",
    "        print(\"Error: Unable to open video file.\")\n",
    "        return None\n",
    "\n",
    "    # Set the frame position\n",
    "    cap.set(cv2.CAP_PROP_POS_FRAMES, frame_number)\n",
    "\n",
    "    # Read the frame\n",
    "    ret, frame = cap.read()\n",
    "\n",
    "    # Check if the frame is read successfully\n",
    "    if not ret:\n",
    "        print(f\"Error: Unable to read frame {frame_number}.\")\n",
    "        cap.release()\n",
    "        return None\n",
    "    \n",
    "    # horizontally flip frame if applicable:\n",
    "    if xflip:\n",
    "        frame = cv2.flip(frame, 1)\n",
    "    # get the original ellipse from the block dataframe\n",
    "    if 'R_eye_frame' in ellipse_df.columns:\n",
    "        current_frame_data = ellipse_df.iloc[ellipse_df.query('R_eye_frame == @frame_number').index[0]]\n",
    "    elif 'L_eye_frame' in ellipse_df.columns:\n",
    "        current_frame_data = ellipse_df.iloc[ellipse_df.query('L_eye_frame == @frame_number').index[0]]\n",
    "        \n",
    "    # Extract ellipse parameters\n",
    "    try:\n",
    "        center_x = int(current_frame_data['center_x'])\n",
    "        center_y = int(current_frame_data['center_y'])\n",
    "        width = int(current_frame_data['width'])\n",
    "        height = int(current_frame_data['height'])\n",
    "        phi = float(current_frame_data['phi'])\n",
    "\n",
    "        # Draw the ellipse on the frame\n",
    "        cv2.ellipse(frame, (center_x, center_y), (width, height), phi, 0, 360, (0, 255, 0), 2)\n",
    "    except ValueError:\n",
    "        print('could not paint ellipse, missing values')\n",
    "    \n",
    "    \n",
    "    # Display the frame\n",
    "    cv2.imshow(\"Original Frame\", frame)\n",
    "\n",
    "    # Prompt user to select two points\n",
    "    print(\"Please select two points on the frame.\")\n",
    "    \n",
    "    # Callback function for mouse events\n",
    "    def mouse_callback(event, x, y, flags, param):\n",
    "        if event == cv2.EVENT_LBUTTONDOWN:\n",
    "            points.append((x, y))\n",
    "\n",
    "    # Set up the mouse callback\n",
    "    cv2.setMouseCallback(\"Original Frame\", mouse_callback)\n",
    "\n",
    "    # Wait for the user to select two points\n",
    "    points = []\n",
    "    while len(points) < 2:\n",
    "        cv2.waitKey(1)\n",
    "\n",
    "    # Draw a line between the selected points\n",
    "    cv2.line(frame, points[0], points[1], (0, 255, 0), 2)\n",
    "    cv2.imshow(\"Line Drawn Frame\", frame)\n",
    "    cv2.waitKey(0)\n",
    "    cv2.destroyAllWindows()\n",
    "\n",
    "    # Calculate the rotation angle\n",
    "    angle = np.arctan2(points[1][1] - points[0][1], points[1][0] - points[0][0]) * 180 / np.pi\n",
    "        \n",
    "    # Create rotation matrix\n",
    "    rotation_matrix = cv2.getRotationMatrix2D((frame.shape[1] // 2, frame.shape[0] // 2), angle, 1)\n",
    "    \n",
    "    #rotation_matrix[:, 2] = 0  # Set translation components to zero\n",
    "    \n",
    "    # Rotate the frame\n",
    "    rotated_frame = cv2.warpAffine(frame, rotation_matrix, (frame.shape[1], frame.shape[0]))\n",
    "\n",
    "    # Display the rotated frame\n",
    "    cv2.imshow(\"Rotated Frame\", rotated_frame)\n",
    "    cv2.waitKey(0)\n",
    "    cv2.destroyAllWindows()\n",
    "\n",
    "    # Release the video capture object\n",
    "    cap.release()\n",
    "\n",
    "    return rotation_matrix\n",
    "\n",
    "\n"
   ],
   "metadata": {
    "collapsed": false,
    "ExecuteTime": {
     "end_time": "2024-01-24T12:21:18.128941300Z",
     "start_time": "2024-01-24T12:20:45.601310700Z"
    }
   },
   "id": "da11777855fe439b",
   "execution_count": 137
  }
 ],
 "metadata": {
  "kernelspec": {
   "display_name": "Python 3",
   "language": "python",
   "name": "python3"
  },
  "language_info": {
   "codemirror_mode": {
    "name": "ipython",
    "version": 2
   },
   "file_extension": ".py",
   "mimetype": "text/x-python",
   "name": "python",
   "nbconvert_exporter": "python",
   "pygments_lexer": "ipython2",
   "version": "2.7.6"
  }
 },
 "nbformat": 4,
 "nbformat_minor": 5
}
