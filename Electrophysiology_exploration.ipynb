{
 "cells": [
  {
   "cell_type": "code",
   "execution_count": 2,
   "metadata": {
    "collapsed": true,
    "ExecuteTime": {
     "end_time": "2024-03-20T13:31:54.430310500Z",
     "start_time": "2024-03-20T13:31:53.651309700Z"
    }
   },
   "outputs": [],
   "source": [
    "import pathlib\n",
    "from matplotlib import pyplot as plt\n",
    "import open_ephys.analysis as oea\n",
    "from BlockSync_current import *\n",
    "import pathlib\n",
    "import pandas as pd\n",
    "import numpy as np\n",
    "from scipy import signal\n",
    "from OERecording import *"
   ]
  },
  {
   "cell_type": "code",
   "execution_count": 3,
   "outputs": [
    {
     "data": {
      "text/plain": "[WindowsPath('Z:/Nimrod/Accelerometer_study_2024_03_20/new/X_minus_1_2024-03-20_11-57-25/Record Node 101/OE_metaData.mat'),\n WindowsPath('Z:/Nimrod/Accelerometer_study_2024_03_20/new/X_plus_1_2024-03-20_11-56-42/Record Node 101/OE_metaData.mat'),\n WindowsPath('Z:/Nimrod/Accelerometer_study_2024_03_20/new/Y_minus_1_2024-03-20_11-55-36/Record Node 101/OE_metaData.mat'),\n WindowsPath('Z:/Nimrod/Accelerometer_study_2024_03_20/new/Y_plus_3_2024-03-20_11-49-39/Record Node 101/OE_metaData.mat'),\n WindowsPath('Z:/Nimrod/Accelerometer_study_2024_03_20/new/Z_minus_1_2024-03-20_12-08-54/Record Node 101/OE_metaData.mat')]"
     },
     "execution_count": 3,
     "metadata": {},
     "output_type": "execute_result"
    }
   ],
   "source": [
    "tree_root = pathlib.Path(r'Z:\\Nimrod\\Accelerometer_study_2024_03_20\\new')\n",
    "# find all relevant metadata paths:\n",
    "paths_to_metadata_files = [i for i in tree_root.rglob('*') if 'OE_metaData.mat' in i.name and i.parent.parent.parent.name != 'NotForAnalysis']\n",
    "#paths_to_analysis_folders = \n",
    "\n",
    "paths_to_metadata_files\n"
   ],
   "metadata": {
    "collapsed": false,
    "pycharm": {
     "name": "#%%\n"
    },
    "ExecuteTime": {
     "end_time": "2024-03-20T13:31:54.507308800Z",
     "start_time": "2024-03-20T13:31:54.434309100Z"
    }
   }
  },
  {
   "cell_type": "code",
   "outputs": [
    {
     "data": {
      "text/plain": "'NotForAnalysis'"
     },
     "execution_count": 15,
     "metadata": {},
     "output_type": "execute_result"
    }
   ],
   "source": [
    "paths_to_metadata_files[4].parent.parent.parent.name"
   ],
   "metadata": {
    "collapsed": false,
    "ExecuteTime": {
     "end_time": "2024-03-07T09:18:28.188543100Z",
     "start_time": "2024-03-07T09:18:28.160666100Z"
    }
   },
   "execution_count": 15
  },
  {
   "cell_type": "code",
   "outputs": [],
   "source": [
    "path_to_prev_analysis = pathlib.Path(r'D:\\OE_headstage_calib_2024_02_07\\headstage_calib_01_4918\\X_negative_01_2024-02-07_10-32-17\\extracted_data\\X_negative_01_2024-02-07_10-32-17_accel_data.pkl')\n",
    "with open(path_to_prev_analysis,'rb') as file:\n",
    "    prev_data = pickle.load(file)\n"
   ],
   "metadata": {
    "collapsed": false,
    "ExecuteTime": {
     "end_time": "2024-02-20T16:58:12.885457500Z",
     "start_time": "2024-02-20T16:58:12.861458800Z"
    }
   },
   "execution_count": 6
  },
  {
   "cell_type": "code",
   "outputs": [
    {
     "data": {
      "text/plain": "array([[[526.0684, 526.0684, 526.0684, ..., 529.584 , 529.584 ,\n         529.584 ]],\n\n       [[461.0672, 461.0672, 461.0672, ..., 467.3504, 467.3504,\n         467.3504]],\n\n       [[841.6496, 841.6496, 841.6496, ..., 840.0414, 840.0414,\n         840.0414]]])"
     },
     "execution_count": 7,
     "metadata": {},
     "output_type": "execute_result"
    }
   ],
   "source": [
    "meta_file = paths_to_metadata_files[0]\n",
    "rec = OERecording(meta_file)\n",
    "rec.accel_files = rec.channel_files\n",
    "data, timestamps = rec.get_accel_data(channels=[33,34,35],start_time_ms=[0],window_ms=6000,convert_to_mv=True,return_timestamps=True,\n",
    "                                      direct_paths_to_files=rec.accel_files)\n",
    "data"
   ],
   "metadata": {
    "collapsed": false,
    "ExecuteTime": {
     "end_time": "2024-03-11T12:14:23.843868100Z",
     "start_time": "2024-03-11T12:14:23.661877300Z"
    }
   },
   "execution_count": 7
  },
  {
   "cell_type": "code",
   "outputs": [],
   "source": [
    "plt.plot(data[0][0])"
   ],
   "metadata": {
    "collapsed": false,
    "ExecuteTime": {
     "start_time": "2024-03-11T12:15:48.167944800Z"
    }
   },
   "execution_count": null
  },
  {
   "cell_type": "code",
   "outputs": [],
   "source": [
    "data[0]"
   ],
   "metadata": {
    "collapsed": false,
    "ExecuteTime": {
     "start_time": "2024-03-11T12:15:48.169197100Z"
    }
   },
   "execution_count": null
  },
  {
   "cell_type": "code",
   "outputs": [],
   "source": [
    "# This cell goes over the rec files and creates the accelerometer dictionaries used for bar's project\n",
    "for i in range(len(paths_to_metadata_files)):\n",
    "    meta_file = paths_to_metadata_files[i]\n",
    "    rec = OERecording(meta_file)\n",
    "    #rec.accel_files = rec.channel_files\n",
    "    rec = OERecording(meta_file)\n",
    "    #rec.accel_files = rec.channel_files\n",
    "    data, timestamps = rec.get_accel_data(channels=[1,2,3],start_time_ms=[0],window_ms=6000,convert_to_mv=True,return_timestamps=True,\n",
    "                                          direct_paths_to_files=rec.accel_files)\n",
    "    data_title = meta_file.parent.parent.name\n",
    "    data_dict = {\n",
    "       'timestamps': timestamps,\n",
    "       'data':data,\n",
    "        'title': data_title\n",
    "    }\n",
    "    path_to_analysis_folder = meta_file.parent.parent / 'extracted_data' \n",
    "    path_to_analysis_folder.mkdir()\n",
    "    path_to_data_file = path_to_analysis_folder / f'{data_title}_accel_data.pkl'\n",
    "    with open(path_to_data_file, 'wb') as file:\n",
    "        pickle.dump(data_dict, file=file)\n"
   ],
   "metadata": {
    "collapsed": false,
    "ExecuteTime": {
     "end_time": "2024-03-20T13:32:01.850765Z",
     "start_time": "2024-03-20T13:32:00.997971900Z"
    }
   },
   "execution_count": 4
  },
  {
   "cell_type": "code",
   "outputs": [
    {
     "data": {
      "text/plain": "array([[1.],\n       [2.],\n       [3.]])"
     },
     "execution_count": 26,
     "metadata": {},
     "output_type": "execute_result"
    }
   ],
   "source": [
    "rec.analogChannelNumbers"
   ],
   "metadata": {
    "collapsed": false,
    "ExecuteTime": {
     "end_time": "2024-03-20T13:23:12.704011300Z",
     "start_time": "2024-03-20T13:23:12.685987600Z"
    }
   },
   "execution_count": 26
  },
  {
   "cell_type": "code",
   "outputs": [
    {
     "data": {
      "text/plain": "['100_RhythmData_C1-AUX1.continuous',\n '100_RhythmData_C1-AUX2.continuous',\n '100_RhythmData_C1-AUX3.continuous']"
     },
     "execution_count": 23,
     "metadata": {},
     "output_type": "execute_result"
    }
   ],
   "source": [
    "sorted([i.name for i in rec.oe_file_path.iterdir() if ('AUX' in str(i))],\n",
    "       key=lambda x: rec.extract_number_from_file(x, suffix='continuous'))"
   ],
   "metadata": {
    "collapsed": false,
    "ExecuteTime": {
     "end_time": "2024-03-20T13:22:10.981022200Z",
     "start_time": "2024-03-20T13:22:10.934719500Z"
    }
   },
   "execution_count": 23
  },
  {
   "cell_type": "code",
   "outputs": [],
   "source": [
    "with open(path_to_data_file, 'rb') as file:\n",
    "    loaded_dict = pickle.load(file)\n"
   ],
   "metadata": {
    "collapsed": false,
    "ExecuteTime": {
     "end_time": "2024-02-07T13:38:38.590980800Z",
     "start_time": "2024-02-07T13:38:38.544163400Z"
    }
   },
   "execution_count": 23
  },
  {
   "cell_type": "code",
   "outputs": [
    {
     "data": {
      "text/plain": "dict_keys(['timestamps', 'data', 'title'])"
     },
     "execution_count": 29,
     "metadata": {},
     "output_type": "execute_result"
    }
   ],
   "source": [
    "loaded_dict.keys()"
   ],
   "metadata": {
    "collapsed": false,
    "ExecuteTime": {
     "end_time": "2024-02-07T13:39:57.611802300Z",
     "start_time": "2024-02-07T13:39:57.569233200Z"
    }
   },
   "execution_count": 29
  }
 ],
 "metadata": {
  "kernelspec": {
   "display_name": "Python 3",
   "language": "python",
   "name": "python3"
  },
  "language_info": {
   "codemirror_mode": {
    "name": "ipython",
    "version": 2
   },
   "file_extension": ".py",
   "mimetype": "text/x-python",
   "name": "python",
   "nbconvert_exporter": "python",
   "pygments_lexer": "ipython2",
   "version": "2.7.6"
  }
 },
 "nbformat": 4,
 "nbformat_minor": 0
}
