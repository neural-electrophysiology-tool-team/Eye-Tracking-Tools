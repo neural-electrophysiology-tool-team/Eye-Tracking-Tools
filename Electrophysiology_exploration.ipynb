{
 "cells": [
  {
   "cell_type": "code",
   "execution_count": 1,
   "metadata": {
    "collapsed": true,
    "ExecuteTime": {
     "end_time": "2024-02-07T13:20:49.316571700Z",
     "start_time": "2024-02-07T13:20:48.622479500Z"
    }
   },
   "outputs": [],
   "source": [
    "import pathlib\n",
    "from matplotlib import pyplot as plt\n",
    "import open_ephys.analysis as oea\n",
    "from BlockSync_current import *\n",
    "import pathlib\n",
    "import pandas as pd\n",
    "import numpy as np\n",
    "from scipy import signal\n",
    "from OERecording import *"
   ]
  },
  {
   "cell_type": "code",
   "execution_count": 2,
   "outputs": [],
   "source": [
    "tree_root = pathlib.Path(r'Z:\\Nimrod\\OE_headstage_calib_2024_02_07')\n",
    "# find all relevant metadata paths:\n",
    "paths_to_metadata_files = [i for i in tree_root.rglob('*') if 'OE_metaData.mat' in i.name]\n",
    "paths_to_analysis_folders = \n",
    "\n"
   ],
   "metadata": {
    "collapsed": false,
    "pycharm": {
     "name": "#%%\n"
    },
    "ExecuteTime": {
     "end_time": "2024-02-07T13:20:49.500285Z",
     "start_time": "2024-02-07T13:20:49.319824500Z"
    }
   }
  },
  {
   "cell_type": "code",
   "outputs": [],
   "source": [
    "for i in range(len(paths_to_metadata_files)):\n",
    "    meta_file = paths_to_metadata_files[i]\n",
    "    rec = OERecording(meta_file)\n",
    "    data, timestamps = rec.get_accel_data([1,2,3],[0],6000,True,True)\n",
    "    data_title = meta_file.parent.parent.name\n",
    "    data_dict = {\n",
    "       'timestamps': timestamps,\n",
    "       'data':data,\n",
    "        'title': data_title\n",
    "    }\n",
    "    path_to_analysis_folder = meta_file.parent.parent / 'extracted_data' \n",
    "    path_to_analysis_folder.mkdir()\n",
    "    path_to_data_file = path_to_analysis_folder / f'{data_title}_accel_data.pkl'\n",
    "    with open(path_to_data_file, 'wb') as file:\n",
    "        pickle.dump(data_dict, file=file)\n"
   ],
   "metadata": {
    "collapsed": false,
    "ExecuteTime": {
     "end_time": "2024-02-07T13:37:37.029594Z",
     "start_time": "2024-02-07T13:37:35.360354200Z"
    }
   },
   "execution_count": 22
  },
  {
   "cell_type": "code",
   "outputs": [
    {
     "data": {
      "text/plain": "'Z_positive_01_2024-02-07_10-43-02'"
     },
     "execution_count": 19,
     "metadata": {},
     "output_type": "execute_result"
    }
   ],
   "source": [
    "meta_file.parent.parent.name"
   ],
   "metadata": {
    "collapsed": false,
    "ExecuteTime": {
     "end_time": "2024-02-07T13:34:01.211323800Z",
     "start_time": "2024-02-07T13:34:01.196494600Z"
    }
   },
   "execution_count": 19
  },
  {
   "cell_type": "code",
   "outputs": [
    {
     "data": {
      "text/plain": "WindowsPath('Z:/Nimrod/OE_headstage_calib_2024_02_07/headstage_calib_01_4918/X_negative_01_2024-02-07_10-32-17/extracted_data/X_negative_01_2024-02-07_10-32-17_accel_data.pkl')"
     },
     "execution_count": 21,
     "metadata": {},
     "output_type": "execute_result"
    }
   ],
   "source": [
    "path_to_analysis_folder"
   ],
   "metadata": {
    "collapsed": false,
    "ExecuteTime": {
     "end_time": "2024-02-07T13:36:01.073512300Z",
     "start_time": "2024-02-07T13:36:01.055854700Z"
    }
   },
   "execution_count": 21
  },
  {
   "cell_type": "code",
   "outputs": [],
   "source": [
    "with open(path_to_data_file, 'rb') as file:\n",
    "    loaded_dict = pickle.load(file)\n"
   ],
   "metadata": {
    "collapsed": false,
    "ExecuteTime": {
     "end_time": "2024-02-07T13:38:38.590980800Z",
     "start_time": "2024-02-07T13:38:38.544163400Z"
    }
   },
   "execution_count": 23
  },
  {
   "cell_type": "code",
   "outputs": [
    {
     "data": {
      "text/plain": "dict_keys(['timestamps', 'data', 'title'])"
     },
     "execution_count": 29,
     "metadata": {},
     "output_type": "execute_result"
    }
   ],
   "source": [
    "loaded_dict.keys()"
   ],
   "metadata": {
    "collapsed": false,
    "ExecuteTime": {
     "end_time": "2024-02-07T13:39:57.611802300Z",
     "start_time": "2024-02-07T13:39:57.569233200Z"
    }
   },
   "execution_count": 29
  }
 ],
 "metadata": {
  "kernelspec": {
   "display_name": "Python 3",
   "language": "python",
   "name": "python3"
  },
  "language_info": {
   "codemirror_mode": {
    "name": "ipython",
    "version": 2
   },
   "file_extension": ".py",
   "mimetype": "text/x-python",
   "name": "python",
   "nbconvert_exporter": "python",
   "pygments_lexer": "ipython2",
   "version": "2.7.6"
  }
 },
 "nbformat": 4,
 "nbformat_minor": 0
}
