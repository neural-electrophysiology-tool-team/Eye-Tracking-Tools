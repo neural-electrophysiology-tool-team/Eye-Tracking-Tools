{
 "cells": [
  {
   "cell_type": "code",
   "outputs": [
    {
     "data": {
      "text/plain": "<IPython.core.display.Javascript object>",
      "application/javascript": "/* Put everything inside the global mpl namespace */\n/* global mpl */\nwindow.mpl = {};\n\nmpl.get_websocket_type = function () {\n    if (typeof WebSocket !== 'undefined') {\n        return WebSocket;\n    } else if (typeof MozWebSocket !== 'undefined') {\n        return MozWebSocket;\n    } else {\n        alert(\n            'Your browser does not have WebSocket support. ' +\n                'Please try Chrome, Safari or Firefox ≥ 6. ' +\n                'Firefox 4 and 5 are also supported but you ' +\n                'have to enable WebSockets in about:config.'\n        );\n    }\n};\n\nmpl.figure = function (figure_id, websocket, ondownload, parent_element) {\n    this.id = figure_id;\n\n    this.ws = websocket;\n\n    this.supports_binary = this.ws.binaryType !== undefined;\n\n    if (!this.supports_binary) {\n        var warnings = document.getElementById('mpl-warnings');\n        if (warnings) {\n            warnings.style.display = 'block';\n            warnings.textContent =\n                'This browser does not support binary websocket messages. ' +\n                'Performance may be slow.';\n        }\n    }\n\n    this.imageObj = new Image();\n\n    this.context = undefined;\n    this.message = undefined;\n    this.canvas = undefined;\n    this.rubberband_canvas = undefined;\n    this.rubberband_context = undefined;\n    this.format_dropdown = undefined;\n\n    this.image_mode = 'full';\n\n    this.root = document.createElement('div');\n    this.root.setAttribute('style', 'display: inline-block');\n    this._root_extra_style(this.root);\n\n    parent_element.appendChild(this.root);\n\n    this._init_header(this);\n    this._init_canvas(this);\n    this._init_toolbar(this);\n\n    var fig = this;\n\n    this.waiting = false;\n\n    this.ws.onopen = function () {\n        fig.send_message('supports_binary', { value: fig.supports_binary });\n        fig.send_message('send_image_mode', {});\n        if (fig.ratio !== 1) {\n            fig.send_message('set_device_pixel_ratio', {\n                device_pixel_ratio: fig.ratio,\n            });\n        }\n        fig.send_message('refresh', {});\n    };\n\n    this.imageObj.onload = function () {\n        if (fig.image_mode === 'full') {\n            // Full images could contain transparency (where diff images\n            // almost always do), so we need to clear the canvas so that\n            // there is no ghosting.\n            fig.context.clearRect(0, 0, fig.canvas.width, fig.canvas.height);\n        }\n        fig.context.drawImage(fig.imageObj, 0, 0);\n    };\n\n    this.imageObj.onunload = function () {\n        fig.ws.close();\n    };\n\n    this.ws.onmessage = this._make_on_message_function(this);\n\n    this.ondownload = ondownload;\n};\n\nmpl.figure.prototype._init_header = function () {\n    var titlebar = document.createElement('div');\n    titlebar.classList =\n        'ui-dialog-titlebar ui-widget-header ui-corner-all ui-helper-clearfix';\n    var titletext = document.createElement('div');\n    titletext.classList = 'ui-dialog-title';\n    titletext.setAttribute(\n        'style',\n        'width: 100%; text-align: center; padding: 3px;'\n    );\n    titlebar.appendChild(titletext);\n    this.root.appendChild(titlebar);\n    this.header = titletext;\n};\n\nmpl.figure.prototype._canvas_extra_style = function (_canvas_div) {};\n\nmpl.figure.prototype._root_extra_style = function (_canvas_div) {};\n\nmpl.figure.prototype._init_canvas = function () {\n    var fig = this;\n\n    var canvas_div = (this.canvas_div = document.createElement('div'));\n    canvas_div.setAttribute('tabindex', '0');\n    canvas_div.setAttribute(\n        'style',\n        'border: 1px solid #ddd;' +\n            'box-sizing: content-box;' +\n            'clear: both;' +\n            'min-height: 1px;' +\n            'min-width: 1px;' +\n            'outline: 0;' +\n            'overflow: hidden;' +\n            'position: relative;' +\n            'resize: both;' +\n            'z-index: 2;'\n    );\n\n    function on_keyboard_event_closure(name) {\n        return function (event) {\n            return fig.key_event(event, name);\n        };\n    }\n\n    canvas_div.addEventListener(\n        'keydown',\n        on_keyboard_event_closure('key_press')\n    );\n    canvas_div.addEventListener(\n        'keyup',\n        on_keyboard_event_closure('key_release')\n    );\n\n    this._canvas_extra_style(canvas_div);\n    this.root.appendChild(canvas_div);\n\n    var canvas = (this.canvas = document.createElement('canvas'));\n    canvas.classList.add('mpl-canvas');\n    canvas.setAttribute(\n        'style',\n        'box-sizing: content-box;' +\n            'pointer-events: none;' +\n            'position: relative;' +\n            'z-index: 0;'\n    );\n\n    this.context = canvas.getContext('2d');\n\n    var backingStore =\n        this.context.backingStorePixelRatio ||\n        this.context.webkitBackingStorePixelRatio ||\n        this.context.mozBackingStorePixelRatio ||\n        this.context.msBackingStorePixelRatio ||\n        this.context.oBackingStorePixelRatio ||\n        this.context.backingStorePixelRatio ||\n        1;\n\n    this.ratio = (window.devicePixelRatio || 1) / backingStore;\n\n    var rubberband_canvas = (this.rubberband_canvas = document.createElement(\n        'canvas'\n    ));\n    rubberband_canvas.setAttribute(\n        'style',\n        'box-sizing: content-box;' +\n            'left: 0;' +\n            'pointer-events: none;' +\n            'position: absolute;' +\n            'top: 0;' +\n            'z-index: 1;'\n    );\n\n    // Apply a ponyfill if ResizeObserver is not implemented by browser.\n    if (this.ResizeObserver === undefined) {\n        if (window.ResizeObserver !== undefined) {\n            this.ResizeObserver = window.ResizeObserver;\n        } else {\n            var obs = _JSXTOOLS_RESIZE_OBSERVER({});\n            this.ResizeObserver = obs.ResizeObserver;\n        }\n    }\n\n    this.resizeObserverInstance = new this.ResizeObserver(function (entries) {\n        var nentries = entries.length;\n        for (var i = 0; i < nentries; i++) {\n            var entry = entries[i];\n            var width, height;\n            if (entry.contentBoxSize) {\n                if (entry.contentBoxSize instanceof Array) {\n                    // Chrome 84 implements new version of spec.\n                    width = entry.contentBoxSize[0].inlineSize;\n                    height = entry.contentBoxSize[0].blockSize;\n                } else {\n                    // Firefox implements old version of spec.\n                    width = entry.contentBoxSize.inlineSize;\n                    height = entry.contentBoxSize.blockSize;\n                }\n            } else {\n                // Chrome <84 implements even older version of spec.\n                width = entry.contentRect.width;\n                height = entry.contentRect.height;\n            }\n\n            // Keep the size of the canvas and rubber band canvas in sync with\n            // the canvas container.\n            if (entry.devicePixelContentBoxSize) {\n                // Chrome 84 implements new version of spec.\n                canvas.setAttribute(\n                    'width',\n                    entry.devicePixelContentBoxSize[0].inlineSize\n                );\n                canvas.setAttribute(\n                    'height',\n                    entry.devicePixelContentBoxSize[0].blockSize\n                );\n            } else {\n                canvas.setAttribute('width', width * fig.ratio);\n                canvas.setAttribute('height', height * fig.ratio);\n            }\n            /* This rescales the canvas back to display pixels, so that it\n             * appears correct on HiDPI screens. */\n            canvas.style.width = width + 'px';\n            canvas.style.height = height + 'px';\n\n            rubberband_canvas.setAttribute('width', width);\n            rubberband_canvas.setAttribute('height', height);\n\n            // And update the size in Python. We ignore the initial 0/0 size\n            // that occurs as the element is placed into the DOM, which should\n            // otherwise not happen due to the minimum size styling.\n            if (fig.ws.readyState == 1 && width != 0 && height != 0) {\n                fig.request_resize(width, height);\n            }\n        }\n    });\n    this.resizeObserverInstance.observe(canvas_div);\n\n    function on_mouse_event_closure(name) {\n        /* User Agent sniffing is bad, but WebKit is busted:\n         * https://bugs.webkit.org/show_bug.cgi?id=144526\n         * https://bugs.webkit.org/show_bug.cgi?id=181818\n         * The worst that happens here is that they get an extra browser\n         * selection when dragging, if this check fails to catch them.\n         */\n        var UA = navigator.userAgent;\n        var isWebKit = /AppleWebKit/.test(UA) && !/Chrome/.test(UA);\n        if(isWebKit) {\n            return function (event) {\n                /* This prevents the web browser from automatically changing to\n                 * the text insertion cursor when the button is pressed. We\n                 * want to control all of the cursor setting manually through\n                 * the 'cursor' event from matplotlib */\n                event.preventDefault()\n                return fig.mouse_event(event, name);\n            };\n        } else {\n            return function (event) {\n                return fig.mouse_event(event, name);\n            };\n        }\n    }\n\n    canvas_div.addEventListener(\n        'mousedown',\n        on_mouse_event_closure('button_press')\n    );\n    canvas_div.addEventListener(\n        'mouseup',\n        on_mouse_event_closure('button_release')\n    );\n    canvas_div.addEventListener(\n        'dblclick',\n        on_mouse_event_closure('dblclick')\n    );\n    // Throttle sequential mouse events to 1 every 20ms.\n    canvas_div.addEventListener(\n        'mousemove',\n        on_mouse_event_closure('motion_notify')\n    );\n\n    canvas_div.addEventListener(\n        'mouseenter',\n        on_mouse_event_closure('figure_enter')\n    );\n    canvas_div.addEventListener(\n        'mouseleave',\n        on_mouse_event_closure('figure_leave')\n    );\n\n    canvas_div.addEventListener('wheel', function (event) {\n        if (event.deltaY < 0) {\n            event.step = 1;\n        } else {\n            event.step = -1;\n        }\n        on_mouse_event_closure('scroll')(event);\n    });\n\n    canvas_div.appendChild(canvas);\n    canvas_div.appendChild(rubberband_canvas);\n\n    this.rubberband_context = rubberband_canvas.getContext('2d');\n    this.rubberband_context.strokeStyle = '#000000';\n\n    this._resize_canvas = function (width, height, forward) {\n        if (forward) {\n            canvas_div.style.width = width + 'px';\n            canvas_div.style.height = height + 'px';\n        }\n    };\n\n    // Disable right mouse context menu.\n    canvas_div.addEventListener('contextmenu', function (_e) {\n        event.preventDefault();\n        return false;\n    });\n\n    function set_focus() {\n        canvas.focus();\n        canvas_div.focus();\n    }\n\n    window.setTimeout(set_focus, 100);\n};\n\nmpl.figure.prototype._init_toolbar = function () {\n    var fig = this;\n\n    var toolbar = document.createElement('div');\n    toolbar.classList = 'mpl-toolbar';\n    this.root.appendChild(toolbar);\n\n    function on_click_closure(name) {\n        return function (_event) {\n            return fig.toolbar_button_onclick(name);\n        };\n    }\n\n    function on_mouseover_closure(tooltip) {\n        return function (event) {\n            if (!event.currentTarget.disabled) {\n                return fig.toolbar_button_onmouseover(tooltip);\n            }\n        };\n    }\n\n    fig.buttons = {};\n    var buttonGroup = document.createElement('div');\n    buttonGroup.classList = 'mpl-button-group';\n    for (var toolbar_ind in mpl.toolbar_items) {\n        var name = mpl.toolbar_items[toolbar_ind][0];\n        var tooltip = mpl.toolbar_items[toolbar_ind][1];\n        var image = mpl.toolbar_items[toolbar_ind][2];\n        var method_name = mpl.toolbar_items[toolbar_ind][3];\n\n        if (!name) {\n            /* Instead of a spacer, we start a new button group. */\n            if (buttonGroup.hasChildNodes()) {\n                toolbar.appendChild(buttonGroup);\n            }\n            buttonGroup = document.createElement('div');\n            buttonGroup.classList = 'mpl-button-group';\n            continue;\n        }\n\n        var button = (fig.buttons[name] = document.createElement('button'));\n        button.classList = 'mpl-widget';\n        button.setAttribute('role', 'button');\n        button.setAttribute('aria-disabled', 'false');\n        button.addEventListener('click', on_click_closure(method_name));\n        button.addEventListener('mouseover', on_mouseover_closure(tooltip));\n\n        var icon_img = document.createElement('img');\n        icon_img.src = '_images/' + image + '.png';\n        icon_img.srcset = '_images/' + image + '_large.png 2x';\n        icon_img.alt = tooltip;\n        button.appendChild(icon_img);\n\n        buttonGroup.appendChild(button);\n    }\n\n    if (buttonGroup.hasChildNodes()) {\n        toolbar.appendChild(buttonGroup);\n    }\n\n    var fmt_picker = document.createElement('select');\n    fmt_picker.classList = 'mpl-widget';\n    toolbar.appendChild(fmt_picker);\n    this.format_dropdown = fmt_picker;\n\n    for (var ind in mpl.extensions) {\n        var fmt = mpl.extensions[ind];\n        var option = document.createElement('option');\n        option.selected = fmt === mpl.default_extension;\n        option.innerHTML = fmt;\n        fmt_picker.appendChild(option);\n    }\n\n    var status_bar = document.createElement('span');\n    status_bar.classList = 'mpl-message';\n    toolbar.appendChild(status_bar);\n    this.message = status_bar;\n};\n\nmpl.figure.prototype.request_resize = function (x_pixels, y_pixels) {\n    // Request matplotlib to resize the figure. Matplotlib will then trigger a resize in the client,\n    // which will in turn request a refresh of the image.\n    this.send_message('resize', { width: x_pixels, height: y_pixels });\n};\n\nmpl.figure.prototype.send_message = function (type, properties) {\n    properties['type'] = type;\n    properties['figure_id'] = this.id;\n    this.ws.send(JSON.stringify(properties));\n};\n\nmpl.figure.prototype.send_draw_message = function () {\n    if (!this.waiting) {\n        this.waiting = true;\n        this.ws.send(JSON.stringify({ type: 'draw', figure_id: this.id }));\n    }\n};\n\nmpl.figure.prototype.handle_save = function (fig, _msg) {\n    var format_dropdown = fig.format_dropdown;\n    var format = format_dropdown.options[format_dropdown.selectedIndex].value;\n    fig.ondownload(fig, format);\n};\n\nmpl.figure.prototype.handle_resize = function (fig, msg) {\n    var size = msg['size'];\n    if (size[0] !== fig.canvas.width || size[1] !== fig.canvas.height) {\n        fig._resize_canvas(size[0], size[1], msg['forward']);\n        fig.send_message('refresh', {});\n    }\n};\n\nmpl.figure.prototype.handle_rubberband = function (fig, msg) {\n    var x0 = msg['x0'] / fig.ratio;\n    var y0 = (fig.canvas.height - msg['y0']) / fig.ratio;\n    var x1 = msg['x1'] / fig.ratio;\n    var y1 = (fig.canvas.height - msg['y1']) / fig.ratio;\n    x0 = Math.floor(x0) + 0.5;\n    y0 = Math.floor(y0) + 0.5;\n    x1 = Math.floor(x1) + 0.5;\n    y1 = Math.floor(y1) + 0.5;\n    var min_x = Math.min(x0, x1);\n    var min_y = Math.min(y0, y1);\n    var width = Math.abs(x1 - x0);\n    var height = Math.abs(y1 - y0);\n\n    fig.rubberband_context.clearRect(\n        0,\n        0,\n        fig.canvas.width / fig.ratio,\n        fig.canvas.height / fig.ratio\n    );\n\n    fig.rubberband_context.strokeRect(min_x, min_y, width, height);\n};\n\nmpl.figure.prototype.handle_figure_label = function (fig, msg) {\n    // Updates the figure title.\n    fig.header.textContent = msg['label'];\n};\n\nmpl.figure.prototype.handle_cursor = function (fig, msg) {\n    fig.canvas_div.style.cursor = msg['cursor'];\n};\n\nmpl.figure.prototype.handle_message = function (fig, msg) {\n    fig.message.textContent = msg['message'];\n};\n\nmpl.figure.prototype.handle_draw = function (fig, _msg) {\n    // Request the server to send over a new figure.\n    fig.send_draw_message();\n};\n\nmpl.figure.prototype.handle_image_mode = function (fig, msg) {\n    fig.image_mode = msg['mode'];\n};\n\nmpl.figure.prototype.handle_history_buttons = function (fig, msg) {\n    for (var key in msg) {\n        if (!(key in fig.buttons)) {\n            continue;\n        }\n        fig.buttons[key].disabled = !msg[key];\n        fig.buttons[key].setAttribute('aria-disabled', !msg[key]);\n    }\n};\n\nmpl.figure.prototype.handle_navigate_mode = function (fig, msg) {\n    if (msg['mode'] === 'PAN') {\n        fig.buttons['Pan'].classList.add('active');\n        fig.buttons['Zoom'].classList.remove('active');\n    } else if (msg['mode'] === 'ZOOM') {\n        fig.buttons['Pan'].classList.remove('active');\n        fig.buttons['Zoom'].classList.add('active');\n    } else {\n        fig.buttons['Pan'].classList.remove('active');\n        fig.buttons['Zoom'].classList.remove('active');\n    }\n};\n\nmpl.figure.prototype.updated_canvas_event = function () {\n    // Called whenever the canvas gets updated.\n    this.send_message('ack', {});\n};\n\n// A function to construct a web socket function for onmessage handling.\n// Called in the figure constructor.\nmpl.figure.prototype._make_on_message_function = function (fig) {\n    return function socket_on_message(evt) {\n        if (evt.data instanceof Blob) {\n            var img = evt.data;\n            if (img.type !== 'image/png') {\n                /* FIXME: We get \"Resource interpreted as Image but\n                 * transferred with MIME type text/plain:\" errors on\n                 * Chrome.  But how to set the MIME type?  It doesn't seem\n                 * to be part of the websocket stream */\n                img.type = 'image/png';\n            }\n\n            /* Free the memory for the previous frames */\n            if (fig.imageObj.src) {\n                (window.URL || window.webkitURL).revokeObjectURL(\n                    fig.imageObj.src\n                );\n            }\n\n            fig.imageObj.src = (window.URL || window.webkitURL).createObjectURL(\n                img\n            );\n            fig.updated_canvas_event();\n            fig.waiting = false;\n            return;\n        } else if (\n            typeof evt.data === 'string' &&\n            evt.data.slice(0, 21) === 'data:image/png;base64'\n        ) {\n            fig.imageObj.src = evt.data;\n            fig.updated_canvas_event();\n            fig.waiting = false;\n            return;\n        }\n\n        var msg = JSON.parse(evt.data);\n        var msg_type = msg['type'];\n\n        // Call the  \"handle_{type}\" callback, which takes\n        // the figure and JSON message as its only arguments.\n        try {\n            var callback = fig['handle_' + msg_type];\n        } catch (e) {\n            console.log(\n                \"No handler for the '\" + msg_type + \"' message type: \",\n                msg\n            );\n            return;\n        }\n\n        if (callback) {\n            try {\n                // console.log(\"Handling '\" + msg_type + \"' message: \", msg);\n                callback(fig, msg);\n            } catch (e) {\n                console.log(\n                    \"Exception inside the 'handler_\" + msg_type + \"' callback:\",\n                    e,\n                    e.stack,\n                    msg\n                );\n            }\n        }\n    };\n};\n\nfunction getModifiers(event) {\n    var mods = [];\n    if (event.ctrlKey) {\n        mods.push('ctrl');\n    }\n    if (event.altKey) {\n        mods.push('alt');\n    }\n    if (event.shiftKey) {\n        mods.push('shift');\n    }\n    if (event.metaKey) {\n        mods.push('meta');\n    }\n    return mods;\n}\n\n/*\n * return a copy of an object with only non-object keys\n * we need this to avoid circular references\n * https://stackoverflow.com/a/24161582/3208463\n */\nfunction simpleKeys(original) {\n    return Object.keys(original).reduce(function (obj, key) {\n        if (typeof original[key] !== 'object') {\n            obj[key] = original[key];\n        }\n        return obj;\n    }, {});\n}\n\nmpl.figure.prototype.mouse_event = function (event, name) {\n    if (name === 'button_press') {\n        this.canvas.focus();\n        this.canvas_div.focus();\n    }\n\n    // from https://stackoverflow.com/q/1114465\n    var boundingRect = this.canvas.getBoundingClientRect();\n    var x = (event.clientX - boundingRect.left) * this.ratio;\n    var y = (event.clientY - boundingRect.top) * this.ratio;\n\n    this.send_message(name, {\n        x: x,\n        y: y,\n        button: event.button,\n        step: event.step,\n        modifiers: getModifiers(event),\n        guiEvent: simpleKeys(event),\n    });\n\n    return false;\n};\n\nmpl.figure.prototype._key_event_extra = function (_event, _name) {\n    // Handle any extra behaviour associated with a key event\n};\n\nmpl.figure.prototype.key_event = function (event, name) {\n    // Prevent repeat events\n    if (name === 'key_press') {\n        if (event.key === this._key) {\n            return;\n        } else {\n            this._key = event.key;\n        }\n    }\n    if (name === 'key_release') {\n        this._key = null;\n    }\n\n    var value = '';\n    if (event.ctrlKey && event.key !== 'Control') {\n        value += 'ctrl+';\n    }\n    else if (event.altKey && event.key !== 'Alt') {\n        value += 'alt+';\n    }\n    else if (event.shiftKey && event.key !== 'Shift') {\n        value += 'shift+';\n    }\n\n    value += 'k' + event.key;\n\n    this._key_event_extra(event, name);\n\n    this.send_message(name, { key: value, guiEvent: simpleKeys(event) });\n    return false;\n};\n\nmpl.figure.prototype.toolbar_button_onclick = function (name) {\n    if (name === 'download') {\n        this.handle_save(this, null);\n    } else {\n        this.send_message('toolbar_button', { name: name });\n    }\n};\n\nmpl.figure.prototype.toolbar_button_onmouseover = function (tooltip) {\n    this.message.textContent = tooltip;\n};\n\n///////////////// REMAINING CONTENT GENERATED BY embed_js.py /////////////////\n// prettier-ignore\nvar _JSXTOOLS_RESIZE_OBSERVER=function(A){var t,i=new WeakMap,n=new WeakMap,a=new WeakMap,r=new WeakMap,o=new Set;function s(e){if(!(this instanceof s))throw new TypeError(\"Constructor requires 'new' operator\");i.set(this,e)}function h(){throw new TypeError(\"Function is not a constructor\")}function c(e,t,i,n){e=0 in arguments?Number(arguments[0]):0,t=1 in arguments?Number(arguments[1]):0,i=2 in arguments?Number(arguments[2]):0,n=3 in arguments?Number(arguments[3]):0,this.right=(this.x=this.left=e)+(this.width=i),this.bottom=(this.y=this.top=t)+(this.height=n),Object.freeze(this)}function d(){t=requestAnimationFrame(d);var s=new WeakMap,p=new Set;o.forEach((function(t){r.get(t).forEach((function(i){var r=t instanceof window.SVGElement,o=a.get(t),d=r?0:parseFloat(o.paddingTop),f=r?0:parseFloat(o.paddingRight),l=r?0:parseFloat(o.paddingBottom),u=r?0:parseFloat(o.paddingLeft),g=r?0:parseFloat(o.borderTopWidth),m=r?0:parseFloat(o.borderRightWidth),w=r?0:parseFloat(o.borderBottomWidth),b=u+f,F=d+l,v=(r?0:parseFloat(o.borderLeftWidth))+m,W=g+w,y=r?0:t.offsetHeight-W-t.clientHeight,E=r?0:t.offsetWidth-v-t.clientWidth,R=b+v,z=F+W,M=r?t.width:parseFloat(o.width)-R-E,O=r?t.height:parseFloat(o.height)-z-y;if(n.has(t)){var k=n.get(t);if(k[0]===M&&k[1]===O)return}n.set(t,[M,O]);var S=Object.create(h.prototype);S.target=t,S.contentRect=new c(u,d,M,O),s.has(i)||(s.set(i,[]),p.add(i)),s.get(i).push(S)}))})),p.forEach((function(e){i.get(e).call(e,s.get(e),e)}))}return s.prototype.observe=function(i){if(i instanceof window.Element){r.has(i)||(r.set(i,new Set),o.add(i),a.set(i,window.getComputedStyle(i)));var n=r.get(i);n.has(this)||n.add(this),cancelAnimationFrame(t),t=requestAnimationFrame(d)}},s.prototype.unobserve=function(i){if(i instanceof window.Element&&r.has(i)){var n=r.get(i);n.has(this)&&(n.delete(this),n.size||(r.delete(i),o.delete(i))),n.size||r.delete(i),o.size||cancelAnimationFrame(t)}},A.DOMRectReadOnly=c,A.ResizeObserver=s,A.ResizeObserverEntry=h,A}; // eslint-disable-line\nmpl.toolbar_items = [[\"Home\", \"Reset original view\", \"fa fa-home\", \"home\"], [\"Back\", \"Back to previous view\", \"fa fa-arrow-left\", \"back\"], [\"Forward\", \"Forward to next view\", \"fa fa-arrow-right\", \"forward\"], [\"\", \"\", \"\", \"\"], [\"Pan\", \"Left button pans, Right button zooms\\nx/y fixes axis, CTRL fixes aspect\", \"fa fa-arrows\", \"pan\"], [\"Zoom\", \"Zoom to rectangle\\nx/y fixes axis\", \"fa fa-square-o\", \"zoom\"], [\"\", \"\", \"\", \"\"], [\"Download\", \"Download plot\", \"fa fa-floppy-o\", \"download\"]];\n\nmpl.extensions = [\"eps\", \"jpeg\", \"pgf\", \"pdf\", \"png\", \"ps\", \"raw\", \"svg\", \"tif\", \"webp\"];\n\nmpl.default_extension = \"png\";/* global mpl */\n\nvar comm_websocket_adapter = function (comm) {\n    // Create a \"websocket\"-like object which calls the given IPython comm\n    // object with the appropriate methods. Currently this is a non binary\n    // socket, so there is still some room for performance tuning.\n    var ws = {};\n\n    ws.binaryType = comm.kernel.ws.binaryType;\n    ws.readyState = comm.kernel.ws.readyState;\n    function updateReadyState(_event) {\n        if (comm.kernel.ws) {\n            ws.readyState = comm.kernel.ws.readyState;\n        } else {\n            ws.readyState = 3; // Closed state.\n        }\n    }\n    comm.kernel.ws.addEventListener('open', updateReadyState);\n    comm.kernel.ws.addEventListener('close', updateReadyState);\n    comm.kernel.ws.addEventListener('error', updateReadyState);\n\n    ws.close = function () {\n        comm.close();\n    };\n    ws.send = function (m) {\n        //console.log('sending', m);\n        comm.send(m);\n    };\n    // Register the callback with on_msg.\n    comm.on_msg(function (msg) {\n        //console.log('receiving', msg['content']['data'], msg);\n        var data = msg['content']['data'];\n        if (data['blob'] !== undefined) {\n            data = {\n                data: new Blob(msg['buffers'], { type: data['blob'] }),\n            };\n        }\n        // Pass the mpl event to the overridden (by mpl) onmessage function.\n        ws.onmessage(data);\n    });\n    return ws;\n};\n\nmpl.mpl_figure_comm = function (comm, msg) {\n    // This is the function which gets called when the mpl process\n    // starts-up an IPython Comm through the \"matplotlib\" channel.\n\n    var id = msg.content.data.id;\n    // Get hold of the div created by the display call when the Comm\n    // socket was opened in Python.\n    var element = document.getElementById(id);\n    var ws_proxy = comm_websocket_adapter(comm);\n\n    function ondownload(figure, _format) {\n        window.open(figure.canvas.toDataURL());\n    }\n\n    var fig = new mpl.figure(id, ws_proxy, ondownload, element);\n\n    // Call onopen now - mpl needs it, as it is assuming we've passed it a real\n    // web socket which is closed, not our websocket->open comm proxy.\n    ws_proxy.onopen();\n\n    fig.parent_element = element;\n    fig.cell_info = mpl.find_output_cell(\"<div id='\" + id + \"'></div>\");\n    if (!fig.cell_info) {\n        console.error('Failed to find cell for figure', id, fig);\n        return;\n    }\n    fig.cell_info[0].output_area.element.on(\n        'cleared',\n        { fig: fig },\n        fig._remove_fig_handler\n    );\n};\n\nmpl.figure.prototype.handle_close = function (fig, msg) {\n    var width = fig.canvas.width / fig.ratio;\n    fig.cell_info[0].output_area.element.off(\n        'cleared',\n        fig._remove_fig_handler\n    );\n    fig.resizeObserverInstance.unobserve(fig.canvas_div);\n\n    // Update the output cell to use the data from the current canvas.\n    fig.push_to_output();\n    var dataURL = fig.canvas.toDataURL();\n    // Re-enable the keyboard manager in IPython - without this line, in FF,\n    // the notebook keyboard shortcuts fail.\n    IPython.keyboard_manager.enable();\n    fig.parent_element.innerHTML =\n        '<img src=\"' + dataURL + '\" width=\"' + width + '\">';\n    fig.close_ws(fig, msg);\n};\n\nmpl.figure.prototype.close_ws = function (fig, msg) {\n    fig.send_message('closing', msg);\n    // fig.ws.close()\n};\n\nmpl.figure.prototype.push_to_output = function (_remove_interactive) {\n    // Turn the data on the canvas into data in the output cell.\n    var width = this.canvas.width / this.ratio;\n    var dataURL = this.canvas.toDataURL();\n    this.cell_info[1]['text/html'] =\n        '<img src=\"' + dataURL + '\" width=\"' + width + '\">';\n};\n\nmpl.figure.prototype.updated_canvas_event = function () {\n    // Tell IPython that the notebook contents must change.\n    IPython.notebook.set_dirty(true);\n    this.send_message('ack', {});\n    var fig = this;\n    // Wait a second, then push the new image to the DOM so\n    // that it is saved nicely (might be nice to debounce this).\n    setTimeout(function () {\n        fig.push_to_output();\n    }, 1000);\n};\n\nmpl.figure.prototype._init_toolbar = function () {\n    var fig = this;\n\n    var toolbar = document.createElement('div');\n    toolbar.classList = 'btn-toolbar';\n    this.root.appendChild(toolbar);\n\n    function on_click_closure(name) {\n        return function (_event) {\n            return fig.toolbar_button_onclick(name);\n        };\n    }\n\n    function on_mouseover_closure(tooltip) {\n        return function (event) {\n            if (!event.currentTarget.disabled) {\n                return fig.toolbar_button_onmouseover(tooltip);\n            }\n        };\n    }\n\n    fig.buttons = {};\n    var buttonGroup = document.createElement('div');\n    buttonGroup.classList = 'btn-group';\n    var button;\n    for (var toolbar_ind in mpl.toolbar_items) {\n        var name = mpl.toolbar_items[toolbar_ind][0];\n        var tooltip = mpl.toolbar_items[toolbar_ind][1];\n        var image = mpl.toolbar_items[toolbar_ind][2];\n        var method_name = mpl.toolbar_items[toolbar_ind][3];\n\n        if (!name) {\n            /* Instead of a spacer, we start a new button group. */\n            if (buttonGroup.hasChildNodes()) {\n                toolbar.appendChild(buttonGroup);\n            }\n            buttonGroup = document.createElement('div');\n            buttonGroup.classList = 'btn-group';\n            continue;\n        }\n\n        button = fig.buttons[name] = document.createElement('button');\n        button.classList = 'btn btn-default';\n        button.href = '#';\n        button.title = name;\n        button.innerHTML = '<i class=\"fa ' + image + ' fa-lg\"></i>';\n        button.addEventListener('click', on_click_closure(method_name));\n        button.addEventListener('mouseover', on_mouseover_closure(tooltip));\n        buttonGroup.appendChild(button);\n    }\n\n    if (buttonGroup.hasChildNodes()) {\n        toolbar.appendChild(buttonGroup);\n    }\n\n    // Add the status bar.\n    var status_bar = document.createElement('span');\n    status_bar.classList = 'mpl-message pull-right';\n    toolbar.appendChild(status_bar);\n    this.message = status_bar;\n\n    // Add the close button to the window.\n    var buttongrp = document.createElement('div');\n    buttongrp.classList = 'btn-group inline pull-right';\n    button = document.createElement('button');\n    button.classList = 'btn btn-mini btn-primary';\n    button.href = '#';\n    button.title = 'Stop Interaction';\n    button.innerHTML = '<i class=\"fa fa-power-off icon-remove icon-large\"></i>';\n    button.addEventListener('click', function (_evt) {\n        fig.handle_close(fig, {});\n    });\n    button.addEventListener(\n        'mouseover',\n        on_mouseover_closure('Stop Interaction')\n    );\n    buttongrp.appendChild(button);\n    var titlebar = this.root.querySelector('.ui-dialog-titlebar');\n    titlebar.insertBefore(buttongrp, titlebar.firstChild);\n};\n\nmpl.figure.prototype._remove_fig_handler = function (event) {\n    var fig = event.data.fig;\n    if (event.target !== this) {\n        // Ignore bubbled events from children.\n        return;\n    }\n    fig.close_ws(fig, {});\n};\n\nmpl.figure.prototype._root_extra_style = function (el) {\n    el.style.boxSizing = 'content-box'; // override notebook setting of border-box.\n};\n\nmpl.figure.prototype._canvas_extra_style = function (el) {\n    // this is important to make the div 'focusable\n    el.setAttribute('tabindex', 0);\n    // reach out to IPython and tell the keyboard manager to turn it's self\n    // off when our div gets focus\n\n    // location in version 3\n    if (IPython.notebook.keyboard_manager) {\n        IPython.notebook.keyboard_manager.register_events(el);\n    } else {\n        // location in version 2\n        IPython.keyboard_manager.register_events(el);\n    }\n};\n\nmpl.figure.prototype._key_event_extra = function (event, _name) {\n    // Check for shift+enter\n    if (event.shiftKey && event.which === 13) {\n        this.canvas_div.blur();\n        // select the cell after this one\n        var index = IPython.notebook.find_cell_index(this.cell_info[0]);\n        IPython.notebook.select(index + 1);\n    }\n};\n\nmpl.figure.prototype.handle_save = function (fig, _msg) {\n    fig.ondownload(fig, null);\n};\n\nmpl.find_output_cell = function (html_output) {\n    // Return the cell and output element which can be found *uniquely* in the notebook.\n    // Note - this is a bit hacky, but it is done because the \"notebook_saving.Notebook\"\n    // IPython event is triggered only after the cells have been serialised, which for\n    // our purposes (turning an active figure into a static one), is too late.\n    var cells = IPython.notebook.get_cells();\n    var ncells = cells.length;\n    for (var i = 0; i < ncells; i++) {\n        var cell = cells[i];\n        if (cell.cell_type === 'code') {\n            for (var j = 0; j < cell.output_area.outputs.length; j++) {\n                var data = cell.output_area.outputs[j];\n                if (data.data) {\n                    // IPython >= 3 moved mimebundle to data attribute of output\n                    data = data.data;\n                }\n                if (data['text/html'] === html_output) {\n                    return [cell, data, j];\n                }\n            }\n        }\n    }\n};\n\n// Register the function which deals with the matplotlib target/channel.\n// The kernel may be null if the page has been refreshed.\nif (IPython.notebook.kernel !== null) {\n    IPython.notebook.kernel.comm_manager.register_target(\n        'matplotlib',\n        mpl.mpl_figure_comm\n    );\n}\n"
     },
     "metadata": {},
     "output_type": "display_data"
    },
    {
     "data": {
      "text/plain": "<IPython.core.display.HTML object>",
      "text/html": "<div id='09d1f7b8-88de-4882-9105-1fb5e9fe3570'></div>"
     },
     "metadata": {},
     "output_type": "display_data"
    }
   ],
   "source": [
    "%matplotlib notebook\n",
    "import numpy as np\n",
    "import matplotlib.pyplot as plt\n",
    "from mpl_toolkits.mplot3d import Axes3D\n",
    "\n",
    "def weak_perspective_error(radius, distance_from_surface):\n",
    "    Z_avg = distance_from_surface + radius  # average depth to the center of the sphere\n",
    "    Z_min = distance_from_surface           # closest point to the camera (along the z-axis)\n",
    "    Z_max = Z_avg + radius                  # farthest point from the camera (along the z-axis)\n",
    "\n",
    "    relative_error_min = np.abs(Z_min - Z_avg) / Z_avg\n",
    "    relative_error_max = np.abs(Z_max - Z_avg) / Z_avg\n",
    "\n",
    "    avg_relative_error = (relative_error_min + relative_error_max) / 2\n",
    "    \n",
    "    return avg_relative_error\n",
    "\n",
    "def plot_error_surface(radius_list, distance_list):\n",
    "    # Create meshgrid for radius and distance\n",
    "    radius_grid, distance_grid = np.meshgrid(radius_list, distance_list)\n",
    "    \n",
    "    # Calculate error for each combination of radius and distance\n",
    "    error_grid = np.array([[weak_perspective_error(r, d) \n",
    "                            for r in radius_list] \n",
    "                            for d in distance_list])\n",
    "    \n",
    "    # Create 3D plot\n",
    "    fig = plt.figure(figsize=(10, 7))\n",
    "    ax = fig.add_subplot(111, projection='3d')\n",
    "    \n",
    "    # Plot the surface\n",
    "    surf = ax.plot_surface(radius_grid, distance_grid, error_grid, cmap='viridis', edgecolor='none')\n",
    "\n",
    "    # Set labels and title\n",
    "    ax.set_xlabel('Eye Radius (mm)')\n",
    "    ax.set_ylabel('Distance from Surface (mm)')\n",
    "    ax.set_zlabel('Average Relative Error')\n",
    "    ax.set_title('Weak Perspective Error as a Function of Radius and Distance')\n",
    "    \n",
    "    # Add color bar\n",
    "    fig.colorbar(surf, ax=ax, shrink=0.5, aspect=5)\n",
    "\n",
    "    # Enable rotation\n",
    "    ax.view_init(30, 45)  # Sets the initial view angle (optional)\n",
    "    plt.show()  # Make plot interactive and rotatable\n",
    "    return error_grid\n",
    "\n",
    "# Example usage\n",
    "radius_list = np.linspace(3, 6, 50)  # Radii from 0.1 to 2 meters\n",
    "distance_list = np.linspace(1, 30.0, 50)  # Distances from 1 to 10 meters\n",
    "\n",
    "error_grid = plot_error_surface(radius_list, distance_list)\n"
   ],
   "metadata": {
    "collapsed": false,
    "ExecuteTime": {
     "end_time": "2024-11-13T09:45:40.547791400Z",
     "start_time": "2024-11-13T09:45:40.330341500Z"
    }
   },
   "id": "8f2b535fd43c41b0",
   "execution_count": 1
  },
  {
   "cell_type": "code",
   "outputs": [
    {
     "name": "stderr",
     "output_type": "stream",
     "text": [
      "c:\\users\\marks3\\pycharmprojects\\pythonproject3\\venv\\lib\\site-packages\\IPython\\core\\interactiveshell.py:3146: DtypeWarning: Columns (0,1,2,3,4,5,6,7,8,9,10,11,12,13,14,15,16,17,18,19,20,21,22,23,24,25,26,27,28,29,30,31,32,33,34,35,36,37,38,39,40,41,42) have mixed types.Specify dtype option on import or set low_memory=False.\n",
      "  has_raised = await self.run_ast_nodes(code_ast.body, cell_name,\n"
     ]
    },
    {
     "data": {
      "text/plain": "  bodyparts   Pupil_12 Pupil_12.1  Pupil_12.2    Pupil_6  Pupil_6.1  \\\n0    coords          x          y  likelihood          x          y   \n1         0  466.38458   92.41024   0.9496344  493.83554   153.3729   \n2         1   466.3361   92.37502  0.94861424  493.79944  153.34105   \n3         2  466.25452  92.138435   0.9483476  493.52863  153.50308   \n4         3   466.2533   92.13955  0.94840765  493.53192  153.49954   \n\n    Pupil_6.2    Pupil_3   Pupil_3.1   Pupil_3.2  ...  Pupil_11.2    Pupil_7  \\\n0  likelihood          x           y  likelihood  ...  likelihood          x   \n1  0.91904247   516.6063   105.02538      0.9232  ...  0.96769404  475.34552   \n2   0.9185142  516.60345    105.0235  0.92303675  ...   0.9676828  475.31943   \n3   0.9155334     516.57  104.830444   0.9188901  ...   0.9630867  475.35535   \n4   0.9156441  516.56995  104.829254  0.91886306  ...   0.9629085  475.35583   \n\n   Pupil_7.1   Pupil_7.2    Pupil_5  Pupil_5.1   Pupil_5.2    Pupil_2  \\\n0          y  likelihood          x          y  likelihood          x   \n1  158.75983  0.93436265  508.35864  142.23738   0.9174086  504.43668   \n2  158.73926   0.9348792   508.3405  142.22263   0.9174185  504.42816   \n3  158.47926   0.9379605  508.30325  141.98138  0.92095035  504.44116   \n4  158.47893   0.9379882  508.30453  141.97922   0.9210722  504.44034   \n\n  Pupil_2.1   Pupil_2.2  \n0         y  likelihood  \n1  91.37446  0.90347385  \n2   91.3714   0.9029191  \n3   91.1708  0.89855456  \n4  91.17063  0.89843833  \n\n[5 rows x 43 columns]",
      "text/html": "<div>\n<style scoped>\n    .dataframe tbody tr th:only-of-type {\n        vertical-align: middle;\n    }\n\n    .dataframe tbody tr th {\n        vertical-align: top;\n    }\n\n    .dataframe thead th {\n        text-align: right;\n    }\n</style>\n<table border=\"1\" class=\"dataframe\">\n  <thead>\n    <tr style=\"text-align: right;\">\n      <th></th>\n      <th>bodyparts</th>\n      <th>Pupil_12</th>\n      <th>Pupil_12.1</th>\n      <th>Pupil_12.2</th>\n      <th>Pupil_6</th>\n      <th>Pupil_6.1</th>\n      <th>Pupil_6.2</th>\n      <th>Pupil_3</th>\n      <th>Pupil_3.1</th>\n      <th>Pupil_3.2</th>\n      <th>...</th>\n      <th>Pupil_11.2</th>\n      <th>Pupil_7</th>\n      <th>Pupil_7.1</th>\n      <th>Pupil_7.2</th>\n      <th>Pupil_5</th>\n      <th>Pupil_5.1</th>\n      <th>Pupil_5.2</th>\n      <th>Pupil_2</th>\n      <th>Pupil_2.1</th>\n      <th>Pupil_2.2</th>\n    </tr>\n  </thead>\n  <tbody>\n    <tr>\n      <th>0</th>\n      <td>coords</td>\n      <td>x</td>\n      <td>y</td>\n      <td>likelihood</td>\n      <td>x</td>\n      <td>y</td>\n      <td>likelihood</td>\n      <td>x</td>\n      <td>y</td>\n      <td>likelihood</td>\n      <td>...</td>\n      <td>likelihood</td>\n      <td>x</td>\n      <td>y</td>\n      <td>likelihood</td>\n      <td>x</td>\n      <td>y</td>\n      <td>likelihood</td>\n      <td>x</td>\n      <td>y</td>\n      <td>likelihood</td>\n    </tr>\n    <tr>\n      <th>1</th>\n      <td>0</td>\n      <td>466.38458</td>\n      <td>92.41024</td>\n      <td>0.9496344</td>\n      <td>493.83554</td>\n      <td>153.3729</td>\n      <td>0.91904247</td>\n      <td>516.6063</td>\n      <td>105.02538</td>\n      <td>0.9232</td>\n      <td>...</td>\n      <td>0.96769404</td>\n      <td>475.34552</td>\n      <td>158.75983</td>\n      <td>0.93436265</td>\n      <td>508.35864</td>\n      <td>142.23738</td>\n      <td>0.9174086</td>\n      <td>504.43668</td>\n      <td>91.37446</td>\n      <td>0.90347385</td>\n    </tr>\n    <tr>\n      <th>2</th>\n      <td>1</td>\n      <td>466.3361</td>\n      <td>92.37502</td>\n      <td>0.94861424</td>\n      <td>493.79944</td>\n      <td>153.34105</td>\n      <td>0.9185142</td>\n      <td>516.60345</td>\n      <td>105.0235</td>\n      <td>0.92303675</td>\n      <td>...</td>\n      <td>0.9676828</td>\n      <td>475.31943</td>\n      <td>158.73926</td>\n      <td>0.9348792</td>\n      <td>508.3405</td>\n      <td>142.22263</td>\n      <td>0.9174185</td>\n      <td>504.42816</td>\n      <td>91.3714</td>\n      <td>0.9029191</td>\n    </tr>\n    <tr>\n      <th>3</th>\n      <td>2</td>\n      <td>466.25452</td>\n      <td>92.138435</td>\n      <td>0.9483476</td>\n      <td>493.52863</td>\n      <td>153.50308</td>\n      <td>0.9155334</td>\n      <td>516.57</td>\n      <td>104.830444</td>\n      <td>0.9188901</td>\n      <td>...</td>\n      <td>0.9630867</td>\n      <td>475.35535</td>\n      <td>158.47926</td>\n      <td>0.9379605</td>\n      <td>508.30325</td>\n      <td>141.98138</td>\n      <td>0.92095035</td>\n      <td>504.44116</td>\n      <td>91.1708</td>\n      <td>0.89855456</td>\n    </tr>\n    <tr>\n      <th>4</th>\n      <td>3</td>\n      <td>466.2533</td>\n      <td>92.13955</td>\n      <td>0.94840765</td>\n      <td>493.53192</td>\n      <td>153.49954</td>\n      <td>0.9156441</td>\n      <td>516.56995</td>\n      <td>104.829254</td>\n      <td>0.91886306</td>\n      <td>...</td>\n      <td>0.9629085</td>\n      <td>475.35583</td>\n      <td>158.47893</td>\n      <td>0.9379882</td>\n      <td>508.30453</td>\n      <td>141.97922</td>\n      <td>0.9210722</td>\n      <td>504.44034</td>\n      <td>91.17063</td>\n      <td>0.89843833</td>\n    </tr>\n  </tbody>\n</table>\n<p>5 rows × 43 columns</p>\n</div>"
     },
     "execution_count": 14,
     "metadata": {},
     "output_type": "execute_result"
    }
   ],
   "source": [
    "#debugging simon's dataframe\n",
    "import pathlib\n",
    "import pandas as pd\n",
    "p = pathlib.Path(r'Z:\\Nimrod\\Transitory\\ExampleDFsimon.csv')\n",
    "df = pd.read_csv(p)\n",
    "df.head()"
   ],
   "metadata": {
    "collapsed": false,
    "ExecuteTime": {
     "end_time": "2024-11-13T10:10:40.329428500Z",
     "start_time": "2024-11-13T10:10:34.658473400Z"
    }
   },
   "id": "37cf7cef5948aae5",
   "execution_count": 14
  },
  {
   "cell_type": "code",
   "outputs": [
    {
     "name": "stderr",
     "output_type": "stream",
     "text": [
      "100%|██████████| 97/97 [00:00<00:00, 1894.27it/s]"
     ]
    },
    {
     "name": "stdout",
     "output_type": "stream",
     "text": [
      "\n",
      " ellipses calculation complete\n"
     ]
    },
    {
     "name": "stderr",
     "output_type": "stream",
     "text": [
      "\n"
     ]
    }
   ],
   "source": [
    "\"\"\"\n",
    ":param dlc_video_analysis_csv: the csv output of a dlc analysis of one video, already read by pandas with header=1\n",
    ":param uncertainty_thr: The confidence P value to use as a threshold for datapoint validity in the analysis\n",
    ":returns ellipse_df: a DataFrame of ellipses parameters (center, width, height, phi, size) for each video frame\n",
    "\n",
    "\"\"\"\n",
    "from tqdm import tqdm\n",
    "from ellipse import LsqEllipse\n",
    "import math\n",
    "uncertainty_thr = 0.93\n",
    "# import the dataframe and convert it to floats\n",
    "data = df.iloc[:100]\n",
    "data = data.iloc[1:].apply(pd.to_numeric)\n",
    "\n",
    "# sort the pupil elements to dfs: x and y, with p as probability\n",
    "pupil_elements = np.array([x for x in data.columns if 'Pupil' in x])\n",
    "\n",
    "# get X coords\n",
    "pupil_xs_before_flip = data[pupil_elements[np.arange(0, len(pupil_elements), 3)]]\n",
    "\n",
    "# flip the data around the midpoint of the x-axis (shooting the eye through a camera flips right and left)\n",
    "pupil_xs = 320 * 2 - pupil_xs_before_flip\n",
    "\n",
    "# get Y coords (no need to flip as opencv conventions already start with origin at top left of frame\n",
    "# and so, positive Y is maintained as up in a flipped image as we have)\n",
    "pupil_ys = data[pupil_elements[np.arange(1, len(pupil_elements), 3)]]\n",
    "pupil_ps = data[pupil_elements[np.arange(2, len(pupil_elements), 3)]]\n",
    "\n",
    "# rename dataframes for masking with p values of bad points:\n",
    "pupil_ps = pupil_ps.rename(columns=dict(zip(pupil_ps.columns, pupil_xs.columns)))\n",
    "pupil_ys = pupil_ys.rename(columns=dict(zip(pupil_ys.columns, pupil_xs.columns)))\n",
    "good_points = pupil_ps > uncertainty_thr\n",
    "pupil_xs = pupil_xs[good_points]\n",
    "pupil_ys = pupil_ys[good_points]\n",
    "\n",
    "# Do the same for the edges\n",
    "edge_elements = np.array([x for x in data.columns if 'edge' in x])\n",
    "edge_xs_before_flip = data[edge_elements[np.arange(0, len(edge_elements), 3)]]\n",
    "edge_xs = 320 * 2 - edge_xs_before_flip\n",
    "edge_ys = data[edge_elements[np.arange(1, len(edge_elements), 3)]]\n",
    "edge_ps = data[edge_elements[np.arange(2, len(edge_elements), 3)]]\n",
    "edge_ps = edge_ps.rename(columns=dict(zip(edge_ps.columns, edge_xs.columns)))\n",
    "edge_ys = edge_ys.rename(columns=dict(zip(edge_ys.columns, edge_xs.columns)))\n",
    "# e = edge_ps < uncertainty_thr\n",
    "\n",
    "# work row by row to figure out the ellipses\n",
    "ellipses = []\n",
    "caudal_edge_ls = []\n",
    "rostral_edge_ls = []\n",
    "for row in tqdm(range(1, len(data) - 1)):\n",
    "    # first, take all the values, and concatenate them into an X array\n",
    "    x_values = pupil_xs.loc[row].values\n",
    "    y_values = pupil_ys.loc[row].values\n",
    "    X = np.c_[x_values, y_values]\n",
    "\n",
    "    # now, remove nan values, and check if there are enough points to make the ellipse\n",
    "    X = X[~ np.isnan(X).any(axis=1)]\n",
    "\n",
    "    # if there are enough rows for a fit, make an ellipse\n",
    "    if X.shape[0] > 5:\n",
    "        el = LsqEllipse().fit(X)\n",
    "        center, width, height, phi = el.as_parameters()\n",
    "        center_x = center[0]\n",
    "        center_y = center[1]\n",
    "        ellipses.append([center_x, center_y, width, height, phi])\n",
    "    else:\n",
    "        ellipses.append([np.nan, np.nan, np.nan, np.nan, np.nan])\n",
    "\n",
    "    # caudal_edge = [\n",
    "    #     float(data['Caudal_edge'][row]),\n",
    "    #     float(data['Caudal_edge.1'][row])\n",
    "    # ]\n",
    "    # rostral_edge = [\n",
    "    #     float(data['Rostral_edge'][row]),\n",
    "    #     float(data['Rostral_edge.1'][row])\n",
    "    # ]\n",
    "    # caudal_edge_ls.append(caudal_edge)\n",
    "    # rostral_edge_ls.append(rostral_edge)\n",
    "\n",
    "ellipse_df = pd.DataFrame(columns=['center_x', 'center_y', 'width', 'height', 'phi'], data=ellipses)\n",
    "\n",
    "\n",
    "a = np.array(ellipse_df['height'][:])\n",
    "b = np.array(ellipse_df['width'][:])\n",
    "ellipse_size_per_frame = a * b * math.pi\n",
    "ellipse_df['ellipse_size'] = ellipse_size_per_frame\n",
    "#ellipse_df['rostral_edge'] = rostral_edge_ls\n",
    "#ellipse_df['caudal_edge'] = caudal_edge_ls\n",
    "\n",
    "print(f'\\n ellipses calculation complete')\n"
   ],
   "metadata": {
    "collapsed": false,
    "ExecuteTime": {
     "end_time": "2024-11-13T10:11:37.633724Z",
     "start_time": "2024-11-13T10:11:37.530400Z"
    }
   },
   "id": "41d4d24e13498169",
   "execution_count": 17
  },
  {
   "cell_type": "markdown",
   "source": [
    "# This notebook used for multi-animal anlaysis after individual blocks are ready"
   ],
   "metadata": {
    "collapsed": false
   },
   "id": "5570ffa736fd0ab2"
  },
  {
   "cell_type": "code",
   "outputs": [
    {
     "data": {
      "text/plain": "      center_x    center_y      width     height       phi  ellipse_size\n0   159.348467  122.096113  42.166651  32.572849  0.707028   4314.939738\n1   159.408636  122.109561  42.080957  32.629580  0.703583   4313.670538\n2   159.437230  121.851603  42.049539  32.635975  0.704986   4311.294736\n3   159.438519  121.852772  42.048013  32.636377  0.704878   4311.191246\n4   159.438519  121.852772  42.048013  32.636377  0.704878   4311.191246\n..         ...         ...        ...        ...       ...           ...\n92  159.448842  121.829090  42.052594  32.663289  0.706029   4315.216353\n93  159.448842  121.829090  42.052594  32.663289  0.706029   4315.216353\n94  159.448842  121.829090  42.052594  32.663289  0.706029   4315.216353\n95  159.448842  121.829090  42.052594  32.663289  0.706029   4315.216353\n96  159.448842  121.829090  42.052594  32.663289  0.706029   4315.216353\n\n[97 rows x 6 columns]",
      "text/html": "<div>\n<style scoped>\n    .dataframe tbody tr th:only-of-type {\n        vertical-align: middle;\n    }\n\n    .dataframe tbody tr th {\n        vertical-align: top;\n    }\n\n    .dataframe thead th {\n        text-align: right;\n    }\n</style>\n<table border=\"1\" class=\"dataframe\">\n  <thead>\n    <tr style=\"text-align: right;\">\n      <th></th>\n      <th>center_x</th>\n      <th>center_y</th>\n      <th>width</th>\n      <th>height</th>\n      <th>phi</th>\n      <th>ellipse_size</th>\n    </tr>\n  </thead>\n  <tbody>\n    <tr>\n      <th>0</th>\n      <td>159.348467</td>\n      <td>122.096113</td>\n      <td>42.166651</td>\n      <td>32.572849</td>\n      <td>0.707028</td>\n      <td>4314.939738</td>\n    </tr>\n    <tr>\n      <th>1</th>\n      <td>159.408636</td>\n      <td>122.109561</td>\n      <td>42.080957</td>\n      <td>32.629580</td>\n      <td>0.703583</td>\n      <td>4313.670538</td>\n    </tr>\n    <tr>\n      <th>2</th>\n      <td>159.437230</td>\n      <td>121.851603</td>\n      <td>42.049539</td>\n      <td>32.635975</td>\n      <td>0.704986</td>\n      <td>4311.294736</td>\n    </tr>\n    <tr>\n      <th>3</th>\n      <td>159.438519</td>\n      <td>121.852772</td>\n      <td>42.048013</td>\n      <td>32.636377</td>\n      <td>0.704878</td>\n      <td>4311.191246</td>\n    </tr>\n    <tr>\n      <th>4</th>\n      <td>159.438519</td>\n      <td>121.852772</td>\n      <td>42.048013</td>\n      <td>32.636377</td>\n      <td>0.704878</td>\n      <td>4311.191246</td>\n    </tr>\n    <tr>\n      <th>...</th>\n      <td>...</td>\n      <td>...</td>\n      <td>...</td>\n      <td>...</td>\n      <td>...</td>\n      <td>...</td>\n    </tr>\n    <tr>\n      <th>92</th>\n      <td>159.448842</td>\n      <td>121.829090</td>\n      <td>42.052594</td>\n      <td>32.663289</td>\n      <td>0.706029</td>\n      <td>4315.216353</td>\n    </tr>\n    <tr>\n      <th>93</th>\n      <td>159.448842</td>\n      <td>121.829090</td>\n      <td>42.052594</td>\n      <td>32.663289</td>\n      <td>0.706029</td>\n      <td>4315.216353</td>\n    </tr>\n    <tr>\n      <th>94</th>\n      <td>159.448842</td>\n      <td>121.829090</td>\n      <td>42.052594</td>\n      <td>32.663289</td>\n      <td>0.706029</td>\n      <td>4315.216353</td>\n    </tr>\n    <tr>\n      <th>95</th>\n      <td>159.448842</td>\n      <td>121.829090</td>\n      <td>42.052594</td>\n      <td>32.663289</td>\n      <td>0.706029</td>\n      <td>4315.216353</td>\n    </tr>\n    <tr>\n      <th>96</th>\n      <td>159.448842</td>\n      <td>121.829090</td>\n      <td>42.052594</td>\n      <td>32.663289</td>\n      <td>0.706029</td>\n      <td>4315.216353</td>\n    </tr>\n  </tbody>\n</table>\n<p>97 rows × 6 columns</p>\n</div>"
     },
     "execution_count": 18,
     "metadata": {},
     "output_type": "execute_result"
    }
   ],
   "source": [
    "ellipse_df"
   ],
   "metadata": {
    "collapsed": false,
    "ExecuteTime": {
     "end_time": "2024-11-13T10:11:47.906915800Z",
     "start_time": "2024-11-13T10:11:47.813001200Z"
    }
   },
   "id": "f03a58d56afcbd73",
   "execution_count": 18
  },
  {
   "cell_type": "code",
   "outputs": [
    {
     "data": {
      "text/plain": "<IPython.core.display.Javascript object>",
      "application/javascript": "/* Put everything inside the global mpl namespace */\n/* global mpl */\nwindow.mpl = {};\n\nmpl.get_websocket_type = function () {\n    if (typeof WebSocket !== 'undefined') {\n        return WebSocket;\n    } else if (typeof MozWebSocket !== 'undefined') {\n        return MozWebSocket;\n    } else {\n        alert(\n            'Your browser does not have WebSocket support. ' +\n                'Please try Chrome, Safari or Firefox ≥ 6. ' +\n                'Firefox 4 and 5 are also supported but you ' +\n                'have to enable WebSockets in about:config.'\n        );\n    }\n};\n\nmpl.figure = function (figure_id, websocket, ondownload, parent_element) {\n    this.id = figure_id;\n\n    this.ws = websocket;\n\n    this.supports_binary = this.ws.binaryType !== undefined;\n\n    if (!this.supports_binary) {\n        var warnings = document.getElementById('mpl-warnings');\n        if (warnings) {\n            warnings.style.display = 'block';\n            warnings.textContent =\n                'This browser does not support binary websocket messages. ' +\n                'Performance may be slow.';\n        }\n    }\n\n    this.imageObj = new Image();\n\n    this.context = undefined;\n    this.message = undefined;\n    this.canvas = undefined;\n    this.rubberband_canvas = undefined;\n    this.rubberband_context = undefined;\n    this.format_dropdown = undefined;\n\n    this.image_mode = 'full';\n\n    this.root = document.createElement('div');\n    this.root.setAttribute('style', 'display: inline-block');\n    this._root_extra_style(this.root);\n\n    parent_element.appendChild(this.root);\n\n    this._init_header(this);\n    this._init_canvas(this);\n    this._init_toolbar(this);\n\n    var fig = this;\n\n    this.waiting = false;\n\n    this.ws.onopen = function () {\n        fig.send_message('supports_binary', { value: fig.supports_binary });\n        fig.send_message('send_image_mode', {});\n        if (fig.ratio !== 1) {\n            fig.send_message('set_device_pixel_ratio', {\n                device_pixel_ratio: fig.ratio,\n            });\n        }\n        fig.send_message('refresh', {});\n    };\n\n    this.imageObj.onload = function () {\n        if (fig.image_mode === 'full') {\n            // Full images could contain transparency (where diff images\n            // almost always do), so we need to clear the canvas so that\n            // there is no ghosting.\n            fig.context.clearRect(0, 0, fig.canvas.width, fig.canvas.height);\n        }\n        fig.context.drawImage(fig.imageObj, 0, 0);\n    };\n\n    this.imageObj.onunload = function () {\n        fig.ws.close();\n    };\n\n    this.ws.onmessage = this._make_on_message_function(this);\n\n    this.ondownload = ondownload;\n};\n\nmpl.figure.prototype._init_header = function () {\n    var titlebar = document.createElement('div');\n    titlebar.classList =\n        'ui-dialog-titlebar ui-widget-header ui-corner-all ui-helper-clearfix';\n    var titletext = document.createElement('div');\n    titletext.classList = 'ui-dialog-title';\n    titletext.setAttribute(\n        'style',\n        'width: 100%; text-align: center; padding: 3px;'\n    );\n    titlebar.appendChild(titletext);\n    this.root.appendChild(titlebar);\n    this.header = titletext;\n};\n\nmpl.figure.prototype._canvas_extra_style = function (_canvas_div) {};\n\nmpl.figure.prototype._root_extra_style = function (_canvas_div) {};\n\nmpl.figure.prototype._init_canvas = function () {\n    var fig = this;\n\n    var canvas_div = (this.canvas_div = document.createElement('div'));\n    canvas_div.setAttribute('tabindex', '0');\n    canvas_div.setAttribute(\n        'style',\n        'border: 1px solid #ddd;' +\n            'box-sizing: content-box;' +\n            'clear: both;' +\n            'min-height: 1px;' +\n            'min-width: 1px;' +\n            'outline: 0;' +\n            'overflow: hidden;' +\n            'position: relative;' +\n            'resize: both;' +\n            'z-index: 2;'\n    );\n\n    function on_keyboard_event_closure(name) {\n        return function (event) {\n            return fig.key_event(event, name);\n        };\n    }\n\n    canvas_div.addEventListener(\n        'keydown',\n        on_keyboard_event_closure('key_press')\n    );\n    canvas_div.addEventListener(\n        'keyup',\n        on_keyboard_event_closure('key_release')\n    );\n\n    this._canvas_extra_style(canvas_div);\n    this.root.appendChild(canvas_div);\n\n    var canvas = (this.canvas = document.createElement('canvas'));\n    canvas.classList.add('mpl-canvas');\n    canvas.setAttribute(\n        'style',\n        'box-sizing: content-box;' +\n            'pointer-events: none;' +\n            'position: relative;' +\n            'z-index: 0;'\n    );\n\n    this.context = canvas.getContext('2d');\n\n    var backingStore =\n        this.context.backingStorePixelRatio ||\n        this.context.webkitBackingStorePixelRatio ||\n        this.context.mozBackingStorePixelRatio ||\n        this.context.msBackingStorePixelRatio ||\n        this.context.oBackingStorePixelRatio ||\n        this.context.backingStorePixelRatio ||\n        1;\n\n    this.ratio = (window.devicePixelRatio || 1) / backingStore;\n\n    var rubberband_canvas = (this.rubberband_canvas = document.createElement(\n        'canvas'\n    ));\n    rubberband_canvas.setAttribute(\n        'style',\n        'box-sizing: content-box;' +\n            'left: 0;' +\n            'pointer-events: none;' +\n            'position: absolute;' +\n            'top: 0;' +\n            'z-index: 1;'\n    );\n\n    // Apply a ponyfill if ResizeObserver is not implemented by browser.\n    if (this.ResizeObserver === undefined) {\n        if (window.ResizeObserver !== undefined) {\n            this.ResizeObserver = window.ResizeObserver;\n        } else {\n            var obs = _JSXTOOLS_RESIZE_OBSERVER({});\n            this.ResizeObserver = obs.ResizeObserver;\n        }\n    }\n\n    this.resizeObserverInstance = new this.ResizeObserver(function (entries) {\n        var nentries = entries.length;\n        for (var i = 0; i < nentries; i++) {\n            var entry = entries[i];\n            var width, height;\n            if (entry.contentBoxSize) {\n                if (entry.contentBoxSize instanceof Array) {\n                    // Chrome 84 implements new version of spec.\n                    width = entry.contentBoxSize[0].inlineSize;\n                    height = entry.contentBoxSize[0].blockSize;\n                } else {\n                    // Firefox implements old version of spec.\n                    width = entry.contentBoxSize.inlineSize;\n                    height = entry.contentBoxSize.blockSize;\n                }\n            } else {\n                // Chrome <84 implements even older version of spec.\n                width = entry.contentRect.width;\n                height = entry.contentRect.height;\n            }\n\n            // Keep the size of the canvas and rubber band canvas in sync with\n            // the canvas container.\n            if (entry.devicePixelContentBoxSize) {\n                // Chrome 84 implements new version of spec.\n                canvas.setAttribute(\n                    'width',\n                    entry.devicePixelContentBoxSize[0].inlineSize\n                );\n                canvas.setAttribute(\n                    'height',\n                    entry.devicePixelContentBoxSize[0].blockSize\n                );\n            } else {\n                canvas.setAttribute('width', width * fig.ratio);\n                canvas.setAttribute('height', height * fig.ratio);\n            }\n            /* This rescales the canvas back to display pixels, so that it\n             * appears correct on HiDPI screens. */\n            canvas.style.width = width + 'px';\n            canvas.style.height = height + 'px';\n\n            rubberband_canvas.setAttribute('width', width);\n            rubberband_canvas.setAttribute('height', height);\n\n            // And update the size in Python. We ignore the initial 0/0 size\n            // that occurs as the element is placed into the DOM, which should\n            // otherwise not happen due to the minimum size styling.\n            if (fig.ws.readyState == 1 && width != 0 && height != 0) {\n                fig.request_resize(width, height);\n            }\n        }\n    });\n    this.resizeObserverInstance.observe(canvas_div);\n\n    function on_mouse_event_closure(name) {\n        /* User Agent sniffing is bad, but WebKit is busted:\n         * https://bugs.webkit.org/show_bug.cgi?id=144526\n         * https://bugs.webkit.org/show_bug.cgi?id=181818\n         * The worst that happens here is that they get an extra browser\n         * selection when dragging, if this check fails to catch them.\n         */\n        var UA = navigator.userAgent;\n        var isWebKit = /AppleWebKit/.test(UA) && !/Chrome/.test(UA);\n        if(isWebKit) {\n            return function (event) {\n                /* This prevents the web browser from automatically changing to\n                 * the text insertion cursor when the button is pressed. We\n                 * want to control all of the cursor setting manually through\n                 * the 'cursor' event from matplotlib */\n                event.preventDefault()\n                return fig.mouse_event(event, name);\n            };\n        } else {\n            return function (event) {\n                return fig.mouse_event(event, name);\n            };\n        }\n    }\n\n    canvas_div.addEventListener(\n        'mousedown',\n        on_mouse_event_closure('button_press')\n    );\n    canvas_div.addEventListener(\n        'mouseup',\n        on_mouse_event_closure('button_release')\n    );\n    canvas_div.addEventListener(\n        'dblclick',\n        on_mouse_event_closure('dblclick')\n    );\n    // Throttle sequential mouse events to 1 every 20ms.\n    canvas_div.addEventListener(\n        'mousemove',\n        on_mouse_event_closure('motion_notify')\n    );\n\n    canvas_div.addEventListener(\n        'mouseenter',\n        on_mouse_event_closure('figure_enter')\n    );\n    canvas_div.addEventListener(\n        'mouseleave',\n        on_mouse_event_closure('figure_leave')\n    );\n\n    canvas_div.addEventListener('wheel', function (event) {\n        if (event.deltaY < 0) {\n            event.step = 1;\n        } else {\n            event.step = -1;\n        }\n        on_mouse_event_closure('scroll')(event);\n    });\n\n    canvas_div.appendChild(canvas);\n    canvas_div.appendChild(rubberband_canvas);\n\n    this.rubberband_context = rubberband_canvas.getContext('2d');\n    this.rubberband_context.strokeStyle = '#000000';\n\n    this._resize_canvas = function (width, height, forward) {\n        if (forward) {\n            canvas_div.style.width = width + 'px';\n            canvas_div.style.height = height + 'px';\n        }\n    };\n\n    // Disable right mouse context menu.\n    canvas_div.addEventListener('contextmenu', function (_e) {\n        event.preventDefault();\n        return false;\n    });\n\n    function set_focus() {\n        canvas.focus();\n        canvas_div.focus();\n    }\n\n    window.setTimeout(set_focus, 100);\n};\n\nmpl.figure.prototype._init_toolbar = function () {\n    var fig = this;\n\n    var toolbar = document.createElement('div');\n    toolbar.classList = 'mpl-toolbar';\n    this.root.appendChild(toolbar);\n\n    function on_click_closure(name) {\n        return function (_event) {\n            return fig.toolbar_button_onclick(name);\n        };\n    }\n\n    function on_mouseover_closure(tooltip) {\n        return function (event) {\n            if (!event.currentTarget.disabled) {\n                return fig.toolbar_button_onmouseover(tooltip);\n            }\n        };\n    }\n\n    fig.buttons = {};\n    var buttonGroup = document.createElement('div');\n    buttonGroup.classList = 'mpl-button-group';\n    for (var toolbar_ind in mpl.toolbar_items) {\n        var name = mpl.toolbar_items[toolbar_ind][0];\n        var tooltip = mpl.toolbar_items[toolbar_ind][1];\n        var image = mpl.toolbar_items[toolbar_ind][2];\n        var method_name = mpl.toolbar_items[toolbar_ind][3];\n\n        if (!name) {\n            /* Instead of a spacer, we start a new button group. */\n            if (buttonGroup.hasChildNodes()) {\n                toolbar.appendChild(buttonGroup);\n            }\n            buttonGroup = document.createElement('div');\n            buttonGroup.classList = 'mpl-button-group';\n            continue;\n        }\n\n        var button = (fig.buttons[name] = document.createElement('button'));\n        button.classList = 'mpl-widget';\n        button.setAttribute('role', 'button');\n        button.setAttribute('aria-disabled', 'false');\n        button.addEventListener('click', on_click_closure(method_name));\n        button.addEventListener('mouseover', on_mouseover_closure(tooltip));\n\n        var icon_img = document.createElement('img');\n        icon_img.src = '_images/' + image + '.png';\n        icon_img.srcset = '_images/' + image + '_large.png 2x';\n        icon_img.alt = tooltip;\n        button.appendChild(icon_img);\n\n        buttonGroup.appendChild(button);\n    }\n\n    if (buttonGroup.hasChildNodes()) {\n        toolbar.appendChild(buttonGroup);\n    }\n\n    var fmt_picker = document.createElement('select');\n    fmt_picker.classList = 'mpl-widget';\n    toolbar.appendChild(fmt_picker);\n    this.format_dropdown = fmt_picker;\n\n    for (var ind in mpl.extensions) {\n        var fmt = mpl.extensions[ind];\n        var option = document.createElement('option');\n        option.selected = fmt === mpl.default_extension;\n        option.innerHTML = fmt;\n        fmt_picker.appendChild(option);\n    }\n\n    var status_bar = document.createElement('span');\n    status_bar.classList = 'mpl-message';\n    toolbar.appendChild(status_bar);\n    this.message = status_bar;\n};\n\nmpl.figure.prototype.request_resize = function (x_pixels, y_pixels) {\n    // Request matplotlib to resize the figure. Matplotlib will then trigger a resize in the client,\n    // which will in turn request a refresh of the image.\n    this.send_message('resize', { width: x_pixels, height: y_pixels });\n};\n\nmpl.figure.prototype.send_message = function (type, properties) {\n    properties['type'] = type;\n    properties['figure_id'] = this.id;\n    this.ws.send(JSON.stringify(properties));\n};\n\nmpl.figure.prototype.send_draw_message = function () {\n    if (!this.waiting) {\n        this.waiting = true;\n        this.ws.send(JSON.stringify({ type: 'draw', figure_id: this.id }));\n    }\n};\n\nmpl.figure.prototype.handle_save = function (fig, _msg) {\n    var format_dropdown = fig.format_dropdown;\n    var format = format_dropdown.options[format_dropdown.selectedIndex].value;\n    fig.ondownload(fig, format);\n};\n\nmpl.figure.prototype.handle_resize = function (fig, msg) {\n    var size = msg['size'];\n    if (size[0] !== fig.canvas.width || size[1] !== fig.canvas.height) {\n        fig._resize_canvas(size[0], size[1], msg['forward']);\n        fig.send_message('refresh', {});\n    }\n};\n\nmpl.figure.prototype.handle_rubberband = function (fig, msg) {\n    var x0 = msg['x0'] / fig.ratio;\n    var y0 = (fig.canvas.height - msg['y0']) / fig.ratio;\n    var x1 = msg['x1'] / fig.ratio;\n    var y1 = (fig.canvas.height - msg['y1']) / fig.ratio;\n    x0 = Math.floor(x0) + 0.5;\n    y0 = Math.floor(y0) + 0.5;\n    x1 = Math.floor(x1) + 0.5;\n    y1 = Math.floor(y1) + 0.5;\n    var min_x = Math.min(x0, x1);\n    var min_y = Math.min(y0, y1);\n    var width = Math.abs(x1 - x0);\n    var height = Math.abs(y1 - y0);\n\n    fig.rubberband_context.clearRect(\n        0,\n        0,\n        fig.canvas.width / fig.ratio,\n        fig.canvas.height / fig.ratio\n    );\n\n    fig.rubberband_context.strokeRect(min_x, min_y, width, height);\n};\n\nmpl.figure.prototype.handle_figure_label = function (fig, msg) {\n    // Updates the figure title.\n    fig.header.textContent = msg['label'];\n};\n\nmpl.figure.prototype.handle_cursor = function (fig, msg) {\n    fig.canvas_div.style.cursor = msg['cursor'];\n};\n\nmpl.figure.prototype.handle_message = function (fig, msg) {\n    fig.message.textContent = msg['message'];\n};\n\nmpl.figure.prototype.handle_draw = function (fig, _msg) {\n    // Request the server to send over a new figure.\n    fig.send_draw_message();\n};\n\nmpl.figure.prototype.handle_image_mode = function (fig, msg) {\n    fig.image_mode = msg['mode'];\n};\n\nmpl.figure.prototype.handle_history_buttons = function (fig, msg) {\n    for (var key in msg) {\n        if (!(key in fig.buttons)) {\n            continue;\n        }\n        fig.buttons[key].disabled = !msg[key];\n        fig.buttons[key].setAttribute('aria-disabled', !msg[key]);\n    }\n};\n\nmpl.figure.prototype.handle_navigate_mode = function (fig, msg) {\n    if (msg['mode'] === 'PAN') {\n        fig.buttons['Pan'].classList.add('active');\n        fig.buttons['Zoom'].classList.remove('active');\n    } else if (msg['mode'] === 'ZOOM') {\n        fig.buttons['Pan'].classList.remove('active');\n        fig.buttons['Zoom'].classList.add('active');\n    } else {\n        fig.buttons['Pan'].classList.remove('active');\n        fig.buttons['Zoom'].classList.remove('active');\n    }\n};\n\nmpl.figure.prototype.updated_canvas_event = function () {\n    // Called whenever the canvas gets updated.\n    this.send_message('ack', {});\n};\n\n// A function to construct a web socket function for onmessage handling.\n// Called in the figure constructor.\nmpl.figure.prototype._make_on_message_function = function (fig) {\n    return function socket_on_message(evt) {\n        if (evt.data instanceof Blob) {\n            var img = evt.data;\n            if (img.type !== 'image/png') {\n                /* FIXME: We get \"Resource interpreted as Image but\n                 * transferred with MIME type text/plain:\" errors on\n                 * Chrome.  But how to set the MIME type?  It doesn't seem\n                 * to be part of the websocket stream */\n                img.type = 'image/png';\n            }\n\n            /* Free the memory for the previous frames */\n            if (fig.imageObj.src) {\n                (window.URL || window.webkitURL).revokeObjectURL(\n                    fig.imageObj.src\n                );\n            }\n\n            fig.imageObj.src = (window.URL || window.webkitURL).createObjectURL(\n                img\n            );\n            fig.updated_canvas_event();\n            fig.waiting = false;\n            return;\n        } else if (\n            typeof evt.data === 'string' &&\n            evt.data.slice(0, 21) === 'data:image/png;base64'\n        ) {\n            fig.imageObj.src = evt.data;\n            fig.updated_canvas_event();\n            fig.waiting = false;\n            return;\n        }\n\n        var msg = JSON.parse(evt.data);\n        var msg_type = msg['type'];\n\n        // Call the  \"handle_{type}\" callback, which takes\n        // the figure and JSON message as its only arguments.\n        try {\n            var callback = fig['handle_' + msg_type];\n        } catch (e) {\n            console.log(\n                \"No handler for the '\" + msg_type + \"' message type: \",\n                msg\n            );\n            return;\n        }\n\n        if (callback) {\n            try {\n                // console.log(\"Handling '\" + msg_type + \"' message: \", msg);\n                callback(fig, msg);\n            } catch (e) {\n                console.log(\n                    \"Exception inside the 'handler_\" + msg_type + \"' callback:\",\n                    e,\n                    e.stack,\n                    msg\n                );\n            }\n        }\n    };\n};\n\nfunction getModifiers(event) {\n    var mods = [];\n    if (event.ctrlKey) {\n        mods.push('ctrl');\n    }\n    if (event.altKey) {\n        mods.push('alt');\n    }\n    if (event.shiftKey) {\n        mods.push('shift');\n    }\n    if (event.metaKey) {\n        mods.push('meta');\n    }\n    return mods;\n}\n\n/*\n * return a copy of an object with only non-object keys\n * we need this to avoid circular references\n * https://stackoverflow.com/a/24161582/3208463\n */\nfunction simpleKeys(original) {\n    return Object.keys(original).reduce(function (obj, key) {\n        if (typeof original[key] !== 'object') {\n            obj[key] = original[key];\n        }\n        return obj;\n    }, {});\n}\n\nmpl.figure.prototype.mouse_event = function (event, name) {\n    if (name === 'button_press') {\n        this.canvas.focus();\n        this.canvas_div.focus();\n    }\n\n    // from https://stackoverflow.com/q/1114465\n    var boundingRect = this.canvas.getBoundingClientRect();\n    var x = (event.clientX - boundingRect.left) * this.ratio;\n    var y = (event.clientY - boundingRect.top) * this.ratio;\n\n    this.send_message(name, {\n        x: x,\n        y: y,\n        button: event.button,\n        step: event.step,\n        modifiers: getModifiers(event),\n        guiEvent: simpleKeys(event),\n    });\n\n    return false;\n};\n\nmpl.figure.prototype._key_event_extra = function (_event, _name) {\n    // Handle any extra behaviour associated with a key event\n};\n\nmpl.figure.prototype.key_event = function (event, name) {\n    // Prevent repeat events\n    if (name === 'key_press') {\n        if (event.key === this._key) {\n            return;\n        } else {\n            this._key = event.key;\n        }\n    }\n    if (name === 'key_release') {\n        this._key = null;\n    }\n\n    var value = '';\n    if (event.ctrlKey && event.key !== 'Control') {\n        value += 'ctrl+';\n    }\n    else if (event.altKey && event.key !== 'Alt') {\n        value += 'alt+';\n    }\n    else if (event.shiftKey && event.key !== 'Shift') {\n        value += 'shift+';\n    }\n\n    value += 'k' + event.key;\n\n    this._key_event_extra(event, name);\n\n    this.send_message(name, { key: value, guiEvent: simpleKeys(event) });\n    return false;\n};\n\nmpl.figure.prototype.toolbar_button_onclick = function (name) {\n    if (name === 'download') {\n        this.handle_save(this, null);\n    } else {\n        this.send_message('toolbar_button', { name: name });\n    }\n};\n\nmpl.figure.prototype.toolbar_button_onmouseover = function (tooltip) {\n    this.message.textContent = tooltip;\n};\n\n///////////////// REMAINING CONTENT GENERATED BY embed_js.py /////////////////\n// prettier-ignore\nvar _JSXTOOLS_RESIZE_OBSERVER=function(A){var t,i=new WeakMap,n=new WeakMap,a=new WeakMap,r=new WeakMap,o=new Set;function s(e){if(!(this instanceof s))throw new TypeError(\"Constructor requires 'new' operator\");i.set(this,e)}function h(){throw new TypeError(\"Function is not a constructor\")}function c(e,t,i,n){e=0 in arguments?Number(arguments[0]):0,t=1 in arguments?Number(arguments[1]):0,i=2 in arguments?Number(arguments[2]):0,n=3 in arguments?Number(arguments[3]):0,this.right=(this.x=this.left=e)+(this.width=i),this.bottom=(this.y=this.top=t)+(this.height=n),Object.freeze(this)}function d(){t=requestAnimationFrame(d);var s=new WeakMap,p=new Set;o.forEach((function(t){r.get(t).forEach((function(i){var r=t instanceof window.SVGElement,o=a.get(t),d=r?0:parseFloat(o.paddingTop),f=r?0:parseFloat(o.paddingRight),l=r?0:parseFloat(o.paddingBottom),u=r?0:parseFloat(o.paddingLeft),g=r?0:parseFloat(o.borderTopWidth),m=r?0:parseFloat(o.borderRightWidth),w=r?0:parseFloat(o.borderBottomWidth),b=u+f,F=d+l,v=(r?0:parseFloat(o.borderLeftWidth))+m,W=g+w,y=r?0:t.offsetHeight-W-t.clientHeight,E=r?0:t.offsetWidth-v-t.clientWidth,R=b+v,z=F+W,M=r?t.width:parseFloat(o.width)-R-E,O=r?t.height:parseFloat(o.height)-z-y;if(n.has(t)){var k=n.get(t);if(k[0]===M&&k[1]===O)return}n.set(t,[M,O]);var S=Object.create(h.prototype);S.target=t,S.contentRect=new c(u,d,M,O),s.has(i)||(s.set(i,[]),p.add(i)),s.get(i).push(S)}))})),p.forEach((function(e){i.get(e).call(e,s.get(e),e)}))}return s.prototype.observe=function(i){if(i instanceof window.Element){r.has(i)||(r.set(i,new Set),o.add(i),a.set(i,window.getComputedStyle(i)));var n=r.get(i);n.has(this)||n.add(this),cancelAnimationFrame(t),t=requestAnimationFrame(d)}},s.prototype.unobserve=function(i){if(i instanceof window.Element&&r.has(i)){var n=r.get(i);n.has(this)&&(n.delete(this),n.size||(r.delete(i),o.delete(i))),n.size||r.delete(i),o.size||cancelAnimationFrame(t)}},A.DOMRectReadOnly=c,A.ResizeObserver=s,A.ResizeObserverEntry=h,A}; // eslint-disable-line\nmpl.toolbar_items = [[\"Home\", \"Reset original view\", \"fa fa-home\", \"home\"], [\"Back\", \"Back to previous view\", \"fa fa-arrow-left\", \"back\"], [\"Forward\", \"Forward to next view\", \"fa fa-arrow-right\", \"forward\"], [\"\", \"\", \"\", \"\"], [\"Pan\", \"Left button pans, Right button zooms\\nx/y fixes axis, CTRL fixes aspect\", \"fa fa-arrows\", \"pan\"], [\"Zoom\", \"Zoom to rectangle\\nx/y fixes axis\", \"fa fa-square-o\", \"zoom\"], [\"\", \"\", \"\", \"\"], [\"Download\", \"Download plot\", \"fa fa-floppy-o\", \"download\"]];\n\nmpl.extensions = [\"eps\", \"jpeg\", \"pgf\", \"pdf\", \"png\", \"ps\", \"raw\", \"svg\", \"tif\", \"webp\"];\n\nmpl.default_extension = \"png\";/* global mpl */\n\nvar comm_websocket_adapter = function (comm) {\n    // Create a \"websocket\"-like object which calls the given IPython comm\n    // object with the appropriate methods. Currently this is a non binary\n    // socket, so there is still some room for performance tuning.\n    var ws = {};\n\n    ws.binaryType = comm.kernel.ws.binaryType;\n    ws.readyState = comm.kernel.ws.readyState;\n    function updateReadyState(_event) {\n        if (comm.kernel.ws) {\n            ws.readyState = comm.kernel.ws.readyState;\n        } else {\n            ws.readyState = 3; // Closed state.\n        }\n    }\n    comm.kernel.ws.addEventListener('open', updateReadyState);\n    comm.kernel.ws.addEventListener('close', updateReadyState);\n    comm.kernel.ws.addEventListener('error', updateReadyState);\n\n    ws.close = function () {\n        comm.close();\n    };\n    ws.send = function (m) {\n        //console.log('sending', m);\n        comm.send(m);\n    };\n    // Register the callback with on_msg.\n    comm.on_msg(function (msg) {\n        //console.log('receiving', msg['content']['data'], msg);\n        var data = msg['content']['data'];\n        if (data['blob'] !== undefined) {\n            data = {\n                data: new Blob(msg['buffers'], { type: data['blob'] }),\n            };\n        }\n        // Pass the mpl event to the overridden (by mpl) onmessage function.\n        ws.onmessage(data);\n    });\n    return ws;\n};\n\nmpl.mpl_figure_comm = function (comm, msg) {\n    // This is the function which gets called when the mpl process\n    // starts-up an IPython Comm through the \"matplotlib\" channel.\n\n    var id = msg.content.data.id;\n    // Get hold of the div created by the display call when the Comm\n    // socket was opened in Python.\n    var element = document.getElementById(id);\n    var ws_proxy = comm_websocket_adapter(comm);\n\n    function ondownload(figure, _format) {\n        window.open(figure.canvas.toDataURL());\n    }\n\n    var fig = new mpl.figure(id, ws_proxy, ondownload, element);\n\n    // Call onopen now - mpl needs it, as it is assuming we've passed it a real\n    // web socket which is closed, not our websocket->open comm proxy.\n    ws_proxy.onopen();\n\n    fig.parent_element = element;\n    fig.cell_info = mpl.find_output_cell(\"<div id='\" + id + \"'></div>\");\n    if (!fig.cell_info) {\n        console.error('Failed to find cell for figure', id, fig);\n        return;\n    }\n    fig.cell_info[0].output_area.element.on(\n        'cleared',\n        { fig: fig },\n        fig._remove_fig_handler\n    );\n};\n\nmpl.figure.prototype.handle_close = function (fig, msg) {\n    var width = fig.canvas.width / fig.ratio;\n    fig.cell_info[0].output_area.element.off(\n        'cleared',\n        fig._remove_fig_handler\n    );\n    fig.resizeObserverInstance.unobserve(fig.canvas_div);\n\n    // Update the output cell to use the data from the current canvas.\n    fig.push_to_output();\n    var dataURL = fig.canvas.toDataURL();\n    // Re-enable the keyboard manager in IPython - without this line, in FF,\n    // the notebook keyboard shortcuts fail.\n    IPython.keyboard_manager.enable();\n    fig.parent_element.innerHTML =\n        '<img src=\"' + dataURL + '\" width=\"' + width + '\">';\n    fig.close_ws(fig, msg);\n};\n\nmpl.figure.prototype.close_ws = function (fig, msg) {\n    fig.send_message('closing', msg);\n    // fig.ws.close()\n};\n\nmpl.figure.prototype.push_to_output = function (_remove_interactive) {\n    // Turn the data on the canvas into data in the output cell.\n    var width = this.canvas.width / this.ratio;\n    var dataURL = this.canvas.toDataURL();\n    this.cell_info[1]['text/html'] =\n        '<img src=\"' + dataURL + '\" width=\"' + width + '\">';\n};\n\nmpl.figure.prototype.updated_canvas_event = function () {\n    // Tell IPython that the notebook contents must change.\n    IPython.notebook.set_dirty(true);\n    this.send_message('ack', {});\n    var fig = this;\n    // Wait a second, then push the new image to the DOM so\n    // that it is saved nicely (might be nice to debounce this).\n    setTimeout(function () {\n        fig.push_to_output();\n    }, 1000);\n};\n\nmpl.figure.prototype._init_toolbar = function () {\n    var fig = this;\n\n    var toolbar = document.createElement('div');\n    toolbar.classList = 'btn-toolbar';\n    this.root.appendChild(toolbar);\n\n    function on_click_closure(name) {\n        return function (_event) {\n            return fig.toolbar_button_onclick(name);\n        };\n    }\n\n    function on_mouseover_closure(tooltip) {\n        return function (event) {\n            if (!event.currentTarget.disabled) {\n                return fig.toolbar_button_onmouseover(tooltip);\n            }\n        };\n    }\n\n    fig.buttons = {};\n    var buttonGroup = document.createElement('div');\n    buttonGroup.classList = 'btn-group';\n    var button;\n    for (var toolbar_ind in mpl.toolbar_items) {\n        var name = mpl.toolbar_items[toolbar_ind][0];\n        var tooltip = mpl.toolbar_items[toolbar_ind][1];\n        var image = mpl.toolbar_items[toolbar_ind][2];\n        var method_name = mpl.toolbar_items[toolbar_ind][3];\n\n        if (!name) {\n            /* Instead of a spacer, we start a new button group. */\n            if (buttonGroup.hasChildNodes()) {\n                toolbar.appendChild(buttonGroup);\n            }\n            buttonGroup = document.createElement('div');\n            buttonGroup.classList = 'btn-group';\n            continue;\n        }\n\n        button = fig.buttons[name] = document.createElement('button');\n        button.classList = 'btn btn-default';\n        button.href = '#';\n        button.title = name;\n        button.innerHTML = '<i class=\"fa ' + image + ' fa-lg\"></i>';\n        button.addEventListener('click', on_click_closure(method_name));\n        button.addEventListener('mouseover', on_mouseover_closure(tooltip));\n        buttonGroup.appendChild(button);\n    }\n\n    if (buttonGroup.hasChildNodes()) {\n        toolbar.appendChild(buttonGroup);\n    }\n\n    // Add the status bar.\n    var status_bar = document.createElement('span');\n    status_bar.classList = 'mpl-message pull-right';\n    toolbar.appendChild(status_bar);\n    this.message = status_bar;\n\n    // Add the close button to the window.\n    var buttongrp = document.createElement('div');\n    buttongrp.classList = 'btn-group inline pull-right';\n    button = document.createElement('button');\n    button.classList = 'btn btn-mini btn-primary';\n    button.href = '#';\n    button.title = 'Stop Interaction';\n    button.innerHTML = '<i class=\"fa fa-power-off icon-remove icon-large\"></i>';\n    button.addEventListener('click', function (_evt) {\n        fig.handle_close(fig, {});\n    });\n    button.addEventListener(\n        'mouseover',\n        on_mouseover_closure('Stop Interaction')\n    );\n    buttongrp.appendChild(button);\n    var titlebar = this.root.querySelector('.ui-dialog-titlebar');\n    titlebar.insertBefore(buttongrp, titlebar.firstChild);\n};\n\nmpl.figure.prototype._remove_fig_handler = function (event) {\n    var fig = event.data.fig;\n    if (event.target !== this) {\n        // Ignore bubbled events from children.\n        return;\n    }\n    fig.close_ws(fig, {});\n};\n\nmpl.figure.prototype._root_extra_style = function (el) {\n    el.style.boxSizing = 'content-box'; // override notebook setting of border-box.\n};\n\nmpl.figure.prototype._canvas_extra_style = function (el) {\n    // this is important to make the div 'focusable\n    el.setAttribute('tabindex', 0);\n    // reach out to IPython and tell the keyboard manager to turn it's self\n    // off when our div gets focus\n\n    // location in version 3\n    if (IPython.notebook.keyboard_manager) {\n        IPython.notebook.keyboard_manager.register_events(el);\n    } else {\n        // location in version 2\n        IPython.keyboard_manager.register_events(el);\n    }\n};\n\nmpl.figure.prototype._key_event_extra = function (event, _name) {\n    // Check for shift+enter\n    if (event.shiftKey && event.which === 13) {\n        this.canvas_div.blur();\n        // select the cell after this one\n        var index = IPython.notebook.find_cell_index(this.cell_info[0]);\n        IPython.notebook.select(index + 1);\n    }\n};\n\nmpl.figure.prototype.handle_save = function (fig, _msg) {\n    fig.ondownload(fig, null);\n};\n\nmpl.find_output_cell = function (html_output) {\n    // Return the cell and output element which can be found *uniquely* in the notebook.\n    // Note - this is a bit hacky, but it is done because the \"notebook_saving.Notebook\"\n    // IPython event is triggered only after the cells have been serialised, which for\n    // our purposes (turning an active figure into a static one), is too late.\n    var cells = IPython.notebook.get_cells();\n    var ncells = cells.length;\n    for (var i = 0; i < ncells; i++) {\n        var cell = cells[i];\n        if (cell.cell_type === 'code') {\n            for (var j = 0; j < cell.output_area.outputs.length; j++) {\n                var data = cell.output_area.outputs[j];\n                if (data.data) {\n                    // IPython >= 3 moved mimebundle to data attribute of output\n                    data = data.data;\n                }\n                if (data['text/html'] === html_output) {\n                    return [cell, data, j];\n                }\n            }\n        }\n    }\n};\n\n// Register the function which deals with the matplotlib target/channel.\n// The kernel may be null if the page has been refreshed.\nif (IPython.notebook.kernel !== null) {\n    IPython.notebook.kernel.comm_manager.register_target(\n        'matplotlib',\n        mpl.mpl_figure_comm\n    );\n}\n"
     },
     "metadata": {},
     "output_type": "display_data"
    },
    {
     "data": {
      "text/plain": "<IPython.core.display.HTML object>",
      "text/html": "<div id='37e49adc-9e94-4fa5-a7cd-bf629d78781e'></div>"
     },
     "metadata": {},
     "output_type": "display_data"
    }
   ],
   "source": [
    "import numpy as np\n",
    "import matplotlib.pyplot as plt\n",
    "from mpl_toolkits.mplot3d import Axes3D\n",
    "\n",
    "def weak_perspective_error(radius, distance_from_surface):\n",
    "    # Average distance to the center of the sphere\n",
    "    Z_avg = distance_from_surface + radius\n",
    "\n",
    "    # Closest point (along z-axis)\n",
    "    Z_min = distance_from_surface\n",
    "\n",
    "    # Farthest point (along z-axis)\n",
    "    Z_max = Z_avg + radius\n",
    "\n",
    "    # Calculate relative error (as proportion of Z_avg)\n",
    "    relative_error_min = np.abs(Z_min - Z_avg) / Z_avg\n",
    "    relative_error_max = np.abs(Z_max - Z_avg) / Z_avg\n",
    "\n",
    "    # Calculate angular error based on depth deviation\n",
    "    # Use arctangent to convert depth differences to angular errors (in radians)\n",
    "    angular_error_min = np.arctan(relative_error_min)  # in radians\n",
    "    angular_error_max = np.arctan(relative_error_max)  # in radians\n",
    "\n",
    "    avg_angular_error = (angular_error_min + angular_error_max) / 2\n",
    "\n",
    "    return avg_angular_error\n",
    "\n",
    "\n",
    "def plot_error_surface(radius_list, distance_list):\n",
    "    # Create meshgrid for radius and distance\n",
    "    radius_grid, distance_grid = np.meshgrid(radius_list, distance_list)\n",
    "\n",
    "    # Calculate angular error for each combination of radius and distance\n",
    "    angular_error_grid = np.array([[weak_perspective_error(r, d) \n",
    "                                     for r in radius_list] \n",
    "                                     for d in distance_list])\n",
    "\n",
    "    # Convert angular error to degrees\n",
    "    angular_error_degrees = np.degrees(angular_error_grid)\n",
    "\n",
    "    # Create 3D plot\n",
    "    fig = plt.figure(figsize=(10, 7))\n",
    "    ax = fig.add_subplot(111, projection='3d')\n",
    "\n",
    "    # Plot the surface\n",
    "    surf = ax.plot_surface(radius_grid, distance_grid, angular_error_degrees, cmap='viridis', edgecolor='none')\n",
    "\n",
    "    # Set labels and title\n",
    "    ax.set_xlabel('Sphere Radius (mm)')\n",
    "    ax.set_ylabel('Distance from Surface (mm)')\n",
    "    ax.set_zlabel('Angular Error (Degrees)')\n",
    "    ax.set_title('Angular Error as a Function of Radius and Distance')\n",
    "\n",
    "    # Add color bar\n",
    "    fig.colorbar(surf, ax=ax, shrink=0.5, aspect=5)\n",
    "\n",
    "    # Enable rotation\n",
    "    ax.view_init(30, 45)  # Sets the initial view angle (optional)\n",
    "    plt.show()  # Make plot interactive and rotatable\n",
    "\n",
    "\n",
    "# Example usage\n",
    "radius_list = np.linspace(3, 6, 50)  # Radii in mm\n",
    "distance_list = np.linspace(10, 30.0, 50)  # Distances in mm\n",
    "\n",
    "plot_error_surface(radius_list, distance_list)\n"
   ],
   "metadata": {
    "collapsed": false,
    "ExecuteTime": {
     "end_time": "2024-10-22T12:10:17.743443900Z",
     "start_time": "2024-10-22T12:10:17.623413Z"
    }
   },
   "id": "7952c494a42c1df3",
   "execution_count": 149
  },
  {
   "cell_type": "code",
   "outputs": [],
   "source": [
    "import numpy as np\n",
    "import matplotlib.pyplot as plt\n",
    "\n",
    "def weak_perspective_error(radius, distance_from_surface):\n",
    "    # Average distance to the pupil\n",
    "    Z_avg = distance_from_surface + radius/2\n",
    "\n",
    "    # Closest point (along z-axis)\n",
    "    Z_min = distance_from_surface\n",
    "\n",
    "    # Farthest point (along z-axis)\n",
    "    Z_max = distance_from_surface + radius\n",
    "\n",
    "    # Calculate relative error (as proportion of Z_avg)\n",
    "    relative_error_max = np.abs(Z_max - Z_avg) / Z_avg\n",
    "\n",
    "    # Calculate angle based on depth deviation\n",
    "    angular_error_max = np.arctan(relative_error_max)  # in radians\n",
    "\n",
    "    avg_angular_error = (angular_error_max)\n",
    "\n",
    "    return avg_angular_error\n",
    "\n",
    "def plot_error_heatmap(radius_list, distance_list):\n",
    "    # Create meshgrid for radius and distance\n",
    "    radius_grid, distance_grid = np.meshgrid(radius_list, distance_list)\n",
    "\n",
    "    # Calculate angular error for each combination of radius and distance\n",
    "    angular_error_grid = np.array([[weak_perspective_error(r, d) \n",
    "                                     for r in radius_list] \n",
    "                                     for d in distance_list])\n",
    "\n",
    "    # Convert angular error to degrees\n",
    "    angular_error_degrees = np.degrees(angular_error_grid)\n",
    "\n",
    "    # Create 2D heatmap\n",
    "    plt.figure(figsize=(10, 6))\n",
    "    heatmap = plt.imshow(angular_error_degrees, extent=[radius_list.min(), radius_list.max(), distance_list.min(), distance_list.max()],\n",
    "                         origin='lower', aspect='auto', cmap='viridis')\n",
    "\n",
    "    # Set labels and title\n",
    "    plt.colorbar(heatmap, label='Angular Error (Degrees)')\n",
    "    plt.xlabel('Sphere Radius (mm)')\n",
    "    plt.ylabel('Distance from Surface (mm)')\n",
    "    plt.title('Angular Error Heatmap as a Function of Radius and Distance')\n",
    "\n",
    "    plt.show()  # Display the heatmap\n",
    "\n",
    "# Example usage\n",
    "radius_list = np.linspace(3, 6, 50)  # Radii in mm\n",
    "distance_list = np.linspace(10, 50.0, 50)  # Distances in mm\n",
    "\n",
    "plot_error_heatmap(radius_list, distance_list)\n"
   ],
   "metadata": {
    "collapsed": true,
    "ExecuteTime": {
     "end_time": "2024-10-21T15:59:35.511313Z",
     "start_time": "2024-10-21T15:59:34.292693200Z"
    }
   },
   "id": "initial_id",
   "execution_count": 1
  },
  {
   "cell_type": "code",
   "outputs": [],
   "source": [
    "import numpy as np\n",
    "import cv2\n",
    "from itertools import cycle\n",
    "import pickle\n",
    "import pathlib\n",
    "import math\n",
    "import tqdm\n",
    "from matplotlib import pyplot as plt\n",
    "import scipy.io\n",
    "import h5py\n",
    "import re\n",
    "from lxml import etree as ET\n",
    "import scipy.signal as sig\n",
    "import scipy.stats as stats\n",
    "import pandas as pd\n",
    "from BlockSync_current import BlockSync\n",
    "import UtilityFunctions_newOE as uf\n",
    "import bokeh\n",
    "import seaborn as sns\n",
    "import os"
   ],
   "metadata": {
    "collapsed": false,
    "ExecuteTime": {
     "end_time": "2024-11-22T16:30:01.799401900Z",
     "start_time": "2024-11-22T16:30:01.506339200Z"
    }
   },
   "id": "c920c89354b927ea",
   "execution_count": 1
  },
  {
   "cell_type": "code",
   "outputs": [],
   "source": [
    "def bokeh_plotter(data_list, x_axis_list=None, label_list=None, \n",
    "                  plot_name='default',\n",
    "                  x_axis_label='X', y_axis_label='Y',\n",
    "                  peaks=None, peaks_list=False, export_path=False):\n",
    "    \"\"\"Generates an interactive Bokeh plot for the given data vector.\n",
    "    Args:\n",
    "        data_list (list or array): The data to be plotted.\n",
    "        label_list (list of str): The labels of the data vectors\n",
    "        plot_name (str, optional): The title of the plot. Defaults to 'default'.\n",
    "        x_axis (str, optional): The label for the x-axis. Defaults to 'X'.\n",
    "        y_axis (str, optional): The label for the y-axis. Defaults to 'Y'.\n",
    "        peaks (list or array, optional): Indices of peaks to highlight on the plot. Defaults to None.\n",
    "        export_path (False or str): when set to str, will output the resulting html fig\n",
    "    \"\"\"\n",
    "    color_cycle = cycle(bokeh.palettes.Category10_10)\n",
    "    fig = bokeh.plotting.figure(title=f'bokeh explorer: {plot_name}',\n",
    "                                x_axis_label=x_axis_label,\n",
    "                                y_axis_label=y_axis_label,\n",
    "                                plot_width=1500,\n",
    "                                plot_height=700)\n",
    "\n",
    "    for i, data_vector in enumerate(data_list):\n",
    "        \n",
    "        color = next(color_cycle)\n",
    "        \n",
    "        if x_axis_list is None:\n",
    "            x_axis = range(len(data_vector))\n",
    "        elif len(x_axis_list) == len(data_list):\n",
    "            print('x_axis manually set')\n",
    "            x_axis = x_axis_list[i]\n",
    "        else:\n",
    "            raise Exception('problem with x_axis_list input - should be either None, or a list with the same length as data_list')\n",
    "        if label_list is None:\n",
    "            fig.line(x_axis, data_vector, line_color=color, legend_label=f\"Line {i+1}\")\n",
    "        elif len(label_list) == len(data_list):\n",
    "            fig.line(range(len(data_vector)), data_vector, line_color=color, legend_label=f\"{label_list[i]}\")\n",
    "        if peaks is not None and peaks_list is True:\n",
    "            fig.circle(peaks[i], data_vector[peaks[i]], size=10, color=color)\n",
    "\n",
    "    if peaks is not None and peaks_list is False:\n",
    "        fig.circle(peaks, data_vector[peaks], size=10, color='red')\n",
    "\n",
    "    if export_path is not False:\n",
    "        print(f'exporting to {export_path}')\n",
    "        bokeh.io.output.output_file(filename=str(export_path / f'{plot_name}.html'), title=f'{plot_name}')\n",
    "    bokeh.plotting.show(fig)\n",
    "    \n",
    "\n",
    "def load_eye_data_2d_w_rotation_matrix(block):\n",
    "    \"\"\"\n",
    "    This function checks if the eye dataframes and rotation dict object exist, then imports them\n",
    "    :param block: The current blocksync class with verifiec re/le dfs\n",
    "    :return: None\n",
    "    \"\"\"\n",
    "    try:\n",
    "        block.left_eye_data = pd.read_csv(block.analysis_path / 'left_eye_data.csv', index_col=0, engine='python')\n",
    "        block.right_eye_data = pd.read_csv(block.analysis_path / 'right_eye_data.csv', index_col=0, engine='python')\n",
    "    except FileNotFoundError:\n",
    "        print('eye_data files not found, run the pipeline!')\n",
    "        return\n",
    "    \n",
    "    try:\n",
    "        with open(block.analysis_path / 'rotate_eye_data_params.pkl', 'rb') as file:\n",
    "            rotation_dict = pickle.load(file)\n",
    "            block.left_rotation_matrix = rotation_dict['left_rotation_matrix']\n",
    "            block.right_rotation_matrix = rotation_dict['right_rotation_matrix']\n",
    "            block.left_rotation_angle = rotation_dict['left_rotation_angle']\n",
    "            block.right_rotation_angle = rotation_dict['right_rotation_angle']\n",
    "    except FileNotFoundError:\n",
    "        print('No rotation matrix file, create it')\n",
    "    \n",
    "    \n",
    "def create_saccade_events_df(eye_data_df, speed_threshold, bokeh_verify_threshold=False, magnitude_calib=1, speed_profile=True):    \n",
    "    \"\"\"\n",
    "    Detects saccade events in eye tracking data and computes relevant metrics.\n",
    "\n",
    "    Parameters:\n",
    "    - eye_data_df (pd.DataFrame): Input DataFrame containing eye tracking data.\n",
    "    - speed_threshold (float): Threshold for saccade detection based on speed.\n",
    "\n",
    "    Returns:\n",
    "    - df (pd.DataFrame): Modified input DataFrame with added columns for speed and saccade detection.\n",
    "    - saccade_events_df (pd.DataFrame): DataFrame containing information about detected saccade events.\n",
    "\n",
    "    Steps:\n",
    "    1. Calculate speed components ('speed_x', 'speed_y') based on differences in 'center_x' and 'center_y'.\n",
    "    2. Compute the magnitude of the velocity vector ('speed_r').\n",
    "    3. Create a binary column ('is_saccade') indicating saccade events based on the speed threshold.\n",
    "    4. Determine saccade onset and offset indices and timestamps.\n",
    "    5. Create a DataFrame ('saccade_events_df') with columns:\n",
    "        - 'saccade_start_ind': Indices of saccade onset.\n",
    "        - 'saccade_start_timestamp': Timestamps corresponding to saccade onset.\n",
    "        - 'saccade_end_ind': Indices of saccade offset.\n",
    "        - 'saccade_end_timestamp': Timestamps corresponding to saccade offset.\n",
    "        - 'length': Duration of each saccade event.\n",
    "    6. Calculate distance traveled and angles for each saccade event.\n",
    "    7. Append additional columns to 'saccade_events_df':\n",
    "        - 'magnitude': Magnitude of the distance traveled during each saccade.\n",
    "        - 'angle': Angle of the saccade vector in degrees.\n",
    "        - 'initial_x', 'initial_y': Initial coordinates of the saccade.\n",
    "        - 'end_x', 'end_y': End coordinates of the saccade.\n",
    "\n",
    "    Note: The original 'eye_data_df' is not modified; modified data is returned as 'df'.\n",
    "    \"\"\"\n",
    "    df = eye_data_df\n",
    "    df['speed_x'] = df['center_x'].diff()  # Difference between consecutive 'center_x' values\n",
    "    df['speed_y'] = df['center_y'].diff()  # Difference between consecutive 'center_y' values\n",
    "    \n",
    "    # Step 2: Calculate magnitude of the velocity vector (R vector speed)\n",
    "    df['speed_r'] = (df['speed_x']**2 + df['speed_y']**2)**0.5\n",
    "    \n",
    "    # Create a column for saccade detection\n",
    "    df['is_saccade'] = df['speed_r'] > speed_threshold\n",
    "    \n",
    "    # create a saccade_on_off indicator where 1 is rising edge and -1 is falling edge by subtracting a shifted binary mask\n",
    "    saccade_on_off = df.is_saccade.astype(int) - df.is_saccade.shift(periods=1,fill_value=False).astype(int)\n",
    "    saccade_on_inds = np.where(saccade_on_off == 1)[0] - 1 # notice the manual shift here, chosen to include the first (sometimes slower) eye frame, just before saccade threshold crossing\n",
    "    saccade_on_ms = df['ms_axis'].iloc[saccade_on_inds]\n",
    "    saccade_on_timestamps = df['OE_timestamp'].iloc[saccade_on_inds]\n",
    "    saccade_off_inds = np.where(saccade_on_off == -1)[0]\n",
    "    saccade_off_timestamps = df['OE_timestamp'].iloc[saccade_off_inds]\n",
    "    saccade_off_ms = df['ms_axis'].iloc[saccade_off_inds]\n",
    "    \n",
    "    saccade_dict = {'saccade_start_ind' :  saccade_on_inds ,\n",
    "                    'saccade_start_timestamp': saccade_on_timestamps.values,\n",
    "                    'saccade_end_ind':      saccade_off_inds,\n",
    "                    'saccade_end_timestamp':saccade_off_timestamps.values,\n",
    "                    'saccade_on_ms': saccade_on_ms.values,\n",
    "                    'saccade_off_ms': saccade_off_ms.values}\n",
    "    \n",
    "    saccade_events_df = pd.DataFrame.from_dict(saccade_dict)\n",
    "    saccade_events_df['length'] = saccade_events_df['saccade_end_ind'] - saccade_events_df['saccade_start_ind']\n",
    "    # Drop columns used for intermediate steps\n",
    "    df = df.drop(['is_saccade'], axis=1)\n",
    "    \n",
    "    distances = []\n",
    "    angles = []\n",
    "    speed_list = []\n",
    "    diameter_list = []\n",
    "    for index, row in tqdm.tqdm(saccade_events_df.iterrows()):\n",
    "        saccade_samples = df.loc[(df['OE_timestamp'] >= row['saccade_start_timestamp']) & \n",
    "                                 (df['OE_timestamp'] <= row['saccade_end_timestamp'])]\n",
    "        distance_traveled = saccade_samples['speed_r'].sum()\n",
    "        if speed_profile:\n",
    "            saccade_speed_profile = saccade_samples['speed_r'].values\n",
    "            speed_list.append(saccade_speed_profile)\n",
    "        saccade_diameter_profile = saccade_samples['pupil_diameter'].values\n",
    "        diameter_list.append(saccade_diameter_profile)\n",
    "        # Calculate angle from initial position to endpoint\n",
    "        initial_position = saccade_samples.iloc[0][['center_x', 'center_y']]\n",
    "        endpoint = saccade_samples.iloc[-1][['center_x', 'center_y']]\n",
    "        overall_angle = np.arctan2(endpoint['center_y'] - initial_position['center_y'],\n",
    "                           endpoint['center_x'] - initial_position['center_x'])\n",
    "        \n",
    "        angles.append(overall_angle)  \n",
    "        distances.append(distance_traveled)\n",
    "        \n",
    "        \n",
    "    \n",
    "    saccade_events_df['magnitude_raw'] = np.array(distances)\n",
    "    saccade_events_df['magnitude'] = np.array(distances) * magnitude_calib\n",
    "    saccade_events_df['angle'] = np.where(np.isnan(angles), angles, np.rad2deg(angles) % 360) # Convert radians to degrees and ensure result is in [0, 360)\n",
    "    start_ts = saccade_events_df['saccade_start_timestamp'].values\n",
    "    end_ts = saccade_events_df['saccade_end_timestamp'].values\n",
    "    saccade_start_df = df[df['OE_timestamp'].isin(start_ts)]\n",
    "    saccade_end_df = df[df['OE_timestamp'].isin(end_ts)]\n",
    "    start_x_coord = saccade_start_df['center_x']\n",
    "    start_y_coord = saccade_start_df['center_y']\n",
    "    end_x_coord = saccade_end_df['center_x']\n",
    "    end_y_coord = saccade_end_df['center_y']\n",
    "    saccade_events_df['initial_x'] = start_x_coord.values\n",
    "    saccade_events_df['initial_y'] = start_y_coord.values\n",
    "    saccade_events_df['end_x'] = end_x_coord.values\n",
    "    saccade_events_df['end_y'] = end_y_coord.values\n",
    "    saccade_events_df['calib_dx'] = (saccade_events_df['end_x'].values - saccade_events_df['initial_x'].values) * magnitude_calib\n",
    "    saccade_events_df['calib_dy'] = (saccade_events_df['end_y'].values - saccade_events_df['initial_y'].values) * magnitude_calib\n",
    "    if speed_profile:\n",
    "        saccade_events_df['speed_profile'] = speed_list\n",
    "    saccade_events_df['diameter_profile'] = diameter_list\n",
    "    if bokeh_verify_threshold:\n",
    "        bokeh_plotter(data_list=[df.speed_r], label_list=['Pupil Velocity'], peaks=saccade_on_inds)\n",
    "        \n",
    "    return df, saccade_events_df\n",
    "\n"
   ],
   "metadata": {
    "collapsed": false,
    "ExecuteTime": {
     "end_time": "2024-11-22T16:30:01.831400700Z",
     "start_time": "2024-11-22T16:30:01.798401800Z"
    }
   },
   "id": "e4fd273763ca463c",
   "execution_count": 2
  },
  {
   "cell_type": "code",
   "outputs": [
    {
     "name": "stdout",
     "output_type": "stream",
     "text": [
      "instantiated block number 026 at Path: Z:\\Nimrod\\experiments\\PV_62\\2023_04_27\\block_026, new OE version\n",
      "Found the sample rate for block 026 in the xml file, it is 20000 Hz\n",
      "created the .oe_rec attribute as an open ephys recording obj with get_data functionality\n",
      "retrieving zertoh sample number for block 026\n",
      "got it!\n"
     ]
    }
   ],
   "source": [
    "# define a single block to figure things out with:\n",
    "# this step creates block_collection - a list of BlockSync objects of interest\n",
    "#block_numbers = range(40,60)\n",
    "#block_numbers = [12,34, 25, 70] # PV24\n",
    "#block_numbers = [7,8,9,10,11,13] #pv 126\n",
    "block_numbers = [26]\n",
    "#block_numbers = [23,24,25,26,27,35,38,39,40,41] # pv 62\n",
    "#bad_blocks = [42, 61, 62, 64, 65, 66] # True for PV_62\n",
    "bad_blocks = [0]\n",
    "experiment_path = pathlib.Path(r\"Z:\\Nimrod\\experiments\")\n",
    "animal = 'PV_62'\n",
    "block_collection = uf.block_generator(block_numbers=block_numbers,\n",
    "                                      experiment_path=experiment_path,\n",
    "                                      animal=animal,\n",
    "                                      bad_blocks=bad_blocks)\n",
    "# create a block_dict object for ease of access:\n",
    "block_dict = {}\n",
    "for b in block_collection:\n",
    "    block_dict[str(b.block_num)] = b"
   ],
   "metadata": {
    "collapsed": false,
    "ExecuteTime": {
     "end_time": "2024-11-22T16:30:02.091438900Z",
     "start_time": "2024-11-22T16:30:01.829402500Z"
    }
   },
   "id": "342726d329f8b20e",
   "execution_count": 3
  },
  {
   "cell_type": "code",
   "outputs": [
    {
     "name": "stdout",
     "output_type": "stream",
     "text": [
      "running parse_open_ephys_events...\n",
      "block 026 has a parsed events file, reading...\n",
      "getting eye brigtness values for block 026...\n",
      "found a file!\n",
      "blocksync_df loaded from analysis folder\n",
      "eye_brightness_df loaded from analysis folder\n",
      "eye dataframes loaded from analysis folder\n",
      "got the calibration values from the analysis folder\n"
     ]
    }
   ],
   "source": [
    "for block in block_collection:\n",
    "    block.parse_open_ephys_events()\n",
    "    block.get_eye_brightness_vectors()\n",
    "    block.synchronize_block()\n",
    "    block.create_eye_brightness_df(threshold_value=20)\n",
    "\n",
    "    # if the code fails here, go to manual synchronization\n",
    "    block.import_manual_sync_df()\n",
    "    block.read_dlc_data()\n",
    "    block.calibrate_pixel_size(10)\n",
    "    load_eye_data_2d_w_rotation_matrix(block) #should be integrated again... later\n",
    "    "
   ],
   "metadata": {
    "collapsed": false,
    "ExecuteTime": {
     "end_time": "2024-11-22T16:30:05.845250200Z",
     "start_time": "2024-11-22T16:30:02.059400200Z"
    }
   },
   "id": "6445dba3d03df8d6",
   "execution_count": 4
  },
  {
   "cell_type": "code",
   "outputs": [
    {
     "name": "stdout",
     "output_type": "stream",
     "text": [
      "PV_62, block 026, on 2023-04-27_12-21-41\n"
     ]
    },
    {
     "name": "stderr",
     "output_type": "stream",
     "text": [
      "C:\\Users\\MarkS3\\PycharmProjects\\pythonProject3\\BlockSync_current.py:2640: RuntimeWarning: All-NaN axis encountered\n",
      "  df['major_ax'] = np.nanmax(df[['width', 'height']], axis=1)\n",
      "C:\\Users\\MarkS3\\PycharmProjects\\pythonProject3\\BlockSync_current.py:2641: RuntimeWarning: All-NaN axis encountered\n",
      "  df['minor_ax'] = np.nanmin(df[['width', 'height']], axis=1)\n"
     ]
    }
   ],
   "source": [
    "for block in block_collection:\n",
    "    print(block)\n",
    "    # get major and minor columns:\n",
    "    block.left_eye_data = block.get_maj_min_axes(block.left_eye_data)\n",
    "    block.right_eye_data = block.get_maj_min_axes(block.right_eye_data)"
   ],
   "metadata": {
    "collapsed": false,
    "ExecuteTime": {
     "end_time": "2024-11-22T16:30:05.902238900Z",
     "start_time": "2024-11-22T16:30:05.847214300Z"
    }
   },
   "id": "cbdd1e36e4093c66",
   "execution_count": 5
  },
  {
   "cell_type": "markdown",
   "source": [
    "# pixel size calibration"
   ],
   "metadata": {
    "collapsed": false
   },
   "id": "b801cb37d87d3cec"
  },
  {
   "cell_type": "code",
   "outputs": [
    {
     "name": "stdout",
     "output_type": "stream",
     "text": [
      "Working on PV_62, block 023, on 2023-04-27_10-52-42\n"
     ]
    },
    {
     "name": "stderr",
     "output_type": "stream",
     "text": [
      "c:\\users\\marks3\\pycharmprojects\\pythonproject3\\venv\\lib\\site-packages\\IPython\\core\\interactiveshell.py:3146: DtypeWarning: Columns (0,1,2,3,4,5,6,7,8,9,10,11,12,13,14,15,16,17,18,19,20,21,22,23,24,25,26,27,28,29,30) have mixed types.Specify dtype option on import or set low_memory=False.\n",
      "  has_raised = await self.run_ast_nodes(code_ast.body, cell_name,\n",
      "100%|██████████| 97327/97327 [00:17<00:00, 5605.81it/s]\n",
      "C:\\Users\\MarkS3\\AppData\\Local\\Programs\\Python\\Python38\\lib\\site-packages\\scipy\\stats\\morestats.py:1681: UserWarning: p-value may not be accurate for N > 5000.\n",
      "  warnings.warn(\"p-value may not be accurate for N > 5000.\")\n"
     ]
    },
    {
     "name": "stdout",
     "output_type": "stream",
     "text": [
      "\n",
      "Ellipses calculation complete\n",
      "Working on the right eye\n"
     ]
    },
    {
     "name": "stderr",
     "output_type": "stream",
     "text": [
      "c:\\users\\marks3\\pycharmprojects\\pythonproject3\\venv\\lib\\site-packages\\IPython\\core\\interactiveshell.py:3146: DtypeWarning: Columns (0,1,2,3,4,5,6,7,8,9,10,11,12,13,14,15,16,17,18,19,20,21,22,23,24,25,26,27,28,29,30) have mixed types.Specify dtype option on import or set low_memory=False.\n",
      "  has_raised = await self.run_ast_nodes(code_ast.body, cell_name,\n",
      "100%|██████████| 97329/97329 [00:17<00:00, 5548.44it/s]\n",
      "C:\\Users\\MarkS3\\AppData\\Local\\Programs\\Python\\Python38\\lib\\site-packages\\scipy\\stats\\morestats.py:1681: UserWarning: p-value may not be accurate for N > 5000.\n",
      "  warnings.warn(\"p-value may not be accurate for N > 5000.\")\n"
     ]
    },
    {
     "name": "stdout",
     "output_type": "stream",
     "text": [
      "Shapiro-Wilk Test: Statistic=0.9905700087547302, p-value=0.0\n",
      "Kolmogorov-Smirnov Test: Statistic=0.01825237512447042, p-value=7.82523861002739e-27\n",
      "Median Distance: 188.7885736307406\n",
      "IQR Distance: 7.09907460928423\n",
      "\n",
      "Ellipses calculation complete\n",
      "Working on the left eye\n",
      "Shapiro-Wilk Test: Statistic=0.9695482850074768, p-value=0.0\n",
      "Kolmogorov-Smirnov Test: Statistic=0.07059646212432702, p-value=0.0\n",
      "Median Distance: 173.80299589396697\n",
      "IQR Distance: 10.482427726217821\n",
      "Working on PV_62, block 024, on 2023-04-27_11-22-56\n"
     ]
    },
    {
     "name": "stderr",
     "output_type": "stream",
     "text": [
      "c:\\users\\marks3\\pycharmprojects\\pythonproject3\\venv\\lib\\site-packages\\IPython\\core\\interactiveshell.py:3146: DtypeWarning: Columns (0,1,2,3,4,5,6,7,8,9,10,11,12,13,14,15,16,17,18,19,20,21,22,23,24,25,26,27,28,29,30) have mixed types.Specify dtype option on import or set low_memory=False.\n",
      "  has_raised = await self.run_ast_nodes(code_ast.body, cell_name,\n",
      "100%|██████████| 95743/95743 [00:17<00:00, 5567.12it/s]\n",
      "C:\\Users\\MarkS3\\AppData\\Local\\Programs\\Python\\Python38\\lib\\site-packages\\scipy\\stats\\morestats.py:1681: UserWarning: p-value may not be accurate for N > 5000.\n",
      "  warnings.warn(\"p-value may not be accurate for N > 5000.\")\n"
     ]
    },
    {
     "name": "stdout",
     "output_type": "stream",
     "text": [
      "\n",
      "Ellipses calculation complete\n",
      "Working on the right eye\n"
     ]
    },
    {
     "name": "stderr",
     "output_type": "stream",
     "text": [
      "c:\\users\\marks3\\pycharmprojects\\pythonproject3\\venv\\lib\\site-packages\\IPython\\core\\interactiveshell.py:3146: DtypeWarning: Columns (0,1,2,3,4,5,6,7,8,9,10,11,12,13,14,15,16,17,18,19,20,21,22,23,24,25,26,27,28,29,30) have mixed types.Specify dtype option on import or set low_memory=False.\n",
      "  has_raised = await self.run_ast_nodes(code_ast.body, cell_name,\n",
      "100%|██████████| 95742/95742 [00:17<00:00, 5499.74it/s]\n",
      "C:\\Users\\MarkS3\\AppData\\Local\\Programs\\Python\\Python38\\lib\\site-packages\\scipy\\stats\\morestats.py:1681: UserWarning: p-value may not be accurate for N > 5000.\n",
      "  warnings.warn(\"p-value may not be accurate for N > 5000.\")\n"
     ]
    },
    {
     "name": "stdout",
     "output_type": "stream",
     "text": [
      "Shapiro-Wilk Test: Statistic=0.9918633103370667, p-value=0.0\n",
      "Kolmogorov-Smirnov Test: Statistic=0.021221625169112857, p-value=2.3636947843734854e-35\n",
      "Median Distance: 189.2123839081111\n",
      "IQR Distance: 6.513502288448365\n",
      "\n",
      "Ellipses calculation complete\n",
      "Working on the left eye\n",
      "Shapiro-Wilk Test: Statistic=0.9556202292442322, p-value=0.0\n",
      "Kolmogorov-Smirnov Test: Statistic=0.09368136343590111, p-value=0.0\n",
      "Median Distance: 177.2764923716812\n",
      "IQR Distance: 16.86535061976656\n",
      "Working on PV_62, block 025, on 2023-04-27_11-52-05\n"
     ]
    },
    {
     "name": "stderr",
     "output_type": "stream",
     "text": [
      "c:\\users\\marks3\\pycharmprojects\\pythonproject3\\venv\\lib\\site-packages\\IPython\\core\\interactiveshell.py:3146: DtypeWarning: Columns (0,1,2,3,4,5,6,7,8,9,10,11,12,13,14,15,16,17,18,19,20,21,22,23,24,25,26,27,28,29,30) have mixed types.Specify dtype option on import or set low_memory=False.\n",
      "  has_raised = await self.run_ast_nodes(code_ast.body, cell_name,\n",
      "100%|██████████| 96568/96568 [00:17<00:00, 5639.81it/s]\n",
      "C:\\Users\\MarkS3\\AppData\\Local\\Programs\\Python\\Python38\\lib\\site-packages\\scipy\\stats\\morestats.py:1681: UserWarning: p-value may not be accurate for N > 5000.\n",
      "  warnings.warn(\"p-value may not be accurate for N > 5000.\")\n"
     ]
    },
    {
     "name": "stdout",
     "output_type": "stream",
     "text": [
      "\n",
      "Ellipses calculation complete\n",
      "Working on the right eye\n"
     ]
    },
    {
     "name": "stderr",
     "output_type": "stream",
     "text": [
      "c:\\users\\marks3\\pycharmprojects\\pythonproject3\\venv\\lib\\site-packages\\IPython\\core\\interactiveshell.py:3146: DtypeWarning: Columns (0,1,2,3,4,5,6,7,8,9,10,11,12,13,14,15,16,17,18,19,20,21,22,23,24,25,26,27,28,29,30) have mixed types.Specify dtype option on import or set low_memory=False.\n",
      "  has_raised = await self.run_ast_nodes(code_ast.body, cell_name,\n",
      "100%|██████████| 96576/96576 [00:17<00:00, 5586.55it/s]\n",
      "C:\\Users\\MarkS3\\AppData\\Local\\Programs\\Python\\Python38\\lib\\site-packages\\scipy\\stats\\morestats.py:1681: UserWarning: p-value may not be accurate for N > 5000.\n",
      "  warnings.warn(\"p-value may not be accurate for N > 5000.\")\n"
     ]
    },
    {
     "name": "stdout",
     "output_type": "stream",
     "text": [
      "Shapiro-Wilk Test: Statistic=0.9887335300445557, p-value=0.0\n",
      "Kolmogorov-Smirnov Test: Statistic=0.03284161143299391, p-value=7.991201519722846e-89\n",
      "Median Distance: 188.3822911740869\n",
      "IQR Distance: 6.8593146895370865\n",
      "\n",
      "Ellipses calculation complete\n",
      "Working on the left eye\n",
      "Shapiro-Wilk Test: Statistic=0.9494845867156982, p-value=0.0\n",
      "Kolmogorov-Smirnov Test: Statistic=0.0820027479742455, p-value=0.0\n",
      "Median Distance: 177.32252019229787\n",
      "IQR Distance: 12.570833247600802\n",
      "Working on PV_62, block 026, on 2023-04-27_12-21-41\n"
     ]
    },
    {
     "name": "stderr",
     "output_type": "stream",
     "text": [
      "c:\\users\\marks3\\pycharmprojects\\pythonproject3\\venv\\lib\\site-packages\\IPython\\core\\interactiveshell.py:3146: DtypeWarning: Columns (0,1,2,3,4,5,6,7,8,9,10,11,12,13,14,15,16,17,18,19,20,21,22,23,24,25,26,27,28,29,30) have mixed types.Specify dtype option on import or set low_memory=False.\n",
      "  has_raised = await self.run_ast_nodes(code_ast.body, cell_name,\n",
      "100%|██████████| 107638/107638 [00:19<00:00, 5586.34it/s]\n",
      "C:\\Users\\MarkS3\\AppData\\Local\\Programs\\Python\\Python38\\lib\\site-packages\\scipy\\stats\\morestats.py:1681: UserWarning: p-value may not be accurate for N > 5000.\n",
      "  warnings.warn(\"p-value may not be accurate for N > 5000.\")\n"
     ]
    },
    {
     "name": "stdout",
     "output_type": "stream",
     "text": [
      "\n",
      "Ellipses calculation complete\n",
      "Working on the right eye\n",
      "Shapiro-Wilk Test: Statistic=0.991834819316864, p-value=0.0\n",
      "Kolmogorov-Smirnov Test: Statistic=0.018523543658755193, p-value=1.902249867042911e-30\n",
      "Median Distance: 190.7805660516093\n",
      "IQR Distance: 5.4654314019092\n"
     ]
    },
    {
     "name": "stderr",
     "output_type": "stream",
     "text": [
      "c:\\users\\marks3\\pycharmprojects\\pythonproject3\\venv\\lib\\site-packages\\IPython\\core\\interactiveshell.py:3146: DtypeWarning: Columns (0,1,2,3,4,5,6,7,8,9,10,11,12,13,14,15,16,17,18,19,20,21,22,23,24,25,26,27,28,29,30) have mixed types.Specify dtype option on import or set low_memory=False.\n",
      "  has_raised = await self.run_ast_nodes(code_ast.body, cell_name,\n",
      "100%|██████████| 107640/107640 [00:19<00:00, 5559.45it/s]\n",
      "C:\\Users\\MarkS3\\AppData\\Local\\Programs\\Python\\Python38\\lib\\site-packages\\scipy\\stats\\morestats.py:1681: UserWarning: p-value may not be accurate for N > 5000.\n",
      "  warnings.warn(\"p-value may not be accurate for N > 5000.\")\n"
     ]
    },
    {
     "name": "stdout",
     "output_type": "stream",
     "text": [
      "\n",
      "Ellipses calculation complete\n",
      "Working on the left eye\n"
     ]
    },
    {
     "name": "stderr",
     "output_type": "stream",
     "text": [
      "c:\\users\\marks3\\pycharmprojects\\pythonproject3\\venv\\lib\\site-packages\\IPython\\core\\interactiveshell.py:3146: DtypeWarning: Columns (0,1,2,3,4,5,6,7,8,9,10,11,12,13,14,15,16,17,18,19,20,21,22,23,24,25,26,27,28,29,30) have mixed types.Specify dtype option on import or set low_memory=False.\n",
      "  has_raised = await self.run_ast_nodes(code_ast.body, cell_name,\n",
      "100%|██████████| 91389/91389 [00:16<00:00, 5451.68it/s]\n",
      "C:\\Users\\MarkS3\\AppData\\Local\\Programs\\Python\\Python38\\lib\\site-packages\\scipy\\stats\\morestats.py:1681: UserWarning: p-value may not be accurate for N > 5000.\n",
      "  warnings.warn(\"p-value may not be accurate for N > 5000.\")\n"
     ]
    },
    {
     "name": "stdout",
     "output_type": "stream",
     "text": [
      "Shapiro-Wilk Test: Statistic=0.973686158657074, p-value=0.0\n",
      "Kolmogorov-Smirnov Test: Statistic=0.05379514937344548, p-value=2.0555954543915196e-267\n",
      "Median Distance: 180.72575936032234\n",
      "IQR Distance: 16.261037660159275\n",
      "Working on PV_62, block 027, on 2023-04-27_12-53-31\n",
      "\n",
      "Ellipses calculation complete\n",
      "Working on the right eye\n",
      "Shapiro-Wilk Test: Statistic=0.9856013059616089, p-value=0.0\n",
      "Kolmogorov-Smirnov Test: Statistic=0.04285556798085166, p-value=8.862955221786119e-140\n",
      "Median Distance: 187.68104903311806\n",
      "IQR Distance: 6.114231360765558\n"
     ]
    },
    {
     "name": "stderr",
     "output_type": "stream",
     "text": [
      "c:\\users\\marks3\\pycharmprojects\\pythonproject3\\venv\\lib\\site-packages\\IPython\\core\\interactiveshell.py:3146: DtypeWarning: Columns (0,1,2,3,4,5,6,7,8,9,10,11,12,13,14,15,16,17,18,19,20,21,22,23,24,25,26,27,28,29,30) have mixed types.Specify dtype option on import or set low_memory=False.\n",
      "  has_raised = await self.run_ast_nodes(code_ast.body, cell_name,\n",
      "100%|██████████| 91388/91388 [00:16<00:00, 5633.56it/s]\n",
      "C:\\Users\\MarkS3\\AppData\\Local\\Programs\\Python\\Python38\\lib\\site-packages\\scipy\\stats\\morestats.py:1681: UserWarning: p-value may not be accurate for N > 5000.\n",
      "  warnings.warn(\"p-value may not be accurate for N > 5000.\")\n"
     ]
    },
    {
     "name": "stdout",
     "output_type": "stream",
     "text": [
      "\n",
      "Ellipses calculation complete\n",
      "Working on the left eye\n",
      "Shapiro-Wilk Test: Statistic=0.9605831503868103, p-value=0.0\n",
      "Kolmogorov-Smirnov Test: Statistic=0.07720443736587573, p-value=0.0\n",
      "Median Distance: 183.98369179740865\n",
      "IQR Distance: 19.858679980591575\n",
      "Working on PV_62, block 035, on 2023-04-30_11-44-30\n"
     ]
    },
    {
     "name": "stderr",
     "output_type": "stream",
     "text": [
      "c:\\users\\marks3\\pycharmprojects\\pythonproject3\\venv\\lib\\site-packages\\IPython\\core\\interactiveshell.py:3146: DtypeWarning: Columns (0,1,2,3,4,5,6,7,8,9,10,11,12,13,14,15,16,17,18,19,20,21,22,23,24,25,26,27,28,29,30) have mixed types.Specify dtype option on import or set low_memory=False.\n",
      "  has_raised = await self.run_ast_nodes(code_ast.body, cell_name,\n",
      "100%|██████████| 183880/183880 [00:33<00:00, 5564.51it/s]\n"
     ]
    },
    {
     "name": "stdout",
     "output_type": "stream",
     "text": [
      "\n",
      "Ellipses calculation complete\n",
      "Working on the right eye\n"
     ]
    },
    {
     "name": "stderr",
     "output_type": "stream",
     "text": [
      "C:\\Users\\MarkS3\\AppData\\Local\\Programs\\Python\\Python38\\lib\\site-packages\\scipy\\stats\\morestats.py:1681: UserWarning: p-value may not be accurate for N > 5000.\n",
      "  warnings.warn(\"p-value may not be accurate for N > 5000.\")\n"
     ]
    },
    {
     "name": "stdout",
     "output_type": "stream",
     "text": [
      "Shapiro-Wilk Test: Statistic=0.9929254651069641, p-value=0.0\n",
      "Kolmogorov-Smirnov Test: Statistic=0.02050706446538314, p-value=2.7586118254209074e-61\n",
      "Median Distance: 190.09148619771045\n",
      "IQR Distance: 4.740509962016034\n"
     ]
    },
    {
     "name": "stderr",
     "output_type": "stream",
     "text": [
      "c:\\users\\marks3\\pycharmprojects\\pythonproject3\\venv\\lib\\site-packages\\IPython\\core\\interactiveshell.py:3146: DtypeWarning: Columns (0,1,2,3,4,5,6,7,8,9,10,11,12,13,14,15,16,17,18,19,20,21,22,23,24,25,26,27,28,29,30) have mixed types.Specify dtype option on import or set low_memory=False.\n",
      "  has_raised = await self.run_ast_nodes(code_ast.body, cell_name,\n",
      "100%|██████████| 183879/183879 [00:32<00:00, 5591.36it/s]\n",
      "C:\\Users\\MarkS3\\AppData\\Local\\Programs\\Python\\Python38\\lib\\site-packages\\scipy\\stats\\morestats.py:1681: UserWarning: p-value may not be accurate for N > 5000.\n",
      "  warnings.warn(\"p-value may not be accurate for N > 5000.\")\n"
     ]
    },
    {
     "name": "stdout",
     "output_type": "stream",
     "text": [
      "\n",
      "Ellipses calculation complete\n",
      "Working on the left eye\n",
      "Shapiro-Wilk Test: Statistic=0.9417799711227417, p-value=0.0\n",
      "Kolmogorov-Smirnov Test: Statistic=0.11305762342039094, p-value=0.0\n",
      "Median Distance: 176.05555717013644\n",
      "IQR Distance: 25.212749130999725\n",
      "Working on PV_62, block 038, on 2023-05-01_13-57-45\n"
     ]
    },
    {
     "name": "stderr",
     "output_type": "stream",
     "text": [
      "c:\\users\\marks3\\pycharmprojects\\pythonproject3\\venv\\lib\\site-packages\\IPython\\core\\interactiveshell.py:3146: DtypeWarning: Columns (0,1,2,3,4,5,6,7,8,9,10,11,12,13,14,15,16,17,18,19,20,21,22,23,24,25,26,27,28,29,30) have mixed types.Specify dtype option on import or set low_memory=False.\n",
      "  has_raised = await self.run_ast_nodes(code_ast.body, cell_name,\n",
      "100%|██████████| 160085/160085 [00:29<00:00, 5399.47it/s]\n"
     ]
    },
    {
     "name": "stdout",
     "output_type": "stream",
     "text": [
      "\n",
      "Ellipses calculation complete\n",
      "Working on the right eye\n"
     ]
    },
    {
     "name": "stderr",
     "output_type": "stream",
     "text": [
      "C:\\Users\\MarkS3\\AppData\\Local\\Programs\\Python\\Python38\\lib\\site-packages\\scipy\\stats\\morestats.py:1681: UserWarning: p-value may not be accurate for N > 5000.\n",
      "  warnings.warn(\"p-value may not be accurate for N > 5000.\")\n"
     ]
    },
    {
     "name": "stdout",
     "output_type": "stream",
     "text": [
      "Shapiro-Wilk Test: Statistic=0.9910035133361816, p-value=0.0\n",
      "Kolmogorov-Smirnov Test: Statistic=0.031365005560207826, p-value=3.141543815890507e-128\n",
      "Median Distance: 181.68295480688457\n",
      "IQR Distance: 6.906849881145035\n"
     ]
    },
    {
     "name": "stderr",
     "output_type": "stream",
     "text": [
      "c:\\users\\marks3\\pycharmprojects\\pythonproject3\\venv\\lib\\site-packages\\IPython\\core\\interactiveshell.py:3146: DtypeWarning: Columns (0,1,2,3,4,5,6,7,8,9,10,11,12,13,14,15,16,17,18,19,20,21,22,23,24,25,26,27,28,29,30) have mixed types.Specify dtype option on import or set low_memory=False.\n",
      "  has_raised = await self.run_ast_nodes(code_ast.body, cell_name,\n",
      "100%|██████████| 160085/160085 [00:28<00:00, 5554.34it/s]\n"
     ]
    },
    {
     "name": "stdout",
     "output_type": "stream",
     "text": [
      "\n",
      "Ellipses calculation complete\n",
      "Working on the left eye\n",
      "Shapiro-Wilk Test: Statistic=0.9219356775283813, p-value=0.0\n",
      "Kolmogorov-Smirnov Test: Statistic=0.14005197371641254, p-value=0.0\n",
      "Median Distance: 169.35741315140626\n",
      "IQR Distance: 19.991051156073098\n",
      "Working on PV_62, block 039, on 2023-05-01_14-44-23\n"
     ]
    },
    {
     "name": "stderr",
     "output_type": "stream",
     "text": [
      "C:\\Users\\MarkS3\\AppData\\Local\\Programs\\Python\\Python38\\lib\\site-packages\\scipy\\stats\\morestats.py:1681: UserWarning: p-value may not be accurate for N > 5000.\n",
      "  warnings.warn(\"p-value may not be accurate for N > 5000.\")\n",
      "c:\\users\\marks3\\pycharmprojects\\pythonproject3\\venv\\lib\\site-packages\\IPython\\core\\interactiveshell.py:3146: DtypeWarning: Columns (0,1,2,3,4,5,6,7,8,9,10,11,12,13,14,15,16,17,18,19,20,21,22,23,24,25,26,27,28,29,30) have mixed types.Specify dtype option on import or set low_memory=False.\n",
      "  has_raised = await self.run_ast_nodes(code_ast.body, cell_name,\n",
      "100%|██████████| 220061/220061 [00:39<00:00, 5614.67it/s]\n"
     ]
    },
    {
     "name": "stdout",
     "output_type": "stream",
     "text": [
      "\n",
      "Ellipses calculation complete\n",
      "Working on the right eye\n"
     ]
    },
    {
     "name": "stderr",
     "output_type": "stream",
     "text": [
      "C:\\Users\\MarkS3\\AppData\\Local\\Programs\\Python\\Python38\\lib\\site-packages\\scipy\\stats\\morestats.py:1681: UserWarning: p-value may not be accurate for N > 5000.\n",
      "  warnings.warn(\"p-value may not be accurate for N > 5000.\")\n"
     ]
    },
    {
     "name": "stdout",
     "output_type": "stream",
     "text": [
      "Shapiro-Wilk Test: Statistic=0.9912633895874023, p-value=0.0\n",
      "Kolmogorov-Smirnov Test: Statistic=0.022114088834509493, p-value=9.382757607402909e-89\n",
      "Median Distance: 181.61817322199568\n",
      "IQR Distance: 6.738980978464014\n"
     ]
    },
    {
     "name": "stderr",
     "output_type": "stream",
     "text": [
      "c:\\users\\marks3\\pycharmprojects\\pythonproject3\\venv\\lib\\site-packages\\IPython\\core\\interactiveshell.py:3146: DtypeWarning: Columns (0,1,2,3,4,5,6,7,8,9,10,11,12,13,14,15,16,17,18,19,20,21,22,23,24,25,26,27,28,29,30) have mixed types.Specify dtype option on import or set low_memory=False.\n",
      "  has_raised = await self.run_ast_nodes(code_ast.body, cell_name,\n",
      "100%|██████████| 220078/220078 [00:39<00:00, 5573.92it/s]\n"
     ]
    },
    {
     "name": "stdout",
     "output_type": "stream",
     "text": [
      "\n",
      "Ellipses calculation complete\n",
      "Working on the left eye\n",
      "Shapiro-Wilk Test: Statistic=0.9188387989997864, p-value=0.0\n",
      "Kolmogorov-Smirnov Test: Statistic=0.1367481273872005, p-value=0.0\n",
      "Median Distance: 169.8729495000527\n",
      "IQR Distance: 17.734711621125598\n",
      "Working on PV_62, block 040, on 2023-05-01_15-49-30\n"
     ]
    },
    {
     "name": "stderr",
     "output_type": "stream",
     "text": [
      "C:\\Users\\MarkS3\\AppData\\Local\\Programs\\Python\\Python38\\lib\\site-packages\\scipy\\stats\\morestats.py:1681: UserWarning: p-value may not be accurate for N > 5000.\n",
      "  warnings.warn(\"p-value may not be accurate for N > 5000.\")\n",
      "c:\\users\\marks3\\pycharmprojects\\pythonproject3\\venv\\lib\\site-packages\\IPython\\core\\interactiveshell.py:3146: DtypeWarning: Columns (0,1,2,3,4,5,6,7,8,9,10,11,12,13,14,15,16,17,18,19,20,21,22,23,24,25,26,27,28,29,30) have mixed types.Specify dtype option on import or set low_memory=False.\n",
      "  has_raised = await self.run_ast_nodes(code_ast.body, cell_name,\n",
      "100%|██████████| 242559/242559 [00:43<00:00, 5519.20it/s]\n"
     ]
    },
    {
     "name": "stdout",
     "output_type": "stream",
     "text": [
      "\n",
      "Ellipses calculation complete\n",
      "Working on the right eye\n"
     ]
    },
    {
     "name": "stderr",
     "output_type": "stream",
     "text": [
      "C:\\Users\\MarkS3\\AppData\\Local\\Programs\\Python\\Python38\\lib\\site-packages\\scipy\\stats\\morestats.py:1681: UserWarning: p-value may not be accurate for N > 5000.\n",
      "  warnings.warn(\"p-value may not be accurate for N > 5000.\")\n"
     ]
    },
    {
     "name": "stdout",
     "output_type": "stream",
     "text": [
      "Shapiro-Wilk Test: Statistic=0.9926337003707886, p-value=0.0\n",
      "Kolmogorov-Smirnov Test: Statistic=0.028021655756521213, p-value=3.1926673782951486e-141\n",
      "Median Distance: 181.9342540005316\n",
      "IQR Distance: 7.329493769851638\n"
     ]
    },
    {
     "name": "stderr",
     "output_type": "stream",
     "text": [
      "c:\\users\\marks3\\pycharmprojects\\pythonproject3\\venv\\lib\\site-packages\\IPython\\core\\interactiveshell.py:3146: DtypeWarning: Columns (0,1,2,3,4,5,6,7,8,9,10,11,12,13,14,15,16,17,18,19,20,21,22,23,24,25,26,27,28,29,30) have mixed types.Specify dtype option on import or set low_memory=False.\n",
      "  has_raised = await self.run_ast_nodes(code_ast.body, cell_name,\n",
      "100%|██████████| 242565/242565 [00:43<00:00, 5558.18it/s]\n"
     ]
    },
    {
     "name": "stdout",
     "output_type": "stream",
     "text": [
      "\n",
      "Ellipses calculation complete\n",
      "Working on the left eye\n"
     ]
    },
    {
     "name": "stderr",
     "output_type": "stream",
     "text": [
      "C:\\Users\\MarkS3\\AppData\\Local\\Programs\\Python\\Python38\\lib\\site-packages\\scipy\\stats\\morestats.py:1681: UserWarning: p-value may not be accurate for N > 5000.\n",
      "  warnings.warn(\"p-value may not be accurate for N > 5000.\")\n"
     ]
    },
    {
     "name": "stdout",
     "output_type": "stream",
     "text": [
      "Shapiro-Wilk Test: Statistic=0.9449124932289124, p-value=0.0\n",
      "Kolmogorov-Smirnov Test: Statistic=0.10981356249806251, p-value=0.0\n",
      "Median Distance: 174.56293266165017\n",
      "IQR Distance: 19.68013313127085\n",
      "Working on PV_62, block 041, on 2023-05-01_16-58-39\n"
     ]
    },
    {
     "name": "stderr",
     "output_type": "stream",
     "text": [
      "c:\\users\\marks3\\pycharmprojects\\pythonproject3\\venv\\lib\\site-packages\\IPython\\core\\interactiveshell.py:3146: DtypeWarning: Columns (0,1,2,3,4,5,6,7,8,9,10,11,12,13,14,15,16,17,18,19,20,21,22,23,24,25,26,27,28,29,30) have mixed types.Specify dtype option on import or set low_memory=False.\n",
      "  has_raised = await self.run_ast_nodes(code_ast.body, cell_name,\n",
      "100%|██████████| 115219/115219 [00:20<00:00, 5570.81it/s]\n"
     ]
    },
    {
     "name": "stdout",
     "output_type": "stream",
     "text": [
      "\n",
      "Ellipses calculation complete\n",
      "Working on the right eye\n"
     ]
    },
    {
     "name": "stderr",
     "output_type": "stream",
     "text": [
      "C:\\Users\\MarkS3\\AppData\\Local\\Programs\\Python\\Python38\\lib\\site-packages\\scipy\\stats\\morestats.py:1681: UserWarning: p-value may not be accurate for N > 5000.\n",
      "  warnings.warn(\"p-value may not be accurate for N > 5000.\")\n"
     ]
    },
    {
     "name": "stdout",
     "output_type": "stream",
     "text": [
      "Shapiro-Wilk Test: Statistic=0.9837151765823364, p-value=0.0\n",
      "Kolmogorov-Smirnov Test: Statistic=0.0549601653248637, p-value=2.130891408193647e-230\n",
      "Median Distance: 179.67775944719529\n",
      "IQR Distance: 8.14283731758377\n"
     ]
    },
    {
     "name": "stderr",
     "output_type": "stream",
     "text": [
      "c:\\users\\marks3\\pycharmprojects\\pythonproject3\\venv\\lib\\site-packages\\IPython\\core\\interactiveshell.py:3146: DtypeWarning: Columns (0,1,2,3,4,5,6,7,8,9,10,11,12,13,14,15,16,17,18,19,20,21,22,23,24,25,26,27,28,29,30) have mixed types.Specify dtype option on import or set low_memory=False.\n",
      "  has_raised = await self.run_ast_nodes(code_ast.body, cell_name,\n",
      "100%|██████████| 115244/115244 [00:21<00:00, 5364.97it/s]\n"
     ]
    },
    {
     "name": "stdout",
     "output_type": "stream",
     "text": [
      "\n",
      "Ellipses calculation complete\n",
      "Working on the left eye\n",
      "Shapiro-Wilk Test: Statistic=0.9361981153488159, p-value=0.0\n",
      "Kolmogorov-Smirnov Test: Statistic=0.12235442438191174, p-value=0.0\n",
      "Median Distance: 181.70848224461747\n",
      "IQR Distance: 24.243280665098467\n"
     ]
    },
    {
     "name": "stderr",
     "output_type": "stream",
     "text": [
      "C:\\Users\\MarkS3\\AppData\\Local\\Programs\\Python\\Python38\\lib\\site-packages\\scipy\\stats\\morestats.py:1681: UserWarning: p-value may not be accurate for N > 5000.\n",
      "  warnings.warn(\"p-value may not be accurate for N > 5000.\")\n"
     ]
    }
   ],
   "source": [
    "# previous method\n",
    "from ellipse import LsqEllipse\n",
    "def eye_tracking_analysis(dlc_video_analysis_csv, uncertainty_thr):\n",
    "    \"\"\"\n",
    "    :param dlc_video_analysis_csv: the csv output of a dlc analysis of one video, already read by pandas with header=1\n",
    "    :param uncertainty_thr: The confidence P value to use as a threshold for datapoint validity in the analysis\n",
    "    :returns ellipse_df: a DataFrame of ellipses parameters (center, width, height, phi, size) for each video frame\n",
    "\n",
    "    \"\"\"\n",
    "    # import the dataframe and convert it to floats\n",
    "    data = dlc_video_analysis_csv\n",
    "    data = data.iloc[1:].apply(pd.to_numeric)\n",
    "\n",
    "    # sort the pupil elements to dfs: x and y, with p as probability\n",
    "    pupil_elements = np.array([x for x in data.columns if 'Pupil' in x])\n",
    "\n",
    "    # get X coords\n",
    "    pupil_xs_before_flip = data[pupil_elements[np.arange(0, len(pupil_elements), 3)]]\n",
    "\n",
    "    # flip the data around the midpoint of the x-axis (shooting the eye through a camera flips right and left)\n",
    "    pupil_xs = 320 * 2 - pupil_xs_before_flip\n",
    "\n",
    "    # get Y coords (no need to flip as opencv conventions already start with origin at top left of frame\n",
    "    # and so, positive Y is maintained as up in a flipped image as we have)\n",
    "    pupil_ys = data[pupil_elements[np.arange(1, len(pupil_elements), 3)]]\n",
    "    pupil_ps = data[pupil_elements[np.arange(2, len(pupil_elements), 3)]]\n",
    "\n",
    "    # rename dataframes for masking with p values of bad points:\n",
    "    pupil_ps = pupil_ps.rename(columns=dict(zip(pupil_ps.columns, pupil_xs.columns)))\n",
    "    pupil_ys = pupil_ys.rename(columns=dict(zip(pupil_ys.columns, pupil_xs.columns)))\n",
    "    good_points = pupil_ps > uncertainty_thr\n",
    "    pupil_xs = pupil_xs[good_points]\n",
    "    pupil_ys = pupil_ys[good_points]\n",
    "\n",
    "    # Do the same for the edges\n",
    "    edge_elements = np.array([x for x in data.columns if 'edge' in x])\n",
    "    edge_xs_before_flip = data[edge_elements[np.arange(0, len(edge_elements), 3)]]\n",
    "    edge_xs = 320*2 - edge_xs_before_flip\n",
    "    edge_ys = data[edge_elements[np.arange(1, len(edge_elements), 3)]]\n",
    "    edge_ps = data[edge_elements[np.arange(2,len(edge_elements),3)]]\n",
    "    edge_ps = edge_ps.rename(columns=dict(zip(edge_ps.columns,edge_xs.columns)))\n",
    "    edge_ys = edge_ys.rename(columns=dict(zip(edge_ys.columns,edge_xs.columns)))\n",
    "    good_edge_points = edge_ps < uncertainty_thr\n",
    "    \n",
    "    # work row by row to figure out the ellipses\n",
    "    ellipses = []\n",
    "    caudal_edge_ls = []\n",
    "    rostral_edge_ls = []\n",
    "    for row in tqdm.tqdm(range(1, len(data) - 1)):\n",
    "        # first, take all the values, and concatenate them into an X array\n",
    "        x_values = pupil_xs.loc[row].values\n",
    "        y_values = pupil_ys.loc[row].values\n",
    "        X = np.c_[x_values, y_values]\n",
    "\n",
    "        # now, remove nan values, and check if there are enough points to make the ellipse\n",
    "        X = X[~ np.isnan(X).any(axis=1)]\n",
    "\n",
    "        # if there are enough rows for a fit, make an ellipse\n",
    "        if X.shape[0] > 5:\n",
    "            el = LsqEllipse().fit(X)\n",
    "            center, width, height, phi = el.as_parameters()\n",
    "            center_x = center[0]\n",
    "            center_y = center[1]\n",
    "            ellipses.append([center_x, center_y, width, height, phi])\n",
    "        else:\n",
    "            ellipses.append([np.nan, np.nan, np.nan, np.nan, np.nan])\n",
    "\n",
    "        caudal_edge = [\n",
    "            float(data['Caudal_edge'][row]),\n",
    "            float(data['Caudal_edge.1'][row])\n",
    "        ]\n",
    "        rostral_edge = [\n",
    "            float(data['Rostral_edge'][row]),\n",
    "            float(data['Rostral_edge.1'][row])\n",
    "        ]\n",
    "        caudal_edge_ls.append(caudal_edge)\n",
    "        rostral_edge_ls.append(rostral_edge)\n",
    "\n",
    "\n",
    "    ellipse_df = pd.DataFrame(columns=['center_x', 'center_y', 'width', 'height', 'phi'], data=ellipses)\n",
    "    a = np.array(ellipse_df['height'][:])\n",
    "    b = np.array(ellipse_df['width'][:])\n",
    "    ellipse_size_per_frame = a * b * math.pi\n",
    "    ellipse_df['ellipse_size'] = ellipse_size_per_frame\n",
    "    ellipse_df['rostral_edge'] = rostral_edge_ls\n",
    "    ellipse_df['caudal_edge'] = caudal_edge_ls\n",
    "\n",
    "    print(f'\\n ellipses calculation complete')\n",
    "    \n",
    "    ellipse_df[['caudal_edge_x', 'caudal_edge_y']] = pd.DataFrame(ellipse_df['caudal_edge'].tolist(), index=ellipse_df.index)\n",
    "    ellipse_df[['rostral_edge_x', 'rostral_edge_y']] = pd.DataFrame(ellipse_df['rostral_edge'].tolist(), index=ellipse_df.index)\n",
    "    \n",
    "    return ellipse_df\n",
    "\n",
    "def get_pixel_distance(df):\n",
    "    distances = np.sqrt((df['caudal_edge_x'] - df['rostral_edge_x'])**2 + \n",
    "                        (df['caudal_edge_y'] - df['rostral_edge_y'])**2)\n",
    "    \n",
    "    mean_distance = np.nanmean(distances)\n",
    "    std_distance = np.nanstd(distances)\n",
    "    # Shapiro-Wilk Test\n",
    "    shapiro_test = stats.shapiro(distances)\n",
    "    print(f\"Shapiro-Wilk Test: Statistic={shapiro_test.statistic}, p-value={shapiro_test.pvalue}\")\n",
    "    \n",
    "    # Kolmogorov-Smirnov Test\n",
    "    ks_test = stats.kstest(distances, 'norm', args=(mean_distance, std_distance))\n",
    "    print(f\"Kolmogorov-Smirnov Test: Statistic={ks_test.statistic}, p-value={ks_test.pvalue}\")\n",
    "    \n",
    "    median_distance = np.median(distances)\n",
    "    iqr_distance = stats.iqr(distances)\n",
    "    print(f\"Median Distance: {median_distance}\")\n",
    "    print(f\"IQR: {iqr_distance}\")\n",
    "    print(f'mean = {mean_distance}')\n",
    "    print(f'std = {std_distance}')\n",
    "    return median_distance\n",
    "\n",
    "R_pix_distance_dict = {}\n",
    "L_pix_distance_dict = {}\n",
    "\n",
    "for block in block_collection:\n",
    "    print(f'working on {block}')\n",
    "    pl = [i for i in os.listdir(block.r_e_path) if 'DLC' in i and '.csv' in i]\n",
    "    if len(pl) > 1:\n",
    "        pl = [i for i in pl if 'filtered' in i][0]\n",
    "    else:\n",
    "        pl = pl[0]\n",
    "    R_csv  = pd.read_csv(block.r_e_path / pl, header=1)\n",
    "    \n",
    "    pl = [i for i in os.listdir(block.l_e_path) if 'DLC' in i and '.csv' in i]\n",
    "    if len(pl) > 1:\n",
    "        pl = [i for i in pl if 'filtered' in i][0]\n",
    "    else:\n",
    "        pl = pl[0]\n",
    "    L_csv  = pd.read_csv(block.l_e_path / pl, header=1)\n",
    "    R_ellipse_df = eye_tracking_analysis(R_csv,0.998)\n",
    "    print('working on the right eye')\n",
    "    R_pixel_distance = get_pixel_distance(R_ellipse_df)    \n",
    "    L_ellipse_df = eye_tracking_analysis(L_csv,0.998)\n",
    "    print('working on the left eye')\n",
    "    L_pixel_distance = get_pixel_distance(L_ellipse_df)\n",
    "    R_pix_distance_dict[block.block_num] = R_pixel_distance\n",
    "    L_pix_distance_dict[block.block_num] = L_pixel_distance"
   ],
   "metadata": {
    "collapsed": false,
    "ExecuteTime": {
     "end_time": "2024-10-14T07:05:07.476833900Z",
     "start_time": "2024-10-14T06:55:48.023271600Z"
    }
   },
   "id": "a751d22a142d7c0b",
   "execution_count": 48
  },
  {
   "cell_type": "code",
   "outputs": [
    {
     "name": "stdout",
     "output_type": "stream",
     "text": [
      "023\n",
      "left calibration value: 0.04487839786581465\n",
      "right calibration value: 0.041316059812265674\n",
      "024\n",
      "left calibration value: 0.04399906550297923\n",
      "right calibration value: 0.04122351739824801\n",
      "025\n",
      "left calibration value: 0.043987644612434276\n",
      "right calibration value: 0.04140516580081247\n",
      "026\n",
      "left calibration value: 0.04315931512811483\n",
      "right calibration value: 0.04088466745554142\n",
      "027\n",
      "left calibration value: 0.04239506188727245\n",
      "right calibration value: 0.04155987000383623\n",
      "035\n",
      "left calibration value: 0.04430419650123422\n",
      "right calibration value: 0.04103287399145994\n",
      "038\n",
      "left calibration value: 0.04605644273172008\n",
      "right calibration value: 0.042931930561624886\n",
      "039\n",
      "left calibration value: 0.045916669033862746\n",
      "right calibration value: 0.04294724399890256\n",
      "040\n",
      "left calibration value: 0.044683025663406414\n",
      "right calibration value: 0.04287263024134646\n",
      "041\n",
      "left calibration value: 0.0429258992406286\n",
      "right calibration value: 0.04341104889106939\n"
     ]
    }
   ],
   "source": [
    "# additional version for outlier removal:\n",
    "from ellipse import LsqEllipse\n",
    "import numpy as np\n",
    "import pandas as pd\n",
    "import math\n",
    "import tqdm\n",
    "from scipy import stats\n",
    "\n",
    "def eye_tracking_analysis(dlc_video_analysis_csv, uncertainty_thr):\n",
    "    \"\"\"\n",
    "    :param dlc_video_analysis_csv: the csv output of a dlc analysis of one video, already read by pandas with header=1\n",
    "    :param uncertainty_thr: The confidence P value to use as a threshold for datapoint validity in the analysis\n",
    "    :returns ellipse_df: a DataFrame of ellipses parameters (center, width, height, phi, size) for each video frame\n",
    "    \"\"\"\n",
    "    # Import the dataframe and convert it to floats\n",
    "    data = dlc_video_analysis_csv\n",
    "    data = data.iloc[1:].apply(pd.to_numeric)\n",
    "\n",
    "    # Sort the pupil elements to dfs: x and y, with p as probability\n",
    "    pupil_elements = np.array([x for x in data.columns if 'Pupil' in x])\n",
    "\n",
    "    # Get X coords and flip around the midpoint of the x-axis (for camera perspective)\n",
    "    pupil_xs_before_flip = data[pupil_elements[np.arange(0, len(pupil_elements), 3)]]\n",
    "    pupil_xs = 320 * 2 - pupil_xs_before_flip\n",
    "\n",
    "    # Get Y coords and P values (Y is not flipped)\n",
    "    pupil_ys = data[pupil_elements[np.arange(1, len(pupil_elements), 3)]]\n",
    "    pupil_ps = data[pupil_elements[np.arange(2, len(pupil_elements), 3)]]\n",
    "\n",
    "    # Masking invalid points based on P values\n",
    "    pupil_ps = pupil_ps.rename(columns=dict(zip(pupil_ps.columns, pupil_xs.columns)))\n",
    "    pupil_ys = pupil_ys.rename(columns=dict(zip(pupil_ys.columns, pupil_xs.columns)))\n",
    "    good_points = pupil_ps > uncertainty_thr\n",
    "    pupil_xs = pupil_xs[good_points]\n",
    "    pupil_ys = pupil_ys[good_points]\n",
    "\n",
    "    # Do the same for the edges\n",
    "    edge_elements = np.array([x for x in data.columns if 'edge' in x])\n",
    "    edge_xs_before_flip = data[edge_elements[np.arange(0, len(edge_elements), 3)]]\n",
    "    edge_xs = 320 * 2 - edge_xs_before_flip\n",
    "    edge_ys = data[edge_elements[np.arange(1, len(edge_elements), 3)]]\n",
    "    edge_ps = data[edge_elements[np.arange(2, len(edge_elements), 3)]]\n",
    "    edge_ps = edge_ps.rename(columns=dict(zip(edge_ps.columns, edge_xs.columns)))\n",
    "    edge_ys = edge_ys.rename(columns=dict(zip(edge_ys.columns, edge_xs.columns)))\n",
    "    good_edge_points = edge_ps < uncertainty_thr\n",
    "\n",
    "    # Work row by row to calculate ellipses\n",
    "    ellipses = []\n",
    "    caudal_edge_ls = []\n",
    "    rostral_edge_ls = []\n",
    "    for row in tqdm.tqdm(range(1, len(data) - 1)):\n",
    "        # Concatenate X and Y values\n",
    "        x_values = pupil_xs.loc[row].values\n",
    "        y_values = pupil_ys.loc[row].values\n",
    "        X = np.c_[x_values, y_values]\n",
    "\n",
    "        # Remove NaN values\n",
    "        X = X[~np.isnan(X).any(axis=1)]\n",
    "\n",
    "        # Check for enough points to fit an ellipse (increase the threshold for better fits)\n",
    "        if X.shape[0] > 10:  # Increased minimum points for ellipse fitting\n",
    "            el = LsqEllipse().fit(X)\n",
    "            center, width, height, phi = el.as_parameters()\n",
    "            center_x = center[0]\n",
    "            center_y = center[1]\n",
    "            \n",
    "            # Add a sanity check for extreme width/height ratios (outlier detection)\n",
    "            if 0.2 < width / height < 5:  # Example sanity check\n",
    "                ellipses.append([center_x, center_y, width, height, phi])\n",
    "            else:\n",
    "                ellipses.append([np.nan, np.nan, np.nan, np.nan, np.nan])\n",
    "        else:\n",
    "            ellipses.append([np.nan, np.nan, np.nan, np.nan, np.nan])\n",
    "\n",
    "        caudal_edge = [\n",
    "            float(data['Caudal_edge'][row]),\n",
    "            float(data['Caudal_edge.1'][row])\n",
    "        ]\n",
    "        rostral_edge = [\n",
    "            float(data['Rostral_edge'][row]),\n",
    "            float(data['Rostral_edge.1'][row])\n",
    "        ]\n",
    "        caudal_edge_ls.append(caudal_edge)\n",
    "        rostral_edge_ls.append(rostral_edge)\n",
    "\n",
    "    # Create dataframe for ellipse parameters\n",
    "    ellipse_df = pd.DataFrame(columns=['center_x', 'center_y', 'width', 'height', 'phi'], data=ellipses)\n",
    "    \n",
    "    # Calculate ellipse size\n",
    "    a = np.array(ellipse_df['height'][:])\n",
    "    b = np.array(ellipse_df['width'][:])\n",
    "    ellipse_size_per_frame = a * b * math.pi\n",
    "    ellipse_df['ellipse_size'] = ellipse_size_per_frame\n",
    "    ellipse_df['rostral_edge'] = rostral_edge_ls\n",
    "    ellipse_df['caudal_edge'] = caudal_edge_ls\n",
    "\n",
    "    print(f'\\nEllipses calculation complete')\n",
    "    \n",
    "    ellipse_df[['caudal_edge_x', 'caudal_edge_y']] = pd.DataFrame(ellipse_df['caudal_edge'].tolist(), index=ellipse_df.index)\n",
    "    ellipse_df[['rostral_edge_x', 'rostral_edge_y']] = pd.DataFrame(ellipse_df['rostral_edge'].tolist(), index=ellipse_df.index)\n",
    "    \n",
    "    return ellipse_df\n",
    "\n",
    "\n",
    "def get_pixel_distance(df):\n",
    "    \"\"\"\n",
    "    Calculate the pixel distance between rostral and caudal edges\n",
    "    and return robust statistical measurements after filtering out outliers.\n",
    "    \"\"\"\n",
    "    distances = np.sqrt((df['caudal_edge_x'] - df['rostral_edge_x'])**2 + \n",
    "                        (df['caudal_edge_y'] - df['rostral_edge_y'])**2)\n",
    "    \n",
    "    # Remove NaN values\n",
    "    distances = distances[~np.isnan(distances)]\n",
    "    \n",
    "    # Median and IQR for robust filtering\n",
    "    median_distance = np.median(distances)\n",
    "    iqr_distance = stats.iqr(distances)\n",
    "    \n",
    "    # Filter out outliers (1.5 IQR from median)\n",
    "    lower_bound = median_distance - 1.5 * iqr_distance\n",
    "    upper_bound = median_distance + 1.5 * iqr_distance\n",
    "    filtered_distances = distances[(distances >= lower_bound) & (distances <= upper_bound)]\n",
    "    \n",
    "    # Perform robust statistical tests on filtered data\n",
    "    if len(filtered_distances) > 0:\n",
    "        shapiro_test = stats.shapiro(filtered_distances)\n",
    "        ks_test = stats.kstest(filtered_distances, 'norm', args=(np.mean(filtered_distances), np.std(filtered_distances)))\n",
    "\n",
    "        print(f\"Shapiro-Wilk Test: Statistic={shapiro_test.statistic}, p-value={shapiro_test.pvalue}\")\n",
    "        print(f\"Kolmogorov-Smirnov Test: Statistic={ks_test.statistic}, p-value={ks_test.pvalue}\")\n",
    "    else:\n",
    "        print(\"No data left after outlier filtering\")\n",
    "    \n",
    "    print(f\"Median Distance: {median_distance}\")\n",
    "    print(f\"IQR Distance: {iqr_distance}\")\n",
    "    \n",
    "    return median_distance\n",
    "\n",
    "\n",
    "R_pix_distance_dict = {}\n",
    "L_pix_distance_dict = {}\n",
    "\n",
    "for block in block_collection:\n",
    "    print(f'Working on {block}')\n",
    "    \n",
    "    # Process right eye data\n",
    "    pl = [i for i in os.listdir(block.r_e_path) if 'DLC' in i and '.csv' in i]\n",
    "    if len(pl) > 1:\n",
    "        pl = [i for i in pl if 'filtered' in i][0]\n",
    "    else:\n",
    "        pl = pl[0]\n",
    "    R_csv  = pd.read_csv(block.r_e_path / pl, header=1)\n",
    "    R_ellipse_df = eye_tracking_analysis(R_csv, 0.998)\n",
    "    print('Working on the right eye')\n",
    "    R_pixel_distance = get_pixel_distance(R_ellipse_df)    \n",
    "    \n",
    "    # Process left eye data\n",
    "    pl = [i for i in os.listdir(block.l_e_path) if 'DLC' in i and '.csv' in i]\n",
    "    if len(pl) > 1:\n",
    "        pl = [i for i in pl if 'filtered' in i][0]\n",
    "    else:\n",
    "        pl = pl[0]\n",
    "    L_csv  = pd.read_csv(block.l_e_path / pl, header=1)\n",
    "    L_ellipse_df = eye_tracking_analysis(L_csv, 0.998)\n",
    "    print('Working on the left eye')\n",
    "    L_pixel_distance = get_pixel_distance(L_ellipse_df)\n",
    "    \n",
    "    R_pix_distance_dict[block.block_num] = R_pixel_distance\n",
    "    L_pix_distance_dict[block.block_num] = L_pixel_distance\n"
   ],
   "metadata": {
    "collapsed": false,
    "ExecuteTime": {
     "end_time": "2024-10-14T07:16:46.276281100Z",
     "start_time": "2024-10-14T07:16:46.190237300Z"
    }
   },
   "id": "dbd5988213965ddc",
   "execution_count": 50
  },
  {
   "cell_type": "code",
   "outputs": [
    {
     "name": "stdout",
     "output_type": "stream",
     "text": [
      "exported to Z:\\Nimrod\\experiments\\PV_62\\2023_04_27\\block_023\\analysis\\LR_pix_size.csv\n",
      "exported to Z:\\Nimrod\\experiments\\PV_62\\2023_04_27\\block_024\\analysis\\LR_pix_size.csv\n",
      "exported to Z:\\Nimrod\\experiments\\PV_62\\2023_04_27\\block_025\\analysis\\LR_pix_size.csv\n",
      "exported to Z:\\Nimrod\\experiments\\PV_62\\2023_04_27\\block_026\\analysis\\LR_pix_size.csv\n",
      "exported to Z:\\Nimrod\\experiments\\PV_62\\2023_04_27\\block_027\\analysis\\LR_pix_size.csv\n",
      "exported to Z:\\Nimrod\\experiments\\PV_62\\2023_04_30\\block_035\\analysis\\LR_pix_size.csv\n",
      "exported to Z:\\Nimrod\\experiments\\PV_62\\2023_05_01\\block_038\\analysis\\LR_pix_size.csv\n",
      "exported to Z:\\Nimrod\\experiments\\PV_62\\2023_05_01\\block_039\\analysis\\LR_pix_size.csv\n",
      "exported to Z:\\Nimrod\\experiments\\PV_62\\2023_05_01\\block_040\\analysis\\LR_pix_size.csv\n",
      "exported to Z:\\Nimrod\\experiments\\PV_62\\2023_05_01\\block_041\\analysis\\LR_pix_size.csv\n"
     ]
    }
   ],
   "source": [
    "# Verify the values make sense:\n",
    "known_dist = 7.8\n",
    "for block in block_dict.keys():\n",
    "    print(block)\n",
    "    print(f'left calibration value: {known_dist / L_pix_distance_dict[block]}')\n",
    "    print(f'right calibration value: {known_dist / R_pix_distance_dict[block]}')"
   ],
   "metadata": {
    "collapsed": false,
    "ExecuteTime": {
     "end_time": "2024-10-14T07:17:40.709412900Z",
     "start_time": "2024-10-14T07:17:40.603443400Z"
    }
   },
   "id": "130a8a2d2f5262c3",
   "execution_count": 51
  },
  {
   "cell_type": "code",
   "outputs": [],
   "source": [
    "# This is the export step, when happy with the values\n",
    "for block in block_collection:\n",
    "    block.L_pix_size = known_dist / L_pix_distance_dict[block.block_num]\n",
    "    block.R_pix_size = known_dist / R_pix_distance_dict[block.block_num]\n",
    "    internal_df = pd.DataFrame(columns=['L_pix_size', 'R_pix_size'])\n",
    "    internal_df.at[0, 'L_pix_size'] = block.L_pix_size\n",
    "    internal_df.at[0, 'R_pix_size'] = block.R_pix_size\n",
    "    internal_df.to_csv(block.analysis_path / 'LR_pix_size.csv', index=False)\n",
    "    print(f'exported to {block.analysis_path / \"LR_pix_size.csv\"}')"
   ],
   "metadata": {
    "collapsed": false
   },
   "id": "64c89d11c1c0c18c"
  },
  {
   "cell_type": "markdown",
   "source": [
    "# Manual annotation, if required:"
   ],
   "metadata": {
    "collapsed": false
   },
   "id": "5e3b81d3d50d4c96"
  },
  {
   "cell_type": "code",
   "outputs": [],
   "source": [
    "real_distance = 7.8  # mm\n",
    "\n",
    "for block in block_collection:\n",
    "    block.calibrate_pixel_size(10)\n",
    "    print(f'the previous calibration pixel sizes were: ')\n",
    "    print(f'left = {block.L_pix_size} right = {block.R_pix_size}')\n",
    "    print(f'the new calibration pixel sizes are: ')\n",
    "    print(f'left = {real_distance / L_pix_distance_dict[block.block_num]} right = {real_distance / R_pix_distance_dict[block.block_num]}')\n",
    "   \n",
    "    block.L_pix_size = real_distance / L_pix_distance_dict[block.block_num]\n",
    "    block.R_pix_size = real_distance / R_pix_distance_dict[block.block_num]"
   ],
   "metadata": {
    "collapsed": false,
    "ExecuteTime": {
     "end_time": "2024-10-09T13:38:16.946421300Z",
     "start_time": "2024-10-09T13:38:16.911422500Z"
    }
   },
   "id": "e665fe6266b9e43c",
   "execution_count": 6
  },
  {
   "cell_type": "code",
   "outputs": [],
   "source": [
    "left_calibration_values = [b.L_pix_size for b in block_collection]\n",
    "right_calibration_values = [b.R_pix_size for b in block_collection]"
   ],
   "metadata": {
    "collapsed": false,
    "ExecuteTime": {
     "end_time": "2024-10-13T14:01:58.820192500Z",
     "start_time": "2024-10-13T14:01:58.794026800Z"
    }
   },
   "id": "27db698672919d4f",
   "execution_count": 13
  },
  {
   "cell_type": "code",
   "outputs": [
    {
     "name": "stdout",
     "output_type": "stream",
     "text": [
      "007\n",
      "left eye calibration value: 0.027983991020158118, right eye calibration value0.02856618220340118\n",
      "exported to Z:\\Nimrod\\experiments\\PV_126\\2024_07_18\\block_007\\analysis\\LR_pix_size.csv\n",
      "Left side: 0.03878245879276301\n",
      "right side: 0.04019764196607088\n",
      "  L_pix_size R_pix_size\n",
      "0  0.0289064  0.0293695\n",
      "008\n",
      "left eye calibration value: 0.027983991020158118, right eye calibration value0.02856618220340118\n",
      "exported to Z:\\Nimrod\\experiments\\PV_126\\2024_07_18\\block_008\\analysis\\LR_pix_size.csv\n",
      "Left side: 0.03803746822934531\n",
      "right side: 0.039762810276451545\n",
      "  L_pix_size R_pix_size\n",
      "0  0.0284757  0.0260145\n",
      "009\n",
      "left eye calibration value: 0.027983991020158118, right eye calibration value0.02856618220340118\n",
      "exported to Z:\\Nimrod\\experiments\\PV_126\\2024_07_18\\block_009\\analysis\\LR_pix_size.csv\n",
      "Left side: 0.04147469607127374\n",
      "right side: 0.03747229404867428\n",
      "  L_pix_size R_pix_size\n",
      "0  0.0338174  0.0313665\n",
      "010\n",
      "left eye calibration value: 0.027983991020158118, right eye calibration value0.02856618220340118\n",
      "exported to Z:\\Nimrod\\experiments\\PV_126\\2024_07_18\\block_010\\analysis\\LR_pix_size.csv\n",
      "Left side: 0.04104751517154923\n",
      "right side: 0.03766534029305185\n",
      "  L_pix_size R_pix_size\n",
      "0  0.0278039   0.026785\n",
      "011\n",
      "left eye calibration value: 0.027983991020158118, right eye calibration value0.02856618220340118\n",
      "exported to Z:\\Nimrod\\experiments\\PV_126\\2024_08_13\\block_011\\analysis\\LR_pix_size.csv\n",
      "Left side: 0.03958931841568996\n",
      "right side: 0.038995613240251824\n",
      "  L_pix_size R_pix_size\n",
      "0  0.0346469  0.0288626\n",
      "013\n",
      "left eye calibration value: 0.027983991020158118, right eye calibration value0.02856618220340118\n",
      "exported to Z:\\Nimrod\\experiments\\PV_126\\2024_08_13\\block_013\\analysis\\LR_pix_size.csv\n",
      "Left side: 0.03979384668831342\n",
      "right side: 0.03899805014623781\n",
      "  L_pix_size R_pix_size\n",
      "0   0.027984  0.0285662\n"
     ]
    }
   ],
   "source": [
    "def get_round_eye_frame(block,eye):\n",
    "    if eye == 'left':\n",
    "        df = block.left_eye_data\n",
    "    elif eye == 'right':\n",
    "        df = block.right_eye_data\n",
    "    else:\n",
    "        print('Eye not recognized, try left/right')\n",
    "    s = df.major_ax / df.minor_ax\n",
    "    anchor_ind = np.argmin(np.abs(s - 1))  # find the index of the value closest to 1\n",
    "    roundest_frame_num = df['eye_frame'].iloc[anchor_ind]\n",
    "    frame = block.get_rotated_frame(roundest_frame_num, eye)\n",
    "    return frame\n",
    "\n",
    "def manual_distance_annotation(block, overwrite, known_dist):\n",
    "    # let's start with left frame:\n",
    "    lframe = get_round_eye_frame(block,'left')\n",
    "    rframe = get_round_eye_frame(block,'right')\n",
    "\n",
    "    Rroi = cv2.selectROI(\n",
    "        \"select the area of the known measurement through the diagonal of the ROI\", rframe)\n",
    "    Lroi = cv2.selectROI(\n",
    "        \"select the area of the known measurement through the diagonal of the ROI\", lframe)\n",
    "\n",
    "\n",
    "    R_dist = np.sqrt(Rroi[2] ** 2 + Rroi[3] ** 2)\n",
    "    L_dist = np.sqrt(Lroi[2] ** 2 + Lroi[3] ** 2)\n",
    "\n",
    "    manual_L_pix_size = known_dist / L_dist\n",
    "    manual_R_pix_size = known_dist / R_dist\n",
    "\n",
    "    cv2.destroyAllWindows()\n",
    "\n",
    "    internal_df = pd.DataFrame(columns=['L_pix_size', 'R_pix_size'])\n",
    "    internal_df.at[0, 'L_pix_size'] = block.L_pix_size\n",
    "    internal_df.at[0, 'R_pix_size'] = block.R_pix_size\n",
    "    if overwrite:\n",
    "        # save these values to a dataframe for re-initializing the block:\n",
    "        block.L_pix_size = manual_L_pix_size\n",
    "        block.R_pix_size = manual_R_pix_size\n",
    "        internal_df.to_csv(block.analysis_path / 'LR_pix_size.csv', index=False)\n",
    "        print(f'exported to {block.analysis_path / \"LR_pix_size.csv\"}')\n",
    "        \n",
    "    print(f'Left side: {manual_L_pix_size}')\n",
    "    print(f'right side: {manual_R_pix_size}')\n",
    "    return internal_df"
   ],
   "metadata": {
    "collapsed": false,
    "ExecuteTime": {
     "end_time": "2024-10-13T14:03:19.880740600Z",
     "start_time": "2024-10-13T14:02:06.773731100Z"
    }
   },
   "id": "60c6dabd472533ee",
   "execution_count": 14
  },
  {
   "cell_type": "code",
   "outputs": [],
   "source": [
    "for b in block_collection:\n",
    "    print(b.block_num)\n",
    "    print(f'left eye calibration value: {block.L_pix_size}, right eye calibration value{block.R_pix_size}')\n",
    "    calib_df = manual_distance_annotation(b,overwrite=False,known_dist=7.8)\n",
    "    print(calib_df)\n",
    "    "
   ],
   "metadata": {
    "collapsed": false
   },
   "id": "72e7d39809d92b59"
  },
  {
   "cell_type": "markdown",
   "source": [
    "# after pixel size calibration:"
   ],
   "metadata": {
    "collapsed": false
   },
   "id": "ac93367551c42e54"
  },
  {
   "cell_type": "code",
   "outputs": [
    {
     "name": "stdout",
     "output_type": "stream",
     "text": [
      "026\n"
     ]
    }
   ],
   "source": [
    "for block in block_collection:\n",
    "    print(block.block_num)\n",
    "    load_eye_data_2d_w_rotation_matrix(block) "
   ],
   "metadata": {
    "collapsed": false,
    "ExecuteTime": {
     "end_time": "2024-11-22T16:31:41.511788400Z",
     "start_time": "2024-11-22T16:31:39.200559300Z"
    }
   },
   "id": "e28cf5da3aea455d",
   "execution_count": 6
  },
  {
   "cell_type": "code",
   "outputs": [],
   "source": [
    "for block in block_collection:\n",
    "    block.right_eye_data['calibrated_pupil_diameter'] = (block.right_eye_data['major_ax'] * 2 * np.pi) * block.R_pix_size\n",
    "    block.left_eye_data['calibrated_pupil_diameter'] = (block.left_eye_data['major_ax'] * 2 * np.pi) * block.L_pix_size\n",
    "    "
   ],
   "metadata": {
    "collapsed": false,
    "ExecuteTime": {
     "end_time": "2024-11-22T16:17:26.199346600Z",
     "start_time": "2024-11-22T16:17:26.155329700Z"
    }
   },
   "id": "7250241519dec85c",
   "execution_count": 7
  },
  {
   "cell_type": "code",
   "outputs": [],
   "source": [
    "# Pupil diameter sanity check\n",
    "blocks = block_collection\n",
    "bins = 80\n",
    "# Determine the overall min and max pupil diameter\n",
    "extreme_pupil_diameters = []\n",
    "for block in blocks:\n",
    "    block_max = np.max(block.left_eye_data['calibrated_pupil_diameter'].dropna())\n",
    "    block_min = np.min(block.right_eye_data['calibrated_pupil_diameter'].dropna())\n",
    "    print(block, block_max, block_min)\n",
    "    extreme_pupil_diameters.append(block_max)\n",
    "    extreme_pupil_diameters.append(block_min)\n",
    "    \n",
    "min_diameter = np.min(extreme_pupil_diameters)\n",
    "max_diameter = np.max(extreme_pupil_diameters)\n",
    "\n",
    "# Create the figure and subplots\n",
    "fig, axs = plt.subplots(len(blocks), 2, figsize=(12, 4 * len(blocks)), dpi=100)\n",
    "fig.suptitle('Pupil Diameter Histogram per-block', fontsize=16)\n",
    "\n",
    "# Iterate through blocks and plot histograms\n",
    "for i, block in enumerate(blocks):\n",
    "    # Left eye histogram\n",
    "    axs[i, 0].hist(block.left_eye_data['calibrated_pupil_diameter'].dropna(), bins=bins, range=(min_diameter, max_diameter), alpha=0.7)\n",
    "    axs[i, 0].set_title(f'Block {block.block_num} - Left Eye')\n",
    "    axs[i, 0].set_xlabel('Pupil Diameter')\n",
    "    axs[i, 0].set_ylabel('Frequency')\n",
    "\n",
    "    # Right eye histogram\n",
    "    axs[i, 1].hist(block.right_eye_data['calibrated_pupil_diameter'].dropna(), bins=bins, range=(min_diameter, max_diameter), alpha=0.7)\n",
    "    axs[i, 1].set_title(f'Block {block.block_num} - Right Eye')\n",
    "    axs[i, 1].set_xlabel('Pupil Diameter')\n",
    "    axs[i, 1].set_ylabel('Frequency')\n",
    "\n",
    "plt.tight_layout(rect=[0, 0.03, 1, 0.95])\n",
    "plt.show()"
   ],
   "metadata": {
    "collapsed": false
   },
   "id": "bc3e283c3ec0bf69"
  },
  {
   "cell_type": "markdown",
   "source": [
    "# Saccade detection and analysis"
   ],
   "metadata": {
    "collapsed": false
   },
   "id": "e48f6d9b8f76a922"
  },
  {
   "cell_type": "code",
   "outputs": [],
   "source": [
    "# fix the pupil_diameter columns according to the current calibration paradigm:\n",
    "\n",
    "for block in block_collection:\n",
    "    block.left_eye_data['pupil_diameter_pixels'] = block.left_eye_data.major_ax * 2 * np.pi\n",
    "    block.right_eye_data['pupil_diameter_pixels'] = block.right_eye_data.major_ax * 2 * np.pi\n",
    "    block.left_eye_data['pupil_diameter'] = block.left_eye_data['pupil_diameter_pixels'] * block.L_pix_size\n",
    "    block.right_eye_data['pupil_diameter'] = block.right_eye_data['pupil_diameter_pixels'] * block.R_pix_size\n",
    "\n"
   ],
   "metadata": {
    "collapsed": false,
    "ExecuteTime": {
     "end_time": "2024-11-22T16:31:46.755413700Z",
     "start_time": "2024-11-22T16:31:46.726880900Z"
    }
   },
   "id": "fee4297b225fa69d",
   "execution_count": 7
  },
  {
   "cell_type": "code",
   "outputs": [
    {
     "name": "stderr",
     "output_type": "stream",
     "text": [
      "65it [00:00, 643.56it/s]"
     ]
    },
    {
     "name": "stdout",
     "output_type": "stream",
     "text": [
      "PV_62, block 026, on 2023-04-27_12-21-41\n"
     ]
    },
    {
     "name": "stderr",
     "output_type": "stream",
     "text": [
      "598it [00:00, 692.91it/s]\n",
      "579it [00:00, 743.26it/s]\n"
     ]
    }
   ],
   "source": [
    "for block in block_collection:\n",
    "    print(block)\n",
    "    block.left_eye_data, block.l_saccade_df = create_saccade_events_df(block.left_eye_data,\n",
    "                                                               speed_threshold=4,\n",
    "                                                               bokeh_verify_threshold=False,\n",
    "                                                               magnitude_calib=block.L_pix_size)\n",
    "    block.right_eye_data, block.r_saccade_df = create_saccade_events_df(block.right_eye_data,\n",
    "                                                               speed_threshold=4,\n",
    "                                                               bokeh_verify_threshold=False,\n",
    "                                                               magnitude_calib=block.R_pix_size)"
   ],
   "metadata": {
    "collapsed": false,
    "ExecuteTime": {
     "end_time": "2024-11-22T16:31:56.625391500Z",
     "start_time": "2024-11-22T16:31:54.903393900Z"
    }
   },
   "id": "7137ba0007e53cbc",
   "execution_count": 8
  },
  {
   "cell_type": "code",
   "outputs": [
    {
     "name": "stdout",
     "output_type": "stream",
     "text": [
      "path to mat file is Z:\\Nimrod\\experiments\\PV_62\\2023_04_27\\block_026\\oe_files\\2023-04-27_12-21-41\\Record Node 108\\analysis\\recNames=Block0026,Animal=PV_62\\lizMov.mat\n",
      "liz_mov_df created for PV_62, block 026, on 2023-04-27_12-21-41\n"
     ]
    }
   ],
   "source": [
    "### over here, I get the lizard movements binary from mark's analysis\n",
    "import os\n",
    "def block_get_lizard_movement(block):\n",
    "    # collect accelerometer data\n",
    "    # path definition\n",
    "    p = block.oe_path / 'analysis'\n",
    "    analysis_list = os.listdir(p)\n",
    "    correct_analysis = [i for i in analysis_list if block.animal_call in i][0]\n",
    "    p = p / str(correct_analysis)\n",
    "    mat_path = p / 'lizMov.mat'\n",
    "    print(f'path to mat file is {mat_path}')\n",
    "    # read mat file\n",
    "    try:\n",
    "        mat_data = h5py.File(str(mat_path), 'r')\n",
    "        mat_dict = {'t_mov_ms': mat_data['t_mov_ms'][:],\n",
    "                    'movAll': mat_data['movAll'][:]}\n",
    "        \n",
    "        acc_df = pd.DataFrame(data=np.array([mat_dict['t_mov_ms'][:, 0], mat_dict['movAll'][:, 0]]).T,\n",
    "                              columns=['t_mov_ms', 'movAll'])\n",
    "        mat_data.close()\n",
    "        block.liz_mov_df = acc_df\n",
    "        print(f'liz_mov_df created for {block}')\n",
    "    except FileNotFoundError:\n",
    "        print('mat file does not exist - run the matlab getLizMovement function')\n",
    "        \n",
    "    return\n",
    "\n",
    "for block in block_collection:\n",
    "    block_get_lizard_movement(block)\n",
    "    \n"
   ],
   "metadata": {
    "collapsed": false,
    "ExecuteTime": {
     "end_time": "2024-11-22T16:31:56.667391900Z",
     "start_time": "2024-11-22T16:31:56.622395100Z"
    }
   },
   "id": "3a4ae32af8c20ab8",
   "execution_count": 9
  },
  {
   "cell_type": "code",
   "outputs": [],
   "source": [
    "# this cell now labels the saccades as with/without head movements\n",
    "def get_head_mov_col(df, mov_times):\n",
    "    head_mov_bool = np.zeros(len(df), dtype=bool)  # Initialize array of False\n",
    "\n",
    "    for i, saccade in enumerate(df.itertuples()):\n",
    "        saccade_start = saccade.saccade_on_ms\n",
    "        saccade_end = saccade.saccade_off_ms\n",
    "        \n",
    "        overlapping_mov_times = mov_times[np.logical_and(mov_times >= saccade_start, mov_times <= saccade_end)]\n",
    "        \n",
    "        if overlapping_mov_times.size > 0:  \n",
    "            head_mov_bool[i] = True\n",
    "\n",
    "    df['head_movement'] = head_mov_bool\n",
    "    return df\n",
    "\n",
    "def label_saccade_movements(block):\n",
    "    mov_times = block.liz_mov_df.t_mov_ms.values\n",
    "    block.l_saccade_df = get_head_mov_col(block.l_saccade_df,mov_times=mov_times)\n",
    "    block.r_saccade_df = get_head_mov_col(block.r_saccade_df,mov_times=mov_times)\n",
    "\n",
    "for block in block_collection:\n",
    "    label_saccade_movements(block)\n",
    "    "
   ],
   "metadata": {
    "collapsed": false,
    "ExecuteTime": {
     "end_time": "2024-11-22T16:31:59.009489700Z",
     "start_time": "2024-11-22T16:31:58.967982300Z"
    }
   },
   "id": "deb992c12cb3401f",
   "execution_count": 10
  },
  {
   "cell_type": "code",
   "outputs": [
    {
     "data": {
      "text/plain": "0          28297.55\n1          28314.55\n2          28331.55\n3          28348.50\n4          28365.50\n            ...    \n99203    1713097.45\n99204    1713114.45\n99205    1713131.40\n99206    1713148.40\n99207    1713165.35\nName: ms_axis, Length: 99208, dtype: float64"
     },
     "execution_count": 15,
     "metadata": {},
     "output_type": "execute_result"
    }
   ],
   "source": [
    "block.left_eye_data.ms_axis"
   ],
   "metadata": {
    "collapsed": false,
    "ExecuteTime": {
     "end_time": "2024-11-22T16:38:32.048776900Z",
     "start_time": "2024-11-22T16:38:31.968775400Z"
    }
   },
   "id": "47d62952b8680a2c",
   "execution_count": 15
  },
  {
   "cell_type": "code",
   "outputs": [
    {
     "name": "stdout",
     "output_type": "stream",
     "text": [
      "x_axis manually set\n",
      "x_axis manually set\n",
      "x_axis manually set\n",
      "x_axis manually set\n",
      "x_axis manually set\n",
      "x_axis manually set\n",
      "exporting to D:\\Bar_graphs\n"
     ]
    }
   ],
   "source": [
    "# basic eye data for a single block\n",
    "def block_raw_data_plot(block, export_path):\n",
    "    def calculate_zscore(data):\n",
    "        mean = np.nanmean(data)\n",
    "        std_dev = np.nanstd(data)  # Calculate standard deviation from the data\n",
    "        zscore = (data - mean) / std_dev\n",
    "        return zscore\n",
    "    left_r = calculate_zscore(block.left_eye_data['speed_r'])\n",
    "    right_r = calculate_zscore(block.right_eye_data['speed_r'])\n",
    "    left_x = calculate_zscore(block.left_eye_data['center_x']) - 7\n",
    "    left_y = calculate_zscore(block.left_eye_data['center_y']) - 3\n",
    "    right_x = calculate_zscore(block.right_eye_data['center_x']) - 7\n",
    "    right_y = calculate_zscore(block.right_eye_data['center_y']) - 3\n",
    "    x_axis = block.left_eye_data.ms_axis\n",
    "    bokeh_plotter([left_r, right_r, left_x, right_x, left_y, right_y],\n",
    "                  label_list = ['left_r', 'right_r', 'left_x', 'right_x', 'left_y', 'right_y'],x_axis_list=[x_axis,x_axis,x_axis,x_axis,x_axis,x_axis],\n",
    "                  plot_name='Synchronized Eye-trakcing',x_axis_label='Time [ms, from experiment start]',y_axis_label='z_score center values, pixel speed_r',export_path=export_path)\n"
   ],
   "metadata": {
    "collapsed": false,
    "ExecuteTime": {
     "end_time": "2024-11-22T16:47:07.927634100Z",
     "start_time": "2024-11-22T16:47:06.776495300Z"
    }
   },
   "id": "819d87479a3c7af6",
   "execution_count": 21
  },
  {
   "cell_type": "code",
   "outputs": [
    {
     "data": {
      "text/plain": "        Arena_TTL  Arena_TTL_frame   L_eye_TTL  L_eye_TTL_frame   R_eye_TTL  \\\n1           329.0              NaN         NaN              NaN         NaN   \n3           669.0              NaN         NaN              NaN         NaN   \n5          1008.0              NaN         NaN              NaN         NaN   \n7          1348.0              NaN         NaN              NaN         NaN   \n9          1687.0              NaN         NaN              NaN         NaN   \n...           ...              ...         ...              ...         ...   \n631965        NaN              NaN         NaN              NaN  36379834.0   \n631967        NaN              NaN  36379974.0         107638.0         NaN   \n631969        NaN              NaN         NaN              NaN  36380079.0   \n631971        NaN              NaN  36380322.0         107639.0         NaN   \n631973        NaN              NaN         NaN              NaN  36380430.0   \n\n        R_eye_TTL_frame  \n1                   NaN  \n3                   NaN  \n5                   NaN  \n7                   NaN  \n9                   NaN  \n...                 ...  \n631965         107640.0  \n631967              NaN  \n631969         107641.0  \n631971              NaN  \n631973         107642.0  \n\n[315987 rows x 6 columns]",
      "text/html": "<div>\n<style scoped>\n    .dataframe tbody tr th:only-of-type {\n        vertical-align: middle;\n    }\n\n    .dataframe tbody tr th {\n        vertical-align: top;\n    }\n\n    .dataframe thead th {\n        text-align: right;\n    }\n</style>\n<table border=\"1\" class=\"dataframe\">\n  <thead>\n    <tr style=\"text-align: right;\">\n      <th></th>\n      <th>Arena_TTL</th>\n      <th>Arena_TTL_frame</th>\n      <th>L_eye_TTL</th>\n      <th>L_eye_TTL_frame</th>\n      <th>R_eye_TTL</th>\n      <th>R_eye_TTL_frame</th>\n    </tr>\n  </thead>\n  <tbody>\n    <tr>\n      <th>1</th>\n      <td>329.0</td>\n      <td>NaN</td>\n      <td>NaN</td>\n      <td>NaN</td>\n      <td>NaN</td>\n      <td>NaN</td>\n    </tr>\n    <tr>\n      <th>3</th>\n      <td>669.0</td>\n      <td>NaN</td>\n      <td>NaN</td>\n      <td>NaN</td>\n      <td>NaN</td>\n      <td>NaN</td>\n    </tr>\n    <tr>\n      <th>5</th>\n      <td>1008.0</td>\n      <td>NaN</td>\n      <td>NaN</td>\n      <td>NaN</td>\n      <td>NaN</td>\n      <td>NaN</td>\n    </tr>\n    <tr>\n      <th>7</th>\n      <td>1348.0</td>\n      <td>NaN</td>\n      <td>NaN</td>\n      <td>NaN</td>\n      <td>NaN</td>\n      <td>NaN</td>\n    </tr>\n    <tr>\n      <th>9</th>\n      <td>1687.0</td>\n      <td>NaN</td>\n      <td>NaN</td>\n      <td>NaN</td>\n      <td>NaN</td>\n      <td>NaN</td>\n    </tr>\n    <tr>\n      <th>...</th>\n      <td>...</td>\n      <td>...</td>\n      <td>...</td>\n      <td>...</td>\n      <td>...</td>\n      <td>...</td>\n    </tr>\n    <tr>\n      <th>631965</th>\n      <td>NaN</td>\n      <td>NaN</td>\n      <td>NaN</td>\n      <td>NaN</td>\n      <td>36379834.0</td>\n      <td>107640.0</td>\n    </tr>\n    <tr>\n      <th>631967</th>\n      <td>NaN</td>\n      <td>NaN</td>\n      <td>36379974.0</td>\n      <td>107638.0</td>\n      <td>NaN</td>\n      <td>NaN</td>\n    </tr>\n    <tr>\n      <th>631969</th>\n      <td>NaN</td>\n      <td>NaN</td>\n      <td>NaN</td>\n      <td>NaN</td>\n      <td>36380079.0</td>\n      <td>107641.0</td>\n    </tr>\n    <tr>\n      <th>631971</th>\n      <td>NaN</td>\n      <td>NaN</td>\n      <td>36380322.0</td>\n      <td>107639.0</td>\n      <td>NaN</td>\n      <td>NaN</td>\n    </tr>\n    <tr>\n      <th>631973</th>\n      <td>NaN</td>\n      <td>NaN</td>\n      <td>NaN</td>\n      <td>NaN</td>\n      <td>36380430.0</td>\n      <td>107642.0</td>\n    </tr>\n  </tbody>\n</table>\n<p>315987 rows × 6 columns</p>\n</div>"
     },
     "execution_count": 22,
     "metadata": {},
     "output_type": "execute_result"
    }
   ],
   "source": [
    "block.oe_events"
   ],
   "metadata": {
    "collapsed": false,
    "ExecuteTime": {
     "end_time": "2024-11-22T16:49:50.638130600Z",
     "start_time": "2024-11-22T16:49:50.557104600Z"
    }
   },
   "id": "1a6312f7031653a7",
   "execution_count": 22
  },
  {
   "cell_type": "code",
   "outputs": [
    {
     "name": "stderr",
     "output_type": "stream",
     "text": [
      "598it [00:01, 437.77it/s]\n"
     ]
    }
   ],
   "source": [
    "# over here, I try to further segment saccades based on angles\n",
    "def get_angular_v_and_acc(df):\n",
    "    # 1. Calculate the differences in x and y coordinates between consecutive frames\n",
    "    delta_x = df['center_x'].diff()\n",
    "    delta_y = df['center_y'].diff()\n",
    "    \n",
    "    # 2. Calculate the movement angle for each frame using arctan2\n",
    "    angles = np.arctan2(delta_y, delta_x)\n",
    "    \n",
    "    # 3. Calculate angular velocity in degrees\n",
    "    angular_velocity = np.abs(angles.diff().fillna(0)) * (180 / np.pi)\n",
    "    angular_velocity_per_ms = angular_velocity   # Convert to degrees per frame\n",
    "    \n",
    "    # 4. Calculate angular acceleration (difference in angular velocity)\n",
    "    angular_acceleration = angular_velocity_per_ms.diff().fillna(0)  # Convert to degrees per frame²\n",
    "\n",
    "    # Add angular velocity and angular acceleration to the dataframe\n",
    "    df['angular_v'] = angular_velocity_per_ms\n",
    "    df['angular_acc'] = np.abs(angular_acceleration)\n",
    "    return df\n",
    "\n",
    "saccade_df = block.l_saccade_df\n",
    "eye_df = block.left_eye_data \n",
    "eye_df = get_angular_v_and_acc(eye_df)\n",
    "\n",
    "stacked_saccades = pd.DataFrame()  # Initialize an empty DataFrame\n",
    "\n",
    "for index, row in tqdm.tqdm(saccade_df.iterrows()):\n",
    "    start_ms = row['saccade_on_ms']\n",
    "    end_ms = row['saccade_off_ms']\n",
    "    \n",
    "    # Extract samples for the current saccade\n",
    "    saccade_samples = eye_df.query('ms_axis >= @start_ms and ms_axis <= @end_ms').copy()\n",
    "    \n",
    "    # Assign a unique ID to each saccade for grouping\n",
    "    saccade_samples['saccade_id'] = index  # Using the index as an ID\n",
    "    \n",
    "    # Append to the stacked DataFrame\n",
    "    stacked_saccades = pd.concat([stacked_saccades, saccade_samples], ignore_index=True)\n",
    "\n",
    "    "
   ],
   "metadata": {
    "collapsed": false,
    "ExecuteTime": {
     "end_time": "2024-11-03T21:20:44.844214400Z",
     "start_time": "2024-11-03T21:20:43.458987800Z"
    }
   },
   "id": "7847d70acedd8151",
   "execution_count": 34
  },
  {
   "cell_type": "code",
   "outputs": [],
   "source": [
    "# Set an angular acceleration threshold for segmenting within each saccade\n",
    "angular_acc_threshold = stacked_saccades['angular_acc'].quantile(0.90)  # Using the 90th percentile as an example\n",
    "\n",
    "# Initialize a list to store sub-saccades\n",
    "sub_saccades = []\n",
    "\n",
    "# Iterate through each saccade in stacked_saccades\n",
    "for saccade_id, saccade_data in stacked_saccades.groupby('saccade_id'):\n",
    "    # Identify points where angular acceleration exceeds the threshold\n",
    "    split_points = saccade_data[saccade_data['angular_acc'] > angular_acc_threshold].index\n",
    "\n",
    "    # Split the saccade into sub-saccades using the identified points\n",
    "    start_idx = saccade_data.index[0]  # Start of the current saccade\n",
    "    sub_saccade_id = 0  # Initialize sub-saccade ID\n",
    "\n",
    "    for split_idx in split_points:\n",
    "        # Define the sub-saccade as the segment between start and split points\n",
    "        sub_saccade = saccade_data.loc[start_idx:split_idx].copy()\n",
    "        sub_saccade['sub_saccade_id'] = f\"{saccade_id}_{sub_saccade_id}\"  # Assign unique sub-saccade ID\n",
    "\n",
    "        # Append sub-saccade to the list\n",
    "        sub_saccades.append(sub_saccade)\n",
    "\n",
    "        # Update start index for the next sub-saccade\n",
    "        start_idx = split_idx + 1\n",
    "        sub_saccade_id += 1\n",
    "\n",
    "    # Add the final segment as a sub-saccade if there’s data remaining\n",
    "    if start_idx < saccade_data.index[-1]:\n",
    "        sub_saccade = saccade_data.loc[start_idx:].copy()\n",
    "        sub_saccade['sub_saccade_id'] = f\"{saccade_id}_{sub_saccade_id}\"\n",
    "        sub_saccades.append(sub_saccade)\n",
    "\n",
    "# Combine all sub-saccades into a single DataFrame\n",
    "stacked_sub_saccades = pd.concat(sub_saccades, ignore_index=True)\n"
   ],
   "metadata": {
    "collapsed": false,
    "ExecuteTime": {
     "end_time": "2024-11-03T21:36:12.704350800Z",
     "start_time": "2024-11-03T21:36:11.524328500Z"
    }
   },
   "id": "be55c48b03466fd0",
   "execution_count": 51
  },
  {
   "cell_type": "code",
   "outputs": [
    {
     "data": {
      "text/plain": "<IPython.core.display.Javascript object>",
      "application/javascript": "/* Put everything inside the global mpl namespace */\n/* global mpl */\nwindow.mpl = {};\n\nmpl.get_websocket_type = function () {\n    if (typeof WebSocket !== 'undefined') {\n        return WebSocket;\n    } else if (typeof MozWebSocket !== 'undefined') {\n        return MozWebSocket;\n    } else {\n        alert(\n            'Your browser does not have WebSocket support. ' +\n                'Please try Chrome, Safari or Firefox ≥ 6. ' +\n                'Firefox 4 and 5 are also supported but you ' +\n                'have to enable WebSockets in about:config.'\n        );\n    }\n};\n\nmpl.figure = function (figure_id, websocket, ondownload, parent_element) {\n    this.id = figure_id;\n\n    this.ws = websocket;\n\n    this.supports_binary = this.ws.binaryType !== undefined;\n\n    if (!this.supports_binary) {\n        var warnings = document.getElementById('mpl-warnings');\n        if (warnings) {\n            warnings.style.display = 'block';\n            warnings.textContent =\n                'This browser does not support binary websocket messages. ' +\n                'Performance may be slow.';\n        }\n    }\n\n    this.imageObj = new Image();\n\n    this.context = undefined;\n    this.message = undefined;\n    this.canvas = undefined;\n    this.rubberband_canvas = undefined;\n    this.rubberband_context = undefined;\n    this.format_dropdown = undefined;\n\n    this.image_mode = 'full';\n\n    this.root = document.createElement('div');\n    this.root.setAttribute('style', 'display: inline-block');\n    this._root_extra_style(this.root);\n\n    parent_element.appendChild(this.root);\n\n    this._init_header(this);\n    this._init_canvas(this);\n    this._init_toolbar(this);\n\n    var fig = this;\n\n    this.waiting = false;\n\n    this.ws.onopen = function () {\n        fig.send_message('supports_binary', { value: fig.supports_binary });\n        fig.send_message('send_image_mode', {});\n        if (fig.ratio !== 1) {\n            fig.send_message('set_device_pixel_ratio', {\n                device_pixel_ratio: fig.ratio,\n            });\n        }\n        fig.send_message('refresh', {});\n    };\n\n    this.imageObj.onload = function () {\n        if (fig.image_mode === 'full') {\n            // Full images could contain transparency (where diff images\n            // almost always do), so we need to clear the canvas so that\n            // there is no ghosting.\n            fig.context.clearRect(0, 0, fig.canvas.width, fig.canvas.height);\n        }\n        fig.context.drawImage(fig.imageObj, 0, 0);\n    };\n\n    this.imageObj.onunload = function () {\n        fig.ws.close();\n    };\n\n    this.ws.onmessage = this._make_on_message_function(this);\n\n    this.ondownload = ondownload;\n};\n\nmpl.figure.prototype._init_header = function () {\n    var titlebar = document.createElement('div');\n    titlebar.classList =\n        'ui-dialog-titlebar ui-widget-header ui-corner-all ui-helper-clearfix';\n    var titletext = document.createElement('div');\n    titletext.classList = 'ui-dialog-title';\n    titletext.setAttribute(\n        'style',\n        'width: 100%; text-align: center; padding: 3px;'\n    );\n    titlebar.appendChild(titletext);\n    this.root.appendChild(titlebar);\n    this.header = titletext;\n};\n\nmpl.figure.prototype._canvas_extra_style = function (_canvas_div) {};\n\nmpl.figure.prototype._root_extra_style = function (_canvas_div) {};\n\nmpl.figure.prototype._init_canvas = function () {\n    var fig = this;\n\n    var canvas_div = (this.canvas_div = document.createElement('div'));\n    canvas_div.setAttribute('tabindex', '0');\n    canvas_div.setAttribute(\n        'style',\n        'border: 1px solid #ddd;' +\n            'box-sizing: content-box;' +\n            'clear: both;' +\n            'min-height: 1px;' +\n            'min-width: 1px;' +\n            'outline: 0;' +\n            'overflow: hidden;' +\n            'position: relative;' +\n            'resize: both;' +\n            'z-index: 2;'\n    );\n\n    function on_keyboard_event_closure(name) {\n        return function (event) {\n            return fig.key_event(event, name);\n        };\n    }\n\n    canvas_div.addEventListener(\n        'keydown',\n        on_keyboard_event_closure('key_press')\n    );\n    canvas_div.addEventListener(\n        'keyup',\n        on_keyboard_event_closure('key_release')\n    );\n\n    this._canvas_extra_style(canvas_div);\n    this.root.appendChild(canvas_div);\n\n    var canvas = (this.canvas = document.createElement('canvas'));\n    canvas.classList.add('mpl-canvas');\n    canvas.setAttribute(\n        'style',\n        'box-sizing: content-box;' +\n            'pointer-events: none;' +\n            'position: relative;' +\n            'z-index: 0;'\n    );\n\n    this.context = canvas.getContext('2d');\n\n    var backingStore =\n        this.context.backingStorePixelRatio ||\n        this.context.webkitBackingStorePixelRatio ||\n        this.context.mozBackingStorePixelRatio ||\n        this.context.msBackingStorePixelRatio ||\n        this.context.oBackingStorePixelRatio ||\n        this.context.backingStorePixelRatio ||\n        1;\n\n    this.ratio = (window.devicePixelRatio || 1) / backingStore;\n\n    var rubberband_canvas = (this.rubberband_canvas = document.createElement(\n        'canvas'\n    ));\n    rubberband_canvas.setAttribute(\n        'style',\n        'box-sizing: content-box;' +\n            'left: 0;' +\n            'pointer-events: none;' +\n            'position: absolute;' +\n            'top: 0;' +\n            'z-index: 1;'\n    );\n\n    // Apply a ponyfill if ResizeObserver is not implemented by browser.\n    if (this.ResizeObserver === undefined) {\n        if (window.ResizeObserver !== undefined) {\n            this.ResizeObserver = window.ResizeObserver;\n        } else {\n            var obs = _JSXTOOLS_RESIZE_OBSERVER({});\n            this.ResizeObserver = obs.ResizeObserver;\n        }\n    }\n\n    this.resizeObserverInstance = new this.ResizeObserver(function (entries) {\n        var nentries = entries.length;\n        for (var i = 0; i < nentries; i++) {\n            var entry = entries[i];\n            var width, height;\n            if (entry.contentBoxSize) {\n                if (entry.contentBoxSize instanceof Array) {\n                    // Chrome 84 implements new version of spec.\n                    width = entry.contentBoxSize[0].inlineSize;\n                    height = entry.contentBoxSize[0].blockSize;\n                } else {\n                    // Firefox implements old version of spec.\n                    width = entry.contentBoxSize.inlineSize;\n                    height = entry.contentBoxSize.blockSize;\n                }\n            } else {\n                // Chrome <84 implements even older version of spec.\n                width = entry.contentRect.width;\n                height = entry.contentRect.height;\n            }\n\n            // Keep the size of the canvas and rubber band canvas in sync with\n            // the canvas container.\n            if (entry.devicePixelContentBoxSize) {\n                // Chrome 84 implements new version of spec.\n                canvas.setAttribute(\n                    'width',\n                    entry.devicePixelContentBoxSize[0].inlineSize\n                );\n                canvas.setAttribute(\n                    'height',\n                    entry.devicePixelContentBoxSize[0].blockSize\n                );\n            } else {\n                canvas.setAttribute('width', width * fig.ratio);\n                canvas.setAttribute('height', height * fig.ratio);\n            }\n            /* This rescales the canvas back to display pixels, so that it\n             * appears correct on HiDPI screens. */\n            canvas.style.width = width + 'px';\n            canvas.style.height = height + 'px';\n\n            rubberband_canvas.setAttribute('width', width);\n            rubberband_canvas.setAttribute('height', height);\n\n            // And update the size in Python. We ignore the initial 0/0 size\n            // that occurs as the element is placed into the DOM, which should\n            // otherwise not happen due to the minimum size styling.\n            if (fig.ws.readyState == 1 && width != 0 && height != 0) {\n                fig.request_resize(width, height);\n            }\n        }\n    });\n    this.resizeObserverInstance.observe(canvas_div);\n\n    function on_mouse_event_closure(name) {\n        /* User Agent sniffing is bad, but WebKit is busted:\n         * https://bugs.webkit.org/show_bug.cgi?id=144526\n         * https://bugs.webkit.org/show_bug.cgi?id=181818\n         * The worst that happens here is that they get an extra browser\n         * selection when dragging, if this check fails to catch them.\n         */\n        var UA = navigator.userAgent;\n        var isWebKit = /AppleWebKit/.test(UA) && !/Chrome/.test(UA);\n        if(isWebKit) {\n            return function (event) {\n                /* This prevents the web browser from automatically changing to\n                 * the text insertion cursor when the button is pressed. We\n                 * want to control all of the cursor setting manually through\n                 * the 'cursor' event from matplotlib */\n                event.preventDefault()\n                return fig.mouse_event(event, name);\n            };\n        } else {\n            return function (event) {\n                return fig.mouse_event(event, name);\n            };\n        }\n    }\n\n    canvas_div.addEventListener(\n        'mousedown',\n        on_mouse_event_closure('button_press')\n    );\n    canvas_div.addEventListener(\n        'mouseup',\n        on_mouse_event_closure('button_release')\n    );\n    canvas_div.addEventListener(\n        'dblclick',\n        on_mouse_event_closure('dblclick')\n    );\n    // Throttle sequential mouse events to 1 every 20ms.\n    canvas_div.addEventListener(\n        'mousemove',\n        on_mouse_event_closure('motion_notify')\n    );\n\n    canvas_div.addEventListener(\n        'mouseenter',\n        on_mouse_event_closure('figure_enter')\n    );\n    canvas_div.addEventListener(\n        'mouseleave',\n        on_mouse_event_closure('figure_leave')\n    );\n\n    canvas_div.addEventListener('wheel', function (event) {\n        if (event.deltaY < 0) {\n            event.step = 1;\n        } else {\n            event.step = -1;\n        }\n        on_mouse_event_closure('scroll')(event);\n    });\n\n    canvas_div.appendChild(canvas);\n    canvas_div.appendChild(rubberband_canvas);\n\n    this.rubberband_context = rubberband_canvas.getContext('2d');\n    this.rubberband_context.strokeStyle = '#000000';\n\n    this._resize_canvas = function (width, height, forward) {\n        if (forward) {\n            canvas_div.style.width = width + 'px';\n            canvas_div.style.height = height + 'px';\n        }\n    };\n\n    // Disable right mouse context menu.\n    canvas_div.addEventListener('contextmenu', function (_e) {\n        event.preventDefault();\n        return false;\n    });\n\n    function set_focus() {\n        canvas.focus();\n        canvas_div.focus();\n    }\n\n    window.setTimeout(set_focus, 100);\n};\n\nmpl.figure.prototype._init_toolbar = function () {\n    var fig = this;\n\n    var toolbar = document.createElement('div');\n    toolbar.classList = 'mpl-toolbar';\n    this.root.appendChild(toolbar);\n\n    function on_click_closure(name) {\n        return function (_event) {\n            return fig.toolbar_button_onclick(name);\n        };\n    }\n\n    function on_mouseover_closure(tooltip) {\n        return function (event) {\n            if (!event.currentTarget.disabled) {\n                return fig.toolbar_button_onmouseover(tooltip);\n            }\n        };\n    }\n\n    fig.buttons = {};\n    var buttonGroup = document.createElement('div');\n    buttonGroup.classList = 'mpl-button-group';\n    for (var toolbar_ind in mpl.toolbar_items) {\n        var name = mpl.toolbar_items[toolbar_ind][0];\n        var tooltip = mpl.toolbar_items[toolbar_ind][1];\n        var image = mpl.toolbar_items[toolbar_ind][2];\n        var method_name = mpl.toolbar_items[toolbar_ind][3];\n\n        if (!name) {\n            /* Instead of a spacer, we start a new button group. */\n            if (buttonGroup.hasChildNodes()) {\n                toolbar.appendChild(buttonGroup);\n            }\n            buttonGroup = document.createElement('div');\n            buttonGroup.classList = 'mpl-button-group';\n            continue;\n        }\n\n        var button = (fig.buttons[name] = document.createElement('button'));\n        button.classList = 'mpl-widget';\n        button.setAttribute('role', 'button');\n        button.setAttribute('aria-disabled', 'false');\n        button.addEventListener('click', on_click_closure(method_name));\n        button.addEventListener('mouseover', on_mouseover_closure(tooltip));\n\n        var icon_img = document.createElement('img');\n        icon_img.src = '_images/' + image + '.png';\n        icon_img.srcset = '_images/' + image + '_large.png 2x';\n        icon_img.alt = tooltip;\n        button.appendChild(icon_img);\n\n        buttonGroup.appendChild(button);\n    }\n\n    if (buttonGroup.hasChildNodes()) {\n        toolbar.appendChild(buttonGroup);\n    }\n\n    var fmt_picker = document.createElement('select');\n    fmt_picker.classList = 'mpl-widget';\n    toolbar.appendChild(fmt_picker);\n    this.format_dropdown = fmt_picker;\n\n    for (var ind in mpl.extensions) {\n        var fmt = mpl.extensions[ind];\n        var option = document.createElement('option');\n        option.selected = fmt === mpl.default_extension;\n        option.innerHTML = fmt;\n        fmt_picker.appendChild(option);\n    }\n\n    var status_bar = document.createElement('span');\n    status_bar.classList = 'mpl-message';\n    toolbar.appendChild(status_bar);\n    this.message = status_bar;\n};\n\nmpl.figure.prototype.request_resize = function (x_pixels, y_pixels) {\n    // Request matplotlib to resize the figure. Matplotlib will then trigger a resize in the client,\n    // which will in turn request a refresh of the image.\n    this.send_message('resize', { width: x_pixels, height: y_pixels });\n};\n\nmpl.figure.prototype.send_message = function (type, properties) {\n    properties['type'] = type;\n    properties['figure_id'] = this.id;\n    this.ws.send(JSON.stringify(properties));\n};\n\nmpl.figure.prototype.send_draw_message = function () {\n    if (!this.waiting) {\n        this.waiting = true;\n        this.ws.send(JSON.stringify({ type: 'draw', figure_id: this.id }));\n    }\n};\n\nmpl.figure.prototype.handle_save = function (fig, _msg) {\n    var format_dropdown = fig.format_dropdown;\n    var format = format_dropdown.options[format_dropdown.selectedIndex].value;\n    fig.ondownload(fig, format);\n};\n\nmpl.figure.prototype.handle_resize = function (fig, msg) {\n    var size = msg['size'];\n    if (size[0] !== fig.canvas.width || size[1] !== fig.canvas.height) {\n        fig._resize_canvas(size[0], size[1], msg['forward']);\n        fig.send_message('refresh', {});\n    }\n};\n\nmpl.figure.prototype.handle_rubberband = function (fig, msg) {\n    var x0 = msg['x0'] / fig.ratio;\n    var y0 = (fig.canvas.height - msg['y0']) / fig.ratio;\n    var x1 = msg['x1'] / fig.ratio;\n    var y1 = (fig.canvas.height - msg['y1']) / fig.ratio;\n    x0 = Math.floor(x0) + 0.5;\n    y0 = Math.floor(y0) + 0.5;\n    x1 = Math.floor(x1) + 0.5;\n    y1 = Math.floor(y1) + 0.5;\n    var min_x = Math.min(x0, x1);\n    var min_y = Math.min(y0, y1);\n    var width = Math.abs(x1 - x0);\n    var height = Math.abs(y1 - y0);\n\n    fig.rubberband_context.clearRect(\n        0,\n        0,\n        fig.canvas.width / fig.ratio,\n        fig.canvas.height / fig.ratio\n    );\n\n    fig.rubberband_context.strokeRect(min_x, min_y, width, height);\n};\n\nmpl.figure.prototype.handle_figure_label = function (fig, msg) {\n    // Updates the figure title.\n    fig.header.textContent = msg['label'];\n};\n\nmpl.figure.prototype.handle_cursor = function (fig, msg) {\n    fig.canvas_div.style.cursor = msg['cursor'];\n};\n\nmpl.figure.prototype.handle_message = function (fig, msg) {\n    fig.message.textContent = msg['message'];\n};\n\nmpl.figure.prototype.handle_draw = function (fig, _msg) {\n    // Request the server to send over a new figure.\n    fig.send_draw_message();\n};\n\nmpl.figure.prototype.handle_image_mode = function (fig, msg) {\n    fig.image_mode = msg['mode'];\n};\n\nmpl.figure.prototype.handle_history_buttons = function (fig, msg) {\n    for (var key in msg) {\n        if (!(key in fig.buttons)) {\n            continue;\n        }\n        fig.buttons[key].disabled = !msg[key];\n        fig.buttons[key].setAttribute('aria-disabled', !msg[key]);\n    }\n};\n\nmpl.figure.prototype.handle_navigate_mode = function (fig, msg) {\n    if (msg['mode'] === 'PAN') {\n        fig.buttons['Pan'].classList.add('active');\n        fig.buttons['Zoom'].classList.remove('active');\n    } else if (msg['mode'] === 'ZOOM') {\n        fig.buttons['Pan'].classList.remove('active');\n        fig.buttons['Zoom'].classList.add('active');\n    } else {\n        fig.buttons['Pan'].classList.remove('active');\n        fig.buttons['Zoom'].classList.remove('active');\n    }\n};\n\nmpl.figure.prototype.updated_canvas_event = function () {\n    // Called whenever the canvas gets updated.\n    this.send_message('ack', {});\n};\n\n// A function to construct a web socket function for onmessage handling.\n// Called in the figure constructor.\nmpl.figure.prototype._make_on_message_function = function (fig) {\n    return function socket_on_message(evt) {\n        if (evt.data instanceof Blob) {\n            var img = evt.data;\n            if (img.type !== 'image/png') {\n                /* FIXME: We get \"Resource interpreted as Image but\n                 * transferred with MIME type text/plain:\" errors on\n                 * Chrome.  But how to set the MIME type?  It doesn't seem\n                 * to be part of the websocket stream */\n                img.type = 'image/png';\n            }\n\n            /* Free the memory for the previous frames */\n            if (fig.imageObj.src) {\n                (window.URL || window.webkitURL).revokeObjectURL(\n                    fig.imageObj.src\n                );\n            }\n\n            fig.imageObj.src = (window.URL || window.webkitURL).createObjectURL(\n                img\n            );\n            fig.updated_canvas_event();\n            fig.waiting = false;\n            return;\n        } else if (\n            typeof evt.data === 'string' &&\n            evt.data.slice(0, 21) === 'data:image/png;base64'\n        ) {\n            fig.imageObj.src = evt.data;\n            fig.updated_canvas_event();\n            fig.waiting = false;\n            return;\n        }\n\n        var msg = JSON.parse(evt.data);\n        var msg_type = msg['type'];\n\n        // Call the  \"handle_{type}\" callback, which takes\n        // the figure and JSON message as its only arguments.\n        try {\n            var callback = fig['handle_' + msg_type];\n        } catch (e) {\n            console.log(\n                \"No handler for the '\" + msg_type + \"' message type: \",\n                msg\n            );\n            return;\n        }\n\n        if (callback) {\n            try {\n                // console.log(\"Handling '\" + msg_type + \"' message: \", msg);\n                callback(fig, msg);\n            } catch (e) {\n                console.log(\n                    \"Exception inside the 'handler_\" + msg_type + \"' callback:\",\n                    e,\n                    e.stack,\n                    msg\n                );\n            }\n        }\n    };\n};\n\nfunction getModifiers(event) {\n    var mods = [];\n    if (event.ctrlKey) {\n        mods.push('ctrl');\n    }\n    if (event.altKey) {\n        mods.push('alt');\n    }\n    if (event.shiftKey) {\n        mods.push('shift');\n    }\n    if (event.metaKey) {\n        mods.push('meta');\n    }\n    return mods;\n}\n\n/*\n * return a copy of an object with only non-object keys\n * we need this to avoid circular references\n * https://stackoverflow.com/a/24161582/3208463\n */\nfunction simpleKeys(original) {\n    return Object.keys(original).reduce(function (obj, key) {\n        if (typeof original[key] !== 'object') {\n            obj[key] = original[key];\n        }\n        return obj;\n    }, {});\n}\n\nmpl.figure.prototype.mouse_event = function (event, name) {\n    if (name === 'button_press') {\n        this.canvas.focus();\n        this.canvas_div.focus();\n    }\n\n    // from https://stackoverflow.com/q/1114465\n    var boundingRect = this.canvas.getBoundingClientRect();\n    var x = (event.clientX - boundingRect.left) * this.ratio;\n    var y = (event.clientY - boundingRect.top) * this.ratio;\n\n    this.send_message(name, {\n        x: x,\n        y: y,\n        button: event.button,\n        step: event.step,\n        modifiers: getModifiers(event),\n        guiEvent: simpleKeys(event),\n    });\n\n    return false;\n};\n\nmpl.figure.prototype._key_event_extra = function (_event, _name) {\n    // Handle any extra behaviour associated with a key event\n};\n\nmpl.figure.prototype.key_event = function (event, name) {\n    // Prevent repeat events\n    if (name === 'key_press') {\n        if (event.key === this._key) {\n            return;\n        } else {\n            this._key = event.key;\n        }\n    }\n    if (name === 'key_release') {\n        this._key = null;\n    }\n\n    var value = '';\n    if (event.ctrlKey && event.key !== 'Control') {\n        value += 'ctrl+';\n    }\n    else if (event.altKey && event.key !== 'Alt') {\n        value += 'alt+';\n    }\n    else if (event.shiftKey && event.key !== 'Shift') {\n        value += 'shift+';\n    }\n\n    value += 'k' + event.key;\n\n    this._key_event_extra(event, name);\n\n    this.send_message(name, { key: value, guiEvent: simpleKeys(event) });\n    return false;\n};\n\nmpl.figure.prototype.toolbar_button_onclick = function (name) {\n    if (name === 'download') {\n        this.handle_save(this, null);\n    } else {\n        this.send_message('toolbar_button', { name: name });\n    }\n};\n\nmpl.figure.prototype.toolbar_button_onmouseover = function (tooltip) {\n    this.message.textContent = tooltip;\n};\n\n///////////////// REMAINING CONTENT GENERATED BY embed_js.py /////////////////\n// prettier-ignore\nvar _JSXTOOLS_RESIZE_OBSERVER=function(A){var t,i=new WeakMap,n=new WeakMap,a=new WeakMap,r=new WeakMap,o=new Set;function s(e){if(!(this instanceof s))throw new TypeError(\"Constructor requires 'new' operator\");i.set(this,e)}function h(){throw new TypeError(\"Function is not a constructor\")}function c(e,t,i,n){e=0 in arguments?Number(arguments[0]):0,t=1 in arguments?Number(arguments[1]):0,i=2 in arguments?Number(arguments[2]):0,n=3 in arguments?Number(arguments[3]):0,this.right=(this.x=this.left=e)+(this.width=i),this.bottom=(this.y=this.top=t)+(this.height=n),Object.freeze(this)}function d(){t=requestAnimationFrame(d);var s=new WeakMap,p=new Set;o.forEach((function(t){r.get(t).forEach((function(i){var r=t instanceof window.SVGElement,o=a.get(t),d=r?0:parseFloat(o.paddingTop),f=r?0:parseFloat(o.paddingRight),l=r?0:parseFloat(o.paddingBottom),u=r?0:parseFloat(o.paddingLeft),g=r?0:parseFloat(o.borderTopWidth),m=r?0:parseFloat(o.borderRightWidth),w=r?0:parseFloat(o.borderBottomWidth),b=u+f,F=d+l,v=(r?0:parseFloat(o.borderLeftWidth))+m,W=g+w,y=r?0:t.offsetHeight-W-t.clientHeight,E=r?0:t.offsetWidth-v-t.clientWidth,R=b+v,z=F+W,M=r?t.width:parseFloat(o.width)-R-E,O=r?t.height:parseFloat(o.height)-z-y;if(n.has(t)){var k=n.get(t);if(k[0]===M&&k[1]===O)return}n.set(t,[M,O]);var S=Object.create(h.prototype);S.target=t,S.contentRect=new c(u,d,M,O),s.has(i)||(s.set(i,[]),p.add(i)),s.get(i).push(S)}))})),p.forEach((function(e){i.get(e).call(e,s.get(e),e)}))}return s.prototype.observe=function(i){if(i instanceof window.Element){r.has(i)||(r.set(i,new Set),o.add(i),a.set(i,window.getComputedStyle(i)));var n=r.get(i);n.has(this)||n.add(this),cancelAnimationFrame(t),t=requestAnimationFrame(d)}},s.prototype.unobserve=function(i){if(i instanceof window.Element&&r.has(i)){var n=r.get(i);n.has(this)&&(n.delete(this),n.size||(r.delete(i),o.delete(i))),n.size||r.delete(i),o.size||cancelAnimationFrame(t)}},A.DOMRectReadOnly=c,A.ResizeObserver=s,A.ResizeObserverEntry=h,A}; // eslint-disable-line\nmpl.toolbar_items = [[\"Home\", \"Reset original view\", \"fa fa-home\", \"home\"], [\"Back\", \"Back to previous view\", \"fa fa-arrow-left\", \"back\"], [\"Forward\", \"Forward to next view\", \"fa fa-arrow-right\", \"forward\"], [\"\", \"\", \"\", \"\"], [\"Pan\", \"Left button pans, Right button zooms\\nx/y fixes axis, CTRL fixes aspect\", \"fa fa-arrows\", \"pan\"], [\"Zoom\", \"Zoom to rectangle\\nx/y fixes axis\", \"fa fa-square-o\", \"zoom\"], [\"\", \"\", \"\", \"\"], [\"Download\", \"Download plot\", \"fa fa-floppy-o\", \"download\"]];\n\nmpl.extensions = [\"eps\", \"jpeg\", \"pgf\", \"pdf\", \"png\", \"ps\", \"raw\", \"svg\", \"tif\", \"webp\"];\n\nmpl.default_extension = \"png\";/* global mpl */\n\nvar comm_websocket_adapter = function (comm) {\n    // Create a \"websocket\"-like object which calls the given IPython comm\n    // object with the appropriate methods. Currently this is a non binary\n    // socket, so there is still some room for performance tuning.\n    var ws = {};\n\n    ws.binaryType = comm.kernel.ws.binaryType;\n    ws.readyState = comm.kernel.ws.readyState;\n    function updateReadyState(_event) {\n        if (comm.kernel.ws) {\n            ws.readyState = comm.kernel.ws.readyState;\n        } else {\n            ws.readyState = 3; // Closed state.\n        }\n    }\n    comm.kernel.ws.addEventListener('open', updateReadyState);\n    comm.kernel.ws.addEventListener('close', updateReadyState);\n    comm.kernel.ws.addEventListener('error', updateReadyState);\n\n    ws.close = function () {\n        comm.close();\n    };\n    ws.send = function (m) {\n        //console.log('sending', m);\n        comm.send(m);\n    };\n    // Register the callback with on_msg.\n    comm.on_msg(function (msg) {\n        //console.log('receiving', msg['content']['data'], msg);\n        var data = msg['content']['data'];\n        if (data['blob'] !== undefined) {\n            data = {\n                data: new Blob(msg['buffers'], { type: data['blob'] }),\n            };\n        }\n        // Pass the mpl event to the overridden (by mpl) onmessage function.\n        ws.onmessage(data);\n    });\n    return ws;\n};\n\nmpl.mpl_figure_comm = function (comm, msg) {\n    // This is the function which gets called when the mpl process\n    // starts-up an IPython Comm through the \"matplotlib\" channel.\n\n    var id = msg.content.data.id;\n    // Get hold of the div created by the display call when the Comm\n    // socket was opened in Python.\n    var element = document.getElementById(id);\n    var ws_proxy = comm_websocket_adapter(comm);\n\n    function ondownload(figure, _format) {\n        window.open(figure.canvas.toDataURL());\n    }\n\n    var fig = new mpl.figure(id, ws_proxy, ondownload, element);\n\n    // Call onopen now - mpl needs it, as it is assuming we've passed it a real\n    // web socket which is closed, not our websocket->open comm proxy.\n    ws_proxy.onopen();\n\n    fig.parent_element = element;\n    fig.cell_info = mpl.find_output_cell(\"<div id='\" + id + \"'></div>\");\n    if (!fig.cell_info) {\n        console.error('Failed to find cell for figure', id, fig);\n        return;\n    }\n    fig.cell_info[0].output_area.element.on(\n        'cleared',\n        { fig: fig },\n        fig._remove_fig_handler\n    );\n};\n\nmpl.figure.prototype.handle_close = function (fig, msg) {\n    var width = fig.canvas.width / fig.ratio;\n    fig.cell_info[0].output_area.element.off(\n        'cleared',\n        fig._remove_fig_handler\n    );\n    fig.resizeObserverInstance.unobserve(fig.canvas_div);\n\n    // Update the output cell to use the data from the current canvas.\n    fig.push_to_output();\n    var dataURL = fig.canvas.toDataURL();\n    // Re-enable the keyboard manager in IPython - without this line, in FF,\n    // the notebook keyboard shortcuts fail.\n    IPython.keyboard_manager.enable();\n    fig.parent_element.innerHTML =\n        '<img src=\"' + dataURL + '\" width=\"' + width + '\">';\n    fig.close_ws(fig, msg);\n};\n\nmpl.figure.prototype.close_ws = function (fig, msg) {\n    fig.send_message('closing', msg);\n    // fig.ws.close()\n};\n\nmpl.figure.prototype.push_to_output = function (_remove_interactive) {\n    // Turn the data on the canvas into data in the output cell.\n    var width = this.canvas.width / this.ratio;\n    var dataURL = this.canvas.toDataURL();\n    this.cell_info[1]['text/html'] =\n        '<img src=\"' + dataURL + '\" width=\"' + width + '\">';\n};\n\nmpl.figure.prototype.updated_canvas_event = function () {\n    // Tell IPython that the notebook contents must change.\n    IPython.notebook.set_dirty(true);\n    this.send_message('ack', {});\n    var fig = this;\n    // Wait a second, then push the new image to the DOM so\n    // that it is saved nicely (might be nice to debounce this).\n    setTimeout(function () {\n        fig.push_to_output();\n    }, 1000);\n};\n\nmpl.figure.prototype._init_toolbar = function () {\n    var fig = this;\n\n    var toolbar = document.createElement('div');\n    toolbar.classList = 'btn-toolbar';\n    this.root.appendChild(toolbar);\n\n    function on_click_closure(name) {\n        return function (_event) {\n            return fig.toolbar_button_onclick(name);\n        };\n    }\n\n    function on_mouseover_closure(tooltip) {\n        return function (event) {\n            if (!event.currentTarget.disabled) {\n                return fig.toolbar_button_onmouseover(tooltip);\n            }\n        };\n    }\n\n    fig.buttons = {};\n    var buttonGroup = document.createElement('div');\n    buttonGroup.classList = 'btn-group';\n    var button;\n    for (var toolbar_ind in mpl.toolbar_items) {\n        var name = mpl.toolbar_items[toolbar_ind][0];\n        var tooltip = mpl.toolbar_items[toolbar_ind][1];\n        var image = mpl.toolbar_items[toolbar_ind][2];\n        var method_name = mpl.toolbar_items[toolbar_ind][3];\n\n        if (!name) {\n            /* Instead of a spacer, we start a new button group. */\n            if (buttonGroup.hasChildNodes()) {\n                toolbar.appendChild(buttonGroup);\n            }\n            buttonGroup = document.createElement('div');\n            buttonGroup.classList = 'btn-group';\n            continue;\n        }\n\n        button = fig.buttons[name] = document.createElement('button');\n        button.classList = 'btn btn-default';\n        button.href = '#';\n        button.title = name;\n        button.innerHTML = '<i class=\"fa ' + image + ' fa-lg\"></i>';\n        button.addEventListener('click', on_click_closure(method_name));\n        button.addEventListener('mouseover', on_mouseover_closure(tooltip));\n        buttonGroup.appendChild(button);\n    }\n\n    if (buttonGroup.hasChildNodes()) {\n        toolbar.appendChild(buttonGroup);\n    }\n\n    // Add the status bar.\n    var status_bar = document.createElement('span');\n    status_bar.classList = 'mpl-message pull-right';\n    toolbar.appendChild(status_bar);\n    this.message = status_bar;\n\n    // Add the close button to the window.\n    var buttongrp = document.createElement('div');\n    buttongrp.classList = 'btn-group inline pull-right';\n    button = document.createElement('button');\n    button.classList = 'btn btn-mini btn-primary';\n    button.href = '#';\n    button.title = 'Stop Interaction';\n    button.innerHTML = '<i class=\"fa fa-power-off icon-remove icon-large\"></i>';\n    button.addEventListener('click', function (_evt) {\n        fig.handle_close(fig, {});\n    });\n    button.addEventListener(\n        'mouseover',\n        on_mouseover_closure('Stop Interaction')\n    );\n    buttongrp.appendChild(button);\n    var titlebar = this.root.querySelector('.ui-dialog-titlebar');\n    titlebar.insertBefore(buttongrp, titlebar.firstChild);\n};\n\nmpl.figure.prototype._remove_fig_handler = function (event) {\n    var fig = event.data.fig;\n    if (event.target !== this) {\n        // Ignore bubbled events from children.\n        return;\n    }\n    fig.close_ws(fig, {});\n};\n\nmpl.figure.prototype._root_extra_style = function (el) {\n    el.style.boxSizing = 'content-box'; // override notebook setting of border-box.\n};\n\nmpl.figure.prototype._canvas_extra_style = function (el) {\n    // this is important to make the div 'focusable\n    el.setAttribute('tabindex', 0);\n    // reach out to IPython and tell the keyboard manager to turn it's self\n    // off when our div gets focus\n\n    // location in version 3\n    if (IPython.notebook.keyboard_manager) {\n        IPython.notebook.keyboard_manager.register_events(el);\n    } else {\n        // location in version 2\n        IPython.keyboard_manager.register_events(el);\n    }\n};\n\nmpl.figure.prototype._key_event_extra = function (event, _name) {\n    // Check for shift+enter\n    if (event.shiftKey && event.which === 13) {\n        this.canvas_div.blur();\n        // select the cell after this one\n        var index = IPython.notebook.find_cell_index(this.cell_info[0]);\n        IPython.notebook.select(index + 1);\n    }\n};\n\nmpl.figure.prototype.handle_save = function (fig, _msg) {\n    fig.ondownload(fig, null);\n};\n\nmpl.find_output_cell = function (html_output) {\n    // Return the cell and output element which can be found *uniquely* in the notebook.\n    // Note - this is a bit hacky, but it is done because the \"notebook_saving.Notebook\"\n    // IPython event is triggered only after the cells have been serialised, which for\n    // our purposes (turning an active figure into a static one), is too late.\n    var cells = IPython.notebook.get_cells();\n    var ncells = cells.length;\n    for (var i = 0; i < ncells; i++) {\n        var cell = cells[i];\n        if (cell.cell_type === 'code') {\n            for (var j = 0; j < cell.output_area.outputs.length; j++) {\n                var data = cell.output_area.outputs[j];\n                if (data.data) {\n                    // IPython >= 3 moved mimebundle to data attribute of output\n                    data = data.data;\n                }\n                if (data['text/html'] === html_output) {\n                    return [cell, data, j];\n                }\n            }\n        }\n    }\n};\n\n// Register the function which deals with the matplotlib target/channel.\n// The kernel may be null if the page has been refreshed.\nif (IPython.notebook.kernel !== null) {\n    IPython.notebook.kernel.comm_manager.register_target(\n        'matplotlib',\n        mpl.mpl_figure_comm\n    );\n}\n"
     },
     "metadata": {},
     "output_type": "display_data"
    },
    {
     "data": {
      "text/plain": "<IPython.core.display.HTML object>",
      "text/html": "<div id='2489cf5e-d92f-47ae-9710-5f1807e56a0e'></div>"
     },
     "metadata": {},
     "output_type": "display_data"
    }
   ],
   "source": [
    "import matplotlib.pyplot as plt\n",
    "\n",
    "%matplotlib notebook\n",
    "\n",
    "# Extract the first index of each new saccade_id\n",
    "saccade_start_indices = stacked_sub_saccades.groupby('saccade_id').head(1).index\n",
    "\n",
    "# Plot the angular acceleration for all saccades\n",
    "fig, axs = plt.subplots(figsize=(10, 6))\n",
    "axs.plot(stacked_sub_saccades['center_x'], label=\"X\")\n",
    "axs.plot(stacked_sub_saccades['center_y'], label='Y')\n",
    "\n",
    "# Add vertical lines at each saccade start index\n",
    "for idx in saccade_start_indices:\n",
    "    axs.axvline(x=idx, color='r', linestyle='--', linewidth=0.8)\n",
    "\n",
    "# Optional: Labeling and legend\n",
    "axs.set_xlabel(\"Sample Index\")\n",
    "axs.set_ylabel(\"Angular Acceleration (degrees per frame²)\")\n",
    "axs.legend()\n",
    "plt.show()\n"
   ],
   "metadata": {
    "collapsed": false,
    "ExecuteTime": {
     "end_time": "2024-11-03T21:38:06.574113Z",
     "start_time": "2024-11-03T21:38:06.221112200Z"
    }
   },
   "id": "2f51cc445355cef6",
   "execution_count": 53
  },
  {
   "cell_type": "code",
   "outputs": [
    {
     "data": {
      "text/plain": "<IPython.core.display.Javascript object>",
      "application/javascript": "/* Put everything inside the global mpl namespace */\n/* global mpl */\nwindow.mpl = {};\n\nmpl.get_websocket_type = function () {\n    if (typeof WebSocket !== 'undefined') {\n        return WebSocket;\n    } else if (typeof MozWebSocket !== 'undefined') {\n        return MozWebSocket;\n    } else {\n        alert(\n            'Your browser does not have WebSocket support. ' +\n                'Please try Chrome, Safari or Firefox ≥ 6. ' +\n                'Firefox 4 and 5 are also supported but you ' +\n                'have to enable WebSockets in about:config.'\n        );\n    }\n};\n\nmpl.figure = function (figure_id, websocket, ondownload, parent_element) {\n    this.id = figure_id;\n\n    this.ws = websocket;\n\n    this.supports_binary = this.ws.binaryType !== undefined;\n\n    if (!this.supports_binary) {\n        var warnings = document.getElementById('mpl-warnings');\n        if (warnings) {\n            warnings.style.display = 'block';\n            warnings.textContent =\n                'This browser does not support binary websocket messages. ' +\n                'Performance may be slow.';\n        }\n    }\n\n    this.imageObj = new Image();\n\n    this.context = undefined;\n    this.message = undefined;\n    this.canvas = undefined;\n    this.rubberband_canvas = undefined;\n    this.rubberband_context = undefined;\n    this.format_dropdown = undefined;\n\n    this.image_mode = 'full';\n\n    this.root = document.createElement('div');\n    this.root.setAttribute('style', 'display: inline-block');\n    this._root_extra_style(this.root);\n\n    parent_element.appendChild(this.root);\n\n    this._init_header(this);\n    this._init_canvas(this);\n    this._init_toolbar(this);\n\n    var fig = this;\n\n    this.waiting = false;\n\n    this.ws.onopen = function () {\n        fig.send_message('supports_binary', { value: fig.supports_binary });\n        fig.send_message('send_image_mode', {});\n        if (fig.ratio !== 1) {\n            fig.send_message('set_device_pixel_ratio', {\n                device_pixel_ratio: fig.ratio,\n            });\n        }\n        fig.send_message('refresh', {});\n    };\n\n    this.imageObj.onload = function () {\n        if (fig.image_mode === 'full') {\n            // Full images could contain transparency (where diff images\n            // almost always do), so we need to clear the canvas so that\n            // there is no ghosting.\n            fig.context.clearRect(0, 0, fig.canvas.width, fig.canvas.height);\n        }\n        fig.context.drawImage(fig.imageObj, 0, 0);\n    };\n\n    this.imageObj.onunload = function () {\n        fig.ws.close();\n    };\n\n    this.ws.onmessage = this._make_on_message_function(this);\n\n    this.ondownload = ondownload;\n};\n\nmpl.figure.prototype._init_header = function () {\n    var titlebar = document.createElement('div');\n    titlebar.classList =\n        'ui-dialog-titlebar ui-widget-header ui-corner-all ui-helper-clearfix';\n    var titletext = document.createElement('div');\n    titletext.classList = 'ui-dialog-title';\n    titletext.setAttribute(\n        'style',\n        'width: 100%; text-align: center; padding: 3px;'\n    );\n    titlebar.appendChild(titletext);\n    this.root.appendChild(titlebar);\n    this.header = titletext;\n};\n\nmpl.figure.prototype._canvas_extra_style = function (_canvas_div) {};\n\nmpl.figure.prototype._root_extra_style = function (_canvas_div) {};\n\nmpl.figure.prototype._init_canvas = function () {\n    var fig = this;\n\n    var canvas_div = (this.canvas_div = document.createElement('div'));\n    canvas_div.setAttribute('tabindex', '0');\n    canvas_div.setAttribute(\n        'style',\n        'border: 1px solid #ddd;' +\n            'box-sizing: content-box;' +\n            'clear: both;' +\n            'min-height: 1px;' +\n            'min-width: 1px;' +\n            'outline: 0;' +\n            'overflow: hidden;' +\n            'position: relative;' +\n            'resize: both;' +\n            'z-index: 2;'\n    );\n\n    function on_keyboard_event_closure(name) {\n        return function (event) {\n            return fig.key_event(event, name);\n        };\n    }\n\n    canvas_div.addEventListener(\n        'keydown',\n        on_keyboard_event_closure('key_press')\n    );\n    canvas_div.addEventListener(\n        'keyup',\n        on_keyboard_event_closure('key_release')\n    );\n\n    this._canvas_extra_style(canvas_div);\n    this.root.appendChild(canvas_div);\n\n    var canvas = (this.canvas = document.createElement('canvas'));\n    canvas.classList.add('mpl-canvas');\n    canvas.setAttribute(\n        'style',\n        'box-sizing: content-box;' +\n            'pointer-events: none;' +\n            'position: relative;' +\n            'z-index: 0;'\n    );\n\n    this.context = canvas.getContext('2d');\n\n    var backingStore =\n        this.context.backingStorePixelRatio ||\n        this.context.webkitBackingStorePixelRatio ||\n        this.context.mozBackingStorePixelRatio ||\n        this.context.msBackingStorePixelRatio ||\n        this.context.oBackingStorePixelRatio ||\n        this.context.backingStorePixelRatio ||\n        1;\n\n    this.ratio = (window.devicePixelRatio || 1) / backingStore;\n\n    var rubberband_canvas = (this.rubberband_canvas = document.createElement(\n        'canvas'\n    ));\n    rubberband_canvas.setAttribute(\n        'style',\n        'box-sizing: content-box;' +\n            'left: 0;' +\n            'pointer-events: none;' +\n            'position: absolute;' +\n            'top: 0;' +\n            'z-index: 1;'\n    );\n\n    // Apply a ponyfill if ResizeObserver is not implemented by browser.\n    if (this.ResizeObserver === undefined) {\n        if (window.ResizeObserver !== undefined) {\n            this.ResizeObserver = window.ResizeObserver;\n        } else {\n            var obs = _JSXTOOLS_RESIZE_OBSERVER({});\n            this.ResizeObserver = obs.ResizeObserver;\n        }\n    }\n\n    this.resizeObserverInstance = new this.ResizeObserver(function (entries) {\n        var nentries = entries.length;\n        for (var i = 0; i < nentries; i++) {\n            var entry = entries[i];\n            var width, height;\n            if (entry.contentBoxSize) {\n                if (entry.contentBoxSize instanceof Array) {\n                    // Chrome 84 implements new version of spec.\n                    width = entry.contentBoxSize[0].inlineSize;\n                    height = entry.contentBoxSize[0].blockSize;\n                } else {\n                    // Firefox implements old version of spec.\n                    width = entry.contentBoxSize.inlineSize;\n                    height = entry.contentBoxSize.blockSize;\n                }\n            } else {\n                // Chrome <84 implements even older version of spec.\n                width = entry.contentRect.width;\n                height = entry.contentRect.height;\n            }\n\n            // Keep the size of the canvas and rubber band canvas in sync with\n            // the canvas container.\n            if (entry.devicePixelContentBoxSize) {\n                // Chrome 84 implements new version of spec.\n                canvas.setAttribute(\n                    'width',\n                    entry.devicePixelContentBoxSize[0].inlineSize\n                );\n                canvas.setAttribute(\n                    'height',\n                    entry.devicePixelContentBoxSize[0].blockSize\n                );\n            } else {\n                canvas.setAttribute('width', width * fig.ratio);\n                canvas.setAttribute('height', height * fig.ratio);\n            }\n            /* This rescales the canvas back to display pixels, so that it\n             * appears correct on HiDPI screens. */\n            canvas.style.width = width + 'px';\n            canvas.style.height = height + 'px';\n\n            rubberband_canvas.setAttribute('width', width);\n            rubberband_canvas.setAttribute('height', height);\n\n            // And update the size in Python. We ignore the initial 0/0 size\n            // that occurs as the element is placed into the DOM, which should\n            // otherwise not happen due to the minimum size styling.\n            if (fig.ws.readyState == 1 && width != 0 && height != 0) {\n                fig.request_resize(width, height);\n            }\n        }\n    });\n    this.resizeObserverInstance.observe(canvas_div);\n\n    function on_mouse_event_closure(name) {\n        /* User Agent sniffing is bad, but WebKit is busted:\n         * https://bugs.webkit.org/show_bug.cgi?id=144526\n         * https://bugs.webkit.org/show_bug.cgi?id=181818\n         * The worst that happens here is that they get an extra browser\n         * selection when dragging, if this check fails to catch them.\n         */\n        var UA = navigator.userAgent;\n        var isWebKit = /AppleWebKit/.test(UA) && !/Chrome/.test(UA);\n        if(isWebKit) {\n            return function (event) {\n                /* This prevents the web browser from automatically changing to\n                 * the text insertion cursor when the button is pressed. We\n                 * want to control all of the cursor setting manually through\n                 * the 'cursor' event from matplotlib */\n                event.preventDefault()\n                return fig.mouse_event(event, name);\n            };\n        } else {\n            return function (event) {\n                return fig.mouse_event(event, name);\n            };\n        }\n    }\n\n    canvas_div.addEventListener(\n        'mousedown',\n        on_mouse_event_closure('button_press')\n    );\n    canvas_div.addEventListener(\n        'mouseup',\n        on_mouse_event_closure('button_release')\n    );\n    canvas_div.addEventListener(\n        'dblclick',\n        on_mouse_event_closure('dblclick')\n    );\n    // Throttle sequential mouse events to 1 every 20ms.\n    canvas_div.addEventListener(\n        'mousemove',\n        on_mouse_event_closure('motion_notify')\n    );\n\n    canvas_div.addEventListener(\n        'mouseenter',\n        on_mouse_event_closure('figure_enter')\n    );\n    canvas_div.addEventListener(\n        'mouseleave',\n        on_mouse_event_closure('figure_leave')\n    );\n\n    canvas_div.addEventListener('wheel', function (event) {\n        if (event.deltaY < 0) {\n            event.step = 1;\n        } else {\n            event.step = -1;\n        }\n        on_mouse_event_closure('scroll')(event);\n    });\n\n    canvas_div.appendChild(canvas);\n    canvas_div.appendChild(rubberband_canvas);\n\n    this.rubberband_context = rubberband_canvas.getContext('2d');\n    this.rubberband_context.strokeStyle = '#000000';\n\n    this._resize_canvas = function (width, height, forward) {\n        if (forward) {\n            canvas_div.style.width = width + 'px';\n            canvas_div.style.height = height + 'px';\n        }\n    };\n\n    // Disable right mouse context menu.\n    canvas_div.addEventListener('contextmenu', function (_e) {\n        event.preventDefault();\n        return false;\n    });\n\n    function set_focus() {\n        canvas.focus();\n        canvas_div.focus();\n    }\n\n    window.setTimeout(set_focus, 100);\n};\n\nmpl.figure.prototype._init_toolbar = function () {\n    var fig = this;\n\n    var toolbar = document.createElement('div');\n    toolbar.classList = 'mpl-toolbar';\n    this.root.appendChild(toolbar);\n\n    function on_click_closure(name) {\n        return function (_event) {\n            return fig.toolbar_button_onclick(name);\n        };\n    }\n\n    function on_mouseover_closure(tooltip) {\n        return function (event) {\n            if (!event.currentTarget.disabled) {\n                return fig.toolbar_button_onmouseover(tooltip);\n            }\n        };\n    }\n\n    fig.buttons = {};\n    var buttonGroup = document.createElement('div');\n    buttonGroup.classList = 'mpl-button-group';\n    for (var toolbar_ind in mpl.toolbar_items) {\n        var name = mpl.toolbar_items[toolbar_ind][0];\n        var tooltip = mpl.toolbar_items[toolbar_ind][1];\n        var image = mpl.toolbar_items[toolbar_ind][2];\n        var method_name = mpl.toolbar_items[toolbar_ind][3];\n\n        if (!name) {\n            /* Instead of a spacer, we start a new button group. */\n            if (buttonGroup.hasChildNodes()) {\n                toolbar.appendChild(buttonGroup);\n            }\n            buttonGroup = document.createElement('div');\n            buttonGroup.classList = 'mpl-button-group';\n            continue;\n        }\n\n        var button = (fig.buttons[name] = document.createElement('button'));\n        button.classList = 'mpl-widget';\n        button.setAttribute('role', 'button');\n        button.setAttribute('aria-disabled', 'false');\n        button.addEventListener('click', on_click_closure(method_name));\n        button.addEventListener('mouseover', on_mouseover_closure(tooltip));\n\n        var icon_img = document.createElement('img');\n        icon_img.src = '_images/' + image + '.png';\n        icon_img.srcset = '_images/' + image + '_large.png 2x';\n        icon_img.alt = tooltip;\n        button.appendChild(icon_img);\n\n        buttonGroup.appendChild(button);\n    }\n\n    if (buttonGroup.hasChildNodes()) {\n        toolbar.appendChild(buttonGroup);\n    }\n\n    var fmt_picker = document.createElement('select');\n    fmt_picker.classList = 'mpl-widget';\n    toolbar.appendChild(fmt_picker);\n    this.format_dropdown = fmt_picker;\n\n    for (var ind in mpl.extensions) {\n        var fmt = mpl.extensions[ind];\n        var option = document.createElement('option');\n        option.selected = fmt === mpl.default_extension;\n        option.innerHTML = fmt;\n        fmt_picker.appendChild(option);\n    }\n\n    var status_bar = document.createElement('span');\n    status_bar.classList = 'mpl-message';\n    toolbar.appendChild(status_bar);\n    this.message = status_bar;\n};\n\nmpl.figure.prototype.request_resize = function (x_pixels, y_pixels) {\n    // Request matplotlib to resize the figure. Matplotlib will then trigger a resize in the client,\n    // which will in turn request a refresh of the image.\n    this.send_message('resize', { width: x_pixels, height: y_pixels });\n};\n\nmpl.figure.prototype.send_message = function (type, properties) {\n    properties['type'] = type;\n    properties['figure_id'] = this.id;\n    this.ws.send(JSON.stringify(properties));\n};\n\nmpl.figure.prototype.send_draw_message = function () {\n    if (!this.waiting) {\n        this.waiting = true;\n        this.ws.send(JSON.stringify({ type: 'draw', figure_id: this.id }));\n    }\n};\n\nmpl.figure.prototype.handle_save = function (fig, _msg) {\n    var format_dropdown = fig.format_dropdown;\n    var format = format_dropdown.options[format_dropdown.selectedIndex].value;\n    fig.ondownload(fig, format);\n};\n\nmpl.figure.prototype.handle_resize = function (fig, msg) {\n    var size = msg['size'];\n    if (size[0] !== fig.canvas.width || size[1] !== fig.canvas.height) {\n        fig._resize_canvas(size[0], size[1], msg['forward']);\n        fig.send_message('refresh', {});\n    }\n};\n\nmpl.figure.prototype.handle_rubberband = function (fig, msg) {\n    var x0 = msg['x0'] / fig.ratio;\n    var y0 = (fig.canvas.height - msg['y0']) / fig.ratio;\n    var x1 = msg['x1'] / fig.ratio;\n    var y1 = (fig.canvas.height - msg['y1']) / fig.ratio;\n    x0 = Math.floor(x0) + 0.5;\n    y0 = Math.floor(y0) + 0.5;\n    x1 = Math.floor(x1) + 0.5;\n    y1 = Math.floor(y1) + 0.5;\n    var min_x = Math.min(x0, x1);\n    var min_y = Math.min(y0, y1);\n    var width = Math.abs(x1 - x0);\n    var height = Math.abs(y1 - y0);\n\n    fig.rubberband_context.clearRect(\n        0,\n        0,\n        fig.canvas.width / fig.ratio,\n        fig.canvas.height / fig.ratio\n    );\n\n    fig.rubberband_context.strokeRect(min_x, min_y, width, height);\n};\n\nmpl.figure.prototype.handle_figure_label = function (fig, msg) {\n    // Updates the figure title.\n    fig.header.textContent = msg['label'];\n};\n\nmpl.figure.prototype.handle_cursor = function (fig, msg) {\n    fig.canvas_div.style.cursor = msg['cursor'];\n};\n\nmpl.figure.prototype.handle_message = function (fig, msg) {\n    fig.message.textContent = msg['message'];\n};\n\nmpl.figure.prototype.handle_draw = function (fig, _msg) {\n    // Request the server to send over a new figure.\n    fig.send_draw_message();\n};\n\nmpl.figure.prototype.handle_image_mode = function (fig, msg) {\n    fig.image_mode = msg['mode'];\n};\n\nmpl.figure.prototype.handle_history_buttons = function (fig, msg) {\n    for (var key in msg) {\n        if (!(key in fig.buttons)) {\n            continue;\n        }\n        fig.buttons[key].disabled = !msg[key];\n        fig.buttons[key].setAttribute('aria-disabled', !msg[key]);\n    }\n};\n\nmpl.figure.prototype.handle_navigate_mode = function (fig, msg) {\n    if (msg['mode'] === 'PAN') {\n        fig.buttons['Pan'].classList.add('active');\n        fig.buttons['Zoom'].classList.remove('active');\n    } else if (msg['mode'] === 'ZOOM') {\n        fig.buttons['Pan'].classList.remove('active');\n        fig.buttons['Zoom'].classList.add('active');\n    } else {\n        fig.buttons['Pan'].classList.remove('active');\n        fig.buttons['Zoom'].classList.remove('active');\n    }\n};\n\nmpl.figure.prototype.updated_canvas_event = function () {\n    // Called whenever the canvas gets updated.\n    this.send_message('ack', {});\n};\n\n// A function to construct a web socket function for onmessage handling.\n// Called in the figure constructor.\nmpl.figure.prototype._make_on_message_function = function (fig) {\n    return function socket_on_message(evt) {\n        if (evt.data instanceof Blob) {\n            var img = evt.data;\n            if (img.type !== 'image/png') {\n                /* FIXME: We get \"Resource interpreted as Image but\n                 * transferred with MIME type text/plain:\" errors on\n                 * Chrome.  But how to set the MIME type?  It doesn't seem\n                 * to be part of the websocket stream */\n                img.type = 'image/png';\n            }\n\n            /* Free the memory for the previous frames */\n            if (fig.imageObj.src) {\n                (window.URL || window.webkitURL).revokeObjectURL(\n                    fig.imageObj.src\n                );\n            }\n\n            fig.imageObj.src = (window.URL || window.webkitURL).createObjectURL(\n                img\n            );\n            fig.updated_canvas_event();\n            fig.waiting = false;\n            return;\n        } else if (\n            typeof evt.data === 'string' &&\n            evt.data.slice(0, 21) === 'data:image/png;base64'\n        ) {\n            fig.imageObj.src = evt.data;\n            fig.updated_canvas_event();\n            fig.waiting = false;\n            return;\n        }\n\n        var msg = JSON.parse(evt.data);\n        var msg_type = msg['type'];\n\n        // Call the  \"handle_{type}\" callback, which takes\n        // the figure and JSON message as its only arguments.\n        try {\n            var callback = fig['handle_' + msg_type];\n        } catch (e) {\n            console.log(\n                \"No handler for the '\" + msg_type + \"' message type: \",\n                msg\n            );\n            return;\n        }\n\n        if (callback) {\n            try {\n                // console.log(\"Handling '\" + msg_type + \"' message: \", msg);\n                callback(fig, msg);\n            } catch (e) {\n                console.log(\n                    \"Exception inside the 'handler_\" + msg_type + \"' callback:\",\n                    e,\n                    e.stack,\n                    msg\n                );\n            }\n        }\n    };\n};\n\nfunction getModifiers(event) {\n    var mods = [];\n    if (event.ctrlKey) {\n        mods.push('ctrl');\n    }\n    if (event.altKey) {\n        mods.push('alt');\n    }\n    if (event.shiftKey) {\n        mods.push('shift');\n    }\n    if (event.metaKey) {\n        mods.push('meta');\n    }\n    return mods;\n}\n\n/*\n * return a copy of an object with only non-object keys\n * we need this to avoid circular references\n * https://stackoverflow.com/a/24161582/3208463\n */\nfunction simpleKeys(original) {\n    return Object.keys(original).reduce(function (obj, key) {\n        if (typeof original[key] !== 'object') {\n            obj[key] = original[key];\n        }\n        return obj;\n    }, {});\n}\n\nmpl.figure.prototype.mouse_event = function (event, name) {\n    if (name === 'button_press') {\n        this.canvas.focus();\n        this.canvas_div.focus();\n    }\n\n    // from https://stackoverflow.com/q/1114465\n    var boundingRect = this.canvas.getBoundingClientRect();\n    var x = (event.clientX - boundingRect.left) * this.ratio;\n    var y = (event.clientY - boundingRect.top) * this.ratio;\n\n    this.send_message(name, {\n        x: x,\n        y: y,\n        button: event.button,\n        step: event.step,\n        modifiers: getModifiers(event),\n        guiEvent: simpleKeys(event),\n    });\n\n    return false;\n};\n\nmpl.figure.prototype._key_event_extra = function (_event, _name) {\n    // Handle any extra behaviour associated with a key event\n};\n\nmpl.figure.prototype.key_event = function (event, name) {\n    // Prevent repeat events\n    if (name === 'key_press') {\n        if (event.key === this._key) {\n            return;\n        } else {\n            this._key = event.key;\n        }\n    }\n    if (name === 'key_release') {\n        this._key = null;\n    }\n\n    var value = '';\n    if (event.ctrlKey && event.key !== 'Control') {\n        value += 'ctrl+';\n    }\n    else if (event.altKey && event.key !== 'Alt') {\n        value += 'alt+';\n    }\n    else if (event.shiftKey && event.key !== 'Shift') {\n        value += 'shift+';\n    }\n\n    value += 'k' + event.key;\n\n    this._key_event_extra(event, name);\n\n    this.send_message(name, { key: value, guiEvent: simpleKeys(event) });\n    return false;\n};\n\nmpl.figure.prototype.toolbar_button_onclick = function (name) {\n    if (name === 'download') {\n        this.handle_save(this, null);\n    } else {\n        this.send_message('toolbar_button', { name: name });\n    }\n};\n\nmpl.figure.prototype.toolbar_button_onmouseover = function (tooltip) {\n    this.message.textContent = tooltip;\n};\n\n///////////////// REMAINING CONTENT GENERATED BY embed_js.py /////////////////\n// prettier-ignore\nvar _JSXTOOLS_RESIZE_OBSERVER=function(A){var t,i=new WeakMap,n=new WeakMap,a=new WeakMap,r=new WeakMap,o=new Set;function s(e){if(!(this instanceof s))throw new TypeError(\"Constructor requires 'new' operator\");i.set(this,e)}function h(){throw new TypeError(\"Function is not a constructor\")}function c(e,t,i,n){e=0 in arguments?Number(arguments[0]):0,t=1 in arguments?Number(arguments[1]):0,i=2 in arguments?Number(arguments[2]):0,n=3 in arguments?Number(arguments[3]):0,this.right=(this.x=this.left=e)+(this.width=i),this.bottom=(this.y=this.top=t)+(this.height=n),Object.freeze(this)}function d(){t=requestAnimationFrame(d);var s=new WeakMap,p=new Set;o.forEach((function(t){r.get(t).forEach((function(i){var r=t instanceof window.SVGElement,o=a.get(t),d=r?0:parseFloat(o.paddingTop),f=r?0:parseFloat(o.paddingRight),l=r?0:parseFloat(o.paddingBottom),u=r?0:parseFloat(o.paddingLeft),g=r?0:parseFloat(o.borderTopWidth),m=r?0:parseFloat(o.borderRightWidth),w=r?0:parseFloat(o.borderBottomWidth),b=u+f,F=d+l,v=(r?0:parseFloat(o.borderLeftWidth))+m,W=g+w,y=r?0:t.offsetHeight-W-t.clientHeight,E=r?0:t.offsetWidth-v-t.clientWidth,R=b+v,z=F+W,M=r?t.width:parseFloat(o.width)-R-E,O=r?t.height:parseFloat(o.height)-z-y;if(n.has(t)){var k=n.get(t);if(k[0]===M&&k[1]===O)return}n.set(t,[M,O]);var S=Object.create(h.prototype);S.target=t,S.contentRect=new c(u,d,M,O),s.has(i)||(s.set(i,[]),p.add(i)),s.get(i).push(S)}))})),p.forEach((function(e){i.get(e).call(e,s.get(e),e)}))}return s.prototype.observe=function(i){if(i instanceof window.Element){r.has(i)||(r.set(i,new Set),o.add(i),a.set(i,window.getComputedStyle(i)));var n=r.get(i);n.has(this)||n.add(this),cancelAnimationFrame(t),t=requestAnimationFrame(d)}},s.prototype.unobserve=function(i){if(i instanceof window.Element&&r.has(i)){var n=r.get(i);n.has(this)&&(n.delete(this),n.size||(r.delete(i),o.delete(i))),n.size||r.delete(i),o.size||cancelAnimationFrame(t)}},A.DOMRectReadOnly=c,A.ResizeObserver=s,A.ResizeObserverEntry=h,A}; // eslint-disable-line\nmpl.toolbar_items = [[\"Home\", \"Reset original view\", \"fa fa-home\", \"home\"], [\"Back\", \"Back to previous view\", \"fa fa-arrow-left\", \"back\"], [\"Forward\", \"Forward to next view\", \"fa fa-arrow-right\", \"forward\"], [\"\", \"\", \"\", \"\"], [\"Pan\", \"Left button pans, Right button zooms\\nx/y fixes axis, CTRL fixes aspect\", \"fa fa-arrows\", \"pan\"], [\"Zoom\", \"Zoom to rectangle\\nx/y fixes axis\", \"fa fa-square-o\", \"zoom\"], [\"\", \"\", \"\", \"\"], [\"Download\", \"Download plot\", \"fa fa-floppy-o\", \"download\"]];\n\nmpl.extensions = [\"eps\", \"jpeg\", \"pgf\", \"pdf\", \"png\", \"ps\", \"raw\", \"svg\", \"tif\", \"webp\"];\n\nmpl.default_extension = \"png\";/* global mpl */\n\nvar comm_websocket_adapter = function (comm) {\n    // Create a \"websocket\"-like object which calls the given IPython comm\n    // object with the appropriate methods. Currently this is a non binary\n    // socket, so there is still some room for performance tuning.\n    var ws = {};\n\n    ws.binaryType = comm.kernel.ws.binaryType;\n    ws.readyState = comm.kernel.ws.readyState;\n    function updateReadyState(_event) {\n        if (comm.kernel.ws) {\n            ws.readyState = comm.kernel.ws.readyState;\n        } else {\n            ws.readyState = 3; // Closed state.\n        }\n    }\n    comm.kernel.ws.addEventListener('open', updateReadyState);\n    comm.kernel.ws.addEventListener('close', updateReadyState);\n    comm.kernel.ws.addEventListener('error', updateReadyState);\n\n    ws.close = function () {\n        comm.close();\n    };\n    ws.send = function (m) {\n        //console.log('sending', m);\n        comm.send(m);\n    };\n    // Register the callback with on_msg.\n    comm.on_msg(function (msg) {\n        //console.log('receiving', msg['content']['data'], msg);\n        var data = msg['content']['data'];\n        if (data['blob'] !== undefined) {\n            data = {\n                data: new Blob(msg['buffers'], { type: data['blob'] }),\n            };\n        }\n        // Pass the mpl event to the overridden (by mpl) onmessage function.\n        ws.onmessage(data);\n    });\n    return ws;\n};\n\nmpl.mpl_figure_comm = function (comm, msg) {\n    // This is the function which gets called when the mpl process\n    // starts-up an IPython Comm through the \"matplotlib\" channel.\n\n    var id = msg.content.data.id;\n    // Get hold of the div created by the display call when the Comm\n    // socket was opened in Python.\n    var element = document.getElementById(id);\n    var ws_proxy = comm_websocket_adapter(comm);\n\n    function ondownload(figure, _format) {\n        window.open(figure.canvas.toDataURL());\n    }\n\n    var fig = new mpl.figure(id, ws_proxy, ondownload, element);\n\n    // Call onopen now - mpl needs it, as it is assuming we've passed it a real\n    // web socket which is closed, not our websocket->open comm proxy.\n    ws_proxy.onopen();\n\n    fig.parent_element = element;\n    fig.cell_info = mpl.find_output_cell(\"<div id='\" + id + \"'></div>\");\n    if (!fig.cell_info) {\n        console.error('Failed to find cell for figure', id, fig);\n        return;\n    }\n    fig.cell_info[0].output_area.element.on(\n        'cleared',\n        { fig: fig },\n        fig._remove_fig_handler\n    );\n};\n\nmpl.figure.prototype.handle_close = function (fig, msg) {\n    var width = fig.canvas.width / fig.ratio;\n    fig.cell_info[0].output_area.element.off(\n        'cleared',\n        fig._remove_fig_handler\n    );\n    fig.resizeObserverInstance.unobserve(fig.canvas_div);\n\n    // Update the output cell to use the data from the current canvas.\n    fig.push_to_output();\n    var dataURL = fig.canvas.toDataURL();\n    // Re-enable the keyboard manager in IPython - without this line, in FF,\n    // the notebook keyboard shortcuts fail.\n    IPython.keyboard_manager.enable();\n    fig.parent_element.innerHTML =\n        '<img src=\"' + dataURL + '\" width=\"' + width + '\">';\n    fig.close_ws(fig, msg);\n};\n\nmpl.figure.prototype.close_ws = function (fig, msg) {\n    fig.send_message('closing', msg);\n    // fig.ws.close()\n};\n\nmpl.figure.prototype.push_to_output = function (_remove_interactive) {\n    // Turn the data on the canvas into data in the output cell.\n    var width = this.canvas.width / this.ratio;\n    var dataURL = this.canvas.toDataURL();\n    this.cell_info[1]['text/html'] =\n        '<img src=\"' + dataURL + '\" width=\"' + width + '\">';\n};\n\nmpl.figure.prototype.updated_canvas_event = function () {\n    // Tell IPython that the notebook contents must change.\n    IPython.notebook.set_dirty(true);\n    this.send_message('ack', {});\n    var fig = this;\n    // Wait a second, then push the new image to the DOM so\n    // that it is saved nicely (might be nice to debounce this).\n    setTimeout(function () {\n        fig.push_to_output();\n    }, 1000);\n};\n\nmpl.figure.prototype._init_toolbar = function () {\n    var fig = this;\n\n    var toolbar = document.createElement('div');\n    toolbar.classList = 'btn-toolbar';\n    this.root.appendChild(toolbar);\n\n    function on_click_closure(name) {\n        return function (_event) {\n            return fig.toolbar_button_onclick(name);\n        };\n    }\n\n    function on_mouseover_closure(tooltip) {\n        return function (event) {\n            if (!event.currentTarget.disabled) {\n                return fig.toolbar_button_onmouseover(tooltip);\n            }\n        };\n    }\n\n    fig.buttons = {};\n    var buttonGroup = document.createElement('div');\n    buttonGroup.classList = 'btn-group';\n    var button;\n    for (var toolbar_ind in mpl.toolbar_items) {\n        var name = mpl.toolbar_items[toolbar_ind][0];\n        var tooltip = mpl.toolbar_items[toolbar_ind][1];\n        var image = mpl.toolbar_items[toolbar_ind][2];\n        var method_name = mpl.toolbar_items[toolbar_ind][3];\n\n        if (!name) {\n            /* Instead of a spacer, we start a new button group. */\n            if (buttonGroup.hasChildNodes()) {\n                toolbar.appendChild(buttonGroup);\n            }\n            buttonGroup = document.createElement('div');\n            buttonGroup.classList = 'btn-group';\n            continue;\n        }\n\n        button = fig.buttons[name] = document.createElement('button');\n        button.classList = 'btn btn-default';\n        button.href = '#';\n        button.title = name;\n        button.innerHTML = '<i class=\"fa ' + image + ' fa-lg\"></i>';\n        button.addEventListener('click', on_click_closure(method_name));\n        button.addEventListener('mouseover', on_mouseover_closure(tooltip));\n        buttonGroup.appendChild(button);\n    }\n\n    if (buttonGroup.hasChildNodes()) {\n        toolbar.appendChild(buttonGroup);\n    }\n\n    // Add the status bar.\n    var status_bar = document.createElement('span');\n    status_bar.classList = 'mpl-message pull-right';\n    toolbar.appendChild(status_bar);\n    this.message = status_bar;\n\n    // Add the close button to the window.\n    var buttongrp = document.createElement('div');\n    buttongrp.classList = 'btn-group inline pull-right';\n    button = document.createElement('button');\n    button.classList = 'btn btn-mini btn-primary';\n    button.href = '#';\n    button.title = 'Stop Interaction';\n    button.innerHTML = '<i class=\"fa fa-power-off icon-remove icon-large\"></i>';\n    button.addEventListener('click', function (_evt) {\n        fig.handle_close(fig, {});\n    });\n    button.addEventListener(\n        'mouseover',\n        on_mouseover_closure('Stop Interaction')\n    );\n    buttongrp.appendChild(button);\n    var titlebar = this.root.querySelector('.ui-dialog-titlebar');\n    titlebar.insertBefore(buttongrp, titlebar.firstChild);\n};\n\nmpl.figure.prototype._remove_fig_handler = function (event) {\n    var fig = event.data.fig;\n    if (event.target !== this) {\n        // Ignore bubbled events from children.\n        return;\n    }\n    fig.close_ws(fig, {});\n};\n\nmpl.figure.prototype._root_extra_style = function (el) {\n    el.style.boxSizing = 'content-box'; // override notebook setting of border-box.\n};\n\nmpl.figure.prototype._canvas_extra_style = function (el) {\n    // this is important to make the div 'focusable\n    el.setAttribute('tabindex', 0);\n    // reach out to IPython and tell the keyboard manager to turn it's self\n    // off when our div gets focus\n\n    // location in version 3\n    if (IPython.notebook.keyboard_manager) {\n        IPython.notebook.keyboard_manager.register_events(el);\n    } else {\n        // location in version 2\n        IPython.keyboard_manager.register_events(el);\n    }\n};\n\nmpl.figure.prototype._key_event_extra = function (event, _name) {\n    // Check for shift+enter\n    if (event.shiftKey && event.which === 13) {\n        this.canvas_div.blur();\n        // select the cell after this one\n        var index = IPython.notebook.find_cell_index(this.cell_info[0]);\n        IPython.notebook.select(index + 1);\n    }\n};\n\nmpl.figure.prototype.handle_save = function (fig, _msg) {\n    fig.ondownload(fig, null);\n};\n\nmpl.find_output_cell = function (html_output) {\n    // Return the cell and output element which can be found *uniquely* in the notebook.\n    // Note - this is a bit hacky, but it is done because the \"notebook_saving.Notebook\"\n    // IPython event is triggered only after the cells have been serialised, which for\n    // our purposes (turning an active figure into a static one), is too late.\n    var cells = IPython.notebook.get_cells();\n    var ncells = cells.length;\n    for (var i = 0; i < ncells; i++) {\n        var cell = cells[i];\n        if (cell.cell_type === 'code') {\n            for (var j = 0; j < cell.output_area.outputs.length; j++) {\n                var data = cell.output_area.outputs[j];\n                if (data.data) {\n                    // IPython >= 3 moved mimebundle to data attribute of output\n                    data = data.data;\n                }\n                if (data['text/html'] === html_output) {\n                    return [cell, data, j];\n                }\n            }\n        }\n    }\n};\n\n// Register the function which deals with the matplotlib target/channel.\n// The kernel may be null if the page has been refreshed.\nif (IPython.notebook.kernel !== null) {\n    IPython.notebook.kernel.comm_manager.register_target(\n        'matplotlib',\n        mpl.mpl_figure_comm\n    );\n}\n"
     },
     "metadata": {},
     "output_type": "display_data"
    },
    {
     "data": {
      "text/plain": "<IPython.core.display.HTML object>",
      "text/html": "<div id='1ea90ba4-0fe2-4904-bb0a-9efcb929ae3c'></div>"
     },
     "metadata": {},
     "output_type": "display_data"
    }
   ],
   "source": [
    "import matplotlib.pyplot as plt\n",
    "\n",
    "%matplotlib notebook\n",
    "\n",
    "# Extract the first index of each new saccade_id\n",
    "saccade_start_indices = stacked_saccades.groupby('saccade_id').head(1).index\n",
    "\n",
    "# Plot the angular acceleration for all saccades\n",
    "fig, axs = plt.subplots(figsize=(10, 6))\n",
    "axs.plot(stacked_saccades['angular_acc'], label=\"Angular Acceleration\")\n",
    "axs.plot(stacked_saccades['center_x'], label=\"X\")\n",
    "axs.plot(stacked_saccades['center_y'], label='Y')\n",
    "# Add vertical lines at each saccade start index\n",
    "for idx in saccade_start_indices:\n",
    "    axs.axvline(x=idx, color='r', linestyle='--', linewidth=0.8)\n",
    "\n",
    "# Optional: Labeling and legend\n",
    "axs.set_xlabel(\"Sample Index\")\n",
    "axs.set_ylabel(\"Angular Acceleration (degrees per frame²)\")\n",
    "axs.legend()\n",
    "plt.show()\n"
   ],
   "metadata": {
    "collapsed": false,
    "ExecuteTime": {
     "end_time": "2024-11-03T21:42:25.231755800Z",
     "start_time": "2024-11-03T21:42:24.824301800Z"
    }
   },
   "id": "418c623ef844e7c2",
   "execution_count": 57
  },
  {
   "cell_type": "code",
   "outputs": [
    {
     "ename": "AttributeError",
     "evalue": "Line2D.set() got an unexpected keyword argument 'figure_size'",
     "output_type": "error",
     "traceback": [
      "\u001B[1;31m---------------------------------------------------------------------------\u001B[0m",
      "\u001B[1;31mAttributeError\u001B[0m                            Traceback (most recent call last)",
      "\u001B[1;32m<ipython-input-39-c91f96759d6e>\u001B[0m in \u001B[0;36m<module>\u001B[1;34m\u001B[0m\n\u001B[1;32m----> 1\u001B[1;33m \u001B[0mplt\u001B[0m\u001B[1;33m.\u001B[0m\u001B[0mplot\u001B[0m\u001B[1;33m(\u001B[0m\u001B[0mstacked_saccades\u001B[0m\u001B[1;33m.\u001B[0m\u001B[0mangular_acc\u001B[0m\u001B[1;33m,\u001B[0m\u001B[0mfigure_size\u001B[0m\u001B[1;33m=\u001B[0m\u001B[1;33m(\u001B[0m\u001B[1;36m10\u001B[0m\u001B[1;33m,\u001B[0m\u001B[1;36m10\u001B[0m\u001B[1;33m)\u001B[0m\u001B[1;33m)\u001B[0m\u001B[1;33m\u001B[0m\u001B[1;33m\u001B[0m\u001B[0m\n\u001B[0m\u001B[0;32m      2\u001B[0m \u001B[0mplt\u001B[0m\u001B[1;33m.\u001B[0m\u001B[0mshow\u001B[0m\u001B[1;33m(\u001B[0m\u001B[1;33m)\u001B[0m\u001B[1;33m\u001B[0m\u001B[1;33m\u001B[0m\u001B[0m\n",
      "\u001B[1;32mc:\\users\\marks3\\pycharmprojects\\pythonproject3\\venv\\lib\\site-packages\\matplotlib\\pyplot.py\u001B[0m in \u001B[0;36mplot\u001B[1;34m(scalex, scaley, data, *args, **kwargs)\u001B[0m\n\u001B[0;32m   2810\u001B[0m \u001B[1;33m@\u001B[0m\u001B[0m_copy_docstring_and_deprecators\u001B[0m\u001B[1;33m(\u001B[0m\u001B[0mAxes\u001B[0m\u001B[1;33m.\u001B[0m\u001B[0mplot\u001B[0m\u001B[1;33m)\u001B[0m\u001B[1;33m\u001B[0m\u001B[1;33m\u001B[0m\u001B[0m\n\u001B[0;32m   2811\u001B[0m \u001B[1;32mdef\u001B[0m \u001B[0mplot\u001B[0m\u001B[1;33m(\u001B[0m\u001B[1;33m*\u001B[0m\u001B[0margs\u001B[0m\u001B[1;33m,\u001B[0m \u001B[0mscalex\u001B[0m\u001B[1;33m=\u001B[0m\u001B[1;32mTrue\u001B[0m\u001B[1;33m,\u001B[0m \u001B[0mscaley\u001B[0m\u001B[1;33m=\u001B[0m\u001B[1;32mTrue\u001B[0m\u001B[1;33m,\u001B[0m \u001B[0mdata\u001B[0m\u001B[1;33m=\u001B[0m\u001B[1;32mNone\u001B[0m\u001B[1;33m,\u001B[0m \u001B[1;33m**\u001B[0m\u001B[0mkwargs\u001B[0m\u001B[1;33m)\u001B[0m\u001B[1;33m:\u001B[0m\u001B[1;33m\u001B[0m\u001B[1;33m\u001B[0m\u001B[0m\n\u001B[1;32m-> 2812\u001B[1;33m     return gca().plot(\n\u001B[0m\u001B[0;32m   2813\u001B[0m         \u001B[1;33m*\u001B[0m\u001B[0margs\u001B[0m\u001B[1;33m,\u001B[0m \u001B[0mscalex\u001B[0m\u001B[1;33m=\u001B[0m\u001B[0mscalex\u001B[0m\u001B[1;33m,\u001B[0m \u001B[0mscaley\u001B[0m\u001B[1;33m=\u001B[0m\u001B[0mscaley\u001B[0m\u001B[1;33m,\u001B[0m\u001B[1;33m\u001B[0m\u001B[1;33m\u001B[0m\u001B[0m\n\u001B[0;32m   2814\u001B[0m         **({\"data\": data} if data is not None else {}), **kwargs)\n",
      "\u001B[1;32mc:\\users\\marks3\\pycharmprojects\\pythonproject3\\venv\\lib\\site-packages\\matplotlib\\axes\\_axes.py\u001B[0m in \u001B[0;36mplot\u001B[1;34m(self, scalex, scaley, data, *args, **kwargs)\u001B[0m\n\u001B[0;32m   1686\u001B[0m         \"\"\"\n\u001B[0;32m   1687\u001B[0m         \u001B[0mkwargs\u001B[0m \u001B[1;33m=\u001B[0m \u001B[0mcbook\u001B[0m\u001B[1;33m.\u001B[0m\u001B[0mnormalize_kwargs\u001B[0m\u001B[1;33m(\u001B[0m\u001B[0mkwargs\u001B[0m\u001B[1;33m,\u001B[0m \u001B[0mmlines\u001B[0m\u001B[1;33m.\u001B[0m\u001B[0mLine2D\u001B[0m\u001B[1;33m)\u001B[0m\u001B[1;33m\u001B[0m\u001B[1;33m\u001B[0m\u001B[0m\n\u001B[1;32m-> 1688\u001B[1;33m         \u001B[0mlines\u001B[0m \u001B[1;33m=\u001B[0m \u001B[1;33m[\u001B[0m\u001B[1;33m*\u001B[0m\u001B[0mself\u001B[0m\u001B[1;33m.\u001B[0m\u001B[0m_get_lines\u001B[0m\u001B[1;33m(\u001B[0m\u001B[1;33m*\u001B[0m\u001B[0margs\u001B[0m\u001B[1;33m,\u001B[0m \u001B[0mdata\u001B[0m\u001B[1;33m=\u001B[0m\u001B[0mdata\u001B[0m\u001B[1;33m,\u001B[0m \u001B[1;33m**\u001B[0m\u001B[0mkwargs\u001B[0m\u001B[1;33m)\u001B[0m\u001B[1;33m]\u001B[0m\u001B[1;33m\u001B[0m\u001B[1;33m\u001B[0m\u001B[0m\n\u001B[0m\u001B[0;32m   1689\u001B[0m         \u001B[1;32mfor\u001B[0m \u001B[0mline\u001B[0m \u001B[1;32min\u001B[0m \u001B[0mlines\u001B[0m\u001B[1;33m:\u001B[0m\u001B[1;33m\u001B[0m\u001B[1;33m\u001B[0m\u001B[0m\n\u001B[0;32m   1690\u001B[0m             \u001B[0mself\u001B[0m\u001B[1;33m.\u001B[0m\u001B[0madd_line\u001B[0m\u001B[1;33m(\u001B[0m\u001B[0mline\u001B[0m\u001B[1;33m)\u001B[0m\u001B[1;33m\u001B[0m\u001B[1;33m\u001B[0m\u001B[0m\n",
      "\u001B[1;32mc:\\users\\marks3\\pycharmprojects\\pythonproject3\\venv\\lib\\site-packages\\matplotlib\\axes\\_base.py\u001B[0m in \u001B[0;36m__call__\u001B[1;34m(self, data, *args, **kwargs)\u001B[0m\n\u001B[0;32m    309\u001B[0m                 \u001B[0mthis\u001B[0m \u001B[1;33m+=\u001B[0m \u001B[0margs\u001B[0m\u001B[1;33m[\u001B[0m\u001B[1;36m0\u001B[0m\u001B[1;33m]\u001B[0m\u001B[1;33m,\u001B[0m\u001B[1;33m\u001B[0m\u001B[1;33m\u001B[0m\u001B[0m\n\u001B[0;32m    310\u001B[0m                 \u001B[0margs\u001B[0m \u001B[1;33m=\u001B[0m \u001B[0margs\u001B[0m\u001B[1;33m[\u001B[0m\u001B[1;36m1\u001B[0m\u001B[1;33m:\u001B[0m\u001B[1;33m]\u001B[0m\u001B[1;33m\u001B[0m\u001B[1;33m\u001B[0m\u001B[0m\n\u001B[1;32m--> 311\u001B[1;33m             yield from self._plot_args(\n\u001B[0m\u001B[0;32m    312\u001B[0m                 this, kwargs, ambiguous_fmt_datakey=ambiguous_fmt_datakey)\n\u001B[0;32m    313\u001B[0m \u001B[1;33m\u001B[0m\u001B[0m\n",
      "\u001B[1;32mc:\\users\\marks3\\pycharmprojects\\pythonproject3\\venv\\lib\\site-packages\\matplotlib\\axes\\_base.py\u001B[0m in \u001B[0;36m_plot_args\u001B[1;34m(self, tup, kwargs, return_kwargs, ambiguous_fmt_datakey)\u001B[0m\n\u001B[0;32m    542\u001B[0m             \u001B[1;32mreturn\u001B[0m \u001B[0mlist\u001B[0m\u001B[1;33m(\u001B[0m\u001B[0mresult\u001B[0m\u001B[1;33m)\u001B[0m\u001B[1;33m\u001B[0m\u001B[1;33m\u001B[0m\u001B[0m\n\u001B[0;32m    543\u001B[0m         \u001B[1;32melse\u001B[0m\u001B[1;33m:\u001B[0m\u001B[1;33m\u001B[0m\u001B[1;33m\u001B[0m\u001B[0m\n\u001B[1;32m--> 544\u001B[1;33m             \u001B[1;32mreturn\u001B[0m \u001B[1;33m[\u001B[0m\u001B[0ml\u001B[0m\u001B[1;33m[\u001B[0m\u001B[1;36m0\u001B[0m\u001B[1;33m]\u001B[0m \u001B[1;32mfor\u001B[0m \u001B[0ml\u001B[0m \u001B[1;32min\u001B[0m \u001B[0mresult\u001B[0m\u001B[1;33m]\u001B[0m\u001B[1;33m\u001B[0m\u001B[1;33m\u001B[0m\u001B[0m\n\u001B[0m\u001B[0;32m    545\u001B[0m \u001B[1;33m\u001B[0m\u001B[0m\n\u001B[0;32m    546\u001B[0m \u001B[1;33m\u001B[0m\u001B[0m\n",
      "\u001B[1;32mc:\\users\\marks3\\pycharmprojects\\pythonproject3\\venv\\lib\\site-packages\\matplotlib\\axes\\_base.py\u001B[0m in \u001B[0;36m<listcomp>\u001B[1;34m(.0)\u001B[0m\n\u001B[0;32m    542\u001B[0m             \u001B[1;32mreturn\u001B[0m \u001B[0mlist\u001B[0m\u001B[1;33m(\u001B[0m\u001B[0mresult\u001B[0m\u001B[1;33m)\u001B[0m\u001B[1;33m\u001B[0m\u001B[1;33m\u001B[0m\u001B[0m\n\u001B[0;32m    543\u001B[0m         \u001B[1;32melse\u001B[0m\u001B[1;33m:\u001B[0m\u001B[1;33m\u001B[0m\u001B[1;33m\u001B[0m\u001B[0m\n\u001B[1;32m--> 544\u001B[1;33m             \u001B[1;32mreturn\u001B[0m \u001B[1;33m[\u001B[0m\u001B[0ml\u001B[0m\u001B[1;33m[\u001B[0m\u001B[1;36m0\u001B[0m\u001B[1;33m]\u001B[0m \u001B[1;32mfor\u001B[0m \u001B[0ml\u001B[0m \u001B[1;32min\u001B[0m \u001B[0mresult\u001B[0m\u001B[1;33m]\u001B[0m\u001B[1;33m\u001B[0m\u001B[1;33m\u001B[0m\u001B[0m\n\u001B[0m\u001B[0;32m    545\u001B[0m \u001B[1;33m\u001B[0m\u001B[0m\n\u001B[0;32m    546\u001B[0m \u001B[1;33m\u001B[0m\u001B[0m\n",
      "\u001B[1;32mc:\\users\\marks3\\pycharmprojects\\pythonproject3\\venv\\lib\\site-packages\\matplotlib\\axes\\_base.py\u001B[0m in \u001B[0;36m<genexpr>\u001B[1;34m(.0)\u001B[0m\n\u001B[0;32m    535\u001B[0m             \u001B[0mlabels\u001B[0m \u001B[1;33m=\u001B[0m \u001B[1;33m[\u001B[0m\u001B[0mlabel\u001B[0m\u001B[1;33m]\u001B[0m \u001B[1;33m*\u001B[0m \u001B[0mn_datasets\u001B[0m\u001B[1;33m\u001B[0m\u001B[1;33m\u001B[0m\u001B[0m\n\u001B[0;32m    536\u001B[0m \u001B[1;33m\u001B[0m\u001B[0m\n\u001B[1;32m--> 537\u001B[1;33m         result = (make_artist(x[:, j % ncx], y[:, j % ncy], kw,\n\u001B[0m\u001B[0;32m    538\u001B[0m                               {**kwargs, 'label': label})\n\u001B[0;32m    539\u001B[0m                   for j, label in enumerate(labels))\n",
      "\u001B[1;32mc:\\users\\marks3\\pycharmprojects\\pythonproject3\\venv\\lib\\site-packages\\matplotlib\\axes\\_base.py\u001B[0m in \u001B[0;36m_makeline\u001B[1;34m(self, x, y, kw, kwargs)\u001B[0m\n\u001B[0;32m    349\u001B[0m         \u001B[0mdefault_dict\u001B[0m \u001B[1;33m=\u001B[0m \u001B[0mself\u001B[0m\u001B[1;33m.\u001B[0m\u001B[0m_getdefaults\u001B[0m\u001B[1;33m(\u001B[0m\u001B[0mset\u001B[0m\u001B[1;33m(\u001B[0m\u001B[1;33m)\u001B[0m\u001B[1;33m,\u001B[0m \u001B[0mkw\u001B[0m\u001B[1;33m)\u001B[0m\u001B[1;33m\u001B[0m\u001B[1;33m\u001B[0m\u001B[0m\n\u001B[0;32m    350\u001B[0m         \u001B[0mself\u001B[0m\u001B[1;33m.\u001B[0m\u001B[0m_setdefaults\u001B[0m\u001B[1;33m(\u001B[0m\u001B[0mdefault_dict\u001B[0m\u001B[1;33m,\u001B[0m \u001B[0mkw\u001B[0m\u001B[1;33m)\u001B[0m\u001B[1;33m\u001B[0m\u001B[1;33m\u001B[0m\u001B[0m\n\u001B[1;32m--> 351\u001B[1;33m         \u001B[0mseg\u001B[0m \u001B[1;33m=\u001B[0m \u001B[0mmlines\u001B[0m\u001B[1;33m.\u001B[0m\u001B[0mLine2D\u001B[0m\u001B[1;33m(\u001B[0m\u001B[0mx\u001B[0m\u001B[1;33m,\u001B[0m \u001B[0my\u001B[0m\u001B[1;33m,\u001B[0m \u001B[1;33m**\u001B[0m\u001B[0mkw\u001B[0m\u001B[1;33m)\u001B[0m\u001B[1;33m\u001B[0m\u001B[1;33m\u001B[0m\u001B[0m\n\u001B[0m\u001B[0;32m    352\u001B[0m         \u001B[1;32mreturn\u001B[0m \u001B[0mseg\u001B[0m\u001B[1;33m,\u001B[0m \u001B[0mkw\u001B[0m\u001B[1;33m\u001B[0m\u001B[1;33m\u001B[0m\u001B[0m\n\u001B[0;32m    353\u001B[0m \u001B[1;33m\u001B[0m\u001B[0m\n",
      "\u001B[1;32mc:\\users\\marks3\\pycharmprojects\\pythonproject3\\venv\\lib\\site-packages\\matplotlib\\_api\\deprecation.py\u001B[0m in \u001B[0;36mwrapper\u001B[1;34m(*args, **kwargs)\u001B[0m\n\u001B[0;32m    452\u001B[0m                 \u001B[1;34m\"parameter will become keyword-only %(removal)s.\"\u001B[0m\u001B[1;33m,\u001B[0m\u001B[1;33m\u001B[0m\u001B[1;33m\u001B[0m\u001B[0m\n\u001B[0;32m    453\u001B[0m                 name=name, obj_type=f\"parameter of {func.__name__}()\")\n\u001B[1;32m--> 454\u001B[1;33m         \u001B[1;32mreturn\u001B[0m \u001B[0mfunc\u001B[0m\u001B[1;33m(\u001B[0m\u001B[1;33m*\u001B[0m\u001B[0margs\u001B[0m\u001B[1;33m,\u001B[0m \u001B[1;33m**\u001B[0m\u001B[0mkwargs\u001B[0m\u001B[1;33m)\u001B[0m\u001B[1;33m\u001B[0m\u001B[1;33m\u001B[0m\u001B[0m\n\u001B[0m\u001B[0;32m    455\u001B[0m \u001B[1;33m\u001B[0m\u001B[0m\n\u001B[0;32m    456\u001B[0m     \u001B[1;31m# Don't modify *func*'s signature, as boilerplate.py needs it.\u001B[0m\u001B[1;33m\u001B[0m\u001B[1;33m\u001B[0m\u001B[1;33m\u001B[0m\u001B[0m\n",
      "\u001B[1;32mc:\\users\\marks3\\pycharmprojects\\pythonproject3\\venv\\lib\\site-packages\\matplotlib\\lines.py\u001B[0m in \u001B[0;36m__init__\u001B[1;34m(self, xdata, ydata, linewidth, linestyle, color, gapcolor, marker, markersize, markeredgewidth, markeredgecolor, markerfacecolor, markerfacecoloralt, fillstyle, antialiased, dash_capstyle, solid_capstyle, dash_joinstyle, solid_joinstyle, pickradius, drawstyle, markevery, **kwargs)\u001B[0m\n\u001B[0;32m    393\u001B[0m         \u001B[1;31m# update kwargs before updating data to give the caller a\u001B[0m\u001B[1;33m\u001B[0m\u001B[1;33m\u001B[0m\u001B[1;33m\u001B[0m\u001B[0m\n\u001B[0;32m    394\u001B[0m         \u001B[1;31m# chance to init axes (and hence unit support)\u001B[0m\u001B[1;33m\u001B[0m\u001B[1;33m\u001B[0m\u001B[1;33m\u001B[0m\u001B[0m\n\u001B[1;32m--> 395\u001B[1;33m         \u001B[0mself\u001B[0m\u001B[1;33m.\u001B[0m\u001B[0m_internal_update\u001B[0m\u001B[1;33m(\u001B[0m\u001B[0mkwargs\u001B[0m\u001B[1;33m)\u001B[0m\u001B[1;33m\u001B[0m\u001B[1;33m\u001B[0m\u001B[0m\n\u001B[0m\u001B[0;32m    396\u001B[0m         \u001B[0mself\u001B[0m\u001B[1;33m.\u001B[0m\u001B[0m_pickradius\u001B[0m \u001B[1;33m=\u001B[0m \u001B[0mpickradius\u001B[0m\u001B[1;33m\u001B[0m\u001B[1;33m\u001B[0m\u001B[0m\n\u001B[0;32m    397\u001B[0m         \u001B[0mself\u001B[0m\u001B[1;33m.\u001B[0m\u001B[0mind_offset\u001B[0m \u001B[1;33m=\u001B[0m \u001B[1;36m0\u001B[0m\u001B[1;33m\u001B[0m\u001B[1;33m\u001B[0m\u001B[0m\n",
      "\u001B[1;32mc:\\users\\marks3\\pycharmprojects\\pythonproject3\\venv\\lib\\site-packages\\matplotlib\\artist.py\u001B[0m in \u001B[0;36m_internal_update\u001B[1;34m(self, kwargs)\u001B[0m\n\u001B[0;32m   1221\u001B[0m         \u001B[0mThe\u001B[0m \u001B[0mlack\u001B[0m \u001B[0mof\u001B[0m \u001B[0mprenormalization\u001B[0m \u001B[1;32mis\u001B[0m \u001B[0mto\u001B[0m \u001B[0mmaintain\u001B[0m \u001B[0mbackcompatibility\u001B[0m\u001B[1;33m.\u001B[0m\u001B[1;33m\u001B[0m\u001B[1;33m\u001B[0m\u001B[0m\n\u001B[0;32m   1222\u001B[0m         \"\"\"\n\u001B[1;32m-> 1223\u001B[1;33m         return self._update_props(\n\u001B[0m\u001B[0;32m   1224\u001B[0m             \u001B[0mkwargs\u001B[0m\u001B[1;33m,\u001B[0m \u001B[1;34m\"{cls.__name__}.set() got an unexpected keyword argument \"\u001B[0m\u001B[1;33m\u001B[0m\u001B[1;33m\u001B[0m\u001B[0m\n\u001B[0;32m   1225\u001B[0m             \"{prop_name!r}\")\n",
      "\u001B[1;32mc:\\users\\marks3\\pycharmprojects\\pythonproject3\\venv\\lib\\site-packages\\matplotlib\\artist.py\u001B[0m in \u001B[0;36m_update_props\u001B[1;34m(self, props, errfmt)\u001B[0m\n\u001B[0;32m   1195\u001B[0m                     \u001B[0mfunc\u001B[0m \u001B[1;33m=\u001B[0m \u001B[0mgetattr\u001B[0m\u001B[1;33m(\u001B[0m\u001B[0mself\u001B[0m\u001B[1;33m,\u001B[0m \u001B[1;34mf\"set_{k}\"\u001B[0m\u001B[1;33m,\u001B[0m \u001B[1;32mNone\u001B[0m\u001B[1;33m)\u001B[0m\u001B[1;33m\u001B[0m\u001B[1;33m\u001B[0m\u001B[0m\n\u001B[0;32m   1196\u001B[0m                     \u001B[1;32mif\u001B[0m \u001B[1;32mnot\u001B[0m \u001B[0mcallable\u001B[0m\u001B[1;33m(\u001B[0m\u001B[0mfunc\u001B[0m\u001B[1;33m)\u001B[0m\u001B[1;33m:\u001B[0m\u001B[1;33m\u001B[0m\u001B[1;33m\u001B[0m\u001B[0m\n\u001B[1;32m-> 1197\u001B[1;33m                         raise AttributeError(\n\u001B[0m\u001B[0;32m   1198\u001B[0m                             errfmt.format(cls=type(self), prop_name=k))\n\u001B[0;32m   1199\u001B[0m                     \u001B[0mret\u001B[0m\u001B[1;33m.\u001B[0m\u001B[0mappend\u001B[0m\u001B[1;33m(\u001B[0m\u001B[0mfunc\u001B[0m\u001B[1;33m(\u001B[0m\u001B[0mv\u001B[0m\u001B[1;33m)\u001B[0m\u001B[1;33m)\u001B[0m\u001B[1;33m\u001B[0m\u001B[1;33m\u001B[0m\u001B[0m\n",
      "\u001B[1;31mAttributeError\u001B[0m: Line2D.set() got an unexpected keyword argument 'figure_size'"
     ]
    },
    {
     "data": {
      "text/plain": "<Figure size 432x288 with 1 Axes>",
      "image/png": "[encoded data removed]"
     },
     "metadata": {
      "needs_background": "light"
     },
     "output_type": "display_data"
    }
   ],
   "source": [
    "\n",
    "plt.show()"
   ],
   "metadata": {
    "collapsed": false,
    "ExecuteTime": {
     "end_time": "2024-11-03T21:23:08.633762800Z",
     "start_time": "2024-11-03T21:23:08.421382200Z"
    }
   },
   "id": "8cc879e8ebb73c86",
   "execution_count": 39
  },
  {
   "cell_type": "code",
   "outputs": [],
   "source": [
    "# add annotations for a joint dataframe:\n",
    "for block in block_collection:\n",
    "    block.r_saccade_df['eye'] = 'R'\n",
    "    block.r_saccade_df['block'] = block.block_num\n",
    "    block.r_saccade_df['animal'] = block.animal_call\n",
    "    block.l_saccade_df['eye'] = 'L'\n",
    "    block.l_saccade_df['block'] = block.block_num\n",
    "    block.l_saccade_df['animal'] = block.animal_call\n",
    "    block.all_saccade_df = pd.concat([block.l_saccade_df, block.r_saccade_df])\n",
    "\n",
    "saccade_df_list = []\n",
    "for block in block_collection:\n",
    "    saccade_df_list.append(block.all_saccade_df)\n",
    "saccade_collection = pd.concat(saccade_df_list)\n",
    "\n",
    "\n",
    "def get_closest_diff_ind(timestamp, timeseries):\n",
    "    \"\"\"\n",
    "    This function extracts a frame from a series so that it is as close as possible to a given timestamp\n",
    "    :param timestamp: The time to match a frame to\n",
    "    :param timeseries: The time frames series to look at for a match\n",
    "    :param report_acc: if set to 1, will report the accuracy of the match\n",
    "    :return: index_of_lowest_diff , accuracy of match (if requested)\n",
    "    \"\"\"\n",
    "    array = np.abs(timeseries - timestamp)\n",
    "    index_of_lowest_diff = np.argmin(array)\n",
    "    lowest_diff_val = timeseries[index_of_lowest_diff]\n",
    "    return index_of_lowest_diff, lowest_diff_val\n",
    "\n",
    "\n",
    "def find_synced_saccades(df, diff_threshold=680):\n",
    "    synced_saccades = []\n",
    "    non_synced_saccades = []\n",
    "    l_df = df.query('eye == \"L\"')\n",
    "    r_df = df.query('eye == \"R\"')\n",
    "    for i, row in tqdm.tqdm(l_df.iterrows()):\n",
    "        l_timestamp = row['saccade_start_timestamp']\n",
    "        ind_min_diff, r_timestamp = get_closest_diff_ind(l_timestamp, r_df['saccade_start_timestamp'].values)\n",
    "        #print(i,ind_lowest_diff)\n",
    "        time_diff = np.abs(l_timestamp - r_timestamp)\n",
    "        if time_diff < diff_threshold:\n",
    "            synced_saccades.append((row, r_df.iloc[ind_min_diff]))  # Collect synchronized rows\n",
    "        else:\n",
    "            non_synced_saccades.append(row)  # Collect non-synchronized rows\n",
    "    # Create DataFrame with multi-index\n",
    "    multi_index = pd.MultiIndex.from_tuples(\n",
    "        [(i, 'L') for i in range(len(synced_saccades))] + [(i, 'R') for i in range(len(synced_saccades))],\n",
    "        names=['Main', 'Sub'])\n",
    "    synced_df = pd.DataFrame(index=multi_index, columns=df.columns)\n",
    "    # Populate DataFrame\n",
    "    for idx, (l_row, r_row) in enumerate(synced_saccades):\n",
    "        synced_df.loc[(idx, 'L')] = l_row\n",
    "        synced_df.loc[(idx, 'R')] = r_row\n",
    "    r_non_synced_leftovers = r_df[\n",
    "        ~r_df['saccade_start_timestamp'].isin(synced_df.query('eye == \"R\"')['saccade_start_timestamp'].values)]\n",
    "    print(len(r_non_synced_leftovers), len(r_df))\n",
    "    # Create DataFrame for non-synced saccades\n",
    "    non_synced_df = pd.DataFrame(non_synced_saccades, columns=df.columns)\n",
    "    non_synced_df = pd.concat([non_synced_df, r_non_synced_leftovers])\n",
    "\n",
    "    return synced_df, non_synced_df\n",
    "\n",
    "\n",
    "synced_df_list = []\n",
    "non_synced_df_list = []\n",
    "for saccade_df in saccade_df_list:\n",
    "    # Find synced saccades:\n",
    "    synced_df, non_synced_df = find_synced_saccades(saccade_df.dropna(), diff_threshold=680)\n",
    "    if len(non_synced_df.dropna()) + len(synced_df.dropna()) == len(saccade_df.dropna()):\n",
    "        print('got them all')\n",
    "\n",
    "    synced_df_list.append(synced_df)\n",
    "    non_synced_df_list.append(non_synced_df)\n",
    "\n",
    "\n",
    "def combine_synced_dataframes(dataframes):\n",
    "    combined_dfs = []\n",
    "    start_index = 0\n",
    "    for df in dataframes:\n",
    "        num_rows = len(df) // 2  # Assuming each dataframe contains pairs of rows\n",
    "        main_index = pd.MultiIndex.from_tuples(\n",
    "            [(i + start_index, 'L') for i in range(num_rows)] + [(i + start_index, 'R') for i in range(num_rows)],\n",
    "            names=['Main', 'Sub'])\n",
    "        df.index = main_index\n",
    "        combined_dfs.append(df)\n",
    "        start_index += num_rows\n",
    "    combined_df = pd.concat(combined_dfs)\n",
    "    combined_df.reset_index(inplace=True)\n",
    "    return combined_df\n",
    "\n",
    "\n",
    "synced_saccade_collection = combine_synced_dataframes(synced_df_list)\n",
    "non_synced_saccade_collection = pd.concat(non_synced_df_list)\n",
    "\n"
   ],
   "metadata": {
    "collapsed": false,
    "ExecuteTime": {
     "end_time": "2024-10-14T07:27:14.962662Z",
     "start_time": "2024-10-14T07:27:14.953784800Z"
    }
   },
   "id": "4e2852e07c4622f7",
   "execution_count": 61
  },
  {
   "cell_type": "code",
   "outputs": [],
   "source": [
    "current_animal_call = block.animal_call\n",
    "multi_animal_dict = {current_animal_call:{'synced_saccade_collection':synced_saccade_collection,\n",
    "                                          'non_synced_saccade_collection':non_synced_saccade_collection}}\n"
   ],
   "metadata": {
    "collapsed": false,
    "ExecuteTime": {
     "end_time": "2024-10-14T07:27:22.619364800Z",
     "start_time": "2024-10-14T07:27:22.587365600Z"
    }
   },
   "id": "7a9d31496e5029e",
   "execution_count": 62
  },
  {
   "cell_type": "code",
   "outputs": [
    {
     "name": "stdout",
     "output_type": "stream",
     "text": [
      "Dictionary saved to Z:\\Nimrod\\experiments\\multi_animal_analysis\\PV_62_saccade_dict.pkl\n"
     ]
    }
   ],
   "source": [
    "import pickle\n",
    "\n",
    "def save_dict_to_pickle(dictionary, file_path):\n",
    "    \"\"\"Save a dictionary to a pickle file.\"\"\"\n",
    "    with open(file_path, 'wb') as file:\n",
    "        pickle.dump(dictionary, file)\n",
    "    print(f\"Dictionary saved to {file_path}\")\n",
    "\n",
    "def load_dict_from_pickle(file_path):\n",
    "    \"\"\"Load a dictionary from a pickle file.\"\"\"\n",
    "    with open(file_path, 'rb') as file:\n",
    "        dictionary = pickle.load(file)\n",
    "    print(f\"Dictionary loaded from {file_path}\")\n",
    "    return dictionary"
   ],
   "metadata": {
    "collapsed": false,
    "ExecuteTime": {
     "end_time": "2024-10-14T07:27:25.135364100Z",
     "start_time": "2024-10-14T07:27:24.716365400Z"
    }
   },
   "id": "f14ca7bfb083098d",
   "execution_count": 63
  },
  {
   "cell_type": "code",
   "outputs": [],
   "source": [
    "multi_export_path = pathlib.Path(r'Z:\\Nimrod\\experiments\\multi_animal_analysis')\n",
    "current_path = multi_export_path / 'PV_62_saccade_dict.pkl'\n",
    "save_dict_to_pickle(multi_animal_dict,current_path)\n"
   ],
   "metadata": {
    "collapsed": false
   },
   "id": "7d204779727b793f"
  },
  {
   "cell_type": "markdown",
   "source": [
    "# Load Data Here:"
   ],
   "metadata": {
    "collapsed": false
   },
   "id": "68373f64fb7411c"
  },
  {
   "cell_type": "code",
   "outputs": [
    {
     "data": {
      "text/plain": "      Main Sub saccade_start_ind saccade_start_timestamp saccade_end_ind  \\\n0        0   L                52                  948472              54   \n1        1   L               365             1.15394e+06             367   \n2        2   L               682             1.36206e+06             685   \n3        3   L               952             1.53931e+06             954   \n4        4   L              1269             1.74741e+06            1272   \n...    ...  ..               ...                     ...             ...   \n3805  1900   R             12860             9.46743e+06           12862   \n3806  1901   R             13030               9.579e+06           13034   \n3807  1902   R             13069             9.60459e+06           13074   \n3808  1903   R             13122             9.63937e+06           13127   \n3809  1904   R             13127             9.64266e+06           13130   \n\n     saccade_end_timestamp saccade_on_ms saccade_off_ms length magnitude_raw  \\\n0                   949784       47423.6        47489.2      2       9.28437   \n1              1.15526e+06       57697.2        57762.9      2       12.6076   \n2              1.36403e+06         68103        68201.4      3       16.8022   \n3              1.54062e+06       76965.4        77031.1      2       14.5083   \n4              1.74938e+06       87370.4        87468.9      3       20.9841   \n...                    ...           ...            ...    ...           ...   \n3805           9.46874e+06        473372         473437      2       11.5187   \n3806           9.58162e+06        478950         479081      4       92.0748   \n3807           9.60787e+06        480230         480394      5       86.3654   \n3808           9.64266e+06        481969         482133      5       40.8964   \n3809           9.64462e+06        482133         482231      3       17.1691   \n\n      ...    end_x    end_y  calib_dx   calib_dy  \\\n0     ...  362.057  199.785 -0.232306 -0.0620264   \n1     ...  360.475  197.048 -0.262131  -0.119937   \n2     ...  383.272  204.351  0.457381   0.130262   \n3     ...  364.044   198.96 -0.388331  -0.143083   \n4     ...  393.167  216.683   0.44218   0.226868   \n...   ...      ...      ...       ...        ...   \n3805  ...  351.617  165.451 -0.249942   0.131875   \n3806  ...  395.641  240.967   1.05434    2.22591   \n3807  ...  364.287  159.394 -0.853895   -1.99945   \n3808  ...  343.638   161.44 -0.785173 -0.0717453   \n3809  ...   359.03  160.722  0.439676 -0.0205257   \n\n                                          speed_profile  \\\n0     [0.9199100728906237, 6.595255143993763, 1.7692...   \n1     [2.6248893057224643, 7.932518798956482, 2.0502...   \n2     [0.27749456447368365, 7.797297448830684, 7.832...   \n3     [0.16651671099719054, 10.354296851638255, 3.98...   \n4     [3.5805374237836918, 10.3286800953304, 4.56511...   \n...                                                 ...   \n3805  [1.6249306060444337, 8.458801056010532, 1.4350...   \n3806  [1.1295881520261355, 33.41478524771241, 39.220...   \n3807  [0.23212139290946995, 6.626236467022969, 40.87...   \n3808  [0.8012909553946591, 11.70280013232481, 17.802...   \n3809  [1.7368874869184963, 7.602726254126506, 5.1460...   \n\n                                       diameter_profile head_movement eye  \\\n0     [7.956914853019097, 7.917693847137654, 8.00782...          True   L   \n1     [8.164126285756472, 8.043808916180392, 8.11114...          True   L   \n2     [8.065236857979535, 8.112485063558022, 7.88652...         False   L   \n3     [8.343505886047089, 8.513143054555549, 8.31170...          True   L   \n4     [8.00670638702477, 7.964679759384666, 7.976587...          True   L   \n...                                                 ...           ...  ..   \n3805  [8.036827690322179, 7.915175491011191, 7.90850...         False   R   \n3806  [7.860350516874485, 7.976764642725365, 7.79797...          True   R   \n3807  [7.830014229283603, 7.586509514127744, 7.40534...          True   R   \n3808  [7.970786262227505, 7.824537558196311, 7.66510...          True   R   \n3809  [7.8567790633667105, 8.036707823655805, 8.1380...          True   R   \n\n     block  animal  \n0      007  PV_126  \n1      007  PV_126  \n2      007  PV_126  \n3      007  PV_126  \n4      007  PV_126  \n...    ...     ...  \n3805   013  PV_126  \n3806   013  PV_126  \n3807   013  PV_126  \n3808   013  PV_126  \n3809   013  PV_126  \n\n[3810 rows x 24 columns]",
      "text/html": "<div>\n<style scoped>\n    .dataframe tbody tr th:only-of-type {\n        vertical-align: middle;\n    }\n\n    .dataframe tbody tr th {\n        vertical-align: top;\n    }\n\n    .dataframe thead th {\n        text-align: right;\n    }\n</style>\n<table border=\"1\" class=\"dataframe\">\n  <thead>\n    <tr style=\"text-align: right;\">\n      <th></th>\n      <th>Main</th>\n      <th>Sub</th>\n      <th>saccade_start_ind</th>\n      <th>saccade_start_timestamp</th>\n      <th>saccade_end_ind</th>\n      <th>saccade_end_timestamp</th>\n      <th>saccade_on_ms</th>\n      <th>saccade_off_ms</th>\n      <th>length</th>\n      <th>magnitude_raw</th>\n      <th>...</th>\n      <th>end_x</th>\n      <th>end_y</th>\n      <th>calib_dx</th>\n      <th>calib_dy</th>\n      <th>speed_profile</th>\n      <th>diameter_profile</th>\n      <th>head_movement</th>\n      <th>eye</th>\n      <th>block</th>\n      <th>animal</th>\n    </tr>\n  </thead>\n  <tbody>\n    <tr>\n      <th>0</th>\n      <td>0</td>\n      <td>L</td>\n      <td>52</td>\n      <td>948472</td>\n      <td>54</td>\n      <td>949784</td>\n      <td>47423.6</td>\n      <td>47489.2</td>\n      <td>2</td>\n      <td>9.28437</td>\n      <td>...</td>\n      <td>362.057</td>\n      <td>199.785</td>\n      <td>-0.232306</td>\n      <td>-0.0620264</td>\n      <td>[0.9199100728906237, 6.595255143993763, 1.7692...</td>\n      <td>[7.956914853019097, 7.917693847137654, 8.00782...</td>\n      <td>True</td>\n      <td>L</td>\n      <td>007</td>\n      <td>PV_126</td>\n    </tr>\n    <tr>\n      <th>1</th>\n      <td>1</td>\n      <td>L</td>\n      <td>365</td>\n      <td>1.15394e+06</td>\n      <td>367</td>\n      <td>1.15526e+06</td>\n      <td>57697.2</td>\n      <td>57762.9</td>\n      <td>2</td>\n      <td>12.6076</td>\n      <td>...</td>\n      <td>360.475</td>\n      <td>197.048</td>\n      <td>-0.262131</td>\n      <td>-0.119937</td>\n      <td>[2.6248893057224643, 7.932518798956482, 2.0502...</td>\n      <td>[8.164126285756472, 8.043808916180392, 8.11114...</td>\n      <td>True</td>\n      <td>L</td>\n      <td>007</td>\n      <td>PV_126</td>\n    </tr>\n    <tr>\n      <th>2</th>\n      <td>2</td>\n      <td>L</td>\n      <td>682</td>\n      <td>1.36206e+06</td>\n      <td>685</td>\n      <td>1.36403e+06</td>\n      <td>68103</td>\n      <td>68201.4</td>\n      <td>3</td>\n      <td>16.8022</td>\n      <td>...</td>\n      <td>383.272</td>\n      <td>204.351</td>\n      <td>0.457381</td>\n      <td>0.130262</td>\n      <td>[0.27749456447368365, 7.797297448830684, 7.832...</td>\n      <td>[8.065236857979535, 8.112485063558022, 7.88652...</td>\n      <td>False</td>\n      <td>L</td>\n      <td>007</td>\n      <td>PV_126</td>\n    </tr>\n    <tr>\n      <th>3</th>\n      <td>3</td>\n      <td>L</td>\n      <td>952</td>\n      <td>1.53931e+06</td>\n      <td>954</td>\n      <td>1.54062e+06</td>\n      <td>76965.4</td>\n      <td>77031.1</td>\n      <td>2</td>\n      <td>14.5083</td>\n      <td>...</td>\n      <td>364.044</td>\n      <td>198.96</td>\n      <td>-0.388331</td>\n      <td>-0.143083</td>\n      <td>[0.16651671099719054, 10.354296851638255, 3.98...</td>\n      <td>[8.343505886047089, 8.513143054555549, 8.31170...</td>\n      <td>True</td>\n      <td>L</td>\n      <td>007</td>\n      <td>PV_126</td>\n    </tr>\n    <tr>\n      <th>4</th>\n      <td>4</td>\n      <td>L</td>\n      <td>1269</td>\n      <td>1.74741e+06</td>\n      <td>1272</td>\n      <td>1.74938e+06</td>\n      <td>87370.4</td>\n      <td>87468.9</td>\n      <td>3</td>\n      <td>20.9841</td>\n      <td>...</td>\n      <td>393.167</td>\n      <td>216.683</td>\n      <td>0.44218</td>\n      <td>0.226868</td>\n      <td>[3.5805374237836918, 10.3286800953304, 4.56511...</td>\n      <td>[8.00670638702477, 7.964679759384666, 7.976587...</td>\n      <td>True</td>\n      <td>L</td>\n      <td>007</td>\n      <td>PV_126</td>\n    </tr>\n    <tr>\n      <th>...</th>\n      <td>...</td>\n      <td>...</td>\n      <td>...</td>\n      <td>...</td>\n      <td>...</td>\n      <td>...</td>\n      <td>...</td>\n      <td>...</td>\n      <td>...</td>\n      <td>...</td>\n      <td>...</td>\n      <td>...</td>\n      <td>...</td>\n      <td>...</td>\n      <td>...</td>\n      <td>...</td>\n      <td>...</td>\n      <td>...</td>\n      <td>...</td>\n      <td>...</td>\n      <td>...</td>\n    </tr>\n    <tr>\n      <th>3805</th>\n      <td>1900</td>\n      <td>R</td>\n      <td>12860</td>\n      <td>9.46743e+06</td>\n      <td>12862</td>\n      <td>9.46874e+06</td>\n      <td>473372</td>\n      <td>473437</td>\n      <td>2</td>\n      <td>11.5187</td>\n      <td>...</td>\n      <td>351.617</td>\n      <td>165.451</td>\n      <td>-0.249942</td>\n      <td>0.131875</td>\n      <td>[1.6249306060444337, 8.458801056010532, 1.4350...</td>\n      <td>[8.036827690322179, 7.915175491011191, 7.90850...</td>\n      <td>False</td>\n      <td>R</td>\n      <td>013</td>\n      <td>PV_126</td>\n    </tr>\n    <tr>\n      <th>3806</th>\n      <td>1901</td>\n      <td>R</td>\n      <td>13030</td>\n      <td>9.579e+06</td>\n      <td>13034</td>\n      <td>9.58162e+06</td>\n      <td>478950</td>\n      <td>479081</td>\n      <td>4</td>\n      <td>92.0748</td>\n      <td>...</td>\n      <td>395.641</td>\n      <td>240.967</td>\n      <td>1.05434</td>\n      <td>2.22591</td>\n      <td>[1.1295881520261355, 33.41478524771241, 39.220...</td>\n      <td>[7.860350516874485, 7.976764642725365, 7.79797...</td>\n      <td>True</td>\n      <td>R</td>\n      <td>013</td>\n      <td>PV_126</td>\n    </tr>\n    <tr>\n      <th>3807</th>\n      <td>1902</td>\n      <td>R</td>\n      <td>13069</td>\n      <td>9.60459e+06</td>\n      <td>13074</td>\n      <td>9.60787e+06</td>\n      <td>480230</td>\n      <td>480394</td>\n      <td>5</td>\n      <td>86.3654</td>\n      <td>...</td>\n      <td>364.287</td>\n      <td>159.394</td>\n      <td>-0.853895</td>\n      <td>-1.99945</td>\n      <td>[0.23212139290946995, 6.626236467022969, 40.87...</td>\n      <td>[7.830014229283603, 7.586509514127744, 7.40534...</td>\n      <td>True</td>\n      <td>R</td>\n      <td>013</td>\n      <td>PV_126</td>\n    </tr>\n    <tr>\n      <th>3808</th>\n      <td>1903</td>\n      <td>R</td>\n      <td>13122</td>\n      <td>9.63937e+06</td>\n      <td>13127</td>\n      <td>9.64266e+06</td>\n      <td>481969</td>\n      <td>482133</td>\n      <td>5</td>\n      <td>40.8964</td>\n      <td>...</td>\n      <td>343.638</td>\n      <td>161.44</td>\n      <td>-0.785173</td>\n      <td>-0.0717453</td>\n      <td>[0.8012909553946591, 11.70280013232481, 17.802...</td>\n      <td>[7.970786262227505, 7.824537558196311, 7.66510...</td>\n      <td>True</td>\n      <td>R</td>\n      <td>013</td>\n      <td>PV_126</td>\n    </tr>\n    <tr>\n      <th>3809</th>\n      <td>1904</td>\n      <td>R</td>\n      <td>13127</td>\n      <td>9.64266e+06</td>\n      <td>13130</td>\n      <td>9.64462e+06</td>\n      <td>482133</td>\n      <td>482231</td>\n      <td>3</td>\n      <td>17.1691</td>\n      <td>...</td>\n      <td>359.03</td>\n      <td>160.722</td>\n      <td>0.439676</td>\n      <td>-0.0205257</td>\n      <td>[1.7368874869184963, 7.602726254126506, 5.1460...</td>\n      <td>[7.8567790633667105, 8.036707823655805, 8.1380...</td>\n      <td>True</td>\n      <td>R</td>\n      <td>013</td>\n      <td>PV_126</td>\n    </tr>\n  </tbody>\n</table>\n<p>3810 rows × 24 columns</p>\n</div>"
     },
     "execution_count": 12,
     "metadata": {},
     "output_type": "execute_result"
    }
   ],
   "source": [
    "path_to_data = pathlib.Path(r'Z:\\Nimrod\\experiments\\multi_animal_analysis')\n",
    "files_to_load = [f for f in path_to_data.iterdir()]\n",
    "\n",
    "synced_list = []\n",
    "non_synced_list = []\n",
    "for file in files_to_load:\n",
    "    animal_dict = load_dict_from_pickle(file)\n",
    "    animal_call = list(animal_dict.keys())[0]\n",
    "    synced_list.append(animal_dict[animal_call]['synced_saccade_collection'])\n",
    "    non_synced_list.append(animal_dict[animal_call]['non_synced_saccade_collection'])\n",
    "    \n",
    "multi_synced_df = pd.concat(synced_list, axis=0)\n",
    "multi_non_synced_df = pd.concat(non_synced_list, axis=0)"
   ],
   "metadata": {
    "collapsed": false,
    "ExecuteTime": {
     "end_time": "2024-10-15T12:36:03.462374800Z",
     "start_time": "2024-10-15T12:36:03.394377500Z"
    }
   },
   "id": "f4b44b8b6116de51",
   "execution_count": 12
  },
  {
   "cell_type": "code",
   "outputs": [],
   "source": [
    "synced_saccade_collection"
   ],
   "metadata": {
    "collapsed": false
   },
   "id": "f5b873022629acd8"
  },
  {
   "cell_type": "markdown",
   "source": [
    "# Here, I define the synced and non_synced saccade collections - from here, all functions deal with these saccade objects"
   ],
   "metadata": {
    "collapsed": false
   },
   "id": "1af4a6b2962c1433"
  },
  {
   "cell_type": "code",
   "outputs": [],
   "source": [
    "synced_saccade_collection = multi_synced_df\n",
    "non_synced_saccade_collection = multi_non_synced_df\n"
   ],
   "metadata": {
    "collapsed": false
   },
   "id": "5e0e732fcb1b78b7"
  },
  {
   "cell_type": "markdown",
   "source": [],
   "metadata": {
    "collapsed": false
   },
   "id": "a5fb63106d4997a0"
  },
  {
   "cell_type": "code",
   "outputs": [],
   "source": [
    "\n",
    "# this is a helper function to verify the state of a given block\n",
    "\n",
    "def class_attributes_to_df(obj):\n",
    "    # Get a list of attribute names and check if they are None\n",
    "    data = [(attr, getattr(obj, attr) is not None) for attr in dir(obj) \n",
    "            if not callable(getattr(obj, attr)) and not attr.startswith(\"__\")]\n",
    "    \n",
    "    # Create a DataFrame from the list\n",
    "    df = pd.DataFrame(data, columns=['Attribute', 'Is_Not_None'])\n",
    "    \n",
    "    return df\n",
    "class_attributes_to_df(block)"
   ],
   "metadata": {
    "collapsed": false,
    "ExecuteTime": {
     "end_time": "2024-10-16T10:03:40.591309Z",
     "start_time": "2024-10-16T10:03:38.717849200Z"
    }
   },
   "id": "591e0f76ab76cf09",
   "execution_count": 42
  },
  {
   "cell_type": "code",
   "outputs": [],
   "source": [
    "for _,s in block.l_saccade_df.iterrows():\n",
    "    saccade_on_ms = s.saccade_on_ms\n",
    "    saccade_off_ms = s.saccade_off_ms\n",
    "    ls_samples = block.left_eye_data.query('ms_axis >=@saccade_on_ms and ms_axis<=@saccade_off_ms')\n",
    "    "
   ],
   "metadata": {
    "collapsed": false
   },
   "id": "7c6d64e90bc5471c"
  },
  {
   "cell_type": "markdown",
   "source": [
    "# Here, I try to re-understand saccade detection and segmentation according to angular velocity"
   ],
   "metadata": {
    "collapsed": false
   },
   "id": "359a21815a49fb49"
  },
  {
   "cell_type": "code",
   "outputs": [
    {
     "data": {
      "text/plain": "      saccade_start_ind  saccade_end_ind  saccade_start_timestamp  \\\n0                    52               52                 948472.0   \n1                    53               54                 949128.0   \n2                   365              367                1153944.0   \n3                   682              685                1362060.0   \n4                   952              954                1539309.0   \n...                 ...              ...                      ...   \n1329              61325            61329               41177265.0   \n1330              61329            61331               41179892.0   \n1331              61339            61343               41186459.0   \n1332              61343            61345               41189086.0   \n1333              61393            61396               41221919.0   \n\n      saccade_end_timestamp  saccade_on_ms  saccade_off_ms  \n0                  948472.0       47423.60        47423.60  \n1                  949784.0       47456.40        47489.20  \n2                 1155258.0       57697.20        57762.90  \n3                 1364029.0       68103.00        68201.45  \n4                 1540622.0       76965.45        77031.10  \n...                     ...            ...             ...  \n1329             41179892.0     2058863.25      2058994.60  \n1330             41181205.0     2058994.60      2059060.25  \n1331             41189086.0     2059322.95      2059454.30  \n1332             41190399.0     2059454.30      2059519.95  \n1333             41223889.0     2061095.95      2061194.45  \n\n[1334 rows x 6 columns]",
      "text/html": "<div>\n<style scoped>\n    .dataframe tbody tr th:only-of-type {\n        vertical-align: middle;\n    }\n\n    .dataframe tbody tr th {\n        vertical-align: top;\n    }\n\n    .dataframe thead th {\n        text-align: right;\n    }\n</style>\n<table border=\"1\" class=\"dataframe\">\n  <thead>\n    <tr style=\"text-align: right;\">\n      <th></th>\n      <th>saccade_start_ind</th>\n      <th>saccade_end_ind</th>\n      <th>saccade_start_timestamp</th>\n      <th>saccade_end_timestamp</th>\n      <th>saccade_on_ms</th>\n      <th>saccade_off_ms</th>\n    </tr>\n  </thead>\n  <tbody>\n    <tr>\n      <th>0</th>\n      <td>52</td>\n      <td>52</td>\n      <td>948472.0</td>\n      <td>948472.0</td>\n      <td>47423.60</td>\n      <td>47423.60</td>\n    </tr>\n    <tr>\n      <th>1</th>\n      <td>53</td>\n      <td>54</td>\n      <td>949128.0</td>\n      <td>949784.0</td>\n      <td>47456.40</td>\n      <td>47489.20</td>\n    </tr>\n    <tr>\n      <th>2</th>\n      <td>365</td>\n      <td>367</td>\n      <td>1153944.0</td>\n      <td>1155258.0</td>\n      <td>57697.20</td>\n      <td>57762.90</td>\n    </tr>\n    <tr>\n      <th>3</th>\n      <td>682</td>\n      <td>685</td>\n      <td>1362060.0</td>\n      <td>1364029.0</td>\n      <td>68103.00</td>\n      <td>68201.45</td>\n    </tr>\n    <tr>\n      <th>4</th>\n      <td>952</td>\n      <td>954</td>\n      <td>1539309.0</td>\n      <td>1540622.0</td>\n      <td>76965.45</td>\n      <td>77031.10</td>\n    </tr>\n    <tr>\n      <th>...</th>\n      <td>...</td>\n      <td>...</td>\n      <td>...</td>\n      <td>...</td>\n      <td>...</td>\n      <td>...</td>\n    </tr>\n    <tr>\n      <th>1329</th>\n      <td>61325</td>\n      <td>61329</td>\n      <td>41177265.0</td>\n      <td>41179892.0</td>\n      <td>2058863.25</td>\n      <td>2058994.60</td>\n    </tr>\n    <tr>\n      <th>1330</th>\n      <td>61329</td>\n      <td>61331</td>\n      <td>41179892.0</td>\n      <td>41181205.0</td>\n      <td>2058994.60</td>\n      <td>2059060.25</td>\n    </tr>\n    <tr>\n      <th>1331</th>\n      <td>61339</td>\n      <td>61343</td>\n      <td>41186459.0</td>\n      <td>41189086.0</td>\n      <td>2059322.95</td>\n      <td>2059454.30</td>\n    </tr>\n    <tr>\n      <th>1332</th>\n      <td>61343</td>\n      <td>61345</td>\n      <td>41189086.0</td>\n      <td>41190399.0</td>\n      <td>2059454.30</td>\n      <td>2059519.95</td>\n    </tr>\n    <tr>\n      <th>1333</th>\n      <td>61393</td>\n      <td>61396</td>\n      <td>41221919.0</td>\n      <td>41223889.0</td>\n      <td>2061095.95</td>\n      <td>2061194.45</td>\n    </tr>\n  </tbody>\n</table>\n<p>1334 rows × 6 columns</p>\n</div>"
     },
     "execution_count": 84,
     "metadata": {},
     "output_type": "execute_result"
    }
   ],
   "source": [
    "# from here, I try to re-understand saccade detection and segmentation according to angular velocity\n",
    "import numpy as np\n",
    "\n",
    "def calculate_angular_displacement(df):\n",
    "    # 1. Calculate the differences in x and y coordinates between consecutive frames\n",
    "    delta_x = df['center_x'].diff()\n",
    "    delta_y = df['center_y'].diff()\n",
    "    \n",
    "    # 2. Calculate the movement angle for each frame using arctan2 (gives direction in radians)\n",
    "    angles = np.arctan2(delta_y, delta_x)\n",
    "    \n",
    "    # 3. Calculate angular velocity as the difference in angle between consecutive frames\n",
    "    # This step is needed to detect sharp changes in direction.\n",
    "    angular_velocity = np.abs(angles.diff().fillna(0))\n",
    "    \n",
    "    return angular_velocity\n",
    "\n",
    "# Example usage on the left eye data\n",
    "block.left_eye_data['angular_velocity'] = calculate_angular_displacement(block.left_eye_data)\n",
    "\n",
    "\n",
    "# Example usage on the left eye data\n",
    "block.left_eye_data['angular_velocity'] = calculate_angular_displacement(block.left_eye_data).values"
   ],
   "metadata": {
    "collapsed": false,
    "ExecuteTime": {
     "end_time": "2024-10-21T17:48:29.323177500Z",
     "start_time": "2024-10-21T17:48:29.171178200Z"
    }
   },
   "id": "e915ea358fb3795f",
   "execution_count": 84
  },
  {
   "cell_type": "code",
   "outputs": [],
   "source": [
    "\n",
    "df = block.left_eye_data\n",
    "speed_threshold = 4\n",
    "angular_threshold = np.pi/2\n",
    "min_duration = 2\n",
    "# Function to calculate angular velocity\n",
    "def calculate_angular_displacement(df):\n",
    "    delta_x = df['center_x'].diff()\n",
    "    delta_y = df['center_y'].diff()\n",
    "    angles = np.arctan2(delta_y, delta_x)\n",
    "    angular_velocity = np.abs(angles.diff().fillna(0))\n",
    "    return angular_velocity\n",
    "\n",
    "# Add the angular velocity to the dataframe\n",
    "df['angular_velocity'] = calculate_angular_displacement(df)\n",
    "\n",
    "# Define your thresholds\n",
    "speed_threshold = 4\n",
    "angular_threshold = 4  # Threshold for significant angular change\n",
    "min_duration = 2  # Minimal saccade duration in frames\n",
    "\n",
    "# Calculate speed\n",
    "df['speed_x'] = df['center_x'].diff()\n",
    "df['speed_y'] = df['center_y'].diff()\n",
    "df['speed_r'] = (df['speed_x']**2 + df['speed_y']**2)**0.5\n",
    "\n",
    "# Detect saccades based on speed threshold\n",
    "df['is_saccade'] = df['speed_r'] > speed_threshold\n",
    "\n",
    "# Identify saccade onsets and offsets\n",
    "saccade_on_off = df['is_saccade'].astype(int) - df['is_saccade'].shift(periods=1, fill_value=False).astype(int)\n",
    "saccade_on_inds = np.where(saccade_on_off == 1)[0] - 1  # Including slower frame before threshold crossing\n",
    "saccade_off_inds = np.where(saccade_on_off == -1)[0]\n",
    "\n",
    "# Initialize a list to store segmented saccade events\n",
    "segmented_saccades = []\n",
    "\n",
    "# Iterate over detected saccades\n",
    "for i in range(len(saccade_on_inds)):\n",
    "    start_ind = saccade_on_inds[i]\n",
    "    end_ind = saccade_off_inds[i] if i < len(saccade_off_inds) else len(df) - 1  # Handle last saccade case\n",
    "\n",
    "    # Extract angular velocity during the saccade event\n",
    "    saccade_angular_velocity = df['angular_velocity'].iloc[start_ind:end_ind + 1]\n",
    "\n",
    "    # Find segments within the saccade based on angular velocity threshold\n",
    "    large_angle_changes = np.where(saccade_angular_velocity > angular_threshold)[0]\n",
    "\n",
    "    # If no internal segments are found, treat the entire event as a single saccade\n",
    "    if len(large_angle_changes) == 0:\n",
    "        segmented_saccades.append((start_ind, end_ind))\n",
    "    else:\n",
    "        # Split the saccade into segments at the points of large direction changes\n",
    "        segment_start = start_ind\n",
    "        for change_ind in large_angle_changes:\n",
    "            segment_end = start_ind + change_ind\n",
    "            segmented_saccades.append((segment_start, segment_end))\n",
    "            segment_start = segment_end + 1  # Move start to just after the change\n",
    "        # Add the final segment\n",
    "        segmented_saccades.append((segment_start, end_ind))\n",
    "\n",
    "# Create a new dataframe for segmented saccades\n",
    "segmented_saccade_dict = {\n",
    "    'saccade_start_ind': [seg[0] for seg in segmented_saccades],\n",
    "    'saccade_end_ind': [seg[1] for seg in segmented_saccades],\n",
    "    'saccade_start_timestamp': df['OE_timestamp'].iloc[[seg[0] for seg in segmented_saccades]].values,\n",
    "    'saccade_end_timestamp': df['OE_timestamp'].iloc[[seg[1] for seg in segmented_saccades]].values,\n",
    "    'saccade_on_ms': df['ms_axis'].iloc[[seg[0] for seg in segmented_saccades]].values,\n",
    "    'saccade_off_ms': df['ms_axis'].iloc[[seg[1] for seg in segmented_saccades]].values\n",
    "}\n",
    "\n",
    "segmented_saccade_df = pd.DataFrame(segmented_saccade_dict)\n",
    "\n",
    "segmented_saccade_df\n"
   ],
   "metadata": {
    "collapsed": false,
    "ExecuteTime": {
     "end_time": "2024-10-21T19:10:30.069519100Z",
     "start_time": "2024-10-21T19:10:24.351556200Z"
    }
   },
   "id": "e1450ea0845f05a8",
   "execution_count": 125
  },
  {
   "cell_type": "code",
   "outputs": [],
   "source": [
    "df = block.left_eye_data\n",
    "df['acceleration'] = np.insert(np.diff(df['speed_r'].values),0,0)\n",
    "event_start_timestamps = block.l_saccade_df.saccade_on_ms\n",
    "window = 1000 #ms\n",
    "speed = []\n",
    "angular_velocity = []\n",
    "acceleration = []\n",
    "for t in event_start_timestamps:\n",
    "    t_start = t-window\n",
    "    t_end = t + window\n",
    "    speed.append(df.query('ms_axis >= @t_start and ms_axis <= @t_end')['speed_r'].values)\n",
    "    angular_velocity.append(df.query('ms_axis >= @t_start and ms_axis <= @t_end')['angular_velocity'].values)\n",
    "    acceleration.append(df.query('ms_axis >= @t_start and ms_axis <=@t_end')['acceleration'])"
   ],
   "metadata": {
    "collapsed": false,
    "ExecuteTime": {
     "end_time": "2024-10-27T10:37:18.944436700Z",
     "start_time": "2024-10-27T10:37:18.920438300Z"
    }
   },
   "id": "d670a42a3d4441e0",
   "execution_count": 152
  },
  {
   "cell_type": "code",
   "outputs": [],
   "source": [
    "import matplotlib\n",
    "\n",
    "# Load the custom style\n",
    "matplotlib.style.use(r'C:\\Users\\MarkS3\\PycharmProjects\\pythonProject3\\minimal_graph_template.mplstyle')\n"
   ],
   "metadata": {
    "collapsed": false,
    "ExecuteTime": {
     "end_time": "2024-10-21T18:57:57.288159400Z",
     "start_time": "2024-10-21T18:57:57.214560600Z"
    }
   },
   "id": "70d4140089fb1aeb",
   "execution_count": 106
  },
  {
   "cell_type": "code",
   "outputs": [
    {
     "data": {
      "text/plain": "<IPython.core.display.Javascript object>",
      "application/javascript": "/* Put everything inside the global mpl namespace */\n/* global mpl */\nwindow.mpl = {};\n\nmpl.get_websocket_type = function () {\n    if (typeof WebSocket !== 'undefined') {\n        return WebSocket;\n    } else if (typeof MozWebSocket !== 'undefined') {\n        return MozWebSocket;\n    } else {\n        alert(\n            'Your browser does not have WebSocket support. ' +\n                'Please try Chrome, Safari or Firefox ≥ 6. ' +\n                'Firefox 4 and 5 are also supported but you ' +\n                'have to enable WebSockets in about:config.'\n        );\n    }\n};\n\nmpl.figure = function (figure_id, websocket, ondownload, parent_element) {\n    this.id = figure_id;\n\n    this.ws = websocket;\n\n    this.supports_binary = this.ws.binaryType !== undefined;\n\n    if (!this.supports_binary) {\n        var warnings = document.getElementById('mpl-warnings');\n        if (warnings) {\n            warnings.style.display = 'block';\n            warnings.textContent =\n                'This browser does not support binary websocket messages. ' +\n                'Performance may be slow.';\n        }\n    }\n\n    this.imageObj = new Image();\n\n    this.context = undefined;\n    this.message = undefined;\n    this.canvas = undefined;\n    this.rubberband_canvas = undefined;\n    this.rubberband_context = undefined;\n    this.format_dropdown = undefined;\n\n    this.image_mode = 'full';\n\n    this.root = document.createElement('div');\n    this.root.setAttribute('style', 'display: inline-block');\n    this._root_extra_style(this.root);\n\n    parent_element.appendChild(this.root);\n\n    this._init_header(this);\n    this._init_canvas(this);\n    this._init_toolbar(this);\n\n    var fig = this;\n\n    this.waiting = false;\n\n    this.ws.onopen = function () {\n        fig.send_message('supports_binary', { value: fig.supports_binary });\n        fig.send_message('send_image_mode', {});\n        if (fig.ratio !== 1) {\n            fig.send_message('set_device_pixel_ratio', {\n                device_pixel_ratio: fig.ratio,\n            });\n        }\n        fig.send_message('refresh', {});\n    };\n\n    this.imageObj.onload = function () {\n        if (fig.image_mode === 'full') {\n            // Full images could contain transparency (where diff images\n            // almost always do), so we need to clear the canvas so that\n            // there is no ghosting.\n            fig.context.clearRect(0, 0, fig.canvas.width, fig.canvas.height);\n        }\n        fig.context.drawImage(fig.imageObj, 0, 0);\n    };\n\n    this.imageObj.onunload = function () {\n        fig.ws.close();\n    };\n\n    this.ws.onmessage = this._make_on_message_function(this);\n\n    this.ondownload = ondownload;\n};\n\nmpl.figure.prototype._init_header = function () {\n    var titlebar = document.createElement('div');\n    titlebar.classList =\n        'ui-dialog-titlebar ui-widget-header ui-corner-all ui-helper-clearfix';\n    var titletext = document.createElement('div');\n    titletext.classList = 'ui-dialog-title';\n    titletext.setAttribute(\n        'style',\n        'width: 100%; text-align: center; padding: 3px;'\n    );\n    titlebar.appendChild(titletext);\n    this.root.appendChild(titlebar);\n    this.header = titletext;\n};\n\nmpl.figure.prototype._canvas_extra_style = function (_canvas_div) {};\n\nmpl.figure.prototype._root_extra_style = function (_canvas_div) {};\n\nmpl.figure.prototype._init_canvas = function () {\n    var fig = this;\n\n    var canvas_div = (this.canvas_div = document.createElement('div'));\n    canvas_div.setAttribute('tabindex', '0');\n    canvas_div.setAttribute(\n        'style',\n        'border: 1px solid #ddd;' +\n            'box-sizing: content-box;' +\n            'clear: both;' +\n            'min-height: 1px;' +\n            'min-width: 1px;' +\n            'outline: 0;' +\n            'overflow: hidden;' +\n            'position: relative;' +\n            'resize: both;' +\n            'z-index: 2;'\n    );\n\n    function on_keyboard_event_closure(name) {\n        return function (event) {\n            return fig.key_event(event, name);\n        };\n    }\n\n    canvas_div.addEventListener(\n        'keydown',\n        on_keyboard_event_closure('key_press')\n    );\n    canvas_div.addEventListener(\n        'keyup',\n        on_keyboard_event_closure('key_release')\n    );\n\n    this._canvas_extra_style(canvas_div);\n    this.root.appendChild(canvas_div);\n\n    var canvas = (this.canvas = document.createElement('canvas'));\n    canvas.classList.add('mpl-canvas');\n    canvas.setAttribute(\n        'style',\n        'box-sizing: content-box;' +\n            'pointer-events: none;' +\n            'position: relative;' +\n            'z-index: 0;'\n    );\n\n    this.context = canvas.getContext('2d');\n\n    var backingStore =\n        this.context.backingStorePixelRatio ||\n        this.context.webkitBackingStorePixelRatio ||\n        this.context.mozBackingStorePixelRatio ||\n        this.context.msBackingStorePixelRatio ||\n        this.context.oBackingStorePixelRatio ||\n        this.context.backingStorePixelRatio ||\n        1;\n\n    this.ratio = (window.devicePixelRatio || 1) / backingStore;\n\n    var rubberband_canvas = (this.rubberband_canvas = document.createElement(\n        'canvas'\n    ));\n    rubberband_canvas.setAttribute(\n        'style',\n        'box-sizing: content-box;' +\n            'left: 0;' +\n            'pointer-events: none;' +\n            'position: absolute;' +\n            'top: 0;' +\n            'z-index: 1;'\n    );\n\n    // Apply a ponyfill if ResizeObserver is not implemented by browser.\n    if (this.ResizeObserver === undefined) {\n        if (window.ResizeObserver !== undefined) {\n            this.ResizeObserver = window.ResizeObserver;\n        } else {\n            var obs = _JSXTOOLS_RESIZE_OBSERVER({});\n            this.ResizeObserver = obs.ResizeObserver;\n        }\n    }\n\n    this.resizeObserverInstance = new this.ResizeObserver(function (entries) {\n        var nentries = entries.length;\n        for (var i = 0; i < nentries; i++) {\n            var entry = entries[i];\n            var width, height;\n            if (entry.contentBoxSize) {\n                if (entry.contentBoxSize instanceof Array) {\n                    // Chrome 84 implements new version of spec.\n                    width = entry.contentBoxSize[0].inlineSize;\n                    height = entry.contentBoxSize[0].blockSize;\n                } else {\n                    // Firefox implements old version of spec.\n                    width = entry.contentBoxSize.inlineSize;\n                    height = entry.contentBoxSize.blockSize;\n                }\n            } else {\n                // Chrome <84 implements even older version of spec.\n                width = entry.contentRect.width;\n                height = entry.contentRect.height;\n            }\n\n            // Keep the size of the canvas and rubber band canvas in sync with\n            // the canvas container.\n            if (entry.devicePixelContentBoxSize) {\n                // Chrome 84 implements new version of spec.\n                canvas.setAttribute(\n                    'width',\n                    entry.devicePixelContentBoxSize[0].inlineSize\n                );\n                canvas.setAttribute(\n                    'height',\n                    entry.devicePixelContentBoxSize[0].blockSize\n                );\n            } else {\n                canvas.setAttribute('width', width * fig.ratio);\n                canvas.setAttribute('height', height * fig.ratio);\n            }\n            /* This rescales the canvas back to display pixels, so that it\n             * appears correct on HiDPI screens. */\n            canvas.style.width = width + 'px';\n            canvas.style.height = height + 'px';\n\n            rubberband_canvas.setAttribute('width', width);\n            rubberband_canvas.setAttribute('height', height);\n\n            // And update the size in Python. We ignore the initial 0/0 size\n            // that occurs as the element is placed into the DOM, which should\n            // otherwise not happen due to the minimum size styling.\n            if (fig.ws.readyState == 1 && width != 0 && height != 0) {\n                fig.request_resize(width, height);\n            }\n        }\n    });\n    this.resizeObserverInstance.observe(canvas_div);\n\n    function on_mouse_event_closure(name) {\n        /* User Agent sniffing is bad, but WebKit is busted:\n         * https://bugs.webkit.org/show_bug.cgi?id=144526\n         * https://bugs.webkit.org/show_bug.cgi?id=181818\n         * The worst that happens here is that they get an extra browser\n         * selection when dragging, if this check fails to catch them.\n         */\n        var UA = navigator.userAgent;\n        var isWebKit = /AppleWebKit/.test(UA) && !/Chrome/.test(UA);\n        if(isWebKit) {\n            return function (event) {\n                /* This prevents the web browser from automatically changing to\n                 * the text insertion cursor when the button is pressed. We\n                 * want to control all of the cursor setting manually through\n                 * the 'cursor' event from matplotlib */\n                event.preventDefault()\n                return fig.mouse_event(event, name);\n            };\n        } else {\n            return function (event) {\n                return fig.mouse_event(event, name);\n            };\n        }\n    }\n\n    canvas_div.addEventListener(\n        'mousedown',\n        on_mouse_event_closure('button_press')\n    );\n    canvas_div.addEventListener(\n        'mouseup',\n        on_mouse_event_closure('button_release')\n    );\n    canvas_div.addEventListener(\n        'dblclick',\n        on_mouse_event_closure('dblclick')\n    );\n    // Throttle sequential mouse events to 1 every 20ms.\n    canvas_div.addEventListener(\n        'mousemove',\n        on_mouse_event_closure('motion_notify')\n    );\n\n    canvas_div.addEventListener(\n        'mouseenter',\n        on_mouse_event_closure('figure_enter')\n    );\n    canvas_div.addEventListener(\n        'mouseleave',\n        on_mouse_event_closure('figure_leave')\n    );\n\n    canvas_div.addEventListener('wheel', function (event) {\n        if (event.deltaY < 0) {\n            event.step = 1;\n        } else {\n            event.step = -1;\n        }\n        on_mouse_event_closure('scroll')(event);\n    });\n\n    canvas_div.appendChild(canvas);\n    canvas_div.appendChild(rubberband_canvas);\n\n    this.rubberband_context = rubberband_canvas.getContext('2d');\n    this.rubberband_context.strokeStyle = '#000000';\n\n    this._resize_canvas = function (width, height, forward) {\n        if (forward) {\n            canvas_div.style.width = width + 'px';\n            canvas_div.style.height = height + 'px';\n        }\n    };\n\n    // Disable right mouse context menu.\n    canvas_div.addEventListener('contextmenu', function (_e) {\n        event.preventDefault();\n        return false;\n    });\n\n    function set_focus() {\n        canvas.focus();\n        canvas_div.focus();\n    }\n\n    window.setTimeout(set_focus, 100);\n};\n\nmpl.figure.prototype._init_toolbar = function () {\n    var fig = this;\n\n    var toolbar = document.createElement('div');\n    toolbar.classList = 'mpl-toolbar';\n    this.root.appendChild(toolbar);\n\n    function on_click_closure(name) {\n        return function (_event) {\n            return fig.toolbar_button_onclick(name);\n        };\n    }\n\n    function on_mouseover_closure(tooltip) {\n        return function (event) {\n            if (!event.currentTarget.disabled) {\n                return fig.toolbar_button_onmouseover(tooltip);\n            }\n        };\n    }\n\n    fig.buttons = {};\n    var buttonGroup = document.createElement('div');\n    buttonGroup.classList = 'mpl-button-group';\n    for (var toolbar_ind in mpl.toolbar_items) {\n        var name = mpl.toolbar_items[toolbar_ind][0];\n        var tooltip = mpl.toolbar_items[toolbar_ind][1];\n        var image = mpl.toolbar_items[toolbar_ind][2];\n        var method_name = mpl.toolbar_items[toolbar_ind][3];\n\n        if (!name) {\n            /* Instead of a spacer, we start a new button group. */\n            if (buttonGroup.hasChildNodes()) {\n                toolbar.appendChild(buttonGroup);\n            }\n            buttonGroup = document.createElement('div');\n            buttonGroup.classList = 'mpl-button-group';\n            continue;\n        }\n\n        var button = (fig.buttons[name] = document.createElement('button'));\n        button.classList = 'mpl-widget';\n        button.setAttribute('role', 'button');\n        button.setAttribute('aria-disabled', 'false');\n        button.addEventListener('click', on_click_closure(method_name));\n        button.addEventListener('mouseover', on_mouseover_closure(tooltip));\n\n        var icon_img = document.createElement('img');\n        icon_img.src = '_images/' + image + '.png';\n        icon_img.srcset = '_images/' + image + '_large.png 2x';\n        icon_img.alt = tooltip;\n        button.appendChild(icon_img);\n\n        buttonGroup.appendChild(button);\n    }\n\n    if (buttonGroup.hasChildNodes()) {\n        toolbar.appendChild(buttonGroup);\n    }\n\n    var fmt_picker = document.createElement('select');\n    fmt_picker.classList = 'mpl-widget';\n    toolbar.appendChild(fmt_picker);\n    this.format_dropdown = fmt_picker;\n\n    for (var ind in mpl.extensions) {\n        var fmt = mpl.extensions[ind];\n        var option = document.createElement('option');\n        option.selected = fmt === mpl.default_extension;\n        option.innerHTML = fmt;\n        fmt_picker.appendChild(option);\n    }\n\n    var status_bar = document.createElement('span');\n    status_bar.classList = 'mpl-message';\n    toolbar.appendChild(status_bar);\n    this.message = status_bar;\n};\n\nmpl.figure.prototype.request_resize = function (x_pixels, y_pixels) {\n    // Request matplotlib to resize the figure. Matplotlib will then trigger a resize in the client,\n    // which will in turn request a refresh of the image.\n    this.send_message('resize', { width: x_pixels, height: y_pixels });\n};\n\nmpl.figure.prototype.send_message = function (type, properties) {\n    properties['type'] = type;\n    properties['figure_id'] = this.id;\n    this.ws.send(JSON.stringify(properties));\n};\n\nmpl.figure.prototype.send_draw_message = function () {\n    if (!this.waiting) {\n        this.waiting = true;\n        this.ws.send(JSON.stringify({ type: 'draw', figure_id: this.id }));\n    }\n};\n\nmpl.figure.prototype.handle_save = function (fig, _msg) {\n    var format_dropdown = fig.format_dropdown;\n    var format = format_dropdown.options[format_dropdown.selectedIndex].value;\n    fig.ondownload(fig, format);\n};\n\nmpl.figure.prototype.handle_resize = function (fig, msg) {\n    var size = msg['size'];\n    if (size[0] !== fig.canvas.width || size[1] !== fig.canvas.height) {\n        fig._resize_canvas(size[0], size[1], msg['forward']);\n        fig.send_message('refresh', {});\n    }\n};\n\nmpl.figure.prototype.handle_rubberband = function (fig, msg) {\n    var x0 = msg['x0'] / fig.ratio;\n    var y0 = (fig.canvas.height - msg['y0']) / fig.ratio;\n    var x1 = msg['x1'] / fig.ratio;\n    var y1 = (fig.canvas.height - msg['y1']) / fig.ratio;\n    x0 = Math.floor(x0) + 0.5;\n    y0 = Math.floor(y0) + 0.5;\n    x1 = Math.floor(x1) + 0.5;\n    y1 = Math.floor(y1) + 0.5;\n    var min_x = Math.min(x0, x1);\n    var min_y = Math.min(y0, y1);\n    var width = Math.abs(x1 - x0);\n    var height = Math.abs(y1 - y0);\n\n    fig.rubberband_context.clearRect(\n        0,\n        0,\n        fig.canvas.width / fig.ratio,\n        fig.canvas.height / fig.ratio\n    );\n\n    fig.rubberband_context.strokeRect(min_x, min_y, width, height);\n};\n\nmpl.figure.prototype.handle_figure_label = function (fig, msg) {\n    // Updates the figure title.\n    fig.header.textContent = msg['label'];\n};\n\nmpl.figure.prototype.handle_cursor = function (fig, msg) {\n    fig.canvas_div.style.cursor = msg['cursor'];\n};\n\nmpl.figure.prototype.handle_message = function (fig, msg) {\n    fig.message.textContent = msg['message'];\n};\n\nmpl.figure.prototype.handle_draw = function (fig, _msg) {\n    // Request the server to send over a new figure.\n    fig.send_draw_message();\n};\n\nmpl.figure.prototype.handle_image_mode = function (fig, msg) {\n    fig.image_mode = msg['mode'];\n};\n\nmpl.figure.prototype.handle_history_buttons = function (fig, msg) {\n    for (var key in msg) {\n        if (!(key in fig.buttons)) {\n            continue;\n        }\n        fig.buttons[key].disabled = !msg[key];\n        fig.buttons[key].setAttribute('aria-disabled', !msg[key]);\n    }\n};\n\nmpl.figure.prototype.handle_navigate_mode = function (fig, msg) {\n    if (msg['mode'] === 'PAN') {\n        fig.buttons['Pan'].classList.add('active');\n        fig.buttons['Zoom'].classList.remove('active');\n    } else if (msg['mode'] === 'ZOOM') {\n        fig.buttons['Pan'].classList.remove('active');\n        fig.buttons['Zoom'].classList.add('active');\n    } else {\n        fig.buttons['Pan'].classList.remove('active');\n        fig.buttons['Zoom'].classList.remove('active');\n    }\n};\n\nmpl.figure.prototype.updated_canvas_event = function () {\n    // Called whenever the canvas gets updated.\n    this.send_message('ack', {});\n};\n\n// A function to construct a web socket function for onmessage handling.\n// Called in the figure constructor.\nmpl.figure.prototype._make_on_message_function = function (fig) {\n    return function socket_on_message(evt) {\n        if (evt.data instanceof Blob) {\n            var img = evt.data;\n            if (img.type !== 'image/png') {\n                /* FIXME: We get \"Resource interpreted as Image but\n                 * transferred with MIME type text/plain:\" errors on\n                 * Chrome.  But how to set the MIME type?  It doesn't seem\n                 * to be part of the websocket stream */\n                img.type = 'image/png';\n            }\n\n            /* Free the memory for the previous frames */\n            if (fig.imageObj.src) {\n                (window.URL || window.webkitURL).revokeObjectURL(\n                    fig.imageObj.src\n                );\n            }\n\n            fig.imageObj.src = (window.URL || window.webkitURL).createObjectURL(\n                img\n            );\n            fig.updated_canvas_event();\n            fig.waiting = false;\n            return;\n        } else if (\n            typeof evt.data === 'string' &&\n            evt.data.slice(0, 21) === 'data:image/png;base64'\n        ) {\n            fig.imageObj.src = evt.data;\n            fig.updated_canvas_event();\n            fig.waiting = false;\n            return;\n        }\n\n        var msg = JSON.parse(evt.data);\n        var msg_type = msg['type'];\n\n        // Call the  \"handle_{type}\" callback, which takes\n        // the figure and JSON message as its only arguments.\n        try {\n            var callback = fig['handle_' + msg_type];\n        } catch (e) {\n            console.log(\n                \"No handler for the '\" + msg_type + \"' message type: \",\n                msg\n            );\n            return;\n        }\n\n        if (callback) {\n            try {\n                // console.log(\"Handling '\" + msg_type + \"' message: \", msg);\n                callback(fig, msg);\n            } catch (e) {\n                console.log(\n                    \"Exception inside the 'handler_\" + msg_type + \"' callback:\",\n                    e,\n                    e.stack,\n                    msg\n                );\n            }\n        }\n    };\n};\n\nfunction getModifiers(event) {\n    var mods = [];\n    if (event.ctrlKey) {\n        mods.push('ctrl');\n    }\n    if (event.altKey) {\n        mods.push('alt');\n    }\n    if (event.shiftKey) {\n        mods.push('shift');\n    }\n    if (event.metaKey) {\n        mods.push('meta');\n    }\n    return mods;\n}\n\n/*\n * return a copy of an object with only non-object keys\n * we need this to avoid circular references\n * https://stackoverflow.com/a/24161582/3208463\n */\nfunction simpleKeys(original) {\n    return Object.keys(original).reduce(function (obj, key) {\n        if (typeof original[key] !== 'object') {\n            obj[key] = original[key];\n        }\n        return obj;\n    }, {});\n}\n\nmpl.figure.prototype.mouse_event = function (event, name) {\n    if (name === 'button_press') {\n        this.canvas.focus();\n        this.canvas_div.focus();\n    }\n\n    // from https://stackoverflow.com/q/1114465\n    var boundingRect = this.canvas.getBoundingClientRect();\n    var x = (event.clientX - boundingRect.left) * this.ratio;\n    var y = (event.clientY - boundingRect.top) * this.ratio;\n\n    this.send_message(name, {\n        x: x,\n        y: y,\n        button: event.button,\n        step: event.step,\n        modifiers: getModifiers(event),\n        guiEvent: simpleKeys(event),\n    });\n\n    return false;\n};\n\nmpl.figure.prototype._key_event_extra = function (_event, _name) {\n    // Handle any extra behaviour associated with a key event\n};\n\nmpl.figure.prototype.key_event = function (event, name) {\n    // Prevent repeat events\n    if (name === 'key_press') {\n        if (event.key === this._key) {\n            return;\n        } else {\n            this._key = event.key;\n        }\n    }\n    if (name === 'key_release') {\n        this._key = null;\n    }\n\n    var value = '';\n    if (event.ctrlKey && event.key !== 'Control') {\n        value += 'ctrl+';\n    }\n    else if (event.altKey && event.key !== 'Alt') {\n        value += 'alt+';\n    }\n    else if (event.shiftKey && event.key !== 'Shift') {\n        value += 'shift+';\n    }\n\n    value += 'k' + event.key;\n\n    this._key_event_extra(event, name);\n\n    this.send_message(name, { key: value, guiEvent: simpleKeys(event) });\n    return false;\n};\n\nmpl.figure.prototype.toolbar_button_onclick = function (name) {\n    if (name === 'download') {\n        this.handle_save(this, null);\n    } else {\n        this.send_message('toolbar_button', { name: name });\n    }\n};\n\nmpl.figure.prototype.toolbar_button_onmouseover = function (tooltip) {\n    this.message.textContent = tooltip;\n};\n\n///////////////// REMAINING CONTENT GENERATED BY embed_js.py /////////////////\n// prettier-ignore\nvar _JSXTOOLS_RESIZE_OBSERVER=function(A){var t,i=new WeakMap,n=new WeakMap,a=new WeakMap,r=new WeakMap,o=new Set;function s(e){if(!(this instanceof s))throw new TypeError(\"Constructor requires 'new' operator\");i.set(this,e)}function h(){throw new TypeError(\"Function is not a constructor\")}function c(e,t,i,n){e=0 in arguments?Number(arguments[0]):0,t=1 in arguments?Number(arguments[1]):0,i=2 in arguments?Number(arguments[2]):0,n=3 in arguments?Number(arguments[3]):0,this.right=(this.x=this.left=e)+(this.width=i),this.bottom=(this.y=this.top=t)+(this.height=n),Object.freeze(this)}function d(){t=requestAnimationFrame(d);var s=new WeakMap,p=new Set;o.forEach((function(t){r.get(t).forEach((function(i){var r=t instanceof window.SVGElement,o=a.get(t),d=r?0:parseFloat(o.paddingTop),f=r?0:parseFloat(o.paddingRight),l=r?0:parseFloat(o.paddingBottom),u=r?0:parseFloat(o.paddingLeft),g=r?0:parseFloat(o.borderTopWidth),m=r?0:parseFloat(o.borderRightWidth),w=r?0:parseFloat(o.borderBottomWidth),b=u+f,F=d+l,v=(r?0:parseFloat(o.borderLeftWidth))+m,W=g+w,y=r?0:t.offsetHeight-W-t.clientHeight,E=r?0:t.offsetWidth-v-t.clientWidth,R=b+v,z=F+W,M=r?t.width:parseFloat(o.width)-R-E,O=r?t.height:parseFloat(o.height)-z-y;if(n.has(t)){var k=n.get(t);if(k[0]===M&&k[1]===O)return}n.set(t,[M,O]);var S=Object.create(h.prototype);S.target=t,S.contentRect=new c(u,d,M,O),s.has(i)||(s.set(i,[]),p.add(i)),s.get(i).push(S)}))})),p.forEach((function(e){i.get(e).call(e,s.get(e),e)}))}return s.prototype.observe=function(i){if(i instanceof window.Element){r.has(i)||(r.set(i,new Set),o.add(i),a.set(i,window.getComputedStyle(i)));var n=r.get(i);n.has(this)||n.add(this),cancelAnimationFrame(t),t=requestAnimationFrame(d)}},s.prototype.unobserve=function(i){if(i instanceof window.Element&&r.has(i)){var n=r.get(i);n.has(this)&&(n.delete(this),n.size||(r.delete(i),o.delete(i))),n.size||r.delete(i),o.size||cancelAnimationFrame(t)}},A.DOMRectReadOnly=c,A.ResizeObserver=s,A.ResizeObserverEntry=h,A}; // eslint-disable-line\nmpl.toolbar_items = [[\"Home\", \"Reset original view\", \"fa fa-home\", \"home\"], [\"Back\", \"Back to previous view\", \"fa fa-arrow-left\", \"back\"], [\"Forward\", \"Forward to next view\", \"fa fa-arrow-right\", \"forward\"], [\"\", \"\", \"\", \"\"], [\"Pan\", \"Left button pans, Right button zooms\\nx/y fixes axis, CTRL fixes aspect\", \"fa fa-arrows\", \"pan\"], [\"Zoom\", \"Zoom to rectangle\\nx/y fixes axis\", \"fa fa-square-o\", \"zoom\"], [\"\", \"\", \"\", \"\"], [\"Download\", \"Download plot\", \"fa fa-floppy-o\", \"download\"]];\n\nmpl.extensions = [\"eps\", \"jpeg\", \"pgf\", \"pdf\", \"png\", \"ps\", \"raw\", \"svg\", \"tif\", \"webp\"];\n\nmpl.default_extension = \"png\";/* global mpl */\n\nvar comm_websocket_adapter = function (comm) {\n    // Create a \"websocket\"-like object which calls the given IPython comm\n    // object with the appropriate methods. Currently this is a non binary\n    // socket, so there is still some room for performance tuning.\n    var ws = {};\n\n    ws.binaryType = comm.kernel.ws.binaryType;\n    ws.readyState = comm.kernel.ws.readyState;\n    function updateReadyState(_event) {\n        if (comm.kernel.ws) {\n            ws.readyState = comm.kernel.ws.readyState;\n        } else {\n            ws.readyState = 3; // Closed state.\n        }\n    }\n    comm.kernel.ws.addEventListener('open', updateReadyState);\n    comm.kernel.ws.addEventListener('close', updateReadyState);\n    comm.kernel.ws.addEventListener('error', updateReadyState);\n\n    ws.close = function () {\n        comm.close();\n    };\n    ws.send = function (m) {\n        //console.log('sending', m);\n        comm.send(m);\n    };\n    // Register the callback with on_msg.\n    comm.on_msg(function (msg) {\n        //console.log('receiving', msg['content']['data'], msg);\n        var data = msg['content']['data'];\n        if (data['blob'] !== undefined) {\n            data = {\n                data: new Blob(msg['buffers'], { type: data['blob'] }),\n            };\n        }\n        // Pass the mpl event to the overridden (by mpl) onmessage function.\n        ws.onmessage(data);\n    });\n    return ws;\n};\n\nmpl.mpl_figure_comm = function (comm, msg) {\n    // This is the function which gets called when the mpl process\n    // starts-up an IPython Comm through the \"matplotlib\" channel.\n\n    var id = msg.content.data.id;\n    // Get hold of the div created by the display call when the Comm\n    // socket was opened in Python.\n    var element = document.getElementById(id);\n    var ws_proxy = comm_websocket_adapter(comm);\n\n    function ondownload(figure, _format) {\n        window.open(figure.canvas.toDataURL());\n    }\n\n    var fig = new mpl.figure(id, ws_proxy, ondownload, element);\n\n    // Call onopen now - mpl needs it, as it is assuming we've passed it a real\n    // web socket which is closed, not our websocket->open comm proxy.\n    ws_proxy.onopen();\n\n    fig.parent_element = element;\n    fig.cell_info = mpl.find_output_cell(\"<div id='\" + id + \"'></div>\");\n    if (!fig.cell_info) {\n        console.error('Failed to find cell for figure', id, fig);\n        return;\n    }\n    fig.cell_info[0].output_area.element.on(\n        'cleared',\n        { fig: fig },\n        fig._remove_fig_handler\n    );\n};\n\nmpl.figure.prototype.handle_close = function (fig, msg) {\n    var width = fig.canvas.width / fig.ratio;\n    fig.cell_info[0].output_area.element.off(\n        'cleared',\n        fig._remove_fig_handler\n    );\n    fig.resizeObserverInstance.unobserve(fig.canvas_div);\n\n    // Update the output cell to use the data from the current canvas.\n    fig.push_to_output();\n    var dataURL = fig.canvas.toDataURL();\n    // Re-enable the keyboard manager in IPython - without this line, in FF,\n    // the notebook keyboard shortcuts fail.\n    IPython.keyboard_manager.enable();\n    fig.parent_element.innerHTML =\n        '<img src=\"' + dataURL + '\" width=\"' + width + '\">';\n    fig.close_ws(fig, msg);\n};\n\nmpl.figure.prototype.close_ws = function (fig, msg) {\n    fig.send_message('closing', msg);\n    // fig.ws.close()\n};\n\nmpl.figure.prototype.push_to_output = function (_remove_interactive) {\n    // Turn the data on the canvas into data in the output cell.\n    var width = this.canvas.width / this.ratio;\n    var dataURL = this.canvas.toDataURL();\n    this.cell_info[1]['text/html'] =\n        '<img src=\"' + dataURL + '\" width=\"' + width + '\">';\n};\n\nmpl.figure.prototype.updated_canvas_event = function () {\n    // Tell IPython that the notebook contents must change.\n    IPython.notebook.set_dirty(true);\n    this.send_message('ack', {});\n    var fig = this;\n    // Wait a second, then push the new image to the DOM so\n    // that it is saved nicely (might be nice to debounce this).\n    setTimeout(function () {\n        fig.push_to_output();\n    }, 1000);\n};\n\nmpl.figure.prototype._init_toolbar = function () {\n    var fig = this;\n\n    var toolbar = document.createElement('div');\n    toolbar.classList = 'btn-toolbar';\n    this.root.appendChild(toolbar);\n\n    function on_click_closure(name) {\n        return function (_event) {\n            return fig.toolbar_button_onclick(name);\n        };\n    }\n\n    function on_mouseover_closure(tooltip) {\n        return function (event) {\n            if (!event.currentTarget.disabled) {\n                return fig.toolbar_button_onmouseover(tooltip);\n            }\n        };\n    }\n\n    fig.buttons = {};\n    var buttonGroup = document.createElement('div');\n    buttonGroup.classList = 'btn-group';\n    var button;\n    for (var toolbar_ind in mpl.toolbar_items) {\n        var name = mpl.toolbar_items[toolbar_ind][0];\n        var tooltip = mpl.toolbar_items[toolbar_ind][1];\n        var image = mpl.toolbar_items[toolbar_ind][2];\n        var method_name = mpl.toolbar_items[toolbar_ind][3];\n\n        if (!name) {\n            /* Instead of a spacer, we start a new button group. */\n            if (buttonGroup.hasChildNodes()) {\n                toolbar.appendChild(buttonGroup);\n            }\n            buttonGroup = document.createElement('div');\n            buttonGroup.classList = 'btn-group';\n            continue;\n        }\n\n        button = fig.buttons[name] = document.createElement('button');\n        button.classList = 'btn btn-default';\n        button.href = '#';\n        button.title = name;\n        button.innerHTML = '<i class=\"fa ' + image + ' fa-lg\"></i>';\n        button.addEventListener('click', on_click_closure(method_name));\n        button.addEventListener('mouseover', on_mouseover_closure(tooltip));\n        buttonGroup.appendChild(button);\n    }\n\n    if (buttonGroup.hasChildNodes()) {\n        toolbar.appendChild(buttonGroup);\n    }\n\n    // Add the status bar.\n    var status_bar = document.createElement('span');\n    status_bar.classList = 'mpl-message pull-right';\n    toolbar.appendChild(status_bar);\n    this.message = status_bar;\n\n    // Add the close button to the window.\n    var buttongrp = document.createElement('div');\n    buttongrp.classList = 'btn-group inline pull-right';\n    button = document.createElement('button');\n    button.classList = 'btn btn-mini btn-primary';\n    button.href = '#';\n    button.title = 'Stop Interaction';\n    button.innerHTML = '<i class=\"fa fa-power-off icon-remove icon-large\"></i>';\n    button.addEventListener('click', function (_evt) {\n        fig.handle_close(fig, {});\n    });\n    button.addEventListener(\n        'mouseover',\n        on_mouseover_closure('Stop Interaction')\n    );\n    buttongrp.appendChild(button);\n    var titlebar = this.root.querySelector('.ui-dialog-titlebar');\n    titlebar.insertBefore(buttongrp, titlebar.firstChild);\n};\n\nmpl.figure.prototype._remove_fig_handler = function (event) {\n    var fig = event.data.fig;\n    if (event.target !== this) {\n        // Ignore bubbled events from children.\n        return;\n    }\n    fig.close_ws(fig, {});\n};\n\nmpl.figure.prototype._root_extra_style = function (el) {\n    el.style.boxSizing = 'content-box'; // override notebook setting of border-box.\n};\n\nmpl.figure.prototype._canvas_extra_style = function (el) {\n    // this is important to make the div 'focusable\n    el.setAttribute('tabindex', 0);\n    // reach out to IPython and tell the keyboard manager to turn it's self\n    // off when our div gets focus\n\n    // location in version 3\n    if (IPython.notebook.keyboard_manager) {\n        IPython.notebook.keyboard_manager.register_events(el);\n    } else {\n        // location in version 2\n        IPython.keyboard_manager.register_events(el);\n    }\n};\n\nmpl.figure.prototype._key_event_extra = function (event, _name) {\n    // Check for shift+enter\n    if (event.shiftKey && event.which === 13) {\n        this.canvas_div.blur();\n        // select the cell after this one\n        var index = IPython.notebook.find_cell_index(this.cell_info[0]);\n        IPython.notebook.select(index + 1);\n    }\n};\n\nmpl.figure.prototype.handle_save = function (fig, _msg) {\n    fig.ondownload(fig, null);\n};\n\nmpl.find_output_cell = function (html_output) {\n    // Return the cell and output element which can be found *uniquely* in the notebook.\n    // Note - this is a bit hacky, but it is done because the \"notebook_saving.Notebook\"\n    // IPython event is triggered only after the cells have been serialised, which for\n    // our purposes (turning an active figure into a static one), is too late.\n    var cells = IPython.notebook.get_cells();\n    var ncells = cells.length;\n    for (var i = 0; i < ncells; i++) {\n        var cell = cells[i];\n        if (cell.cell_type === 'code') {\n            for (var j = 0; j < cell.output_area.outputs.length; j++) {\n                var data = cell.output_area.outputs[j];\n                if (data.data) {\n                    // IPython >= 3 moved mimebundle to data attribute of output\n                    data = data.data;\n                }\n                if (data['text/html'] === html_output) {\n                    return [cell, data, j];\n                }\n            }\n        }\n    }\n};\n\n// Register the function which deals with the matplotlib target/channel.\n// The kernel may be null if the page has been refreshed.\nif (IPython.notebook.kernel !== null) {\n    IPython.notebook.kernel.comm_manager.register_target(\n        'matplotlib',\n        mpl.mpl_figure_comm\n    );\n}\n"
     },
     "metadata": {},
     "output_type": "display_data"
    },
    {
     "data": {
      "text/plain": "<IPython.core.display.HTML object>",
      "text/html": "<div id='8ae0031f-1dee-4caa-a7f1-5d4152b57361'></div>"
     },
     "metadata": {},
     "output_type": "display_data"
    },
    {
     "data": {
      "text/plain": "[<matplotlib.lines.Line2D at 0x205e7a5fca0>]"
     },
     "execution_count": 153,
     "metadata": {},
     "output_type": "execute_result"
    }
   ],
   "source": [],
   "metadata": {
    "collapsed": false,
    "ExecuteTime": {
     "end_time": "2024-10-27T10:37:20.007943100Z",
     "start_time": "2024-10-27T10:37:19.897917800Z"
    }
   },
   "id": "f7e279ac205305d1",
   "execution_count": 153
  },
  {
   "cell_type": "code",
   "outputs": [],
   "source": [
    "fig, axs = plt.subplots()\n",
    "axs.plot(np.nanmean(np.stack(speed),axis=0))\n",
    "axs.plot(np.nanmean(np.stack(acceleration),axis=0),color='r')\n",
    "axs.plot(np.nanmean(np.stack(angular_velocity),axis=0),color='g')\n",
    "#plt.plot(np.mean(np.array(data),axis=0))"
   ],
   "metadata": {
    "collapsed": false,
    "ExecuteTime": {
     "end_time": "2024-10-21T16:01:51.234559500Z",
     "start_time": "2024-10-21T16:01:47.166995700Z"
    }
   },
   "id": "23f6b508c9f0254c",
   "execution_count": 17
  },
  {
   "cell_type": "code",
   "outputs": [
    {
     "name": "stdout",
     "output_type": "stream",
     "text": [
      "Number of potential saccade frames (speed-based): 2519\n",
      "Saccade start indices (speed-based): [   52   365   682   952   959  1078  1084  1087  1091  1269  1276  1278\n",
      "  2039  2045  2173  2265  2703  3799  3803  3850  4190  4202  4438  4443\n",
      "  4447  4774  5146  5477  5976  5981  5985  5989  6158  6521  6528  6778\n",
      "  6891  6896  6900  6904  7109  7113  7127  7135  7154  7185  7189  7272\n",
      "  7275  7330  7334  7418  7475  7478  7480  7488  7490  7510  7512  7572\n",
      "  7576  7679  7682  7685  7694  7701  7710  7717  7728  7736  7741  7743\n",
      "  7748  7804  7939  7943  7946  7956  7961  7965  7968  7975  7978  8051\n",
      "  8055  8131  8178  8260  8262  8268  8317  8320  8367  8375  8381  8390\n",
      "  8394  8397  8428  8439  8447  8460  8464  8469  8480  8482  8484  8515\n",
      "  8522  8525  8540  8550  8575  8620  8649  8653  8657  8671  8674  8680\n",
      "  8682  8692  8762  8767  8778  8789  8801  8803  8809  8812  8816  8818\n",
      "  8828  8831  8843  8848  8850  8852  8857  8865  8873  8880  8886  8895\n",
      "  8900  8904  8911  8921  8929  8934  8947  8955  8980  8983  9038  9041\n",
      "  9044  9046  9155  9165  9318  9447  9454  9457  9459  9525  9574  9579\n",
      "  9582  9589  9592  9601  9607  9611  9618  9621  9625  9640  9837  9840\n",
      " 10015 10085 10137 10139 10173 10177 10186 10196 10201 10229 10232 10240\n",
      " 10246 10249 10251 10271 10285 10293 10300 10335 10342 10417 10429 10493\n",
      " 10621 10729 11099 11138 11141 11144 11146 11148 11297 11304 11311 11342\n",
      " 11390 11434 11530 11553 11556 11558 11561 11635 11639 11714 11716 11730\n",
      " 11737 11743 11752 11765 11772 11811 11825 11864 11867 11881 11888 11896\n",
      " 11901 11904 11911 11983 11997 12006 12009 12186 12189 12196 12200 12204\n",
      " 12209 12215 12222 12232 12237 12243 12246 12249 12255 12257 12310 12314\n",
      " 12409 12415 12420 12426 12433 12437 12451 12457 12460 12465 12467 12481\n",
      " 12485 12508 12510 12513 12517 12522 12526 12532 12534 12540 12543 12547\n",
      " 12551 12563 12567 12579 12592 12595 12716 12926 12934 12969 12972 12974\n",
      " 12977 12988 12995 13203 13372 13482 13489 13498 13533 13544 13550 13571\n",
      " 13612 13653 13761 13808 14111 14353 14400 14631 14988 15214 15274 15371\n",
      " 15381 15383 15389 15396 15407 15409 15420 15426 15429 15438 15481 15532\n",
      " 15534 15543 15554 15561 15605 15700 15705 15711 15715 15720 15725 15794\n",
      " 15797 15803 15854 15864 15867 15873 15933 15978 15981 15989 15997 16081\n",
      " 16116 16122 16179 16189 16209 16212 16282 16285 16288 16307 16316 16430\n",
      " 16558 16744 16749 16794 16807 16810 16825 16895 16898 16901 16956 17015\n",
      " 17022 17037 17048 17053 17211 17310 17313 17320 17328 17359 17365 17367\n",
      " 17373 17382 17386 17389 17430 17641 17643 17646 17648 17660 17665 17675\n",
      " 17681 17723 17778 17781 17962 17968 18152 18168 18545 18547 18549 18555\n",
      " 18557 18568 18584 18586 18602 18623 18625 18690 18692 19108 19329 19333\n",
      " 19344 19484 19513 19525 19529 19548 19553 19646 19649 19790 19804 19932\n",
      " 19974 19987 19989 20025 20102 20234 20245 20269 20575 20582 20591 20601\n",
      " 20653 21423 21428 21431 21438 21440 21453 21542 21549 21554 21562 21566\n",
      " 21580 21583 21625 21698 21821 21883 21887 21890 21993 22077 22259 22352\n",
      " 22628 22811 22818 22820 22894 22897 22990 23057 23326 23452 23465 23485\n",
      " 23489 23586 23671 23746 23750 23762 23772 23774 23776 23791 23828 23833\n",
      " 23837 23909 23916 23968 23973 23989 24068 24239 24421 24427 24449 24453\n",
      " 24459 24461 24482 24497 24536 24661 24664 24672 24848 24851 24854 24872\n",
      " 24874 24880 24891 24898 24900 24907 24915 24924 25005 25074 25078 25088\n",
      " 25096 25102 25110 25200 25264 25316 25449 25549 25592 25648 25933 25998\n",
      " 26423 26432 26540 26568 26651 26659 26751 26753 26756 26762 26766 26807\n",
      " 26945 26952 26955 26966 26972 26982 26984 26989 26993 26998 27003 27013\n",
      " 27020 27024 27068 27073 27094 27128 27130 27133 27157 27162 27178 27205\n",
      " 27207 27334 27343 27354 27503 27553 27663 27804 27811 27941 27946 27950\n",
      " 28104 28154 28184 28187 28190 28192 28200 28221 28256 28260 28352 28359\n",
      " 28403 28407 28414 28445 28532 28539 28653 28657 28663 28833 28836 28839\n",
      " 28869 28871 28880 28890 28892 28900 28916 28923 28963 28969 28971 28973\n",
      " 28980 28984 28994 29005 29007 29024 29033 29039 29079 29083 29092 29114\n",
      " 29135 29142 29150 29157 29183 29194 29200 29225 29230 29237 29239 29250\n",
      " 29263 29340 29345 29347 29500 29506 29529 29624 29767 29770 29779 29786\n",
      " 29872 29877 29880 29887 29892 29904 29906 29916 29977 30307 30318 30483\n",
      " 30487 30491 31526 31572 31582 31600 31605 31616 31618 31626 31753 31758\n",
      " 32282 32931 33028 33033 33065 33074 33233 33237 33352 33731 34069 34184\n",
      " 34195 34202 34541 34933 35403 35820 36093 36507 36714 36838 36850 37152\n",
      " 39004 39013 39016 39018 39181 39497 39668 39846 39969 40046 40051 40053\n",
      " 40055 40060 40191 40382 40964 41504 41512 41927 42455 42506 42542 42545\n",
      " 42822 42876 42891 42897 42910 42914 43044 43267 44284 44350 44358 44361\n",
      " 44544 44546 45161 45595 45935 45943 45945 46331 46334 46338 46558 46680\n",
      " 46813 46923 46930 46941 46951 46959 46974 46979 46991 46993 47005 47009\n",
      " 47023 47068 47071 47160 47163 47166 47168 47254 47256 47259 47269 47280\n",
      " 47317 47825 47829 47832 47974 48065 48236 48262 48394 48536 48541 48545\n",
      " 48550 48560 48566 48572 48622 48730 48733 48737 48739 48804 48806 48897\n",
      " 49082 49087 49092 49097 49099 49108 49117 49121 49126 49176 49181 49208\n",
      " 49271 49331 49662 49720 49723 49725 49733 49741 49746 49841 49843 49974\n",
      " 49980 49984 49990 50003 50006 50012 50019 50037 50039 50051 50099 50111\n",
      " 50119 50122 50128 50168 50171 50280 50284 50326 50333 50405 50407 50852\n",
      " 50937 50940 50945 50952 50954 50957 50963 50974 51003 51089 51092 51105\n",
      " 51112 51117 51120 51127 51137 51147 51170 51227 51229 51255 51867 52006\n",
      " 52009 52015 52017 52019 52076 52078 52082 52119 52123 52125 52138 52140\n",
      " 52143 52152 52270 52272 52397 53188 54406 54665 54882 54894 54897 54900\n",
      " 54904 54936 54947 54962 55002 55012 55182 56228 56593 56719 56804 56854\n",
      " 56859 56947 57159 57229 57406 57409 57546 57755 58033 58037 58086 58231\n",
      " 58425 58494 58530 58565 58930 59196 59521 59523 59528 59878 60117 60279\n",
      " 60281 60310 60313 60566 60607 60612 60703 60818 60954 60959 61012 61158\n",
      " 61325 61329 61339 61343 61393]\n",
      "Saccade end indices (speed-based): [   54   367   685   954   961  1083  1087  1090  1093  1272  1278  1280\n",
      "  2043  2047  2177  2268  2706  3802  3807  3854  4197  4205  4442  4445\n",
      "  4449  4777  5149  5482  5981  5985  5989  5991  6162  6527  6531  6780\n",
      "  6895  6900  6904  6908  7113  7119  7135  7137  7158  7187  7192  7275\n",
      "  7277  7334  7338  7421  7478  7480  7487  7490  7492  7512  7515  7576\n",
      "  7580  7681  7684  7689  7699  7706  7712  7719  7734  7738  7743  7747\n",
      "  7750  7810  7943  7945  7949  7961  7964  7967  7974  7978  7981  8055\n",
      "  8059  8135  8181  8262  8264  8278  8320  8327  8374  8378  8383  8394\n",
      "  8397  8400  8439  8444  8460  8463  8467  8479  8482  8484  8486  8520\n",
      "  8525  8527  8546  8554  8582  8632  8653  8656  8662  8674  8677  8682\n",
      "  8684  8697  8767  8771  8783  8797  8803  8809  8811  8815  8818  8822\n",
      "  8830  8836  8846  8850  8852  8856  8859  8868  8880  8885  8888  8900\n",
      "  8903  8909  8913  8926  8933  8936  8952  8959  8983  8986  9041  9043\n",
      "  9046  9048  9157  9167  9321  9450  9457  9459  9466  9528  9579  9582\n",
      "  9585  9592  9597  9605  9611  9617  9621  9623  9632  9645  9839  9842\n",
      " 10017 10088 10139 10141 10176 10182 10190 10199 10204 10232 10238 10245\n",
      " 10248 10251 10271 10274 10288 10297 10303 10341 10346 10420 10431 10495\n",
      " 10625 10733 11101 11140 11144 11146 11148 11150 11299 11311 11314 11346\n",
      " 11394 11438 11537 11556 11558 11560 11563 11639 11642 11716 11719 11734\n",
      " 11743 11745 11755 11771 11776 11817 11830 11867 11871 11883 11890 11900\n",
      " 11904 11906 11913 11992 12000 12009 12011 12189 12196 12199 12204 12208\n",
      " 12212 12217 12227 12235 12242 12245 12249 12252 12257 12259 12313 12318\n",
      " 12415 12418 12422 12428 12436 12450 12456 12460 12463 12467 12470 12485\n",
      " 12489 12510 12512 12515 12519 12525 12532 12534 12537 12543 12547 12550\n",
      " 12553 12566 12574 12581 12595 12597 12719 12930 12939 12972 12974 12977\n",
      " 12980 12993 12997 13207 13375 13489 13498 13500 13538 13547 13554 13573\n",
      " 13620 13659 13765 13811 14116 14358 14405 14633 14992 15217 15281 15375\n",
      " 15383 15385 15393 15401 15409 15413 15426 15428 15434 15442 15485 15534\n",
      " 15536 15545 15557 15564 15610 15705 15709 15715 15720 15722 15728 15796\n",
      " 15803 15805 15862 15867 15870 15875 15941 15980 15989 15992 16000 16087\n",
      " 16121 16126 16189 16191 16212 16220 16285 16287 16307 16309 16318 16435\n",
      " 16562 16748 16754 16799 16810 16812 16834 16898 16901 16903 16958 17020\n",
      " 17027 17039 17052 17057 17215 17313 17320 17323 17331 17364 17367 17372\n",
      " 17377 17386 17389 17391 17435 17643 17646 17648 17650 17665 17674 17681\n",
      " 17685 17725 17781 17784 17968 17970 18157 18171 18547 18549 18554 18557\n",
      " 18560 18570 18586 18588 18607 18625 18627 18692 18695 19111 19332 19335\n",
      " 19347 19486 19516 19529 19531 19551 19557 19649 19652 19794 19807 19936\n",
      " 19979 19989 19992 20029 20106 20238 20249 20274 20579 20591 20594 20604\n",
      " 20658 21428 21430 21438 21440 21444 21457 21545 21554 21562 21564 21580\n",
      " 21582 21586 21628 21700 21826 21886 21890 21892 21996 22082 22261 22357\n",
      " 22630 22816 22820 22822 22896 22899 22992 23062 23329 23463 23469 23488\n",
      " 23491 23588 23673 23749 23757 23772 23774 23776 23778 23796 23833 23835\n",
      " 23842 23916 23918 23971 23982 23992 24071 24241 24424 24440 24453 24455\n",
      " 24461 24465 24484 24504 24541 24664 24666 24675 24850 24853 24859 24874\n",
      " 24878 24882 24893 24900 24905 24912 24921 24926 25007 25078 25088 25090\n",
      " 25098 25104 25112 25206 25267 25319 25454 25553 25595 25653 25937 26001\n",
      " 26425 26434 26544 26572 26653 26663 26753 26756 26762 26764 26769 26810\n",
      " 26952 26954 26966 26968 26975 26984 26987 26991 26997 27000 27006 27017\n",
      " 27024 27027 27073 27075 27099 27130 27132 27136 27161 27166 27180 27207\n",
      " 27209 27337 27347 27357 27506 27555 27666 27806 27813 27946 27948 27954\n",
      " 28107 28157 28187 28190 28192 28194 28204 28225 28260 28264 28358 28363\n",
      " 28406 28410 28416 28448 28534 28542 28657 28659 28666 28836 28839 28843\n",
      " 28871 28873 28882 28892 28894 28903 28921 28926 28969 28971 28973 28975\n",
      " 28983 28988 29000 29007 29009 29028 29039 29041 29083 29085 29095 29117\n",
      " 29139 29146 29155 29164 29190 29198 29202 29230 29232 29239 29241 29253\n",
      " 29266 29345 29347 29351 29503 29508 29534 29626 29770 29772 29785 29789\n",
      " 29877 29880 29887 29891 29902 29906 29909 29918 29979 30313 30321 30486\n",
      " 30489 30495 31528 31577 31587 31602 31607 31618 31620 31629 31758 31760\n",
      " 32286 32933 33033 33035 33070 33077 33235 33239 33354 33733 34072 34186\n",
      " 34197 34205 34546 34935 35407 35822 36097 36513 36719 36843 36853 37155\n",
      " 39010 39016 39018 39022 39184 39500 39670 39849 39972 40050 40053 40055\n",
      " 40060 40066 40197 40384 40966 41507 41514 41930 42460 42509 42544 42548\n",
      " 42826 42879 42894 42904 42912 42917 43051 43269 44287 44355 44361 44367\n",
      " 44546 44549 45163 45598 45938 45945 45947 46333 46338 46340 46560 46682\n",
      " 46816 46927 46938 46943 46954 46965 46978 46981 46993 46996 47009 47016\n",
      " 47026 47071 47073 47163 47166 47168 47171 47256 47259 47266 47273 47285\n",
      " 47322 47828 47832 47835 47979 48072 48241 48265 48396 48540 48545 48547\n",
      " 48554 48563 48572 48574 48629 48733 48737 48739 48742 48806 48819 48900\n",
      " 49087 49092 49094 49099 49103 49110 49121 49125 49131 49181 49185 49211\n",
      " 49278 49337 49664 49723 49725 49730 49741 49743 49751 49843 49846 49977\n",
      " 49983 49990 50002 50006 50008 50016 50024 50039 50041 50055 50106 50117\n",
      " 50121 50125 50130 50171 50173 50284 50287 50332 50345 50407 50409 50855\n",
      " 50940 50945 50948 50954 50957 50963 50967 50976 51005 51092 51102 51111\n",
      " 51116 51120 51123 51129 51139 51150 51172 51229 51231 51257 51870 52009\n",
      " 52015 52017 52019 52021 52078 52081 52084 52122 52125 52133 52140 52142\n",
      " 52145 52158 52272 52275 52399 53191 54409 54670 54885 54897 54900 54903\n",
      " 54908 54941 54949 54964 55005 55014 55184 56230 56597 56723 56810 56858\n",
      " 56863 56951 57162 57231 57408 57412 57549 57758 58037 58039 58088 58233\n",
      " 58427 58496 58537 58568 58933 59198 59523 59525 59531 59880 60121 60281\n",
      " 60283 60312 60315 60570 60612 60615 60713 60824 60958 60961 61016 61163\n",
      " 61329 61331 61343 61345 61396]\n",
      "Angular velocities: [0.         0.18603251]\n"
     ]
    },
    {
     "ename": "AttributeError",
     "evalue": "'numpy.ndarray' object has no attribute 'shift'",
     "output_type": "error",
     "traceback": [
      "\u001B[1;31m---------------------------------------------------------------------------\u001B[0m",
      "\u001B[1;31mAttributeError\u001B[0m                            Traceback (most recent call last)",
      "\u001B[1;32m<ipython-input-66-cb5be41e755e>\u001B[0m in \u001B[0;36m<module>\u001B[1;34m\u001B[0m\n\u001B[0;32m    197\u001B[0m \u001B[1;33m\u001B[0m\u001B[0m\n\u001B[0;32m    198\u001B[0m \u001B[1;33m\u001B[0m\u001B[0m\n\u001B[1;32m--> 199\u001B[1;33m \u001B[0mleft_saccades\u001B[0m \u001B[1;33m=\u001B[0m \u001B[0mdetect_saccades_with_speed_and_angle_debug\u001B[0m\u001B[1;33m(\u001B[0m\u001B[0mblock\u001B[0m\u001B[1;33m.\u001B[0m\u001B[0mleft_eye_data\u001B[0m\u001B[1;33m,\u001B[0m\u001B[1;36m4\u001B[0m\u001B[1;33m,\u001B[0m\u001B[0mnp\u001B[0m\u001B[1;33m.\u001B[0m\u001B[0mpi\u001B[0m\u001B[1;33m/\u001B[0m\u001B[1;36m4\u001B[0m\u001B[1;33m,\u001B[0m\u001B[1;36m2\u001B[0m\u001B[1;33m)\u001B[0m\u001B[1;33m\u001B[0m\u001B[1;33m\u001B[0m\u001B[0m\n\u001B[0m\u001B[0;32m    200\u001B[0m \u001B[0mleft_saccades\u001B[0m\u001B[1;33m\u001B[0m\u001B[1;33m\u001B[0m\u001B[0m\n",
      "\u001B[1;32m<ipython-input-66-cb5be41e755e>\u001B[0m in \u001B[0;36mdetect_saccades_with_speed_and_angle_debug\u001B[1;34m(eye_data_df, speed_threshold, angular_velocity_threshold, min_saccade_length)\u001B[0m\n\u001B[0;32m    152\u001B[0m         \u001B[1;31m# Step 5: Apply angular velocity segmentation to the saccade segment\u001B[0m\u001B[1;33m\u001B[0m\u001B[1;33m\u001B[0m\u001B[1;33m\u001B[0m\u001B[0m\n\u001B[0;32m    153\u001B[0m         \u001B[0mhigh_angular_mask\u001B[0m \u001B[1;33m=\u001B[0m \u001B[0mangular_velocity\u001B[0m \u001B[1;33m>\u001B[0m \u001B[0mangular_velocity_threshold\u001B[0m\u001B[1;33m\u001B[0m\u001B[1;33m\u001B[0m\u001B[0m\n\u001B[1;32m--> 154\u001B[1;33m         \u001B[0mchunk_ids\u001B[0m \u001B[1;33m=\u001B[0m \u001B[1;33m(\u001B[0m\u001B[0mhigh_angular_mask\u001B[0m \u001B[1;33m!=\u001B[0m \u001B[0mhigh_angular_mask\u001B[0m\u001B[1;33m.\u001B[0m\u001B[0mshift\u001B[0m\u001B[1;33m(\u001B[0m\u001B[1;33m)\u001B[0m\u001B[1;33m)\u001B[0m\u001B[1;33m.\u001B[0m\u001B[0mcumsum\u001B[0m\u001B[1;33m(\u001B[0m\u001B[1;33m)\u001B[0m \u001B[1;33m*\u001B[0m \u001B[0mhigh_angular_mask\u001B[0m\u001B[1;33m\u001B[0m\u001B[1;33m\u001B[0m\u001B[0m\n\u001B[0m\u001B[0;32m    155\u001B[0m \u001B[1;33m\u001B[0m\u001B[0m\n\u001B[0;32m    156\u001B[0m         \u001B[1;31m# If no angular velocity chunking occurs, treat the whole segment as one chunk\u001B[0m\u001B[1;33m\u001B[0m\u001B[1;33m\u001B[0m\u001B[1;33m\u001B[0m\u001B[0m\n",
      "\u001B[1;31mAttributeError\u001B[0m: 'numpy.ndarray' object has no attribute 'shift'"
     ]
    }
   ],
   "source": [
    "# This neglects important saccades\n",
    "def detect_saccades(df, speed_threshold=4, angular_threshold=np.pi/4, min_duration=30):\n",
    "    \"\"\"\n",
    "    Detects saccades based on a two-step approach: speed followed by angular velocity.\n",
    "\n",
    "    Parameters:\n",
    "    - df: Pandas DataFrame with eye movement data\n",
    "    - speed_threshold: Minimum speed (in pixels/ms) to be considered a saccade\n",
    "    - angular_threshold: Angular velocity threshold (in radians) to split saccades into chunks\n",
    "    - min_duration: Minimum duration (in ms) to consider a valid saccade\n",
    "    \n",
    "    Returns:\n",
    "    - saccades: List of saccade time segments (start, end)\n",
    "    \"\"\"\n",
    "    \n",
    "    # 1. Detect saccade segments based on speed threshold\n",
    "    saccade_mask = df['speed_r'] > speed_threshold\n",
    "    \n",
    "    # Group into continuous segments\n",
    "    df['saccade_id'] = (saccade_mask != saccade_mask.shift()).cumsum() * saccade_mask\n",
    "    saccade_segments = df[df['saccade_id'] > 0].groupby('saccade_id').apply(lambda x: (x['ms_axis'].iloc[0], x['ms_axis'].iloc[-1]))\n",
    "    \n",
    "    saccades = []\n",
    "    \n",
    "    # 2. Within each detected high-speed segment, chunk by large angular changes\n",
    "    for start, end in saccade_segments:\n",
    "        segment = df[(df['ms_axis'] >= start) & (df['ms_axis'] <= end)].copy()\n",
    "        \n",
    "        # Calculate angular velocity within this segment\n",
    "        angular_velocity = calculate_angular_displacement(segment)\n",
    "        \n",
    "        # Identify sub-segments where angular velocity exceeds threshold\n",
    "        high_angular_mask = angular_velocity > angular_threshold\n",
    "        \n",
    "        # Chunk the saccade segment based on angular velocity changes\n",
    "        segment.loc[:, 'chunk_id'] = (high_angular_mask != high_angular_mask.shift()).cumsum() * high_angular_mask\n",
    "        chunks = segment[segment['chunk_id'] > 0].groupby('chunk_id').apply(lambda x: (x['ms_axis'].iloc[0], x['ms_axis'].iloc[-1]))\n",
    "\n",
    "        \n",
    "        # Add the final chunks to the list of saccades\n",
    "        for chunk_start, chunk_end in chunks:\n",
    "            if chunk_end - chunk_start > min_duration:  # Filter short noise chunks\n",
    "                saccades.append((chunk_start, chunk_end))\n",
    "    \n",
    "    return saccades\n",
    "left_saccades = detect_saccades(block.left_eye_data)"
   ],
   "metadata": {
    "collapsed": false,
    "ExecuteTime": {
     "end_time": "2024-10-21T17:02:52.528383500Z",
     "start_time": "2024-10-21T17:02:52.473381800Z"
    }
   },
   "id": "aabcb9857ebc42b8",
   "execution_count": 66
  },
  {
   "cell_type": "code",
   "outputs": [],
   "source": [
    "def detect_saccades_with_speed_and_angle(eye_data_df, speed_threshold=4, angular_velocity_threshold=np.pi/4, min_saccade_length=2):\n",
    "    \"\"\"\n",
    "    Detect saccades in eye tracking data based on speed, then chunk them based on large changes in angular velocity.\n",
    "\n",
    "    Parameters:\n",
    "    - eye_data_df (pd.DataFrame): Input DataFrame with eye tracking data.\n",
    "    - speed_threshold (float): Threshold for saccade detection based on speed.\n",
    "    - angular_velocity_threshold (float): Threshold for segmenting saccades based on angular velocity.\n",
    "    - min_saccade_length (int): Minimum duration (in frames) for a valid saccade.\n",
    "\n",
    "    Returns:\n",
    "    - saccade_events_df (pd.DataFrame): DataFrame containing the detected saccade events and their properties.\n",
    "    \"\"\"\n",
    "    df = eye_data_df.copy()\n",
    "\n",
    "    # Step 1: Calculate speed and detect saccade candidates based on speed threshold\n",
    "    df['speed_r'] = (df['speed_x']**2 + df['speed_y']**2)**0.5\n",
    "    df['is_saccade'] = df['speed_r'] > speed_threshold\n",
    "\n",
    "    # Step 2: Mark start and end of saccades (based on speed)\n",
    "    saccade_on_off = df['is_saccade'].astype(int) - df['is_saccade'].shift(1, fill_value=False).astype(int)\n",
    "    saccade_on_inds = np.where(saccade_on_off == 1)[0] - 1\n",
    "    saccade_off_inds = np.where(saccade_on_off == -1)[0]\n",
    "\n",
    "    # Step 3: Initialize DataFrame for detected saccades\n",
    "    saccade_events = {\n",
    "        'saccade_start_ind': [],\n",
    "        'saccade_end_ind': [],\n",
    "        'saccade_start_timestamp': [],\n",
    "        'saccade_end_timestamp': [],\n",
    "        'saccade_magnitude': [],\n",
    "        'saccade_angle': []\n",
    "    }\n",
    "\n",
    "    # Step 4: Loop over detected saccades based on speed and analyze angular velocity within each\n",
    "    for start_idx, end_idx in zip(saccade_on_inds, saccade_off_inds):\n",
    "        if end_idx - start_idx < min_saccade_length:\n",
    "            continue  # Skip if saccade is too short\n",
    "\n",
    "        saccade_segment = df.iloc[start_idx:end_idx]\n",
    "\n",
    "        # Calculate angular velocity for the segment\n",
    "        angles = np.arctan2(saccade_segment['speed_y'], saccade_segment['speed_x'])\n",
    "        angular_velocity = np.abs(np.diff(angles, prepend=angles[0]))\n",
    "\n",
    "        # Step 5: Apply angular velocity segmentation to the saccade segment\n",
    "        high_angular_mask = angular_velocity > angular_velocity_threshold\n",
    "        chunk_ids = (high_angular_mask != high_angular_mask.shift()).cumsum() * high_angular_mask\n",
    "\n",
    "        # Step 6: Segment the saccade based on large changes in angular velocity\n",
    "        for chunk_id in np.unique(chunk_ids):\n",
    "            if chunk_id == 0:\n",
    "                continue  # Skip if there's no chunk (i.e., below threshold)\n",
    "\n",
    "            chunk_segment = saccade_segment[chunk_ids == chunk_id]\n",
    "            chunk_start_idx = chunk_segment.index[0]\n",
    "            chunk_end_idx = chunk_segment.index[-1]\n",
    "\n",
    "            if chunk_end_idx - chunk_start_idx < min_saccade_length:\n",
    "                continue  # Skip if chunk is too short\n",
    "\n",
    "            # Add this chunk as a detected saccade event\n",
    "            saccade_events['saccade_start_ind'].append(chunk_start_idx)\n",
    "            saccade_events['saccade_end_ind'].append(chunk_end_idx)\n",
    "            saccade_events['saccade_start_timestamp'].append(df['OE_timestamp'].iloc[chunk_start_idx])\n",
    "            saccade_events['saccade_end_timestamp'].append(df['OE_timestamp'].iloc[chunk_end_idx])\n",
    "\n",
    "            # Calculate magnitude and angle for the chunk\n",
    "            initial_position = df.iloc[chunk_start_idx][['center_x', 'center_y']]\n",
    "            endpoint = df.iloc[chunk_end_idx][['center_x', 'center_y']]\n",
    "            magnitude = np.sqrt((endpoint['center_x'] - initial_position['center_x'])**2 + \n",
    "                                (endpoint['center_y'] - initial_position['center_y'])**2)\n",
    "            angle = np.arctan2(endpoint['center_y'] - initial_position['center_y'],\n",
    "                               endpoint['center_x'] - initial_position['center_x'])\n",
    "            saccade_events['saccade_magnitude'].append(magnitude)\n",
    "            saccade_events['saccade_angle'].append(np.rad2deg(angle) % 360)\n",
    "\n",
    "    # Convert the results to a DataFrame\n",
    "    saccade_events_df = pd.DataFrame(saccade_events)\n",
    "\n",
    "    return saccade_events_df\n",
    "\n",
    "\n",
    "def detect_saccades_with_speed_and_angle_debug(eye_data_df, speed_threshold, angular_velocity_threshold, min_saccade_length):\n",
    "    \"\"\"\n",
    "    Detect saccades in eye tracking data based on speed, then chunk them based on large changes in angular velocity.\n",
    "    This version adds diagnostics to understand why saccades might not be detected.\n",
    "    \n",
    "    Parameters:\n",
    "    - eye_data_df (pd.DataFrame): Input DataFrame with eye tracking data.\n",
    "    - speed_threshold (float): Threshold for saccade detection based on speed.\n",
    "    - angular_velocity_threshold (float): Threshold for segmenting saccades based on angular velocity.\n",
    "    - min_saccade_length (int): Minimum duration (in frames) for a valid saccade.\n",
    "\n",
    "    Returns:\n",
    "    - saccade_events_df (pd.DataFrame): DataFrame containing the detected saccade events and their properties.\n",
    "    \"\"\"\n",
    "    df = eye_data_df.copy()\n",
    "\n",
    "    # Step 1: Calculate speed and detect saccade candidates based on speed threshold\n",
    "    df['speed_r'] = (df['speed_x']**2 + df['speed_y']**2)**0.5\n",
    "    df['is_saccade'] = df['speed_r'] > speed_threshold\n",
    "\n",
    "    # Print diagnostics for speed-based saccade detection\n",
    "    print(f\"Number of potential saccade frames (speed-based): {df['is_saccade'].sum()}\")\n",
    "\n",
    "    # Step 2: Mark start and end of saccades (based on speed)\n",
    "    saccade_on_off = df['is_saccade'].astype(int) - df['is_saccade'].shift(1, fill_value=False).astype(int)\n",
    "    saccade_on_inds = np.where(saccade_on_off == 1)[0] - 1\n",
    "    saccade_off_inds = np.where(saccade_on_off == -1)[0]\n",
    "\n",
    "    # Print diagnostics for start and end indices\n",
    "    print(f\"Saccade start indices (speed-based): {saccade_on_inds}\")\n",
    "    print(f\"Saccade end indices (speed-based): {saccade_off_inds}\")\n",
    "\n",
    "    # Step 3: Initialize DataFrame for detected saccades\n",
    "    saccade_events = {\n",
    "        'saccade_start_ind': [],\n",
    "        'saccade_end_ind': [],\n",
    "        'saccade_start_timestamp': [],\n",
    "        'saccade_end_timestamp': [],\n",
    "        'saccade_magnitude': [],\n",
    "        'saccade_angle': []\n",
    "    }\n",
    "\n",
    "    # Step 4: Loop over detected saccades based on speed and analyze angular velocity within each\n",
    "    for start_idx, end_idx in zip(saccade_on_inds, saccade_off_inds):\n",
    "        if end_idx - start_idx < min_saccade_length:\n",
    "            print(f\"Saccade skipped due to short length: {end_idx - start_idx} frames\")\n",
    "            continue  # Skip if saccade is too short\n",
    "\n",
    "        saccade_segment = df.iloc[start_idx:end_idx]\n",
    "\n",
    "        # **Check if the saccade_segment is empty**\n",
    "        if saccade_segment.empty:\n",
    "            print(f\"Saccade segment is empty for indices: {start_idx} to {end_idx}\")\n",
    "            continue  # Skip this segment if it's empty\n",
    "\n",
    "        # Calculate angular velocity for the segment\n",
    "        angles = np.arctan2(saccade_segment['speed_y'], saccade_segment['speed_x'])\n",
    "\n",
    "        # **Check if angles is empty or has only one value**\n",
    "        if len(angles) < 2:\n",
    "            print(f\"Insufficient angle data for indices: {start_idx} to {end_idx}\")\n",
    "            continue  # Skip if there isn't enough data to calculate angular velocity\n",
    "\n",
    "        angular_velocity = np.abs(np.diff(angles, prepend=angles.iloc[0]))\n",
    "\n",
    "        # Print angular velocity diagnostic\n",
    "        print(f\"Angular velocities: {angular_velocity}\")\n",
    "\n",
    "        # Step 5: Apply angular velocity segmentation to the saccade segment\n",
    "        high_angular_mask = angular_velocity > angular_velocity_threshold\n",
    "        chunk_ids = (high_angular_mask != high_angular_mask.shift()).cumsum() * high_angular_mask\n",
    "\n",
    "        # If no angular velocity chunking occurs, treat the whole segment as one chunk\n",
    "        if chunk_ids.sum() == 0:\n",
    "            chunk_ids = np.ones(len(angular_velocity))  # Treat as single chunk\n",
    "        \n",
    "        print(f\"Chunk IDs: {chunk_ids}\")\n",
    "\n",
    "        # Step 6: Segment the saccade based on large changes in angular velocity\n",
    "        for chunk_id in np.unique(chunk_ids):\n",
    "            if chunk_id == 0:\n",
    "                continue  # Skip if there's no chunk (i.e., below threshold)\n",
    "\n",
    "            chunk_segment = saccade_segment[chunk_ids == chunk_id]\n",
    "            chunk_start_idx = chunk_segment.index[0]\n",
    "            chunk_end_idx = chunk_segment.index[-1]\n",
    "\n",
    "            if chunk_end_idx - chunk_start_idx < min_saccade_length:\n",
    "                print(f\"Chunk skipped due to short length: {chunk_end_idx - chunk_start_idx} frames\")\n",
    "                continue  # Skip if chunk is too short\n",
    "\n",
    "            # Add this chunk as a detected saccade event\n",
    "            saccade_events['saccade_start_ind'].append(chunk_start_idx)\n",
    "            saccade_events['saccade_end_ind'].append(chunk_end_idx)\n",
    "            saccade_events['saccade_start_timestamp'].append(df['OE_timestamp'].iloc[chunk_start_idx])\n",
    "            saccade_events['saccade_end_timestamp'].append(df['OE_timestamp'].iloc[chunk_end_idx])\n",
    "\n",
    "            # Calculate magnitude and angle for the chunk\n",
    "            initial_position = df.iloc[chunk_start_idx][['center_x', 'center_y']]\n",
    "            endpoint = df.iloc[chunk_end_idx][['center_x', 'center_y']]\n",
    "            magnitude = np.sqrt((endpoint['center_x'] - initial_position['center_x'])**2 + \n",
    "                                (endpoint['center_y'] - initial_position['center_y'])**2)\n",
    "            angle = np.arctan2(endpoint['center_y'] - initial_position['center_y'],\n",
    "                               endpoint['center_x'] - initial_position['center_x'])\n",
    "            saccade_events['saccade_magnitude'].append(magnitude)\n",
    "            saccade_events['saccade_angle'].append(np.rad2deg(angle) % 360)\n",
    "\n",
    "    # Convert the results to a DataFrame\n",
    "    saccade_events_df = pd.DataFrame(saccade_events)\n",
    "\n",
    "    print(f\"Total detected saccades: {len(saccade_events_df)}\")\n",
    "    return saccade_events_df\n",
    "\n",
    "\n",
    "\n",
    "left_saccades = detect_saccades_with_speed_and_angle_debug(block.left_eye_data,4,np.pi/4,2)\n",
    "left_saccades"
   ],
   "metadata": {
    "collapsed": false
   },
   "id": "6a961531e6936bc6"
  },
  {
   "cell_type": "code",
   "outputs": [],
   "source": [
    "saccade_start_ms = np.array(left_saccades)[:,0]\n",
    "saccade_start_indices = indices = [np.nanargmin(np.abs(block.left_eye_data.ms_axis.values - et)) for et in saccade_start_ms]\n",
    "\n",
    "bokeh_plotter([block.left_eye_data['speed_r']],peaks=saccade_start_indices)\n",
    "\n"
   ],
   "metadata": {
    "collapsed": false,
    "ExecuteTime": {
     "end_time": "2024-10-21T16:51:38.838227200Z",
     "start_time": "2024-10-21T16:51:38.806227300Z"
    }
   },
   "id": "c6541b4199d0b0b",
   "execution_count": 52
  },
  {
   "cell_type": "code",
   "outputs": [
    {
     "data": {
      "text/plain": "0        47423.60\n1        57697.20\n2        68103.00\n3        76965.45\n4        77195.20\n          ...    \n960    2058863.25\n961    2058994.60\n962    2059322.95\n963    2059454.30\n964    2061095.95\nName: saccade_on_ms, Length: 965, dtype: float64"
     },
     "execution_count": 87,
     "metadata": {},
     "output_type": "execute_result"
    }
   ],
   "source": [
    "start_ms = np.array(left_saccades)[:,0]\n",
    "end_ms = np.array(left_saccades)[:,1]\n",
    "\n",
    "new_saccade_events = pd.DataFrame.from_dict({\n",
    "    'saccade_on_ms':start_ms,\n",
    "    'saccade_off_ms':end_ms\n",
    "})"
   ],
   "metadata": {
    "collapsed": false,
    "ExecuteTime": {
     "end_time": "2024-10-20T16:12:43.185643200Z",
     "start_time": "2024-10-20T16:12:43.110644600Z"
    }
   },
   "id": "afb7dd5e81ba02a6",
   "execution_count": 87
  },
  {
   "cell_type": "code",
   "outputs": [
    {
     "name": "stdout",
     "output_type": "stream",
     "text": [
      "No overlapping segments detected!\n"
     ]
    }
   ],
   "source": [
    "import numpy as np\n",
    "import pandas as pd\n",
    "\n",
    "old_saccade_events = block.l_saccade_df\n",
    "new_saccade_events = pd.DataFrame.from_dict({\n",
    "    'saccade_on_ms':start_ms,\n",
    "    'saccade_off_ms':end_ms\n",
    "})\n",
    "print(len(old_saccade_events.saccade_on_ms))\n",
    "print()\n"
   ],
   "metadata": {
    "collapsed": false,
    "ExecuteTime": {
     "end_time": "2024-10-18T12:47:55.708607700Z",
     "start_time": "2024-10-18T12:47:55.639598600Z"
    }
   },
   "id": "66c0f1045c061b67",
   "execution_count": 73
  },
  {
   "cell_type": "code",
   "outputs": [
    {
     "name": "stdout",
     "output_type": "stream",
     "text": [
      "x_axis manually set\n"
     ]
    }
   ],
   "source": [
    "# Example: assuming saccades is a list of (start_time, end_time) tuples\n",
    "\n",
    "saccades = left_saccades\n",
    "# Sort the saccades by start time (if not already sorted)\n",
    "saccades = sorted(saccades, key=lambda x: x[0])\n",
    "\n",
    "# Check for overlaps\n",
    "overlap_detected = False\n",
    "for i in range(1, len(saccades)):\n",
    "    prev_end = saccades[i-1][1]\n",
    "    curr_start = saccades[i][0]\n",
    "    \n",
    "    if curr_start <= prev_end:\n",
    "        overlap_detected = True\n",
    "        print(f\"Overlap detected between segment {i-1} and {i}: {saccades[i-1]} and {saccades[i]}\")\n",
    "\n",
    "if not overlap_detected:\n",
    "    print(\"No overlapping segments detected!\")\n"
   ],
   "metadata": {
    "collapsed": false,
    "ExecuteTime": {
     "end_time": "2024-10-18T10:48:22.658185Z",
     "start_time": "2024-10-18T10:48:22.469185900Z"
    }
   },
   "id": "b72a42c864b674c",
   "execution_count": 62
  },
  {
   "cell_type": "code",
   "outputs": [],
   "source": [
    "# choose threshold for saccade detection\n",
    "\n",
    "bokeh_plotter([block.left_eye_data['angular_velocity']],[block.left_eye_data.ms_axis])"
   ],
   "metadata": {
    "collapsed": false,
    "ExecuteTime": {
     "end_time": "2024-10-18T10:50:24.267392900Z",
     "start_time": "2024-10-18T10:50:24.203394100Z"
    }
   },
   "id": "767e8d61e4b23fb8",
   "execution_count": 63
  },
  {
   "cell_type": "code",
   "outputs": [],
   "source": [
    "def detect_saccades_by_velocity(df, velocity_threshold):\n",
    "    # Identify points where velocity exceeds the threshold\n",
    "    df['is_saccade'] = df['speed_r'] > velocity_threshold\n",
    "    return df\n",
    "\n",
    "# Example usage: Set a velocity threshold (you may need to fine-tune this)\n",
    "velocity_threshold = 4  # This value may vary depending on your data\n",
    "block.left_eye_data = detect_saccades_by_velocity(block.left_eye_data, velocity_threshold)"
   ],
   "metadata": {
    "collapsed": false
   },
   "id": "432a79a5733502c8"
  },
  {
   "cell_type": "code",
   "outputs": [
    {
     "name": "stderr",
     "output_type": "stream",
     "text": [
      "  0%|          | 0/4704 [00:00<?, ?it/s]"
     ]
    },
    {
     "name": "stdout",
     "output_type": "stream",
     "text": [
      "something wrong 0\n"
     ]
    },
    {
     "name": "stderr",
     "output_type": "stream",
     "text": [
      "\n"
     ]
    }
   ],
   "source": [
    "def refine_saccades_with_direction(df, angle_threshold):\n",
    "    # A saccade is valid if both the velocity is high and the angular displacement is significant\n",
    "    df['valid_saccade'] = df['is_saccade'] & (df['angular_velocity'] > angle_threshold)\n",
    "    return df\n",
    "\n",
    "# Example usage: Set an angular velocity threshold to differentiate between direction changes\n",
    "angle_threshold = 0.2  # This needs to be adjusted based on your data (in radians)\n",
    "block.left_eye_data = refine_saccades_with_direction(block.left_eye_data, angle_threshold)\n"
   ],
   "metadata": {
    "collapsed": false,
    "ExecuteTime": {
     "end_time": "2024-10-13T20:13:03.743928400Z",
     "start_time": "2024-10-13T20:13:03.679144Z"
    }
   },
   "id": "8b1dca6e0d4b432c",
   "execution_count": 111
  },
  {
   "cell_type": "code",
   "outputs": [
    {
     "data": {
      "text/plain": "<Figure size 1050x600 with 1 Axes>",
      "image/png": "[encoded data removed]"
     },
     "metadata": {},
     "output_type": "display_data"
    }
   ],
   "source": [
    "# analyze synced saccades into categories\n",
    "conjunctive_angle_threshold = 45\n",
    "for i, group in tqdm.tqdm(synced_saccade_collection.groupby('Main')):\n",
    "    if len(group) != 2:\n",
    "        print('something wrong',i)\n",
    "        break\n",
    "    l_angle = group[group['Sub'] == 'L'].angle.values    \n",
    "    r_angle = group[group['Sub'] == 'R'].angle.values\n",
    "    \n",
    "    # check for missing angle values:\n",
    "    if l_angle != l_angle or r_angle != r_angle:\n",
    "        print(i,'has missing values')\n",
    "        print(r_angle,l_angle)\n",
    "        continue\n",
    "    # check for conjunctive saccades = the movements in each eye have the same amplitude and direction\n",
    "    if abs(l_angle - r_angle) < conjunctive_angle_threshold:\n",
    "        # Set the 'conjunctive' column to True for both 'L' and 'R' rows in the group\n",
    "        synced_saccade_collection.loc[(synced_saccade_collection['Main'] == i) & (synced_saccade_collection['Sub'] == 'L'), 'conjunctive'] = True\n",
    "        synced_saccade_collection.loc[(synced_saccade_collection['Main'] == i) & (synced_saccade_collection['Sub'] == 'R'), 'conjunctive'] = True\n",
    "    else:\n",
    "        # Set the 'conjunctive' column to False for both 'L' and 'R' rows in the group\n",
    "        synced_saccade_collection.loc[(synced_saccade_collection['Main'] == i) & (synced_saccade_collection['Sub'] == 'L'), 'conjunctive'] = False\n",
    "        synced_saccade_collection.loc[(synced_saccade_collection['Main'] == i) & (synced_saccade_collection['Sub'] == 'R'), 'conjunctive'] = False\n",
    "    \n",
    "    # tag convergent saccades: those that take the eye towards the nasal direction for L/R respectively)\n",
    "    if (90 <= l_angle <= 270) and (r_angle >= 270 or r_angle <= 90):\n",
    "        # Set the 'conjunctive' column to True for both 'L' and 'R' rows in the group\n",
    "        synced_saccade_collection.loc[(synced_saccade_collection['Main'] == i) & (synced_saccade_collection['Sub'] == 'L'), 'convergent'] = True\n",
    "        synced_saccade_collection.loc[(synced_saccade_collection['Main'] == i) & (synced_saccade_collection['Sub'] == 'R'), 'convergent'] = True\n",
    "    else:\n",
    "        synced_saccade_collection.loc[(synced_saccade_collection['Main'] == i) & (synced_saccade_collection['Sub'] == 'L'), 'convergent'] = False\n",
    "        synced_saccade_collection.loc[(synced_saccade_collection['Main'] == i) & (synced_saccade_collection['Sub'] == 'R'), 'convergent'] = False\n",
    "    \n",
    "    # tag divergent saccades: those that take the eye towards the nasal direction for L/R respectively)\n",
    "    if (90 <= r_angle <= 270) and (l_angle >= 270 or l_angle <= 90):\n",
    "        # Set the 'conjunctive' column to True for both 'L' and 'R' rows in the group\n",
    "        synced_saccade_collection.loc[(synced_saccade_collection['Main'] == i) & (synced_saccade_collection['Sub'] == 'L'), 'divergent'] = True\n",
    "        synced_saccade_collection.loc[(synced_saccade_collection['Main'] == i) & (synced_saccade_collection['Sub'] == 'R'), 'divergent'] = True\n",
    "    else:\n",
    "        synced_saccade_collection.loc[(synced_saccade_collection['Main'] == i) & (synced_saccade_collection['Sub'] == 'L'), 'divergent'] = False\n",
    "        synced_saccade_collection.loc[(synced_saccade_collection['Main'] == i) & (synced_saccade_collection['Sub'] == 'R'), 'divergent'] = False\n",
    "        \n",
    "    "
   ],
   "metadata": {
    "collapsed": false,
    "ExecuteTime": {
     "end_time": "2024-10-14T07:34:09.323997100Z",
     "start_time": "2024-10-14T07:34:09.125997900Z"
    }
   },
   "id": "f18c2a52ca6d8a01",
   "execution_count": 67
  },
  {
   "cell_type": "code",
   "outputs": [
    {
     "data": {
      "text/plain": "<Figure size 1200x600 with 3 Axes>",
      "image/png": "[encoded data removed]"
     },
     "metadata": {
      "needs_background": "light"
     },
     "output_type": "display_data"
    }
   ],
   "source": [
    "from scipy.stats import poisson\n",
    "import datetime\n",
    "# make a histogram plot for all saccade magnitudes (L/R):\n",
    "#all_magnitudes_mm = np.hstack([block.l_saccade_df['magnitude'].values * block.L_pix_size, block.r_saccade_df['magnitude'].values * block.R_pix_size])\n",
    "all_magnitudes_mm = synced_saccade_collection['magnitude'].values\n",
    "# Create the figure and axis\n",
    "fig, ax = plt.subplots(figsize=(7, 4), dpi=150)\n",
    "\n",
    "# Plot the histogram\n",
    "ax.hist(all_magnitudes_mm, bins=np.linspace(0, 5, 40), log=True, color='black', edgecolor='black')\n",
    "\n",
    "# Set title and labels\n",
    "title = (f'Synced Saccade Amplitude \\n'\n",
    "         f'n= {len(all_magnitudes_mm)}')\n",
    "fig.suptitle(title, fontsize=11, y=1)\n",
    "\n",
    "ax.set_xlabel('Saccade amplitude [mm]', fontsize=13)\n",
    "ax.set_xscale('linear')\n",
    "ax.set_yscale('linear')\n",
    "ax.set_ylabel('Count', fontsize=13)\n",
    "\n",
    "# Adjust tick label sizes\n",
    "ax.tick_params(axis='both', which='major', labelsize=13)\n",
    "\n",
    "# Set white background and black text\n",
    "fig.patch.set_facecolor('white')\n",
    "ax.set_facecolor('white')\n",
    "#ax.set_facecolor('white')\n",
    "ax.title.set_color('black')\n",
    "ax.xaxis.label.set_color('black')\n",
    "ax.yaxis.label.set_color('black')\n",
    "\n",
    "# Set the x-axis to start precisely at 0\n",
    "ax.set_xlim(left=0)\n",
    "ax.tick_params(colors='black')\n",
    "\n",
    "t = datetime.datetime.now().strftime(\"%Y_%m_%d_%H_%M\")\n",
    "#plt.savefig(rf'D:\\MarkS3\\Pictures\\Graphs\\2024_Head_mounted_eyecam_system\\Current_Paradigm\\PV_126\\{t}_Saccade_amplitude_distribution_synced.pdf', format='pdf')\n",
    "plt.show()"
   ],
   "metadata": {
    "collapsed": false,
    "ExecuteTime": {
     "end_time": "2024-10-14T07:34:11.365997600Z",
     "start_time": "2024-10-14T07:34:09.334998800Z"
    }
   },
   "id": "c4dd48011eb2d168",
   "execution_count": 68
  },
  {
   "cell_type": "code",
   "outputs": [
    {
     "name": "stdout",
     "output_type": "stream",
     "text": [
      "PV_62,041,181.70848224461747\n"
     ]
    }
   ],
   "source": [
    "# This cell creates the saccade magnitude Vs velocity graphs + length information:\n",
    "df = non_synced_saccade_collection\n",
    "l_magnitudes = df.query('eye == \"L\"').magnitude.values\n",
    "l_peak_velocities = np.array([np.nanmax(i) for i in df.query('eye == \"L\"').speed_profile])\n",
    "l_mean_velocities = np.array([np.nanmean(i) for i in df.query('eye == \"L\"').speed_profile])\n",
    "l_length = df.query('eye == \"L\"').length.values * 17 # convert to ms according to 60 fps\n",
    "r_magnitudes = df.query('eye == \"R\"').magnitude.values\n",
    "r_peak_velocities = np.array([np.nanmax(i) for i in df.query('eye == \"R\"').speed_profile])\n",
    "r_mean_velocities = np.array([np.nanmean(i) for i in df.query('eye == \"R\"').speed_profile])\n",
    "r_length = df.query('eye == \"R\"').length.values * 17\n",
    "\n",
    "all_magnitudes = np.concatenate((l_magnitudes, r_magnitudes))\n",
    "all_peak_velocities = np.concatenate((l_peak_velocities, r_peak_velocities))\n",
    "all_mean_velocities = np.concatenate((l_mean_velocities, r_mean_velocities))\n",
    "\n",
    "x_min, x_max = all_magnitudes.min(), all_magnitudes.max()\n",
    "y_min, y_max = all_peak_velocities.min(), all_peak_velocities.max()\n",
    "\n",
    "# Find global min and max for mean velocities\n",
    "c_min, c_max = all_mean_velocities.min(), all_mean_velocities.max()\n",
    "\n",
    "plt.rcParams.update({'font.size': 12}) \n",
    "fig, axs = plt.subplots(1,3, figsize=(8, 4), gridspec_kw={'width_ratios': [1, 1, 0.1]}, dpi=150)\n",
    "\n",
    "# Left eye scatter plot\n",
    "sc_left = axs[0].scatter(l_magnitudes, l_peak_velocities, s=2, c=l_length, cmap='viridis')\n",
    "axs[0].set_xlabel('Magnitudes', fontsize=14)\n",
    "axs[0].set_ylabel('Peak Velocities ', fontsize=14)\n",
    "axs[0].set_title('Left Eye', fontsize=14)\n",
    "axs[0].grid(False)\n",
    "#axs[0].set_xlim([0, x_max])\n",
    "#axs[0].set_ylim([0, y_max])\n",
    "axs[0].set_yscale('log')\n",
    "axs[0].set_xscale('log')\n",
    "axs[0].set_ylim(3.5,100)\n",
    "# Right eye scatter plot\n",
    "sc_right = axs[1].scatter(r_magnitudes, r_peak_velocities,s=2, c=r_length, cmap='viridis')\n",
    "# cbar_right = plt.colorbar(sc_right, ax=axs[1])\n",
    "# cbar_right.set_label('Mean Velocities', fontsize=16)\n",
    "axs[1].set_xlabel('Magnitudes', fontsize=14)\n",
    "#axs[1].set_ylabel('Peak Velocities', fontsize=16)\n",
    "axs[1].set_title('Right Eye')\n",
    "axs[1].grid(False)\n",
    "#axs[1].set_xlim([0, x_max])\n",
    "#axs[1].set_ylim([0, y_max])\n",
    "axs[1].set_yscale('log')\n",
    "axs[1].set_xscale('log')\n",
    "axs[1].set_ylim(3.5,100)\n",
    "# Set subplot backgrounds to white\n",
    "axs[0].set_facecolor('white')\n",
    "axs[1].set_facecolor('white')\n",
    "\n",
    "for ax in axs:\n",
    "    #ax.spines['top'].set_visible(True)\n",
    "    #ax.spines['right'].set_visible(True)\n",
    "    ax.spines['bottom'].set_visible(True)\n",
    "    ax.spines['left'].set_visible(True)\n",
    "    \n",
    "    # Set spine color\n",
    "    #ax.spines['top'].set_color('black')\n",
    "    #ax.spines['right'].set_color('black')\n",
    "    ax.spines['bottom'].set_color('black')\n",
    "    ax.spines['left'].set_color('black')\n",
    "\n",
    "    ax.tick_params(axis='both', direction='out', which='major',length=6, width=1.5, colors='black', bottom=True, left=True)\n",
    "    ax.tick_params(axis='both', direction='out', which='minor', length=3, width=1.5,colors='black', bottom=True, left=True)\n",
    "    \n",
    "    \n",
    "cbar = plt.colorbar(sc_right, cax=axs[2])\n",
    "cbar.ax.yaxis.set_major_formatter(plt.FormatStrFormatter('%d'))\n",
    "cbar.set_label('Duration [ms]', fontsize=14)\n",
    "\n",
    "# final touches\n",
    "#fig.suptitle('Saccade Magnitude Vs Velocity', y=1.00, x=0.48, fontsize=16)\n",
    "plt.tight_layout()\n",
    "t = datetime.datetime.now().strftime(\"%Y_%m_%d_%H_%M\")\n",
    "export_to = rf'D:\\MarkS3\\Pictures\\Graphs\\2024_Head_mounted_eyecam_system\\Current_Paradigm\\{t}_saccade_magnitude_Vs_Velocity_with_Duration_log_non_synced.pdf'\n",
    "#plt.savefig(export_to, format='pdf')\n",
    "plt.show()"
   ],
   "metadata": {
    "collapsed": false,
    "ExecuteTime": {
     "end_time": "2024-10-14T06:32:11.106510900Z",
     "start_time": "2024-10-14T06:32:11.068851700Z"
    }
   },
   "id": "56595fb5512d9836",
   "execution_count": 25
  },
  {
   "cell_type": "code",
   "outputs": [
    {
     "name": "stdout",
     "output_type": "stream",
     "text": [
      "PV_126,007,0.02890644292786148\n",
      "PV_126,008,0.02847570190578208\n",
      "PV_126,009,0.03381738009306353\n",
      "PV_126,010,0.02780385612285269\n",
      "PV_126,011,0.03464690662623693\n",
      "PV_126,013,0.027983991020158118\n"
     ]
    }
   ],
   "source": [
    "print(f'{block.animal_call},{block.block_num},{block.L_pix_size}')"
   ],
   "metadata": {
    "collapsed": false,
    "ExecuteTime": {
     "end_time": "2024-10-14T06:33:16.104664800Z",
     "start_time": "2024-10-14T06:33:16.023666600Z"
    }
   },
   "id": "af037030a8835a32",
   "execution_count": 29
  },
  {
   "cell_type": "code",
   "outputs": [
    {
     "name": "stdout",
     "output_type": "stream",
     "text": [
      "PV_62, block 023, on 2023-04-27_10-52-42\n",
      "left calib = 0.04487839786581464\n",
      "right calib = 0.041316059812265674\n",
      "PV_62, block 024, on 2023-04-27_11-22-56\n",
      "left calib = 0.043999065502979245\n",
      "right calib = 0.04122351739824802\n",
      "PV_62, block 025, on 2023-04-27_11-52-05\n",
      "left calib = 0.043987644612434276\n",
      "right calib = 0.04140516580081247\n",
      "PV_62, block 026, on 2023-04-27_12-21-41\n",
      "left calib = 0.04315931512811482\n",
      "right calib = 0.04088466745554142\n",
      "PV_62, block 027, on 2023-04-27_12-53-31\n",
      "left calib = 0.042395061887272455\n",
      "right calib = 0.04155987000383622\n",
      "PV_62, block 035, on 2023-04-30_11-44-30\n",
      "left calib = 0.04430419650123422\n",
      "right calib = 0.041032873991459946\n",
      "PV_62, block 038, on 2023-05-01_13-57-45\n",
      "left calib = 0.04605644273172008\n",
      "right calib = 0.042931930561624886\n",
      "PV_62, block 039, on 2023-05-01_14-44-23\n",
      "left calib = 0.04591666903386275\n",
      "right calib = 0.042947243998902554\n",
      "PV_62, block 040, on 2023-05-01_15-49-30\n",
      "left calib = 0.044683025663406414\n",
      "right calib = 0.042872630241346465\n",
      "PV_62, block 041, on 2023-05-01_16-58-39\n",
      "left calib = 0.0429258992406286\n",
      "right calib = 0.04341104889106939\n"
     ]
    }
   ],
   "source": [
    "for block in block_collection:\n",
    "    print(f'{block.animal_call},{block.block_num},{block.L_pix_size}')"
   ],
   "metadata": {
    "collapsed": false,
    "ExecuteTime": {
     "end_time": "2024-10-14T06:41:09.997973700Z",
     "start_time": "2024-10-14T06:41:09.924947800Z"
    }
   },
   "id": "89f0001da6513a8a",
   "execution_count": 45
  },
  {
   "cell_type": "code",
   "outputs": [],
   "source": [
    "known_dist = 7.8\n",
    "for block in block_collection:\n",
    "    print(block)\n",
    "    print(f'left calib = {known_dist / block.L_pix_size}')\n",
    "    print(f'right calib = {known_dist / block.R_pix_size}')"
   ],
   "metadata": {
    "collapsed": false
   },
   "id": "348a466bf23deedc"
  },
  {
   "cell_type": "code",
   "outputs": [],
   "source": [],
   "metadata": {
    "collapsed": false
   },
   "id": "789e5eeb86facb92"
  }
 ],
 "metadata": {
  "kernelspec": {
   "display_name": "Python 3",
   "language": "python",
   "name": "python3"
  },
  "language_info": {
   "codemirror_mode": {
    "name": "ipython",
    "version": 2
   },
   "file_extension": ".py",
   "mimetype": "text/x-python",
   "name": "python",
   "nbconvert_exporter": "python",
   "pygments_lexer": "ipython2",
   "version": "2.7.6"
  }
 },
 "nbformat": 4,
 "nbformat_minor": 5
}
