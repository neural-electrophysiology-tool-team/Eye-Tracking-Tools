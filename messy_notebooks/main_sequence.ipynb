{
 "cells": [
  {
   "cell_type": "code",
   "execution_count": 12,
   "metadata": {
    "collapsed": true,
    "pycharm": {
     "name": "#%% Imports\n"
    }
   },
   "outputs": [],
   "source": [
    "import time\n",
    "import numpy as np\n",
    "import pandas as pd\n",
    "import glob\n",
    "import subprocess as sp\n",
    "import os\n",
    "from matplotlib import pyplot as plt\n",
    "from ellipse import LsqEllipse\n",
    "import cv2\n",
    "import math\n",
    "import scipy.stats as stats\n",
    "from tqdm import tqdm\n",
    "from matplotlib.patches import Ellipse\n",
    "from bokeh.plotting import figure, show"
   ]
  },
  {
   "cell_type": "code",
   "execution_count": 78,
   "outputs": [],
   "source": [
    "def oe_events_parser(open_ephys_csv_path, channel_names, export_path=None):\n",
    "    \"\"\"\n",
    "    :param open_ephys_csv_path: The path to an open ephys analysis tools exported csv (using TrialReporter.ipynb)\n",
    "    :param channel_names: a dictionary of the form -\n",
    "                    { 1 : 'channel name' (L_eye_camera)\n",
    "                      2 : 'channel name' (Arena_TTL)\n",
    "                      etc..\n",
    "                    }\n",
    "    :param export_path: default None, if a path is specified a csv file will be saved\n",
    "    :returns open_ephys_events: a pandas DataFrame object where each column has the ON events of one channel\n",
    "                                and has a title from channel_names\n",
    "    :returns open_ephys_off_events: same but for the OFF states (only important for the logical start-stop signal)\n",
    "    \"\"\"\n",
    "\n",
    "    # Infer the active channels:\n",
    "    df = pd.read_csv(open_ephys_csv_path)\n",
    "    channels = df['channel'].to_numpy(copy=True)\n",
    "    channels = np.unique(channels)\n",
    "    df_onstate = df[df['state']==1] #cut the df to represent only rising edges\n",
    "    df_offstate = df[df['state']==0] # This one is important for the ON/OFF signal of the arena\n",
    "    list = []\n",
    "    off_list= []\n",
    "    for chan in channels: #extract a pandas series of the ON stats timestamps for each channel\n",
    "        Sname = channel_names[chan]\n",
    "        s = pd.Series(df_onstate['timestamp'][df_onstate['channel'] == chan], name=Sname)\n",
    "        offs = pd.Series(df_offstate['timestamp'][df_offstate['channel'] == chan], name=Sname)\n",
    "        list.append(s)\n",
    "        off_list.append(offs)\n",
    "    open_ephys_events = pd.concat(list, axis=1)\n",
    "    open_ephys_off_events = pd.concat(off_list, axis=1)\n",
    "    if export_path is not None :\n",
    "        if not export_path in os.listdir(open_ephys_csv_path.split('events.csv')[0][:-1]):\n",
    "            open_ephys_events.to_csv(export_path)\n",
    "    return open_ephys_events , open_ephys_off_events\n",
    "\n",
    "def convert_h264_mp4(path):\n",
    "    files_to_convert = glob.glob(path + r'\\**\\*.h264', recursive=True)\n",
    "    converted_files = glob.glob(path + r'\\**\\*.mp4', recursive=True)\n",
    "    for file in files_to_convert:\n",
    "        fps = file[file.find('hz') - 2:file.find('hz')]\n",
    "        if len(fps) != 2:\n",
    "            fps = 60\n",
    "            print('could not determine fps, using 60...')\n",
    "        if not str(fr'{file[:-5]}.mp4') in converted_files:\n",
    "            sp.run(f'MP4Box -fps {fps} -add {file} {file[:-5]}.mp4')\n",
    "            print(fr'{file} converted ')\n",
    "        else:\n",
    "            print(f'The file {file[:-5]}.mp4 already exists, no conversion necessary')\n",
    "\n",
    "def validate_no_framedrop(path):\n",
    "    videos_to_inspect = glob.glob(path + r'\\**\\*.mp4', recursive=True)\n",
    "    timestamps_to_inspect = glob.glob(path + r'\\**\\*.csv', recursive=True)\n",
    "    for vid in range(len(videos_to_inspect)):\n",
    "        timestamps = pd.read_csv(timestamps_to_inspect[vid])\n",
    "        num_reported = timestamps.shape[0]\n",
    "        cap = cv2.VideoCapture(videos_to_inspect[vid])\n",
    "        length = int(cap.get(cv2.CAP_PROP_FRAME_COUNT))\n",
    "        print(f'The video named {os.path.split(videos_to_inspect[vid])[1]} has reported {num_reported} frames '\n",
    "              f'and has {length} frames, it has dropped {num_reported - length} frames')\n",
    "        cap.release()\n",
    "\n",
    "def stamp_diff_videos(path_to_stamp,stamp):\n",
    "    videos_to_stamp = glob.glob(path_to_stamp + r'\\**\\*.mp4', recursive=True)\n",
    "    for vid in videos_to_stamp:\n",
    "        os.rename(vid, fr'{vid[:-4]}_{stamp}{vid[-4:]}')\n",
    "\n",
    "def get_frame_timeseries(df,channel):\n",
    "    index_range = range(0,len(df[channel][df[channel].notna()]))\n",
    "    timeseries = pd.Series(df[channel][df[channel].notna()])\n",
    "    timeseries = pd.Series(timeseries.values, index=index_range, name=channel)\n",
    "    return timeseries\n",
    "\n",
    "def get_closest_frame(timestamp, vid_timeseries, report_acc=None):\n",
    "    \"\"\"\n",
    "    This function extracts a frame from a series so that it is as close as possible to a given timestamp\n",
    "    :param timestamp: The time to match a frame to\n",
    "    :param vid_timeseries: The time frames series to look at for a match\n",
    "    :param report_acc: if set to 1, will report the accuracy of the match\n",
    "    :return: index_of_lowest_diff , accuracy of match (if requested)\n",
    "    \"\"\"\n",
    "    array = np.abs((vid_timeseries.to_numpy())-timestamp)\n",
    "    index_of_lowest_diff = np.argmin(array)\n",
    "    if report_acc == 1:\n",
    "        accuracy = abs(vid_timeseries[index_of_lowest_diff] - timestamp)\n",
    "        return index_of_lowest_diff, accuracy\n",
    "    else:\n",
    "        return index_of_lowest_diff\n",
    "\n",
    "def arena_video_initial_thr(vid_path, threshold_value, show_frames=False):\n",
    "    \"\"\"\n",
    "        This function works through an arena video to determine where the LEDs are on and when off\n",
    "        :param threshold_value: value of the frame threshold\n",
    "        :param show_frames: if true will show the video after thresholding\n",
    "        :param  vid_path: Path to video. When ShowFrames is True a projection of the frames after threshold is presented\n",
    "\n",
    "        :return: np.array with frame numbers and mean values after threshold\n",
    "        \"\"\"\n",
    "    cap = cv2.VideoCapture(vid_path)\n",
    "    all_frames = int(cap.get(cv2.CAP_PROP_FRAME_COUNT))\n",
    "    flag = 0\n",
    "    i = 0\n",
    "    mean_values = []\n",
    "    indexes = []\n",
    "    while flag == 0:\n",
    "        print('Frame number {} of {}'.format(i, all_frames), end='\\r', flush=True)\n",
    "        ret, frame = cap.read()\n",
    "        if not ret:\n",
    "            break\n",
    "        grey = cv2.cvtColor(frame, cv2.COLOR_BGR2GRAY)\n",
    "        grey[grey < threshold_value] = 0\n",
    "        mean_values.append(np.mean(grey))\n",
    "        indexes.append(i)\n",
    "        if show_frames:\n",
    "            cv2.imshow('Thresholded_Frames', grey)\n",
    "            if cv2.waitKey(1) & 0xFF == ord('q'):\n",
    "                break\n",
    "        i += 1\n",
    "    cap.release()\n",
    "    cv2.destroyAllWindows()\n",
    "    frame_val = np.array((indexes, mean_values))\n",
    "    return frame_val\n",
    "\n",
    "def produce_frame_val_list(vid_paths,threshold_value):\n",
    "    \"\"\"\n",
    "    :param vid_paths: a list of str paths to videos for analysis\n",
    "    :param threshold_value: the threshold to use in order to concentrate on LEDs\n",
    "    :return: frame_val_list: a list of mean pixel values for each frame after threshold\n",
    "    \"\"\"\n",
    "    frame_val_list = []\n",
    "    for vid in vid_paths:\n",
    "        print(f'working on video {vid}')\n",
    "        frame_val = arena_video_initial_thr(vid, threshold_value)\n",
    "        frame_val_list.append(frame_val)\n",
    "    print(f'done, frame_val_list contains {len(frame_val_list)} objects',flush=True)\n",
    "\n",
    "    return frame_val_list\n",
    "\n",
    "def four_video_concat(output_name, vid1, vid2, vid3, vid4,  start_frame, shortest_vid_length, format='H264'):\n",
    "    \"\"\"\n",
    "    :param vid1: left down\n",
    "    :param vid2: right down\n",
    "    :param vid3: left up\n",
    "    :param vid4: right up\n",
    "    :param shortest_vid_length:\n",
    "    :param output_name: output file name\n",
    "    :return: a concatenated video of the 4 inputs\n",
    "    \"\"\"\n",
    "    cap0 = cv2.VideoCapture(vid1)\n",
    "    cap1 = cv2.VideoCapture(vid2)\n",
    "    cap2 = cv2.VideoCapture(vid3)\n",
    "    cap3 = cv2.VideoCapture(vid4)\n",
    "    anchor = start_frame\n",
    "    last_ar_f = sync_vids.Arena_VideoFrame[start_frame]\n",
    "    last_le = sync_vids.Left_eye[start_frame]\n",
    "    last_re = sync_vids.Right_eye[start_frame]\n",
    "    fourcc = cv2.VideoWriter_fourcc(*format)\n",
    "    out = cv2.VideoWriter((path + r'\\\\' + output_name + '.mp4'),fourcc, 60.0, (640*2,480*2))\n",
    "    try:\n",
    "        while cap2.isOpened():\n",
    "            ar_f = sync_vids.Arena_VideoFrame[anchor]\n",
    "            l_eye_f = sync_vids.Left_eye[anchor]\n",
    "            r_eye_f = sync_vids.Right_eye[anchor]\n",
    "\n",
    "            if ar_f != last_ar_f + 1:\n",
    "                cap0.set(1,ar_f)\n",
    "            ar_ret0, ar_frame0 = cap0.read()\n",
    "            ar_frame0 = cv2.cvtColor(ar_frame0, cv2.COLOR_BGR2GRAY)\n",
    "            ar_frame0 = cv2.resize(ar_frame0,(640,480))\n",
    "            last_ar_f = ar_f\n",
    "\n",
    "            if ar_f != last_ar_f + 1:\n",
    "                cap1.set(1,ar_f)\n",
    "            ar_ret, ar_frame = cap1.read()\n",
    "            ar_frame = cv2.cvtColor(ar_frame, cv2.COLOR_BGR2GRAY)\n",
    "            ar_frame = cv2.resize(ar_frame,(640,480))\n",
    "\n",
    "            if l_eye_f != last_le + 1:\n",
    "                cap2.set(1,l_eye_f)\n",
    "            le_ret, le_f = cap2.read()\n",
    "            le_f = cv2.cvtColor(le_f, cv2.COLOR_BGR2GRAY)\n",
    "            le_f = cv2.flip(le_f, 0)\n",
    "            le_f = cv2.resize(le_f,(640,480))\n",
    "            last_le = l_eye_f\n",
    "\n",
    "            if r_eye_f != last_re + 1:\n",
    "                cap3.set(1,r_eye_f)\n",
    "            re_ret, re_f = cap3.read()\n",
    "            re_f = cv2.cvtColor(re_f, cv2.COLOR_BGR2GRAY)\n",
    "            re_f = cv2.flip(re_f, 0)\n",
    "            re_f = cv2.resize(re_f,(640,480))\n",
    "            last_re = r_eye_f\n",
    "\n",
    "            eye_concat = np.hstack((le_f,re_f))\n",
    "            ar_concat = np.hstack((ar_frame0, ar_frame))\n",
    "            vconcat = np.vstack((eye_concat, ar_concat))\n",
    "\n",
    "            out.write(vconcat)\n",
    "            anchor += 1\n",
    "            print(f'writing video frame {anchor} out of {shortest_vid_length}', end='\\r', flush=True)\n",
    "            if anchor > shortest_vid_length-1:\n",
    "                break\n",
    "    except Exception:\n",
    "        print(f'Encountered a problem with frame {anchor}, stopping concatenation')\n",
    "    finally:\n",
    "        cap0.release()\n",
    "        cap1.release()\n",
    "        cap2.release()\n",
    "        cap3.release()\n",
    "        out.release()\n",
    "        cv2.destroyAllWindows()\n",
    "        print('\\n')\n",
    "        print('Processed finished')\n",
    "\n",
    "def eye_tracking_analysis(dlc_video_analysis_csv):\n",
    "    \"\"\"\n",
    "    :param dlc_video_analysis_csv: the csv output of a dlc analysis of one video, already read by pandas with header=1\n",
    "    :param bodyparts_list: a list of bodyparts as described in the dlc csv (i.e ['Pupil_12', 'Pupil_6'....])\n",
    "    :returns ellipse_df: a DataFrame of ellipses parameters (center, width, height, phi, size) for each video frame\n",
    "    \"\"\"\n",
    "\n",
    "    data = dlc_video_analysis_csv\n",
    "    ellipses = []\n",
    "    caudal_edge_ls= []\n",
    "    rostral_edge_ls = []\n",
    "    for row in range(1, len(data)-1):\n",
    "        x_values = np.array(list([float(data['Pupil_12'][row]),\n",
    "                                  float(data['Pupil_1'][row]),\n",
    "                                  float(data['Pupil_3'][row]),\n",
    "                                  float(data['Pupil_4'][row]),\n",
    "                                  float(data['Pupil_6'][row]),\n",
    "                                  float(data['Pupil_8'][row]),\n",
    "                                  float(data['Pupil_10'][row])]))\n",
    "        y_values = np.array(list([float(data['Pupil_12.1'][row]),\n",
    "                                  float(data['Pupil_1.1'][row]),\n",
    "                                  float(data['Pupil_3.1'][row]),\n",
    "                                  float(data['Pupil_4.1'][row]),\n",
    "                                  float(data['Pupil_6.1'][row]),\n",
    "                                  float(data['Pupil_8.1'][row]),\n",
    "                                  float(data['Pupil_10.1'][row])]))\n",
    "        X = np.c_[x_values,y_values]\n",
    "\n",
    "        el = LsqEllipse().fit(X)\n",
    "        center, width, height, phi = el.as_parameters()\n",
    "        center_x = center[0]\n",
    "        center_y = center[1]\n",
    "        ellipses.append([center_x,center_y,width,height,phi])\n",
    "        caudal_edge = [\n",
    "            float(data['Caudal_edge'][row]),\n",
    "            float(data['Caudal_edge.1'][row])\n",
    "        ]\n",
    "        rostral_edge = [\n",
    "            float(data['Rostral_edge'][row]),\n",
    "            float(data['Rostral_edge.1'][row])\n",
    "        ]\n",
    "        caudal_edge_ls.append(caudal_edge)\n",
    "        rostral_edge_ls.append(rostral_edge)\n",
    "        if row % 50 == 0:\n",
    "           print(f'just finished with {row} out of {len(data)-1}', end='\\r',flush=True)\n",
    "    ellipse_df = pd.DataFrame(columns = ['center_x','center_y', 'width', 'height', 'phi'], data = ellipses)\n",
    "    a = np.array(ellipse_df['height'][:])\n",
    "    b = np.array(ellipse_df['width'][:])\n",
    "    ellipse_size_per_frame = a*b*math.pi\n",
    "    ellipse_df['ellipse_size'] = ellipse_size_per_frame\n",
    "    ellipse_df['rostral_edge'] = rostral_edge_ls\n",
    "    ellipse_df['caudal_edge'] = caudal_edge_ls\n",
    "    print('Done')\n",
    "    return ellipse_df\n",
    "\n",
    "def eye_tracking_analysis_v2(dlc_video_analysis_csv,uncertainty_thr):\n",
    "    \"\"\"\n",
    "    :param dlc_video_analysis_csv: the csv output of a dlc analysis of one video, already read by pandas with header=1\n",
    "    :param uncertainty_thr: The confidence P value to use as a threshold for datapoint validity in the analysis\n",
    "    :returns ellipse_df: a DataFrame of ellipses parameters (center, width, height, phi, size) for each video frame\n",
    "\n",
    "    \"\"\"\n",
    "# import the dataframe and convert it to floats\n",
    "    data = dlc_video_analysis_csv\n",
    "    data = data.iloc[1:].apply(pd.to_numeric)\n",
    "# sort the pupil elements to x and y, with p as probability\n",
    "    pupil_elements = np.array([x for x in data.columns if 'Pupil' in x])\n",
    "    pupil_xs = data[pupil_elements[np.arange(0,len(pupil_elements),3)]]\n",
    "    pupil_ys = data[pupil_elements[np.arange(1,len(pupil_elements),3)]]\n",
    "    pupil_ps = data[pupil_elements[np.arange(2,len(pupil_elements),3)]]\n",
    "    #rename dataframes for masking with p values of bad points:\n",
    "    pupil_ps = pupil_ps.rename(columns=dict(zip(pupil_ps.columns,pupil_xs.columns)))\n",
    "    pupil_ys = pupil_ys.rename(columns=dict(zip(pupil_ys.columns,pupil_xs.columns)))\n",
    "    good_points = pupil_ps > uncertainty_thr\n",
    "    pupil_xs = pupil_xs[good_points]\n",
    "    pupil_ys = pupil_ys[good_points]\n",
    "    #Do the same for the edges\n",
    "    #edge_elements = [x for x in data.columns if 'edge' in x]\n",
    "    #edge_xs = data[edge_elements[np.arange(0,len(edge_elements),3)]]\n",
    "    #edge_ys = data[edge_elements[np.arange(1,len(edge_elements),3)]]\n",
    "    #edge_ps = data[edge_elements[np.arange(2,len(edge_elements),3)]]\n",
    "    #edge_ps = edge_ps.rename(columns=dict(zip(edge_ps.columns,edge_xs.columns)))\n",
    "    #edge_ys = edge_ys.rename(columns=dict(zip(edge_ys.columns,edge_xs.columns)))\n",
    "    #e = edge_ps < uncertainty_thr\n",
    "\n",
    "\n",
    "    #work row by row to figure out the ellipses\n",
    "    ellipses = []\n",
    "    caudal_edge_ls= []\n",
    "    rostral_edge_ls = []\n",
    "    for row in tqdm(range(1, len(data)-1)):\n",
    "        #first, take all of the values, and concatenate them into an X array\n",
    "        x_values = pupil_xs.loc[row].values\n",
    "        y_values = pupil_ys.loc[row].values\n",
    "        X = np.c_[x_values,y_values]\n",
    "        #now, remove nan values, and check if there are enough points to make the ellipse\n",
    "        X = X[~ np.isnan(X).any(axis=1)]\n",
    "        #if there are enough rows for a fit, make an ellipse\n",
    "        if X.shape[0] > 5:\n",
    "            el = LsqEllipse().fit(X)\n",
    "            center, width, height, phi = el.as_parameters()\n",
    "            center_x = center[0]\n",
    "            center_y = center[1]\n",
    "            ellipses.append([center_x,center_y,width,height,phi])\n",
    "        else:\n",
    "            ellipses.append([np.nan, np.nan, np.nan, np.nan, np.nan])\n",
    "        # caudal_edge = [\n",
    "        #     float(data['Caudal_edge'][row]),\n",
    "        #     float(data['Caudal_edge.1'][row])\n",
    "        # ]\n",
    "        # rostral_edge = [\n",
    "        #     float(data['Rostral_edge'][row]),\n",
    "        #     float(data['Rostral_edge.1'][row])\n",
    "        # ]\n",
    "        # caudal_edge_ls.append(caudal_edge)\n",
    "        # rostral_edge_ls.append(rostral_edge)\n",
    "        #if row % 50 == 0:\n",
    "        #   print(f'just finished with {row} out of {len(data)-1}', end='\\r',flush=True)\n",
    "    ellipse_df = pd.DataFrame(columns = ['center_x','center_y', 'width', 'height', 'phi'], data = ellipses)\n",
    "    a = np.array(ellipse_df['height'][:])\n",
    "    b = np.array(ellipse_df['width'][:])\n",
    "    ellipse_size_per_frame = a*b*math.pi\n",
    "    ellipse_df['ellipse_size'] = ellipse_size_per_frame\n",
    "    #ellipse_df['rostral_edge'] = rostral_edge_ls\n",
    "    #ellipse_df['caudal_edge'] = caudal_edge_ls\n",
    "    print('\\n Done')\n",
    "    return ellipse_df"
   ],
   "metadata": {
    "collapsed": false,
    "pycharm": {
     "name": "#%% Function definitions\n"
    }
   }
  },
  {
   "cell_type": "code",
   "execution_count": null,
   "outputs": [],
   "source": [
    "\"\"\"\n",
    "This notebook should be the main sequence for incoming experimental data - there are prerequisites for a functional process:\n",
    "- the process is designed to work block-by-block\n",
    "- Data will be arranged into block folders under animal folders, where each block contains the next structure:\n",
    "\n",
    "                                       /----> arena_videos  ->[config.yaml , info.yaml] videos -> [video files, output.log] timestamps -> [csv of timestamps]\n",
    "\n",
    "Animal_x ->date(xx_xx_xxxx) -> block_x -----> eye_videos >> LE\\RE -> video folder with name -> [video.h264 , video.mp4 , params.json , timestamps.csv]\n",
    "\n",
    "                                       \\----> oe_files >> date_time(xxxx_xx_xx_xx-xx-xx) --> [events.csv] internal open ephys structure from here (NWB format only!!!)\n",
    "                                                                                             /////////////////////\n",
    "                                                                                         TODO: internal parsing of this file\n",
    "\"\"\""
   ],
   "metadata": {
    "collapsed": false,
    "pycharm": {
     "name": "#%% Sketch\n"
    }
   }
  },
  {
   "cell_type": "code",
   "execution_count": 14,
   "outputs": [
    {
     "name": "stdout",
     "output_type": "stream",
     "text": [
      "D:\\experiments\\Animal_0\\24_03_2021\\block_5\n",
      "['D:\\\\experiments\\\\Animal_0\\\\24_03_2021\\\\block_5\\\\arena_videos\\\\videos\\\\back_20210324T122209.mp4', 'D:\\\\experiments\\\\Animal_0\\\\24_03_2021\\\\block_5\\\\arena_videos\\\\videos\\\\left_20210324T122209.mp4', 'D:\\\\experiments\\\\Animal_0\\\\24_03_2021\\\\block_5\\\\arena_videos\\\\videos\\\\realtime_20210324T122209.mp4', 'D:\\\\experiments\\\\Animal_0\\\\24_03_2021\\\\block_5\\\\arena_videos\\\\videos\\\\stream_20210324T122209.mp4']\n"
     ]
    }
   ],
   "source": [
    "animal_number = '0'\n",
    "experiment_date = '24_03_2021'\n",
    "block = '5'\n",
    "path = rf'D:\\experiments\\Animal_{animal_number}\\{experiment_date}\\block_{block}'\n",
    "print(path)\n",
    "#Arena\n",
    "arvid_path = path + r'\\arena_videos\\videos\\*.mp4'\n",
    "arena_videos = glob.glob(path + r'\\arena_videos\\videos\\*.mp4')\n",
    "print(arena_videos)\n"
   ],
   "metadata": {
    "collapsed": false,
    "pycharm": {
     "name": "#%% Define block path\n"
    }
   }
  },
  {
   "cell_type": "code",
   "execution_count": 15,
   "outputs": [
    {
     "name": "stdout",
     "output_type": "stream",
     "text": [
      "['back_20210324T122209', 'left_20210324T122209', 'realtime_20210324T122209', 'stream_20210324T122209']\n"
     ]
    }
   ],
   "source": [
    "ar_vidnames = []\n",
    "for vid in arena_videos:\n",
    "    vidname = vid.split(sep=\"\\\\\") ; vidname = vidname[len(vidname)-1]\n",
    "    vidname=vidname.split(sep='.') ; vidname=vidname[0]\n",
    "    ar_vidnames.append(vidname)\n",
    "print(ar_vidnames)"
   ],
   "metadata": {
    "collapsed": false,
    "pycharm": {
     "name": "#%% extract arena video names\n"
    }
   }
  },
  {
   "cell_type": "code",
   "execution_count": null,
   "outputs": [],
   "source": [
    "vid_path = path + r'\\eye_videos'\n",
    "print('converting videos...')\n",
    "convert_h264_mp4(vid_path)\n",
    "print('Validating videos...')\n",
    "validate_no_framedrop(vid_path)"
   ],
   "metadata": {
    "collapsed": false,
    "pycharm": {
     "name": "#%% Eye_Vids initial conversion & validation (RUN ONLY ONCE PER BLOCK!!!)\n"
    }
   }
  },
  {
   "cell_type": "code",
   "execution_count": null,
   "outputs": [],
   "source": [
    "print('stamping LE video')\n",
    "stamp_diff_videos(vid_path+r'\\LE' , 'LE')"
   ],
   "metadata": {
    "collapsed": false,
    "pycharm": {
     "name": "#%% Stamp LE videos (RUN ONLY ONCE PER BLOCK!!!!)\n"
    }
   }
  },
  {
   "cell_type": "code",
   "execution_count": 16,
   "outputs": [],
   "source": [
    "le_video = glob.glob(path + r'\\eye_videos\\LE\\**\\*.mp4')\n",
    "re_video = glob.glob(path + r'\\eye_videos\\RE\\**\\*.mp4')"
   ],
   "metadata": {
    "collapsed": false,
    "pycharm": {
     "name": "#%% find the converted eye_vids\n"
    }
   }
  },
  {
   "cell_type": "code",
   "execution_count": 17,
   "outputs": [],
   "source": [
    "channeldict = {\n",
    "    5 : 'L_eye_TTL',\n",
    "    6 : 'Arena_TTL',\n",
    "    7 : 'Logical ON/OFF',\n",
    "    8 : 'R_eye_TTL'\n",
    "}\n",
    "exp_date_time = os.listdir(fr'{path}\\oe_files')[0]\n",
    "oe_events , oe_off_events = oe_events_parser(path + rf'\\oe_files\\{exp_date_time}\\events.csv',\n",
    "                                             channeldict,\n",
    "                                             export_path=path + rf'\\oe_files\\{exp_date_time}\\parsed_events.csv')\n",
    "ts_list = []\n",
    "for chan in list(oe_events.columns):\n",
    "    ts = get_frame_timeseries(oe_events,str(chan))\n",
    "    ts_list.append(ts)\n",
    "logical_off_series = get_frame_timeseries(oe_off_events,'Logical ON/OFF')\n",
    "block_start_time = ts_list[2].values[0]\n",
    "del ts_list[2]\n",
    "block_end_time = logical_off_series.values[0]"
   ],
   "metadata": {
    "collapsed": false,
    "pycharm": {
     "name": "#%% Analyze the Open Ephys file and extract the csv, then the timeseries for each channel\n"
    }
   }
  },
  {
   "cell_type": "code",
   "execution_count": 18,
   "outputs": [
    {
     "name": "stdout",
     "output_type": "stream",
     "text": [
      "Arena video start: 4.237100124359132 \n",
      "Arena video end: 534.8704223632811 \n",
      "Block length: 530.633322238922 Seconds\n"
     ]
    }
   ],
   "source": [
    "print(f'Arena video start: {block_start_time} \\n'\n",
    "      f'Arena video end: {block_end_time} \\n'\n",
    "      f'Block length: {block_end_time - block_start_time} Seconds')"
   ],
   "metadata": {
    "collapsed": false,
    "pycharm": {
     "name": "#%% Temporal Orientation + sanity check\n"
    }
   }
  },
  {
   "cell_type": "code",
   "execution_count": 19,
   "outputs": [],
   "source": [
    "#Arena\n",
    "arena_ff = ts_list[1].values[ts_list[1]>block_start_time][0]\n",
    "arena_first_index = ts_list[1][ts_list[1] == arena_ff].index\n",
    "arena_lf = ts_list[1].values[ts_list[1]<block_end_time][-1]\n",
    "arena_last_index = ts_list[1][ts_list[1] == arena_lf].index\n",
    "arena_sync_s = pd.Series(ts_list[1][arena_first_index.asi8[0] : arena_last_index.asi8[0]])\n",
    "\n",
    "#Left eye\n",
    "le_ff = ts_list[0].values[0]\n",
    "le_first_index = ts_list[0][ts_list[0] == le_ff].index\n",
    "le_lf = ts_list[0].values[-1]\n",
    "le_last_index = ts_list[0][ts_list[0] == le_lf].index\n",
    "le_sync_s = ts_list[0]\n",
    "\n",
    "#Right eye\n",
    "re_ff = ts_list[2].values[0]\n",
    "re_first_index = ts_list[2][ts_list[2] == re_ff].index\n",
    "re_lf = ts_list[2].values[-1]\n",
    "re_last_index = ts_list[2][ts_list[2] == re_lf].index\n",
    "re_sync_s = ts_list[2]\n",
    "\n",
    "sync_time_starts = max([arena_ff, le_ff, re_ff])\n",
    "sync_time_ends = min([arena_lf, le_lf, re_lf])"
   ],
   "metadata": {
    "collapsed": false,
    "pycharm": {
     "name": "#%% Find the first frame (ff) and last frame (lf) for every video input + construct series for synchronization\n"
    }
   }
  },
  {
   "cell_type": "code",
   "execution_count": 40,
   "outputs": [
    {
     "name": "stdout",
     "output_type": "stream",
     "text": [
      "frame 31050 out of 31057\r"
     ]
    }
   ],
   "source": [
    "#Define Anchor signal\n",
    "anchor_signal = np.arange(sync_time_starts, sync_time_ends, 1/60)\n",
    "\n",
    "#Create the DataFrame\n",
    "sync_vids = pd.DataFrame(data=None,\n",
    "                         index=range(len(anchor_signal)),\n",
    "                         columns=['Left_eye','Arena','Arena_VideoFrame','Right_eye'])\n",
    "\n",
    "accuracy_report = pd.DataFrame(data=None,\n",
    "                               index=range(len(anchor_signal)),\n",
    "                               columns=['Left_eye','Arena','Right_eye'])\n",
    "\n",
    "# define dictionary for timestamp retrieval\n",
    "ts_dict = {'Left_eye': ts_list[0],\n",
    "           'Arena': ts_list[1],\n",
    "           'Right_eye':ts_list[2]}\n",
    "\n",
    "#Iterate over the length of the dataframe and fit\n",
    "for frame in range(len(anchor_signal)):\n",
    "    anchor_time = anchor_signal[frame]\n",
    "    if frame % 50 == 0:\n",
    "        print(f'frame {frame} out of {len(anchor_signal)}', end='\\r', flush=True)\n",
    "    for vid in ['Left_eye', 'Right_eye', 'Arena']:\n",
    "        f,a = get_closest_frame(anchor_time, ts_dict[vid], report_acc=1)\n",
    "        sync_vids[vid][frame] = f\n",
    "        accuracy_report[vid][frame] = a"
   ],
   "metadata": {
    "collapsed": false,
    "pycharm": {
     "name": "#%% Align Frames in synchronization DataFrame\n"
    }
   }
  },
  {
   "cell_type": "code",
   "execution_count": 60,
   "outputs": [
    {
     "data": {
      "text/plain": "      Left_eye  Arena Arena_VideoFrame Right_eye\n0            4    917              606         2\n1            5    918              607         3\n2            6    919              608         4\n3            7    920              609         5\n4            8    921              610         6\n...        ...    ...              ...       ...\n31052    31113  31319            31008     31111\n31053    31113  31320            31009     31112\n31054    31114  31321            31010     31113\n31055    31116  31322            31011     31114\n31056    31116  31323            31012     31115\n\n[31057 rows x 4 columns]",
      "text/html": "<div>\n<style scoped>\n    .dataframe tbody tr th:only-of-type {\n        vertical-align: middle;\n    }\n\n    .dataframe tbody tr th {\n        vertical-align: top;\n    }\n\n    .dataframe thead th {\n        text-align: right;\n    }\n</style>\n<table border=\"1\" class=\"dataframe\">\n  <thead>\n    <tr style=\"text-align: right;\">\n      <th></th>\n      <th>Left_eye</th>\n      <th>Arena</th>\n      <th>Arena_VideoFrame</th>\n      <th>Right_eye</th>\n    </tr>\n  </thead>\n  <tbody>\n    <tr>\n      <th>0</th>\n      <td>4</td>\n      <td>917</td>\n      <td>606</td>\n      <td>2</td>\n    </tr>\n    <tr>\n      <th>1</th>\n      <td>5</td>\n      <td>918</td>\n      <td>607</td>\n      <td>3</td>\n    </tr>\n    <tr>\n      <th>2</th>\n      <td>6</td>\n      <td>919</td>\n      <td>608</td>\n      <td>4</td>\n    </tr>\n    <tr>\n      <th>3</th>\n      <td>7</td>\n      <td>920</td>\n      <td>609</td>\n      <td>5</td>\n    </tr>\n    <tr>\n      <th>4</th>\n      <td>8</td>\n      <td>921</td>\n      <td>610</td>\n      <td>6</td>\n    </tr>\n    <tr>\n      <th>...</th>\n      <td>...</td>\n      <td>...</td>\n      <td>...</td>\n      <td>...</td>\n    </tr>\n    <tr>\n      <th>31052</th>\n      <td>31113</td>\n      <td>31319</td>\n      <td>31008</td>\n      <td>31111</td>\n    </tr>\n    <tr>\n      <th>31053</th>\n      <td>31113</td>\n      <td>31320</td>\n      <td>31009</td>\n      <td>31112</td>\n    </tr>\n    <tr>\n      <th>31054</th>\n      <td>31114</td>\n      <td>31321</td>\n      <td>31010</td>\n      <td>31113</td>\n    </tr>\n    <tr>\n      <th>31055</th>\n      <td>31116</td>\n      <td>31322</td>\n      <td>31011</td>\n      <td>31114</td>\n    </tr>\n    <tr>\n      <th>31056</th>\n      <td>31116</td>\n      <td>31323</td>\n      <td>31012</td>\n      <td>31115</td>\n    </tr>\n  </tbody>\n</table>\n<p>31057 rows × 4 columns</p>\n</div>"
     },
     "execution_count": 60,
     "metadata": {},
     "output_type": "execute_result"
    }
   ],
   "source": [
    "sync_vids.Arena_VideoFrame = sync_vids.Arena - (arena_first_index.asi8[0] + 62)\n",
    "sync_vids.Left_eye = sync_vids.Left_eye\n",
    "sync_vids"
   ],
   "metadata": {
    "collapsed": false,
    "pycharm": {
     "name": "#%%Arena sync step (becuase the TTLs are constant + some lag between acquisition start and TTL start)\n"
    }
   }
  },
  {
   "cell_type": "code",
   "execution_count": 22,
   "outputs": [
    {
     "name": "stdout",
     "output_type": "stream",
     "text": [
      "working on video D:\\experiments\\Animal_0\\24_03_2021\\block_5\\arena_videos\\videos\\back_20210324T122209.mp4\n",
      "working on video D:\\experiments\\Animal_0\\24_03_2021\\block_5\\arena_videos\\videos\\left_20210324T122209.mp4\n",
      "working on video D:\\experiments\\Animal_0\\24_03_2021\\block_5\\arena_videos\\videos\\realtime_20210324T122209.mp4\n",
      "working on video D:\\experiments\\Animal_0\\24_03_2021\\block_5\\arena_videos\\videos\\stream_20210324T122209.mp4\n",
      "done, frame_val_list contains 4 objects\n"
     ]
    }
   ],
   "source": [
    "arena_frame_val_list = produce_frame_val_list(arena_videos,250)"
   ],
   "metadata": {
    "collapsed": false,
    "pycharm": {
     "name": "#%% analyze arena video for led-off frames\n"
    }
   }
  },
  {
   "cell_type": "code",
   "execution_count": 23,
   "outputs": [
    {
     "name": "stdout",
     "output_type": "stream",
     "text": [
      "working on video D:\\experiments\\Animal_0\\24_03_2021\\block_5\\eye_videos\\LE\\hangingwormpluslandscapes6min_1_640x480_60hz_experiment_1_recording_0\\hangingwormpluslandscapes6min_1_LE.mp4\n",
      "working on video D:\\experiments\\Animal_0\\24_03_2021\\block_5\\eye_videos\\LE\\hangingwormpluslandscapes6min_1_640x480_60hz_experiment_1_recording_0\\hangingwormpluslandscapes6min_1_LEDLC_resnet_50_Eye_Tracking_piplineMar1shuffle1_900000_labeled.mp4\n",
      "done, frame_val_list contains 2 objects\n",
      "working on video D:\\experiments\\Animal_0\\24_03_2021\\block_5\\eye_videos\\RE\\hangingwormpluslandscapes6min_1_640x480_60hz_experiment_1_recording_0\\hangingwormpluslandscapes6min_1.mp4\n",
      "working on video D:\\experiments\\Animal_0\\24_03_2021\\block_5\\eye_videos\\RE\\hangingwormpluslandscapes6min_1_640x480_60hz_experiment_1_recording_0\\hangingwormpluslandscapes6min_1DLC_resnet_50_Eye_Tracking_piplineMar1shuffle1_900000_labeled.mp4\n",
      "done, frame_val_list contains 2 objects\n"
     ]
    }
   ],
   "source": [
    "l_eye_frame_val_list = produce_frame_val_list(le_video, 30)\n",
    "r_eye_frame_val_list = produce_frame_val_list(re_video,30)"
   ],
   "metadata": {
    "collapsed": false,
    "pycharm": {
     "name": "#%% analyze eye videos\n"
    }
   }
  },
  {
   "cell_type": "code",
   "execution_count": 28,
   "outputs": [],
   "source": [
    "l_eye_values = stats.zscore(l_eye_frame_val_list[0][1])\n",
    "r_eye_values = stats.zscore(r_eye_frame_val_list[0][1])"
   ],
   "metadata": {
    "collapsed": false,
    "pycharm": {
     "name": "#%% create the l/r eyes value df\n"
    }
   }
  },
  {
   "cell_type": "code",
   "execution_count": null,
   "outputs": [],
   "source": [
    "sync_vids.Left_eye.values.astype(int)"
   ],
   "metadata": {
    "collapsed": false,
    "pycharm": {
     "name": "#%%\n"
    }
   }
  },
  {
   "cell_type": "code",
   "execution_count": 61,
   "outputs": [],
   "source": [
    "arena_brightness_df = pd.DataFrame(index = anchor_signal)\n",
    "for ind, vid in enumerate(ar_vidnames):\n",
    "    vid_val_arr = stats.zscore(arena_frame_val_list[ind][1])\n",
    "    sync_list = sync_vids.Arena_VideoFrame.astype(int)\n",
    "    sync_list[sync_list >= len(vid_val_arr)] = len(vid_val_arr)-1\n",
    "    arena_brightness_df.insert(loc=0,\n",
    "                               column=str(vid),\n",
    "                               value=vid_val_arr[sync_list])"
   ],
   "metadata": {
    "collapsed": false,
    "pycharm": {
     "name": "#%% create synchronization dataframes\n"
    }
   }
  },
  {
   "cell_type": "code",
   "execution_count": 62,
   "outputs": [],
   "source": [
    "eye_brightness_df = pd.DataFrame(index=anchor_signal)\n",
    "eye_brightness_df.insert(loc=0,\n",
    "                         column='left_eye',\n",
    "                         value=l_eye_values[sync_vids.Left_eye.values.astype(int)[0:len(anchor_signal)]])\n",
    "eye_brightness_df.insert(loc=0,\n",
    "                         column='right_eye',\n",
    "                         value=r_eye_values[sync_vids.Right_eye.values.astype(int)[0:len(anchor_signal)]])"
   ],
   "metadata": {
    "collapsed": false,
    "pycharm": {
     "name": "#%%\n"
    }
   }
  },
  {
   "cell_type": "code",
   "execution_count": 63,
   "outputs": [
    {
     "data": {
      "text/plain": "            stream_20210324T122209  realtime_20210324T122209  \\\n17.247700                -0.771456                  2.644457   \n17.264366                -0.741209                  2.560887   \n17.281033                -0.852165                  2.614906   \n17.297700                -0.852165                  2.539067   \n17.314366                -0.852773                  2.560887   \n...                            ...                       ...   \n534.781033               -0.385390                  0.103968   \n534.797700               -0.385390                  0.103968   \n534.814366               -0.385390                  0.103968   \n534.831033               -0.385390                  0.103968   \n534.847700               -0.385390                  0.103968   \n\n            left_20210324T122209  back_20210324T122209  \n17.247700               0.473667             -0.423636  \n17.264366               0.303350             -0.538187  \n17.281033               0.471573             -0.424006  \n17.297700               0.369007             -0.424006  \n17.314366               0.303350             -0.538187  \n...                          ...                   ...  \n534.781033              0.217108             -0.516339  \n534.797700              0.217108             -0.516339  \n534.814366              0.217108             -0.516339  \n534.831033              0.217108             -0.516339  \n534.847700              0.217108             -0.516339  \n\n[31057 rows x 4 columns]",
      "text/html": "<div>\n<style scoped>\n    .dataframe tbody tr th:only-of-type {\n        vertical-align: middle;\n    }\n\n    .dataframe tbody tr th {\n        vertical-align: top;\n    }\n\n    .dataframe thead th {\n        text-align: right;\n    }\n</style>\n<table border=\"1\" class=\"dataframe\">\n  <thead>\n    <tr style=\"text-align: right;\">\n      <th></th>\n      <th>stream_20210324T122209</th>\n      <th>realtime_20210324T122209</th>\n      <th>left_20210324T122209</th>\n      <th>back_20210324T122209</th>\n    </tr>\n  </thead>\n  <tbody>\n    <tr>\n      <th>17.247700</th>\n      <td>-0.771456</td>\n      <td>2.644457</td>\n      <td>0.473667</td>\n      <td>-0.423636</td>\n    </tr>\n    <tr>\n      <th>17.264366</th>\n      <td>-0.741209</td>\n      <td>2.560887</td>\n      <td>0.303350</td>\n      <td>-0.538187</td>\n    </tr>\n    <tr>\n      <th>17.281033</th>\n      <td>-0.852165</td>\n      <td>2.614906</td>\n      <td>0.471573</td>\n      <td>-0.424006</td>\n    </tr>\n    <tr>\n      <th>17.297700</th>\n      <td>-0.852165</td>\n      <td>2.539067</td>\n      <td>0.369007</td>\n      <td>-0.424006</td>\n    </tr>\n    <tr>\n      <th>17.314366</th>\n      <td>-0.852773</td>\n      <td>2.560887</td>\n      <td>0.303350</td>\n      <td>-0.538187</td>\n    </tr>\n    <tr>\n      <th>...</th>\n      <td>...</td>\n      <td>...</td>\n      <td>...</td>\n      <td>...</td>\n    </tr>\n    <tr>\n      <th>534.781033</th>\n      <td>-0.385390</td>\n      <td>0.103968</td>\n      <td>0.217108</td>\n      <td>-0.516339</td>\n    </tr>\n    <tr>\n      <th>534.797700</th>\n      <td>-0.385390</td>\n      <td>0.103968</td>\n      <td>0.217108</td>\n      <td>-0.516339</td>\n    </tr>\n    <tr>\n      <th>534.814366</th>\n      <td>-0.385390</td>\n      <td>0.103968</td>\n      <td>0.217108</td>\n      <td>-0.516339</td>\n    </tr>\n    <tr>\n      <th>534.831033</th>\n      <td>-0.385390</td>\n      <td>0.103968</td>\n      <td>0.217108</td>\n      <td>-0.516339</td>\n    </tr>\n    <tr>\n      <th>534.847700</th>\n      <td>-0.385390</td>\n      <td>0.103968</td>\n      <td>0.217108</td>\n      <td>-0.516339</td>\n    </tr>\n  </tbody>\n</table>\n<p>31057 rows × 4 columns</p>\n</div>"
     },
     "execution_count": 63,
     "metadata": {},
     "output_type": "execute_result"
    }
   ],
   "source": [
    "arena_brightness_df"
   ],
   "metadata": {
    "collapsed": false,
    "pycharm": {
     "name": "#%%\n"
    }
   }
  },
  {
   "cell_type": "code",
   "execution_count": 73,
   "outputs": [
    {
     "data": {
      "text/plain": "<matplotlib.legend.Legend at 0x2bd181e0eb0>"
     },
     "execution_count": 73,
     "metadata": {},
     "output_type": "execute_result"
    },
    {
     "data": {
      "text/plain": "<Figure size 1440x504 with 1 Axes>",
      "image/png": "[encoded data removed]"
     },
     "metadata": {
      "needs_background": "light"
     },
     "output_type": "display_data"
    }
   ],
   "source": [
    "\n",
    "sec = 3600\n",
    "x = 1\n",
    "region = range(2450+x*sec, 2550+x*sec)\n",
    "\n",
    "plt.figure(figsize=[20,7])\n",
    "plt.plot(eye_brightness_df.iloc[region].index, eye_brightness_df.iloc[region].right_eye, label='right')\n",
    "plt.plot(eye_brightness_df.iloc[region].index, eye_brightness_df.iloc[region].left_eye, label='left')\n",
    "plt.plot(eye_brightness_df.iloc[region].index, arena_brightness_df.iloc[region]['stream_20210324T122209'], label='arena1')\n",
    "plt.plot(eye_brightness_df.iloc[region].index, arena_brightness_df.iloc[region]['realtime_20210324T122209'], label='arena2')\n",
    "plt.plot(eye_brightness_df.iloc[region].index, arena_brightness_df.iloc[region]['left_20210324T122209'], label='arena3')\n",
    "plt.plot(eye_brightness_df.iloc[region].index, arena_brightness_df.iloc[region]['back_20210324T122209'], label='arena4')\n",
    "plt.vlines(eye_brightness_df.iloc[region].index, -20, -8, linestyles={'dashed'})\n",
    "plt.legend()\n"
   ],
   "metadata": {
    "collapsed": false,
    "pycharm": {
     "name": "#%% explore synchronization\n"
    }
   }
  },
  {
   "cell_type": "code",
   "execution_count": 74,
   "outputs": [
    {
     "data": {
      "text/plain": "             Time Left_eye  Arena Arena_VideoFrame Right_eye\n0       17.247700        4    917              606         2\n1       17.264366        5    918              607         3\n2       17.281033        6    919              608         4\n3       17.297700        7    920              609         5\n4       17.314366        8    921              610         6\n...           ...      ...    ...              ...       ...\n31052  534.781033    31113  31319            31008     31111\n31053  534.797700    31113  31320            31009     31112\n31054  534.814366    31114  31321            31010     31113\n31055  534.831033    31116  31322            31011     31114\n31056  534.847700    31116  31323            31012     31115\n\n[31057 rows x 5 columns]",
      "text/html": "<div>\n<style scoped>\n    .dataframe tbody tr th:only-of-type {\n        vertical-align: middle;\n    }\n\n    .dataframe tbody tr th {\n        vertical-align: top;\n    }\n\n    .dataframe thead th {\n        text-align: right;\n    }\n</style>\n<table border=\"1\" class=\"dataframe\">\n  <thead>\n    <tr style=\"text-align: right;\">\n      <th></th>\n      <th>Time</th>\n      <th>Left_eye</th>\n      <th>Arena</th>\n      <th>Arena_VideoFrame</th>\n      <th>Right_eye</th>\n    </tr>\n  </thead>\n  <tbody>\n    <tr>\n      <th>0</th>\n      <td>17.247700</td>\n      <td>4</td>\n      <td>917</td>\n      <td>606</td>\n      <td>2</td>\n    </tr>\n    <tr>\n      <th>1</th>\n      <td>17.264366</td>\n      <td>5</td>\n      <td>918</td>\n      <td>607</td>\n      <td>3</td>\n    </tr>\n    <tr>\n      <th>2</th>\n      <td>17.281033</td>\n      <td>6</td>\n      <td>919</td>\n      <td>608</td>\n      <td>4</td>\n    </tr>\n    <tr>\n      <th>3</th>\n      <td>17.297700</td>\n      <td>7</td>\n      <td>920</td>\n      <td>609</td>\n      <td>5</td>\n    </tr>\n    <tr>\n      <th>4</th>\n      <td>17.314366</td>\n      <td>8</td>\n      <td>921</td>\n      <td>610</td>\n      <td>6</td>\n    </tr>\n    <tr>\n      <th>...</th>\n      <td>...</td>\n      <td>...</td>\n      <td>...</td>\n      <td>...</td>\n      <td>...</td>\n    </tr>\n    <tr>\n      <th>31052</th>\n      <td>534.781033</td>\n      <td>31113</td>\n      <td>31319</td>\n      <td>31008</td>\n      <td>31111</td>\n    </tr>\n    <tr>\n      <th>31053</th>\n      <td>534.797700</td>\n      <td>31113</td>\n      <td>31320</td>\n      <td>31009</td>\n      <td>31112</td>\n    </tr>\n    <tr>\n      <th>31054</th>\n      <td>534.814366</td>\n      <td>31114</td>\n      <td>31321</td>\n      <td>31010</td>\n      <td>31113</td>\n    </tr>\n    <tr>\n      <th>31055</th>\n      <td>534.831033</td>\n      <td>31116</td>\n      <td>31322</td>\n      <td>31011</td>\n      <td>31114</td>\n    </tr>\n    <tr>\n      <th>31056</th>\n      <td>534.847700</td>\n      <td>31116</td>\n      <td>31323</td>\n      <td>31012</td>\n      <td>31115</td>\n    </tr>\n  </tbody>\n</table>\n<p>31057 rows × 5 columns</p>\n</div>"
     },
     "execution_count": 74,
     "metadata": {},
     "output_type": "execute_result"
    }
   ],
   "source": [
    "sync_vids_validated = sync_vids\n",
    "sync_vids_validated.insert(loc=0, column='Time', value=anchor_signal)\n",
    "sync_vids_validated"
   ],
   "metadata": {
    "collapsed": false,
    "pycharm": {
     "name": "#%% create sync_vid_validated.csv (ONLY AFTER VISUAL SYNC)\n"
    }
   }
  },
  {
   "cell_type": "code",
   "execution_count": 75,
   "outputs": [
    {
     "name": "stdout",
     "output_type": "stream",
     "text": [
      "created D:\\experiments\\Animal_0\\24_03_2021\\block_5\\vid_source_synchronization.csv\n"
     ]
    }
   ],
   "source": [
    "sync_vids_validated.to_csv(path+r'\\\\vid_source_synchronization.csv')\n",
    "print(rf'created {path}\\vid_source_synchronization.csv')"
   ],
   "metadata": {
    "collapsed": false,
    "pycharm": {
     "name": "#%% export sync_vid_validated\n"
    }
   }
  },
  {
   "cell_type": "code",
   "execution_count": null,
   "outputs": [],
   "source": [
    "four_video_concat('block_9_synchronization',arena_videos[1],arena_videos[3],le_video[0],re_video[0],10,24900)\n",
    "\n",
    "\n",
    "##### PHASE 2 #####"
   ],
   "metadata": {
    "collapsed": false,
    "pycharm": {
     "name": "#%% create a synchronized video file\n"
    }
   }
  },
  {
   "cell_type": "code",
   "execution_count": null,
   "outputs": [],
   "source": [],
   "metadata": {
    "collapsed": false,
    "pycharm": {
     "name": "#%%\n"
    }
   }
  },
  {
   "cell_type": "code",
   "execution_count": 79,
   "outputs": [],
   "source": [
    "le_csv = pd.read_csv(glob.glob(path + r'\\eye_videos\\LE\\**\\*DLC*.csv')[0],header=1)\n",
    "\n",
    "re_csv = pd.read_csv(glob.glob(path + r'\\eye_videos\\RE\\**\\*DLC*.csv')[0],header=1)"
   ],
   "metadata": {
    "collapsed": false,
    "pycharm": {
     "name": "#%% Get paths for the dlc files of each eye\n"
    }
   }
  },
  {
   "cell_type": "code",
   "execution_count": 80,
   "outputs": [
    {
     "name": "stderr",
     "output_type": "stream",
     "text": [
      "100%|██████████| 31305/31305 [00:16<00:00, 1906.91it/s]\n",
      "100%|██████████| 31302/31302 [00:14<00:00, 2089.12it/s]\n"
     ]
    },
    {
     "name": "stdout",
     "output_type": "stream",
     "text": [
      "\n",
      " Done\n",
      "\n",
      "\n",
      "\n",
      " Done\n"
     ]
    }
   ],
   "source": [
    "le_ellipses = eye_tracking_analysis_v2(le_csv, 0.999)\n",
    "print('\\n')\n",
    "re_ellipses = eye_tracking_analysis_v2(re_csv, 0.999)"
   ],
   "metadata": {
    "collapsed": false,
    "pycharm": {
     "name": "#%%\n"
    }
   }
  },
  {
   "cell_type": "code",
   "execution_count": 82,
   "outputs": [],
   "source": [
    "video_sync_df = pd.read_csv(path + r'\\\\vid_source_synchronization.csv')\n",
    "video_sync_df = video_sync_df.drop(labels=['Unnamed: 0','Arena'],axis=1)"
   ],
   "metadata": {
    "collapsed": false,
    "pycharm": {
     "name": "#%% import synchronization dataframe\n"
    }
   }
  },
  {
   "cell_type": "code",
   "execution_count": 83,
   "outputs": [],
   "source": [
    "le_video_sync_df = video_sync_df.drop(labels=['Arena_VideoFrame','Right_eye'],axis=1)\n",
    "for column in list(le_ellipses.columns):\n",
    "    le_video_sync_df.insert(loc=len(le_video_sync_df.columns), column=column, value=None)\n",
    "re_video_sync_df = video_sync_df.drop(labels=['Arena_VideoFrame','Left_eye'],axis=1)\n",
    "for column in list(re_ellipses.columns):\n",
    "    re_video_sync_df.insert(loc=len(re_video_sync_df.columns), column=column, value=None)"
   ],
   "metadata": {
    "collapsed": false,
    "pycharm": {
     "name": "#%% create seperate dataframes for each eye\n"
    }
   }
  },
  {
   "cell_type": "code",
   "execution_count": 84,
   "outputs": [
    {
     "name": "stderr",
     "output_type": "stream",
     "text": [
      "100%|██████████| 31057/31057 [01:43<00:00, 299.55it/s]\n"
     ]
    },
    {
     "name": "stdout",
     "output_type": "stream",
     "text": [
      "populating le_video_sync_df\n"
     ]
    }
   ],
   "source": [
    "print('populating le_video_sync_df')\n",
    "for row in tqdm(le_video_sync_df.index):\n",
    "    frame = le_video_sync_df.Left_eye[row]\n",
    "    le_video_sync_df.loc[row, 'center_x'] = le_ellipses.iloc[frame]['center_x']\n",
    "    le_video_sync_df.loc[row, 'center_y'] = le_ellipses.iloc[frame]['center_y']\n",
    "    le_video_sync_df.loc[row, 'width']= le_ellipses.width[frame]\n",
    "    le_video_sync_df.loc[row, 'height'] = le_ellipses.height[frame]\n",
    "    le_video_sync_df.loc[row, 'phi'] = le_ellipses.phi[frame]\n",
    "    le_video_sync_df.loc[row, 'ellipse_size'] = le_ellipses.ellipse_size[frame]\n",
    "    #le_video_sync_df.at[row, 'rostral_edge'] = le_ellipses.rostral_edge[frame]\n",
    "    #le_video_sync_df.at[row, 'caudal_edge'] = le_ellipses.caudal_edge[frame]"
   ],
   "metadata": {
    "collapsed": false,
    "pycharm": {
     "name": "#%% populate the synchronized dataframes with ellispses data\n"
    }
   }
  },
  {
   "cell_type": "code",
   "execution_count": 85,
   "outputs": [
    {
     "name": "stderr",
     "output_type": "stream",
     "text": [
      "100%|██████████| 31057/31057 [01:35<00:00, 325.81it/s]\n"
     ]
    },
    {
     "name": "stdout",
     "output_type": "stream",
     "text": [
      "populating re_video_sync_df\n"
     ]
    }
   ],
   "source": [
    "print('populating re_video_sync_df')\n",
    "for row in tqdm(re_video_sync_df.index):\n",
    "    frame = re_video_sync_df.Right_eye[row]\n",
    "    re_video_sync_df.loc[row, 'center_x'] = re_ellipses.iloc[frame]['center_x']\n",
    "    re_video_sync_df.loc[row, 'center_y'] = re_ellipses.iloc[frame]['center_y']\n",
    "    re_video_sync_df.loc[row, 'width']= re_ellipses.width[frame]\n",
    "    re_video_sync_df.loc[row, 'height'] = re_ellipses.height[frame]\n",
    "    re_video_sync_df.loc[row, 'phi'] = re_ellipses.phi[frame]\n",
    "    re_video_sync_df.loc[row, 'ellipse_size'] = re_ellipses.ellipse_size[frame]\n",
    "    #re_video_sync_df.at[row, 'rostral_edge'] = re_ellipses.rostral_edge[frame]\n",
    "    #re_video_sync_df.at[row, 'caudal_edge'] = re_ellipses.caudal_edge[frame]"
   ],
   "metadata": {
    "collapsed": false,
    "pycharm": {
     "name": "#%% create a synchronized dataframe with ellispse stats\n"
    }
   }
  },
  {
   "cell_type": "code",
   "execution_count": 86,
   "outputs": [
    {
     "data": {
      "text/plain": "17.247699737548828"
     },
     "execution_count": 86,
     "metadata": {},
     "output_type": "execute_result"
    }
   ],
   "source": [
    "first_frame_time = le_video_sync_df.Time.values[0]\n",
    "first_frame_time"
   ],
   "metadata": {
    "collapsed": false,
    "pycharm": {
     "name": "#%%\n"
    }
   }
  },
  {
   "cell_type": "code",
   "execution_count": null,
   "outputs": [],
   "source": [
    "fpm = 3600\n",
    "x = 0\n",
    "region = range(0+x*fpm, 3600+x*fpm)\n"
   ],
   "metadata": {
    "collapsed": false,
    "pycharm": {
     "name": "#%% set region of interest:\n"
    }
   }
  },
  {
   "cell_type": "code",
   "execution_count": null,
   "outputs": [],
   "source": [
    "fig = plt.figure(figsize=[10,10])\n",
    "fig.set_facecolor('xkcd:white')\n",
    "plt.title('pupil location',fontsize=20)\n",
    "plt.xlabel('pupil position X',fontsize=20)\n",
    "plt.ylabel('Pupil position Y',fontsize=20)\n",
    "plt.scatter(le_video_sync_df.center_x[region],\n",
    "            le_video_sync_df.center_y[region],\n",
    "            c=le_video_sync_df.Time[region] - first_frame_time,\n",
    "            cmap='inferno',\n",
    "            alpha=0.5,\n",
    "            label='Left eye')\n",
    "plt.colorbar()\n",
    "#_ = plt.scatter(re_video_sync_df.center_x[region],re_video_sync_df.center_y[region],\n",
    "            # label='Right eye',\n",
    "            # c=re_video_sync_df.Time[region],\n",
    "            # cmap='jet',\n",
    "            # alpha=0.5)\n",
    "plt.xlim(400,500)\n",
    "plt.ylim(80,180)"
   ],
   "metadata": {
    "collapsed": false,
    "pycharm": {
     "name": "#%% plot pupil position (absolute pixel values)\n"
    }
   }
  },
  {
   "cell_type": "code",
   "execution_count": null,
   "outputs": [],
   "source": [
    "pupil_distance_p = (le_video_sync_df.center_x - re_video_sync_df.center_x)**2 + \\\n",
    "                 (le_video_sync_df.center_y - re_video_sync_df.center_y)**2\n",
    "pupil_convergence = []\n",
    "for val in pupil_distance_p.values:\n",
    "    pupil_convergence.append(math.sqrt(val))\n"
   ],
   "metadata": {
    "collapsed": false,
    "pycharm": {
     "name": "#%%\n"
    }
   }
  },
  {
   "cell_type": "code",
   "execution_count": null,
   "outputs": [],
   "source": [
    "fig = plt.figure(figsize=[20,7])\n",
    "fig.set_facecolor('xkcd:white')\n",
    "plt.title('pupil convergence',fontsize=20)\n",
    "plt.ylabel('Convergence Z Score', fontsize=20)\n",
    "plt.plot(le_video_sync_df.Time[region] - first_frame_time, stats.zscore(np.array(pupil_convergence)[region]))\n",
    "_ = plt.ylim(-4,2)"
   ],
   "metadata": {
    "collapsed": false,
    "pycharm": {
     "name": "#%% plot pupil distance\n"
    }
   }
  },
  {
   "cell_type": "code",
   "execution_count": null,
   "outputs": [],
   "source": [
    "le_ellipses_z = (le_video_sync_df.ellipse_size - le_video_sync_df.ellipse_size.mean()) / le_video_sync_df.ellipse_size.std()\n",
    "re_ellipses_z = (re_video_sync_df.ellipse_size - re_video_sync_df.ellipse_size.mean()) / re_video_sync_df.ellipse_size.std()\n",
    "fig = plt.figure(figsize=[20,7])\n",
    "fig.set_facecolor('xkcd:white')\n",
    "plt.title('pupil_size',fontsize=20)\n",
    "plt.xlabel('Time (sec)',fontsize=20)\n",
    "plt.ylabel('Pupil diameter (std)',fontsize=20)\n",
    "plt.plot(le_video_sync_df.Time[region] - first_frame_time, le_ellipses_z[region],label='Left Eye')\n",
    "plt.plot(re_video_sync_df.Time[region] - first_frame_time, re_ellipses_z[region],label='Right Eye')\n",
    "\n",
    "#plt.xticks(np.arange(min(le_video_sync_df.Time[region] - first_frame_time), max(le_video_sync_df.Time[region])+1))\n",
    "#plt.ylim(-0.3,0.3)\n",
    "_=plt.legend(fontsize=20)"
   ],
   "metadata": {
    "collapsed": false,
    "pycharm": {
     "name": "#%% plot pupil size_matplotlib\n"
    }
   }
  },
  {
   "cell_type": "code",
   "execution_count": null,
   "outputs": [],
   "source": [
    "#pos_y_z = (le_video_sync_df.ellipse_size - le_video_sync_df.center_y.mean()) / le_video_sync_df.center_y.std()\n",
    "#pos_y_z = (le_video_sync_df.ellipse_size - le_video_sync_df.center_x.mean()) / le_video_sync_df.center_x.std()\n",
    "fig = plt.figure(figsize=[20,7])\n",
    "fig.set_facecolor('xkcd:white')\n",
    "plt.title('pupil position X',fontsize=20)\n",
    "plt.xlabel('Time (sec)',fontsize=20)\n",
    "plt.ylabel('Pupil position (pix)',fontsize=20)\n",
    "plt.plot(le_video_sync_df.Time[region] - first_frame_time, le_video_sync_df.center_x[region],label='Left Eye X')\n",
    "plt.plot(le_video_sync_df.Time[region] - first_frame_time, le_video_sync_df.center_y[region],label='Left Eye Y')\n",
    "#ync_df.Time[region] - first_frame_time, re_ellipses_z[region],label='Right Eye')\n",
    "#plt.xticks(np.arange(min(le_video_sync_df.Time[region] - first_frame_time), max(le_video_sync_df.Time[region])+1,0.5))\n",
    "#plt.ylim(-0.3,0.3)\n",
    "_=plt.legend(fontsize=20)\n",
    "#this is a change to the file"
   ],
   "metadata": {
    "collapsed": false,
    "pycharm": {
     "name": "#%% plot xy position vs time\n"
    }
   }
  },
  {
   "cell_type": "code",
   "execution_count": null,
   "outputs": [],
   "source": [
    "uncertainty_thr = 0.99999\n",
    "data = le_csv\n",
    "data = data.iloc[1:].apply(pd.to_numeric)\n",
    "pupil_elements = np.array([x for x in data.columns if 'Pupil' in x])\n",
    "pupil_xs = data[pupil_elements[np.arange(0,len(pupil_elements),3)]]\n",
    "pupil_ys = data[pupil_elements[np.arange(1,len(pupil_elements),3)]]\n",
    "pupil_ps = data[pupil_elements[np.arange(2,len(pupil_elements),3)]]\n",
    "pupil_ps = pupil_ps.rename(columns=dict(zip(pupil_ps.columns,pupil_xs.columns)))\n",
    "pupil_ys = pupil_ys.rename(columns=dict(zip(pupil_ys.columns,pupil_xs.columns)))\n",
    "p = pupil_ps > uncertainty_thr\n",
    "p.sum\n",
    "pupil_xs = pupil_xs[p]\n",
    "pupil_ys = pupil_ys[p]\n",
    "row = 26295\n",
    "x_values = pupil_xs.loc[row].values\n",
    "y_values = pupil_ys.loc[row].values\n",
    "X = np.c_[x_values,y_values]\n",
    "\n",
    "X = X[~ np.isnan(X).any(axis=1)]\n",
    "X.shape"
   ],
   "metadata": {
    "collapsed": false,
    "pycharm": {
     "name": "#%% scratchpad 5/5\n"
    }
   }
  },
  {
   "cell_type": "code",
   "execution_count": null,
   "outputs": [],
   "source": [
    "sum(data['Rostral_edge.2'] > 0.999) == len(data['Rostral_edge.2'])"
   ],
   "metadata": {
    "collapsed": false,
    "pycharm": {
     "name": "#%% scratchpad 6/5\n"
    }
   }
  },
  {
   "cell_type": "code",
   "execution_count": null,
   "outputs": [],
   "source": [
    "def eye_tracking_analysis_v2(dlc_video_analysis_csv,uncertainty_thr):\n",
    "    \"\"\"\n",
    "    :param dlc_video_analysis_csv: the csv output of a dlc analysis of one video, already read by pandas with header=1\n",
    "    :param uncertainty_thr: The confidence P value to use as a threshold for datapoint validity in the analysis\n",
    "    :returns ellipse_df: a DataFrame of ellipses parameters (center, width, height, phi, size) for each video frame\n",
    "\n",
    "    \"\"\"\n",
    "# import the dataframe and convert it to floats\n",
    "    data = dlc_video_analysis_csv\n",
    "    data = data.iloc[1:].apply(pd.to_numeric)\n",
    "# sort the pupil elements to x and y, with p as probability\n",
    "    pupil_elements = np.array([x for x in data.columns if 'Pupil' in x])\n",
    "    pupil_xs = data[pupil_elements[np.arange(0,len(pupil_elements),3)]]\n",
    "    pupil_ys = data[pupil_elements[np.arange(1,len(pupil_elements),3)]]\n",
    "    pupil_ps = data[pupil_elements[np.arange(2,len(pupil_elements),3)]]\n",
    "    #rename dataframes for masking with p values of bad points:\n",
    "    pupil_ps = pupil_ps.rename(columns=dict(zip(pupil_ps.columns,pupil_xs.columns)))\n",
    "    pupil_ys = pupil_ys.rename(columns=dict(zip(pupil_ys.columns,pupil_xs.columns)))\n",
    "    good_points = pupil_ps > uncertainty_thr\n",
    "    pupil_xs = pupil_xs[good_points]\n",
    "    pupil_ys = pupil_ys[good_points]\n",
    "    #Do the same for the edges\n",
    "    #edge_elements = [x for x in data.columns if 'edge' in x]\n",
    "    #edge_xs = data[edge_elements[np.arange(0,len(edge_elements),3)]]\n",
    "    #edge_ys = data[edge_elements[np.arange(1,len(edge_elements),3)]]\n",
    "    #edge_ps = data[edge_elements[np.arange(2,len(edge_elements),3)]]\n",
    "    #edge_ps = edge_ps.rename(columns=dict(zip(edge_ps.columns,edge_xs.columns)))\n",
    "    #edge_ys = edge_ys.rename(columns=dict(zip(edge_ys.columns,edge_xs.columns)))\n",
    "    #e = edge_ps < uncertainty_thr\n",
    "\n",
    "\n",
    "    #work row by row to figure out the ellipses\n",
    "    ellipses = []\n",
    "    caudal_edge_ls= []\n",
    "    rostral_edge_ls = []\n",
    "    for row in tqdm(range(1, len(data)-1)):\n",
    "        #first, take all of the values, and concatenate them into an X array\n",
    "        x_values = pupil_xs.loc[row].values\n",
    "        y_values = pupil_ys.loc[row].values\n",
    "        X = np.c_[x_values,y_values]\n",
    "        #now, remove nan values, and check if there are enough points to make the ellipse\n",
    "        X = X[~ np.isnan(X).any(axis=1)]\n",
    "        #if there are enough rows for a fit, make an ellipse\n",
    "        if X.shape[0] > 5:\n",
    "            el = LsqEllipse().fit(X)\n",
    "            center, width, height, phi = el.as_parameters()\n",
    "            center_x = center[0]\n",
    "            center_y = center[1]\n",
    "            ellipses.append([center_x,center_y,width,height,phi])\n",
    "        else:\n",
    "            ellipses.append([np.nan, np.nan, np.nan, np.nan, np.nan])\n",
    "        # caudal_edge = [\n",
    "        #     float(data['Caudal_edge'][row]),\n",
    "        #     float(data['Caudal_edge.1'][row])\n",
    "        # ]\n",
    "        # rostral_edge = [\n",
    "        #     float(data['Rostral_edge'][row]),\n",
    "        #     float(data['Rostral_edge.1'][row])\n",
    "        # ]\n",
    "        # caudal_edge_ls.append(caudal_edge)\n",
    "        # rostral_edge_ls.append(rostral_edge)\n",
    "        #if row % 50 == 0:\n",
    "        #   print(f'just finished with {row} out of {len(data)-1}', end='\\r',flush=True)\n",
    "    ellipse_df = pd.DataFrame(columns = ['center_x','center_y', 'width', 'height', 'phi'], data = ellipses)\n",
    "    a = np.array(ellipse_df['height'][:])\n",
    "    b = np.array(ellipse_df['width'][:])\n",
    "    ellipse_size_per_frame = a*b*math.pi\n",
    "    ellipse_df['ellipse_size'] = ellipse_size_per_frame\n",
    "    #ellipse_df['rostral_edge'] = rostral_edge_ls\n",
    "    #ellipse_df['caudal_edge'] = caudal_edge_ls\n",
    "    print('\\n Done')\n",
    "    return ellipse_df"
   ],
   "metadata": {
    "collapsed": false,
    "pycharm": {
     "name": "#%%\n"
    }
   }
  },
  {
   "cell_type": "code",
   "execution_count": null,
   "outputs": [],
   "source": [
    "data = le_csv\n",
    "data = data.iloc[1:].apply(pd.to_numeric)\n",
    "pupil_elements = np.array([x for x in data.columns if 'Pupil' in x])\n",
    "pupil_xs = data[pupil_elements[np.arange(0,len(pupil_elements),3)]]\n",
    "pupil_ys = data[pupil_elements[np.arange(1,len(pupil_elements),3)]]\n",
    "pupil_ps = data[pupil_elements[np.arange(2,len(pupil_elements),3)]]\n",
    "x_values = pupil_xs.loc[1].values\n",
    "x_values"
   ],
   "metadata": {
    "collapsed": false,
    "pycharm": {
     "name": "#%% Practice stuff\n"
    }
   }
  },
  {
   "cell_type": "code",
   "execution_count": null,
   "outputs": [],
   "source": [
    "ellipse_df, uncertain_pupil_frames = eye_tracking_analysis_v2(le_csv,0.9999)"
   ],
   "metadata": {
    "collapsed": false,
    "pycharm": {
     "name": "#%%\n"
    }
   }
  },
  {
   "cell_type": "code",
   "execution_count": null,
   "outputs": [],
   "source": [
    "fig = plt.figure(figsize=(20,5))\n",
    "fig.set_facecolor('xkcd:white')\n",
    "fig.suptitle('Uncertain frames and ellipse size')\n",
    "plt.ylim(0,10000)\n",
    "plt.plot(ellipse_df.ellipse_size, label='Ellipse Size')\n",
    "plt.vlines(uncertain_pupil_frames,0,800000,label='suspect frames', colors='red')\n",
    "_=plt.legend()"
   ],
   "metadata": {
    "collapsed": false,
    "pycharm": {
     "name": "#%%\n"
    }
   }
  },
  {
   "cell_type": "code",
   "execution_count": null,
   "outputs": [],
   "source": [
    "pupil_elements = np.array([x for x in data.columns if 'Pupil' in x])\n",
    "pupil_xs = pupil_elements[np.arange(0,len(pupil_elements),3)]\n",
    "pupil_xs_values = data[pupil_xs].iloc[1:].values\n",
    "pupil_xs_values[0]"
   ],
   "metadata": {
    "collapsed": false,
    "pycharm": {
     "name": "#%%\n"
    }
   }
  },
  {
   "cell_type": "code",
   "execution_count": null,
   "outputs": [],
   "source": [
    "pupil_ys = pupil_elements[np.arange(1,len(pupil_elements),3)]\n",
    "pupil_ps = pupil_elements[np.arange(2,len(pupil_elements),3)]\n",
    "edge_elements = np.array([x for x in data.columns if 'edge' in x])\n",
    "edge_xs = edge_elements[np.arange(0,len(edge_elements),3)]\n",
    "edge_ys = edge_elements[np.arange(1,len(edge_elements),3)]\n",
    "edge_ps = edge_elements[np.arange(2,len(edge_elements),3)]\n",
    "for row in range(1,10):\n",
    "    x_values = data[pupil_xs].iloc[row].values\n",
    "    y_values = data[pupil_ys].iloc[row].values\n",
    "    X = np.c_[x_values.astype(float),y_values.astype(float)]\n",
    "    el = LsqEllipse().fit(X)\n",
    "    center, width, height, phi = el.as_parameters()\n",
    "\n",
    "    ax = plt.subplot()\n",
    "    ax.axis('equal')\n",
    "    ax.scatter(x_values.astype(float), y_values.astype(float), c='r')\n",
    "    ellipse = Ellipse(\n",
    "        xy=center, width=2*width, height=2*height, angle=np.rad2deg(phi),\n",
    "        edgecolor='b', fc='None', lw=2, label='Fit', zorder=2\n",
    "    )\n",
    "    ax.add_patch(ellipse)\n",
    "    time.sleep(1)"
   ],
   "metadata": {
    "collapsed": false,
    "pycharm": {
     "name": "#%%\n"
    }
   }
  },
  {
   "cell_type": "code",
   "execution_count": null,
   "outputs": [],
   "source": [
    "pupils = np.array([x for x in le_csv.columns if 'Pupil' in x])\n",
    "edges = np.array([x for x in le_csv.columns if 'edge' in x])\n",
    "print(pupils[np.arange(2,len(pupils),3)])\n"
   ],
   "metadata": {
    "collapsed": false,
    "pycharm": {
     "name": "#%%\n"
    }
   }
  },
  {
   "cell_type": "code",
   "execution_count": null,
   "outputs": [],
   "source": [
    "#Bokeh implementations\n",
    "x = np.arange(0,50, 0.1)\n",
    "\n",
    "\n",
    "y  = np.sin(x)\n",
    "y_gradient = np.gradient(y)\n",
    "p = figure(title='simple line example', x_axis_label='X', y_axis_label='Y')\n",
    "p.line(x,y,legend_label='temp', line_width=2)\n",
    "p.line(x,y_gradient,legend_label='Grad',line_width=2,line_color='red')\n",
    "show(p)\n"
   ],
   "metadata": {
    "collapsed": false,
    "pycharm": {
     "name": "#%%\n"
    }
   }
  },
  {
   "cell_type": "code",
   "execution_count": null,
   "outputs": [],
   "source": [
    "le_ellipses_z = (le_video_sync_df.ellipse_size - le_video_sync_df.ellipse_size.mean()) / le_video_sync_df.ellipse_size.std()\n",
    "re_ellipses_z = (re_video_sync_df.ellipse_size - re_video_sync_df.ellipse_size.mean()) / re_video_sync_df.ellipse_size.std()\n",
    "le_x_zscores = (le_video_sync_df.center_x - np.mean(le_video_sync_df.center_x)) / le_video_sync_df.center_x.std()\n",
    "le_y_zscores = (le_video_sync_df.center_y - np.mean(le_video_sync_df.center_y)) / le_video_sync_df.center_y.std()\n",
    "re_x_zscores = (re_video_sync_df.center_x - np.mean(re_video_sync_df.center_x)) / re_video_sync_df.center_x.std()\n",
    "re_y_zscores = (re_video_sync_df.center_y - np.mean(re_video_sync_df.center_y)) / re_video_sync_df.center_y.std()\n",
    "x_axis = le_video_sync_df.Time[range(len(le_ellipses_z))] - first_frame_time\n",
    "bokeh_fig = figure(title='Pupil Relative Size',\n",
    "                   x_axis_label='Record Time',\n",
    "                   y_axis_label='Pupil Diameter Z score',\n",
    "                   plot_width=1500,\n",
    "                   plot_height=700\n",
    "                   )\n",
    "\n",
    "bokeh_fig.line(x_axis, le_ellipses_z, legend_label='Left Eye', line_width=1, line_color='blue')\n",
    "#bokeh_fig.line(x_axis, np.gradient(le_ellipses_z), legend_label='LE Gradient', line_width=1, line_color='orange')\n",
    "bokeh_fig.line(x_axis, re_ellipses_z, legend_label='Right Eye', line_width=1, line_color='orange')\n",
    "#bokeh_fig.line(x_axis, np.gradient(re_ellipses_z), legend_label='RE Gradient', line_width=1, line_color='green')\n",
    "show(bokeh_fig)"
   ],
   "metadata": {
    "collapsed": false,
    "pycharm": {
     "name": "#%% plot pupil size_bokeh\n"
    }
   }
  },
  {
   "cell_type": "code",
   "execution_count": null,
   "outputs": [],
   "source": [
    "x_axis = le_video_sync_df.Time[range(len(le_ellipses_z))] - first_frame_time\n",
    "bokeh_fig = figure(title='Horizontal Movement Comparison',\n",
    "                   x_axis_label='Record Time',\n",
    "                   y_axis_label='Pupil center location X axis',\n",
    "                   plot_width=1500,\n",
    "                   plot_height=700\n",
    "                   )\n",
    "bokeh_fig.line(x_axis,le_video_sync_df.center_x - np.mean(le_video_sync_df.center_x), legend_label='Left eye position X', line_width=1, line_color='orange')\n",
    "bokeh_fig.line(x_axis,re_video_sync_df.center_x - np.mean(re_video_sync_df.center_x), legend_label='Right eye Position X', line_width=1, line_color='blue')\n",
    "\n",
    "show(bokeh_fig)"
   ],
   "metadata": {
    "collapsed": false,
    "pycharm": {
     "name": "#%% plot eye movements relative to mean, X comparison\n"
    }
   }
  },
  {
   "cell_type": "code",
   "execution_count": null,
   "outputs": [],
   "source": [],
   "metadata": {
    "collapsed": false,
    "pycharm": {
     "name": "#%%\n"
    }
   }
  },
  {
   "cell_type": "code",
   "execution_count": null,
   "outputs": [],
   "source": [
    "x_axis = le_video_sync_df.Time[range(len(le_ellipses_z))] - first_frame_time\n",
    "bokeh_fig = figure(title='Vertical Movement Comparison',\n",
    "                   x_axis_label='Record Time',\n",
    "                   y_axis_label='Pupil center location Y axis',\n",
    "                   plot_width=1500,\n",
    "                   plot_height=700\n",
    "                   )\n",
    "bokeh_fig.line(x_axis,le_video_sync_df.center_y - np.mean(le_video_sync_df.center_y), legend_label='Left eye position X', line_width=1, line_color='orange')\n",
    "bokeh_fig.line(x_axis,re_video_sync_df.center_y - np.mean(re_video_sync_df.center_y), legend_label='Right eye Position X', line_width=1, line_color='blue')\n",
    "\n",
    "show(bokeh_fig)\n"
   ],
   "metadata": {
    "collapsed": false,
    "pycharm": {
     "name": "#%% plot eye movements relative to mean, Y comparison\n"
    }
   }
  },
  {
   "cell_type": "code",
   "execution_count": null,
   "outputs": [],
   "source": [
    "le_ellipses_z = (le_video_sync_df.ellipse_size - le_video_sync_df.ellipse_size.mean()) / le_video_sync_df.ellipse_size.std()\n",
    "re_ellipses_z = (re_video_sync_df.ellipse_size - re_video_sync_df.ellipse_size.mean()) / re_video_sync_df.ellipse_size.std()\n",
    "x_axis = le_video_sync_df.Time[range(len(le_ellipses_z))] - first_frame_time\n",
    "bokeh_fig = figure(title='Pupil Size Gradient',\n",
    "                   x_axis_label='Record Time',\n",
    "                   y_axis_label='Pupil Diameter Z score gradient',\n",
    "                   plot_width=1500,\n",
    "                   plot_height=700\n",
    "                   )\n",
    "\n",
    "#bokeh_fig.line(x_axis, le_ellipses_z, legend_label='Left Eye', line_width=1, line_color='blue')\n",
    "bokeh_fig.line(x_axis, np.gradient(le_ellipses_z), legend_label='LE Gradient', line_width=1, line_color='orange')\n",
    "#bokeh_fig.line(x_axis, re_ellipses_z, legend_label='Right Eye', line_width=1, line_color='orange')\n",
    "bokeh_fig.line(x_axis, np.gradient(re_ellipses_z), legend_label='RE Gradient', line_width=1, line_color='green')\n",
    "show(bokeh_fig)"
   ],
   "metadata": {
    "collapsed": false,
    "pycharm": {
     "name": "#%% plot pupil size_Gradient\n"
    }
   }
  },
  {
   "cell_type": "code",
   "execution_count": null,
   "outputs": [],
   "source": [],
   "metadata": {
    "collapsed": false,
    "pycharm": {
     "name": "#%%\n"
    }
   }
  },
  {
   "cell_type": "code",
   "execution_count": 107,
   "outputs": [],
   "source": [
    "le_ellipses_z = (le_video_sync_df.ellipse_size - le_video_sync_df.ellipse_size.mean()) / le_video_sync_df.ellipse_size.std()\n",
    "re_ellipses_z = (re_video_sync_df.ellipse_size - re_video_sync_df.ellipse_size.mean()) / re_video_sync_df.ellipse_size.std()\n",
    "le_x_zscores = (le_video_sync_df.center_x - np.mean(le_video_sync_df.center_x)) / le_video_sync_df.center_x.std()\n",
    "le_y_zscores = (le_video_sync_df.center_y - np.mean(le_video_sync_df.center_y)) / le_video_sync_df.center_y.std()\n",
    "re_x_zscores = (re_video_sync_df.center_x - np.mean(re_video_sync_df.center_x)) / re_video_sync_df.center_x.std()\n",
    "re_y_zscores = (re_video_sync_df.center_y - np.mean(re_video_sync_df.center_y)) / re_video_sync_df.center_y.std()\n",
    "x_axis = le_video_sync_df.Time[range(len(le_ellipses_z))] - first_frame_time\n",
    "\n",
    "bokeh_fig = figure(title='Pupil combined metrics : '+str(path),\n",
    "                   x_axis_label='Record Time',\n",
    "                   y_axis_label=' Z scores',\n",
    "                   plot_width=1500,\n",
    "                   plot_height=700\n",
    "                   )\n",
    "\n",
    "bokeh_fig.line(x_axis, le_ellipses_z + 7, legend_label='Left Eye diameter', line_width=1.5, line_color='blue')\n",
    "bokeh_fig.line(x_axis, le_x_zscores + 14, legend_label='Left Eye x position', line_width=1, line_color='cyan')\n",
    "bokeh_fig.line(x_axis, le_y_zscores, legend_label='Left Eye y position', line_width=1, line_color='green')\n",
    "bokeh_fig.line(x_axis, re_ellipses_z + 7, legend_label='Right Eye diameter', line_width=1.5, line_color='red')\n",
    "bokeh_fig.line(x_axis, re_x_zscores + 14, legend_label='Right Eye x position', line_width=1, line_color='orange')\n",
    "bokeh_fig.line(x_axis, re_y_zscores, legend_label='Right Eye y position', line_width=1, line_color='pink')\n",
    "#bokeh_fig.line(x_axis, np.gradient(re_ellipses_z), legend_label='RE Gradient', line_width=1, line_color='green')\n",
    "show(bokeh_fig)\n",
    "\n",
    "\n"
   ],
   "metadata": {
    "collapsed": false,
    "pycharm": {
     "name": "#%% plot Combined plot\n"
    }
   }
  }
 ],
 "metadata": {
  "kernelspec": {
   "display_name": "Python 3",
   "language": "python",
   "name": "python3"
  },
  "language_info": {
   "codemirror_mode": {
    "name": "ipython",
    "version": 2
   },
   "file_extension": ".py",
   "mimetype": "text/x-python",
   "name": "python",
   "nbconvert_exporter": "python",
   "pygments_lexer": "ipython2",
   "version": "2.7.6"
  }
 },
 "nbformat": 4,
 "nbformat_minor": 0
}