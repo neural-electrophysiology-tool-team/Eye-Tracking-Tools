{
 "cells": [
  {
   "cell_type": "code",
   "execution_count": 1,
   "metadata": {
    "collapsed": true
   },
   "outputs": [],
   "source": [
    "import pathlib\n",
    "import pandas as pd\n",
    "import numpy as np\n",
    "import os\n",
    "from BlockSync2 import *"
   ]
  },
  {
   "cell_type": "code",
   "execution_count": 2,
   "outputs": [
    {
     "data": {
      "text/plain": "Empty DataFrame\nColumns: [Exclude, spikes, sortedManually, videoSync, Breathing, Animal, recNames, Remarks, Date, MEAfiles, recFormat, Sex, Species, MEA_Layout, folder, VideoFiles, temperatureFile, Video_notes, LFPCh_verified, defaulLFPCh, Temp, tempMedian, accelerometerCh, Complete_recording, TempLogger_file, Temp_verifcation, video_start_time, video_end_time, AUX_data, video_triggers]\nIndex: []\n\n[0 rows x 30 columns]",
      "text/html": "<div>\n<style scoped>\n    .dataframe tbody tr th:only-of-type {\n        vertical-align: middle;\n    }\n\n    .dataframe tbody tr th {\n        vertical-align: top;\n    }\n\n    .dataframe thead th {\n        text-align: right;\n    }\n</style>\n<table border=\"1\" class=\"dataframe\">\n  <thead>\n    <tr style=\"text-align: right;\">\n      <th></th>\n      <th>Exclude</th>\n      <th>spikes</th>\n      <th>sortedManually</th>\n      <th>videoSync</th>\n      <th>Breathing</th>\n      <th>Animal</th>\n      <th>recNames</th>\n      <th>Remarks</th>\n      <th>Date</th>\n      <th>MEAfiles</th>\n      <th>...</th>\n      <th>Temp</th>\n      <th>tempMedian</th>\n      <th>accelerometerCh</th>\n      <th>Complete_recording</th>\n      <th>TempLogger_file</th>\n      <th>Temp_verifcation</th>\n      <th>video_start_time</th>\n      <th>video_end_time</th>\n      <th>AUX_data</th>\n      <th>video_triggers</th>\n    </tr>\n  </thead>\n  <tbody>\n  </tbody>\n</table>\n<p>0 rows × 30 columns</p>\n</div>"
     },
     "execution_count": 2,
     "metadata": {},
     "output_type": "execute_result"
    }
   ],
   "source": [
    "# arrange all recordings according to csv format for matlab analysis\n",
    "p = pathlib.Path(r'Z:\\Nimrod\\experiments\\PV_24\\sortedBlocks.xlsx')\n",
    "df_dict = {\n",
    "    'Exclude':'',\n",
    "    'spikes': '',\n",
    "    'sortedManually': '',\n",
    "    'videoSync':'',\n",
    "    'Breathing': '',\n",
    "    'Animal': '',\n",
    "    'recNames': '',\n",
    "    'Remarks': '',\n",
    "    'Date': '',\n",
    "    'MEAfiles':'',\n",
    "    'recFormat': '',\n",
    "    'Sex': '',\n",
    "    'Species':'',\n",
    "    'MEA_Layout':'',\n",
    "    'folder': '',\n",
    "    'VideoFiles':'',\n",
    "    'temperatureFile':'',\n",
    "    'Video_notes':'',\n",
    "    'LFPCh_verified':'',\n",
    "    'defaulLFPCh':'',\n",
    "    'Temp':'',\n",
    "    'tempMedian':'',\n",
    "    'accelerometerCh':'',\n",
    "    'Complete_recording':'',\n",
    "    'TempLogger_file':'',\n",
    "    'Temp_verifcation':'',\n",
    "    'video_start_time':'',\n",
    "    'video_end_time':'',\n",
    "    'AUX_data':'',\n",
    "    'video_triggers':''\n",
    "}\n",
    "df = pd.DataFrame(columns=df_dict.keys())\n",
    "df"
   ],
   "metadata": {
    "collapsed": false,
    "pycharm": {
     "name": "#%%\n"
    }
   }
  },
  {
   "cell_type": "code",
   "execution_count": 4,
   "outputs": [
    {
     "name": "stdout",
     "output_type": "stream",
     "text": [
      "[WindowsPath('Z:/Nimrod/experiments/PV_62/2023_04_22'), WindowsPath('Z:/Nimrod/experiments/PV_62/2023_04_24'), WindowsPath('Z:/Nimrod/experiments/PV_62/2023_04_25'), WindowsPath('Z:/Nimrod/experiments/PV_62/2023_04_27'), WindowsPath('Z:/Nimrod/experiments/PV_62/2023_04_30'), WindowsPath('Z:/Nimrod/experiments/PV_62/2023_05_01'), WindowsPath('Z:/Nimrod/experiments/PV_62/2023_05_02'), WindowsPath('Z:/Nimrod/experiments/PV_62/2023_05_03'), WindowsPath('Z:/Nimrod/experiments/PV_62/2023_05_04'), WindowsPath('Z:/Nimrod/experiments/PV_62/2023_05_07'), WindowsPath('Z:/Nimrod/experiments/PV_62/2023_05_08'), WindowsPath('Z:/Nimrod/experiments/PV_62/2023_05_09'), WindowsPath('Z:/Nimrod/experiments/PV_62/2023_05_11'), WindowsPath('Z:/Nimrod/experiments/PV_62/2023_05_18'), WindowsPath('Z:/Nimrod/experiments/PV_62/2023_06_19'), WindowsPath('Z:/Nimrod/experiments/PV_62/2023_06_21'), WindowsPath('Z:/Nimrod/experiments/PV_62/UnSorted')]\n",
      "instantiated block number 005 at Path: Z:\\Nimrod\\experiments\\PV_62\\2023_04_22\\block_005\n",
      "Found the sample rate for block 005 in the xml file, it is 20000 Hz\n",
      "instantiated block number 006 at Path: Z:\\Nimrod\\experiments\\PV_62\\2023_04_22\\block_006\n",
      "Found the sample rate for block 006 in the xml file, it is 20000 Hz\n",
      "instantiated block number 007 at Path: Z:\\Nimrod\\experiments\\PV_62\\2023_04_22\\block_007\n",
      "Found the sample rate for block 007 in the xml file, it is 20000 Hz\n",
      "instantiated block number 008 at Path: Z:\\Nimrod\\experiments\\PV_62\\2023_04_22\\block_008\n",
      "Found the sample rate for block 008 in the xml file, it is 20000 Hz\n",
      "instantiated block number 009 at Path: Z:\\Nimrod\\experiments\\PV_62\\2023_04_22\\block_009\n",
      "Found the sample rate for block 009 in the xml file, it is 20000 Hz\n",
      "instantiated block number 010 at Path: Z:\\Nimrod\\experiments\\PV_62\\2023_04_24\\block_010\n",
      "Found the sample rate for block 010 in the xml file, it is 20000 Hz\n",
      "instantiated block number 011 at Path: Z:\\Nimrod\\experiments\\PV_62\\2023_04_24\\block_011\n",
      "Found the sample rate for block 011 in the xml file, it is 20000 Hz\n",
      "instantiated block number 012 at Path: Z:\\Nimrod\\experiments\\PV_62\\2023_04_24\\block_012\n",
      "Found the sample rate for block 012 in the xml file, it is 20000 Hz\n",
      "instantiated block number 013 at Path: Z:\\Nimrod\\experiments\\PV_62\\2023_04_24\\block_013\n",
      "Found the sample rate for block 013 in the xml file, it is 20000 Hz\n",
      "instantiated block number 014 at Path: Z:\\Nimrod\\experiments\\PV_62\\2023_04_24\\block_014\n",
      "Found the sample rate for block 014 in the xml file, it is 20000 Hz\n",
      "instantiated block number 015 at Path: Z:\\Nimrod\\experiments\\PV_62\\2023_04_24\\block_015\n",
      "Found the sample rate for block 015 in the xml file, it is 20000 Hz\n",
      "instantiated block number 016 at Path: Z:\\Nimrod\\experiments\\PV_62\\2023_04_25\\block_016\n",
      "Found the sample rate for block 016 in the xml file, it is 20000 Hz\n",
      "instantiated block number 017 at Path: Z:\\Nimrod\\experiments\\PV_62\\2023_04_25\\block_017\n",
      "Found the sample rate for block 017 in the xml file, it is 20000 Hz\n",
      "instantiated block number 018 at Path: Z:\\Nimrod\\experiments\\PV_62\\2023_04_25\\block_018\n",
      "Found the sample rate for block 018 in the xml file, it is 20000 Hz\n",
      "instantiated block number 019 at Path: Z:\\Nimrod\\experiments\\PV_62\\2023_04_25\\block_019\n",
      "Found the sample rate for block 019 in the xml file, it is 20000 Hz\n",
      "instantiated block number 020 at Path: Z:\\Nimrod\\experiments\\PV_62\\2023_04_25\\block_020\n",
      "Found the sample rate for block 020 in the xml file, it is 20000 Hz\n",
      "instantiated block number 021 at Path: Z:\\Nimrod\\experiments\\PV_62\\2023_04_25\\block_021\n",
      "Found the sample rate for block 021 in the xml file, it is 20000 Hz\n",
      "instantiated block number 022 at Path: Z:\\Nimrod\\experiments\\PV_62\\2023_04_25\\block_022\n",
      "Found the sample rate for block 022 in the xml file, it is 20000 Hz\n",
      "instantiated block number 023 at Path: Z:\\Nimrod\\experiments\\PV_62\\2023_04_27\\block_023\n",
      "Found the sample rate for block 023 in the xml file, it is 20000 Hz\n",
      "instantiated block number 024 at Path: Z:\\Nimrod\\experiments\\PV_62\\2023_04_27\\block_024\n",
      "Found the sample rate for block 024 in the xml file, it is 20000 Hz\n",
      "instantiated block number 025 at Path: Z:\\Nimrod\\experiments\\PV_62\\2023_04_27\\block_025\n",
      "Found the sample rate for block 025 in the xml file, it is 20000 Hz\n",
      "instantiated block number 026 at Path: Z:\\Nimrod\\experiments\\PV_62\\2023_04_27\\block_026\n",
      "Found the sample rate for block 026 in the xml file, it is 20000 Hz\n",
      "instantiated block number 027 at Path: Z:\\Nimrod\\experiments\\PV_62\\2023_04_27\\block_027\n",
      "Found the sample rate for block 027 in the xml file, it is 20000 Hz\n",
      "instantiated block number 028 at Path: Z:\\Nimrod\\experiments\\PV_62\\2023_04_27\\block_028\n",
      "Found the sample rate for block 028 in the xml file, it is 20000 Hz\n",
      "instantiated block number 029 at Path: Z:\\Nimrod\\experiments\\PV_62\\2023_04_27\\block_029\n",
      "Found the sample rate for block 029 in the xml file, it is 20000 Hz\n",
      "instantiated block number 030 at Path: Z:\\Nimrod\\experiments\\PV_62\\2023_04_27\\block_030\n",
      "Found the sample rate for block 030 in the xml file, it is 20000 Hz\n",
      "instantiated block number 031 at Path: Z:\\Nimrod\\experiments\\PV_62\\2023_04_27\\block_031\n",
      "Found the sample rate for block 031 in the xml file, it is 20000 Hz\n",
      "instantiated block number 032 at Path: Z:\\Nimrod\\experiments\\PV_62\\2023_04_27\\block_032\n",
      "Found the sample rate for block 032 in the xml file, it is 20000 Hz\n",
      "instantiated block number 033 at Path: Z:\\Nimrod\\experiments\\PV_62\\2023_04_30\\block_033\n",
      "Found the sample rate for block 033 in the xml file, it is 20000 Hz\n",
      "instantiated block number 034 at Path: Z:\\Nimrod\\experiments\\PV_62\\2023_04_30\\block_034\n",
      "Found the sample rate for block 034 in the xml file, it is 20000 Hz\n",
      "instantiated block number 035 at Path: Z:\\Nimrod\\experiments\\PV_62\\2023_04_30\\block_035\n",
      "Found the sample rate for block 035 in the xml file, it is 20000 Hz\n",
      "instantiated block number 036 at Path: Z:\\Nimrod\\experiments\\PV_62\\2023_04_30\\block_036\n",
      "Found the sample rate for block 036 in the xml file, it is 20000 Hz\n",
      "instantiated block number 037 at Path: Z:\\Nimrod\\experiments\\PV_62\\2023_04_30\\block_037\n",
      "Found the sample rate for block 037 in the xml file, it is 20000 Hz\n",
      "instantiated block number 038 at Path: Z:\\Nimrod\\experiments\\PV_62\\2023_05_01\\block_038\n",
      "Found the sample rate for block 038 in the xml file, it is 20000 Hz\n",
      "instantiated block number 039 at Path: Z:\\Nimrod\\experiments\\PV_62\\2023_05_01\\block_039\n",
      "Found the sample rate for block 039 in the xml file, it is 20000 Hz\n",
      "instantiated block number 040 at Path: Z:\\Nimrod\\experiments\\PV_62\\2023_05_01\\block_040\n",
      "Found the sample rate for block 040 in the xml file, it is 20000 Hz\n",
      "instantiated block number 041 at Path: Z:\\Nimrod\\experiments\\PV_62\\2023_05_01\\block_041\n",
      "Found the sample rate for block 041 in the xml file, it is 20000 Hz\n",
      "instantiated block number 042 at Path: Z:\\Nimrod\\experiments\\PV_62\\2023_05_02\\block_042\n",
      "Found the sample rate for block 042 in the xml file, it is 20000 Hz\n",
      "instantiated block number 043 at Path: Z:\\Nimrod\\experiments\\PV_62\\2023_05_02\\block_043\n",
      "Found the sample rate for block 043 in the xml file, it is 20000 Hz\n",
      "instantiated block number 044 at Path: Z:\\Nimrod\\experiments\\PV_62\\2023_05_02\\block_044\n",
      "Found the sample rate for block 044 in the xml file, it is 20000 Hz\n",
      "instantiated block number 045 at Path: Z:\\Nimrod\\experiments\\PV_62\\2023_05_03\\block_045\n",
      "Found the sample rate for block 045 in the xml file, it is 20000 Hz\n",
      "instantiated block number 046 at Path: Z:\\Nimrod\\experiments\\PV_62\\2023_05_03\\block_046\n",
      "Found the sample rate for block 046 in the xml file, it is 20000 Hz\n",
      "instantiated block number 047 at Path: Z:\\Nimrod\\experiments\\PV_62\\2023_05_03\\block_047\n",
      "Found the sample rate for block 047 in the xml file, it is 20000 Hz\n",
      "instantiated block number 048 at Path: Z:\\Nimrod\\experiments\\PV_62\\2023_05_04\\block_048\n",
      "Found the sample rate for block 048 in the xml file, it is 20000 Hz\n",
      "instantiated block number 049 at Path: Z:\\Nimrod\\experiments\\PV_62\\2023_05_04\\block_049\n",
      "Found the sample rate for block 049 in the xml file, it is 20000 Hz\n",
      "instantiated block number 050 at Path: Z:\\Nimrod\\experiments\\PV_62\\2023_05_04\\block_050\n",
      "Found the sample rate for block 050 in the xml file, it is 20000 Hz\n",
      "instantiated block number 051 at Path: Z:\\Nimrod\\experiments\\PV_62\\2023_05_04\\block_051\n",
      "Found the sample rate for block 051 in the xml file, it is 20000 Hz\n",
      "instantiated block number 052 at Path: Z:\\Nimrod\\experiments\\PV_62\\2023_05_07\\block_052\n",
      "Found the sample rate for block 052 in the xml file, it is 20000 Hz\n",
      "instantiated block number 053 at Path: Z:\\Nimrod\\experiments\\PV_62\\2023_05_07\\block_053\n",
      "Found the sample rate for block 053 in the xml file, it is 20000 Hz\n",
      "instantiated block number 054 at Path: Z:\\Nimrod\\experiments\\PV_62\\2023_05_07\\block_054\n",
      "Found the sample rate for block 054 in the xml file, it is 20000 Hz\n",
      "instantiated block number 055 at Path: Z:\\Nimrod\\experiments\\PV_62\\2023_05_07\\block_055\n",
      "Found the sample rate for block 055 in the xml file, it is 20000 Hz\n",
      "instantiated block number 056 at Path: Z:\\Nimrod\\experiments\\PV_62\\2023_05_08\\block_056\n",
      "Found the sample rate for block 056 in the xml file, it is 20000 Hz\n",
      "instantiated block number 057 at Path: Z:\\Nimrod\\experiments\\PV_62\\2023_05_08\\block_057\n",
      "Found the sample rate for block 057 in the xml file, it is 20000 Hz\n",
      "instantiated block number 058 at Path: Z:\\Nimrod\\experiments\\PV_62\\2023_05_08\\block_058\n",
      "Found the sample rate for block 058 in the xml file, it is 20000 Hz\n",
      "instantiated block number 059 at Path: Z:\\Nimrod\\experiments\\PV_62\\2023_05_08\\block_059\n",
      "Found the sample rate for block 059 in the xml file, it is 20000 Hz\n",
      "instantiated block number 060 at Path: Z:\\Nimrod\\experiments\\PV_62\\2023_05_09\\block_060\n",
      "Found the sample rate for block 060 in the xml file, it is 20000 Hz\n",
      "instantiated block number 061 at Path: Z:\\Nimrod\\experiments\\PV_62\\2023_05_09\\block_061\n",
      "Found the sample rate for block 061 in the xml file, it is 20000 Hz\n",
      "instantiated block number 062 at Path: Z:\\Nimrod\\experiments\\PV_62\\2023_05_09\\block_062\n",
      "Found the sample rate for block 062 in the xml file, it is 20000 Hz\n",
      "instantiated block number 063 at Path: Z:\\Nimrod\\experiments\\PV_62\\2023_05_09\\block_063\n",
      "Found the sample rate for block 063 in the xml file, it is 20000 Hz\n",
      "instantiated block number 064 at Path: Z:\\Nimrod\\experiments\\PV_62\\2023_05_11\\block_064\n",
      "Found the sample rate for block 064 in the xml file, it is 20000 Hz\n",
      "instantiated block number 065 at Path: Z:\\Nimrod\\experiments\\PV_62\\2023_05_11\\block_065\n",
      "Found the sample rate for block 065 in the xml file, it is 20000 Hz\n",
      "instantiated block number 066 at Path: Z:\\Nimrod\\experiments\\PV_62\\2023_05_11\\block_066\n",
      "Found the sample rate for block 066 in the xml file, it is 20000 Hz\n",
      "instantiated block number 067 at Path: Z:\\Nimrod\\experiments\\PV_62\\2023_05_18\\block_067\n",
      "Found the sample rate for block 067 in the xml file, it is 20000 Hz\n",
      "instantiated block number 068 at Path: Z:\\Nimrod\\experiments\\PV_62\\2023_05_18\\block_068\n",
      "Found the sample rate for block 068 in the xml file, it is 20000 Hz\n",
      "instantiated block number 069 at Path: Z:\\Nimrod\\experiments\\PV_62\\2023_05_18\\block_069\n",
      "Found the sample rate for block 069 in the xml file, it is 20000 Hz\n",
      "instantiated block number 070 at Path: Z:\\Nimrod\\experiments\\PV_62\\2023_05_18\\block_070\n",
      "Found the sample rate for block 070 in the xml file, it is 20000 Hz\n",
      "instantiated block number 071 at Path: Z:\\Nimrod\\experiments\\PV_62\\2023_06_19\\block_071\n",
      "Found the sample rate for block 071 in the xml file, it is 20000 Hz\n",
      "instantiated block number 072 at Path: Z:\\Nimrod\\experiments\\PV_62\\2023_06_21\\block_072\n",
      "Found the sample rate for block 072 in the xml file, it is 20000 Hz\n",
      "instantiated block number 073 at Path: Z:\\Nimrod\\experiments\\PV_62\\2023_06_21\\block_073\n",
      "Found the sample rate for block 073 in the xml file, it is 20000 Hz\n",
      "instantiated block number 074 at Path: Z:\\Nimrod\\experiments\\PV_62\\2023_06_21\\block_074\n",
      "Found the sample rate for block 074 in the xml file, it is 20000 Hz\n",
      "instantiated block number 075 at Path: Z:\\Nimrod\\experiments\\PV_62\\2023_06_21\\block_075\n",
      "Found the sample rate for block 075 in the xml file, it is 20000 Hz\n"
     ]
    }
   ],
   "source": [
    "# collect blocks into the dataframe:\n",
    "\n",
    "# define the path to the experiment folder:\n",
    "path_to_experiments = pathlib.Path(r\"Z:\\Nimrod\\experiments\")\n",
    "animal = \"PV_62\"\n",
    "p = path_to_experiments / animal\n",
    "# collect dates\n",
    "date_folder_list = [i for i in p.iterdir() if 'block' not in str(i).lower() and i.is_dir()]\n",
    "print(date_folder_list)\n",
    "for date in date_folder_list:\n",
    "    dp = p / animal / date\n",
    "\n",
    "    # list all blocks in the folder:\n",
    "    blocks = [i for i in dp.iterdir() if 'block' in str(i).lower() and i.is_dir()]\n",
    "    for block in blocks:\n",
    "        bp = dp / block\n",
    "        blocksync = BlockSync(animal_call=animal,\n",
    "                      experiment_date=date.name,\n",
    "                      block_num=block.name[6:],\n",
    "                      path_to_animal_folder=str(path_to_experiments))\n",
    "        df_row = {\n",
    "            'Exclude':'',\n",
    "            'spikes': '',\n",
    "            'sortedManually': '',\n",
    "            'videoSync':'',\n",
    "            'Breathing': '',\n",
    "            'Animal': animal,\n",
    "            'recNames': f'Block0{block.name[6:]}',\n",
    "            'Remarks': '',\n",
    "            'Date': blocksync.experiment_date,\n",
    "            'MEAfiles':'',\n",
    "            'recFormat': 'OERecording',\n",
    "            'Sex': 'M',\n",
    "            'Species':'Pogona_Vitticeps',\n",
    "            'MEA_Layout':'layout_120_32x1_H4_CamNeuro',\n",
    "            'folder': '/media/sil2/Data' + str(blocksync.oe_path.as_posix())[2:],\n",
    "            'VideoFiles':'',\n",
    "            'temperatureFile':'',\n",
    "            'Video_notes':'',\n",
    "            'LFPCh_verified':'',\n",
    "            'defaulLFPCh':'15',\n",
    "            'Temp':'27',\n",
    "            'tempMedian':'',\n",
    "            'accelerometerCh':'33,34,35',\n",
    "            'Complete_recording':'',\n",
    "            'TempLogger_file':'',\n",
    "            'Temp_verifcation':'',\n",
    "            'video_start_time':'',\n",
    "            'video_end_time':'',\n",
    "            'AUX_data':'',\n",
    "            'video_triggers':''\n",
    "        }\n",
    "        df = df.append(df_row,ignore_index=True)"
   ],
   "metadata": {
    "collapsed": false,
    "pycharm": {
     "name": "#%%\n"
    }
   }
  },
  {
   "cell_type": "code",
   "execution_count": 3,
   "outputs": [
    {
     "ename": "NameError",
     "evalue": "name 'animal' is not defined",
     "output_type": "error",
     "traceback": [
      "\u001B[1;31m---------------------------------------------------------------------------\u001B[0m",
      "\u001B[1;31mNameError\u001B[0m                                 Traceback (most recent call last)",
      "\u001B[1;32m<ipython-input-3-99e1e932aa20>\u001B[0m in \u001B[0;36m<module>\u001B[1;34m\u001B[0m\n\u001B[1;32m----> 1\u001B[1;33m block = BlockSync(animal_call=animal,\n\u001B[0m\u001B[0;32m      2\u001B[0m                   \u001B[0mexperiment_date\u001B[0m\u001B[1;33m=\u001B[0m\u001B[1;34m'2022_01_02'\u001B[0m\u001B[1;33m,\u001B[0m\u001B[1;33m\u001B[0m\u001B[1;33m\u001B[0m\u001B[0m\n\u001B[0;32m      3\u001B[0m                   \u001B[0mblock_num\u001B[0m\u001B[1;33m=\u001B[0m\u001B[1;34m'038'\u001B[0m\u001B[1;33m,\u001B[0m\u001B[1;33m\u001B[0m\u001B[1;33m\u001B[0m\u001B[0m\n\u001B[0;32m      4\u001B[0m                   path_to_animal_folder=str(path_to_experiments))\n\u001B[0;32m      5\u001B[0m \u001B[1;31m#block.oe_path\u001B[0m\u001B[1;33m\u001B[0m\u001B[1;33m\u001B[0m\u001B[1;33m\u001B[0m\u001B[0m\n",
      "\u001B[1;31mNameError\u001B[0m: name 'animal' is not defined"
     ]
    }
   ],
   "source": [
    "\n",
    "block = BlockSync(animal_call=animal,\n",
    "                  experiment_date='2022_01_02',\n",
    "                  block_num='038',\n",
    "                  path_to_animal_folder=str(path_to_experiments))\n",
    "#block.oe_path\n",
    "print(block.experiment_date)\n",
    "#block.experiment_date[8:] + block.experiment_date[5:7] + block.experiment_date[2:4]"
   ],
   "metadata": {
    "collapsed": false,
    "pycharm": {
     "name": "#%%\n"
    }
   }
  },
  {
   "cell_type": "code",
   "execution_count": 6,
   "outputs": [],
   "source": [
    "export_path = pathlib.Path(r'Z:\\Nimrod\\experiments\\PV_62\\automated_block_collection_ubuntu.csv')\n",
    "df.to_csv(export_path)"
   ],
   "metadata": {
    "collapsed": false,
    "pycharm": {
     "name": "#%%\n"
    }
   }
  },
  {
   "cell_type": "code",
   "execution_count": 9,
   "outputs": [
    {
     "data": {
      "text/plain": "   Exclude spikes sortedManually videoSync Breathing Animal   recNames  \\\n0                                                     PV_24  Block0001   \n1                                                     PV_24  Block0002   \n2                                                     PV_24  Block0003   \n3                                                     PV_24  Block0004   \n4                                                     PV_24  Block0005   \n..     ...    ...            ...       ...       ...    ...        ...   \n86                                                    PV_24  Block0091   \n87                                                    PV_24  Block0092   \n88                                                    PV_24  Block0093   \n89                                                    PV_24  Block0095   \n90                                                    PV_24  Block0096   \n\n   Remarks        Date MEAfiles  ... Temp tempMedian accelerometerCh  \\\n0           2021_12_23           ...   27                              \n1           2021_12_23           ...   27                              \n2           2021_12_23           ...   27                              \n3           2021_12_23           ...   27                              \n4           2021_12_23           ...   27                              \n..     ...         ...      ...  ...  ...        ...             ...   \n86          2022_01_19           ...   27                              \n87          2022_01_19           ...   27                              \n88          2022_01_19           ...   27                              \n89          2022_03_09           ...   27                              \n90          2022_03_13           ...   27                              \n\n   Complete_recording TempLogger_file Temp_verifcation video_start_time  \\\n0                                                                         \n1                                                                         \n2                                                                         \n3                                                                         \n4                                                                         \n..                ...             ...              ...              ...   \n86                                                                        \n87                                                                        \n88                                                                        \n89                                                                        \n90                                                                        \n\n   video_end_time AUX_data video_triggers  \n0                                          \n1                                          \n2                                          \n3                                          \n4                                          \n..            ...      ...            ...  \n86                                         \n87                                         \n88                                         \n89                                         \n90                                         \n\n[91 rows x 30 columns]",
      "text/html": "<div>\n<style scoped>\n    .dataframe tbody tr th:only-of-type {\n        vertical-align: middle;\n    }\n\n    .dataframe tbody tr th {\n        vertical-align: top;\n    }\n\n    .dataframe thead th {\n        text-align: right;\n    }\n</style>\n<table border=\"1\" class=\"dataframe\">\n  <thead>\n    <tr style=\"text-align: right;\">\n      <th></th>\n      <th>Exclude</th>\n      <th>spikes</th>\n      <th>sortedManually</th>\n      <th>videoSync</th>\n      <th>Breathing</th>\n      <th>Animal</th>\n      <th>recNames</th>\n      <th>Remarks</th>\n      <th>Date</th>\n      <th>MEAfiles</th>\n      <th>...</th>\n      <th>Temp</th>\n      <th>tempMedian</th>\n      <th>accelerometerCh</th>\n      <th>Complete_recording</th>\n      <th>TempLogger_file</th>\n      <th>Temp_verifcation</th>\n      <th>video_start_time</th>\n      <th>video_end_time</th>\n      <th>AUX_data</th>\n      <th>video_triggers</th>\n    </tr>\n  </thead>\n  <tbody>\n    <tr>\n      <th>0</th>\n      <td></td>\n      <td></td>\n      <td></td>\n      <td></td>\n      <td></td>\n      <td>PV_24</td>\n      <td>Block0001</td>\n      <td></td>\n      <td>2021_12_23</td>\n      <td></td>\n      <td>...</td>\n      <td>27</td>\n      <td></td>\n      <td></td>\n      <td></td>\n      <td></td>\n      <td></td>\n      <td></td>\n      <td></td>\n      <td></td>\n      <td></td>\n    </tr>\n    <tr>\n      <th>1</th>\n      <td></td>\n      <td></td>\n      <td></td>\n      <td></td>\n      <td></td>\n      <td>PV_24</td>\n      <td>Block0002</td>\n      <td></td>\n      <td>2021_12_23</td>\n      <td></td>\n      <td>...</td>\n      <td>27</td>\n      <td></td>\n      <td></td>\n      <td></td>\n      <td></td>\n      <td></td>\n      <td></td>\n      <td></td>\n      <td></td>\n      <td></td>\n    </tr>\n    <tr>\n      <th>2</th>\n      <td></td>\n      <td></td>\n      <td></td>\n      <td></td>\n      <td></td>\n      <td>PV_24</td>\n      <td>Block0003</td>\n      <td></td>\n      <td>2021_12_23</td>\n      <td></td>\n      <td>...</td>\n      <td>27</td>\n      <td></td>\n      <td></td>\n      <td></td>\n      <td></td>\n      <td></td>\n      <td></td>\n      <td></td>\n      <td></td>\n      <td></td>\n    </tr>\n    <tr>\n      <th>3</th>\n      <td></td>\n      <td></td>\n      <td></td>\n      <td></td>\n      <td></td>\n      <td>PV_24</td>\n      <td>Block0004</td>\n      <td></td>\n      <td>2021_12_23</td>\n      <td></td>\n      <td>...</td>\n      <td>27</td>\n      <td></td>\n      <td></td>\n      <td></td>\n      <td></td>\n      <td></td>\n      <td></td>\n      <td></td>\n      <td></td>\n      <td></td>\n    </tr>\n    <tr>\n      <th>4</th>\n      <td></td>\n      <td></td>\n      <td></td>\n      <td></td>\n      <td></td>\n      <td>PV_24</td>\n      <td>Block0005</td>\n      <td></td>\n      <td>2021_12_23</td>\n      <td></td>\n      <td>...</td>\n      <td>27</td>\n      <td></td>\n      <td></td>\n      <td></td>\n      <td></td>\n      <td></td>\n      <td></td>\n      <td></td>\n      <td></td>\n      <td></td>\n    </tr>\n    <tr>\n      <th>...</th>\n      <td>...</td>\n      <td>...</td>\n      <td>...</td>\n      <td>...</td>\n      <td>...</td>\n      <td>...</td>\n      <td>...</td>\n      <td>...</td>\n      <td>...</td>\n      <td>...</td>\n      <td>...</td>\n      <td>...</td>\n      <td>...</td>\n      <td>...</td>\n      <td>...</td>\n      <td>...</td>\n      <td>...</td>\n      <td>...</td>\n      <td>...</td>\n      <td>...</td>\n      <td>...</td>\n    </tr>\n    <tr>\n      <th>86</th>\n      <td></td>\n      <td></td>\n      <td></td>\n      <td></td>\n      <td></td>\n      <td>PV_24</td>\n      <td>Block0091</td>\n      <td></td>\n      <td>2022_01_19</td>\n      <td></td>\n      <td>...</td>\n      <td>27</td>\n      <td></td>\n      <td></td>\n      <td></td>\n      <td></td>\n      <td></td>\n      <td></td>\n      <td></td>\n      <td></td>\n      <td></td>\n    </tr>\n    <tr>\n      <th>87</th>\n      <td></td>\n      <td></td>\n      <td></td>\n      <td></td>\n      <td></td>\n      <td>PV_24</td>\n      <td>Block0092</td>\n      <td></td>\n      <td>2022_01_19</td>\n      <td></td>\n      <td>...</td>\n      <td>27</td>\n      <td></td>\n      <td></td>\n      <td></td>\n      <td></td>\n      <td></td>\n      <td></td>\n      <td></td>\n      <td></td>\n      <td></td>\n    </tr>\n    <tr>\n      <th>88</th>\n      <td></td>\n      <td></td>\n      <td></td>\n      <td></td>\n      <td></td>\n      <td>PV_24</td>\n      <td>Block0093</td>\n      <td></td>\n      <td>2022_01_19</td>\n      <td></td>\n      <td>...</td>\n      <td>27</td>\n      <td></td>\n      <td></td>\n      <td></td>\n      <td></td>\n      <td></td>\n      <td></td>\n      <td></td>\n      <td></td>\n      <td></td>\n    </tr>\n    <tr>\n      <th>89</th>\n      <td></td>\n      <td></td>\n      <td></td>\n      <td></td>\n      <td></td>\n      <td>PV_24</td>\n      <td>Block0095</td>\n      <td></td>\n      <td>2022_03_09</td>\n      <td></td>\n      <td>...</td>\n      <td>27</td>\n      <td></td>\n      <td></td>\n      <td></td>\n      <td></td>\n      <td></td>\n      <td></td>\n      <td></td>\n      <td></td>\n      <td></td>\n    </tr>\n    <tr>\n      <th>90</th>\n      <td></td>\n      <td></td>\n      <td></td>\n      <td></td>\n      <td></td>\n      <td>PV_24</td>\n      <td>Block0096</td>\n      <td></td>\n      <td>2022_03_13</td>\n      <td></td>\n      <td>...</td>\n      <td>27</td>\n      <td></td>\n      <td></td>\n      <td></td>\n      <td></td>\n      <td></td>\n      <td></td>\n      <td></td>\n      <td></td>\n      <td></td>\n    </tr>\n  </tbody>\n</table>\n<p>91 rows × 30 columns</p>\n</div>"
     },
     "execution_count": 9,
     "metadata": {},
     "output_type": "execute_result"
    }
   ],
   "source": [
    "df"
   ],
   "metadata": {
    "collapsed": false,
    "pycharm": {
     "name": "#%%\n"
    }
   }
  },
  {
   "cell_type": "code",
   "execution_count": null,
   "outputs": [],
   "source": [
    "np.nan"
   ],
   "metadata": {
    "collapsed": false,
    "pycharm": {
     "name": "#%%\n"
    }
   }
  }
 ],
 "metadata": {
  "kernelspec": {
   "display_name": "Python 3",
   "language": "python",
   "name": "python3"
  },
  "language_info": {
   "codemirror_mode": {
    "name": "ipython",
    "version": 2
   },
   "file_extension": ".py",
   "mimetype": "text/x-python",
   "name": "python",
   "nbconvert_exporter": "python",
   "pygments_lexer": "ipython2",
   "version": "2.7.6"
  }
 },
 "nbformat": 4,
 "nbformat_minor": 0
}