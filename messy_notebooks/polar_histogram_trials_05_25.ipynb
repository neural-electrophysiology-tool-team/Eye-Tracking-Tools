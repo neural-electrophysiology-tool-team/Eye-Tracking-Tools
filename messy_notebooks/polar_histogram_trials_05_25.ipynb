{
 "cells": [
  {
   "metadata": {},
   "cell_type": "code",
   "outputs": [],
   "execution_count": null,
   "source": [
    "\n",
    "import datetime\n",
    "import numpy as np\n",
    "import cv2\n",
    "from itertools import cycle\n",
    "import pickle\n",
    "import pathlib\n",
    "import math\n",
    "import tqdm\n",
    "import scipy.io\n",
    "from matplotlib import pyplot as plt\n",
    "import scipy.io\n",
    "import h5py\n",
    "import re\n",
    "from lxml import etree as ET\n",
    "import scipy.signal as sig\n",
    "import pandas as pd\n",
    "from scipy.stats import kde\n",
    "from BlockSync_current import BlockSync\n",
    "import UtilityFunctions_newOE as uf\n",
    "from scipy import signal\n",
    "import bokeh\n",
    "import seaborn as sns\n",
    "from matplotlib import rcParams\n",
    "%matplotlib inline\n",
    "plt.style.use('default')\n",
    "rcParams['pdf.fonttype'] = 42  # Ensure fonts are embedded and editable\n",
    "rcParams['ps.fonttype'] = 42  # Ensure compatibility with vector outputs\n",
    "\n",
    "\n",
    "def bokeh_plotter(data_list, x_axis_list=None, label_list=None,\n",
    "                  plot_name='default',\n",
    "                  x_axis_label='X', y_axis_label='Y',\n",
    "                  peaks=None, peaks_list=False, export_path=False):\n",
    "    \"\"\"Generates an interactive Bokeh plot for the given data vector.\n",
    "    Args:\n",
    "        data_list (list or array): The data to be plotted.\n",
    "        label_list (list of str): The labels of the data vectors\n",
    "        plot_name (str, optional): The title of the plot. Defaults to 'default'.\n",
    "        x_axis (str, optional): The label for the x-axis. Defaults to 'X'.\n",
    "        y_axis (str, optional): The label for the y-axis. Defaults to 'Y'.\n",
    "        peaks (list or array, optional): Indices of peaks to highlight on the plot. Defaults to None.\n",
    "        export_path (False or str): when set to str, will output the resulting html fig\n",
    "    \"\"\"\n",
    "    color_cycle = cycle(bokeh.palettes.Category10_10)\n",
    "    fig = bokeh.plotting.figure(title=f'bokeh explorer: {plot_name}',\n",
    "                                x_axis_label=x_axis_label,\n",
    "                                y_axis_label=y_axis_label,\n",
    "                                plot_width=1500,\n",
    "                                plot_height=700)\n",
    "\n",
    "    for i, data_vector in enumerate(data_list):\n",
    "\n",
    "        color = next(color_cycle)\n",
    "\n",
    "        if x_axis_list is None:\n",
    "            x_axis = range(len(data_vector))\n",
    "        elif len(x_axis_list) == len(data_list):\n",
    "            print('x_axis manually set')\n",
    "            x_axis = x_axis_list[i]\n",
    "        else:\n",
    "            raise Exception(\n",
    "                'problem with x_axis_list input - should be either None, or a list with the same length as data_list')\n",
    "        if label_list is None:\n",
    "            fig.line(x_axis, data_vector, line_color=color, legend_label=f\"Line {i + 1}\")\n",
    "        elif len(label_list) == len(data_list):\n",
    "            fig.line(range(len(data_vector)), data_vector, line_color=color, legend_label=f\"{label_list[i]}\")\n",
    "        if peaks is not None and peaks_list is True:\n",
    "            fig.circle(peaks[i], data_vector[peaks[i]], size=10, color=color)\n",
    "\n",
    "    if peaks is not None and peaks_list is False:\n",
    "        fig.circle(peaks, data_vector[peaks], size=10, color='red')\n",
    "\n",
    "    if export_path is not False:\n",
    "        print(f'exporting to {export_path}')\n",
    "        bokeh.io.output.output_file(filename=str(export_path / f'{plot_name}.html'), title=f'{plot_name}')\n",
    "    bokeh.plotting.show(fig)\n",
    "\n",
    "\n",
    "def load_eye_data_2d_w_rotation_matrix(block):\n",
    "    \"\"\"\n",
    "    This function checks if the eye dataframes and rotation dict object exist, then imports them\n",
    "    :param block: The current blocksync class with verifiec re/le dfs\n",
    "    :return: None\n",
    "    \"\"\"\n",
    "    try:\n",
    "        block.left_eye_data = pd.read_csv(block.analysis_path / 'left_eye_data.csv', index_col=0, engine='python')\n",
    "        block.right_eye_data = pd.read_csv(block.analysis_path / 'right_eye_data.csv', index_col=0, engine='python')\n",
    "    except FileNotFoundError:\n",
    "        print('eye_data files not found, run the pipeline!')\n",
    "        return\n",
    "\n",
    "    try:\n",
    "        with open(block.analysis_path / 'rotate_eye_data_params.pkl', 'rb') as file:\n",
    "            rotation_dict = pickle.load(file)\n",
    "            block.left_rotation_matrix = rotation_dict['left_rotation_matrix']\n",
    "            block.right_rotation_matrix = rotation_dict['right_rotation_matrix']\n",
    "            block.left_rotation_angle = rotation_dict['left_rotation_angle']\n",
    "            block.right_rotation_angle = rotation_dict['right_rotation_angle']\n",
    "    except FileNotFoundError:\n",
    "        print('No rotation matrix file, create it')\n",
    "\n",
    "\n",
    "def create_saccade_events_df(eye_data_df, speed_threshold, bokeh_verify_threshold=False, magnitude_calib=1,\n",
    "                             speed_profile=True):\n",
    "    \"\"\"\n",
    "    Detects saccade events in eye tracking data and computes relevant metrics.\n",
    "\n",
    "    Parameters:\n",
    "    - eye_data_df (pd.DataFrame): Input DataFrame containing eye tracking data.\n",
    "    - speed_threshold (float): Threshold for saccade detection based on speed.\n",
    "\n",
    "    Returns:\n",
    "    - df (pd.DataFrame): Modified input DataFrame with added columns for speed and saccade detection.\n",
    "    - saccade_events_df (pd.DataFrame): DataFrame containing information about detected saccade events.\n",
    "\n",
    "    Steps:\n",
    "    1. Calculate speed components ('speed_x', 'speed_y') based on differences in 'center_x' and 'center_y'.\n",
    "    2. Compute the magnitude of the velocity vector ('speed_r').\n",
    "    3. Create a binary column ('is_saccade') indicating saccade events based on the speed threshold.\n",
    "    4. Determine saccade onset and offset indices and timestamps.\n",
    "    5. Create a DataFrame ('saccade_events_df') with columns:\n",
    "        - 'saccade_start_ind': Indices of saccade onset.\n",
    "        - 'saccade_start_timestamp': Timestamps corresponding to saccade onset.\n",
    "        - 'saccade_end_ind': Indices of saccade offset.\n",
    "        - 'saccade_end_timestamp': Timestamps corresponding to saccade offset.\n",
    "        - 'length': Duration of each saccade event.\n",
    "    6. Calculate distance traveled and angles for each saccade event.\n",
    "    7. Append additional columns to 'saccade_events_df':\n",
    "        - 'magnitude': Magnitude of the distance traveled during each saccade.\n",
    "        - 'angle': Angle of the saccade vector in degrees.\n",
    "        - 'initial_x', 'initial_y': Initial coordinates of the saccade.\n",
    "        - 'end_x', 'end_y': End coordinates of the saccade.\n",
    "\n",
    "    Note: The original 'eye_data_df' is not modified; modified data is returned as 'df'.\n",
    "    \"\"\"\n",
    "    df = eye_data_df\n",
    "    df['speed_x'] = df['center_x'].diff()  # Difference between consecutive 'center_x' values\n",
    "    df['speed_y'] = df['center_y'].diff()  # Difference between consecutive 'center_y' values\n",
    "\n",
    "    # Step 2: Calculate magnitude of the velocity vector (R vector speed)\n",
    "    df['speed_r'] = (df['speed_x'] ** 2 + df['speed_y'] ** 2) ** 0.5\n",
    "\n",
    "    # Create a column for saccade detection\n",
    "    df['is_saccade'] = df['speed_r'] > speed_threshold\n",
    "\n",
    "    # create a saccade_on_off indicator where 1 is rising edge and -1 is falling edge by subtracting a shifted binary mask\n",
    "    saccade_on_off = df.is_saccade.astype(int) - df.is_saccade.shift(periods=1, fill_value=False).astype(int)\n",
    "    saccade_on_inds = np.where(saccade_on_off == 1)[\n",
    "                          0] - 1  # notice the manual shift here, chosen to include the first (sometimes slower) eye frame, just before saccade threshold crossing\n",
    "    saccade_on_ms = df['ms_axis'].iloc[saccade_on_inds]\n",
    "    saccade_on_timestamps = df['OE_timestamp'].iloc[saccade_on_inds]\n",
    "    saccade_off_inds = np.where(saccade_on_off == -1)[0]\n",
    "    saccade_off_timestamps = df['OE_timestamp'].iloc[saccade_off_inds]\n",
    "    saccade_off_ms = df['ms_axis'].iloc[saccade_off_inds]\n",
    "\n",
    "    saccade_dict = {'saccade_start_ind': saccade_on_inds,\n",
    "                    'saccade_start_timestamp': saccade_on_timestamps.values,\n",
    "                    'saccade_end_ind': saccade_off_inds,\n",
    "                    'saccade_end_timestamp': saccade_off_timestamps.values,\n",
    "                    'saccade_on_ms': saccade_on_ms.values,\n",
    "                    'saccade_off_ms': saccade_off_ms.values}\n",
    "\n",
    "    saccade_events_df = pd.DataFrame.from_dict(saccade_dict)\n",
    "    saccade_events_df['length'] = saccade_events_df['saccade_end_ind'] - saccade_events_df['saccade_start_ind']\n",
    "    # Drop columns used for intermediate steps\n",
    "    df = df.drop(['is_saccade'], axis=1)\n",
    "\n",
    "    distances = []\n",
    "    angles = []\n",
    "    speed_list = []\n",
    "    diameter_list = []\n",
    "    for index, row in tqdm.tqdm(saccade_events_df.iterrows()):\n",
    "        saccade_samples = df.loc[(df['OE_timestamp'] >= row['saccade_start_timestamp']) &\n",
    "                                 (df['OE_timestamp'] <= row['saccade_end_timestamp'])]\n",
    "        distance_traveled = saccade_samples['speed_r'].sum()\n",
    "        if speed_profile:\n",
    "            saccade_speed_profile = saccade_samples['speed_r'].values\n",
    "            speed_list.append(saccade_speed_profile)\n",
    "        saccade_diameter_profile = saccade_samples['pupil_diameter'].values\n",
    "        diameter_list.append(saccade_diameter_profile)\n",
    "        # Calculate angle from initial position to endpoint\n",
    "        initial_position = saccade_samples.iloc[0][['center_x', 'center_y']]\n",
    "        endpoint = saccade_samples.iloc[-1][['center_x', 'center_y']]\n",
    "        overall_angle = np.arctan2(endpoint['center_y'] - initial_position['center_y'],\n",
    "                                   endpoint['center_x'] - initial_position['center_x'])\n",
    "\n",
    "        angles.append(overall_angle)\n",
    "        distances.append(distance_traveled)\n",
    "\n",
    "    saccade_events_df['magnitude_raw'] = np.array(distances)\n",
    "    saccade_events_df['magnitude'] = np.array(distances) * magnitude_calib\n",
    "    saccade_events_df['angle'] = np.where(np.isnan(angles), angles, np.rad2deg(\n",
    "        angles) % 360)  # Convert radians to degrees and ensure result is in [0, 360)\n",
    "    start_ts = saccade_events_df['saccade_start_timestamp'].values\n",
    "    end_ts = saccade_events_df['saccade_end_timestamp'].values\n",
    "    saccade_start_df = df[df['OE_timestamp'].isin(start_ts)]\n",
    "    saccade_end_df = df[df['OE_timestamp'].isin(end_ts)]\n",
    "    start_x_coord = saccade_start_df['center_x']\n",
    "    start_y_coord = saccade_start_df['center_y']\n",
    "    end_x_coord = saccade_end_df['center_x']\n",
    "    end_y_coord = saccade_end_df['center_y']\n",
    "    saccade_events_df['initial_x'] = start_x_coord.values\n",
    "    saccade_events_df['initial_y'] = start_y_coord.values\n",
    "    saccade_events_df['end_x'] = end_x_coord.values\n",
    "    saccade_events_df['end_y'] = end_y_coord.values\n",
    "    saccade_events_df['calib_dx'] = (saccade_events_df['end_x'].values - saccade_events_df[\n",
    "        'initial_x'].values) * magnitude_calib\n",
    "    saccade_events_df['calib_dy'] = (saccade_events_df['end_y'].values - saccade_events_df[\n",
    "        'initial_y'].values) * magnitude_calib\n",
    "    if speed_profile:\n",
    "        saccade_events_df['speed_profile'] = speed_list\n",
    "    saccade_events_df['diameter_profile'] = diameter_list\n",
    "    if bokeh_verify_threshold:\n",
    "        bokeh_plotter(data_list=[df.speed_r], label_list=['Pupil Velocity'], peaks=saccade_on_inds)\n",
    "\n",
    "    return df, saccade_events_df\n",
    "\n",
    "\n",
    "# create a multi-animal block_collection:\n",
    "\n",
    "def create_block_collections(animals, block_lists, experiment_path, bad_blocks=None):\n",
    "    \"\"\"\n",
    "    Create block collections and a block dictionary from multiple animals and their respective block lists.\n",
    "\n",
    "    Parameters:\n",
    "    - animals: list of str, names of the animals.\n",
    "    - block_lists: list of lists of int, block numbers corresponding to each animal.\n",
    "    - experiment_path: pathlib.Path, path to the experiment directory.\n",
    "    - bad_blocks: list of int, blocks to exclude. Default is an empty list.\n",
    "\n",
    "    Returns:\n",
    "    - block_collection: list of BlockSync objects for all specified blocks.\n",
    "    - block_dict: dictionary where keys are block numbers as strings and values are BlockSync objects.\n",
    "    \"\"\"\n",
    "    import UtilityFunctions_newOE as uf\n",
    "\n",
    "    if bad_blocks is None:\n",
    "        bad_blocks = []\n",
    "\n",
    "    block_collection = []\n",
    "    block_dict = {}\n",
    "\n",
    "    for animal, blocks in zip(animals, block_lists):\n",
    "        # Generate blocks for the current animal\n",
    "        current_blocks = uf.block_generator(\n",
    "            block_numbers=blocks,\n",
    "            experiment_path=experiment_path,\n",
    "            animal=animal,\n",
    "            bad_blocks=bad_blocks\n",
    "        )\n",
    "        # Add to collection and dictionary\n",
    "        block_collection.extend(current_blocks)\n",
    "        for b in current_blocks:\n",
    "            block_dict[f\"{animal}_block_{b.block_num}\"] = b\n",
    "\n",
    "    return block_collection, block_dict\n",
    "\n",
    "\n",
    "# Example usage:\n",
    "animals = ['PV_126', 'PV_62', 'PV_57']\n",
    "block_lists = [[7, 8, 9, 10,11,12], [23, 24, 38], [7, 8, 9, 12]]\n",
    "experiment_path = pathlib.Path(r\"Z:\\Nimrod\\experiments\")\n",
    "bad_blocks = [0]  # Example of bad blocks\n",
    "\n",
    "block_collection, block_dict = create_block_collections(\n",
    "    animals=animals,\n",
    "    block_lists=block_lists,\n",
    "    experiment_path=experiment_path,\n",
    "    bad_blocks=bad_blocks\n",
    ")\n",
    "for block in block_collection:\n",
    "    block.parse_open_ephys_events()\n",
    "    block.get_eye_brightness_vectors()\n",
    "    block.synchronize_block()\n",
    "    block.create_eye_brightness_df(threshold_value=20)\n",
    "\n",
    "    # if the code fails here, go to manual synchronization\n",
    "    block.import_manual_sync_df()\n",
    "    block.read_dlc_data()\n",
    "    block.calibrate_pixel_size(10)\n",
    "    #load_eye_data_2d_w_rotation_matrix(block) #should be integrated again... later\n",
    "\n",
    "    for block in block_collection:\n",
    "        block.left_eye_data = pd.read_csv(block.analysis_path / f'left_eye_data_corr_angles.csv')\n",
    "        block.right_eye_data = pd.read_csv(block.analysis_path / 'right_eye_data_corr_angles.csv')\n",
    "\n",
    "    # calibrate pupil diameter:\n",
    "    if 'pupil_diameter' not in block.left_eye_data.columns:\n",
    "        block.left_eye_data['pupil_diameter_pixels'] = block.left_eye_data.major_ax * 2 * np.pi\n",
    "        block.right_eye_data['pupil_diameter_pixels'] = block.right_eye_data.major_ax * 2 * np.pi\n",
    "        block.left_eye_data['pupil_diameter'] = block.left_eye_data['pupil_diameter_pixels'] * block.L_pix_size\n",
    "        block.right_eye_data['pupil_diameter'] = block.right_eye_data['pupil_diameter_pixels'] * block.R_pix_size"
   ],
   "id": "bfcefed41490b5ad"
  },
  {
   "metadata": {},
   "cell_type": "code",
   "outputs": [],
   "execution_count": null,
   "source": [
    "for block in block_collection:\n",
    "    block.left_eye_data.drop(columns=['k_phi', 'k_theta'], inplace=True)\n",
    "    block.right_eye_data.drop(columns=['k_phi', 'k_theta'], inplace=True)\n",
    "    # then rename in-place\n",
    "    block.left_eye_data = block.left_eye_data.rename(columns={'corr_phi': 'k_phi', 'corr_theta': 'k_theta'})\n",
    "    block.right_eye_data = block.right_eye_data.rename(columns={'corr_phi': 'k_phi', 'corr_theta': 'k_theta'})"
   ],
   "id": "fafb5e425204bd10"
  },
  {
   "metadata": {
    "ExecuteTime": {
     "end_time": "2025-05-25T15:42:02.953450Z",
     "start_time": "2025-05-25T15:42:02.926075Z"
    }
   },
   "cell_type": "code",
   "source": [
    "import numpy as np\n",
    "import pandas as pd\n",
    "from tqdm import tqdm\n",
    "\n",
    "try:\n",
    "    from bokeh_plotter import bokeh_plotter\n",
    "except ImportError:\n",
    "    bokeh_plotter = None\n",
    "\n",
    "\n",
    "def create_saccade_events_combined(\n",
    "    eye_data_df,\n",
    "    speed_threshold,\n",
    "    directional_delta_threshold_deg=25,\n",
    "    magnitude_calib=1,\n",
    "    speed_profile=True,\n",
    "    min_subsaccade_samples=2,\n",
    "    min_net_disp=0.5,\n",
    "    bokeh_verify_threshold=False\n",
    "):\n",
    "    \"\"\"\n",
    "    Combined saccade detection and analysis using pixel-speed-based onset/offset\n",
    "    with optional directional segmentation and angular metrics.\n",
    "\n",
    "    Parameters:\n",
    "      eye_data_df (pd.DataFrame): Must contain at least these columns:\n",
    "          'center_x', 'center_y', 'k_phi', 'k_theta', 'OE_timestamp', 'ms_axis', 'pupil_diameter'\n",
    "      speed_threshold (float): Pixel-speed threshold for saccade detection.\n",
    "      directional_delta_threshold_deg (float): Threshold for change in instantaneous angular direction (degrees).\n",
    "      magnitude_calib (float): Calibration factor applied to pixel magnitudes.\n",
    "      speed_profile (bool): If True, record pixel and angular speed profiles for each segment.\n",
    "      min_subsaccade_samples (int): Minimum samples for a valid segment.\n",
    "      min_net_disp (float): Minimal net angular displacement (degrees) to keep a segment.\n",
    "      bokeh_verify_threshold (bool): If True and bokeh_plotter available, plot speed_r and mark detected onsets.\n",
    "\n",
    "    Returns:\n",
    "      df (pd.DataFrame): Original DataFrame copy with added columns:\n",
    "          'speed_x', 'speed_y', 'speed_r', 'angular_speed_phi', 'angular_speed_theta', 'angular_speed_r'\n",
    "      saccade_events_df (pd.DataFrame): Rows for each valid subsaccade segment with columns:\n",
    "          'saccade_start_ind', 'saccade_end_ind', 'saccade_start_timestamp', 'saccade_end_timestamp',\n",
    "          'saccade_on_ms', 'saccade_off_ms', 'length',\n",
    "          'magnitude_raw_pixel', 'magnitude_pixel', 'magnitude_raw_angular',\n",
    "          'overall_angle_pixel', 'overall_angle_angular', 'net_angular_disp',\n",
    "          'initial_x', 'initial_y', 'end_x', 'end_y', 'calib_dx', 'calib_dy',\n",
    "          'phi_init_pos', 'phi_end_pos', 'theta_init_pos', 'theta_end_pos',\n",
    "          'delta_phi', 'delta_theta',\n",
    "          'speed_profile_pixel', 'speed_profile_pixel_calib', 'speed_profile_angular', 'diameter_profile'\n",
    "    \"\"\"\n",
    "    # Copy to avoid modifying original\n",
    "    df = eye_data_df.copy()\n",
    "\n",
    "    # 1. Pixel-speed metrics\n",
    "    df['speed_x'] = df['center_x'].diff()\n",
    "    df['speed_y'] = df['center_y'].diff()\n",
    "    df['speed_r'] = np.hypot(df['speed_x'], df['speed_y'])\n",
    "\n",
    "    # 2. Angular-speed metrics (requires k_phi, k_theta in degrees)\n",
    "    df['angular_speed_phi'] = df['k_phi'].diff()\n",
    "    df['angular_speed_theta'] = df['k_theta'].diff()\n",
    "    df['angular_speed_r'] = np.hypot(df['angular_speed_phi'], df['angular_speed_theta'])\n",
    "\n",
    "    # 3. Detect saccade spans based on pixel speed\n",
    "    df['is_saccade'] = df['speed_r'] > speed_threshold\n",
    "    on_off = df['is_saccade'].astype(int) - df['is_saccade'].shift(fill_value=0).astype(int)\n",
    "    saccade_on_inds = np.where(on_off == 1)[0] - 1\n",
    "    saccade_off_inds = np.where(on_off == -1)[0]\n",
    "\n",
    "    # Clip indices\n",
    "    saccade_on_inds = saccade_on_inds[saccade_on_inds >= 0]\n",
    "    if len(saccade_on_inds) > len(saccade_off_inds):\n",
    "        saccade_on_inds = saccade_on_inds[:len(saccade_off_inds)]\n",
    "\n",
    "    # Optional verification\n",
    "    if bokeh_verify_threshold and bokeh_plotter is not None:\n",
    "        bokeh_plotter(data_list=[df['speed_r']], label_list=['Pixel Velocity'], peaks=saccade_on_inds)\n",
    "\n",
    "    # Helper for minimal angular difference\n",
    "    def minimal_angle_diff(a, b):\n",
    "        return ((a - b + 180) % 360) - 180\n",
    "\n",
    "    saccade_events = []\n",
    "\n",
    "    # Process each detected saccade span\n",
    "    for start_i, end_i in zip(saccade_on_inds, saccade_off_inds):\n",
    "        if end_i <= start_i:\n",
    "            continue\n",
    "        span_df = df.iloc[start_i:end_i+1].copy()\n",
    "        if len(span_df) < min_subsaccade_samples:\n",
    "            continue\n",
    "\n",
    "        # Instantaneous angular direction (degrees) as a numpy array\n",
    "        inst_angles = np.degrees(\n",
    "            np.arctan2(span_df['angular_speed_theta'], span_df['angular_speed_phi'])\n",
    "        ).to_numpy()\n",
    "\n",
    "        # Compute diffs for segmentation on the numpy array\n",
    "        diffs = np.array([minimal_angle_diff(inst_angles[i+1], inst_angles[i])\n",
    "                          for i in range(len(inst_angles)-1)])\n",
    "        boundaries = [0] + list(np.where(np.abs(diffs) > directional_delta_threshold_deg)[0] + 1) + [len(span_df)-1]\n",
    "\n",
    "        # Segment into subsaccades\n",
    "        for seg_start, seg_end in zip(boundaries[:-1], boundaries[1:]):\n",
    "            sub = span_df.iloc[seg_start:seg_end+1]\n",
    "            if len(sub) < min_subsaccade_samples:\n",
    "                continue\n",
    "            # Angular net displacement\n",
    "            phi0, theta0 = sub['k_phi'].iloc[0], sub['k_theta'].iloc[0]\n",
    "            phi1, theta1 = sub['k_phi'].iloc[-1], sub['k_theta'].iloc[-1]\n",
    "            net_disp = np.hypot(phi1-phi0, theta1-theta0)\n",
    "            if net_disp < min_net_disp:\n",
    "                continue\n",
    "\n",
    "            # Pixel-based metrics\n",
    "            xv0, yv0 = sub['center_x'].iloc[0], sub['center_y'].iloc[0]\n",
    "            xv1, yv1 = sub['center_x'].iloc[-1], sub['center_y'].iloc[-1]\n",
    "            pixel_angle = (np.degrees(np.arctan2(yv1-yv0, xv1-xv0)) % 360)\n",
    "            mag_raw_pixel = sub['speed_r'].sum()\n",
    "            mag_pixel = mag_raw_pixel * magnitude_calib\n",
    "\n",
    "            # Angular-based metrics\n",
    "            mag_raw_ang = sub['angular_speed_r'].sum()\n",
    "            ang_angle = (np.degrees(np.arctan2(theta1-theta0, phi1-phi0)) % 360)\n",
    "\n",
    "            # Assemble event\n",
    "            event = {\n",
    "                'saccade_start_ind': sub.index[0],\n",
    "                'saccade_end_ind': sub.index[-1],\n",
    "                'saccade_start_timestamp': sub['OE_timestamp'].iloc[0],\n",
    "                'saccade_end_timestamp': sub['OE_timestamp'].iloc[-1],\n",
    "                'saccade_on_ms': sub['ms_axis'].iloc[0],\n",
    "                'saccade_off_ms': sub['ms_axis'].iloc[-1],\n",
    "                'length': sub.index[-1] - sub.index[0],\n",
    "                'magnitude_raw_pixel': mag_raw_pixel,\n",
    "                'magnitude_pixel': mag_pixel,\n",
    "                'magnitude_raw_angular': mag_raw_ang,\n",
    "                'overall_angle_pixel': pixel_angle,\n",
    "                'overall_angle_angular': ang_angle,\n",
    "                'net_angular_disp': net_disp,\n",
    "                'initial_x': xv0,\n",
    "                'initial_y': yv0,\n",
    "                'end_x': xv1,\n",
    "                'end_y': yv1,\n",
    "                'calib_dx': (xv1 - xv0) * magnitude_calib,\n",
    "                'calib_dy': (yv1 - yv0) * magnitude_calib,\n",
    "                'phi_init_pos': phi0,\n",
    "                'phi_end_pos': phi1,\n",
    "                'theta_init_pos': theta0,\n",
    "                'theta_end_pos': theta1,\n",
    "                'delta_phi': phi1 - phi0,\n",
    "                'delta_theta': theta1 - theta0,\n",
    "                'diameter_profile': sub['pupil_diameter'].values\n",
    "            }\n",
    "            if speed_profile:\n",
    "                event['speed_profile_pixel'] = sub['speed_r'].values\n",
    "                event['speed_profile_pixel_calib'] = sub['speed_r'].values * magnitude_calib\n",
    "                event['speed_profile_angular'] = sub['angular_speed_r'].values\n",
    "\n",
    "            saccade_events.append(event)\n",
    "\n",
    "    # Build DataFrame\n",
    "    saccade_events_df = pd.DataFrame(saccade_events)\n",
    "\n",
    "    # Clean up\n",
    "    df.drop(columns=['is_saccade'], inplace=True)\n",
    "\n",
    "    return df, saccade_events_df\n"
   ],
   "id": "a935779557054f8f",
   "outputs": [],
   "execution_count": 10
  },
  {
   "metadata": {
    "ExecuteTime": {
     "end_time": "2025-05-25T15:42:18.134032Z",
     "start_time": "2025-05-25T15:42:03.378491Z"
    }
   },
   "cell_type": "code",
   "source": [
    "# saccade detection and annotation:\n",
    "for block in block_collection:\n",
    "    print(block)\n",
    "    block.left_eye_data, block.l_saccade_df = create_saccade_events_combined(block.left_eye_data,\n",
    "                                                                             speed_threshold=4,\n",
    "                                                                             bokeh_verify_threshold=False,\n",
    "                                                                             magnitude_calib=block.L_pix_size,\n",
    "                                                                             directional_delta_threshold_deg=180)\n",
    "    block.right_eye_data, block.r_saccade_df = create_saccade_events_combined(block.right_eye_data,\n",
    "                                                                              speed_threshold=4,\n",
    "                                                                              bokeh_verify_threshold=False,\n",
    "                                                                              magnitude_calib=block.R_pix_size,\n",
    "                                                                              directional_delta_threshold_deg=180)"
   ],
   "id": "92c1f257ed7d8cfb",
   "outputs": [
    {
     "name": "stdout",
     "output_type": "stream",
     "text": [
      "PV_126, block 007, on PV126_Trial16_wake3_2024-07-18_12-49-12\n"
     ]
    },
    {
     "name": "stderr",
     "output_type": "stream",
     "text": [
      "<ipython-input-10-8cf5101e4ef5>:79: RuntimeWarning: invalid value encountered in double_scalars\n",
      "  return ((a - b + 180) % 360) - 180\n",
      "<ipython-input-10-8cf5101e4ef5>:116: RuntimeWarning: invalid value encountered in double_scalars\n",
      "  pixel_angle = (np.degrees(np.arctan2(yv1-yv0, xv1-xv0)) % 360)\n",
      "<ipython-input-10-8cf5101e4ef5>:122: RuntimeWarning: invalid value encountered in double_scalars\n",
      "  ang_angle = (np.degrees(np.arctan2(theta1-theta0, phi1-phi0)) % 360)\n",
      "<ipython-input-10-8cf5101e4ef5>:79: RuntimeWarning: invalid value encountered in double_scalars\n",
      "  return ((a - b + 180) % 360) - 180\n",
      "<ipython-input-10-8cf5101e4ef5>:116: RuntimeWarning: invalid value encountered in double_scalars\n",
      "  pixel_angle = (np.degrees(np.arctan2(yv1-yv0, xv1-xv0)) % 360)\n",
      "<ipython-input-10-8cf5101e4ef5>:122: RuntimeWarning: invalid value encountered in double_scalars\n",
      "  ang_angle = (np.degrees(np.arctan2(theta1-theta0, phi1-phi0)) % 360)\n"
     ]
    },
    {
     "name": "stdout",
     "output_type": "stream",
     "text": [
      "PV_126, block 008, on PV126_Trial16_wake4_2024-07-18_13-24-41\n"
     ]
    },
    {
     "name": "stderr",
     "output_type": "stream",
     "text": [
      "<ipython-input-10-8cf5101e4ef5>:79: RuntimeWarning: invalid value encountered in double_scalars\n",
      "  return ((a - b + 180) % 360) - 180\n",
      "<ipython-input-10-8cf5101e4ef5>:116: RuntimeWarning: invalid value encountered in double_scalars\n",
      "  pixel_angle = (np.degrees(np.arctan2(yv1-yv0, xv1-xv0)) % 360)\n",
      "<ipython-input-10-8cf5101e4ef5>:122: RuntimeWarning: invalid value encountered in double_scalars\n",
      "  ang_angle = (np.degrees(np.arctan2(theta1-theta0, phi1-phi0)) % 360)\n",
      "<ipython-input-10-8cf5101e4ef5>:79: RuntimeWarning: invalid value encountered in double_scalars\n",
      "  return ((a - b + 180) % 360) - 180\n",
      "<ipython-input-10-8cf5101e4ef5>:116: RuntimeWarning: invalid value encountered in double_scalars\n",
      "  pixel_angle = (np.degrees(np.arctan2(yv1-yv0, xv1-xv0)) % 360)\n",
      "<ipython-input-10-8cf5101e4ef5>:122: RuntimeWarning: invalid value encountered in double_scalars\n",
      "  ang_angle = (np.degrees(np.arctan2(theta1-theta0, phi1-phi0)) % 360)\n"
     ]
    },
    {
     "name": "stdout",
     "output_type": "stream",
     "text": [
      "PV_126, block 009, on PV126_Trial18_wake5_2024-07-18_14-39-15\n"
     ]
    },
    {
     "name": "stderr",
     "output_type": "stream",
     "text": [
      "<ipython-input-10-8cf5101e4ef5>:79: RuntimeWarning: invalid value encountered in double_scalars\n",
      "  return ((a - b + 180) % 360) - 180\n",
      "<ipython-input-10-8cf5101e4ef5>:116: RuntimeWarning: invalid value encountered in double_scalars\n",
      "  pixel_angle = (np.degrees(np.arctan2(yv1-yv0, xv1-xv0)) % 360)\n",
      "<ipython-input-10-8cf5101e4ef5>:122: RuntimeWarning: invalid value encountered in double_scalars\n",
      "  ang_angle = (np.degrees(np.arctan2(theta1-theta0, phi1-phi0)) % 360)\n",
      "<ipython-input-10-8cf5101e4ef5>:79: RuntimeWarning: invalid value encountered in double_scalars\n",
      "  return ((a - b + 180) % 360) - 180\n",
      "<ipython-input-10-8cf5101e4ef5>:116: RuntimeWarning: invalid value encountered in double_scalars\n",
      "  pixel_angle = (np.degrees(np.arctan2(yv1-yv0, xv1-xv0)) % 360)\n",
      "<ipython-input-10-8cf5101e4ef5>:122: RuntimeWarning: invalid value encountered in double_scalars\n",
      "  ang_angle = (np.degrees(np.arctan2(theta1-theta0, phi1-phi0)) % 360)\n"
     ]
    },
    {
     "name": "stdout",
     "output_type": "stream",
     "text": [
      "PV_126, block 010, on PV126_Trial19_wake6_2024-07-18_15-24-57\n"
     ]
    },
    {
     "name": "stderr",
     "output_type": "stream",
     "text": [
      "<ipython-input-10-8cf5101e4ef5>:79: RuntimeWarning: invalid value encountered in double_scalars\n",
      "  return ((a - b + 180) % 360) - 180\n",
      "<ipython-input-10-8cf5101e4ef5>:116: RuntimeWarning: invalid value encountered in double_scalars\n",
      "  pixel_angle = (np.degrees(np.arctan2(yv1-yv0, xv1-xv0)) % 360)\n",
      "<ipython-input-10-8cf5101e4ef5>:122: RuntimeWarning: invalid value encountered in double_scalars\n",
      "  ang_angle = (np.degrees(np.arctan2(theta1-theta0, phi1-phi0)) % 360)\n",
      "<ipython-input-10-8cf5101e4ef5>:79: RuntimeWarning: invalid value encountered in double_scalars\n",
      "  return ((a - b + 180) % 360) - 180\n",
      "<ipython-input-10-8cf5101e4ef5>:116: RuntimeWarning: invalid value encountered in double_scalars\n",
      "  pixel_angle = (np.degrees(np.arctan2(yv1-yv0, xv1-xv0)) % 360)\n",
      "<ipython-input-10-8cf5101e4ef5>:122: RuntimeWarning: invalid value encountered in double_scalars\n",
      "  ang_angle = (np.degrees(np.arctan2(theta1-theta0, phi1-phi0)) % 360)\n"
     ]
    },
    {
     "name": "stdout",
     "output_type": "stream",
     "text": [
      "PV_126, block 011, on PV126_Trial115_eyeTracking_w7\n"
     ]
    },
    {
     "name": "stderr",
     "output_type": "stream",
     "text": [
      "<ipython-input-10-8cf5101e4ef5>:79: RuntimeWarning: invalid value encountered in double_scalars\n",
      "  return ((a - b + 180) % 360) - 180\n",
      "<ipython-input-10-8cf5101e4ef5>:116: RuntimeWarning: invalid value encountered in double_scalars\n",
      "  pixel_angle = (np.degrees(np.arctan2(yv1-yv0, xv1-xv0)) % 360)\n",
      "<ipython-input-10-8cf5101e4ef5>:122: RuntimeWarning: invalid value encountered in double_scalars\n",
      "  ang_angle = (np.degrees(np.arctan2(theta1-theta0, phi1-phi0)) % 360)\n",
      "<ipython-input-10-8cf5101e4ef5>:79: RuntimeWarning: invalid value encountered in double_scalars\n",
      "  return ((a - b + 180) % 360) - 180\n",
      "<ipython-input-10-8cf5101e4ef5>:116: RuntimeWarning: invalid value encountered in double_scalars\n",
      "  pixel_angle = (np.degrees(np.arctan2(yv1-yv0, xv1-xv0)) % 360)\n",
      "<ipython-input-10-8cf5101e4ef5>:122: RuntimeWarning: invalid value encountered in double_scalars\n",
      "  ang_angle = (np.degrees(np.arctan2(theta1-theta0, phi1-phi0)) % 360)\n"
     ]
    },
    {
     "name": "stdout",
     "output_type": "stream",
     "text": [
      "PV_126, block 012, on PV126_Trial116_eyeTracking_h8\n"
     ]
    },
    {
     "name": "stderr",
     "output_type": "stream",
     "text": [
      "<ipython-input-10-8cf5101e4ef5>:79: RuntimeWarning: invalid value encountered in double_scalars\n",
      "  return ((a - b + 180) % 360) - 180\n",
      "<ipython-input-10-8cf5101e4ef5>:116: RuntimeWarning: invalid value encountered in double_scalars\n",
      "  pixel_angle = (np.degrees(np.arctan2(yv1-yv0, xv1-xv0)) % 360)\n",
      "<ipython-input-10-8cf5101e4ef5>:122: RuntimeWarning: invalid value encountered in double_scalars\n",
      "  ang_angle = (np.degrees(np.arctan2(theta1-theta0, phi1-phi0)) % 360)\n",
      "<ipython-input-10-8cf5101e4ef5>:79: RuntimeWarning: invalid value encountered in double_scalars\n",
      "  return ((a - b + 180) % 360) - 180\n",
      "<ipython-input-10-8cf5101e4ef5>:116: RuntimeWarning: invalid value encountered in double_scalars\n",
      "  pixel_angle = (np.degrees(np.arctan2(yv1-yv0, xv1-xv0)) % 360)\n",
      "<ipython-input-10-8cf5101e4ef5>:122: RuntimeWarning: invalid value encountered in double_scalars\n",
      "  ang_angle = (np.degrees(np.arctan2(theta1-theta0, phi1-phi0)) % 360)\n"
     ]
    },
    {
     "name": "stdout",
     "output_type": "stream",
     "text": [
      "PV_62, block 023, on 2023-04-27_10-52-42\n"
     ]
    },
    {
     "name": "stderr",
     "output_type": "stream",
     "text": [
      "<ipython-input-10-8cf5101e4ef5>:79: RuntimeWarning: invalid value encountered in double_scalars\n",
      "  return ((a - b + 180) % 360) - 180\n",
      "<ipython-input-10-8cf5101e4ef5>:116: RuntimeWarning: invalid value encountered in double_scalars\n",
      "  pixel_angle = (np.degrees(np.arctan2(yv1-yv0, xv1-xv0)) % 360)\n",
      "<ipython-input-10-8cf5101e4ef5>:122: RuntimeWarning: invalid value encountered in double_scalars\n",
      "  ang_angle = (np.degrees(np.arctan2(theta1-theta0, phi1-phi0)) % 360)\n",
      "<ipython-input-10-8cf5101e4ef5>:79: RuntimeWarning: invalid value encountered in double_scalars\n",
      "  return ((a - b + 180) % 360) - 180\n",
      "<ipython-input-10-8cf5101e4ef5>:116: RuntimeWarning: invalid value encountered in double_scalars\n",
      "  pixel_angle = (np.degrees(np.arctan2(yv1-yv0, xv1-xv0)) % 360)\n",
      "<ipython-input-10-8cf5101e4ef5>:122: RuntimeWarning: invalid value encountered in double_scalars\n",
      "  ang_angle = (np.degrees(np.arctan2(theta1-theta0, phi1-phi0)) % 360)\n"
     ]
    },
    {
     "name": "stdout",
     "output_type": "stream",
     "text": [
      "PV_62, block 024, on 2023-04-27_11-22-56\n"
     ]
    },
    {
     "name": "stderr",
     "output_type": "stream",
     "text": [
      "<ipython-input-10-8cf5101e4ef5>:79: RuntimeWarning: invalid value encountered in double_scalars\n",
      "  return ((a - b + 180) % 360) - 180\n",
      "<ipython-input-10-8cf5101e4ef5>:116: RuntimeWarning: invalid value encountered in double_scalars\n",
      "  pixel_angle = (np.degrees(np.arctan2(yv1-yv0, xv1-xv0)) % 360)\n",
      "<ipython-input-10-8cf5101e4ef5>:122: RuntimeWarning: invalid value encountered in double_scalars\n",
      "  ang_angle = (np.degrees(np.arctan2(theta1-theta0, phi1-phi0)) % 360)\n",
      "<ipython-input-10-8cf5101e4ef5>:79: RuntimeWarning: invalid value encountered in double_scalars\n",
      "  return ((a - b + 180) % 360) - 180\n",
      "<ipython-input-10-8cf5101e4ef5>:116: RuntimeWarning: invalid value encountered in double_scalars\n",
      "  pixel_angle = (np.degrees(np.arctan2(yv1-yv0, xv1-xv0)) % 360)\n",
      "<ipython-input-10-8cf5101e4ef5>:122: RuntimeWarning: invalid value encountered in double_scalars\n",
      "  ang_angle = (np.degrees(np.arctan2(theta1-theta0, phi1-phi0)) % 360)\n"
     ]
    },
    {
     "name": "stdout",
     "output_type": "stream",
     "text": [
      "PV_62, block 038, on 2023-05-01_13-57-45\n"
     ]
    },
    {
     "name": "stderr",
     "output_type": "stream",
     "text": [
      "<ipython-input-10-8cf5101e4ef5>:79: RuntimeWarning: invalid value encountered in double_scalars\n",
      "  return ((a - b + 180) % 360) - 180\n",
      "<ipython-input-10-8cf5101e4ef5>:116: RuntimeWarning: invalid value encountered in double_scalars\n",
      "  pixel_angle = (np.degrees(np.arctan2(yv1-yv0, xv1-xv0)) % 360)\n",
      "<ipython-input-10-8cf5101e4ef5>:122: RuntimeWarning: invalid value encountered in double_scalars\n",
      "  ang_angle = (np.degrees(np.arctan2(theta1-theta0, phi1-phi0)) % 360)\n",
      "<ipython-input-10-8cf5101e4ef5>:79: RuntimeWarning: invalid value encountered in double_scalars\n",
      "  return ((a - b + 180) % 360) - 180\n",
      "<ipython-input-10-8cf5101e4ef5>:116: RuntimeWarning: invalid value encountered in double_scalars\n",
      "  pixel_angle = (np.degrees(np.arctan2(yv1-yv0, xv1-xv0)) % 360)\n",
      "<ipython-input-10-8cf5101e4ef5>:122: RuntimeWarning: invalid value encountered in double_scalars\n",
      "  ang_angle = (np.degrees(np.arctan2(theta1-theta0, phi1-phi0)) % 360)\n"
     ]
    },
    {
     "name": "stdout",
     "output_type": "stream",
     "text": [
      "PV_57, block 007, on pv_57_day2_03_2024-11-25_15-28-31\n"
     ]
    },
    {
     "name": "stderr",
     "output_type": "stream",
     "text": [
      "<ipython-input-10-8cf5101e4ef5>:79: RuntimeWarning: invalid value encountered in double_scalars\n",
      "  return ((a - b + 180) % 360) - 180\n",
      "<ipython-input-10-8cf5101e4ef5>:116: RuntimeWarning: invalid value encountered in double_scalars\n",
      "  pixel_angle = (np.degrees(np.arctan2(yv1-yv0, xv1-xv0)) % 360)\n",
      "<ipython-input-10-8cf5101e4ef5>:122: RuntimeWarning: invalid value encountered in double_scalars\n",
      "  ang_angle = (np.degrees(np.arctan2(theta1-theta0, phi1-phi0)) % 360)\n",
      "<ipython-input-10-8cf5101e4ef5>:79: RuntimeWarning: invalid value encountered in double_scalars\n",
      "  return ((a - b + 180) % 360) - 180\n",
      "<ipython-input-10-8cf5101e4ef5>:116: RuntimeWarning: invalid value encountered in double_scalars\n",
      "  pixel_angle = (np.degrees(np.arctan2(yv1-yv0, xv1-xv0)) % 360)\n",
      "<ipython-input-10-8cf5101e4ef5>:122: RuntimeWarning: invalid value encountered in double_scalars\n",
      "  ang_angle = (np.degrees(np.arctan2(theta1-theta0, phi1-phi0)) % 360)\n"
     ]
    },
    {
     "name": "stdout",
     "output_type": "stream",
     "text": [
      "PV_57, block 008, on pv_57_day2_05_2024-11-25_16-07-18\n"
     ]
    },
    {
     "name": "stderr",
     "output_type": "stream",
     "text": [
      "<ipython-input-10-8cf5101e4ef5>:79: RuntimeWarning: invalid value encountered in double_scalars\n",
      "  return ((a - b + 180) % 360) - 180\n",
      "<ipython-input-10-8cf5101e4ef5>:116: RuntimeWarning: invalid value encountered in double_scalars\n",
      "  pixel_angle = (np.degrees(np.arctan2(yv1-yv0, xv1-xv0)) % 360)\n",
      "<ipython-input-10-8cf5101e4ef5>:122: RuntimeWarning: invalid value encountered in double_scalars\n",
      "  ang_angle = (np.degrees(np.arctan2(theta1-theta0, phi1-phi0)) % 360)\n",
      "<ipython-input-10-8cf5101e4ef5>:79: RuntimeWarning: invalid value encountered in double_scalars\n",
      "  return ((a - b + 180) % 360) - 180\n",
      "<ipython-input-10-8cf5101e4ef5>:116: RuntimeWarning: invalid value encountered in double_scalars\n",
      "  pixel_angle = (np.degrees(np.arctan2(yv1-yv0, xv1-xv0)) % 360)\n",
      "<ipython-input-10-8cf5101e4ef5>:122: RuntimeWarning: invalid value encountered in double_scalars\n",
      "  ang_angle = (np.degrees(np.arctan2(theta1-theta0, phi1-phi0)) % 360)\n"
     ]
    },
    {
     "name": "stdout",
     "output_type": "stream",
     "text": [
      "PV_57, block 009, on pv_57_day2_06_2024-11-25_16-25-35\n"
     ]
    },
    {
     "name": "stderr",
     "output_type": "stream",
     "text": [
      "<ipython-input-10-8cf5101e4ef5>:79: RuntimeWarning: invalid value encountered in double_scalars\n",
      "  return ((a - b + 180) % 360) - 180\n",
      "<ipython-input-10-8cf5101e4ef5>:116: RuntimeWarning: invalid value encountered in double_scalars\n",
      "  pixel_angle = (np.degrees(np.arctan2(yv1-yv0, xv1-xv0)) % 360)\n",
      "<ipython-input-10-8cf5101e4ef5>:122: RuntimeWarning: invalid value encountered in double_scalars\n",
      "  ang_angle = (np.degrees(np.arctan2(theta1-theta0, phi1-phi0)) % 360)\n",
      "<ipython-input-10-8cf5101e4ef5>:79: RuntimeWarning: invalid value encountered in double_scalars\n",
      "  return ((a - b + 180) % 360) - 180\n",
      "<ipython-input-10-8cf5101e4ef5>:116: RuntimeWarning: invalid value encountered in double_scalars\n",
      "  pixel_angle = (np.degrees(np.arctan2(yv1-yv0, xv1-xv0)) % 360)\n",
      "<ipython-input-10-8cf5101e4ef5>:122: RuntimeWarning: invalid value encountered in double_scalars\n",
      "  ang_angle = (np.degrees(np.arctan2(theta1-theta0, phi1-phi0)) % 360)\n"
     ]
    },
    {
     "name": "stdout",
     "output_type": "stream",
     "text": [
      "PV_57, block 012, on PV_57_hunter_2_2024-12-01_16-08-39\n"
     ]
    },
    {
     "name": "stderr",
     "output_type": "stream",
     "text": [
      "<ipython-input-10-8cf5101e4ef5>:79: RuntimeWarning: invalid value encountered in double_scalars\n",
      "  return ((a - b + 180) % 360) - 180\n",
      "<ipython-input-10-8cf5101e4ef5>:116: RuntimeWarning: invalid value encountered in double_scalars\n",
      "  pixel_angle = (np.degrees(np.arctan2(yv1-yv0, xv1-xv0)) % 360)\n",
      "<ipython-input-10-8cf5101e4ef5>:122: RuntimeWarning: invalid value encountered in double_scalars\n",
      "  ang_angle = (np.degrees(np.arctan2(theta1-theta0, phi1-phi0)) % 360)\n",
      "<ipython-input-10-8cf5101e4ef5>:79: RuntimeWarning: invalid value encountered in double_scalars\n",
      "  return ((a - b + 180) % 360) - 180\n",
      "<ipython-input-10-8cf5101e4ef5>:116: RuntimeWarning: invalid value encountered in double_scalars\n",
      "  pixel_angle = (np.degrees(np.arctan2(yv1-yv0, xv1-xv0)) % 360)\n",
      "<ipython-input-10-8cf5101e4ef5>:122: RuntimeWarning: invalid value encountered in double_scalars\n",
      "  ang_angle = (np.degrees(np.arctan2(theta1-theta0, phi1-phi0)) % 360)\n"
     ]
    }
   ],
   "execution_count": 11
  },
  {
   "metadata": {
    "ExecuteTime": {
     "end_time": "2025-05-25T15:43:02.830302Z",
     "start_time": "2025-05-25T15:43:01.559752Z"
    }
   },
   "cell_type": "code",
   "source": [
    "### over here, I get the lizard movements binary from mark's analysis\n",
    "import os\n",
    "def block_get_lizard_movement(block):\n",
    "    # collect accelerometer data\n",
    "    # path definition\n",
    "    p = block.oe_path / 'analysis'\n",
    "    analysis_list = os.listdir(p)\n",
    "    correct_analysis = [i for i in analysis_list if block.animal_call in i][0]\n",
    "    p = p / str(correct_analysis)\n",
    "    mat_path = p / 'lizMov.mat'\n",
    "    print(f'path to mat file is {mat_path}')\n",
    "    # read mat file\n",
    "    try:\n",
    "        mat_data = h5py.File(str(mat_path), 'r')\n",
    "        mat_dict = {'t_mov_ms': mat_data['t_mov_ms'][:],\n",
    "                    'movAll': mat_data['movAll'][:]}\n",
    "\n",
    "        acc_df = pd.DataFrame(data=np.array([mat_dict['t_mov_ms'][:, 0], mat_dict['movAll'][:, 0]]).T,\n",
    "                              columns=['t_mov_ms', 'movAll'])\n",
    "        mat_data.close()\n",
    "        block.liz_mov_df = acc_df\n",
    "        print(f'liz_mov_df created for {block}')\n",
    "    except FileNotFoundError:\n",
    "        print('mat file does not exist - run the matlab getLizMovement function')\n",
    "\n",
    "    return\n",
    "\n",
    "\n",
    "# this cell now labels the saccades as with/without head movements\n",
    "def get_head_mov_col(df, mov_times):\n",
    "    head_mov_bool = np.zeros(len(df), dtype=bool)  # Initialize array of False\n",
    "\n",
    "    for i, saccade in enumerate(df.itertuples()):\n",
    "        saccade_start = saccade.saccade_on_ms\n",
    "        saccade_end = saccade.saccade_off_ms\n",
    "\n",
    "        overlapping_mov_times = mov_times[np.logical_and(mov_times >= saccade_start, mov_times <= saccade_end)]\n",
    "\n",
    "        if overlapping_mov_times.size > 0:\n",
    "            head_mov_bool[i] = True\n",
    "\n",
    "    df['head_movement'] = head_mov_bool\n",
    "    return df\n",
    "\n",
    "def label_saccade_movements(block):\n",
    "    mov_times = block.liz_mov_df.t_mov_ms.values\n",
    "    block.l_saccade_df = get_head_mov_col(block.l_saccade_df,mov_times=mov_times)\n",
    "    block.r_saccade_df = get_head_mov_col(block.r_saccade_df,mov_times=mov_times)\n",
    "\n",
    "# Create a list to store blocks where movement data exists\n",
    "block_collection_w_mov = []\n",
    "\n",
    "for block in block_collection:\n",
    "    try:\n",
    "        block_get_lizard_movement(block)  # Try loading movement data\n",
    "        label_saccade_movements(block)    # Try labeling saccades\n",
    "\n",
    "        # If both steps succeed, add block to the valid collection\n",
    "        block_collection_w_mov.append(block)\n",
    "\n",
    "    except (FileNotFoundError, OSError) as e:\n",
    "        print(f\"Skipping block {block}: {str(e)}\")  # Notify which block failed\n"
   ],
   "id": "f393cfada22fa1f5",
   "outputs": [
    {
     "name": "stdout",
     "output_type": "stream",
     "text": [
      "path to mat file is Z:\\Nimrod\\experiments\\PV_126\\2024_07_18\\block_007\\oe_files\\PV126_Trial16_wake3_2024-07-18_12-49-12\\Record Node 102\\analysis\\Animal=PV_126,recNames=block_007\\lizMov.mat\n",
      "liz_mov_df created for PV_126, block 007, on PV126_Trial16_wake3_2024-07-18_12-49-12\n",
      "path to mat file is Z:\\Nimrod\\experiments\\PV_126\\2024_07_18\\block_008\\oe_files\\PV126_Trial16_wake4_2024-07-18_13-24-41\\Record Node 102\\analysis\\recNames=block_008,Animal=PV_126\\lizMov.mat\n",
      "liz_mov_df created for PV_126, block 008, on PV126_Trial16_wake4_2024-07-18_13-24-41\n",
      "path to mat file is Z:\\Nimrod\\experiments\\PV_126\\2024_07_18\\block_009\\oe_files\\PV126_Trial18_wake5_2024-07-18_14-39-15\\Record Node 102\\analysis\\recNames=block_009,Animal=PV_126\\lizMov.mat\n",
      "liz_mov_df created for PV_126, block 009, on PV126_Trial18_wake5_2024-07-18_14-39-15\n",
      "path to mat file is Z:\\Nimrod\\experiments\\PV_126\\2024_07_18\\block_010\\oe_files\\PV126_Trial19_wake6_2024-07-18_15-24-57\\Record Node 102\\analysis\\recNames=block_010,Animal=PV_126\\lizMov.mat\n",
      "liz_mov_df created for PV_126, block 010, on PV126_Trial19_wake6_2024-07-18_15-24-57\n",
      "path to mat file is Z:\\Nimrod\\experiments\\PV_126\\2024_08_13\\block_011\\oe_files\\PV126_Trial115_eyeTracking_w7\\Record Node 102\\analysis\\recNames=block_011,Animal=PV_126\\lizMov.mat\n",
      "liz_mov_df created for PV_126, block 011, on PV126_Trial115_eyeTracking_w7\n",
      "path to mat file is Z:\\Nimrod\\experiments\\PV_126\\2024_08_13\\block_012\\oe_files\\PV126_Trial116_eyeTracking_h8\\Record Node 102\\analysis\\recNames=block_012,Animal=PV_126\\lizMov.mat\n",
      "liz_mov_df created for PV_126, block 012, on PV126_Trial116_eyeTracking_h8\n",
      "path to mat file is Z:\\Nimrod\\experiments\\PV_62\\2023_04_27\\block_023\\oe_files\\2023-04-27_10-52-42\\Record Node 108\\analysis\\Animal=PV_62,recNames=Block0023\\lizMov.mat\n",
      "liz_mov_df created for PV_62, block 023, on 2023-04-27_10-52-42\n",
      "path to mat file is Z:\\Nimrod\\experiments\\PV_62\\2023_04_27\\block_024\\oe_files\\2023-04-27_11-22-56\\Record Node 108\\analysis\\recNames=Block0024,Animal=PV_62\\lizMov.mat\n",
      "liz_mov_df created for PV_62, block 024, on 2023-04-27_11-22-56\n",
      "path to mat file is Z:\\Nimrod\\experiments\\PV_62\\2023_05_01\\block_038\\oe_files\\2023-05-01_13-57-45\\Record Node 108\\analysis\\recNames=Block0038,Animal=PV_62\\lizMov.mat\n",
      "liz_mov_df created for PV_62, block 038, on 2023-05-01_13-57-45\n",
      "Skipping block PV_57, block 007, on pv_57_day2_03_2024-11-25_15-28-31: [WinError 3] The system cannot find the path specified: 'Z:\\\\Nimrod\\\\experiments\\\\PV_57\\\\2024_11_25\\\\block_007\\\\oe_files\\\\pv_57_day2_03_2024-11-25_15-28-31\\\\Record Node 102\\\\analysis'\n",
      "Skipping block PV_57, block 008, on pv_57_day2_05_2024-11-25_16-07-18: [WinError 3] The system cannot find the path specified: 'Z:\\\\Nimrod\\\\experiments\\\\PV_57\\\\2024_11_25\\\\block_008\\\\oe_files\\\\pv_57_day2_05_2024-11-25_16-07-18\\\\Record Node 102\\\\analysis'\n",
      "Skipping block PV_57, block 009, on pv_57_day2_06_2024-11-25_16-25-35: [WinError 3] The system cannot find the path specified: 'Z:\\\\Nimrod\\\\experiments\\\\PV_57\\\\2024_11_25\\\\block_009\\\\oe_files\\\\pv_57_day2_06_2024-11-25_16-25-35\\\\Record Node 102\\\\analysis'\n",
      "Skipping block PV_57, block 012, on PV_57_hunter_2_2024-12-01_16-08-39: [WinError 3] The system cannot find the path specified: 'Z:\\\\Nimrod\\\\experiments\\\\PV_57\\\\2024_12_01\\\\block_012\\\\oe_files\\\\PV_57_hunter_2_2024-12-01_16-08-39\\\\Record Node 102\\\\analysis'\n"
     ]
    }
   ],
   "execution_count": 12
  },
  {
   "metadata": {
    "ExecuteTime": {
     "end_time": "2025-05-25T15:44:06.531440Z",
     "start_time": "2025-05-25T15:44:06.458208Z"
    }
   },
   "cell_type": "code",
   "source": [
    "# add annotations for a joint dataframe:\n",
    "for block in block_collection:\n",
    "    block.r_saccade_df['eye'] = 'R'\n",
    "    block.r_saccade_df['block'] = block.block_num\n",
    "    block.r_saccade_df['animal'] = block.animal_call\n",
    "    block.l_saccade_df['eye'] = 'L'\n",
    "    block.l_saccade_df['block'] = block.block_num\n",
    "    block.l_saccade_df['animal'] = block.animal_call\n",
    "    block.all_saccade_df = pd.concat([block.l_saccade_df,block.r_saccade_df])"
   ],
   "id": "1e62fd7edab4c377",
   "outputs": [],
   "execution_count": 13
  },
  {
   "metadata": {
    "ExecuteTime": {
     "end_time": "2025-05-25T15:44:06.967487Z",
     "start_time": "2025-05-25T15:44:06.939491Z"
    }
   },
   "cell_type": "code",
   "source": [
    "saccade_df_list = []\n",
    "for block in block_collection:\n",
    "    saccade_df_list.append(block.all_saccade_df)\n",
    "saccade_collection = pd.concat(saccade_df_list)"
   ],
   "id": "ad3f1fe71954b6e2",
   "outputs": [],
   "execution_count": 14
  },
  {
   "metadata": {
    "ExecuteTime": {
     "end_time": "2025-05-25T15:44:07.433795Z",
     "start_time": "2025-05-25T15:44:07.419798Z"
    }
   },
   "cell_type": "code",
   "source": "len(saccade_collection)",
   "id": "c651fc8a705ef646",
   "outputs": [
    {
     "data": {
      "text/plain": [
       "15952"
      ]
     },
     "execution_count": 15,
     "metadata": {},
     "output_type": "execute_result"
    }
   ],
   "execution_count": 15
  },
  {
   "metadata": {
    "ExecuteTime": {
     "end_time": "2025-05-25T15:44:22.128890Z",
     "start_time": "2025-05-25T15:44:19.901890Z"
    }
   },
   "cell_type": "code",
   "source": [
    "def get_closest_diff_ind(timestamp, timeseries):\n",
    "    \"\"\"\n",
    "    This function extracts a frame from a series so that it is as close as possible to a given timestamp\n",
    "    :param timestamp: The time to match a frame to\n",
    "    :param timeseries: The time frames series to look at for a match\n",
    "    :param report_acc: if set to 1, will report the accuracy of the match\n",
    "    :return: index_of_lowest_diff , accuracy of match (if requested)\n",
    "    \"\"\"\n",
    "    array = np.abs(timeseries - timestamp)\n",
    "    index_of_lowest_diff = np.argmin(array)\n",
    "    lowest_diff_val = timeseries[index_of_lowest_diff]\n",
    "    return index_of_lowest_diff, lowest_diff_val\n",
    "\n",
    "def find_synced_saccades(df, diff_threshold=680):\n",
    "    synced_saccades = []\n",
    "    non_synced_saccades = []\n",
    "    l_df = df.query('eye == \"L\"')\n",
    "    r_df = df.query('eye == \"R\"')\n",
    "    for i, row in tqdm(l_df.iterrows()):\n",
    "        l_timestamp = row['saccade_start_timestamp']\n",
    "        ind_min_diff, r_timestamp = get_closest_diff_ind(l_timestamp, r_df['saccade_start_timestamp'].values)\n",
    "        #print(i,ind_lowest_diff)\n",
    "        time_diff = np.abs(l_timestamp - r_timestamp)\n",
    "        if time_diff < diff_threshold:\n",
    "            synced_saccades.append((row, r_df.iloc[ind_min_diff]))  # Collect synchronized rows\n",
    "        else:\n",
    "            non_synced_saccades.append(row)  # Collect non-synchronized rows\n",
    "    # Create DataFrame with multi-index\n",
    "    multi_index = pd.MultiIndex.from_tuples([(i, 'L') for i in range(len(synced_saccades))] + [(i, 'R') for i in range(len(synced_saccades))], names=['Main', 'Sub'])\n",
    "    synced_df = pd.DataFrame(index=multi_index, columns=df.columns)\n",
    "    # Populate DataFrame\n",
    "    for idx, (l_row, r_row) in enumerate(synced_saccades):\n",
    "        synced_df.loc[(idx, 'L')] = l_row\n",
    "        synced_df.loc[(idx, 'R')] = r_row\n",
    "    r_non_synced_leftovers = r_df[~r_df['saccade_start_timestamp'].isin(synced_df.query('eye == \"R\"')['saccade_start_timestamp'].values)]\n",
    "    print(len(r_non_synced_leftovers),len(r_df))\n",
    "    # Create DataFrame for non-synced saccades\n",
    "    non_synced_df = pd.DataFrame(non_synced_saccades, columns=df.columns)\n",
    "    non_synced_df = pd.concat([non_synced_df,r_non_synced_leftovers])\n",
    "\n",
    "    return synced_df, non_synced_df\n",
    "\n",
    "synced_df_list = []\n",
    "non_synced_df_list = []\n",
    "for saccade_df in saccade_df_list:\n",
    "    # Find synced saccades:\n",
    "    synced_df, non_synced_df = find_synced_saccades(saccade_df.dropna(), diff_threshold=680)\n",
    "    if len(non_synced_df.dropna()) + len(synced_df.dropna()) == len(saccade_df.dropna()):\n",
    "        print('got them all')\n",
    "\n",
    "    synced_df_list.append(synced_df)\n",
    "    non_synced_df_list.append(non_synced_df)\n"
   ],
   "id": "51eac1bf785daea6",
   "outputs": [
    {
     "name": "stderr",
     "output_type": "stream",
     "text": [
      "1155it [00:00, 3468.46it/s]\n",
      "323it [00:00, 7021.77it/s]\n",
      "326it [00:00, 7090.81it/s]"
     ]
    },
    {
     "name": "stdout",
     "output_type": "stream",
     "text": [
      "339 1100\n",
      "183 385\n"
     ]
    },
    {
     "name": "stderr",
     "output_type": "stream",
     "text": [
      "\n",
      "229it [00:00, 7633.28it/s]\n",
      "0it [00:00, ?it/s]"
     ]
    },
    {
     "name": "stdout",
     "output_type": "stream",
     "text": [
      "190 388\n",
      "120 260\n"
     ]
    },
    {
     "name": "stderr",
     "output_type": "stream",
     "text": [
      "935it [00:00, 6977.62it/s]\n",
      "105it [00:00, 7499.65it/s]\n",
      "577it [00:00, 10122.82it/s]\n",
      "0it [00:00, ?it/s]"
     ]
    },
    {
     "name": "stdout",
     "output_type": "stream",
     "text": [
      "364 972\n",
      "49 120\n",
      "130 313\n"
     ]
    },
    {
     "name": "stderr",
     "output_type": "stream",
     "text": [
      "577it [00:00, 7397.43it/s]\n",
      "1021it [00:00, 8368.90it/s]"
     ]
    },
    {
     "name": "stdout",
     "output_type": "stream",
     "text": [
      "199 568\n"
     ]
    },
    {
     "name": "stderr",
     "output_type": "stream",
     "text": [
      "\n",
      "656it [00:00, 5084.14it/s]"
     ]
    },
    {
     "name": "stdout",
     "output_type": "stream",
     "text": [
      "584 1044\n",
      "296 616\n"
     ]
    },
    {
     "name": "stderr",
     "output_type": "stream",
     "text": [
      "\n",
      "621it [00:00, 7759.85it/s]\n",
      "479it [00:00, 8254.20it/s]\n",
      "0it [00:00, ?it/s]"
     ]
    },
    {
     "name": "stdout",
     "output_type": "stream",
     "text": [
      "207 554\n",
      "273 502\n"
     ]
    },
    {
     "name": "stderr",
     "output_type": "stream",
     "text": [
      "576it [00:00, 7781.26it/s]\n"
     ]
    },
    {
     "name": "stdout",
     "output_type": "stream",
     "text": [
      "144 456\n"
     ]
    }
   ],
   "execution_count": 17
  },
  {
   "metadata": {
    "ExecuteTime": {
     "end_time": "2025-05-25T15:44:25.175500Z",
     "start_time": "2025-05-25T15:44:25.131501Z"
    }
   },
   "cell_type": "code",
   "source": [
    "def combine_synced_dataframes(dataframes):\n",
    "    combined_dfs = []\n",
    "    start_index = 0\n",
    "    for df in dataframes:\n",
    "        num_rows = len(df) // 2  # Assuming each dataframe contains pairs of rows\n",
    "        main_index = pd.MultiIndex.from_tuples([(i + start_index, 'L') for i in range(num_rows)] + [(i + start_index, 'R') for i in range(num_rows)], names=['Main', 'Sub'])\n",
    "        df.index = main_index\n",
    "        combined_dfs.append(df)\n",
    "        start_index += num_rows\n",
    "    combined_df = pd.concat(combined_dfs)\n",
    "    combined_df.reset_index(inplace=True)\n",
    "    return combined_df\n",
    "\n",
    "synced_saccade_collection = combine_synced_dataframes(synced_df_list)\n",
    "non_synced_saccade_collection = pd.concat(non_synced_df_list)\n"
   ],
   "id": "f9a7db0f40c35d9c",
   "outputs": [],
   "execution_count": 18
  },
  {
   "metadata": {
    "ExecuteTime": {
     "end_time": "2025-05-25T15:44:25.538267Z",
     "start_time": "2025-05-25T15:44:25.509270Z"
    }
   },
   "cell_type": "code",
   "source": "all_saccade_collection = pd.concat([synced_saccade_collection,non_synced_saccade_collection])\n",
   "id": "9998cd9bf023f644",
   "outputs": [],
   "execution_count": 19
  },
  {
   "metadata": {
    "ExecuteTime": {
     "end_time": "2025-05-25T15:46:40.178630Z",
     "start_time": "2025-05-25T15:46:40.165631Z"
    }
   },
   "cell_type": "code",
   "source": [
    "import pathlib\n",
    "import datetime\n",
    "import numpy as np\n",
    "import matplotlib.pyplot as plt\n",
    "import pickle\n",
    "\n",
    "def create_saccade_polar_histogram_multianimal(saccade_collection,\n",
    "                                               figure_size=(8, 4),\n",
    "                                               export_path=None):\n",
    "    animals = saccade_collection['animal'].unique()\n",
    "    num_bins = 36\n",
    "\n",
    "    fig, axs = plt.subplots(1, 2,\n",
    "                            figsize=figure_size, dpi=150,\n",
    "                            subplot_kw=dict(projection='polar'))\n",
    "    colors = plt.cm.viridis(np.linspace(0, 1, len(animals)))\n",
    "\n",
    "    for color, animal in zip(colors, animals):\n",
    "        df_animal = saccade_collection.query('animal == @animal')\n",
    "\n",
    "        # --- Right eye ---\n",
    "        angles_r = df_animal.query('eye == \"R\"')['overall_angle_angular']\n",
    "        hist_r, edges_r = np.histogram(angles_r,\n",
    "                                       bins=num_bins,\n",
    "                                       range=(0, 360),\n",
    "                                       density=True)\n",
    "\n",
    "        # compute mid‐bin centers as a float64 array\n",
    "        centers_r = (edges_r[:-1] + edges_r[1:]) / 2.0\n",
    "        centers_r = np.asarray(centers_r, dtype=float)\n",
    "\n",
    "        # manual deg→rad\n",
    "        theta_r = centers_r * (np.pi / 180.0)\n",
    "\n",
    "        # close the loop\n",
    "        theta_r = np.concatenate([theta_r, theta_r[:1]])\n",
    "        hist_r   = np.concatenate([hist_r,   hist_r[:1]])\n",
    "\n",
    "        axs[0].plot(theta_r, hist_r,\n",
    "                    label=f\"{animal} ({len(angles_r)})\",\n",
    "                    color=color)\n",
    "\n",
    "        # --- Left eye (same) ---\n",
    "        angles_l = df_animal.query('eye == \"L\"')['overall_angle_angular']\n",
    "        hist_l, edges_l = np.histogram(angles_l,\n",
    "                                       bins=num_bins,\n",
    "                                       range=(0, 360),\n",
    "                                       density=True)\n",
    "\n",
    "        centers_l = (edges_l[:-1] + edges_l[1:]) / 2.0\n",
    "        centers_l = np.asarray(centers_l, dtype=float)\n",
    "        theta_l   = centers_l * (np.pi / 180.0)\n",
    "\n",
    "        theta_l = np.concatenate([theta_l, theta_l[:1]])\n",
    "        hist_l  = np.concatenate([hist_l,  hist_l[:1]])\n",
    "\n",
    "        axs[1].plot(theta_l, hist_l,\n",
    "                    label=f\"{animal} ({len(angles_l)})\",\n",
    "                    color=color)\n",
    "\n",
    "    # format\n",
    "    for ax in axs:\n",
    "        ax.legend(loc='upper right',\n",
    "                  bbox_to_anchor=(1.2, 1.1),\n",
    "                  fontsize=6)\n",
    "        ax.set_yticks([])\n",
    "        ax.grid(False)\n",
    "\n",
    "    plt.tight_layout()\n",
    "\n",
    "    if export_path:\n",
    "        ts = datetime.datetime.now().strftime(\"%Y_%m_%d_%H_%M\")\n",
    "        outdir = pathlib.Path(export_path) / f\"{ts}_MultiAnimal_Saccade_Histogram\"\n",
    "        outdir.mkdir(parents=True, exist_ok=True)\n",
    "\n",
    "        pdf = outdir / f\"{ts}_saccade_angles_histogram.pdf\"\n",
    "        plt.savefig(pdf)\n",
    "        print(\"Exported histogram to\", pdf)\n",
    "\n",
    "        pkl = outdir / f\"{ts}_saccade_angles_data.pkl\"\n",
    "        with open(pkl, 'wb') as f:\n",
    "            pickle.dump(saccade_collection, f)\n",
    "        print(\"Exported data to\", pkl)\n",
    "\n",
    "    plt.show()\n"
   ],
   "id": "e9a2aeafe01f11ae",
   "outputs": [],
   "execution_count": 24
  },
  {
   "metadata": {
    "ExecuteTime": {
     "end_time": "2025-05-25T15:46:41.469732Z",
     "start_time": "2025-05-25T15:46:41.253915Z"
    }
   },
   "cell_type": "code",
   "source": "create_saccade_polar_histogram_multianimal(synced_saccade_collection, (5,4),export_path=None)",
   "id": "d6c5ced1e4c0ff92",
   "outputs": [
    {
     "data": {
      "text/plain": [
       "<Figure size 750x600 with 2 Axes>"
      ],
      "image/png": "[encoded data removed]"
     },
     "metadata": {},
     "output_type": "display_data"
    }
   ],
   "execution_count": 25
  },
  {
   "metadata": {
    "ExecuteTime": {
     "end_time": "2025-05-25T15:49:10.156267Z",
     "start_time": "2025-05-25T15:49:10.142291Z"
    }
   },
   "cell_type": "code",
   "source": [
    "import os\n",
    "import pathlib\n",
    "import datetime\n",
    "import numpy as np\n",
    "import matplotlib.pyplot as plt\n",
    "import pickle\n",
    "\n",
    "def create_saccade_polar_histogram_multianimal_xy(saccade_collection, figure_size=(8, 4), export_path=None):\n",
    "    # Extract unique animals\n",
    "    animals = saccade_collection['animal'].unique()\n",
    "    num_bins = 36\n",
    "\n",
    "    # Set up the polar plots\n",
    "    fig, axs = plt.subplots(1, 2, figsize=figure_size, dpi=150, subplot_kw=dict(projection='polar'))\n",
    "    colors = plt.cm.viridis(np.linspace(0, 1, len(animals)))  # Unique colors for each animal\n",
    "\n",
    "    # Iterate through each animal\n",
    "    for color, animal in zip(colors, animals):\n",
    "        # Filter saccades for the current animal\n",
    "        animal_saccades = saccade_collection.query('animal == @animal')\n",
    "\n",
    "        # Process right eye\n",
    "        saccade_angles_r = animal_saccades.query('eye == \"R\"')['overall_angle_pixel']\n",
    "        hist_r, bin_edges_r = np.histogram(saccade_angles_r, bins=num_bins, range=(0, 360), density=True)\n",
    "        bin_centers_r = list(np.array((bin_edges_r[:-1] + bin_edges_r[1:]) / 2).astype(int))\n",
    "        axs[0].plot(\n",
    "            np.deg2rad(bin_centers_r), hist_r,\n",
    "            label=f'{animal} ({len(saccade_angles_r)} saccades)',\n",
    "            color=color\n",
    "        )\n",
    "\n",
    "        # Process left eye\n",
    "        saccade_angles_l = animal_saccades.query('eye == \"L\"')['overall_angle_pixel']\n",
    "        hist_l, bin_edges_l = np.histogram(saccade_angles_l, bins=num_bins, range=(0, 360), density=True)\n",
    "        bin_centers_l = list(np.array((bin_edges_l[:-1] + bin_edges_l[1:]) / 2).astype(int))\n",
    "        axs[1].plot(\n",
    "            np.deg2rad(bin_centers_l), hist_l,\n",
    "            label=f'{animal} ({len(saccade_angles_l)} saccades)',\n",
    "            color=color\n",
    "        )\n",
    "\n",
    "    # Format plots\n",
    "    for ax, title in zip(axs, ['Right Eye', 'Left Eye']):\n",
    "        ax.legend(loc='upper right', bbox_to_anchor=(1.2, 1.1), fontsize=6)\n",
    "        #ax.set_title(f'{title} Saccades', va='bottom')\n",
    "        ax.grid(False)\n",
    "\n",
    "        ax.set_yticks([])\n",
    "\n",
    "    plt.tight_layout()\n",
    "\n",
    "    # Save the figure if export_path is provided\n",
    "    if export_path:\n",
    "        timestamp = datetime.datetime.now().strftime(\"%Y_%m_%d_%H_%M\")\n",
    "        export_dir = pathlib.Path(export_path) / f'{timestamp}_MultiAnimal_Saccade_Histogram'\n",
    "        export_dir.mkdir(parents=True, exist_ok=True)\n",
    "\n",
    "        # Save PDF\n",
    "        export_file_pdf = export_dir / f'{timestamp}_saccade_angles_histogram.pdf'\n",
    "        plt.savefig(export_file_pdf, format='pdf')\n",
    "        print(f\"Exported histogram to {export_file_pdf}\")\n",
    "\n",
    "        # Save Pickle\n",
    "        export_file_pkl = export_dir / f'{timestamp}_saccade_angles_data.pkl'\n",
    "        with open(export_file_pkl, 'wb') as pkl_file:\n",
    "            pickle.dump(saccade_collection, pkl_file)\n",
    "        print(f\"Exported data to {export_file_pkl}\")\n",
    "\n",
    "    plt.show()\n"
   ],
   "id": "53c9cecbc36db53a",
   "outputs": [],
   "execution_count": 28
  },
  {
   "metadata": {
    "ExecuteTime": {
     "end_time": "2025-05-25T15:49:11.619226Z",
     "start_time": "2025-05-25T15:49:11.403227Z"
    }
   },
   "cell_type": "code",
   "source": "create_saccade_polar_histogram_multianimal_xy(all_saccade_collection, (5,4),export_path=None)",
   "id": "e446d78490b685af",
   "outputs": [
    {
     "data": {
      "text/plain": [
       "<Figure size 750x600 with 2 Axes>"
      ],
      "image/png": "[encoded data removed]"
     },
     "metadata": {},
     "output_type": "display_data"
    }
   ],
   "execution_count": 29
  },
  {
   "metadata": {},
   "cell_type": "code",
   "outputs": [],
   "execution_count": null,
   "source": "",
   "id": "561a1b12e982cfe0"
  }
 ],
 "metadata": {
  "kernelspec": {
   "display_name": "Python 3",
   "language": "python",
   "name": "python3"
  },
  "language_info": {
   "codemirror_mode": {
    "name": "ipython",
    "version": 2
   },
   "file_extension": ".py",
   "mimetype": "text/x-python",
   "name": "python",
   "nbconvert_exporter": "python",
   "pygments_lexer": "ipython2",
   "version": "2.7.6"
  }
 },
 "nbformat": 4,
 "nbformat_minor": 5
}
