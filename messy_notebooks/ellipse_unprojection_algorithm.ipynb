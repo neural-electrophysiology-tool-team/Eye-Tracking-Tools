{
 "cells": [
  {
   "cell_type": "code",
   "execution_count": 1,
   "metadata": {
    "collapsed": true
   },
   "outputs": [],
   "source": [
    "import numpy as np\n",
    "import pathlib\n",
    "import math\n",
    "import tqdm\n",
    "import scipy.io\n",
    "from matplotlib import pyplot as plt\n",
    "import scipy.io\n",
    "import h5py\n",
    "import re\n",
    "from lxml import etree as ET\n",
    "import scipy.signal as sig\n",
    "import pandas as pd\n",
    "from scipy.stats import kde\n",
    "from BlockSync_current import BlockSync\n",
    "import UtilityFunctions_newOE as uf"
   ]
  },
  {
   "cell_type": "code",
   "execution_count": 24,
   "outputs": [],
   "source": [
    "# Function to convert ellipse parameters to coefficients\n",
    "def convert_df_to_mm(df, image_width_px, image_height_px, sensor_format=1/4):\n",
    "    \"\"\"\n",
    "\n",
    "    :param df:\n",
    "    :param sensor_width_mm:\n",
    "    :param sensor_height_mm:\n",
    "    :param image_width_px:\n",
    "    :param image_height_px:\n",
    "    :param focal_length_mm:\n",
    "    :return:\n",
    "    \"\"\"\n",
    "    if sensor_format == 1/4:\n",
    "        sensor_width_mm = 3.2\n",
    "        sensor_height_mm = 2.4\n",
    "    else:\n",
    "        raise ValueError('sensor format not supported')\n",
    "\n",
    "    # Calculate pixel size in millimeters\n",
    "    pixel_size = sensor_width_mm / image_width_px #x/y are equivalent in this conversion\n",
    "\n",
    "    # calculte relative displacement in mm from image center:\n",
    "    df['center_x_mm'] = (df['center_x'] - image_width_px / 2) * pixel_size\n",
    "    df['center_y_mm'] = (df['center_y'] - image_height_px / 2) * pixel_size\n",
    "\n",
    "    # change axes units to mm:\n",
    "    df['width_mm'] = df['width'] * pixel_size\n",
    "    df['height_mm'] = df['height'] * pixel_size\n",
    "\n",
    "    return df\n",
    "\n",
    "def ellipse_2d_to_cone_coefficients(row, focal_length=3.7):\n",
    "    \"\"\"\n",
    "    Convert ellipse parameters to coefficients of the cone equation as presented in safaee-rad et.al 1992\n",
    "\n",
    "    Args:\n",
    "        row (pandas.Series): A pandas Series containing ellipse parameters.\n",
    "            It should have columns 'center_x', 'center_y', 'width', 'height', and 'phi'.\n",
    "        focal_length (float): the focal length of the camera used\n",
    "    Returns:\n",
    "        pandas.Series: A pandas Series containing the coefficients of the cone equation for the algorithm\n",
    "    \"\"\"\n",
    "    x0 = row['center_x_mm']\n",
    "    y0 = row['center_y_mm']\n",
    "    width = row['width_mm']\n",
    "    height = row['height_mm']\n",
    "\n",
    "    major_axis = np.max([width, height]) / 2\n",
    "    min_axis = np.min([width, height]) / 2\n",
    "\n",
    "    phi = row['phi']\n",
    "\n",
    "    cos_phi = np.cos(phi)\n",
    "    sin_phi = np.sin(phi)\n",
    "\n",
    "    # getting a',b',g',f', h', d'. a1 is a' etc.\n",
    "    a1 = (major_axis) ** 2\n",
    "    b1 = (min_axis) ** 2\n",
    "    g1 = (-a1 * x0 * np.cos(phi)) - (b1 * y0 * np.sin(phi)) # translation x\n",
    "    f1 = (-a1 * x0 * np.sin(phi)) - (b1 * y0 * np.cos(phi)) # translation y\n",
    "    h1 = (a1 - b1) * np.tan(phi) # tilt\n",
    "    d = 0\n",
    "\n",
    "    # next, we utilize equation (3) from the paper, and the corresponding supplied formulae for the cone coefficients\n",
    "    # for the explicit cases where alpha=0, beta=0 and gamma = focal length of the camera used:\n",
    "    a = a1 * (focal_length**2)\n",
    "    b = b1 * (focal_length**2)\n",
    "    c = 0\n",
    "    d = 0\n",
    "    f = -focal_length*(f1)\n",
    "    g = -focal_length*(g1)\n",
    "    h = focal_length**2 * h1\n",
    "    u = focal_length**2 * g1\n",
    "    v = focal_length**2 * f1\n",
    "    w = 0\n",
    "\n",
    "\n",
    "    return pd.Series({'a': a, 'b': b, 'c': c, 'd': d, 'f': f, 'g': g, 'h':h, 'u':u, 'v':v, 'w':w})\n"
   ],
   "metadata": {
    "collapsed": false,
    "pycharm": {
     "name": "#%%\n"
    }
   }
  },
  {
   "cell_type": "markdown",
   "source": [
    "As a preliminary step, we choose a target block and preprocess it:"
   ],
   "metadata": {
    "collapsed": false
   }
  },
  {
   "cell_type": "code",
   "execution_count": 2,
   "outputs": [
    {
     "name": "stdout",
     "output_type": "stream",
     "text": [
      "instantiated block number 023 at Path: Z:\\Nimrod\\experiments\\PV_62\\2023_04_27\\block_023, new OE version\n",
      "Found the sample rate for block 023 in the xml file, it is 20000 Hz\n",
      "created the .oe_rec attribute as an open ephys recording obj with get_data functionality\n",
      "retrieving zertoh sample number for block 023\n",
      "got it!\n"
     ]
    },
    {
     "data": {
      "text/plain": "{'023': BlockSync object for animal PV_62 with \n block_num 023 at date 2023-04-27_10-52-42}"
     },
     "execution_count": 2,
     "metadata": {},
     "output_type": "execute_result"
    }
   ],
   "source": [
    "# this step creates block_collection - a list of BlockSync objects of interest\n",
    "block_numbers = [23]\n",
    "bad_blocks = [42, 61, 62, 64, 65, 66]\n",
    "experiment_path = pathlib.Path(r\"Z:\\Nimrod\\experiments\")\n",
    "animal = 'PV_62'\n",
    "block_collection = uf.block_generator(block_numbers=block_numbers,\n",
    "                                      experiment_path=experiment_path,\n",
    "                                      animal=animal,\n",
    "                                      bad_blocks=bad_blocks)\n",
    "# create a block_dict object for ease of access:\n",
    "block_dict = {}\n",
    "for b in block_collection:\n",
    "    block_dict[str(b.block_num)] = b\n",
    "block_dict"
   ],
   "metadata": {
    "collapsed": false,
    "pycharm": {
     "name": "#%%\n"
    }
   }
  },
  {
   "cell_type": "code",
   "execution_count": 3,
   "outputs": [
    {
     "name": "stdout",
     "output_type": "stream",
     "text": [
      "running parse_open_ephys_events...\n",
      "block 023 has a parsed events file, reading...\n",
      "getting eye brigtness values for block 023...\n",
      "found a file!\n",
      "blocksync_df loaded from analysis folder\n",
      "eye_brightness_df loaded from analysis folder\n"
     ]
    }
   ],
   "source": [
    "# This step is used to quickly go over the analyzed blocks and load their internal data\n",
    "for block in block_collection:\n",
    "    block.parse_open_ephys_events()\n",
    "    block.get_eye_brightness_vectors()\n",
    "    block.synchronize_block()\n",
    "    block.create_eye_brightness_df(threshold_value=20)"
   ],
   "metadata": {
    "collapsed": false,
    "pycharm": {
     "name": "#%%\n"
    }
   }
  },
  {
   "cell_type": "code",
   "execution_count": 4,
   "outputs": [
    {
     "name": "stdout",
     "output_type": "stream",
     "text": [
      "eye dataframes loaded from analysis folder\n"
     ]
    }
   ],
   "source": [
    "# This is a continuation of the previous - more data loadings\n",
    "for block in block_collection:\n",
    "    block.import_manual_sync_df()\n",
    "    block.read_dlc_data()"
   ],
   "metadata": {
    "collapsed": false,
    "pycharm": {
     "name": "#%%\n"
    }
   }
  },
  {
   "cell_type": "code",
   "execution_count": 20,
   "outputs": [
    {
     "name": "stderr",
     "output_type": "stream",
     "text": [
      "<ipython-input-19-9d07506cdf86>:22: SettingWithCopyWarning: \n",
      "A value is trying to be set on a copy of a slice from a DataFrame.\n",
      "Try using .loc[row_indexer,col_indexer] = value instead\n",
      "\n",
      "See the caveats in the documentation: https://pandas.pydata.org/pandas-docs/stable/user_guide/indexing.html#returning-a-view-versus-a-copy\n",
      "  df['center_x_mm'] = (df['center_x'] - image_width_px / 2) * pixel_size\n",
      "<ipython-input-19-9d07506cdf86>:23: SettingWithCopyWarning: \n",
      "A value is trying to be set on a copy of a slice from a DataFrame.\n",
      "Try using .loc[row_indexer,col_indexer] = value instead\n",
      "\n",
      "See the caveats in the documentation: https://pandas.pydata.org/pandas-docs/stable/user_guide/indexing.html#returning-a-view-versus-a-copy\n",
      "  df['center_y_mm'] = (df['center_y'] - image_height_px / 2) * pixel_size\n",
      "<ipython-input-19-9d07506cdf86>:26: SettingWithCopyWarning: \n",
      "A value is trying to be set on a copy of a slice from a DataFrame.\n",
      "Try using .loc[row_indexer,col_indexer] = value instead\n",
      "\n",
      "See the caveats in the documentation: https://pandas.pydata.org/pandas-docs/stable/user_guide/indexing.html#returning-a-view-versus-a-copy\n",
      "  df['width_mm'] = df['width'] * pixel_size\n",
      "<ipython-input-19-9d07506cdf86>:27: SettingWithCopyWarning: \n",
      "A value is trying to be set on a copy of a slice from a DataFrame.\n",
      "Try using .loc[row_indexer,col_indexer] = value instead\n",
      "\n",
      "See the caveats in the documentation: https://pandas.pydata.org/pandas-docs/stable/user_guide/indexing.html#returning-a-view-versus-a-copy\n",
      "  df['height_mm'] = df['height'] * pixel_size\n"
     ]
    }
   ],
   "source": [
    "le_df = convert_df_to_mm(block.le_df[['L_eye_frame','center_x','center_y','width','height','phi']],640,480)\n",
    "re_df = convert_df_to_mm(block.re_df[['R_eye_frame','center_x','center_y','width','height','phi']],640,480)\n"
   ],
   "metadata": {
    "collapsed": false,
    "pycharm": {
     "name": "#%%\n"
    }
   }
  },
  {
   "cell_type": "code",
   "execution_count": 26,
   "outputs": [],
   "source": [
    "le_cones = le_df.apply(ellipse_2d_to_cone_coefficients, axis=1)\n",
    "re_cones = re_df.apply(ellipse_2d_to_cone_coefficients, axis=1)"
   ],
   "metadata": {
    "collapsed": false,
    "pycharm": {
     "name": "#%%\n"
    }
   }
  },
  {
   "cell_type": "code",
   "execution_count": 133,
   "outputs": [],
   "source": [
    "def visualize_cones(dataframe):\n",
    "    # Create a 3D figure\n",
    "    fig = plt.figure(figsize=(10, 10))\n",
    "    ax = fig.add_subplot(111, projection='3d')\n",
    "\n",
    "    # Iterate over rows in the DataFrame\n",
    "    for index, row in dataframe.iterrows():\n",
    "        # Extract coefficients from the DataFrame row\n",
    "        a, b, c, d, f, g, h, u, v, w = row\n",
    "\n",
    "        # Create a meshgrid for x, y, and z values\n",
    "        x = np.linspace(-10, 10, 100)\n",
    "        y = np.linspace(-10, 10, 100)\n",
    "        X, Y = np.meshgrid(x, y)\n",
    "\n",
    "        # Calculate the z values based on the cone equation\n",
    "        Z = (-a*X**2 - b*Y**2 - 2*f*X*Y - 2*g*X - 2*h*Y - 2*u*X - 2*v*Y) / 2\n",
    "\n",
    "        # Plot the cone surface\n",
    "        ax.plot_surface(X, Y, Z, alpha=0.5)\n",
    "\n",
    "    # Set axis labels\n",
    "    ax.set_xlabel('X')\n",
    "    ax.set_ylabel('Y')\n",
    "    ax.set_zlabel('Z')\n",
    "\n",
    "    # Show the plot\n",
    "    plt.show()"
   ],
   "metadata": {
    "collapsed": false,
    "pycharm": {
     "name": "#%%\n"
    }
   }
  },
  {
   "cell_type": "code",
   "execution_count": 134,
   "outputs": [
    {
     "data": {
      "text/plain": "<Figure size 720x720 with 1 Axes>",
      "image/png": "[encoded data removed]"
     },
     "metadata": {
      "needs_background": "light"
     },
     "output_type": "display_data"
    }
   ],
   "source": [
    "visualize_cones(le_cones.iloc[200:210])"
   ],
   "metadata": {
    "collapsed": false,
    "pycharm": {
     "name": "#%%\n"
    }
   }
  },
  {
   "cell_type": "code",
   "execution_count": 126,
   "outputs": [],
   "source": [
    "import cmath\n",
    "\n",
    "# right now, solves the discriminating cubic using different methods\n",
    "def solve_discriminating_cubic_of_cone(cone_row):\n",
    "\n",
    "    a = cone_row['a']\n",
    "    b = cone_row['b']\n",
    "    c = cone_row['c']\n",
    "    d = cone_row['d']\n",
    "    f = cone_row['f']\n",
    "    g = cone_row['g']\n",
    "    h = cone_row['h']\n",
    "    u = cone_row['u']\n",
    "    v = cone_row['v']\n",
    "    w = cone_row['w']\n",
    "\n",
    "    roots = []\n",
    "    coef1 = 1\n",
    "    coef2 = -(a + b + c)\n",
    "    coef3 = b * c + c * a + a * b - f**2 - g**2 - h**2\n",
    "    coef4 = -(a * b * c + 2 * f * g * h - a * f**2 - b * g**2 - c * h**2)\n",
    "\n",
    "    roots_cardano = solve_cubic_cardano(coef1, coef2, coef3, coef4)\n",
    "    roots.append(roots_cardano)\n",
    "\n",
    "    initial_guesses = [\n",
    "        [1 + 2j, 1 - 2j, -1 + 10j],\n",
    "        [2 + 1j, 1 - 20j, -2 - 1j],\n",
    "        [0.5 + 1j, 1 - 1j, -0.02 - 0.5j],\n",
    "        [1 + 0j, 2 + 0j, -10 + 0j],\n",
    "        [20 + 0j, 3 + 0j, -200 + 0j],\n",
    "    ]\n",
    "\n",
    "    for i in initial_guesses:\n",
    "        roots_durand_kerner = solve_cubic_durand_kerner([coef1, coef2, coef3, coef4],i)\n",
    "        roots.append(roots_durand_kerner)\n",
    "    return roots\n",
    "\n",
    "### Implementation of two different methods to find the roots of the discriminating cubic equation\n",
    "# Method 1: Cardano's method\n",
    "# including reducing the cubic equation to a depressed cubic and solving it using trigonometric identities.\n",
    "#\n",
    "# Note: not require initial guesses but not promise one negative root\n",
    "def solve_cubic_cardano(a, b, c, d):\n",
    "    # Convert coefficients to Cardano's form\n",
    "    p = c / a - (b**2) / (3 * a**2)\n",
    "    q = (2 * b**3) / (27 * a**3) - (b * c) / (3 * a**2) + d / a\n",
    "\n",
    "    # Calculate discriminant\n",
    "    discriminant = (q**2) / 4 + (p**3) / 27\n",
    "\n",
    "    if discriminant > 0:\n",
    "        # One real root and two complex roots\n",
    "        u = (-(q / 2) + cmath.sqrt(discriminant))**(1/3)\n",
    "        v = (-(q / 2) - cmath.sqrt(discriminant))**(1/3)\n",
    "        root1 = u + v - b / (3 * a)\n",
    "        root2 = -(u + v) / 2 - b / (3 * a) + (u - v) * cmath.sqrt(3) * 1j / 2\n",
    "        root3 = -(u + v) / 2 - b / (3 * a) - (u - v) * cmath.sqrt(3) * 1j / 2\n",
    "    elif discriminant == 0:\n",
    "        # All roots are real and at least two are equal\n",
    "        u = (-q / 2)**(1/3)\n",
    "        root1 = 2 * u - b / (3 * a)\n",
    "        root2 = -(u + b / (3 * a))\n",
    "        root3 = root2\n",
    "    else:\n",
    "        # All roots are real and distinct\n",
    "        u = ((-(q / 2) + cmath.sqrt(discriminant))**(1/3)).real\n",
    "        v = ((-(q / 2) - cmath.sqrt(discriminant))**(1/3)).real\n",
    "        root1 = u + v - b / (3 * a)\n",
    "        root2 = -(u + v) / 2 - b / (3 * a) + (u - v) * cmath.sqrt(3) * 1j / 2\n",
    "        root3 = -(u + v) / 2 - b / (3 * a) - (u - v) * cmath.sqrt(3) * 1j / 2\n",
    "\n",
    "    return [root1, root2, root3]\n",
    "\n",
    "# Method 2: Durand-Kerner method\n",
    "# an iterative numerical technique for finding all roots of a polynomial equation simultaneously.\n",
    "#\n",
    "# Note: require initial guesses but the specific values of these initial guesses don't significantly affect the roots,\n",
    "#       and we can use the initial guesses to get one negative root\n",
    "def solve_cubic_durand_kerner(coefficients, initial_guesses, tolerance=1e-10, max_iterations=1000):\n",
    "    n = len(coefficients) - 1  # Degree of the polynomial\n",
    "    roots = np.array(initial_guesses, dtype=complex)\n",
    "\n",
    "\n",
    "    for _ in range(max_iterations):\n",
    "        new_roots = np.empty_like(roots, dtype=complex)\n",
    "        for k in range(n):\n",
    "            numerator = np.polyval(coefficients, roots[k])\n",
    "            denominator = 1.0\n",
    "            for j in range(n):\n",
    "                if j != k:\n",
    "                    denominator *= roots[k] - roots[j]\n",
    "            new_roots[k] = roots[k] - numerator / denominator\n",
    "        error = np.max(np.abs(new_roots - roots))\n",
    "        if error < tolerance:\n",
    "            return new_roots.tolist()\n",
    "        roots = new_roots\n",
    "\n",
    "    return None  # Max iterations reached without convergence\n",
    "###\n",
    "\n",
    "def compare_complex(a, b, tolerance=1e-6):\n",
    "    \"\"\"\n",
    "    Compare two complex numbers a and b within a specified tolerance.\n",
    "\n",
    "    Args:\n",
    "    a (complex): First complex number.\n",
    "    b (complex): Second complex number.\n",
    "    tolerance (float): Tolerance for comparison.\n",
    "\n",
    "    Returns:\n",
    "    bool: True if |a - b| < tolerance, False otherwise.\n",
    "    \"\"\"\n",
    "    return abs(a - b) < tolerance\n",
    "\n",
    "def compare_roots(method1_roots, method2_roots, tolerance=1e-6):\n",
    "    \"\"\"\n",
    "    Compare the roots obtained from two different root-finding methods.\n",
    "\n",
    "    Args:\n",
    "    method1_roots (list): List of roots obtained from the first method.\n",
    "    method2_roots (list): List of roots obtained from the second method.\n",
    "    tolerance (float): Tolerance for root comparison.\n",
    "\n",
    "    Returns:\n",
    "    bool: True if the roots are consistent within the given tolerance, False otherwise.\n",
    "    \"\"\"\n",
    "\n",
    "    # Check if the number of roots matches\n",
    "    if len(method1_roots) != len(method2_roots):\n",
    "        return False\n",
    "\n",
    "    # Sort the roots for consistent comparison\n",
    "    method1_roots.sort(key=lambda x: abs(x))\n",
    "    method2_roots.sort(key=lambda x: abs(x))\n",
    "\n",
    "    # Compare the roots element by element within the specified tolerance\n",
    "    for root1, root2 in zip(method1_roots, method2_roots):\n",
    "        if not compare_complex(root1, root2, tolerance):\n",
    "            return False\n",
    "\n",
    "    # If all roots are consistent within the tolerance, return True\n",
    "    return True\n",
    "\n",
    "def is_close_to_real(root, tolerance=1e-6):\n",
    "    \"\"\"\n",
    "    Check if a complex root is close to a real number.\n",
    "\n",
    "    Args:\n",
    "    root (complex): Complex number to check.\n",
    "    tolerance (float): Tolerance for considering a root as real.\n",
    "\n",
    "    Returns:\n",
    "    bool: True if the root is close to real, False otherwise.\n",
    "    \"\"\"\n",
    "    return abs(root.imag) < tolerance\n"
   ],
   "metadata": {
    "collapsed": false,
    "pycharm": {
     "name": "#%%\n"
    }
   }
  },
  {
   "cell_type": "code",
   "execution_count": 117,
   "outputs": [
    {
     "data": {
      "text/plain": "([0.1996803313016008, 0.04602062582847837, 0.04602062582847837],\n [0.19968033130160082, 0.09624842922779869, -0.004207177570841959],\n [0.09624842922779868, 0.19968033130160082, -0.004207177570841958],\n [0.09624842922779868, 0.19968033130160082, -0.004207177570841958],\n [0.19968033130160082, 0.09624842922779869, -0.004207177570841959],\n [0.19968033130160082, -0.004207177570841959, 0.09624842922779867])"
     },
     "execution_count": 117,
     "metadata": {},
     "output_type": "execute_result"
    }
   ],
   "source": [
    "\n",
    "cone_row = le_cones.iloc[1090]\n",
    "r1, r2, r3, r4, r5, r6 = solve_discriminating_cubic_of_cone(cone_row=cone_row)\n",
    "#compare_roots(r1, r2)\n",
    "# r1, r2, r3, r4, r5\n",
    "r1_real = [root.real for root in r1 if is_close_to_real(root)]\n",
    "r2_real = [root.real for root in r2 if is_close_to_real(root)]\n",
    "r3_real = [root.real for root in r3 if is_close_to_real(root)]\n",
    "r4_real = [root.real for root in r4 if is_close_to_real(root)]\n",
    "r5_real = [root.real for root in r5 if is_close_to_real(root)]\n",
    "r6_real = [root.real for root in r6 if is_close_to_real(root)]\n",
    "\n",
    "# visualize_roots([r1_real,r2_real, r3_real])\n",
    "r1_real,r2_real, r3_real, r4_real, r5_real, r6_real"
   ],
   "metadata": {
    "collapsed": false,
    "pycharm": {
     "name": "#%%\n"
    }
   }
  },
  {
   "cell_type": "code",
   "execution_count": 110,
   "outputs": [
    {
     "data": {
      "text/plain": "a    0.161641\nb    0.099717\nc    0.000000\nd    0.000000\nf    0.004806\ng   -0.024102\nh   -0.023018\nu    0.089179\nv   -0.017782\nw    0.000000\nName: 1000, dtype: float64"
     },
     "execution_count": 110,
     "metadata": {},
     "output_type": "execute_result"
    }
   ],
   "source": [
    "cone_row"
   ],
   "metadata": {
    "collapsed": false,
    "pycharm": {
     "name": "#%%\n"
    }
   }
  },
  {
   "cell_type": "markdown",
   "source": [
    "create a function to convert ellipses format to coefficients"
   ],
   "metadata": {
    "collapsed": false
   }
  },
  {
   "cell_type": "code",
   "execution_count": 17,
   "outputs": [],
   "source": [
    "\n",
    "le_df = block.le_df[['L_eye_frame','center_x','center_y','width','height','phi']]\n",
    "re_df = block.re_df[['R_eye_frame','center_x','center_y','width','height','phi']]\n",
    "\n",
    "# Apply the conversion function to each row and create a new DataFrame\n",
    "l_coefficients_df = le_df.apply(ellipse_to_coefficients, axis=1)\n",
    "r_coefficients_df = re_df.apply(ellipse_to_coefficients, axis=1)\n",
    "\n",
    "# Combine the 'L_eye_frame' column with the coefficients DataFrame\n",
    "l_ellipses = pd.concat([le_df['L_eye_frame'], l_coefficients_df], axis=1)\n",
    "r_ellipses = pd.concat([re_df['R_eye_frame'], r_coefficients_df], axis=1)"
   ],
   "metadata": {
    "collapsed": false,
    "pycharm": {
     "name": "#%%\n"
    }
   }
  },
  {
   "cell_type": "markdown",
   "source": [
    "Now that I have ellipse coefficients, I need to go through the first bit of the 1992 algorithm - here is an outline of what needs to be done:"
   ],
   "metadata": {
    "collapsed": false,
    "pycharm": {
     "name": "#%% md\n"
    }
   }
  },
  {
   "cell_type": "code",
   "execution_count": 40,
   "outputs": [],
   "source": [
    "# first, I'll define a function to convert pixel displacement to mm-based displacement (to integrate everything around the focal length)\n",
    "def pixel_to_mm(x_pixel, y_pixel, sensor_width_mm, sensor_height_mm, image_width_px, image_height_px, focal_length_mm):\n",
    "    \"\"\"\n",
    "    Convert pixel coordinates to millimeters based on camera sensor specifications and focal length.\n",
    "\n",
    "    Args:\n",
    "        x_pixel (int): The x-coordinate in pixels.\n",
    "        y_pixel (int): The y-coordinate in pixels.\n",
    "        sensor_width_mm (float): The width of the camera sensor in millimeters.\n",
    "        sensor_height_mm (float): The height of the camera sensor in millimeters.\n",
    "        image_width_px (int): The width of the image in pixels.\n",
    "        image_height_px (int): The height of the image in pixels.\n",
    "        focal_length_mm (float): The focal length of the camera lens in millimeters.\n",
    "\n",
    "    Returns:\n",
    "        Tuple[float, float, float]: A tuple containing the displacement from the center (x, y) in millimeters,\n",
    "        and the distance from the sensor to the object in millimeters.\n",
    "    \"\"\"\n",
    "    # Calculate pixel size in millimeters\n",
    "    pixel_size_x = sensor_width_mm / image_width_px\n",
    "    pixel_size_y = sensor_height_mm / image_height_px\n",
    "\n",
    "    # Calculate the center point of the frame in millimeters\n",
    "    center_x_mm = sensor_width_mm / 2\n",
    "    center_y_mm = sensor_height_mm / 2\n",
    "\n",
    "    # Calculate the displacement from the center in millimeters\n",
    "    displacement_x_mm = (x_pixel - image_width_px / 2) * pixel_size_x\n",
    "    displacement_y_mm = (y_pixel - image_height_px / 2) * pixel_size_y\n",
    "\n",
    "    # Calculate the distance from the sensor to the object using the focal length\n",
    "    distance_mm = focal_length_mm\n",
    "\n",
    "    return displacement_x_mm, displacement_y_mm, distance_mm\n",
    "\n",
    "# and another function to convert the whole parameters of an ellipse in my format to mm:\n",
    "def convert_ellipse_to_mm(center_x_px, center_y_px, width_px, height_px, phi_deg, sensor_size=\"1/4\", frame_size=(640, 480)):\n",
    "    \"\"\"\n",
    "    Convert pixel-based ellipse parameters to millimeters based on sensor and frame size.\n",
    "\n",
    "    Args:\n",
    "        center_x_px (int): X-coordinate of the ellipse center in pixels.\n",
    "        center_y_px (int): Y-coordinate of the ellipse center in pixels.\n",
    "        width_px (int): Width of the ellipse in pixels.\n",
    "        height_px (int): Height of the ellipse in pixels.\n",
    "        phi_deg (float): Rotation angle of the ellipse in degrees.\n",
    "        sensor_size (str, optional): Size of the camera sensor (e.g., \"1/4\" for 1/4\" sensor). Default is \"1/4\".\n",
    "        frame_size (tuple, optional): Size of the image frame in pixels (width, height). Default is (640, 480).\n",
    "\n",
    "    Returns:\n",
    "        tuple: A tuple containing converted values in millimeters: (center_x_mm, center_y_mm, width_mm, height_mm, phi_deg).\n",
    "    \"\"\"\n",
    "    # Calculate the focal length of the camera\n",
    "    if sensor_size == \"1/4\":\n",
    "        sensor_width_mm = 3.6  # 1/4\" sensor size in mm\n",
    "    else:\n",
    "        raise ValueError(\"Unsupported sensor size\")\n",
    "\n",
    "    # Calculate the conversion factors for width and height\n",
    "    width_conversion = sensor_width_mm / frame_size[0]  # mm per pixel in width\n",
    "    height_conversion = sensor_width_mm / frame_size[1]  # mm per pixel in height\n",
    "\n",
    "    # Calculate the displacement from the center in millimeters\n",
    "    displacement_x_mm = (center_x_px - frame_size[0] / 2) * width_conversion\n",
    "    displacement_y_mm = (center_y_px - frame_size[1] / 2) * height_conversion\n",
    "\n",
    "    # Calculate the distance from the sensor to the object using the focal length\n",
    "    focal_length_mm = sensor_width_mm / (2 * np.tan(np.deg2rad(62.2) / 2))  # Assuming a 62.2-degree horizontal field of view\n",
    "\n",
    "    # Calculate the center point of the frame in millimeters\n",
    "    center_x_mm = displacement_x_mm\n",
    "    center_y_mm = displacement_y_mm\n",
    "\n",
    "    return center_x_mm, center_y_mm, width_px * width_conversion, height_px * height_conversion, phi_deg\n",
    "\n"
   ],
   "metadata": {
    "collapsed": false,
    "pycharm": {
     "name": "#%%\n"
    }
   }
  },
  {
   "cell_type": "code",
   "execution_count": 43,
   "outputs": [],
   "source": [
    "# the next function should take in ellipse data (based on the pipeline so far) + focal depth and convert them into the coefficients of a cone with its base\n",
    "# situated on the 2D-image ellipse and its vertex at the sensor (with the origin defined as the image plane's middle)\n",
    "def estimate_cone_coefficients_with_depth(center_x, center_y, width, height, phi, focal_length):\n",
    "    \"\"\"\n",
    "    Estimate the coefficients of the general equation of a cone with depth based on ellipse parameters and focal length.\n",
    "\n",
    "    Args:\n",
    "        center_x (float): X-coordinate of the ellipse center.\n",
    "        center_y (float): Y-coordinate of the ellipse center.\n",
    "        width (float): Width of the ellipse.\n",
    "        height (float): Height of the ellipse.\n",
    "        phi (float): Angle of rotation of the ellipse in degrees.\n",
    "        focal_length (float): Focal length of the camera lens in millimeters.\n",
    "\n",
    "    Returns:\n",
    "        Tuple[float, float, float, float, float, float, float, float, float, float]:\n",
    "        A tuple containing the coefficients 'a', 'b', 'c', 'f', 'g', 'h', 'u', 'v', 'w', and 'd' of the general equation\n",
    "        of the cone with depth.\n",
    "    \"\"\"\n",
    "    # Convert phi from degrees to radians\n",
    "    phi_rad = np.deg2rad(phi)\n",
    "\n",
    "    # Extract ellipse parameters\n",
    "    a_ellipse = (width / 2) ** 2\n",
    "    b_ellipse = (height / 2) ** 2\n",
    "    c_ellipse = 0  # Z-axis component is zero for 2D ellipse\n",
    "    d_ellipse = 0  # No linear term\n",
    "    f_ellipse = 0  # No cross-product term between x and y\n",
    "    g_ellipse = 0  # No cross-product term between x and z\n",
    "    h_ellipse = 0  # No cross-product term between y and z\n",
    "\n",
    "    # Calculate the translations u, v, and w\n",
    "    u = center_x\n",
    "    v = center_y\n",
    "    w = -focal_length  # Negative because the vertex is at -e along the z-axis\n",
    "\n",
    "    # Calculate coefficients of the general equation of the cone with depth\n",
    "    gamma = 1 / focal_length\n",
    "    alpha = center_x\n",
    "    beta = center_y\n",
    "\n",
    "    a = gamma ** 2 * a_ellipse\n",
    "    b = gamma ** 2 * b_ellipse\n",
    "    c = a_ellipse * alpha ** 2 + 2 * h_ellipse * alpha * beta + b_ellipse * beta ** 2 + 2 * g_ellipse * alpha + 2 * f_ellipse * beta + d_ellipse\n",
    "    d = gamma ** 2 * d_ellipse\n",
    "    f = -gamma * (b_ellipse * beta + h_ellipse * alpha + f_ellipse)\n",
    "    g = -gamma * (h_ellipse * beta + a_ellipse * alpha + g_ellipse)\n",
    "    h = gamma ** 2 * h_ellipse\n",
    "    u = gamma ** 2 * g_ellipse\n",
    "    v = gamma ** 2 * f_ellipse\n",
    "    w = -gamma * (f_ellipse * beta + g_ellipse * alpha + d_ellipse)\n",
    "\n",
    "    return a, b, c, f, g, h, u, v, w, d"
   ],
   "metadata": {
    "collapsed": false,
    "pycharm": {
     "name": "#%%\n"
    }
   }
  },
  {
   "cell_type": "code",
   "execution_count": 45,
   "outputs": [],
   "source": [
    "# trial section:\n",
    "# let's take an example ellipse and run it through the pipe so far:\n",
    "\n",
    "trial_ellipse = le_df.iloc[0].drop('L_eye_frame')\n",
    "el_x, el_y, el_width, el_height, el_phi = convert_ellipse_to_mm(trial_ellipse['center_x'], trial_ellipse['center_y'],trial_ellipse['width'],trial_ellipse['height'],trial_ellipse['phi'])\n",
    "cone_a, cone_b, cone_c, cone_f, cone_g, cone_h, cone_u, cone_v, cone_w, cone_d = estimate_cone_coefficients_with_depth(el_x,el_y,el_width,el_height,el_phi,3.7)\n"
   ],
   "metadata": {
    "collapsed": false,
    "pycharm": {
     "name": "#%%\n"
    }
   }
  },
  {
   "cell_type": "code",
   "execution_count": 51,
   "outputs": [
    {
     "name": "stdout",
     "output_type": "stream",
     "text": [
      "Lambda values: [0.03536362768494998, 0.22690024065965203, 0.33773613165539784]\n"
     ]
    }
   ],
   "source": [
    "import numpy as np\n",
    "from scipy.optimize import root_scalar\n",
    "\n",
    "def solve_discriminating_cubic(a, b, c, f, g, h):\n",
    "    \"\"\"\n",
    "    Solve the discriminating cubic equation to find positive \"lambda\" values.\n",
    "\n",
    "    Args:\n",
    "        a (float): Coefficient 'a' of the general equation of the cone.\n",
    "        b (float): Coefficient 'b' of the general equation of the cone.\n",
    "        c (float): Coefficient 'c' of the general equation of the cone.\n",
    "        f (float): Coefficient 'f' of the general equation of the cone.\n",
    "        g (float): Coefficient 'g' of the general equation of the cone.\n",
    "        h (float): Coefficient 'h' of the general equation of the cone.\n",
    "\n",
    "    Returns:\n",
    "        list: A list containing positive \"lambda\" values [\"lambda\"_1, \"lambda\"_2, \"lambda\"_3].\n",
    "\n",
    "    Raises:\n",
    "        ValueError: If valid \"lambda\" values cannot be found.\n",
    "\n",
    "    This function solves the discriminating cubic equation (10) to find positive \"lambda\" values \"lambda\"_1, \"lambda\"_2, and \"lambda\"_3,\n",
    "    ensuring that \"lambda\"_1 and \"lambda\"_2 are positive. The equation is solved using the `root_scalar` method from SciPy.\n",
    "    If valid \"lambda\" values cannot be found, a ValueError is raised.\n",
    "    \"\"\"\n",
    "    # Define the coefficients of the discriminating cubic equation (10)\n",
    "    def cubic_equation(lmbda):\n",
    "        return (\n",
    "            lmbda ** 3 - lmbda ** 2 * (a + b + c) + lmbda * (b * c + c * a + a * b - f ** 2 - g ** 2 - h ** 2)\n",
    "            - (a * b * c + 2 * f * g * h - a * f ** 2 - b * g ** 2 - c * h ** 2)\n",
    "        )\n",
    "\n",
    "    # Solve the cubic equation to find lambdas\n",
    "    roots = np.roots([1, -(a + b + c), (b * c + c * a + a * b - f ** 2 - g ** 2 - h ** 2), -(a * b * c + 2 * f * g * h - a * f ** 2 - b * g ** 2 - c * h ** 2)])\n",
    "\n",
    "    # Filter positive roots\n",
    "    positive_roots = [root for root in roots if root > 0]\n",
    "\n",
    "    if len(positive_roots) >= 2:\n",
    "        positive_roots.sort()\n",
    "        return positive_roots\n",
    "    else:\n",
    "        raise ValueError(\"Failed to find valid lambdas with positive values.\")\n",
    "\n",
    "# Example usage:\n",
    "a, b, c, f, g, h = 0.2, 0.3, 0.1, 0.05, 0.1, 0.03\n",
    "lambdas = solve_discriminating_cubic(a, b, c, f, g, h)\n",
    "print(\"Lambda values:\", lambdas)\n",
    "\n"
   ],
   "metadata": {
    "collapsed": false,
    "pycharm": {
     "name": "#%%\n"
    }
   }
  },
  {
   "cell_type": "code",
   "execution_count": 53,
   "outputs": [
    {
     "ename": "TypeError",
     "evalue": "'float' object is not subscriptable",
     "output_type": "error",
     "traceback": [
      "\u001B[1;31m---------------------------------------------------------------------------\u001B[0m",
      "\u001B[1;31mTypeError\u001B[0m                                 Traceback (most recent call last)",
      "\u001B[1;32m<ipython-input-53-56a86b0e631d>\u001B[0m in \u001B[0;36m<module>\u001B[1;34m\u001B[0m\n\u001B[0;32m     94\u001B[0m \u001B[1;31m# Example usage:\u001B[0m\u001B[1;33m\u001B[0m\u001B[1;33m\u001B[0m\u001B[1;33m\u001B[0m\u001B[0m\n\u001B[0;32m     95\u001B[0m \u001B[0ma\u001B[0m\u001B[1;33m,\u001B[0m \u001B[0mb\u001B[0m\u001B[1;33m,\u001B[0m \u001B[0mc\u001B[0m\u001B[1;33m,\u001B[0m \u001B[0mf\u001B[0m\u001B[1;33m,\u001B[0m \u001B[0mg\u001B[0m\u001B[1;33m,\u001B[0m \u001B[0mh\u001B[0m \u001B[1;33m=\u001B[0m \u001B[1;36m0.2\u001B[0m\u001B[1;33m,\u001B[0m \u001B[1;36m0.3\u001B[0m\u001B[1;33m,\u001B[0m \u001B[1;36m0.1\u001B[0m\u001B[1;33m,\u001B[0m \u001B[1;36m0.05\u001B[0m\u001B[1;33m,\u001B[0m \u001B[1;36m0.1\u001B[0m\u001B[1;33m,\u001B[0m \u001B[1;36m0.03\u001B[0m\u001B[1;33m\u001B[0m\u001B[1;33m\u001B[0m\u001B[0m\n\u001B[1;32m---> 96\u001B[1;33m \u001B[0mT1\u001B[0m \u001B[1;33m=\u001B[0m \u001B[0mreduce_to_canonical_form\u001B[0m\u001B[1;33m(\u001B[0m\u001B[0ma\u001B[0m\u001B[1;33m,\u001B[0m \u001B[0mb\u001B[0m\u001B[1;33m,\u001B[0m \u001B[0mc\u001B[0m\u001B[1;33m,\u001B[0m \u001B[0mf\u001B[0m\u001B[1;33m,\u001B[0m \u001B[0mg\u001B[0m\u001B[1;33m,\u001B[0m \u001B[0mh\u001B[0m\u001B[1;33m)\u001B[0m\u001B[1;33m\u001B[0m\u001B[1;33m\u001B[0m\u001B[0m\n\u001B[0m\u001B[0;32m     97\u001B[0m \u001B[0mprint\u001B[0m\u001B[1;33m(\u001B[0m\u001B[1;34m\"Rotational Transformation Matrix T1:\"\u001B[0m\u001B[1;33m)\u001B[0m\u001B[1;33m\u001B[0m\u001B[1;33m\u001B[0m\u001B[0m\n\u001B[0;32m     98\u001B[0m \u001B[0mprint\u001B[0m\u001B[1;33m(\u001B[0m\u001B[0mT1\u001B[0m\u001B[1;33m)\u001B[0m\u001B[1;33m\u001B[0m\u001B[1;33m\u001B[0m\u001B[0m\n",
      "\u001B[1;32m<ipython-input-53-56a86b0e631d>\u001B[0m in \u001B[0;36mreduce_to_canonical_form\u001B[1;34m(a, b, c, f, g, h)\u001B[0m\n\u001B[0;32m     85\u001B[0m     \"\"\"\n\u001B[0;32m     86\u001B[0m     \u001B[1;31m# Step 1: Solve the discriminating cubic equation\u001B[0m\u001B[1;33m\u001B[0m\u001B[1;33m\u001B[0m\u001B[1;33m\u001B[0m\u001B[0m\n\u001B[1;32m---> 87\u001B[1;33m     \u001B[0mlambdas\u001B[0m \u001B[1;33m=\u001B[0m \u001B[0msolve_discriminating_cubic\u001B[0m\u001B[1;33m(\u001B[0m\u001B[0ma\u001B[0m\u001B[1;33m,\u001B[0m \u001B[0mb\u001B[0m\u001B[1;33m,\u001B[0m \u001B[0mc\u001B[0m\u001B[1;33m,\u001B[0m \u001B[0mf\u001B[0m\u001B[1;33m,\u001B[0m \u001B[0mg\u001B[0m\u001B[1;33m,\u001B[0m \u001B[0mh\u001B[0m\u001B[1;33m)\u001B[0m\u001B[1;33m\u001B[0m\u001B[1;33m\u001B[0m\u001B[0m\n\u001B[0m\u001B[0;32m     88\u001B[0m \u001B[1;33m\u001B[0m\u001B[0m\n\u001B[0;32m     89\u001B[0m     \u001B[1;31m# Step 2: Calculate the rotational transformation matrix T1\u001B[0m\u001B[1;33m\u001B[0m\u001B[1;33m\u001B[0m\u001B[1;33m\u001B[0m\u001B[0m\n",
      "\u001B[1;32m<ipython-input-53-56a86b0e631d>\u001B[0m in \u001B[0;36msolve_discriminating_cubic\u001B[1;34m(a, b, c, f, g, h)\u001B[0m\n\u001B[0;32m     24\u001B[0m \u001B[1;33m\u001B[0m\u001B[0m\n\u001B[0;32m     25\u001B[0m     \u001B[1;31m# Solve the cubic equation to find lambdas\u001B[0m\u001B[1;33m\u001B[0m\u001B[1;33m\u001B[0m\u001B[1;33m\u001B[0m\u001B[0m\n\u001B[1;32m---> 26\u001B[1;33m     \u001B[0mroot\u001B[0m \u001B[1;33m=\u001B[0m \u001B[0mroot_scalar\u001B[0m\u001B[1;33m(\u001B[0m\u001B[0mcubic_equation\u001B[0m\u001B[1;33m,\u001B[0m \u001B[0mbracket\u001B[0m\u001B[1;33m=\u001B[0m\u001B[1;33m[\u001B[0m\u001B[1;36m0\u001B[0m\u001B[1;33m,\u001B[0m \u001B[1;36m1\u001B[0m\u001B[1;33m]\u001B[0m\u001B[1;33m,\u001B[0m \u001B[0mmethod\u001B[0m\u001B[1;33m=\u001B[0m\u001B[1;34m'bisect'\u001B[0m\u001B[1;33m)\u001B[0m\u001B[1;33m\u001B[0m\u001B[1;33m\u001B[0m\u001B[0m\n\u001B[0m\u001B[0;32m     27\u001B[0m \u001B[1;33m\u001B[0m\u001B[0m\n\u001B[0;32m     28\u001B[0m     \u001B[1;32mif\u001B[0m \u001B[0mroot\u001B[0m\u001B[1;33m.\u001B[0m\u001B[0mconverged\u001B[0m\u001B[1;33m:\u001B[0m\u001B[1;33m\u001B[0m\u001B[1;33m\u001B[0m\u001B[0m\n",
      "\u001B[1;32m~\\AppData\\Local\\Programs\\Python\\Python38\\lib\\site-packages\\scipy\\optimize\\_root_scalar.py\u001B[0m in \u001B[0;36mroot_scalar\u001B[1;34m(f, args, method, bracket, fprime, fprime2, x0, x1, xtol, rtol, maxiter, options)\u001B[0m\n\u001B[0;32m    244\u001B[0m \u001B[1;33m\u001B[0m\u001B[0m\n\u001B[0;32m    245\u001B[0m         \u001B[0ma\u001B[0m\u001B[1;33m,\u001B[0m \u001B[0mb\u001B[0m \u001B[1;33m=\u001B[0m \u001B[0mbracket\u001B[0m\u001B[1;33m[\u001B[0m\u001B[1;33m:\u001B[0m\u001B[1;36m2\u001B[0m\u001B[1;33m]\u001B[0m\u001B[1;33m\u001B[0m\u001B[1;33m\u001B[0m\u001B[0m\n\u001B[1;32m--> 246\u001B[1;33m         \u001B[0mr\u001B[0m\u001B[1;33m,\u001B[0m \u001B[0msol\u001B[0m \u001B[1;33m=\u001B[0m \u001B[0mmethodc\u001B[0m\u001B[1;33m(\u001B[0m\u001B[0mf\u001B[0m\u001B[1;33m,\u001B[0m \u001B[0ma\u001B[0m\u001B[1;33m,\u001B[0m \u001B[0mb\u001B[0m\u001B[1;33m,\u001B[0m \u001B[0margs\u001B[0m\u001B[1;33m=\u001B[0m\u001B[0margs\u001B[0m\u001B[1;33m,\u001B[0m \u001B[1;33m**\u001B[0m\u001B[0mkwargs\u001B[0m\u001B[1;33m)\u001B[0m\u001B[1;33m\u001B[0m\u001B[1;33m\u001B[0m\u001B[0m\n\u001B[0m\u001B[0;32m    247\u001B[0m     \u001B[1;32melif\u001B[0m \u001B[0mmeth\u001B[0m \u001B[1;32min\u001B[0m \u001B[1;33m[\u001B[0m\u001B[1;34m'secant'\u001B[0m\u001B[1;33m]\u001B[0m\u001B[1;33m:\u001B[0m\u001B[1;33m\u001B[0m\u001B[1;33m\u001B[0m\u001B[0m\n\u001B[0;32m    248\u001B[0m         \u001B[1;32mif\u001B[0m \u001B[0mx0\u001B[0m \u001B[1;32mis\u001B[0m \u001B[1;32mNone\u001B[0m\u001B[1;33m:\u001B[0m\u001B[1;33m\u001B[0m\u001B[1;33m\u001B[0m\u001B[0m\n",
      "\u001B[1;32m~\\AppData\\Local\\Programs\\Python\\Python38\\lib\\site-packages\\scipy\\optimize\\zeros.py\u001B[0m in \u001B[0;36mbisect\u001B[1;34m(f, a, b, args, xtol, rtol, maxiter, full_output, disp)\u001B[0m\n\u001B[0;32m    547\u001B[0m     \u001B[1;32mif\u001B[0m \u001B[0mrtol\u001B[0m \u001B[1;33m<\u001B[0m \u001B[0m_rtol\u001B[0m\u001B[1;33m:\u001B[0m\u001B[1;33m\u001B[0m\u001B[1;33m\u001B[0m\u001B[0m\n\u001B[0;32m    548\u001B[0m         \u001B[1;32mraise\u001B[0m \u001B[0mValueError\u001B[0m\u001B[1;33m(\u001B[0m\u001B[1;34m\"rtol too small (%g < %g)\"\u001B[0m \u001B[1;33m%\u001B[0m \u001B[1;33m(\u001B[0m\u001B[0mrtol\u001B[0m\u001B[1;33m,\u001B[0m \u001B[0m_rtol\u001B[0m\u001B[1;33m)\u001B[0m\u001B[1;33m)\u001B[0m\u001B[1;33m\u001B[0m\u001B[1;33m\u001B[0m\u001B[0m\n\u001B[1;32m--> 549\u001B[1;33m     \u001B[0mr\u001B[0m \u001B[1;33m=\u001B[0m \u001B[0m_zeros\u001B[0m\u001B[1;33m.\u001B[0m\u001B[0m_bisect\u001B[0m\u001B[1;33m(\u001B[0m\u001B[0mf\u001B[0m\u001B[1;33m,\u001B[0m \u001B[0ma\u001B[0m\u001B[1;33m,\u001B[0m \u001B[0mb\u001B[0m\u001B[1;33m,\u001B[0m \u001B[0mxtol\u001B[0m\u001B[1;33m,\u001B[0m \u001B[0mrtol\u001B[0m\u001B[1;33m,\u001B[0m \u001B[0mmaxiter\u001B[0m\u001B[1;33m,\u001B[0m \u001B[0margs\u001B[0m\u001B[1;33m,\u001B[0m \u001B[0mfull_output\u001B[0m\u001B[1;33m,\u001B[0m \u001B[0mdisp\u001B[0m\u001B[1;33m)\u001B[0m\u001B[1;33m\u001B[0m\u001B[1;33m\u001B[0m\u001B[0m\n\u001B[0m\u001B[0;32m    550\u001B[0m     \u001B[1;32mreturn\u001B[0m \u001B[0mresults_c\u001B[0m\u001B[1;33m(\u001B[0m\u001B[0mfull_output\u001B[0m\u001B[1;33m,\u001B[0m \u001B[0mr\u001B[0m\u001B[1;33m)\u001B[0m\u001B[1;33m\u001B[0m\u001B[1;33m\u001B[0m\u001B[0m\n\u001B[0;32m    551\u001B[0m \u001B[1;33m\u001B[0m\u001B[0m\n",
      "\u001B[1;32m<ipython-input-53-56a86b0e631d>\u001B[0m in \u001B[0;36mcubic_equation\u001B[1;34m(lmbda)\u001B[0m\n\u001B[0;32m     15\u001B[0m     \u001B[1;31m# Define the coefficients of the discriminating cubic equation (Equation 10)\u001B[0m\u001B[1;33m\u001B[0m\u001B[1;33m\u001B[0m\u001B[1;33m\u001B[0m\u001B[0m\n\u001B[0;32m     16\u001B[0m     \u001B[1;32mdef\u001B[0m \u001B[0mcubic_equation\u001B[0m\u001B[1;33m(\u001B[0m\u001B[0mlmbda\u001B[0m\u001B[1;33m)\u001B[0m\u001B[1;33m:\u001B[0m\u001B[1;33m\u001B[0m\u001B[1;33m\u001B[0m\u001B[0m\n\u001B[1;32m---> 17\u001B[1;33m         \u001B[0ml1\u001B[0m\u001B[1;33m,\u001B[0m \u001B[0ml2\u001B[0m\u001B[1;33m,\u001B[0m \u001B[0ml3\u001B[0m \u001B[1;33m=\u001B[0m \u001B[0mlmbda\u001B[0m\u001B[1;33m[\u001B[0m\u001B[1;36m0\u001B[0m\u001B[1;33m]\u001B[0m\u001B[1;33m,\u001B[0m \u001B[0mlmbda\u001B[0m\u001B[1;33m[\u001B[0m\u001B[1;36m1\u001B[0m\u001B[1;33m]\u001B[0m\u001B[1;33m,\u001B[0m \u001B[0mlmbda\u001B[0m\u001B[1;33m[\u001B[0m\u001B[1;36m2\u001B[0m\u001B[1;33m]\u001B[0m\u001B[1;33m\u001B[0m\u001B[1;33m\u001B[0m\u001B[0m\n\u001B[0m\u001B[0;32m     18\u001B[0m         return [\n\u001B[0;32m     19\u001B[0m             \u001B[0ml1\u001B[0m \u001B[1;33m*\u001B[0m \u001B[0ml2\u001B[0m \u001B[1;33m*\u001B[0m \u001B[0ml3\u001B[0m \u001B[1;33m-\u001B[0m \u001B[0ml1\u001B[0m \u001B[1;33m-\u001B[0m \u001B[0ml2\u001B[0m \u001B[1;33m-\u001B[0m \u001B[0ml3\u001B[0m\u001B[1;33m,\u001B[0m\u001B[1;33m\u001B[0m\u001B[1;33m\u001B[0m\u001B[0m\n",
      "\u001B[1;31mTypeError\u001B[0m: 'float' object is not subscriptable"
     ]
    }
   ],
   "source": [
    "# 2nd iteration with gpt:\n",
    "import numpy as np\n",
    "from scipy.optimize import root_scalar\n",
    "\n",
    "def solve_discriminating_cubic(a, b, c, f, g, h):\n",
    "    \"\"\"\n",
    "    Solve the discriminating cubic equation to find lambda values.\n",
    "\n",
    "    Args:\n",
    "        a, b, c, f, g, h (float): Coefficients from Equation 7.\n",
    "\n",
    "    Returns:\n",
    "        dict: Dictionary containing lambda values labeled as 'lambda1', 'lambda2', 'lambda3'.\n",
    "    \"\"\"\n",
    "    # Define the coefficients of the discriminating cubic equation (Equation 10)\n",
    "    def cubic_equation(lmbda):\n",
    "        l1, l2, l3 = lmbda[0], lmbda[1], lmbda[2]\n",
    "        return [\n",
    "            l1 * l2 * l3 - l1 - l2 - l3,\n",
    "            l1 * l2 + l1 * l3 + l2 * l3 - (a + b + c),\n",
    "            l1 + l2 + l3 - (a * b * c + f * f + g * g + h * h),\n",
    "            l1 * l2 * l3 - (a * b * c + 2 * f * g * h)\n",
    "        ]\n",
    "\n",
    "    # Solve the cubic equation to find lambdas\n",
    "    root = root_scalar(cubic_equation, bracket=[0, 1], method='bisect')\n",
    "\n",
    "    if root.converged:\n",
    "        lmbda = [root.root, 1, 1 / root.root]\n",
    "        lambda_dict = {\n",
    "            'lambda1': lmbda[0],\n",
    "            'lambda2': lmbda[1],\n",
    "            'lambda3': lmbda[2]\n",
    "        }\n",
    "        return lambda_dict\n",
    "    else:\n",
    "        raise ValueError(\"Failed to find valid lambdas\")\n",
    "\n",
    "def calculate_transformation_matrix(lambdas):\n",
    "    \"\"\"\n",
    "    Calculate the rotational transformation matrix T1.\n",
    "\n",
    "    Args:\n",
    "        lambdas (dict): Dictionary containing lambda1, lambda2, and lambda3.\n",
    "\n",
    "    Returns:\n",
    "        numpy.ndarray: Rotational transformation matrix T1.\n",
    "    \"\"\"\n",
    "    lambda1, lambda2, lambda3 = lambdas['lambda1'], lambdas['lambda2'], lambdas['lambda3']\n",
    "\n",
    "    # Calculate elements of T1\n",
    "    t1 = (b - lambda1) * g - f * h\n",
    "    t2 = (a - lambda1) * f - g * h\n",
    "    t3 = -(a - lambda1) * (t1 / t2) / ((g - h) / g)\n",
    "\n",
    "    m1 = 1 / np.sqrt(1 + (t1 / t2) ** 2 + t3 ** 2)\n",
    "    l1 = (t1 / t2) * m1\n",
    "    n1 = t3 * m1\n",
    "\n",
    "    m2 = 1\n",
    "    l2 = 0\n",
    "    n2 = 0\n",
    "\n",
    "    m3 = t3 * m1\n",
    "    l3 = (t1 / t2) * m1\n",
    "    n3 = m1\n",
    "\n",
    "    # Build T1 matrix\n",
    "    T1 = np.array([[l1, m1, n1, 0],\n",
    "                   [l2, m2, n2, 0],\n",
    "                   [l3, m3, n3, 0],\n",
    "                   [0, 0, 0, 1]])\n",
    "\n",
    "    return T1\n",
    "\n",
    "def reduce_to_canonical_form(a, b, c, f, g, h):\n",
    "    \"\"\"\n",
    "    Reduce the general equation of conicoids to canonical form.\n",
    "\n",
    "    Args:\n",
    "        a, b, c, f, g, h (float): Coefficients from Equation 7.\n",
    "\n",
    "    Returns:\n",
    "        tuple: Tuple containing the rotational transformation matrix T1.\n",
    "    \"\"\"\n",
    "    # Step 1: Solve the discriminating cubic equation\n",
    "    lambdas = solve_discriminating_cubic(a, b, c, f, g, h)\n",
    "\n",
    "    # Step 2: Calculate the rotational transformation matrix T1\n",
    "    T1 = calculate_transformation_matrix(lambdas)\n",
    "\n",
    "    return T1\n",
    "\n",
    "# Example usage:\n",
    "a, b, c, f, g, h = 0.2, 0.3, 0.1, 0.05, 0.1, 0.03\n",
    "T1 = reduce_to_canonical_form(a, b, c, f, g, h)\n",
    "print(\"Rotational Transformation Matrix T1:\")\n",
    "print(T1)\n"
   ],
   "metadata": {
    "collapsed": false,
    "pycharm": {
     "name": "#%%\n"
    }
   }
  },
  {
   "cell_type": "code",
   "execution_count": null,
   "outputs": [],
   "source": [
    "import math\n",
    "\n",
    "def compute_surface_normal(coefficients_of_ellipse, effective_focal_length):\n",
    "    # Step 1: Estimation of coefficients of the general equation of the cone\n",
    "    a, b, c, f, g, h, u, v, w, d = estimate_cone_coefficients(coefficients_of_ellipse, effective_focal_length)\n",
    "\n",
    "    # Step 2: Reduction of the equation of the cone\n",
    "    lambda_1, lambda_2, lambda_3 = solve_discriminating_cubic(a, b, c, f, g, h)\n",
    "\n",
    "    # Step 3: Estimation of coefficients of the equation of the circular-feature plane\n",
    "    if lambda_1 < lambda_2:\n",
    "        l, m, n = equation_30(lambda_1, lambda_2, lambda_3)\n",
    "    elif lambda_1 > lambda_2:\n",
    "        l, m, n = equation_31(lambda_1, lambda_2, lambda_3)\n",
    "    else:\n",
    "        l, m, n = equation_33()\n",
    "\n",
    "    return l, m, n\n",
    "\n",
    "import numpy as np\n",
    "from scipy.optimize import fsolve\n",
    "\n",
    "\n",
    "\n",
    "def solve_discriminating_cubic(a, b, c, f, g, h):\n",
    "    # Implement your logic here to solve the discriminating cubic equation (Equation 10)\n",
    "    # and obtain the roots lambda_1, lambda_2, and lambda_3\n",
    "    # ...\n",
    "    return lambda_1, lambda_2, lambda_3\n",
    "\n",
    "def equation_30(lambda_1, lambda_2, lambda_3):\n",
    "    n = math.sqrt((lambda_1 - lambda_3) / (lambda_2 - lambda_3))\n",
    "    m = math.sqrt((lambda_2 - lambda_1) / (lambda_2 - lambda_3))\n",
    "    l = 0\n",
    "    return l, m, n\n",
    "\n",
    "def equation_31(lambda_1, lambda_2, lambda_3):\n",
    "    n = math.sqrt((lambda_2 - lambda_3) / (lambda_1 - lambda_3))\n",
    "    m = 0\n",
    "    l = math.sqrt((lambda_1 - lambda_2) / (lambda_1 - lambda_3))\n",
    "    return l, m, n\n",
    "\n",
    "def equation_33():\n",
    "    n = 1\n",
    "    m = 0\n",
    "    l = 0\n",
    "    return l, m, n\n"
   ],
   "metadata": {
    "collapsed": false,
    "pycharm": {
     "name": "#%%\n"
    }
   }
  },
  {
   "cell_type": "code",
   "execution_count": null,
   "outputs": [],
   "source": [
    "import numpy as np\n",
    "from scipy.optimize import fsolve\n",
    "\n",
    "def estimate_cone_coefficients(center_x, center_y, width, height, phi, focal_length):\n",
    "    # Convert phi from degrees to radians\n",
    "    phi_rad = np.deg2rad(phi)\n",
    "\n",
    "    # Extract ellipse parameters\n",
    "    a_ellipse = (width / 2) ** 2\n",
    "    b_ellipse = (height / 2) ** 2\n",
    "    c_ellipse = 0  # Z-axis component is zero for 2D ellipse\n",
    "    d_ellipse = 0  # No linear term\n",
    "    f_ellipse = 0  # No cross-product term between x and y\n",
    "    g_ellipse = 0  # No cross-product term between x and z\n",
    "    h_ellipse = 0  # No cross-product term between y and z\n",
    "\n",
    "    # Create a function to solve for lambda_1, lambda_2, and lambda_3\n",
    "    def cubic_equation(vars):\n",
    "        lambda_1, lambda_2, lambda_3 = vars\n",
    "        return [\n",
    "            lambda_1 - lambda_1 * (a_ellipse + b_ellipse + c_ellipse) + (b_ellipse * c_ellipse + c_ellipse * a_ellipse + a_ellipse * b_ellipse - f_ellipse**2 - g_ellipse**2 - h_ellipse**2) * lambda_1 - (a_ellipse * b_ellipse * c_ellipse + 2 * f_ellipse * g_ellipse * h_ellipse - a_ellipse * f_ellipse**2 - b_ellipse * g_ellipse**2 - c_ellipse * h_ellipse**2),\n",
    "            lambda_2 - lambda_2 * (a_ellipse + b_ellipse + c_ellipse) + (b_ellipse * c_ellipse + c_ellipse * a_ellipse + a_ellipse * b_ellipse - f_ellipse**2 - g_ellipse**2 - h_ellipse**2) * lambda_2 - (a_ellipse * b_ellipse * c_ellipse + 2 * f_ellipse * g_ellipse * h_ellipse - a_ellipse * f_ellipse**2 - b_ellipse * g_ellipse**2 - c_ellipse * h_ellipse**2),\n",
    "            lambda_3 - lambda_3 * (a_ellipse + b_ellipse + c_ellipse) + (b_ellipse * c_ellipse + c_ellipse * a_ellipse + a_ellipse * b_ellipse - f_ellipse**2 - g_ellipse**2 - h_ellipse**2) * lambda_3 - (a_ellipse * b_ellipse * c_ellipse + 2 * f_ellipse * g_ellipse * h_ellipse - a_ellipse * f_ellipse**2 - b_ellipse * g_ellipse**2 - c_ellipse * h_ellipse**2)\n",
    "        ]\n",
    "\n",
    "    # Solve the cubic equation to find lambda_1, lambda_2, and lambda_3\n",
    "    lambdas = fsolve(cubic_equation, [1.0, 1.0, 1.0])\n",
    "\n",
    "    # Extract the solved lambdas\n",
    "    lambda_1, lambda_2, lambda_3 = lambdas\n",
    "\n",
    "    # Calculate coefficients of the general equation of the cone\n",
    "    a = lambda_1 * (focal_length ** 2)\n",
    "    b = lambda_2 * (focal_length ** 2)\n",
    "    c = lambda_3 * (focal_length ** 2)\n",
    "\n",
    "    # Calculate cross-product terms (f, g, h)\n",
    "    f = lambda_3 * (b_ellipse * np.sin(phi_rad))\n",
    "    g = -lambda_3 * (a_ellipse * np.cos(phi_rad))\n",
    "    h = lambda_3 * (a_ellipse * b_ellipse - lambda_2 * (b_ellipse * np.sin(phi_rad) - a_ellipse * np.cos(phi_rad)))\n",
    "\n",
    "    # Constant term (d) is set to zero for vertex on the image plane\n",
    "    d = 0\n",
    "\n",
    "    return a, b, c, f, g, h, d\n"
   ],
   "metadata": {
    "collapsed": false,
    "pycharm": {
     "name": "#%%\n"
    }
   }
  },
  {
   "cell_type": "code",
   "execution_count": 19,
   "outputs": [],
   "source": [
    "from pdf2image import convert_from_path\n",
    "\n",
    "pdf_path = 'D:\\MarkS3\\Documents\\Research_Papers\\Three-dimensional_location_estimation_of_circular_features_for_machine_vision.pdf'\n",
    "images = convert_from_path(pdf_path,poppler_path=r'C:\\poppler_get_rid_of_later\\poppler-23.08.0\\Library\\bin')"
   ],
   "metadata": {
    "collapsed": false,
    "pycharm": {
     "name": "#%%\n"
    }
   }
  },
  {
   "cell_type": "code",
   "execution_count": 23,
   "outputs": [],
   "source": [
    "import pytesseract\n",
    "pytesseract.pytesseract.tesseract_cmd = r'C:\\Program Files\\Tesseract-OCR\\tesseract.exe'\n",
    "# Loop through each image and extract text\n",
    "for i, image in enumerate(images):\n",
    "    text = pytesseract.image_to_string(image)\n",
    "\n",
    "    # Optionally, you can save the extracted text to a text file\n",
    "    with open(rf'C:\\poppler_get_rid_of_later\\outputs\\output_page_{i}.txt', 'w', encoding='utf-8') as file:\n",
    "        file.write(text)"
   ],
   "metadata": {
    "collapsed": false,
    "pycharm": {
     "name": "#%%\n"
    }
   }
  },
  {
   "cell_type": "code",
   "execution_count": null,
   "outputs": [],
   "source": [],
   "metadata": {
    "collapsed": false,
    "pycharm": {
     "name": "#%%\n"
    }
   }
  }
 ],
 "metadata": {
  "kernelspec": {
   "display_name": "Python 3",
   "language": "python",
   "name": "python3"
  },
  "language_info": {
   "codemirror_mode": {
    "name": "ipython",
    "version": 2
   },
   "file_extension": ".py",
   "mimetype": "text/x-python",
   "name": "python",
   "nbconvert_exporter": "python",
   "pygments_lexer": "ipython2",
   "version": "2.7.6"
  }
 },
 "nbformat": 4,
 "nbformat_minor": 0
}