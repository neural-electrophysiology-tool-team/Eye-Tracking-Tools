{
 "cells": [
  {
   "cell_type": "code",
   "outputs": [
    {
     "name": "stderr",
     "output_type": "stream",
     "text": [
      "2it [00:01,  1.03it/s]\n"
     ]
    }
   ],
   "source": [
    "exp_path = block.analysis_path / 'vid_draft_pc.mp4'\n",
    "export_eyetracking_video(block, [29180.65, 31422.65], [30046.9,32968.55], export_path=exp_path)"
   ],
   "metadata": {
    "collapsed": false,
    "ExecuteTime": {
     "end_time": "2024-02-22T09:36:59.414261800Z",
     "start_time": "2024-02-22T09:36:54.984879500Z"
    }
   },
   "id": "c1287820c7c2d3bc",
   "execution_count": 195
  },
  {
   "cell_type": "code",
   "outputs": [],
   "source": [
    "block.left_3d = pd.read_csv(block.analysis_path / 'left_3d_draft.csv')"
   ],
   "metadata": {
    "collapsed": false,
    "ExecuteTime": {
     "end_time": "2024-02-22T09:35:58.714549Z",
     "start_time": "2024-02-22T09:35:56.726365200Z"
    }
   },
   "id": "b3580d03b3e66d30",
   "execution_count": 193
  },
  {
   "cell_type": "code",
   "outputs": [],
   "source": [
    "def export_eyetracking_video_tali(block, start_ms_list, end_ms_list, xflip=True, yrotate=True, rotate_frames=True, export_path=None):\n",
    "    if export_path is None:\n",
    "        print('No export path supplied, use a show_eye_videos')\n",
    "    le_vid = block.le_videos[0]\n",
    "    re_vid = block.re_videos[0]\n",
    "\n",
    "    if len(start_ms_list) != len(end_ms_list):\n",
    "        print(\"Error: The number of start_ms values must be equal to the number of end_ms values.\")\n",
    "        return\n",
    "    fourcc = cv2.VideoWriter_fourcc(*'H264')\n",
    "    output_video = cv2.VideoWriter(str(export_path),fourcc, 60.0, (640*2,480*2))\n",
    "    le_cap = cv2.VideoCapture(le_vid)\n",
    "    re_cap = cv2.VideoCapture(re_vid)\n",
    "\n",
    "    if not le_cap.isOpened() or not re_cap.isOpened():\n",
    "        print(\"Error opening video file.\")\n",
    "        return\n",
    "    \n",
    "    prev_l_frame = 0\n",
    "    prev_r_frame = 0\n",
    "    # fig, (ax1,ax2) = plt.subplots(1,2)\n",
    "    stop_flag = False\n",
    "    for i, (start_ms, end_ms) in tqdm.tqdm(enumerate(zip(start_ms_list, end_ms_list))):\n",
    "        if stop_flag:\n",
    "            break\n",
    "        if block.left_eye_data.iloc[0].ms_axis > start_ms:\n",
    "            print(f'ms_axis starts at {block.left_eye_data.iloc[0].ms_axis} but {start_ms} was requested, defaulting to earliest sample')\n",
    "            start_ms = block.left_eye_data.iloc[0].ms_axis\n",
    "        if block.left_eye_data.iloc[-1].ms_axis < end_ms:\n",
    "            print(f'ms_axis ends at {block.left_eye_data.iloc[-1].ms_axis} but {end_ms} was requested, defaulting to last sample')\n",
    "            end_ms = block.left_eye_data.iloc[-1].ms_axis\n",
    "\n",
    "        ms_timestamps = block.left_eye_data.query('ms_axis > @start_ms and ms_axis < @end_ms')['ms_axis'].values\n",
    "        \n",
    "        # insert a completely white frame segment of 0.5 seconds (30 frames)\n",
    "        for current_ms in ms_timestamps:\n",
    "            current_le_frame = int(block.left_eye_data.query('ms_axis == @current_ms').eye_frame)\n",
    "            current_re_frame = int(block.right_eye_data.query('ms_axis == @current_ms').eye_frame)\n",
    "            \n",
    "            # creating plot \n",
    "            tmp_df_2d = block.left_eye_data.query('ms_axis > @current_ms - 200 and ms_axis < @current_ms')\n",
    "            tmp_df_3d = block.left_3d.query('timestamp > @current_ms - 200 and timestamp < @current_ms')\n",
    "            c = np.arange(len(tmp_df_2d))\n",
    "            ax1 = plt.scatter(tmp_df_2d['center_x'],tmp_df_2d['center_y'], c=c, cmap='Blues')\n",
    "            ax2 = plt.scatter(tmp_df_3d['phi'],tmp_df_3d['theta'], c=c, cmap='Blues')\n",
    "            plt.colorbar(ax1)\n",
    "            fig.canvas.draw()\n",
    "            # convert canvas to image\n",
    "            img = np.frombuffer(fig.canvas.tostring_rgb(), dtype=np.uint8)\n",
    "            img  = img.reshape(fig.canvas.get_width_height()[::-1] + (3,))\n",
    "\n",
    "            # img is rgb, convert to opencv's default bgr\n",
    "            img = cv2.cvtColor(img,cv2.COLOR_RGB2BGR)\n",
    "            img = cv2.resize(img, (1280, 480))\n",
    "            \n",
    "            if prev_l_frame + 1 != current_le_frame:\n",
    "                le_cap.set(cv2.CAP_PROP_POS_FRAMES, current_le_frame)\n",
    "            l_ret, l_frame = le_cap.read()\n",
    "\n",
    "            if prev_r_frame + 1 != current_re_frame:\n",
    "                re_cap.set(cv2.CAP_PROP_POS_FRAMES, current_re_frame)\n",
    "            r_ret, r_frame = re_cap.read()\n",
    "\n",
    "            if not r_ret or not l_ret:\n",
    "                break\n",
    "\n",
    "            if xflip:\n",
    "                l_frame = cv2.flip(l_frame, 1)\n",
    "                r_frame = cv2.flip(r_frame, 1)\n",
    "            \n",
    "            if rotate_frames:\n",
    "                if block.left_rotation_matrix is None or block.right_rotation_matrix is None:\n",
    "                    raise AttributeError('At least one rotation matrix is missing... \\n '\n",
    "                                         'Run the rotate_frame_to_horizontal_with_interpolation for each eye video')\n",
    "                else:\n",
    "                    l_frame = cv2.warpAffine(l_frame, block.left_rotation_matrix, (l_frame.shape[1], l_frame.shape[0]))\n",
    "                    r_frame = cv2.warpAffine(r_frame, block.right_rotation_matrix, (r_frame.shape[1], r_frame.shape[0]))\n",
    "            # if you want to plot something on the frame, do it before rotation and rotate the annotated frame\n",
    "            if yrotate:\n",
    "                l_frame = cv2.rotate(l_frame, cv2.ROTATE_180)\n",
    "                r_frame = cv2.rotate(r_frame, cv2.ROTATE_180)\n",
    "                \n",
    "            synchronized_frame = cv2.hconcat([r_frame, l_frame])\n",
    "             \n",
    "            # Add a black lower section to the frame\n",
    "            black_section = np.zeros((l_frame.shape[0], l_frame.shape[1]*2, 3), dtype=np.uint8)\n",
    "\n",
    "            synchronized_frame = np.vstack([synchronized_frame, black_section])\n",
    "            synchronized_frame = cv2.cvtColor(synchronized_frame, cv2.COLOR_BGR2GRAY)\n",
    "            # Write current_ms value in the added black area\n",
    "            font = cv2.FONT_HERSHEY_SIMPLEX\n",
    "            cv2.putText(synchronized_frame, f'Millisecond timestamp: {current_ms}', (10, l_frame.shape[0] + 30),\n",
    "                        font, 0.7, (255, 255, 255), 2, cv2.LINE_AA)\n",
    "            cv2.putText(synchronized_frame, f'saccade_number: {i}', (10, l_frame.shape[0] + 60),\n",
    "                        font, 0.7, (255, 255, 255), 2, cv2.LINE_AA)\n",
    "            #print(f'frame actual size: {np.shape(synchronized_frame)}')\n",
    "            output_video.write(synchronized_frame)\n",
    "            prev_l_frame = current_le_frame\n",
    "            prev_r_frame = current_re_frame\n",
    "            cv2.imshow(\"video\",synchronized_frame)\n",
    "\n",
    "        # add half second white blink for saccade ends:\n",
    "        for wb in range(5):\n",
    "            output_video.write(np.ones_like(synchronized_frame)*1)\n",
    "            key = cv2.waitKey(25)\n",
    "            if key == ord('q'):\n",
    "                stop_flag = True\n",
    "                break\n",
    "            elif key == ord('n'):\n",
    "                break\n",
    "    output_video.release()\n",
    "    le_cap.release()\n",
    "    re_cap.release()\n",
    "    cv2.destroyAllWindows()\n"
   ],
   "metadata": {
    "collapsed": false,
    "ExecuteTime": {
     "end_time": "2024-02-26T17:18:36.233717300Z",
     "start_time": "2024-02-26T17:18:36.196211600Z"
    }
   },
   "id": "5593c02a366fd51d",
   "execution_count": 1
  },
  {
   "cell_type": "markdown",
   "source": [
    "# TODO:\n",
    "## integrate functionality in this notebook into class-based methods\n",
    "    - play_video_with_ellipses + rotation, DONE\n",
    "    - collect_lights_out_events, DONE\n",
    "    - sync_correction_based_on_LED_blinks, working on it \n"
   ],
   "metadata": {
    "collapsed": false
   },
   "id": "2c7e4122eb48e5c5"
  },
  {
   "cell_type": "markdown",
   "source": [],
   "metadata": {
    "collapsed": false
   },
   "id": "73ec9a21ea55da59"
  },
  {
   "cell_type": "code",
   "outputs": [],
   "source": [
    "import numpy as np\n",
    "import cv2\n",
    "from itertools import cycle\n",
    "import pickle\n",
    "import pathlib\n",
    "import math\n",
    "import tqdm\n",
    "import scipy.io\n",
    "from matplotlib import pyplot as plt\n",
    "import scipy.io\n",
    "import h5py\n",
    "import re\n",
    "from lxml import etree as ET\n",
    "import scipy.signal as sig\n",
    "import pandas as pd\n",
    "from scipy.stats import kde\n",
    "from BlockSync_current import BlockSync\n",
    "import UtilityFunctions_newOE as uf\n",
    "from scipy import signal\n",
    "import bokeh\n",
    "import seaborn as sns"
   ],
   "metadata": {
    "collapsed": true,
    "ExecuteTime": {
     "end_time": "2024-02-26T17:18:37.902487400Z",
     "start_time": "2024-02-26T17:18:37.690560700Z"
    }
   },
   "id": "initial_id",
   "execution_count": 2
  },
  {
   "cell_type": "code",
   "outputs": [],
   "source": [
    "def show_synced_eye_videos(block, start_ms, end_ms, xflip=True, rotate_frames=True):\n",
    "    \n",
    "    le_vid = block.le_videos[0]\n",
    "    re_vid = block.re_videos[0]\n",
    "\n",
    "    if block.left_eye_data.iloc[0].ms_axis > start_ms:\n",
    "        print(f'ms_axis starts at {block.left_eye_data.iloc[0].ms_axis} but {start_ms} was requested, defaulting to earliest sample')\n",
    "        start_ms = block.left_eye_data.iloc[0].ms_axis\n",
    "    if block.left_eye_data.iloc[-1].ms_axis < end_ms:\n",
    "        print(f'ms_axis ends at {block.left_eye_data.iloc[-1].ms_axis} but {end_ms} was requested, defaulting to last sample')\n",
    "        end_ms = block.left_eye_data.iloc[-1].ms_axis\n",
    "    \n",
    "    ms_timestamps = block.left_eye_data.query('ms_axis > @start_ms and ms_axis < @end_ms')['ms_axis'].values\n",
    "    \n",
    "    le_cap = cv2.VideoCapture(le_vid)\n",
    "    re_cap = cv2.VideoCapture(re_vid)\n",
    "\n",
    "    if not le_cap.isOpened() or not re_cap.isOpened():\n",
    "        print(\"Error opening video file.\")\n",
    "        return\n",
    "    \n",
    "    prev_l_frame = 0\n",
    "    prev_r_frame = 0\n",
    "    for current_ms in ms_timestamps:\n",
    "        \n",
    "        current_le_frame = int(block.left_eye_data.query('ms_axis == @current_ms').eye_frame)\n",
    "        current_re_frame = int(block.right_eye_data.query('ms_axis == @current_ms').eye_frame)\n",
    "        \n",
    "        if prev_l_frame + 1 != current_le_frame:\n",
    "            le_cap.set(cv2.CAP_PROP_POS_FRAMES, current_le_frame)        \n",
    "        l_ret, l_frame = le_cap.read()\n",
    "        \n",
    "        if prev_r_frame + 1 != current_re_frame:\n",
    "            re_cap.set(cv2.CAP_PROP_POS_FRAMES, current_re_frame)        \n",
    "        r_ret, r_frame = re_cap.read()\n",
    "        \n",
    "        if not r_ret or not l_ret:\n",
    "            break\n",
    "        \n",
    "        # Optionally flip the frame along the x-axis\n",
    "        if xflip:\n",
    "            l_frame = cv2.flip(l_frame, 1)\n",
    "            r_frame = cv2.flip(r_frame, 1)\n",
    "        \n",
    "        if rotate_frames:\n",
    "            if block.left_rotation_matrix is None or block.right_rotation_matrix is None:\n",
    "                print('at least one rotation matrix is missing... \\n '\n",
    "                      'run the rotate_frame_to_horizontal_with_interpolation for each eye video')\n",
    "            else:\n",
    "                # Apply transformation matrix if provided\n",
    "                l_frame = cv2.warpAffine(l_frame, block.left_rotation_matrix, (l_frame.shape[1], l_frame.shape[0]))\n",
    "                r_frame = cv2.warpAffine(r_frame, block.right_rotation_matrix, (r_frame.shape[1], r_frame.shape[0]))\n",
    "            \n",
    "        # Concatenate frames side by side\n",
    "        synchronized_frame = cv2.hconcat([l_frame, r_frame])\n",
    "        \n",
    "        # Display the synchronized frame\n",
    "        cv2.imshow('Synchronized Videos', synchronized_frame)\n",
    "        prev_l_frame = current_le_frame\n",
    "        prev_r_frame = current_re_frame\n",
    "        \n",
    "        # Check for the 'q' key to quit\n",
    "        if cv2.waitKey(25) & 0xFF == ord('q'):\n",
    "            break\n",
    "        \n",
    "    le_cap.release()\n",
    "    re_cap.release()\n",
    "    cv2.destroyAllWindows()\n",
    "    "
   ],
   "metadata": {
    "collapsed": false,
    "ExecuteTime": {
     "end_time": "2024-02-26T17:18:38.997232900Z",
     "start_time": "2024-02-26T17:18:38.941232200Z"
    }
   },
   "id": "b6b56e1efcb33294",
   "execution_count": 4
  },
  {
   "cell_type": "code",
   "outputs": [],
   "source": [
    "# new utility functions defined here:\n",
    "def bokeh_plotter(data_list, label_list,\n",
    "                  plot_name='default',\n",
    "                  x_axis='X', y_axis='Y',\n",
    "                  peaks=None, peaks_list=False, export_path=False):\n",
    "    \"\"\"Generates an interactive Bokeh plot for the given data vector.\n",
    "    Args:\n",
    "        data_list (list or array): The data to be plotted.\n",
    "        label_list (list of str): The labels of the data vectors\n",
    "        plot_name (str, optional): The title of the plot. Defaults to 'default'.\n",
    "        x_axis (str, optional): The label for the x-axis. Defaults to 'X'.\n",
    "        y_axis (str, optional): The label for the y-axis. Defaults to 'Y'.\n",
    "        peaks (list or array, optional): Indices of peaks to highlight on the plot. Defaults to None.\n",
    "        export_path (False or str): when set to str, will output the resulting html fig\n",
    "    \"\"\"\n",
    "    color_cycle = cycle(bokeh.palettes.Category10_10)\n",
    "    fig = bokeh.plotting.figure(title=f'bokeh explorer: {plot_name}',\n",
    "                                x_axis_label=x_axis,\n",
    "                                y_axis_label=y_axis,\n",
    "                                plot_width=1500,\n",
    "                                plot_height=700)\n",
    "\n",
    "    for i, vec in enumerate(range(len(data_list))):\n",
    "        color = next(color_cycle)\n",
    "        data_vector = data_list[vec]\n",
    "        if label_list is None:\n",
    "            fig.line(range(len(data_vector)), data_vector, line_color=color, legend_label=f\"Line {len(fig.renderers)}\")\n",
    "        elif len(label_list) == len(data_list):\n",
    "            fig.line(range(len(data_vector)), data_vector, line_color=color, legend_label=f\"{label_list[i]}\")\n",
    "        if peaks is not None and peaks_list is True:\n",
    "            fig.circle(peaks[i], data_vector[peaks[i]], size=10, color=color)\n",
    "\n",
    "    if peaks is not None and peaks_list is False:\n",
    "        fig.circle(peaks, data_vector[peaks], size=10, color='red')\n",
    "\n",
    "    if export_path is not False:\n",
    "        print(f'exporting to {export_path}')\n",
    "        bokeh.io.output.output_file(filename=str(export_path / f'{plot_name}.html'), title=f'{plot_name}')\n",
    "    bokeh.plotting.show(fig)\n",
    "    \n",
    "    \n",
    "    # verification function for a single eye video + ellipse (requires cv2)\n",
    "\n",
    "# currently working very slowly\n",
    "def play_video_with_ellipses(block, eye, path_to_video=False, xflip=False):\n",
    "\n",
    "    if eye == 'left':\n",
    "        video_path = block.le_videos[0]\n",
    "        ellipse_dataframe = block.left_eye_data\n",
    "    elif eye == 'right':\n",
    "        video_path = block.re_videos[0]\n",
    "        ellipse_dataframe = block.right_eye_data\n",
    "    else:\n",
    "        raise ValueError(f\"eye can only be 'left' or 'right'\")\n",
    "    if video_path is not False:\n",
    "        video_path = path_to_video\n",
    "    # Open the video file\n",
    "    cap = cv2.VideoCapture(video_path)\n",
    "\n",
    "    if not cap.isOpened():\n",
    "        print(\"Error opening video file.\")\n",
    "        return\n",
    "\n",
    "    # Loop through each frame\n",
    "    while True:\n",
    "        # Read a frame from the video\n",
    "        ret, frame = cap.read()\n",
    "    \n",
    "        if not ret:\n",
    "            # Break the loop if the video is finished\n",
    "            break\n",
    "        \n",
    "        # Optionally flip the frame along the x-axis\n",
    "        if xflip:\n",
    "            frame = cv2.flip(frame, 1)\n",
    "\n",
    "        # Get the corresponding ellipse data for the current frame\n",
    "        current_frame_num = int(cap.get(cv2.CAP_PROP_POS_FRAMES)) - 1\n",
    "        try:\n",
    "            if eye == 'right':\n",
    "                current_frame_data = ellipse_dataframe.iloc[ellipse_dataframe.query('R_eye_frame == @current_frame_num').index[0]]\n",
    "            elif eye == 'left':\n",
    "                current_frame_data = ellipse_dataframe.iloc[ellipse_dataframe.query('L_eye_frame == @current_frame_num').index[0]]\n",
    "        except IndexError:\n",
    "            continue\n",
    "        # Extract ellipse parameters\n",
    "        try:\n",
    "            center_x = int(current_frame_data['center_x'])\n",
    "            center_y = int(current_frame_data['center_y'])\n",
    "            width = int(current_frame_data['width'])\n",
    "            height = int(current_frame_data['height'])\n",
    "            phi = float(current_frame_data['phi'])\n",
    "    \n",
    "            # Draw the ellipse on the frame\n",
    "            cv2.ellipse(frame, (center_x, center_y), (width, height), phi, 0, 360, (0, 255, 0), 2)\n",
    "    \n",
    "            # Display the frame\n",
    "            cv2.imshow('Video with Ellipses', frame)\n",
    "        \n",
    "            # Check for the 'q' key to quit\n",
    "            if cv2.waitKey(25) & 0xFF == ord('q'):\n",
    "                break\n",
    "        except ValueError:\n",
    "            continue\n",
    "    # Release video capture object and close the window\n",
    "    cap.release()\n",
    "    cv2.destroyAllWindows()\n",
    "    \n",
    "def play_video_with_ellipses_rotation(block, eye, path_to_video=False, xflip=False, transformation_matrix=None):\n",
    "    if eye == 'left':\n",
    "        video_path = block.le_videos[0]\n",
    "        ellipse_dataframe = block.left_eye_data\n",
    "    elif eye == 'right':\n",
    "        video_path = block.re_videos[0]\n",
    "        ellipse_dataframe = block.right_eye_data\n",
    "    else:\n",
    "        raise ValueError(f\"eye can only be 'left' or 'right'\")\n",
    "    \n",
    "    if video_path is not False:\n",
    "        video_path = path_to_video\n",
    "\n",
    "    # Open the video file\n",
    "    cap = cv2.VideoCapture(video_path)\n",
    "\n",
    "    if not cap.isOpened():\n",
    "        print(\"Error opening video file.\")\n",
    "        return\n",
    "\n",
    "    # Loop through each frame\n",
    "    while True:\n",
    "        # Read a frame from the video\n",
    "        ret, frame = cap.read()\n",
    "    \n",
    "        if not ret:\n",
    "            # Break the loop if the video is finished\n",
    "            break\n",
    "        \n",
    "        # Optionally flip the frame along the x-axis\n",
    "        if xflip:\n",
    "            frame = cv2.flip(frame, 1)\n",
    "\n",
    "        # Apply transformation matrix if provided\n",
    "        if transformation_matrix is not None:\n",
    "            frame = cv2.warpAffine(frame, transformation_matrix, (frame.shape[1], frame.shape[0]))\n",
    "\n",
    "        # Get the corresponding ellipse data for the current frame\n",
    "        current_frame_num = int(cap.get(cv2.CAP_PROP_POS_FRAMES)) - 1\n",
    "        try:\n",
    "            current_frame_data = ellipse_dataframe.iloc[ellipse_dataframe.query('eye_frame == @current_frame_num').index[0]]\n",
    "        except IndexError:\n",
    "            continue\n",
    "\n",
    "        # Extract ellipse parameters\n",
    "        if transformation_matrix is not None:\n",
    "            try:\n",
    "                center_x = int(current_frame_data['center_x'])\n",
    "                center_y = int(current_frame_data['center_y'])\n",
    "                width = int(current_frame_data['width'])\n",
    "                height = int(current_frame_data['height'])\n",
    "                phi = float(current_frame_data['phi'])\n",
    "                \n",
    "                # Draw the ellipse on the frame\n",
    "                cv2.ellipse(frame, (center_x, center_y), (width, height), phi, 0, 360, (0, 255, 0), 2)\n",
    "                \n",
    "                # Add text to the frame\n",
    "                text = f'ellipse angle: {phi}'\n",
    "                cv2.putText(frame, text, (10, 30), cv2.FONT_HERSHEY_SIMPLEX, 1, (0, 255, 0), 2, cv2.LINE_AA)\n",
    "        \n",
    "                \n",
    "                # Display the frame\n",
    "                cv2.imshow('Video with Ellipses', frame)\n",
    "            \n",
    "                # Check for the 'q' key to quit\n",
    "                if cv2.waitKey(25) & 0xFF == ord('q'):\n",
    "                    break\n",
    "            except ValueError:\n",
    "                continue\n",
    "        else:\n",
    "            try:\n",
    "                center_x = int(current_frame_data['center_x'])\n",
    "                center_y = int(current_frame_data['center_y'])\n",
    "                width = int(current_frame_data['width'])\n",
    "                height = int(current_frame_data['height'])\n",
    "                phi = float(current_frame_data['phi'])\n",
    "        \n",
    "                # Draw the ellipse on the frame\n",
    "                cv2.ellipse(frame, (center_x, center_y), (width, height), phi, 0, 360, (0, 255, 0), 2)\n",
    "                \n",
    "                # Add text to the frame\n",
    "                text = f'ellipse angle: {phi}'\n",
    "                cv2.putText(frame, text, (10, 30), cv2.FONT_HERSHEY_SIMPLEX, 1, (0, 255, 0), 2, cv2.LINE_AA)\n",
    "                \n",
    "                # Display the frame\n",
    "                cv2.imshow('Video with Ellipses', frame)\n",
    "            \n",
    "                # Check for the 'q' key to quit\n",
    "                if cv2.waitKey(25) & 0xFF == ord('q'):\n",
    "                    break\n",
    "            except ValueError:\n",
    "                continue\n",
    "\n",
    "    # Release video capture object and close the window\n",
    "    cap.release()\n",
    "    cv2.destroyAllWindows()\n"
   ],
   "metadata": {
    "collapsed": false,
    "ExecuteTime": {
     "end_time": "2024-02-26T17:18:38.652138Z",
     "start_time": "2024-02-26T17:18:38.562572200Z"
    }
   },
   "id": "af772d371f6cc645",
   "execution_count": 3
  },
  {
   "cell_type": "code",
   "outputs": [],
   "source": [
    "def show_synced_eye_videos_for_saccades(block, start_ms_list, end_ms_list, xflip=True, yrotate=True, rotate_frames=True):\n",
    "    le_vid = block.le_videos[0]\n",
    "    re_vid = block.re_videos[0]\n",
    "\n",
    "    if len(start_ms_list) != len(end_ms_list):\n",
    "        print(\"Error: The number of start_ms values must be equal to the number of end_ms values.\")\n",
    "        return\n",
    "\n",
    "    le_cap = cv2.VideoCapture(le_vid)\n",
    "    re_cap = cv2.VideoCapture(re_vid)\n",
    "\n",
    "    if not le_cap.isOpened() or not re_cap.isOpened():\n",
    "        print(\"Error opening video file.\")\n",
    "        return\n",
    "\n",
    "    prev_l_frame = 0\n",
    "    prev_r_frame = 0\n",
    "    stop_flag = False\n",
    "    for i, (start_ms, end_ms) in enumerate(zip(start_ms_list, end_ms_list)):\n",
    "        if stop_flag:\n",
    "            break\n",
    "        if block.left_eye_data.iloc[0].ms_axis > start_ms:\n",
    "            print(f'ms_axis starts at {block.left_eye_data.iloc[0].ms_axis} but {start_ms} was requested, defaulting to earliest sample')\n",
    "            start_ms = block.left_eye_data.iloc[0].ms_axis\n",
    "        if block.left_eye_data.iloc[-1].ms_axis < end_ms:\n",
    "            print(f'ms_axis ends at {block.left_eye_data.iloc[-1].ms_axis} but {end_ms} was requested, defaulting to last sample')\n",
    "            end_ms = block.left_eye_data.iloc[-1].ms_axis\n",
    "\n",
    "        ms_timestamps = block.left_eye_data.query('ms_axis > @start_ms and ms_axis < @end_ms')['ms_axis'].values\n",
    "\n",
    "        for current_ms in ms_timestamps:\n",
    "            current_le_frame = int(block.left_eye_data.query('ms_axis == @current_ms').eye_frame)\n",
    "            current_re_frame = int(block.right_eye_data.query('ms_axis == @current_ms').eye_frame)\n",
    "\n",
    "            if prev_l_frame + 1 != current_le_frame:\n",
    "                le_cap.set(cv2.CAP_PROP_POS_FRAMES, current_le_frame)\n",
    "            l_ret, l_frame = le_cap.read()\n",
    "\n",
    "            if prev_r_frame + 1 != current_re_frame:\n",
    "                re_cap.set(cv2.CAP_PROP_POS_FRAMES, current_re_frame)\n",
    "            r_ret, r_frame = re_cap.read()\n",
    "\n",
    "            if not r_ret or not l_ret:\n",
    "                break\n",
    "\n",
    "            if xflip:\n",
    "                l_frame = cv2.flip(l_frame, 1)\n",
    "                r_frame = cv2.flip(r_frame, 1)\n",
    "            \n",
    "            if rotate_frames:\n",
    "                if block.left_rotation_matrix is None or block.right_rotation_matrix is None:\n",
    "                    raise AttributeError('At least one rotation matrix is missing... \\n '\n",
    "                                         'Run the rotate_frame_to_horizontal_with_interpolation for each eye video')\n",
    "                else:\n",
    "                    l_frame = cv2.warpAffine(l_frame, block.left_rotation_matrix, (l_frame.shape[1], l_frame.shape[0]))\n",
    "                    r_frame = cv2.warpAffine(r_frame, block.right_rotation_matrix, (r_frame.shape[1], r_frame.shape[0]))\n",
    "            # if you want to plot something on the frame, do it before rotation and rotate the annotated frame\n",
    "            if yrotate:\n",
    "                l_frame = cv2.rotate(l_frame, cv2.ROTATE_180)\n",
    "                r_frame = cv2.rotate(r_frame, cv2.ROTATE_180)\n",
    "                \n",
    "            synchronized_frame = cv2.hconcat([r_frame, l_frame])\n",
    "             \n",
    "            # Add a black lower section to the frame\n",
    "            black_section = np.zeros((l_frame.shape[0], l_frame.shape[1]*2, 3), dtype=np.uint8)\n",
    "            synchronized_frame = np.vstack([synchronized_frame, black_section])\n",
    "            # Write current_ms value in the added black area\n",
    "            font = cv2.FONT_HERSHEY_SIMPLEX\n",
    "            cv2.putText(synchronized_frame, f'Millisecond timestamp: {current_ms}', (10, l_frame.shape[0] + 30),\n",
    "                        font, 0.7, (255, 255, 255), 2, cv2.LINE_AA)\n",
    "            cv2.putText(synchronized_frame, f'saccade_number: {i}', (10, l_frame.shape[0] + 60),\n",
    "                        font, 0.7, (255, 255, 255), 2, cv2.LINE_AA)\n",
    "            \n",
    "            cv2.imshow('Synchronized Videos', synchronized_frame)\n",
    "\n",
    "            prev_l_frame = current_le_frame\n",
    "            prev_r_frame = current_re_frame\n",
    "\n",
    "            key = cv2.waitKey(25)\n",
    "            if key == ord('q'):\n",
    "                stop_flag = True\n",
    "                break\n",
    "            elif key == ord('n'):\n",
    "                break\n",
    "\n",
    "    le_cap.release()\n",
    "    re_cap.release()\n",
    "    cv2.destroyAllWindows()\n",
    "\n",
    "# Example usage:\n",
    "# show_synced_eye_videos(block, [start_ms1, start_ms2, ...], [end_ms1, end_ms2, ...])\n"
   ],
   "metadata": {
    "collapsed": false,
    "ExecuteTime": {
     "end_time": "2024-02-26T17:18:39.335548800Z",
     "start_time": "2024-02-26T17:18:39.289555200Z"
    }
   },
   "id": "7b3ec8cc3e71ba92",
   "execution_count": 5
  },
  {
   "cell_type": "code",
   "outputs": [],
   "source": [
    "def export_eyetracking_video(block, start_ms_list, end_ms_list, xflip=True, yrotate=True, rotate_frames=True, export_path=None):\n",
    "    if export_path is None:\n",
    "        print('No export path supplied, use a show_eye_videos')\n",
    "    le_vid = block.le_videos[0]\n",
    "    re_vid = block.re_videos[0]\n",
    "\n",
    "    if len(start_ms_list) != len(end_ms_list):\n",
    "        print(\"Error: The number of start_ms values must be equal to the number of end_ms values.\")\n",
    "        return\n",
    "    fourcc = cv2.VideoWriter_fourcc(*'H264')\n",
    "    output_video = cv2.VideoWriter(str(export_path),fourcc, 60.0, (640*2,480*2))\n",
    "    le_cap = cv2.VideoCapture(le_vid)\n",
    "    re_cap = cv2.VideoCapture(re_vid)\n",
    "\n",
    "    if not le_cap.isOpened() or not re_cap.isOpened():\n",
    "        print(\"Error opening video file.\")\n",
    "        return\n",
    "    \n",
    "    prev_l_frame = 0\n",
    "    prev_r_frame = 0\n",
    "    stop_flag = False\n",
    "    for i, (start_ms, end_ms) in tqdm.tqdm(enumerate(zip(start_ms_list, end_ms_list))):\n",
    "        if stop_flag:\n",
    "            break\n",
    "        if block.left_eye_data.iloc[0].ms_axis > start_ms:\n",
    "            print(f'ms_axis starts at {block.left_eye_data.iloc[0].ms_axis} but {start_ms} was requested, defaulting to earliest sample')\n",
    "            start_ms = block.left_eye_data.iloc[0].ms_axis\n",
    "        if block.left_eye_data.iloc[-1].ms_axis < end_ms:\n",
    "            print(f'ms_axis ends at {block.left_eye_data.iloc[-1].ms_axis} but {end_ms} was requested, defaulting to last sample')\n",
    "            end_ms = block.left_eye_data.iloc[-1].ms_axis\n",
    "\n",
    "        ms_timestamps = block.left_eye_data.query('ms_axis > @start_ms and ms_axis < @end_ms')['ms_axis'].values\n",
    "        \n",
    "        # insert a completely white frame segment of 0.5 seconds (30 frames)\n",
    "        for current_ms in ms_timestamps:\n",
    "            current_le_frame = int(block.left_eye_data.query('ms_axis == @current_ms').eye_frame)\n",
    "            current_re_frame = int(block.right_eye_data.query('ms_axis == @current_ms').eye_frame)\n",
    "\n",
    "            if prev_l_frame + 1 != current_le_frame:\n",
    "                le_cap.set(cv2.CAP_PROP_POS_FRAMES, current_le_frame)\n",
    "            l_ret, l_frame = le_cap.read()\n",
    "\n",
    "            if prev_r_frame + 1 != current_re_frame:\n",
    "                re_cap.set(cv2.CAP_PROP_POS_FRAMES, current_re_frame)\n",
    "            r_ret, r_frame = re_cap.read()\n",
    "\n",
    "            if not r_ret or not l_ret:\n",
    "                break\n",
    "\n",
    "            if xflip:\n",
    "                l_frame = cv2.flip(l_frame, 1)\n",
    "                r_frame = cv2.flip(r_frame, 1)\n",
    "            \n",
    "            if rotate_frames:\n",
    "                if block.left_rotation_matrix is None or block.right_rotation_matrix is None:\n",
    "                    raise AttributeError('At least one rotation matrix is missing... \\n '\n",
    "                                         'Run the rotate_frame_to_horizontal_with_interpolation for each eye video')\n",
    "                else:\n",
    "                    l_frame = cv2.warpAffine(l_frame, block.left_rotation_matrix, (l_frame.shape[1], l_frame.shape[0]))\n",
    "                    r_frame = cv2.warpAffine(r_frame, block.right_rotation_matrix, (r_frame.shape[1], r_frame.shape[0]))\n",
    "            # if you want to plot something on the frame, do it before rotation and rotate the annotated frame\n",
    "            if yrotate:\n",
    "                l_frame = cv2.rotate(l_frame, cv2.ROTATE_180)\n",
    "                r_frame = cv2.rotate(r_frame, cv2.ROTATE_180)\n",
    "                \n",
    "            synchronized_frame = cv2.hconcat([r_frame, l_frame])\n",
    "            \n",
    "            # Add a black lower section to the frame\n",
    "            synchronized_frame = cv2.cvtColor(synchronized_frame, cv2.COLOR_BGR2GRAY)\n",
    "            \n",
    "            black_section = np.zeros((l_frame.shape[0], l_frame.shape[1]*2, 3), dtype=np.uint8)\n",
    "            black_section = cv2.cvtColor(black_section, cv2.COLOR_BGR2GRAY)\n",
    "            \n",
    "            synchronized_frame = np.vstack([synchronized_frame, black_section])\n",
    "            # Write current_ms value in the added black area\n",
    "            font = cv2.FONT_HERSHEY_SIMPLEX\n",
    "            cv2.putText(synchronized_frame, f'Millisecond timestamp: {current_ms}', (10, l_frame.shape[0] + 30),\n",
    "                        font, 0.7, (255, 255, 255), 2, cv2.LINE_AA)\n",
    "            cv2.putText(synchronized_frame, f'saccade_number: {i}', (10, l_frame.shape[0] + 60),\n",
    "                        font, 0.7, (255, 255, 255), 2, cv2.LINE_AA)\n",
    "            #print(f'frame actual size: {np.shape(synchronized_frame)}')\n",
    "            output_video.write(synchronized_frame)\n",
    "            prev_l_frame = current_le_frame\n",
    "            prev_r_frame = current_re_frame\n",
    "        # add half second white blink for saccade ends:\n",
    "        for wb in range(5):\n",
    "            output_video.write(np.ones_like(synchronized_frame)*1)\n",
    "            # key = cv2.waitKey(25)\n",
    "            # if key == ord('q'):\n",
    "            #     stop_flag = True\n",
    "            #     break\n",
    "            # elif key == ord('n'):\n",
    "            #     break\n",
    "    output_video.release()\n",
    "    le_cap.release()\n",
    "    re_cap.release()\n",
    "    cv2.destroyAllWindows()"
   ],
   "metadata": {
    "collapsed": false,
    "ExecuteTime": {
     "end_time": "2024-02-26T17:18:39.775923Z",
     "start_time": "2024-02-26T17:18:39.742642200Z"
    }
   },
   "id": "19e9d25c1888c06d",
   "execution_count": 6
  },
  {
   "cell_type": "code",
   "outputs": [
    {
     "ename": "AttributeError",
     "evalue": "'BlockSync' object has no attribute 'l_saccade_df'",
     "output_type": "error",
     "traceback": [
      "\u001B[1;31m---------------------------------------------------------------------------\u001B[0m",
      "\u001B[1;31mAttributeError\u001B[0m                            Traceback (most recent call last)",
      "\u001B[1;32m<ipython-input-410-61d7fdb8ecfe>\u001B[0m in \u001B[0;36m<module>\u001B[1;34m\u001B[0m\n\u001B[0;32m      1\u001B[0m \u001B[1;31m# This is a saccade curation function, can only run after the internal saccade dfs exist\u001B[0m\u001B[1;33m\u001B[0m\u001B[1;33m\u001B[0m\u001B[1;33m\u001B[0m\u001B[0m\n\u001B[1;32m----> 2\u001B[1;33m \u001B[0ml_saccades_start_ms\u001B[0m \u001B[1;33m=\u001B[0m \u001B[0mblock\u001B[0m\u001B[1;33m.\u001B[0m\u001B[0mleft_eye_data\u001B[0m\u001B[1;33m.\u001B[0m\u001B[0miloc\u001B[0m\u001B[1;33m[\u001B[0m\u001B[0mblock\u001B[0m\u001B[1;33m.\u001B[0m\u001B[0ml_saccade_df\u001B[0m\u001B[1;33m.\u001B[0m\u001B[0msaccade_start_ind\u001B[0m\u001B[1;33m]\u001B[0m\u001B[1;33m.\u001B[0m\u001B[0mms_axis\u001B[0m\u001B[1;33m.\u001B[0m\u001B[0mvalues\u001B[0m\u001B[1;33m\u001B[0m\u001B[1;33m\u001B[0m\u001B[0m\n\u001B[0m\u001B[0;32m      3\u001B[0m \u001B[0ml_saccades_end_ms\u001B[0m \u001B[1;33m=\u001B[0m \u001B[0mblock\u001B[0m\u001B[1;33m.\u001B[0m\u001B[0mleft_eye_data\u001B[0m\u001B[1;33m.\u001B[0m\u001B[0miloc\u001B[0m\u001B[1;33m[\u001B[0m\u001B[0mblock\u001B[0m\u001B[1;33m.\u001B[0m\u001B[0ml_saccade_df\u001B[0m\u001B[1;33m.\u001B[0m\u001B[0msaccade_end_ind\u001B[0m\u001B[1;33m]\u001B[0m\u001B[1;33m.\u001B[0m\u001B[0mms_axis\u001B[0m\u001B[1;33m.\u001B[0m\u001B[0mvalues\u001B[0m\u001B[1;33m\u001B[0m\u001B[1;33m\u001B[0m\u001B[0m\n\u001B[0;32m      4\u001B[0m \u001B[0mr_saccades_start_ms\u001B[0m \u001B[1;33m=\u001B[0m \u001B[0mblock\u001B[0m\u001B[1;33m.\u001B[0m\u001B[0mright_eye_data\u001B[0m\u001B[1;33m.\u001B[0m\u001B[0miloc\u001B[0m\u001B[1;33m[\u001B[0m\u001B[0mblock\u001B[0m\u001B[1;33m.\u001B[0m\u001B[0mr_saccade_df\u001B[0m\u001B[1;33m.\u001B[0m\u001B[0msaccade_start_ind\u001B[0m\u001B[1;33m]\u001B[0m\u001B[1;33m.\u001B[0m\u001B[0mms_axis\u001B[0m\u001B[1;33m.\u001B[0m\u001B[0mvalues\u001B[0m\u001B[1;33m\u001B[0m\u001B[1;33m\u001B[0m\u001B[0m\n\u001B[0;32m      5\u001B[0m \u001B[0mr_saccades_end_ms\u001B[0m \u001B[1;33m=\u001B[0m \u001B[0mblock\u001B[0m\u001B[1;33m.\u001B[0m\u001B[0mright_eye_data\u001B[0m\u001B[1;33m.\u001B[0m\u001B[0miloc\u001B[0m\u001B[1;33m[\u001B[0m\u001B[0mblock\u001B[0m\u001B[1;33m.\u001B[0m\u001B[0mr_saccade_df\u001B[0m\u001B[1;33m.\u001B[0m\u001B[0msaccade_end_ind\u001B[0m\u001B[1;33m]\u001B[0m\u001B[1;33m.\u001B[0m\u001B[0mms_axis\u001B[0m\u001B[1;33m.\u001B[0m\u001B[0mvalues\u001B[0m\u001B[1;33m\u001B[0m\u001B[1;33m\u001B[0m\u001B[0m\n",
      "\u001B[1;31mAttributeError\u001B[0m: 'BlockSync' object has no attribute 'l_saccade_df'"
     ]
    }
   ],
   "source": [
    "# This is a saccade curation function, can only run after the internal saccade dfs exist\n",
    "l_saccades_start_ms = block.left_eye_data.iloc[block.l_saccade_df.saccade_start_ind].ms_axis.values\n",
    "l_saccades_end_ms = block.left_eye_data.iloc[block.l_saccade_df.saccade_end_ind].ms_axis.values\n",
    "r_saccades_start_ms = block.right_eye_data.iloc[block.r_saccade_df.saccade_start_ind].ms_axis.values\n",
    "r_saccades_end_ms = block.right_eye_data.iloc[block.r_saccade_df.saccade_end_ind].ms_axis.values\n",
    "\n",
    "all_saccades_start_ms = np.hstack([l_saccades_start_ms,r_saccades_start_ms])\n",
    "all_saccades_end_ms = np.hstack([l_saccades_end_ms,r_saccades_end_ms])\n",
    "export_path = block.analysis_path / 'eye_vid_test.mp4'\n",
    "export_eyetracking_video(block,all_saccades_start_ms[:50]-500,all_saccades_end_ms[:50]+500, xflip=True, rotate_frames=True, yrotate=True, export_path=export_path)"
   ],
   "metadata": {
    "collapsed": false,
    "ExecuteTime": {
     "end_time": "2024-02-25T14:14:59.543689900Z",
     "start_time": "2024-02-25T14:14:59.458908500Z"
    }
   },
   "id": "e78d5073fd77db8d",
   "execution_count": 410
  },
  {
   "cell_type": "code",
   "outputs": [
    {
     "name": "stdout",
     "output_type": "stream",
     "text": [
      "instantiated block number 040 at Path: Z:\\Nimrod\\experiments\\PV_62\\2023_05_01\\block_040, new OE version\n",
      "Found the sample rate for block 040 in the xml file, it is 20000 Hz\n",
      "created the .oe_rec attribute as an open ephys recording obj with get_data functionality\n",
      "retrieving zertoh sample number for block 040\n",
      "got it!\n",
      "instantiated block number 041 at Path: Z:\\Nimrod\\experiments\\PV_62\\2023_05_01\\block_041, new OE version\n",
      "Found the sample rate for block 041 in the xml file, it is 20000 Hz\n",
      "created the .oe_rec attribute as an open ephys recording obj with get_data functionality\n",
      "retrieving zertoh sample number for block 041\n",
      "got it!\n",
      "instantiated block number 043 at Path: Z:\\Nimrod\\experiments\\PV_62\\2023_05_02\\block_043, new OE version\n",
      "Found the sample rate for block 043 in the xml file, it is 20000 Hz\n",
      "created the .oe_rec attribute as an open ephys recording obj with get_data functionality\n",
      "retrieving zertoh sample number for block 043\n",
      "got it!\n",
      "instantiated block number 044 at Path: Z:\\Nimrod\\experiments\\PV_62\\2023_05_02\\block_044, new OE version\n",
      "Found the sample rate for block 044 in the xml file, it is 20000 Hz\n",
      "created the .oe_rec attribute as an open ephys recording obj with get_data functionality\n",
      "retrieving zertoh sample number for block 044\n",
      "got it!\n",
      "instantiated block number 045 at Path: Z:\\Nimrod\\experiments\\PV_62\\2023_05_03\\block_045, new OE version\n",
      "Found the sample rate for block 045 in the xml file, it is 20000 Hz\n",
      "created the .oe_rec attribute as an open ephys recording obj with get_data functionality\n",
      "retrieving zertoh sample number for block 045\n",
      "got it!\n",
      "instantiated block number 046 at Path: Z:\\Nimrod\\experiments\\PV_62\\2023_05_03\\block_046, new OE version\n",
      "Found the sample rate for block 046 in the xml file, it is 20000 Hz\n",
      "created the .oe_rec attribute as an open ephys recording obj with get_data functionality\n",
      "retrieving zertoh sample number for block 046\n",
      "got it!\n",
      "instantiated block number 047 at Path: Z:\\Nimrod\\experiments\\PV_62\\2023_05_03\\block_047, new OE version\n",
      "Found the sample rate for block 047 in the xml file, it is 20000 Hz\n",
      "created the .oe_rec attribute as an open ephys recording obj with get_data functionality\n",
      "retrieving zertoh sample number for block 047\n",
      "got it!\n",
      "instantiated block number 048 at Path: Z:\\Nimrod\\experiments\\PV_62\\2023_05_04\\block_048, new OE version\n",
      "Found the sample rate for block 048 in the xml file, it is 20000 Hz\n",
      "created the .oe_rec attribute as an open ephys recording obj with get_data functionality\n",
      "retrieving zertoh sample number for block 048\n",
      "got it!\n",
      "instantiated block number 049 at Path: Z:\\Nimrod\\experiments\\PV_62\\2023_05_04\\block_049, new OE version\n",
      "Found the sample rate for block 049 in the xml file, it is 20000 Hz\n",
      "created the .oe_rec attribute as an open ephys recording obj with get_data functionality\n",
      "retrieving zertoh sample number for block 049\n",
      "got it!\n",
      "instantiated block number 050 at Path: Z:\\Nimrod\\experiments\\PV_62\\2023_05_04\\block_050, new OE version\n",
      "Found the sample rate for block 050 in the xml file, it is 20000 Hz\n",
      "created the .oe_rec attribute as an open ephys recording obj with get_data functionality\n",
      "retrieving zertoh sample number for block 050\n",
      "got it!\n",
      "instantiated block number 051 at Path: Z:\\Nimrod\\experiments\\PV_62\\2023_05_04\\block_051, new OE version\n",
      "Found the sample rate for block 051 in the xml file, it is 20000 Hz\n",
      "created the .oe_rec attribute as an open ephys recording obj with get_data functionality\n",
      "retrieving zertoh sample number for block 051\n",
      "got it!\n",
      "instantiated block number 052 at Path: Z:\\Nimrod\\experiments\\PV_62\\2023_05_07\\block_052, new OE version\n",
      "Found the sample rate for block 052 in the xml file, it is 20000 Hz\n",
      "created the .oe_rec attribute as an open ephys recording obj with get_data functionality\n",
      "retrieving zertoh sample number for block 052\n",
      "got it!\n",
      "instantiated block number 053 at Path: Z:\\Nimrod\\experiments\\PV_62\\2023_05_07\\block_053, new OE version\n",
      "Found the sample rate for block 053 in the xml file, it is 20000 Hz\n",
      "created the .oe_rec attribute as an open ephys recording obj with get_data functionality\n",
      "retrieving zertoh sample number for block 053\n",
      "got it!\n",
      "instantiated block number 054 at Path: Z:\\Nimrod\\experiments\\PV_62\\2023_05_07\\block_054, new OE version\n",
      "Found the sample rate for block 054 in the xml file, it is 20000 Hz\n",
      "created the .oe_rec attribute as an open ephys recording obj with get_data functionality\n",
      "retrieving zertoh sample number for block 054\n",
      "got it!\n",
      "instantiated block number 055 at Path: Z:\\Nimrod\\experiments\\PV_62\\2023_05_07\\block_055, new OE version\n",
      "Found the sample rate for block 055 in the xml file, it is 20000 Hz\n",
      "created the .oe_rec attribute as an open ephys recording obj with get_data functionality\n",
      "retrieving zertoh sample number for block 055\n",
      "got it!\n",
      "instantiated block number 056 at Path: Z:\\Nimrod\\experiments\\PV_62\\2023_05_08\\block_056, new OE version\n",
      "Found the sample rate for block 056 in the xml file, it is 20000 Hz\n",
      "created the .oe_rec attribute as an open ephys recording obj with get_data functionality\n",
      "retrieving zertoh sample number for block 056\n",
      "got it!\n",
      "instantiated block number 057 at Path: Z:\\Nimrod\\experiments\\PV_62\\2023_05_08\\block_057, new OE version\n",
      "Found the sample rate for block 057 in the xml file, it is 20000 Hz\n",
      "created the .oe_rec attribute as an open ephys recording obj with get_data functionality\n",
      "retrieving zertoh sample number for block 057\n",
      "got it!\n",
      "instantiated block number 058 at Path: Z:\\Nimrod\\experiments\\PV_62\\2023_05_08\\block_058, new OE version\n",
      "Found the sample rate for block 058 in the xml file, it is 20000 Hz\n",
      "created the .oe_rec attribute as an open ephys recording obj with get_data functionality\n",
      "retrieving zertoh sample number for block 058\n",
      "got it!\n",
      "instantiated block number 059 at Path: Z:\\Nimrod\\experiments\\PV_62\\2023_05_08\\block_059, new OE version\n",
      "Found the sample rate for block 059 in the xml file, it is 20000 Hz\n",
      "created the .oe_rec attribute as an open ephys recording obj with get_data functionality\n",
      "retrieving zertoh sample number for block 059\n",
      "got it!\n"
     ]
    }
   ],
   "source": [
    "# define a single block to figure things out with:\n",
    "# this step creates block_collection - a list of BlockSync objects of interest\n",
    "block_numbers = range(40,60)\n",
    "bad_blocks = [42, 61, 62, 64, 65, 66] # True for PV_62\n",
    "experiment_path = pathlib.Path(r\"Z:\\Nimrod\\experiments\")\n",
    "animal = 'PV_62'\n",
    "block_collection = uf.block_generator(block_numbers=block_numbers,\n",
    "                                      experiment_path=experiment_path,\n",
    "                                      animal=animal,\n",
    "                                      bad_blocks=bad_blocks)\n",
    "# create a block_dict object for ease of access:\n",
    "block_dict = {}\n",
    "for b in block_collection:\n",
    "    block_dict[str(b.block_num)] = b\n",
    "\n"
   ],
   "metadata": {
    "collapsed": false,
    "ExecuteTime": {
     "end_time": "2024-02-28T09:17:44.366696900Z",
     "start_time": "2024-02-28T09:17:40.887531400Z"
    }
   },
   "id": "67ff6f0b4cceaaae",
   "execution_count": 73
  },
  {
   "cell_type": "code",
   "outputs": [
    {
     "name": "stdout",
     "output_type": "stream",
     "text": [
      "running parse_open_ephys_events...\n",
      "block 040 has a parsed events file, reading...\n",
      "getting eye brigtness values for block 040...\n",
      "found a file!\n",
      "blocksync_df loaded from analysis folder\n",
      "eye_brightness_df loaded from analysis folder\n",
      "running parse_open_ephys_events...\n",
      "block 041 has a parsed events file, reading...\n",
      "getting eye brigtness values for block 041...\n",
      "found a file!\n",
      "blocksync_df loaded from analysis folder\n",
      "eye_brightness_df loaded from analysis folder\n",
      "running parse_open_ephys_events...\n",
      "block 043 has a parsed events file, reading...\n",
      "getting eye brigtness values for block 043...\n",
      "found a file!\n",
      "blocksync_df loaded from analysis folder\n",
      "eye_brightness_df loaded from analysis folder\n",
      "running parse_open_ephys_events...\n",
      "block 044 has a parsed events file, reading...\n",
      "getting eye brigtness values for block 044...\n",
      "found a file!\n",
      "blocksync_df loaded from analysis folder\n",
      "eye_brightness_df loaded from analysis folder\n",
      "running parse_open_ephys_events...\n",
      "block 045 has a parsed events file, reading...\n",
      "getting eye brigtness values for block 045...\n",
      "found a file!\n",
      "blocksync_df loaded from analysis folder\n"
     ]
    },
    {
     "ename": "IndexError",
     "evalue": "list index out of range",
     "output_type": "error",
     "traceback": [
      "\u001B[1;31m---------------------------------------------------------------------------\u001B[0m",
      "\u001B[1;31mIndexError\u001B[0m                                Traceback (most recent call last)",
      "\u001B[1;32m<ipython-input-74-62ee4c1625f0>\u001B[0m in \u001B[0;36m<module>\u001B[1;34m\u001B[0m\n\u001B[0;32m      4\u001B[0m     \u001B[0mblock\u001B[0m\u001B[1;33m.\u001B[0m\u001B[0mget_eye_brightness_vectors\u001B[0m\u001B[1;33m(\u001B[0m\u001B[1;33m)\u001B[0m\u001B[1;33m\u001B[0m\u001B[1;33m\u001B[0m\u001B[0m\n\u001B[0;32m      5\u001B[0m     \u001B[0mblock\u001B[0m\u001B[1;33m.\u001B[0m\u001B[0msynchronize_block\u001B[0m\u001B[1;33m(\u001B[0m\u001B[1;33m)\u001B[0m\u001B[1;33m\u001B[0m\u001B[1;33m\u001B[0m\u001B[0m\n\u001B[1;32m----> 6\u001B[1;33m     \u001B[0mblock\u001B[0m\u001B[1;33m.\u001B[0m\u001B[0mcreate_eye_brightness_df\u001B[0m\u001B[1;33m(\u001B[0m\u001B[0mthreshold_value\u001B[0m\u001B[1;33m=\u001B[0m\u001B[1;36m20\u001B[0m\u001B[1;33m)\u001B[0m\u001B[1;33m\u001B[0m\u001B[1;33m\u001B[0m\u001B[0m\n\u001B[0m",
      "\u001B[1;32m~\\PycharmProjects\\pythonProject3\\BlockSync_current.py\u001B[0m in \u001B[0;36mcreate_eye_brightness_df\u001B[1;34m(self, threshold_value, export)\u001B[0m\n\u001B[0;32m    943\u001B[0m                 \u001B[0mself\u001B[0m\u001B[1;33m.\u001B[0m\u001B[0mre_frame_val_list\u001B[0m \u001B[1;33m=\u001B[0m \u001B[0mself\u001B[0m\u001B[1;33m.\u001B[0m\u001B[0mproduce_frame_val_list\u001B[0m\u001B[1;33m(\u001B[0m\u001B[0mself\u001B[0m\u001B[1;33m.\u001B[0m\u001B[0mre_videos\u001B[0m\u001B[1;33m,\u001B[0m \u001B[0mthreshold_value\u001B[0m\u001B[1;33m)\u001B[0m\u001B[1;33m\u001B[0m\u001B[1;33m\u001B[0m\u001B[0m\n\u001B[0;32m    944\u001B[0m \u001B[1;33m\u001B[0m\u001B[0m\n\u001B[1;32m--> 945\u001B[1;33m             \u001B[0mself\u001B[0m\u001B[1;33m.\u001B[0m\u001B[0ml_eye_values\u001B[0m \u001B[1;33m=\u001B[0m \u001B[0mstats\u001B[0m\u001B[1;33m.\u001B[0m\u001B[0mzscore\u001B[0m\u001B[1;33m(\u001B[0m\u001B[0mself\u001B[0m\u001B[1;33m.\u001B[0m\u001B[0mle_frame_val_list\u001B[0m\u001B[1;33m[\u001B[0m\u001B[1;36m0\u001B[0m\u001B[1;33m]\u001B[0m\u001B[1;33m[\u001B[0m\u001B[1;36m1\u001B[0m\u001B[1;33m]\u001B[0m\u001B[1;33m)\u001B[0m\u001B[1;33m\u001B[0m\u001B[1;33m\u001B[0m\u001B[0m\n\u001B[0m\u001B[0;32m    946\u001B[0m             \u001B[0mself\u001B[0m\u001B[1;33m.\u001B[0m\u001B[0mr_eye_values\u001B[0m \u001B[1;33m=\u001B[0m \u001B[0mstats\u001B[0m\u001B[1;33m.\u001B[0m\u001B[0mzscore\u001B[0m\u001B[1;33m(\u001B[0m\u001B[0mself\u001B[0m\u001B[1;33m.\u001B[0m\u001B[0mre_frame_val_list\u001B[0m\u001B[1;33m[\u001B[0m\u001B[1;36m0\u001B[0m\u001B[1;33m]\u001B[0m\u001B[1;33m[\u001B[0m\u001B[1;36m1\u001B[0m\u001B[1;33m]\u001B[0m\u001B[1;33m)\u001B[0m\u001B[1;33m\u001B[0m\u001B[1;33m\u001B[0m\u001B[0m\n\u001B[0;32m    947\u001B[0m \u001B[1;33m\u001B[0m\u001B[0m\n",
      "\u001B[1;31mIndexError\u001B[0m: list index out of range"
     ]
    }
   ],
   "source": [
    "# This step is used to quickly go over the analyzed blocks and load their internal data\n",
    "for block in block_collection:\n",
    "    block.parse_open_ephys_events()\n",
    "    block.get_eye_brightness_vectors()\n",
    "    block.synchronize_block()\n",
    "    block.create_eye_brightness_df(threshold_value=20)"
   ],
   "metadata": {
    "collapsed": false,
    "ExecuteTime": {
     "end_time": "2024-02-28T09:18:00.314921700Z",
     "start_time": "2024-02-28T09:17:53.693897400Z"
    }
   },
   "id": "c3039b2271316c6f",
   "execution_count": 74
  },
  {
   "cell_type": "code",
   "outputs": [
    {
     "name": "stdout",
     "output_type": "stream",
     "text": [
      "eye dataframes loaded from analysis folder\n",
      "got the calibration values from the analysis folder\n"
     ]
    }
   ],
   "source": [
    "# These are additional steps required after manual synchronization\n",
    "for block in block_collection:\n",
    "    block.import_manual_sync_df()  \n",
    "    block.read_dlc_data()\n",
    "    block.calibrate_pixel_size(10)"
   ],
   "metadata": {
    "collapsed": false,
    "ExecuteTime": {
     "end_time": "2024-02-26T17:18:46.999955100Z",
     "start_time": "2024-02-26T17:18:44.975955600Z"
    }
   },
   "id": "9b0b395f67f85fcb",
   "execution_count": 9
  },
  {
   "cell_type": "markdown",
   "source": [
    "# This section deals with jitter-correction and led-blink-frames removal"
   ],
   "metadata": {
    "collapsed": false
   },
   "id": "87f3c08e38d0ac64"
  },
  {
   "cell_type": "code",
   "outputs": [
    {
     "name": "stdout",
     "output_type": "stream",
     "text": [
      "jitter report loaded from analysis folder\n",
      "Jitter report computed - check out re/le_jitter_dict attributes\n"
     ]
    }
   ],
   "source": [
    "for block in block_collection:\n",
    "    block.get_jitter_reports(export=False, overwrite=False, remove_led_blinks=False, sort_on_loading=True)"
   ],
   "metadata": {
    "collapsed": false,
    "ExecuteTime": {
     "end_time": "2024-02-26T17:18:47.300939400Z",
     "start_time": "2024-02-26T17:18:47.137467500Z"
    }
   },
   "id": "a26d39594010df46",
   "execution_count": 10
  },
  {
   "cell_type": "code",
   "outputs": [
    {
     "name": "stdout",
     "output_type": "stream",
     "text": [
      "center_x_corrected already exists, no need to re-run jitter correction\n"
     ]
    }
   ],
   "source": [
    "block.correct_jitter()"
   ],
   "metadata": {
    "collapsed": false,
    "ExecuteTime": {
     "end_time": "2024-02-26T17:18:48.063765700Z",
     "start_time": "2024-02-26T17:18:47.986226100Z"
    }
   },
   "id": "b3d6d7c071fdab37",
   "execution_count": 11
  },
  {
   "cell_type": "code",
   "outputs": [
    {
     "name": "stderr",
     "output_type": "stream",
     "text": [
      "100%|██████████| 64/64 [00:00<00:00, 9141.34it/s]"
     ]
    },
    {
     "name": "stdout",
     "output_type": "stream",
     "text": [
      "collecting left-eye data\n",
      "data length is 97331\n",
      "z_score length is 97331\n"
     ]
    },
    {
     "name": "stderr",
     "output_type": "stream",
     "text": [
      "\n",
      "100%|██████████| 64/64 [00:00<00:00, 9146.32it/s]"
     ]
    },
    {
     "name": "stdout",
     "output_type": "stream",
     "text": [
      "collecting right eye data\n",
      "data length is 97329\n",
      "z_score length is 97329\n"
     ]
    },
    {
     "name": "stderr",
     "output_type": "stream",
     "text": [
      "\n"
     ]
    },
    {
     "name": "stdout",
     "output_type": "stream",
     "text": [
      "removed led blink data from le / re dataframes\n"
     ]
    }
   ],
   "source": [
    "block.find_led_blink_frames(plot=True)\n",
    "block.remove_led_blinks_from_eye_df(export=False)"
   ],
   "metadata": {
    "collapsed": false,
    "ExecuteTime": {
     "end_time": "2024-02-26T17:18:50.384354100Z",
     "start_time": "2024-02-26T17:18:49.018352500Z"
    }
   },
   "id": "5f6bcd2cfe8d2dbc",
   "execution_count": 12
  },
  {
   "cell_type": "markdown",
   "source": [
    "# I am actually working on this correction now... Done, Now make a single function to do this correction:"
   ],
   "metadata": {
    "collapsed": false
   },
   "id": "28533f0d37aa0804"
  },
  {
   "cell_type": "code",
   "outputs": [],
   "source": [
    "def correct_sync_based_on_LED_lights_out(block, verification_plots=True):\n",
    "    r_vals = block.re_frame_val_list[0][1]\n",
    "    l_vals = block.le_frame_val_list[0][1]\n",
    "    l_blinks = block.led_blink_frames_l\n",
    "    r_blinks = block.led_blink_frames_r\n",
    "    chunks_r = np.insert(np.diff(r_blinks) > 10,0,False)\n",
    "    r_inds = np.insert(r_blinks[chunks_r],0,r_blinks[0])\n",
    "    chunks_l = np.insert(np.diff(l_blinks) > 10,0,False)\n",
    "    l_inds = np.insert(l_blinks[chunks_l],0,l_blinks[0])\n",
    "    # check for non-matchig lengths\n",
    "    if len(l_inds) > len(r_inds):\n",
    "        if max(l_inds) > max(r_inds) + 10: # left with an extra led at the end\n",
    "            l_inds = l_inds[:len(r_inds)]\n",
    "        elif min(l_inds) < min(r_inds) - 10: # left with extra led at the beginning\n",
    "            l_inds = l_inds[1:]\n",
    "    elif len(r_inds) > len(l_inds):\n",
    "        if max(r_inds) > max(l_inds) + 10:\n",
    "            r_inds = r_inds[:len(l_inds)]\n",
    "        elif min(r_inds) < min(l_inds) - 10:\n",
    "            r_inds = r_inds[1:]\n",
    "        \n",
    "    if verification_plots:\n",
    "        # verify detection here:\n",
    "        z_score_data_r = block.rolling_window_z_scores(r_vals, roll_w_size=1500)\n",
    "        z_score_data_l = block.rolling_window_z_scores(l_vals, roll_w_size=1500)\n",
    "        \n",
    "        bokeh_plotter([z_score_data_r, z_score_data_l],\n",
    "                      label_list=['r_scores', 'l_scores'],\n",
    "                      x_axis='Frame',\n",
    "                      y_axis='brightness Z score', \n",
    "                      peaks=[r_inds, l_inds], peaks_list=True)\n",
    "    # I want to understand the drift between the two corrected l_ms vectors now - if a frame appears in two l_ms values, take the larger one (a duplicated frame)\n",
    "    l_df = block.left_eye_data.copy()\n",
    "    r_df = block.right_eye_data.copy()\n",
    "    l_frames = []\n",
    "    r_frames = []\n",
    "    l_ms = []\n",
    "    r_ms = []\n",
    "    l_blink_inds = []\n",
    "    r_blink_inds = []\n",
    "    # collect the l_ms list\n",
    "    for i, (lb,rb) in enumerate(zip(l_inds,r_inds)):\n",
    "        l_blink_row = block.left_eye_data.query('eye_frame == @lb')\n",
    "        r_blink_row = block.right_eye_data.query('eye_frame == @rb')\n",
    "        #check that both rows exist in the eye dataframes\n",
    "        if r_blink_row.empty or l_blink_row.empty:\n",
    "            print('missing frame at',i)\n",
    "            continue\n",
    "        l_blink_row = l_blink_row.iloc[-1][['eye_frame', 'ms_axis']]\n",
    "        l_ms.append(l_blink_row['ms_axis'])\n",
    "        l_frames.append(l_blink_row['eye_frame'])\n",
    "        l_blink_inds.append(l_blink_row.name)\n",
    "        r_blink_row = r_blink_row.iloc[-1][['eye_frame', 'ms_axis']]\n",
    "        r_ms.append(r_blink_row['ms_axis'])\n",
    "        r_frames.append(r_blink_row['eye_frame'])\n",
    "        r_blink_inds.append(r_blink_row.name)\n",
    "    # This bit creates a map of the neccessary movements to each dataframe in order for the sync to match (for each blink)\n",
    "    r_arr = np.array([r_frames, r_ms]).T\n",
    "    l_arr = np.array([l_frames, l_ms]).T\n",
    "    diff_arr = r_arr[:,1] - l_arr[:,1]\n",
    "    diff_arr = (diff_arr // 17).astype(int)\n",
    "    correction_order = []\n",
    "    l_corrections_inds = []\n",
    "    l_corrections_size = []\n",
    "    r_corrections_inds = []\n",
    "    r_corrections_size = []\n",
    "    stable_ind_pairs = []\n",
    "    for i, diff in enumerate(diff_arr):\n",
    "        if diff > 0: # L lagging\n",
    "            l_corrections_inds.append(l_blink_inds[i])\n",
    "            l_corrections_size.append(diff)\n",
    "            correction_order.append('L')\n",
    "        elif diff < 0: # R lagging\n",
    "            r_corrections_inds.append(r_blink_inds[i])\n",
    "            r_corrections_size.append(np.abs(diff))\n",
    "            correction_order.append('R')\n",
    "        else:\n",
    "            stable_ind_pairs.append([r_blink_inds[i], l_blink_inds[i]])\n",
    "            correction_order.append('S')\n",
    "    r_corrections = np.array([r_corrections_inds, r_corrections_size]).T\n",
    "    l_corrections = np.array([l_corrections_inds, l_corrections_size]).T\n",
    "    stable_arr = np.array(stable_ind_pairs)\n",
    "    \n",
    "    # This is the second try:\n",
    "    l_df = block.left_eye_data.copy()\n",
    "    r_df = block.right_eye_data.copy()\n",
    "    print(len(l_df),len(r_df))\n",
    "    current_l_correction = 0\n",
    "    current_r_correction = 0\n",
    "    for minute, df_to_correct in enumerate(correction_order):\n",
    "        print(minute, df_to_correct)\n",
    "        if df_to_correct == 'L':\n",
    "            l_corr = l_corrections[current_l_correction]\n",
    "            print(l_corr)\n",
    "            for row in range(l_corr[1]):\n",
    "                print(row)\n",
    "                l_df = duplicate_df_row_at_index(l_df,l_corr[0], correct_ms=True)\n",
    "                try:\n",
    "                    l_df = remove_df_row_at_index(l_df, l_corr[0] + 3534, correct_ms=True)\n",
    "                except IndexError:\n",
    "                    l_df = remove_df_row_at_index(l_df, l_df.inex[-1])\n",
    "            current_l_correction += 1\n",
    "        elif df_to_correct == 'R':\n",
    "            r_corr = r_corrections[current_r_correction]\n",
    "            #print(r_corr)\n",
    "            for row in range(r_corr[1]):\n",
    "                r_df = duplicate_df_row_at_index(r_df,r_corr[0], correct_ms=True)\n",
    "                try:\n",
    "                    r_df = remove_df_row_at_index(r_df, r_corr[0] + 3534, correct_ms=True)\n",
    "                except IndexError:\n",
    "                    r_df = remove_df_row_at_index(r_df, r_df.index[-1], correct_ms=True)\n",
    "            current_r_correction += 1\n",
    "        else:\n",
    "            continue\n",
    "    \n",
    "    return l_df.copy(), r_df.copy()"
   ],
   "metadata": {
    "collapsed": false,
    "ExecuteTime": {
     "end_time": "2024-02-26T17:37:24.748477500Z",
     "start_time": "2024-02-26T17:37:24.667451300Z"
    }
   },
   "id": "e35951dab035f409",
   "execution_count": 63
  },
  {
   "cell_type": "code",
   "outputs": [],
   "source": [
    "def duplicate_df_row_at_index(df, ind_to_duplicate, correct_ms=True):\n",
    "    \"\"\"\n",
    "    :param correct_ms: if true, will correct the ms_axis of eye data\n",
    "    :param df: dataframe \n",
    "    :param ind_to_duplicate: which row to duplicate, in iloc logic\n",
    "    :return: longer df \n",
    "    \"\"\"\n",
    "    # cut the df\n",
    "    df_top = df.iloc[:ind_to_duplicate]\n",
    "    df_bot = df.iloc[ind_to_duplicate:]\n",
    "    # duplicate the row\n",
    "    df_top = df_top.append(df_top.iloc[-1])\n",
    "    df_longer = pd.concat([df_top, df_bot], ignore_index=False)\n",
    "    if correct_ms:\n",
    "        df_longer['ms_axis'].iloc[ind_to_duplicate:-1] = df_longer['ms_axis'].iloc[ind_to_duplicate+1:].values\n",
    "    return df_longer.copy()\n",
    "\n",
    "def remove_df_row_at_index(df, ind_to_remove, correct_ms=True):\n",
    "    label_to_remove = df.index[ind_to_remove]\n",
    "    original_ms_axis = df['ms_axis'].iloc[ind_to_remove:].values\n",
    "    original_len = len(df)\n",
    "    df = df.drop(label_to_remove)\n",
    "    new_len = len(df)\n",
    "    if correct_ms:\n",
    "        df['ms_axis'].iloc[ind_to_remove:] = original_ms_axis[:-1]\n",
    "    return df"
   ],
   "metadata": {
    "collapsed": false,
    "ExecuteTime": {
     "end_time": "2024-02-26T17:29:27.218313Z",
     "start_time": "2024-02-26T17:29:27.162340200Z"
    }
   },
   "id": "815106d85e235cdb",
   "execution_count": 48
  },
  {
   "cell_type": "code",
   "outputs": [
    {
     "name": "stdout",
     "output_type": "stream",
     "text": [
      "missing frame at 21\n",
      "missing frame at 25\n",
      "94810 94810\n",
      "0 L\n",
      "[630   1]\n",
      "0\n",
      "1 R\n",
      "2 S\n",
      "3 R\n",
      "4 S\n",
      "5 R\n",
      "6 S\n",
      "7 R\n",
      "8 S\n",
      "9 R\n",
      "10 R\n",
      "11 S\n",
      "12 R\n",
      "13 R\n",
      "14 R\n",
      "15 R\n",
      "16 R\n"
     ]
    },
    {
     "name": "stderr",
     "output_type": "stream",
     "text": [
      "<ipython-input-48-15f2991b1b0e>:25: SettingWithCopyWarning: \n",
      "A value is trying to be set on a copy of a slice from a DataFrame\n",
      "\n",
      "See the caveats in the documentation: https://pandas.pydata.org/pandas-docs/stable/user_guide/indexing.html#returning-a-view-versus-a-copy\n",
      "  df['ms_axis'].iloc[ind_to_remove:] = original_ms_axis[:-1]\n"
     ]
    },
    {
     "name": "stdout",
     "output_type": "stream",
     "text": [
      "17 R\n",
      "18 R\n",
      "19 R\n",
      "20 R\n",
      "21 R\n",
      "22 R\n",
      "23 R\n",
      "24 R\n"
     ]
    }
   ],
   "source": [
    "l_df, r_df = correct_sync_based_on_LED_lights_out(block, False)\n",
    "block.left_eye_data = l_df\n",
    "block.right_eye_data = r_df"
   ],
   "metadata": {
    "collapsed": false,
    "ExecuteTime": {
     "end_time": "2024-02-26T17:45:40.373766200Z",
     "start_time": "2024-02-26T17:45:39.868251300Z"
    }
   },
   "id": "9e37e5db085e83fb",
   "execution_count": 68
  },
  {
   "cell_type": "code",
   "outputs": [
    {
     "name": "stderr",
     "output_type": "stream",
     "text": [
      "25it [00:19,  1.29it/s]\n"
     ]
    }
   ],
   "source": [
    "# Verify LED blink frames are real:\n",
    "# with open(block.analysis_path / 'rotate_eye_data_params.pkl', 'rb') as file:\n",
    "#     rotation_dict = pickle.load(file)\n",
    "#     block.left_rotation_matrix = rotation_dict['left_rotation_matrix']\n",
    "#     block.right_rotation_matrix = rotation_dict['right_rotation_matrix']\n",
    "#     block.left_rotation_angle = rotation_dict['left_rotation_angle']\n",
    "#     block.right_rotation_angle = rotation_dict['right_rotation_angle']\n",
    "timestamps = r_arr[:,1]\n",
    "export_path = block.analysis_path / 'led_blink_verification_after_correction.mp4'\n",
    "export_eyetracking_video(block,timestamps -500, timestamps + 500, xflip=True, rotate_frames=True, yrotate=True, export_path=export_path)"
   ],
   "metadata": {
    "collapsed": false,
    "ExecuteTime": {
     "end_time": "2024-02-26T17:46:10.573062Z",
     "start_time": "2024-02-26T17:45:50.567640700Z"
    }
   },
   "id": "dac6425281195221",
   "execution_count": 69
  },
  {
   "cell_type": "code",
   "outputs": [
    {
     "name": "stdout",
     "output_type": "stream",
     "text": [
      "27\n",
      "27\n"
     ]
    }
   ],
   "source": [
    "# This bit should finally autocorrect jitters according to one minute intervals\n",
    "# first, I want the frames to match - these will be the first detected LED blink frames\n",
    "\n",
    "r_vals = block.re_frame_val_list[0][1]\n",
    "l_vals = block.le_frame_val_list[0][1]\n",
    "l_blinks = block.led_blink_frames_l\n",
    "r_blinks = block.led_blink_frames_r\n",
    "chunks_r = np.insert(np.diff(r_blinks) > 10,0,False)\n",
    "r_inds = np.insert(r_blinks[chunks_r],0,r_blinks[0])\n",
    "chunks_l = np.insert(np.diff(l_blinks) > 10,0,False)\n",
    "l_inds = np.insert(l_blinks[chunks_l],0,l_blinks[0])\n",
    "\n",
    "# I need to insert a check for non-matching lengths:\n",
    "if len(l_inds) > len(r_inds):\n",
    "    if max(l_inds) > max(r_inds) + 10: # left with an extra led at the end\n",
    "        l_inds = l_inds[:len(r_inds)]\n",
    "    elif min(l_inds) < min(r_inds) - 10: # left with extra led at the beginning\n",
    "        l_inds = l_inds[1:]\n",
    "\n",
    "elif len(r_inds) > len(l_inds):\n",
    "    if max(r_inds) > max(l_inds) + 10:\n",
    "        r_inds = r_inds[:len(l_inds)]\n",
    "    elif min(r_inds) < min(l_inds) - 10:\n",
    "        r_inds = r_inds[1:]\n",
    "print(len(r_inds))\n",
    "print(len(l_inds))"
   ],
   "metadata": {
    "collapsed": false,
    "ExecuteTime": {
     "end_time": "2024-02-26T17:35:15.021469800Z",
     "start_time": "2024-02-26T17:35:14.947468500Z"
    }
   },
   "id": "451c1c6a0e3e4c2a",
   "execution_count": 58
  },
  {
   "cell_type": "code",
   "outputs": [
    {
     "name": "stderr",
     "output_type": "stream",
     "text": [
      "100%|██████████| 64/64 [00:00<00:00, 10637.43it/s]\n",
      "100%|██████████| 64/64 [00:00<00:00, 12730.51it/s]\n"
     ]
    }
   ],
   "source": [
    "# verify detection here:\n",
    "z_score_data_r = block.rolling_window_z_scores(r_vals, roll_w_size=1500)\n",
    "z_score_data_l = block.rolling_window_z_scores(l_vals, roll_w_size=1500)\n",
    "\n",
    "bokeh_plotter([z_score_data_r, z_score_data_l],\n",
    "              label_list=['r_scores', 'l_scores'],\n",
    "              x_axis='Frame',\n",
    "              y_axis='brightness Z score', \n",
    "              peaks=[r_inds, l_inds], peaks_list=True)\n",
    "\n"
   ],
   "metadata": {
    "collapsed": false,
    "ExecuteTime": {
     "end_time": "2024-02-26T17:35:16.033612200Z",
     "start_time": "2024-02-26T17:35:15.571048500Z"
    }
   },
   "id": "e98f7fce5f69d43b",
   "execution_count": 59
  },
  {
   "cell_type": "code",
   "outputs": [
    {
     "name": "stdout",
     "output_type": "stream",
     "text": [
      "missing frame at 21\n",
      "missing frame at 25\n"
     ]
    }
   ],
   "source": [
    "# I want to understand the drift between the two corrected l_ms vectors now - if a frame appears in two l_ms values, take the larger one (a duplicated frame)\n",
    "l_df = block.left_eye_data.copy()\n",
    "r_df = block.right_eye_data.copy()\n",
    "l_frames = []\n",
    "r_frames = []\n",
    "l_ms = []\n",
    "r_ms = []\n",
    "l_blink_inds = []\n",
    "r_blink_inds = []\n",
    "# collect the l_ms list\n",
    "for i, (lb,rb) in enumerate(zip(l_inds,r_inds)):\n",
    "    l_blink_row = block.left_eye_data.query('eye_frame == @lb')\n",
    "    r_blink_row = block.right_eye_data.query('eye_frame == @rb')\n",
    "    #check that both rows exist in the eye dataframes\n",
    "    if r_blink_row.empty or l_blink_row.empty:\n",
    "        print('missing frame at',i)\n",
    "        continue\n",
    "    l_blink_row = l_blink_row.iloc[-1][['eye_frame', 'ms_axis']]\n",
    "    l_ms.append(l_blink_row['ms_axis'])\n",
    "    l_frames.append(l_blink_row['eye_frame'])\n",
    "    l_blink_inds.append(l_blink_row.name)\n",
    "    r_blink_row = r_blink_row.iloc[-1][['eye_frame', 'ms_axis']]\n",
    "    r_ms.append(r_blink_row['ms_axis'])\n",
    "    r_frames.append(r_blink_row['eye_frame'])\n",
    "    r_blink_inds.append(r_blink_row.name)\n",
    "    \n",
    "\n",
    "    "
   ],
   "metadata": {
    "collapsed": false,
    "ExecuteTime": {
     "end_time": "2024-02-26T17:35:18.570188900Z",
     "start_time": "2024-02-26T17:35:18.458191900Z"
    }
   },
   "id": "e05aa6bee0fbcb77",
   "execution_count": 60
  },
  {
   "cell_type": "code",
   "outputs": [],
   "source": [
    "# This bit creates a map of the neccessary movements to each dataframe in order for the sync to match (for each blink)\n",
    "r_arr = np.array([r_frames, r_ms]).T\n",
    "l_arr = np.array([l_frames, l_ms]).T\n",
    "diff_arr = r_arr[:,1] - l_arr[:,1]\n",
    "diff_arr = (diff_arr // 17).astype(int)\n",
    "correction_order = []\n",
    "l_corrections_inds = []\n",
    "l_corrections_size = []\n",
    "r_corrections_inds = []\n",
    "r_corrections_size = []\n",
    "stable_ind_pairs = []\n",
    "for i, diff in enumerate(diff_arr):\n",
    "    if diff > 0: # L lagging\n",
    "        l_corrections_inds.append(l_blink_inds[i])\n",
    "        l_corrections_size.append(diff)\n",
    "        correction_order.append('L')\n",
    "    elif diff < 0: # R lagging\n",
    "        r_corrections_inds.append(r_blink_inds[i])\n",
    "        r_corrections_size.append(np.abs(diff))\n",
    "        correction_order.append('R')\n",
    "    else:\n",
    "        stable_ind_pairs.append([r_blink_inds[i], l_blink_inds[i]])\n",
    "        correction_order.append('S')\n",
    "r_corrections = np.array([r_corrections_inds, r_corrections_size]).T\n",
    "l_corrections = np.array([l_corrections_inds, l_corrections_size]).T\n",
    "stable_arr = np.array(stable_ind_pairs)"
   ],
   "metadata": {
    "collapsed": false,
    "ExecuteTime": {
     "end_time": "2024-02-26T17:35:21.138949200Z",
     "start_time": "2024-02-26T17:35:21.073923800Z"
    }
   },
   "id": "385735938fe66464",
   "execution_count": 61
  },
  {
   "cell_type": "code",
   "outputs": [
    {
     "name": "stdout",
     "output_type": "stream",
     "text": [
      "94810 94810\n",
      "0 L\n",
      "[630   1]\n",
      "0\n",
      "1 R\n",
      "2 S\n",
      "3 R\n",
      "4 S\n",
      "5 R\n",
      "6 S\n",
      "7 R\n",
      "8 S\n",
      "9 R\n",
      "10 R\n",
      "11 S\n",
      "12 R\n",
      "13 R\n",
      "14 R\n",
      "15 R\n",
      "16 R\n",
      "17 R\n",
      "18 R\n"
     ]
    },
    {
     "name": "stderr",
     "output_type": "stream",
     "text": [
      "<ipython-input-48-15f2991b1b0e>:25: SettingWithCopyWarning: \n",
      "A value is trying to be set on a copy of a slice from a DataFrame\n",
      "\n",
      "See the caveats in the documentation: https://pandas.pydata.org/pandas-docs/stable/user_guide/indexing.html#returning-a-view-versus-a-copy\n",
      "  df['ms_axis'].iloc[ind_to_remove:] = original_ms_axis[:-1]\n"
     ]
    },
    {
     "name": "stdout",
     "output_type": "stream",
     "text": [
      "19 R\n",
      "20 R\n",
      "21 R\n",
      "22 R\n",
      "23 R\n",
      "24 R\n"
     ]
    }
   ],
   "source": [
    "# This is the second try:\n",
    "l_df = block.left_eye_data.copy()\n",
    "r_df = block.right_eye_data.copy()\n",
    "print(len(l_df),len(r_df))\n",
    "current_l_correction = 0\n",
    "current_r_correction = 0\n",
    "for minute, df_to_correct in enumerate(correction_order):\n",
    "    print(minute, df_to_correct)\n",
    "    if df_to_correct == 'L':\n",
    "        l_corr = l_corrections[current_l_correction]\n",
    "        print(l_corr)\n",
    "        for row in range(l_corr[1]):\n",
    "            print(row)\n",
    "            l_df = duplicate_df_row_at_index(l_df,l_corr[0], correct_ms=True)\n",
    "            try:\n",
    "                l_df = remove_df_row_at_index(l_df, l_corr[0] + 3534, correct_ms=True)\n",
    "            except IndexError:\n",
    "                l_df = remove_df_row_at_index(l_df, l_df.index[-1], correct_ms=True)\n",
    "        current_l_correction += 1\n",
    "    elif df_to_correct == 'R':\n",
    "        r_corr = r_corrections[current_r_correction]\n",
    "        #print(r_corr)\n",
    "        for row in range(r_corr[1]):\n",
    "            r_df = duplicate_df_row_at_index(r_df,r_corr[0], correct_ms=True)\n",
    "            try:\n",
    "                r_df = remove_df_row_at_index(r_df, r_corr[0] + 3534, correct_ms=True)\n",
    "            except IndexError:\n",
    "                r_df = remove_df_row_at_index(r_df, r_df.index[-1], correct_ms=True)\n",
    "        current_r_correction += 1\n",
    "    else:\n",
    "        continue\n",
    "\n",
    "#block.left_eye_data = l_df.copy()\n",
    "#block.right_eye_data = r_df.copy()"
   ],
   "metadata": {
    "collapsed": false,
    "ExecuteTime": {
     "end_time": "2024-02-26T17:40:55.570200900Z",
     "start_time": "2024-02-26T17:40:55.173170200Z"
    }
   },
   "id": "616495451df9ada0",
   "execution_count": 64
  },
  {
   "cell_type": "code",
   "outputs": [
    {
     "data": {
      "text/plain": "array([[ 4165,     1],\n       [11234,     1],\n       [18302,     1],\n       [25371,     1],\n       [32441,     1],\n       [35976,     1],\n       [43045,     1],\n       [46580,     1],\n       [50114,     1],\n       [53650,     1],\n       [57184,     1],\n       [60719,     1],\n       [64253,     1],\n       [67787,     1],\n       [71320,     3],\n       [78388,     2],\n       [81922,     1],\n       [85454,     3],\n       [92522,     2]], dtype=int64)"
     },
     "execution_count": 66,
     "metadata": {},
     "output_type": "execute_result"
    }
   ],
   "source": [
    "r_corrections"
   ],
   "metadata": {
    "collapsed": false,
    "ExecuteTime": {
     "end_time": "2024-02-26T17:42:02.891737100Z",
     "start_time": "2024-02-26T17:42:02.798710200Z"
    }
   },
   "id": "f9918c37f9002c07",
   "execution_count": 66
  },
  {
   "cell_type": "code",
   "outputs": [
    {
     "name": "stdout",
     "output_type": "stream",
     "text": [
      "initial length of l_df = 99208\n",
      "initial length of r_df = 99208\n",
      "iteration: 0\n",
      "drift before correction: -34.0\n",
      "sum of drift correction: 0\n",
      "drift after correction = -34.0\n",
      "rows to add to left = 2\n",
      "added row to L\n",
      "sum of diff correction for R is now : -17\n",
      "added row to L\n",
      "sum of diff correction for R is now : -34\n",
      "iteration: 1\n",
      "drift before correction: -17.0\n",
      "sum of drift correction: -34\n",
      "drift after correction = 17.0\n",
      "rows to add to right = 1\n",
      "added row to R\n",
      "len before 99208\n",
      "len after 99209\n",
      "sum of diff correction for R is now : -17\n",
      "iteration: 2\n",
      "drift before correction: -17.0\n",
      "sum of drift correction: -17\n",
      "drift after correction = 0.0\n",
      "zero drift\n",
      "iteration: 3\n",
      "drift before correction: -34.0\n",
      "sum of drift correction: -17\n",
      "drift after correction = -17.0\n",
      "rows to add to left = 1\n",
      "added row to L\n",
      "sum of diff correction for R is now : -34\n",
      "iteration: 4\n",
      "drift before correction: 0.0\n",
      "sum of drift correction: -34\n",
      "drift after correction = 34.0\n",
      "rows to add to right = 2\n",
      "added row to R\n",
      "len before 99209\n",
      "len after 99210\n",
      "sum of diff correction for R is now : -17\n",
      "added row to R\n",
      "len before 99210\n",
      "len after 99211\n",
      "sum of diff correction for R is now : 0\n",
      "iteration: 5\n",
      "drift before correction: -34.0\n",
      "sum of drift correction: 0\n",
      "drift after correction = -34.0\n",
      "rows to add to left = 2\n",
      "added row to L\n",
      "sum of diff correction for R is now : -17\n",
      "added row to L\n",
      "sum of diff correction for R is now : -34\n",
      "iteration: 6\n",
      "drift before correction: 0.0\n",
      "sum of drift correction: -34\n",
      "drift after correction = 34.0\n",
      "rows to add to right = 2\n",
      "added row to R\n",
      "len before 99211\n",
      "len after 99212\n",
      "sum of diff correction for R is now : -17\n",
      "added row to R\n",
      "len before 99212\n",
      "len after 99213\n",
      "sum of diff correction for R is now : 0\n",
      "7 has at least one bad ind\n",
      "iteration: 8\n",
      "drift before correction: 0.0\n",
      "sum of drift correction: 0\n",
      "drift after correction = 0.0\n",
      "zero drift\n",
      "iteration: 9\n",
      "drift before correction: -17.0\n",
      "sum of drift correction: 0\n",
      "drift after correction = -17.0\n",
      "rows to add to left = 1\n",
      "added row to L\n",
      "sum of diff correction for R is now : -17\n",
      "iteration: 10\n",
      "drift before correction: 0.0\n",
      "sum of drift correction: -17\n",
      "drift after correction = 17.0\n",
      "rows to add to right = 1\n",
      "added row to R\n",
      "len before 99213\n",
      "len after 99214\n",
      "sum of diff correction for R is now : 0\n",
      "11 has at least one bad ind\n",
      "iteration: 12\n",
      "drift before correction: -17.0\n",
      "sum of drift correction: 0\n",
      "drift after correction = -17.0\n",
      "rows to add to left = 1\n",
      "added row to L\n",
      "sum of diff correction for R is now : -17\n",
      "iteration: 13\n",
      "drift before correction: 0.0\n",
      "sum of drift correction: -17\n",
      "drift after correction = 17.0\n",
      "rows to add to right = 1\n",
      "added row to R\n",
      "len before 99214\n",
      "len after 99215\n",
      "sum of diff correction for R is now : 0\n",
      "iteration: 14\n",
      "drift before correction: -17.0\n",
      "sum of drift correction: 0\n",
      "drift after correction = -17.0\n",
      "rows to add to left = 1\n",
      "added row to L\n",
      "sum of diff correction for R is now : -17\n",
      "iteration: 15\n",
      "drift before correction: 0.0\n",
      "sum of drift correction: -17\n",
      "drift after correction = 17.0\n",
      "rows to add to right = 1\n",
      "added row to R\n",
      "len before 99215\n",
      "len after 99216\n",
      "sum of diff correction for R is now : 0\n",
      "iteration: 16\n",
      "drift before correction: 0.0\n",
      "sum of drift correction: 0\n",
      "drift after correction = 0.0\n",
      "zero drift\n",
      "iteration: 17\n",
      "drift before correction: 17.0\n",
      "sum of drift correction: 0\n",
      "drift after correction = 17.0\n",
      "rows to add to right = 1\n",
      "added row to R\n",
      "len before 99216\n",
      "len after 99217\n",
      "sum of diff correction for R is now : 17\n",
      "iteration: 18\n",
      "drift before correction: 0.0\n",
      "sum of drift correction: 17\n",
      "drift after correction = -17.0\n",
      "rows to add to left = 1\n",
      "added row to L\n",
      "sum of diff correction for R is now : 0\n",
      "iteration: 19\n",
      "drift before correction: 0.0\n",
      "sum of drift correction: 0\n",
      "drift after correction = 0.0\n",
      "zero drift\n",
      "iteration: 20\n",
      "drift before correction: 0.0\n",
      "sum of drift correction: 0\n",
      "drift after correction = 0.0\n",
      "zero drift\n",
      "iteration: 21\n",
      "drift before correction: 0.0\n",
      "sum of drift correction: 0\n",
      "drift after correction = 0.0\n",
      "zero drift\n",
      "iteration: 22\n",
      "drift before correction: 17.0\n",
      "sum of drift correction: 0\n",
      "drift after correction = 17.0\n",
      "rows to add to right = 1\n",
      "added row to R\n",
      "len before 99217\n",
      "len after 99218\n",
      "sum of diff correction for R is now : 17\n",
      "iteration: 23\n",
      "drift before correction: 17.0\n",
      "sum of drift correction: 17\n",
      "drift after correction = 0.0\n",
      "zero drift\n",
      "iteration: 24\n",
      "drift before correction: 0.0\n",
      "sum of drift correction: 17\n",
      "drift after correction = -17.0\n",
      "rows to add to left = 1\n",
      "added row to L\n",
      "sum of diff correction for R is now : 0\n",
      "iteration: 25\n",
      "drift before correction: 34.0\n",
      "sum of drift correction: 0\n",
      "drift after correction = 34.0\n",
      "rows to add to right = 2\n",
      "added row to R\n",
      "len before 99218\n",
      "len after 99219\n",
      "sum of diff correction for R is now : 17\n",
      "added row to R\n",
      "len before 99219\n",
      "len after 99220\n",
      "sum of diff correction for R is now : 34\n",
      "iteration: 26\n",
      "drift before correction: 0.0\n",
      "sum of drift correction: 34\n",
      "drift after correction = -34.0\n",
      "rows to add to left = 2\n",
      "added row to L\n",
      "sum of diff correction for R is now : 17\n",
      "added row to L\n",
      "sum of diff correction for R is now : 0\n",
      "27 has at least one bad ind\n",
      "28 has at least one bad ind\n",
      "29 has at least one bad ind\n"
     ]
    }
   ],
   "source": [
    "# This almost does the correction, its just that I find it confusing to understand how to add the rows - its like this:\n",
    "# i want the ms axis to stay relative to the data being shifted around it (or shift the ms axis, which should be a better idea) - for each drift frame, I need to create a new row of the eye_data df, where the values are identical but the ms_axis progress (effectively doubling a frame) and make sure that for \n",
    "l_df = block.left_eye_data.copy()\n",
    "original_l_ms = l_df.ms_axis\n",
    "print(f'initial length of l_df = {len(l_df)}')\n",
    "r_df = block.right_eye_data.copy()\n",
    "original_r_ms = r_df.ms_axis\n",
    "print(f'initial length of r_df = {len(r_df)}')\n",
    "i = 0\n",
    "sum_drift_correction_r = 0\n",
    "l_ind_list = []\n",
    "r_ind_list = []\n",
    "for lb,rb in zip(l_inds,r_inds):\n",
    "    l_blink_row = block.left_eye_data.query('eye_frame == @lb')\n",
    "    if not l_blink_row.empty:\n",
    "        l_blink_row = l_blink_row.iloc[0]\n",
    "    r_blink_row = block.right_eye_data.query('eye_frame == @rb')\n",
    "    if not r_blink_row.empty:\n",
    "        r_blink_row = r_blink_row.iloc[0]\n",
    "    l_ms = block.left_eye_data.query('eye_frame == @lb')['ms_axis'].values\n",
    "    r_ms = block.right_eye_data.query('eye_frame == @rb')['ms_axis'].values\n",
    "    if len(l_ms) > 0 and len(r_ms) > 0: # for non-nan values only\n",
    "        l_ind = l_blink_row.name\n",
    "        r_ind = r_blink_row.name\n",
    "        l_ind_list.append(l_ind)\n",
    "        r_ind_list.append(r_ind)\n",
    "        print(f'iteration: {i}')\n",
    "        \n",
    "        drift = np.round(l_ms[0] - r_ms[0])\n",
    "        print(f'drift before correction: {drift}')\n",
    "        drift = drift - sum_drift_correction_r\n",
    "        rows_to_add = int(np.abs(drift) // 17)\n",
    "        # print(l_ms)\n",
    "        # print(r_ms)\n",
    "        print(f'sum of drift correction: {sum_drift_correction_r}')\n",
    "        print(f'drift after correction = {drift}')\n",
    "        # I am assuming dropped frames are the cause for the time shifts\n",
    "        # first step is to determine which frame needs to be pushed, if at all\n",
    "        # left - right ==> \n",
    "        # if left > right: positive, add rows to right df\n",
    "        if drift > 0:\n",
    "            print(f'rows to add to right = {rows_to_add}')\n",
    "            for row in range(rows_to_add):\n",
    "                print('added row to R')\n",
    "                # add a new row to dataframe at r_ind:\n",
    "                print(f'len before {len(r_df)}')\n",
    "                r_df = pd.concat([r_df.loc[:r_ind], r_df.loc[r_ind:r_ind], r_df.loc[r_ind+1:]]).reset_index(drop=True)\n",
    "                print(f'len after {len(r_df)}')\n",
    "                # Insert NaN at the duplicated row's 'ms_axis'\n",
    "                #r_df.loc[r_ind+1, 'ms_axis'] = None\n",
    "                # scroll the ms_axis backwards one sample\n",
    "                r_df.loc[r_ind:r_df.index[-1], 'ms_axis'] = r_df.loc[r_ind+1:, 'ms_axis']\n",
    "                # add a final timestamp to avoid duplication at the end of the df\n",
    "                #r_df.loc[r_df.index[-1], 'ms_axis'] = r_df.loc[r_df.index[-2], 'ms_axis'] + 17.05\n",
    "                sum_drift_correction_r = sum_drift_correction_r + 17\n",
    "                print(f'sum of diff correction for R is now : {sum_drift_correction_r}')\n",
    "        # if left < right: negative, add rows to left_df\n",
    "        if drift < 0:\n",
    "            print(f'rows to add to left = {rows_to_add}')\n",
    "            for row in range(rows_to_add):\n",
    "                print('added row to L')\n",
    "                # add a new row to dataframe at r_ind:\n",
    "                l_df = pd.concat([l_df.loc[:l_ind], l_df.loc[l_ind:l_ind], l_df.loc[l_ind+1:]]).reset_index(drop=True)\n",
    "                # Insert NaN at the duplicated row's 'ms_axis'\n",
    "                #l_df.loc[l_ind+1, 'ms_axis'] = None\n",
    "                # scroll the ms_axis backwards one sample\n",
    "                l_df.loc[l_ind:r_df.index[-1], 'ms_axis'] = l_df.loc[l_ind+1:, 'ms_axis']\n",
    "                # add the final timestamp to avoid duplication at the end of the df\n",
    "                #l_df.loc[l_df.index[-1], 'ms_axis'] = l_df.loc[:l_df.index[-1], 'ms_axis'] + 17.05\n",
    "                sum_drift_correction_r = sum_drift_correction_r - 17\n",
    "                print(f'sum of diff correction for R is now : {sum_drift_correction_r}')\n",
    "        elif drift == 0:\n",
    "            print('zero drift')\n",
    "    else:\n",
    "        print(f'{i} has at least one bad ind')\n",
    "    i += 1"
   ],
   "metadata": {
    "collapsed": false,
    "ExecuteTime": {
     "end_time": "2024-02-21T11:13:07.529668500Z",
     "start_time": "2024-02-21T11:13:07.173264300Z"
    }
   },
   "id": "35e2db0242dd20c0",
   "execution_count": 185
  },
  {
   "cell_type": "code",
   "outputs": [
    {
     "data": {
      "text/plain": "<Figure size 900x900 with 2 Axes>",
      "image/png": "[encoded data removed]"
     },
     "metadata": {},
     "output_type": "display_data"
    }
   ],
   "source": [
    "def create_distance_plot(distances, top_dist_to_show=500):\n",
    "    # Create cumulative distribution plot\n",
    "    sns.set(style=\"whitegrid\")\n",
    "    fig, axs = plt.subplots(2, figsize=(6, 6), dpi=150)\n",
    "    \n",
    "    axs[0].set_title('Cumulative Euclidean Distances for Camera Jitter', fontsize=15)\n",
    "    axs[0].set_ylabel('Cumulative \\n % of Frames')\n",
    "    axs[0].set_xlim(0, top_dist_to_show)\n",
    "    axs[0].grid(False)\n",
    "    \n",
    "    # Create histogram and cumulative distribution\n",
    "    sns.kdeplot(distances, cumulative=True, label='Left Eye', ax=axs[0], linewidth=4, c='black')\n",
    "    \n",
    "    axs[1].hist(distances, bins=np.linspace(0, top_dist_to_show, 20), log=False, color='black')\n",
    "\n",
    "    # Set title and labels\n",
    "    title = 'Image displacement histogram'\n",
    "    axs[1].set_title(title, fontsize=15)\n",
    "    axs[1].set_xlabel('Euclidean Displacement [$\\mu$m]', fontsize=15)\n",
    "    axs[1].set_xscale('linear')\n",
    "    axs[1].set_yscale('linear')\n",
    "    axs[1].set_ylabel('Frame count', fontsize=15)\n",
    "\n",
    "    # Adjust tick label sizes\n",
    "    axs[1].tick_params(axis='x', which='major', labelsize=15)\n",
    "\n",
    "    # Set white background and black text\n",
    "    axs[1].set_facecolor('white')\n",
    "    axs[1].title.set_color('black')\n",
    "    axs[1].xaxis.label.set_color('black')\n",
    "    axs[1].yaxis.label.set_color('black')\n",
    "    axs[1].tick_params(colors='black')\n",
    "    axs[1].grid(False)\n",
    "\n",
    "    plt.tight_layout()\n",
    "\n",
    "    return fig, axs\n",
    "\n",
    "\n",
    "# This cell produces the jitter magnitude reports before correction:\n",
    "# define jitter dicts\n",
    "jitter_dict_l = block.le_jitter_dict\n",
    "jitter_dict_r = block.re_jitter_dict\n",
    "\n",
    "# compute euclidean jitter magnitude\n",
    "xl = np.array(jitter_dict_l['x_displacement'])\n",
    "yl = np.array(jitter_dict_l['y_displacement'])\n",
    "l_distances = np.sqrt(xl**2+yl**2)*block.L_pix_size*1000\n",
    "\n",
    "\n",
    "# compute euclidean jitter magnitude\n",
    "xr = np.array(jitter_dict_r['x_displacement'])\n",
    "yr = np.array(jitter_dict_r['y_displacement'])\n",
    "r_distances = np.sqrt(xr**2+yr**2)*block.R_pix_size*1000\n",
    "\n",
    "distances = np.concatenate([l_distances, r_distances])\n",
    "\n",
    "_,_ = create_distance_plot(distances=distances)"
   ],
   "metadata": {
    "collapsed": false,
    "ExecuteTime": {
     "end_time": "2024-02-26T17:19:09.091689400Z",
     "start_time": "2024-02-26T17:19:04.939076300Z"
    }
   },
   "id": "3286bfe45e6e0348",
   "execution_count": 14
  },
  {
   "cell_type": "markdown",
   "source": [
    "Now, I want to collect frames where jitter was too much to correct"
   ],
   "metadata": {
    "collapsed": false
   },
   "id": "81240d77761b4905"
  },
  {
   "cell_type": "code",
   "outputs": [
    {
     "name": "stdout",
     "output_type": "stream",
     "text": [
      "the diff based jitter frame exclusion gives: (76,)\n",
      "the threshold based jitter frame exclusion gives: (93722,)\n",
      "[ 3602  3603  3604 ... 97327 97328 97329]\n",
      "no indices were found to remove\n",
      "If these parameters produce good results, run the \"remove_large_jitter\" function with them\n"
     ]
    }
   ],
   "source": [
    "# first, verify the parameterization of the jitter removal function:\n",
    "block.verify_large_jitter_removal_parameters('left', max_distance=20, diff_threshold=2, gap_to_bridge=2)\n"
   ],
   "metadata": {
    "collapsed": false,
    "ExecuteTime": {
     "end_time": "2024-02-26T17:19:32.079238700Z",
     "start_time": "2024-02-26T17:19:31.899212900Z"
    }
   },
   "id": "fdb8b9548cec4583",
   "execution_count": 16
  },
  {
   "cell_type": "code",
   "outputs": [],
   "source": [
    "# define the functions\n",
    "def add_intermediate_elements(input_vector, gap_to_bridge):\n",
    "    # Step 1: Calculate differences between each element\n",
    "    differences = np.diff(input_vector)\n",
    "\n",
    "    # Step 2: Add intervening elements based on the diff_threshold\n",
    "    output_vector = [input_vector[0]]\n",
    "    for i, diff in enumerate(differences):\n",
    "        if diff < gap_to_bridge:\n",
    "            # Add intervening elements\n",
    "            output_vector.extend(range(input_vector[i] + 1, input_vector[i + 1]))\n",
    "\n",
    "        # Add the next element from the original vector\n",
    "        output_vector.append(input_vector[i + 1])\n",
    "\n",
    "    return np.sort(np.unique(output_vector))\n",
    "\n",
    "def find_jittery_frames(block, eye, max_distance, diff_threshold, gap_to_bridge=6):\n",
    "    \n",
    "    #input checks\n",
    "    if eye not in ['left', 'right']:\n",
    "        print(f'eye can only be left/right, your input: {eye}')\n",
    "        return None\n",
    "    # eye setup\n",
    "    if eye == 'left':\n",
    "        jitter_dict = block.le_jitter_dict\n",
    "        eye_frame_col = 'L_eye_frame'\n",
    "    elif eye == 'right':\n",
    "        jitter_dict = block.re_jitter_dict\n",
    "        eye_frame_col = 'R_eye_frame'\n",
    "    \n",
    "    df_dict = {'left':block.le_df,\n",
    "               'right':block.re_df}\n",
    "    \n",
    "    df = pd.DataFrame.from_dict(jitter_dict)\n",
    "    indices_of_highest_drift = df.query(\"top_correlation_dist > @max_distance\").index.values\n",
    "    diff_vec = np.diff(df['top_correlation_dist'].values)\n",
    "    diff_peaks_indices = np.where(diff_vec > diff_threshold)[0]\n",
    "    video_indices = np.concatenate((diff_peaks_indices, indices_of_highest_drift))\n",
    "    print(f'the diff based jitter frame exclusion gives: {np.shape(diff_peaks_indices)}')\n",
    "    print(f'the threshold based jitter frame exclusion gives: {np.shape(indices_of_highest_drift)}')\n",
    "    \n",
    "    # creates a bridged version of the overly jittery frames (to contend with single frame outliers)\n",
    "    video_indices = add_intermediate_elements(video_indices, gap_to_bridge=gap_to_bridge)\n",
    "    # This is the input you should give to the BlockSync.remove_eye_datapoints function (which already maps it to the df) \n",
    "    \n",
    "    \n",
    "    # translates the video indices to le/re dataframe rows\n",
    "    df_indices_to_remove = df_dict[eye].loc[df_dict[eye][eye_frame_col].isin(video_indices)].index.values\n",
    "    \n",
    "    return df_indices_to_remove, video_indices\n"
   ],
   "metadata": {
    "collapsed": false,
    "ExecuteTime": {
     "end_time": "2024-02-26T17:19:45.232613200Z",
     "start_time": "2024-02-26T17:19:45.174589Z"
    }
   },
   "id": "f5adc6f476f1d822",
   "execution_count": 17
  },
  {
   "cell_type": "code",
   "outputs": [
    {
     "name": "stdout",
     "output_type": "stream",
     "text": [
      "the diff based jitter frame exclusion gives: (76,)\n",
      "the threshold based jitter frame exclusion gives: (0,)\n",
      "the diff based jitter frame exclusion gives: (1220,)\n",
      "the threshold based jitter frame exclusion gives: (118,)\n"
     ]
    }
   ],
   "source": [
    "\n",
    "df_inds_to_remove_l, vid_inds_l = find_jittery_frames(block,'left',max_distance=500, diff_threshold=2, gap_to_bridge=24)\n",
    "df_inds_to_remove_r, vid_inds_r = find_jittery_frames(block,'right',max_distance=25, diff_threshold=2, gap_to_bridge=24)\n",
    "\n",
    "# These are verification plots for the jitter outlier removal functions:\n",
    "# to verify, I want a bokeh explorable:\n",
    "rdf = pd.DataFrame.from_dict(block.re_jitter_dict)\n",
    "ldf = pd.DataFrame.from_dict(block.le_jitter_dict)"
   ],
   "metadata": {
    "collapsed": false,
    "ExecuteTime": {
     "end_time": "2024-02-26T17:22:32.529201800Z",
     "start_time": "2024-02-26T17:22:32.319139700Z"
    }
   },
   "id": "62d247681df35195",
   "execution_count": 30
  },
  {
   "cell_type": "code",
   "outputs": [],
   "source": [
    "bokeh_plotter([rdf.top_correlation_dist], ['drift_distance'], peaks=vid_inds_r)"
   ],
   "metadata": {
    "collapsed": false,
    "ExecuteTime": {
     "end_time": "2024-02-26T17:23:03.121606100Z",
     "start_time": "2024-02-26T17:23:02.900583Z"
    }
   },
   "id": "36b2f66f9f493acc",
   "execution_count": 32
  },
  {
   "cell_type": "code",
   "outputs": [],
   "source": [
    "bokeh_plotter([ldf.top_correlation_dist], ['drift_distance'], peaks=vid_inds_l)"
   ],
   "metadata": {
    "collapsed": false,
    "ExecuteTime": {
     "end_time": "2024-02-26T17:22:37.311390400Z",
     "start_time": "2024-02-26T17:22:37.079416Z"
    }
   },
   "id": "f621cd15b49ed26a",
   "execution_count": 31
  },
  {
   "cell_type": "markdown",
   "source": [
    "### The next step finally removes the irrelevant frames"
   ],
   "metadata": {
    "collapsed": false
   },
   "id": "cd7064e88d24a53d"
  },
  {
   "cell_type": "code",
   "outputs": [
    {
     "name": "stdout",
     "output_type": "stream",
     "text": [
      "removed 6903 from the right eye dataframe\n",
      "removed 277 from the left eye dataframe\n"
     ]
    }
   ],
   "source": [
    "block.remove_eye_datapoints_based_on_video_frames('right', indices_to_nan=vid_inds_r)\n",
    "block.remove_eye_datapoints_based_on_video_frames('left', indices_to_nan=vid_inds_l)"
   ],
   "metadata": {
    "collapsed": false,
    "ExecuteTime": {
     "end_time": "2024-02-26T17:23:38.434135700Z",
     "start_time": "2024-02-26T17:23:38.329089500Z"
    }
   },
   "id": "1fa7559178c67f56",
   "execution_count": 33
  },
  {
   "cell_type": "markdown",
   "source": [
    "And now I expect the jitter report to be changed:"
   ],
   "metadata": {
    "collapsed": false
   },
   "id": "1a8b0ff77166d558"
  },
  {
   "cell_type": "code",
   "outputs": [
    {
     "data": {
      "text/plain": "<Figure size 900x900 with 2 Axes>",
      "image/png": "[encoded data removed]"
     },
     "metadata": {},
     "output_type": "display_data"
    }
   ],
   "source": [
    "jitter_dict_l = block.le_jitter_dict\n",
    "jitter_dict_r = block.re_jitter_dict\n",
    "rdf = pd.DataFrame.from_dict(jitter_dict_r)\n",
    "ldf = pd.DataFrame.from_dict(jitter_dict_l)\n",
    "ldf.iloc[vid_inds_l, :] = np.nan\n",
    "rdf.iloc[vid_inds_r, :] = np.nan\n",
    "r_distances = rdf['top_correlation_dist']*block.R_pix_size*1000\n",
    "l_distances = ldf['top_correlation_dist']*block.L_pix_size*1000\n",
    "\n",
    "all_distances = np.concatenate([l_distances, r_distances])\n",
    "_,_ = create_distance_plot(distances=all_distances,top_dist_to_show=500)"
   ],
   "metadata": {
    "collapsed": false,
    "ExecuteTime": {
     "end_time": "2024-02-26T17:23:45.212655600Z",
     "start_time": "2024-02-26T17:23:41.628076900Z"
    }
   },
   "id": "cfb438422f443b13",
   "execution_count": 34
  },
  {
   "cell_type": "markdown",
   "source": [
    "# I want to understand how to translate my data such that the X and Y axes are reliable and not determined by the camera tilt\n",
    "This will be achieved by the following solution:\n",
    "1. get a line that cuts the image along the tearducts of the animal when the pupil is as close to a circle as possible\n",
    "2. translate phi, x-center and y-center together with the line such that the line is horizontal"
   ],
   "metadata": {
    "collapsed": false
   },
   "id": "d432a0979c481cb4"
  },
  {
   "cell_type": "code",
   "outputs": [
    {
     "name": "stdout",
     "output_type": "stream",
     "text": [
      "Please select two points on the frame.\n",
      "left rotation matrix: \n",
      " [[   0.85953589   -0.51107539  167.60661012]\n",
      " [   0.51107539    0.85953589 -129.83273885]] \n",
      " left rotation angle: \n",
      " -30.735487701920103\n",
      "left data rotated\n"
     ]
    }
   ],
   "source": [
    "block.rotate_data_according_to_frame_ref('left')"
   ],
   "metadata": {
    "collapsed": false,
    "ExecuteTime": {
     "end_time": "2024-02-26T17:24:05.935575400Z",
     "start_time": "2024-02-26T17:23:52.152604200Z"
    }
   },
   "id": "e830ca8be6fa6f",
   "execution_count": 35
  },
  {
   "cell_type": "code",
   "outputs": [
    {
     "name": "stdout",
     "output_type": "stream",
     "text": [
      "Please select two points on the frame.\n",
      "right rotation matrix: \n",
      " [[  0.71483403   0.69929416 -76.5774855 ]\n",
      " [ -0.69929416   0.71483403 292.21396361]] \n",
      " right rotation angle: \n",
      " 44.37040139158974\n",
      "right data rotated\n"
     ]
    }
   ],
   "source": [
    "block.rotate_data_according_to_frame_ref('right')"
   ],
   "metadata": {
    "collapsed": false,
    "ExecuteTime": {
     "end_time": "2024-02-26T17:24:18.632366900Z",
     "start_time": "2024-02-26T17:24:07.398776600Z"
    }
   },
   "id": "b42c1a0368291aff",
   "execution_count": 36
  },
  {
   "cell_type": "code",
   "outputs": [
    {
     "name": "stdout",
     "output_type": "stream",
     "text": [
      "Index(['Arena_TTL', 'R_eye_frame', 'ms_axis', 'center_x_rotated',\n",
      "       'center_y_rotated', 'phi_rotated', 'width', 'height'],\n",
      "      dtype='object')\n",
      "   OE_timestamp  eye_frame   ms_axis    center_x    center_y       phi  \\\n",
      "0      787580.0        NaN  39379.00         NaN         NaN       NaN   \n",
      "1      787920.0        1.0  39396.00  396.195349  225.913175  2.461206   \n",
      "2      788260.0        2.0  39413.00  396.276338  225.995224  2.466461   \n",
      "3      788600.0        3.0  39430.00  396.957229  225.298350  2.550447   \n",
      "4      788939.0        4.0  39446.95  402.405913  225.939779  3.003574   \n",
      "\n",
      "       width     height  \n",
      "0        NaN        NaN  \n",
      "1  17.360097  37.022061  \n",
      "2  17.328058  37.119738  \n",
      "3  16.799508  36.826161  \n",
      "4  15.442105  36.047627  \n",
      "Index(['Arena_TTL', 'L_eye_frame', 'ms_axis', 'center_x_rotated',\n",
      "       'center_y_rotated', 'phi_rotated', 'width', 'height'],\n",
      "      dtype='object')\n",
      "   OE_timestamp  eye_frame   ms_axis    center_x    center_y       phi  \\\n",
      "0      787580.0        0.0  39379.00  464.378703  269.045860 -8.775905   \n",
      "1      787920.0        1.0  39396.00  463.636938  269.415438 -7.826025   \n",
      "2      788260.0        3.0  39413.00  463.124085  270.688676 -4.392867   \n",
      "3      788600.0        4.0  39430.00  461.467029  283.305468  1.283561   \n",
      "4      788939.0        5.0  39446.95  463.625799  294.191076  4.725303   \n",
      "\n",
      "       width     height  \n",
      "0  38.166238  27.085790  \n",
      "1  38.179568  27.134006  \n",
      "2  38.337503  27.510123  \n",
      "3  39.309859  28.846366  \n",
      "4  38.646227  29.332710  \n",
      "successfully rotated the data reference horizon to tear-ducts, created left/right_eye_data\n"
     ]
    }
   ],
   "source": [
    "block.create_eye_data()"
   ],
   "metadata": {
    "collapsed": false,
    "ExecuteTime": {
     "end_time": "2024-02-26T17:24:21.982261700Z",
     "start_time": "2024-02-26T17:24:21.902261900Z"
    }
   },
   "id": "80d563360d6158d6",
   "execution_count": 37
  },
  {
   "cell_type": "markdown",
   "source": [
    "Now verify that you've got it correctly rotated"
   ],
   "metadata": {
    "collapsed": false
   },
   "id": "9ac18b2ab004b4d3"
  },
  {
   "cell_type": "code",
   "outputs": [],
   "source": [
    "block.right_eye_data['phi'] = block.right_eye_data['phi'] + 90"
   ],
   "metadata": {
    "collapsed": false,
    "ExecuteTime": {
     "end_time": "2024-02-26T17:24:27.889149Z",
     "start_time": "2024-02-26T17:24:27.831150900Z"
    }
   },
   "id": "6386c087574eaf41",
   "execution_count": 38
  },
  {
   "cell_type": "code",
   "outputs": [],
   "source": [
    "block.left_eye_data['phi'] = block.left_eye_data['phi'] + 90"
   ],
   "metadata": {
    "collapsed": false,
    "ExecuteTime": {
     "end_time": "2024-02-26T17:24:28.131148200Z",
     "start_time": "2024-02-26T17:24:28.055148800Z"
    }
   },
   "id": "422480a834954994",
   "execution_count": 39
  },
  {
   "cell_type": "code",
   "outputs": [
    {
     "name": "stdout",
     "output_type": "stream",
     "text": [
      "Z:\\Nimrod\\experiments\\PV_62\\2023_04_27\\block_023\\eye_videos\\RE\\230427_pv62_trial1_640x480_60hz_experiment_1_recording_0\\230427_pv62_trial1DLC_resnet50_pogona_eye_trackingMay25shuffle1_1030000_labeled.mp4\n"
     ]
    }
   ],
   "source": [
    "# right eye inspection after rotation\n",
    "path_to_video = [x for x in pathlib.Path(block.re_videos[0]).parent.iterdir() if '.mp4' in str(x.name) and 'DLC' in str(x.name)][0]\n",
    "print(path_to_video)\n",
    "play_video_with_ellipses_rotation(block=block,eye='right', path_to_video=str(path_to_video) ,xflip=True, transformation_matrix=block.right_rotation_matrix)"
   ],
   "metadata": {
    "collapsed": false,
    "ExecuteTime": {
     "end_time": "2024-02-26T17:24:34.965984300Z",
     "start_time": "2024-02-26T17:24:31.214972700Z"
    }
   },
   "id": "8550503bfbfa8cd2",
   "execution_count": 40
  },
  {
   "cell_type": "code",
   "outputs": [],
   "source": [
    "# left eye inspection\n",
    "path_to_video = [x for x in pathlib.Path(block.le_videos[0]).parent.iterdir() if '.mp4' in str(x.name) and 'DLC' in str(x.name)][0]\n",
    "play_video_with_ellipses_rotation(block=block,eye='left', path_to_video=str(path_to_video) ,xflip=True, transformation_matrix=block.left_rotation_matrix)"
   ],
   "metadata": {
    "collapsed": false,
    "ExecuteTime": {
     "end_time": "2024-02-26T17:24:39.874887500Z",
     "start_time": "2024-02-26T17:24:36.647230100Z"
    }
   },
   "id": "a107096e094273da",
   "execution_count": 41
  },
  {
   "cell_type": "markdown",
   "source": [
    "# after verification, I want to have a function that exports the right/left eye data dfs and the rotation matrices + angles to file "
   ],
   "metadata": {
    "collapsed": false
   },
   "id": "e5dab165eb16c2f1"
  },
  {
   "cell_type": "code",
   "outputs": [],
   "source": [
    "def export_eye_data_2d_w_rotation_matrix(block):\n",
    "    \"\"\"\n",
    "    This function saves the eye dataframes to two csv files\n",
    "    :param block: The current blocksync class with verifiec re/le dfs\n",
    "    :return: None\n",
    "    \"\"\"\n",
    "        \n",
    "    block.right_eye_data.to_csv(block.analysis_path / 'right_eye_data.csv')\n",
    "    block.left_eye_data.to_csv(block.analysis_path / 'left_eye_data.csv')\n",
    "    rotation_dict = {'left_rotation_matrix': block.left_rotation_matrix,\n",
    "                'left_rotation_angle':  block.left_rotation_angle,\n",
    "                'right_rotation_matrix':block.right_rotation_matrix,\n",
    "                'right_rotation_angle': block.right_rotation_angle}\n",
    "    with open(block.analysis_path / 'rotate_eye_data_params.pkl', 'wb') as file:\n",
    "        pickle.dump(rotation_dict, file)\n",
    "        \n",
    "\n",
    "export_eye_data_2d_w_rotation_matrix(block)\n"
   ],
   "metadata": {
    "collapsed": false,
    "ExecuteTime": {
     "end_time": "2024-02-26T17:49:46.855344300Z",
     "start_time": "2024-02-26T17:49:41.300904600Z"
    }
   },
   "id": "a0a510124fa19306",
   "execution_count": 70
  },
  {
   "cell_type": "code",
   "outputs": [],
   "source": [
    "def load_eye_data_2d_w_rotation_matrix(block):\n",
    "    \"\"\"\n",
    "    This function checks if the eye dataframes and rotation dict object exist, then imports them\n",
    "    :param block: The current blocksync class with verifiec re/le dfs\n",
    "    :return: None\n",
    "    \"\"\"\n",
    "    try:\n",
    "        block.left_eye_data = pd.read_csv(block.analysis_path / 'left_eye_data.csv', index_col=0)\n",
    "        block.right_eye_data = pd.read_csv(block.analysis_path / 'right_eye_data.csv', index_col=0)\n",
    "    except FileNotFoundError:\n",
    "        print('eye_data files not found, run the pipeline!')\n",
    "        return\n",
    "    \n",
    "    try:\n",
    "        with open(block.analysis_path / 'rotate_eye_data_params.pkl', 'rb') as file:\n",
    "            rotation_dict = pickle.load(file)\n",
    "            block.left_rotation_matrix = rotation_dict['left_rotation_matrix']\n",
    "            block.right_rotation_matrix = rotation_dict['right_rotation_matrix']\n",
    "            block.left_rotation_angle = rotation_dict['left_rotation_angle']\n",
    "            block.right_rotation_angle = rotation_dict['right_rotation_angle']\n",
    "    except FileNotFoundError:\n",
    "        print('No rotation matrix file, create it')\n",
    "    \n",
    "    \n"
   ],
   "metadata": {
    "collapsed": false,
    "ExecuteTime": {
     "end_time": "2024-02-25T11:45:56.334843900Z",
     "start_time": "2024-02-25T11:45:56.255199700Z"
    }
   },
   "id": "c44393995b689479",
   "execution_count": 395
  },
  {
   "cell_type": "code",
   "outputs": [
    {
     "data": {
      "text/plain": "'\\nExample usage\\npath_to_video = block.le_videos[0]\\nframe_number = frame_number_to_show\\noutput_path = block.analysis_path / \\'frame_rotation.avi\\'\\ntransformation_matrix, angle = rotate_frame_to_horizontal_with_interpolation(path_to_video, frame_number, block.le_df, output_path=None)\\nprint(\"Transformation Matrix:\")\\nprint(transformation_matrix)\\n'"
     },
     "execution_count": 25,
     "metadata": {},
     "output_type": "execute_result"
    }
   ],
   "source": [
    "# this is the second iteration of the rotation verification function:\n",
    "def rotate_frame_to_horizontal_with_interpolation(path_to_video_file, frame_number, ellipse_df, xflip=True, output_path= None):\n",
    "    \"\"\"\n",
    "    Rotate the specified frame from a video file to horizontal orientation with interpolation.\n",
    "\n",
    "    Parameters:\n",
    "    - path_to_video_file (str): Path to the video file.\n",
    "    - frame_number (int): Frame number to be processed.\n",
    "    - ellipse_df (pd.DataFrame): DataFrame containing ellipse parameters for each frame.\n",
    "    - xflip (bool, optional): Flag to horizontally flip the frame (default is True).\n",
    "    - output_path (str, optional): Path to save the output video file (default is None).\n",
    "\n",
    "    Returns:\n",
    "    - rotation_matrix (np.ndarray): The rotation matrix used for the transformation.\n",
    "    - angle (float): The rotation angle applied to the frame.\n",
    "    \"\"\"\n",
    "    # Read the video file\n",
    "    cap = cv2.VideoCapture(path_to_video_file)\n",
    "\n",
    "    # Check if the video file is opened successfully\n",
    "    if not cap.isOpened():\n",
    "        print(\"Error: Unable to open video file.\")\n",
    "        return None\n",
    "\n",
    "    # Set the frame position\n",
    "    cap.set(cv2.CAP_PROP_POS_FRAMES, frame_number)\n",
    "\n",
    "    # Read the frame\n",
    "    ret, frame = cap.read()\n",
    "\n",
    "    # Check if the frame is read successfully\n",
    "    if not ret:\n",
    "        print(f\"Error: Unable to read frame {frame_number}.\")\n",
    "        cap.release()\n",
    "        return None\n",
    "\n",
    "    # horizontally flip frame if applicable:\n",
    "    if xflip:\n",
    "        frame = cv2.flip(frame, 1)\n",
    "\n",
    "    # get the original ellipse from the block dataframe\n",
    "    if 'R_eye_frame' in ellipse_df.columns:\n",
    "        current_frame_data = ellipse_df.iloc[ellipse_df.query('R_eye_frame == @frame_number').index[0]]\n",
    "    elif 'L_eye_frame' in ellipse_df.columns:\n",
    "        current_frame_data = ellipse_df.iloc[ellipse_df.query('L_eye_frame == @frame_number').index[0]]\n",
    "\n",
    "    # Extract ellipse parameters\n",
    "    try:\n",
    "        center_x = int(current_frame_data['center_x'])\n",
    "        center_y = int(current_frame_data['center_y'])\n",
    "        width = int(current_frame_data['width'])\n",
    "        height = int(current_frame_data['height'])\n",
    "        phi = float(current_frame_data['phi'])\n",
    "\n",
    "        # Draw the ellipse on the frame\n",
    "        cv2.ellipse(frame, (center_x, center_y), (width, height), phi, 0, 360, (0, 255, 0), 2)\n",
    "    except ValueError:\n",
    "        print('could not paint ellipse, missing values')\n",
    "\n",
    "    # Display the frame\n",
    "    cv2.imshow(\"Original Frame\", frame)\n",
    "\n",
    "    # Prompt user to select two points\n",
    "    print(\"Please select two points on the frame.\")\n",
    "\n",
    "    # Callback function for mouse events\n",
    "    def mouse_callback(event, x, y, flags, param):\n",
    "        if event == cv2.EVENT_LBUTTONDOWN:\n",
    "            points.append((x, y))\n",
    "\n",
    "    # Set up the mouse callback\n",
    "    cv2.setMouseCallback(\"Original Frame\", mouse_callback)\n",
    "\n",
    "    # Wait for the user to select two points\n",
    "    points = []\n",
    "    while len(points) < 2:\n",
    "        cv2.waitKey(1)\n",
    "\n",
    "    # Draw a line between the selected points\n",
    "    cv2.line(frame, points[0], points[1], (0, 255, 0), 2)\n",
    "    cv2.imshow(\"Line Drawn Frame\", frame)\n",
    "    cv2.waitKey(0)\n",
    "    cv2.destroyAllWindows()\n",
    "\n",
    "    # Calculate the rotation angle\n",
    "    angle = np.arctan2(points[1][1] - points[0][1], points[1][0] - points[0][0]) * 180 / np.pi\n",
    "\n",
    "    # Create rotation matrix\n",
    "    rotation_matrix = cv2.getRotationMatrix2D((frame.shape[1] // 2, frame.shape[0] // 2), angle, 1)\n",
    "    #rotation_matrix[:,2] = 0\n",
    "    \n",
    "    # Generate and display video with 50 steps between original and rotated frames\n",
    "    for step in range(51):\n",
    "        alpha = step / 50.0\n",
    "        current_rotation_matrix = cv2.getRotationMatrix2D(\n",
    "            (frame.shape[1] // 2, frame.shape[0] // 2),\n",
    "            angle * alpha,\n",
    "            1\n",
    "        )\n",
    "     #   current_rotation_matrix[:,2] = 0\n",
    "        rotated_frame = cv2.warpAffine(frame, current_rotation_matrix, (frame.shape[1], frame.shape[0]))\n",
    "\n",
    "        cv2.imshow(\"Interpolated Rotated Frame\", rotated_frame)\n",
    "        \n",
    "        cv2.waitKey(100)  # Adjust the wait time to control the playback speed\n",
    "\n",
    "    # Release resources\n",
    "\n",
    "    cap.release()\n",
    "    cv2.destroyAllWindows()\n",
    "\n",
    "    return rotation_matrix, angle\n",
    "\n",
    "\"\"\"\n",
    "Example usage\n",
    "path_to_video = block.le_videos[0]\n",
    "frame_number = frame_number_to_show\n",
    "output_path = block.analysis_path / 'frame_rotation.avi'\n",
    "transformation_matrix, angle = rotate_frame_to_horizontal_with_interpolation(path_to_video, frame_number, block.le_df, output_path=None)\n",
    "print(\"Transformation Matrix:\")\n",
    "print(transformation_matrix)\n",
    "\"\"\"\n"
   ],
   "metadata": {
    "collapsed": false,
    "ExecuteTime": {
     "end_time": "2024-02-20T11:24:45.771934100Z",
     "start_time": "2024-02-20T11:24:45.708447400Z"
    }
   },
   "id": "4de9821d1b9018b",
   "execution_count": 25
  },
  {
   "cell_type": "code",
   "outputs": [],
   "source": [
    "def apply_rotation_around_center_to_df(eye_df, transformation_matrix, rotation_angle):\n",
    "    \"\"\"This is a static method for applying the transformation matrix to eye dataframes within a block class object\"\"\"\n",
    "    original_centers = eye_df[['center_x_corrected', 'center_y_corrected']].values\n",
    "    original_phi = eye_df['phi'].values\n",
    "    M = transformation_matrix\n",
    "    # apply the rotation to xy\n",
    "    rotated_centers = np.dot(original_centers, M[:, :2].T) + M[:, 2]\n",
    "    # apply rotation to phi\n",
    "    rotated_phi = np.rad2deg(original_phi) + rotation_angle\n",
    "    \n",
    "    eye_df['center_x_rotated'] = rotated_centers[:,0]\n",
    "    eye_df['center_y_rotated'] = rotated_centers[:,1]\n",
    "    eye_df['phi_rotated'] = rotated_phi\n",
    "    \n",
    "    return eye_df"
   ],
   "metadata": {
    "collapsed": false,
    "ExecuteTime": {
     "end_time": "2024-02-20T11:24:45.920944500Z",
     "start_time": "2024-02-20T11:24:45.891141400Z"
    }
   },
   "id": "1c1e00addeb4bf1d",
   "execution_count": 26
  },
  {
   "cell_type": "code",
   "outputs": [
    {
     "name": "stdout",
     "output_type": "stream",
     "text": [
      "Please select two points on the frame.\n",
      "Left rotation matrix:\n",
      "[[   0.88334902   -0.46871581  149.82010703]\n",
      " [   0.46871581    0.88334902 -121.99282317]]\n",
      "Left angle\n",
      "-27.95096902789018\n"
     ]
    }
   ],
   "source": [
    "# Initialize for left eye video\n",
    "# get the frames where the pupil is closest to round:\n",
    "s = block.le_df.width / block.le_df.height\n",
    "closest_ind = np.argmin(np.abs(s - 1)) # find the index of the value closest to 1\n",
    "eye = 'L_eye_frame'\n",
    "frame_number_to_show = block.le_df[eye].iloc[closest_ind]\n",
    "path_to_video = block.le_videos[0]\n",
    "frame_number = frame_number_to_show\n",
    "ellipse_df = block.le_df\n",
    "\n",
    "left_rotation_matrix, left_angle = rotate_frame_to_horizontal_with_interpolation(path_to_video_file=path_to_video,\n",
    "                                                                                 frame_number=frame_number,\n",
    "                                                                                 ellipse_df=ellipse_df,\n",
    "                                                                                 xflip=True)\n",
    "print(\"Left rotation matrix:\")\n",
    "print(left_rotation_matrix)\n",
    "print(\"Left angle\")\n",
    "print(left_angle)\n",
    "block.left_rotation_matrix = left_rotation_matrix\n",
    "block.left_rotation_angle = left_angle"
   ],
   "metadata": {
    "collapsed": false,
    "ExecuteTime": {
     "end_time": "2024-02-20T11:24:59.836586300Z",
     "start_time": "2024-02-20T11:24:48.119119500Z"
    }
   },
   "id": "52f1be802418e7e0",
   "execution_count": 27
  },
  {
   "cell_type": "code",
   "outputs": [
    {
     "name": "stdout",
     "output_type": "stream",
     "text": [
      "Please select two points on the frame.\n",
      "Right rotation matrix:\n",
      "[[  0.87591906   0.48245809 -76.08403925]\n",
      " [ -0.48245809   0.87591906 184.16601528]]\n",
      "Right angle\n",
      "28.84606715089911\n"
     ]
    }
   ],
   "source": [
    "# initialize for right eye video\n",
    "# get the frames where the pupil is closest to round:\n",
    "s = block.re_df.width / block.re_df.height\n",
    "closest_ind = np.argmin(np.abs(s - 1)) # find the index of the value closest to 1\n",
    "frame_number_to_show = block.re_df.R_eye_frame.iloc[closest_ind]\n",
    "path_to_video = block.re_videos[0]\n",
    "frame_number = frame_number_to_show\n",
    "ellipse_df = block.re_df\n",
    "\n",
    "right_rotation_matrix, right_angle = rotate_frame_to_horizontal_with_interpolation(path_to_video_file=path_to_video,\n",
    "                                                                                   frame_number=frame_number,\n",
    "                                                                                   ellipse_df=ellipse_df,\n",
    "                                                                                   xflip=True)\n",
    "print(\"Right rotation matrix:\")\n",
    "print(right_rotation_matrix)\n",
    "print(\"Right angle\")\n",
    "print(right_angle)\n",
    "block.right_rotation_matrix = right_rotation_matrix\n",
    "block.right_rotation_angle = right_angle"
   ],
   "metadata": {
    "collapsed": false,
    "ExecuteTime": {
     "end_time": "2024-02-20T11:25:12.172672Z",
     "start_time": "2024-02-20T11:25:01.931724500Z"
    }
   },
   "id": "7052af786a1399a7",
   "execution_count": 28
  },
  {
   "cell_type": "code",
   "outputs": [],
   "source": [
    "# apply the transformation and rotation gathered in the previous stage\n",
    "block.re_df = apply_rotation_around_center_to_df(eye_df = block.re_df.copy(),\n",
    "                                           transformation_matrix = right_rotation_matrix,\n",
    "                                           rotation_angle = right_angle)\n",
    "block.le_df = apply_rotation_around_center_to_df(eye_df = block.le_df.copy(),\n",
    "                                           transformation_matrix = left_rotation_matrix,\n",
    "                                           rotation_angle= left_angle)\n",
    "\n"
   ],
   "metadata": {
    "collapsed": false,
    "ExecuteTime": {
     "end_time": "2024-02-18T20:57:53.572482200Z",
     "start_time": "2024-02-18T20:57:53.513505300Z"
    }
   },
   "id": "fe3b08f5eab70e87",
   "execution_count": 115
  },
  {
   "cell_type": "code",
   "outputs": [],
   "source": [
    "# create the eye_data dfs to finalize the translation and sort out some mess\n",
    "block.right_eye_data = block.re_df.copy()\n",
    "block.right_eye_data = block.right_eye_data[['Arena_TTL', 'R_eye_frame', 'ms_axis', \n",
    "                                             'center_x_rotated', 'center_y_rotated',\n",
    "                                             'phi_rotated','width', 'height']]\n",
    "block.left_eye_data = block.le_df.copy()\n",
    "block.left_eye_data = block.left_eye_data[['Arena_TTL', 'L_eye_frame', 'ms_axis', \n",
    "                                             'center_x_rotated', 'center_y_rotated',\n",
    "                                             'phi_rotated','width', 'height']]\n"
   ],
   "metadata": {
    "collapsed": false,
    "ExecuteTime": {
     "end_time": "2024-02-18T20:57:55.128744300Z",
     "start_time": "2024-02-18T20:57:55.080567600Z"
    }
   },
   "id": "871ca576eefd62b7",
   "execution_count": 116
  },
  {
   "cell_type": "code",
   "outputs": [
    {
     "name": "stdout",
     "output_type": "stream",
     "text": [
      "Index(['Arena_TTL', 'R_eye_frame', 'ms_axis', 'center_x_rotated',\n",
      "       'center_y_rotated', 'phi_rotated', 'width', 'height'],\n",
      "      dtype='object')\n",
      "   OE_timestamp  eye_frame   ms_axis  center_x  center_y  phi  width  height\n",
      "0      489228.0        NaN  24461.40       NaN       NaN  NaN    NaN     NaN\n",
      "1      489568.0        NaN  24478.40       NaN       NaN  NaN    NaN     NaN\n",
      "2      489907.0        NaN  24495.35       NaN       NaN  NaN    NaN     NaN\n",
      "3      490247.0        NaN  24512.35       NaN       NaN  NaN    NaN     NaN\n",
      "4      490587.0        NaN  24529.35       NaN       NaN  NaN    NaN     NaN\n",
      "Index(['Arena_TTL', 'L_eye_frame', 'ms_axis', 'center_x_rotated',\n",
      "       'center_y_rotated', 'phi_rotated', 'width', 'height'],\n",
      "      dtype='object')\n",
      "   OE_timestamp  eye_frame   ms_axis    center_x    center_y        phi  \\\n",
      "0      489228.0        8.0  24461.40  426.281506  196.920111 -13.032192   \n",
      "1      489568.0        9.0  24478.40  426.293619  196.944699 -12.962090   \n",
      "2      489907.0       11.0  24495.35  426.252055  196.936348 -12.850598   \n",
      "3      490247.0       11.0  24512.35  426.252055  196.936348 -12.850598   \n",
      "4      490587.0       12.0  24529.35  426.162146  196.931809 -12.412123   \n",
      "\n",
      "       width     height  \n",
      "0  45.652720  33.360344  \n",
      "1  45.650638  33.354662  \n",
      "2  45.639808  33.348853  \n",
      "3  45.639808  33.348853  \n",
      "4  45.489204  33.231075  \n"
     ]
    }
   ],
   "source": [
    "# change dataframe column names to comply with earlier code\n",
    "translation_dict = {'center_x_rotated':'center_x',\n",
    "                    'center_y_rotated':'center_y',\n",
    "                    'phi_rotated':'phi',\n",
    "                    'L_eye_frame':'eye_frame',\n",
    "                    'R_eye_frame': 'eye_frame',\n",
    "                    'Arena_TTL':'OE_timestamp'}\n",
    "for df in [block.right_eye_data, block.left_eye_data]:\n",
    "    print(df.columns)\n",
    "    df.rename(columns=translation_dict, inplace=True)\n",
    "    print(df.head())\n"
   ],
   "metadata": {
    "collapsed": false,
    "ExecuteTime": {
     "end_time": "2024-02-18T20:57:56.050415Z",
     "start_time": "2024-02-18T20:57:55.995691600Z"
    }
   },
   "id": "33b01fa472d39efe",
   "execution_count": 117
  },
  {
   "cell_type": "markdown",
   "source": [
    "# Now I should verify this worked..."
   ],
   "metadata": {
    "collapsed": false
   },
   "id": "f0f9d45e24f54339"
  },
  {
   "cell_type": "markdown",
   "source": [
    "# over here, I can load the eye dataframes if I already exported them"
   ],
   "metadata": {
    "collapsed": false
   },
   "id": "baea2aa891fe8518"
  },
  {
   "cell_type": "code",
   "outputs": [],
   "source": [
    "block.left_eye_data = pd.read_csv(block.analysis_path / 'left_eye_data.csv', index_col=0)\n",
    "block.right_eye_data = pd.read_csv(block.analysis_path / 'right_eye_data.csv', index_col=0)"
   ],
   "metadata": {
    "collapsed": false,
    "ExecuteTime": {
     "end_time": "2024-02-24T12:52:51.675350500Z",
     "start_time": "2024-02-24T12:52:49.900830200Z"
    }
   },
   "id": "b33af39e34a68084",
   "execution_count": 227
  },
  {
   "cell_type": "code",
   "outputs": [],
   "source": [
    "def create_saccade_events_df(eye_data_df, speed_threshold, bokeh_verify_threshold=False):    \n",
    "    \"\"\"\n",
    "    Detects saccade events in eye tracking data and computes relevant metrics.\n",
    "\n",
    "    Parameters:\n",
    "    - eye_data_df (pd.DataFrame): Input DataFrame containing eye tracking data.\n",
    "    - speed_threshold (float): Threshold for saccade detection based on speed.\n",
    "\n",
    "    Returns:\n",
    "    - df (pd.DataFrame): Modified input DataFrame with added columns for speed and saccade detection.\n",
    "    - saccade_events_df (pd.DataFrame): DataFrame containing information about detected saccade events.\n",
    "\n",
    "    Steps:\n",
    "    1. Calculate speed components ('speed_x', 'speed_y') based on differences in 'center_x' and 'center_y'.\n",
    "    2. Compute the magnitude of the velocity vector ('speed_r').\n",
    "    3. Create a binary column ('is_saccade') indicating saccade events based on the speed threshold.\n",
    "    4. Determine saccade onset and offset indices and timestamps.\n",
    "    5. Create a DataFrame ('saccade_events_df') with columns:\n",
    "        - 'saccade_start_ind': Indices of saccade onset.\n",
    "        - 'saccade_start_timestamp': Timestamps corresponding to saccade onset.\n",
    "        - 'saccade_end_ind': Indices of saccade offset.\n",
    "        - 'saccade_end_timestamp': Timestamps corresponding to saccade offset.\n",
    "        - 'length': Duration of each saccade event.\n",
    "    6. Calculate distance traveled and angles for each saccade event.\n",
    "    7. Append additional columns to 'saccade_events_df':\n",
    "        - 'magnitude': Magnitude of the distance traveled during each saccade.\n",
    "        - 'angle': Angle of the saccade vector in degrees.\n",
    "        - 'initial_x', 'initial_y': Initial coordinates of the saccade.\n",
    "        - 'end_x', 'end_y': End coordinates of the saccade.\n",
    "\n",
    "    Note: The original 'eye_data_df' is not modified; modified data is returned as 'df'.\n",
    "    \"\"\"\n",
    "    df = eye_data_df\n",
    "    df['speed_x'] = df['center_x'].diff()  # Difference between consecutive 'center_x' values\n",
    "    df['speed_y'] = df['center_y'].diff()  # Difference between consecutive 'center_y' values\n",
    "    \n",
    "    # Step 2: Calculate magnitude of the velocity vector (R vector speed)\n",
    "    df['speed_r'] = (df['speed_x']**2 + df['speed_y']**2)**0.5\n",
    "    \n",
    "    # Create a column for saccade detection\n",
    "    df['is_saccade'] = df['speed_r'] > speed_threshold\n",
    "    \n",
    "    # create a saccade_on_off indicator where 1 is rising edge and -1 is falling edge by subtracting a shifted binary mask\n",
    "    saccade_on_off = df.is_saccade.astype(int) - df.is_saccade.shift(periods=1,fill_value=False).astype(int)\n",
    "    saccade_on_inds = np.where(saccade_on_off == 1)[0] - 1 # notice the manual shift here, chosen to include the first (sometimes slower) eye frame, just before saccade threshold crossing\n",
    "    saccade_on_timestamps = df['OE_timestamp'].iloc[saccade_on_inds]\n",
    "    saccade_off_inds = np.where(saccade_on_off == -1)[0]\n",
    "    saccade_off_timestamps = df['OE_timestamp'].iloc[saccade_off_inds]\n",
    "    \n",
    "    saccade_dict = {'saccade_start_ind' :  saccade_on_inds ,\n",
    "                    'saccade_start_timestamp': saccade_on_timestamps.values,\n",
    "                    'saccade_end_ind':      saccade_off_inds,\n",
    "                    'saccade_end_timestamp':saccade_off_timestamps.values\n",
    "                    }\n",
    "    saccade_events_df = pd.DataFrame.from_dict(saccade_dict)\n",
    "    saccade_events_df['length'] = saccade_events_df['saccade_end_ind'] - saccade_events_df['saccade_start_ind']\n",
    "    # Drop columns used for intermediate steps\n",
    "    df = df.drop(['is_saccade'], axis=1)\n",
    "    \n",
    "    distances = []\n",
    "    angles = []\n",
    "    for index, row in tqdm.tqdm(saccade_events_df.iterrows()):\n",
    "        saccade_samples = df.loc[(df['OE_timestamp'] >= row['saccade_start_timestamp']) & \n",
    "                                 (df['OE_timestamp'] <= row['saccade_end_timestamp'])]\n",
    "        distance_traveled = saccade_samples['speed_r'].sum()\n",
    "        # Calculate angle from initial position to endpoint\n",
    "        initial_position = saccade_samples.iloc[0][['center_x', 'center_y']]\n",
    "        endpoint = saccade_samples.iloc[-1][['center_x', 'center_y']]\n",
    "        overall_angle = np.arctan2(endpoint['center_y'] - initial_position['center_y'],\n",
    "                           endpoint['center_x'] - initial_position['center_x'])\n",
    "        \n",
    "        # calculate intermittent angles:\n",
    "        #step_angles = np.arctan2(saccade_samples['center_y'].diff(), saccade_samples['center_x'].diff())\n",
    "        #correlation_score = np.corrcoef(step_angles, overall_angle)[0, 1]\n",
    "        #correlations.append(correlation_score)\n",
    "        angles.append(overall_angle)  # Convert radians to degrees and ensure result is in [0, 360)\n",
    "        distances.append(distance_traveled)\n",
    "    \n",
    "    saccade_events_df['magnitude'] = distances \n",
    "    saccade_events_df['angle'] = np.rad2deg(angles) %360\n",
    "    \n",
    "    start_ts = saccade_events_df['saccade_start_timestamp'].values\n",
    "    end_ts = saccade_events_df['saccade_end_timestamp'].values\n",
    "    saccade_start_df = df[df['OE_timestamp'].isin(start_ts)]\n",
    "    saccade_end_df = df[df['OE_timestamp'].isin(end_ts)]\n",
    "    start_x_coord = saccade_start_df['center_x']\n",
    "    start_y_coord = saccade_start_df['center_y']\n",
    "    end_x_coord = saccade_end_df['center_x']\n",
    "    end_y_coord = saccade_end_df['center_y']\n",
    "    saccade_events_df['initial_x'] = start_x_coord.values\n",
    "    saccade_events_df['initial_y'] = start_y_coord.values\n",
    "    saccade_events_df['end_x'] = end_x_coord.values\n",
    "    saccade_events_df['end_y'] = end_y_coord.values\n",
    "    \n",
    "    if bokeh_verify_threshold:\n",
    "        bokeh_plotter(data_list=[df.speed_r], label_list=['Pupil Velocity'], peaks=saccade_on_inds)\n",
    "        \n",
    "    return df, saccade_events_df"
   ],
   "metadata": {
    "collapsed": false,
    "ExecuteTime": {
     "end_time": "2024-02-20T11:23:25.739533Z",
     "start_time": "2024-02-20T11:23:25.690988200Z"
    }
   },
   "id": "7d3d9810488dc9f5",
   "execution_count": 20
  },
  {
   "cell_type": "code",
   "outputs": [
    {
     "name": "stderr",
     "output_type": "stream",
     "text": [
      "963it [00:01, 757.45it/s]\n",
      "<ipython-input-20-0ed2046103a3>:80: RuntimeWarning: invalid value encountered in remainder\n",
      "  saccade_events_df['angle'] = np.rad2deg(angles) %360\n",
      "1002it [00:01, 763.79it/s]\n",
      "<ipython-input-20-0ed2046103a3>:80: RuntimeWarning: invalid value encountered in remainder\n",
      "  saccade_events_df['angle'] = np.rad2deg(angles) %360\n"
     ]
    }
   ],
   "source": [
    "block.left_eye_data, block.l_saccade_df = create_saccade_events_df(block.left_eye_data, speed_threshold=2, bokeh_verify_threshold=True)\n",
    "block.right_eye_data, block.r_saccade_df = create_saccade_events_df(block.right_eye_data, speed_threshold=2, bokeh_verify_threshold=False)"
   ],
   "metadata": {
    "collapsed": false,
    "ExecuteTime": {
     "end_time": "2024-02-20T11:23:31.990000700Z",
     "start_time": "2024-02-20T11:23:29.102184300Z"
    }
   },
   "id": "1573be47ac7e109a",
   "execution_count": 21
  },
  {
   "cell_type": "markdown",
   "source": [
    "# END of working pipeline"
   ],
   "metadata": {
    "collapsed": false
   },
   "id": "bb07cf17626ac4e"
  },
  {
   "cell_type": "code",
   "outputs": [
    {
     "name": "stdout",
     "output_type": "stream",
     "text": [
      "31473.6\n",
      "31524.5\n"
     ]
    }
   ],
   "source": [
    "start_ms = block.left_eye_data[block.left_eye_data['OE_timestamp'] == block.l_saccade_df.saccade_start_timestamp[0]].ms_axis.values[0]\n",
    "end_ms = block.left_eye_data[block.left_eye_data['OE_timestamp'] == block.l_saccade_df.saccade_end_timestamp[0]].ms_axis.values[0]\n",
    "print(start_ms)\n",
    "print(end_ms)\n",
    "show_synced_eye_videos(block,start_ms=start_ms, end_ms = end_ms+10000, xflip=True, rotate_frames=True)"
   ],
   "metadata": {
    "collapsed": false,
    "ExecuteTime": {
     "end_time": "2024-02-12T09:56:58.678629400Z",
     "start_time": "2024-02-12T09:56:38.070621300Z"
    }
   },
   "id": "c033a74eca095fdf",
   "execution_count": 56
  },
  {
   "cell_type": "code",
   "outputs": [
    {
     "data": {
      "text/plain": "     saccade_start_ind  saccade_start_timestamp  saccade_end_ind  \\\n0                  187                 629472.0              190   \n1                  195                 632189.0              197   \n2                  431                 712366.0              437   \n3                  437                 714406.0              439   \n4                  440                 715425.0              442   \n..                 ...                      ...              ...   \n943              99020               34199800.0            99023   \n944              99025               34201498.0            99029   \n945              99029               34202856.0            99031   \n946              99055               34211686.0            99059   \n947              99177               34253119.0            99181   \n\n     saccade_end_timestamp  length  magnitude       angle   initial_x  \\\n0                 630490.0       3   9.932899  191.060017  443.701380   \n1                 632869.0       2   5.246787  178.357383  434.059964   \n2                 714406.0       6  57.520999  192.272786  432.873161   \n3                 715085.0       2   5.041011  295.612636  377.421321   \n4                 716104.0       2   5.511173   24.877704  380.896509   \n..                     ...     ...        ...         ...         ...   \n943             34200818.0       3   9.938166  188.530117  384.550090   \n944             34202856.0       4  12.079636   12.436074  376.539197   \n945             34203535.0       2   5.350909   26.410003  387.969751   \n946             34213044.0       4  20.271445   12.094669  401.080781   \n947             34254477.0       4  14.693614  171.610920  421.340985   \n\n      initial_y       end_x       end_y  \n0    208.074354  434.815437  206.337440  \n1    206.407190  430.055567  206.522024  \n2    206.079406  377.421321  194.016537  \n3    194.016537  379.290380  190.117718  \n4    190.225431  384.397426  191.848847  \n..          ...         ...         ...  \n943  187.577661  376.837254  186.420825  \n944  186.155427  387.969751  188.676143  \n945  188.676143  392.743904  191.047092  \n946  193.963496  418.462983  197.688225  \n947  194.735471  408.622090  196.611157  \n\n[948 rows x 11 columns]",
      "text/html": "<div>\n<style scoped>\n    .dataframe tbody tr th:only-of-type {\n        vertical-align: middle;\n    }\n\n    .dataframe tbody tr th {\n        vertical-align: top;\n    }\n\n    .dataframe thead th {\n        text-align: right;\n    }\n</style>\n<table border=\"1\" class=\"dataframe\">\n  <thead>\n    <tr style=\"text-align: right;\">\n      <th></th>\n      <th>saccade_start_ind</th>\n      <th>saccade_start_timestamp</th>\n      <th>saccade_end_ind</th>\n      <th>saccade_end_timestamp</th>\n      <th>length</th>\n      <th>magnitude</th>\n      <th>angle</th>\n      <th>initial_x</th>\n      <th>initial_y</th>\n      <th>end_x</th>\n      <th>end_y</th>\n    </tr>\n  </thead>\n  <tbody>\n    <tr>\n      <th>0</th>\n      <td>187</td>\n      <td>629472.0</td>\n      <td>190</td>\n      <td>630490.0</td>\n      <td>3</td>\n      <td>9.932899</td>\n      <td>191.060017</td>\n      <td>443.701380</td>\n      <td>208.074354</td>\n      <td>434.815437</td>\n      <td>206.337440</td>\n    </tr>\n    <tr>\n      <th>1</th>\n      <td>195</td>\n      <td>632189.0</td>\n      <td>197</td>\n      <td>632869.0</td>\n      <td>2</td>\n      <td>5.246787</td>\n      <td>178.357383</td>\n      <td>434.059964</td>\n      <td>206.407190</td>\n      <td>430.055567</td>\n      <td>206.522024</td>\n    </tr>\n    <tr>\n      <th>2</th>\n      <td>431</td>\n      <td>712366.0</td>\n      <td>437</td>\n      <td>714406.0</td>\n      <td>6</td>\n      <td>57.520999</td>\n      <td>192.272786</td>\n      <td>432.873161</td>\n      <td>206.079406</td>\n      <td>377.421321</td>\n      <td>194.016537</td>\n    </tr>\n    <tr>\n      <th>3</th>\n      <td>437</td>\n      <td>714406.0</td>\n      <td>439</td>\n      <td>715085.0</td>\n      <td>2</td>\n      <td>5.041011</td>\n      <td>295.612636</td>\n      <td>377.421321</td>\n      <td>194.016537</td>\n      <td>379.290380</td>\n      <td>190.117718</td>\n    </tr>\n    <tr>\n      <th>4</th>\n      <td>440</td>\n      <td>715425.0</td>\n      <td>442</td>\n      <td>716104.0</td>\n      <td>2</td>\n      <td>5.511173</td>\n      <td>24.877704</td>\n      <td>380.896509</td>\n      <td>190.225431</td>\n      <td>384.397426</td>\n      <td>191.848847</td>\n    </tr>\n    <tr>\n      <th>...</th>\n      <td>...</td>\n      <td>...</td>\n      <td>...</td>\n      <td>...</td>\n      <td>...</td>\n      <td>...</td>\n      <td>...</td>\n      <td>...</td>\n      <td>...</td>\n      <td>...</td>\n      <td>...</td>\n    </tr>\n    <tr>\n      <th>943</th>\n      <td>99020</td>\n      <td>34199800.0</td>\n      <td>99023</td>\n      <td>34200818.0</td>\n      <td>3</td>\n      <td>9.938166</td>\n      <td>188.530117</td>\n      <td>384.550090</td>\n      <td>187.577661</td>\n      <td>376.837254</td>\n      <td>186.420825</td>\n    </tr>\n    <tr>\n      <th>944</th>\n      <td>99025</td>\n      <td>34201498.0</td>\n      <td>99029</td>\n      <td>34202856.0</td>\n      <td>4</td>\n      <td>12.079636</td>\n      <td>12.436074</td>\n      <td>376.539197</td>\n      <td>186.155427</td>\n      <td>387.969751</td>\n      <td>188.676143</td>\n    </tr>\n    <tr>\n      <th>945</th>\n      <td>99029</td>\n      <td>34202856.0</td>\n      <td>99031</td>\n      <td>34203535.0</td>\n      <td>2</td>\n      <td>5.350909</td>\n      <td>26.410003</td>\n      <td>387.969751</td>\n      <td>188.676143</td>\n      <td>392.743904</td>\n      <td>191.047092</td>\n    </tr>\n    <tr>\n      <th>946</th>\n      <td>99055</td>\n      <td>34211686.0</td>\n      <td>99059</td>\n      <td>34213044.0</td>\n      <td>4</td>\n      <td>20.271445</td>\n      <td>12.094669</td>\n      <td>401.080781</td>\n      <td>193.963496</td>\n      <td>418.462983</td>\n      <td>197.688225</td>\n    </tr>\n    <tr>\n      <th>947</th>\n      <td>99177</td>\n      <td>34253119.0</td>\n      <td>99181</td>\n      <td>34254477.0</td>\n      <td>4</td>\n      <td>14.693614</td>\n      <td>171.610920</td>\n      <td>421.340985</td>\n      <td>194.735471</td>\n      <td>408.622090</td>\n      <td>196.611157</td>\n    </tr>\n  </tbody>\n</table>\n<p>948 rows × 11 columns</p>\n</div>"
     },
     "execution_count": 34,
     "metadata": {},
     "output_type": "execute_result"
    }
   ],
   "source": [
    "block.l_saccade_df"
   ],
   "metadata": {
    "collapsed": false,
    "ExecuteTime": {
     "end_time": "2024-02-13T10:17:57.003478100Z",
     "start_time": "2024-02-13T10:17:56.945451700Z"
    }
   },
   "id": "384e54a58f7aeca5",
   "execution_count": 34
  },
  {
   "cell_type": "code",
   "outputs": [],
   "source": [
    "# I want to collect saccade events from the new dataframe:\n",
    "# first stage is to understand pupil speeds:\n",
    "# Step 1: Calculate speed in each axis\n",
    "df = block.left_eye_data.copy()\n",
    "df['speed_x'] = df['center_x'].diff()  # Difference between consecutive 'center_x' values\n",
    "df['speed_y'] = df['center_y'].diff()  # Difference between consecutive 'center_y' values\n",
    "\n",
    "# Step 2: Calculate magnitude of the velocity vector (R vector speed)\n",
    "df['speed_r'] = (df['speed_x']**2 + df['speed_y']**2)**0.5\n"
   ],
   "metadata": {
    "collapsed": false,
    "ExecuteTime": {
     "end_time": "2024-02-08T16:45:34.138818400Z",
     "start_time": "2024-02-08T16:45:34.105641600Z"
    }
   },
   "id": "7cf7b2aa02cf0466",
   "execution_count": 51
  },
  {
   "cell_type": "code",
   "outputs": [],
   "source": [
    "# now detect saccade events and chunk them:\n",
    "speed_threshold = 2\n",
    "# Create a column for saccade detection\n",
    "df['is_saccade'] = df['speed_r'] > speed_threshold\n",
    "\n",
    "# create a saccade_on_off indicator where 1 is rising edge and -1 is falling edge by subtracting a shifted binary mask\n",
    "saccade_on_off = df.is_saccade.astype(int) - df.is_saccade.shift(periods=1,fill_value=False).astype(int)\n",
    "saccade_on_inds = np.where(saccade_on_off == 1)[0]\n",
    "saccade_on_timestamps = df['OE_timestamp'].iloc[saccade_on_inds]\n",
    "saccade_off_inds = np.where(saccade_on_off == -1)[0]\n",
    "saccade_off_timestamps = df['OE_timestamp'].iloc[saccade_off_inds]\n",
    "\n",
    "saccade_dict = {'saccade_start_ind' :  saccade_on_inds ,\n",
    "                'saccade_start_timestamp': saccade_on_timestamps.values,\n",
    "                'saccade_end_ind':      saccade_off_inds,\n",
    "                'saccade_end_timestamp':saccade_off_timestamps.values\n",
    "                }\n",
    "saccade_events_df = pd.DataFrame.from_dict(saccade_dict)\n",
    "saccade_events_df['length'] = saccade_events_df['saccade_end_ind'] - saccade_events_df['saccade_start_ind']\n",
    "# Drop columns used for intermediate steps\n",
    "# df = df.drop(['is_saccade'], axis=1)\n",
    "\n",
    "distances = []\n",
    "angles = []\n",
    "correlations = []\n",
    "\n",
    "\n",
    "for index, row in tqdm.tqdm(saccade_events_df.iterrows()):\n",
    "    saccade_samples = df.loc[(df['OE_timestamp'] >= row['saccade_start_timestamp']) & \n",
    "                             (df['OE_timestamp'] <= row['saccade_end_timestamp'])]\n",
    "    distance_traveled = saccade_samples['speed_r'].sum()\n",
    "    # Calculate angle from initial position to endpoint\n",
    "    initial_position = saccade_samples.iloc[0][['center_x', 'center_y']]\n",
    "    endpoint = saccade_samples.iloc[-1][['center_x', 'center_y']]\n",
    "    overall_angle = np.arctan2(endpoint['center_y'] - initial_position['center_y'],\n",
    "                       endpoint['center_x'] - initial_position['center_x'])\n",
    "    \n",
    "    # calculate intermittent angles:\n",
    "    #step_angles = np.arctan2(saccade_samples['center_y'].diff(), saccade_samples['center_x'].diff())\n",
    "    #correlation_score = np.corrcoef(step_angles, overall_angle)[0, 1]\n",
    "    #correlations.append(correlation_score)\n",
    "    angles.append(overall_angle)  # Convert radians to degrees and ensure result is in [0, 360)\n",
    "    distances.append(distance_traveled)\n",
    "\n",
    "\n",
    "saccade_events_df['magnitude'] = distances \n",
    "saccade_events_df['angle'] = np.rad2deg(angles) %360\n",
    "# now get xy coordinates for start and end timestamps:\n",
    "start_ts = saccade_events_df['saccade_start_timestamp'].values\n",
    "end_ts = saccade_events_df['saccade_end_timestamp'].values\n",
    "saccade_start_df = df[df['OE_timestamp'].isin(start_ts)]\n",
    "saccade_end_df = df[df['OE_timestamp'].isin(end_ts)]\n",
    "start_x_coord = saccade_start_df['center_x']\n",
    "start_y_coord = saccade_start_df['center_y']\n",
    "end_x_coord = saccade_end_df['center_x']\n",
    "end_y_coord = saccade_end_df['center_y']\n",
    "saccade_events_df['initial_x'] = start_x_coord.values\n",
    "saccade_events_df['initial_y'] = start_y_coord.values\n",
    "saccade_events_df['end_x'] = end_x_coord.values\n",
    "saccade_events_df['end_y'] = end_y_coord.values\n",
    "saccade_events_df\n",
    "#saccade_events_df['correlation'] = correlations"
   ],
   "metadata": {
    "collapsed": false,
    "ExecuteTime": {
     "end_time": "2024-02-08T16:45:44.373005700Z",
     "start_time": "2024-02-08T16:45:44.307197800Z"
    }
   },
   "id": "bc5fd88241a2db76",
   "execution_count": 52
  },
  {
   "cell_type": "code",
   "outputs": [
    {
     "data": {
      "text/plain": "<Figure size 720x504 with 1 Axes>",
      "image/png": "[encoded data removed]"
     },
     "metadata": {},
     "output_type": "display_data"
    }
   ],
   "source": [
    "# make a histogram plot for all saccade magnitudes (L/R):\n",
    "all_magnitudes_mm = np.hstack([block.l_saccade_df['magnitude'].values * block.L_pix_size, block.r_saccade_df['magnitude'].values * block.R_pix_size])\n",
    "# Create the figure and axis\n",
    "fig, ax = plt.subplots(figsize=(10, 7))\n",
    "\n",
    "# Plot the histogram\n",
    "ax.hist(all_magnitudes_mm,bins=np.linspace(0,10,20),log=True, color='black')\n",
    "\n",
    "# Set title and labels\n",
    "title = f'Saccade amplitude distribution Blocks 23-32 \\n overall {len(all_magnitudes_mm)} saccades'\n",
    "ax.set_title(title, fontsize=17)\n",
    "ax.set_xlabel('Saccade amplitude [mm]', fontsize=17)\n",
    "ax.set_xscale('linear')\n",
    "ax.set_yscale('linear')\n",
    "ax.set_ylabel('Count', fontsize=20)\n",
    "\n",
    "# Adjust tick label sizes\n",
    "ax.tick_params(axis='both', which='major', labelsize=15)\n",
    "\n",
    "# Set white background and black text\n",
    "fig.patch.set_facecolor('white')\n",
    "ax.set_facecolor('white')\n",
    "ax.title.set_color('black')\n",
    "ax.xaxis.label.set_color('black')\n",
    "ax.yaxis.label.set_color('black')\n",
    "ax.tick_params(colors='black')\n",
    "\n",
    "plt.show()"
   ],
   "metadata": {
    "collapsed": false,
    "ExecuteTime": {
     "end_time": "2024-02-11T16:27:06.061441800Z",
     "start_time": "2024-02-11T16:27:05.882671100Z"
    }
   },
   "id": "6f1ec678ee2ce773",
   "execution_count": 35
  },
  {
   "cell_type": "code",
   "outputs": [
    {
     "data": {
      "text/plain": "<Figure size 720x432 with 1 Axes>",
      "image/png": "[encoded data removed]"
     },
     "metadata": {},
     "output_type": "display_data"
    }
   ],
   "source": [
    "# Create a Seaborn histogram plot\n",
    "sns.set(style=\"whitegrid\")  # Remove the background grid\n",
    "plt.figure(figsize=(10, 6))  # Enlarge the plot\n",
    "\n",
    "# Set custom color for the bars\n",
    "ax = sns.histplot(all_magnitudes_mm, color='black')\n",
    "\n",
    "# Customize text size\n",
    "ax.set_title(f'Saccade Magnitude Histogram\\n overall {len(all_magnitudes_mm)} saccades', fontsize=22)\n",
    "ax.set_xlabel('Magnitudes [mm]', fontsize=20)\n",
    "ax.set_ylabel('Count', fontsize=20)\n",
    "ax.tick_params(axis='both', labelsize=18)\n"
   ],
   "metadata": {
    "collapsed": false,
    "ExecuteTime": {
     "end_time": "2024-02-11T16:27:07.151327500Z",
     "start_time": "2024-02-11T16:27:06.915645600Z"
    }
   },
   "id": "3aa8484e4dff906e",
   "execution_count": 36
  },
  {
   "cell_type": "code",
   "outputs": [
    {
     "data": {
      "text/plain": "<Figure size 1200x900 with 1 Axes>",
      "image/png": "[encoded data removed]"
     },
     "metadata": {},
     "output_type": "display_data"
    }
   ],
   "source": [
    "# saccade_angles = np.hstack([block.l_saccade_df['angle'].values, \n",
    "#                             block.r_saccade_df['angle'].values])\n",
    "saccade_angles = block.r_saccade_df['angle'].values\n",
    "num_bins = 36\n",
    "hist, bin_edges = np.histogram(saccade_angles, bins=num_bins, range=(0, 360))\n",
    "bin_centers = (bin_edges[:-1] + bin_edges[1:]) / 2  # Calculate bin centers\n",
    "\n",
    "plt.figure(figsize=(8, 6), dpi=150)\n",
    "ax = plt.subplot(111, projection='polar')\n",
    "\n",
    "ax.bar(np.deg2rad(list(bin_centers.astype(int))), hist, width=np.deg2rad(360/num_bins), align='center')\n",
    "\n",
    "#ax.set_theta_direction(-1)\n",
    "#ax.set_theta_offset(np.radians(90))\n",
    "ax.grid(True)\n",
    "#ax.set_rlabel_position(0)\n",
    "ax.set_yticks([])\n",
    "plt.title(\"Polar Histogram of saccade directions - synced saccades\")\n",
    "\n",
    "plt.show()"
   ],
   "metadata": {
    "collapsed": false,
    "ExecuteTime": {
     "end_time": "2024-02-11T16:28:01.240619Z",
     "start_time": "2024-02-11T16:28:01.060664200Z"
    }
   },
   "id": "b33c146c6d1e5d7f",
   "execution_count": 39
  },
  {
   "cell_type": "code",
   "outputs": [
    {
     "data": {
      "text/plain": "     saccade_on_timestamps  saccade_off_timestamps\n0                 543242.0                543921.0\n1                 586047.0                586727.0\n2                 597599.0                598279.0\n3                 673697.0                674037.0\n4                 762709.0                763049.0\n..                     ...                     ...\n480             32141307.0              32142666.0\n481             32240480.0              32241159.0\n482             32252707.0              32253386.0\n483             32259839.0              32260518.0\n484             32410635.0              32410974.0\n\n[485 rows x 2 columns]",
      "text/html": "<div>\n<style scoped>\n    .dataframe tbody tr th:only-of-type {\n        vertical-align: middle;\n    }\n\n    .dataframe tbody tr th {\n        vertical-align: top;\n    }\n\n    .dataframe thead th {\n        text-align: right;\n    }\n</style>\n<table border=\"1\" class=\"dataframe\">\n  <thead>\n    <tr style=\"text-align: right;\">\n      <th></th>\n      <th>saccade_on_timestamps</th>\n      <th>saccade_off_timestamps</th>\n    </tr>\n  </thead>\n  <tbody>\n    <tr>\n      <th>0</th>\n      <td>543242.0</td>\n      <td>543921.0</td>\n    </tr>\n    <tr>\n      <th>1</th>\n      <td>586047.0</td>\n      <td>586727.0</td>\n    </tr>\n    <tr>\n      <th>2</th>\n      <td>597599.0</td>\n      <td>598279.0</td>\n    </tr>\n    <tr>\n      <th>3</th>\n      <td>673697.0</td>\n      <td>674037.0</td>\n    </tr>\n    <tr>\n      <th>4</th>\n      <td>762709.0</td>\n      <td>763049.0</td>\n    </tr>\n    <tr>\n      <th>...</th>\n      <td>...</td>\n      <td>...</td>\n    </tr>\n    <tr>\n      <th>480</th>\n      <td>32141307.0</td>\n      <td>32142666.0</td>\n    </tr>\n    <tr>\n      <th>481</th>\n      <td>32240480.0</td>\n      <td>32241159.0</td>\n    </tr>\n    <tr>\n      <th>482</th>\n      <td>32252707.0</td>\n      <td>32253386.0</td>\n    </tr>\n    <tr>\n      <th>483</th>\n      <td>32259839.0</td>\n      <td>32260518.0</td>\n    </tr>\n    <tr>\n      <th>484</th>\n      <td>32410635.0</td>\n      <td>32410974.0</td>\n    </tr>\n  </tbody>\n</table>\n<p>485 rows × 2 columns</p>\n</div>"
     },
     "execution_count": 74,
     "metadata": {},
     "output_type": "execute_result"
    }
   ],
   "source": [
    "saccade_on_off = df.is_saccade.astype(int) - df.is_saccade.shift(periods=1,fill_value=False).astype(int)\n",
    "saccade_on_inds = np.where(saccade_on_off == 1)[0]\n",
    "saccade_on_timestamps = df['OE_timestamp'].iloc[saccade_on_inds]\n",
    "saccade_off_inds = np.where(saccade_on_off == -1)[0]\n",
    "saccade_off_timestamps = df['OE_timestamp'].iloc[saccade_off_inds]\n",
    "saccade_dict = {\n",
    "    'saccade_on_timestamps':    saccade_on_timestamps.values,\n",
    "    'saccade_off_timestamps':   saccade_off_timestamps.values\n",
    "}\n",
    "saccade_events = pd.DataFrame.from_dict(saccade_dict)\n",
    "saccade_events"
   ],
   "metadata": {
    "collapsed": false,
    "ExecuteTime": {
     "end_time": "2024-02-07T18:03:37.635107300Z",
     "start_time": "2024-02-07T18:03:37.574293800Z"
    }
   },
   "id": "b4f5ac42d72518a7",
   "execution_count": 74
  },
  {
   "cell_type": "code",
   "outputs": [
    {
     "data": {
      "text/plain": "Index(['saccade_start_ind', 'saccade_start_timestamp', 'saccade_end_ind',\n       'saccade_end_timestamp', 'length', 'initial_x', 'initial_y', 'end_x',\n       'end_y'],\n      dtype='object')"
     },
     "execution_count": 65,
     "metadata": {},
     "output_type": "execute_result"
    }
   ],
   "source": [
    "saccade_events_df.columns"
   ],
   "metadata": {
    "collapsed": false,
    "ExecuteTime": {
     "end_time": "2024-02-08T16:57:32.957730800Z",
     "start_time": "2024-02-08T16:57:32.879150600Z"
    }
   },
   "id": "2ecbc19485fe6999",
   "execution_count": 65
  },
  {
   "cell_type": "code",
   "outputs": [],
   "source": [
    "bokeh_plotter(data_list=[df.speed_r],label_list=['Speed'], peaks=saccade_off_inds)"
   ],
   "metadata": {
    "collapsed": false,
    "ExecuteTime": {
     "end_time": "2024-02-08T16:47:06.373164100Z",
     "start_time": "2024-02-08T16:47:06.105107300Z"
    }
   },
   "id": "92f5585966a6a6a",
   "execution_count": 56
  },
  {
   "cell_type": "code",
   "outputs": [],
   "source": [
    "\n",
    "\n",
    "# Create a Bokeh figure\n",
    "p = bokeh.figure(title='Eye Movement Speed with Saccade Events', x_axis_label='OE_Timestamp', y_axis_label='Speed (R)',\n",
    "           width=1800, height=700)\n",
    "\n",
    "# Plot speed graph\n",
    "p.line(x='OE_timestamp', y='speed_r', source=df, line_width=2, line_color='blue', legend_label='Speed (R)')\n",
    "\n",
    "# Plot saccade start points\n",
    "p.circle(x=saccade_events['saccade_start_timestamp'], y=[0]*len(saccade_events),\n",
    "         size=8, color='red', legend_label='Saccade Start')\n",
    "\n",
    "# Plot saccade end points\n",
    "p.circle(x=saccade_events['saccade_end_timestamp'], y=[0]*len(saccade_events),\n",
    "         size=8, color='green', legend_label='Saccade End')\n",
    "\n",
    "# Show the plot\n",
    "bokeh.show(p)\n",
    "\n"
   ],
   "metadata": {
    "collapsed": false,
    "ExecuteTime": {
     "end_time": "2024-02-07T17:45:06.916778800Z",
     "start_time": "2024-02-07T17:45:05.808479400Z"
    }
   },
   "id": "f690583613b6212b",
   "execution_count": 54
  },
  {
   "cell_type": "code",
   "outputs": [
    {
     "data": {
      "text/plain": "971"
     },
     "execution_count": 48,
     "metadata": {},
     "output_type": "execute_result"
    }
   ],
   "source": [
    "len(saccade_events)"
   ],
   "metadata": {
    "collapsed": false,
    "ExecuteTime": {
     "end_time": "2024-02-07T17:40:51.223604200Z",
     "start_time": "2024-02-07T17:40:51.160615700Z"
    }
   },
   "id": "21c08ea02fbeb7",
   "execution_count": 48
  },
  {
   "cell_type": "code",
   "outputs": [
    {
     "data": {
      "text/plain": "        Arena_TTL  index  Unnamed: 0.1  R_eye_frame  L_values  R_values  \\\n0        605092.0      0             0          1.0       NaN  0.885172   \n1        605431.0      1             1          2.0       NaN  0.887300   \n2        605771.0      2             2          3.0       NaN  0.890668   \n3        606111.0      3             3          4.0       NaN  0.892202   \n4        606451.0      4             4          5.0 -2.813021  0.893261   \n...           ...    ...           ...          ...       ...       ...   \n91948  31841220.0  91948         91948      93880.0 -1.851355  1.670915   \n91949  31841560.0  91949         91949      93881.0 -1.855220  1.670836   \n91950  31841900.0  91950         91950      93882.0 -1.851100  1.670840   \n91951  31842239.0  91951         91951      93883.0 -1.852275  1.670417   \n91952  31842579.0  91952         91952      93884.0 -1.849970  1.670401   \n\n         center_x    center_y      width     height       phi  ellipse_size  \\\n0      329.658646  250.250975  47.719488  33.468928  0.261552   5017.500800   \n1      329.553549  250.337861  47.743960  33.410857  0.261714   5011.363778   \n2      329.549745  250.345209  47.746411  33.421520  0.261817   5013.220329   \n3      329.517116  250.357417  47.683452  33.422243  0.260236   5006.718323   \n4      329.354194  250.382232  47.632214  33.373532  0.270074   4994.049142   \n...           ...         ...        ...        ...       ...           ...   \n91948  406.511275  259.860345  27.489900  44.459345 -0.757032   3839.601034   \n91949  406.518275  259.861253  27.536835  44.459374 -0.758336   3846.159073   \n91950  406.541420  259.892993  27.577937  44.409008 -0.758430   3847.536187   \n91951  406.581305  259.871842  27.539825  44.425089 -0.757278   3843.610443   \n91952  406.584399  259.878537  27.552929  44.412362 -0.756950   3844.337523   \n\n          ms_axis  center_x_corrected  center_y_corrected  \n0        30254.60          329.658646          250.250975  \n1        30271.55          329.553549          250.337861  \n2        30288.55          329.549745          250.345209  \n3        30305.55          329.517116          250.357417  \n4        30322.55          329.354194          250.382232  \n...           ...                 ...                 ...  \n91948  1592061.00          410.511275          259.860345  \n91949  1592078.00          410.518275          259.861253  \n91950  1592095.00          410.541420          259.892993  \n91951  1592111.95          410.581305          259.871842  \n91952  1592128.95          410.584399          259.878537  \n\n[91953 rows x 15 columns]",
      "text/html": "<div>\n<style scoped>\n    .dataframe tbody tr th:only-of-type {\n        vertical-align: middle;\n    }\n\n    .dataframe tbody tr th {\n        vertical-align: top;\n    }\n\n    .dataframe thead th {\n        text-align: right;\n    }\n</style>\n<table border=\"1\" class=\"dataframe\">\n  <thead>\n    <tr style=\"text-align: right;\">\n      <th></th>\n      <th>Arena_TTL</th>\n      <th>index</th>\n      <th>Unnamed: 0.1</th>\n      <th>R_eye_frame</th>\n      <th>L_values</th>\n      <th>R_values</th>\n      <th>center_x</th>\n      <th>center_y</th>\n      <th>width</th>\n      <th>height</th>\n      <th>phi</th>\n      <th>ellipse_size</th>\n      <th>ms_axis</th>\n      <th>center_x_corrected</th>\n      <th>center_y_corrected</th>\n    </tr>\n  </thead>\n  <tbody>\n    <tr>\n      <th>0</th>\n      <td>605092.0</td>\n      <td>0</td>\n      <td>0</td>\n      <td>1.0</td>\n      <td>NaN</td>\n      <td>0.885172</td>\n      <td>329.658646</td>\n      <td>250.250975</td>\n      <td>47.719488</td>\n      <td>33.468928</td>\n      <td>0.261552</td>\n      <td>5017.500800</td>\n      <td>30254.60</td>\n      <td>329.658646</td>\n      <td>250.250975</td>\n    </tr>\n    <tr>\n      <th>1</th>\n      <td>605431.0</td>\n      <td>1</td>\n      <td>1</td>\n      <td>2.0</td>\n      <td>NaN</td>\n      <td>0.887300</td>\n      <td>329.553549</td>\n      <td>250.337861</td>\n      <td>47.743960</td>\n      <td>33.410857</td>\n      <td>0.261714</td>\n      <td>5011.363778</td>\n      <td>30271.55</td>\n      <td>329.553549</td>\n      <td>250.337861</td>\n    </tr>\n    <tr>\n      <th>2</th>\n      <td>605771.0</td>\n      <td>2</td>\n      <td>2</td>\n      <td>3.0</td>\n      <td>NaN</td>\n      <td>0.890668</td>\n      <td>329.549745</td>\n      <td>250.345209</td>\n      <td>47.746411</td>\n      <td>33.421520</td>\n      <td>0.261817</td>\n      <td>5013.220329</td>\n      <td>30288.55</td>\n      <td>329.549745</td>\n      <td>250.345209</td>\n    </tr>\n    <tr>\n      <th>3</th>\n      <td>606111.0</td>\n      <td>3</td>\n      <td>3</td>\n      <td>4.0</td>\n      <td>NaN</td>\n      <td>0.892202</td>\n      <td>329.517116</td>\n      <td>250.357417</td>\n      <td>47.683452</td>\n      <td>33.422243</td>\n      <td>0.260236</td>\n      <td>5006.718323</td>\n      <td>30305.55</td>\n      <td>329.517116</td>\n      <td>250.357417</td>\n    </tr>\n    <tr>\n      <th>4</th>\n      <td>606451.0</td>\n      <td>4</td>\n      <td>4</td>\n      <td>5.0</td>\n      <td>-2.813021</td>\n      <td>0.893261</td>\n      <td>329.354194</td>\n      <td>250.382232</td>\n      <td>47.632214</td>\n      <td>33.373532</td>\n      <td>0.270074</td>\n      <td>4994.049142</td>\n      <td>30322.55</td>\n      <td>329.354194</td>\n      <td>250.382232</td>\n    </tr>\n    <tr>\n      <th>...</th>\n      <td>...</td>\n      <td>...</td>\n      <td>...</td>\n      <td>...</td>\n      <td>...</td>\n      <td>...</td>\n      <td>...</td>\n      <td>...</td>\n      <td>...</td>\n      <td>...</td>\n      <td>...</td>\n      <td>...</td>\n      <td>...</td>\n      <td>...</td>\n      <td>...</td>\n    </tr>\n    <tr>\n      <th>91948</th>\n      <td>31841220.0</td>\n      <td>91948</td>\n      <td>91948</td>\n      <td>93880.0</td>\n      <td>-1.851355</td>\n      <td>1.670915</td>\n      <td>406.511275</td>\n      <td>259.860345</td>\n      <td>27.489900</td>\n      <td>44.459345</td>\n      <td>-0.757032</td>\n      <td>3839.601034</td>\n      <td>1592061.00</td>\n      <td>410.511275</td>\n      <td>259.860345</td>\n    </tr>\n    <tr>\n      <th>91949</th>\n      <td>31841560.0</td>\n      <td>91949</td>\n      <td>91949</td>\n      <td>93881.0</td>\n      <td>-1.855220</td>\n      <td>1.670836</td>\n      <td>406.518275</td>\n      <td>259.861253</td>\n      <td>27.536835</td>\n      <td>44.459374</td>\n      <td>-0.758336</td>\n      <td>3846.159073</td>\n      <td>1592078.00</td>\n      <td>410.518275</td>\n      <td>259.861253</td>\n    </tr>\n    <tr>\n      <th>91950</th>\n      <td>31841900.0</td>\n      <td>91950</td>\n      <td>91950</td>\n      <td>93882.0</td>\n      <td>-1.851100</td>\n      <td>1.670840</td>\n      <td>406.541420</td>\n      <td>259.892993</td>\n      <td>27.577937</td>\n      <td>44.409008</td>\n      <td>-0.758430</td>\n      <td>3847.536187</td>\n      <td>1592095.00</td>\n      <td>410.541420</td>\n      <td>259.892993</td>\n    </tr>\n    <tr>\n      <th>91951</th>\n      <td>31842239.0</td>\n      <td>91951</td>\n      <td>91951</td>\n      <td>93883.0</td>\n      <td>-1.852275</td>\n      <td>1.670417</td>\n      <td>406.581305</td>\n      <td>259.871842</td>\n      <td>27.539825</td>\n      <td>44.425089</td>\n      <td>-0.757278</td>\n      <td>3843.610443</td>\n      <td>1592111.95</td>\n      <td>410.581305</td>\n      <td>259.871842</td>\n    </tr>\n    <tr>\n      <th>91952</th>\n      <td>31842579.0</td>\n      <td>91952</td>\n      <td>91952</td>\n      <td>93884.0</td>\n      <td>-1.849970</td>\n      <td>1.670401</td>\n      <td>406.584399</td>\n      <td>259.878537</td>\n      <td>27.552929</td>\n      <td>44.412362</td>\n      <td>-0.756950</td>\n      <td>3844.337523</td>\n      <td>1592128.95</td>\n      <td>410.584399</td>\n      <td>259.878537</td>\n    </tr>\n  </tbody>\n</table>\n<p>91953 rows × 15 columns</p>\n</div>"
     },
     "execution_count": 8,
     "metadata": {},
     "output_type": "execute_result"
    }
   ],
   "source": [
    "import pandas as pd\n",
    "\n",
    "def detect_saccades(df, speed_threshold):\n",
    "    # Create a column for saccade detection\n",
    "    df['is_saccade'] = df['speed_r'] > speed_threshold\n",
    "\n",
    "    # Identify consecutive chunks where 'is_saccade' is True\n",
    "    df['saccade_chunk'] = (df['is_saccade'] != df['is_saccade'].shift()).cumsum()\n",
    "\n",
    "    # Group by 'saccade_chunk' and calculate start and end timestamps\n",
    "    saccade_events = (df.groupby('saccade_chunk')\n",
    "                      .agg(saccade_start_timestamp=('OE_timestamp', 'first'),\n",
    "                           saccade_end_timestamp=('OE_timestamp', 'last'))\n",
    "                      .reset_index(drop=True))\n",
    "\n",
    "    # Drop columns used for intermediate steps\n",
    "    df = df.drop(['is_saccade', 'saccade_chunk'], axis=1)\n",
    "\n",
    "    return saccade_events\n",
    "\n",
    "\n"
   ],
   "metadata": {
    "collapsed": false,
    "ExecuteTime": {
     "end_time": "2024-02-04T15:48:06.937257500Z",
     "start_time": "2024-02-04T15:48:06.912232300Z"
    }
   },
   "id": "a2d8a701c2d1912a",
   "execution_count": 8
  },
  {
   "cell_type": "markdown",
   "source": [],
   "metadata": {
    "collapsed": false
   },
   "id": "89fbebac3ba6fd7e"
  },
  {
   "cell_type": "code",
   "outputs": [
    {
     "data": {
      "text/plain": "       OE_timestamp  eye_frame     ms_axis    center_x    center_y        phi  \\\n0          489228.0        8.0    24461.40  426.667884  197.885896  76.448107   \n1          489568.0        9.0    24478.40  426.679774  197.910592  76.518209   \n2          489907.0       11.0    24495.35  426.638287  197.901864  76.629702   \n3          490247.0       11.0    24512.35  426.638287  197.901864  76.629702   \n4          490587.0       12.0    24529.35  426.548423  197.896510  77.068176   \n...             ...        ...         ...         ...         ...        ...   \n94071    32445276.0        NaN  1622263.80         NaN         NaN        NaN   \n94072    32445615.0        NaN  1622280.75         NaN         NaN        NaN   \n94073    32445955.0        NaN  1622297.75         NaN         NaN        NaN   \n94074    32446294.0        NaN  1622314.70         NaN         NaN        NaN   \n94075    32446634.0        NaN  1622331.70         NaN         NaN        NaN   \n\n           width     height   speed_x   speed_y   speed_r  \n0      45.652720  33.360344       NaN       NaN       NaN  \n1      45.650638  33.354662  0.011890  0.024696  0.027409  \n2      45.639808  33.348853 -0.041487 -0.008728  0.042395  \n3      45.639808  33.348853  0.000000  0.000000  0.000000  \n4      45.489204  33.231075 -0.089864 -0.005354  0.090024  \n...          ...        ...       ...       ...       ...  \n94071        NaN        NaN       NaN       NaN       NaN  \n94072        NaN        NaN       NaN       NaN       NaN  \n94073        NaN        NaN       NaN       NaN       NaN  \n94074        NaN        NaN       NaN       NaN       NaN  \n94075        NaN        NaN       NaN       NaN       NaN  \n\n[94076 rows x 11 columns]",
      "text/html": "<div>\n<style scoped>\n    .dataframe tbody tr th:only-of-type {\n        vertical-align: middle;\n    }\n\n    .dataframe tbody tr th {\n        vertical-align: top;\n    }\n\n    .dataframe thead th {\n        text-align: right;\n    }\n</style>\n<table border=\"1\" class=\"dataframe\">\n  <thead>\n    <tr style=\"text-align: right;\">\n      <th></th>\n      <th>OE_timestamp</th>\n      <th>eye_frame</th>\n      <th>ms_axis</th>\n      <th>center_x</th>\n      <th>center_y</th>\n      <th>phi</th>\n      <th>width</th>\n      <th>height</th>\n      <th>speed_x</th>\n      <th>speed_y</th>\n      <th>speed_r</th>\n    </tr>\n  </thead>\n  <tbody>\n    <tr>\n      <th>0</th>\n      <td>489228.0</td>\n      <td>8.0</td>\n      <td>24461.40</td>\n      <td>426.667884</td>\n      <td>197.885896</td>\n      <td>76.448107</td>\n      <td>45.652720</td>\n      <td>33.360344</td>\n      <td>NaN</td>\n      <td>NaN</td>\n      <td>NaN</td>\n    </tr>\n    <tr>\n      <th>1</th>\n      <td>489568.0</td>\n      <td>9.0</td>\n      <td>24478.40</td>\n      <td>426.679774</td>\n      <td>197.910592</td>\n      <td>76.518209</td>\n      <td>45.650638</td>\n      <td>33.354662</td>\n      <td>0.011890</td>\n      <td>0.024696</td>\n      <td>0.027409</td>\n    </tr>\n    <tr>\n      <th>2</th>\n      <td>489907.0</td>\n      <td>11.0</td>\n      <td>24495.35</td>\n      <td>426.638287</td>\n      <td>197.901864</td>\n      <td>76.629702</td>\n      <td>45.639808</td>\n      <td>33.348853</td>\n      <td>-0.041487</td>\n      <td>-0.008728</td>\n      <td>0.042395</td>\n    </tr>\n    <tr>\n      <th>3</th>\n      <td>490247.0</td>\n      <td>11.0</td>\n      <td>24512.35</td>\n      <td>426.638287</td>\n      <td>197.901864</td>\n      <td>76.629702</td>\n      <td>45.639808</td>\n      <td>33.348853</td>\n      <td>0.000000</td>\n      <td>0.000000</td>\n      <td>0.000000</td>\n    </tr>\n    <tr>\n      <th>4</th>\n      <td>490587.0</td>\n      <td>12.0</td>\n      <td>24529.35</td>\n      <td>426.548423</td>\n      <td>197.896510</td>\n      <td>77.068176</td>\n      <td>45.489204</td>\n      <td>33.231075</td>\n      <td>-0.089864</td>\n      <td>-0.005354</td>\n      <td>0.090024</td>\n    </tr>\n    <tr>\n      <th>...</th>\n      <td>...</td>\n      <td>...</td>\n      <td>...</td>\n      <td>...</td>\n      <td>...</td>\n      <td>...</td>\n      <td>...</td>\n      <td>...</td>\n      <td>...</td>\n      <td>...</td>\n      <td>...</td>\n    </tr>\n    <tr>\n      <th>94071</th>\n      <td>32445276.0</td>\n      <td>NaN</td>\n      <td>1622263.80</td>\n      <td>NaN</td>\n      <td>NaN</td>\n      <td>NaN</td>\n      <td>NaN</td>\n      <td>NaN</td>\n      <td>NaN</td>\n      <td>NaN</td>\n      <td>NaN</td>\n    </tr>\n    <tr>\n      <th>94072</th>\n      <td>32445615.0</td>\n      <td>NaN</td>\n      <td>1622280.75</td>\n      <td>NaN</td>\n      <td>NaN</td>\n      <td>NaN</td>\n      <td>NaN</td>\n      <td>NaN</td>\n      <td>NaN</td>\n      <td>NaN</td>\n      <td>NaN</td>\n    </tr>\n    <tr>\n      <th>94073</th>\n      <td>32445955.0</td>\n      <td>NaN</td>\n      <td>1622297.75</td>\n      <td>NaN</td>\n      <td>NaN</td>\n      <td>NaN</td>\n      <td>NaN</td>\n      <td>NaN</td>\n      <td>NaN</td>\n      <td>NaN</td>\n      <td>NaN</td>\n    </tr>\n    <tr>\n      <th>94074</th>\n      <td>32446294.0</td>\n      <td>NaN</td>\n      <td>1622314.70</td>\n      <td>NaN</td>\n      <td>NaN</td>\n      <td>NaN</td>\n      <td>NaN</td>\n      <td>NaN</td>\n      <td>NaN</td>\n      <td>NaN</td>\n      <td>NaN</td>\n    </tr>\n    <tr>\n      <th>94075</th>\n      <td>32446634.0</td>\n      <td>NaN</td>\n      <td>1622331.70</td>\n      <td>NaN</td>\n      <td>NaN</td>\n      <td>NaN</td>\n      <td>NaN</td>\n      <td>NaN</td>\n      <td>NaN</td>\n      <td>NaN</td>\n      <td>NaN</td>\n    </tr>\n  </tbody>\n</table>\n<p>94076 rows × 11 columns</p>\n</div>"
     },
     "execution_count": 42,
     "metadata": {},
     "output_type": "execute_result"
    }
   ],
   "source": [
    "df"
   ],
   "metadata": {
    "collapsed": false,
    "ExecuteTime": {
     "end_time": "2024-02-07T17:25:26.181316400Z",
     "start_time": "2024-02-07T17:25:26.111000700Z"
    }
   },
   "id": "d7e309528223cbc3",
   "execution_count": 42
  },
  {
   "cell_type": "code",
   "outputs": [],
   "source": [
    "# for each eye, get the median displacement vector -> create a synced version of the correction\n",
    "# according to previous sync -> perform column based addition / subtraction to correct the jitter\n",
    "# -> measure std decline to validate correction\n",
    "# right eye:\n",
    "rx_median_series = pd.Series(signal.medfilt(block.re_jitter_dict['x_displacement'], kernel_size=13),\n",
    "                             name='x_correction')\n",
    "ry_median_series = pd.Series(signal.medfilt(block.re_jitter_dict['y_displacement'], kernel_size=13),\n",
    "                             name='y_correction')\n",
    "r_correction_df = pd.concat([ry_median_series, rx_median_series], axis=1)\n",
    "# r_corrected = block.re_df[['Arena_TTL', 'R_eye_frame', 'center_y', 'center_x']].set_index('R_eye_frame').merge(\n",
    "#     r_correction_df,\n",
    "#     how='left',\n",
    "#     left_index=True,\n",
    "#     right_index=True)\n",
    "#r_corrected['center_y_corrected'] = r_corrected['center_y'] + r_corrected['y_correction']\n",
    "#r_corrected['center_x_corrected'] = r_corrected['center_x'] + r_corrected['x_correction']\n",
    "\n",
    "\n"
   ],
   "metadata": {
    "collapsed": false,
    "ExecuteTime": {
     "end_time": "2024-02-04T13:49:08.565686Z",
     "start_time": "2024-02-04T13:49:08.548609700Z"
    }
   },
   "id": "f6abfc51a50e41b3",
   "execution_count": 50
  },
  {
   "cell_type": "code",
   "outputs": [
    {
     "data": {
      "text/plain": "[<matplotlib.lines.Line2D at 0x21a098f5a00>]"
     },
     "execution_count": 57,
     "metadata": {},
     "output_type": "execute_result"
    },
    {
     "data": {
      "text/plain": "<Figure size 432x288 with 1 Axes>",
      "image/png": "[encoded data removed]"
     },
     "metadata": {},
     "output_type": "display_data"
    }
   ],
   "source": [
    "ax = r_correction_df.plot(kind='line')\n",
    "ax.plot(block.re_jitter_dict['top_correlation_x'], label='x_coord')\n",
    "ax.plot(block.re_jitter_dict['top_correlation_x']+r_correction_df['x_correction'], label='x_corected')\n"
   ],
   "metadata": {
    "collapsed": false,
    "ExecuteTime": {
     "end_time": "2024-02-04T13:51:49.339935900Z",
     "start_time": "2024-02-04T13:51:48.609951400Z"
    }
   },
   "id": "1f49cf8954e3ef55",
   "execution_count": 57
  },
  {
   "cell_type": "code",
   "outputs": [],
   "source": [
    "# L eye plot\n",
    "x_before = block.re_df['center_x']\n",
    "x_after = block.re_df['center_x_corrected']\n",
    "y_before = block.re_df['center_y']\n",
    "y_after = block.re_df['center_y_corrected']\n",
    "\n",
    "bokeh_plotter([x_before, x_after, y_before, y_after], [\"x_before\", \"x_after\", \"y_before\", \"y_after\"])"
   ],
   "metadata": {
    "collapsed": false,
    "ExecuteTime": {
     "end_time": "2024-02-04T14:17:33.599927500Z",
     "start_time": "2024-02-04T14:17:32.882932900Z"
    }
   },
   "id": "4a525bdbb9cf9fb7",
   "execution_count": 10
  },
  {
   "cell_type": "code",
   "outputs": [
    {
     "data": {
      "text/plain": "numpy.ndarray"
     },
     "execution_count": 14,
     "metadata": {},
     "output_type": "execute_result"
    }
   ],
   "source": [
    "type(block.led_blink_frames_l)\n"
   ],
   "metadata": {
    "collapsed": false,
    "ExecuteTime": {
     "end_time": "2024-02-04T15:00:56.323445400Z",
     "start_time": "2024-02-04T15:00:56.294447500Z"
    }
   },
   "id": "99aad04691101262",
   "execution_count": 14
  },
  {
   "cell_type": "code",
   "outputs": [
    {
     "name": "stdout",
     "output_type": "stream",
     "text": [
      "120\n"
     ]
    }
   ],
   "source": [
    "# get the R vector for a median absolute deviation calc\n",
    "\n",
    "jitter_dict = block.re_jitter_dict\n",
    "# Compute euclidean jitter magnitude\n",
    "x = np.array(jitter_dict['x_displacement'])\n",
    "y = np.array(jitter_dict['y_displacement'])\n",
    "r = np.sqrt(x**2 + y**2)\n",
    "corr_score = jitter_dict['top_correlation_values']\n",
    "mean_value = np.mean(r)\n",
    "mad = np.mean(np.abs(r - mean_value))\n",
    "extreme_inds = np.where(r > 5 * mad)[0]\n",
    "filt_r = scipy.signal.medfilt(r, kernel_size=121)\n",
    "threshold = 3\n",
    "peaks = np.where(np.abs(np.diff(filt_r)) > threshold)[0]\n",
    "bokeh_plotter([ r, filt_r, np.abs(np.diff(filt_r))], ['R', 'filtered_R', 'derivative'],\n",
    "              plot_name='mean absolute deviation', x_axis='frame', y_axis='euclidean displacement', peaks=peaks)\n",
    "print(len(extreme_inds))"
   ],
   "metadata": {
    "collapsed": false,
    "ExecuteTime": {
     "end_time": "2024-01-18T14:58:29.127180700Z",
     "start_time": "2024-01-18T14:58:28.212135900Z"
    }
   },
   "id": "df9f6d9c9a848f41",
   "execution_count": 66
  },
  {
   "cell_type": "code",
   "outputs": [
    {
     "data": {
      "text/plain": "array([ 3606,  3607,  3608,  3609,  3610,  3734,  4578,  4887, 10638,\n       17224, 17228, 20912, 78914, 79687, 88782, 88783, 93412],\n      dtype=int64)"
     },
     "execution_count": 55,
     "metadata": {},
     "output_type": "execute_result"
    }
   ],
   "source": [
    "threshold = 3\n",
    "peaks = np.where(np.abs(np.diff(filt_r)) > threshold)[0]\n",
    "peaks"
   ],
   "metadata": {
    "collapsed": false,
    "ExecuteTime": {
     "end_time": "2024-01-18T13:50:00.421406700Z",
     "start_time": "2024-01-18T13:50:00.402380600Z"
    }
   },
   "id": "771e1d52ab1fce32",
   "execution_count": 55
  },
  {
   "cell_type": "code",
   "outputs": [
    {
     "name": "stdout",
     "output_type": "stream",
     "text": [
      "Please select two points on the frame.\n",
      "Transformation Matrix:\n",
      "[[-8.56851544e-01  5.15563217e-01  4.70457322e+02]\n",
      " [-5.15563217e-01 -8.56851544e-01  6.10624600e+02]]\n"
     ]
    }
   ],
   "source": [
    "# This is the first iteration of the manual frame rotation annotator:\n",
    "\n",
    "# OLD VERSION OF THE FUNCTION\n",
    "def rotate_frame_to_horizontal_old(path_to_video_file, frame_number, ellipse_df, xflip=True):\n",
    "    # Read the video file\n",
    "    cap = cv2.VideoCapture(path_to_video_file)\n",
    "\n",
    "    # Check if the video file is opened successfully\n",
    "    if not cap.isOpened():\n",
    "        print(\"Error: Unable to open video file.\")\n",
    "        return None\n",
    "\n",
    "    # Set the frame position\n",
    "    cap.set(cv2.CAP_PROP_POS_FRAMES, frame_number)\n",
    "\n",
    "    # Read the frame\n",
    "    ret, frame = cap.read()\n",
    "\n",
    "    # Check if the frame is read successfully\n",
    "    if not ret:\n",
    "        print(f\"Error: Unable to read frame {frame_number}.\")\n",
    "        cap.release()\n",
    "        return None\n",
    "    \n",
    "    # horizontally flip frame if applicable:\n",
    "    if xflip:\n",
    "        frame = cv2.flip(frame, 1)\n",
    "    # get the original ellipse from the block dataframe\n",
    "    if 'R_eye_frame' in ellipse_df.columns:\n",
    "        current_frame_data = ellipse_df.iloc[ellipse_df.query('R_eye_frame == @frame_number').index[0]]\n",
    "    elif 'L_eye_frame' in ellipse_df.columns:\n",
    "        current_frame_data = ellipse_df.iloc[ellipse_df.query('L_eye_frame == @frame_number').index[0]]\n",
    "        \n",
    "    # Extract ellipse parameters\n",
    "    try:\n",
    "        center_x = int(current_frame_data['center_x'])\n",
    "        center_y = int(current_frame_data['center_y'])\n",
    "        width = int(current_frame_data['width'])\n",
    "        height = int(current_frame_data['height'])\n",
    "        phi = float(current_frame_data['phi'])\n",
    "\n",
    "        # Draw the ellipse on the frame\n",
    "        cv2.ellipse(frame, (center_x, center_y), (width, height), phi, 0, 360, (0, 255, 0), 2)\n",
    "    except ValueError:\n",
    "        print('could not paint ellipse, missing values')\n",
    "    \n",
    "    \n",
    "    # Display the frame\n",
    "    cv2.imshow(\"Original Frame\", frame)\n",
    "\n",
    "    # Prompt user to select two points\n",
    "    print(\"Please select two points on the frame.\")\n",
    "    \n",
    "    # Callback function for mouse events\n",
    "    def mouse_callback(event, x, y, flags, param):\n",
    "        if event == cv2.EVENT_LBUTTONDOWN:\n",
    "            points.append((x, y))\n",
    "\n",
    "    # Set up the mouse callback\n",
    "    cv2.setMouseCallback(\"Original Frame\", mouse_callback)\n",
    "\n",
    "    # Wait for the user to select two points\n",
    "    points = []\n",
    "    while len(points) < 2:\n",
    "        cv2.waitKey(1)\n",
    "\n",
    "    # Draw a line between the selected points\n",
    "    cv2.line(frame, points[0], points[1], (0, 255, 0), 2)\n",
    "    cv2.imshow(\"Line Drawn Frame\", frame)\n",
    "    cv2.waitKey(0)\n",
    "    cv2.destroyAllWindows()\n",
    "\n",
    "    # Calculate the rotation angle\n",
    "    angle = np.arctan2(points[1][1] - points[0][1], points[1][0] - points[0][0]) * 180 / np.pi\n",
    "        \n",
    "    # Create rotation matrix\n",
    "    rotation_matrix = cv2.getRotationMatrix2D((frame.shape[1] // 2, frame.shape[0] // 2), angle, 1)\n",
    "    \n",
    "    #rotation_matrix[:, 2] = 0  # Set translation components to zero\n",
    "    \n",
    "    # Rotate the frame\n",
    "    rotated_frame = cv2.warpAffine(frame, rotation_matrix, (frame.shape[1], frame.shape[0]))\n",
    "\n",
    "    # Display the rotated frame\n",
    "    cv2.imshow(\"Rotated Frame\", rotated_frame)\n",
    "    cv2.waitKey(0)\n",
    "    cv2.destroyAllWindows()\n",
    "\n",
    "    # Release the video capture object\n",
    "    cap.release()\n",
    "\n",
    "    return rotation_matrix\n",
    "\n",
    "\n"
   ],
   "metadata": {
    "collapsed": false,
    "ExecuteTime": {
     "end_time": "2024-01-24T12:21:18.128941300Z",
     "start_time": "2024-01-24T12:20:45.601310700Z"
    }
   },
   "id": "da11777855fe439b",
   "execution_count": 137
  }
 ],
 "metadata": {
  "kernelspec": {
   "display_name": "Python 3",
   "language": "python",
   "name": "python3"
  },
  "language_info": {
   "codemirror_mode": {
    "name": "ipython",
    "version": 2
   },
   "file_extension": ".py",
   "mimetype": "text/x-python",
   "name": "python",
   "nbconvert_exporter": "python",
   "pygments_lexer": "ipython2",
   "version": "2.7.6"
  }
 },
 "nbformat": 4,
 "nbformat_minor": 5
}
